{
 "cells": [
  {
   "cell_type": "markdown",
   "metadata": {},
   "source": [
    "# IX. Pronouns and Related Words"
   ]
  },
  {
   "cell_type": "code",
   "execution_count": 1,
   "metadata": {},
   "outputs": [
    {
     "name": "stderr",
     "output_type": "stream",
     "text": [
      "Some weights of the model checkpoint at KoichiYasuoka/roberta-classical-chinese-large-char were not used when initializing RobertaModel: ['lm_head.layer_norm.bias', 'lm_head.decoder.bias', 'lm_head.bias', 'lm_head.dense.weight', 'lm_head.dense.bias', 'lm_head.layer_norm.weight', 'lm_head.decoder.weight']\n",
      "- This IS expected if you are initializing RobertaModel from the checkpoint of a model trained on another task or with another architecture (e.g. initializing a BertForSequenceClassification model from a BertForPreTraining model).\n",
      "- This IS NOT expected if you are initializing RobertaModel from the checkpoint of a model that you expect to be exactly identical (initializing a BertForSequenceClassification model from a BertForSequenceClassification model).\n"
     ]
    }
   ],
   "source": [
    "from deplacy import render\n",
    "from suparkanbun import load\n",
    "from transformers import logging\n",
    "\n",
    "logging.logging.disable(logging.INFO)\n",
    "\n",
    "nlp = load(BERT=\"roberta-classical-chinese-large-char\", Danku=False)"
   ]
  },
  {
   "cell_type": "markdown",
   "metadata": {},
   "source": [
    "## 1. Personal Pronouns"
   ]
  },
  {
   "cell_type": "markdown",
   "metadata": {},
   "source": [
    "### a. First Person"
   ]
  },
  {
   "cell_type": "code",
   "execution_count": 2,
   "metadata": {},
   "outputs": [
    {
     "name": "stderr",
     "output_type": "stream",
     "text": [
      "                                                   "
     ]
    },
    {
     "name": "stdout",
     "output_type": "stream",
     "text": [
      "予 PRON <════╗   nsubj\n",
      "助 VERB ═╗═╗═╝═╗ ROOT\n",
      "苗 NOUN <╝ ║   ║ obj\n",
      "長 VERB <══╝   ║ ccomp\n",
      "矣 PART <══════╝ discourse:sp\n"
     ]
    },
    {
     "name": "stderr",
     "output_type": "stream",
     "text": [
      "\r"
     ]
    }
   ],
   "source": [
    "ex261 = nlp(\"予助苗長矣\")\n",
    "render(ex261)"
   ]
  },
  {
   "cell_type": "code",
   "execution_count": 3,
   "metadata": {},
   "outputs": [
    {
     "name": "stderr",
     "output_type": "stream",
     "text": [
      "                                                   "
     ]
    },
    {
     "name": "stdout",
     "output_type": "stream",
     "text": [
      "晉 PROPN ═╗═╗<╗     nmod\n",
      "楚 PROPN <╝ ║ ║     conj\n",
      "之 SCONJ <══╝ ║     case\n",
      "富 NOUN  ═════╝<╗   nsubj\n",
      "不 ADV   <╗     ║   advmod\n",
      "可 AUX   ═╝<╗   ║   aux\n",
      "及 VERB  ═══╝═══╝═╗ ROOT\n",
      "也 PART  <════════╝ discourse:sp\n",
      "彼 PRON  <════╗     nsubj\n",
      "以 VERB  ═══╗═╝     ROOT\n",
      "其 PRON  <╗ ║       det\n",
      "富 NOUN  ═╝<╝       obj\n",
      "我 PRON  <════╗     nsubj\n",
      "以 VERB  ═══╗═╝     ROOT\n",
      "吾 PRON  <╗ ║       det\n",
      "仁 NOUN  ═╝<╝       obj\n",
      "彼 PRON  <════╗     nsubj\n",
      "以 VERB  ═══╗═╝     ROOT\n",
      "其 PRON  <╗ ║       det\n",
      "爵 NOUN  ═╝<╝       obj\n",
      "我 PRON  <════╗     nsubj\n",
      "以 VERB  ═══╗═╝     ROOT\n",
      "吾 PRON  <╗ ║       det\n",
      "義 NOUN  ═╝<╝       obj\n",
      "吾 PRON  <══╗       nsubj\n",
      "何 ADV   <╗ ║       advmod\n",
      "慊 VERB  ═╝═╝═╗═╗   ROOT\n",
      "乎 PART  <════╝ ║   discourse:sp\n",
      "哉 PART  <══════╝   discourse:sp\n"
     ]
    },
    {
     "name": "stderr",
     "output_type": "stream",
     "text": [
      "\r"
     ]
    }
   ],
   "source": [
    "ex262 = nlp(\"晉楚之富不可及也\\n彼以其富\\n我以吾仁\\n彼以其爵\\n我以吾義\\n吾何慊乎哉\")\n",
    "render(ex262)"
   ]
  },
  {
   "cell_type": "markdown",
   "metadata": {},
   "source": [
    "### b. Second Person"
   ]
  },
  {
   "cell_type": "code",
   "execution_count": 4,
   "metadata": {},
   "outputs": [
    {
     "name": "stderr",
     "output_type": "stream",
     "text": [
      "                                                   "
     ]
    },
    {
     "name": "stdout",
     "output_type": "stream",
     "text": [
      "余 PRON <══╗   nsubj\n",
      "而 PRON <╗ ║   det\n",
      "祖 NOUN ═╝═╝═╗ ROOT\n",
      "也 PART <════╝ discourse:sp\n"
     ]
    },
    {
     "name": "stderr",
     "output_type": "stream",
     "text": [
      "\r"
     ]
    }
   ],
   "source": [
    "ex263 = nlp(\"余而祖也\")\n",
    "render(ex263)"
   ]
  },
  {
   "cell_type": "code",
   "execution_count": 5,
   "metadata": {},
   "outputs": [
    {
     "name": "stderr",
     "output_type": "stream",
     "text": [
      "                                                   "
     ]
    },
    {
     "name": "stdout",
     "output_type": "stream",
     "text": [
      "而 CCONJ <══════╗   advmod\n",
      "乃 ADV   <════╗ ║   advmod\n",
      "今 NOUN  <══╗ ║ ║   obl:tmod\n",
      "知 VERB  ═╗═╝═╝═╝═╗ ROOT\n",
      "之 PRON  <╝       ║ obj\n",
      "乎 PART  <════════╝ discourse:sp\n"
     ]
    },
    {
     "name": "stderr",
     "output_type": "stream",
     "text": [
      "\r"
     ]
    }
   ],
   "source": [
    "ex264 = nlp(\"而乃今知之乎\")\n",
    "render(ex264)"
   ]
  },
  {
   "cell_type": "markdown",
   "metadata": {},
   "source": [
    "### c. Third Person"
   ]
  },
  {
   "cell_type": "markdown",
   "metadata": {},
   "source": [
    "#### i. Zhi 之"
   ]
  },
  {
   "cell_type": "code",
   "execution_count": 6,
   "metadata": {},
   "outputs": [
    {
     "name": "stderr",
     "output_type": "stream",
     "text": [
      "                                                   "
     ]
    },
    {
     "name": "stdout",
     "output_type": "stream",
     "text": [
      "之 PRON <══╗   det\n",
      "二 NUM  <╗ ║   nummod\n",
      "蟲 NOUN ═╝═╝<╗ nsubj\n",
      "又 ADV  <══╗ ║ advmod\n",
      "何 ADV  <╗ ║ ║ advmod\n",
      "知 VERB ═╝═╝═╝ ROOT\n"
     ]
    },
    {
     "name": "stderr",
     "output_type": "stream",
     "text": [
      "\r"
     ]
    }
   ],
   "source": [
    "ex265 = nlp(\"之二蟲又何知\")\n",
    "render(ex265)"
   ]
  },
  {
   "cell_type": "markdown",
   "metadata": {},
   "source": [
    "#### ii. There is no third personal subject pronoun as such"
   ]
  },
  {
   "cell_type": "code",
   "execution_count": 8,
   "metadata": {},
   "outputs": [
    {
     "name": "stderr",
     "output_type": "stream",
     "text": [
      "                                                   "
     ]
    },
    {
     "name": "stdout",
     "output_type": "stream",
     "text": [
      "是 PRON  <════╗   nsubj\n",
      "魯 PROPN <══╗ ║   nmod\n",
      "孔 PROPN ═╗═╝═╝═╗ ROOT\n",
      "丘 PROPN <╝     ║ flat\n",
      "與 PART  <══════╝ discourse:sp\n"
     ]
    },
    {
     "name": "stderr",
     "output_type": "stream",
     "text": [
      "\r"
     ]
    }
   ],
   "source": [
    "ex266 = nlp(\"是魯孔丘與\")\n",
    "render(ex266)"
   ]
  },
  {
   "cell_type": "code",
   "execution_count": 9,
   "metadata": {},
   "outputs": [
    {
     "name": "stderr",
     "output_type": "stream",
     "text": [
      "                                                   "
     ]
    },
    {
     "name": "stdout",
     "output_type": "stream",
     "text": [
      "彼 PRON <══╗     nsubj\n",
      "丈 NOUN <╗ ║     nmod\n",
      "夫 NOUN ═╝═╝═╗   ROOT\n",
      "也 PART <════╝   discourse:sp\n",
      "我 PRON <══╗     nsubj\n",
      "丈 NOUN <╗ ║     nmod\n",
      "夫 NOUN ═╝═╝═╗   ROOT\n",
      "也 PART <════╝   discourse:sp\n",
      "吾 PRON <════╗   nsubj\n",
      "何 ADV  <══╗ ║   advmod\n",
      "畏 VERB ═╗═╝═╝═╗ ROOT\n",
      "彼 PRON <╝     ║ obj\n",
      "哉 PART <══════╝ discourse:sp\n"
     ]
    },
    {
     "name": "stderr",
     "output_type": "stream",
     "text": [
      "\r"
     ]
    }
   ],
   "source": [
    "ex267 = nlp(\"彼丈夫也\\n我丈夫也\\n吾何畏彼哉\")\n",
    "render(ex267)"
   ]
  },
  {
   "cell_type": "markdown",
   "metadata": {},
   "source": [
    "#### iii. 其"
   ]
  },
  {
   "cell_type": "code",
   "execution_count": 10,
   "metadata": {},
   "outputs": [
    {
     "name": "stderr",
     "output_type": "stream",
     "text": [
      "                                                   "
     ]
    },
    {
     "name": "stdout",
     "output_type": "stream",
     "text": [
      "其 PRON <╗     det\n",
      "人 NOUN ═╝<══╗ nsubj\n",
      "弗 ADV  <╗   ║ advmod\n",
      "能 AUX  ═╝<╗ ║ aux\n",
      "應 VERB ═══╝═╝ ROOT\n"
     ]
    },
    {
     "name": "stderr",
     "output_type": "stream",
     "text": [
      "\r"
     ]
    }
   ],
   "source": [
    "ex268 = nlp(\"其人弗能應\")\n",
    "render(ex268)"
   ]
  },
  {
   "cell_type": "markdown",
   "metadata": {},
   "source": [
    "#### iv. 伊, 渠 and 他"
   ]
  },
  {
   "cell_type": "markdown",
   "metadata": {},
   "source": [
    "#### v. 焉"
   ]
  },
  {
   "cell_type": "code",
   "execution_count": 11,
   "metadata": {},
   "outputs": [
    {
     "name": "stderr",
     "output_type": "stream",
     "text": [
      "                                                   "
     ]
    },
    {
     "name": "stdout",
     "output_type": "stream",
     "text": [
      "萬 NUM  <════╗ nsubj\n",
      "取 VERB ═╗═╗═╝ ROOT\n",
      "千 NUM  <╝ ║   obj\n",
      "焉 PART <══╝   obl\n"
     ]
    },
    {
     "name": "stderr",
     "output_type": "stream",
     "text": [
      "\r"
     ]
    }
   ],
   "source": [
    "ex269 = nlp(\"萬取千焉\")\n",
    "render(ex269)"
   ]
  },
  {
   "cell_type": "code",
   "execution_count": 12,
   "metadata": {},
   "outputs": [
    {
     "name": "stderr",
     "output_type": "stream",
     "text": [
      "                                                   "
     ]
    },
    {
     "name": "stdout",
     "output_type": "stream",
     "text": [
      "斯 ADV   <════════╗ advmod\n",
      "天 NOUN  <╗       ║ compound\n",
      "下 NOUN  ═╝═╗<╗   ║ nmod\n",
      "之 SCONJ <══╝ ║   ║ case\n",
      "民 NOUN  ═════╝<╗ ║ nsubj\n",
      "至 VERB  ═╗═════╝═╝ ROOT\n",
      "焉 PART  <╝         obl\n"
     ]
    },
    {
     "name": "stderr",
     "output_type": "stream",
     "text": [
      "\r"
     ]
    }
   ],
   "source": [
    "ex270 = nlp(\"斯天下之民至焉\")\n",
    "render(ex270)"
   ]
  },
  {
   "cell_type": "code",
   "execution_count": 13,
   "metadata": {},
   "outputs": [
    {
     "name": "stderr",
     "output_type": "stream",
     "text": [
      "                                                   "
     ]
    },
    {
     "name": "stdout",
     "output_type": "stream",
     "text": [
      "殆 ADV  <══╗   advmod\n",
      "有 VERB ═╗═╝═╗ ROOT\n",
      "甚 VERB <╝   ║ obj\n",
      "焉 PART <════╝ discourse:sp\n"
     ]
    },
    {
     "name": "stderr",
     "output_type": "stream",
     "text": [
      "\r"
     ]
    }
   ],
   "source": [
    "ex271 = nlp(\"殆有甚焉\")\n",
    "render(ex271)"
   ]
  },
  {
   "cell_type": "code",
   "execution_count": 14,
   "metadata": {},
   "outputs": [
    {
     "name": "stderr",
     "output_type": "stream",
     "text": [
      "                                                   "
     ]
    },
    {
     "name": "stdout",
     "output_type": "stream",
     "text": [
      "必 ADV   <════════╗ advmod\n",
      "知 VERB  ═══════╗═╝ ROOT\n",
      "亂 VERB  ═╗<══╗ ║   nsubj\n",
      "之 SCONJ <╝   ║ ║   case\n",
      "所 PART  <══╗ ║ ║   mark\n",
      "自 PRON  <╗ ║ ║ ║   mark\n",
      "起 VERB  ═╝═╝═╝<╝   ccomp\n",
      "焉 PART  <════╗     advmod\n",
      "能 AUX   <══╗ ║     aux\n",
      "治 VERB  ═╗═╝═╝     ROOT\n",
      "之 PRON  <╝         obj\n"
     ]
    },
    {
     "name": "stderr",
     "output_type": "stream",
     "text": [
      "\r"
     ]
    }
   ],
   "source": [
    "ex272 = nlp(\"必知亂之所自起\\n焉能治之\")\n",
    "render(ex272)"
   ]
  },
  {
   "cell_type": "code",
   "execution_count": 15,
   "metadata": {},
   "outputs": [
    {
     "name": "stderr",
     "output_type": "stream",
     "text": [
      "                                                   "
     ]
    },
    {
     "name": "stdout",
     "output_type": "stream",
     "text": [
      "而 CCONJ <══════╗   advmod\n",
      "暴 VERB  <╗     ║   amod\n",
      "國 NOUN  ═╝<╗   ║   nsubj\n",
      "安 ADV   ═══╝<╗ ║   advmod\n",
      "自 PRON  <╗   ║ ║   obj\n",
      "化 VERB  ═╝═══╝═╝═╗ ROOT\n",
      "矣 PART  <════════╝ discourse:sp\n"
     ]
    },
    {
     "name": "stderr",
     "output_type": "stream",
     "text": [
      "\r"
     ]
    }
   ],
   "source": [
    "ex273 = nlp(\"而暴國安自化矣\")\n",
    "render(ex273)"
   ]
  },
  {
   "cell_type": "markdown",
   "metadata": {},
   "source": [
    "#### vi. 然"
   ]
  },
  {
   "cell_type": "markdown",
   "metadata": {},
   "source": [
    "#### vii. 云"
   ]
  },
  {
   "cell_type": "code",
   "execution_count": 16,
   "metadata": {},
   "outputs": [
    {
     "name": "stderr",
     "output_type": "stream",
     "text": [
      "                                                   "
     ]
    },
    {
     "name": "stdout",
     "output_type": "stream",
     "text": [
      "曰 VERB  ═════╗═╗ ROOT\n",
      "從 VERB  ═══╗<╝ ║ ccomp\n",
      "余 PRON  <╗ ║   ║ det\n",
      "言 NOUN  ═╝<╝   ║ obj\n",
      "必 ADV   <════╗ ║ advmod\n",
      "為 VERB  <══╗ ║ ║ cop\n",
      "孟 PROPN <╗ ║ ║ ║ nmod\n",
      "孫 NOUN  ═╝═╝═╝<╝ ccomp\n",
      "再 ADV   <══╗     advmod\n",
      "三 NUM   <╗ ║     advmod\n",
      "云 VERB  ═╝═╝     ROOT\n",
      "羯 PROPN <══╗     nsubj\n",
      "從 VERB  ═╗═╝     ROOT\n",
      "之 PRON  <╝       obj\n"
     ]
    },
    {
     "name": "stderr",
     "output_type": "stream",
     "text": [
      "\r"
     ]
    }
   ],
   "source": [
    "ex274 = nlp(\"曰從余言必為孟孫\\n再三云\\n羯從之\")\n",
    "render(ex274)"
   ]
  },
  {
   "cell_type": "code",
   "execution_count": 17,
   "metadata": {},
   "outputs": [
    {
     "name": "stderr",
     "output_type": "stream",
     "text": [
      "                                                   "
     ]
    },
    {
     "name": "stdout",
     "output_type": "stream",
     "text": [
      "晉   PROPN <════╗     nmod\n",
      "平   PROPN <╗   ║     compound\n",
      "公   NOUN  ═╝═╗═╝<╗   nsubj\n",
      "之   SCONJ <══╝   ║   case\n",
      "於   VERB  ═╗═════╝═╗ ROOT\n",
      "亥唐 PROPN <╝       ║ obj\n",
      "也   PART  <════════╝ discourse:sp\n",
      "入   VERB  <╗         obj\n",
      "云   VERB  ═╝<╗       advcl\n",
      "則   ADV   <╗ ║       advmod\n",
      "入   VERB  ═╝═╝       ROOT\n",
      "坐   VERB  <╗         obj\n",
      "云   VERB  ═╝<╗       advcl\n",
      "則   ADV   <╗ ║       advmod\n",
      "坐   VERB  ═╝═╝       ROOT\n",
      "食   NOUN  <╗         obj\n",
      "云   VERB  ═╝<╗       advcl\n",
      "則   ADV   <╗ ║       advmod\n",
      "食   VERB  ═╝═╝       ROOT\n"
     ]
    },
    {
     "name": "stderr",
     "output_type": "stream",
     "text": [
      "\r"
     ]
    }
   ],
   "source": [
    "ex275 = nlp(\"晉平公之於亥唐也\\n入云則入\\n坐云則坐\\n食云則食\")\n",
    "render(ex275)"
   ]
  },
  {
   "cell_type": "code",
   "execution_count": 18,
   "metadata": {},
   "outputs": [
    {
     "name": "stderr",
     "output_type": "stream",
     "text": [
      "                                                   "
     ]
    },
    {
     "name": "stdout",
     "output_type": "stream",
     "text": [
      "仲 PROPN <╗         compound\n",
      "父 NOUN  ═╝═╗<╗     nmod\n",
      "之 SCONJ <══╝ ║     case\n",
      "病 NOUN  ═════╝<╗   nsubj\n",
      "病 VERB  ═══════╝═╗ ROOT\n",
      "矣 PART  <════════╝ discourse:sp\n",
      "可 AUX   <══╗       aux\n",
      "不 ADV   <╗ ║       advmod\n",
      "諱 VERB  ═╝═╝═╗     ROOT\n",
      "云 VERB  <════╝     parataxis\n"
     ]
    },
    {
     "name": "stderr",
     "output_type": "stream",
     "text": [
      "\r"
     ]
    }
   ],
   "source": [
    "ex276 = nlp(\"仲父之病病矣\\n可不諱云\")\n",
    "render(ex276)"
   ]
  },
  {
   "cell_type": "code",
   "execution_count": 19,
   "metadata": {},
   "outputs": [
    {
     "name": "stderr",
     "output_type": "stream",
     "text": [
      "                                                   "
     ]
    },
    {
     "name": "stdout",
     "output_type": "stream",
     "text": [
      "子 NOUN <══════════════╗ nsubj\n",
      "曰 VERB ═════════════╗═╝ ROOT\n",
      "汝 PRON <════════╗   ║   nsubj\n",
      "安 ADV  <══════╗ ║   ║   advmod\n",
      "知 VERB ═════╗═╝═╝<╗ ║   acl\n",
      "魚 NOUN ═╗<╗ ║     ║ ║   nsubj\n",
      "樂 VERB <╝ ║ ║     ║ ║   conj\n",
      "云 VERB ═══╝<╝     ║ ║   ccomp\n",
      "者 PART ═══════════╝<╝   obj\n"
     ]
    },
    {
     "name": "stderr",
     "output_type": "stream",
     "text": [
      "\r"
     ]
    }
   ],
   "source": [
    "ex277 = nlp(\"子曰汝安知魚樂云者\")\n",
    "render(ex277)"
   ]
  },
  {
   "cell_type": "code",
   "execution_count": 21,
   "metadata": {},
   "outputs": [
    {
     "name": "stderr",
     "output_type": "stream",
     "text": [
      "                                                   "
     ]
    },
    {
     "name": "stdout",
     "output_type": "stream",
     "text": [
      "今 NOUN  <════════╗ obl:tmod\n",
      "言 VERB  ═══════╗═╝ ROOT\n",
      "王 NOUN  <════╗ ║   nsubj\n",
      "若 VERB  ═╗═╗═╝<╝   ccomp\n",
      "易 VERB  <╝ ║       obj\n",
      "然 PART  <══╝       xcomp\n",
      "則 ADV   <══════╗   advmod\n",
      "文 PROPN <╗     ║   compound\n",
      "王 NOUN  ═╝<══╗ ║   dislocated\n",
      "不 ADV   <╗   ║ ║   advmod\n",
      "足 AUX   ═╝<╗ ║ ║   aux\n",
      "法 VERB  ═══╝═╝═╝═╗ ROOT\n",
      "與 PART  <════════╝ discourse:sp\n"
     ]
    },
    {
     "name": "stderr",
     "output_type": "stream",
     "text": [
      "\r"
     ]
    }
   ],
   "source": [
    "ex278 = nlp(\"今言王若易然\\n則文王不足法與\")\n",
    "render(ex278)"
   ]
  },
  {
   "cell_type": "code",
   "execution_count": 23,
   "metadata": {},
   "outputs": [
    {
     "name": "stderr",
     "output_type": "stream",
     "text": [
      "                                                   "
     ]
    },
    {
     "name": "stdout",
     "output_type": "stream",
     "text": [
      "其 PRON <╗                 det\n",
      "心 NOUN ═╝<╗               nsubj\n",
      "曰 VERB ═══╝               ROOT\n",
      "是 PRON <══════════╗       nsubj\n",
      "何 ADV  <════════╗ ║       advmod\n",
      "足 AUX  <══════╗ ║ ║       aux\n",
      "與 VERB <════╗ ║ ║ ║       advmod\n",
      "言 VERB ═══╗═╝═╝═╝═╝═╗═╗═╗ ROOT\n",
      "仁 NOUN ═╗<╝         ║ ║ ║ obj\n",
      "義 NOUN <╝           ║ ║ ║ conj\n",
      "也 PART <════════════╝ ║ ║ discourse:sp\n",
      "云 VERB <══════════════╝ ║ discourse:sp\n",
      "爾 PART <════════════════╝ discourse:sp\n"
     ]
    },
    {
     "name": "stderr",
     "output_type": "stream",
     "text": [
      "\r"
     ]
    }
   ],
   "source": [
    "ex279 = nlp(\"其心曰\\n是何足與言仁義也云爾\")\n",
    "render(ex279)"
   ]
  },
  {
   "cell_type": "markdown",
   "metadata": {},
   "source": [
    "### d. Reflexive Personal Pronoun"
   ]
  }
 ],
 "metadata": {
  "interpreter": {
   "hash": "0364c37b15e7a6e1c36ca05f1a9e06ef739d4c2650a4a4d0869c3126484e1dba"
  },
  "kernelspec": {
   "display_name": "Python 3.8.10 ('nlp')",
   "language": "python",
   "name": "python3"
  },
  "language_info": {
   "codemirror_mode": {
    "name": "ipython",
    "version": 3
   },
   "file_extension": ".py",
   "mimetype": "text/x-python",
   "name": "python",
   "nbconvert_exporter": "python",
   "pygments_lexer": "ipython3",
   "version": "3.8.10"
  },
  "orig_nbformat": 4
 },
 "nbformat": 4,
 "nbformat_minor": 2
}
