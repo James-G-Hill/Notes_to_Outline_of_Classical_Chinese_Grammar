{
 "cells": [
  {
   "cell_type": "markdown",
   "metadata": {},
   "source": [
    "# IX. Pronouns and Related Words"
   ]
  },
  {
   "cell_type": "code",
   "execution_count": 1,
   "metadata": {},
   "outputs": [
    {
     "name": "stderr",
     "output_type": "stream",
     "text": [
      "Some weights of the model checkpoint at KoichiYasuoka/roberta-classical-chinese-large-char were not used when initializing RobertaModel: ['lm_head.decoder.bias', 'lm_head.layer_norm.bias', 'lm_head.dense.weight', 'lm_head.bias', 'lm_head.decoder.weight', 'lm_head.dense.bias', 'lm_head.layer_norm.weight']\n",
      "- This IS expected if you are initializing RobertaModel from the checkpoint of a model trained on another task or with another architecture (e.g. initializing a BertForSequenceClassification model from a BertForPreTraining model).\n",
      "- This IS NOT expected if you are initializing RobertaModel from the checkpoint of a model that you expect to be exactly identical (initializing a BertForSequenceClassification model from a BertForSequenceClassification model).\n"
     ]
    }
   ],
   "source": [
    "from deplacy import render\n",
    "from suparkanbun import load\n",
    "from transformers import logging\n",
    "\n",
    "logging.logging.disable(logging.INFO)\n",
    "\n",
    "nlp = load(BERT=\"roberta-classical-chinese-large-char\", Danku=False)"
   ]
  },
  {
   "cell_type": "markdown",
   "metadata": {},
   "source": [
    "## 1. Personal Pronouns"
   ]
  },
  {
   "cell_type": "markdown",
   "metadata": {},
   "source": [
    "### a. First Person"
   ]
  },
  {
   "cell_type": "code",
   "execution_count": 2,
   "metadata": {},
   "outputs": [
    {
     "name": "stderr",
     "output_type": "stream",
     "text": [
      "                                                   "
     ]
    },
    {
     "name": "stdout",
     "output_type": "stream",
     "text": [
      "予 PRON <════╗   nsubj\n",
      "助 VERB ═╗═╗═╝═╗ ROOT\n",
      "苗 NOUN <╝ ║   ║ obj\n",
      "長 VERB <══╝   ║ ccomp\n",
      "矣 PART <══════╝ discourse:sp\n"
     ]
    },
    {
     "name": "stderr",
     "output_type": "stream",
     "text": [
      "\r"
     ]
    }
   ],
   "source": [
    "ex261 = nlp(\"予助苗長矣\")\n",
    "render(ex261)"
   ]
  },
  {
   "cell_type": "code",
   "execution_count": 3,
   "metadata": {},
   "outputs": [
    {
     "name": "stderr",
     "output_type": "stream",
     "text": [
      "                                                   "
     ]
    },
    {
     "name": "stdout",
     "output_type": "stream",
     "text": [
      "晉 PROPN ═╗═╗<╗     nmod\n",
      "楚 PROPN <╝ ║ ║     conj\n",
      "之 SCONJ <══╝ ║     case\n",
      "富 NOUN  ═════╝<╗   nsubj\n",
      "不 ADV   <╗     ║   advmod\n",
      "可 AUX   ═╝<╗   ║   aux\n",
      "及 VERB  ═══╝═══╝═╗ ROOT\n",
      "也 PART  <════════╝ discourse:sp\n",
      "彼 PRON  <════╗     nsubj\n",
      "以 VERB  ═══╗═╝     ROOT\n",
      "其 PRON  <╗ ║       det\n",
      "富 NOUN  ═╝<╝       obj\n",
      "我 PRON  <════╗     nsubj\n",
      "以 VERB  ═══╗═╝     ROOT\n",
      "吾 PRON  <╗ ║       det\n",
      "仁 NOUN  ═╝<╝       obj\n",
      "彼 PRON  <════╗     nsubj\n",
      "以 VERB  ═══╗═╝     ROOT\n",
      "其 PRON  <╗ ║       det\n",
      "爵 NOUN  ═╝<╝       obj\n",
      "我 PRON  <════╗     nsubj\n",
      "以 VERB  ═══╗═╝     ROOT\n",
      "吾 PRON  <╗ ║       det\n",
      "義 NOUN  ═╝<╝       obj\n",
      "吾 PRON  <══╗       nsubj\n",
      "何 ADV   <╗ ║       advmod\n",
      "慊 VERB  ═╝═╝═╗═╗   ROOT\n",
      "乎 PART  <════╝ ║   discourse:sp\n",
      "哉 PART  <══════╝   discourse:sp\n"
     ]
    },
    {
     "name": "stderr",
     "output_type": "stream",
     "text": [
      "\r"
     ]
    }
   ],
   "source": [
    "ex262 = nlp(\"晉楚之富不可及也\\n彼以其富\\n我以吾仁\\n彼以其爵\\n我以吾義\\n吾何慊乎哉\")\n",
    "render(ex262)"
   ]
  },
  {
   "cell_type": "markdown",
   "metadata": {},
   "source": [
    "### b. Second Person"
   ]
  },
  {
   "cell_type": "code",
   "execution_count": 4,
   "metadata": {},
   "outputs": [
    {
     "name": "stderr",
     "output_type": "stream",
     "text": [
      "                                                   "
     ]
    },
    {
     "name": "stdout",
     "output_type": "stream",
     "text": [
      "余 PRON <══╗   nsubj\n",
      "而 PRON <╗ ║   det\n",
      "祖 NOUN ═╝═╝═╗ ROOT\n",
      "也 PART <════╝ discourse:sp\n"
     ]
    },
    {
     "name": "stderr",
     "output_type": "stream",
     "text": [
      "\r"
     ]
    }
   ],
   "source": [
    "ex263 = nlp(\"余而祖也\")\n",
    "render(ex263)"
   ]
  },
  {
   "cell_type": "code",
   "execution_count": 5,
   "metadata": {},
   "outputs": [
    {
     "name": "stderr",
     "output_type": "stream",
     "text": [
      "                                                   "
     ]
    },
    {
     "name": "stdout",
     "output_type": "stream",
     "text": [
      "而 CCONJ <══════╗   advmod\n",
      "乃 ADV   <════╗ ║   advmod\n",
      "今 NOUN  <══╗ ║ ║   obl:tmod\n",
      "知 VERB  ═╗═╝═╝═╝═╗ ROOT\n",
      "之 PRON  <╝       ║ obj\n",
      "乎 PART  <════════╝ discourse:sp\n"
     ]
    },
    {
     "name": "stderr",
     "output_type": "stream",
     "text": [
      "\r"
     ]
    }
   ],
   "source": [
    "ex264 = nlp(\"而乃今知之乎\")\n",
    "render(ex264)"
   ]
  }
 ],
 "metadata": {
  "interpreter": {
   "hash": "0364c37b15e7a6e1c36ca05f1a9e06ef739d4c2650a4a4d0869c3126484e1dba"
  },
  "kernelspec": {
   "display_name": "Python 3.8.10 ('nlp')",
   "language": "python",
   "name": "python3"
  },
  "language_info": {
   "codemirror_mode": {
    "name": "ipython",
    "version": 3
   },
   "file_extension": ".py",
   "mimetype": "text/x-python",
   "name": "python",
   "nbconvert_exporter": "python",
   "pygments_lexer": "ipython3",
   "version": "3.8.10"
  },
  "orig_nbformat": 4
 },
 "nbformat": 4,
 "nbformat_minor": 2
}
