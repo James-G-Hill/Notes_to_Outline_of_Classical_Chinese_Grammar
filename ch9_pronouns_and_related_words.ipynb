{
 "cells": [
  {
   "cell_type": "markdown",
   "metadata": {},
   "source": [
    "# IX. Pronouns and Related Words"
   ]
  },
  {
   "cell_type": "code",
   "execution_count": 1,
   "metadata": {},
   "outputs": [
    {
     "name": "stderr",
     "output_type": "stream",
     "text": [
      "Some weights of the model checkpoint at KoichiYasuoka/roberta-classical-chinese-large-char were not used when initializing RobertaModel: ['lm_head.dense.weight', 'lm_head.bias', 'lm_head.dense.bias', 'lm_head.decoder.weight', 'lm_head.decoder.bias', 'lm_head.layer_norm.weight', 'lm_head.layer_norm.bias']\n",
      "- This IS expected if you are initializing RobertaModel from the checkpoint of a model trained on another task or with another architecture (e.g. initializing a BertForSequenceClassification model from a BertForPreTraining model).\n",
      "- This IS NOT expected if you are initializing RobertaModel from the checkpoint of a model that you expect to be exactly identical (initializing a BertForSequenceClassification model from a BertForSequenceClassification model).\n"
     ]
    }
   ],
   "source": [
    "from deplacy import render\n",
    "from suparkanbun import load\n",
    "from transformers import logging\n",
    "\n",
    "logging.logging.disable(logging.INFO)\n",
    "\n",
    "nlp = load(BERT=\"roberta-classical-chinese-large-char\", Danku=False)"
   ]
  },
  {
   "cell_type": "markdown",
   "metadata": {},
   "source": [
    "## 1. Personal Pronouns"
   ]
  },
  {
   "cell_type": "markdown",
   "metadata": {},
   "source": [
    "### a. First Person"
   ]
  },
  {
   "cell_type": "code",
   "execution_count": 2,
   "metadata": {},
   "outputs": [
    {
     "name": "stderr",
     "output_type": "stream",
     "text": [
      "                                                   "
     ]
    },
    {
     "name": "stdout",
     "output_type": "stream",
     "text": [
      "予 PRON <════╗   nsubj\n",
      "助 VERB ═╗═╗═╝═╗ ROOT\n",
      "苗 NOUN <╝ ║   ║ obj\n",
      "長 VERB <══╝   ║ ccomp\n",
      "矣 PART <══════╝ discourse:sp\n"
     ]
    },
    {
     "name": "stderr",
     "output_type": "stream",
     "text": [
      "\r"
     ]
    }
   ],
   "source": [
    "ex261 = nlp(\"予助苗長矣\")\n",
    "render(ex261)"
   ]
  },
  {
   "cell_type": "code",
   "execution_count": 3,
   "metadata": {},
   "outputs": [
    {
     "name": "stderr",
     "output_type": "stream",
     "text": [
      "                                                   "
     ]
    },
    {
     "name": "stdout",
     "output_type": "stream",
     "text": [
      "晉 PROPN ═╗═╗<╗     nmod\n",
      "楚 PROPN <╝ ║ ║     conj\n",
      "之 SCONJ <══╝ ║     case\n",
      "富 NOUN  ═════╝<╗   nsubj\n",
      "不 ADV   <╗     ║   advmod\n",
      "可 AUX   ═╝<╗   ║   aux\n",
      "及 VERB  ═══╝═══╝═╗ ROOT\n",
      "也 PART  <════════╝ discourse:sp\n",
      "彼 PRON  <════╗     nsubj\n",
      "以 VERB  ═══╗═╝     ROOT\n",
      "其 PRON  <╗ ║       det\n",
      "富 NOUN  ═╝<╝       obj\n",
      "我 PRON  <════╗     nsubj\n",
      "以 VERB  ═══╗═╝     ROOT\n",
      "吾 PRON  <╗ ║       det\n",
      "仁 NOUN  ═╝<╝       obj\n",
      "彼 PRON  <════╗     nsubj\n",
      "以 VERB  ═══╗═╝     ROOT\n",
      "其 PRON  <╗ ║       det\n",
      "爵 NOUN  ═╝<╝       obj\n",
      "我 PRON  <════╗     nsubj\n",
      "以 VERB  ═══╗═╝     ROOT\n",
      "吾 PRON  <╗ ║       det\n",
      "義 NOUN  ═╝<╝       obj\n",
      "吾 PRON  <══╗       nsubj\n",
      "何 ADV   <╗ ║       advmod\n",
      "慊 VERB  ═╝═╝═╗═╗   ROOT\n",
      "乎 PART  <════╝ ║   discourse:sp\n",
      "哉 PART  <══════╝   discourse:sp\n"
     ]
    },
    {
     "name": "stderr",
     "output_type": "stream",
     "text": [
      "\r"
     ]
    }
   ],
   "source": [
    "ex262 = nlp(\"晉楚之富不可及也\\n彼以其富\\n我以吾仁\\n彼以其爵\\n我以吾義\\n吾何慊乎哉\")\n",
    "render(ex262)"
   ]
  },
  {
   "cell_type": "markdown",
   "metadata": {},
   "source": [
    "### b. Second Person"
   ]
  },
  {
   "cell_type": "code",
   "execution_count": 4,
   "metadata": {},
   "outputs": [
    {
     "name": "stderr",
     "output_type": "stream",
     "text": [
      "                                                   "
     ]
    },
    {
     "name": "stdout",
     "output_type": "stream",
     "text": [
      "余 PRON <══╗   nsubj\n",
      "而 PRON <╗ ║   det\n",
      "祖 NOUN ═╝═╝═╗ ROOT\n",
      "也 PART <════╝ discourse:sp\n"
     ]
    },
    {
     "name": "stderr",
     "output_type": "stream",
     "text": [
      "\r"
     ]
    }
   ],
   "source": [
    "ex263 = nlp(\"余而祖也\")\n",
    "render(ex263)"
   ]
  },
  {
   "cell_type": "code",
   "execution_count": 5,
   "metadata": {},
   "outputs": [
    {
     "name": "stderr",
     "output_type": "stream",
     "text": [
      "                                                   "
     ]
    },
    {
     "name": "stdout",
     "output_type": "stream",
     "text": [
      "而 CCONJ <══════╗   advmod\n",
      "乃 ADV   <════╗ ║   advmod\n",
      "今 NOUN  <══╗ ║ ║   obl:tmod\n",
      "知 VERB  ═╗═╝═╝═╝═╗ ROOT\n",
      "之 PRON  <╝       ║ obj\n",
      "乎 PART  <════════╝ discourse:sp\n"
     ]
    },
    {
     "name": "stderr",
     "output_type": "stream",
     "text": [
      "\r"
     ]
    }
   ],
   "source": [
    "ex264 = nlp(\"而乃今知之乎\")\n",
    "render(ex264)"
   ]
  },
  {
   "cell_type": "markdown",
   "metadata": {},
   "source": [
    "### c. Third Person"
   ]
  },
  {
   "cell_type": "markdown",
   "metadata": {},
   "source": [
    "#### i. Zhi 之"
   ]
  },
  {
   "cell_type": "code",
   "execution_count": 6,
   "metadata": {},
   "outputs": [
    {
     "name": "stderr",
     "output_type": "stream",
     "text": [
      "                                                   "
     ]
    },
    {
     "name": "stdout",
     "output_type": "stream",
     "text": [
      "之 PRON <══╗   det\n",
      "二 NUM  <╗ ║   nummod\n",
      "蟲 NOUN ═╝═╝<╗ nsubj\n",
      "又 ADV  <══╗ ║ advmod\n",
      "何 ADV  <╗ ║ ║ advmod\n",
      "知 VERB ═╝═╝═╝ ROOT\n"
     ]
    },
    {
     "name": "stderr",
     "output_type": "stream",
     "text": [
      "\r"
     ]
    }
   ],
   "source": [
    "ex265 = nlp(\"之二蟲又何知\")\n",
    "render(ex265)"
   ]
  },
  {
   "cell_type": "markdown",
   "metadata": {},
   "source": [
    "#### ii. There is no third personal subject pronoun as such"
   ]
  },
  {
   "cell_type": "code",
   "execution_count": 7,
   "metadata": {},
   "outputs": [
    {
     "name": "stderr",
     "output_type": "stream",
     "text": [
      "                                                   "
     ]
    },
    {
     "name": "stdout",
     "output_type": "stream",
     "text": [
      "是 PRON  <════╗   nsubj\n",
      "魯 PROPN <══╗ ║   nmod\n",
      "孔 PROPN ═╗═╝═╝═╗ ROOT\n",
      "丘 PROPN <╝     ║ flat\n",
      "與 PART  <══════╝ discourse:sp\n"
     ]
    },
    {
     "name": "stderr",
     "output_type": "stream",
     "text": [
      "\r"
     ]
    }
   ],
   "source": [
    "ex266 = nlp(\"是魯孔丘與\")\n",
    "render(ex266)"
   ]
  },
  {
   "cell_type": "code",
   "execution_count": 8,
   "metadata": {},
   "outputs": [
    {
     "name": "stderr",
     "output_type": "stream",
     "text": [
      "                                                   "
     ]
    },
    {
     "name": "stdout",
     "output_type": "stream",
     "text": [
      "彼 PRON <══╗     nsubj\n",
      "丈 NOUN <╗ ║     nmod\n",
      "夫 NOUN ═╝═╝═╗   ROOT\n",
      "也 PART <════╝   discourse:sp\n",
      "我 PRON <══╗     nsubj\n",
      "丈 NOUN <╗ ║     nmod\n",
      "夫 NOUN ═╝═╝═╗   ROOT\n",
      "也 PART <════╝   discourse:sp\n",
      "吾 PRON <════╗   nsubj\n",
      "何 ADV  <══╗ ║   advmod\n",
      "畏 VERB ═╗═╝═╝═╗ ROOT\n",
      "彼 PRON <╝     ║ obj\n",
      "哉 PART <══════╝ discourse:sp\n"
     ]
    },
    {
     "name": "stderr",
     "output_type": "stream",
     "text": [
      "\r"
     ]
    }
   ],
   "source": [
    "ex267 = nlp(\"彼丈夫也\\n我丈夫也\\n吾何畏彼哉\")\n",
    "render(ex267)"
   ]
  },
  {
   "cell_type": "markdown",
   "metadata": {},
   "source": [
    "#### iii. 其"
   ]
  },
  {
   "cell_type": "code",
   "execution_count": 9,
   "metadata": {},
   "outputs": [
    {
     "name": "stderr",
     "output_type": "stream",
     "text": [
      "                                                   "
     ]
    },
    {
     "name": "stdout",
     "output_type": "stream",
     "text": [
      "其 PRON <╗     det\n",
      "人 NOUN ═╝<══╗ nsubj\n",
      "弗 ADV  <╗   ║ advmod\n",
      "能 AUX  ═╝<╗ ║ aux\n",
      "應 VERB ═══╝═╝ ROOT\n"
     ]
    },
    {
     "name": "stderr",
     "output_type": "stream",
     "text": [
      "\r"
     ]
    }
   ],
   "source": [
    "ex268 = nlp(\"其人弗能應\")\n",
    "render(ex268)"
   ]
  },
  {
   "cell_type": "markdown",
   "metadata": {},
   "source": [
    "#### iv. 伊, 渠 and 他"
   ]
  },
  {
   "cell_type": "markdown",
   "metadata": {},
   "source": [
    "#### v. 焉"
   ]
  },
  {
   "cell_type": "code",
   "execution_count": 10,
   "metadata": {},
   "outputs": [
    {
     "name": "stderr",
     "output_type": "stream",
     "text": [
      "                                                   "
     ]
    },
    {
     "name": "stdout",
     "output_type": "stream",
     "text": [
      "萬 NUM  <════╗ nsubj\n",
      "取 VERB ═╗═╗═╝ ROOT\n",
      "千 NUM  <╝ ║   obj\n",
      "焉 PART <══╝   obl\n"
     ]
    },
    {
     "name": "stderr",
     "output_type": "stream",
     "text": [
      "\r"
     ]
    }
   ],
   "source": [
    "ex269 = nlp(\"萬取千焉\")\n",
    "render(ex269)"
   ]
  },
  {
   "cell_type": "code",
   "execution_count": 11,
   "metadata": {},
   "outputs": [
    {
     "name": "stderr",
     "output_type": "stream",
     "text": [
      "                                                   "
     ]
    },
    {
     "name": "stdout",
     "output_type": "stream",
     "text": [
      "斯 ADV   <════════╗ advmod\n",
      "天 NOUN  <╗       ║ compound\n",
      "下 NOUN  ═╝═╗<╗   ║ nmod\n",
      "之 SCONJ <══╝ ║   ║ case\n",
      "民 NOUN  ═════╝<╗ ║ nsubj\n",
      "至 VERB  ═╗═════╝═╝ ROOT\n",
      "焉 PART  <╝         obl\n"
     ]
    },
    {
     "name": "stderr",
     "output_type": "stream",
     "text": [
      "\r"
     ]
    }
   ],
   "source": [
    "ex270 = nlp(\"斯天下之民至焉\")\n",
    "render(ex270)"
   ]
  },
  {
   "cell_type": "code",
   "execution_count": 12,
   "metadata": {},
   "outputs": [
    {
     "name": "stderr",
     "output_type": "stream",
     "text": [
      "                                                   "
     ]
    },
    {
     "name": "stdout",
     "output_type": "stream",
     "text": [
      "殆 ADV  <══╗   advmod\n",
      "有 VERB ═╗═╝═╗ ROOT\n",
      "甚 VERB <╝   ║ obj\n",
      "焉 PART <════╝ discourse:sp\n"
     ]
    },
    {
     "name": "stderr",
     "output_type": "stream",
     "text": [
      "\r"
     ]
    }
   ],
   "source": [
    "ex271 = nlp(\"殆有甚焉\")\n",
    "render(ex271)"
   ]
  },
  {
   "cell_type": "code",
   "execution_count": 13,
   "metadata": {},
   "outputs": [
    {
     "name": "stderr",
     "output_type": "stream",
     "text": [
      "                                                   "
     ]
    },
    {
     "name": "stdout",
     "output_type": "stream",
     "text": [
      "必 ADV   <════════╗ advmod\n",
      "知 VERB  ═══════╗═╝ ROOT\n",
      "亂 VERB  ═╗<══╗ ║   nsubj\n",
      "之 SCONJ <╝   ║ ║   case\n",
      "所 PART  <══╗ ║ ║   mark\n",
      "自 PRON  <╗ ║ ║ ║   mark\n",
      "起 VERB  ═╝═╝═╝<╝   ccomp\n",
      "焉 PART  <════╗     advmod\n",
      "能 AUX   <══╗ ║     aux\n",
      "治 VERB  ═╗═╝═╝     ROOT\n",
      "之 PRON  <╝         obj\n"
     ]
    },
    {
     "name": "stderr",
     "output_type": "stream",
     "text": [
      "\r"
     ]
    }
   ],
   "source": [
    "ex272 = nlp(\"必知亂之所自起\\n焉能治之\")\n",
    "render(ex272)"
   ]
  },
  {
   "cell_type": "code",
   "execution_count": 14,
   "metadata": {},
   "outputs": [
    {
     "name": "stderr",
     "output_type": "stream",
     "text": [
      "                                                   "
     ]
    },
    {
     "name": "stdout",
     "output_type": "stream",
     "text": [
      "而 CCONJ <══════╗   advmod\n",
      "暴 VERB  <╗     ║   amod\n",
      "國 NOUN  ═╝<╗   ║   nsubj\n",
      "安 ADV   ═══╝<╗ ║   advmod\n",
      "自 PRON  <╗   ║ ║   obj\n",
      "化 VERB  ═╝═══╝═╝═╗ ROOT\n",
      "矣 PART  <════════╝ discourse:sp\n"
     ]
    },
    {
     "name": "stderr",
     "output_type": "stream",
     "text": [
      "\r"
     ]
    }
   ],
   "source": [
    "ex273 = nlp(\"而暴國安自化矣\")\n",
    "render(ex273)"
   ]
  },
  {
   "cell_type": "markdown",
   "metadata": {},
   "source": [
    "#### vi. 然"
   ]
  },
  {
   "cell_type": "markdown",
   "metadata": {},
   "source": [
    "#### vii. 云"
   ]
  },
  {
   "cell_type": "code",
   "execution_count": 15,
   "metadata": {},
   "outputs": [
    {
     "name": "stderr",
     "output_type": "stream",
     "text": [
      "                                                   "
     ]
    },
    {
     "name": "stdout",
     "output_type": "stream",
     "text": [
      "曰 VERB  ═════╗═╗ ROOT\n",
      "從 VERB  ═══╗<╝ ║ ccomp\n",
      "余 PRON  <╗ ║   ║ det\n",
      "言 NOUN  ═╝<╝   ║ obj\n",
      "必 ADV   <════╗ ║ advmod\n",
      "為 VERB  <══╗ ║ ║ cop\n",
      "孟 PROPN <╗ ║ ║ ║ nmod\n",
      "孫 NOUN  ═╝═╝═╝<╝ ccomp\n",
      "再 ADV   <══╗     advmod\n",
      "三 NUM   <╗ ║     advmod\n",
      "云 VERB  ═╝═╝     ROOT\n",
      "羯 PROPN <══╗     nsubj\n",
      "從 VERB  ═╗═╝     ROOT\n",
      "之 PRON  <╝       obj\n"
     ]
    },
    {
     "name": "stderr",
     "output_type": "stream",
     "text": [
      "\r"
     ]
    }
   ],
   "source": [
    "ex274 = nlp(\"曰從余言必為孟孫\\n再三云\\n羯從之\")\n",
    "render(ex274)"
   ]
  },
  {
   "cell_type": "code",
   "execution_count": 16,
   "metadata": {},
   "outputs": [
    {
     "name": "stderr",
     "output_type": "stream",
     "text": [
      "                                                   "
     ]
    },
    {
     "name": "stdout",
     "output_type": "stream",
     "text": [
      "晉   PROPN <════╗     nmod\n",
      "平   PROPN <╗   ║     compound\n",
      "公   NOUN  ═╝═╗═╝<╗   nsubj\n",
      "之   SCONJ <══╝   ║   case\n",
      "於   VERB  ═╗═════╝═╗ ROOT\n",
      "亥唐 PROPN <╝       ║ obj\n",
      "也   PART  <════════╝ discourse:sp\n",
      "入   VERB  <╗         obj\n",
      "云   VERB  ═╝<╗       advcl\n",
      "則   ADV   <╗ ║       advmod\n",
      "入   VERB  ═╝═╝       ROOT\n",
      "坐   VERB  <╗         obj\n",
      "云   VERB  ═╝<╗       advcl\n",
      "則   ADV   <╗ ║       advmod\n",
      "坐   VERB  ═╝═╝       ROOT\n",
      "食   NOUN  <╗         obj\n",
      "云   VERB  ═╝<╗       advcl\n",
      "則   ADV   <╗ ║       advmod\n",
      "食   VERB  ═╝═╝       ROOT\n"
     ]
    },
    {
     "name": "stderr",
     "output_type": "stream",
     "text": [
      "\r"
     ]
    }
   ],
   "source": [
    "ex275 = nlp(\"晉平公之於亥唐也\\n入云則入\\n坐云則坐\\n食云則食\")\n",
    "render(ex275)"
   ]
  },
  {
   "cell_type": "code",
   "execution_count": 17,
   "metadata": {},
   "outputs": [
    {
     "name": "stderr",
     "output_type": "stream",
     "text": [
      "                                                   "
     ]
    },
    {
     "name": "stdout",
     "output_type": "stream",
     "text": [
      "仲 PROPN <╗         compound\n",
      "父 NOUN  ═╝═╗<╗     nmod\n",
      "之 SCONJ <══╝ ║     case\n",
      "病 NOUN  ═════╝<╗   nsubj\n",
      "病 VERB  ═══════╝═╗ ROOT\n",
      "矣 PART  <════════╝ discourse:sp\n",
      "可 AUX   <══╗       aux\n",
      "不 ADV   <╗ ║       advmod\n",
      "諱 VERB  ═╝═╝═╗     ROOT\n",
      "云 VERB  <════╝     parataxis\n"
     ]
    },
    {
     "name": "stderr",
     "output_type": "stream",
     "text": [
      "\r"
     ]
    }
   ],
   "source": [
    "ex276 = nlp(\"仲父之病病矣\\n可不諱云\")\n",
    "render(ex276)"
   ]
  },
  {
   "cell_type": "code",
   "execution_count": 18,
   "metadata": {},
   "outputs": [
    {
     "name": "stderr",
     "output_type": "stream",
     "text": [
      "                                                   "
     ]
    },
    {
     "name": "stdout",
     "output_type": "stream",
     "text": [
      "子 NOUN <══════════════╗ nsubj\n",
      "曰 VERB ═════════════╗═╝ ROOT\n",
      "汝 PRON <════════╗   ║   nsubj\n",
      "安 ADV  <══════╗ ║   ║   advmod\n",
      "知 VERB ═════╗═╝═╝<╗ ║   acl\n",
      "魚 NOUN ═╗<╗ ║     ║ ║   nsubj\n",
      "樂 VERB <╝ ║ ║     ║ ║   conj\n",
      "云 VERB ═══╝<╝     ║ ║   ccomp\n",
      "者 PART ═══════════╝<╝   obj\n"
     ]
    },
    {
     "name": "stderr",
     "output_type": "stream",
     "text": [
      "\r"
     ]
    }
   ],
   "source": [
    "ex277 = nlp(\"子曰汝安知魚樂云者\")\n",
    "render(ex277)"
   ]
  },
  {
   "cell_type": "code",
   "execution_count": 19,
   "metadata": {},
   "outputs": [
    {
     "name": "stderr",
     "output_type": "stream",
     "text": [
      "                                                   "
     ]
    },
    {
     "name": "stdout",
     "output_type": "stream",
     "text": [
      "今 NOUN  <════════╗ obl:tmod\n",
      "言 VERB  ═══════╗═╝ ROOT\n",
      "王 NOUN  <════╗ ║   nsubj\n",
      "若 VERB  ═╗═╗═╝<╝   ccomp\n",
      "易 VERB  <╝ ║       obj\n",
      "然 PART  <══╝       xcomp\n",
      "則 ADV   <══════╗   advmod\n",
      "文 PROPN <╗     ║   compound\n",
      "王 NOUN  ═╝<══╗ ║   dislocated\n",
      "不 ADV   <╗   ║ ║   advmod\n",
      "足 AUX   ═╝<╗ ║ ║   aux\n",
      "法 VERB  ═══╝═╝═╝═╗ ROOT\n",
      "與 PART  <════════╝ discourse:sp\n"
     ]
    },
    {
     "name": "stderr",
     "output_type": "stream",
     "text": [
      "\r"
     ]
    }
   ],
   "source": [
    "ex278 = nlp(\"今言王若易然\\n則文王不足法與\")\n",
    "render(ex278)"
   ]
  },
  {
   "cell_type": "code",
   "execution_count": 20,
   "metadata": {},
   "outputs": [
    {
     "name": "stderr",
     "output_type": "stream",
     "text": [
      "                                                   "
     ]
    },
    {
     "name": "stdout",
     "output_type": "stream",
     "text": [
      "其 PRON <╗                 det\n",
      "心 NOUN ═╝<╗               nsubj\n",
      "曰 VERB ═══╝               ROOT\n",
      "是 PRON <══════════╗       nsubj\n",
      "何 ADV  <════════╗ ║       advmod\n",
      "足 AUX  <══════╗ ║ ║       aux\n",
      "與 VERB <════╗ ║ ║ ║       advmod\n",
      "言 VERB ═══╗═╝═╝═╝═╝═╗═╗═╗ ROOT\n",
      "仁 NOUN ═╗<╝         ║ ║ ║ obj\n",
      "義 NOUN <╝           ║ ║ ║ conj\n",
      "也 PART <════════════╝ ║ ║ discourse:sp\n",
      "云 VERB <══════════════╝ ║ discourse:sp\n",
      "爾 PART <════════════════╝ discourse:sp\n"
     ]
    },
    {
     "name": "stderr",
     "output_type": "stream",
     "text": [
      "\r"
     ]
    }
   ],
   "source": [
    "ex279 = nlp(\"其心曰\\n是何足與言仁義也云爾\")\n",
    "render(ex279)"
   ]
  },
  {
   "cell_type": "markdown",
   "metadata": {},
   "source": [
    "### d. Reflexive Personal Pronoun"
   ]
  },
  {
   "cell_type": "code",
   "execution_count": 21,
   "metadata": {},
   "outputs": [
    {
     "name": "stderr",
     "output_type": "stream",
     "text": [
      "                                                   "
     ]
    },
    {
     "name": "stdout",
     "output_type": "stream",
     "text": [
      "射 VERB  <╗     amod\n",
      "者 PART  ═╝<╗   nsubj\n",
      "正 VERB  ═╗═╝═╗ ROOT\n",
      "己 PRON  <╝   ║ obj\n",
      "而 CCONJ <══╗ ║ cc\n",
      "後 NOUN  <╗ ║ ║ obl:tmod\n",
      "發 VERB  ═╝═╝<╝ conj\n"
     ]
    },
    {
     "name": "stderr",
     "output_type": "stream",
     "text": [
      "\r"
     ]
    }
   ],
   "source": [
    "ex280 = nlp(\"射者正己而後發\")\n",
    "render(ex280)"
   ]
  },
  {
   "cell_type": "code",
   "execution_count": 22,
   "metadata": {},
   "outputs": [
    {
     "name": "stderr",
     "output_type": "stream",
     "text": [
      "                                                   "
     ]
    },
    {
     "name": "stdout",
     "output_type": "stream",
     "text": [
      "夫 PART  <══╗           discourse\n",
      "仁 VERB  <╗ ║           amod\n",
      "者 PART  ═╝═╝<════════╗ vocative\n",
      "己 PRON  <════════╗   ║ nsubj\n",
      "欲 AUX   <══════╗ ║   ║ aux\n",
      "立 VERB  ═════╗═╝═╝<╗ ║ advcl\n",
      "而 CCONJ <══╗ ║     ║ ║ cc\n",
      "立 VERB  ═╗═╝<╝     ║ ║ conj\n",
      "人 NOUN  <╝         ║ ║ obj\n",
      "己 PRON  <════════╗ ║ ║ nsubj\n",
      "欲 AUX   <══════╗ ║ ║ ║ aux\n",
      "達 VERB  ═════╗═╝═╝═╝═╝ ROOT\n",
      "而 CCONJ <══╗ ║         cc\n",
      "達 VERB  ═╗═╝<╝         conj\n",
      "人 NOUN  <╝             obj\n"
     ]
    },
    {
     "name": "stderr",
     "output_type": "stream",
     "text": [
      "\r"
     ]
    }
   ],
   "source": [
    "ex281 = nlp(\"夫仁者己欲立而立人己欲達而達人\")\n",
    "render(ex281)"
   ]
  },
  {
   "cell_type": "code",
   "execution_count": 23,
   "metadata": {},
   "outputs": [
    {
     "name": "stderr",
     "output_type": "stream",
     "text": [
      "                                                   "
     ]
    },
    {
     "name": "stdout",
     "output_type": "stream",
     "text": [
      "仁 NOUN <══════╗ nsubj\n",
      "以 VERB <════╗ ║ advmod\n",
      "為 VERB ═══╗═╝═╝ ROOT\n",
      "己 PRON <╗ ║     det\n",
      "任 NOUN ═╝<╝     obj\n"
     ]
    },
    {
     "name": "stderr",
     "output_type": "stream",
     "text": [
      "\r"
     ]
    }
   ],
   "source": [
    "ex282 = nlp(\"仁以為己任\")\n",
    "render(ex282)"
   ]
  },
  {
   "cell_type": "code",
   "execution_count": 24,
   "metadata": {},
   "outputs": [
    {
     "name": "stderr",
     "output_type": "stream",
     "text": [
      "                                                   "
     ]
    },
    {
     "name": "stdout",
     "output_type": "stream",
     "text": [
      "無 VERB <════════╗ advmod\n",
      "友 VERB ═══════╗═╝ ROOT\n",
      "不 ADV  <══╗   ║   advmod\n",
      "如 VERB ═╗═╝<╗ ║   acl\n",
      "己 PRON <╝   ║ ║   obj\n",
      "者 PART ═════╝<╝   obj\n"
     ]
    },
    {
     "name": "stderr",
     "output_type": "stream",
     "text": [
      "\r"
     ]
    }
   ],
   "source": [
    "ex283 = nlp(\"無友不如己者\")\n",
    "render(ex283)"
   ]
  },
  {
   "cell_type": "code",
   "execution_count": 25,
   "metadata": {},
   "outputs": [
    {
     "name": "stderr",
     "output_type": "stream",
     "text": [
      "                                                   "
     ]
    },
    {
     "name": "stdout",
     "output_type": "stream",
     "text": [
      "不 ADV   <════════╗ advmod\n",
      "患 VERB  ═══════╗═╝ ROOT\n",
      "人 NOUN  ═╗<══╗ ║   nsubj\n",
      "之 SCONJ <╝   ║ ║   case\n",
      "不 ADV   <══╗ ║ ║   advmod\n",
      "己 PRON  <╗ ║ ║ ║   obj\n",
      "知 VERB  ═╝═╝═╝<╝   ccomp\n"
     ]
    },
    {
     "name": "stderr",
     "output_type": "stream",
     "text": [
      "\r"
     ]
    }
   ],
   "source": [
    "ex284 = nlp(\"不患人之不己知\")\n",
    "render(ex284)"
   ]
  },
  {
   "cell_type": "code",
   "execution_count": 26,
   "metadata": {},
   "outputs": [
    {
     "name": "stderr",
     "output_type": "stream",
     "text": [
      "                                                   "
     ]
    },
    {
     "name": "stdout",
     "output_type": "stream",
     "text": [
      "身 NOUN <════╗     nsubj\n",
      "為 VERB <══╗ ║     cop\n",
      "天 NOUN <╗ ║ ║     nmod\n",
      "子 NOUN ═╝═╝═╝     ROOT\n",
      "弟 NOUN <════╗     nsubj\n",
      "為 VERB <══╗ ║     cop\n",
      "匹 VERB <╗ ║ ║     amod\n",
      "夫 NOUN ═╝═╝═╝     ROOT\n",
      "可 AUX  <══════╗   aux\n",
      "謂 VERB ═════╗═╝═╗ ROOT\n",
      "親 VERB <══╗ ║   ║ advmod\n",
      "愛 VERB ═╗═╝<╝   ║ ccomp\n",
      "之 PRON <╝       ║ obj\n",
      "乎 PART <════════╝ discourse:sp\n"
     ]
    },
    {
     "name": "stderr",
     "output_type": "stream",
     "text": [
      "\r"
     ]
    }
   ],
   "source": [
    "ex285 = nlp(\"身為天子\\n弟為匹夫\\n可謂親愛之乎\")\n",
    "render(ex285)"
   ]
  },
  {
   "cell_type": "markdown",
   "metadata": {},
   "source": [
    "### e. Personal Pronouns with Negative Particles"
   ]
  },
  {
   "cell_type": "code",
   "execution_count": 27,
   "metadata": {},
   "outputs": [
    {
     "name": "stderr",
     "output_type": "stream",
     "text": [
      "                                                   "
     ]
    },
    {
     "name": "stdout",
     "output_type": "stream",
     "text": [
      "父 NOUN  ═╗═╗<╗ nsubj\n",
      "母 NOUN  <╝ ║ ║ flat\n",
      "之 SCONJ <══╝ ║ case\n",
      "不 ADV   <══╗ ║ advmod\n",
      "我 PRON  <╗ ║ ║ obj\n",
      "愛 VERB  ═╝═╝═╝ ROOT\n"
     ]
    },
    {
     "name": "stderr",
     "output_type": "stream",
     "text": [
      "\r"
     ]
    }
   ],
   "source": [
    "ex286 = nlp(\"父母之不我愛\")\n",
    "render(ex286)"
   ]
  },
  {
   "cell_type": "code",
   "execution_count": 28,
   "metadata": {},
   "outputs": [
    {
     "name": "stderr",
     "output_type": "stream",
     "text": [
      "                                                   "
     ]
    },
    {
     "name": "stdout",
     "output_type": "stream",
     "text": [
      "故 ADV  <════╗   advmod\n",
      "不 ADV  <══╗ ║   advmod\n",
      "吾 PRON <╗ ║ ║   nsubj\n",
      "遠 VERB ═╝═╝═╝═╗ ROOT\n",
      "也 PART <══════╝ discourse:sp\n"
     ]
    },
    {
     "name": "stderr",
     "output_type": "stream",
     "text": [
      "\r"
     ]
    }
   ],
   "source": [
    "ex287 = nlp(\"故不吾遠也\")\n",
    "render(ex287)"
   ]
  },
  {
   "cell_type": "code",
   "execution_count": 29,
   "metadata": {},
   "outputs": [
    {
     "name": "stderr",
     "output_type": "stream",
     "text": [
      "                                                   "
     ]
    },
    {
     "name": "stdout",
     "output_type": "stream",
     "text": [
      "僂 VERB ═╗<══╗   nsubj\n",
      "句 NOUN <╝   ║   conj\n",
      "不 ADV  <══╗ ║   advmod\n",
      "余 PRON <╗ ║ ║   obj\n",
      "欺 VERB ═╝═╝═╝═╗ ROOT\n",
      "也 PART <══════╝ discourse:sp\n"
     ]
    },
    {
     "name": "stderr",
     "output_type": "stream",
     "text": [
      "\r"
     ]
    }
   ],
   "source": [
    "ex288 = nlp(\"僂句不余欺也\")\n",
    "render(ex288)"
   ]
  },
  {
   "cell_type": "code",
   "execution_count": 30,
   "metadata": {},
   "outputs": [
    {
     "name": "stderr",
     "output_type": "stream",
     "text": [
      "                                                   "
     ]
    },
    {
     "name": "stdout",
     "output_type": "stream",
     "text": [
      "盟 NOUN <════════════╗ nsubj\n",
      "曰 VERB ═══════════╗═╝ ROOT\n",
      "我 PRON <════════╗ ║   nsubj\n",
      "無 VERB <══╗     ║ ║   advmod\n",
      "爾 PRON <╗ ║     ║ ║   obj\n",
      "詐 VERB ═╝═╝═══╗═╝<╝   ccomp\n",
      "爾 PRON <════╗ ║       nsubj\n",
      "無 VERB <══╗ ║ ║       advmod\n",
      "我 PRON <╗ ║ ║ ║       det\n",
      "虞 VERB ═╝═╝═╝<╝       conj\n"
     ]
    },
    {
     "name": "stderr",
     "output_type": "stream",
     "text": [
      "\r"
     ]
    }
   ],
   "source": [
    "ex289 = nlp(\"盟曰我無爾詐爾無我虞\")\n",
    "render(ex289)"
   ]
  },
  {
   "cell_type": "code",
   "execution_count": 31,
   "metadata": {},
   "outputs": [
    {
     "name": "stderr",
     "output_type": "stream",
     "text": [
      "                                                   "
     ]
    },
    {
     "name": "stdout",
     "output_type": "stream",
     "text": [
      "孰 PRON <════╗ nsubj\n",
      "能 AUX  <══╗ ║ aux\n",
      "與 VERB ═╗═╝═╝ ROOT\n",
      "之 PRON <╝     obj\n",
      "天 NOUN <╗     compound\n",
      "下 NOUN ═╝<══╗ nsubj\n",
      "莫 ADV  <══╗ ║ advmod\n",
      "不 ADV  <╗ ║ ║ advmod\n",
      "與 VERB ═╝═╝═╝ ROOT\n"
     ]
    },
    {
     "name": "stderr",
     "output_type": "stream",
     "text": [
      "\r"
     ]
    }
   ],
   "source": [
    "ex290 = nlp(\"孰能與之\\n天下莫不與\")\n",
    "render(ex290)"
   ]
  },
  {
   "cell_type": "code",
   "execution_count": 32,
   "metadata": {},
   "outputs": [
    {
     "name": "stderr",
     "output_type": "stream",
     "text": [
      "                                                   "
     ]
    },
    {
     "name": "stdout",
     "output_type": "stream",
     "text": [
      "其 PART  <════════════╗   discourse\n",
      "取 VERB  ═══╗═╗<╗     ║   csubj\n",
      "諸 NOUN  <╗ ║ ║ ║     ║   nmod\n",
      "民 NOUN  ═╝<╝ ║ ║     ║   obj\n",
      "之 SCONJ <════╝ ║     ║   mark\n",
      "不 ADV   <╗     ║     ║   advmod\n",
      "義 VERB  ═╝═════╝═══╗═╝═╗ ROOT\n",
      "也 PART  <══════════║═══╝ mark\n",
      "而 CCONJ <══════╗   ║     cc\n",
      "以 VERB  ═══╗<╗ ║   ║     advcl\n",
      "他 PRON  <╗ ║ ║ ║   ║     det\n",
      "辭 NOUN  ═╝<╝ ║ ║   ║     obj\n",
      "無 VERB  <╗   ║ ║   ║     advmod\n",
      "受 VERB  ═╝═══╝═╝═╗<╝     conj\n",
      "不 ADV   <╗       ║       advmod\n",
      "可 AUX   ═╝═╗<════╝       parataxis\n",
      "乎 PART  <══╝             discourse:sp\n"
     ]
    },
    {
     "name": "stderr",
     "output_type": "stream",
     "text": [
      "\r"
     ]
    }
   ],
   "source": [
    "ex291 = nlp(\"其取諸民之不義也而以他辭無受不可乎\")\n",
    "render(ex291)"
   ]
  },
  {
   "cell_type": "code",
   "execution_count": 33,
   "metadata": {},
   "outputs": [
    {
     "name": "stderr",
     "output_type": "stream",
     "text": [
      "                                                   "
     ]
    },
    {
     "name": "stdout",
     "output_type": "stream",
     "text": [
      "聖 NOUN  <╗           nmod\n",
      "人 NOUN  ═╝<══════╗   dislocated\n",
      "吾 PRON  <══════╗ ║   nsubj\n",
      "不 ADV   <══╗   ║ ║   advmod\n",
      "得 AUX   ═╗═╝<╗ ║ ║   aux\n",
      "而 CCONJ <╝   ║ ║ ║   fixed\n",
      "見 VERB  ═╗═══╝═╝═╝═╗ ROOT\n",
      "之 PRON  <╝         ║ expl\n",
      "矣 PART  <══════════╝ discourse:sp\n"
     ]
    },
    {
     "name": "stderr",
     "output_type": "stream",
     "text": [
      "\r"
     ]
    }
   ],
   "source": [
    "ex292 = nlp(\"聖人吾不得而見之矣\")\n",
    "render(ex292)"
   ]
  },
  {
   "cell_type": "code",
   "execution_count": 34,
   "metadata": {},
   "outputs": [
    {
     "name": "stderr",
     "output_type": "stream",
     "text": [
      "                                                   "
     ]
    },
    {
     "name": "stdout",
     "output_type": "stream",
     "text": [
      "有 VERB  ═╗═════╗<╗   csubj\n",
      "事 NOUN  <╝     ║ ║   obj\n",
      "而 CCONJ <════╗ ║ ║   cc\n",
      "不 ADV   <══╗ ║ ║ ║   advmod\n",
      "告 VERB  ═╗═╝═╝<╝ ║   conj\n",
      "我 PRON  <╝       ║   obj\n",
      "必 ADV   <══╗     ║   advmod\n",
      "不 ADV   <╗ ║     ║   advmod\n",
      "捷 VERB  ═╝═╝═════╝═╗ ROOT\n",
      "矣 PART  <══════════╝ discourse:sp\n"
     ]
    },
    {
     "name": "stderr",
     "output_type": "stream",
     "text": [
      "\r"
     ]
    }
   ],
   "source": [
    "ex293 = nlp(\"有事而不告我必不捷矣\")\n",
    "render(ex293)"
   ]
  },
  {
   "cell_type": "code",
   "execution_count": 35,
   "metadata": {},
   "outputs": [
    {
     "name": "stderr",
     "output_type": "stream",
     "text": [
      "                                                   "
     ]
    },
    {
     "name": "stdout",
     "output_type": "stream",
     "text": [
      "夫 PART <════╗   discourse\n",
      "不 ADV  <══╗ ║   advmod\n",
      "惡 VERB ═╗═╝═╝═╗ ROOT\n",
      "女 NOUN <╝     ║ obj\n",
      "乎 PART <══════╝ discourse:sp\n"
     ]
    },
    {
     "name": "stderr",
     "output_type": "stream",
     "text": [
      "\r"
     ]
    }
   ],
   "source": [
    "ex294 = nlp(\"夫不惡女乎\")\n",
    "render(ex294)"
   ]
  },
  {
   "cell_type": "code",
   "execution_count": 36,
   "metadata": {},
   "outputs": [
    {
     "name": "stderr",
     "output_type": "stream",
     "text": [
      "                                                   "
     ]
    },
    {
     "name": "stdout",
     "output_type": "stream",
     "text": [
      "臣 NOUN <════╗   nsubj\n",
      "未 ADV  <══╗ ║   advmod\n",
      "之 PRON <╗ ║ ║   obj\n",
      "聞 VERB ═╝═╝═╝═╗ ROOT\n",
      "也 PART <══════╝ discourse:sp\n"
     ]
    },
    {
     "name": "stderr",
     "output_type": "stream",
     "text": [
      "\r"
     ]
    }
   ],
   "source": [
    "ex295 = nlp(\"臣未之聞也\")\n",
    "render(ex295)"
   ]
  },
  {
   "cell_type": "code",
   "execution_count": 37,
   "metadata": {},
   "outputs": [
    {
     "name": "stderr",
     "output_type": "stream",
     "text": [
      "                                                   "
     ]
    },
    {
     "name": "stdout",
     "output_type": "stream",
     "text": [
      "莫 ADV  <════╗   advmod\n",
      "之 PRON <══╗ ║   obj\n",
      "能 AUX  <╗ ║ ║   aux\n",
      "禦 VERB ═╝═╝═╝═╗ ROOT\n",
      "也 PART <══════╝ discourse:sp\n"
     ]
    },
    {
     "name": "stderr",
     "output_type": "stream",
     "text": [
      "\r"
     ]
    }
   ],
   "source": [
    "ex296 = nlp(\"莫之能禦也\")\n",
    "render(ex296)"
   ]
  },
  {
   "cell_type": "markdown",
   "metadata": {},
   "source": [
    "## 2. Demonstratives"
   ]
  },
  {
   "cell_type": "markdown",
   "metadata": {},
   "source": [
    "### a. 是"
   ]
  },
  {
   "cell_type": "code",
   "execution_count": 38,
   "metadata": {},
   "outputs": [
    {
     "name": "stderr",
     "output_type": "stream",
     "text": [
      "                                                   "
     ]
    },
    {
     "name": "stdout",
     "output_type": "stream",
     "text": [
      "掩 VERB ═╗<╗   csubj\n",
      "之 PRON <╝ ║   obj\n",
      "誠 VERB <╗ ║   advmod\n",
      "是 NOUN ═╝═╝═╗ ROOT\n",
      "也 PART <════╝ discourse:sp\n"
     ]
    },
    {
     "name": "stderr",
     "output_type": "stream",
     "text": [
      "\r"
     ]
    }
   ],
   "source": [
    "ex297 = nlp(\"掩之誠是也\")\n",
    "render(ex297)"
   ]
  },
  {
   "cell_type": "code",
   "execution_count": 39,
   "metadata": {},
   "outputs": [
    {
     "name": "stderr",
     "output_type": "stream",
     "text": [
      "                                                   "
     ]
    },
    {
     "name": "stdout",
     "output_type": "stream",
     "text": [
      "無 VERB  ═══════╗ ROOT\n",
      "是 NOUN  ═╗═╗<╗ ║ nmod\n",
      "非 NOUN  <╝ ║ ║ ║ conj\n",
      "之 SCONJ <══╝ ║ ║ case\n",
      "心 NOUN  ═════╝<╝ obj\n",
      "非 ADV   <╗       advmod\n",
      "人 NOUN  ═╝═╗     ROOT\n",
      "也 PART  <══╝     discourse:sp\n"
     ]
    },
    {
     "name": "stderr",
     "output_type": "stream",
     "text": [
      "\r"
     ]
    }
   ],
   "source": [
    "ex298 = nlp(\"無是非之心\\n非人也\")\n",
    "render(ex298)"
   ]
  },
  {
   "cell_type": "markdown",
   "metadata": {},
   "source": [
    "### b. 此"
   ]
  },
  {
   "cell_type": "code",
   "execution_count": 40,
   "metadata": {},
   "outputs": [
    {
     "name": "stderr",
     "output_type": "stream",
     "text": [
      "                                                   "
     ]
    },
    {
     "name": "stdout",
     "output_type": "stream",
     "text": [
      "此 PRON  <══╗     nsubj\n",
      "率 VERB  ═╗═╝═╗═╗ ROOT\n",
      "獸 NOUN  <╝   ║ ║ obj\n",
      "而 CCONJ <══╗ ║ ║ cc\n",
      "食 VERB  ═╗═╝<╝ ║ conj\n",
      "人 NOUN  <╝     ║ obj\n",
      "也 PART  <══════╝ discourse:sp\n"
     ]
    },
    {
     "name": "stderr",
     "output_type": "stream",
     "text": [
      "\r"
     ]
    }
   ],
   "source": [
    "ex299 = nlp(\"此率獸而食人也\")\n",
    "render(ex299)"
   ]
  },
  {
   "cell_type": "markdown",
   "metadata": {},
   "source": [
    "### c. 彼"
   ]
  },
  {
   "cell_type": "code",
   "execution_count": 41,
   "metadata": {},
   "outputs": [
    {
     "name": "stderr",
     "output_type": "stream",
     "text": [
      "                                                   "
     ]
    },
    {
     "name": "stdout",
     "output_type": "stream",
     "text": [
      "彼 PRON <══════╗   nsubj\n",
      "一 NUM  <╗     ║   nummod\n",
      "時 NOUN ═╝═══╗═╝═╗ ROOT\n",
      "此 PRON <══╗ ║   ║ nsubj\n",
      "一 NUM  <╗ ║ ║   ║ nummod\n",
      "時 NOUN ═╝═╝<╝   ║ conj\n",
      "也 PART <════════╝ discourse:sp\n"
     ]
    },
    {
     "name": "stderr",
     "output_type": "stream",
     "text": [
      "\r"
     ]
    }
   ],
   "source": [
    "ex300 = nlp(\"彼一時此一時也\")\n",
    "render(ex300)"
   ]
  },
  {
   "cell_type": "code",
   "execution_count": 42,
   "metadata": {},
   "outputs": [
    {
     "name": "stderr",
     "output_type": "stream",
     "text": [
      "                                                   "
     ]
    },
    {
     "name": "stdout",
     "output_type": "stream",
     "text": [
      "彼 PRON <══════╗ nsubj\n",
      "奪 VERB ═════╗═╝ ROOT\n",
      "其 PRON <╗   ║   det\n",
      "民 NOUN ═╝<╗ ║   nmod\n",
      "時 NOUN ═══╝<╝   obj\n"
     ]
    },
    {
     "name": "stderr",
     "output_type": "stream",
     "text": [
      "\r"
     ]
    }
   ],
   "source": [
    "ex301 = nlp(\"彼奪其民時\")\n",
    "render(ex301)"
   ]
  },
  {
   "cell_type": "code",
   "execution_count": 43,
   "metadata": {},
   "outputs": [
    {
     "name": "stderr",
     "output_type": "stream",
     "text": [
      "                                                   "
     ]
    },
    {
     "name": "stdout",
     "output_type": "stream",
     "text": [
      "彼 PRON <════╗ nsubj\n",
      "惡 ADV  <══╗ ║ advmod\n",
      "知 VERB ═╗═╝═╝ ROOT\n",
      "之 PRON <╝     obj\n"
     ]
    },
    {
     "name": "stderr",
     "output_type": "stream",
     "text": [
      "\r"
     ]
    }
   ],
   "source": [
    "ex302 = nlp(\"彼惡知之\")\n",
    "render(ex302)"
   ]
  },
  {
   "cell_type": "code",
   "execution_count": 44,
   "metadata": {},
   "outputs": [
    {
     "name": "stderr",
     "output_type": "stream",
     "text": [
      "                                                   "
     ]
    },
    {
     "name": "stdout",
     "output_type": "stream",
     "text": [
      "象 PROPN <══════════╗     nsubj\n",
      "不 ADV   <╗         ║     advmod\n",
      "得 AUX   ═╝<══════╗ ║     aux\n",
      "有 VERB  ═══════╗═╝═╝     ROOT\n",
      "為 VERB  ═════╗<╝         ccomp\n",
      "於 ADP   <══╗ ║           case\n",
      "其 PRON  <╗ ║ ║           det\n",
      "國 NOUN  ═╝═╝<╝           obl:lmod\n",
      "天 NOUN  <╗               nmod\n",
      "子 NOUN  ═╝<══════════╗   nsubj\n",
      "使 VERB  ═╗═════════╗═╝═╗ ROOT\n",
      "史 NOUN  <╝         ║   ║ obj\n",
      "治 VERB  ═══╗═════╗<╝   ║ xcomp\n",
      "其 PRON  <╗ ║     ║     ║ det\n",
      "國 NOUN  ═╝<╝     ║     ║ obj\n",
      "而 CCONJ <══════╗ ║     ║ cc\n",
      "納 VERB  ═════╗═╝<╝     ║ conj\n",
      "其 PRON  <══╗ ║         ║ det\n",
      "貢 NOUN  <╗ ║ ║         ║ nmod\n",
      "税 NOUN  ═╝═╝<╝         ║ obj\n",
      "焉 PART  <══════════════╝ discourse:sp\n",
      "故 ADV   <════════╗       advmod\n",
      "謂 VERB  ═╗═╗═══╗═╝═╗     ROOT\n",
      "之 PRON  <╝ ║   ║   ║     iobj\n",
      "放 VERB  <══╝   ║   ║     ccomp\n",
      "豈 ADV   <════╗ ║   ║     advmod\n",
      "暴 VERB  ═══╗═╝<╝   ║     ccomp\n",
      "彼 PRON  <╗ ║       ║     det\n",
      "民 NOUN  ═╝<╝       ║     obj\n",
      "哉 PART  <══════════╝     discourse:sp\n"
     ]
    },
    {
     "name": "stderr",
     "output_type": "stream",
     "text": [
      "\r"
     ]
    }
   ],
   "source": [
    "ex303 = nlp(\"象不得有為於其國\\n天子使史治其國而納其貢税焉\\n故謂之放豈暴彼民哉\")\n",
    "render(ex303)"
   ]
  },
  {
   "cell_type": "code",
   "execution_count": 45,
   "metadata": {},
   "outputs": [
    {
     "name": "stderr",
     "output_type": "stream",
     "text": [
      "                                                   "
     ]
    },
    {
     "name": "stdout",
     "output_type": "stream",
     "text": [
      "彼 PRON <════╗   det\n",
      "竊 VERB ═╗<╗ ║   acl\n",
      "鉤 NOUN <╝ ║ ║   obj\n",
      "者 PART ═══╝═╝<╗ nsubj\n",
      "誅 VERB ═══════╝ ROOT\n",
      "竊 VERB ═╗<╗     acl\n",
      "國 NOUN <╝ ║     obj\n",
      "者 PART ═══╝<╗   nsubj\n",
      "為 VERB <══╗ ║   cop\n",
      "諸 NOUN <╗ ║ ║   nmod\n",
      "侯 NOUN ═╝═╝═╝   ROOT\n"
     ]
    },
    {
     "name": "stderr",
     "output_type": "stream",
     "text": [
      "\r"
     ]
    }
   ],
   "source": [
    "ex304 = nlp(\"彼竊鉤者誅\\n竊國者為諸侯\")\n",
    "render(ex304)"
   ]
  },
  {
   "cell_type": "code",
   "execution_count": 46,
   "metadata": {},
   "outputs": [
    {
     "name": "stderr",
     "output_type": "stream",
     "text": [
      "                                                   "
     ]
    },
    {
     "name": "stdout",
     "output_type": "stream",
     "text": [
      "悲 VERB  ═╗           ROOT\n",
      "夫 PART  <╝           discourse:sp\n",
      "世 NOUN  <╗           nmod\n",
      "人 NOUN  ═╝<══════╗   nsubj\n",
      "以 VERB  ═══════╗═╝<╗ advcl\n",
      "形 NOUN  ═╗═╗═╗<╝   ║ obj\n",
      "色 NOUN  <╝ ║ ║     ║ conj\n",
      "名 NOUN  <══╝ ║     ║ conj\n",
      "聲 NOUN  <════╝     ║ conj\n",
      "為 VERB  ═════════╗═╝ ROOT\n",
      "足 AUX   ═╗<════╗ ║   aux\n",
      "以 VERB  <╝     ║ ║   fixed\n",
      "得 VERB  ═════╗═╝<╝   ccomp\n",
      "彼 PRON  ═╗<╗ ║       det\n",
      "之 SCONJ <╝ ║ ║       case\n",
      "情 NOUN  ═══╝<╝       obj\n"
     ]
    },
    {
     "name": "stderr",
     "output_type": "stream",
     "text": [
      "\r"
     ]
    }
   ],
   "source": [
    "ex305 = nlp(\"悲夫\\n世人以形色名聲為足以得彼之情\")\n",
    "render(ex305)"
   ]
  },
  {
   "cell_type": "code",
   "execution_count": 47,
   "metadata": {},
   "outputs": [
    {
     "name": "stderr",
     "output_type": "stream",
     "text": [
      "                                                   "
     ]
    },
    {
     "name": "stdout",
     "output_type": "stream",
     "text": [
      "彼 PRON  <══╗   det\n",
      "其 PRON  <╗ ║   det\n",
      "道 NOUN  ═╝═╝<╗ nsubj\n",
      "遠 VERB  ═══╗═╝ ROOT\n",
      "而 CCONJ <╗ ║   cc\n",
      "險 VERB  ═╝<╝   conj\n"
     ]
    },
    {
     "name": "stderr",
     "output_type": "stream",
     "text": [
      "\r"
     ]
    }
   ],
   "source": [
    "ex306 = nlp(\"彼其道遠而險\")\n",
    "render(ex306)"
   ]
  },
  {
   "cell_type": "code",
   "execution_count": 48,
   "metadata": {},
   "outputs": [
    {
     "name": "stderr",
     "output_type": "stream",
     "text": [
      "                                                   "
     ]
    },
    {
     "name": "stdout",
     "output_type": "stream",
     "text": [
      "此 PRON <══╗     nsubj\n",
      "其 PRON <╗ ║     det\n",
      "故 NOUN ═╝═╝<╗   nsubj\n",
      "何 PRON ═════╝═╗ ROOT\n",
      "也 PART <══════╝ discourse:sp\n"
     ]
    },
    {
     "name": "stderr",
     "output_type": "stream",
     "text": [
      "\r"
     ]
    }
   ],
   "source": [
    "ex307 = nlp(\"此其故何也\")\n",
    "render(ex307)"
   ]
  },
  {
   "cell_type": "markdown",
   "metadata": {},
   "source": [
    "### d. 斯"
   ]
  },
  {
   "cell_type": "code",
   "execution_count": 49,
   "metadata": {},
   "outputs": [
    {
     "name": "stderr",
     "output_type": "stream",
     "text": [
      "                                                   "
     ]
    },
    {
     "name": "stdout",
     "output_type": "stream",
     "text": [
      "其 PRON <════╗   nsubj\n",
      "斯 PRON <══╗ ║   obj\n",
      "之 PRON <╗ ║ ║   expl\n",
      "謂 VERB ═╝═╝═╝═╗ ROOT\n",
      "與 PART <══════╝ discourse:sp\n"
     ]
    },
    {
     "name": "stderr",
     "output_type": "stream",
     "text": [
      "\r"
     ]
    }
   ],
   "source": [
    "ex308 = nlp(\"其斯之謂與\")\n",
    "render(ex308)"
   ]
  },
  {
   "cell_type": "code",
   "execution_count": 50,
   "metadata": {},
   "outputs": [
    {
     "name": "stderr",
     "output_type": "stream",
     "text": [
      "                                                   "
     ]
    },
    {
     "name": "stdout",
     "output_type": "stream",
     "text": [
      "禮 NOUN  ═╗<╗   nsubj\n",
      "之 SCONJ <╝ ║   case\n",
      "用 VERB  ═══╝   ROOT\n",
      "和 VERB  <══╗   nsubj\n",
      "為 VERB  <╗ ║   cop\n",
      "貴 NOUN  ═╝═╝   ROOT\n",
      "先 NOUN  <══╗   nmod\n",
      "王 NOUN  ═╗═╝<╗ nmod\n",
      "之 SCONJ <╝   ║ case\n",
      "道 NOUN  ═════╝ ROOT\n",
      "斯 ADV   <══╗   nsubj\n",
      "為 VERB  <╗ ║   cop\n",
      "美 NOUN  ═╝═╝   ROOT\n"
     ]
    },
    {
     "name": "stderr",
     "output_type": "stream",
     "text": [
      "\r"
     ]
    }
   ],
   "source": [
    "ex309 = nlp(\"禮之用\\n和為貴\\n先王之道\\n斯為美\")\n",
    "render(ex309)"
   ]
  },
  {
   "cell_type": "code",
   "execution_count": 51,
   "metadata": {},
   "outputs": [
    {
     "name": "stderr",
     "output_type": "stream",
     "text": [
      "                                                   "
     ]
    },
    {
     "name": "stdout",
     "output_type": "stream",
     "text": [
      "君子 NOUN  ═╗<══╗       nsubj\n",
      "之   SCONJ <╝   ║       case\n",
      "至   VERB  ═══╗═╝═╗     ROOT\n",
      "於   ADP   <╗ ║   ║     case\n",
      "斯   PRON  ═╝<╝   ║     obl\n",
      "也   PART  <══════╝     discourse:sp\n",
      "吾   PRON  <════════╗   nsubj\n",
      "未   ADV   <══════╗ ║   advmod\n",
      "嘗   ADV   <════╗ ║ ║   advmod\n",
      "不   ADV   <╗   ║ ║ ║   advmod\n",
      "得   AUX   ═╝<╗ ║ ║ ║   aux\n",
      "見   VERB  ═══╝═╝═╝═╝═╗ ROOT\n",
      "焉   PART  <══════════╝ discourse:sp\n"
     ]
    },
    {
     "name": "stderr",
     "output_type": "stream",
     "text": [
      "\r"
     ]
    }
   ],
   "source": [
    "ex310 = nlp(\"君子之至於斯也\\n吾未嘗不得見焉\")\n",
    "render(ex310)"
   ]
  },
  {
   "cell_type": "markdown",
   "metadata": {},
   "source": [
    "### e. 兹"
   ]
  },
  {
   "cell_type": "code",
   "execution_count": 52,
   "metadata": {},
   "outputs": [
    {
     "name": "stderr",
     "output_type": "stream",
     "text": [
      "                                                   "
     ]
    },
    {
     "name": "stdout",
     "output_type": "stream",
     "text": [
      "今 NOUN <════╗ obl:tmod\n",
      "兹 PRON <══╗ ║ nsubj\n",
      "未 ADV  <╗ ║ ║ advmod\n",
      "能 AUX  ═╝═╝═╝ ROOT\n"
     ]
    },
    {
     "name": "stderr",
     "output_type": "stream",
     "text": [
      "\r"
     ]
    }
   ],
   "source": [
    "ex311 = nlp(\"今兹未能\")\n",
    "render(ex311)"
   ]
  },
  {
   "cell_type": "code",
   "execution_count": 53,
   "metadata": {},
   "outputs": [
    {
     "name": "stderr",
     "output_type": "stream",
     "text": [
      "                                                   "
     ]
    },
    {
     "name": "stdout",
     "output_type": "stream",
     "text": [
      "士 NOUN <══════╗ nsubj\n",
      "則 ADV  <════╗ ║ advmod\n",
      "兹 PRON <══╗ ║ ║ nsubj\n",
      "不 ADV  <╗ ║ ║ ║ advmod\n",
      "悦 VERB ═╝═╝═╝═╝ ROOT\n"
     ]
    },
    {
     "name": "stderr",
     "output_type": "stream",
     "text": [
      "\r"
     ]
    }
   ],
   "source": [
    "ex312 = nlp(\"士則兹不悦\")\n",
    "render(ex312)"
   ]
  },
  {
   "cell_type": "markdown",
   "metadata": {},
   "source": [
    "### f. 實 and 寔"
   ]
  },
  {
   "cell_type": "code",
   "execution_count": 54,
   "metadata": {},
   "outputs": [
    {
     "name": "stderr",
     "output_type": "stream",
     "text": [
      "                                                   "
     ]
    },
    {
     "name": "stdout",
     "output_type": "stream",
     "text": [
      "人 NOUN <════╗ nsubj\n",
      "實 ADV  <══╗ ║ advmod\n",
      "有 VERB ═╗═╝═╝ ROOT\n",
      "國 NOUN <╝     obj\n"
     ]
    },
    {
     "name": "stderr",
     "output_type": "stream",
     "text": [
      "\r"
     ]
    }
   ],
   "source": [
    "ex313 = nlp(\"人實有國\")\n",
    "render(ex313)"
   ]
  },
  {
   "cell_type": "markdown",
   "metadata": {},
   "source": [
    "### g. 時"
   ]
  },
  {
   "cell_type": "code",
   "execution_count": 55,
   "metadata": {},
   "outputs": [
    {
     "name": "stderr",
     "output_type": "stream",
     "text": [
      "                                                   "
     ]
    },
    {
     "name": "stdout",
     "output_type": "stream",
     "text": [
      "永 VERB <════╗ advmod\n",
      "锡 VERB ═══╗═╝ ROOT\n",
      "爾 PRON <╗ ║   det\n",
      "極 NOUN ═╝<╝   obj\n",
      "時 NOUN <════╗ obl:tmod\n",
      "萬 NUM  <══╗ ║ nsubj\n",
      "時 NOUN <╗ ║ ║ obl:tmod\n",
      "億 NUM  ═╝═╝═╝ ROOT\n"
     ]
    },
    {
     "name": "stderr",
     "output_type": "stream",
     "text": [
      "\r"
     ]
    }
   ],
   "source": [
    "ex314 = nlp(\"永锡爾極\\n時萬時億\")\n",
    "render(ex314)"
   ]
  },
  {
   "cell_type": "markdown",
   "metadata": {},
   "source": [
    "### h. 夫"
   ]
  },
  {
   "cell_type": "code",
   "execution_count": 56,
   "metadata": {},
   "outputs": [
    {
     "name": "stderr",
     "output_type": "stream",
     "text": [
      "                                                   "
     ]
    },
    {
     "name": "stdout",
     "output_type": "stream",
     "text": [
      "雖   ADV   <════╗         advmod\n",
      "楚   PROPN <══╗ ║         nsubj\n",
      "有   VERB  ═╗═╝═╝<╗       advcl\n",
      "財   NOUN  <╝     ║       obj\n",
      "晉   PROPN <════╗ ║       nsubj\n",
      "實   ADV   <══╗ ║ ║       advmod\n",
      "用   VERB  ═╗═╝═╝═╝       ROOT\n",
      "之   PRON  <╝             expl\n",
      "子木 PROPN <══════════╗   nsubj\n",
      "曰   VERB  ═════════╗═╝═╗ ROOT\n",
      "夫   NOUN  <══════╗ ║   ║ discourse\n",
      "獨   VERB  <════╗ ║ ║   ║ advmod\n",
      "無   VERB  ═══╗═╝═╝<╝   ║ ccomp\n",
      "族   NOUN  ═╗<╝         ║ obj\n",
      "姻   NOUN  <╝           ║ flat\n",
      "乎   PART  <════════════╝ discourse:sp\n",
      "對   VERB  <╗             advmod\n",
      "曰   VERB  ═╝             ROOT\n",
      "雖   ADV   <╗             advmod\n",
      "有   VERB  ═╝<══════╗     advcl\n",
      "而   CCONJ <════╗   ║     cc\n",
      "用   VERB  ═══╗═╝<╗ ║     csubj\n",
      "楚   PROPN <╗ ║   ║ ║     nmod\n",
      "財   NOUN  ═╝<╝   ║ ║     obj\n",
      "實   ADV   <╗     ║ ║     advmod\n",
      "多   VERB  ═╝═════╝═╝     ROOT\n"
     ]
    },
    {
     "name": "stderr",
     "output_type": "stream",
     "text": [
      "\r"
     ]
    }
   ],
   "source": [
    "ex315 = nlp(\"雖楚有財晉實用之\\n子木曰夫獨無族姻乎\\n對曰\\n雖有而用楚財實多\")\n",
    "render(ex315)"
   ]
  },
  {
   "cell_type": "code",
   "execution_count": 57,
   "metadata": {},
   "outputs": [
    {
     "name": "stderr",
     "output_type": "stream",
     "text": [
      "                                                   "
     ]
    },
    {
     "name": "stdout",
     "output_type": "stream",
     "text": [
      "夫 PART  <══════╗   discourse\n",
      "尹 PROPN ═╗<══╗ ║   nsubj\n",
      "士 PROPN <╝   ║ ║   flat\n",
      "惡 ADV   <══╗ ║ ║   advmod\n",
      "知 VERB  ═╗═╝═╝═╝═╗ ROOT\n",
      "予 PRON  <╝       ║ obj\n",
      "哉 PART  <════════╝ discourse:sp\n"
     ]
    },
    {
     "name": "stderr",
     "output_type": "stream",
     "text": [
      "\r"
     ]
    }
   ],
   "source": [
    "ex316 = nlp(\"夫尹士惡知予哉\")\n",
    "render(ex316)"
   ]
  },
  {
   "cell_type": "markdown",
   "metadata": {},
   "source": [
    "### i. 爾"
   ]
  },
  {
   "cell_type": "code",
   "execution_count": 58,
   "metadata": {},
   "outputs": [
    {
     "name": "stderr",
     "output_type": "stream",
     "text": [
      "                                                   "
     ]
    },
    {
     "name": "stdout",
     "output_type": "stream",
     "text": [
      "得 VERB ═══╗═╗   ROOT\n",
      "其 PRON <╗ ║ ║   det\n",
      "心 NOUN ═╝<╝ ║   obj\n",
      "有 VERB ═╗<══╝   conj\n",
      "道 NOUN <╝       obj\n",
      "所 PART <╗       case\n",
      "欲 VERB ═╝<══╗   nsubj\n",
      "與 VERB <╗   ║   case\n",
      "之 PRON ═╝<╗ ║   obl\n",
      "聚 VERB ═╗═╝═╝   ROOT\n",
      "之 PRON <╝       obj\n",
      "所 PART <╗       case\n",
      "惡 VERB ═╝<══╗   nsubj\n",
      "勿 ADV  <══╗ ║   advmod\n",
      "施 VERB ═╗═╝═╝═╗ ROOT\n",
      "爾 PART <╝     ║ obj\n",
      "也 PART <══════╝ discourse:sp\n"
     ]
    },
    {
     "name": "stderr",
     "output_type": "stream",
     "text": [
      "\r"
     ]
    }
   ],
   "source": [
    "ex317 = nlp(\"得其心有道\\n所欲與之聚之\\n所惡勿施爾也\")\n",
    "render(ex317)"
   ]
  },
  {
   "cell_type": "code",
   "execution_count": 59,
   "metadata": {},
   "outputs": [
    {
     "name": "stderr",
     "output_type": "stream",
     "text": [
      "                                                   "
     ]
    },
    {
     "name": "stdout",
     "output_type": "stream",
     "text": [
      "非 ADV   <════════╗   advmod\n",
      "天 NOUN  ═╗<╗     ║   nsubj\n",
      "之 SCONJ <╝ ║     ║   case\n",
      "降 VERB  ═╗═╝═╗<╗ ║   csubj\n",
      "才 NOUN  <╝   ║ ║ ║   obj\n",
      "爾 PART  <════╝ ║ ║   mark\n",
      "殊 VERB  ═══════╝═╝═╗ ROOT\n",
      "也 PART  <══════════╝ discourse:sp\n"
     ]
    },
    {
     "name": "stderr",
     "output_type": "stream",
     "text": [
      "\r"
     ]
    }
   ],
   "source": [
    "ex318 = nlp(\"非天之降才爾殊也\")\n",
    "render(ex318)"
   ]
  },
  {
   "cell_type": "markdown",
   "metadata": {},
   "source": [
    "### j. 若"
   ]
  },
  {
   "cell_type": "code",
   "execution_count": 60,
   "metadata": {},
   "outputs": [
    {
     "name": "stderr",
     "output_type": "stream",
     "text": [
      "                                                   "
     ]
    },
    {
     "name": "stdout",
     "output_type": "stream",
     "text": [
      "以 VERB ═════╗═╗ ROOT\n",
      "若 ADV  <══╗ ║ ║ advmod\n",
      "所 PART <╗ ║ ║ ║ mark\n",
      "為 VERB ═╝═╝<╝ ║ ccomp\n",
      "求 VERB ═════╗<╝ parataxis\n",
      "若 ADV  <══╗ ║   advmod\n",
      "所 PART <╗ ║ ║   mark\n",
      "欲 VERB ═╝═╝<╝   ccomp\n"
     ]
    },
    {
     "name": "stderr",
     "output_type": "stream",
     "text": [
      "\r"
     ]
    }
   ],
   "source": [
    "ex319 = nlp(\"以若所為求若所欲\")\n",
    "render(ex319)"
   ]
  },
  {
   "cell_type": "markdown",
   "metadata": {},
   "source": [
    "## 3. Interrogatives"
   ]
  },
  {
   "cell_type": "markdown",
   "metadata": {},
   "source": [
    "### a."
   ]
  },
  {
   "cell_type": "markdown",
   "metadata": {},
   "source": [
    "#### i. 誰"
   ]
  },
  {
   "cell_type": "code",
   "execution_count": 61,
   "metadata": {},
   "outputs": [
    {
     "name": "stderr",
     "output_type": "stream",
     "text": [
      "                                                   "
     ]
    },
    {
     "name": "stdout",
     "output_type": "stream",
     "text": [
      "由 ADV   <════╗     mark\n",
      "水 NOUN  ═╗<╗ ║     nsubj\n",
      "之 SCONJ <╝ ║ ║     case\n",
      "就 VERB  ═╗═╝═╝<══╗ csubj\n",
      "下 NOUN  <╝       ║ obj\n",
      "沛 VERB  ═╗<════╗ ║ advcl\n",
      "然 PART  <╝     ║ ║ fixed\n",
      "誰 PRON  <════╗ ║ ║ nsubj\n",
      "能 AUX   <══╗ ║ ║ ║ aux\n",
      "禦 VERB  ═╗═╝═╝═╝═╝ ROOT\n",
      "之 PRON  <╝         obj\n"
     ]
    },
    {
     "name": "stderr",
     "output_type": "stream",
     "text": [
      "\r"
     ]
    }
   ],
   "source": [
    "ex320 = nlp(\"由水之就下沛然誰能禦之\")\n",
    "render(ex320)"
   ]
  },
  {
   "cell_type": "code",
   "execution_count": 62,
   "metadata": {},
   "outputs": [
    {
     "name": "stderr",
     "output_type": "stream",
     "text": [
      "                                                   "
     ]
    },
    {
     "name": "stdout",
     "output_type": "stream",
     "text": [
      "鄉 NOUN <╗         nmod\n",
      "人 NOUN ═╝<════╗   nsubj\n",
      "長 VERB ═════╗═╝<╗ csubj\n",
      "於 ADP  <══╗ ║   ║ case\n",
      "伯 NOUN <╗ ║ ║   ║ nmod\n",
      "兄 NOUN ═╝═╝<╝   ║ obl\n",
      "一 NUM  ═╗═══════╝ ROOT\n",
      "歲 NOUN <╝         clf\n",
      "則 ADV  <══╗       advmod\n",
      "誰 PRON <╗ ║       nsubj\n",
      "敬 VERB ═╝═╝       ROOT\n"
     ]
    },
    {
     "name": "stderr",
     "output_type": "stream",
     "text": [
      "\r"
     ]
    }
   ],
   "source": [
    "ex321 = nlp(\"鄉人長於伯兄一歲\\n則誰敬\")\n",
    "render(ex321)"
   ]
  },
  {
   "cell_type": "code",
   "execution_count": 63,
   "metadata": {},
   "outputs": [
    {
     "name": "stderr",
     "output_type": "stream",
     "text": [
      "                                                   "
     ]
    },
    {
     "name": "stdout",
     "output_type": "stream",
     "text": [
      "追 VERB ═╗<╗     acl\n",
      "我 PRON <╝ ║     obj\n",
      "者 PART ═══╝<╗   nsubj\n",
      "誰 PRON ═════╝═╗ ROOT\n",
      "也 PART <══════╝ discourse:sp\n"
     ]
    },
    {
     "name": "stderr",
     "output_type": "stream",
     "text": [
      "\r"
     ]
    }
   ],
   "source": [
    "ex322 = nlp(\"追我者誰也\")\n",
    "render(ex322)"
   ]
  },
  {
   "cell_type": "code",
   "execution_count": 64,
   "metadata": {},
   "outputs": [
    {
     "name": "stderr",
     "output_type": "stream",
     "text": [
      "                                                   "
     ]
    },
    {
     "name": "stdout",
     "output_type": "stream",
     "text": [
      "子 PRON <══╗ nsubj\n",
      "為 VERB <╗ ║ cop\n",
      "誰 PRON ═╝═╝ ROOT\n"
     ]
    },
    {
     "name": "stderr",
     "output_type": "stream",
     "text": [
      "\r"
     ]
    }
   ],
   "source": [
    "ex323 = nlp(\"子為誰\")\n",
    "render(ex323)"
   ]
  },
  {
   "cell_type": "code",
   "execution_count": 66,
   "metadata": {},
   "outputs": [
    {
     "name": "stderr",
     "output_type": "stream",
     "text": [
      "                                                   "
     ]
    },
    {
     "name": "stdout",
     "output_type": "stream",
     "text": [
      "王 NOUN <════╗ nsubj\n",
      "誰 PRON ═╗<╗ ║ obl\n",
      "與 ADP  <╝ ║ ║ case\n",
      "為 VERB ═╗═╝═╝ ROOT\n",
      "善 NOUN <╝     obj\n"
     ]
    },
    {
     "name": "stderr",
     "output_type": "stream",
     "text": [
      "\r"
     ]
    }
   ],
   "source": [
    "ex324 = nlp(\"王誰與為善\")\n",
    "render(ex324)"
   ]
  },
  {
   "cell_type": "code",
   "execution_count": 67,
   "metadata": {},
   "outputs": [
    {
     "name": "stderr",
     "output_type": "stream",
     "text": [
      "                                                   "
     ]
    },
    {
     "name": "stdout",
     "output_type": "stream",
     "text": [
      "盜 NOUN  ═╗═╗<╗     nmod\n",
      "竊 NOUN  <╝ ║ ║     conj\n",
      "之 SCONJ <══╝ ║     case\n",
      "行 NOUN  ═════╝<══╗ dislocated\n",
      "於 ADP   <╗       ║ case\n",
      "誰 PRON  ═╝<════╗ ║ obl\n",
      "責 VERB  ═════╗═╝═╝ ROOT\n",
      "而 CCONJ <╗   ║     cc\n",
      "可 VERB  ═╝═╗<╝     conj\n",
      "乎 PART  <══╝       discourse:sp\n"
     ]
    },
    {
     "name": "stderr",
     "output_type": "stream",
     "text": [
      "\r"
     ]
    }
   ],
   "source": [
    "ex325 = nlp(\"盜竊之行於誰責而可乎\")\n",
    "render(ex325)"
   ]
  },
  {
   "cell_type": "code",
   "execution_count": 68,
   "metadata": {},
   "outputs": [
    {
     "name": "stderr",
     "output_type": "stream",
     "text": [
      "                                                   "
     ]
    },
    {
     "name": "stdout",
     "output_type": "stream",
     "text": [
      "是 PRON  <════╗   nsubj\n",
      "誰 PRON  ═╗<╗ ║   det\n",
      "之 SCONJ <╝ ║ ║   case\n",
      "過 NOUN  ═══╝═╝═╗ ROOT\n",
      "與 PART  <══════╝ discourse:sp\n"
     ]
    },
    {
     "name": "stderr",
     "output_type": "stream",
     "text": [
      "\r"
     ]
    }
   ],
   "source": [
    "ex326 = nlp(\"是誰之過與\")\n",
    "render(ex326)"
   ]
  },
  {
   "cell_type": "markdown",
   "metadata": {},
   "source": [
    "#### ii. 孰"
   ]
  },
  {
   "cell_type": "code",
   "execution_count": 69,
   "metadata": {},
   "outputs": [
    {
     "name": "stderr",
     "output_type": "stream",
     "text": [
      "                                                   "
     ]
    },
    {
     "name": "stdout",
     "output_type": "stream",
     "text": [
      "鄒 PROPN <╗           nmod\n",
      "人 NOUN  ═╝═══╗<╗     nsubj\n",
      "與 ADP   <══╗ ║ ║     cc\n",
      "楚 PROPN <╗ ║ ║ ║     nmod\n",
      "人 NOUN  ═╝═╝<╝ ║     conj\n",
      "戰 VERB  ═══════╝<══╗ advcl\n",
      "則 ADV   <════════╗ ║ advmod\n",
      "王 NOUN  <══════╗ ║ ║ nsubj\n",
      "以 VERB  <════╗ ║ ║ ║ advmod\n",
      "為 VERB  ═══╗═╝═╝═╝═╝ ROOT\n",
      "孰 PRON  <╗ ║         nsubj\n",
      "勝 VERB  ═╝<╝         ccomp\n"
     ]
    },
    {
     "name": "stderr",
     "output_type": "stream",
     "text": [
      "\r"
     ]
    }
   ],
   "source": [
    "ex327 = nlp(\"鄒人與楚人戰則王以為孰勝\")\n",
    "render(ex327)"
   ]
  },
  {
   "cell_type": "code",
   "execution_count": 70,
   "metadata": {},
   "outputs": [
    {
     "name": "stderr",
     "output_type": "stream",
     "text": [
      "                                                   "
     ]
    },
    {
     "name": "stdout",
     "output_type": "stream",
     "text": [
      "吾   PRON  <════╗     det\n",
      "子   NOUN  ═══╗═╝<╗   nmod\n",
      "與   ADP   <╗ ║   ║   cc\n",
      "子路 PROPN ═╝<╝   ║   conj\n",
      "孰   PRON  ═══════╝<╗ nsubj\n",
      "賢   VERB  ═════════╝ ROOT\n"
     ]
    },
    {
     "name": "stderr",
     "output_type": "stream",
     "text": [
      "\r"
     ]
    }
   ],
   "source": [
    "ex328 = nlp(\"吾子與子路孰賢\")\n",
    "render(ex328)"
   ]
  },
  {
   "cell_type": "code",
   "execution_count": 71,
   "metadata": {},
   "outputs": [
    {
     "name": "stderr",
     "output_type": "stream",
     "text": [
      "                                                   "
     ]
    },
    {
     "name": "stdout",
     "output_type": "stream",
     "text": [
      "孰 PRON <════╗ nsubj\n",
      "能 AUX  <══╗ ║ aux\n",
      "一 VERB ═╗═╝═╝ ROOT\n",
      "之 PRON <╝     obj\n",
      "孰 PRON <════╗ nsubj\n",
      "能 AUX  <══╗ ║ aux\n",
      "與 VERB ═╗═╝═╝ ROOT\n",
      "之 PRON <╝     obj\n"
     ]
    },
    {
     "name": "stderr",
     "output_type": "stream",
     "text": [
      "\r"
     ]
    }
   ],
   "source": [
    "ex329 = nlp(\"孰能一之\\n孰能與之\")\n",
    "render(ex329)"
   ]
  },
  {
   "cell_type": "code",
   "execution_count": 72,
   "metadata": {},
   "outputs": [
    {
     "name": "stderr",
     "output_type": "stream",
     "text": [
      "                                                   "
     ]
    },
    {
     "name": "stdout",
     "output_type": "stream",
     "text": [
      "獨 VERB <══╗     advmod\n",
      "樂 VERB ═╗═╝═╗<╗ advcl\n",
      "樂 NOUN <╝   ║ ║ obj\n",
      "與 ADP  <╗   ║ ║ case\n",
      "人 NOUN ═╝<╗ ║ ║ obl\n",
      "樂 VERB ═╗═╝<╝ ║ conj\n",
      "樂 NOUN <╝     ║ obj\n",
      "孰 PRON <╗     ║ nsubj\n",
      "樂 VERB ═╝═════╝ ROOT\n"
     ]
    },
    {
     "name": "stderr",
     "output_type": "stream",
     "text": [
      "\r"
     ]
    }
   ],
   "source": [
    "ex330 = nlp(\"獨樂樂與人樂樂孰樂\")\n",
    "render(ex330)"
   ]
  },
  {
   "cell_type": "code",
   "execution_count": 73,
   "metadata": {},
   "outputs": [
    {
     "name": "stderr",
     "output_type": "stream",
     "text": [
      "                                                   "
     ]
    },
    {
     "name": "stdout",
     "output_type": "stream",
     "text": [
      "早 VERB <══╗       advmod\n",
      "救 VERB ═╗═╝<════╗ csubj\n",
      "之 PRON <╝       ║ obj\n",
      "孰 PRON ═╗<══╗   ║ obl\n",
      "與 ADP  <╝   ║   ║ case\n",
      "晚 NOUN <══╗ ║   ║ advmod\n",
      "救 VERB ═╗═╝═╝<╗ ║ csubj\n",
      "之 PRON <╝     ║ ║ obj\n",
      "便 VERB ═══════╝═╝ ROOT\n"
     ]
    },
    {
     "name": "stderr",
     "output_type": "stream",
     "text": [
      "\r"
     ]
    }
   ],
   "source": [
    "ex331 = nlp(\"早救之孰與晚救之便\")\n",
    "render(ex331)"
   ]
  },
  {
   "cell_type": "code",
   "execution_count": 74,
   "metadata": {},
   "outputs": [
    {
     "name": "stderr",
     "output_type": "stream",
     "text": [
      "                                                   "
     ]
    },
    {
     "name": "stdout",
     "output_type": "stream",
     "text": [
      "從 VERB  ═╗═══╗<══╗ advcl\n",
      "天 NOUN  <╝   ║   ║ obj\n",
      "而 CCONJ <══╗ ║   ║ cc\n",
      "頌 VERB  ═╗═╝<╝   ║ conj\n",
      "之 PRON  <╝       ║ obj\n",
      "孰 PRON  ═╗<══╗   ║ obl\n",
      "與 ADP   <╝   ║   ║ case\n",
      "制 VERB  ═══╗═╝═╗═╝ ROOT\n",
      "天 NOUN  <╗ ║   ║   nmod\n",
      "命 NOUN  ═╝<╝   ║   obj\n",
      "而 CCONJ <══╗   ║   cc\n",
      "用 VERB  ═╗═╝<══╝   conj\n",
      "之 PRON  <╝         obj\n"
     ]
    },
    {
     "name": "stderr",
     "output_type": "stream",
     "text": [
      "\r"
     ]
    }
   ],
   "source": [
    "ex332 = nlp(\"從天而頌之孰與制天命而用之\")\n",
    "render(ex332)"
   ]
  },
  {
   "cell_type": "code",
   "execution_count": 76,
   "metadata": {},
   "outputs": [
    {
     "name": "stderr",
     "output_type": "stream",
     "text": [
      "                                                   "
     ]
    },
    {
     "name": "stdout",
     "output_type": "stream",
     "text": [
      "聖 NOUN <╗     nmod\n",
      "人 NOUN ═╝<╗   nsubj\n",
      "有 VERB ═╗═╝   ROOT\n",
      "百 NUM  <╝     obj\n",
      "吾 PRON <══╗   nsubj\n",
      "孰 PRON <╗ ║   obj\n",
      "法 VERB ═╝═╝═╗ ROOT\n",
      "焉 PART <════╝ discourse:sp\n"
     ]
    },
    {
     "name": "stderr",
     "output_type": "stream",
     "text": [
      "\r"
     ]
    }
   ],
   "source": [
    "ex333 = nlp(\"聖人有百\\n吾孰法焉\")\n",
    "render(ex333)"
   ]
  },
  {
   "cell_type": "markdown",
   "metadata": {},
   "source": [
    "#### iii. 疇"
   ]
  },
  {
   "cell_type": "markdown",
   "metadata": {},
   "source": [
    "### b."
   ]
  },
  {
   "cell_type": "markdown",
   "metadata": {},
   "source": [
    "#### i. 何"
   ]
  },
  {
   "cell_type": "code",
   "execution_count": 77,
   "metadata": {},
   "outputs": [
    {
     "name": "stderr",
     "output_type": "stream",
     "text": [
      "                                                   "
     ]
    },
    {
     "name": "stdout",
     "output_type": "stream",
     "text": [
      "其 PRON <╗   nsubj\n",
      "釣 VERB ═╝<╗ csubj\n",
      "維 PRON <╗ ║ expl\n",
      "何 PRON ═╝═╝ ROOT\n"
     ]
    },
    {
     "name": "stderr",
     "output_type": "stream",
     "text": [
      "\r"
     ]
    }
   ],
   "source": [
    "ex334 = nlp(\"其釣維何\")\n",
    "render(ex334)"
   ]
  },
  {
   "cell_type": "code",
   "execution_count": 78,
   "metadata": {},
   "outputs": [
    {
     "name": "stderr",
     "output_type": "stream",
     "text": [
      "                                                   "
     ]
    },
    {
     "name": "stdout",
     "output_type": "stream",
     "text": [
      "此 PRON <╗   det\n",
      "日 NOUN ═╝<╗ obl:tmod\n",
      "有 VERB ═╗═╝ ROOT\n",
      "食 VERB <╝   obj\n",
      "于 ADP  <╗   case\n",
      "何 PRON ═╝<╗ obl\n",
      "不 ADV  <╗ ║ advmod\n",
      "臧 VERB ═╝═╝ ROOT\n"
     ]
    },
    {
     "name": "stderr",
     "output_type": "stream",
     "text": [
      "\r"
     ]
    }
   ],
   "source": [
    "ex335 = nlp(\"此日有食\\n于何不臧\")\n",
    "render(ex335)"
   ]
  },
  {
   "cell_type": "code",
   "execution_count": 83,
   "metadata": {},
   "outputs": [
    {
     "name": "stderr",
     "output_type": "stream",
     "text": [
      "                                                   "
     ]
    },
    {
     "name": "stdout",
     "output_type": "stream",
     "text": [
      "有 VERB  ═════╗           ROOT\n",
      "本 VERB  ═╗<╗ ║           acl\n",
      "之 PRON  <╝ ║ ║           obj\n",
      "者 PART  ═══╝<╝           obj\n",
      "於 ADP   <╗               case\n",
      "何 PRON  ═╝<╗             obl\n",
      "本 VERB  ═╗═╝             ROOT\n",
      "之 SCONJ <╝               obj\n",
      "上 NOUN  <══════════════╗ nsubj\n",
      "本 VERB  ═╗═══════════╗═╝ ROOT\n",
      "之 PRON  <╝           ║   obj\n",
      "於 ADP   <══════════╗ ║   case\n",
      "古 NOUN  <══════╗   ║ ║   nmod\n",
      "者 PART  ═══╗═╗═╝<╗ ║ ║   nmod\n",
      "聖 NOUN  <╗ ║ ║   ║ ║ ║   nmod\n",
      "王 NOUN  ═╝<╝ ║   ║ ║ ║   flat\n",
      "之 SCONJ <════╝   ║ ║ ║   case\n",
      "事 NOUN  ═════════╝═╝<╝   obl\n"
     ]
    },
    {
     "name": "stderr",
     "output_type": "stream",
     "text": [
      "\r"
     ]
    }
   ],
   "source": [
    "ex336 = nlp(\"有本之者\\n於何本之\\n上本之於古者聖王之事\")\n",
    "render(ex336)"
   ]
  },
  {
   "cell_type": "code",
   "execution_count": 84,
   "metadata": {},
   "outputs": [
    {
     "name": "stderr",
     "output_type": "stream",
     "text": [
      "                                                   "
     ]
    },
    {
     "name": "stdout",
     "output_type": "stream",
     "text": [
      "夜 NOUN <══╗   obj\n",
      "如 VERB ═╗═╝═╗ ROOT\n",
      "何 PRON <╝   ║ xcomp\n",
      "其 PRON <════╝ discourse:sp\n"
     ]
    },
    {
     "name": "stderr",
     "output_type": "stream",
     "text": [
      "\r"
     ]
    }
   ],
   "source": [
    "ex337 = nlp(\"夜如何其\")\n",
    "render(ex337)"
   ]
  },
  {
   "cell_type": "code",
   "execution_count": 85,
   "metadata": {},
   "outputs": [
    {
     "name": "stderr",
     "output_type": "stream",
     "text": [
      "                                                   "
     ]
    },
    {
     "name": "stdout",
     "output_type": "stream",
     "text": [
      "其 PRON <╗   det\n",
      "名 NOUN ═╝<╗ nsubj\n",
      "云 VERB ═╗═╝ ROOT\n",
      "何 PRON <╝   obj\n"
     ]
    },
    {
     "name": "stderr",
     "output_type": "stream",
     "text": [
      "\r"
     ]
    }
   ],
   "source": [
    "ex338 = nlp(\"其名云何\")\n",
    "render(ex338)"
   ]
  },
  {
   "cell_type": "code",
   "execution_count": 86,
   "metadata": {},
   "outputs": [
    {
     "name": "stderr",
     "output_type": "stream",
     "text": [
      "                                                   "
     ]
    },
    {
     "name": "stdout",
     "output_type": "stream",
     "text": [
      "子張 PROPN <══════╗ nsubj\n",
      "曰   VERB  ═════╗═╝ ROOT\n",
      "子夏 PROPN <══╗ ║   nsubj\n",
      "云   VERB  ═╗═╝<╝   ccomp\n",
      "何   PRON  <╝       obj\n"
     ]
    },
    {
     "name": "stderr",
     "output_type": "stream",
     "text": [
      "\r"
     ]
    }
   ],
   "source": [
    "ex339 = nlp(\"子張曰子夏云何\")\n",
    "render(ex339)"
   ]
  },
  {
   "cell_type": "code",
   "execution_count": 87,
   "metadata": {},
   "outputs": [
    {
     "name": "stderr",
     "output_type": "stream",
     "text": [
      "                                                   "
     ]
    },
    {
     "name": "stdout",
     "output_type": "stream",
     "text": [
      "寇 NOUN ═╗<╗   nsubj\n",
      "讎 NOUN <╝ ║   conj\n",
      "何 PRON <╗ ║   advmod\n",
      "服 VERB ═╝═╝<╗ ccomp\n",
      "之 PRON <╗   ║ expl\n",
      "有 VERB ═╝═══╝ ROOT\n"
     ]
    },
    {
     "name": "stderr",
     "output_type": "stream",
     "text": [
      "\r"
     ]
    }
   ],
   "source": [
    "ex340 = nlp(\"寇讎何服之有\")\n",
    "render(ex340)"
   ]
  },
  {
   "cell_type": "code",
   "execution_count": 88,
   "metadata": {},
   "outputs": [
    {
     "name": "stderr",
     "output_type": "stream",
     "text": [
      "                                                   "
     ]
    },
    {
     "name": "stdout",
     "output_type": "stream",
     "text": [
      "今 NOUN <════════╗ obl:tmod\n",
      "兹 PRON <══╗     ║ det\n",
      "诸 NOUN <╗ ║     ║ nmod\n",
      "侯 NOUN ═╝═╝<╗   ║ nsubj\n",
      "何 ADV  <══╗ ║   ║ advmod\n",
      "實 ADV  <╗ ║ ║   ║ advmod\n",
      "吉 VERB ═╝═╝═╝<╗ ║ csubj\n",
      "何 ADV  <══╗   ║ ║ advmod\n",
      "實 ADV  <╗ ║   ║ ║ advmod\n",
      "凶 VERB ═╝═╝═══╝═╝ ROOT\n"
     ]
    },
    {
     "name": "stderr",
     "output_type": "stream",
     "text": [
      "\r"
     ]
    }
   ],
   "source": [
    "ex341 = nlp(\"今兹诸侯何實吉何實凶\")\n",
    "render(ex341)"
   ]
  }
 ],
 "metadata": {
  "interpreter": {
   "hash": "0364c37b15e7a6e1c36ca05f1a9e06ef739d4c2650a4a4d0869c3126484e1dba"
  },
  "kernelspec": {
   "display_name": "Python 3.8.10 ('nlp')",
   "language": "python",
   "name": "python3"
  },
  "language_info": {
   "codemirror_mode": {
    "name": "ipython",
    "version": 3
   },
   "file_extension": ".py",
   "mimetype": "text/x-python",
   "name": "python",
   "nbconvert_exporter": "python",
   "pygments_lexer": "ipython3",
   "version": "3.8.10"
  },
  "orig_nbformat": 4
 },
 "nbformat": 4,
 "nbformat_minor": 2
}
