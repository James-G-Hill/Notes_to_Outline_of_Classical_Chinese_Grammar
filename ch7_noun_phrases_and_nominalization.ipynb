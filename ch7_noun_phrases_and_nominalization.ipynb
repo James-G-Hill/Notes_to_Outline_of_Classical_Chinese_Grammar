{
 "cells": [
  {
   "cell_type": "markdown",
   "metadata": {},
   "source": [
    "# VII. Noun Phrases and Nominalization"
   ]
  },
  {
   "cell_type": "code",
   "execution_count": 1,
   "metadata": {},
   "outputs": [
    {
     "name": "stderr",
     "output_type": "stream",
     "text": [
      "Some weights of the model checkpoint at KoichiYasuoka/roberta-classical-chinese-large-char were not used when initializing RobertaModel: ['lm_head.layer_norm.weight', 'lm_head.decoder.bias', 'lm_head.decoder.weight', 'lm_head.bias', 'lm_head.dense.bias', 'lm_head.dense.weight', 'lm_head.layer_norm.bias']\n",
      "- This IS expected if you are initializing RobertaModel from the checkpoint of a model trained on another task or with another architecture (e.g. initializing a BertForSequenceClassification model from a BertForPreTraining model).\n",
      "- This IS NOT expected if you are initializing RobertaModel from the checkpoint of a model that you expect to be exactly identical (initializing a BertForSequenceClassification model from a BertForSequenceClassification model).\n"
     ]
    }
   ],
   "source": [
    "from deplacy import (\n",
    "    dot,\n",
    "    render,\n",
    "    to_conllu\n",
    ")\n",
    "from lzh_helpers.serve import serve\n",
    "from suparkanbun import load\n",
    "from transformers import logging\n",
    "\n",
    "logging.logging.disable(logging.INFO)\n",
    "\n",
    "nlp = load(BERT=\"roberta-classical-chinese-large-char\", Danku=False)"
   ]
  },
  {
   "cell_type": "markdown",
   "metadata": {},
   "source": [
    "## 1. Coordination and Subordination of Nouns"
   ]
  },
  {
   "cell_type": "markdown",
   "metadata": {},
   "source": [
    "### a. Coordination"
   ]
  },
  {
   "cell_type": "code",
   "execution_count": 2,
   "metadata": {},
   "outputs": [
    {
     "name": "stderr",
     "output_type": "stream",
     "text": [
      "                                                   "
     ]
    },
    {
     "name": "stdout",
     "output_type": "stream",
     "text": [
      "子 NOUN <══════════╗ nsubj\n",
      "罕 VERB <════════╗ ║ advmod\n",
      "言 VERB ═══════╗═╝═╝ ROOT\n",
      "利 NOUN ═══╗═╗<╝     obj\n",
      "與 ADP  <╗ ║ ║       cc\n",
      "命 NOUN ═╝<╝ ║       conj\n",
      "與 ADP  <╗   ║       cc\n",
      "仁 NOUN ═╝<══╝       conj\n"
     ]
    },
    {
     "name": "stderr",
     "output_type": "stream",
     "text": [
      "\r"
     ]
    }
   ],
   "source": [
    "ex198 = nlp(\"子罕言利與命與仁\")\n",
    "render(ex198)"
   ]
  },
  {
   "cell_type": "code",
   "execution_count": 3,
   "metadata": {},
   "outputs": [
    {
     "name": "stderr",
     "output_type": "stream",
     "text": [
      "                                                   "
     ]
    },
    {
     "name": "stdout",
     "output_type": "stream",
     "text": [
      "予 PRON ═══╗<╗ nsubj\n",
      "及 ADP  <╗ ║ ║ cc\n",
      "汝 PRON ═╝<╝ ║ conj\n",
      "皆 ADV  <╗   ║ advmod\n",
      "亡 VERB ═╝═══╝ ROOT\n"
     ]
    },
    {
     "name": "stderr",
     "output_type": "stream",
     "text": [
      "\r"
     ]
    }
   ],
   "source": [
    "ex199 = nlp(\"予及汝皆亡\")\n",
    "render(ex199)"
   ]
  },
  {
   "cell_type": "code",
   "execution_count": 4,
   "metadata": {},
   "outputs": [
    {
     "name": "stderr",
     "output_type": "stream",
     "text": [
      "                                                   "
     ]
    },
    {
     "name": "stdout",
     "output_type": "stream",
     "text": [
      "宋 PROPN ═══╗<╗ nsubj\n",
      "及 ADP   <╗ ║ ║ cc\n",
      "鄭 PROPN ═╝<╝ ║ conj\n",
      "平 VERB  ═════╝ ROOT\n"
     ]
    },
    {
     "name": "stderr",
     "output_type": "stream",
     "text": [
      "\r"
     ]
    }
   ],
   "source": [
    "ex200 = nlp(\"宋及鄭平\")\n",
    "render(ex200)"
   ]
  },
  {
   "cell_type": "markdown",
   "metadata": {},
   "source": [
    "### b. Subordination"
   ]
  },
  {
   "cell_type": "code",
   "execution_count": 5,
   "metadata": {},
   "outputs": [
    {
     "name": "stderr",
     "output_type": "stream",
     "text": [
      "                                                   "
     ]
    },
    {
     "name": "stdout",
     "output_type": "stream",
     "text": [
      "王 NOUN  ═╗<╗ nmod\n",
      "之 SCONJ <╝ ║ case\n",
      "諸 NOUN  <╗ ║ nmod\n",
      "臣 NOUN  ═╝═╝ ROOT\n"
     ]
    },
    {
     "name": "stderr",
     "output_type": "stream",
     "text": [
      "\r"
     ]
    }
   ],
   "source": [
    "ex201 = nlp(\"王之諸臣\")\n",
    "render(ex201)"
   ]
  },
  {
   "cell_type": "code",
   "execution_count": 6,
   "metadata": {},
   "outputs": [
    {
     "name": "stderr",
     "output_type": "stream",
     "text": [
      "                                                   "
     ]
    },
    {
     "name": "stdout",
     "output_type": "stream",
     "text": [
      "勞 VERB ═════╗ ROOT\n",
      "於 ADP  <══╗ ║ case\n",
      "王 NOUN <╗ ║ ║ nmod\n",
      "事 NOUN ═╝═╝<╝ obl\n"
     ]
    },
    {
     "name": "stderr",
     "output_type": "stream",
     "text": [
      "\r"
     ]
    }
   ],
   "source": [
    "ex202 = nlp(\"勞於王事\")\n",
    "render(ex202)"
   ]
  },
  {
   "cell_type": "code",
   "execution_count": 7,
   "metadata": {},
   "outputs": [
    {
     "name": "stderr",
     "output_type": "stream",
     "text": [
      "                                                   "
     ]
    },
    {
     "name": "stdout",
     "output_type": "stream",
     "text": [
      "不 ADV   <════╗   advmod\n",
      "忍 VERB  ═╗═╗═╝<╗ acl\n",
      "人 NOUN  <╝ ║   ║ obj\n",
      "之 SCONJ <══╝   ║ mark\n",
      "心 NOUN  ═══════╝ ROOT\n"
     ]
    },
    {
     "name": "stderr",
     "output_type": "stream",
     "text": [
      "\r"
     ]
    }
   ],
   "source": [
    "ex203 = nlp(\"不忍人之心\")\n",
    "render(ex203)"
   ]
  },
  {
   "cell_type": "code",
   "execution_count": 8,
   "metadata": {},
   "outputs": [
    {
     "name": "stderr",
     "output_type": "stream",
     "text": [
      "                                                   "
     ]
    },
    {
     "name": "stdout",
     "output_type": "stream",
     "text": [
      "侮 VERB  ═╗═══╗ ROOT\n",
      "奪 VERB  <╝   ║ flat:vv\n",
      "人 NOUN  ═╗<╗ ║ nmod\n",
      "之 SCONJ <╝ ║ ║ case\n",
      "君 NOUN  ═══╝<╝ obj\n"
     ]
    },
    {
     "name": "stderr",
     "output_type": "stream",
     "text": [
      "\r"
     ]
    }
   ],
   "source": [
    "ex204 = nlp(\"侮奪人之君\")\n",
    "render(ex204)"
   ]
  },
  {
   "cell_type": "code",
   "execution_count": 9,
   "metadata": {},
   "outputs": [
    {
     "name": "stderr",
     "output_type": "stream",
     "text": [
      "                                                   "
     ]
    },
    {
     "name": "stdout",
     "output_type": "stream",
     "text": [
      "賢 VERB  <══╗   amod\n",
      "聖 NOUN  ═╗═╝<╗ nmod\n",
      "之 SCONJ <╝   ║ case\n",
      "君 NOUN  ═════╝ ROOT\n"
     ]
    },
    {
     "name": "stderr",
     "output_type": "stream",
     "text": [
      "\r"
     ]
    }
   ],
   "source": [
    "ex205 = nlp(\"賢聖之君\")\n",
    "render(ex205)"
   ]
  },
  {
   "cell_type": "code",
   "execution_count": 10,
   "metadata": {},
   "outputs": [
    {
     "name": "stderr",
     "output_type": "stream",
     "text": [
      "                                                   "
     ]
    },
    {
     "name": "stdout",
     "output_type": "stream",
     "text": [
      "滕 PROPN <╗         nmod\n",
      "君 NOUN  ═╝<════╗   nsubj\n",
      "則 ADV   <════╗ ║   advmod\n",
      "誠 VERB  <══╗ ║ ║   advmod\n",
      "賢 VERB  <╗ ║ ║ ║   amod\n",
      "君 NOUN  ═╝═╝═╝═╝═╗ ROOT\n",
      "也 PART  <════════╝ discourse:sp\n"
     ]
    },
    {
     "name": "stderr",
     "output_type": "stream",
     "text": [
      "\r"
     ]
    }
   ],
   "source": [
    "ex206 = nlp(\"滕君則誠賢君也\")\n",
    "render(ex206)"
   ]
  },
  {
   "cell_type": "markdown",
   "metadata": {},
   "source": [
    "## 2. Nominalization"
   ]
  },
  {
   "cell_type": "markdown",
   "metadata": {},
   "source": [
    "### a. Unmarked Nominalization"
   ]
  },
  {
   "cell_type": "code",
   "execution_count": 11,
   "metadata": {},
   "outputs": [
    {
     "name": "stderr",
     "output_type": "stream",
     "text": [
      "                                                   "
     ]
    },
    {
     "name": "stdout",
     "output_type": "stream",
     "text": [
      "是 PRON <══╗     nsubj\n",
      "不 ADV  <╗ ║     advmod\n",
      "為 VERB ═╝═╝═╗═╗ ROOT\n",
      "也 PART <════╝ ║ discourse:sp\n",
      "非 ADV  <══╗   ║ advmod\n",
      "不 ADV  <╗ ║   ║ advmod\n",
      "能 AUX  ═╝═╝═╗<╝ parataxis\n",
      "也 PART <════╝   discourse:sp\n"
     ]
    },
    {
     "name": "stderr",
     "output_type": "stream",
     "text": [
      "\r"
     ]
    }
   ],
   "source": [
    "ex207 = nlp(\"是不為也非不能也\")\n",
    "render(ex207)"
   ]
  },
  {
   "cell_type": "code",
   "execution_count": 12,
   "metadata": {},
   "outputs": [
    {
     "name": "stderr",
     "output_type": "stream",
     "text": [
      "                                                   "
     ]
    },
    {
     "name": "stdout",
     "output_type": "stream",
     "text": [
      "是 PRON <══╗   nsubj\n",
      "亦 ADV  <╗ ║   advmod\n",
      "走 VERB ═╝═╝═╗ ROOT\n",
      "也 PART <════╝ discourse:sp\n"
     ]
    },
    {
     "name": "stderr",
     "output_type": "stream",
     "text": [
      "\r"
     ]
    }
   ],
   "source": [
    "ex208 = nlp(\"是亦走也\")\n",
    "render(ex208)"
   ]
  },
  {
   "cell_type": "code",
   "execution_count": 14,
   "metadata": {},
   "outputs": [
    {
     "name": "stderr",
     "output_type": "stream",
     "text": [
      "                                                   "
     ]
    },
    {
     "name": "stdout",
     "output_type": "stream",
     "text": [
      "使 VERB  ═╗═════╗ ROOT\n",
      "之 PRON  <╝     ║ obj\n",
      "主 VERB  ═╗═══╗<╝ xcomp\n",
      "事 NOUN  <╝   ║   obj\n",
      "而 CCONJ <══╗ ║   cc\n",
      "事 NOUN  <╗ ║ ║   nsubj\n",
      "治 VERB  ═╝═╝<╝   conj\n",
      "百 NUM   <╗       compound\n",
      "姓 NOUN  ═╝<╗     nsubj\n",
      "安 VERB  ═╗═╝     ROOT\n",
      "之 PRON  <╝       obj\n",
      "是 PRON  <════╗   nsubj\n",
      "民 NOUN  <══╗ ║   nsubj\n",
      "受 VERB  ═╗═╝═╝═╗ ROOT\n",
      "之 PRON  <╝     ║ obj\n",
      "也 PART  <══════╝ discourse:sp\n"
     ]
    },
    {
     "name": "stderr",
     "output_type": "stream",
     "text": [
      "\r"
     ]
    }
   ],
   "source": [
    "ex209 = nlp(\"使之主事而事治\\n百姓安之\\n是民受之也\")\n",
    "render(ex209)"
   ]
  },
  {
   "cell_type": "code",
   "execution_count": 16,
   "metadata": {},
   "outputs": [
    {
     "name": "stderr",
     "output_type": "stream",
     "text": [
      "                                                   "
     ]
    },
    {
     "name": "stdout",
     "output_type": "stream",
     "text": [
      "于 PROPN ═════════╗ ROOT\n",
      "越 PROPN <══════╗ ║ nmod\n",
      "夷 PROPN <╗     ║ ║ compound\n",
      "狢 PROPN ═╝═╗<╗ ║ ║ nmod\n",
      "之 SCONJ <══╝ ║ ║ ║ case\n",
      "子 NOUN  ═════╝═╝<╝ obj\n",
      "生 VERB  ═════╗     ROOT\n",
      "而 CCONJ <══╗ ║     cc\n",
      "同 VERB  ═╗═╝<╝     conj\n",
      "聲 NOUN  <╝         obj\n",
      "長 VERB  ═════╗     ROOT\n",
      "而 CCONJ <══╗ ║     cc\n",
      "異 VERB  ═╗═╝<╝     conj\n",
      "俗 NOUN  <╝         obj\n",
      "教 NOUN  <════╗     nsubj\n",
      "使 VERB  ═╗═╗═╝═╗   ROOT\n",
      "之 PRON  <╝ ║   ║   obj\n",
      "然 VERB  <══╝   ║   xcomp\n",
      "也 PART  <══════╝   discourse:sp\n"
     ]
    },
    {
     "name": "stderr",
     "output_type": "stream",
     "text": [
      "\r"
     ]
    }
   ],
   "source": [
    "ex210 = nlp(\"于越夷狢之子\\n生而同聲\\n長而異俗\\n教使之然也\")\n",
    "render(ex210)"
   ]
  },
  {
   "cell_type": "code",
   "execution_count": 17,
   "metadata": {},
   "outputs": [
    {
     "name": "stderr",
     "output_type": "stream",
     "text": [
      "                                                   "
     ]
    },
    {
     "name": "stdout",
     "output_type": "stream",
     "text": [
      "王 NOUN  <══╗     nmod\n",
      "道 NOUN  ═╗═╝<╗   nsubj\n",
      "之 SCONJ <╝   ║   case\n",
      "始 NOUN  ═════╝═╗ ROOT\n",
      "也 PART  <══════╝ discourse:sp\n"
     ]
    },
    {
     "name": "stderr",
     "output_type": "stream",
     "text": [
      "\r"
     ]
    }
   ],
   "source": [
    "ex211 = nlp(\"王道之始也\")\n",
    "render(ex211)"
   ]
  },
  {
   "cell_type": "markdown",
   "metadata": {},
   "source": [
    "### b. Marked Nominalization by Inserting Zhi 之"
   ]
  },
  {
   "cell_type": "code",
   "execution_count": 18,
   "metadata": {},
   "outputs": [
    {
     "name": "stderr",
     "output_type": "stream",
     "text": [
      "                                                   "
     ]
    },
    {
     "name": "stdout",
     "output_type": "stream",
     "text": [
      "故 ADV   <══════╗     advmod\n",
      "王 NOUN  ═╗<╗   ║     nsubj\n",
      "之 SCONJ <╝ ║   ║     case\n",
      "不 ADV   <╗ ║   ║     advmod\n",
      "王 VERB  ═╝═╝<╗ ║     csubj\n",
      "不 ADV   <╗   ║ ║     advmod\n",
      "為 VERB  ═╝═══╝═╝═╗═╗ ROOT\n",
      "也 PART  <════════╝ ║ discourse:sp\n",
      "非 ADV   <══╗       ║ advmod\n",
      "不 ADV   <╗ ║       ║ advmod\n",
      "能 AUX   ═╝═╝═╗<════╝ parataxis\n",
      "也 PART  <════╝       discourse:sp\n"
     ]
    },
    {
     "name": "stderr",
     "output_type": "stream",
     "text": [
      "\r"
     ]
    }
   ],
   "source": [
    "ex212 = nlp(\"故王之不王不為也非不能也\")\n",
    "render(ex212)"
   ]
  },
  {
   "cell_type": "code",
   "execution_count": 19,
   "metadata": {},
   "outputs": [
    {
     "name": "stderr",
     "output_type": "stream",
     "text": [
      "                                                   "
     ]
    },
    {
     "name": "stdout",
     "output_type": "stream",
     "text": [
      "王 NOUN  <════════════╗   nsubj\n",
      "若 ADV   <══════════╗ ║   advmod\n",
      "隱 VERB  ═════════╗═╝═╝<╗ advcl\n",
      "其 PRON  <══╗     ║     ║ nsubj\n",
      "無 VERB  ═╗═╝═══╗<╝     ║ ccomp\n",
      "罪 NOUN  <╝     ║       ║ obj\n",
      "而 CCONJ <════╗ ║       ║ cc\n",
      "就 VERB  ═══╗═╝<╝       ║ conj\n",
      "死 VERB  <╗ ║           ║ amod\n",
      "地 NOUN  ═╝<╝           ║ obj\n",
      "則 ADV   <══════╗       ║ advmod\n",
      "牛 NOUN  ═╗<══╗ ║       ║ nsubj\n",
      "羊 NOUN  <╝   ║ ║       ║ flat\n",
      "何 ADV   <══╗ ║ ║       ║ advmod\n",
      "擇 VERB  ═╗═╝═╝═╝═══════╝ ROOT\n",
      "焉 PRON  <╝               obl\n"
     ]
    },
    {
     "name": "stderr",
     "output_type": "stream",
     "text": [
      "\r"
     ]
    }
   ],
   "source": [
    "ex213 = nlp(\"王若隱其無罪而就死地則牛羊何擇焉\")\n",
    "render(ex213)"
   ]
  },
  {
   "cell_type": "code",
   "execution_count": 20,
   "metadata": {},
   "outputs": [
    {
     "name": "stderr",
     "output_type": "stream",
     "text": [
      "                                                   "
     ]
    },
    {
     "name": "stdout",
     "output_type": "stream",
     "text": [
      "何 PRON ═╗<══╗   obl\n",
      "由 ADP  <╝   ║   case\n",
      "知 VERB ═══╗═╝═╗ ROOT\n",
      "吾 PRON <╗ ║   ║ nsubj\n",
      "可 VERB ═╝<╝   ║ ccomp\n",
      "也 PART <══════╝ discourse:sp\n"
     ]
    },
    {
     "name": "stderr",
     "output_type": "stream",
     "text": [
      "\r"
     ]
    }
   ],
   "source": [
    "ex214 = nlp(\"何由知吾可也\")\n",
    "render(ex214)"
   ]
  },
  {
   "cell_type": "code",
   "execution_count": 21,
   "metadata": {},
   "outputs": [
    {
     "name": "stderr",
     "output_type": "stream",
     "text": [
      "                                                   "
     ]
    },
    {
     "name": "stdout",
     "output_type": "stream",
     "text": [
      "比 VERB ═══╗═╗ ROOT\n",
      "其 PRON <╗ ║ ║ nsubj\n",
      "反 VERB ═╝<╝ ║ ccomp\n",
      "也 PART <════╝ discourse:sp\n"
     ]
    },
    {
     "name": "stderr",
     "output_type": "stream",
     "text": [
      "\r"
     ]
    }
   ],
   "source": [
    "ex215 = nlp(\"比其反也\")\n",
    "render(ex215)"
   ]
  },
  {
   "cell_type": "code",
   "execution_count": 23,
   "metadata": {},
   "outputs": [
    {
     "name": "stderr",
     "output_type": "stream",
     "text": [
      "                                                   "
     ]
    },
    {
     "name": "stdout",
     "output_type": "stream",
     "text": [
      "成季 PROPN ═╗<╗     nsubj\n",
      "之   SCONJ <╝ ║     case\n",
      "將   ADV   <╗ ║     advmod\n",
      "生   VERB  ═╝═╝═╗<╗ csubj\n",
      "也   PART  <════╝ ║ mark\n",
      "桓   PROPN <╗     ║ compound\n",
      "公   NOUN  ═╝<╗   ║ nsubj\n",
      "使   VERB  ═╗═╝═══╝ ROOT\n",
      "卜   VERB  <╝       obj\n"
     ]
    },
    {
     "name": "stderr",
     "output_type": "stream",
     "text": [
      "\r"
     ]
    }
   ],
   "source": [
    "ex216 = nlp(\"成季之將生也桓公使卜\")\n",
    "render(ex216)"
   ]
  },
  {
   "cell_type": "code",
   "execution_count": 24,
   "metadata": {},
   "outputs": [
    {
     "name": "stderr",
     "output_type": "stream",
     "text": [
      "                                                   "
     ]
    },
    {
     "name": "stdout",
     "output_type": "stream",
     "text": [
      "古 NOUN  ═╗<╗     obl:tmod\n",
      "之 SCONJ <╝ ║     case\n",
      "為 VERB  ═╗═╝═╗<╗ csubj\n",
      "關 NOUN  <╝   ║ ║ obj\n",
      "也 PART  <════╝ ║ mark\n",
      "將 ADV   <════╗ ║ advmod\n",
      "以 VERB  <══╗ ║ ║ advmod\n",
      "禦 VERB  ═╗═╝═╝═╝ ROOT\n",
      "暴 VERB  <╝       obj\n"
     ]
    },
    {
     "name": "stderr",
     "output_type": "stream",
     "text": [
      "\r"
     ]
    }
   ],
   "source": [
    "ex217 = nlp(\"古之為關也將以禦暴\")\n",
    "render(ex217)"
   ]
  },
  {
   "cell_type": "code",
   "execution_count": 25,
   "metadata": {},
   "outputs": [
    {
     "name": "stderr",
     "output_type": "stream",
     "text": [
      "                                                   "
     ]
    },
    {
     "name": "stdout",
     "output_type": "stream",
     "text": [
      "吾 PRON  <══════╗       nsubj\n",
      "嘗 ADV   <════╗ ║       advmod\n",
      "跂 VERB  ═══╗═╝═╝═╗<╗   csubj\n",
      "而 CCONJ <╗ ║     ║ ║   cc\n",
      "望 VERB  ═╝<╝     ║ ║   conj\n",
      "矣 PART  <════════╝ ║   discourse:sp\n",
      "不 ADV   <════════╗ ║   advmod\n",
      "如 VERB  ═══════╗═╝═╝═╗ ROOT\n",
      "登 VERB  ═╗═╗<╗ ║     ║ advcl\n",
      "高 VERB  <╝ ║ ║ ║     ║ obj\n",
      "之 SCONJ <══╝ ║ ║     ║ mark\n",
      "博 VERB  <╗   ║ ║     ║ advmod\n",
      "見 VERB  ═╝═══╝<╝     ║ ccomp\n",
      "也 PART  <════════════╝ discourse:sp\n"
     ]
    },
    {
     "name": "stderr",
     "output_type": "stream",
     "text": [
      "\r"
     ]
    }
   ],
   "source": [
    "ex218 = nlp(\"吾嘗跂而望矣不如登高之博見也\")\n",
    "render(ex218)"
   ]
  },
  {
   "cell_type": "code",
   "execution_count": 26,
   "metadata": {},
   "outputs": [
    {
     "name": "stderr",
     "output_type": "stream",
     "text": [
      "                                                   "
     ]
    },
    {
     "name": "stdout",
     "output_type": "stream",
     "text": [
      "彼 PRON <════╗   nsubj\n",
      "見 VERB ═══╗═╝═╗ ROOT\n",
      "來 VERB ═╗<╝   ║ ccomp\n",
      "之 PRON <╝     ║ obj\n",
      "并 ADV  <╗     ║ advmod\n",
      "禽 VERB ═╝<════╝ parataxis\n"
     ]
    },
    {
     "name": "stderr",
     "output_type": "stream",
     "text": [
      "\r"
     ]
    }
   ],
   "source": [
    "ex219 = nlp(\"彼見來之并禽\")\n",
    "render(ex219)"
   ]
  },
  {
   "cell_type": "code",
   "execution_count": 27,
   "metadata": {},
   "outputs": [
    {
     "name": "stderr",
     "output_type": "stream",
     "text": [
      "                                                   "
     ]
    },
    {
     "name": "stdout",
     "output_type": "stream",
     "text": [
      "以 VERB ═╗<══╗   advcl\n",
      "是 PRON <╝   ║   obj\n",
      "知 VERB ═══╗═╝═╗ ROOT\n",
      "其 PRON <╗ ║   ║ det\n",
      "天 NOUN ═╝<╝   ║ obj\n",
      "也 PART <══════╝ discourse:sp\n"
     ]
    },
    {
     "name": "stderr",
     "output_type": "stream",
     "text": [
      "\r"
     ]
    }
   ],
   "source": [
    "ex220 = nlp(\"以是知其天也\")\n",
    "render(ex220)"
   ]
  },
  {
   "cell_type": "markdown",
   "metadata": {},
   "source": [
    "### c. Zhe 者"
   ]
  },
  {
   "cell_type": "code",
   "execution_count": 28,
   "metadata": {},
   "outputs": [
    {
     "name": "stderr",
     "output_type": "stream",
     "text": [
      "                                                   "
     ]
    },
    {
     "name": "stdout",
     "output_type": "stream",
     "text": [
      "三 NUM  <╗     nummod\n",
      "家 NOUN ═╝<╗   nmod\n",
      "者 PART ═══╝<╗ nsubj\n",
      "以 VERB ═╗<╗ ║ advcl\n",
      "雍 NOUN <╝ ║ ║ obj\n",
      "徹 VERB ═══╝═╝ ROOT\n"
     ]
    },
    {
     "name": "stderr",
     "output_type": "stream",
     "text": [
      "\r"
     ]
    }
   ],
   "source": [
    "ex221 = nlp(\"三家者以雍徹\")\n",
    "render(ex221)"
   ]
  },
  {
   "cell_type": "code",
   "execution_count": 29,
   "metadata": {},
   "outputs": [
    {
     "name": "stderr",
     "output_type": "stream",
     "text": [
      "                                                   "
     ]
    },
    {
     "name": "stdout",
     "output_type": "stream",
     "text": [
      "鳥 NOUN  ═╗═╗<╗     nsubj\n",
      "獸 NOUN  <╝ ║ ║     conj\n",
      "之 SCONJ <══╝ ║     case\n",
      "害 VERB  ═╗═══╝<╗   acl\n",
      "人 NOUN  <╝     ║   obj\n",
      "者 PART  ═══════╝<╗ nsubj\n",
      "消 VERB  ═════════╝ ROOT\n"
     ]
    },
    {
     "name": "stderr",
     "output_type": "stream",
     "text": [
      "\r"
     ]
    }
   ],
   "source": [
    "ex222 = nlp(\"鳥獸之害人者消\")\n",
    "render(ex222)"
   ]
  },
  {
   "cell_type": "code",
   "execution_count": 30,
   "metadata": {},
   "outputs": [
    {
     "name": "stderr",
     "output_type": "stream",
     "text": [
      "                                                   "
     ]
    },
    {
     "name": "stdout",
     "output_type": "stream",
     "text": [
      "不 ADV   <╗             advmod\n",
      "為 VERB  ═╝<╗           acl\n",
      "者 PART  ═══╝═══╗═╗<╗   nmod\n",
      "與 ADP   <════╗ ║ ║ ║   cc\n",
      "不 ADV   <╗   ║ ║ ║ ║   advmod\n",
      "能 AUX   ═╝<╗ ║ ║ ║ ║   acl\n",
      "者 PART  ═══╝═╝<╝ ║ ║   conj\n",
      "之 SCONJ <════════╝ ║   case\n",
      "形 NOUN  ═══════════╝<╗ nsubj\n",
      "何 ADV   <╗           ║ advmod\n",
      "異 VERB  ═╝═══════════╝ ROOT\n"
     ]
    },
    {
     "name": "stderr",
     "output_type": "stream",
     "text": [
      "\r"
     ]
    }
   ],
   "source": [
    "ex223 = nlp(\"不為者與不能者之形何異\")\n",
    "render(ex223)"
   ]
  },
  {
   "cell_type": "markdown",
   "metadata": {},
   "source": [
    "### d. Suo 所"
   ]
  },
  {
   "cell_type": "code",
   "execution_count": 31,
   "metadata": {},
   "outputs": [
    {
     "name": "stderr",
     "output_type": "stream",
     "text": [
      "                                                   "
     ]
    },
    {
     "name": "stdout",
     "output_type": "stream",
     "text": [
      "他 PRON <╗           det\n",
      "日 NOUN ═╝<╗         obl:tmod\n",
      "君 NOUN <╗ ║         nsubj\n",
      "出 VERB ═╝═╝<══════╗ advcl\n",
      "則 ADV  <════════╗ ║ advmod\n",
      "必 ADV  <══════╗ ║ ║ advmod\n",
      "命 VERB ═══╗═╗═╝═╝═╝ ROOT\n",
      "有 VERB <╗ ║ ║       amod\n",
      "司 NOUN ═╝<╝ ║       obj\n",
      "所 PART <╗   ║       case\n",
      "之 VERB ═╝<══╝       obj\n"
     ]
    },
    {
     "name": "stderr",
     "output_type": "stream",
     "text": [
      "\r"
     ]
    }
   ],
   "source": [
    "ex224 = nlp(\"他日君出則必命有司所之\")\n",
    "render(ex224)"
   ]
  },
  {
   "cell_type": "code",
   "execution_count": 33,
   "metadata": {},
   "outputs": [
    {
     "name": "stderr",
     "output_type": "stream",
     "text": [
      "                                                   "
     ]
    },
    {
     "name": "stdout",
     "output_type": "stream",
     "text": [
      "堯 PROPN ═╗═╗<╗         nsubj\n",
      "舜 PROPN <╝ ║ ║         conj\n",
      "之 SCONJ <══╝ ║         case\n",
      "治 VERB  ═══╗═╝<════╗   csubj\n",
      "天 NOUN  <╗ ║       ║   compound\n",
      "下 NOUN  ═╝<╝       ║   obj\n",
      "豈 ADV   <════════╗ ║   advmod\n",
      "無 VERB  ═══════╗═╝═╝═╗ ROOT\n",
      "所 PART  <════╗ ║     ║ mark\n",
      "用 VERB  ═══╗═╝<╝     ║ ccomp\n",
      "其 PRON  <╗ ║         ║ det\n",
      "心 NOUN  ═╝<╝         ║ obj\n",
      "哉 PART  <════════════╝ discourse:sp\n"
     ]
    },
    {
     "name": "stderr",
     "output_type": "stream",
     "text": [
      "\r"
     ]
    }
   ],
   "source": [
    "ex225 = nlp(\"堯舜之治天下豈無所用其心哉\")\n",
    "render(ex225)"
   ]
  },
  {
   "cell_type": "code",
   "execution_count": 34,
   "metadata": {},
   "outputs": [
    {
     "name": "stderr",
     "output_type": "stream",
     "text": [
      "                                                   "
     ]
    },
    {
     "name": "stdout",
     "output_type": "stream",
     "text": [
      "所 PART <════╗   mark\n",
      "謂 VERB ═══╗═╝<╗ acl\n",
      "故 NOUN <╗ ║   ║ nmod\n",
      "國 NOUN ═╝<╝   ║ obj\n",
      "者 PART ═══════╝ ROOT\n"
     ]
    },
    {
     "name": "stderr",
     "output_type": "stream",
     "text": [
      "\r"
     ]
    }
   ],
   "source": [
    "ex226 = nlp(\"所謂故國者\")\n",
    "render(ex226)"
   ]
  },
  {
   "cell_type": "code",
   "execution_count": 36,
   "metadata": {},
   "outputs": [
    {
     "name": "stderr",
     "output_type": "stream",
     "text": [
      "                                                   "
     ]
    },
    {
     "name": "stdout",
     "output_type": "stream",
     "text": [
      "王 NOUN <════╗ nsubj\n",
      "在 VERB ═══╗═╝ ROOT\n",
      "靈 VERB <╗ ║   amod\n",
      "囿 NOUN ═╝<╝   obj\n",
      "麀 NOUN ═╗<╗   nsubj\n",
      "鹿 NOUN <╝ ║   conj\n",
      "攸 PART <╗ ║   mark\n",
      "伏 VERB ═╝═╝   ROOT\n"
     ]
    },
    {
     "name": "stderr",
     "output_type": "stream",
     "text": [
      "\r"
     ]
    }
   ],
   "source": [
    "ex227 = nlp(\"王在靈囿\\n麀鹿攸伏\")\n",
    "render(ex227)"
   ]
  }
 ],
 "metadata": {
  "interpreter": {
   "hash": "0364c37b15e7a6e1c36ca05f1a9e06ef739d4c2650a4a4d0869c3126484e1dba"
  },
  "kernelspec": {
   "display_name": "Python 3.8.10 ('nlp')",
   "language": "python",
   "name": "python3"
  },
  "language_info": {
   "codemirror_mode": {
    "name": "ipython",
    "version": 3
   },
   "file_extension": ".py",
   "mimetype": "text/x-python",
   "name": "python",
   "nbconvert_exporter": "python",
   "pygments_lexer": "ipython3",
   "version": "3.8.10"
  },
  "orig_nbformat": 4
 },
 "nbformat": 4,
 "nbformat_minor": 2
}
