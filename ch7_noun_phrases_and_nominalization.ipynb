{
 "cells": [
  {
   "cell_type": "markdown",
   "metadata": {},
   "source": [
    "# VII. Noun Phrases and Nominalization"
   ]
  },
  {
   "cell_type": "code",
   "execution_count": 2,
   "metadata": {},
   "outputs": [
    {
     "name": "stderr",
     "output_type": "stream",
     "text": [
      "Some weights of the model checkpoint at KoichiYasuoka/roberta-classical-chinese-large-char were not used when initializing RobertaModel: ['lm_head.layer_norm.bias', 'lm_head.bias', 'lm_head.dense.bias', 'lm_head.dense.weight', 'lm_head.decoder.weight', 'lm_head.layer_norm.weight', 'lm_head.decoder.bias']\n",
      "- This IS expected if you are initializing RobertaModel from the checkpoint of a model trained on another task or with another architecture (e.g. initializing a BertForSequenceClassification model from a BertForPreTraining model).\n",
      "- This IS NOT expected if you are initializing RobertaModel from the checkpoint of a model that you expect to be exactly identical (initializing a BertForSequenceClassification model from a BertForSequenceClassification model).\n"
     ]
    }
   ],
   "source": [
    "from deplacy import (\n",
    "    dot,\n",
    "    render,\n",
    "    to_conllu\n",
    ")\n",
    "from lzh_helpers.serve import serve\n",
    "from suparkanbun import load\n",
    "from transformers import logging\n",
    "\n",
    "logging.logging.disable(logging.INFO)\n",
    "\n",
    "nlp = load(BERT=\"roberta-classical-chinese-large-char\", Danku=False)"
   ]
  },
  {
   "cell_type": "markdown",
   "metadata": {},
   "source": [
    "## 1. Coordination and Subordination of Nouns"
   ]
  },
  {
   "cell_type": "markdown",
   "metadata": {},
   "source": [
    "### a. Coordination"
   ]
  },
  {
   "cell_type": "code",
   "execution_count": 3,
   "metadata": {},
   "outputs": [
    {
     "name": "stderr",
     "output_type": "stream",
     "text": [
      "                                                   "
     ]
    },
    {
     "name": "stdout",
     "output_type": "stream",
     "text": [
      "子 NOUN <══════════╗ nsubj\n",
      "罕 VERB <════════╗ ║ advmod\n",
      "言 VERB ═══════╗═╝═╝ ROOT\n",
      "利 NOUN ═══╗═╗<╝     obj\n",
      "與 ADP  <╗ ║ ║       cc\n",
      "命 NOUN ═╝<╝ ║       conj\n",
      "與 ADP  <╗   ║       cc\n",
      "仁 NOUN ═╝<══╝       conj\n"
     ]
    },
    {
     "name": "stderr",
     "output_type": "stream",
     "text": [
      "\r"
     ]
    }
   ],
   "source": [
    "ex198 = nlp(\"子罕言利與命與仁\")\n",
    "render(ex198)"
   ]
  },
  {
   "cell_type": "code",
   "execution_count": 4,
   "metadata": {},
   "outputs": [
    {
     "name": "stderr",
     "output_type": "stream",
     "text": [
      "                                                   "
     ]
    },
    {
     "name": "stdout",
     "output_type": "stream",
     "text": [
      "予 PRON ═══╗<╗ nsubj\n",
      "及 ADP  <╗ ║ ║ cc\n",
      "汝 PRON ═╝<╝ ║ conj\n",
      "皆 ADV  <╗   ║ advmod\n",
      "亡 VERB ═╝═══╝ ROOT\n"
     ]
    },
    {
     "name": "stderr",
     "output_type": "stream",
     "text": [
      "\r"
     ]
    }
   ],
   "source": [
    "ex199 = nlp(\"予及汝皆亡\")\n",
    "render(ex199)"
   ]
  },
  {
   "cell_type": "code",
   "execution_count": 15,
   "metadata": {},
   "outputs": [
    {
     "name": "stderr",
     "output_type": "stream",
     "text": [
      "                                                   "
     ]
    },
    {
     "name": "stdout",
     "output_type": "stream",
     "text": [
      "宋 PROPN ═══╗<╗ nsubj\n",
      "及 ADP   <╗ ║ ║ cc\n",
      "鄭 PROPN ═╝<╝ ║ conj\n",
      "平 VERB  ═════╝ ROOT\n"
     ]
    },
    {
     "name": "stderr",
     "output_type": "stream",
     "text": [
      "\r"
     ]
    }
   ],
   "source": [
    "ex200 = nlp(\"宋及鄭平\")\n",
    "render(ex200)"
   ]
  },
  {
   "cell_type": "markdown",
   "metadata": {},
   "source": [
    "### b. Subordination"
   ]
  },
  {
   "cell_type": "code",
   "execution_count": 16,
   "metadata": {},
   "outputs": [
    {
     "name": "stderr",
     "output_type": "stream",
     "text": [
      "                                                   "
     ]
    },
    {
     "name": "stdout",
     "output_type": "stream",
     "text": [
      "王 NOUN  ═╗<╗ nmod\n",
      "之 SCONJ <╝ ║ case\n",
      "諸 NOUN  <╗ ║ nmod\n",
      "臣 NOUN  ═╝═╝ ROOT\n"
     ]
    },
    {
     "name": "stderr",
     "output_type": "stream",
     "text": [
      "\r"
     ]
    }
   ],
   "source": [
    "ex201 = nlp(\"王之諸臣\")\n",
    "render(ex201)"
   ]
  },
  {
   "cell_type": "code",
   "execution_count": 17,
   "metadata": {},
   "outputs": [
    {
     "name": "stderr",
     "output_type": "stream",
     "text": [
      "                                                   "
     ]
    },
    {
     "name": "stdout",
     "output_type": "stream",
     "text": [
      "勞 VERB ═════╗ ROOT\n",
      "於 ADP  <══╗ ║ case\n",
      "王 NOUN <╗ ║ ║ nmod\n",
      "事 NOUN ═╝═╝<╝ obl\n"
     ]
    },
    {
     "name": "stderr",
     "output_type": "stream",
     "text": [
      "\r"
     ]
    }
   ],
   "source": [
    "ex202 = nlp(\"勞於王事\")\n",
    "render(ex202)"
   ]
  },
  {
   "cell_type": "code",
   "execution_count": 18,
   "metadata": {},
   "outputs": [
    {
     "name": "stderr",
     "output_type": "stream",
     "text": [
      "                                                   "
     ]
    },
    {
     "name": "stdout",
     "output_type": "stream",
     "text": [
      "不 ADV   <════╗   advmod\n",
      "忍 VERB  ═╗═╗═╝<╗ acl\n",
      "人 NOUN  <╝ ║   ║ obj\n",
      "之 SCONJ <══╝   ║ mark\n",
      "心 NOUN  ═══════╝ ROOT\n"
     ]
    },
    {
     "name": "stderr",
     "output_type": "stream",
     "text": [
      "\r"
     ]
    }
   ],
   "source": [
    "ex203 = nlp(\"不忍人之心\")\n",
    "render(ex203)"
   ]
  },
  {
   "cell_type": "code",
   "execution_count": 19,
   "metadata": {},
   "outputs": [
    {
     "name": "stderr",
     "output_type": "stream",
     "text": [
      "                                                   "
     ]
    },
    {
     "name": "stdout",
     "output_type": "stream",
     "text": [
      "侮 VERB  ═╗═══╗ ROOT\n",
      "奪 VERB  <╝   ║ flat:vv\n",
      "人 NOUN  ═╗<╗ ║ nmod\n",
      "之 SCONJ <╝ ║ ║ case\n",
      "君 NOUN  ═══╝<╝ obj\n"
     ]
    },
    {
     "name": "stderr",
     "output_type": "stream",
     "text": [
      "\r"
     ]
    }
   ],
   "source": [
    "ex204 = nlp(\"侮奪人之君\")\n",
    "render(ex204)"
   ]
  },
  {
   "cell_type": "code",
   "execution_count": 20,
   "metadata": {},
   "outputs": [
    {
     "name": "stderr",
     "output_type": "stream",
     "text": [
      "                                                   "
     ]
    },
    {
     "name": "stdout",
     "output_type": "stream",
     "text": [
      "賢 VERB  <══╗   amod\n",
      "聖 NOUN  ═╗═╝<╗ nmod\n",
      "之 SCONJ <╝   ║ case\n",
      "君 NOUN  ═════╝ ROOT\n"
     ]
    },
    {
     "name": "stderr",
     "output_type": "stream",
     "text": [
      "\r"
     ]
    }
   ],
   "source": [
    "ex205 = nlp(\"賢聖之君\")\n",
    "render(ex205)"
   ]
  },
  {
   "cell_type": "code",
   "execution_count": 21,
   "metadata": {},
   "outputs": [
    {
     "name": "stderr",
     "output_type": "stream",
     "text": [
      "                                                   "
     ]
    },
    {
     "name": "stdout",
     "output_type": "stream",
     "text": [
      "滕 PROPN <╗         nmod\n",
      "君 NOUN  ═╝<════╗   nsubj\n",
      "則 ADV   <════╗ ║   advmod\n",
      "誠 VERB  <══╗ ║ ║   advmod\n",
      "賢 VERB  <╗ ║ ║ ║   amod\n",
      "君 NOUN  ═╝═╝═╝═╝═╗ ROOT\n",
      "也 PART  <════════╝ discourse:sp\n"
     ]
    },
    {
     "name": "stderr",
     "output_type": "stream",
     "text": [
      "\r"
     ]
    }
   ],
   "source": [
    "ex206 = nlp(\"滕君則誠賢君也\")\n",
    "render(ex206)"
   ]
  }
 ],
 "metadata": {
  "interpreter": {
   "hash": "0364c37b15e7a6e1c36ca05f1a9e06ef739d4c2650a4a4d0869c3126484e1dba"
  },
  "kernelspec": {
   "display_name": "Python 3.8.10 ('nlp')",
   "language": "python",
   "name": "python3"
  },
  "language_info": {
   "codemirror_mode": {
    "name": "ipython",
    "version": 3
   },
   "file_extension": ".py",
   "mimetype": "text/x-python",
   "name": "python",
   "nbconvert_exporter": "python",
   "pygments_lexer": "ipython3",
   "version": "3.8.10"
  },
  "orig_nbformat": 4
 },
 "nbformat": 4,
 "nbformat_minor": 2
}
