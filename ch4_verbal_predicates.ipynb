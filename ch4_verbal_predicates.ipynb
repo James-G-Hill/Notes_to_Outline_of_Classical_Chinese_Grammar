{
 "cells": [
  {
   "cell_type": "markdown",
   "metadata": {},
   "source": [
    "# IV. Verbal Predicates"
   ]
  },
  {
   "cell_type": "code",
   "execution_count": 1,
   "metadata": {},
   "outputs": [
    {
     "name": "stderr",
     "output_type": "stream",
     "text": [
      "Some weights of the model checkpoint at KoichiYasuoka/roberta-classical-chinese-large-char were not used when initializing RobertaModel: ['lm_head.layer_norm.weight', 'lm_head.layer_norm.bias', 'lm_head.decoder.weight', 'lm_head.dense.weight', 'lm_head.dense.bias', 'lm_head.decoder.bias', 'lm_head.bias']\n",
      "- This IS expected if you are initializing RobertaModel from the checkpoint of a model trained on another task or with another architecture (e.g. initializing a BertForSequenceClassification model from a BertForPreTraining model).\n",
      "- This IS NOT expected if you are initializing RobertaModel from the checkpoint of a model that you expect to be exactly identical (initializing a BertForSequenceClassification model from a BertForSequenceClassification model).\n"
     ]
    }
   ],
   "source": [
    "from deplacy import render\n",
    "from suparkanbun import load\n",
    "from transformers import logging\n",
    "\n",
    "logging.logging.disable(logging.INFO)\n",
    "\n",
    "nlp = load(BERT=\"roberta-classical-chinese-large-char\", Danku=False)"
   ]
  },
  {
   "cell_type": "markdown",
   "metadata": {},
   "source": [
    "## 1. Classes of Verbs"
   ]
  },
  {
   "cell_type": "markdown",
   "metadata": {},
   "source": [
    "The following is an example with an adjective.\n",
    "These are sometimes referred to as 'stative' or 'quality' verbs."
   ]
  },
  {
   "cell_type": "code",
   "execution_count": 2,
   "metadata": {},
   "outputs": [
    {
     "name": "stderr",
     "output_type": "stream",
     "text": [
      "                                                   "
     ]
    },
    {
     "name": "stdout",
     "output_type": "stream",
     "text": [
      "山 NOUN <╗ nsubj\n",
      "高 VERB ═╝ ROOT\n"
     ]
    },
    {
     "name": "stderr",
     "output_type": "stream",
     "text": [
      "\r"
     ]
    }
   ],
   "source": [
    "ex_quality_verb = nlp(\"山高\")\n",
    "render(ex_quality_verb)"
   ]
  },
  {
   "cell_type": "markdown",
   "metadata": {},
   "source": [
    "The following is an example of an intransitive verb requiring a single noun."
   ]
  },
  {
   "cell_type": "code",
   "execution_count": 3,
   "metadata": {},
   "outputs": [
    {
     "name": "stderr",
     "output_type": "stream",
     "text": [
      "                                                   "
     ]
    },
    {
     "name": "stdout",
     "output_type": "stream",
     "text": [
      "王 NOUN <╗ nsubj\n",
      "來 VERB ═╝ ROOT\n"
     ]
    },
    {
     "name": "stderr",
     "output_type": "stream",
     "text": [
      "\r"
     ]
    }
   ],
   "source": [
    "ex_intransitive_verb = nlp(\"王來\")\n",
    "render(ex_intransitive_verb)"
   ]
  },
  {
   "cell_type": "markdown",
   "metadata": {},
   "source": [
    "The following are examples of transitive verbs"
   ]
  },
  {
   "cell_type": "code",
   "execution_count": 4,
   "metadata": {},
   "outputs": [
    {
     "name": "stderr",
     "output_type": "stream",
     "text": [
      "                                                   "
     ]
    },
    {
     "name": "stdout",
     "output_type": "stream",
     "text": [
      "王 NOUN <══╗ nsubj\n",
      "殺 VERB ═╗═╝ ROOT\n",
      "人 NOUN <╝   obj\n"
     ]
    },
    {
     "name": "stderr",
     "output_type": "stream",
     "text": [
      "\r"
     ]
    }
   ],
   "source": [
    "ex_transitive_verb_1 = nlp(\"王殺人\")\n",
    "render(ex_transitive_verb_1)"
   ]
  },
  {
   "cell_type": "code",
   "execution_count": 5,
   "metadata": {},
   "outputs": [
    {
     "name": "stderr",
     "output_type": "stream",
     "text": [
      "                                                   "
     ]
    },
    {
     "name": "stdout",
     "output_type": "stream",
     "text": [
      "王 NOUN <════╗ nsubj\n",
      "與 VERB ═╗═╗═╝ ROOT\n",
      "之 PRON <╝ ║   iobj\n",
      "刀 NOUN <══╝   obj\n"
     ]
    },
    {
     "name": "stderr",
     "output_type": "stream",
     "text": [
      "\r"
     ]
    }
   ],
   "source": [
    "ex_transitive_verb_2 = nlp(\"王與之刀\")\n",
    "render(ex_transitive_verb_2)"
   ]
  },
  {
   "cell_type": "markdown",
   "metadata": {},
   "source": [
    "Only transitive verbs can follow 可 directly, and only passively."
   ]
  },
  {
   "cell_type": "code",
   "execution_count": 6,
   "metadata": {},
   "outputs": [
    {
     "name": "stderr",
     "output_type": "stream",
     "text": [
      "                                                   "
     ]
    },
    {
     "name": "stdout",
     "output_type": "stream",
     "text": [
      "人 NOUN <══╗ nsubj\n",
      "可 AUX  <╗ ║ aux\n",
      "殺 VERB ═╝═╝ ROOT\n"
     ]
    },
    {
     "name": "stderr",
     "output_type": "stream",
     "text": [
      "\r"
     ]
    }
   ],
   "source": [
    "ex_transitive_verb_ke_passive = nlp(\"人可殺\")\n",
    "render(ex_transitive_verb_ke_passive)"
   ]
  },
  {
   "cell_type": "markdown",
   "metadata": {},
   "source": [
    "A transitive verb in active sense, or instransitive verb, requires 可以."
   ]
  },
  {
   "cell_type": "code",
   "execution_count": 7,
   "metadata": {},
   "outputs": [
    {
     "name": "stderr",
     "output_type": "stream",
     "text": [
      "                                                   "
     ]
    },
    {
     "name": "stdout",
     "output_type": "stream",
     "text": [
      "王 NOUN <════╗ nsubj\n",
      "可 AUX  ═╗<╗ ║ aux\n",
      "以 VERB <╝ ║ ║ fixed\n",
      "殺 VERB ═╗═╝═╝ ROOT\n",
      "人 NOUN <╝     obj\n"
     ]
    },
    {
     "name": "stderr",
     "output_type": "stream",
     "text": [
      "\r"
     ]
    }
   ],
   "source": [
    "ex_transitive_verb_ke_active = nlp(\"王可以殺人\")\n",
    "render(ex_transitive_verb_ke_active)"
   ]
  },
  {
   "cell_type": "code",
   "execution_count": 8,
   "metadata": {},
   "outputs": [
    {
     "name": "stderr",
     "output_type": "stream",
     "text": [
      "                                                   "
     ]
    },
    {
     "name": "stdout",
     "output_type": "stream",
     "text": [
      "王 NOUN <════╗ nsubj\n",
      "可 AUX  ═╗<╗ ║ aux\n",
      "以 VERB <╝ ║ ║ fixed\n",
      "來 VERB ═══╝═╝ ROOT\n"
     ]
    },
    {
     "name": "stderr",
     "output_type": "stream",
     "text": [
      "\r"
     ]
    }
   ],
   "source": [
    "ex_intransitive_verb_ke = nlp(\"王可以來\")\n",
    "render(ex_intransitive_verb_ke)"
   ]
  },
  {
   "cell_type": "code",
   "execution_count": 9,
   "metadata": {},
   "outputs": [
    {
     "name": "stderr",
     "output_type": "stream",
     "text": [
      "                                                   "
     ]
    },
    {
     "name": "stdout",
     "output_type": "stream",
     "text": [
      "可 AUX  ═╗<╗   aux\n",
      "以 VERB <╝ ║   fixed\n",
      "為 VERB <╗ ║   cop\n",
      "美 NOUN ═╝═╝═╗ ROOT\n",
      "乎 PART <════╝ discourse:sp\n"
     ]
    },
    {
     "name": "stderr",
     "output_type": "stream",
     "text": [
      "\r"
     ]
    }
   ],
   "source": [
    "ex33 = nlp(\"可以為美乎\")\n",
    "render(ex33)"
   ]
  },
  {
   "cell_type": "markdown",
   "metadata": {},
   "source": [
    "## 2. Adjectives"
   ]
  },
  {
   "cell_type": "code",
   "execution_count": 10,
   "metadata": {},
   "outputs": [
    {
     "name": "stderr",
     "output_type": "stream",
     "text": [
      "                                                   "
     ]
    },
    {
     "name": "stdout",
     "output_type": "stream",
     "text": [
      "若   ADV   <════╗   advmod\n",
      "夫   PART  <════║═╗ discourse\n",
      "豪傑 NOUN  ═╗<╗ ║ ║ nmod\n",
      "之   SCONJ <╝ ║ ║ ║ case\n",
      "士   NOUN  ═══╝═╝═╝ ROOT\n"
     ]
    },
    {
     "name": "stderr",
     "output_type": "stream",
     "text": [
      "\r"
     ]
    }
   ],
   "source": [
    "ex34 = nlp(\"若夫豪傑之士\")\n",
    "render(ex34)"
   ]
  },
  {
   "cell_type": "code",
   "execution_count": 11,
   "metadata": {},
   "outputs": [
    {
     "name": "stderr",
     "output_type": "stream",
     "text": [
      "                                                   "
     ]
    },
    {
     "name": "stdout",
     "output_type": "stream",
     "text": [
      "則 ADV   <════════════╗   advmod\n",
      "無 VERB  <══════════╗ ║   advmod\n",
      "望 VERB  ═════════╗═╝═╝═╗ ROOT\n",
      "民 NOUN  ═╗<════╗ ║     ║ nsubj\n",
      "之 SCONJ <╝     ║ ║     ║ case\n",
      "多 VERB  ═════╗═╝<╝     ║ ccomp\n",
      "於 ADP   <══╗ ║         ║ case\n",
      "鄰 NOUN  <╗ ║ ║         ║ nmod\n",
      "國 NOUN  ═╝═╝<╝         ║ obl\n",
      "也 PART  <══════════════╝ discourse:sp\n"
     ]
    },
    {
     "name": "stderr",
     "output_type": "stream",
     "text": [
      "\r"
     ]
    }
   ],
   "source": [
    "ex35 = nlp(\"則無望民之多於鄰國也\")\n",
    "render(ex35)"
   ]
  },
  {
   "cell_type": "code",
   "execution_count": 12,
   "metadata": {},
   "outputs": [
    {
     "name": "stderr",
     "output_type": "stream",
     "text": [
      "                                                   "
     ]
    },
    {
     "name": "stdout",
     "output_type": "stream",
     "text": [
      "物 NOUN <════════╗ nsubj\n",
      "皆 ADV  <╗       ║ advmod\n",
      "然 VERB ═╝<╗     ║ advcl\n",
      "心 NOUN <══║═══╗ ║ nsubj\n",
      "為 VERB ═══╝<╗ ║ ║ cop\n",
      "甚 VERB ═════╝═╝═╝ ROOT\n"
     ]
    },
    {
     "name": "stderr",
     "output_type": "stream",
     "text": [
      "\r"
     ]
    }
   ],
   "source": [
    "ex36 = nlp(\"物皆然心為甚\")\n",
    "render(ex36)"
   ]
  },
  {
   "cell_type": "code",
   "execution_count": 13,
   "metadata": {},
   "outputs": [
    {
     "name": "stderr",
     "output_type": "stream",
     "text": [
      "                                                   "
     ]
    },
    {
     "name": "stdout",
     "output_type": "stream",
     "text": [
      "王 NOUN <════╗ vocative\n",
      "請 VERB ═══╗═╝ ROOT\n",
      "大 VERB ═╗<╝   ccomp\n",
      "之 PRON <╝     obj\n"
     ]
    },
    {
     "name": "stderr",
     "output_type": "stream",
     "text": [
      "\r"
     ]
    }
   ],
   "source": [
    "ex37 = nlp(\"王請大之\")\n",
    "render(ex37)"
   ]
  },
  {
   "cell_type": "code",
   "execution_count": 14,
   "metadata": {},
   "outputs": [
    {
     "name": "stderr",
     "output_type": "stream",
     "text": [
      "                                                   "
     ]
    },
    {
     "name": "stdout",
     "output_type": "stream",
     "text": [
      "叟 NOUN  <══════╗   nsubj\n",
      "不 ADV   <════╗ ║   advmod\n",
      "遠 VERB  ═══╗═╝═╝═╗ ROOT\n",
      "千 NUM   ═╗<╝     ║ obj\n",
      "里 NOUN  <╝       ║ clf\n",
      "而 CCONJ <╗       ║ cc\n",
      "來 VERB  ═╝<══════╝ conj\n"
     ]
    },
    {
     "name": "stderr",
     "output_type": "stream",
     "text": [
      "\r"
     ]
    }
   ],
   "source": [
    "ex38 = nlp(\"叟不遠千里而來\")\n",
    "render(ex38)"
   ]
  },
  {
   "cell_type": "code",
   "execution_count": 15,
   "metadata": {},
   "outputs": [
    {
     "name": "stderr",
     "output_type": "stream",
     "text": [
      "                                                   "
     ]
    },
    {
     "name": "stdout",
     "output_type": "stream",
     "text": [
      "百 NUM  <╗   compound\n",
      "姓 NOUN ═╝<╗ nsubj\n",
      "安 VERB ═╗═╝ ROOT\n",
      "之 PRON <╝   obj\n"
     ]
    },
    {
     "name": "stderr",
     "output_type": "stream",
     "text": [
      "\r"
     ]
    }
   ],
   "source": [
    "ex39 = nlp(\"百姓安之\")\n",
    "render(ex39)"
   ]
  },
  {
   "cell_type": "code",
   "execution_count": 16,
   "metadata": {},
   "outputs": [
    {
     "name": "stderr",
     "output_type": "stream",
     "text": [
      "                                                   "
     ]
    },
    {
     "name": "stdout",
     "output_type": "stream",
     "text": [
      "則   ADV   <════╗ advmod\n",
      "不   ADV   <╗   ║ advmod\n",
      "能   AUX   ═╝<╗ ║ aux\n",
      "安   VERB  ═╗═╝═╝ ROOT\n",
      "子思 PROPN <╝     obj\n"
     ]
    },
    {
     "name": "stderr",
     "output_type": "stream",
     "text": [
      "\r"
     ]
    }
   ],
   "source": [
    "ex40 = nlp(\"則不能安子思\")\n",
    "render(ex40)"
   ]
  },
  {
   "cell_type": "markdown",
   "metadata": {},
   "source": [
    "## 3. Nouns Used as Verbs"
   ]
  },
  {
   "cell_type": "code",
   "execution_count": 17,
   "metadata": {},
   "outputs": [
    {
     "name": "stderr",
     "output_type": "stream",
     "text": [
      "                                                   "
     ]
    },
    {
     "name": "stdout",
     "output_type": "stream",
     "text": [
      "故 ADV   <════════╗ advmod\n",
      "湯 PROPN ═╗<══╗   ║ nsubj\n",
      "之 SCONJ <╝   ║   ║ case\n",
      "於 VERB  ═══╗═╝<╗ ║ advcl\n",
      "伊 PROPN ═╗<╝   ║ ║ obj\n",
      "尹 PROPN <╝     ║ ║ flat\n",
      "學 VERB  ═╗═══╗═╝═╝ ROOT\n",
      "焉 PRON  <╝   ║     obl\n",
      "而 CCONJ <══╗ ║     cc\n",
      "臣 VERB  ═╗═╝<╝     conj\n",
      "之 PRON  <╝         obj\n"
     ]
    },
    {
     "name": "stderr",
     "output_type": "stream",
     "text": [
      "\r"
     ]
    }
   ],
   "source": [
    "ex41 = nlp(\"故湯之於伊尹學焉而臣之\")\n",
    "render(ex41)"
   ]
  },
  {
   "cell_type": "code",
   "execution_count": 18,
   "metadata": {},
   "outputs": [
    {
     "name": "stderr",
     "output_type": "stream",
     "text": [
      "                                                   "
     ]
    },
    {
     "name": "stdout",
     "output_type": "stream",
     "text": [
      "爾 PRON  <══════╗   nsubj\n",
      "欲 AUX   ═════╗═╝═╗ ROOT\n",
      "吳 PROPN <╗   ║   ║ compound\n",
      "王 NOUN  ═╝<╗ ║   ║ nsubj\n",
      "我 PRON  ═══╝<╝   ║ ccomp\n",
      "乎 PART  <════════╝ discourse:sp\n"
     ]
    },
    {
     "name": "stderr",
     "output_type": "stream",
     "text": [
      "\r"
     ]
    }
   ],
   "source": [
    "ex42 = nlp(\"爾欲吳王我乎\")\n",
    "render(ex42)"
   ]
  },
  {
   "cell_type": "markdown",
   "metadata": {},
   "source": [
    "Unsure why the following isn't being split into 4 sentences?"
   ]
  },
  {
   "cell_type": "code",
   "execution_count": 19,
   "metadata": {},
   "outputs": [
    {
     "name": "stderr",
     "output_type": "stream",
     "text": [
      "                                                   "
     ]
    },
    {
     "name": "stdout",
     "output_type": "stream",
     "text": [
      "君 NOUN <╗ nsubj\n",
      "君 VERB ═╝ ROOT\n",
      "臣 NOUN <╗ nsubj\n",
      "臣 NOUN ═╝ ROOT\n",
      "父 NOUN <╗ nsubj\n",
      "父 NOUN ═╝ ROOT\n",
      "子 NOUN <╗ compound\n",
      "子 VERB ═╝ ROOT\n"
     ]
    },
    {
     "name": "stderr",
     "output_type": "stream",
     "text": [
      "\r"
     ]
    }
   ],
   "source": [
    "ex43 = nlp(\"君君\\n臣臣\\n父父\\n子子\")\n",
    "render(ex43)"
   ]
  },
  {
   "cell_type": "code",
   "execution_count": 20,
   "metadata": {},
   "outputs": [
    {
     "name": "stderr",
     "output_type": "stream",
     "text": [
      "                                                   "
     ]
    },
    {
     "name": "stdout",
     "output_type": "stream",
     "text": [
      "為 VERB  <════╗     cop\n",
      "臣 NOUN  ═══╗═╝<╗   csubj\n",
      "而 CCONJ <╗ ║   ║   cc\n",
      "君 NOUN  ═╝<╝   ║   conj\n",
      "亡 VERB  ═╗<╗   ║   amod\n",
      "之 SCONJ <╝ ║   ║   case\n",
      "本 NOUN  ═══╝═══╝═╗ ROOT\n",
      "也 PART  <════════╝ discourse:sp\n"
     ]
    },
    {
     "name": "stderr",
     "output_type": "stream",
     "text": [
      "\r"
     ]
    }
   ],
   "source": [
    "ex44 = nlp(\"為臣而君亡之本也\")\n",
    "render(ex44)"
   ]
  },
  {
   "cell_type": "markdown",
   "metadata": {},
   "source": [
    "## 4. Intransitive Verbs"
   ]
  },
  {
   "cell_type": "code",
   "execution_count": 21,
   "metadata": {},
   "outputs": [
    {
     "name": "stderr",
     "output_type": "stream",
     "text": [
      "                                                   "
     ]
    },
    {
     "name": "stdout",
     "output_type": "stream",
     "text": [
      "醫 NOUN <╗ nsubj\n",
      "來 VERB ═╝ ROOT\n"
     ]
    },
    {
     "name": "stderr",
     "output_type": "stream",
     "text": [
      "\r"
     ]
    }
   ],
   "source": [
    "ex45 = nlp(\"醫來\")\n",
    "render(ex45)"
   ]
  },
  {
   "cell_type": "code",
   "execution_count": 22,
   "metadata": {},
   "outputs": [
    {
     "name": "stderr",
     "output_type": "stream",
     "text": [
      "                                                   "
     ]
    },
    {
     "name": "stdout",
     "output_type": "stream",
     "text": [
      "雞 NOUN  <════╗   nsubj\n",
      "鳴 VERB  ═══╗═╝<╗ acl\n",
      "而 CCONJ <╗ ║   ║ cc\n",
      "起 VERB  ═╝<╝   ║ conj\n",
      "者 PART  ═══════╝ ROOT\n"
     ]
    },
    {
     "name": "stderr",
     "output_type": "stream",
     "text": [
      "\r"
     ]
    }
   ],
   "source": [
    "ex46 = nlp(\"雞鳴而起者\")\n",
    "render(ex46)"
   ]
  },
  {
   "cell_type": "code",
   "execution_count": 23,
   "metadata": {},
   "outputs": [
    {
     "name": "stderr",
     "output_type": "stream",
     "text": [
      "                                                   "
     ]
    },
    {
     "name": "stdout",
     "output_type": "stream",
     "text": [
      "故 ADV  <════════╗   advmod\n",
      "遠 VERB <╗       ║   amod\n",
      "人 NOUN ═╝<╗     ║   nsubj\n",
      "不 ADV  <╗ ║     ║   advmod\n",
      "服 VERB ═╝═╝<══╗ ║   advcl\n",
      "則 ADV  <════╗ ║ ║   advmod\n",
      "脩 VERB ═══╗═╝═╝═╝═╗ ROOT\n",
      "文 NOUN <╗ ║       ║ nmod\n",
      "德 NOUN ═╝<╝       ║ obj\n",
      "以 VERB <══╗       ║ advmod\n",
      "來 VERB ═╗═╝<══════╝ parataxis\n",
      "之 PRON <╝           obj\n"
     ]
    },
    {
     "name": "stderr",
     "output_type": "stream",
     "text": [
      "\r"
     ]
    }
   ],
   "source": [
    "ex47 = nlp(\"故遠人不服則脩文德以來之\")\n",
    "render(ex47)"
   ]
  },
  {
   "cell_type": "code",
   "execution_count": 24,
   "metadata": {},
   "outputs": [
    {
     "name": "stderr",
     "output_type": "stream",
     "text": [
      "                                                   "
     ]
    },
    {
     "name": "stdout",
     "output_type": "stream",
     "text": [
      "則 ADV  <══════╗   advmod\n",
      "苗 NOUN <════╗ ║   nsubj\n",
      "勃 VERB ═╗<╗ ║ ║   advmod\n",
      "然 PART <╝ ║ ║ ║   fixed\n",
      "興 VERB ═╗═╝═╝═╝═╗ ROOT\n",
      "之 PRON <╝       ║ obj\n",
      "矣 PART <════════╝ discourse:sp\n"
     ]
    },
    {
     "name": "stderr",
     "output_type": "stream",
     "text": [
      "\r"
     ]
    }
   ],
   "source": [
    "ex48 = nlp(\"則苗勃然興之矣\")\n",
    "render(ex48)"
   ]
  },
  {
   "cell_type": "code",
   "execution_count": 25,
   "metadata": {},
   "outputs": [
    {
     "name": "stderr",
     "output_type": "stream",
     "text": [
      "                                                   "
     ]
    },
    {
     "name": "stdout",
     "output_type": "stream",
     "text": [
      "吾     PRON  <══╗           det\n",
      "有     VERB  <╗ ║           amod\n",
      "司     NOUN  ═╝═╝<══════╗   vocative\n",
      "死     VERB  <╗         ║   amod\n",
      "者     PART  ═╝<╗       ║   nsubj\n",
      "三十三 NUM   ═╗═╝═══════║═╗ ROOT\n",
      "人     NOUN  <╝         ║ ║ clf\n",
      "而     CCONJ <══════╗   ║ ║ advmod\n",
      "民     NOUN  <════╗ ║   ║ ║ nsubj\n",
      "莫     ADV   <══╗ ║ ║   ║ ║ advmod\n",
      "之     PRON  <╗ ║ ║ ║   ║ ║ expl\n",
      "死     VERB  ═╝═╝═╝═╝═╗═╝<╝ conj\n",
      "也     PART  <════════╝     discourse:sp\n"
     ]
    },
    {
     "name": "stderr",
     "output_type": "stream",
     "text": [
      "\r"
     ]
    }
   ],
   "source": [
    "ex49 = nlp(\"吾有司死者三十三人而民莫之死也\")\n",
    "render(ex49)"
   ]
  },
  {
   "cell_type": "markdown",
   "metadata": {},
   "source": [
    "## 5. Transitive Verbs - Active and Passive"
   ]
  },
  {
   "cell_type": "code",
   "execution_count": 26,
   "metadata": {},
   "outputs": [
    {
     "name": "stderr",
     "output_type": "stream",
     "text": [
      "                                                   "
     ]
    },
    {
     "name": "stdout",
     "output_type": "stream",
     "text": [
      "七十 NUM  <╗     nummod\n",
      "者   PART ═╝<╗   nsubj\n",
      "衣   VERB ═╗═╝═╗ ROOT\n",
      "帛   NOUN <╝   ║ obj\n",
      "食   VERB ═╗<══╝ parataxis\n",
      "肉   NOUN <╝     obj\n"
     ]
    },
    {
     "name": "stderr",
     "output_type": "stream",
     "text": [
      "\r"
     ]
    }
   ],
   "source": [
    "ex50 = nlp(\"七十者衣帛食肉\")\n",
    "render(ex50)"
   ]
  },
  {
   "cell_type": "code",
   "execution_count": 27,
   "metadata": {},
   "outputs": [
    {
     "name": "stderr",
     "output_type": "stream",
     "text": [
      "                                                   "
     ]
    },
    {
     "name": "stdout",
     "output_type": "stream",
     "text": [
      "師 NOUN  <╗     nsubj\n",
      "行 VERB  ═╝═══╗ ROOT\n",
      "而 CCONJ <══╗ ║ cc\n",
      "糧 NOUN  <╗ ║ ║ nsubj:pass\n",
      "食 VERB  ═╝═╝<╝ conj\n"
     ]
    },
    {
     "name": "stderr",
     "output_type": "stream",
     "text": [
      "\r"
     ]
    }
   ],
   "source": [
    "ex51 = nlp(\"師行而糧食\")\n",
    "render(ex51)"
   ]
  },
  {
   "cell_type": "code",
   "execution_count": 28,
   "metadata": {},
   "outputs": [
    {
     "name": "stderr",
     "output_type": "stream",
     "text": [
      "                                                   "
     ]
    },
    {
     "name": "stdout",
     "output_type": "stream",
     "text": [
      "賢 VERB  <╗         amod\n",
      "者 PART  ═╝<══════╗ nsubj\n",
      "與 ADP   <╗       ║ case\n",
      "民 NOUN  ═╝<════╗ ║ obl\n",
      "並 ADV   <════╗ ║ ║ advmod\n",
      "耕 VERB  ═══╗═╝═╝═╝ ROOT\n",
      "而 CCONJ <╗ ║       cc\n",
      "食 VERB  ═╝<╝       conj\n"
     ]
    },
    {
     "name": "stderr",
     "output_type": "stream",
     "text": [
      "\r"
     ]
    }
   ],
   "source": [
    "ex52 = nlp(\"賢者與民並耕而食\")\n",
    "render(ex52)"
   ]
  },
  {
   "cell_type": "code",
   "execution_count": 29,
   "metadata": {},
   "outputs": [
    {
     "name": "stderr",
     "output_type": "stream",
     "text": [
      "                                                   "
     ]
    },
    {
     "name": "stdout",
     "output_type": "stream",
     "text": [
      "勞 VERB ═╗<╗     acl\n",
      "心 NOUN <╝ ║     obj\n",
      "者 PART ═══╝<╗   nsubj\n",
      "治 VERB ═╗═══╝   ROOT\n",
      "人 NOUN <╝       obj\n",
      "勞 VERB ═╗<╗     acl\n",
      "力 NOUN <╝ ║     obj\n",
      "者 PART ═══╝<╗   nsubj:pass\n",
      "治 VERB ═══╗═╝   ROOT\n",
      "於 ADP  <╗ ║     case\n",
      "人 NOUN ═╝<╝     obl\n",
      "治 VERB ═══╗<╗   acl\n",
      "於 ADP  <╗ ║ ║   case\n",
      "人 NOUN ═╝<╝ ║   obl\n",
      "者 PART ═════╝<╗ nsubj\n",
      "食 VERB ═╗═════╝ ROOT\n",
      "人 NOUN <╝       obj\n",
      "治 VERB ═╗<╗     acl\n",
      "人 NOUN <╝ ║     obj\n",
      "者 PART ═══╝<╗   nsubj:pass\n",
      "食 VERB ═══╗═╝   ROOT\n",
      "於 ADP  <╗ ║     case\n",
      "人 NOUN ═╝<╝     obl\n"
     ]
    },
    {
     "name": "stderr",
     "output_type": "stream",
     "text": [
      "\r"
     ]
    }
   ],
   "source": [
    "ex53 = nlp(\"勞心者治人\\n勞力者治於人\\n治於人者食人\\n治人者食於人\")\n",
    "render(ex53)"
   ]
  },
  {
   "cell_type": "markdown",
   "metadata": {},
   "source": [
    "## 6. Verbs of Motion and Location - Intransitive and Transitive"
   ]
  },
  {
   "cell_type": "code",
   "execution_count": 30,
   "metadata": {},
   "outputs": [
    {
     "name": "stderr",
     "output_type": "stream",
     "text": [
      "                                                   "
     ]
    },
    {
     "name": "stdout",
     "output_type": "stream",
     "text": [
      "芻 VERB ═╗<╗   acl\n",
      "蕘 NOUN <╝ ║   conj\n",
      "者 PART ═══╝<╗ nsubj\n",
      "往 VERB ═╗═══╝ ROOT\n",
      "焉 PRON <╝     obl\n"
     ]
    },
    {
     "name": "stderr",
     "output_type": "stream",
     "text": [
      "\r"
     ]
    }
   ],
   "source": [
    "ex54 = nlp(\"芻蕘者往焉\")\n",
    "render(ex54)"
   ]
  },
  {
   "cell_type": "code",
   "execution_count": 31,
   "metadata": {},
   "outputs": [
    {
     "name": "stderr",
     "output_type": "stream",
     "text": [
      "                                                   "
     ]
    },
    {
     "name": "stdout",
     "output_type": "stream",
     "text": [
      "將 ADV   <══╗ advmod\n",
      "之 VERB  ═╗═╝ ROOT\n",
      "楚 PROPN <╝   obj\n"
     ]
    },
    {
     "name": "stderr",
     "output_type": "stream",
     "text": [
      "\r"
     ]
    }
   ],
   "source": [
    "ex55 = nlp(\"將之楚\")\n",
    "render(ex55)"
   ]
  },
  {
   "cell_type": "code",
   "execution_count": 32,
   "metadata": {},
   "outputs": [
    {
     "name": "stderr",
     "output_type": "stream",
     "text": [
      "                                                   "
     ]
    },
    {
     "name": "stdout",
     "output_type": "stream",
     "text": [
      "就 VERB  ═╗═════════╗ ROOT\n",
      "之 PRON  <╝         ║ obj\n",
      "而 CCONJ <════════╗ ║ cc\n",
      "不 ADV   <══════╗ ║ ║ advmod\n",
      "見 VERB  ═════╗═╝═╝<╝ conj\n",
      "所 PART  <══╗ ║       mark\n",
      "畏 VERB  ═╗═╝<╝       ccomp\n",
      "焉 PART  <╝           obl\n"
     ]
    },
    {
     "name": "stderr",
     "output_type": "stream",
     "text": [
      "\r"
     ]
    }
   ],
   "source": [
    "ex56 = nlp(\"就之而不見所畏焉\")\n",
    "render(ex56)"
   ]
  },
  {
   "cell_type": "code",
   "execution_count": 33,
   "metadata": {},
   "outputs": [
    {
     "name": "stderr",
     "output_type": "stream",
     "text": [
      "                                                   "
     ]
    },
    {
     "name": "stdout",
     "output_type": "stream",
     "text": [
      "掘 VERB  ═╗═╗═══╗ ROOT\n",
      "井 NOUN  <╝ ║   ║ obj\n",
      "九 NUM   ═╗<╝   ║ advmod\n",
      "軔 NOUN  <╝     ║ clf\n",
      "而 CCONJ <════╗ ║ cc\n",
      "不 ADV   <══╗ ║ ║ advmod\n",
      "及 VERB  ═╗═╝═╝<╝ conj\n",
      "泉 NOUN  <╝       obj\n"
     ]
    },
    {
     "name": "stderr",
     "output_type": "stream",
     "text": [
      "\r"
     ]
    }
   ],
   "source": [
    "ex57 = nlp(\"掘井九軔而不及泉\")\n",
    "render(ex57)"
   ]
  },
  {
   "cell_type": "code",
   "execution_count": 34,
   "metadata": {},
   "outputs": [
    {
     "name": "stderr",
     "output_type": "stream",
     "text": [
      "                                                   "
     ]
    },
    {
     "name": "stdout",
     "output_type": "stream",
     "text": [
      "故 ADV  <════╗ advmod\n",
      "及 VERB ═══╗═╝ ROOT\n",
      "於 ADP  <╗ ║   case\n",
      "難 NOUN ═╝<╝   obl\n"
     ]
    },
    {
     "name": "stderr",
     "output_type": "stream",
     "text": [
      "\r"
     ]
    }
   ],
   "source": [
    "ex58 = nlp(\"故及於難\")\n",
    "render(ex58)"
   ]
  },
  {
   "cell_type": "code",
   "execution_count": 35,
   "metadata": {},
   "outputs": [
    {
     "name": "stderr",
     "output_type": "stream",
     "text": [
      "                                                   "
     ]
    },
    {
     "name": "stdout",
     "output_type": "stream",
     "text": [
      "昔 NOUN  <╗         nmod\n",
      "者 PART  ═╝<══╗     advmod\n",
      "大 VERB  <╗   ║     amod\n",
      "王 NOUN  ═╝<╗ ║     nsubj\n",
      "居 VERB  ═╗═╝═╝     ROOT\n",
      "邠 PROPN <╝         obj\n",
      "狄 NOUN  <╗         nmod\n",
      "人 NOUN  ═╝<╗       nsubj\n",
      "侵 VERB  ═╗═╝═════╗ ROOT\n",
      "之 PRON  <╝       ║ obj\n",
      "去 VERB  ═╗═════╗<╝ parataxis\n",
      "之 VERB  <╝     ║   iobj\n",
      "岐 PROPN <╗     ║   compound\n",
      "山 NOUN  ═╝═╗<╗ ║   nmod\n",
      "之 SCONJ <══╝ ║ ║   case\n",
      "下 NOUN  ═════╝<╝   obj\n",
      "居 VERB  ═╗         ROOT\n",
      "焉 PART  <╝         obl\n"
     ]
    },
    {
     "name": "stderr",
     "output_type": "stream",
     "text": [
      "\r"
     ]
    }
   ],
   "source": [
    "ex59 = nlp(\"昔者大王居邠\\n狄人侵之去之岐山之下\\n居焉\")\n",
    "render(ex59)"
   ]
  },
  {
   "cell_type": "markdown",
   "metadata": {},
   "source": [
    "## 7. The Verbs *You* 有 'have; there is/are' and *Wu* 無 'not have; there is/are not'"
   ]
  },
  {
   "cell_type": "code",
   "execution_count": 36,
   "metadata": {},
   "outputs": [
    {
     "name": "stderr",
     "output_type": "stream",
     "text": [
      "                                                   "
     ]
    },
    {
     "name": "stdout",
     "output_type": "stream",
     "text": [
      "亦 ADV  <════╗       advmod\n",
      "有 VERB ═══╗═╝═╗═╗═╗ ROOT\n",
      "仁 NOUN ═╗<╝   ║ ║ ║ obj\n",
      "義 NOUN <╝     ║ ║ ║ conj\n",
      "而 PART <══════╝ ║ ║ discourse:sp\n",
      "已 PART <════════╝ ║ discourse:sp\n",
      "矣 PART <══════════╝ discourse:sp\n"
     ]
    },
    {
     "name": "stderr",
     "output_type": "stream",
     "text": [
      "\r"
     ]
    }
   ],
   "source": [
    "ex60 = nlp(\"亦有仁義而已矣\")\n",
    "render(ex60)"
   ]
  },
  {
   "cell_type": "code",
   "execution_count": 37,
   "metadata": {},
   "outputs": [
    {
     "name": "stderr",
     "output_type": "stream",
     "text": [
      "                                                   "
     ]
    },
    {
     "name": "stdout",
     "output_type": "stream",
     "text": [
      "仁 VERB <╗   amod\n",
      "者 PART ═╝<╗ nsubj\n",
      "無 VERB ═╗═╝ ROOT\n",
      "敵 NOUN <╝   obj\n"
     ]
    },
    {
     "name": "stderr",
     "output_type": "stream",
     "text": [
      "\r"
     ]
    }
   ],
   "source": [
    "ex61 = nlp(\"仁者無敵\")\n",
    "render(ex61)"
   ]
  },
  {
   "cell_type": "code",
   "execution_count": 38,
   "metadata": {},
   "outputs": [
    {
     "name": "stderr",
     "output_type": "stream",
     "text": [
      "                                                   "
     ]
    },
    {
     "name": "stdout",
     "output_type": "stream",
     "text": [
      "未 ADV   <════════════╗   advmod\n",
      "有 VERB  ═══════════╗═╝═╗ ROOT\n",
      "義 VERB  ═══════╗<╗ ║   ║ acl\n",
      "而 CCONJ <════╗ ║ ║ ║   ║ cc\n",
      "後 VERB  ═══╗═╝<╝ ║ ║   ║ conj\n",
      "其 PRON  <╗ ║     ║ ║   ║ det\n",
      "君 NOUN  ═╝<╝     ║ ║   ║ obj\n",
      "者 PART  ═════════╝<╝   ║ obj\n",
      "也 PART  <══════════════╝ discourse:sp\n"
     ]
    },
    {
     "name": "stderr",
     "output_type": "stream",
     "text": [
      "\r"
     ]
    }
   ],
   "source": [
    "ex62 = nlp(\"未有義而後其君者也\")\n",
    "render(ex62)"
   ]
  },
  {
   "cell_type": "code",
   "execution_count": 39,
   "metadata": {},
   "outputs": [
    {
     "name": "stderr",
     "output_type": "stream",
     "text": [
      "                                                   "
     ]
    },
    {
     "name": "stdout",
     "output_type": "stream",
     "text": [
      "無   VERB ═╗═════╗ ROOT\n",
      "君子 NOUN <╝     ║ obj\n",
      "莫   ADV  <════╗ ║ advmod\n",
      "治   VERB ═══╗═╝<╝ conj\n",
      "野   NOUN <╗ ║     nmod\n",
      "人   NOUN ═╝<╝     obj\n",
      "無   VERB ═══╗═╗   ROOT\n",
      "野   NOUN <╗ ║ ║   nmod\n",
      "人   NOUN ═╝<╝ ║   obj\n",
      "莫   ADV  <══╗ ║   advmod\n",
      "養   VERB ═╗═╝<╝   conj\n",
      "君子 NOUN <╝       obj\n"
     ]
    },
    {
     "name": "stderr",
     "output_type": "stream",
     "text": [
      "\r"
     ]
    }
   ],
   "source": [
    "ex63 = nlp(\"無君子莫治野人\\n無野人莫養君子\")\n",
    "render(ex63)"
   ]
  },
  {
   "cell_type": "code",
   "execution_count": 40,
   "metadata": {},
   "outputs": [
    {
     "name": "stderr",
     "output_type": "stream",
     "text": [
      "                                                   "
     ]
    },
    {
     "name": "stdout",
     "output_type": "stream",
     "text": [
      "塗 NOUN <════╗ nsubj\n",
      "有 VERB ═══╗═╝ ROOT\n",
      "餓 VERB ═╗<╝   obj\n",
      "莩 VERB <╝     flat:vv\n"
     ]
    },
    {
     "name": "stderr",
     "output_type": "stream",
     "text": [
      "\r"
     ]
    }
   ],
   "source": [
    "ex64 = nlp(\"塗有餓莩\")\n",
    "render(ex64)"
   ]
  },
  {
   "cell_type": "code",
   "execution_count": 41,
   "metadata": {},
   "outputs": [
    {
     "name": "stderr",
     "output_type": "stream",
     "text": [
      "                                                   "
     ]
    },
    {
     "name": "stdout",
     "output_type": "stream",
     "text": [
      "於 ADP  <══╗     case\n",
      "我 PRON <╗ ║     det\n",
      "心 NOUN ═╝═╝<══╗ obl\n",
      "有 VERB ═══╗═╗═╝ ROOT\n",
      "戚 VERB ═╗<╝ ║   obj\n",
      "戚 VERB <╝   ║   compound:redup\n",
      "焉 PART <════╝   obl\n"
     ]
    },
    {
     "name": "stderr",
     "output_type": "stream",
     "text": [
      "\r"
     ]
    }
   ],
   "source": [
    "ex65 = nlp(\"於我心有戚戚焉\")\n",
    "render(ex65)"
   ]
  },
  {
   "cell_type": "code",
   "execution_count": 42,
   "metadata": {},
   "outputs": [
    {
     "name": "stderr",
     "output_type": "stream",
     "text": [
      "                                                   "
     ]
    },
    {
     "name": "stdout",
     "output_type": "stream",
     "text": [
      "王 NOUN  ═╗<╗             nmod\n",
      "之 SCONJ <╝ ║             case\n",
      "臣 NOUN  ═══╝<══════════╗ nsubj\n",
      "有 VERB  ═════════════╗═╝ ROOT\n",
      "託 VERB  ═════╗═╗═╗<╗ ║   acl\n",
      "其 PRON  <══╗ ║ ║ ║ ║ ║   det\n",
      "妻 NOUN  ═╗═╝<╝ ║ ║ ║ ║   obj\n",
      "子 NOUN  <╝     ║ ║ ║ ║   conj\n",
      "於 ADP   <══╗   ║ ║ ║ ║   case\n",
      "其 PRON  <╗ ║   ║ ║ ║ ║   det\n",
      "友 NOUN  ═╝═╝<══╝ ║ ║ ║   obl\n",
      "而 CCONJ <════╗   ║ ║ ║   cc\n",
      "之 VERB  ═╗═╗═╝<══╝ ║ ║   conj\n",
      "楚 PROPN <╝ ║       ║ ║   obj\n",
      "遊 VERB  <══╝       ║ ║   conj\n",
      "者 PART  ═══════════╝<╝   obj\n"
     ]
    },
    {
     "name": "stderr",
     "output_type": "stream",
     "text": [
      "\r"
     ]
    }
   ],
   "source": [
    "ex66 = nlp(\"王之臣有託其妻子於其友而之楚遊者\")\n",
    "render(ex66)"
   ]
  },
  {
   "cell_type": "code",
   "execution_count": 43,
   "metadata": {},
   "outputs": [
    {
     "name": "stderr",
     "output_type": "stream",
     "text": [
      "                                                   "
     ]
    },
    {
     "name": "stdout",
     "output_type": "stream",
     "text": [
      "交 VERB ═══╗<╗   csubj\n",
      "鄰 NOUN <╗ ║ ║   nmod\n",
      "國 NOUN ═╝<╝ ║   obj\n",
      "有 VERB ═╗═══╝═╗ ROOT\n",
      "道 NOUN <╝     ║ obj\n",
      "乎 PART <══════╝ discourse:sp\n"
     ]
    },
    {
     "name": "stderr",
     "output_type": "stream",
     "text": [
      "\r"
     ]
    }
   ],
   "source": [
    "ex67 = nlp(\"交鄰國有道乎\")\n",
    "render(ex67)"
   ]
  },
  {
   "cell_type": "markdown",
   "metadata": {},
   "source": [
    "## 8. Transitive Verbs with Two Objects"
   ]
  },
  {
   "cell_type": "markdown",
   "metadata": {},
   "source": [
    "### a. Verbs of giving, telling, teaching and the like take two objects"
   ]
  },
  {
   "cell_type": "code",
   "execution_count": 44,
   "metadata": {},
   "outputs": [
    {
     "name": "stderr",
     "output_type": "stream",
     "text": [
      "                                                   "
     ]
    },
    {
     "name": "stdout",
     "output_type": "stream",
     "text": [
      "能 AUX  <════╗ aux\n",
      "與 VERB ═╗═╗═╝ ROOT\n",
      "人 NOUN <╝ ║   iobj\n",
      "規 NOUN ═╗<╝   obj\n",
      "矩 NOUN <╝     conj\n"
     ]
    },
    {
     "name": "stderr",
     "output_type": "stream",
     "text": [
      "\r"
     ]
    }
   ],
   "source": [
    "ex68 = nlp(\"能與人規矩\")\n",
    "render(ex68)"
   ]
  },
  {
   "cell_type": "code",
   "execution_count": 45,
   "metadata": {},
   "outputs": [
    {
     "name": "stderr",
     "output_type": "stream",
     "text": [
      "                                                   "
     ]
    },
    {
     "name": "stdout",
     "output_type": "stream",
     "text": [
      "授   VERB  ═══╗ ROOT\n",
      "孟子 PROPN <╗ ║ nmod\n",
      "室   NOUN  ═╝<╝ obj\n"
     ]
    },
    {
     "name": "stderr",
     "output_type": "stream",
     "text": [
      "\r"
     ]
    }
   ],
   "source": [
    "ex69 = nlp(\"授孟子室\")\n",
    "render(ex69)"
   ]
  },
  {
   "cell_type": "code",
   "execution_count": 46,
   "metadata": {},
   "outputs": [
    {
     "name": "stderr",
     "output_type": "stream",
     "text": [
      "                                                   "
     ]
    },
    {
     "name": "stdout",
     "output_type": "stream",
     "text": [
      "后稷 PROPN <════╗ nsubj\n",
      "教   VERB  ═╗═╗═╝ ROOT\n",
      "人   NOUN  <╝ ║   iobj\n",
      "稼   VERB  ═╗<╝   obj\n",
      "穑   VERB  <╝     flat:vv\n"
     ]
    },
    {
     "name": "stderr",
     "output_type": "stream",
     "text": [
      "\r"
     ]
    }
   ],
   "source": [
    "ex70 = nlp(\"后稷教人稼穑\")\n",
    "render(ex70)"
   ]
  },
  {
   "cell_type": "code",
   "execution_count": 47,
   "metadata": {},
   "outputs": [
    {
     "name": "stderr",
     "output_type": "stream",
     "text": [
      "                                                   "
     ]
    },
    {
     "name": "stdout",
     "output_type": "stream",
     "text": [
      "堯 PROPN <══════╗ nsubj\n",
      "以 VERB  ═══╗<╗ ║ advcl\n",
      "天 NOUN  <╗ ║ ║ ║ compound\n",
      "下 NOUN  ═╝<╝ ║ ║ obj\n",
      "與 VERB  ═╗═══╝═╝ ROOT\n",
      "舜 PROPN <╝       obj\n"
     ]
    },
    {
     "name": "stderr",
     "output_type": "stream",
     "text": [
      "\r"
     ]
    }
   ],
   "source": [
    "ex71 = nlp(\"堯以天下與舜\")\n",
    "render(ex71)"
   ]
  },
  {
   "cell_type": "code",
   "execution_count": 48,
   "metadata": {},
   "outputs": [
    {
     "name": "stderr",
     "output_type": "stream",
     "text": [
      "                                                   "
     ]
    },
    {
     "name": "stdout",
     "output_type": "stream",
     "text": [
      "教 VERB ═╗═╗ ROOT\n",
      "人 NOUN <╝ ║ obj\n",
      "以 VERB ═╗<╝ advcl\n",
      "善 NOUN <╝   obj\n"
     ]
    },
    {
     "name": "stderr",
     "output_type": "stream",
     "text": [
      "\r"
     ]
    }
   ],
   "source": [
    "ex72 = nlp(\"教人以善\")\n",
    "render(ex72)"
   ]
  },
  {
   "cell_type": "code",
   "execution_count": 49,
   "metadata": {},
   "outputs": [
    {
     "name": "stderr",
     "output_type": "stream",
     "text": [
      "                                                   "
     ]
    },
    {
     "name": "stdout",
     "output_type": "stream",
     "text": [
      "以   VERB  <══╗ advmod\n",
      "告   VERB  ═╗═╝ ROOT\n",
      "孟子 PROPN <╝   obj\n"
     ]
    },
    {
     "name": "stderr",
     "output_type": "stream",
     "text": [
      "\r"
     ]
    }
   ],
   "source": [
    "ex73 = nlp(\"以告孟子\")\n",
    "render(ex73)"
   ]
  },
  {
   "cell_type": "code",
   "execution_count": 50,
   "metadata": {},
   "outputs": [
    {
     "name": "stderr",
     "output_type": "stream",
     "text": [
      "                                                   "
     ]
    },
    {
     "name": "stdout",
     "output_type": "stream",
     "text": [
      "不 ADV  <════╗ advmod\n",
      "告 VERB ═══╗═╝ ROOT\n",
      "於 ADP  <╗ ║   case\n",
      "王 NOUN ═╝<╝   obl\n"
     ]
    },
    {
     "name": "stderr",
     "output_type": "stream",
     "text": [
      "\r"
     ]
    }
   ],
   "source": [
    "ex74 = nlp(\"不告於王\")\n",
    "render(ex74)"
   ]
  },
  {
   "cell_type": "code",
   "execution_count": 51,
   "metadata": {},
   "outputs": [
    {
     "name": "stderr",
     "output_type": "stream",
     "text": [
      "                                                   "
     ]
    },
    {
     "name": "stdout",
     "output_type": "stream",
     "text": [
      "南 PROPN ═╗<╗             nsubj\n",
      "氏 NOUN  <╝ ║             flat\n",
      "生 VERB  ═╗═╝<════════╗   advcl\n",
      "男 NOUN  <╝           ║   obj\n",
      "則 ADV   <══════════╗ ║   advmod\n",
      "以 VERB  <════════╗ ║ ║   advmod\n",
      "告 VERB  ═══════╗═╝═╝═╝═╗ ROOT\n",
      "於 ADP   <╗     ║       ║ case\n",
      "君 NOUN  ═╝═══╗<╝       ║ obl\n",
      "與 ADP   <══╗ ║         ║ cc\n",
      "大 VERB  <╗ ║ ║         ║ amod\n",
      "夫 NOUN  ═╝═╝<╝         ║ conj\n",
      "而 CCONJ <══╗           ║ cc\n",
      "立 VERB  ═╗═╝<══════════╝ conj\n",
      "之 PRON  <╝               obj\n"
     ]
    },
    {
     "name": "stderr",
     "output_type": "stream",
     "text": [
      "\r"
     ]
    }
   ],
   "source": [
    "ex75 = nlp(\"南氏生男則以告於君與大夫而立之\")\n",
    "render(ex75)"
   ]
  },
  {
   "cell_type": "markdown",
   "metadata": {},
   "source": [
    "### b. The verb 奪 takes two objects"
   ]
  },
  {
   "cell_type": "code",
   "execution_count": 52,
   "metadata": {},
   "outputs": [
    {
     "name": "stderr",
     "output_type": "stream",
     "text": [
      "                                                   "
     ]
    },
    {
     "name": "stdout",
     "output_type": "stream",
     "text": [
      "奪 VERB ═╗═╗ ROOT\n",
      "之 PRON <╝ ║ iobj\n",
      "食 NOUN <══╝ obj\n"
     ]
    },
    {
     "name": "stderr",
     "output_type": "stream",
     "text": [
      "\r"
     ]
    }
   ],
   "source": [
    "ex76 = nlp(\"奪之食\")\n",
    "render(ex76)"
   ]
  },
  {
   "cell_type": "markdown",
   "metadata": {},
   "source": [
    "### c. The verb 聞 takes what is heard as the direct object"
   ]
  },
  {
   "cell_type": "code",
   "execution_count": 53,
   "metadata": {},
   "outputs": [
    {
     "name": "stderr",
     "output_type": "stream",
     "text": [
      "                                                   "
     ]
    },
    {
     "name": "stdout",
     "output_type": "stream",
     "text": [
      "吾   PRON <════════╗   nsubj\n",
      "嘗   ADV  <══════╗ ║   advmod\n",
      "聞   VERB ═══╗═╗═╝═╝═╗ ROOT\n",
      "大   VERB <╗ ║ ║     ║ amod\n",
      "勇   NOUN ═╝<╝ ║     ║ obj\n",
      "於   ADP  <╗   ║     ║ case\n",
      "夫子 NOUN ═╝<══╝     ║ obl\n",
      "矣   PART <══════════╝ discourse:sp\n"
     ]
    },
    {
     "name": "stderr",
     "output_type": "stream",
     "text": [
      "\r"
     ]
    }
   ],
   "source": [
    "ex77 = nlp(\"吾嘗聞大勇於夫子矣\")\n",
    "render(ex77)"
   ]
  },
  {
   "cell_type": "code",
   "execution_count": 54,
   "metadata": {},
   "outputs": [
    {
     "name": "stderr",
     "output_type": "stream",
     "text": [
      "                                                   "
     ]
    },
    {
     "name": "stdout",
     "output_type": "stream",
     "text": [
      "臣   NOUN  <════╗   nsubj\n",
      "聞   VERB  ═╗═╗═╝═╗ ROOT\n",
      "之   PRON  <╝ ║   ║ iobj\n",
      "胡齕 PROPN <══╝   ║ obj\n",
      "曰   VERB  <══════╝ parataxis\n"
     ]
    },
    {
     "name": "stderr",
     "output_type": "stream",
     "text": [
      "\r"
     ]
    }
   ],
   "source": [
    "ex78 = nlp(\"臣聞之胡齕曰\")\n",
    "render(ex78)"
   ]
  },
  {
   "cell_type": "code",
   "execution_count": 55,
   "metadata": {},
   "outputs": [
    {
     "name": "stderr",
     "output_type": "stream",
     "text": [
      "                                                   "
     ]
    },
    {
     "name": "stdout",
     "output_type": "stream",
     "text": [
      "或 PRON  <══════╗   nsubj\n",
      "問 VERB  ═════╗═╝═╗ ROOT\n",
      "乎 ADP   <══╗ ║   ║ case\n",
      "曾 PROPN ═╗═╝<╝   ║ obl\n",
      "西 PROPN <╝       ║ flat\n",
      "曰 VERB  <════════╝ parataxis\n"
     ]
    },
    {
     "name": "stderr",
     "output_type": "stream",
     "text": [
      "\r"
     ]
    }
   ],
   "source": [
    "ex79 = nlp(\"或問乎曾西曰\")\n",
    "render(ex79)"
   ]
  },
  {
   "cell_type": "code",
   "execution_count": 56,
   "metadata": {},
   "outputs": [
    {
     "name": "stderr",
     "output_type": "stream",
     "text": [
      "                                                   "
     ]
    },
    {
     "name": "stdout",
     "output_type": "stream",
     "text": [
      "或 PRON <══╗   nsubj\n",
      "問 VERB ═╗═╝═╗ ROOT\n",
      "之 PRON <╝   ║ obj\n",
      "曰 VERB <════╝ parataxis\n"
     ]
    },
    {
     "name": "stderr",
     "output_type": "stream",
     "text": [
      "\r"
     ]
    }
   ],
   "source": [
    "ex80 = nlp(\"或問之曰\")\n",
    "render(ex80)"
   ]
  },
  {
   "cell_type": "markdown",
   "metadata": {},
   "source": [
    "### d. The verb 為 can take a personal indirect object as well as a direct object"
   ]
  },
  {
   "cell_type": "code",
   "execution_count": 57,
   "metadata": {},
   "outputs": [
    {
     "name": "stderr",
     "output_type": "stream",
     "text": [
      "                                                   "
     ]
    },
    {
     "name": "stdout",
     "output_type": "stream",
     "text": [
      "重 VERB  <════╗   advmod\n",
      "為 VERB  ═╗═╗═╝═╗ ROOT\n",
      "之 PRON  <╝ ║   ║ iobj\n",
      "禮 NOUN  <══╝   ║ obj\n",
      "而 CCONJ <══╗   ║ cc\n",
      "歸 VERB  ═╗═╝<══╝ conj\n",
      "之 PRON  <╝       obj\n"
     ]
    },
    {
     "name": "stderr",
     "output_type": "stream",
     "text": [
      "\r"
     ]
    }
   ],
   "source": [
    "ex81 = nlp(\"重為之禮而歸之\")\n",
    "render(ex81)"
   ]
  },
  {
   "cell_type": "code",
   "execution_count": 58,
   "metadata": {},
   "outputs": [
    {
     "name": "stderr",
     "output_type": "stream",
     "text": [
      "                                                   "
     ]
    },
    {
     "name": "stdout",
     "output_type": "stream",
     "text": [
      "求 PROPN ═╗<════╗ nsubj\n",
      "也 PART  <╝     ║ case\n",
      "為 VERB  <════╗ ║ cop\n",
      "季 PROPN ═╗<╗ ║ ║ nmod\n",
      "氏 NOUN  <╝ ║ ║ ║ flat\n",
      "宰 NOUN  ═══╝═╝═╝ ROOT\n"
     ]
    },
    {
     "name": "stderr",
     "output_type": "stream",
     "text": [
      "\r"
     ]
    }
   ],
   "source": [
    "ex82 = nlp(\"求也為季氏宰\")\n",
    "render(ex82)"
   ]
  },
  {
   "cell_type": "markdown",
   "metadata": {},
   "source": [
    "### e. The so-called 'pivot construction'"
   ]
  },
  {
   "cell_type": "markdown",
   "metadata": {},
   "source": [
    "### f. The verb 謂"
   ]
  },
  {
   "cell_type": "code",
   "execution_count": 59,
   "metadata": {},
   "outputs": [
    {
     "name": "stderr",
     "output_type": "stream",
     "text": [
      "                                                   "
     ]
    },
    {
     "name": "stdout",
     "output_type": "stream",
     "text": [
      "人 NOUN <════════╗ nsubj\n",
      "皆 ADV  <══════╗ ║ advmod\n",
      "謂 VERB ═╗═══╗═╝═╝ ROOT\n",
      "我 PRON <╝   ║     obj\n",
      "毁 VERB ═══╗<╝     xcomp\n",
      "明 NOUN <╗ ║       nmod\n",
      "堂 NOUN ═╝<╝       obj\n"
     ]
    },
    {
     "name": "stderr",
     "output_type": "stream",
     "text": [
      "\r"
     ]
    }
   ],
   "source": [
    "ex83 = nlp(\"人皆謂我毁明堂\")\n",
    "render(ex83)"
   ]
  },
  {
   "cell_type": "code",
   "execution_count": 60,
   "metadata": {},
   "outputs": [
    {
     "name": "stderr",
     "output_type": "stream",
     "text": [
      "                                                   "
     ]
    },
    {
     "name": "stdout",
     "output_type": "stream",
     "text": [
      "謂 VERB ═══╗═╗ ROOT\n",
      "其 PRON <╗ ║ ║ det\n",
      "臺 NOUN ═╝<╝ ║ obj\n",
      "曰 VERB ═══╗<╝ parataxis\n",
      "靈 VERB <╗ ║   amod\n",
      "臺 NOUN ═╝<╝   obj\n"
     ]
    },
    {
     "name": "stderr",
     "output_type": "stream",
     "text": [
      "\r"
     ]
    }
   ],
   "source": [
    "ex84 = nlp(\"謂其臺曰靈臺\")\n",
    "render(ex84)"
   ]
  },
  {
   "cell_type": "code",
   "execution_count": 61,
   "metadata": {},
   "outputs": [
    {
     "name": "stderr",
     "output_type": "stream",
     "text": [
      "                                                   "
     ]
    },
    {
     "name": "stdout",
     "output_type": "stream",
     "text": [
      "孟子 PROPN <══════╗   nsubj\n",
      "謂   VERB  ═════╗═╝═╗ ROOT\n",
      "齊   PROPN <══╗ ║   ║ nmod\n",
      "宣   PROPN <╗ ║ ║   ║ compound\n",
      "王   NOUN  ═╝═╝<╝   ║ obj\n",
      "曰   VERB  <════════╝ parataxis\n"
     ]
    },
    {
     "name": "stderr",
     "output_type": "stream",
     "text": [
      "\r"
     ]
    }
   ],
   "source": [
    "ex85 = nlp(\"孟子謂齊宣王曰\")\n",
    "render(ex85)"
   ]
  },
  {
   "cell_type": "markdown",
   "metadata": {},
   "source": [
    "### g. The verbs 若 and 如"
   ]
  },
  {
   "cell_type": "code",
   "execution_count": 62,
   "metadata": {},
   "outputs": [
    {
     "name": "stderr",
     "output_type": "stream",
     "text": [
      "                                                   "
     ]
    },
    {
     "name": "stdout",
     "output_type": "stream",
     "text": [
      "子 PRON <════╗ nsubj\n",
      "若 VERB ═╗═╗═╝ ROOT\n",
      "國 NOUN <╝ ║   obj\n",
      "何 PRON <══╝   xcomp\n"
     ]
    },
    {
     "name": "stderr",
     "output_type": "stream",
     "text": [
      "\r"
     ]
    }
   ],
   "source": [
    "ex86 = nlp(\"子若國何\")\n",
    "render(ex86)"
   ]
  },
  {
   "cell_type": "code",
   "execution_count": 63,
   "metadata": {},
   "outputs": [
    {
     "name": "stderr",
     "output_type": "stream",
     "text": [
      "                                                   "
     ]
    },
    {
     "name": "stdout",
     "output_type": "stream",
     "text": [
      "無 VERB  <══════════════╗ advmod\n",
      "若 VERB  ═══════════╗═╗═╝ ROOT\n",
      "诸 NOUN  <══╗       ║ ║   nmod\n",
      "侯 NOUN  ═╗═╝<╗     ║ ║   nsubj\n",
      "之 SCONJ <╝   ║     ║ ║   case\n",
      "屬 VERB  ═════╝<╗   ║ ║   csubj\n",
      "辱 VERB  ═════╗═╝<╗ ║ ║   acl\n",
      "在 VERB  ═══╗<╝   ║ ║ ║   ccomp\n",
      "寡 VERB  <╗ ║     ║ ║ ║   amod\n",
      "君 NOUN  ═╝<╝     ║ ║ ║   obj\n",
      "者 PART  ═════════╝<╝ ║   obj\n",
      "何 PRON  <════════════╝   xcomp\n"
     ]
    },
    {
     "name": "stderr",
     "output_type": "stream",
     "text": [
      "\r"
     ]
    }
   ],
   "source": [
    "ex87 = nlp(\"無若诸侯之屬辱在寡君者何\")\n",
    "render(ex87)"
   ]
  },
  {
   "cell_type": "code",
   "execution_count": 64,
   "metadata": {},
   "outputs": [
    {
     "name": "stderr",
     "output_type": "stream",
     "text": [
      "                                                   "
     ]
    },
    {
     "name": "stdout",
     "output_type": "stream",
     "text": [
      "若 VERB  ═╗═╗═══╗ ROOT\n",
      "之 PRON  <╝ ║   ║ expl\n",
      "何 PRON  <══╝   ║ xcomp\n",
      "子 PRON  ═╗<╗   ║ nsubj\n",
      "之 SCONJ <╝ ║   ║ case\n",
      "不 ADV   <╗ ║   ║ advmod\n",
      "言 VERB  ═╝═╝═╗<╝ ccomp\n",
      "也 PART  <════╝   discourse:sp\n"
     ]
    },
    {
     "name": "stderr",
     "output_type": "stream",
     "text": [
      "\r"
     ]
    }
   ],
   "source": [
    "ex88 = nlp(\"若之何子之不言也\")\n",
    "render(ex88)"
   ]
  },
  {
   "cell_type": "code",
   "execution_count": 65,
   "metadata": {},
   "outputs": [
    {
     "name": "stderr",
     "output_type": "stream",
     "text": [
      "                                                   "
     ]
    },
    {
     "name": "stdout",
     "output_type": "stream",
     "text": [
      "如 VERB  ═╗═╗═══════╗ ROOT\n",
      "之 PRON  <╝ ║       ║ expl\n",
      "何 PRON  <══╝       ║ xcomp\n",
      "其 PRON  <══════╗   ║ nsubj\n",
      "使 VERB  ═══╗═╗═╝═╗<╝ ccomp\n",
      "斯 PRON  <╗ ║ ║   ║   det\n",
      "民 NOUN  ═╝<╝ ║   ║   obj\n",
      "飢 VERB  ═══╗<╝   ║   xcomp\n",
      "而 CCONJ <╗ ║     ║   cc\n",
      "死 VERB  ═╝<╝     ║   conj\n",
      "也 PART  <════════╝   mark\n"
     ]
    },
    {
     "name": "stderr",
     "output_type": "stream",
     "text": [
      "\r"
     ]
    }
   ],
   "source": [
    "ex89 = nlp(\"如之何其使斯民飢而死也\")\n",
    "render(ex89)"
   ]
  },
  {
   "cell_type": "markdown",
   "metadata": {},
   "source": [
    "## 9. Passive Constructions"
   ]
  },
  {
   "cell_type": "markdown",
   "metadata": {},
   "source": [
    "### a. 見"
   ]
  },
  {
   "cell_type": "code",
   "execution_count": 66,
   "metadata": {},
   "outputs": [
    {
     "name": "stderr",
     "output_type": "stream",
     "text": [
      "                                                   "
     ]
    },
    {
     "name": "stdout",
     "output_type": "stream",
     "text": [
      "白 NOUN  <╗         compound\n",
      "姓 NOUN  ═╝═╗<╗     nsubj:pass\n",
      "之 SCONJ <══╝ ║     case\n",
      "不 ADV   <╗   ║     advmod\n",
      "見 AUX   ═╝<╗ ║     aux\n",
      "保 VERB  ═══╝═╝<══╗ csubj\n",
      "為 VERB  ═══════╗═╝ ROOT\n",
      "不 ADV   <════╗ ║   advmod\n",
      "用 VERB  ═╗═╗═╝<╝   ccomp\n",
      "恩 NOUN  <╝ ║       obj\n",
      "焉 PART  <══╝       obl\n"
     ]
    },
    {
     "name": "stderr",
     "output_type": "stream",
     "text": [
      "\r"
     ]
    }
   ],
   "source": [
    "ex90 = nlp(\"白姓之不見保為不用恩焉\")\n",
    "render(ex90)"
   ]
  },
  {
   "cell_type": "code",
   "execution_count": 67,
   "metadata": {},
   "outputs": [
    {
     "name": "stderr",
     "output_type": "stream",
     "text": [
      "                                                   "
     ]
    },
    {
     "name": "stdout",
     "output_type": "stream",
     "text": [
      "盆成 PROPN ═╗<╗ nsubj\n",
      "括   PROPN <╝ ║ flat\n",
      "見   AUX   <╗ ║ aux\n",
      "殺   VERB  ═╝═╝ ROOT\n"
     ]
    },
    {
     "name": "stderr",
     "output_type": "stream",
     "text": [
      "\r"
     ]
    }
   ],
   "source": [
    "ex91 = nlp(\"盆成括見殺\")\n",
    "render(ex91)"
   ]
  },
  {
   "cell_type": "code",
   "execution_count": 68,
   "metadata": {},
   "outputs": [
    {
     "name": "stderr",
     "output_type": "stream",
     "text": [
      "                                                   "
     ]
    },
    {
     "name": "stdout",
     "output_type": "stream",
     "text": [
      "吾 PRON  <══════════════╗ nsubj:pass\n",
      "常 ADV   <════════════╗ ║ advmod\n",
      "見 AUX   <══════════╗ ║ ║ aux\n",
      "笑 VERB  ═════════╗═╝═╝═╝ ROOT\n",
      "於 ADP   <══════╗ ║       case\n",
      "大 VERB  <══╗   ║ ║       amod\n",
      "方 NOUN  ═╗═╝<╗ ║ ║       nmod\n",
      "之 SCONJ <╝   ║ ║ ║       case\n",
      "家 NOUN  ═════╝═╝<╝       obl:lmod\n"
     ]
    },
    {
     "name": "stderr",
     "output_type": "stream",
     "text": [
      "\r"
     ]
    }
   ],
   "source": [
    "ex92 = nlp(\"吾常見笑於大方之家\")\n",
    "render(ex92)"
   ]
  },
  {
   "cell_type": "code",
   "execution_count": 69,
   "metadata": {},
   "outputs": [
    {
     "name": "stderr",
     "output_type": "stream",
     "text": [
      "                                                   "
     ]
    },
    {
     "name": "stdout",
     "output_type": "stream",
     "text": [
      "而 CCONJ <════════════════╗   advmod\n",
      "以 VERB  ═╗<════════╗     ║   advcl\n",
      "前 NOUN  <╝         ║     ║   obj\n",
      "所 PART  <╗         ║     ║   case\n",
      "以 VERB  ═╝<══════╗ ║     ║   advmod\n",
      "見 VERB  <╗       ║ ║     ║   aux\n",
      "賢 VERB  ═╝═════╗═╝═╝<╗   ║   acl\n",
      "而 CCONJ <════╗ ║     ║   ║   cc\n",
      "後 NOUN  <══╗ ║ ║     ║   ║   obl:tmod\n",
      "獲 VERB  ═╗═╝═╝<╝     ║   ║   conj\n",
      "罪 NOUN  <╝           ║   ║   obj\n",
      "者 PART  ═════════════╝<╗ ║   nsubj\n",
      "愛 VERB  ═╗═╗<╗         ║ ║   nsubj\n",
      "憎 VERB  <╝ ║ ║         ║ ║   flat:vv\n",
      "之 SCONJ <══╝ ║         ║ ║   case\n",
      "變 VERB  ═════╝═════════╝═╝═╗ ROOT\n",
      "也 PART  <══════════════════╝ discourse:sp\n"
     ]
    },
    {
     "name": "stderr",
     "output_type": "stream",
     "text": [
      "\r"
     ]
    }
   ],
   "source": [
    "ex93 = nlp(\"而以前所以見賢而後獲罪者愛憎之變也\")\n",
    "render(ex93)"
   ]
  },
  {
   "cell_type": "code",
   "execution_count": 70,
   "metadata": {},
   "outputs": [
    {
     "name": "stderr",
     "output_type": "stream",
     "text": [
      "                                                   "
     ]
    },
    {
     "name": "stdout",
     "output_type": "stream",
     "text": [
      "夫 PART  <════════╗   discourse\n",
      "破 VERB  ═╗═╗<══╗ ║   csubj\n",
      "人 NOUN  <╝ ║   ║ ║   obj\n",
      "之 SCONJ <══╝   ║ ║   mark\n",
      "於 VERB  ═════╗═╝═╝═╗ ROOT\n",
      "破 VERB  ═══╗<╝     ║ ccomp\n",
      "於 ADP   <╗ ║       ║ case\n",
      "人 NOUN  ═╝<╝       ║ obl\n",
      "也 PART  <══════════╝ discourse:sp\n",
      "臣 VERB  ═╗═╗<════╗   csubj\n",
      "人 NOUN  <╝ ║     ║   obj\n",
      "之 SCONJ <══╝     ║   mark\n",
      "於 VERB  ═══════╗═╝═╗ ROOT\n",
      "見 AUX   <════╗ ║   ║ aux\n",
      "臣 VERB  ═══╗═╝<╝   ║ ccomp\n",
      "於 ADP   <╗ ║       ║ case\n",
      "人 NOUN  ═╝<╝       ║ obl\n",
      "也 PART  <══════════╝ discourse:sp\n",
      "豈 ADV   <══════╗     advmod\n",
      "可 AUX   <══╗   ║     aux\n",
      "同 VERB  ═╗═╝═╗═╝═╗   ROOT\n",
      "日 NOUN  <╝   ║   ║   obj\n",
      "而 CCONJ <╗   ║   ║   cc\n",
      "論 VERB  ═╝<══╝   ║   conj\n",
      "哉 PART  <════════╝   discourse:sp\n"
     ]
    },
    {
     "name": "stderr",
     "output_type": "stream",
     "text": [
      "\r"
     ]
    }
   ],
   "source": [
    "ex94 = nlp(\"夫破人之於破於人也\\n臣人之於見臣於人也\\n豈可同日而論哉\")\n",
    "render(ex94)"
   ]
  },
  {
   "cell_type": "code",
   "execution_count": 71,
   "metadata": {},
   "outputs": [
    {
     "name": "stderr",
     "output_type": "stream",
     "text": [
      "                                                   "
     ]
    },
    {
     "name": "stdout",
     "output_type": "stream",
     "text": [
      "生 VERB ═╗<╗ csubj\n",
      "孩 NOUN <╝ ║ obj\n",
      "六 NUM  ═╗═╝ ROOT\n",
      "月 NOUN <╝   clf\n",
      "慈 NOUN <╗   nmod\n",
      "父 NOUN ═╝<╗ nsubj\n",
      "見 AUX  ═╗═╝ ROOT\n",
      "背 VERB <╝   obj\n"
     ]
    },
    {
     "name": "stderr",
     "output_type": "stream",
     "text": [
      "\r"
     ]
    }
   ],
   "source": [
    "ex95 = nlp(\"生孩六月\\n慈父見背\")\n",
    "render(ex95)"
   ]
  },
  {
   "cell_type": "markdown",
   "metadata": {},
   "source": [
    "### b. 為"
   ]
  },
  {
   "cell_type": "code",
   "execution_count": 72,
   "metadata": {},
   "outputs": [
    {
     "name": "stderr",
     "output_type": "stream",
     "text": [
      "                                                   "
     ]
    },
    {
     "name": "stdout",
     "output_type": "stream",
     "text": [
      "止 VERB ═════════╗ ROOT\n",
      "將 NOUN <══════╗ ║ advmod\n",
      "為 VERB ═════╗═╝<╝ parataxis\n",
      "三 NUM  <╗   ║     nummod\n",
      "軍 NOUN ═╝<╗ ║     nsubj\n",
      "獲 VERB ═══╝<╝     ccomp\n"
     ]
    },
    {
     "name": "stderr",
     "output_type": "stream",
     "text": [
      "\r"
     ]
    }
   ],
   "source": [
    "ex96 = nlp(\"止將為三軍獲\")\n",
    "render(ex96)"
   ]
  },
  {
   "cell_type": "code",
   "execution_count": 73,
   "metadata": {},
   "outputs": [
    {
     "name": "stderr",
     "output_type": "stream",
     "text": [
      "                                                   "
     ]
    },
    {
     "name": "stdout",
     "output_type": "stream",
     "text": [
      "在 VERB ═╗<════╗ advcl\n",
      "上 NOUN <╝     ║ obj\n",
      "為 VERB ═════╗═╝ ROOT\n",
      "烏 NOUN ═╗<╗ ║   nmod\n",
      "鳶 NOUN <╝ ║ ║   conj\n",
      "食 VERB ═══╝<╝   obj\n",
      "在 VERB ═╗<════╗ advcl\n",
      "下 NOUN <╝     ║ obj\n",
      "為 VERB ═════╗═╝ ROOT\n",
      "螻 NOUN ═╗<╗ ║   nmod\n",
      "蟻 NOUN <╝ ║ ║   conj\n",
      "食 VERB ═══╝<╝   obj\n"
     ]
    },
    {
     "name": "stderr",
     "output_type": "stream",
     "text": [
      "\r"
     ]
    }
   ],
   "source": [
    "ex97 = nlp(\"在上為烏鳶食\\n在下為螻蟻食\")\n",
    "render(ex97)"
   ]
  },
  {
   "cell_type": "code",
   "execution_count": 74,
   "metadata": {},
   "outputs": [
    {
     "name": "stderr",
     "output_type": "stream",
     "text": [
      "                                                   "
     ]
    },
    {
     "name": "stdout",
     "output_type": "stream",
     "text": [
      "明 VERB <╗       amod\n",
      "者 PART ═╝<════╗ nsubj\n",
      "唯 ADV  <════╗ ║ advmod\n",
      "為 VERB ═╗═╗═╝═╝ ROOT\n",
      "之 PRON <╝ ║     iobj\n",
      "使 VERB <══╝     obj\n"
     ]
    },
    {
     "name": "stderr",
     "output_type": "stream",
     "text": [
      "\r"
     ]
    }
   ],
   "source": [
    "ex98 = nlp(\"明者唯為之使\")\n",
    "render(ex98)"
   ]
  },
  {
   "cell_type": "code",
   "execution_count": 75,
   "metadata": {},
   "outputs": [
    {
     "name": "stderr",
     "output_type": "stream",
     "text": [
      "                                                   "
     ]
    },
    {
     "name": "stdout",
     "output_type": "stream",
     "text": [
      "終 VERB <══════╗   advmod\n",
      "為 VERB ═════╗═╝═╗ ROOT\n",
      "之 PRON <══╗ ║   ║ nsubj\n",
      "所 PART <╗ ║ ║   ║ mark\n",
      "擒 VERB ═╝═╝<╝   ║ ccomp\n",
      "矣 PART <════════╝ discourse:sp\n"
     ]
    },
    {
     "name": "stderr",
     "output_type": "stream",
     "text": [
      "\r"
     ]
    }
   ],
   "source": [
    "ex99 = nlp(\"終為之所擒矣\")\n",
    "render(ex99)"
   ]
  },
  {
   "cell_type": "code",
   "execution_count": 76,
   "metadata": {},
   "outputs": [
    {
     "name": "stderr",
     "output_type": "stream",
     "text": [
      "                                                   "
     ]
    },
    {
     "name": "stdout",
     "output_type": "stream",
     "text": [
      "厚 VERB <╗     amod\n",
      "者 PART ═╝<╗   nsubj\n",
      "為 VERB ═╗═╝═╗ ROOT\n",
      "戮 VERB <╝   ║ obj\n",
      "薄 VERB <╗   ║ amod\n",
      "者 PART ═╝<╗ ║ nsubj\n",
      "見 AUX  <╗ ║ ║ aux\n",
      "疑 VERB ═╝═╝<╝ parataxis\n"
     ]
    },
    {
     "name": "stderr",
     "output_type": "stream",
     "text": [
      "\r"
     ]
    }
   ],
   "source": [
    "ex100 = nlp(\"厚者為戮薄者見疑\")\n",
    "render(ex100)"
   ]
  },
  {
   "cell_type": "code",
   "execution_count": 77,
   "metadata": {},
   "outputs": [
    {
     "name": "stderr",
     "output_type": "stream",
     "text": [
      "                                                   "
     ]
    },
    {
     "name": "stdout",
     "output_type": "stream",
     "text": [
      "不 ADV  <╗           advmod\n",
      "者 PART ═╝<════════╗ advmod\n",
      "若 PRON <╗         ║ amod\n",
      "屬 VERB ═╝<══════╗ ║ nsubj\n",
      "皆 ADV  <══════╗ ║ ║ advmod\n",
      "且 ADV  <════╗ ║ ║ ║ advmod\n",
      "為 VERB ═══╗═╝═╝═╝═╝ ROOT\n",
      "所 PART <╗ ║         case\n",
      "虜 VERB ═╝<╝         obj\n"
     ]
    },
    {
     "name": "stderr",
     "output_type": "stream",
     "text": [
      "\r"
     ]
    }
   ],
   "source": [
    "ex101 = nlp(\"不者若屬皆且為所虜\")\n",
    "render(ex101)"
   ]
  }
 ],
 "metadata": {
  "interpreter": {
   "hash": "0364c37b15e7a6e1c36ca05f1a9e06ef739d4c2650a4a4d0869c3126484e1dba"
  },
  "kernelspec": {
   "display_name": "Python 3.8.10 64-bit ('nlp': virtualenv)",
   "language": "python",
   "name": "python3"
  },
  "language_info": {
   "codemirror_mode": {
    "name": "ipython",
    "version": 3
   },
   "file_extension": ".py",
   "mimetype": "text/x-python",
   "name": "python",
   "nbconvert_exporter": "python",
   "pygments_lexer": "ipython3",
   "version": "3.8.10"
  },
  "orig_nbformat": 4
 },
 "nbformat": 4,
 "nbformat_minor": 2
}
