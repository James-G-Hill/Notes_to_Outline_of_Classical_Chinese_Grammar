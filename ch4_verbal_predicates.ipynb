{
 "cells": [
  {
   "cell_type": "markdown",
   "metadata": {},
   "source": [
    "# IV. Verbal Predicates"
   ]
  },
  {
   "cell_type": "code",
   "execution_count": 1,
   "metadata": {},
   "outputs": [
    {
     "name": "stderr",
     "output_type": "stream",
     "text": [
      "Some weights of the model checkpoint at KoichiYasuoka/roberta-classical-chinese-large-char were not used when initializing RobertaModel: ['lm_head.dense.bias', 'lm_head.decoder.bias', 'lm_head.bias', 'lm_head.dense.weight', 'lm_head.layer_norm.bias', 'lm_head.decoder.weight', 'lm_head.layer_norm.weight']\n",
      "- This IS expected if you are initializing RobertaModel from the checkpoint of a model trained on another task or with another architecture (e.g. initializing a BertForSequenceClassification model from a BertForPreTraining model).\n",
      "- This IS NOT expected if you are initializing RobertaModel from the checkpoint of a model that you expect to be exactly identical (initializing a BertForSequenceClassification model from a BertForSequenceClassification model).\n",
      "Downloading: 100%|██████████| 29.0/29.0 [00:00<00:00, 1.49kB/s]\n",
      "Downloading: 100%|██████████| 1.23G/1.23G [09:41<00:00, 2.27MB/s] \n"
     ]
    }
   ],
   "source": [
    "from deplacy import (\n",
    "    dot,\n",
    "    render,\n",
    "    to_conllu\n",
    ")\n",
    "from lzh_helpers.serve import serve\n",
    "from suparkanbun import load\n",
    "from transformers import logging\n",
    "\n",
    "logging.logging.disable(logging.INFO)\n",
    "\n",
    "nlp = load(BERT=\"roberta-classical-chinese-large-char\", Danku=True)"
   ]
  },
  {
   "cell_type": "markdown",
   "metadata": {},
   "source": [
    "## 1. Classes of Verbs"
   ]
  },
  {
   "cell_type": "markdown",
   "metadata": {},
   "source": [
    "The following is an example with an adjective.\n",
    "These are sometimes referred to as 'stative' or 'quality' verbs."
   ]
  },
  {
   "cell_type": "code",
   "execution_count": 2,
   "metadata": {},
   "outputs": [
    {
     "name": "stderr",
     "output_type": "stream",
     "text": [
      "                                                   \r"
     ]
    },
    {
     "data": {
      "text/html": [
       "\n",
       "        <iframe\n",
       "            width=\"100%\"\n",
       "            height=\"200\"\n",
       "            src=\"https://koichiyasuoka.github.io/deplacy/deplacy/viewer.svg#1%09%E5%B1%B1%09%E5%B1%B1%09NOUN%09n%2C%E5%90%8D%E8%A9%9E%2C%E5%9B%BA%E5%AE%9A%E7%89%A9%2C%E5%9C%B0%E5%BD%A2%09Case%3DLoc%092%09nsubj%09_%09SpaceAfter%3DNo%7CTranslit%3Dmountain%0A2%09%E9%AB%98%09%E9%AB%98%09VERB%09v%2C%E5%8B%95%E8%A9%9E%2C%E6%8F%8F%E5%86%99%2C%E9%87%8F%09Degree%3DPos%090%09ROOT%09_%09SpaceAfter%3DNo%7CTranslit%3Dhigh%0A%0A\"\n",
       "            frameborder=\"0\"\n",
       "            allowfullscreen\n",
       "            style=\"background-color: white;\"\n",
       "        ></iframe>\n",
       "        "
      ],
      "text/plain": [
       "<IPython.lib.display.IFrame at 0x7ffad84448e0>"
      ]
     },
     "metadata": {},
     "output_type": "display_data"
    }
   ],
   "source": [
    "ex_quality_verb = nlp(\"山高\")\n",
    "serve(ex_quality_verb)"
   ]
  },
  {
   "cell_type": "markdown",
   "metadata": {},
   "source": [
    "The following is an example of an intransitive verb requiring a single noun."
   ]
  },
  {
   "cell_type": "code",
   "execution_count": 3,
   "metadata": {},
   "outputs": [
    {
     "name": "stderr",
     "output_type": "stream",
     "text": [
      "                                                   \r"
     ]
    },
    {
     "data": {
      "text/html": [
       "\n",
       "        <iframe\n",
       "            width=\"100%\"\n",
       "            height=\"200\"\n",
       "            src=\"https://koichiyasuoka.github.io/deplacy/deplacy/viewer.svg#1%09%E7%8E%8B%09%E7%8E%8B%09NOUN%09n%2C%E5%90%8D%E8%A9%9E%2C%E4%BA%BA%2C%E5%BD%B9%E5%89%B2%09_%092%09nsubj%09_%09SpaceAfter%3DNo%7CTranslit%3Dking%0A2%09%E4%BE%86%09%E4%BE%86%09VERB%09v%2C%E5%8B%95%E8%A9%9E%2C%E8%A1%8C%E7%82%BA%2C%E7%A7%BB%E5%8B%95%09_%090%09ROOT%09_%09SpaceAfter%3DNo%7CTranslit%3Dcome%0A%0A\"\n",
       "            frameborder=\"0\"\n",
       "            allowfullscreen\n",
       "            style=\"background-color: white;\"\n",
       "        ></iframe>\n",
       "        "
      ],
      "text/plain": [
       "<IPython.lib.display.IFrame at 0x7ffa40f6f1f0>"
      ]
     },
     "metadata": {},
     "output_type": "display_data"
    }
   ],
   "source": [
    "ex_intransitive_verb = nlp(\"王來\")\n",
    "serve(ex_intransitive_verb)"
   ]
  },
  {
   "cell_type": "markdown",
   "metadata": {},
   "source": [
    "The following are examples of transitive verbs"
   ]
  },
  {
   "cell_type": "code",
   "execution_count": 4,
   "metadata": {},
   "outputs": [
    {
     "name": "stderr",
     "output_type": "stream",
     "text": [
      "                                                   \r"
     ]
    },
    {
     "data": {
      "text/html": [
       "\n",
       "        <iframe\n",
       "            width=\"100%\"\n",
       "            height=\"200\"\n",
       "            src=\"https://koichiyasuoka.github.io/deplacy/deplacy/viewer.svg#1%09%E7%8E%8B%09%E7%8E%8B%09NOUN%09n%2C%E5%90%8D%E8%A9%9E%2C%E4%BA%BA%2C%E5%BD%B9%E5%89%B2%09_%092%09nsubj%09_%09SpaceAfter%3DNo%7CTranslit%3Dking%0A2%09%E6%AE%BA%09%EF%A5%B0%09VERB%09v%2C%E5%8B%95%E8%A9%9E%2C%E8%A1%8C%E7%82%BA%2C%E5%8B%95%E4%BD%9C%09_%090%09ROOT%09_%09SpaceAfter%3DNo%7CTranslit%3Dkill%0A3%09%E4%BA%BA%09%E4%BA%BA%09NOUN%09n%2C%E5%90%8D%E8%A9%9E%2C%E4%BA%BA%2C%E4%BA%BA%09_%092%09obj%09_%09SpaceAfter%3DNo%7CTranslit%3Dperson%0A%0A\"\n",
       "            frameborder=\"0\"\n",
       "            allowfullscreen\n",
       "            style=\"background-color: white;\"\n",
       "        ></iframe>\n",
       "        "
      ],
      "text/plain": [
       "<IPython.lib.display.IFrame at 0x7ffad8434280>"
      ]
     },
     "metadata": {},
     "output_type": "display_data"
    }
   ],
   "source": [
    "ex_transitive_verb_1 = nlp(\"王殺人\")\n",
    "serve(ex_transitive_verb_1)"
   ]
  },
  {
   "cell_type": "code",
   "execution_count": 5,
   "metadata": {},
   "outputs": [
    {
     "name": "stderr",
     "output_type": "stream",
     "text": [
      "                                                   \r"
     ]
    },
    {
     "data": {
      "text/html": [
       "\n",
       "        <iframe\n",
       "            width=\"100%\"\n",
       "            height=\"200\"\n",
       "            src=\"https://koichiyasuoka.github.io/deplacy/deplacy/viewer.svg#1%09%E7%8E%8B%09%E7%8E%8B%09NOUN%09n%2C%E5%90%8D%E8%A9%9E%2C%E4%BA%BA%2C%E5%BD%B9%E5%89%B2%09_%092%09nsubj%09_%09SpaceAfter%3DNo%7CTranslit%3Dking%0A2%09%E8%88%87%09%E8%88%87%09VERB%09v%2C%E5%8B%95%E8%A9%9E%2C%E8%A1%8C%E7%82%BA%2C%E4%BA%A4%E6%B5%81%09_%090%09ROOT%09_%09SpaceAfter%3DNo%7CTranslit%3Dparticipate%0A3%09%E4%B9%8B%09%E4%B9%8B%09PRON%09n%2C%E4%BB%A3%E5%90%8D%E8%A9%9E%2C%E4%BA%BA%E7%A7%B0%2C%E6%AD%A2%E6%A0%BC%09Person%3D3%7CPronType%3DPrs%092%09iobj%09_%09SpaceAfter%3DNo%7CTranslit%3D%5B3PRON%5D%0A4%09%E5%88%80%09%E5%88%80%09NOUN%09n%2C%E5%90%8D%E8%A9%9E%2C%E5%8F%AF%E6%90%AC%2C%E9%81%93%E5%85%B7%09_%092%09obj%09_%09SpaceAfter%3DNo%7CTranslit%3Dknife%0A%0A\"\n",
       "            frameborder=\"0\"\n",
       "            allowfullscreen\n",
       "            style=\"background-color: white;\"\n",
       "        ></iframe>\n",
       "        "
      ],
      "text/plain": [
       "<IPython.lib.display.IFrame at 0x7ffa40f6fe80>"
      ]
     },
     "metadata": {},
     "output_type": "display_data"
    }
   ],
   "source": [
    "ex_transitive_verb_2 = nlp(\"王與之刀\")\n",
    "serve(ex_transitive_verb_2)"
   ]
  },
  {
   "cell_type": "markdown",
   "metadata": {},
   "source": [
    "Only transitive verbs can follow 可 directly, and only passively."
   ]
  },
  {
   "cell_type": "code",
   "execution_count": 6,
   "metadata": {},
   "outputs": [
    {
     "name": "stderr",
     "output_type": "stream",
     "text": [
      "                                                   \r"
     ]
    },
    {
     "data": {
      "text/html": [
       "\n",
       "        <iframe\n",
       "            width=\"100%\"\n",
       "            height=\"200\"\n",
       "            src=\"https://koichiyasuoka.github.io/deplacy/deplacy/viewer.svg#1%09%E4%BA%BA%09%E4%BA%BA%09NOUN%09n%2C%E5%90%8D%E8%A9%9E%2C%E4%BA%BA%2C%E4%BA%BA%09_%093%09nsubj%09_%09SpaceAfter%3DNo%7CTranslit%3Dperson%0A2%09%E5%8F%AF%09%E5%8F%AF%09AUX%09v%2C%E5%8A%A9%E5%8B%95%E8%A9%9E%2C%E5%8F%AF%E8%83%BD%2C%2A%09Mood%3DPot%093%09aux%09_%09SpaceAfter%3DNo%7CTranslit%3Dpossible%0A3%09%E6%AE%BA%09%EF%A5%B0%09VERB%09v%2C%E5%8B%95%E8%A9%9E%2C%E8%A1%8C%E7%82%BA%2C%E5%8B%95%E4%BD%9C%09_%090%09ROOT%09_%09SpaceAfter%3DNo%7CTranslit%3Dkill%0A%0A\"\n",
       "            frameborder=\"0\"\n",
       "            allowfullscreen\n",
       "            style=\"background-color: white;\"\n",
       "        ></iframe>\n",
       "        "
      ],
      "text/plain": [
       "<IPython.lib.display.IFrame at 0x7ffa40f6fc70>"
      ]
     },
     "metadata": {},
     "output_type": "display_data"
    }
   ],
   "source": [
    "ex_transitive_verb_ke_passive = nlp(\"人可殺\")\n",
    "serve(ex_transitive_verb_ke_passive)"
   ]
  },
  {
   "cell_type": "markdown",
   "metadata": {},
   "source": [
    "A transitive verb in active sense, or instransitive verb, requires 可以."
   ]
  },
  {
   "cell_type": "code",
   "execution_count": 7,
   "metadata": {},
   "outputs": [
    {
     "name": "stderr",
     "output_type": "stream",
     "text": [
      "                                                   \r"
     ]
    },
    {
     "data": {
      "text/html": [
       "\n",
       "        <iframe\n",
       "            width=\"100%\"\n",
       "            height=\"250\"\n",
       "            src=\"https://koichiyasuoka.github.io/deplacy/deplacy/viewer.svg#1%09%E7%8E%8B%09%E7%8E%8B%09NOUN%09n%2C%E5%90%8D%E8%A9%9E%2C%E4%BA%BA%2C%E5%BD%B9%E5%89%B2%09_%094%09nsubj%09_%09SpaceAfter%3DNo%7CTranslit%3Dking%0A2%09%E5%8F%AF%09%E5%8F%AF%09AUX%09v%2C%E5%8A%A9%E5%8B%95%E8%A9%9E%2C%E5%8F%AF%E8%83%BD%2C%2A%09Mood%3DPot%094%09aux%09_%09SpaceAfter%3DNo%7CTranslit%3Dpossible%0A3%09%E4%BB%A5%09%E4%BB%A5%09VERB%09v%2C%E5%8B%95%E8%A9%9E%2C%E8%A1%8C%E7%82%BA%2C%E5%8B%95%E4%BD%9C%09_%092%09fixed%09_%09SpaceAfter%3DNo%7CTranslit%3Duse%0A4%09%E6%AE%BA%09%EF%A5%B0%09VERB%09v%2C%E5%8B%95%E8%A9%9E%2C%E8%A1%8C%E7%82%BA%2C%E5%8B%95%E4%BD%9C%09_%090%09ROOT%09_%09SpaceAfter%3DNo%7CTranslit%3Dkill%0A5%09%E4%BA%BA%09%E4%BA%BA%09NOUN%09n%2C%E5%90%8D%E8%A9%9E%2C%E4%BA%BA%2C%E4%BA%BA%09_%094%09obj%09_%09SpaceAfter%3DNo%7CTranslit%3Dperson%0A%0A\"\n",
       "            frameborder=\"0\"\n",
       "            allowfullscreen\n",
       "            style=\"background-color: white;\"\n",
       "        ></iframe>\n",
       "        "
      ],
      "text/plain": [
       "<IPython.lib.display.IFrame at 0x7ffa40f6fa00>"
      ]
     },
     "metadata": {},
     "output_type": "display_data"
    }
   ],
   "source": [
    "ex_transitive_verb_ke_active = nlp(\"王可以殺人\")\n",
    "serve(ex_transitive_verb_ke_active, 250)"
   ]
  },
  {
   "cell_type": "code",
   "execution_count": 8,
   "metadata": {},
   "outputs": [
    {
     "name": "stderr",
     "output_type": "stream",
     "text": [
      "                                                   \r"
     ]
    },
    {
     "data": {
      "text/html": [
       "\n",
       "        <iframe\n",
       "            width=\"100%\"\n",
       "            height=\"250\"\n",
       "            src=\"https://koichiyasuoka.github.io/deplacy/deplacy/viewer.svg#1%09%E7%8E%8B%09%E7%8E%8B%09NOUN%09n%2C%E5%90%8D%E8%A9%9E%2C%E4%BA%BA%2C%E5%BD%B9%E5%89%B2%09_%094%09nsubj%09_%09SpaceAfter%3DNo%7CTranslit%3Dking%0A2%09%E5%8F%AF%09%E5%8F%AF%09AUX%09v%2C%E5%8A%A9%E5%8B%95%E8%A9%9E%2C%E5%8F%AF%E8%83%BD%2C%2A%09Mood%3DPot%094%09aux%09_%09SpaceAfter%3DNo%7CTranslit%3Dpossible%0A3%09%E4%BB%A5%09%E4%BB%A5%09VERB%09v%2C%E5%8B%95%E8%A9%9E%2C%E8%A1%8C%E7%82%BA%2C%E5%8B%95%E4%BD%9C%09_%092%09fixed%09_%09SpaceAfter%3DNo%7CTranslit%3Duse%0A4%09%E4%BE%86%09%E4%BE%86%09VERB%09v%2C%E5%8B%95%E8%A9%9E%2C%E8%A1%8C%E7%82%BA%2C%E7%A7%BB%E5%8B%95%09_%090%09ROOT%09_%09SpaceAfter%3DNo%7CTranslit%3Dcome%0A%0A\"\n",
       "            frameborder=\"0\"\n",
       "            allowfullscreen\n",
       "            style=\"background-color: white;\"\n",
       "        ></iframe>\n",
       "        "
      ],
      "text/plain": [
       "<IPython.lib.display.IFrame at 0x7ffa40f6f100>"
      ]
     },
     "metadata": {},
     "output_type": "display_data"
    }
   ],
   "source": [
    "ex_intransitive_verb_ke = nlp(\"王可以來\")\n",
    "serve(ex_intransitive_verb_ke, 250)"
   ]
  },
  {
   "cell_type": "code",
   "execution_count": 9,
   "metadata": {},
   "outputs": [
    {
     "name": "stderr",
     "output_type": "stream",
     "text": [
      "                                                   \r"
     ]
    },
    {
     "data": {
      "text/html": [
       "\n",
       "        <iframe\n",
       "            width=\"100%\"\n",
       "            height=\"200\"\n",
       "            src=\"https://koichiyasuoka.github.io/deplacy/deplacy/viewer.svg#1%09%E5%8F%AF%09%E5%8F%AF%09AUX%09v%2C%E5%8A%A9%E5%8B%95%E8%A9%9E%2C%E5%8F%AF%E8%83%BD%2C%2A%09Mood%3DPot%094%09aux%09_%09SpaceAfter%3DNo%7CTranslit%3Dpossible%0A2%09%E4%BB%A5%09%E4%BB%A5%09VERB%09v%2C%E5%8B%95%E8%A9%9E%2C%E8%A1%8C%E7%82%BA%2C%E5%8B%95%E4%BD%9C%09_%091%09fixed%09_%09SpaceAfter%3DNo%7CTranslit%3Duse%0A3%09%E7%82%BA%09%E7%88%B2%09VERB%09v%2C%E5%8B%95%E8%A9%9E%2C%E5%AD%98%E5%9C%A8%2C%E5%AD%98%E5%9C%A8%09VerbType%3DCop%094%09cop%09_%09SpaceAfter%3DNo%7CTranslit%3Dbe%0A4%09%E7%BE%8E%09%E7%BE%8E%09NOUN%09n%2C%E5%90%8D%E8%A9%9E%2C%E6%8F%8F%E5%86%99%2C%E5%BD%A2%E8%B3%AA%09_%090%09ROOT%09_%09SpaceAfter%3DNo%7CTranslit%3Dbeauty%0A5%09%E4%B9%8E%09%E4%B9%8E%09PART%09p%2C%E5%8A%A9%E8%A9%9E%2C%E5%8F%A5%E6%9C%AB%2C%2A%09_%094%09discourse%3Asp%09_%09SpaceAfter%3DNo%7CTranslit%3D%5BQ%5D%0A%0A\"\n",
       "            frameborder=\"0\"\n",
       "            allowfullscreen\n",
       "            style=\"background-color: white;\"\n",
       "        ></iframe>\n",
       "        "
      ],
      "text/plain": [
       "<IPython.lib.display.IFrame at 0x7ffa40de80a0>"
      ]
     },
     "metadata": {},
     "output_type": "display_data"
    }
   ],
   "source": [
    "ex33 = nlp(\"可以為美乎\")\n",
    "serve(ex33)"
   ]
  },
  {
   "cell_type": "markdown",
   "metadata": {},
   "source": [
    "## 2. Adjectives"
   ]
  },
  {
   "cell_type": "code",
   "execution_count": 10,
   "metadata": {},
   "outputs": [
    {
     "name": "stderr",
     "output_type": "stream",
     "text": [
      "                                                   \r"
     ]
    },
    {
     "data": {
      "text/html": [
       "\n",
       "        <iframe\n",
       "            width=\"100%\"\n",
       "            height=\"250\"\n",
       "            src=\"https://koichiyasuoka.github.io/deplacy/deplacy/viewer.svg#1%09%E8%8B%A5%09%E8%8B%A5%09ADV%09v%2C%E5%89%AF%E8%A9%9E%2C%E5%88%A4%E6%96%AD%2C%E6%8E%A8%E5%AE%9A%09_%095%09advmod%09_%09SpaceAfter%3DNo%7CTranslit%3Dif%0A2%09%E5%A4%AB%09%E5%A4%AB%09PART%09p%2C%E5%8A%A9%E8%A9%9E%2C%E5%8F%A5%E9%A0%AD%2C%2A%09_%095%09discourse%09_%09SpaceAfter%3DNo%7CTranslit%3D%5Bmodal-particle%5D%0A3%09%E8%B1%AA%E5%82%91%09%E8%B1%AA%E5%82%91%09NOUN%09n%2C%E5%90%8D%E8%A9%9E%2C%E6%8F%8F%E5%86%99%2C%E6%85%8B%E5%BA%A6%09_%095%09nmod%09_%09SpaceAfter%3DNo%0A4%09%E4%B9%8B%09%E4%B9%8B%09SCONJ%09p%2C%E5%8A%A9%E8%A9%9E%2C%E6%8E%A5%E7%B6%9A%2C%E5%B1%9E%E6%A0%BC%09_%093%09case%09_%09SpaceAfter%3DNo%7CTranslit%3D%27s%0A5%09%E5%A3%AB%09%E5%A3%AB%09NOUN%09n%2C%E5%90%8D%E8%A9%9E%2C%E4%BA%BA%2C%E5%BD%B9%E5%89%B2%09_%090%09ROOT%09_%09SpaceAfter%3DNo%7CTranslit%3Dofficer%0A%0A\"\n",
       "            frameborder=\"0\"\n",
       "            allowfullscreen\n",
       "            style=\"background-color: white;\"\n",
       "        ></iframe>\n",
       "        "
      ],
      "text/plain": [
       "<IPython.lib.display.IFrame at 0x7ffad8444910>"
      ]
     },
     "metadata": {},
     "output_type": "display_data"
    }
   ],
   "source": [
    "ex34 = nlp(\"若夫豪傑之士\")\n",
    "serve(ex34, 250)"
   ]
  },
  {
   "cell_type": "code",
   "execution_count": 11,
   "metadata": {},
   "outputs": [
    {
     "name": "stderr",
     "output_type": "stream",
     "text": [
      "                                                   \r"
     ]
    },
    {
     "data": {
      "text/html": [
       "\n",
       "        <iframe\n",
       "            width=\"100%\"\n",
       "            height=\"250\"\n",
       "            src=\"https://koichiyasuoka.github.io/deplacy/deplacy/viewer.svg#1%09%E5%89%87%09%E5%89%87%09ADV%09v%2C%E5%89%AF%E8%A9%9E%2C%E6%99%82%E7%9B%B8%2C%E7%B7%8A%E6%8E%A5%09AdvType%3DTim%093%09advmod%09_%09SpaceAfter%3DNo%7CTranslit%3Dthen%0A2%09%E7%84%A1%09%E7%84%A1%09VERB%09v%2C%E5%8B%95%E8%A9%9E%2C%E5%AD%98%E5%9C%A8%2C%E5%AD%98%E5%9C%A8%09Polarity%3DNeg%093%09advmod%09_%09SpaceAfter%3DNo%7CTranslit%3Dnot-have%0A3%09%E6%9C%9B%09%E6%9C%9B%09VERB%09v%2C%E5%8B%95%E8%A9%9E%2C%E8%A1%8C%E7%82%BA%2C%E5%8B%95%E4%BD%9C%09_%090%09ROOT%09_%09SpaceAfter%3DNo%7CTranslit%3Dexpect%0A4%09%E6%B0%91%09%E6%B0%91%09NOUN%09n%2C%E5%90%8D%E8%A9%9E%2C%E4%BA%BA%2C%E4%BA%BA%09_%096%09nsubj%09_%09SpaceAfter%3DNo%7CTranslit%3Dpeople%0A5%09%E4%B9%8B%09%E4%B9%8B%09SCONJ%09p%2C%E5%8A%A9%E8%A9%9E%2C%E6%8E%A5%E7%B6%9A%2C%E5%B1%9E%E6%A0%BC%09_%094%09case%09_%09SpaceAfter%3DNo%7CTranslit%3D%27s%0A6%09%E5%A4%9A%09%E5%A4%9A%09VERB%09v%2C%E5%8B%95%E8%A9%9E%2C%E6%8F%8F%E5%86%99%2C%E9%87%8F%09Degree%3DPos%093%09ccomp%09_%09SpaceAfter%3DNo%7CTranslit%3Dmany%0A7%09%E6%96%BC%09%E6%96%BC%09ADP%09v%2C%E5%89%8D%E7%BD%AE%E8%A9%9E%2C%E5%9F%BA%E7%9B%A4%2C%2A%09_%099%09case%09_%09SpaceAfter%3DNo%7CTranslit%3Dat%0A8%09%E9%84%B0%09%E9%84%B0%09NOUN%09n%2C%E5%90%8D%E8%A9%9E%2C%E5%9B%BA%E5%AE%9A%E7%89%A9%2C%E9%96%A2%E4%BF%82%09Case%3DLoc%099%09nmod%09_%09SpaceAfter%3DNo%7CTranslit%3Dneighbour%0A9%09%E5%9C%8B%09%E5%9C%8B%09NOUN%09n%2C%E5%90%8D%E8%A9%9E%2C%E4%B8%BB%E4%BD%93%2C%E9%9B%86%E5%9B%A3%09_%096%09obl%09_%09SpaceAfter%3DNo%7CTranslit%3Dcountry%0A10%09%E4%B9%9F%09%E4%B9%9F%09PART%09p%2C%E5%8A%A9%E8%A9%9E%2C%E5%8F%A5%E6%9C%AB%2C%2A%09_%093%09discourse%3Asp%09_%09SpaceAfter%3DNo%7CTranslit%3D%5Bfinal-particle%5D%0A%0A\"\n",
       "            frameborder=\"0\"\n",
       "            allowfullscreen\n",
       "            style=\"background-color: white;\"\n",
       "        ></iframe>\n",
       "        "
      ],
      "text/plain": [
       "<IPython.lib.display.IFrame at 0x7ffa40de8b50>"
      ]
     },
     "metadata": {},
     "output_type": "display_data"
    }
   ],
   "source": [
    "ex35 = nlp(\"則無望民之多於鄰國也\")\n",
    "serve(ex35, 250)"
   ]
  },
  {
   "cell_type": "code",
   "execution_count": 12,
   "metadata": {},
   "outputs": [
    {
     "name": "stderr",
     "output_type": "stream",
     "text": [
      "                                                   \r"
     ]
    },
    {
     "data": {
      "text/html": [
       "\n",
       "        <iframe\n",
       "            width=\"100%\"\n",
       "            height=\"400\"\n",
       "            src=\"https://koichiyasuoka.github.io/deplacy/deplacy/viewer.svg#1%09%E7%89%A9%09%E7%89%A9%09NOUN%09n%2C%E5%90%8D%E8%A9%9E%2C%E5%8F%AF%E6%90%AC%2C%E9%81%93%E5%85%B7%09_%093%09nsubj%09_%09SpaceAfter%3DNo%7CTranslit%3Dthing%0A2%09%E7%9A%86%09%E7%9A%86%09ADV%09v%2C%E5%89%AF%E8%A9%9E%2C%E7%AF%84%E5%9B%B2%2C%E7%B7%8F%E6%8B%AC%09_%093%09advmod%09_%09SpaceAfter%3DNo%7CTranslit%3Dall%0A3%09%E7%84%B6%09%E7%84%B6%09VERB%09v%2C%E5%8B%95%E8%A9%9E%2C%E6%8F%8F%E5%86%99%2C%E6%85%8B%E5%BA%A6%09Degree%3DPos%090%09ROOT%09_%09SpaceAfter%3DNo%7CTranslit%3Dlike-this%0A%0A1%09%E5%BF%83%09%E5%BF%83%09NOUN%09n%2C%E5%90%8D%E8%A9%9E%2C%E4%B8%8D%E5%8F%AF%E8%AD%B2%2C%E8%BA%AB%E4%BD%93%09_%093%09nsubj%09_%09SpaceAfter%3DNo%7CTranslit%3Dheart%0A2%09%E7%82%BA%09%E7%88%B2%09VERB%09v%2C%E5%8B%95%E8%A9%9E%2C%E5%AD%98%E5%9C%A8%2C%E5%AD%98%E5%9C%A8%09VerbType%3DCop%093%09cop%09_%09SpaceAfter%3DNo%7CTranslit%3Dbe%0A3%09%E7%94%9A%09%E7%94%9A%09VERB%09v%2C%E5%8B%95%E8%A9%9E%2C%E6%8F%8F%E5%86%99%2C%E5%BD%A2%E8%B3%AA%09Degree%3DPos%090%09ROOT%09_%09SpaceAfter%3DNo%7CTranslit%3Dextreme%0A%0A\"\n",
       "            frameborder=\"0\"\n",
       "            allowfullscreen\n",
       "            style=\"background-color: white;\"\n",
       "        ></iframe>\n",
       "        "
      ],
      "text/plain": [
       "<IPython.lib.display.IFrame at 0x7ffa40de8cd0>"
      ]
     },
     "metadata": {},
     "output_type": "display_data"
    }
   ],
   "source": [
    "ex36 = nlp(\"物皆然心為甚\")\n",
    "serve(ex36, 400)"
   ]
  },
  {
   "cell_type": "code",
   "execution_count": 13,
   "metadata": {},
   "outputs": [
    {
     "name": "stderr",
     "output_type": "stream",
     "text": [
      "                                                   \r"
     ]
    },
    {
     "data": {
      "text/html": [
       "\n",
       "        <iframe\n",
       "            width=\"100%\"\n",
       "            height=\"200\"\n",
       "            src=\"https://koichiyasuoka.github.io/deplacy/deplacy/viewer.svg#1%09%E7%8E%8B%09%E7%8E%8B%09NOUN%09n%2C%E5%90%8D%E8%A9%9E%2C%E4%BA%BA%2C%E5%BD%B9%E5%89%B2%09_%092%09vocative%09_%09SpaceAfter%3DNo%7CTranslit%3Dking%0A2%09%E8%AB%8B%09%E8%AB%8B%09VERB%09v%2C%E5%8B%95%E8%A9%9E%2C%E8%A1%8C%E7%82%BA%2C%E4%BA%A4%E6%B5%81%09_%090%09ROOT%09_%09SpaceAfter%3DNo%7CTranslit%3Drequest%0A3%09%E5%A4%A7%09%E5%A4%A7%09VERB%09v%2C%E5%8B%95%E8%A9%9E%2C%E6%8F%8F%E5%86%99%2C%E9%87%8F%09Degree%3DPos%092%09ccomp%09_%09SpaceAfter%3DNo%7CTranslit%3Dbig%0A4%09%E4%B9%8B%09%E4%B9%8B%09PRON%09n%2C%E4%BB%A3%E5%90%8D%E8%A9%9E%2C%E4%BA%BA%E7%A7%B0%2C%E6%AD%A2%E6%A0%BC%09Person%3D3%7CPronType%3DPrs%093%09obj%09_%09SpaceAfter%3DNo%7CTranslit%3D%5B3PRON%5D%0A%0A\"\n",
       "            frameborder=\"0\"\n",
       "            allowfullscreen\n",
       "            style=\"background-color: white;\"\n",
       "        ></iframe>\n",
       "        "
      ],
      "text/plain": [
       "<IPython.lib.display.IFrame at 0x7ffa40de83d0>"
      ]
     },
     "metadata": {},
     "output_type": "display_data"
    }
   ],
   "source": [
    "ex37 = nlp(\"王請大之\")\n",
    "serve(ex37)"
   ]
  },
  {
   "cell_type": "code",
   "execution_count": 14,
   "metadata": {},
   "outputs": [
    {
     "name": "stderr",
     "output_type": "stream",
     "text": [
      "                                                   \r"
     ]
    },
    {
     "data": {
      "text/html": [
       "\n",
       "        <iframe\n",
       "            width=\"100%\"\n",
       "            height=\"200\"\n",
       "            src=\"https://koichiyasuoka.github.io/deplacy/deplacy/viewer.svg#1%09%E5%8F%9F%09%E5%8F%9F%09NOUN%09n%2C%E5%90%8D%E8%A9%9E%2C%E4%BA%BA%2C%E4%BA%BA%09_%093%09nsubj%09_%09SpaceAfter%3DNo%7CTranslit%3Dold-gentleman%0A2%09%E4%B8%8D%09%E4%B8%8D%09ADV%09v%2C%E5%89%AF%E8%A9%9E%2C%E5%90%A6%E5%AE%9A%2C%E7%84%A1%E7%95%8C%09Polarity%3DNeg%093%09advmod%09_%09SpaceAfter%3DNo%7CTranslit%3Dnot%0A3%09%E9%81%A0%09%E9%81%A0%09VERB%09v%2C%E5%8B%95%E8%A9%9E%2C%E6%8F%8F%E5%86%99%2C%E9%87%8F%09Degree%3DPos%090%09ROOT%09_%09SpaceAfter%3DNo%7CTranslit%3Ddistant%0A4%09%E5%8D%83%09%E5%8D%83%09NUM%09n%2C%E6%95%B0%E8%A9%9E%2C%E6%95%B0%E5%AD%97%2C%2A%09_%093%09obj%09_%09SpaceAfter%3DNo%7CTranslit%3Dthousand%0A5%09%E9%87%8C%09%E9%87%8C%09NOUN%09n%2C%E5%90%8D%E8%A9%9E%2C%E5%BA%A6%E9%87%8F%E8%A1%A1%2C%2A%09NounType%3DClf%094%09clf%09_%09SpaceAfter%3DNo%7CTranslit%3D%5Bdistance-unit%5D%0A6%09%E8%80%8C%09%E8%80%8C%09CCONJ%09p%2C%E5%8A%A9%E8%A9%9E%2C%E6%8E%A5%E7%B6%9A%2C%E4%B8%A6%E5%88%97%09_%097%09cc%09_%09SpaceAfter%3DNo%7CTranslit%3Dand%0A7%09%E4%BE%86%09%E4%BE%86%09VERB%09v%2C%E5%8B%95%E8%A9%9E%2C%E8%A1%8C%E7%82%BA%2C%E7%A7%BB%E5%8B%95%09_%093%09conj%09_%09SpaceAfter%3DNo%7CTranslit%3Dcome%0A%0A\"\n",
       "            frameborder=\"0\"\n",
       "            allowfullscreen\n",
       "            style=\"background-color: white;\"\n",
       "        ></iframe>\n",
       "        "
      ],
      "text/plain": [
       "<IPython.lib.display.IFrame at 0x7ffa40f6f160>"
      ]
     },
     "metadata": {},
     "output_type": "display_data"
    }
   ],
   "source": [
    "ex38 = nlp(\"叟不遠千里而來\")\n",
    "serve(ex38)"
   ]
  },
  {
   "cell_type": "code",
   "execution_count": 15,
   "metadata": {},
   "outputs": [
    {
     "name": "stderr",
     "output_type": "stream",
     "text": [
      "                                                   \r"
     ]
    },
    {
     "data": {
      "text/html": [
       "\n",
       "        <iframe\n",
       "            width=\"100%\"\n",
       "            height=\"200\"\n",
       "            src=\"https://koichiyasuoka.github.io/deplacy/deplacy/viewer.svg#1%09%E7%99%BE%09%E7%99%BE%09NUM%09n%2C%E6%95%B0%E8%A9%9E%2C%E6%95%B0%E5%AD%97%2C%2A%09_%092%09compound%09_%09SpaceAfter%3DNo%7CTranslit%3Dhundred%0A2%09%E5%A7%93%09%E5%A7%93%09NOUN%09n%2C%E5%90%8D%E8%A9%9E%2C%E4%BA%BA%2C%E4%BA%BA%09_%093%09nsubj%09_%09SpaceAfter%3DNo%7CTranslit%3Dpeople%0A3%09%E5%AE%89%09%E5%AE%89%09VERB%09v%2C%E5%8B%95%E8%A9%9E%2C%E8%A1%8C%E7%82%BA%2C%E6%85%8B%E5%BA%A6%09_%090%09ROOT%09_%09SpaceAfter%3DNo%7CTranslit%3Dpeaceful%0A4%09%E4%B9%8B%09%E4%B9%8B%09PRON%09n%2C%E4%BB%A3%E5%90%8D%E8%A9%9E%2C%E4%BA%BA%E7%A7%B0%2C%E6%AD%A2%E6%A0%BC%09Person%3D3%7CPronType%3DPrs%093%09obj%09_%09SpaceAfter%3DNo%7CTranslit%3D%5B3PRON%5D%0A%0A\"\n",
       "            frameborder=\"0\"\n",
       "            allowfullscreen\n",
       "            style=\"background-color: white;\"\n",
       "        ></iframe>\n",
       "        "
      ],
      "text/plain": [
       "<IPython.lib.display.IFrame at 0x7ffa40de85e0>"
      ]
     },
     "metadata": {},
     "output_type": "display_data"
    }
   ],
   "source": [
    "ex39 = nlp(\"百姓安之\")\n",
    "serve(ex39)"
   ]
  },
  {
   "cell_type": "code",
   "execution_count": 16,
   "metadata": {},
   "outputs": [
    {
     "name": "stderr",
     "output_type": "stream",
     "text": [
      "                                                   \r"
     ]
    },
    {
     "data": {
      "text/html": [
       "\n",
       "        <iframe\n",
       "            width=\"100%\"\n",
       "            height=\"200\"\n",
       "            src=\"https://koichiyasuoka.github.io/deplacy/deplacy/viewer.svg#1%09%E5%89%87%09%E5%89%87%09ADV%09v%2C%E5%89%AF%E8%A9%9E%2C%E6%99%82%E7%9B%B8%2C%E7%B7%8A%E6%8E%A5%09AdvType%3DTim%094%09advmod%09_%09SpaceAfter%3DNo%7CTranslit%3Dthen%0A2%09%E4%B8%8D%09%E4%B8%8D%09ADV%09v%2C%E5%89%AF%E8%A9%9E%2C%E5%90%A6%E5%AE%9A%2C%E7%84%A1%E7%95%8C%09Polarity%3DNeg%093%09advmod%09_%09SpaceAfter%3DNo%7CTranslit%3Dnot%0A3%09%E8%83%BD%09%E8%83%BD%09AUX%09v%2C%E5%8A%A9%E5%8B%95%E8%A9%9E%2C%E5%8F%AF%E8%83%BD%2C%2A%09Mood%3DPot%094%09aux%09_%09SpaceAfter%3DNo%7CTranslit%3Dcan%0A4%09%E5%AE%89%09%E5%AE%89%09VERB%09v%2C%E5%8B%95%E8%A9%9E%2C%E8%A1%8C%E7%82%BA%2C%E6%85%8B%E5%BA%A6%09_%090%09ROOT%09_%09SpaceAfter%3DNo%7CTranslit%3Dpeaceful%0A5%09%E5%AD%90%E6%80%9D%09%E5%AD%90%E6%80%9D%09PROPN%09n%2C%E5%90%8D%E8%A9%9E%2C%E4%BA%BA%2C%E5%90%8D%09NameType%3DGiv%094%09obj%09_%09SpaceAfter%3DNo%7CTranslit%3D%5Bgiven-name%5D%0A%0A\"\n",
       "            frameborder=\"0\"\n",
       "            allowfullscreen\n",
       "            style=\"background-color: white;\"\n",
       "        ></iframe>\n",
       "        "
      ],
      "text/plain": [
       "<IPython.lib.display.IFrame at 0x7ffa3adf6940>"
      ]
     },
     "metadata": {},
     "output_type": "display_data"
    }
   ],
   "source": [
    "ex40 = nlp(\"則不能安子思\")\n",
    "serve(ex40)"
   ]
  },
  {
   "cell_type": "markdown",
   "metadata": {},
   "source": [
    "## 3. Nouns Used as Verbs"
   ]
  },
  {
   "cell_type": "code",
   "execution_count": 17,
   "metadata": {},
   "outputs": [
    {
     "name": "stderr",
     "output_type": "stream",
     "text": [
      "                                                   \r"
     ]
    },
    {
     "data": {
      "text/html": [
       "\n",
       "        <iframe\n",
       "            width=\"100%\"\n",
       "            height=\"250\"\n",
       "            src=\"https://koichiyasuoka.github.io/deplacy/deplacy/viewer.svg#1%09%E6%95%85%09%E6%95%85%09ADV%09v%2C%E5%89%AF%E8%A9%9E%2C%E5%88%A4%E6%96%AD%2C%E7%A2%BA%E5%AE%9A%09_%097%09advmod%09_%09SpaceAfter%3DNo%7CTranslit%3Dtherefore%0A2%09%E6%B9%AF%09%E6%B9%AF%09PROPN%09n%2C%E5%90%8D%E8%A9%9E%2C%E4%BA%BA%2C%E5%90%8D%09NameType%3DGiv%094%09nsubj%09_%09SpaceAfter%3DNo%7CTranslit%3D%5Bgiven-name%5D%0A3%09%E4%B9%8B%09%E4%B9%8B%09SCONJ%09p%2C%E5%8A%A9%E8%A9%9E%2C%E6%8E%A5%E7%B6%9A%2C%E5%B1%9E%E6%A0%BC%09_%092%09case%09_%09SpaceAfter%3DNo%7CTranslit%3D%27s%0A4%09%E6%96%BC%09%E6%96%BC%09VERB%09v%2C%E5%8B%95%E8%A9%9E%2C%E5%AD%98%E5%9C%A8%2C%E5%AD%98%E5%9C%A8%09_%097%09advcl%09_%09SpaceAfter%3DNo%7CTranslit%3Dgo-into%0A5%09%E4%BC%8A%09%E4%BC%8A%09PROPN%09n%2C%E5%90%8D%E8%A9%9E%2C%E4%BA%BA%2C%E5%A7%93%E6%B0%8F%09NameType%3DSur%094%09obj%09_%09SpaceAfter%3DNo%7CTranslit%3D%5Bsurname%5D%0A6%09%E5%B0%B9%09%E5%B0%B9%09PROPN%09n%2C%E5%90%8D%E8%A9%9E%2C%E4%BA%BA%2C%E5%90%8D%09NameType%3DGiv%095%09flat%09_%09SpaceAfter%3DNo%7CTranslit%3D%5Bgiven-name%5D%0A7%09%E5%AD%B8%09%E5%AD%B8%09VERB%09v%2C%E5%8B%95%E8%A9%9E%2C%E8%A1%8C%E7%82%BA%2C%E5%8B%95%E4%BD%9C%09_%090%09ROOT%09_%09SpaceAfter%3DNo%7CTranslit%3Dstudy%0A8%09%E7%84%89%09%E7%84%89%09PRON%09n%2C%E4%BB%A3%E5%90%8D%E8%A9%9E%2C%E6%8C%87%E7%A4%BA%2C%2A%09PronType%3DDem%097%09obl%09_%09SpaceAfter%3DNo%7CTranslit%3Dthere%0A9%09%E8%80%8C%09%E8%80%8C%09CCONJ%09p%2C%E5%8A%A9%E8%A9%9E%2C%E6%8E%A5%E7%B6%9A%2C%E4%B8%A6%E5%88%97%09_%0910%09cc%09_%09SpaceAfter%3DNo%7CTranslit%3Dand%0A10%09%E8%87%A3%09%E8%87%A3%09VERB%09v%2C%E5%8B%95%E8%A9%9E%2C%E8%A1%8C%E7%82%BA%2C%E5%BD%B9%E5%89%B2%09_%097%09conj%09_%09SpaceAfter%3DNo%7CTranslit%3Dvassal%0A11%09%E4%B9%8B%09%E4%B9%8B%09PRON%09n%2C%E4%BB%A3%E5%90%8D%E8%A9%9E%2C%E4%BA%BA%E7%A7%B0%2C%E6%AD%A2%E6%A0%BC%09Person%3D3%7CPronType%3DPrs%0910%09obj%09_%09SpaceAfter%3DNo%7CTranslit%3D%5B3PRON%5D%0A%0A\"\n",
       "            frameborder=\"0\"\n",
       "            allowfullscreen\n",
       "            style=\"background-color: white;\"\n",
       "        ></iframe>\n",
       "        "
      ],
      "text/plain": [
       "<IPython.lib.display.IFrame at 0x7ffa3adf6910>"
      ]
     },
     "metadata": {},
     "output_type": "display_data"
    }
   ],
   "source": [
    "ex41 = nlp(\"故湯之於伊尹學焉而臣之\")\n",
    "serve(ex41, 250)"
   ]
  },
  {
   "cell_type": "code",
   "execution_count": 18,
   "metadata": {},
   "outputs": [
    {
     "name": "stderr",
     "output_type": "stream",
     "text": [
      "                                                   \r"
     ]
    },
    {
     "data": {
      "text/html": [
       "\n",
       "        <iframe\n",
       "            width=\"100%\"\n",
       "            height=\"250\"\n",
       "            src=\"https://koichiyasuoka.github.io/deplacy/deplacy/viewer.svg#1%09%E7%88%BE%09%E7%88%BE%09PRON%09n%2C%E4%BB%A3%E5%90%8D%E8%A9%9E%2C%E4%BA%BA%E7%A7%B0%2C%E6%AD%A2%E6%A0%BC%09Person%3D2%7CPronType%3DPrs%092%09nsubj%09_%09SpaceAfter%3DNo%7CTranslit%3D%5B2PRON%5D%0A2%09%E6%AC%B2%09%E6%AC%B2%09AUX%09v%2C%E5%8A%A9%E5%8B%95%E8%A9%9E%2C%E9%A1%98%E6%9C%9B%2C%2A%09Mood%3DDes%090%09ROOT%09_%09SpaceAfter%3DNo%7CTranslit%3Dwish%0A3%09%E5%90%B3%09%E5%90%B3%09PROPN%09n%2C%E5%90%8D%E8%A9%9E%2C%E4%B8%BB%E4%BD%93%2C%E5%9B%BD%E5%90%8D%09Case%3DLoc%7CNameType%3DNat%094%09compound%09_%09SpaceAfter%3DNo%7CTranslit%3D%5Bcountry-name%5D%0A4%09%E7%8E%8B%09%E7%8E%8B%09NOUN%09n%2C%E5%90%8D%E8%A9%9E%2C%E4%BA%BA%2C%E5%BD%B9%E5%89%B2%09_%095%09nsubj%09_%09SpaceAfter%3DNo%7CTranslit%3Dking%0A5%09%E6%88%91%09%E6%88%91%09PRON%09n%2C%E4%BB%A3%E5%90%8D%E8%A9%9E%2C%E4%BA%BA%E7%A7%B0%2C%E6%AD%A2%E6%A0%BC%09Person%3D1%7CPronType%3DPrs%092%09ccomp%09_%09SpaceAfter%3DNo%7CTranslit%3D%5B1PRON%5D%0A6%09%E4%B9%8E%09%E4%B9%8E%09PART%09p%2C%E5%8A%A9%E8%A9%9E%2C%E5%8F%A5%E6%9C%AB%2C%2A%09_%092%09discourse%3Asp%09_%09SpaceAfter%3DNo%7CTranslit%3D%5BQ%5D%0A%0A\"\n",
       "            frameborder=\"0\"\n",
       "            allowfullscreen\n",
       "            style=\"background-color: white;\"\n",
       "        ></iframe>\n",
       "        "
      ],
      "text/plain": [
       "<IPython.lib.display.IFrame at 0x7ffa3adf6c40>"
      ]
     },
     "metadata": {},
     "output_type": "display_data"
    }
   ],
   "source": [
    "ex42 = nlp(\"爾欲吳王我乎\")\n",
    "serve(ex42, 250)"
   ]
  },
  {
   "cell_type": "markdown",
   "metadata": {},
   "source": [
    "Unsure why the following isn't being split into 4 sentences?"
   ]
  },
  {
   "cell_type": "code",
   "execution_count": 21,
   "metadata": {},
   "outputs": [
    {
     "name": "stderr",
     "output_type": "stream",
     "text": [
      "                                                   \r"
     ]
    },
    {
     "data": {
      "text/html": [
       "\n",
       "        <iframe\n",
       "            width=\"100%\"\n",
       "            height=\"400\"\n",
       "            src=\"https://koichiyasuoka.github.io/deplacy/deplacy/viewer.svg#1%09%E5%90%9B%09%E5%90%9B%09NOUN%09n%2C%E5%90%8D%E8%A9%9E%2C%E4%BA%BA%2C%E5%BD%B9%E5%89%B2%09_%092%09nsubj%09_%09SpaceAfter%3DNo%7CTranslit%3Druler%0A2%09%E5%90%9B%09%E5%90%9B%09VERB%09v%2C%E5%8B%95%E8%A9%9E%2C%E8%A1%8C%E7%82%BA%2C%E5%BD%B9%E5%89%B2%09_%090%09ROOT%09_%09SpaceAfter%3DNo%7CTranslit%3Dgovern%0A3%09%E8%87%A3%09%E8%87%A3%09NOUN%09n%2C%E5%90%8D%E8%A9%9E%2C%E4%BA%BA%2C%E5%BD%B9%E5%89%B2%09_%092%09conj%09_%09SpaceAfter%3DNo%7CTranslit%3Dvassal%0A4%09%E8%87%A3%09%E8%87%A3%09NOUN%09n%2C%E5%90%8D%E8%A9%9E%2C%E4%BA%BA%2C%E5%BD%B9%E5%89%B2%09_%092%09conj%09_%09SpaceAfter%3DNo%7CTranslit%3Dvassal%0A%0A1%09%E7%88%B6%09%E7%88%B6%09NOUN%09n%2C%E5%90%8D%E8%A9%9E%2C%E4%BA%BA%2C%E9%96%A2%E4%BF%82%09_%092%09nsubj%09_%09SpaceAfter%3DNo%7CTranslit%3Dfather%0A2%09%E7%88%B6%09%E7%88%B6%09NOUN%09n%2C%E5%90%8D%E8%A9%9E%2C%E4%BA%BA%2C%E9%96%A2%E4%BF%82%09_%090%09ROOT%09_%09SpaceAfter%3DNo%7CTranslit%3Dfather%0A3%09%E5%AD%90%09%E5%AD%90%09NOUN%09n%2C%E5%90%8D%E8%A9%9E%2C%E4%BA%BA%2C%E9%96%A2%E4%BF%82%09_%091%09conj%09_%09SpaceAfter%3DNo%7CTranslit%3Dchild%0A4%09%E5%AD%90%09%E5%AD%90%09VERB%09v%2C%E5%8B%95%E8%A9%9E%2C%E8%A1%8C%E7%82%BA%2C%E5%BD%B9%E5%89%B2%09_%092%09conj%09_%09SpaceAfter%3DNo%7CTranslit%3Dchildlike%0A%0A\"\n",
       "            frameborder=\"0\"\n",
       "            allowfullscreen\n",
       "            style=\"background-color: white;\"\n",
       "        ></iframe>\n",
       "        "
      ],
      "text/plain": [
       "<IPython.lib.display.IFrame at 0x7ffa40f6f9d0>"
      ]
     },
     "metadata": {},
     "output_type": "display_data"
    }
   ],
   "source": [
    "ex43 = nlp(\"君君臣臣父父子子\")\n",
    "serve(ex43, 400)"
   ]
  },
  {
   "cell_type": "code",
   "execution_count": 20,
   "metadata": {},
   "outputs": [
    {
     "name": "stderr",
     "output_type": "stream",
     "text": [
      "                                                   \r"
     ]
    },
    {
     "data": {
      "text/html": [
       "\n",
       "        <iframe\n",
       "            width=\"100%\"\n",
       "            height=\"250\"\n",
       "            src=\"https://koichiyasuoka.github.io/deplacy/deplacy/viewer.svg#1%09%E7%82%BA%09%E7%88%B2%09VERB%09v%2C%E5%8B%95%E8%A9%9E%2C%E5%AD%98%E5%9C%A8%2C%E5%AD%98%E5%9C%A8%09VerbType%3DCop%092%09cop%09_%09SpaceAfter%3DNo%7CTranslit%3Dbe%0A2%09%E8%87%A3%09%E8%87%A3%09NOUN%09n%2C%E5%90%8D%E8%A9%9E%2C%E4%BA%BA%2C%E5%BD%B9%E5%89%B2%09_%097%09csubj%09_%09SpaceAfter%3DNo%7CTranslit%3Dvassal%0A3%09%E8%80%8C%09%E8%80%8C%09CCONJ%09p%2C%E5%8A%A9%E8%A9%9E%2C%E6%8E%A5%E7%B6%9A%2C%E4%B8%A6%E5%88%97%09_%094%09cc%09_%09SpaceAfter%3DNo%7CTranslit%3Dand%0A4%09%E5%90%9B%09%E5%90%9B%09NOUN%09n%2C%E5%90%8D%E8%A9%9E%2C%E4%BA%BA%2C%E5%BD%B9%E5%89%B2%09_%092%09conj%09_%09SpaceAfter%3DNo%7CTranslit%3Druler%0A5%09%E4%BA%A1%09%E4%BA%A1%09VERB%09v%2C%E5%8B%95%E8%A9%9E%2C%E5%A4%89%E5%8C%96%2C%E7%94%9F%E7%89%A9%09_%097%09amod%09_%09SpaceAfter%3DNo%7CTranslit%3Dbe-lost%0A6%09%E4%B9%8B%09%E4%B9%8B%09SCONJ%09p%2C%E5%8A%A9%E8%A9%9E%2C%E6%8E%A5%E7%B6%9A%2C%E5%B1%9E%E6%A0%BC%09_%095%09case%09_%09SpaceAfter%3DNo%7CTranslit%3D%27s%0A7%09%E6%9C%AC%09%E6%9C%AC%09NOUN%09n%2C%E5%90%8D%E8%A9%9E%2C%E6%8F%8F%E5%86%99%2C%E5%BD%A2%E8%B3%AA%09_%090%09ROOT%09_%09SpaceAfter%3DNo%7CTranslit%3Dbase%0A8%09%E4%B9%9F%09%E4%B9%9F%09PART%09p%2C%E5%8A%A9%E8%A9%9E%2C%E5%8F%A5%E6%9C%AB%2C%2A%09_%097%09discourse%3Asp%09_%09SpaceAfter%3DNo%7CTranslit%3D%5Bfinal-particle%5D%0A%0A\"\n",
       "            frameborder=\"0\"\n",
       "            allowfullscreen\n",
       "            style=\"background-color: white;\"\n",
       "        ></iframe>\n",
       "        "
      ],
      "text/plain": [
       "<IPython.lib.display.IFrame at 0x7ffa3adf6a30>"
      ]
     },
     "metadata": {},
     "output_type": "display_data"
    }
   ],
   "source": [
    "ex44 = nlp(\"為臣而君亡之本也\")\n",
    "serve(ex44, 250)"
   ]
  },
  {
   "cell_type": "markdown",
   "metadata": {},
   "source": [
    "## 4. Intransitive Verbs"
   ]
  },
  {
   "cell_type": "code",
   "execution_count": 22,
   "metadata": {},
   "outputs": [
    {
     "name": "stderr",
     "output_type": "stream",
     "text": [
      "                                                   \r"
     ]
    },
    {
     "data": {
      "text/html": [
       "\n",
       "        <iframe\n",
       "            width=\"100%\"\n",
       "            height=\"200\"\n",
       "            src=\"https://koichiyasuoka.github.io/deplacy/deplacy/viewer.svg#1%09%E9%86%AB%09%E9%86%AB%09NOUN%09n%2C%E5%90%8D%E8%A9%9E%2C%E4%BA%BA%2C%E5%BD%B9%E5%89%B2%09_%092%09nsubj%09_%09SpaceAfter%3DNo%7CTranslit%3Ddoctor%0A2%09%E4%BE%86%09%E4%BE%86%09VERB%09v%2C%E5%8B%95%E8%A9%9E%2C%E8%A1%8C%E7%82%BA%2C%E7%A7%BB%E5%8B%95%09_%090%09ROOT%09_%09SpaceAfter%3DNo%7CTranslit%3Dcome%0A%0A\"\n",
       "            frameborder=\"0\"\n",
       "            allowfullscreen\n",
       "            style=\"background-color: white;\"\n",
       "        ></iframe>\n",
       "        "
      ],
      "text/plain": [
       "<IPython.lib.display.IFrame at 0x7ffa3adf6340>"
      ]
     },
     "metadata": {},
     "output_type": "display_data"
    }
   ],
   "source": [
    "ex45 = nlp(\"醫來\")\n",
    "serve(ex45)"
   ]
  },
  {
   "cell_type": "code",
   "execution_count": 26,
   "metadata": {},
   "outputs": [
    {
     "name": "stderr",
     "output_type": "stream",
     "text": [
      "                                                   \r"
     ]
    },
    {
     "data": {
      "text/html": [
       "\n",
       "        <iframe\n",
       "            width=\"100%\"\n",
       "            height=\"250\"\n",
       "            src=\"https://koichiyasuoka.github.io/deplacy/deplacy/viewer.svg#1%09%E9%9B%9E%09%E9%9B%9E%09NOUN%09n%2C%E5%90%8D%E8%A9%9E%2C%E4%B8%BB%E4%BD%93%2C%E5%8B%95%E7%89%A9%09_%092%09nsubj%09_%09SpaceAfter%3DNo%7CTranslit%3Dchicken%0A2%09%E9%B3%B4%09%E9%B3%B4%09VERB%09v%2C%E5%8B%95%E8%A9%9E%2C%E8%A1%8C%E7%82%BA%2C%E5%8B%95%E4%BD%9C%09_%095%09acl%09_%09SpaceAfter%3DNo%7CTranslit%3Dring%0A3%09%E8%80%8C%09%E8%80%8C%09CCONJ%09p%2C%E5%8A%A9%E8%A9%9E%2C%E6%8E%A5%E7%B6%9A%2C%E4%B8%A6%E5%88%97%09_%094%09cc%09_%09SpaceAfter%3DNo%7CTranslit%3Dand%0A4%09%E8%B5%B7%09%E8%B5%B7%09VERB%09v%2C%E5%8B%95%E8%A9%9E%2C%E8%A1%8C%E7%82%BA%2C%E5%8B%95%E4%BD%9C%09_%092%09conj%09_%09SpaceAfter%3DNo%7CTranslit%3Darise%0A5%09%E8%80%85%09%EF%A9%9B%09PART%09p%2C%E5%8A%A9%E8%A9%9E%2C%E6%8F%90%E7%A4%BA%2C%2A%09_%090%09ROOT%09_%09SpaceAfter%3DNo%7CTranslit%3Dthat-which%0A%0A\"\n",
       "            frameborder=\"0\"\n",
       "            allowfullscreen\n",
       "            style=\"background-color: white;\"\n",
       "        ></iframe>\n",
       "        "
      ],
      "text/plain": [
       "<IPython.lib.display.IFrame at 0x7ffa3adf6970>"
      ]
     },
     "metadata": {},
     "output_type": "display_data"
    }
   ],
   "source": [
    "ex46 = nlp(\"雞鳴而起者\")\n",
    "serve(ex46, 250)"
   ]
  },
  {
   "cell_type": "code",
   "execution_count": 30,
   "metadata": {},
   "outputs": [
    {
     "name": "stderr",
     "output_type": "stream",
     "text": [
      "                                                   \r"
     ]
    },
    {
     "data": {
      "text/html": [
       "\n",
       "        <iframe\n",
       "            width=\"100%\"\n",
       "            height=\"450\"\n",
       "            src=\"https://koichiyasuoka.github.io/deplacy/deplacy/viewer.svg#1%09%E6%95%85%09%E6%95%85%09ADV%09v%2C%E5%89%AF%E8%A9%9E%2C%E5%88%A4%E6%96%AD%2C%E7%A2%BA%E5%AE%9A%09_%095%09advmod%09_%09SpaceAfter%3DNo%7CTranslit%3Dtherefore%0A2%09%E9%81%A0%09%E9%81%A0%09VERB%09v%2C%E5%8B%95%E8%A9%9E%2C%E6%8F%8F%E5%86%99%2C%E9%87%8F%09Degree%3DPos%093%09amod%09_%09SpaceAfter%3DNo%7CTranslit%3Ddistant%0A3%09%E4%BA%BA%09%E4%BA%BA%09NOUN%09n%2C%E5%90%8D%E8%A9%9E%2C%E4%BA%BA%2C%E4%BA%BA%09_%095%09nsubj%09_%09SpaceAfter%3DNo%7CTranslit%3Dperson%0A4%09%E4%B8%8D%09%E4%B8%8D%09ADV%09v%2C%E5%89%AF%E8%A9%9E%2C%E5%90%A6%E5%AE%9A%2C%E7%84%A1%E7%95%8C%09Polarity%3DNeg%095%09advmod%09_%09SpaceAfter%3DNo%7CTranslit%3Dnot%0A5%09%E6%9C%8D%09%E6%9C%8D%09VERB%09v%2C%E5%8B%95%E8%A9%9E%2C%E8%A1%8C%E7%82%BA%2C%E4%BA%A4%E6%B5%81%09_%090%09ROOT%09_%09SpaceAfter%3DNo%7CTranslit%3Dsubmit%0A%0A1%09%E5%89%87%09%E5%89%87%09ADV%09v%2C%E5%89%AF%E8%A9%9E%2C%E6%99%82%E7%9B%B8%2C%E7%B7%8A%E6%8E%A5%09AdvType%3DTim%092%09advmod%09_%09SpaceAfter%3DNo%7CTranslit%3Dthen%0A2%09%E8%84%A9%09%E8%84%A9%09VERB%09v%2C%E5%8B%95%E8%A9%9E%2C%E8%A1%8C%E7%82%BA%2C%E5%8B%95%E4%BD%9C%09_%090%09ROOT%09_%09SpaceAfter%3DNo%7CTranslit%3Dimprove%0A3%09%E6%96%87%09%E6%96%87%09NOUN%09n%2C%E5%90%8D%E8%A9%9E%2C%E6%8F%8F%E5%86%99%2C%E6%85%8B%E5%BA%A6%09_%094%09nmod%09_%09SpaceAfter%3DNo%7CTranslit%3Dcivil%0A4%09%E5%BE%B7%09%E5%BE%B7%09NOUN%09n%2C%E5%90%8D%E8%A9%9E%2C%E6%8F%8F%E5%86%99%2C%E6%85%8B%E5%BA%A6%09_%092%09obj%09_%09SpaceAfter%3DNo%7CTranslit%3Dvirtue%0A5%09%E4%BB%A5%09%E4%BB%A5%09VERB%09v%2C%E5%8B%95%E8%A9%9E%2C%E8%A1%8C%E7%82%BA%2C%E5%8B%95%E4%BD%9C%09_%096%09advmod%09_%09SpaceAfter%3DNo%7CTranslit%3Duse%0A6%09%E4%BE%86%09%E4%BE%86%09VERB%09v%2C%E5%8B%95%E8%A9%9E%2C%E8%A1%8C%E7%82%BA%2C%E7%A7%BB%E5%8B%95%09_%092%09parataxis%09_%09SpaceAfter%3DNo%7CTranslit%3Dcome%0A7%09%E4%B9%8B%09%E4%B9%8B%09PRON%09n%2C%E4%BB%A3%E5%90%8D%E8%A9%9E%2C%E4%BA%BA%E7%A7%B0%2C%E6%AD%A2%E6%A0%BC%09Person%3D3%7CPronType%3DPrs%096%09obj%09_%09SpaceAfter%3DNo%7CTranslit%3D%5B3PRON%5D%0A%0A\"\n",
       "            frameborder=\"0\"\n",
       "            allowfullscreen\n",
       "            style=\"background-color: white;\"\n",
       "        ></iframe>\n",
       "        "
      ],
      "text/plain": [
       "<IPython.lib.display.IFrame at 0x7ffa3ae05970>"
      ]
     },
     "metadata": {},
     "output_type": "display_data"
    }
   ],
   "source": [
    "ex47 = nlp(\"故遠人不服則脩文德以來之\")\n",
    "serve(ex47, 450)"
   ]
  },
  {
   "cell_type": "code",
   "execution_count": 32,
   "metadata": {},
   "outputs": [
    {
     "name": "stderr",
     "output_type": "stream",
     "text": [
      "                                                   \r"
     ]
    },
    {
     "data": {
      "text/html": [
       "\n",
       "        <iframe\n",
       "            width=\"100%\"\n",
       "            height=\"250\"\n",
       "            src=\"https://koichiyasuoka.github.io/deplacy/deplacy/viewer.svg#1%09%E5%89%87%09%E5%89%87%09ADV%09v%2C%E5%89%AF%E8%A9%9E%2C%E6%99%82%E7%9B%B8%2C%E7%B7%8A%E6%8E%A5%09AdvType%3DTim%095%09advmod%09_%09SpaceAfter%3DNo%7CTranslit%3Dthen%0A2%09%E8%8B%97%09%E8%8B%97%09NOUN%09n%2C%E5%90%8D%E8%A9%9E%2C%E5%9B%BA%E5%AE%9A%E7%89%A9%2C%E6%A8%B9%E6%9C%A8%09_%095%09nsubj%09_%09SpaceAfter%3DNo%7CTranslit%3Dseedling%0A3%09%E5%8B%83%09%E5%8B%83%09VERB%09v%2C%E5%8B%95%E8%A9%9E%2C%E6%8F%8F%E5%86%99%2C%E5%BD%A2%E8%B3%AA%09Degree%3DPos%095%09advmod%09_%09SpaceAfter%3DNo%7CTranslit%3Dsudden%0A4%09%E7%84%B6%09%E7%84%B6%09PART%09p%2C%E6%8E%A5%E5%B0%BE%E8%BE%9E%2C%2A%2C%2A%09_%093%09fixed%09_%09SpaceAfter%3DNo%7CTranslit%3D%5Bsuffix%5D%0A5%09%E8%88%88%09%E8%88%88%09VERB%09v%2C%E5%8B%95%E8%A9%9E%2C%E8%A1%8C%E7%82%BA%2C%E5%8B%95%E4%BD%9C%09_%090%09ROOT%09_%09SpaceAfter%3DNo%7CTranslit%3Drise%0A6%09%E4%B9%8B%09%E4%B9%8B%09PRON%09n%2C%E4%BB%A3%E5%90%8D%E8%A9%9E%2C%E4%BA%BA%E7%A7%B0%2C%E6%AD%A2%E6%A0%BC%09Person%3D3%7CPronType%3DPrs%095%09obj%09_%09SpaceAfter%3DNo%7CTranslit%3D%5B3PRON%5D%0A7%09%E7%9F%A3%09%E7%9F%A3%09PART%09p%2C%E5%8A%A9%E8%A9%9E%2C%E5%8F%A5%E6%9C%AB%2C%2A%09_%095%09discourse%3Asp%09_%09SpaceAfter%3DNo%7CTranslit%3D%5BPFV%5D%0A%0A\"\n",
       "            frameborder=\"0\"\n",
       "            allowfullscreen\n",
       "            style=\"background-color: white;\"\n",
       "        ></iframe>\n",
       "        "
      ],
      "text/plain": [
       "<IPython.lib.display.IFrame at 0x7ffa40f6fd60>"
      ]
     },
     "metadata": {},
     "output_type": "display_data"
    }
   ],
   "source": [
    "ex48 = nlp(\"則苗勃然興之矣\")\n",
    "serve(ex48, 250)"
   ]
  },
  {
   "cell_type": "code",
   "execution_count": 37,
   "metadata": {},
   "outputs": [
    {
     "name": "stderr",
     "output_type": "stream",
     "text": [
      "                                                   \r"
     ]
    },
    {
     "data": {
      "text/html": [
       "\n",
       "        <iframe\n",
       "            width=\"100%\"\n",
       "            height=\"450\"\n",
       "            src=\"https://koichiyasuoka.github.io/deplacy/deplacy/viewer.svg#1%09%E5%90%BE%09%E5%90%BE%09PRON%09n%2C%E4%BB%A3%E5%90%8D%E8%A9%9E%2C%E4%BA%BA%E7%A7%B0%2C%E8%B5%B7%E6%A0%BC%09Person%3D1%7CPronType%3DPrs%093%09det%09_%09SpaceAfter%3DNo%7CTranslit%3D%5B1PRON%5D%0A2%09%E6%9C%89%09%E6%9C%89%09VERB%09v%2C%E5%8B%95%E8%A9%9E%2C%E5%AD%98%E5%9C%A8%2C%E5%AD%98%E5%9C%A8%09_%093%09amod%09_%09SpaceAfter%3DNo%7CTranslit%3Dhave%0A3%09%E5%8F%B8%09%E5%8F%B8%09NOUN%09n%2C%E5%90%8D%E8%A9%9E%2C%E4%BA%BA%2C%E5%BD%B9%E5%89%B2%09_%096%09dislocated%09_%09SpaceAfter%3DNo%7CTranslit%3Dcontroller%0A4%09%E6%AD%BB%09%E6%AD%BB%09VERB%09v%2C%E5%8B%95%E8%A9%9E%2C%E5%A4%89%E5%8C%96%2C%E7%94%9F%E7%89%A9%09_%095%09amod%09_%09SpaceAfter%3DNo%7CTranslit%3Ddie%0A5%09%E8%80%85%09%EF%A9%9B%09PART%09p%2C%E5%8A%A9%E8%A9%9E%2C%E6%8F%90%E7%A4%BA%2C%2A%09_%096%09nsubj%09_%09SpaceAfter%3DNo%7CTranslit%3Dthat-which%0A6%09%E4%B8%89%E5%8D%81%E4%B8%89%09%E4%B8%89%E5%8D%81%E4%B8%89%09NUM%09n%2C%E6%95%B0%E8%A9%9E%2C%E6%95%B0%2C%2A%09_%090%09ROOT%09_%09SpaceAfter%3DNo%7CTranslit%3Dthirty-three%0A7%09%E4%BA%BA%09%E4%BA%BA%09NOUN%09n%2C%E5%90%8D%E8%A9%9E%2C%E4%BA%BA%2C%E4%BA%BA%09_%096%09clf%09_%09SpaceAfter%3DNo%7CTranslit%3Dperson%0A%0A1%09%E8%80%8C%09%E8%80%8C%09CCONJ%09p%2C%E5%8A%A9%E8%A9%9E%2C%E6%8E%A5%E7%B6%9A%2C%E4%B8%A6%E5%88%97%09_%095%09advmod%09_%09SpaceAfter%3DNo%7CTranslit%3Dand%0A2%09%E6%B0%91%09%E6%B0%91%09NOUN%09n%2C%E5%90%8D%E8%A9%9E%2C%E4%BA%BA%2C%E4%BA%BA%09_%095%09nsubj%09_%09SpaceAfter%3DNo%7CTranslit%3Dpeople%0A3%09%E8%8E%AB%09%E8%8E%AB%09ADV%09v%2C%E5%89%AF%E8%A9%9E%2C%E5%90%A6%E5%AE%9A%2C%E7%A6%81%E6%AD%A2%09Polarity%3DNeg%095%09advmod%09_%09SpaceAfter%3DNo%7CTranslit%3Dnone%0A4%09%E4%B9%8B%09%E4%B9%8B%09PRON%09n%2C%E4%BB%A3%E5%90%8D%E8%A9%9E%2C%E4%BA%BA%E7%A7%B0%2C%E6%AD%A2%E6%A0%BC%09Person%3D3%7CPronType%3DPrs%095%09obj%09_%09SpaceAfter%3DNo%7CTranslit%3D%5B3PRON%5D%0A5%09%E6%AD%BB%09%E6%AD%BB%09VERB%09v%2C%E5%8B%95%E8%A9%9E%2C%E5%A4%89%E5%8C%96%2C%E7%94%9F%E7%89%A9%09_%090%09ROOT%09_%09SpaceAfter%3DNo%7CTranslit%3Ddie%0A6%09%E4%B9%9F%09%E4%B9%9F%09PART%09p%2C%E5%8A%A9%E8%A9%9E%2C%E5%8F%A5%E6%9C%AB%2C%2A%09_%095%09discourse%3Asp%09_%09SpaceAfter%3DNo%7CTranslit%3D%5Bfinal-particle%5D%0A%0A\"\n",
       "            frameborder=\"0\"\n",
       "            allowfullscreen\n",
       "            style=\"background-color: white;\"\n",
       "        ></iframe>\n",
       "        "
      ],
      "text/plain": [
       "<IPython.lib.display.IFrame at 0x7ffa40de83d0>"
      ]
     },
     "metadata": {},
     "output_type": "display_data"
    }
   ],
   "source": [
    "ex49 = nlp(\"吾有司死者三十三人而民莫之死也\")\n",
    "serve(ex49, 450)"
   ]
  },
  {
   "cell_type": "markdown",
   "metadata": {},
   "source": [
    "## 5. Transitive Verbs - Active and Passive"
   ]
  },
  {
   "cell_type": "code",
   "execution_count": 38,
   "metadata": {},
   "outputs": [
    {
     "name": "stderr",
     "output_type": "stream",
     "text": [
      "                                                   \r"
     ]
    },
    {
     "data": {
      "text/html": [
       "\n",
       "        <iframe\n",
       "            width=\"100%\"\n",
       "            height=\"200\"\n",
       "            src=\"https://koichiyasuoka.github.io/deplacy/deplacy/viewer.svg#1%09%E4%B8%83%E5%8D%81%09%E4%B8%83%E5%8D%81%09NUM%09n%2C%E6%95%B0%E8%A9%9E%2C%E6%95%B0%2C%2A%09_%092%09nummod%09_%09SpaceAfter%3DNo%7CTranslit%3Dseventy%0A2%09%E8%80%85%09%EF%A9%9B%09PART%09p%2C%E5%8A%A9%E8%A9%9E%2C%E6%8F%90%E7%A4%BA%2C%2A%09_%093%09nsubj%09_%09SpaceAfter%3DNo%7CTranslit%3Dthat-which%0A3%09%E8%A1%A3%09%E8%A1%A3%09VERB%09v%2C%E5%8B%95%E8%A9%9E%2C%E8%A1%8C%E7%82%BA%2C%E5%8B%95%E4%BD%9C%09_%090%09ROOT%09_%09SpaceAfter%3DNo%7CTranslit%3Dwear%0A4%09%E5%B8%9B%09%E5%B8%9B%09NOUN%09n%2C%E5%90%8D%E8%A9%9E%2C%E5%8F%AF%E6%90%AC%2C%E9%81%93%E5%85%B7%09_%093%09obj%09_%09SpaceAfter%3DNo%7CTranslit%3Dsilk-cloth%0A5%09%E9%A3%9F%09%E9%A3%9F%09VERB%09v%2C%E5%8B%95%E8%A9%9E%2C%E8%A1%8C%E7%82%BA%2C%E9%A3%B2%E9%A3%9F%09_%093%09parataxis%09_%09SpaceAfter%3DNo%7CTranslit%3Dfeed%0A6%09%E8%82%89%09%E8%82%89%09NOUN%09n%2C%E5%90%8D%E8%A9%9E%2C%E5%8F%AF%E6%90%AC%2C%E7%B3%A7%E9%A3%9F%09_%095%09obj%09_%09SpaceAfter%3DNo%7CTranslit%3Dflesh%0A%0A\"\n",
       "            frameborder=\"0\"\n",
       "            allowfullscreen\n",
       "            style=\"background-color: white;\"\n",
       "        ></iframe>\n",
       "        "
      ],
      "text/plain": [
       "<IPython.lib.display.IFrame at 0x7ffa3f02f2b0>"
      ]
     },
     "metadata": {},
     "output_type": "display_data"
    }
   ],
   "source": [
    "ex50 = nlp(\"七十者衣帛食肉\")\n",
    "serve(ex50)"
   ]
  },
  {
   "cell_type": "code",
   "execution_count": 40,
   "metadata": {},
   "outputs": [
    {
     "name": "stderr",
     "output_type": "stream",
     "text": [
      "                                                   \r"
     ]
    },
    {
     "data": {
      "text/html": [
       "\n",
       "        <iframe\n",
       "            width=\"100%\"\n",
       "            height=\"250\"\n",
       "            src=\"https://koichiyasuoka.github.io/deplacy/deplacy/viewer.svg#1%09%E5%B8%AB%09%E5%B8%AB%09NOUN%09n%2C%E5%90%8D%E8%A9%9E%2C%E4%B8%BB%E4%BD%93%2C%E9%9B%86%E5%9B%A3%09_%092%09nsubj%09_%09SpaceAfter%3DNo%0A2%09%E8%A1%8C%09%E8%A1%8C%09VERB%09v%2C%E5%8B%95%E8%A9%9E%2C%E8%A1%8C%E7%82%BA%2C%E5%8B%95%E4%BD%9C%09_%090%09ROOT%09_%09SpaceAfter%3DNo%7CTranslit%3Dbehave%0A3%09%E8%80%8C%09%E8%80%8C%09CCONJ%09p%2C%E5%8A%A9%E8%A9%9E%2C%E6%8E%A5%E7%B6%9A%2C%E4%B8%A6%E5%88%97%09_%095%09cc%09_%09SpaceAfter%3DNo%7CTranslit%3Dand%0A4%09%E7%B3%A7%09%E7%B3%A7%09NOUN%09n%2C%E5%90%8D%E8%A9%9E%2C%E5%8F%AF%E6%90%AC%2C%E7%B3%A7%E9%A3%9F%09_%095%09nsubj%3Apass%09_%09SpaceAfter%3DNo%7CTranslit%3Dgrain%0A5%09%E9%A3%9F%09%E9%A3%9F%09VERB%09v%2C%E5%8B%95%E8%A9%9E%2C%E8%A1%8C%E7%82%BA%2C%E9%A3%B2%E9%A3%9F%09_%092%09conj%09_%09SpaceAfter%3DNo%7CTranslit%3Dfeed%0A%0A\"\n",
       "            frameborder=\"0\"\n",
       "            allowfullscreen\n",
       "            style=\"background-color: white;\"\n",
       "        ></iframe>\n",
       "        "
      ],
      "text/plain": [
       "<IPython.lib.display.IFrame at 0x7ffa3adf6400>"
      ]
     },
     "metadata": {},
     "output_type": "display_data"
    }
   ],
   "source": [
    "ex51 = nlp(\"師行而糧食\")\n",
    "serve(ex51, 250)"
   ]
  },
  {
   "cell_type": "code",
   "execution_count": 42,
   "metadata": {},
   "outputs": [
    {
     "name": "stderr",
     "output_type": "stream",
     "text": [
      "                                                   \r"
     ]
    },
    {
     "data": {
      "text/html": [
       "\n",
       "        <iframe\n",
       "            width=\"100%\"\n",
       "            height=\"250\"\n",
       "            src=\"https://koichiyasuoka.github.io/deplacy/deplacy/viewer.svg#1%09%E8%B3%A2%09%E8%B3%A2%09VERB%09v%2C%E5%8B%95%E8%A9%9E%2C%E6%8F%8F%E5%86%99%2C%E6%85%8B%E5%BA%A6%09Degree%3DPos%092%09amod%09_%09SpaceAfter%3DNo%7CTranslit%3Dworthy%0A2%09%E8%80%85%09%EF%A9%9B%09PART%09p%2C%E5%8A%A9%E8%A9%9E%2C%E6%8F%90%E7%A4%BA%2C%2A%09_%096%09nsubj%09_%09SpaceAfter%3DNo%7CTranslit%3Dthat-which%0A3%09%E8%88%87%09%E8%88%87%09ADP%09v%2C%E5%89%8D%E7%BD%AE%E8%A9%9E%2C%E9%96%A2%E4%BF%82%2C%2A%09_%094%09case%09_%09SpaceAfter%3DNo%7CTranslit%3Dassociate-with%0A4%09%E6%B0%91%09%E6%B0%91%09NOUN%09n%2C%E5%90%8D%E8%A9%9E%2C%E4%BA%BA%2C%E4%BA%BA%09_%096%09obl%09_%09SpaceAfter%3DNo%7CTranslit%3Dpeople%0A5%09%E4%B8%A6%09%E7%AB%9D%09ADV%09v%2C%E5%89%AF%E8%A9%9E%2C%E7%AF%84%E5%9B%B2%2C%E5%85%B1%E5%90%8C%09_%096%09advmod%09_%09SpaceAfter%3DNo%7CTranslit%3Dside-by-side%0A6%09%E8%80%95%09%E8%80%95%09VERB%09v%2C%E5%8B%95%E8%A9%9E%2C%E8%A1%8C%E7%82%BA%2C%E5%8B%95%E4%BD%9C%09_%090%09ROOT%09_%09SpaceAfter%3DNo%7CTranslit%3Dplough%0A7%09%E8%80%8C%09%E8%80%8C%09CCONJ%09p%2C%E5%8A%A9%E8%A9%9E%2C%E6%8E%A5%E7%B6%9A%2C%E4%B8%A6%E5%88%97%09_%098%09cc%09_%09SpaceAfter%3DNo%7CTranslit%3Dand%0A8%09%E9%A3%9F%09%E9%A3%9F%09VERB%09v%2C%E5%8B%95%E8%A9%9E%2C%E8%A1%8C%E7%82%BA%2C%E9%A3%B2%E9%A3%9F%09_%096%09conj%09_%09SpaceAfter%3DNo%7CTranslit%3Dfeed%0A%0A\"\n",
       "            frameborder=\"0\"\n",
       "            allowfullscreen\n",
       "            style=\"background-color: white;\"\n",
       "        ></iframe>\n",
       "        "
      ],
      "text/plain": [
       "<IPython.lib.display.IFrame at 0x7ffa3f02f9d0>"
      ]
     },
     "metadata": {},
     "output_type": "display_data"
    }
   ],
   "source": [
    "ex52 = nlp(\"賢者與民並耕而食\")\n",
    "serve(ex52, 250)"
   ]
  },
  {
   "cell_type": "code",
   "execution_count": 45,
   "metadata": {},
   "outputs": [
    {
     "name": "stderr",
     "output_type": "stream",
     "text": [
      "                                                   \r"
     ]
    },
    {
     "data": {
      "text/html": [
       "\n",
       "        <iframe\n",
       "            width=\"100%\"\n",
       "            height=\"700\"\n",
       "            src=\"https://koichiyasuoka.github.io/deplacy/deplacy/viewer.svg#1%09%E5%8B%9E%09%E5%8B%9E%09VERB%09v%2C%E5%8B%95%E8%A9%9E%2C%E6%8F%8F%E5%86%99%2C%E5%A2%83%E9%81%87%09Degree%3DPos%093%09acl%09_%09SpaceAfter%3DNo%7CTranslit%3Dwork%0A2%09%E5%BF%83%09%E5%BF%83%09NOUN%09n%2C%E5%90%8D%E8%A9%9E%2C%E4%B8%8D%E5%8F%AF%E8%AD%B2%2C%E8%BA%AB%E4%BD%93%09_%091%09obj%09_%09SpaceAfter%3DNo%7CTranslit%3Dheart%0A3%09%E8%80%85%09%EF%A9%9B%09PART%09p%2C%E5%8A%A9%E8%A9%9E%2C%E6%8F%90%E7%A4%BA%2C%2A%09_%094%09nsubj%09_%09SpaceAfter%3DNo%7CTranslit%3Dthat-which%0A4%09%E6%B2%BB%09%E6%B2%BB%09VERB%09v%2C%E5%8B%95%E8%A9%9E%2C%E8%A1%8C%E7%82%BA%2C%E5%8B%95%E4%BD%9C%09_%090%09ROOT%09_%09SpaceAfter%3DNo%7CTranslit%3Dgovern%0A5%09%E4%BA%BA%09%E4%BA%BA%09NOUN%09n%2C%E5%90%8D%E8%A9%9E%2C%E4%BA%BA%2C%E4%BA%BA%09_%094%09obj%09_%09SpaceAfter%3DNo%7CTranslit%3Dperson%0A%0A1%09%E5%8B%9E%09%E5%8B%9E%09VERB%09v%2C%E5%8B%95%E8%A9%9E%2C%E6%8F%8F%E5%86%99%2C%E5%A2%83%E9%81%87%09Degree%3DPos%093%09acl%09_%09SpaceAfter%3DNo%7CTranslit%3Dwork%0A2%09%E5%8A%9B%09%E5%8A%9B%09NOUN%09n%2C%E5%90%8D%E8%A9%9E%2C%E4%B8%8D%E5%8F%AF%E8%AD%B2%2C%E8%BA%AB%E4%BD%93%09_%091%09obj%09_%09SpaceAfter%3DNo%7CTranslit%3Dstrength%0A3%09%E8%80%85%09%EF%A9%9B%09PART%09p%2C%E5%8A%A9%E8%A9%9E%2C%E6%8F%90%E7%A4%BA%2C%2A%09_%094%09nsubj%3Apass%09_%09SpaceAfter%3DNo%7CTranslit%3Dthat-which%0A4%09%E6%B2%BB%09%E6%B2%BB%09VERB%09v%2C%E5%8B%95%E8%A9%9E%2C%E8%A1%8C%E7%82%BA%2C%E5%8B%95%E4%BD%9C%09_%090%09ROOT%09_%09SpaceAfter%3DNo%7CTranslit%3Dgovern%0A5%09%E6%96%BC%09%E6%96%BC%09ADP%09v%2C%E5%89%8D%E7%BD%AE%E8%A9%9E%2C%E5%9F%BA%E7%9B%A4%2C%2A%09_%096%09case%09_%09SpaceAfter%3DNo%7CTranslit%3Dat%0A6%09%E4%BA%BA%09%E4%BA%BA%09NOUN%09n%2C%E5%90%8D%E8%A9%9E%2C%E4%BA%BA%2C%E4%BA%BA%09_%094%09obl%09_%09SpaceAfter%3DNo%7CTranslit%3Dperson%0A%0A1%09%E6%B2%BB%09%E6%B2%BB%09VERB%09v%2C%E5%8B%95%E8%A9%9E%2C%E8%A1%8C%E7%82%BA%2C%E5%8B%95%E4%BD%9C%09_%094%09acl%09_%09SpaceAfter%3DNo%7CTranslit%3Dgovern%0A2%09%E6%96%BC%09%E6%96%BC%09ADP%09v%2C%E5%89%8D%E7%BD%AE%E8%A9%9E%2C%E5%9F%BA%E7%9B%A4%2C%2A%09_%093%09case%09_%09SpaceAfter%3DNo%7CTranslit%3Dat%0A3%09%E4%BA%BA%09%E4%BA%BA%09NOUN%09n%2C%E5%90%8D%E8%A9%9E%2C%E4%BA%BA%2C%E4%BA%BA%09_%091%09obl%09_%09SpaceAfter%3DNo%7CTranslit%3Dperson%0A4%09%E8%80%85%09%EF%A9%9B%09PART%09p%2C%E5%8A%A9%E8%A9%9E%2C%E6%8F%90%E7%A4%BA%2C%2A%09_%095%09nsubj%09_%09SpaceAfter%3DNo%7CTranslit%3Dthat-which%0A5%09%E9%A3%9F%09%E9%A3%9F%09VERB%09v%2C%E5%8B%95%E8%A9%9E%2C%E8%A1%8C%E7%82%BA%2C%E9%A3%B2%E9%A3%9F%09_%090%09ROOT%09_%09SpaceAfter%3DNo%7CTranslit%3Dfeed%0A6%09%E4%BA%BA%09%E4%BA%BA%09NOUN%09n%2C%E5%90%8D%E8%A9%9E%2C%E4%BA%BA%2C%E4%BA%BA%09_%095%09obj%09_%09SpaceAfter%3DNo%7CTranslit%3Dperson%0A%0A1%09%E6%B2%BB%09%E6%B2%BB%09VERB%09v%2C%E5%8B%95%E8%A9%9E%2C%E8%A1%8C%E7%82%BA%2C%E5%8B%95%E4%BD%9C%09_%093%09acl%09_%09SpaceAfter%3DNo%7CTranslit%3Dgovern%0A2%09%E4%BA%BA%09%E4%BA%BA%09NOUN%09n%2C%E5%90%8D%E8%A9%9E%2C%E4%BA%BA%2C%E4%BA%BA%09_%091%09obj%09_%09SpaceAfter%3DNo%7CTranslit%3Dperson%0A3%09%E8%80%85%09%EF%A9%9B%09PART%09p%2C%E5%8A%A9%E8%A9%9E%2C%E6%8F%90%E7%A4%BA%2C%2A%09_%094%09nsubj%3Apass%09_%09SpaceAfter%3DNo%7CTranslit%3Dthat-which%0A4%09%E9%A3%9F%09%E9%A3%9F%09VERB%09v%2C%E5%8B%95%E8%A9%9E%2C%E8%A1%8C%E7%82%BA%2C%E9%A3%B2%E9%A3%9F%09_%090%09ROOT%09_%09SpaceAfter%3DNo%7CTranslit%3Dfeed%0A5%09%E6%96%BC%09%E6%96%BC%09ADP%09v%2C%E5%89%8D%E7%BD%AE%E8%A9%9E%2C%E5%9F%BA%E7%9B%A4%2C%2A%09_%096%09case%09_%09SpaceAfter%3DNo%7CTranslit%3Dat%0A6%09%E4%BA%BA%09%E4%BA%BA%09NOUN%09n%2C%E5%90%8D%E8%A9%9E%2C%E4%BA%BA%2C%E4%BA%BA%09_%094%09obl%09_%09SpaceAfter%3DNo%7CTranslit%3Dperson%0A%0A\"\n",
       "            frameborder=\"0\"\n",
       "            allowfullscreen\n",
       "            style=\"background-color: white;\"\n",
       "        ></iframe>\n",
       "        "
      ],
      "text/plain": [
       "<IPython.lib.display.IFrame at 0x7ffa3f035ac0>"
      ]
     },
     "metadata": {},
     "output_type": "display_data"
    }
   ],
   "source": [
    "ex53 = nlp(\"勞心者治人勞力者治於人治於人者食人治人者食於人\")\n",
    "serve(ex53, 700)"
   ]
  }
 ],
 "metadata": {
  "interpreter": {
   "hash": "0364c37b15e7a6e1c36ca05f1a9e06ef739d4c2650a4a4d0869c3126484e1dba"
  },
  "kernelspec": {
   "display_name": "Python 3.8.10 64-bit ('nlp': virtualenv)",
   "language": "python",
   "name": "python3"
  },
  "language_info": {
   "codemirror_mode": {
    "name": "ipython",
    "version": 3
   },
   "file_extension": ".py",
   "mimetype": "text/x-python",
   "name": "python",
   "nbconvert_exporter": "python",
   "pygments_lexer": "ipython3",
   "version": "3.8.10"
  },
  "orig_nbformat": 4
 },
 "nbformat": 4,
 "nbformat_minor": 2
}
