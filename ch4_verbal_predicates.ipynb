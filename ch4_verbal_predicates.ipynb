{
 "cells": [
  {
   "cell_type": "markdown",
   "metadata": {},
   "source": [
    "# IV. Verbal Predicates"
   ]
  },
  {
   "cell_type": "code",
   "execution_count": 1,
   "metadata": {},
   "outputs": [
    {
     "name": "stderr",
     "output_type": "stream",
     "text": [
      "Some weights of the model checkpoint at KoichiYasuoka/roberta-classical-chinese-large-char were not used when initializing RobertaModel: ['lm_head.dense.weight', 'lm_head.decoder.bias', 'lm_head.layer_norm.bias', 'lm_head.bias', 'lm_head.dense.bias', 'lm_head.decoder.weight', 'lm_head.layer_norm.weight']\n",
      "- This IS expected if you are initializing RobertaModel from the checkpoint of a model trained on another task or with another architecture (e.g. initializing a BertForSequenceClassification model from a BertForPreTraining model).\n",
      "- This IS NOT expected if you are initializing RobertaModel from the checkpoint of a model that you expect to be exactly identical (initializing a BertForSequenceClassification model from a BertForSequenceClassification model).\n"
     ]
    }
   ],
   "source": [
    "from deplacy import (\n",
    "    dot,\n",
    "    render,\n",
    "    to_conllu\n",
    ")\n",
    "from lzh_helpers.serve import serve\n",
    "from suparkanbun import load\n",
    "from transformers import logging\n",
    "\n",
    "logging.logging.disable(logging.INFO)\n",
    "\n",
    "nlp = load(BERT=\"roberta-classical-chinese-large-char\", Danku=True)"
   ]
  },
  {
   "cell_type": "markdown",
   "metadata": {},
   "source": [
    "## 1. Classes of Verbs"
   ]
  },
  {
   "cell_type": "markdown",
   "metadata": {},
   "source": [
    "The following is an example with an adjective.\n",
    "These are sometimes referred to as 'stative' or 'quality' verbs."
   ]
  },
  {
   "cell_type": "code",
   "execution_count": 2,
   "metadata": {},
   "outputs": [
    {
     "name": "stderr",
     "output_type": "stream",
     "text": [
      "                                                   \r"
     ]
    },
    {
     "data": {
      "text/html": [
       "\n",
       "        <iframe\n",
       "            width=\"100%\"\n",
       "            height=\"200\"\n",
       "            src=\"https://koichiyasuoka.github.io/deplacy/deplacy/viewer.svg#1%09%E5%B1%B1%09%E5%B1%B1%09NOUN%09n%2C%E5%90%8D%E8%A9%9E%2C%E5%9B%BA%E5%AE%9A%E7%89%A9%2C%E5%9C%B0%E5%BD%A2%09Case%3DLoc%092%09nsubj%09_%09SpaceAfter%3DNo%7CTranslit%3Dmountain%0A2%09%E9%AB%98%09%E9%AB%98%09VERB%09v%2C%E5%8B%95%E8%A9%9E%2C%E6%8F%8F%E5%86%99%2C%E9%87%8F%09Degree%3DPos%090%09ROOT%09_%09SpaceAfter%3DNo%7CTranslit%3Dhigh%0A%0A\"\n",
       "            frameborder=\"0\"\n",
       "            allowfullscreen\n",
       "            style=\"background-color: white;\"\n",
       "        ></iframe>\n",
       "        "
      ],
      "text/plain": [
       "<IPython.lib.display.IFrame at 0x7f0134368070>"
      ]
     },
     "metadata": {},
     "output_type": "display_data"
    }
   ],
   "source": [
    "ex_quality_verb = nlp(\"山高\")\n",
    "serve(ex_quality_verb)"
   ]
  },
  {
   "cell_type": "markdown",
   "metadata": {},
   "source": [
    "The following is an example of an intransitive verb requiring a single noun."
   ]
  },
  {
   "cell_type": "code",
   "execution_count": 3,
   "metadata": {},
   "outputs": [
    {
     "name": "stderr",
     "output_type": "stream",
     "text": [
      "                                                   \r"
     ]
    },
    {
     "data": {
      "text/html": [
       "\n",
       "        <iframe\n",
       "            width=\"100%\"\n",
       "            height=\"200\"\n",
       "            src=\"https://koichiyasuoka.github.io/deplacy/deplacy/viewer.svg#1%09%E7%8E%8B%09%E7%8E%8B%09NOUN%09n%2C%E5%90%8D%E8%A9%9E%2C%E4%BA%BA%2C%E5%BD%B9%E5%89%B2%09_%092%09nsubj%09_%09SpaceAfter%3DNo%7CTranslit%3Dking%0A2%09%E4%BE%86%09%E4%BE%86%09VERB%09v%2C%E5%8B%95%E8%A9%9E%2C%E8%A1%8C%E7%82%BA%2C%E7%A7%BB%E5%8B%95%09_%090%09ROOT%09_%09SpaceAfter%3DNo%7CTranslit%3Dcome%0A%0A\"\n",
       "            frameborder=\"0\"\n",
       "            allowfullscreen\n",
       "            style=\"background-color: white;\"\n",
       "        ></iframe>\n",
       "        "
      ],
      "text/plain": [
       "<IPython.lib.display.IFrame at 0x7f0134358a60>"
      ]
     },
     "metadata": {},
     "output_type": "display_data"
    }
   ],
   "source": [
    "ex_intransitive_verb = nlp(\"王來\")\n",
    "serve(ex_intransitive_verb)"
   ]
  },
  {
   "cell_type": "markdown",
   "metadata": {},
   "source": [
    "The following are examples of transitive verbs"
   ]
  },
  {
   "cell_type": "code",
   "execution_count": 4,
   "metadata": {},
   "outputs": [
    {
     "name": "stderr",
     "output_type": "stream",
     "text": [
      "                                                   \r"
     ]
    },
    {
     "data": {
      "text/html": [
       "\n",
       "        <iframe\n",
       "            width=\"100%\"\n",
       "            height=\"200\"\n",
       "            src=\"https://koichiyasuoka.github.io/deplacy/deplacy/viewer.svg#1%09%E7%8E%8B%09%E7%8E%8B%09NOUN%09n%2C%E5%90%8D%E8%A9%9E%2C%E4%BA%BA%2C%E5%BD%B9%E5%89%B2%09_%092%09nsubj%09_%09SpaceAfter%3DNo%7CTranslit%3Dking%0A2%09%E6%AE%BA%09%EF%A5%B0%09VERB%09v%2C%E5%8B%95%E8%A9%9E%2C%E8%A1%8C%E7%82%BA%2C%E5%8B%95%E4%BD%9C%09_%090%09ROOT%09_%09SpaceAfter%3DNo%7CTranslit%3Dkill%0A3%09%E4%BA%BA%09%E4%BA%BA%09NOUN%09n%2C%E5%90%8D%E8%A9%9E%2C%E4%BA%BA%2C%E4%BA%BA%09_%092%09obj%09_%09SpaceAfter%3DNo%7CTranslit%3Dperson%0A%0A\"\n",
       "            frameborder=\"0\"\n",
       "            allowfullscreen\n",
       "            style=\"background-color: white;\"\n",
       "        ></iframe>\n",
       "        "
      ],
      "text/plain": [
       "<IPython.lib.display.IFrame at 0x7f0135bd16a0>"
      ]
     },
     "metadata": {},
     "output_type": "display_data"
    }
   ],
   "source": [
    "ex_transitive_verb_1 = nlp(\"王殺人\")\n",
    "serve(ex_transitive_verb_1)"
   ]
  },
  {
   "cell_type": "code",
   "execution_count": 5,
   "metadata": {},
   "outputs": [
    {
     "name": "stderr",
     "output_type": "stream",
     "text": [
      "                                                   \r"
     ]
    },
    {
     "data": {
      "text/html": [
       "\n",
       "        <iframe\n",
       "            width=\"100%\"\n",
       "            height=\"200\"\n",
       "            src=\"https://koichiyasuoka.github.io/deplacy/deplacy/viewer.svg#1%09%E7%8E%8B%09%E7%8E%8B%09NOUN%09n%2C%E5%90%8D%E8%A9%9E%2C%E4%BA%BA%2C%E5%BD%B9%E5%89%B2%09_%092%09nsubj%09_%09SpaceAfter%3DNo%7CTranslit%3Dking%0A2%09%E8%88%87%09%E8%88%87%09VERB%09v%2C%E5%8B%95%E8%A9%9E%2C%E8%A1%8C%E7%82%BA%2C%E4%BA%A4%E6%B5%81%09_%090%09ROOT%09_%09SpaceAfter%3DNo%7CTranslit%3Dparticipate%0A3%09%E4%B9%8B%09%E4%B9%8B%09PRON%09n%2C%E4%BB%A3%E5%90%8D%E8%A9%9E%2C%E4%BA%BA%E7%A7%B0%2C%E6%AD%A2%E6%A0%BC%09Person%3D3%7CPronType%3DPrs%092%09iobj%09_%09SpaceAfter%3DNo%7CTranslit%3D%5B3PRON%5D%0A4%09%E5%88%80%09%E5%88%80%09NOUN%09n%2C%E5%90%8D%E8%A9%9E%2C%E5%8F%AF%E6%90%AC%2C%E9%81%93%E5%85%B7%09_%092%09obj%09_%09SpaceAfter%3DNo%7CTranslit%3Dknife%0A%0A\"\n",
       "            frameborder=\"0\"\n",
       "            allowfullscreen\n",
       "            style=\"background-color: white;\"\n",
       "        ></iframe>\n",
       "        "
      ],
      "text/plain": [
       "<IPython.lib.display.IFrame at 0x7f0134368e20>"
      ]
     },
     "metadata": {},
     "output_type": "display_data"
    }
   ],
   "source": [
    "ex_transitive_verb_2 = nlp(\"王與之刀\")\n",
    "serve(ex_transitive_verb_2)"
   ]
  },
  {
   "cell_type": "markdown",
   "metadata": {},
   "source": [
    "Only transitive verbs can follow 可 directly, and only passively."
   ]
  },
  {
   "cell_type": "code",
   "execution_count": 6,
   "metadata": {},
   "outputs": [
    {
     "name": "stderr",
     "output_type": "stream",
     "text": [
      "                                                   \r"
     ]
    },
    {
     "data": {
      "text/html": [
       "\n",
       "        <iframe\n",
       "            width=\"100%\"\n",
       "            height=\"200\"\n",
       "            src=\"https://koichiyasuoka.github.io/deplacy/deplacy/viewer.svg#1%09%E4%BA%BA%09%E4%BA%BA%09NOUN%09n%2C%E5%90%8D%E8%A9%9E%2C%E4%BA%BA%2C%E4%BA%BA%09_%093%09nsubj%09_%09SpaceAfter%3DNo%7CTranslit%3Dperson%0A2%09%E5%8F%AF%09%E5%8F%AF%09AUX%09v%2C%E5%8A%A9%E5%8B%95%E8%A9%9E%2C%E5%8F%AF%E8%83%BD%2C%2A%09Mood%3DPot%093%09aux%09_%09SpaceAfter%3DNo%7CTranslit%3Dpossible%0A3%09%E6%AE%BA%09%EF%A5%B0%09VERB%09v%2C%E5%8B%95%E8%A9%9E%2C%E8%A1%8C%E7%82%BA%2C%E5%8B%95%E4%BD%9C%09_%090%09ROOT%09_%09SpaceAfter%3DNo%7CTranslit%3Dkill%0A%0A\"\n",
       "            frameborder=\"0\"\n",
       "            allowfullscreen\n",
       "            style=\"background-color: white;\"\n",
       "        ></iframe>\n",
       "        "
      ],
      "text/plain": [
       "<IPython.lib.display.IFrame at 0x7f00964e9d60>"
      ]
     },
     "metadata": {},
     "output_type": "display_data"
    }
   ],
   "source": [
    "ex_transitive_verb_ke_passive = nlp(\"人可殺\")\n",
    "serve(ex_transitive_verb_ke_passive)"
   ]
  },
  {
   "cell_type": "markdown",
   "metadata": {},
   "source": [
    "A transitive verb in active sense, or instransitive verb, requires 可以."
   ]
  },
  {
   "cell_type": "code",
   "execution_count": 7,
   "metadata": {},
   "outputs": [
    {
     "name": "stderr",
     "output_type": "stream",
     "text": [
      "                                                   \r"
     ]
    },
    {
     "data": {
      "text/html": [
       "\n",
       "        <iframe\n",
       "            width=\"100%\"\n",
       "            height=\"250\"\n",
       "            src=\"https://koichiyasuoka.github.io/deplacy/deplacy/viewer.svg#1%09%E7%8E%8B%09%E7%8E%8B%09NOUN%09n%2C%E5%90%8D%E8%A9%9E%2C%E4%BA%BA%2C%E5%BD%B9%E5%89%B2%09_%094%09nsubj%09_%09SpaceAfter%3DNo%7CTranslit%3Dking%0A2%09%E5%8F%AF%09%E5%8F%AF%09AUX%09v%2C%E5%8A%A9%E5%8B%95%E8%A9%9E%2C%E5%8F%AF%E8%83%BD%2C%2A%09Mood%3DPot%094%09aux%09_%09SpaceAfter%3DNo%7CTranslit%3Dpossible%0A3%09%E4%BB%A5%09%E4%BB%A5%09VERB%09v%2C%E5%8B%95%E8%A9%9E%2C%E8%A1%8C%E7%82%BA%2C%E5%8B%95%E4%BD%9C%09_%092%09fixed%09_%09SpaceAfter%3DNo%7CTranslit%3Duse%0A4%09%E6%AE%BA%09%EF%A5%B0%09VERB%09v%2C%E5%8B%95%E8%A9%9E%2C%E8%A1%8C%E7%82%BA%2C%E5%8B%95%E4%BD%9C%09_%090%09ROOT%09_%09SpaceAfter%3DNo%7CTranslit%3Dkill%0A5%09%E4%BA%BA%09%E4%BA%BA%09NOUN%09n%2C%E5%90%8D%E8%A9%9E%2C%E4%BA%BA%2C%E4%BA%BA%09_%094%09obj%09_%09SpaceAfter%3DNo%7CTranslit%3Dperson%0A%0A\"\n",
       "            frameborder=\"0\"\n",
       "            allowfullscreen\n",
       "            style=\"background-color: white;\"\n",
       "        ></iframe>\n",
       "        "
      ],
      "text/plain": [
       "<IPython.lib.display.IFrame at 0x7f00964e9be0>"
      ]
     },
     "metadata": {},
     "output_type": "display_data"
    }
   ],
   "source": [
    "ex_transitive_verb_ke_active = nlp(\"王可以殺人\")\n",
    "serve(ex_transitive_verb_ke_active, 250)"
   ]
  },
  {
   "cell_type": "code",
   "execution_count": 8,
   "metadata": {},
   "outputs": [
    {
     "name": "stderr",
     "output_type": "stream",
     "text": [
      "                                                   \r"
     ]
    },
    {
     "data": {
      "text/html": [
       "\n",
       "        <iframe\n",
       "            width=\"100%\"\n",
       "            height=\"250\"\n",
       "            src=\"https://koichiyasuoka.github.io/deplacy/deplacy/viewer.svg#1%09%E7%8E%8B%09%E7%8E%8B%09NOUN%09n%2C%E5%90%8D%E8%A9%9E%2C%E4%BA%BA%2C%E5%BD%B9%E5%89%B2%09_%094%09nsubj%09_%09SpaceAfter%3DNo%7CTranslit%3Dking%0A2%09%E5%8F%AF%09%E5%8F%AF%09AUX%09v%2C%E5%8A%A9%E5%8B%95%E8%A9%9E%2C%E5%8F%AF%E8%83%BD%2C%2A%09Mood%3DPot%094%09aux%09_%09SpaceAfter%3DNo%7CTranslit%3Dpossible%0A3%09%E4%BB%A5%09%E4%BB%A5%09VERB%09v%2C%E5%8B%95%E8%A9%9E%2C%E8%A1%8C%E7%82%BA%2C%E5%8B%95%E4%BD%9C%09_%092%09fixed%09_%09SpaceAfter%3DNo%7CTranslit%3Duse%0A4%09%E4%BE%86%09%E4%BE%86%09VERB%09v%2C%E5%8B%95%E8%A9%9E%2C%E8%A1%8C%E7%82%BA%2C%E7%A7%BB%E5%8B%95%09_%090%09ROOT%09_%09SpaceAfter%3DNo%7CTranslit%3Dcome%0A%0A\"\n",
       "            frameborder=\"0\"\n",
       "            allowfullscreen\n",
       "            style=\"background-color: white;\"\n",
       "        ></iframe>\n",
       "        "
      ],
      "text/plain": [
       "<IPython.lib.display.IFrame at 0x7f009cf53580>"
      ]
     },
     "metadata": {},
     "output_type": "display_data"
    }
   ],
   "source": [
    "ex_intransitive_verb_ke = nlp(\"王可以來\")\n",
    "serve(ex_intransitive_verb_ke, 250)"
   ]
  },
  {
   "cell_type": "code",
   "execution_count": 9,
   "metadata": {},
   "outputs": [
    {
     "name": "stderr",
     "output_type": "stream",
     "text": [
      "                                                   \r"
     ]
    },
    {
     "data": {
      "text/html": [
       "\n",
       "        <iframe\n",
       "            width=\"100%\"\n",
       "            height=\"200\"\n",
       "            src=\"https://koichiyasuoka.github.io/deplacy/deplacy/viewer.svg#1%09%E5%8F%AF%09%E5%8F%AF%09AUX%09v%2C%E5%8A%A9%E5%8B%95%E8%A9%9E%2C%E5%8F%AF%E8%83%BD%2C%2A%09Mood%3DPot%094%09aux%09_%09SpaceAfter%3DNo%7CTranslit%3Dpossible%0A2%09%E4%BB%A5%09%E4%BB%A5%09VERB%09v%2C%E5%8B%95%E8%A9%9E%2C%E8%A1%8C%E7%82%BA%2C%E5%8B%95%E4%BD%9C%09_%091%09fixed%09_%09SpaceAfter%3DNo%7CTranslit%3Duse%0A3%09%E7%82%BA%09%E7%88%B2%09VERB%09v%2C%E5%8B%95%E8%A9%9E%2C%E5%AD%98%E5%9C%A8%2C%E5%AD%98%E5%9C%A8%09VerbType%3DCop%094%09cop%09_%09SpaceAfter%3DNo%7CTranslit%3Dbe%0A4%09%E7%BE%8E%09%E7%BE%8E%09NOUN%09n%2C%E5%90%8D%E8%A9%9E%2C%E6%8F%8F%E5%86%99%2C%E5%BD%A2%E8%B3%AA%09_%090%09ROOT%09_%09SpaceAfter%3DNo%7CTranslit%3Dbeauty%0A5%09%E4%B9%8E%09%E4%B9%8E%09PART%09p%2C%E5%8A%A9%E8%A9%9E%2C%E5%8F%A5%E6%9C%AB%2C%2A%09_%094%09discourse%3Asp%09_%09SpaceAfter%3DNo%7CTranslit%3D%5BQ%5D%0A%0A\"\n",
       "            frameborder=\"0\"\n",
       "            allowfullscreen\n",
       "            style=\"background-color: white;\"\n",
       "        ></iframe>\n",
       "        "
      ],
      "text/plain": [
       "<IPython.lib.display.IFrame at 0x7f009ce56850>"
      ]
     },
     "metadata": {},
     "output_type": "display_data"
    }
   ],
   "source": [
    "ex33 = nlp(\"可以為美乎\")\n",
    "serve(ex33)"
   ]
  },
  {
   "cell_type": "markdown",
   "metadata": {},
   "source": [
    "## 2. Adjectives"
   ]
  },
  {
   "cell_type": "code",
   "execution_count": 10,
   "metadata": {},
   "outputs": [
    {
     "name": "stderr",
     "output_type": "stream",
     "text": [
      "                                                   \r"
     ]
    },
    {
     "data": {
      "text/html": [
       "\n",
       "        <iframe\n",
       "            width=\"100%\"\n",
       "            height=\"250\"\n",
       "            src=\"https://koichiyasuoka.github.io/deplacy/deplacy/viewer.svg#1%09%E8%8B%A5%09%E8%8B%A5%09ADV%09v%2C%E5%89%AF%E8%A9%9E%2C%E5%88%A4%E6%96%AD%2C%E6%8E%A8%E5%AE%9A%09_%095%09advmod%09_%09SpaceAfter%3DNo%7CTranslit%3Dif%0A2%09%E5%A4%AB%09%E5%A4%AB%09PART%09p%2C%E5%8A%A9%E8%A9%9E%2C%E5%8F%A5%E9%A0%AD%2C%2A%09_%095%09discourse%09_%09SpaceAfter%3DNo%7CTranslit%3D%5Bmodal-particle%5D%0A3%09%E8%B1%AA%E5%82%91%09%E8%B1%AA%E5%82%91%09NOUN%09n%2C%E5%90%8D%E8%A9%9E%2C%E6%8F%8F%E5%86%99%2C%E6%85%8B%E5%BA%A6%09_%095%09nmod%09_%09SpaceAfter%3DNo%0A4%09%E4%B9%8B%09%E4%B9%8B%09SCONJ%09p%2C%E5%8A%A9%E8%A9%9E%2C%E6%8E%A5%E7%B6%9A%2C%E5%B1%9E%E6%A0%BC%09_%093%09case%09_%09SpaceAfter%3DNo%7CTranslit%3D%27s%0A5%09%E5%A3%AB%09%E5%A3%AB%09NOUN%09n%2C%E5%90%8D%E8%A9%9E%2C%E4%BA%BA%2C%E5%BD%B9%E5%89%B2%09_%090%09ROOT%09_%09SpaceAfter%3DNo%7CTranslit%3Dofficer%0A%0A\"\n",
       "            frameborder=\"0\"\n",
       "            allowfullscreen\n",
       "            style=\"background-color: white;\"\n",
       "        ></iframe>\n",
       "        "
      ],
      "text/plain": [
       "<IPython.lib.display.IFrame at 0x7f0134358970>"
      ]
     },
     "metadata": {},
     "output_type": "display_data"
    }
   ],
   "source": [
    "ex34 = nlp(\"若夫豪傑之士\")\n",
    "serve(ex34, 250)"
   ]
  },
  {
   "cell_type": "code",
   "execution_count": 11,
   "metadata": {},
   "outputs": [
    {
     "name": "stderr",
     "output_type": "stream",
     "text": [
      "                                                   \r"
     ]
    },
    {
     "data": {
      "text/html": [
       "\n",
       "        <iframe\n",
       "            width=\"100%\"\n",
       "            height=\"250\"\n",
       "            src=\"https://koichiyasuoka.github.io/deplacy/deplacy/viewer.svg#1%09%E5%89%87%09%E5%89%87%09ADV%09v%2C%E5%89%AF%E8%A9%9E%2C%E6%99%82%E7%9B%B8%2C%E7%B7%8A%E6%8E%A5%09AdvType%3DTim%093%09advmod%09_%09SpaceAfter%3DNo%7CTranslit%3Dthen%0A2%09%E7%84%A1%09%E7%84%A1%09VERB%09v%2C%E5%8B%95%E8%A9%9E%2C%E5%AD%98%E5%9C%A8%2C%E5%AD%98%E5%9C%A8%09Polarity%3DNeg%093%09advmod%09_%09SpaceAfter%3DNo%7CTranslit%3Dnot-have%0A3%09%E6%9C%9B%09%E6%9C%9B%09VERB%09v%2C%E5%8B%95%E8%A9%9E%2C%E8%A1%8C%E7%82%BA%2C%E5%8B%95%E4%BD%9C%09_%090%09ROOT%09_%09SpaceAfter%3DNo%7CTranslit%3Dexpect%0A4%09%E6%B0%91%09%E6%B0%91%09NOUN%09n%2C%E5%90%8D%E8%A9%9E%2C%E4%BA%BA%2C%E4%BA%BA%09_%096%09nsubj%09_%09SpaceAfter%3DNo%7CTranslit%3Dpeople%0A5%09%E4%B9%8B%09%E4%B9%8B%09SCONJ%09p%2C%E5%8A%A9%E8%A9%9E%2C%E6%8E%A5%E7%B6%9A%2C%E5%B1%9E%E6%A0%BC%09_%094%09case%09_%09SpaceAfter%3DNo%7CTranslit%3D%27s%0A6%09%E5%A4%9A%09%E5%A4%9A%09VERB%09v%2C%E5%8B%95%E8%A9%9E%2C%E6%8F%8F%E5%86%99%2C%E9%87%8F%09Degree%3DPos%093%09ccomp%09_%09SpaceAfter%3DNo%7CTranslit%3Dmany%0A7%09%E6%96%BC%09%E6%96%BC%09ADP%09v%2C%E5%89%8D%E7%BD%AE%E8%A9%9E%2C%E5%9F%BA%E7%9B%A4%2C%2A%09_%099%09case%09_%09SpaceAfter%3DNo%7CTranslit%3Dat%0A8%09%E9%84%B0%09%E9%84%B0%09NOUN%09n%2C%E5%90%8D%E8%A9%9E%2C%E5%9B%BA%E5%AE%9A%E7%89%A9%2C%E9%96%A2%E4%BF%82%09Case%3DLoc%099%09nmod%09_%09SpaceAfter%3DNo%7CTranslit%3Dneighbour%0A9%09%E5%9C%8B%09%E5%9C%8B%09NOUN%09n%2C%E5%90%8D%E8%A9%9E%2C%E4%B8%BB%E4%BD%93%2C%E9%9B%86%E5%9B%A3%09_%096%09obl%09_%09SpaceAfter%3DNo%7CTranslit%3Dcountry%0A10%09%E4%B9%9F%09%E4%B9%9F%09PART%09p%2C%E5%8A%A9%E8%A9%9E%2C%E5%8F%A5%E6%9C%AB%2C%2A%09_%093%09discourse%3Asp%09_%09SpaceAfter%3DNo%7CTranslit%3D%5Bfinal-particle%5D%0A%0A\"\n",
       "            frameborder=\"0\"\n",
       "            allowfullscreen\n",
       "            style=\"background-color: white;\"\n",
       "        ></iframe>\n",
       "        "
      ],
      "text/plain": [
       "<IPython.lib.display.IFrame at 0x7f009ce56340>"
      ]
     },
     "metadata": {},
     "output_type": "display_data"
    }
   ],
   "source": [
    "ex35 = nlp(\"則無望民之多於鄰國也\")\n",
    "serve(ex35, 250)"
   ]
  },
  {
   "cell_type": "code",
   "execution_count": 12,
   "metadata": {},
   "outputs": [
    {
     "name": "stderr",
     "output_type": "stream",
     "text": [
      "                                                   \r"
     ]
    },
    {
     "data": {
      "text/html": [
       "\n",
       "        <iframe\n",
       "            width=\"100%\"\n",
       "            height=\"400\"\n",
       "            src=\"https://koichiyasuoka.github.io/deplacy/deplacy/viewer.svg#1%09%E7%89%A9%09%E7%89%A9%09NOUN%09n%2C%E5%90%8D%E8%A9%9E%2C%E5%8F%AF%E6%90%AC%2C%E9%81%93%E5%85%B7%09_%093%09nsubj%09_%09SpaceAfter%3DNo%7CTranslit%3Dthing%0A2%09%E7%9A%86%09%E7%9A%86%09ADV%09v%2C%E5%89%AF%E8%A9%9E%2C%E7%AF%84%E5%9B%B2%2C%E7%B7%8F%E6%8B%AC%09_%093%09advmod%09_%09SpaceAfter%3DNo%7CTranslit%3Dall%0A3%09%E7%84%B6%09%E7%84%B6%09VERB%09v%2C%E5%8B%95%E8%A9%9E%2C%E6%8F%8F%E5%86%99%2C%E6%85%8B%E5%BA%A6%09Degree%3DPos%090%09ROOT%09_%09SpaceAfter%3DNo%7CTranslit%3Dlike-this%0A%0A1%09%E5%BF%83%09%E5%BF%83%09NOUN%09n%2C%E5%90%8D%E8%A9%9E%2C%E4%B8%8D%E5%8F%AF%E8%AD%B2%2C%E8%BA%AB%E4%BD%93%09_%093%09nsubj%09_%09SpaceAfter%3DNo%7CTranslit%3Dheart%0A2%09%E7%82%BA%09%E7%88%B2%09VERB%09v%2C%E5%8B%95%E8%A9%9E%2C%E5%AD%98%E5%9C%A8%2C%E5%AD%98%E5%9C%A8%09VerbType%3DCop%093%09cop%09_%09SpaceAfter%3DNo%7CTranslit%3Dbe%0A3%09%E7%94%9A%09%E7%94%9A%09VERB%09v%2C%E5%8B%95%E8%A9%9E%2C%E6%8F%8F%E5%86%99%2C%E5%BD%A2%E8%B3%AA%09Degree%3DPos%090%09ROOT%09_%09SpaceAfter%3DNo%7CTranslit%3Dextreme%0A%0A\"\n",
       "            frameborder=\"0\"\n",
       "            allowfullscreen\n",
       "            style=\"background-color: white;\"\n",
       "        ></iframe>\n",
       "        "
      ],
      "text/plain": [
       "<IPython.lib.display.IFrame at 0x7f009ce565b0>"
      ]
     },
     "metadata": {},
     "output_type": "display_data"
    }
   ],
   "source": [
    "ex36 = nlp(\"物皆然心為甚\")\n",
    "serve(ex36, 400)"
   ]
  },
  {
   "cell_type": "code",
   "execution_count": 13,
   "metadata": {},
   "outputs": [
    {
     "name": "stderr",
     "output_type": "stream",
     "text": [
      "                                                   \r"
     ]
    },
    {
     "data": {
      "text/html": [
       "\n",
       "        <iframe\n",
       "            width=\"100%\"\n",
       "            height=\"200\"\n",
       "            src=\"https://koichiyasuoka.github.io/deplacy/deplacy/viewer.svg#1%09%E7%8E%8B%09%E7%8E%8B%09NOUN%09n%2C%E5%90%8D%E8%A9%9E%2C%E4%BA%BA%2C%E5%BD%B9%E5%89%B2%09_%092%09vocative%09_%09SpaceAfter%3DNo%7CTranslit%3Dking%0A2%09%E8%AB%8B%09%E8%AB%8B%09VERB%09v%2C%E5%8B%95%E8%A9%9E%2C%E8%A1%8C%E7%82%BA%2C%E4%BA%A4%E6%B5%81%09_%090%09ROOT%09_%09SpaceAfter%3DNo%7CTranslit%3Drequest%0A3%09%E5%A4%A7%09%E5%A4%A7%09VERB%09v%2C%E5%8B%95%E8%A9%9E%2C%E6%8F%8F%E5%86%99%2C%E9%87%8F%09Degree%3DPos%092%09ccomp%09_%09SpaceAfter%3DNo%7CTranslit%3Dbig%0A4%09%E4%B9%8B%09%E4%B9%8B%09PRON%09n%2C%E4%BB%A3%E5%90%8D%E8%A9%9E%2C%E4%BA%BA%E7%A7%B0%2C%E6%AD%A2%E6%A0%BC%09Person%3D3%7CPronType%3DPrs%093%09obj%09_%09SpaceAfter%3DNo%7CTranslit%3D%5B3PRON%5D%0A%0A\"\n",
       "            frameborder=\"0\"\n",
       "            allowfullscreen\n",
       "            style=\"background-color: white;\"\n",
       "        ></iframe>\n",
       "        "
      ],
      "text/plain": [
       "<IPython.lib.display.IFrame at 0x7f009ce56af0>"
      ]
     },
     "metadata": {},
     "output_type": "display_data"
    }
   ],
   "source": [
    "ex37 = nlp(\"王請大之\")\n",
    "serve(ex37)"
   ]
  },
  {
   "cell_type": "code",
   "execution_count": 14,
   "metadata": {},
   "outputs": [
    {
     "name": "stderr",
     "output_type": "stream",
     "text": [
      "                                                   \r"
     ]
    },
    {
     "data": {
      "text/html": [
       "\n",
       "        <iframe\n",
       "            width=\"100%\"\n",
       "            height=\"200\"\n",
       "            src=\"https://koichiyasuoka.github.io/deplacy/deplacy/viewer.svg#1%09%E5%8F%9F%09%E5%8F%9F%09NOUN%09n%2C%E5%90%8D%E8%A9%9E%2C%E4%BA%BA%2C%E4%BA%BA%09_%093%09nsubj%09_%09SpaceAfter%3DNo%7CTranslit%3Dold-gentleman%0A2%09%E4%B8%8D%09%E4%B8%8D%09ADV%09v%2C%E5%89%AF%E8%A9%9E%2C%E5%90%A6%E5%AE%9A%2C%E7%84%A1%E7%95%8C%09Polarity%3DNeg%093%09advmod%09_%09SpaceAfter%3DNo%7CTranslit%3Dnot%0A3%09%E9%81%A0%09%E9%81%A0%09VERB%09v%2C%E5%8B%95%E8%A9%9E%2C%E6%8F%8F%E5%86%99%2C%E9%87%8F%09Degree%3DPos%090%09ROOT%09_%09SpaceAfter%3DNo%7CTranslit%3Ddistant%0A4%09%E5%8D%83%09%E5%8D%83%09NUM%09n%2C%E6%95%B0%E8%A9%9E%2C%E6%95%B0%E5%AD%97%2C%2A%09_%093%09obj%09_%09SpaceAfter%3DNo%7CTranslit%3Dthousand%0A5%09%E9%87%8C%09%E9%87%8C%09NOUN%09n%2C%E5%90%8D%E8%A9%9E%2C%E5%BA%A6%E9%87%8F%E8%A1%A1%2C%2A%09NounType%3DClf%094%09clf%09_%09SpaceAfter%3DNo%7CTranslit%3D%5Bdistance-unit%5D%0A6%09%E8%80%8C%09%E8%80%8C%09CCONJ%09p%2C%E5%8A%A9%E8%A9%9E%2C%E6%8E%A5%E7%B6%9A%2C%E4%B8%A6%E5%88%97%09_%097%09cc%09_%09SpaceAfter%3DNo%7CTranslit%3Dand%0A7%09%E4%BE%86%09%E4%BE%86%09VERB%09v%2C%E5%8B%95%E8%A9%9E%2C%E8%A1%8C%E7%82%BA%2C%E7%A7%BB%E5%8B%95%09_%093%09conj%09_%09SpaceAfter%3DNo%7CTranslit%3Dcome%0A%0A\"\n",
       "            frameborder=\"0\"\n",
       "            allowfullscreen\n",
       "            style=\"background-color: white;\"\n",
       "        ></iframe>\n",
       "        "
      ],
      "text/plain": [
       "<IPython.lib.display.IFrame at 0x7f0134368ee0>"
      ]
     },
     "metadata": {},
     "output_type": "display_data"
    }
   ],
   "source": [
    "ex38 = nlp(\"叟不遠千里而來\")\n",
    "serve(ex38)"
   ]
  },
  {
   "cell_type": "code",
   "execution_count": 15,
   "metadata": {},
   "outputs": [
    {
     "name": "stderr",
     "output_type": "stream",
     "text": [
      "                                                   \r"
     ]
    },
    {
     "data": {
      "text/html": [
       "\n",
       "        <iframe\n",
       "            width=\"100%\"\n",
       "            height=\"200\"\n",
       "            src=\"https://koichiyasuoka.github.io/deplacy/deplacy/viewer.svg#1%09%E7%99%BE%09%E7%99%BE%09NUM%09n%2C%E6%95%B0%E8%A9%9E%2C%E6%95%B0%E5%AD%97%2C%2A%09_%092%09compound%09_%09SpaceAfter%3DNo%7CTranslit%3Dhundred%0A2%09%E5%A7%93%09%E5%A7%93%09NOUN%09n%2C%E5%90%8D%E8%A9%9E%2C%E4%BA%BA%2C%E4%BA%BA%09_%093%09nsubj%09_%09SpaceAfter%3DNo%7CTranslit%3Dpeople%0A3%09%E5%AE%89%09%E5%AE%89%09VERB%09v%2C%E5%8B%95%E8%A9%9E%2C%E8%A1%8C%E7%82%BA%2C%E6%85%8B%E5%BA%A6%09_%090%09ROOT%09_%09SpaceAfter%3DNo%7CTranslit%3Dpeaceful%0A4%09%E4%B9%8B%09%E4%B9%8B%09PRON%09n%2C%E4%BB%A3%E5%90%8D%E8%A9%9E%2C%E4%BA%BA%E7%A7%B0%2C%E6%AD%A2%E6%A0%BC%09Person%3D3%7CPronType%3DPrs%093%09obj%09_%09SpaceAfter%3DNo%7CTranslit%3D%5B3PRON%5D%0A%0A\"\n",
       "            frameborder=\"0\"\n",
       "            allowfullscreen\n",
       "            style=\"background-color: white;\"\n",
       "        ></iframe>\n",
       "        "
      ],
      "text/plain": [
       "<IPython.lib.display.IFrame at 0x7f0134368ee0>"
      ]
     },
     "metadata": {},
     "output_type": "display_data"
    }
   ],
   "source": [
    "ex39 = nlp(\"百姓安之\")\n",
    "serve(ex39)"
   ]
  },
  {
   "cell_type": "code",
   "execution_count": 16,
   "metadata": {},
   "outputs": [
    {
     "name": "stderr",
     "output_type": "stream",
     "text": [
      "                                                   \r"
     ]
    },
    {
     "data": {
      "text/html": [
       "\n",
       "        <iframe\n",
       "            width=\"100%\"\n",
       "            height=\"200\"\n",
       "            src=\"https://koichiyasuoka.github.io/deplacy/deplacy/viewer.svg#1%09%E5%89%87%09%E5%89%87%09ADV%09v%2C%E5%89%AF%E8%A9%9E%2C%E6%99%82%E7%9B%B8%2C%E7%B7%8A%E6%8E%A5%09AdvType%3DTim%094%09advmod%09_%09SpaceAfter%3DNo%7CTranslit%3Dthen%0A2%09%E4%B8%8D%09%E4%B8%8D%09ADV%09v%2C%E5%89%AF%E8%A9%9E%2C%E5%90%A6%E5%AE%9A%2C%E7%84%A1%E7%95%8C%09Polarity%3DNeg%093%09advmod%09_%09SpaceAfter%3DNo%7CTranslit%3Dnot%0A3%09%E8%83%BD%09%E8%83%BD%09AUX%09v%2C%E5%8A%A9%E5%8B%95%E8%A9%9E%2C%E5%8F%AF%E8%83%BD%2C%2A%09Mood%3DPot%094%09aux%09_%09SpaceAfter%3DNo%7CTranslit%3Dcan%0A4%09%E5%AE%89%09%E5%AE%89%09VERB%09v%2C%E5%8B%95%E8%A9%9E%2C%E8%A1%8C%E7%82%BA%2C%E6%85%8B%E5%BA%A6%09_%090%09ROOT%09_%09SpaceAfter%3DNo%7CTranslit%3Dpeaceful%0A5%09%E5%AD%90%E6%80%9D%09%E5%AD%90%E6%80%9D%09PROPN%09n%2C%E5%90%8D%E8%A9%9E%2C%E4%BA%BA%2C%E5%90%8D%09NameType%3DGiv%094%09obj%09_%09SpaceAfter%3DNo%7CTranslit%3D%5Bgiven-name%5D%0A%0A\"\n",
       "            frameborder=\"0\"\n",
       "            allowfullscreen\n",
       "            style=\"background-color: white;\"\n",
       "        ></iframe>\n",
       "        "
      ],
      "text/plain": [
       "<IPython.lib.display.IFrame at 0x7f009cf530d0>"
      ]
     },
     "metadata": {},
     "output_type": "display_data"
    }
   ],
   "source": [
    "ex40 = nlp(\"則不能安子思\")\n",
    "serve(ex40)"
   ]
  },
  {
   "cell_type": "markdown",
   "metadata": {},
   "source": [
    "## 3. Nouns Used as Verbs"
   ]
  },
  {
   "cell_type": "code",
   "execution_count": 17,
   "metadata": {},
   "outputs": [
    {
     "name": "stderr",
     "output_type": "stream",
     "text": [
      "                                                   \r"
     ]
    },
    {
     "data": {
      "text/html": [
       "\n",
       "        <iframe\n",
       "            width=\"100%\"\n",
       "            height=\"250\"\n",
       "            src=\"https://koichiyasuoka.github.io/deplacy/deplacy/viewer.svg#1%09%E6%95%85%09%E6%95%85%09ADV%09v%2C%E5%89%AF%E8%A9%9E%2C%E5%88%A4%E6%96%AD%2C%E7%A2%BA%E5%AE%9A%09_%097%09advmod%09_%09SpaceAfter%3DNo%7CTranslit%3Dtherefore%0A2%09%E6%B9%AF%09%E6%B9%AF%09PROPN%09n%2C%E5%90%8D%E8%A9%9E%2C%E4%BA%BA%2C%E5%90%8D%09NameType%3DGiv%094%09nsubj%09_%09SpaceAfter%3DNo%7CTranslit%3D%5Bgiven-name%5D%0A3%09%E4%B9%8B%09%E4%B9%8B%09SCONJ%09p%2C%E5%8A%A9%E8%A9%9E%2C%E6%8E%A5%E7%B6%9A%2C%E5%B1%9E%E6%A0%BC%09_%092%09case%09_%09SpaceAfter%3DNo%7CTranslit%3D%27s%0A4%09%E6%96%BC%09%E6%96%BC%09VERB%09v%2C%E5%8B%95%E8%A9%9E%2C%E5%AD%98%E5%9C%A8%2C%E5%AD%98%E5%9C%A8%09_%097%09advcl%09_%09SpaceAfter%3DNo%7CTranslit%3Dgo-into%0A5%09%E4%BC%8A%09%E4%BC%8A%09PROPN%09n%2C%E5%90%8D%E8%A9%9E%2C%E4%BA%BA%2C%E5%A7%93%E6%B0%8F%09NameType%3DSur%094%09obj%09_%09SpaceAfter%3DNo%7CTranslit%3D%5Bsurname%5D%0A6%09%E5%B0%B9%09%E5%B0%B9%09PROPN%09n%2C%E5%90%8D%E8%A9%9E%2C%E4%BA%BA%2C%E5%90%8D%09NameType%3DGiv%095%09flat%09_%09SpaceAfter%3DNo%7CTranslit%3D%5Bgiven-name%5D%0A7%09%E5%AD%B8%09%E5%AD%B8%09VERB%09v%2C%E5%8B%95%E8%A9%9E%2C%E8%A1%8C%E7%82%BA%2C%E5%8B%95%E4%BD%9C%09_%090%09ROOT%09_%09SpaceAfter%3DNo%7CTranslit%3Dstudy%0A8%09%E7%84%89%09%E7%84%89%09PRON%09n%2C%E4%BB%A3%E5%90%8D%E8%A9%9E%2C%E6%8C%87%E7%A4%BA%2C%2A%09PronType%3DDem%097%09obl%09_%09SpaceAfter%3DNo%7CTranslit%3Dthere%0A9%09%E8%80%8C%09%E8%80%8C%09CCONJ%09p%2C%E5%8A%A9%E8%A9%9E%2C%E6%8E%A5%E7%B6%9A%2C%E4%B8%A6%E5%88%97%09_%0910%09cc%09_%09SpaceAfter%3DNo%7CTranslit%3Dand%0A10%09%E8%87%A3%09%E8%87%A3%09VERB%09v%2C%E5%8B%95%E8%A9%9E%2C%E8%A1%8C%E7%82%BA%2C%E5%BD%B9%E5%89%B2%09_%097%09conj%09_%09SpaceAfter%3DNo%7CTranslit%3Dvassal%0A11%09%E4%B9%8B%09%E4%B9%8B%09PRON%09n%2C%E4%BB%A3%E5%90%8D%E8%A9%9E%2C%E4%BA%BA%E7%A7%B0%2C%E6%AD%A2%E6%A0%BC%09Person%3D3%7CPronType%3DPrs%0910%09obj%09_%09SpaceAfter%3DNo%7CTranslit%3D%5B3PRON%5D%0A%0A\"\n",
       "            frameborder=\"0\"\n",
       "            allowfullscreen\n",
       "            style=\"background-color: white;\"\n",
       "        ></iframe>\n",
       "        "
      ],
      "text/plain": [
       "<IPython.lib.display.IFrame at 0x7f0134358370>"
      ]
     },
     "metadata": {},
     "output_type": "display_data"
    }
   ],
   "source": [
    "ex41 = nlp(\"故湯之於伊尹學焉而臣之\")\n",
    "serve(ex41, 250)"
   ]
  },
  {
   "cell_type": "code",
   "execution_count": 18,
   "metadata": {},
   "outputs": [
    {
     "name": "stderr",
     "output_type": "stream",
     "text": [
      "                                                   \r"
     ]
    },
    {
     "data": {
      "text/html": [
       "\n",
       "        <iframe\n",
       "            width=\"100%\"\n",
       "            height=\"250\"\n",
       "            src=\"https://koichiyasuoka.github.io/deplacy/deplacy/viewer.svg#1%09%E7%88%BE%09%E7%88%BE%09PRON%09n%2C%E4%BB%A3%E5%90%8D%E8%A9%9E%2C%E4%BA%BA%E7%A7%B0%2C%E6%AD%A2%E6%A0%BC%09Person%3D2%7CPronType%3DPrs%092%09nsubj%09_%09SpaceAfter%3DNo%7CTranslit%3D%5B2PRON%5D%0A2%09%E6%AC%B2%09%E6%AC%B2%09AUX%09v%2C%E5%8A%A9%E5%8B%95%E8%A9%9E%2C%E9%A1%98%E6%9C%9B%2C%2A%09Mood%3DDes%090%09ROOT%09_%09SpaceAfter%3DNo%7CTranslit%3Dwish%0A3%09%E5%90%B3%09%E5%90%B3%09PROPN%09n%2C%E5%90%8D%E8%A9%9E%2C%E4%B8%BB%E4%BD%93%2C%E5%9B%BD%E5%90%8D%09Case%3DLoc%7CNameType%3DNat%094%09compound%09_%09SpaceAfter%3DNo%7CTranslit%3D%5Bcountry-name%5D%0A4%09%E7%8E%8B%09%E7%8E%8B%09NOUN%09n%2C%E5%90%8D%E8%A9%9E%2C%E4%BA%BA%2C%E5%BD%B9%E5%89%B2%09_%095%09nsubj%09_%09SpaceAfter%3DNo%7CTranslit%3Dking%0A5%09%E6%88%91%09%E6%88%91%09PRON%09n%2C%E4%BB%A3%E5%90%8D%E8%A9%9E%2C%E4%BA%BA%E7%A7%B0%2C%E6%AD%A2%E6%A0%BC%09Person%3D1%7CPronType%3DPrs%092%09ccomp%09_%09SpaceAfter%3DNo%7CTranslit%3D%5B1PRON%5D%0A6%09%E4%B9%8E%09%E4%B9%8E%09PART%09p%2C%E5%8A%A9%E8%A9%9E%2C%E5%8F%A5%E6%9C%AB%2C%2A%09_%092%09discourse%3Asp%09_%09SpaceAfter%3DNo%7CTranslit%3D%5BQ%5D%0A%0A\"\n",
       "            frameborder=\"0\"\n",
       "            allowfullscreen\n",
       "            style=\"background-color: white;\"\n",
       "        ></iframe>\n",
       "        "
      ],
      "text/plain": [
       "<IPython.lib.display.IFrame at 0x7f009ce561f0>"
      ]
     },
     "metadata": {},
     "output_type": "display_data"
    }
   ],
   "source": [
    "ex42 = nlp(\"爾欲吳王我乎\")\n",
    "serve(ex42, 250)"
   ]
  },
  {
   "cell_type": "markdown",
   "metadata": {},
   "source": [
    "Unsure why the following isn't being split into 4 sentences?"
   ]
  },
  {
   "cell_type": "code",
   "execution_count": 19,
   "metadata": {},
   "outputs": [
    {
     "name": "stderr",
     "output_type": "stream",
     "text": [
      "                                                   \r"
     ]
    },
    {
     "data": {
      "text/html": [
       "\n",
       "        <iframe\n",
       "            width=\"100%\"\n",
       "            height=\"400\"\n",
       "            src=\"https://koichiyasuoka.github.io/deplacy/deplacy/viewer.svg#1%09%E5%90%9B%09%E5%90%9B%09NOUN%09n%2C%E5%90%8D%E8%A9%9E%2C%E4%BA%BA%2C%E5%BD%B9%E5%89%B2%09_%092%09nsubj%09_%09SpaceAfter%3DNo%7CTranslit%3Druler%0A2%09%E5%90%9B%09%E5%90%9B%09VERB%09v%2C%E5%8B%95%E8%A9%9E%2C%E8%A1%8C%E7%82%BA%2C%E5%BD%B9%E5%89%B2%09_%090%09ROOT%09_%09SpaceAfter%3DNo%7CTranslit%3Dgovern%0A3%09%E8%87%A3%09%E8%87%A3%09NOUN%09n%2C%E5%90%8D%E8%A9%9E%2C%E4%BA%BA%2C%E5%BD%B9%E5%89%B2%09_%092%09conj%09_%09SpaceAfter%3DNo%7CTranslit%3Dvassal%0A4%09%E8%87%A3%09%E8%87%A3%09NOUN%09n%2C%E5%90%8D%E8%A9%9E%2C%E4%BA%BA%2C%E5%BD%B9%E5%89%B2%09_%092%09conj%09_%09SpaceAfter%3DNo%7CTranslit%3Dvassal%0A%0A1%09%E7%88%B6%09%E7%88%B6%09NOUN%09n%2C%E5%90%8D%E8%A9%9E%2C%E4%BA%BA%2C%E9%96%A2%E4%BF%82%09_%092%09nsubj%09_%09SpaceAfter%3DNo%7CTranslit%3Dfather%0A2%09%E7%88%B6%09%E7%88%B6%09NOUN%09n%2C%E5%90%8D%E8%A9%9E%2C%E4%BA%BA%2C%E9%96%A2%E4%BF%82%09_%090%09ROOT%09_%09SpaceAfter%3DNo%7CTranslit%3Dfather%0A3%09%E5%AD%90%09%E5%AD%90%09NOUN%09n%2C%E5%90%8D%E8%A9%9E%2C%E4%BA%BA%2C%E9%96%A2%E4%BF%82%09_%091%09conj%09_%09SpaceAfter%3DNo%7CTranslit%3Dchild%0A4%09%E5%AD%90%09%E5%AD%90%09VERB%09v%2C%E5%8B%95%E8%A9%9E%2C%E8%A1%8C%E7%82%BA%2C%E5%BD%B9%E5%89%B2%09_%092%09conj%09_%09SpaceAfter%3DNo%7CTranslit%3Dchildlike%0A%0A\"\n",
       "            frameborder=\"0\"\n",
       "            allowfullscreen\n",
       "            style=\"background-color: white;\"\n",
       "        ></iframe>\n",
       "        "
      ],
      "text/plain": [
       "<IPython.lib.display.IFrame at 0x7f009ce568e0>"
      ]
     },
     "metadata": {},
     "output_type": "display_data"
    }
   ],
   "source": [
    "ex43 = nlp(\"君君臣臣父父子子\")\n",
    "serve(ex43, 400)"
   ]
  },
  {
   "cell_type": "code",
   "execution_count": 20,
   "metadata": {},
   "outputs": [
    {
     "name": "stderr",
     "output_type": "stream",
     "text": [
      "                                                   \r"
     ]
    },
    {
     "data": {
      "text/html": [
       "\n",
       "        <iframe\n",
       "            width=\"100%\"\n",
       "            height=\"250\"\n",
       "            src=\"https://koichiyasuoka.github.io/deplacy/deplacy/viewer.svg#1%09%E7%82%BA%09%E7%88%B2%09VERB%09v%2C%E5%8B%95%E8%A9%9E%2C%E5%AD%98%E5%9C%A8%2C%E5%AD%98%E5%9C%A8%09VerbType%3DCop%092%09cop%09_%09SpaceAfter%3DNo%7CTranslit%3Dbe%0A2%09%E8%87%A3%09%E8%87%A3%09NOUN%09n%2C%E5%90%8D%E8%A9%9E%2C%E4%BA%BA%2C%E5%BD%B9%E5%89%B2%09_%097%09csubj%09_%09SpaceAfter%3DNo%7CTranslit%3Dvassal%0A3%09%E8%80%8C%09%E8%80%8C%09CCONJ%09p%2C%E5%8A%A9%E8%A9%9E%2C%E6%8E%A5%E7%B6%9A%2C%E4%B8%A6%E5%88%97%09_%094%09cc%09_%09SpaceAfter%3DNo%7CTranslit%3Dand%0A4%09%E5%90%9B%09%E5%90%9B%09NOUN%09n%2C%E5%90%8D%E8%A9%9E%2C%E4%BA%BA%2C%E5%BD%B9%E5%89%B2%09_%092%09conj%09_%09SpaceAfter%3DNo%7CTranslit%3Druler%0A5%09%E4%BA%A1%09%E4%BA%A1%09VERB%09v%2C%E5%8B%95%E8%A9%9E%2C%E5%A4%89%E5%8C%96%2C%E7%94%9F%E7%89%A9%09_%097%09amod%09_%09SpaceAfter%3DNo%7CTranslit%3Dbe-lost%0A6%09%E4%B9%8B%09%E4%B9%8B%09SCONJ%09p%2C%E5%8A%A9%E8%A9%9E%2C%E6%8E%A5%E7%B6%9A%2C%E5%B1%9E%E6%A0%BC%09_%095%09case%09_%09SpaceAfter%3DNo%7CTranslit%3D%27s%0A7%09%E6%9C%AC%09%E6%9C%AC%09NOUN%09n%2C%E5%90%8D%E8%A9%9E%2C%E6%8F%8F%E5%86%99%2C%E5%BD%A2%E8%B3%AA%09_%090%09ROOT%09_%09SpaceAfter%3DNo%7CTranslit%3Dbase%0A8%09%E4%B9%9F%09%E4%B9%9F%09PART%09p%2C%E5%8A%A9%E8%A9%9E%2C%E5%8F%A5%E6%9C%AB%2C%2A%09_%097%09discourse%3Asp%09_%09SpaceAfter%3DNo%7CTranslit%3D%5Bfinal-particle%5D%0A%0A\"\n",
       "            frameborder=\"0\"\n",
       "            allowfullscreen\n",
       "            style=\"background-color: white;\"\n",
       "        ></iframe>\n",
       "        "
      ],
      "text/plain": [
       "<IPython.lib.display.IFrame at 0x7f0134368c70>"
      ]
     },
     "metadata": {},
     "output_type": "display_data"
    }
   ],
   "source": [
    "ex44 = nlp(\"為臣而君亡之本也\")\n",
    "serve(ex44, 250)"
   ]
  },
  {
   "cell_type": "markdown",
   "metadata": {},
   "source": [
    "## 4. Intransitive Verbs"
   ]
  },
  {
   "cell_type": "code",
   "execution_count": 21,
   "metadata": {},
   "outputs": [
    {
     "name": "stderr",
     "output_type": "stream",
     "text": [
      "                                                   \r"
     ]
    },
    {
     "data": {
      "text/html": [
       "\n",
       "        <iframe\n",
       "            width=\"100%\"\n",
       "            height=\"200\"\n",
       "            src=\"https://koichiyasuoka.github.io/deplacy/deplacy/viewer.svg#1%09%E9%86%AB%09%E9%86%AB%09NOUN%09n%2C%E5%90%8D%E8%A9%9E%2C%E4%BA%BA%2C%E5%BD%B9%E5%89%B2%09_%092%09nsubj%09_%09SpaceAfter%3DNo%7CTranslit%3Ddoctor%0A2%09%E4%BE%86%09%E4%BE%86%09VERB%09v%2C%E5%8B%95%E8%A9%9E%2C%E8%A1%8C%E7%82%BA%2C%E7%A7%BB%E5%8B%95%09_%090%09ROOT%09_%09SpaceAfter%3DNo%7CTranslit%3Dcome%0A%0A\"\n",
       "            frameborder=\"0\"\n",
       "            allowfullscreen\n",
       "            style=\"background-color: white;\"\n",
       "        ></iframe>\n",
       "        "
      ],
      "text/plain": [
       "<IPython.lib.display.IFrame at 0x7f009ce47190>"
      ]
     },
     "metadata": {},
     "output_type": "display_data"
    }
   ],
   "source": [
    "ex45 = nlp(\"醫來\")\n",
    "serve(ex45)"
   ]
  },
  {
   "cell_type": "code",
   "execution_count": 22,
   "metadata": {},
   "outputs": [
    {
     "name": "stderr",
     "output_type": "stream",
     "text": [
      "                                                   \r"
     ]
    },
    {
     "data": {
      "text/html": [
       "\n",
       "        <iframe\n",
       "            width=\"100%\"\n",
       "            height=\"250\"\n",
       "            src=\"https://koichiyasuoka.github.io/deplacy/deplacy/viewer.svg#1%09%E9%9B%9E%09%E9%9B%9E%09NOUN%09n%2C%E5%90%8D%E8%A9%9E%2C%E4%B8%BB%E4%BD%93%2C%E5%8B%95%E7%89%A9%09_%092%09nsubj%09_%09SpaceAfter%3DNo%7CTranslit%3Dchicken%0A2%09%E9%B3%B4%09%E9%B3%B4%09VERB%09v%2C%E5%8B%95%E8%A9%9E%2C%E8%A1%8C%E7%82%BA%2C%E5%8B%95%E4%BD%9C%09_%095%09acl%09_%09SpaceAfter%3DNo%7CTranslit%3Dring%0A3%09%E8%80%8C%09%E8%80%8C%09CCONJ%09p%2C%E5%8A%A9%E8%A9%9E%2C%E6%8E%A5%E7%B6%9A%2C%E4%B8%A6%E5%88%97%09_%094%09cc%09_%09SpaceAfter%3DNo%7CTranslit%3Dand%0A4%09%E8%B5%B7%09%E8%B5%B7%09VERB%09v%2C%E5%8B%95%E8%A9%9E%2C%E8%A1%8C%E7%82%BA%2C%E5%8B%95%E4%BD%9C%09_%092%09conj%09_%09SpaceAfter%3DNo%7CTranslit%3Darise%0A5%09%E8%80%85%09%EF%A9%9B%09PART%09p%2C%E5%8A%A9%E8%A9%9E%2C%E6%8F%90%E7%A4%BA%2C%2A%09_%090%09ROOT%09_%09SpaceAfter%3DNo%7CTranslit%3Dthat-which%0A%0A\"\n",
       "            frameborder=\"0\"\n",
       "            allowfullscreen\n",
       "            style=\"background-color: white;\"\n",
       "        ></iframe>\n",
       "        "
      ],
      "text/plain": [
       "<IPython.lib.display.IFrame at 0x7f009ce56ca0>"
      ]
     },
     "metadata": {},
     "output_type": "display_data"
    }
   ],
   "source": [
    "ex46 = nlp(\"雞鳴而起者\")\n",
    "serve(ex46, 250)"
   ]
  },
  {
   "cell_type": "code",
   "execution_count": 23,
   "metadata": {},
   "outputs": [
    {
     "name": "stderr",
     "output_type": "stream",
     "text": [
      "                                                   \r"
     ]
    },
    {
     "data": {
      "text/html": [
       "\n",
       "        <iframe\n",
       "            width=\"100%\"\n",
       "            height=\"450\"\n",
       "            src=\"https://koichiyasuoka.github.io/deplacy/deplacy/viewer.svg#1%09%E6%95%85%09%E6%95%85%09ADV%09v%2C%E5%89%AF%E8%A9%9E%2C%E5%88%A4%E6%96%AD%2C%E7%A2%BA%E5%AE%9A%09_%095%09advmod%09_%09SpaceAfter%3DNo%7CTranslit%3Dtherefore%0A2%09%E9%81%A0%09%E9%81%A0%09VERB%09v%2C%E5%8B%95%E8%A9%9E%2C%E6%8F%8F%E5%86%99%2C%E9%87%8F%09Degree%3DPos%093%09amod%09_%09SpaceAfter%3DNo%7CTranslit%3Ddistant%0A3%09%E4%BA%BA%09%E4%BA%BA%09NOUN%09n%2C%E5%90%8D%E8%A9%9E%2C%E4%BA%BA%2C%E4%BA%BA%09_%095%09nsubj%09_%09SpaceAfter%3DNo%7CTranslit%3Dperson%0A4%09%E4%B8%8D%09%E4%B8%8D%09ADV%09v%2C%E5%89%AF%E8%A9%9E%2C%E5%90%A6%E5%AE%9A%2C%E7%84%A1%E7%95%8C%09Polarity%3DNeg%095%09advmod%09_%09SpaceAfter%3DNo%7CTranslit%3Dnot%0A5%09%E6%9C%8D%09%E6%9C%8D%09VERB%09v%2C%E5%8B%95%E8%A9%9E%2C%E8%A1%8C%E7%82%BA%2C%E4%BA%A4%E6%B5%81%09_%090%09ROOT%09_%09SpaceAfter%3DNo%7CTranslit%3Dsubmit%0A%0A1%09%E5%89%87%09%E5%89%87%09ADV%09v%2C%E5%89%AF%E8%A9%9E%2C%E6%99%82%E7%9B%B8%2C%E7%B7%8A%E6%8E%A5%09AdvType%3DTim%092%09advmod%09_%09SpaceAfter%3DNo%7CTranslit%3Dthen%0A2%09%E8%84%A9%09%E8%84%A9%09VERB%09v%2C%E5%8B%95%E8%A9%9E%2C%E8%A1%8C%E7%82%BA%2C%E5%8B%95%E4%BD%9C%09_%090%09ROOT%09_%09SpaceAfter%3DNo%7CTranslit%3Dimprove%0A3%09%E6%96%87%09%E6%96%87%09NOUN%09n%2C%E5%90%8D%E8%A9%9E%2C%E6%8F%8F%E5%86%99%2C%E6%85%8B%E5%BA%A6%09_%094%09nmod%09_%09SpaceAfter%3DNo%7CTranslit%3Dcivil%0A4%09%E5%BE%B7%09%E5%BE%B7%09NOUN%09n%2C%E5%90%8D%E8%A9%9E%2C%E6%8F%8F%E5%86%99%2C%E6%85%8B%E5%BA%A6%09_%092%09obj%09_%09SpaceAfter%3DNo%7CTranslit%3Dvirtue%0A5%09%E4%BB%A5%09%E4%BB%A5%09VERB%09v%2C%E5%8B%95%E8%A9%9E%2C%E8%A1%8C%E7%82%BA%2C%E5%8B%95%E4%BD%9C%09_%096%09advmod%09_%09SpaceAfter%3DNo%7CTranslit%3Duse%0A6%09%E4%BE%86%09%E4%BE%86%09VERB%09v%2C%E5%8B%95%E8%A9%9E%2C%E8%A1%8C%E7%82%BA%2C%E7%A7%BB%E5%8B%95%09_%092%09parataxis%09_%09SpaceAfter%3DNo%7CTranslit%3Dcome%0A7%09%E4%B9%8B%09%E4%B9%8B%09PRON%09n%2C%E4%BB%A3%E5%90%8D%E8%A9%9E%2C%E4%BA%BA%E7%A7%B0%2C%E6%AD%A2%E6%A0%BC%09Person%3D3%7CPronType%3DPrs%096%09obj%09_%09SpaceAfter%3DNo%7CTranslit%3D%5B3PRON%5D%0A%0A\"\n",
       "            frameborder=\"0\"\n",
       "            allowfullscreen\n",
       "            style=\"background-color: white;\"\n",
       "        ></iframe>\n",
       "        "
      ],
      "text/plain": [
       "<IPython.lib.display.IFrame at 0x7f009ce47a00>"
      ]
     },
     "metadata": {},
     "output_type": "display_data"
    }
   ],
   "source": [
    "ex47 = nlp(\"故遠人不服則脩文德以來之\")\n",
    "serve(ex47, 450)"
   ]
  },
  {
   "cell_type": "code",
   "execution_count": 24,
   "metadata": {},
   "outputs": [
    {
     "name": "stderr",
     "output_type": "stream",
     "text": [
      "                                                   \r"
     ]
    },
    {
     "data": {
      "text/html": [
       "\n",
       "        <iframe\n",
       "            width=\"100%\"\n",
       "            height=\"250\"\n",
       "            src=\"https://koichiyasuoka.github.io/deplacy/deplacy/viewer.svg#1%09%E5%89%87%09%E5%89%87%09ADV%09v%2C%E5%89%AF%E8%A9%9E%2C%E6%99%82%E7%9B%B8%2C%E7%B7%8A%E6%8E%A5%09AdvType%3DTim%095%09advmod%09_%09SpaceAfter%3DNo%7CTranslit%3Dthen%0A2%09%E8%8B%97%09%E8%8B%97%09NOUN%09n%2C%E5%90%8D%E8%A9%9E%2C%E5%9B%BA%E5%AE%9A%E7%89%A9%2C%E6%A8%B9%E6%9C%A8%09_%095%09nsubj%09_%09SpaceAfter%3DNo%7CTranslit%3Dseedling%0A3%09%E5%8B%83%09%E5%8B%83%09VERB%09v%2C%E5%8B%95%E8%A9%9E%2C%E6%8F%8F%E5%86%99%2C%E5%BD%A2%E8%B3%AA%09Degree%3DPos%095%09advmod%09_%09SpaceAfter%3DNo%7CTranslit%3Dsudden%0A4%09%E7%84%B6%09%E7%84%B6%09PART%09p%2C%E6%8E%A5%E5%B0%BE%E8%BE%9E%2C%2A%2C%2A%09_%093%09fixed%09_%09SpaceAfter%3DNo%7CTranslit%3D%5Bsuffix%5D%0A5%09%E8%88%88%09%E8%88%88%09VERB%09v%2C%E5%8B%95%E8%A9%9E%2C%E8%A1%8C%E7%82%BA%2C%E5%8B%95%E4%BD%9C%09_%090%09ROOT%09_%09SpaceAfter%3DNo%7CTranslit%3Drise%0A6%09%E4%B9%8B%09%E4%B9%8B%09PRON%09n%2C%E4%BB%A3%E5%90%8D%E8%A9%9E%2C%E4%BA%BA%E7%A7%B0%2C%E6%AD%A2%E6%A0%BC%09Person%3D3%7CPronType%3DPrs%095%09obj%09_%09SpaceAfter%3DNo%7CTranslit%3D%5B3PRON%5D%0A7%09%E7%9F%A3%09%E7%9F%A3%09PART%09p%2C%E5%8A%A9%E8%A9%9E%2C%E5%8F%A5%E6%9C%AB%2C%2A%09_%095%09discourse%3Asp%09_%09SpaceAfter%3DNo%7CTranslit%3D%5BPFV%5D%0A%0A\"\n",
       "            frameborder=\"0\"\n",
       "            allowfullscreen\n",
       "            style=\"background-color: white;\"\n",
       "        ></iframe>\n",
       "        "
      ],
      "text/plain": [
       "<IPython.lib.display.IFrame at 0x7f009ce47fd0>"
      ]
     },
     "metadata": {},
     "output_type": "display_data"
    }
   ],
   "source": [
    "ex48 = nlp(\"則苗勃然興之矣\")\n",
    "serve(ex48, 250)"
   ]
  },
  {
   "cell_type": "code",
   "execution_count": 25,
   "metadata": {},
   "outputs": [
    {
     "name": "stderr",
     "output_type": "stream",
     "text": [
      "                                                   \r"
     ]
    },
    {
     "data": {
      "text/html": [
       "\n",
       "        <iframe\n",
       "            width=\"100%\"\n",
       "            height=\"450\"\n",
       "            src=\"https://koichiyasuoka.github.io/deplacy/deplacy/viewer.svg#1%09%E5%90%BE%09%E5%90%BE%09PRON%09n%2C%E4%BB%A3%E5%90%8D%E8%A9%9E%2C%E4%BA%BA%E7%A7%B0%2C%E8%B5%B7%E6%A0%BC%09Person%3D1%7CPronType%3DPrs%093%09det%09_%09SpaceAfter%3DNo%7CTranslit%3D%5B1PRON%5D%0A2%09%E6%9C%89%09%E6%9C%89%09VERB%09v%2C%E5%8B%95%E8%A9%9E%2C%E5%AD%98%E5%9C%A8%2C%E5%AD%98%E5%9C%A8%09_%093%09amod%09_%09SpaceAfter%3DNo%7CTranslit%3Dhave%0A3%09%E5%8F%B8%09%E5%8F%B8%09NOUN%09n%2C%E5%90%8D%E8%A9%9E%2C%E4%BA%BA%2C%E5%BD%B9%E5%89%B2%09_%096%09dislocated%09_%09SpaceAfter%3DNo%7CTranslit%3Dcontroller%0A4%09%E6%AD%BB%09%E6%AD%BB%09VERB%09v%2C%E5%8B%95%E8%A9%9E%2C%E5%A4%89%E5%8C%96%2C%E7%94%9F%E7%89%A9%09_%095%09amod%09_%09SpaceAfter%3DNo%7CTranslit%3Ddie%0A5%09%E8%80%85%09%EF%A9%9B%09PART%09p%2C%E5%8A%A9%E8%A9%9E%2C%E6%8F%90%E7%A4%BA%2C%2A%09_%096%09nsubj%09_%09SpaceAfter%3DNo%7CTranslit%3Dthat-which%0A6%09%E4%B8%89%E5%8D%81%E4%B8%89%09%E4%B8%89%E5%8D%81%E4%B8%89%09NUM%09n%2C%E6%95%B0%E8%A9%9E%2C%E6%95%B0%2C%2A%09_%090%09ROOT%09_%09SpaceAfter%3DNo%7CTranslit%3Dthirty-three%0A7%09%E4%BA%BA%09%E4%BA%BA%09NOUN%09n%2C%E5%90%8D%E8%A9%9E%2C%E4%BA%BA%2C%E4%BA%BA%09_%096%09clf%09_%09SpaceAfter%3DNo%7CTranslit%3Dperson%0A%0A1%09%E8%80%8C%09%E8%80%8C%09CCONJ%09p%2C%E5%8A%A9%E8%A9%9E%2C%E6%8E%A5%E7%B6%9A%2C%E4%B8%A6%E5%88%97%09_%095%09advmod%09_%09SpaceAfter%3DNo%7CTranslit%3Dand%0A2%09%E6%B0%91%09%E6%B0%91%09NOUN%09n%2C%E5%90%8D%E8%A9%9E%2C%E4%BA%BA%2C%E4%BA%BA%09_%095%09nsubj%09_%09SpaceAfter%3DNo%7CTranslit%3Dpeople%0A3%09%E8%8E%AB%09%E8%8E%AB%09ADV%09v%2C%E5%89%AF%E8%A9%9E%2C%E5%90%A6%E5%AE%9A%2C%E7%A6%81%E6%AD%A2%09Polarity%3DNeg%095%09advmod%09_%09SpaceAfter%3DNo%7CTranslit%3Dnone%0A4%09%E4%B9%8B%09%E4%B9%8B%09PRON%09n%2C%E4%BB%A3%E5%90%8D%E8%A9%9E%2C%E4%BA%BA%E7%A7%B0%2C%E6%AD%A2%E6%A0%BC%09Person%3D3%7CPronType%3DPrs%095%09obj%09_%09SpaceAfter%3DNo%7CTranslit%3D%5B3PRON%5D%0A5%09%E6%AD%BB%09%E6%AD%BB%09VERB%09v%2C%E5%8B%95%E8%A9%9E%2C%E5%A4%89%E5%8C%96%2C%E7%94%9F%E7%89%A9%09_%090%09ROOT%09_%09SpaceAfter%3DNo%7CTranslit%3Ddie%0A6%09%E4%B9%9F%09%E4%B9%9F%09PART%09p%2C%E5%8A%A9%E8%A9%9E%2C%E5%8F%A5%E6%9C%AB%2C%2A%09_%095%09discourse%3Asp%09_%09SpaceAfter%3DNo%7CTranslit%3D%5Bfinal-particle%5D%0A%0A\"\n",
       "            frameborder=\"0\"\n",
       "            allowfullscreen\n",
       "            style=\"background-color: white;\"\n",
       "        ></iframe>\n",
       "        "
      ],
      "text/plain": [
       "<IPython.lib.display.IFrame at 0x7f009ce47700>"
      ]
     },
     "metadata": {},
     "output_type": "display_data"
    }
   ],
   "source": [
    "ex49 = nlp(\"吾有司死者三十三人而民莫之死也\")\n",
    "serve(ex49, 450)"
   ]
  },
  {
   "cell_type": "markdown",
   "metadata": {},
   "source": [
    "## 5. Transitive Verbs - Active and Passive"
   ]
  },
  {
   "cell_type": "code",
   "execution_count": 26,
   "metadata": {},
   "outputs": [
    {
     "name": "stderr",
     "output_type": "stream",
     "text": [
      "                                                   \r"
     ]
    },
    {
     "data": {
      "text/html": [
       "\n",
       "        <iframe\n",
       "            width=\"100%\"\n",
       "            height=\"200\"\n",
       "            src=\"https://koichiyasuoka.github.io/deplacy/deplacy/viewer.svg#1%09%E4%B8%83%E5%8D%81%09%E4%B8%83%E5%8D%81%09NUM%09n%2C%E6%95%B0%E8%A9%9E%2C%E6%95%B0%2C%2A%09_%092%09nummod%09_%09SpaceAfter%3DNo%7CTranslit%3Dseventy%0A2%09%E8%80%85%09%EF%A9%9B%09PART%09p%2C%E5%8A%A9%E8%A9%9E%2C%E6%8F%90%E7%A4%BA%2C%2A%09_%093%09nsubj%09_%09SpaceAfter%3DNo%7CTranslit%3Dthat-which%0A3%09%E8%A1%A3%09%E8%A1%A3%09VERB%09v%2C%E5%8B%95%E8%A9%9E%2C%E8%A1%8C%E7%82%BA%2C%E5%8B%95%E4%BD%9C%09_%090%09ROOT%09_%09SpaceAfter%3DNo%7CTranslit%3Dwear%0A4%09%E5%B8%9B%09%E5%B8%9B%09NOUN%09n%2C%E5%90%8D%E8%A9%9E%2C%E5%8F%AF%E6%90%AC%2C%E9%81%93%E5%85%B7%09_%093%09obj%09_%09SpaceAfter%3DNo%7CTranslit%3Dsilk-cloth%0A5%09%E9%A3%9F%09%E9%A3%9F%09VERB%09v%2C%E5%8B%95%E8%A9%9E%2C%E8%A1%8C%E7%82%BA%2C%E9%A3%B2%E9%A3%9F%09_%093%09parataxis%09_%09SpaceAfter%3DNo%7CTranslit%3Dfeed%0A6%09%E8%82%89%09%E8%82%89%09NOUN%09n%2C%E5%90%8D%E8%A9%9E%2C%E5%8F%AF%E6%90%AC%2C%E7%B3%A7%E9%A3%9F%09_%095%09obj%09_%09SpaceAfter%3DNo%7CTranslit%3Dflesh%0A%0A\"\n",
       "            frameborder=\"0\"\n",
       "            allowfullscreen\n",
       "            style=\"background-color: white;\"\n",
       "        ></iframe>\n",
       "        "
      ],
      "text/plain": [
       "<IPython.lib.display.IFrame at 0x7f009cf53d90>"
      ]
     },
     "metadata": {},
     "output_type": "display_data"
    }
   ],
   "source": [
    "ex50 = nlp(\"七十者衣帛食肉\")\n",
    "serve(ex50)"
   ]
  },
  {
   "cell_type": "code",
   "execution_count": 27,
   "metadata": {},
   "outputs": [
    {
     "name": "stderr",
     "output_type": "stream",
     "text": [
      "                                                   \r"
     ]
    },
    {
     "data": {
      "text/html": [
       "\n",
       "        <iframe\n",
       "            width=\"100%\"\n",
       "            height=\"250\"\n",
       "            src=\"https://koichiyasuoka.github.io/deplacy/deplacy/viewer.svg#1%09%E5%B8%AB%09%E5%B8%AB%09NOUN%09n%2C%E5%90%8D%E8%A9%9E%2C%E4%B8%BB%E4%BD%93%2C%E9%9B%86%E5%9B%A3%09_%092%09nsubj%09_%09SpaceAfter%3DNo%0A2%09%E8%A1%8C%09%E8%A1%8C%09VERB%09v%2C%E5%8B%95%E8%A9%9E%2C%E8%A1%8C%E7%82%BA%2C%E5%8B%95%E4%BD%9C%09_%090%09ROOT%09_%09SpaceAfter%3DNo%7CTranslit%3Dbehave%0A3%09%E8%80%8C%09%E8%80%8C%09CCONJ%09p%2C%E5%8A%A9%E8%A9%9E%2C%E6%8E%A5%E7%B6%9A%2C%E4%B8%A6%E5%88%97%09_%095%09cc%09_%09SpaceAfter%3DNo%7CTranslit%3Dand%0A4%09%E7%B3%A7%09%E7%B3%A7%09NOUN%09n%2C%E5%90%8D%E8%A9%9E%2C%E5%8F%AF%E6%90%AC%2C%E7%B3%A7%E9%A3%9F%09_%095%09nsubj%3Apass%09_%09SpaceAfter%3DNo%7CTranslit%3Dgrain%0A5%09%E9%A3%9F%09%E9%A3%9F%09VERB%09v%2C%E5%8B%95%E8%A9%9E%2C%E8%A1%8C%E7%82%BA%2C%E9%A3%B2%E9%A3%9F%09_%092%09conj%09_%09SpaceAfter%3DNo%7CTranslit%3Dfeed%0A%0A\"\n",
       "            frameborder=\"0\"\n",
       "            allowfullscreen\n",
       "            style=\"background-color: white;\"\n",
       "        ></iframe>\n",
       "        "
      ],
      "text/plain": [
       "<IPython.lib.display.IFrame at 0x7f009ce47040>"
      ]
     },
     "metadata": {},
     "output_type": "display_data"
    }
   ],
   "source": [
    "ex51 = nlp(\"師行而糧食\")\n",
    "serve(ex51, 250)"
   ]
  },
  {
   "cell_type": "code",
   "execution_count": 28,
   "metadata": {},
   "outputs": [
    {
     "name": "stderr",
     "output_type": "stream",
     "text": [
      "                                                   \r"
     ]
    },
    {
     "data": {
      "text/html": [
       "\n",
       "        <iframe\n",
       "            width=\"100%\"\n",
       "            height=\"250\"\n",
       "            src=\"https://koichiyasuoka.github.io/deplacy/deplacy/viewer.svg#1%09%E8%B3%A2%09%E8%B3%A2%09VERB%09v%2C%E5%8B%95%E8%A9%9E%2C%E6%8F%8F%E5%86%99%2C%E6%85%8B%E5%BA%A6%09Degree%3DPos%092%09amod%09_%09SpaceAfter%3DNo%7CTranslit%3Dworthy%0A2%09%E8%80%85%09%EF%A9%9B%09PART%09p%2C%E5%8A%A9%E8%A9%9E%2C%E6%8F%90%E7%A4%BA%2C%2A%09_%096%09nsubj%09_%09SpaceAfter%3DNo%7CTranslit%3Dthat-which%0A3%09%E8%88%87%09%E8%88%87%09ADP%09v%2C%E5%89%8D%E7%BD%AE%E8%A9%9E%2C%E9%96%A2%E4%BF%82%2C%2A%09_%094%09case%09_%09SpaceAfter%3DNo%7CTranslit%3Dassociate-with%0A4%09%E6%B0%91%09%E6%B0%91%09NOUN%09n%2C%E5%90%8D%E8%A9%9E%2C%E4%BA%BA%2C%E4%BA%BA%09_%096%09obl%09_%09SpaceAfter%3DNo%7CTranslit%3Dpeople%0A5%09%E4%B8%A6%09%E7%AB%9D%09ADV%09v%2C%E5%89%AF%E8%A9%9E%2C%E7%AF%84%E5%9B%B2%2C%E5%85%B1%E5%90%8C%09_%096%09advmod%09_%09SpaceAfter%3DNo%7CTranslit%3Dside-by-side%0A6%09%E8%80%95%09%E8%80%95%09VERB%09v%2C%E5%8B%95%E8%A9%9E%2C%E8%A1%8C%E7%82%BA%2C%E5%8B%95%E4%BD%9C%09_%090%09ROOT%09_%09SpaceAfter%3DNo%7CTranslit%3Dplough%0A7%09%E8%80%8C%09%E8%80%8C%09CCONJ%09p%2C%E5%8A%A9%E8%A9%9E%2C%E6%8E%A5%E7%B6%9A%2C%E4%B8%A6%E5%88%97%09_%098%09cc%09_%09SpaceAfter%3DNo%7CTranslit%3Dand%0A8%09%E9%A3%9F%09%E9%A3%9F%09VERB%09v%2C%E5%8B%95%E8%A9%9E%2C%E8%A1%8C%E7%82%BA%2C%E9%A3%B2%E9%A3%9F%09_%096%09conj%09_%09SpaceAfter%3DNo%7CTranslit%3Dfeed%0A%0A\"\n",
       "            frameborder=\"0\"\n",
       "            allowfullscreen\n",
       "            style=\"background-color: white;\"\n",
       "        ></iframe>\n",
       "        "
      ],
      "text/plain": [
       "<IPython.lib.display.IFrame at 0x7f009cf53220>"
      ]
     },
     "metadata": {},
     "output_type": "display_data"
    }
   ],
   "source": [
    "ex52 = nlp(\"賢者與民並耕而食\")\n",
    "serve(ex52, 250)"
   ]
  },
  {
   "cell_type": "code",
   "execution_count": 29,
   "metadata": {},
   "outputs": [
    {
     "name": "stderr",
     "output_type": "stream",
     "text": [
      "                                                   \r"
     ]
    },
    {
     "data": {
      "text/html": [
       "\n",
       "        <iframe\n",
       "            width=\"100%\"\n",
       "            height=\"700\"\n",
       "            src=\"https://koichiyasuoka.github.io/deplacy/deplacy/viewer.svg#1%09%E5%8B%9E%09%E5%8B%9E%09VERB%09v%2C%E5%8B%95%E8%A9%9E%2C%E6%8F%8F%E5%86%99%2C%E5%A2%83%E9%81%87%09Degree%3DPos%093%09acl%09_%09SpaceAfter%3DNo%7CTranslit%3Dwork%0A2%09%E5%BF%83%09%E5%BF%83%09NOUN%09n%2C%E5%90%8D%E8%A9%9E%2C%E4%B8%8D%E5%8F%AF%E8%AD%B2%2C%E8%BA%AB%E4%BD%93%09_%091%09obj%09_%09SpaceAfter%3DNo%7CTranslit%3Dheart%0A3%09%E8%80%85%09%EF%A9%9B%09PART%09p%2C%E5%8A%A9%E8%A9%9E%2C%E6%8F%90%E7%A4%BA%2C%2A%09_%094%09nsubj%09_%09SpaceAfter%3DNo%7CTranslit%3Dthat-which%0A4%09%E6%B2%BB%09%E6%B2%BB%09VERB%09v%2C%E5%8B%95%E8%A9%9E%2C%E8%A1%8C%E7%82%BA%2C%E5%8B%95%E4%BD%9C%09_%090%09ROOT%09_%09SpaceAfter%3DNo%7CTranslit%3Dgovern%0A5%09%E4%BA%BA%09%E4%BA%BA%09NOUN%09n%2C%E5%90%8D%E8%A9%9E%2C%E4%BA%BA%2C%E4%BA%BA%09_%094%09obj%09_%09SpaceAfter%3DNo%7CTranslit%3Dperson%0A%0A1%09%E5%8B%9E%09%E5%8B%9E%09VERB%09v%2C%E5%8B%95%E8%A9%9E%2C%E6%8F%8F%E5%86%99%2C%E5%A2%83%E9%81%87%09Degree%3DPos%093%09acl%09_%09SpaceAfter%3DNo%7CTranslit%3Dwork%0A2%09%E5%8A%9B%09%E5%8A%9B%09NOUN%09n%2C%E5%90%8D%E8%A9%9E%2C%E4%B8%8D%E5%8F%AF%E8%AD%B2%2C%E8%BA%AB%E4%BD%93%09_%091%09obj%09_%09SpaceAfter%3DNo%7CTranslit%3Dstrength%0A3%09%E8%80%85%09%EF%A9%9B%09PART%09p%2C%E5%8A%A9%E8%A9%9E%2C%E6%8F%90%E7%A4%BA%2C%2A%09_%094%09nsubj%3Apass%09_%09SpaceAfter%3DNo%7CTranslit%3Dthat-which%0A4%09%E6%B2%BB%09%E6%B2%BB%09VERB%09v%2C%E5%8B%95%E8%A9%9E%2C%E8%A1%8C%E7%82%BA%2C%E5%8B%95%E4%BD%9C%09_%090%09ROOT%09_%09SpaceAfter%3DNo%7CTranslit%3Dgovern%0A5%09%E6%96%BC%09%E6%96%BC%09ADP%09v%2C%E5%89%8D%E7%BD%AE%E8%A9%9E%2C%E5%9F%BA%E7%9B%A4%2C%2A%09_%096%09case%09_%09SpaceAfter%3DNo%7CTranslit%3Dat%0A6%09%E4%BA%BA%09%E4%BA%BA%09NOUN%09n%2C%E5%90%8D%E8%A9%9E%2C%E4%BA%BA%2C%E4%BA%BA%09_%094%09obl%09_%09SpaceAfter%3DNo%7CTranslit%3Dperson%0A%0A1%09%E6%B2%BB%09%E6%B2%BB%09VERB%09v%2C%E5%8B%95%E8%A9%9E%2C%E8%A1%8C%E7%82%BA%2C%E5%8B%95%E4%BD%9C%09_%094%09acl%09_%09SpaceAfter%3DNo%7CTranslit%3Dgovern%0A2%09%E6%96%BC%09%E6%96%BC%09ADP%09v%2C%E5%89%8D%E7%BD%AE%E8%A9%9E%2C%E5%9F%BA%E7%9B%A4%2C%2A%09_%093%09case%09_%09SpaceAfter%3DNo%7CTranslit%3Dat%0A3%09%E4%BA%BA%09%E4%BA%BA%09NOUN%09n%2C%E5%90%8D%E8%A9%9E%2C%E4%BA%BA%2C%E4%BA%BA%09_%091%09obl%09_%09SpaceAfter%3DNo%7CTranslit%3Dperson%0A4%09%E8%80%85%09%EF%A9%9B%09PART%09p%2C%E5%8A%A9%E8%A9%9E%2C%E6%8F%90%E7%A4%BA%2C%2A%09_%095%09nsubj%09_%09SpaceAfter%3DNo%7CTranslit%3Dthat-which%0A5%09%E9%A3%9F%09%E9%A3%9F%09VERB%09v%2C%E5%8B%95%E8%A9%9E%2C%E8%A1%8C%E7%82%BA%2C%E9%A3%B2%E9%A3%9F%09_%090%09ROOT%09_%09SpaceAfter%3DNo%7CTranslit%3Dfeed%0A6%09%E4%BA%BA%09%E4%BA%BA%09NOUN%09n%2C%E5%90%8D%E8%A9%9E%2C%E4%BA%BA%2C%E4%BA%BA%09_%095%09obj%09_%09SpaceAfter%3DNo%7CTranslit%3Dperson%0A%0A1%09%E6%B2%BB%09%E6%B2%BB%09VERB%09v%2C%E5%8B%95%E8%A9%9E%2C%E8%A1%8C%E7%82%BA%2C%E5%8B%95%E4%BD%9C%09_%093%09acl%09_%09SpaceAfter%3DNo%7CTranslit%3Dgovern%0A2%09%E4%BA%BA%09%E4%BA%BA%09NOUN%09n%2C%E5%90%8D%E8%A9%9E%2C%E4%BA%BA%2C%E4%BA%BA%09_%091%09obj%09_%09SpaceAfter%3DNo%7CTranslit%3Dperson%0A3%09%E8%80%85%09%EF%A9%9B%09PART%09p%2C%E5%8A%A9%E8%A9%9E%2C%E6%8F%90%E7%A4%BA%2C%2A%09_%094%09nsubj%3Apass%09_%09SpaceAfter%3DNo%7CTranslit%3Dthat-which%0A4%09%E9%A3%9F%09%E9%A3%9F%09VERB%09v%2C%E5%8B%95%E8%A9%9E%2C%E8%A1%8C%E7%82%BA%2C%E9%A3%B2%E9%A3%9F%09_%090%09ROOT%09_%09SpaceAfter%3DNo%7CTranslit%3Dfeed%0A5%09%E6%96%BC%09%E6%96%BC%09ADP%09v%2C%E5%89%8D%E7%BD%AE%E8%A9%9E%2C%E5%9F%BA%E7%9B%A4%2C%2A%09_%096%09case%09_%09SpaceAfter%3DNo%7CTranslit%3Dat%0A6%09%E4%BA%BA%09%E4%BA%BA%09NOUN%09n%2C%E5%90%8D%E8%A9%9E%2C%E4%BA%BA%2C%E4%BA%BA%09_%094%09obl%09_%09SpaceAfter%3DNo%7CTranslit%3Dperson%0A%0A\"\n",
       "            frameborder=\"0\"\n",
       "            allowfullscreen\n",
       "            style=\"background-color: white;\"\n",
       "        ></iframe>\n",
       "        "
      ],
      "text/plain": [
       "<IPython.lib.display.IFrame at 0x7f009ce56c70>"
      ]
     },
     "metadata": {},
     "output_type": "display_data"
    }
   ],
   "source": [
    "ex53 = nlp(\"勞心者治人勞力者治於人治於人者食人治人者食於人\")\n",
    "serve(ex53, 700)"
   ]
  },
  {
   "cell_type": "markdown",
   "metadata": {},
   "source": [
    "## 6. Verbs of Motion and Location - Intransitive and Transitive"
   ]
  },
  {
   "cell_type": "code",
   "execution_count": 30,
   "metadata": {},
   "outputs": [
    {
     "name": "stderr",
     "output_type": "stream",
     "text": [
      "                                                   \r"
     ]
    },
    {
     "data": {
      "text/html": [
       "\n",
       "        <iframe\n",
       "            width=\"100%\"\n",
       "            height=\"200\"\n",
       "            src=\"https://koichiyasuoka.github.io/deplacy/deplacy/viewer.svg#1%09%E8%8A%BB%09%E8%8A%BB%09VERB%09v%2C%E5%8B%95%E8%A9%9E%2C%E8%A1%8C%E7%82%BA%2C%E5%8B%95%E4%BD%9C%09_%093%09acl%09_%09SpaceAfter%3DNo%7CTranslit%3Dfodder%0A2%09%E8%95%98%09%E8%95%98%09NOUN%09n%2C%E5%90%8D%E8%A9%9E%2C%E5%9B%BA%E5%AE%9A%E7%89%A9%2C%E6%A8%B9%E6%9C%A8%09_%091%09conj%09_%09SpaceAfter%3DNo%7CTranslit%3Dbrushwood%0A3%09%E8%80%85%09%EF%A9%9B%09PART%09p%2C%E5%8A%A9%E8%A9%9E%2C%E6%8F%90%E7%A4%BA%2C%2A%09_%094%09nsubj%09_%09SpaceAfter%3DNo%7CTranslit%3Dthat-which%0A4%09%E5%BE%80%09%E5%BE%80%09VERB%09v%2C%E5%8B%95%E8%A9%9E%2C%E8%A1%8C%E7%82%BA%2C%E7%A7%BB%E5%8B%95%09_%090%09ROOT%09_%09SpaceAfter%3DNo%7CTranslit%3Dgo%0A5%09%E7%84%89%09%E7%84%89%09PRON%09n%2C%E4%BB%A3%E5%90%8D%E8%A9%9E%2C%E6%8C%87%E7%A4%BA%2C%2A%09PronType%3DDem%094%09obl%09_%09SpaceAfter%3DNo%7CTranslit%3Dthere%0A%0A\"\n",
       "            frameborder=\"0\"\n",
       "            allowfullscreen\n",
       "            style=\"background-color: white;\"\n",
       "        ></iframe>\n",
       "        "
      ],
      "text/plain": [
       "<IPython.lib.display.IFrame at 0x7f009ce47040>"
      ]
     },
     "metadata": {},
     "output_type": "display_data"
    }
   ],
   "source": [
    "ex54 = nlp(\"芻蕘者往焉\")\n",
    "serve(ex54)"
   ]
  },
  {
   "cell_type": "code",
   "execution_count": 31,
   "metadata": {},
   "outputs": [
    {
     "name": "stderr",
     "output_type": "stream",
     "text": [
      "                                                   \r"
     ]
    },
    {
     "data": {
      "text/html": [
       "\n",
       "        <iframe\n",
       "            width=\"100%\"\n",
       "            height=\"200\"\n",
       "            src=\"https://koichiyasuoka.github.io/deplacy/deplacy/viewer.svg#1%09%E5%B0%87%09%E5%B0%87%09ADV%09v%2C%E5%89%AF%E8%A9%9E%2C%E6%99%82%E7%9B%B8%2C%E5%B0%86%E6%9D%A5%09AdvType%3DTim%7CTense%3DFut%092%09advmod%09_%09SpaceAfter%3DNo%7CTranslit%3Dabout-to%0A2%09%E4%B9%8B%09%E4%B9%8B%09VERB%09v%2C%E5%8B%95%E8%A9%9E%2C%E8%A1%8C%E7%82%BA%2C%E7%A7%BB%E5%8B%95%09_%090%09ROOT%09_%09SpaceAfter%3DNo%7CTranslit%3Dgo%0A3%09%E6%A5%9A%09%E6%A5%9A%09PROPN%09n%2C%E5%90%8D%E8%A9%9E%2C%E4%B8%BB%E4%BD%93%2C%E5%9B%BD%E5%90%8D%09Case%3DLoc%7CNameType%3DNat%092%09obj%09_%09SpaceAfter%3DNo%7CTranslit%3D%5Bcountry-name%5D%0A%0A\"\n",
       "            frameborder=\"0\"\n",
       "            allowfullscreen\n",
       "            style=\"background-color: white;\"\n",
       "        ></iframe>\n",
       "        "
      ],
      "text/plain": [
       "<IPython.lib.display.IFrame at 0x7f009ce43280>"
      ]
     },
     "metadata": {},
     "output_type": "display_data"
    }
   ],
   "source": [
    "ex55 = nlp(\"將之楚\")\n",
    "serve(ex55)"
   ]
  },
  {
   "cell_type": "code",
   "execution_count": 32,
   "metadata": {},
   "outputs": [
    {
     "name": "stderr",
     "output_type": "stream",
     "text": [
      "                                                   \r"
     ]
    },
    {
     "data": {
      "text/html": [
       "\n",
       "        <iframe\n",
       "            width=\"100%\"\n",
       "            height=\"250\"\n",
       "            src=\"https://koichiyasuoka.github.io/deplacy/deplacy/viewer.svg#1%09%E5%B0%B1%09%E5%B0%B1%09VERB%09v%2C%E5%8B%95%E8%A9%9E%2C%E8%A1%8C%E7%82%BA%2C%E7%A7%BB%E5%8B%95%09_%090%09ROOT%09_%09SpaceAfter%3DNo%7CTranslit%3Dgo-to%0A2%09%E4%B9%8B%09%E4%B9%8B%09PRON%09n%2C%E4%BB%A3%E5%90%8D%E8%A9%9E%2C%E4%BA%BA%E7%A7%B0%2C%E6%AD%A2%E6%A0%BC%09Person%3D3%7CPronType%3DPrs%091%09obj%09_%09SpaceAfter%3DNo%7CTranslit%3D%5B3PRON%5D%0A3%09%E8%80%8C%09%E8%80%8C%09CCONJ%09p%2C%E5%8A%A9%E8%A9%9E%2C%E6%8E%A5%E7%B6%9A%2C%E4%B8%A6%E5%88%97%09_%095%09cc%09_%09SpaceAfter%3DNo%7CTranslit%3Dand%0A4%09%E4%B8%8D%09%E4%B8%8D%09ADV%09v%2C%E5%89%AF%E8%A9%9E%2C%E5%90%A6%E5%AE%9A%2C%E7%84%A1%E7%95%8C%09Polarity%3DNeg%095%09advmod%09_%09SpaceAfter%3DNo%7CTranslit%3Dnot%0A5%09%E8%A6%8B%09%E8%A6%8B%09VERB%09v%2C%E5%8B%95%E8%A9%9E%2C%E8%A1%8C%E7%82%BA%2C%E5%8B%95%E4%BD%9C%09_%091%09conj%09_%09SpaceAfter%3DNo%7CTranslit%3Dsee%0A6%09%E6%89%80%09%E6%89%80%09PART%09p%2C%E5%8A%A9%E8%A9%9E%2C%E6%8E%A5%E7%B6%9A%2C%E4%BD%93%E8%A8%80%E5%8C%96%09_%097%09mark%09_%09SpaceAfter%3DNo%7CTranslit%3Dthat-which%0A7%09%E7%95%8F%09%E7%95%8F%09VERB%09v%2C%E5%8B%95%E8%A9%9E%2C%E8%A1%8C%E7%82%BA%2C%E6%85%8B%E5%BA%A6%09_%095%09ccomp%09_%09SpaceAfter%3DNo%7CTranslit%3Dfear%0A8%09%E7%84%89%09%E7%84%89%09PART%09p%2C%E5%8A%A9%E8%A9%9E%2C%E5%8F%A5%E6%9C%AB%2C%2A%09_%097%09obl%09_%09SpaceAfter%3DNo%7CTranslit%3D%5Bfinal-particle%5D%0A%0A\"\n",
       "            frameborder=\"0\"\n",
       "            allowfullscreen\n",
       "            style=\"background-color: white;\"\n",
       "        ></iframe>\n",
       "        "
      ],
      "text/plain": [
       "<IPython.lib.display.IFrame at 0x7f009cf530d0>"
      ]
     },
     "metadata": {},
     "output_type": "display_data"
    }
   ],
   "source": [
    "ex56 = nlp(\"就之而不見所畏焉\")\n",
    "serve(ex56, 250)"
   ]
  },
  {
   "cell_type": "code",
   "execution_count": 33,
   "metadata": {},
   "outputs": [
    {
     "name": "stderr",
     "output_type": "stream",
     "text": [
      "                                                   \r"
     ]
    },
    {
     "data": {
      "text/html": [
       "\n",
       "        <iframe\n",
       "            width=\"100%\"\n",
       "            height=\"250\"\n",
       "            src=\"https://koichiyasuoka.github.io/deplacy/deplacy/viewer.svg#1%09%E6%8E%98%09%E6%8E%98%09VERB%09v%2C%E5%8B%95%E8%A9%9E%2C%E8%A1%8C%E7%82%BA%2C%E5%8B%95%E4%BD%9C%09_%090%09ROOT%09_%09SpaceAfter%3DNo%7CTranslit%3Ddig-out%0A2%09%E4%BA%95%09%E4%BA%95%09NOUN%09n%2C%E5%90%8D%E8%A9%9E%2C%E5%9B%BA%E5%AE%9A%E7%89%A9%2C%E5%BB%BA%E9%80%A0%E7%89%A9%09Case%3DLoc%091%09obj%09_%09SpaceAfter%3DNo%7CTranslit%3Dwell%0A3%09%E4%B9%9D%09%E4%B9%9D%09NUM%09n%2C%E6%95%B0%E8%A9%9E%2C%E6%95%B0%E5%AD%97%2C%2A%09_%091%09advmod%09_%09SpaceAfter%3DNo%7CTranslit%3Dnine%0A4%09%E8%BB%94%09%E8%BB%94%09NOUN%09n%2C%E5%90%8D%E8%A9%9E%2C%E5%BA%A6%E9%87%8F%E8%A1%A1%2C%2A%09NounType%3DClf%093%09clf%09_%09SpaceAfter%3DNo%7CTranslit%3D%5Blength-unit%5D%0A5%09%E8%80%8C%09%E8%80%8C%09CCONJ%09p%2C%E5%8A%A9%E8%A9%9E%2C%E6%8E%A5%E7%B6%9A%2C%E4%B8%A6%E5%88%97%09_%097%09cc%09_%09SpaceAfter%3DNo%7CTranslit%3Dand%0A6%09%E4%B8%8D%09%E4%B8%8D%09ADV%09v%2C%E5%89%AF%E8%A9%9E%2C%E5%90%A6%E5%AE%9A%2C%E7%84%A1%E7%95%8C%09Polarity%3DNeg%097%09advmod%09_%09SpaceAfter%3DNo%7CTranslit%3Dnot%0A7%09%E5%8F%8A%09%E5%8F%8A%09VERB%09v%2C%E5%8B%95%E8%A9%9E%2C%E8%A1%8C%E7%82%BA%2C%E7%A7%BB%E5%8B%95%09_%091%09conj%09_%09SpaceAfter%3DNo%7CTranslit%3Dreach%0A8%09%E6%B3%89%09%E6%B3%89%09NOUN%09n%2C%E5%90%8D%E8%A9%9E%2C%E5%9B%BA%E5%AE%9A%E7%89%A9%2C%E5%9C%B0%E5%BD%A2%09Case%3DLoc%097%09obj%09_%09SpaceAfter%3DNo%7CTranslit%3Dspring%0A%0A\"\n",
       "            frameborder=\"0\"\n",
       "            allowfullscreen\n",
       "            style=\"background-color: white;\"\n",
       "        ></iframe>\n",
       "        "
      ],
      "text/plain": [
       "<IPython.lib.display.IFrame at 0x7f009cf53eb0>"
      ]
     },
     "metadata": {},
     "output_type": "display_data"
    }
   ],
   "source": [
    "ex57 = nlp(\"掘井九軔而不及泉\")\n",
    "serve(ex57, 250)"
   ]
  },
  {
   "cell_type": "code",
   "execution_count": 34,
   "metadata": {},
   "outputs": [
    {
     "name": "stderr",
     "output_type": "stream",
     "text": [
      "                                                   \r"
     ]
    },
    {
     "data": {
      "text/html": [
       "\n",
       "        <iframe\n",
       "            width=\"100%\"\n",
       "            height=\"200\"\n",
       "            src=\"https://koichiyasuoka.github.io/deplacy/deplacy/viewer.svg#1%09%E6%95%85%09%E6%95%85%09ADV%09v%2C%E5%89%AF%E8%A9%9E%2C%E5%88%A4%E6%96%AD%2C%E7%A2%BA%E5%AE%9A%09_%092%09advmod%09_%09SpaceAfter%3DNo%7CTranslit%3Dtherefore%0A2%09%E5%8F%8A%09%E5%8F%8A%09VERB%09v%2C%E5%8B%95%E8%A9%9E%2C%E8%A1%8C%E7%82%BA%2C%E7%A7%BB%E5%8B%95%09_%090%09ROOT%09_%09SpaceAfter%3DNo%7CTranslit%3Dreach%0A3%09%E6%96%BC%09%E6%96%BC%09ADP%09v%2C%E5%89%8D%E7%BD%AE%E8%A9%9E%2C%E5%9F%BA%E7%9B%A4%2C%2A%09_%094%09case%09_%09SpaceAfter%3DNo%7CTranslit%3Dat%0A4%09%E9%9B%A3%09%EF%A9%A8%09NOUN%09n%2C%E5%90%8D%E8%A9%9E%2C%E6%8F%8F%E5%86%99%2C%E5%BD%A2%E8%B3%AA%09_%092%09obl%09_%09SpaceAfter%3DNo%7CTranslit%3Dtrouble%0A%0A\"\n",
       "            frameborder=\"0\"\n",
       "            allowfullscreen\n",
       "            style=\"background-color: white;\"\n",
       "        ></iframe>\n",
       "        "
      ],
      "text/plain": [
       "<IPython.lib.display.IFrame at 0x7f0134368ee0>"
      ]
     },
     "metadata": {},
     "output_type": "display_data"
    }
   ],
   "source": [
    "ex58 = nlp(\"故及於難\")\n",
    "serve(ex58)"
   ]
  },
  {
   "cell_type": "code",
   "execution_count": 35,
   "metadata": {},
   "outputs": [
    {
     "name": "stderr",
     "output_type": "stream",
     "text": [
      "                                                   \r"
     ]
    },
    {
     "data": {
      "text/html": [
       "\n",
       "        <iframe\n",
       "            width=\"100%\"\n",
       "            height=\"600\"\n",
       "            src=\"https://koichiyasuoka.github.io/deplacy/deplacy/viewer.svg#1%09%E6%98%94%09%E6%98%94%09NOUN%09n%2C%E5%90%8D%E8%A9%9E%2C%E6%99%82%2C%2A%09Case%3DTem%092%09nmod%09_%09SpaceAfter%3DNo%7CTranslit%3Dformerly%0A2%09%E8%80%85%09%EF%A9%9B%09PART%09p%2C%E5%8A%A9%E8%A9%9E%2C%E6%8F%90%E7%A4%BA%2C%2A%09_%095%09advmod%09_%09SpaceAfter%3DNo%7CTranslit%3Dthat-which%0A3%09%E5%A4%A7%09%E5%A4%A7%09VERB%09v%2C%E5%8B%95%E8%A9%9E%2C%E6%8F%8F%E5%86%99%2C%E9%87%8F%09Degree%3DPos%094%09amod%09_%09SpaceAfter%3DNo%7CTranslit%3Dbig%0A4%09%E7%8E%8B%09%E7%8E%8B%09NOUN%09n%2C%E5%90%8D%E8%A9%9E%2C%E4%BA%BA%2C%E5%BD%B9%E5%89%B2%09_%095%09nsubj%09_%09SpaceAfter%3DNo%7CTranslit%3Dking%0A5%09%E5%B1%85%09%E5%B1%85%09VERB%09v%2C%E5%8B%95%E8%A9%9E%2C%E8%A1%8C%E7%82%BA%2C%E5%8B%95%E4%BD%9C%09_%090%09ROOT%09_%09SpaceAfter%3DNo%7CTranslit%3Dsit-down%0A6%09%E9%82%A0%09%E9%82%A0%09PROPN%09n%2C%E5%90%8D%E8%A9%9E%2C%E5%9B%BA%E5%AE%9A%E7%89%A9%2C%E5%9C%B0%E5%90%8D%09Case%3DLoc%7CNameType%3DGeo%095%09obj%09_%09SpaceAfter%3DNo%7CTranslit%3D%5Bplace-name%5D%0A%0A1%09%E7%8B%84%09%E7%8B%84%09NOUN%09n%2C%E5%90%8D%E8%A9%9E%2C%E4%B8%BB%E4%BD%93%2C%E9%9B%86%E5%9B%A3%09_%092%09nmod%09_%09SpaceAfter%3DNo%7CTranslit%3D%5Bnorthern-people%5D%0A2%09%E4%BA%BA%09%E4%BA%BA%09NOUN%09n%2C%E5%90%8D%E8%A9%9E%2C%E4%BA%BA%2C%E4%BA%BA%09_%093%09nsubj%09_%09SpaceAfter%3DNo%7CTranslit%3Dperson%0A3%09%E4%BE%B5%09%E4%BE%B5%09VERB%09v%2C%E5%8B%95%E8%A9%9E%2C%E8%A1%8C%E7%82%BA%2C%E4%BA%A4%E6%B5%81%09_%090%09ROOT%09_%09SpaceAfter%3DNo%7CTranslit%3Dinvade%0A4%09%E4%B9%8B%09%E4%B9%8B%09PRON%09n%2C%E4%BB%A3%E5%90%8D%E8%A9%9E%2C%E4%BA%BA%E7%A7%B0%2C%E6%AD%A2%E6%A0%BC%09Person%3D3%7CPronType%3DPrs%093%09obj%09_%09SpaceAfter%3DNo%7CTranslit%3D%5B3PRON%5D%0A%0A1%09%E5%8E%BB%09%E5%8E%BB%09VERB%09v%2C%E5%8B%95%E8%A9%9E%2C%E8%A1%8C%E7%82%BA%2C%E7%A7%BB%E5%8B%95%09_%090%09ROOT%09_%09SpaceAfter%3DNo%7CTranslit%3Dgo-away%0A2%09%E4%B9%8B%09%E4%B9%8B%09VERB%09v%2C%E5%8B%95%E8%A9%9E%2C%E8%A1%8C%E7%82%BA%2C%E7%A7%BB%E5%8B%95%09_%091%09parataxis%09_%09SpaceAfter%3DNo%7CTranslit%3Dgo%0A3%09%E5%B2%90%09%E5%B2%90%09PROPN%09n%2C%E5%90%8D%E8%A9%9E%2C%E5%9B%BA%E5%AE%9A%E7%89%A9%2C%E5%9C%B0%E5%90%8D%09Case%3DLoc%7CNameType%3DGeo%094%09compound%09_%09SpaceAfter%3DNo%7CTranslit%3D%5Bplace-name%5D%0A4%09%E5%B1%B1%09%E5%B1%B1%09NOUN%09n%2C%E5%90%8D%E8%A9%9E%2C%E5%9B%BA%E5%AE%9A%E7%89%A9%2C%E5%9C%B0%E5%BD%A2%09Case%3DLoc%096%09nmod%09_%09SpaceAfter%3DNo%7CTranslit%3Dmountain%0A5%09%E4%B9%8B%09%E4%B9%8B%09SCONJ%09p%2C%E5%8A%A9%E8%A9%9E%2C%E6%8E%A5%E7%B6%9A%2C%E5%B1%9E%E6%A0%BC%09_%094%09case%09_%09SpaceAfter%3DNo%7CTranslit%3D%27s%0A6%09%E4%B8%8B%09%E4%B8%8B%09NOUN%09n%2C%E5%90%8D%E8%A9%9E%2C%E5%9B%BA%E5%AE%9A%E7%89%A9%2C%E9%96%A2%E4%BF%82%09Case%3DLoc%092%09obj%09_%09SpaceAfter%3DNo%7CTranslit%3Ddown%0A7%09%E5%B1%85%09%E5%B1%85%09VERB%09v%2C%E5%8B%95%E8%A9%9E%2C%E8%A1%8C%E7%82%BA%2C%E5%8B%95%E4%BD%9C%09_%092%09parataxis%09_%09SpaceAfter%3DNo%7CTranslit%3Dsit-down%0A8%09%E7%84%89%09%E7%84%89%09PART%09p%2C%E5%8A%A9%E8%A9%9E%2C%E5%8F%A5%E6%9C%AB%2C%2A%09_%097%09obl%09_%09SpaceAfter%3DNo%7CTranslit%3D%5Bfinal-particle%5D%0A%0A\"\n",
       "            frameborder=\"0\"\n",
       "            allowfullscreen\n",
       "            style=\"background-color: white;\"\n",
       "        ></iframe>\n",
       "        "
      ],
      "text/plain": [
       "<IPython.lib.display.IFrame at 0x7f009ce43d30>"
      ]
     },
     "metadata": {},
     "output_type": "display_data"
    }
   ],
   "source": [
    "ex59 = nlp(\"昔者大王居邠狄人侵之去之岐山之下居焉\")\n",
    "serve(ex59, 600)"
   ]
  },
  {
   "cell_type": "markdown",
   "metadata": {},
   "source": [
    "## 7. The Verbs *You* 有 'have; there is/are' and *Wu* 無 'not have; there is/are not'"
   ]
  },
  {
   "cell_type": "code",
   "execution_count": 36,
   "metadata": {},
   "outputs": [
    {
     "name": "stderr",
     "output_type": "stream",
     "text": [
      "                                                   \r"
     ]
    },
    {
     "data": {
      "text/html": [
       "\n",
       "        <iframe\n",
       "            width=\"100%\"\n",
       "            height=\"250\"\n",
       "            src=\"https://koichiyasuoka.github.io/deplacy/deplacy/viewer.svg#1%09%E4%BA%A6%09%E4%BA%A6%09ADV%09v%2C%E5%89%AF%E8%A9%9E%2C%E9%A0%BB%E5%BA%A6%2C%E9%87%8D%E8%A4%87%09_%092%09advmod%09_%09SpaceAfter%3DNo%7CTranslit%3Dalso%0A2%09%E6%9C%89%09%E6%9C%89%09VERB%09v%2C%E5%8B%95%E8%A9%9E%2C%E5%AD%98%E5%9C%A8%2C%E5%AD%98%E5%9C%A8%09_%090%09ROOT%09_%09SpaceAfter%3DNo%7CTranslit%3Dhave%0A3%09%E4%BB%81%09%E4%BB%81%09NOUN%09n%2C%E5%90%8D%E8%A9%9E%2C%E6%8F%8F%E5%86%99%2C%E6%85%8B%E5%BA%A6%09_%092%09obj%09_%09SpaceAfter%3DNo%7CTranslit%3Dbenevolence%0A4%09%E7%BE%A9%09%E7%BE%A9%09NOUN%09n%2C%E5%90%8D%E8%A9%9E%2C%E6%8F%8F%E5%86%99%2C%E6%85%8B%E5%BA%A6%09_%093%09conj%09_%09SpaceAfter%3DNo%7CTranslit%3Drighteousness%0A5%09%E8%80%8C%09%E8%80%8C%09PART%09p%2C%E5%8A%A9%E8%A9%9E%2C%E5%8F%A5%E6%9C%AB%2C%2A%09_%092%09discourse%3Asp%09_%09SpaceAfter%3DNo%7CTranslit%3Dand%0A6%09%E5%B7%B2%09%E5%B7%B2%09PART%09p%2C%E5%8A%A9%E8%A9%9E%2C%E5%8F%A5%E6%9C%AB%2C%2A%09_%092%09discourse%3Asp%09_%09SpaceAfter%3DNo%7CTranslit%3Donly%0A7%09%E7%9F%A3%09%E7%9F%A3%09PART%09p%2C%E5%8A%A9%E8%A9%9E%2C%E5%8F%A5%E6%9C%AB%2C%2A%09_%092%09discourse%3Asp%09_%09SpaceAfter%3DNo%7CTranslit%3D%5BPFV%5D%0A%0A\"\n",
       "            frameborder=\"0\"\n",
       "            allowfullscreen\n",
       "            style=\"background-color: white;\"\n",
       "        ></iframe>\n",
       "        "
      ],
      "text/plain": [
       "<IPython.lib.display.IFrame at 0x7f009ce478e0>"
      ]
     },
     "metadata": {},
     "output_type": "display_data"
    }
   ],
   "source": [
    "ex60 = nlp(\"亦有仁義而已矣\")\n",
    "serve(ex60, 250)"
   ]
  },
  {
   "cell_type": "code",
   "execution_count": 37,
   "metadata": {},
   "outputs": [
    {
     "name": "stderr",
     "output_type": "stream",
     "text": [
      "                                                   \r"
     ]
    },
    {
     "data": {
      "text/html": [
       "\n",
       "        <iframe\n",
       "            width=\"100%\"\n",
       "            height=\"200\"\n",
       "            src=\"https://koichiyasuoka.github.io/deplacy/deplacy/viewer.svg#1%09%E4%BB%81%09%E4%BB%81%09VERB%09v%2C%E5%8B%95%E8%A9%9E%2C%E6%8F%8F%E5%86%99%2C%E6%85%8B%E5%BA%A6%09Degree%3DPos%092%09amod%09_%09SpaceAfter%3DNo%7CTranslit%3Dbenevolent%0A2%09%E8%80%85%09%EF%A9%9B%09PART%09p%2C%E5%8A%A9%E8%A9%9E%2C%E6%8F%90%E7%A4%BA%2C%2A%09_%093%09nsubj%09_%09SpaceAfter%3DNo%7CTranslit%3Dthat-which%0A3%09%E7%84%A1%09%E7%84%A1%09VERB%09v%2C%E5%8B%95%E8%A9%9E%2C%E5%AD%98%E5%9C%A8%2C%E5%AD%98%E5%9C%A8%09Polarity%3DNeg%090%09ROOT%09_%09SpaceAfter%3DNo%7CTranslit%3Dnot-have%0A4%09%E6%95%B5%09%E6%95%B5%09NOUN%09n%2C%E5%90%8D%E8%A9%9E%2C%E4%BA%BA%2C%E4%BA%BA%09_%093%09obj%09_%09SpaceAfter%3DNo%7CTranslit%3Denemy%0A%0A\"\n",
       "            frameborder=\"0\"\n",
       "            allowfullscreen\n",
       "            style=\"background-color: white;\"\n",
       "        ></iframe>\n",
       "        "
      ],
      "text/plain": [
       "<IPython.lib.display.IFrame at 0x7f009ce43cd0>"
      ]
     },
     "metadata": {},
     "output_type": "display_data"
    }
   ],
   "source": [
    "ex61 = nlp(\"仁者無敵\")\n",
    "serve(ex61)"
   ]
  },
  {
   "cell_type": "code",
   "execution_count": 38,
   "metadata": {},
   "outputs": [
    {
     "name": "stderr",
     "output_type": "stream",
     "text": [
      "                                                   \r"
     ]
    },
    {
     "data": {
      "text/html": [
       "\n",
       "        <iframe\n",
       "            width=\"100%\"\n",
       "            height=\"300\"\n",
       "            src=\"https://koichiyasuoka.github.io/deplacy/deplacy/viewer.svg#1%09%E6%9C%AA%09%E6%9C%AA%09ADV%09v%2C%E5%89%AF%E8%A9%9E%2C%E5%90%A6%E5%AE%9A%2C%E6%9C%89%E7%95%8C%09Polarity%3DNeg%092%09advmod%09_%09SpaceAfter%3DNo%7CTranslit%3Dnot-yet%0A2%09%E6%9C%89%09%E6%9C%89%09VERB%09v%2C%E5%8B%95%E8%A9%9E%2C%E5%AD%98%E5%9C%A8%2C%E5%AD%98%E5%9C%A8%09_%090%09ROOT%09_%09SpaceAfter%3DNo%7CTranslit%3Dhave%0A3%09%E7%BE%A9%09%E7%BE%A9%09VERB%09v%2C%E5%8B%95%E8%A9%9E%2C%E6%8F%8F%E5%86%99%2C%E6%85%8B%E5%BA%A6%09Degree%3DPos%098%09acl%09_%09SpaceAfter%3DNo%7CTranslit%3Drighteous%0A4%09%E8%80%8C%09%E8%80%8C%09CCONJ%09p%2C%E5%8A%A9%E8%A9%9E%2C%E6%8E%A5%E7%B6%9A%2C%E4%B8%A6%E5%88%97%09_%095%09cc%09_%09SpaceAfter%3DNo%7CTranslit%3Dand%0A5%09%E5%BE%8C%09%E5%BE%8C%09VERB%09v%2C%E5%8B%95%E8%A9%9E%2C%E8%A1%8C%E7%82%BA%2C%E7%A7%BB%E5%8B%95%09_%093%09conj%09_%09SpaceAfter%3DNo%7CTranslit%3Dback%0A6%09%E5%85%B6%09%E5%85%B6%09PRON%09n%2C%E4%BB%A3%E5%90%8D%E8%A9%9E%2C%E4%BA%BA%E7%A7%B0%2C%E8%B5%B7%E6%A0%BC%09Person%3D3%7CPronType%3DPrs%097%09det%09_%09SpaceAfter%3DNo%7CTranslit%3D%5B3PRON%5D%0A7%09%E5%90%9B%09%E5%90%9B%09NOUN%09n%2C%E5%90%8D%E8%A9%9E%2C%E4%BA%BA%2C%E5%BD%B9%E5%89%B2%09_%095%09obj%09_%09SpaceAfter%3DNo%7CTranslit%3Druler%0A8%09%E8%80%85%09%EF%A9%9B%09PART%09p%2C%E5%8A%A9%E8%A9%9E%2C%E6%8F%90%E7%A4%BA%2C%2A%09_%092%09obj%09_%09SpaceAfter%3DNo%7CTranslit%3Dthat-which%0A9%09%E4%B9%9F%09%E4%B9%9F%09PART%09p%2C%E5%8A%A9%E8%A9%9E%2C%E5%8F%A5%E6%9C%AB%2C%2A%09_%092%09discourse%3Asp%09_%09SpaceAfter%3DNo%7CTranslit%3D%5Bfinal-particle%5D%0A%0A\"\n",
       "            frameborder=\"0\"\n",
       "            allowfullscreen\n",
       "            style=\"background-color: white;\"\n",
       "        ></iframe>\n",
       "        "
      ],
      "text/plain": [
       "<IPython.lib.display.IFrame at 0x7f009ce437f0>"
      ]
     },
     "metadata": {},
     "output_type": "display_data"
    }
   ],
   "source": [
    "ex62 = nlp(\"未有義而後其君者也\")\n",
    "serve(ex62, 300)"
   ]
  },
  {
   "cell_type": "code",
   "execution_count": 39,
   "metadata": {},
   "outputs": [
    {
     "name": "stderr",
     "output_type": "stream",
     "text": [
      "                                                   \r"
     ]
    },
    {
     "data": {
      "text/html": [
       "\n",
       "        <iframe\n",
       "            width=\"100%\"\n",
       "            height=\"450\"\n",
       "            src=\"https://koichiyasuoka.github.io/deplacy/deplacy/viewer.svg#1%09%E7%84%A1%09%E7%84%A1%09VERB%09v%2C%E5%8B%95%E8%A9%9E%2C%E5%AD%98%E5%9C%A8%2C%E5%AD%98%E5%9C%A8%09Polarity%3DNeg%090%09ROOT%09_%09SpaceAfter%3DNo%7CTranslit%3Dnot-have%0A2%09%E5%90%9B%E5%AD%90%09%E5%90%9B%E5%AD%90%09NOUN%09n%2C%E5%90%8D%E8%A9%9E%2C%E4%BA%BA%2C%E5%BD%B9%E5%89%B2%09_%091%09obj%09_%09SpaceAfter%3DNo%7CTranslit%3Dlord%0A3%09%E8%8E%AB%09%E8%8E%AB%09ADV%09v%2C%E5%89%AF%E8%A9%9E%2C%E5%90%A6%E5%AE%9A%2C%E7%A6%81%E6%AD%A2%09Polarity%3DNeg%094%09advmod%09_%09SpaceAfter%3DNo%7CTranslit%3Dnone%0A4%09%E6%B2%BB%09%E6%B2%BB%09VERB%09v%2C%E5%8B%95%E8%A9%9E%2C%E8%A1%8C%E7%82%BA%2C%E5%8B%95%E4%BD%9C%09_%091%09conj%09_%09SpaceAfter%3DNo%7CTranslit%3Dgovern%0A5%09%E9%87%8E%09%E9%87%8E%09NOUN%09n%2C%E5%90%8D%E8%A9%9E%2C%E5%9B%BA%E5%AE%9A%E7%89%A9%2C%E5%9C%B0%E5%BD%A2%09Case%3DLoc%096%09nmod%09_%09SpaceAfter%3DNo%7CTranslit%3Duncultivated-land%0A6%09%E4%BA%BA%09%E4%BA%BA%09NOUN%09n%2C%E5%90%8D%E8%A9%9E%2C%E4%BA%BA%2C%E4%BA%BA%09_%094%09obj%09_%09SpaceAfter%3DNo%7CTranslit%3Dperson%0A%0A1%09%E7%84%A1%09%E7%84%A1%09VERB%09v%2C%E5%8B%95%E8%A9%9E%2C%E5%AD%98%E5%9C%A8%2C%E5%AD%98%E5%9C%A8%09Polarity%3DNeg%090%09ROOT%09_%09SpaceAfter%3DNo%7CTranslit%3Dnot-have%0A2%09%E9%87%8E%09%E9%87%8E%09NOUN%09n%2C%E5%90%8D%E8%A9%9E%2C%E5%9B%BA%E5%AE%9A%E7%89%A9%2C%E5%9C%B0%E5%BD%A2%09Case%3DLoc%093%09nmod%09_%09SpaceAfter%3DNo%7CTranslit%3Duncultivated-land%0A3%09%E4%BA%BA%09%E4%BA%BA%09NOUN%09n%2C%E5%90%8D%E8%A9%9E%2C%E4%BA%BA%2C%E4%BA%BA%09_%091%09obj%09_%09SpaceAfter%3DNo%7CTranslit%3Dperson%0A4%09%E8%8E%AB%09%E8%8E%AB%09ADV%09v%2C%E5%89%AF%E8%A9%9E%2C%E5%90%A6%E5%AE%9A%2C%E7%A6%81%E6%AD%A2%09Polarity%3DNeg%095%09advmod%09_%09SpaceAfter%3DNo%7CTranslit%3Dnone%0A5%09%E9%A4%8A%09%E9%A4%8A%09VERB%09v%2C%E5%8B%95%E8%A9%9E%2C%E8%A1%8C%E7%82%BA%2C%E5%8B%95%E4%BD%9C%09_%091%09conj%09_%09SpaceAfter%3DNo%7CTranslit%3Dsupport%0A6%09%E5%90%9B%E5%AD%90%09%E5%90%9B%E5%AD%90%09NOUN%09n%2C%E5%90%8D%E8%A9%9E%2C%E4%BA%BA%2C%E5%BD%B9%E5%89%B2%09_%095%09obj%09_%09SpaceAfter%3DNo%7CTranslit%3Dlord%0A%0A\"\n",
       "            frameborder=\"0\"\n",
       "            allowfullscreen\n",
       "            style=\"background-color: white;\"\n",
       "        ></iframe>\n",
       "        "
      ],
      "text/plain": [
       "<IPython.lib.display.IFrame at 0x7f009ce4c280>"
      ]
     },
     "metadata": {},
     "output_type": "display_data"
    }
   ],
   "source": [
    "ex63 = nlp(\"無君子莫治野人無野人莫養君子\")\n",
    "serve(ex63, 450)"
   ]
  },
  {
   "cell_type": "code",
   "execution_count": 40,
   "metadata": {},
   "outputs": [
    {
     "name": "stderr",
     "output_type": "stream",
     "text": [
      "                                                   \r"
     ]
    },
    {
     "data": {
      "text/html": [
       "\n",
       "        <iframe\n",
       "            width=\"100%\"\n",
       "            height=\"200\"\n",
       "            src=\"https://koichiyasuoka.github.io/deplacy/deplacy/viewer.svg#1%09%E5%A1%97%09%E5%A1%97%09NOUN%09n%2C%E5%90%8D%E8%A9%9E%2C%E5%9B%BA%E5%AE%9A%E7%89%A9%2C%E5%BB%BA%E9%80%A0%E7%89%A9%09Case%3DLoc%092%09nsubj%09_%09SpaceAfter%3DNo%7CTranslit%3Droad%0A2%09%E6%9C%89%09%E6%9C%89%09VERB%09v%2C%E5%8B%95%E8%A9%9E%2C%E5%AD%98%E5%9C%A8%2C%E5%AD%98%E5%9C%A8%09_%090%09ROOT%09_%09SpaceAfter%3DNo%7CTranslit%3Dhave%0A3%09%E9%A4%93%09%E9%A4%93%09VERB%09v%2C%E5%8B%95%E8%A9%9E%2C%E6%8F%8F%E5%86%99%2C%E5%A2%83%E9%81%87%09Degree%3DPos%092%09obj%09_%09SpaceAfter%3DNo%7CTranslit%3Dhungry%0A4%09%E8%8E%A9%09%E8%8E%A9%09VERB%09v%2C%E5%8B%95%E8%A9%9E%2C%E6%8F%8F%E5%86%99%2C%E5%A2%83%E9%81%87%09Degree%3DPos%093%09flat%3Avv%09_%09SpaceAfter%3DNo%7CTranslit%3Dstarve-to-death%0A%0A\"\n",
       "            frameborder=\"0\"\n",
       "            allowfullscreen\n",
       "            style=\"background-color: white;\"\n",
       "        ></iframe>\n",
       "        "
      ],
      "text/plain": [
       "<IPython.lib.display.IFrame at 0x7f009ce473d0>"
      ]
     },
     "metadata": {},
     "output_type": "display_data"
    }
   ],
   "source": [
    "ex64 = nlp(\"塗有餓莩\")\n",
    "serve(ex64)"
   ]
  },
  {
   "cell_type": "code",
   "execution_count": 41,
   "metadata": {},
   "outputs": [
    {
     "name": "stderr",
     "output_type": "stream",
     "text": [
      "                                                   \r"
     ]
    },
    {
     "data": {
      "text/html": [
       "\n",
       "        <iframe\n",
       "            width=\"100%\"\n",
       "            height=\"200\"\n",
       "            src=\"https://koichiyasuoka.github.io/deplacy/deplacy/viewer.svg#1%09%E6%96%BC%09%E6%96%BC%09ADP%09v%2C%E5%89%8D%E7%BD%AE%E8%A9%9E%2C%E5%9F%BA%E7%9B%A4%2C%2A%09_%093%09case%09_%09SpaceAfter%3DNo%7CTranslit%3Dat%0A2%09%E6%88%91%09%E6%88%91%09PRON%09n%2C%E4%BB%A3%E5%90%8D%E8%A9%9E%2C%E4%BA%BA%E7%A7%B0%2C%E6%AD%A2%E6%A0%BC%09Person%3D1%7CPronType%3DPrs%093%09det%09_%09SpaceAfter%3DNo%7CTranslit%3D%5B1PRON%5D%0A3%09%E5%BF%83%09%E5%BF%83%09NOUN%09n%2C%E5%90%8D%E8%A9%9E%2C%E4%B8%8D%E5%8F%AF%E8%AD%B2%2C%E8%BA%AB%E4%BD%93%09_%094%09obl%09_%09SpaceAfter%3DNo%7CTranslit%3Dheart%0A4%09%E6%9C%89%09%E6%9C%89%09VERB%09v%2C%E5%8B%95%E8%A9%9E%2C%E5%AD%98%E5%9C%A8%2C%E5%AD%98%E5%9C%A8%09_%090%09ROOT%09_%09SpaceAfter%3DNo%7CTranslit%3Dhave%0A5%09%E6%88%9A%09%E6%88%9A%09VERB%09v%2C%E5%8B%95%E8%A9%9E%2C%E6%8F%8F%E5%86%99%2C%E6%85%8B%E5%BA%A6%09Degree%3DPos%094%09obj%09_%09SpaceAfter%3DNo%7CTranslit%3Dsad%0A6%09%E6%88%9A%09%E6%88%9A%09VERB%09v%2C%E5%8B%95%E8%A9%9E%2C%E6%8F%8F%E5%86%99%2C%E6%85%8B%E5%BA%A6%09Degree%3DPos%095%09compound%3Aredup%09_%09SpaceAfter%3DNo%7CTranslit%3Dsad%0A7%09%E7%84%89%09%E7%84%89%09PART%09p%2C%E5%8A%A9%E8%A9%9E%2C%E5%8F%A5%E6%9C%AB%2C%2A%09_%094%09obl%09_%09SpaceAfter%3DNo%7CTranslit%3D%5Bfinal-particle%5D%0A%0A\"\n",
       "            frameborder=\"0\"\n",
       "            allowfullscreen\n",
       "            style=\"background-color: white;\"\n",
       "        ></iframe>\n",
       "        "
      ],
      "text/plain": [
       "<IPython.lib.display.IFrame at 0x7f009ce430a0>"
      ]
     },
     "metadata": {},
     "output_type": "display_data"
    }
   ],
   "source": [
    "ex65 = nlp(\"於我心有戚戚焉\")\n",
    "serve(ex65)"
   ]
  },
  {
   "cell_type": "code",
   "execution_count": 42,
   "metadata": {},
   "outputs": [
    {
     "name": "stderr",
     "output_type": "stream",
     "text": [
      "                                                   \r"
     ]
    },
    {
     "data": {
      "text/html": [
       "\n",
       "        <iframe\n",
       "            width=\"100%\"\n",
       "            height=\"350\"\n",
       "            src=\"https://koichiyasuoka.github.io/deplacy/deplacy/viewer.svg#1%09%E7%8E%8B%09%E7%8E%8B%09NOUN%09n%2C%E5%90%8D%E8%A9%9E%2C%E4%BA%BA%2C%E5%BD%B9%E5%89%B2%09_%093%09nmod%09_%09SpaceAfter%3DNo%7CTranslit%3Dking%0A2%09%E4%B9%8B%09%E4%B9%8B%09SCONJ%09p%2C%E5%8A%A9%E8%A9%9E%2C%E6%8E%A5%E7%B6%9A%2C%E5%B1%9E%E6%A0%BC%09_%091%09case%09_%09SpaceAfter%3DNo%7CTranslit%3D%27s%0A3%09%E8%87%A3%09%E8%87%A3%09NOUN%09n%2C%E5%90%8D%E8%A9%9E%2C%E4%BA%BA%2C%E5%BD%B9%E5%89%B2%09_%094%09nsubj%09_%09SpaceAfter%3DNo%7CTranslit%3Dvassal%0A4%09%E6%9C%89%09%E6%9C%89%09VERB%09v%2C%E5%8B%95%E8%A9%9E%2C%E5%AD%98%E5%9C%A8%2C%E5%AD%98%E5%9C%A8%09_%090%09ROOT%09_%09SpaceAfter%3DNo%7CTranslit%3Dhave%0A5%09%E8%A8%97%09%E8%A8%97%09VERB%09v%2C%E5%8B%95%E8%A9%9E%2C%E8%A1%8C%E7%82%BA%2C%E4%BC%9D%E9%81%94%09_%0916%09acl%09_%09SpaceAfter%3DNo%7CTranslit%3Dentrust%0A6%09%E5%85%B6%09%E5%85%B6%09PRON%09n%2C%E4%BB%A3%E5%90%8D%E8%A9%9E%2C%E4%BA%BA%E7%A7%B0%2C%E8%B5%B7%E6%A0%BC%09Person%3D3%7CPronType%3DPrs%097%09det%09_%09SpaceAfter%3DNo%7CTranslit%3D%5B3PRON%5D%0A7%09%E5%A6%BB%09%E5%A6%BB%09NOUN%09n%2C%E5%90%8D%E8%A9%9E%2C%E4%BA%BA%2C%E9%96%A2%E4%BF%82%09_%095%09obj%09_%09SpaceAfter%3DNo%7CTranslit%3Dwife%0A8%09%E5%AD%90%09%E5%AD%90%09NOUN%09n%2C%E5%90%8D%E8%A9%9E%2C%E4%BA%BA%2C%E9%96%A2%E4%BF%82%09_%097%09conj%09_%09SpaceAfter%3DNo%7CTranslit%3Dchild%0A9%09%E6%96%BC%09%E6%96%BC%09ADP%09v%2C%E5%89%8D%E7%BD%AE%E8%A9%9E%2C%E5%9F%BA%E7%9B%A4%2C%2A%09_%0911%09case%09_%09SpaceAfter%3DNo%7CTranslit%3Dat%0A10%09%E5%85%B6%09%E5%85%B6%09PRON%09n%2C%E4%BB%A3%E5%90%8D%E8%A9%9E%2C%E4%BA%BA%E7%A7%B0%2C%E8%B5%B7%E6%A0%BC%09Person%3D3%7CPronType%3DPrs%0911%09det%09_%09SpaceAfter%3DNo%7CTranslit%3D%5B3PRON%5D%0A11%09%E5%8F%8B%09%E5%8F%8B%09NOUN%09n%2C%E5%90%8D%E8%A9%9E%2C%E4%BA%BA%2C%E9%96%A2%E4%BF%82%09_%095%09obl%09_%09SpaceAfter%3DNo%7CTranslit%3Dfriend%0A12%09%E8%80%8C%09%E8%80%8C%09CCONJ%09p%2C%E5%8A%A9%E8%A9%9E%2C%E6%8E%A5%E7%B6%9A%2C%E4%B8%A6%E5%88%97%09_%0913%09cc%09_%09SpaceAfter%3DNo%7CTranslit%3Dand%0A13%09%E4%B9%8B%09%E4%B9%8B%09VERB%09v%2C%E5%8B%95%E8%A9%9E%2C%E8%A1%8C%E7%82%BA%2C%E7%A7%BB%E5%8B%95%09_%095%09conj%09_%09SpaceAfter%3DNo%7CTranslit%3Dgo%0A14%09%E6%A5%9A%09%E6%A5%9A%09PROPN%09n%2C%E5%90%8D%E8%A9%9E%2C%E4%B8%BB%E4%BD%93%2C%E5%9B%BD%E5%90%8D%09Case%3DLoc%7CNameType%3DNat%0913%09obj%09_%09SpaceAfter%3DNo%7CTranslit%3D%5Bcountry-name%5D%0A15%09%E9%81%8A%09%E9%81%8A%09VERB%09v%2C%E5%8B%95%E8%A9%9E%2C%E8%A1%8C%E7%82%BA%2C%E5%8B%95%E4%BD%9C%09_%0913%09conj%09_%09SpaceAfter%3DNo%7CTranslit%3Dwander%0A16%09%E8%80%85%09%EF%A9%9B%09PART%09p%2C%E5%8A%A9%E8%A9%9E%2C%E6%8F%90%E7%A4%BA%2C%2A%09_%094%09obj%09_%09SpaceAfter%3DNo%7CTranslit%3Dthat-which%0A%0A\"\n",
       "            frameborder=\"0\"\n",
       "            allowfullscreen\n",
       "            style=\"background-color: white;\"\n",
       "        ></iframe>\n",
       "        "
      ],
      "text/plain": [
       "<IPython.lib.display.IFrame at 0x7f009ce432e0>"
      ]
     },
     "metadata": {},
     "output_type": "display_data"
    }
   ],
   "source": [
    "ex66 = nlp(\"王之臣有託其妻子於其友而之楚遊者\")\n",
    "serve(ex66, 350)"
   ]
  },
  {
   "cell_type": "code",
   "execution_count": 43,
   "metadata": {},
   "outputs": [
    {
     "name": "stderr",
     "output_type": "stream",
     "text": [
      "                                                   \r"
     ]
    },
    {
     "data": {
      "text/html": [
       "\n",
       "        <iframe\n",
       "            width=\"100%\"\n",
       "            height=\"250\"\n",
       "            src=\"https://koichiyasuoka.github.io/deplacy/deplacy/viewer.svg#1%09%E4%BA%A4%09%E4%BA%A4%09VERB%09v%2C%E5%8B%95%E8%A9%9E%2C%E8%A1%8C%E7%82%BA%2C%E4%BA%A4%E6%B5%81%09_%094%09csubj%09_%09SpaceAfter%3DNo%7CTranslit%3Dcross%0A2%09%E9%84%B0%09%E9%84%B0%09NOUN%09n%2C%E5%90%8D%E8%A9%9E%2C%E5%9B%BA%E5%AE%9A%E7%89%A9%2C%E9%96%A2%E4%BF%82%09Case%3DLoc%093%09nmod%09_%09SpaceAfter%3DNo%7CTranslit%3Dneighbour%0A3%09%E5%9C%8B%09%E5%9C%8B%09NOUN%09n%2C%E5%90%8D%E8%A9%9E%2C%E4%B8%BB%E4%BD%93%2C%E9%9B%86%E5%9B%A3%09_%091%09obj%09_%09SpaceAfter%3DNo%7CTranslit%3Dcountry%0A4%09%E6%9C%89%09%E6%9C%89%09VERB%09v%2C%E5%8B%95%E8%A9%9E%2C%E5%AD%98%E5%9C%A8%2C%E5%AD%98%E5%9C%A8%09_%090%09ROOT%09_%09SpaceAfter%3DNo%7CTranslit%3Dhave%0A5%09%E9%81%93%09%E9%81%93%09NOUN%09n%2C%E5%90%8D%E8%A9%9E%2C%E5%88%B6%E5%BA%A6%2C%E5%84%80%E7%A4%BC%09_%094%09obj%09_%09SpaceAfter%3DNo%7CTranslit%3Ddoctrine%0A6%09%E4%B9%8E%09%E4%B9%8E%09PART%09p%2C%E5%8A%A9%E8%A9%9E%2C%E5%8F%A5%E6%9C%AB%2C%2A%09_%094%09discourse%3Asp%09_%09SpaceAfter%3DNo%7CTranslit%3D%5BQ%5D%0A%0A\"\n",
       "            frameborder=\"0\"\n",
       "            allowfullscreen\n",
       "            style=\"background-color: white;\"\n",
       "        ></iframe>\n",
       "        "
      ],
      "text/plain": [
       "<IPython.lib.display.IFrame at 0x7f009ce4cf70>"
      ]
     },
     "metadata": {},
     "output_type": "display_data"
    }
   ],
   "source": [
    "ex67 = nlp(\"交鄰國有道乎\")\n",
    "serve(ex67, 250)"
   ]
  },
  {
   "cell_type": "markdown",
   "metadata": {},
   "source": [
    "## Transitive Verbs with Two Objects"
   ]
  },
  {
   "cell_type": "code",
   "execution_count": 44,
   "metadata": {},
   "outputs": [
    {
     "name": "stderr",
     "output_type": "stream",
     "text": [
      "                                                   \r"
     ]
    },
    {
     "data": {
      "text/html": [
       "\n",
       "        <iframe\n",
       "            width=\"100%\"\n",
       "            height=\"200\"\n",
       "            src=\"https://koichiyasuoka.github.io/deplacy/deplacy/viewer.svg#1%09%E8%83%BD%09%E8%83%BD%09AUX%09v%2C%E5%8A%A9%E5%8B%95%E8%A9%9E%2C%E5%8F%AF%E8%83%BD%2C%2A%09Mood%3DPot%092%09aux%09_%09SpaceAfter%3DNo%7CTranslit%3Dcan%0A2%09%E8%88%87%09%E8%88%87%09VERB%09v%2C%E5%8B%95%E8%A9%9E%2C%E8%A1%8C%E7%82%BA%2C%E4%BA%A4%E6%B5%81%09_%090%09ROOT%09_%09SpaceAfter%3DNo%7CTranslit%3Dparticipate%0A3%09%E4%BA%BA%09%E4%BA%BA%09NOUN%09n%2C%E5%90%8D%E8%A9%9E%2C%E4%BA%BA%2C%E4%BA%BA%09_%092%09iobj%09_%09SpaceAfter%3DNo%7CTranslit%3Dperson%0A4%09%E8%A6%8F%09%E8%A6%8F%09NOUN%09n%2C%E5%90%8D%E8%A9%9E%2C%E5%8F%AF%E6%90%AC%2C%E9%81%93%E5%85%B7%09_%092%09obj%09_%09SpaceAfter%3DNo%7CTranslit%3Dcompasses%0A5%09%E7%9F%A9%09%E7%9F%A9%09NOUN%09n%2C%E5%90%8D%E8%A9%9E%2C%E5%8F%AF%E6%90%AC%2C%E9%81%93%E5%85%B7%09_%094%09conj%09_%09SpaceAfter%3DNo%7CTranslit%3Dcarpenter%27s-squeare%0A%0A\"\n",
       "            frameborder=\"0\"\n",
       "            allowfullscreen\n",
       "            style=\"background-color: white;\"\n",
       "        ></iframe>\n",
       "        "
      ],
      "text/plain": [
       "<IPython.lib.display.IFrame at 0x7f009ce4c730>"
      ]
     },
     "metadata": {},
     "output_type": "display_data"
    }
   ],
   "source": [
    "ex68 = nlp(\"能與人規矩\")\n",
    "serve(ex68)"
   ]
  },
  {
   "cell_type": "code",
   "execution_count": 45,
   "metadata": {},
   "outputs": [
    {
     "name": "stderr",
     "output_type": "stream",
     "text": [
      "                                                   \r"
     ]
    },
    {
     "data": {
      "text/html": [
       "\n",
       "        <iframe\n",
       "            width=\"100%\"\n",
       "            height=\"200\"\n",
       "            src=\"https://koichiyasuoka.github.io/deplacy/deplacy/viewer.svg#1%09%E6%8E%88%09%E6%8E%88%09VERB%09v%2C%E5%8B%95%E8%A9%9E%2C%E8%A1%8C%E7%82%BA%2C%E5%BE%97%E5%A4%B1%09_%090%09ROOT%09_%09SpaceAfter%3DNo%7CTranslit%3Dgive%0A2%09%E5%AD%9F%E5%AD%90%09%E5%AD%9F%E5%AD%90%09PROPN%09n%2C%E5%90%8D%E8%A9%9E%2C%E4%BA%BA%2C%E8%A4%87%E5%90%88%E7%9A%84%E4%BA%BA%E5%90%8D%09NameType%3DPrs%093%09nmod%09_%09SpaceAfter%3DNo%7CTranslit%3DMencius%0A3%09%E5%AE%A4%09%E5%AE%A4%09NOUN%09n%2C%E5%90%8D%E8%A9%9E%2C%E5%9B%BA%E5%AE%9A%E7%89%A9%2C%E5%BB%BA%E9%80%A0%E7%89%A9%09Case%3DLoc%091%09obj%09_%09SpaceAfter%3DNo%7CTranslit%3Droom%0A%0A\"\n",
       "            frameborder=\"0\"\n",
       "            allowfullscreen\n",
       "            style=\"background-color: white;\"\n",
       "        ></iframe>\n",
       "        "
      ],
      "text/plain": [
       "<IPython.lib.display.IFrame at 0x7f009ce4c100>"
      ]
     },
     "metadata": {},
     "output_type": "display_data"
    }
   ],
   "source": [
    "ex69 = nlp(\"授孟子室\")\n",
    "serve(ex69)"
   ]
  },
  {
   "cell_type": "code",
   "execution_count": 46,
   "metadata": {},
   "outputs": [
    {
     "name": "stderr",
     "output_type": "stream",
     "text": [
      "                                                   \r"
     ]
    },
    {
     "data": {
      "text/html": [
       "\n",
       "        <iframe\n",
       "            width=\"100%\"\n",
       "            height=\"200\"\n",
       "            src=\"https://koichiyasuoka.github.io/deplacy/deplacy/viewer.svg#1%09%E5%90%8E%E7%A8%B7%09%E5%90%8E%E7%A8%B7%09PROPN%09n%2C%E5%90%8D%E8%A9%9E%2C%E4%BA%BA%2C%E8%A4%87%E5%90%88%E7%9A%84%E4%BA%BA%E5%90%8D%09NameType%3DPrs%092%09nsubj%09_%09SpaceAfter%3DNo%7CTranslit%3DHouji%0A2%09%E6%95%99%09%E6%95%8E%09VERB%09v%2C%E5%8B%95%E8%A9%9E%2C%E8%A1%8C%E7%82%BA%2C%E4%BC%9D%E9%81%94%09_%090%09ROOT%09_%09SpaceAfter%3DNo%7CTranslit%3Dteach%0A3%09%E4%BA%BA%09%E4%BA%BA%09NOUN%09n%2C%E5%90%8D%E8%A9%9E%2C%E4%BA%BA%2C%E4%BA%BA%09_%092%09iobj%09_%09SpaceAfter%3DNo%7CTranslit%3Dperson%0A4%09%E7%A8%BC%09%E7%A8%BC%09VERB%09v%2C%E5%8B%95%E8%A9%9E%2C%E8%A1%8C%E7%82%BA%2C%E5%8B%95%E4%BD%9C%09_%092%09obj%09_%09SpaceAfter%3DNo%7CTranslit%3Dsow-grain%0A5%09%E7%A9%91%09%E7%A9%A1%09VERB%09v%2C%E5%8B%95%E8%A9%9E%2C%E8%A1%8C%E7%82%BA%2C%E5%8B%95%E4%BD%9C%09_%094%09flat%3Avv%09_%09SpaceAfter%3DNo%7CTranslit%3Dharvest%0A%0A\"\n",
       "            frameborder=\"0\"\n",
       "            allowfullscreen\n",
       "            style=\"background-color: white;\"\n",
       "        ></iframe>\n",
       "        "
      ],
      "text/plain": [
       "<IPython.lib.display.IFrame at 0x7f009ce47d90>"
      ]
     },
     "metadata": {},
     "output_type": "display_data"
    }
   ],
   "source": [
    "ex70 = nlp(\"后稷教人稼穑\")\n",
    "serve(ex70)"
   ]
  },
  {
   "cell_type": "code",
   "execution_count": 48,
   "metadata": {},
   "outputs": [
    {
     "name": "stderr",
     "output_type": "stream",
     "text": [
      "                                                   \r"
     ]
    },
    {
     "data": {
      "text/html": [
       "\n",
       "        <iframe\n",
       "            width=\"100%\"\n",
       "            height=\"250\"\n",
       "            src=\"https://koichiyasuoka.github.io/deplacy/deplacy/viewer.svg#1%09%E5%A0%AF%09%E5%A0%AF%09PROPN%09n%2C%E5%90%8D%E8%A9%9E%2C%E4%BA%BA%2C%E5%90%8D%09NameType%3DGiv%095%09nsubj%09_%09SpaceAfter%3DNo%7CTranslit%3D%5Bgiven-name%5D%0A2%09%E4%BB%A5%09%E4%BB%A5%09VERB%09v%2C%E5%8B%95%E8%A9%9E%2C%E8%A1%8C%E7%82%BA%2C%E5%8B%95%E4%BD%9C%09_%095%09advcl%09_%09SpaceAfter%3DNo%7CTranslit%3Duse%0A3%09%E5%A4%A9%09%E5%A4%A9%09NOUN%09n%2C%E5%90%8D%E8%A9%9E%2C%E5%88%B6%E5%BA%A6%2C%E5%A0%B4%09Case%3DLoc%094%09compound%09_%09SpaceAfter%3DNo%7CTranslit%3Dheaven%0A4%09%E4%B8%8B%09%E4%B8%8B%09NOUN%09n%2C%E5%90%8D%E8%A9%9E%2C%E5%9B%BA%E5%AE%9A%E7%89%A9%2C%E9%96%A2%E4%BF%82%09Case%3DLoc%092%09obj%09_%09SpaceAfter%3DNo%7CTranslit%3Ddown%0A5%09%E8%88%87%09%E8%88%87%09VERB%09v%2C%E5%8B%95%E8%A9%9E%2C%E8%A1%8C%E7%82%BA%2C%E4%BA%A4%E6%B5%81%09_%090%09ROOT%09_%09SpaceAfter%3DNo%7CTranslit%3Dparticipate%0A6%09%E8%88%9C%09%E8%88%9C%09PROPN%09n%2C%E5%90%8D%E8%A9%9E%2C%E4%BA%BA%2C%E5%90%8D%09NameType%3DGiv%095%09obj%09_%09SpaceAfter%3DNo%7CTranslit%3D%5Bgiven-name%5D%0A%0A\"\n",
       "            frameborder=\"0\"\n",
       "            allowfullscreen\n",
       "            style=\"background-color: white;\"\n",
       "        ></iframe>\n",
       "        "
      ],
      "text/plain": [
       "<IPython.lib.display.IFrame at 0x7f009ce9dc70>"
      ]
     },
     "metadata": {},
     "output_type": "display_data"
    }
   ],
   "source": [
    "ex71 = nlp(\"堯以天下與舜\")\n",
    "serve(ex71, 250)"
   ]
  },
  {
   "cell_type": "code",
   "execution_count": 49,
   "metadata": {},
   "outputs": [
    {
     "name": "stderr",
     "output_type": "stream",
     "text": [
      "                                                   \r"
     ]
    },
    {
     "data": {
      "text/html": [
       "\n",
       "        <iframe\n",
       "            width=\"100%\"\n",
       "            height=\"200\"\n",
       "            src=\"https://koichiyasuoka.github.io/deplacy/deplacy/viewer.svg#1%09%E6%95%99%09%E6%95%8E%09VERB%09v%2C%E5%8B%95%E8%A9%9E%2C%E8%A1%8C%E7%82%BA%2C%E4%BC%9D%E9%81%94%09_%090%09ROOT%09_%09SpaceAfter%3DNo%7CTranslit%3Dteach%0A2%09%E4%BA%BA%09%E4%BA%BA%09NOUN%09n%2C%E5%90%8D%E8%A9%9E%2C%E4%BA%BA%2C%E4%BA%BA%09_%091%09obj%09_%09SpaceAfter%3DNo%7CTranslit%3Dperson%0A3%09%E4%BB%A5%09%E4%BB%A5%09VERB%09v%2C%E5%8B%95%E8%A9%9E%2C%E8%A1%8C%E7%82%BA%2C%E5%8B%95%E4%BD%9C%09_%091%09advcl%09_%09SpaceAfter%3DNo%7CTranslit%3Duse%0A4%09%E5%96%84%09%E5%96%84%09NOUN%09n%2C%E5%90%8D%E8%A9%9E%2C%E6%8F%8F%E5%86%99%2C%E6%85%8B%E5%BA%A6%09_%093%09obj%09_%09SpaceAfter%3DNo%7CTranslit%3Dgood%0A%0A\"\n",
       "            frameborder=\"0\"\n",
       "            allowfullscreen\n",
       "            style=\"background-color: white;\"\n",
       "        ></iframe>\n",
       "        "
      ],
      "text/plain": [
       "<IPython.lib.display.IFrame at 0x7f009ce43130>"
      ]
     },
     "metadata": {},
     "output_type": "display_data"
    }
   ],
   "source": [
    "ex72 = nlp(\"教人以善\")\n",
    "serve(ex72)"
   ]
  },
  {
   "cell_type": "code",
   "execution_count": 50,
   "metadata": {},
   "outputs": [
    {
     "name": "stderr",
     "output_type": "stream",
     "text": [
      "                                                   \r"
     ]
    },
    {
     "data": {
      "text/html": [
       "\n",
       "        <iframe\n",
       "            width=\"100%\"\n",
       "            height=\"200\"\n",
       "            src=\"https://koichiyasuoka.github.io/deplacy/deplacy/viewer.svg#1%09%E4%BB%A5%09%E4%BB%A5%09VERB%09v%2C%E5%8B%95%E8%A9%9E%2C%E8%A1%8C%E7%82%BA%2C%E5%8B%95%E4%BD%9C%09_%092%09advmod%09_%09SpaceAfter%3DNo%7CTranslit%3Duse%0A2%09%E5%91%8A%09%E5%90%BF%09VERB%09v%2C%E5%8B%95%E8%A9%9E%2C%E8%A1%8C%E7%82%BA%2C%E4%BC%9D%E9%81%94%09_%090%09ROOT%09_%09SpaceAfter%3DNo%7CTranslit%3Dproclaim%0A3%09%E5%AD%9F%E5%AD%90%09%E5%AD%9F%E5%AD%90%09PROPN%09n%2C%E5%90%8D%E8%A9%9E%2C%E4%BA%BA%2C%E8%A4%87%E5%90%88%E7%9A%84%E4%BA%BA%E5%90%8D%09NameType%3DPrs%092%09obj%09_%09SpaceAfter%3DNo%7CTranslit%3DMencius%0A%0A\"\n",
       "            frameborder=\"0\"\n",
       "            allowfullscreen\n",
       "            style=\"background-color: white;\"\n",
       "        ></iframe>\n",
       "        "
      ],
      "text/plain": [
       "<IPython.lib.display.IFrame at 0x7f009ce9da60>"
      ]
     },
     "metadata": {},
     "output_type": "display_data"
    }
   ],
   "source": [
    "ex73 = nlp(\"以告孟子\")\n",
    "serve(ex73)"
   ]
  },
  {
   "cell_type": "code",
   "execution_count": 51,
   "metadata": {},
   "outputs": [
    {
     "name": "stderr",
     "output_type": "stream",
     "text": [
      "                                                   \r"
     ]
    },
    {
     "data": {
      "text/html": [
       "\n",
       "        <iframe\n",
       "            width=\"100%\"\n",
       "            height=\"200\"\n",
       "            src=\"https://koichiyasuoka.github.io/deplacy/deplacy/viewer.svg#1%09%E4%B8%8D%09%E4%B8%8D%09ADV%09v%2C%E5%89%AF%E8%A9%9E%2C%E5%90%A6%E5%AE%9A%2C%E7%84%A1%E7%95%8C%09Polarity%3DNeg%092%09advmod%09_%09SpaceAfter%3DNo%7CTranslit%3Dnot%0A2%09%E5%91%8A%09%E5%90%BF%09VERB%09v%2C%E5%8B%95%E8%A9%9E%2C%E8%A1%8C%E7%82%BA%2C%E4%BC%9D%E9%81%94%09_%090%09ROOT%09_%09SpaceAfter%3DNo%7CTranslit%3Dproclaim%0A3%09%E6%96%BC%09%E6%96%BC%09ADP%09v%2C%E5%89%8D%E7%BD%AE%E8%A9%9E%2C%E5%9F%BA%E7%9B%A4%2C%2A%09_%094%09case%09_%09SpaceAfter%3DNo%7CTranslit%3Dat%0A4%09%E7%8E%8B%09%E7%8E%8B%09NOUN%09n%2C%E5%90%8D%E8%A9%9E%2C%E4%BA%BA%2C%E5%BD%B9%E5%89%B2%09_%092%09obl%09_%09SpaceAfter%3DNo%7CTranslit%3Dking%0A%0A\"\n",
       "            frameborder=\"0\"\n",
       "            allowfullscreen\n",
       "            style=\"background-color: white;\"\n",
       "        ></iframe>\n",
       "        "
      ],
      "text/plain": [
       "<IPython.lib.display.IFrame at 0x7f009ce4caf0>"
      ]
     },
     "metadata": {},
     "output_type": "display_data"
    }
   ],
   "source": [
    "ex74 = nlp(\"不告於王\")\n",
    "serve(ex74)"
   ]
  },
  {
   "cell_type": "code",
   "execution_count": 55,
   "metadata": {},
   "outputs": [
    {
     "name": "stderr",
     "output_type": "stream",
     "text": [
      "                                                   \r"
     ]
    },
    {
     "data": {
      "text/html": [
       "\n",
       "        <iframe\n",
       "            width=\"100%\"\n",
       "            height=\"450\"\n",
       "            src=\"https://koichiyasuoka.github.io/deplacy/deplacy/viewer.svg#1%09%E5%8D%97%09%E5%8D%97%09PROPN%09n%2C%E5%90%8D%E8%A9%9E%2C%E4%BA%BA%2C%E5%A7%93%E6%B0%8F%09NameType%3DSur%093%09nsubj%09_%09SpaceAfter%3DNo%7CTranslit%3D%5Bsurname%5D%0A2%09%E6%B0%8F%09%E6%B0%8F%09NOUN%09n%2C%E5%90%8D%E8%A9%9E%2C%E4%B8%8D%E5%8F%AF%E8%AD%B2%2C%E5%B1%9E%E6%80%A7%09_%091%09flat%09_%09SpaceAfter%3DNo%7CTranslit%3Dlineage%0A3%09%E7%94%9F%09%E7%94%9F%09VERB%09v%2C%E5%8B%95%E8%A9%9E%2C%E5%A4%89%E5%8C%96%2C%E7%94%9F%E7%89%A9%09_%090%09ROOT%09_%09SpaceAfter%3DNo%7CTranslit%3Dalive%0A4%09%E7%94%B7%09%E7%94%B7%09NOUN%09n%2C%E5%90%8D%E8%A9%9E%2C%E4%BA%BA%2C%E9%96%A2%E4%BF%82%09_%093%09obj%09_%09SpaceAfter%3DNo%7CTranslit%3Dson%0A%0A1%09%E5%89%87%09%E5%89%87%09ADV%09v%2C%E5%89%AF%E8%A9%9E%2C%E6%99%82%E7%9B%B8%2C%E7%B7%8A%E6%8E%A5%09AdvType%3DTim%093%09advmod%09_%09SpaceAfter%3DNo%7CTranslit%3Dthen%0A2%09%E4%BB%A5%09%E4%BB%A5%09VERB%09v%2C%E5%8B%95%E8%A9%9E%2C%E8%A1%8C%E7%82%BA%2C%E5%8B%95%E4%BD%9C%09_%093%09advmod%09_%09SpaceAfter%3DNo%7CTranslit%3Duse%0A3%09%E5%91%8A%09%E5%90%BF%09VERB%09v%2C%E5%8B%95%E8%A9%9E%2C%E8%A1%8C%E7%82%BA%2C%E4%BC%9D%E9%81%94%09_%090%09ROOT%09_%09SpaceAfter%3DNo%7CTranslit%3Dproclaim%0A4%09%E6%96%BC%09%E6%96%BC%09ADP%09v%2C%E5%89%8D%E7%BD%AE%E8%A9%9E%2C%E5%9F%BA%E7%9B%A4%2C%2A%09_%095%09case%09_%09SpaceAfter%3DNo%7CTranslit%3Dat%0A5%09%E5%90%9B%09%E5%90%9B%09NOUN%09n%2C%E5%90%8D%E8%A9%9E%2C%E4%BA%BA%2C%E5%BD%B9%E5%89%B2%09_%093%09obl%09_%09SpaceAfter%3DNo%7CTranslit%3Druler%0A6%09%E8%88%87%09%E8%88%87%09ADP%09v%2C%E5%89%8D%E7%BD%AE%E8%A9%9E%2C%E9%96%A2%E4%BF%82%2C%2A%09_%098%09cc%09_%09SpaceAfter%3DNo%7CTranslit%3Dassociate-with%0A7%09%E5%A4%A7%09%E5%A4%A7%09VERB%09v%2C%E5%8B%95%E8%A9%9E%2C%E6%8F%8F%E5%86%99%2C%E9%87%8F%09Degree%3DPos%098%09amod%09_%09SpaceAfter%3DNo%7CTranslit%3Dbig%0A8%09%E5%A4%AB%09%E5%A4%AB%09NOUN%09n%2C%E5%90%8D%E8%A9%9E%2C%E4%BA%BA%2C%E4%BA%BA%09_%095%09conj%09_%09SpaceAfter%3DNo%7CTranslit%3Dmale-person%0A9%09%E8%80%8C%09%E8%80%8C%09CCONJ%09p%2C%E5%8A%A9%E8%A9%9E%2C%E6%8E%A5%E7%B6%9A%2C%E4%B8%A6%E5%88%97%09_%0910%09cc%09_%09SpaceAfter%3DNo%7CTranslit%3Dand%0A10%09%E7%AB%8B%09%E7%AB%8B%09VERB%09v%2C%E5%8B%95%E8%A9%9E%2C%E8%A1%8C%E7%82%BA%2C%E5%A7%BF%E5%8B%A2%09_%093%09conj%09_%09SpaceAfter%3DNo%7CTranslit%3Dstand%0A11%09%E4%B9%8B%09%E4%B9%8B%09PRON%09n%2C%E4%BB%A3%E5%90%8D%E8%A9%9E%2C%E4%BA%BA%E7%A7%B0%2C%E6%AD%A2%E6%A0%BC%09Person%3D3%7CPronType%3DPrs%0910%09obj%09_%09SpaceAfter%3DNo%7CTranslit%3D%5B3PRON%5D%0A%0A\"\n",
       "            frameborder=\"0\"\n",
       "            allowfullscreen\n",
       "            style=\"background-color: white;\"\n",
       "        ></iframe>\n",
       "        "
      ],
      "text/plain": [
       "<IPython.lib.display.IFrame at 0x7f009ce4c790>"
      ]
     },
     "metadata": {},
     "output_type": "display_data"
    }
   ],
   "source": [
    "ex75 = nlp(\"南氏生男則以告於君與大夫而立之\")\n",
    "serve(ex75, 450)"
   ]
  },
  {
   "cell_type": "code",
   "execution_count": 56,
   "metadata": {},
   "outputs": [
    {
     "name": "stderr",
     "output_type": "stream",
     "text": [
      "                                                   \r"
     ]
    },
    {
     "data": {
      "text/html": [
       "\n",
       "        <iframe\n",
       "            width=\"100%\"\n",
       "            height=\"200\"\n",
       "            src=\"https://koichiyasuoka.github.io/deplacy/deplacy/viewer.svg#1%09%E5%A5%AA%09%E5%A5%AA%09VERB%09v%2C%E5%8B%95%E8%A9%9E%2C%E8%A1%8C%E7%82%BA%2C%E5%BE%97%E5%A4%B1%09_%090%09ROOT%09_%09SpaceAfter%3DNo%7CTranslit%3Ddeprive%0A2%09%E4%B9%8B%09%E4%B9%8B%09PRON%09n%2C%E4%BB%A3%E5%90%8D%E8%A9%9E%2C%E4%BA%BA%E7%A7%B0%2C%E6%AD%A2%E6%A0%BC%09Person%3D3%7CPronType%3DPrs%091%09iobj%09_%09SpaceAfter%3DNo%7CTranslit%3D%5B3PRON%5D%0A3%09%E9%A3%9F%09%E9%A3%9F%09NOUN%09n%2C%E5%90%8D%E8%A9%9E%2C%E5%8F%AF%E6%90%AC%2C%E7%B3%A7%E9%A3%9F%09_%091%09obj%09_%09SpaceAfter%3DNo%7CTranslit%3Dfood%0A%0A\"\n",
       "            frameborder=\"0\"\n",
       "            allowfullscreen\n",
       "            style=\"background-color: white;\"\n",
       "        ></iframe>\n",
       "        "
      ],
      "text/plain": [
       "<IPython.lib.display.IFrame at 0x7f009ad70880>"
      ]
     },
     "metadata": {},
     "output_type": "display_data"
    }
   ],
   "source": [
    "ex76 = nlp(\"奪之食\")\n",
    "serve(ex76)"
   ]
  },
  {
   "cell_type": "code",
   "execution_count": 58,
   "metadata": {},
   "outputs": [
    {
     "name": "stderr",
     "output_type": "stream",
     "text": [
      "                                                   \r"
     ]
    },
    {
     "data": {
      "text/html": [
       "\n",
       "        <iframe\n",
       "            width=\"100%\"\n",
       "            height=\"300\"\n",
       "            src=\"https://koichiyasuoka.github.io/deplacy/deplacy/viewer.svg#1%09%E5%90%BE%09%E5%90%BE%09PRON%09n%2C%E4%BB%A3%E5%90%8D%E8%A9%9E%2C%E4%BA%BA%E7%A7%B0%2C%E8%B5%B7%E6%A0%BC%09Person%3D1%7CPronType%3DPrs%093%09nsubj%09_%09SpaceAfter%3DNo%7CTranslit%3D%5B1PRON%5D%0A2%09%E5%98%97%09%E5%98%97%09ADV%09v%2C%E5%89%AF%E8%A9%9E%2C%E6%99%82%E7%9B%B8%2C%E9%81%8E%E5%8E%BB%09AdvType%3DTim%7CTense%3DPast%093%09advmod%09_%09SpaceAfter%3DNo%7CTranslit%3Donce%0A3%09%E8%81%9E%09%E8%81%9E%09VERB%09v%2C%E5%8B%95%E8%A9%9E%2C%E8%A1%8C%E7%82%BA%2C%E4%BC%9D%E9%81%94%09_%090%09ROOT%09_%09SpaceAfter%3DNo%7CTranslit%3Dhear%0A4%09%E5%A4%A7%09%E5%A4%A7%09VERB%09v%2C%E5%8B%95%E8%A9%9E%2C%E6%8F%8F%E5%86%99%2C%E9%87%8F%09Degree%3DPos%095%09amod%09_%09SpaceAfter%3DNo%7CTranslit%3Dbig%0A5%09%E5%8B%87%09%E5%8B%87%09NOUN%09n%2C%E5%90%8D%E8%A9%9E%2C%E6%8F%8F%E5%86%99%2C%E6%85%8B%E5%BA%A6%09_%093%09obj%09_%09SpaceAfter%3DNo%7CTranslit%3Dbravery%0A6%09%E6%96%BC%09%E6%96%BC%09ADP%09v%2C%E5%89%8D%E7%BD%AE%E8%A9%9E%2C%E5%9F%BA%E7%9B%A4%2C%2A%09_%097%09case%09_%09SpaceAfter%3DNo%7CTranslit%3Dat%0A7%09%E5%A4%AB%E5%AD%90%09%E5%A4%AB%E5%AD%90%09NOUN%09n%2C%E5%90%8D%E8%A9%9E%2C%E4%BA%BA%2C%E4%BA%BA%09_%093%09obl%09_%09SpaceAfter%3DNo%7CTranslit%3Dmaster%0A8%09%E7%9F%A3%09%E7%9F%A3%09PART%09p%2C%E5%8A%A9%E8%A9%9E%2C%E5%8F%A5%E6%9C%AB%2C%2A%09_%093%09discourse%3Asp%09_%09SpaceAfter%3DNo%7CTranslit%3D%5BPFV%5D%0A%0A\"\n",
       "            frameborder=\"0\"\n",
       "            allowfullscreen\n",
       "            style=\"background-color: white;\"\n",
       "        ></iframe>\n",
       "        "
      ],
      "text/plain": [
       "<IPython.lib.display.IFrame at 0x7f009ce9d130>"
      ]
     },
     "metadata": {},
     "output_type": "display_data"
    }
   ],
   "source": [
    "ex77 = nlp(\"吾嘗聞大勇於夫子矣\")\n",
    "serve(ex77, 300)"
   ]
  },
  {
   "cell_type": "code",
   "execution_count": 60,
   "metadata": {},
   "outputs": [
    {
     "name": "stderr",
     "output_type": "stream",
     "text": [
      "                                                   \r"
     ]
    },
    {
     "data": {
      "text/html": [
       "\n",
       "        <iframe\n",
       "            width=\"100%\"\n",
       "            height=\"250\"\n",
       "            src=\"https://koichiyasuoka.github.io/deplacy/deplacy/viewer.svg#1%09%E8%87%A3%09%E8%87%A3%09NOUN%09n%2C%E5%90%8D%E8%A9%9E%2C%E4%BA%BA%2C%E5%BD%B9%E5%89%B2%09_%092%09nsubj%09_%09SpaceAfter%3DNo%7CTranslit%3Dvassal%0A2%09%E8%81%9E%09%E8%81%9E%09VERB%09v%2C%E5%8B%95%E8%A9%9E%2C%E8%A1%8C%E7%82%BA%2C%E4%BC%9D%E9%81%94%09_%090%09ROOT%09_%09SpaceAfter%3DNo%7CTranslit%3Dhear%0A3%09%E4%B9%8B%09%E4%B9%8B%09PRON%09n%2C%E4%BB%A3%E5%90%8D%E8%A9%9E%2C%E4%BA%BA%E7%A7%B0%2C%E6%AD%A2%E6%A0%BC%09Person%3D3%7CPronType%3DPrs%092%09iobj%09_%09SpaceAfter%3DNo%7CTranslit%3D%5B3PRON%5D%0A4%09%E8%83%A1%E9%BD%95%09%E8%83%A1%E9%BD%95%09PROPN%09n%2C%E5%90%8D%E8%A9%9E%2C%E4%BA%BA%2C%E8%A4%87%E5%90%88%E7%9A%84%E4%BA%BA%E5%90%8D%09NameType%3DPrs%092%09obj%09_%09SpaceAfter%3DNo%7CTranslit%3DHuhe%0A5%09%E6%9B%B0%09%E6%9B%B0%09VERB%09v%2C%E5%8B%95%E8%A9%9E%2C%E8%A1%8C%E7%82%BA%2C%E4%BC%9D%E9%81%94%09_%092%09parataxis%09_%09SpaceAfter%3DNo%7CTranslit%3Dsay%0A%0A\"\n",
       "            frameborder=\"0\"\n",
       "            allowfullscreen\n",
       "            style=\"background-color: white;\"\n",
       "        ></iframe>\n",
       "        "
      ],
      "text/plain": [
       "<IPython.lib.display.IFrame at 0x7f009ce9d640>"
      ]
     },
     "metadata": {},
     "output_type": "display_data"
    }
   ],
   "source": [
    "ex78 = nlp(\"臣聞之胡齕曰\")\n",
    "serve(ex78, 250)"
   ]
  },
  {
   "cell_type": "code",
   "execution_count": 62,
   "metadata": {},
   "outputs": [
    {
     "name": "stderr",
     "output_type": "stream",
     "text": [
      "                                                   \r"
     ]
    },
    {
     "data": {
      "text/html": [
       "\n",
       "        <iframe\n",
       "            width=\"100%\"\n",
       "            height=\"250\"\n",
       "            src=\"https://koichiyasuoka.github.io/deplacy/deplacy/viewer.svg#1%09%E6%88%96%09%E6%88%96%09PRON%09n%2C%E4%BB%A3%E5%90%8D%E8%A9%9E%2C%E4%BA%BA%E7%A7%B0%2C%E8%B5%B7%E6%A0%BC%09PronType%3DPrs%092%09nsubj%09_%09SpaceAfter%3DNo%7CTranslit%3Dsomeone%0A2%09%E5%95%8F%09%E5%95%8F%09VERB%09v%2C%E5%8B%95%E8%A9%9E%2C%E8%A1%8C%E7%82%BA%2C%E4%BC%9D%E9%81%94%09_%090%09ROOT%09_%09SpaceAfter%3DNo%7CTranslit%3Dask%0A3%09%E4%B9%8E%09%E4%B9%8E%09ADP%09v%2C%E5%89%8D%E7%BD%AE%E8%A9%9E%2C%E5%9F%BA%E7%9B%A4%2C%2A%09_%094%09case%09_%09SpaceAfter%3DNo%7CTranslit%3Dat%0A4%09%E6%9B%BE%09%E6%9B%BE%09PROPN%09n%2C%E5%90%8D%E8%A9%9E%2C%E4%BA%BA%2C%E5%A7%93%E6%B0%8F%09NameType%3DSur%092%09obl%09_%09SpaceAfter%3DNo%7CTranslit%3D%5Bsurname%5D%0A5%09%E8%A5%BF%09%E8%A5%BF%09PROPN%09n%2C%E5%90%8D%E8%A9%9E%2C%E4%BA%BA%2C%E5%90%8D%09NameType%3DGiv%094%09flat%09_%09SpaceAfter%3DNo%7CTranslit%3D%5Bgiven-name%5D%0A6%09%E6%9B%B0%09%E6%9B%B0%09VERB%09v%2C%E5%8B%95%E8%A9%9E%2C%E8%A1%8C%E7%82%BA%2C%E4%BC%9D%E9%81%94%09_%092%09parataxis%09_%09SpaceAfter%3DNo%7CTranslit%3Dsay%0A%0A\"\n",
       "            frameborder=\"0\"\n",
       "            allowfullscreen\n",
       "            style=\"background-color: white;\"\n",
       "        ></iframe>\n",
       "        "
      ],
      "text/plain": [
       "<IPython.lib.display.IFrame at 0x7f009ad70cd0>"
      ]
     },
     "metadata": {},
     "output_type": "display_data"
    }
   ],
   "source": [
    "ex79 = nlp(\"或問乎曾西曰\")\n",
    "serve(ex79, 250)"
   ]
  },
  {
   "cell_type": "code",
   "execution_count": 63,
   "metadata": {},
   "outputs": [
    {
     "name": "stderr",
     "output_type": "stream",
     "text": [
      "                                                   \r"
     ]
    },
    {
     "data": {
      "text/html": [
       "\n",
       "        <iframe\n",
       "            width=\"100%\"\n",
       "            height=\"200\"\n",
       "            src=\"https://koichiyasuoka.github.io/deplacy/deplacy/viewer.svg#1%09%E6%88%96%09%E6%88%96%09PRON%09n%2C%E4%BB%A3%E5%90%8D%E8%A9%9E%2C%E4%BA%BA%E7%A7%B0%2C%E8%B5%B7%E6%A0%BC%09PronType%3DPrs%092%09nsubj%09_%09SpaceAfter%3DNo%7CTranslit%3Dsomeone%0A2%09%E5%95%8F%09%E5%95%8F%09VERB%09v%2C%E5%8B%95%E8%A9%9E%2C%E8%A1%8C%E7%82%BA%2C%E4%BC%9D%E9%81%94%09_%090%09ROOT%09_%09SpaceAfter%3DNo%7CTranslit%3Dask%0A3%09%E4%B9%8B%09%E4%B9%8B%09PRON%09n%2C%E4%BB%A3%E5%90%8D%E8%A9%9E%2C%E4%BA%BA%E7%A7%B0%2C%E6%AD%A2%E6%A0%BC%09Person%3D3%7CPronType%3DPrs%092%09obj%09_%09SpaceAfter%3DNo%7CTranslit%3D%5B3PRON%5D%0A4%09%E6%9B%B0%09%E6%9B%B0%09VERB%09v%2C%E5%8B%95%E8%A9%9E%2C%E8%A1%8C%E7%82%BA%2C%E4%BC%9D%E9%81%94%09_%092%09parataxis%09_%09SpaceAfter%3DNo%7CTranslit%3Dsay%0A%0A\"\n",
       "            frameborder=\"0\"\n",
       "            allowfullscreen\n",
       "            style=\"background-color: white;\"\n",
       "        ></iframe>\n",
       "        "
      ],
      "text/plain": [
       "<IPython.lib.display.IFrame at 0x7f009ad70220>"
      ]
     },
     "metadata": {},
     "output_type": "display_data"
    }
   ],
   "source": [
    "ex80 = nlp(\"或問之曰\")\n",
    "serve(ex80)"
   ]
  },
  {
   "cell_type": "code",
   "execution_count": 66,
   "metadata": {},
   "outputs": [
    {
     "name": "stderr",
     "output_type": "stream",
     "text": [
      "                                                   \r"
     ]
    },
    {
     "data": {
      "text/html": [
       "\n",
       "        <iframe\n",
       "            width=\"100%\"\n",
       "            height=\"250\"\n",
       "            src=\"https://koichiyasuoka.github.io/deplacy/deplacy/viewer.svg#1%09%E9%87%8D%09%E9%87%8D%09VERB%09v%2C%E5%8B%95%E8%A9%9E%2C%E6%8F%8F%E5%86%99%2C%E9%87%8F%09Degree%3DPos%092%09advmod%09_%09SpaceAfter%3DNo%7CTranslit%3Dheavy%0A2%09%E7%82%BA%09%E7%88%B2%09VERB%09v%2C%E5%8B%95%E8%A9%9E%2C%E8%A1%8C%E7%82%BA%2C%E7%94%9F%E7%94%A3%09_%090%09ROOT%09_%09SpaceAfter%3DNo%7CTranslit%3Dmake%0A3%09%E4%B9%8B%09%E4%B9%8B%09PRON%09n%2C%E4%BB%A3%E5%90%8D%E8%A9%9E%2C%E4%BA%BA%E7%A7%B0%2C%E6%AD%A2%E6%A0%BC%09Person%3D3%7CPronType%3DPrs%092%09iobj%09_%09SpaceAfter%3DNo%7CTranslit%3D%5B3PRON%5D%0A4%09%E7%A6%AE%09%E7%A6%AE%09NOUN%09n%2C%E5%90%8D%E8%A9%9E%2C%E5%88%B6%E5%BA%A6%2C%E5%84%80%E7%A4%BC%09_%092%09obj%09_%09SpaceAfter%3DNo%7CTranslit%3Dceremony%0A5%09%E8%80%8C%09%E8%80%8C%09CCONJ%09p%2C%E5%8A%A9%E8%A9%9E%2C%E6%8E%A5%E7%B6%9A%2C%E4%B8%A6%E5%88%97%09_%096%09cc%09_%09SpaceAfter%3DNo%7CTranslit%3Dand%0A6%09%E6%AD%B8%09%E6%AD%B8%09VERB%09v%2C%E5%8B%95%E8%A9%9E%2C%E8%A1%8C%E7%82%BA%2C%E7%A7%BB%E5%8B%95%09_%092%09conj%09_%09SpaceAfter%3DNo%7CTranslit%3Dreturn%0A7%09%E4%B9%8B%09%E4%B9%8B%09PRON%09n%2C%E4%BB%A3%E5%90%8D%E8%A9%9E%2C%E4%BA%BA%E7%A7%B0%2C%E6%AD%A2%E6%A0%BC%09Person%3D3%7CPronType%3DPrs%096%09obj%09_%09SpaceAfter%3DNo%7CTranslit%3D%5B3PRON%5D%0A%0A\"\n",
       "            frameborder=\"0\"\n",
       "            allowfullscreen\n",
       "            style=\"background-color: white;\"\n",
       "        ></iframe>\n",
       "        "
      ],
      "text/plain": [
       "<IPython.lib.display.IFrame at 0x7f009ad705e0>"
      ]
     },
     "metadata": {},
     "output_type": "display_data"
    }
   ],
   "source": [
    "ex81 = nlp(\"重為之禮而歸之\")\n",
    "serve(ex81, 250)"
   ]
  },
  {
   "cell_type": "code",
   "execution_count": 70,
   "metadata": {},
   "outputs": [
    {
     "name": "stderr",
     "output_type": "stream",
     "text": [
      "                                                   \r"
     ]
    },
    {
     "data": {
      "text/html": [
       "\n",
       "        <iframe\n",
       "            width=\"100%\"\n",
       "            height=\"300\"\n",
       "            src=\"https://koichiyasuoka.github.io/deplacy/deplacy/viewer.svg#1%09%E6%B1%82%09%E6%B1%82%09PROPN%09n%2C%E5%90%8D%E8%A9%9E%2C%E4%BA%BA%2C%E5%90%8D%09NameType%3DGiv%096%09nsubj%09_%09SpaceAfter%3DNo%7CTranslit%3D%5Bgiven-name%5D%0A2%09%E4%B9%9F%09%E4%B9%9F%09PART%09p%2C%E5%8A%A9%E8%A9%9E%2C%E6%8F%90%E7%A4%BA%2C%2A%09_%091%09case%09_%09SpaceAfter%3DNo%7CTranslit%3Dthat-which%0A3%09%E7%82%BA%09%E7%88%B2%09VERB%09v%2C%E5%8B%95%E8%A9%9E%2C%E5%AD%98%E5%9C%A8%2C%E5%AD%98%E5%9C%A8%09VerbType%3DCop%096%09cop%09_%09SpaceAfter%3DNo%7CTranslit%3Dbe%0A4%09%E5%AD%A3%09%E5%AD%A3%09PROPN%09n%2C%E5%90%8D%E8%A9%9E%2C%E4%BA%BA%2C%E5%A7%93%E6%B0%8F%09NameType%3DSur%096%09nmod%09_%09SpaceAfter%3DNo%7CTranslit%3D%5Bsurname%5D%0A5%09%E6%B0%8F%09%E6%B0%8F%09NOUN%09n%2C%E5%90%8D%E8%A9%9E%2C%E4%B8%8D%E5%8F%AF%E8%AD%B2%2C%E5%B1%9E%E6%80%A7%09_%094%09flat%09_%09SpaceAfter%3DNo%7CTranslit%3Dlineage%0A6%09%E5%AE%B0%09%E5%AE%B0%09NOUN%09n%2C%E5%90%8D%E8%A9%9E%2C%E4%BA%BA%2C%E5%BD%B9%E5%89%B2%09_%090%09ROOT%09_%09SpaceAfter%3DNo%7CTranslit%3Dminister%0A%0A\"\n",
       "            frameborder=\"0\"\n",
       "            allowfullscreen\n",
       "            style=\"background-color: white;\"\n",
       "        ></iframe>\n",
       "        "
      ],
      "text/plain": [
       "<IPython.lib.display.IFrame at 0x7f009ad70ee0>"
      ]
     },
     "metadata": {},
     "output_type": "display_data"
    }
   ],
   "source": [
    "ex82 = nlp(\"求也為季氏宰\")\n",
    "serve(ex82, 300)"
   ]
  },
  {
   "cell_type": "code",
   "execution_count": 71,
   "metadata": {},
   "outputs": [
    {
     "name": "stderr",
     "output_type": "stream",
     "text": [
      "                                                   \r"
     ]
    },
    {
     "data": {
      "text/html": [
       "\n",
       "        <iframe\n",
       "            width=\"100%\"\n",
       "            height=\"200\"\n",
       "            src=\"https://koichiyasuoka.github.io/deplacy/deplacy/viewer.svg#1%09%E4%BA%BA%09%E4%BA%BA%09NOUN%09n%2C%E5%90%8D%E8%A9%9E%2C%E4%BA%BA%2C%E4%BA%BA%09_%093%09nsubj%09_%09SpaceAfter%3DNo%7CTranslit%3Dperson%0A2%09%E7%9A%86%09%E7%9A%86%09ADV%09v%2C%E5%89%AF%E8%A9%9E%2C%E7%AF%84%E5%9B%B2%2C%E7%B7%8F%E6%8B%AC%09_%093%09advmod%09_%09SpaceAfter%3DNo%7CTranslit%3Dall%0A3%09%E8%AC%82%09%E8%AC%82%09VERB%09v%2C%E5%8B%95%E8%A9%9E%2C%E8%A1%8C%E7%82%BA%2C%E4%BC%9D%E9%81%94%09_%090%09ROOT%09_%09SpaceAfter%3DNo%7CTranslit%3Dspeak-to%0A4%09%E6%88%91%09%E6%88%91%09PRON%09n%2C%E4%BB%A3%E5%90%8D%E8%A9%9E%2C%E4%BA%BA%E7%A7%B0%2C%E6%AD%A2%E6%A0%BC%09Person%3D1%7CPronType%3DPrs%093%09obj%09_%09SpaceAfter%3DNo%7CTranslit%3D%5B1PRON%5D%0A5%09%E6%AF%81%09%E6%AF%80%09VERB%09v%2C%E5%8B%95%E8%A9%9E%2C%E8%A1%8C%E7%82%BA%2C%E5%8B%95%E4%BD%9C%09_%093%09xcomp%09_%09SpaceAfter%3DNo%7CTranslit%3Ddestroy%0A6%09%E6%98%8E%09%E6%98%8E%09NOUN%09n%2C%E5%90%8D%E8%A9%9E%2C%E6%8F%8F%E5%86%99%2C%E5%BD%A2%E8%B3%AA%09_%097%09nmod%09_%09SpaceAfter%3DNo%7CTranslit%3Dlight%0A7%09%E5%A0%82%09%E5%A0%82%09NOUN%09n%2C%E5%90%8D%E8%A9%9E%2C%E5%9B%BA%E5%AE%9A%E7%89%A9%2C%E5%BB%BA%E9%80%A0%E7%89%A9%09Case%3DLoc%095%09obj%09_%09SpaceAfter%3DNo%7CTranslit%3Dhall%0A%0A\"\n",
       "            frameborder=\"0\"\n",
       "            allowfullscreen\n",
       "            style=\"background-color: white;\"\n",
       "        ></iframe>\n",
       "        "
      ],
      "text/plain": [
       "<IPython.lib.display.IFrame at 0x7f009ad70940>"
      ]
     },
     "metadata": {},
     "output_type": "display_data"
    }
   ],
   "source": [
    "ex83 = nlp(\"人皆謂我毁明堂\")\n",
    "serve(ex83)"
   ]
  },
  {
   "cell_type": "code",
   "execution_count": 74,
   "metadata": {},
   "outputs": [
    {
     "name": "stderr",
     "output_type": "stream",
     "text": [
      "                                                   \r"
     ]
    },
    {
     "data": {
      "text/html": [
       "\n",
       "        <iframe\n",
       "            width=\"100%\"\n",
       "            height=\"250\"\n",
       "            src=\"https://koichiyasuoka.github.io/deplacy/deplacy/viewer.svg#1%09%E8%AC%82%09%E8%AC%82%09VERB%09v%2C%E5%8B%95%E8%A9%9E%2C%E8%A1%8C%E7%82%BA%2C%E4%BC%9D%E9%81%94%09_%090%09ROOT%09_%09SpaceAfter%3DNo%7CTranslit%3Dspeak-to%0A2%09%E5%85%B6%09%E5%85%B6%09PRON%09n%2C%E4%BB%A3%E5%90%8D%E8%A9%9E%2C%E4%BA%BA%E7%A7%B0%2C%E8%B5%B7%E6%A0%BC%09Person%3D3%7CPronType%3DPrs%093%09det%09_%09SpaceAfter%3DNo%7CTranslit%3D%5B3PRON%5D%0A3%09%E8%87%BA%09%E8%87%BA%09NOUN%09n%2C%E5%90%8D%E8%A9%9E%2C%E5%9B%BA%E5%AE%9A%E7%89%A9%2C%E5%BB%BA%E9%80%A0%E7%89%A9%09Case%3DLoc%091%09obj%09_%09SpaceAfter%3DNo%7CTranslit%3Dterrace%0A4%09%E6%9B%B0%09%E6%9B%B0%09VERB%09v%2C%E5%8B%95%E8%A9%9E%2C%E8%A1%8C%E7%82%BA%2C%E4%BC%9D%E9%81%94%09_%091%09parataxis%09_%09SpaceAfter%3DNo%7CTranslit%3Dsay%0A5%09%E9%9D%88%09%E9%9D%88%09VERB%09v%2C%E5%8B%95%E8%A9%9E%2C%E6%8F%8F%E5%86%99%2C%E5%BD%A2%E8%B3%AA%09Degree%3DPos%096%09amod%09_%09SpaceAfter%3DNo%7CTranslit%3Dnuminous%0A6%09%E8%87%BA%09%E8%87%BA%09NOUN%09n%2C%E5%90%8D%E8%A9%9E%2C%E5%9B%BA%E5%AE%9A%E7%89%A9%2C%E5%BB%BA%E9%80%A0%E7%89%A9%09Case%3DLoc%094%09obj%09_%09SpaceAfter%3DNo%7CTranslit%3Dterrace%0A%0A\"\n",
       "            frameborder=\"0\"\n",
       "            allowfullscreen\n",
       "            style=\"background-color: white;\"\n",
       "        ></iframe>\n",
       "        "
      ],
      "text/plain": [
       "<IPython.lib.display.IFrame at 0x7f009ad70310>"
      ]
     },
     "metadata": {},
     "output_type": "display_data"
    }
   ],
   "source": [
    "ex84 = nlp(\"謂其臺曰靈臺\")\n",
    "serve(ex84, 250)"
   ]
  },
  {
   "cell_type": "code",
   "execution_count": 75,
   "metadata": {},
   "outputs": [
    {
     "name": "stderr",
     "output_type": "stream",
     "text": [
      "                                                   \r"
     ]
    },
    {
     "data": {
      "text/html": [
       "\n",
       "        <iframe\n",
       "            width=\"100%\"\n",
       "            height=\"250\"\n",
       "            src=\"https://koichiyasuoka.github.io/deplacy/deplacy/viewer.svg#1%09%E5%AD%9F%E5%AD%90%09%E5%AD%9F%E5%AD%90%09PROPN%09n%2C%E5%90%8D%E8%A9%9E%2C%E4%BA%BA%2C%E8%A4%87%E5%90%88%E7%9A%84%E4%BA%BA%E5%90%8D%09NameType%3DPrs%092%09nsubj%09_%09SpaceAfter%3DNo%7CTranslit%3DMencius%0A2%09%E8%AC%82%09%E8%AC%82%09VERB%09v%2C%E5%8B%95%E8%A9%9E%2C%E8%A1%8C%E7%82%BA%2C%E4%BC%9D%E9%81%94%09_%090%09ROOT%09_%09SpaceAfter%3DNo%7CTranslit%3Dspeak-to%0A3%09%E9%BD%8A%09%E9%BD%8A%09PROPN%09n%2C%E5%90%8D%E8%A9%9E%2C%E4%B8%BB%E4%BD%93%2C%E5%9B%BD%E5%90%8D%09Case%3DLoc%7CNameType%3DNat%095%09nmod%09_%09SpaceAfter%3DNo%7CTranslit%3D%5Bcountry-name%5D%0A4%09%E5%AE%A3%09%E5%AE%A3%09PROPN%09n%2C%E5%90%8D%E8%A9%9E%2C%E4%BA%BA%2C%E3%81%9D%E3%81%AE%E4%BB%96%E3%81%AE%E4%BA%BA%E5%90%8D%09NameType%3DPrs%095%09compound%09_%09SpaceAfter%3DNo%7CTranslit%3DXuan%0A5%09%E7%8E%8B%09%E7%8E%8B%09NOUN%09n%2C%E5%90%8D%E8%A9%9E%2C%E4%BA%BA%2C%E5%BD%B9%E5%89%B2%09_%092%09obj%09_%09SpaceAfter%3DNo%7CTranslit%3Dking%0A6%09%E6%9B%B0%09%E6%9B%B0%09VERB%09v%2C%E5%8B%95%E8%A9%9E%2C%E8%A1%8C%E7%82%BA%2C%E4%BC%9D%E9%81%94%09_%092%09parataxis%09_%09SpaceAfter%3DNo%7CTranslit%3Dsay%0A%0A\"\n",
       "            frameborder=\"0\"\n",
       "            allowfullscreen\n",
       "            style=\"background-color: white;\"\n",
       "        ></iframe>\n",
       "        "
      ],
      "text/plain": [
       "<IPython.lib.display.IFrame at 0x7f009ad763d0>"
      ]
     },
     "metadata": {},
     "output_type": "display_data"
    }
   ],
   "source": [
    "ex85 = nlp(\"孟子謂齊宣王曰\")\n",
    "serve(ex85, 250)"
   ]
  },
  {
   "cell_type": "code",
   "execution_count": 76,
   "metadata": {},
   "outputs": [
    {
     "name": "stderr",
     "output_type": "stream",
     "text": [
      "                                                   \r"
     ]
    },
    {
     "data": {
      "text/html": [
       "\n",
       "        <iframe\n",
       "            width=\"100%\"\n",
       "            height=\"200\"\n",
       "            src=\"https://koichiyasuoka.github.io/deplacy/deplacy/viewer.svg#1%09%E5%AD%90%09%E5%AD%90%09PRON%09n%2C%E4%BB%A3%E5%90%8D%E8%A9%9E%2C%E4%BA%BA%E7%A7%B0%2C%E4%BB%96%09Person%3D2%7CPronType%3DPrs%092%09nsubj%09_%09SpaceAfter%3DNo%7CTranslit%3D%5B2PRON%5D%0A2%09%E8%8B%A5%09%E8%8B%A5%09VERB%09v%2C%E5%8B%95%E8%A9%9E%2C%E8%A1%8C%E7%82%BA%2C%E5%88%86%E9%A1%9E%09Degree%3DEqu%090%09ROOT%09_%09SpaceAfter%3DNo%7CTranslit%3Dbe-like%0A3%09%E5%9C%8B%09%E5%9C%8B%09NOUN%09n%2C%E5%90%8D%E8%A9%9E%2C%E4%B8%BB%E4%BD%93%2C%E9%9B%86%E5%9B%A3%09_%092%09obj%09_%09SpaceAfter%3DNo%7CTranslit%3Dcountry%0A4%09%E4%BD%95%09%E4%BD%95%09PRON%09n%2C%E4%BB%A3%E5%90%8D%E8%A9%9E%2C%E7%96%91%E5%95%8F%2C%2A%09PronType%3DInt%092%09xcomp%09_%09SpaceAfter%3DNo%7CTranslit%3Dwhat%0A%0A\"\n",
       "            frameborder=\"0\"\n",
       "            allowfullscreen\n",
       "            style=\"background-color: white;\"\n",
       "        ></iframe>\n",
       "        "
      ],
      "text/plain": [
       "<IPython.lib.display.IFrame at 0x7f009ad76e80>"
      ]
     },
     "metadata": {},
     "output_type": "display_data"
    }
   ],
   "source": [
    "ex86 = nlp(\"子若國何\")\n",
    "serve(ex86)"
   ]
  },
  {
   "cell_type": "code",
   "execution_count": 78,
   "metadata": {},
   "outputs": [
    {
     "name": "stderr",
     "output_type": "stream",
     "text": [
      "                                                   \r"
     ]
    },
    {
     "data": {
      "text/html": [
       "\n",
       "        <iframe\n",
       "            width=\"100%\"\n",
       "            height=\"300\"\n",
       "            src=\"https://koichiyasuoka.github.io/deplacy/deplacy/viewer.svg#1%09%E7%84%A1%09%E7%84%A1%09VERB%09v%2C%E5%8B%95%E8%A9%9E%2C%E5%AD%98%E5%9C%A8%2C%E5%AD%98%E5%9C%A8%09Polarity%3DNeg%092%09advmod%09_%09SpaceAfter%3DNo%7CTranslit%3Dnot-have%0A2%09%E8%8B%A5%09%E8%8B%A5%09VERB%09v%2C%E5%8B%95%E8%A9%9E%2C%E8%A1%8C%E7%82%BA%2C%E5%88%86%E9%A1%9E%09Degree%3DEqu%090%09ROOT%09_%09SpaceAfter%3DNo%7CTranslit%3Dbe-like%0A3%09%E8%AF%B8%09%EF%A8%A2%09NOUN%09n%2C%E5%90%8D%E8%A9%9E%2C%E6%95%B0%E9%87%8F%2C%2A%09_%094%09nmod%09_%09SpaceAfter%3DNo%7CTranslit%3D%5Bplural%5D%0A4%09%E4%BE%AF%09%E4%BE%AF%09NOUN%09n%2C%E5%90%8D%E8%A9%9E%2C%E4%BA%BA%2C%E5%BD%B9%E5%89%B2%09_%096%09nsubj%09_%09SpaceAfter%3DNo%7CTranslit%3Dmarquis%0A5%09%E4%B9%8B%09%E4%B9%8B%09SCONJ%09p%2C%E5%8A%A9%E8%A9%9E%2C%E6%8E%A5%E7%B6%9A%2C%E5%B1%9E%E6%A0%BC%09_%094%09case%09_%09SpaceAfter%3DNo%7CTranslit%3D%27s%0A6%09%E5%B1%AC%09%E5%B1%AC%09VERB%09v%2C%E5%8B%95%E8%A9%9E%2C%E8%A1%8C%E7%82%BA%2C%E8%A8%AD%E7%BD%AE%09_%097%09csubj%09_%09SpaceAfter%3DNo%7CTranslit%3Dbelong%0A7%09%E8%BE%B1%09%E8%BE%B1%09VERB%09v%2C%E5%8B%95%E8%A9%9E%2C%E8%A1%8C%E7%82%BA%2C%E4%BA%A4%E6%B5%81%09_%0911%09acl%09_%09SpaceAfter%3DNo%7CTranslit%3Dshame%0A8%09%E5%9C%A8%09%E5%9C%A8%09VERB%09v%2C%E5%8B%95%E8%A9%9E%2C%E5%AD%98%E5%9C%A8%2C%E5%AD%98%E5%9C%A8%09_%097%09ccomp%09_%09SpaceAfter%3DNo%7CTranslit%3Dbe-present%0A9%09%E5%AF%A1%09%E5%AF%A1%09VERB%09v%2C%E5%8B%95%E8%A9%9E%2C%E6%8F%8F%E5%86%99%2C%E9%87%8F%09Degree%3DPos%0910%09amod%09_%09SpaceAfter%3DNo%7CTranslit%3Dfew%0A10%09%E5%90%9B%09%E5%90%9B%09NOUN%09n%2C%E5%90%8D%E8%A9%9E%2C%E4%BA%BA%2C%E5%BD%B9%E5%89%B2%09_%098%09obj%09_%09SpaceAfter%3DNo%7CTranslit%3Druler%0A11%09%E8%80%85%09%EF%A9%9B%09PART%09p%2C%E5%8A%A9%E8%A9%9E%2C%E6%8F%90%E7%A4%BA%2C%2A%09_%092%09obj%09_%09SpaceAfter%3DNo%7CTranslit%3Dthat-which%0A12%09%E4%BD%95%09%E4%BD%95%09PRON%09n%2C%E4%BB%A3%E5%90%8D%E8%A9%9E%2C%E7%96%91%E5%95%8F%2C%2A%09PronType%3DInt%092%09xcomp%09_%09SpaceAfter%3DNo%7CTranslit%3Dwhat%0A%0A\"\n",
       "            frameborder=\"0\"\n",
       "            allowfullscreen\n",
       "            style=\"background-color: white;\"\n",
       "        ></iframe>\n",
       "        "
      ],
      "text/plain": [
       "<IPython.lib.display.IFrame at 0x7f009ce43910>"
      ]
     },
     "metadata": {},
     "output_type": "display_data"
    }
   ],
   "source": [
    "ex87 = nlp(\"無若诸侯之屬辱在寡君者何\")\n",
    "serve(ex87, 300)"
   ]
  },
  {
   "cell_type": "code",
   "execution_count": 80,
   "metadata": {},
   "outputs": [
    {
     "name": "stderr",
     "output_type": "stream",
     "text": [
      "                                                   \r"
     ]
    },
    {
     "data": {
      "text/html": [
       "\n",
       "        <iframe\n",
       "            width=\"100%\"\n",
       "            height=\"400\"\n",
       "            src=\"https://koichiyasuoka.github.io/deplacy/deplacy/viewer.svg#1%09%E8%8B%A5%09%E8%8B%A5%09VERB%09v%2C%E5%8B%95%E8%A9%9E%2C%E8%A1%8C%E7%82%BA%2C%E5%88%86%E9%A1%9E%09Degree%3DEqu%090%09ROOT%09_%09SpaceAfter%3DNo%7CTranslit%3Dbe-like%0A2%09%E4%B9%8B%09%E4%B9%8B%09PRON%09n%2C%E4%BB%A3%E5%90%8D%E8%A9%9E%2C%E4%BA%BA%E7%A7%B0%2C%E6%AD%A2%E6%A0%BC%09Person%3D3%7CPronType%3DPrs%091%09expl%09_%09SpaceAfter%3DNo%7CTranslit%3D%5B3PRON%5D%0A3%09%E4%BD%95%09%E4%BD%95%09PRON%09n%2C%E4%BB%A3%E5%90%8D%E8%A9%9E%2C%E7%96%91%E5%95%8F%2C%2A%09PronType%3DInt%091%09xcomp%09_%09SpaceAfter%3DNo%7CTranslit%3Dwhat%0A%0A1%09%E5%AD%90%09%E5%AD%90%09PRON%09n%2C%E4%BB%A3%E5%90%8D%E8%A9%9E%2C%E4%BA%BA%E7%A7%B0%2C%E4%BB%96%09Person%3D2%7CPronType%3DPrs%094%09nsubj%09_%09SpaceAfter%3DNo%7CTranslit%3D%5B2PRON%5D%0A2%09%E4%B9%8B%09%E4%B9%8B%09SCONJ%09p%2C%E5%8A%A9%E8%A9%9E%2C%E6%8E%A5%E7%B6%9A%2C%E5%B1%9E%E6%A0%BC%09_%091%09case%09_%09SpaceAfter%3DNo%7CTranslit%3D%27s%0A3%09%E4%B8%8D%09%E4%B8%8D%09ADV%09v%2C%E5%89%AF%E8%A9%9E%2C%E5%90%A6%E5%AE%9A%2C%E7%84%A1%E7%95%8C%09Polarity%3DNeg%094%09advmod%09_%09SpaceAfter%3DNo%7CTranslit%3Dnot%0A4%09%E8%A8%80%09%E8%A8%80%09VERB%09v%2C%E5%8B%95%E8%A9%9E%2C%E8%A1%8C%E7%82%BA%2C%E4%BC%9D%E9%81%94%09_%090%09ROOT%09_%09SpaceAfter%3DNo%7CTranslit%3Dspeak%0A5%09%E4%B9%9F%09%E4%B9%9F%09PART%09p%2C%E5%8A%A9%E8%A9%9E%2C%E5%8F%A5%E6%9C%AB%2C%2A%09_%094%09discourse%3Asp%09_%09SpaceAfter%3DNo%7CTranslit%3D%5Bfinal-particle%5D%0A%0A\"\n",
       "            frameborder=\"0\"\n",
       "            allowfullscreen\n",
       "            style=\"background-color: white;\"\n",
       "        ></iframe>\n",
       "        "
      ],
      "text/plain": [
       "<IPython.lib.display.IFrame at 0x7f009ad762b0>"
      ]
     },
     "metadata": {},
     "output_type": "display_data"
    }
   ],
   "source": [
    "ex88 = nlp(\"若之何子之不言也\")\n",
    "serve(ex88, 400)"
   ]
  },
  {
   "cell_type": "code",
   "execution_count": 84,
   "metadata": {},
   "outputs": [
    {
     "name": "stderr",
     "output_type": "stream",
     "text": [
      "                                                   \r"
     ]
    },
    {
     "data": {
      "text/html": [
       "\n",
       "        <iframe\n",
       "            width=\"100%\"\n",
       "            height=\"450\"\n",
       "            src=\"https://koichiyasuoka.github.io/deplacy/deplacy/viewer.svg#1%09%E5%A6%82%09%E5%A6%82%09VERB%09v%2C%E5%8B%95%E8%A9%9E%2C%E8%A1%8C%E7%82%BA%2C%E5%88%86%E9%A1%9E%09Degree%3DEqu%090%09ROOT%09_%09SpaceAfter%3DNo%7CTranslit%3Dbe-like%0A2%09%E4%B9%8B%09%E4%B9%8B%09PRON%09n%2C%E4%BB%A3%E5%90%8D%E8%A9%9E%2C%E4%BA%BA%E7%A7%B0%2C%E6%AD%A2%E6%A0%BC%09Person%3D3%7CPronType%3DPrs%091%09expl%09_%09SpaceAfter%3DNo%7CTranslit%3D%5B3PRON%5D%0A3%09%E4%BD%95%09%E4%BD%95%09PRON%09n%2C%E4%BB%A3%E5%90%8D%E8%A9%9E%2C%E7%96%91%E5%95%8F%2C%2A%09PronType%3DInt%091%09xcomp%09_%09SpaceAfter%3DNo%7CTranslit%3Dwhat%0A%0A1%09%E5%85%B6%09%E5%85%B6%09PRON%09n%2C%E4%BB%A3%E5%90%8D%E8%A9%9E%2C%E4%BA%BA%E7%A7%B0%2C%E8%B5%B7%E6%A0%BC%09Person%3D3%7CPronType%3DPrs%092%09nsubj%09_%09SpaceAfter%3DNo%7CTranslit%3D%5B3PRON%5D%0A2%09%E4%BD%BF%09%E4%BD%BF%09VERB%09v%2C%E5%8B%95%E8%A9%9E%2C%E8%A1%8C%E7%82%BA%2C%E4%BD%BF%E5%BD%B9%09_%090%09ROOT%09_%09SpaceAfter%3DNo%7CTranslit%3D%5Bmake-to-do%5D%0A3%09%E6%96%AF%09%E6%96%AF%09PRON%09n%2C%E4%BB%A3%E5%90%8D%E8%A9%9E%2C%E6%8C%87%E7%A4%BA%2C%2A%09PronType%3DDem%094%09det%09_%09SpaceAfter%3DNo%7CTranslit%3Dthis%0A4%09%E6%B0%91%09%E6%B0%91%09NOUN%09n%2C%E5%90%8D%E8%A9%9E%2C%E4%BA%BA%2C%E4%BA%BA%09_%092%09obj%09_%09SpaceAfter%3DNo%7CTranslit%3Dpeople%0A5%09%E9%A3%A2%09%E9%A3%A2%09VERB%09v%2C%E5%8B%95%E8%A9%9E%2C%E6%8F%8F%E5%86%99%2C%E5%A2%83%E9%81%87%09Degree%3DPos%092%09xcomp%09_%09SpaceAfter%3DNo%7CTranslit%3Dhungry%0A6%09%E8%80%8C%09%E8%80%8C%09CCONJ%09p%2C%E5%8A%A9%E8%A9%9E%2C%E6%8E%A5%E7%B6%9A%2C%E4%B8%A6%E5%88%97%09_%097%09cc%09_%09SpaceAfter%3DNo%7CTranslit%3Dand%0A7%09%E6%AD%BB%09%E6%AD%BB%09VERB%09v%2C%E5%8B%95%E8%A9%9E%2C%E5%A4%89%E5%8C%96%2C%E7%94%9F%E7%89%A9%09_%095%09conj%09_%09SpaceAfter%3DNo%7CTranslit%3Ddie%0A8%09%E4%B9%9F%09%E4%B9%9F%09PART%09p%2C%E5%8A%A9%E8%A9%9E%2C%E5%8F%A5%E6%9C%AB%2C%2A%09_%092%09discourse%3Asp%09_%09SpaceAfter%3DNo%7CTranslit%3D%5Bfinal-particle%5D%0A%0A\"\n",
       "            frameborder=\"0\"\n",
       "            allowfullscreen\n",
       "            style=\"background-color: white;\"\n",
       "        ></iframe>\n",
       "        "
      ],
      "text/plain": [
       "<IPython.lib.display.IFrame at 0x7f009ad76940>"
      ]
     },
     "metadata": {},
     "output_type": "display_data"
    }
   ],
   "source": [
    "ex89 = nlp(\"如之何其使斯民飢而死也\")\n",
    "serve(ex89, 450)"
   ]
  }
 ],
 "metadata": {
  "interpreter": {
   "hash": "0364c37b15e7a6e1c36ca05f1a9e06ef739d4c2650a4a4d0869c3126484e1dba"
  },
  "kernelspec": {
   "display_name": "Python 3.8.10 64-bit ('nlp': virtualenv)",
   "language": "python",
   "name": "python3"
  },
  "language_info": {
   "codemirror_mode": {
    "name": "ipython",
    "version": 3
   },
   "file_extension": ".py",
   "mimetype": "text/x-python",
   "name": "python",
   "nbconvert_exporter": "python",
   "pygments_lexer": "ipython3",
   "version": "3.8.10"
  },
  "orig_nbformat": 4
 },
 "nbformat": 4,
 "nbformat_minor": 2
}
