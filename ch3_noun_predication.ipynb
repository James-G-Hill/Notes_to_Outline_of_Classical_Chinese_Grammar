{
 "cells": [
  {
   "cell_type": "markdown",
   "metadata": {},
   "source": [
    "# 3 : Noun Predication"
   ]
  },
  {
   "cell_type": "code",
   "execution_count": 18,
   "metadata": {},
   "outputs": [],
   "source": [
    "from deplacy import (\n",
    "    dot,\n",
    "    render,\n",
    "    # serve,\n",
    "    to_conllu\n",
    ")\n",
    "from graphviz import Source\n",
    "from spacy import displacy\n",
    "from udkanbun.spacy import load\n",
    "\n",
    "display_options = {\n",
    "    \"add_lemma\": False,\n",
    "    \"bg\": \"white\",\n",
    "    \"color\": \"black\",\n",
    "    \"compact\": False,\n",
    "    \"distance\": 150,\n",
    "    \"fine_grained\": False\n",
    "}\n",
    "\n",
    "nlp = load(MeCab=False, Danku=True)"
   ]
  },
  {
   "cell_type": "markdown",
   "metadata": {},
   "source": [
    "## 1. Verbless Noun Predictation"
   ]
  },
  {
   "cell_type": "markdown",
   "metadata": {},
   "source": [
    "The following formula is used (A may be ommitted as assumed):\n",
    "\n",
    "> (A) (非) B 也"
   ]
  },
  {
   "cell_type": "code",
   "execution_count": 19,
   "metadata": {},
   "outputs": [
    {
     "name": "stdout",
     "output_type": "stream",
     "text": [
      "1\t非\t非\tADV\tv,副詞,否定,体言否定\tPolarity=Neg\t2\tadvmod\t_\tSpaceAfter=No\n",
      "2\t我\t我\tPRON\tn,代名詞,人称,止格\tPerson=1|PronType=Prs\t0\tROOT\t_\tSpaceAfter=No\n",
      "3\t也\t也\tPART\tp,助詞,句末,*\t_\t2\tdiscourse:sp\t_\tSpaceAfter=No\n",
      "4\t兵\t兵\tNOUN\tn,名詞,人,役割\t_\t2\tparataxis\t_\tSpaceAfter=No\n",
      "5\t也\t也\tPART\tp,助詞,句末,*\t_\t4\tdiscourse:sp\t_\t_\n",
      "\n",
      "\n"
     ]
    }
   ],
   "source": [
    "ex5 = nlp(\"非我也兵也\")\n",
    "print(to_conllu(ex5))"
   ]
  },
  {
   "cell_type": "code",
   "execution_count": 20,
   "metadata": {},
   "outputs": [
    {
     "name": "stdout",
     "output_type": "stream",
     "text": [
      "非 ADV  <╗     advmod\n",
      "我 PRON ═╝═╗═╗ ROOT\n",
      "也 PART <══╝ ║ discourse:sp\n",
      "兵 NOUN ═╗<══╝ parataxis\n",
      "也 PART <╝     discourse:sp\n"
     ]
    }
   ],
   "source": [
    "render(ex5)"
   ]
  },
  {
   "cell_type": "code",
   "execution_count": 21,
   "metadata": {},
   "outputs": [
    {
     "data": {
      "text/html": [
       "<span class=\"tex2jax_ignore\"><svg xmlns=\"http://www.w3.org/2000/svg\" xmlns:xlink=\"http://www.w3.org/1999/xlink\" xml:lang=\"lzh\" id=\"33a0704274034f40a23406022914056e-0\" class=\"displacy\" width=\"800\" height=\"287.0\" direction=\"ltr\" style=\"max-width: none; height: 287.0px; color: black; background: white; font-family: Arial; direction: ltr\">\n",
       "<text class=\"displacy-token\" fill=\"currentColor\" text-anchor=\"middle\" y=\"197.0\">\n",
       "    <tspan class=\"displacy-word\" fill=\"currentColor\" x=\"50\">非</tspan>\n",
       "    <tspan class=\"displacy-tag\" dy=\"2em\" fill=\"currentColor\" x=\"50\">ADV</tspan>\n",
       "</text>\n",
       "\n",
       "<text class=\"displacy-token\" fill=\"currentColor\" text-anchor=\"middle\" y=\"197.0\">\n",
       "    <tspan class=\"displacy-word\" fill=\"currentColor\" x=\"200\">我</tspan>\n",
       "    <tspan class=\"displacy-tag\" dy=\"2em\" fill=\"currentColor\" x=\"200\">PRON</tspan>\n",
       "</text>\n",
       "\n",
       "<text class=\"displacy-token\" fill=\"currentColor\" text-anchor=\"middle\" y=\"197.0\">\n",
       "    <tspan class=\"displacy-word\" fill=\"currentColor\" x=\"350\">也</tspan>\n",
       "    <tspan class=\"displacy-tag\" dy=\"2em\" fill=\"currentColor\" x=\"350\">PART</tspan>\n",
       "</text>\n",
       "\n",
       "<text class=\"displacy-token\" fill=\"currentColor\" text-anchor=\"middle\" y=\"197.0\">\n",
       "    <tspan class=\"displacy-word\" fill=\"currentColor\" x=\"500\">兵</tspan>\n",
       "    <tspan class=\"displacy-tag\" dy=\"2em\" fill=\"currentColor\" x=\"500\">NOUN</tspan>\n",
       "</text>\n",
       "\n",
       "<text class=\"displacy-token\" fill=\"currentColor\" text-anchor=\"middle\" y=\"197.0\">\n",
       "    <tspan class=\"displacy-word\" fill=\"currentColor\" x=\"650\">也</tspan>\n",
       "    <tspan class=\"displacy-tag\" dy=\"2em\" fill=\"currentColor\" x=\"650\">PART</tspan>\n",
       "</text>\n",
       "\n",
       "<g class=\"displacy-arrow\">\n",
       "    <path class=\"displacy-arc\" id=\"arrow-33a0704274034f40a23406022914056e-0-0\" stroke-width=\"2px\" d=\"M70,152.0 C70,77.0 195.0,77.0 195.0,152.0\" fill=\"none\" stroke=\"currentColor\"/>\n",
       "    <text dy=\"1.25em\" style=\"font-size: 0.8em; letter-spacing: 1px\">\n",
       "        <textPath xlink:href=\"#arrow-33a0704274034f40a23406022914056e-0-0\" class=\"displacy-label\" startOffset=\"50%\" side=\"left\" fill=\"currentColor\" text-anchor=\"middle\">advmod</textPath>\n",
       "    </text>\n",
       "    <path class=\"displacy-arrowhead\" d=\"M70,154.0 L62,142.0 78,142.0\" fill=\"currentColor\"/>\n",
       "</g>\n",
       "\n",
       "<g class=\"displacy-arrow\">\n",
       "    <path class=\"displacy-arc\" id=\"arrow-33a0704274034f40a23406022914056e-0-1\" stroke-width=\"2px\" d=\"M220,152.0 C220,77.0 345.0,77.0 345.0,152.0\" fill=\"none\" stroke=\"currentColor\"/>\n",
       "    <text dy=\"1.25em\" style=\"font-size: 0.8em; letter-spacing: 1px\">\n",
       "        <textPath xlink:href=\"#arrow-33a0704274034f40a23406022914056e-0-1\" class=\"displacy-label\" startOffset=\"50%\" side=\"left\" fill=\"currentColor\" text-anchor=\"middle\">discourse:sp</textPath>\n",
       "    </text>\n",
       "    <path class=\"displacy-arrowhead\" d=\"M345.0,154.0 L353.0,142.0 337.0,142.0\" fill=\"currentColor\"/>\n",
       "</g>\n",
       "\n",
       "<g class=\"displacy-arrow\">\n",
       "    <path class=\"displacy-arc\" id=\"arrow-33a0704274034f40a23406022914056e-0-2\" stroke-width=\"2px\" d=\"M220,152.0 C220,2.0 500.0,2.0 500.0,152.0\" fill=\"none\" stroke=\"currentColor\"/>\n",
       "    <text dy=\"1.25em\" style=\"font-size: 0.8em; letter-spacing: 1px\">\n",
       "        <textPath xlink:href=\"#arrow-33a0704274034f40a23406022914056e-0-2\" class=\"displacy-label\" startOffset=\"50%\" side=\"left\" fill=\"currentColor\" text-anchor=\"middle\">parataxis</textPath>\n",
       "    </text>\n",
       "    <path class=\"displacy-arrowhead\" d=\"M500.0,154.0 L508.0,142.0 492.0,142.0\" fill=\"currentColor\"/>\n",
       "</g>\n",
       "\n",
       "<g class=\"displacy-arrow\">\n",
       "    <path class=\"displacy-arc\" id=\"arrow-33a0704274034f40a23406022914056e-0-3\" stroke-width=\"2px\" d=\"M520,152.0 C520,77.0 645.0,77.0 645.0,152.0\" fill=\"none\" stroke=\"currentColor\"/>\n",
       "    <text dy=\"1.25em\" style=\"font-size: 0.8em; letter-spacing: 1px\">\n",
       "        <textPath xlink:href=\"#arrow-33a0704274034f40a23406022914056e-0-3\" class=\"displacy-label\" startOffset=\"50%\" side=\"left\" fill=\"currentColor\" text-anchor=\"middle\">discourse:sp</textPath>\n",
       "    </text>\n",
       "    <path class=\"displacy-arrowhead\" d=\"M645.0,154.0 L653.0,142.0 637.0,142.0\" fill=\"currentColor\"/>\n",
       "</g>\n",
       "</svg></span>"
      ],
      "text/plain": [
       "<IPython.core.display.HTML object>"
      ]
     },
     "metadata": {},
     "output_type": "display_data"
    }
   ],
   "source": [
    "displacy.render(ex5, options=display_options)"
   ]
  },
  {
   "cell_type": "code",
   "execution_count": 22,
   "metadata": {},
   "outputs": [
    {
     "data": {
      "image/svg+xml": "<?xml version=\"1.0\" encoding=\"UTF-8\" standalone=\"no\"?>\n<!DOCTYPE svg PUBLIC \"-//W3C//DTD SVG 1.1//EN\"\n \"http://www.w3.org/Graphics/SVG/1.1/DTD/svg11.dtd\">\n<!-- Generated by graphviz version 2.43.0 (0)\n -->\n<!-- Title: deplacy Pages: 1 -->\n<svg width=\"320pt\" height=\"332pt\"\n viewBox=\"0.00 0.00 319.50 332.00\" xmlns=\"http://www.w3.org/2000/svg\" xmlns:xlink=\"http://www.w3.org/1999/xlink\">\n<g id=\"graph0\" class=\"graph\" transform=\"scale(1 1) rotate(0) translate(4 328)\">\n<title>deplacy</title>\n<polygon fill=\"white\" stroke=\"transparent\" points=\"-4,4 -4,-328 315.5,-328 315.5,4 -4,4\"/>\n<!-- r2 -->\n<g id=\"node1\" class=\"node\">\n<title>r2</title>\n<text text-anchor=\"middle\" x=\"186.5\" y=\"-316\" font-family=\"sans-serif\" font-size=\"10.00\">ROOT</text>\n</g>\n<!-- x4 -->\n<g id=\"node2\" class=\"node\">\n<title>x4</title>\n<text text-anchor=\"middle\" x=\"186.5\" y=\"-254.3\" font-family=\"Times,serif\" font-size=\"14.00\">非我也兵也</text>\n</g>\n<!-- r2&#45;&gt;x4 -->\n<g id=\"edge1\" class=\"edge\">\n<title>r2&#45;&gt;x4</title>\n<path fill=\"none\" stroke=\"gray\" d=\"M186.5,-312.91C186.5,-307.11 186.5,-296.66 186.5,-286.5\"/>\n<polygon fill=\"gray\" stroke=\"gray\" points=\"190,-286.21 186.5,-276.21 183,-286.21 190,-286.21\"/>\n</g>\n<!-- x3 -->\n<g id=\"node3\" class=\"node\">\n<title>x3</title>\n<text text-anchor=\"middle\" x=\"133.5\" y=\"-181.3\" font-family=\"Times,serif\" font-size=\"14.00\">非我也</text>\n</g>\n<!-- x4&#45;&gt;x3 -->\n<g id=\"edge2\" class=\"edge\">\n<title>x4&#45;&gt;x3</title>\n<path fill=\"none\" stroke=\"gray\" d=\"M173.67,-239.81C167.29,-231.27 159.45,-220.77 152.4,-211.32\"/>\n<polygon fill=\"gray\" stroke=\"gray\" points=\"155,-208.95 146.21,-203.03 149.39,-213.14 155,-208.95\"/>\n</g>\n<!-- x1 -->\n<g id=\"node4\" class=\"node\">\n<title>x1</title>\n<text text-anchor=\"middle\" x=\"239.5\" y=\"-108.3\" font-family=\"Times,serif\" font-size=\"14.00\">兵也</text>\n</g>\n<!-- x4&#45;&gt;x1 -->\n<g id=\"edge3\" class=\"edge\">\n<title>x4&#45;&gt;x1</title>\n<path fill=\"none\" stroke=\"gray\" d=\"M192.79,-239.92C201.91,-215.12 218.91,-168.95 229.69,-139.66\"/>\n<polygon fill=\"gray\" stroke=\"gray\" points=\"233.05,-140.66 233.22,-130.06 226.48,-138.24 233.05,-140.66\"/>\n<text text-anchor=\"middle\" x=\"241.5\" y=\"-182.5\" font-family=\"sans-serif\" font-size=\"10.00\">parataxis</text>\n</g>\n<!-- x2 -->\n<g id=\"node5\" class=\"node\">\n<title>x2</title>\n<text text-anchor=\"middle\" x=\"70.5\" y=\"-108.3\" font-family=\"Times,serif\" font-size=\"14.00\">非我</text>\n</g>\n<!-- x3&#45;&gt;x2 -->\n<g id=\"edge4\" class=\"edge\">\n<title>x3&#45;&gt;x2</title>\n<path fill=\"none\" stroke=\"gray\" d=\"M118.25,-166.81C110.51,-158.09 100.97,-147.34 92.46,-137.75\"/>\n<polygon fill=\"gray\" stroke=\"gray\" points=\"94.87,-135.19 85.61,-130.03 89.63,-139.83 94.87,-135.19\"/>\n</g>\n<!-- w -->\n<g id=\"node6\" class=\"node\">\n<title>w</title>\n<polygon fill=\"none\" stroke=\"black\" stroke-width=\"0\" points=\"0,-0.5 0,-46.5 279,-46.5 279,-0.5 0,-0.5\"/>\n<text text-anchor=\"middle\" x=\"23.5\" y=\"-31.3\" font-family=\"Times,serif\" font-size=\"14.00\">非</text>\n<polyline fill=\"none\" stroke=\"black\" stroke-width=\"0\" points=\"0,-23.5 47,-23.5 \"/>\n<text text-anchor=\"middle\" x=\"23.5\" y=\"-8.3\" font-family=\"Times,serif\" font-size=\"14.00\">ADV</text>\n<polyline fill=\"none\" stroke=\"black\" stroke-width=\"0\" points=\"47,-0.5 47,-46.5 \"/>\n<text text-anchor=\"middle\" x=\"77\" y=\"-31.3\" font-family=\"Times,serif\" font-size=\"14.00\">我</text>\n<polyline fill=\"none\" stroke=\"black\" stroke-width=\"0\" points=\"47,-23.5 107,-23.5 \"/>\n<text text-anchor=\"middle\" x=\"77\" y=\"-8.3\" font-family=\"Times,serif\" font-size=\"14.00\">PRON</text>\n<polyline fill=\"none\" stroke=\"black\" stroke-width=\"0\" points=\"107,-0.5 107,-46.5 \"/>\n<text text-anchor=\"middle\" x=\"134\" y=\"-31.3\" font-family=\"Times,serif\" font-size=\"14.00\">也</text>\n<polyline fill=\"none\" stroke=\"black\" stroke-width=\"0\" points=\"107,-23.5 161,-23.5 \"/>\n<text text-anchor=\"middle\" x=\"134\" y=\"-8.3\" font-family=\"Times,serif\" font-size=\"14.00\">PART</text>\n<polyline fill=\"none\" stroke=\"black\" stroke-width=\"0\" points=\"161,-0.5 161,-46.5 \"/>\n<text text-anchor=\"middle\" x=\"193\" y=\"-31.3\" font-family=\"Times,serif\" font-size=\"14.00\">兵</text>\n<polyline fill=\"none\" stroke=\"black\" stroke-width=\"0\" points=\"161,-23.5 225,-23.5 \"/>\n<text text-anchor=\"middle\" x=\"193\" y=\"-8.3\" font-family=\"Times,serif\" font-size=\"14.00\">NOUN</text>\n<polyline fill=\"none\" stroke=\"black\" stroke-width=\"0\" points=\"225,-0.5 225,-46.5 \"/>\n<text text-anchor=\"middle\" x=\"252\" y=\"-31.3\" font-family=\"Times,serif\" font-size=\"14.00\">也</text>\n<polyline fill=\"none\" stroke=\"black\" stroke-width=\"0\" points=\"225,-23.5 279,-23.5 \"/>\n<text text-anchor=\"middle\" x=\"252\" y=\"-8.3\" font-family=\"Times,serif\" font-size=\"14.00\">PART</text>\n</g>\n<!-- x3&#45;&gt;w -->\n<g id=\"edge5\" class=\"edge\">\n<title>x3&#45;&gt;w:3</title>\n<path fill=\"none\" stroke=\"gray\" d=\"M133.5,-166.7C133.5,-142.74 133.5,-97.82 133.5,-57.21\"/>\n<polygon fill=\"gray\" stroke=\"gray\" points=\"137,-57 133.5,-47 130,-57 137,-57\"/>\n<text text-anchor=\"middle\" x=\"164\" y=\"-109.5\" font-family=\"sans-serif\" font-size=\"10.00\">discourse:sp</text>\n</g>\n<!-- x1&#45;&gt;w -->\n<g id=\"edge8\" class=\"edge\">\n<title>x1&#45;&gt;w:4</title>\n<path fill=\"none\" stroke=\"gray\" d=\"M218.12,-93.74C208.36,-84.21 198.21,-71.42 194.74,-57.12\"/>\n<polygon fill=\"gray\" stroke=\"gray\" points=\"198.19,-56.5 193.5,-47 191.24,-57.35 198.19,-56.5\"/>\n</g>\n<!-- x1&#45;&gt;w -->\n<g id=\"edge9\" class=\"edge\">\n<title>x1&#45;&gt;w:5</title>\n<path fill=\"none\" stroke=\"gray\" d=\"M244.94,-93.81C247.75,-83.73 250.83,-70.44 252.01,-57.37\"/>\n<polygon fill=\"gray\" stroke=\"gray\" points=\"255.52,-57.15 252.5,-47 248.53,-56.82 255.52,-57.15\"/>\n<text text-anchor=\"middle\" x=\"281\" y=\"-68\" font-family=\"sans-serif\" font-size=\"10.00\">discourse:sp</text>\n</g>\n<!-- x2&#45;&gt;w -->\n<g id=\"edge6\" class=\"edge\">\n<title>x2&#45;&gt;w:1</title>\n<path fill=\"none\" stroke=\"gray\" d=\"M43.01,-96.96C35.27,-91.54 27.79,-84.55 23.5,-76 19.52,-68.08 21.01,-63.44 22.34,-57.12\"/>\n<polygon fill=\"gray\" stroke=\"gray\" points=\"25.83,-57.33 23.5,-47 18.88,-56.53 25.83,-57.33\"/>\n<text text-anchor=\"middle\" x=\"43.5\" y=\"-68\" font-family=\"sans-serif\" font-size=\"10.00\">advmod</text>\n</g>\n<!-- x2&#45;&gt;w -->\n<g id=\"edge7\" class=\"edge\">\n<title>x2&#45;&gt;w:2</title>\n<path fill=\"none\" stroke=\"gray\" d=\"M72.98,-93.93C74.28,-83.77 75.72,-70.36 76.27,-57.32\"/>\n<polygon fill=\"gray\" stroke=\"gray\" points=\"79.78,-57.08 76.5,-47 72.78,-56.92 79.78,-57.08\"/>\n</g>\n</g>\n</svg>\n",
      "text/plain": [
       "<graphviz.sources.Source at 0x7f4e2164e2d0>"
      ]
     },
     "execution_count": 22,
     "metadata": {},
     "output_type": "execute_result"
    }
   ],
   "source": [
    "Source(dot(ex5))"
   ]
  },
  {
   "cell_type": "code",
   "execution_count": 23,
   "metadata": {},
   "outputs": [
    {
     "data": {
      "text/html": [
       "<span class=\"tex2jax_ignore\"><svg xmlns=\"http://www.w3.org/2000/svg\" xmlns:xlink=\"http://www.w3.org/1999/xlink\" xml:lang=\"lzh\" id=\"f999b669f41b4362b78ce86c81158353-0\" class=\"displacy\" width=\"1250\" height=\"362.0\" direction=\"ltr\" style=\"max-width: none; height: 362.0px; color: black; background: white; font-family: Arial; direction: ltr\">\n",
       "<text class=\"displacy-token\" fill=\"currentColor\" text-anchor=\"middle\" y=\"272.0\">\n",
       "    <tspan class=\"displacy-word\" fill=\"currentColor\" x=\"50\">是</tspan>\n",
       "    <tspan class=\"displacy-tag\" dy=\"2em\" fill=\"currentColor\" x=\"50\">PRON</tspan>\n",
       "</text>\n",
       "\n",
       "<text class=\"displacy-token\" fill=\"currentColor\" text-anchor=\"middle\" y=\"272.0\">\n",
       "    <tspan class=\"displacy-word\" fill=\"currentColor\" x=\"200\">不</tspan>\n",
       "    <tspan class=\"displacy-tag\" dy=\"2em\" fill=\"currentColor\" x=\"200\">ADV</tspan>\n",
       "</text>\n",
       "\n",
       "<text class=\"displacy-token\" fill=\"currentColor\" text-anchor=\"middle\" y=\"272.0\">\n",
       "    <tspan class=\"displacy-word\" fill=\"currentColor\" x=\"350\">為</tspan>\n",
       "    <tspan class=\"displacy-tag\" dy=\"2em\" fill=\"currentColor\" x=\"350\">VERB</tspan>\n",
       "</text>\n",
       "\n",
       "<text class=\"displacy-token\" fill=\"currentColor\" text-anchor=\"middle\" y=\"272.0\">\n",
       "    <tspan class=\"displacy-word\" fill=\"currentColor\" x=\"500\">也</tspan>\n",
       "    <tspan class=\"displacy-tag\" dy=\"2em\" fill=\"currentColor\" x=\"500\">PART</tspan>\n",
       "</text>\n",
       "\n",
       "<text class=\"displacy-token\" fill=\"currentColor\" text-anchor=\"middle\" y=\"272.0\">\n",
       "    <tspan class=\"displacy-word\" fill=\"currentColor\" x=\"650\">非</tspan>\n",
       "    <tspan class=\"displacy-tag\" dy=\"2em\" fill=\"currentColor\" x=\"650\">ADV</tspan>\n",
       "</text>\n",
       "\n",
       "<text class=\"displacy-token\" fill=\"currentColor\" text-anchor=\"middle\" y=\"272.0\">\n",
       "    <tspan class=\"displacy-word\" fill=\"currentColor\" x=\"800\">不</tspan>\n",
       "    <tspan class=\"displacy-tag\" dy=\"2em\" fill=\"currentColor\" x=\"800\">ADV</tspan>\n",
       "</text>\n",
       "\n",
       "<text class=\"displacy-token\" fill=\"currentColor\" text-anchor=\"middle\" y=\"272.0\">\n",
       "    <tspan class=\"displacy-word\" fill=\"currentColor\" x=\"950\">能</tspan>\n",
       "    <tspan class=\"displacy-tag\" dy=\"2em\" fill=\"currentColor\" x=\"950\">AUX</tspan>\n",
       "</text>\n",
       "\n",
       "<text class=\"displacy-token\" fill=\"currentColor\" text-anchor=\"middle\" y=\"272.0\">\n",
       "    <tspan class=\"displacy-word\" fill=\"currentColor\" x=\"1100\">也</tspan>\n",
       "    <tspan class=\"displacy-tag\" dy=\"2em\" fill=\"currentColor\" x=\"1100\">PART</tspan>\n",
       "</text>\n",
       "\n",
       "<g class=\"displacy-arrow\">\n",
       "    <path class=\"displacy-arc\" id=\"arrow-f999b669f41b4362b78ce86c81158353-0-0\" stroke-width=\"2px\" d=\"M70,227.0 C70,77.0 345.0,77.0 345.0,227.0\" fill=\"none\" stroke=\"currentColor\"/>\n",
       "    <text dy=\"1.25em\" style=\"font-size: 0.8em; letter-spacing: 1px\">\n",
       "        <textPath xlink:href=\"#arrow-f999b669f41b4362b78ce86c81158353-0-0\" class=\"displacy-label\" startOffset=\"50%\" side=\"left\" fill=\"currentColor\" text-anchor=\"middle\">nsubj</textPath>\n",
       "    </text>\n",
       "    <path class=\"displacy-arrowhead\" d=\"M70,229.0 L62,217.0 78,217.0\" fill=\"currentColor\"/>\n",
       "</g>\n",
       "\n",
       "<g class=\"displacy-arrow\">\n",
       "    <path class=\"displacy-arc\" id=\"arrow-f999b669f41b4362b78ce86c81158353-0-1\" stroke-width=\"2px\" d=\"M220,227.0 C220,152.0 340.0,152.0 340.0,227.0\" fill=\"none\" stroke=\"currentColor\"/>\n",
       "    <text dy=\"1.25em\" style=\"font-size: 0.8em; letter-spacing: 1px\">\n",
       "        <textPath xlink:href=\"#arrow-f999b669f41b4362b78ce86c81158353-0-1\" class=\"displacy-label\" startOffset=\"50%\" side=\"left\" fill=\"currentColor\" text-anchor=\"middle\">advmod</textPath>\n",
       "    </text>\n",
       "    <path class=\"displacy-arrowhead\" d=\"M220,229.0 L212,217.0 228,217.0\" fill=\"currentColor\"/>\n",
       "</g>\n",
       "\n",
       "<g class=\"displacy-arrow\">\n",
       "    <path class=\"displacy-arc\" id=\"arrow-f999b669f41b4362b78ce86c81158353-0-2\" stroke-width=\"2px\" d=\"M370,227.0 C370,152.0 490.0,152.0 490.0,227.0\" fill=\"none\" stroke=\"currentColor\"/>\n",
       "    <text dy=\"1.25em\" style=\"font-size: 0.8em; letter-spacing: 1px\">\n",
       "        <textPath xlink:href=\"#arrow-f999b669f41b4362b78ce86c81158353-0-2\" class=\"displacy-label\" startOffset=\"50%\" side=\"left\" fill=\"currentColor\" text-anchor=\"middle\">discourse:sp</textPath>\n",
       "    </text>\n",
       "    <path class=\"displacy-arrowhead\" d=\"M490.0,229.0 L498.0,217.0 482.0,217.0\" fill=\"currentColor\"/>\n",
       "</g>\n",
       "\n",
       "<g class=\"displacy-arrow\">\n",
       "    <path class=\"displacy-arc\" id=\"arrow-f999b669f41b4362b78ce86c81158353-0-3\" stroke-width=\"2px\" d=\"M670,227.0 C670,77.0 945.0,77.0 945.0,227.0\" fill=\"none\" stroke=\"currentColor\"/>\n",
       "    <text dy=\"1.25em\" style=\"font-size: 0.8em; letter-spacing: 1px\">\n",
       "        <textPath xlink:href=\"#arrow-f999b669f41b4362b78ce86c81158353-0-3\" class=\"displacy-label\" startOffset=\"50%\" side=\"left\" fill=\"currentColor\" text-anchor=\"middle\">advmod</textPath>\n",
       "    </text>\n",
       "    <path class=\"displacy-arrowhead\" d=\"M670,229.0 L662,217.0 678,217.0\" fill=\"currentColor\"/>\n",
       "</g>\n",
       "\n",
       "<g class=\"displacy-arrow\">\n",
       "    <path class=\"displacy-arc\" id=\"arrow-f999b669f41b4362b78ce86c81158353-0-4\" stroke-width=\"2px\" d=\"M820,227.0 C820,152.0 940.0,152.0 940.0,227.0\" fill=\"none\" stroke=\"currentColor\"/>\n",
       "    <text dy=\"1.25em\" style=\"font-size: 0.8em; letter-spacing: 1px\">\n",
       "        <textPath xlink:href=\"#arrow-f999b669f41b4362b78ce86c81158353-0-4\" class=\"displacy-label\" startOffset=\"50%\" side=\"left\" fill=\"currentColor\" text-anchor=\"middle\">advmod</textPath>\n",
       "    </text>\n",
       "    <path class=\"displacy-arrowhead\" d=\"M820,229.0 L812,217.0 828,217.0\" fill=\"currentColor\"/>\n",
       "</g>\n",
       "\n",
       "<g class=\"displacy-arrow\">\n",
       "    <path class=\"displacy-arc\" id=\"arrow-f999b669f41b4362b78ce86c81158353-0-5\" stroke-width=\"2px\" d=\"M370,227.0 C370,2.0 950.0,2.0 950.0,227.0\" fill=\"none\" stroke=\"currentColor\"/>\n",
       "    <text dy=\"1.25em\" style=\"font-size: 0.8em; letter-spacing: 1px\">\n",
       "        <textPath xlink:href=\"#arrow-f999b669f41b4362b78ce86c81158353-0-5\" class=\"displacy-label\" startOffset=\"50%\" side=\"left\" fill=\"currentColor\" text-anchor=\"middle\">parataxis</textPath>\n",
       "    </text>\n",
       "    <path class=\"displacy-arrowhead\" d=\"M950.0,229.0 L958.0,217.0 942.0,217.0\" fill=\"currentColor\"/>\n",
       "</g>\n",
       "\n",
       "<g class=\"displacy-arrow\">\n",
       "    <path class=\"displacy-arc\" id=\"arrow-f999b669f41b4362b78ce86c81158353-0-6\" stroke-width=\"2px\" d=\"M970,227.0 C970,152.0 1090.0,152.0 1090.0,227.0\" fill=\"none\" stroke=\"currentColor\"/>\n",
       "    <text dy=\"1.25em\" style=\"font-size: 0.8em; letter-spacing: 1px\">\n",
       "        <textPath xlink:href=\"#arrow-f999b669f41b4362b78ce86c81158353-0-6\" class=\"displacy-label\" startOffset=\"50%\" side=\"left\" fill=\"currentColor\" text-anchor=\"middle\">discourse:sp</textPath>\n",
       "    </text>\n",
       "    <path class=\"displacy-arrowhead\" d=\"M1090.0,229.0 L1098.0,217.0 1082.0,217.0\" fill=\"currentColor\"/>\n",
       "</g>\n",
       "</svg></span>"
      ],
      "text/plain": [
       "<IPython.core.display.HTML object>"
      ]
     },
     "metadata": {},
     "output_type": "display_data"
    }
   ],
   "source": [
    "ex6 = nlp(\"是不為也非不能也\")\n",
    "displacy.render(ex6, options=display_options)"
   ]
  },
  {
   "cell_type": "code",
   "execution_count": 24,
   "metadata": {},
   "outputs": [
    {
     "data": {
      "image/svg+xml": "<?xml version=\"1.0\" encoding=\"UTF-8\" standalone=\"no\"?>\n<!DOCTYPE svg PUBLIC \"-//W3C//DTD SVG 1.1//EN\"\n \"http://www.w3.org/Graphics/SVG/1.1/DTD/svg11.dtd\">\n<!-- Generated by graphviz version 2.43.0 (0)\n -->\n<!-- Title: deplacy Pages: 1 -->\n<svg width=\"425pt\" height=\"425pt\"\n viewBox=\"0.00 0.00 424.50 425.00\" xmlns=\"http://www.w3.org/2000/svg\" xmlns:xlink=\"http://www.w3.org/1999/xlink\">\n<g id=\"graph0\" class=\"graph\" transform=\"scale(1 1) rotate(0) translate(4 421)\">\n<title>deplacy</title>\n<polygon fill=\"white\" stroke=\"transparent\" points=\"-4,4 -4,-421 420.5,-421 420.5,4 -4,4\"/>\n<!-- r3 -->\n<g id=\"node1\" class=\"node\">\n<title>r3</title>\n<text text-anchor=\"middle\" x=\"200.5\" y=\"-409\" font-family=\"sans-serif\" font-size=\"10.00\">ROOT</text>\n</g>\n<!-- x7 -->\n<g id=\"node2\" class=\"node\">\n<title>x7</title>\n<text text-anchor=\"middle\" x=\"200.5\" y=\"-347.3\" font-family=\"Times,serif\" font-size=\"14.00\">是不為也非不能也</text>\n</g>\n<!-- r3&#45;&gt;x7 -->\n<g id=\"edge1\" class=\"edge\">\n<title>r3&#45;&gt;x7</title>\n<path fill=\"none\" stroke=\"gray\" d=\"M200.5,-405.91C200.5,-400.11 200.5,-389.66 200.5,-379.5\"/>\n<polygon fill=\"gray\" stroke=\"gray\" points=\"204,-379.21 200.5,-369.21 197,-379.21 204,-379.21\"/>\n</g>\n<!-- x6 -->\n<g id=\"node3\" class=\"node\">\n<title>x6</title>\n<text text-anchor=\"middle\" x=\"155.5\" y=\"-264.3\" font-family=\"Times,serif\" font-size=\"14.00\">是不為也</text>\n</g>\n<!-- x7&#45;&gt;x6 -->\n<g id=\"edge2\" class=\"edge\">\n<title>x7&#45;&gt;x6</title>\n<path fill=\"none\" stroke=\"gray\" d=\"M190.96,-332.82C184.87,-321.87 176.87,-307.46 170,-295.11\"/>\n<polygon fill=\"gray\" stroke=\"gray\" points=\"172.95,-293.2 165.03,-286.15 166.83,-296.59 172.95,-293.2\"/>\n</g>\n<!-- x3 -->\n<g id=\"node4\" class=\"node\">\n<title>x3</title>\n<text text-anchor=\"middle\" x=\"247.5\" y=\"-264.3\" font-family=\"Times,serif\" font-size=\"14.00\">非不能也</text>\n</g>\n<!-- x7&#45;&gt;x3 -->\n<g id=\"edge3\" class=\"edge\">\n<title>x7&#45;&gt;x3</title>\n<path fill=\"none\" stroke=\"gray\" d=\"M210.47,-332.82C216.82,-321.87 225.18,-307.46 232.35,-295.11\"/>\n<polygon fill=\"gray\" stroke=\"gray\" points=\"235.56,-296.56 237.55,-286.15 229.5,-293.05 235.56,-296.56\"/>\n<text text-anchor=\"middle\" x=\"249.5\" y=\"-307\" font-family=\"sans-serif\" font-size=\"10.00\">parataxis</text>\n</g>\n<!-- x5 -->\n<g id=\"node5\" class=\"node\">\n<title>x5</title>\n<text text-anchor=\"middle\" x=\"101.5\" y=\"-191.3\" font-family=\"Times,serif\" font-size=\"14.00\">是不為</text>\n</g>\n<!-- x6&#45;&gt;x5 -->\n<g id=\"edge4\" class=\"edge\">\n<title>x6&#45;&gt;x5</title>\n<path fill=\"none\" stroke=\"gray\" d=\"M142.43,-249.81C135.86,-241.18 127.78,-230.56 120.54,-221.03\"/>\n<polygon fill=\"gray\" stroke=\"gray\" points=\"123.29,-218.87 114.45,-213.03 117.72,-223.11 123.29,-218.87\"/>\n</g>\n<!-- w -->\n<g id=\"node6\" class=\"node\">\n<title>w</title>\n<polygon fill=\"none\" stroke=\"black\" stroke-width=\"0\" points=\"0,-0.5 0,-46.5 415,-46.5 415,-0.5 0,-0.5\"/>\n<text text-anchor=\"middle\" x=\"30\" y=\"-31.3\" font-family=\"Times,serif\" font-size=\"14.00\">是</text>\n<polyline fill=\"none\" stroke=\"black\" stroke-width=\"0\" points=\"0,-23.5 60,-23.5 \"/>\n<text text-anchor=\"middle\" x=\"30\" y=\"-8.3\" font-family=\"Times,serif\" font-size=\"14.00\">PRON</text>\n<polyline fill=\"none\" stroke=\"black\" stroke-width=\"0\" points=\"60,-0.5 60,-46.5 \"/>\n<text text-anchor=\"middle\" x=\"83.5\" y=\"-31.3\" font-family=\"Times,serif\" font-size=\"14.00\">不</text>\n<polyline fill=\"none\" stroke=\"black\" stroke-width=\"0\" points=\"60,-23.5 107,-23.5 \"/>\n<text text-anchor=\"middle\" x=\"83.5\" y=\"-8.3\" font-family=\"Times,serif\" font-size=\"14.00\">ADV</text>\n<polyline fill=\"none\" stroke=\"black\" stroke-width=\"0\" points=\"107,-0.5 107,-46.5 \"/>\n<text text-anchor=\"middle\" x=\"136\" y=\"-31.3\" font-family=\"Times,serif\" font-size=\"14.00\">為</text>\n<polyline fill=\"none\" stroke=\"black\" stroke-width=\"0\" points=\"107,-23.5 165,-23.5 \"/>\n<text text-anchor=\"middle\" x=\"136\" y=\"-8.3\" font-family=\"Times,serif\" font-size=\"14.00\">VERB</text>\n<polyline fill=\"none\" stroke=\"black\" stroke-width=\"0\" points=\"165,-0.5 165,-46.5 \"/>\n<text text-anchor=\"middle\" x=\"192\" y=\"-31.3\" font-family=\"Times,serif\" font-size=\"14.00\">也</text>\n<polyline fill=\"none\" stroke=\"black\" stroke-width=\"0\" points=\"165,-23.5 219,-23.5 \"/>\n<text text-anchor=\"middle\" x=\"192\" y=\"-8.3\" font-family=\"Times,serif\" font-size=\"14.00\">PART</text>\n<polyline fill=\"none\" stroke=\"black\" stroke-width=\"0\" points=\"219,-0.5 219,-46.5 \"/>\n<text text-anchor=\"middle\" x=\"242.5\" y=\"-31.3\" font-family=\"Times,serif\" font-size=\"14.00\">非</text>\n<polyline fill=\"none\" stroke=\"black\" stroke-width=\"0\" points=\"219,-23.5 266,-23.5 \"/>\n<text text-anchor=\"middle\" x=\"242.5\" y=\"-8.3\" font-family=\"Times,serif\" font-size=\"14.00\">ADV</text>\n<polyline fill=\"none\" stroke=\"black\" stroke-width=\"0\" points=\"266,-0.5 266,-46.5 \"/>\n<text text-anchor=\"middle\" x=\"289.5\" y=\"-31.3\" font-family=\"Times,serif\" font-size=\"14.00\">不</text>\n<polyline fill=\"none\" stroke=\"black\" stroke-width=\"0\" points=\"266,-23.5 313,-23.5 \"/>\n<text text-anchor=\"middle\" x=\"289.5\" y=\"-8.3\" font-family=\"Times,serif\" font-size=\"14.00\">ADV</text>\n<polyline fill=\"none\" stroke=\"black\" stroke-width=\"0\" points=\"313,-0.5 313,-46.5 \"/>\n<text text-anchor=\"middle\" x=\"337\" y=\"-31.3\" font-family=\"Times,serif\" font-size=\"14.00\">能</text>\n<polyline fill=\"none\" stroke=\"black\" stroke-width=\"0\" points=\"313,-23.5 361,-23.5 \"/>\n<text text-anchor=\"middle\" x=\"337\" y=\"-8.3\" font-family=\"Times,serif\" font-size=\"14.00\">AUX</text>\n<polyline fill=\"none\" stroke=\"black\" stroke-width=\"0\" points=\"361,-0.5 361,-46.5 \"/>\n<text text-anchor=\"middle\" x=\"388\" y=\"-31.3\" font-family=\"Times,serif\" font-size=\"14.00\">也</text>\n<polyline fill=\"none\" stroke=\"black\" stroke-width=\"0\" points=\"361,-23.5 415,-23.5 \"/>\n<text text-anchor=\"middle\" x=\"388\" y=\"-8.3\" font-family=\"Times,serif\" font-size=\"14.00\">PART</text>\n</g>\n<!-- x6&#45;&gt;w -->\n<g id=\"edge5\" class=\"edge\">\n<title>x6&#45;&gt;w:4</title>\n<path fill=\"none\" stroke=\"gray\" d=\"M154.86,-249.91C154.29,-226.66 154.35,-183.87 160.5,-148 167.82,-105.34 187.99,-95.4 191.1,-57.32\"/>\n<polygon fill=\"gray\" stroke=\"gray\" points=\"194.61,-57.13 191.5,-47 187.61,-56.86 194.61,-57.13\"/>\n<text text-anchor=\"middle\" x=\"191\" y=\"-151\" font-family=\"sans-serif\" font-size=\"10.00\">discourse:sp</text>\n</g>\n<!-- x3&#45;&gt;w -->\n<g id=\"edge11\" class=\"edge\">\n<title>x3&#45;&gt;w:8</title>\n<path fill=\"none\" stroke=\"gray\" d=\"M241.55,-249.72C229.2,-210.26 205.99,-113.24 257.5,-65 276.1,-47.58 360.95,-68.93 383.17,-55.75\"/>\n<polygon fill=\"gray\" stroke=\"gray\" points=\"386.28,-57.36 388.5,-47 380.31,-53.72 386.28,-57.36\"/>\n<text text-anchor=\"middle\" x=\"256\" y=\"-151\" font-family=\"sans-serif\" font-size=\"10.00\">discourse:sp</text>\n</g>\n<!-- x2 -->\n<g id=\"node8\" class=\"node\">\n<title>x2</title>\n<text text-anchor=\"middle\" x=\"319.5\" y=\"-191.3\" font-family=\"Times,serif\" font-size=\"14.00\">非不能</text>\n</g>\n<!-- x3&#45;&gt;x2 -->\n<g id=\"edge10\" class=\"edge\">\n<title>x3&#45;&gt;x2</title>\n<path fill=\"none\" stroke=\"gray\" d=\"M264.93,-249.81C273.95,-240.92 285.11,-229.91 294.99,-220.17\"/>\n<polygon fill=\"gray\" stroke=\"gray\" points=\"297.57,-222.54 302.23,-213.03 292.65,-217.56 297.57,-222.54\"/>\n</g>\n<!-- x5&#45;&gt;w -->\n<g id=\"edge6\" class=\"edge\">\n<title>x5&#45;&gt;w:1</title>\n<path fill=\"none\" stroke=\"gray\" d=\"M78,-176.85C64.04,-165.28 47.38,-148.74 38.5,-130 24.16,-99.75 28.37,-86.72 29.33,-57.21\"/>\n<polygon fill=\"gray\" stroke=\"gray\" points=\"32.83,-57.06 29.5,-47 25.83,-56.94 32.83,-57.06\"/>\n<text text-anchor=\"middle\" x=\"52\" y=\"-109.5\" font-family=\"sans-serif\" font-size=\"10.00\">nsubj</text>\n</g>\n<!-- x4 -->\n<g id=\"node7\" class=\"node\">\n<title>x4</title>\n<text text-anchor=\"middle\" x=\"101.5\" y=\"-108.3\" font-family=\"Times,serif\" font-size=\"14.00\">不為</text>\n</g>\n<!-- x5&#45;&gt;x4 -->\n<g id=\"edge7\" class=\"edge\">\n<title>x5&#45;&gt;x4</title>\n<path fill=\"none\" stroke=\"gray\" d=\"M101.5,-176.82C101.5,-166.19 101.5,-152.31 101.5,-140.2\"/>\n<polygon fill=\"gray\" stroke=\"gray\" points=\"105,-140.15 101.5,-130.15 98,-140.15 105,-140.15\"/>\n</g>\n<!-- x4&#45;&gt;w -->\n<g id=\"edge8\" class=\"edge\">\n<title>x4&#45;&gt;w:2</title>\n<path fill=\"none\" stroke=\"gray\" d=\"M88.61,-93.69C85.3,-88.3 82.2,-82.15 80.5,-76 78.12,-67.41 80.43,-63.05 82.11,-56.95\"/>\n<polygon fill=\"gray\" stroke=\"gray\" points=\"85.58,-57.39 83.5,-47 78.65,-56.42 85.58,-57.39\"/>\n<text text-anchor=\"middle\" x=\"100.5\" y=\"-68\" font-family=\"sans-serif\" font-size=\"10.00\">advmod</text>\n</g>\n<!-- x4&#45;&gt;w -->\n<g id=\"edge9\" class=\"edge\">\n<title>x4&#45;&gt;w:3</title>\n<path fill=\"none\" stroke=\"gray\" d=\"M116.51,-93.81C123.84,-83.99 131.67,-70.91 134.45,-57.12\"/>\n<polygon fill=\"gray\" stroke=\"gray\" points=\"137.95,-57.31 135.5,-47 130.99,-56.58 137.95,-57.31\"/>\n</g>\n<!-- x2&#45;&gt;w -->\n<g id=\"edge12\" class=\"edge\">\n<title>x2&#45;&gt;w:5</title>\n<path fill=\"none\" stroke=\"gray\" d=\"M315.22,-176.63C312.82,-167.87 309.49,-157.19 305.5,-148 288.52,-108.92 281.9,-99.94 257.5,-65 254.24,-60.33 250.06,-58.5 246.94,-56.1\"/>\n<polygon fill=\"gray\" stroke=\"gray\" points=\"250.03,-54.45 242.5,-47 243.74,-57.52 250.03,-54.45\"/>\n<text text-anchor=\"middle\" x=\"316.5\" y=\"-109.5\" font-family=\"sans-serif\" font-size=\"10.00\">advmod</text>\n</g>\n<!-- x1 -->\n<g id=\"node9\" class=\"node\">\n<title>x1</title>\n<text text-anchor=\"middle\" x=\"389.5\" y=\"-108.3\" font-family=\"Times,serif\" font-size=\"14.00\">不能</text>\n</g>\n<!-- x2&#45;&gt;x1 -->\n<g id=\"edge13\" class=\"edge\">\n<title>x2&#45;&gt;x1</title>\n<path fill=\"none\" stroke=\"gray\" d=\"M334.35,-176.82C344.09,-165.55 357,-150.61 367.87,-138.02\"/>\n<polygon fill=\"gray\" stroke=\"gray\" points=\"370.79,-140.01 374.68,-130.15 365.49,-135.43 370.79,-140.01\"/>\n</g>\n<!-- x1&#45;&gt;w -->\n<g id=\"edge14\" class=\"edge\">\n<title>x1&#45;&gt;w:6</title>\n<path fill=\"none\" stroke=\"gray\" d=\"M362.44,-94.06C340.92,-80.55 312.17,-62.4 298.05,-53.07\"/>\n<polygon fill=\"gray\" stroke=\"gray\" points=\"299.68,-49.94 289.5,-47 295.63,-55.64 299.68,-49.94\"/>\n<text text-anchor=\"middle\" x=\"353.5\" y=\"-68\" font-family=\"sans-serif\" font-size=\"10.00\">advmod</text>\n</g>\n<!-- x1&#45;&gt;w -->\n<g id=\"edge15\" class=\"edge\">\n<title>x1&#45;&gt;w:7</title>\n<path fill=\"none\" stroke=\"gray\" d=\"M388.55,-93.61C387.22,-84.21 384.21,-72.94 377.5,-65 368.06,-53.83 350.28,-60.26 341.98,-55.94\"/>\n<polygon fill=\"gray\" stroke=\"gray\" points=\"345.11,-54.37 337.5,-47 338.85,-57.51 345.11,-54.37\"/>\n</g>\n</g>\n</svg>\n",
      "text/plain": [
       "<graphviz.sources.Source at 0x7f4e0bbf1fd0>"
      ]
     },
     "execution_count": 24,
     "metadata": {},
     "output_type": "execute_result"
    }
   ],
   "source": [
    "Source(dot(ex6))"
   ]
  }
 ],
 "metadata": {
  "interpreter": {
   "hash": "5c36988f6934d5f298e2ed50ec8ee55dd622f2d2c8c2fffd8d1cfcc03df05c4a"
  },
  "kernelspec": {
   "display_name": "Python 3.7.6 64-bit ('general': venv)",
   "language": "python",
   "name": "python3"
  },
  "language_info": {
   "codemirror_mode": {
    "name": "ipython",
    "version": 3
   },
   "file_extension": ".py",
   "mimetype": "text/x-python",
   "name": "python",
   "nbconvert_exporter": "python",
   "pygments_lexer": "ipython3",
   "version": "3.7.6"
  },
  "orig_nbformat": 4
 },
 "nbformat": 4,
 "nbformat_minor": 2
}
