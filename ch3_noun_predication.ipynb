{
 "cells": [
  {
   "cell_type": "markdown",
   "metadata": {},
   "source": [
    "# 3 : Noun Predication"
   ]
  },
  {
   "cell_type": "code",
   "execution_count": 19,
   "metadata": {},
   "outputs": [],
   "source": [
    "from deplacy import (\n",
    "    dot,\n",
    "    render,\n",
    "    to_conllu\n",
    ")\n",
    "from graphviz import Source\n",
    "from lzh_helpers.serve import serve\n",
    "from spacy import displacy\n",
    "from udkanbun.spacy import load\n",
    "\n",
    "display_options = {\n",
    "    \"add_lemma\": False,\n",
    "    \"bg\": \"white\",\n",
    "    \"color\": \"black\",\n",
    "    \"compact\": False,\n",
    "    \"distance\": 150,\n",
    "    \"fine_grained\": False\n",
    "}\n",
    "\n",
    "nlp = load(MeCab=False, Danku=True)"
   ]
  },
  {
   "cell_type": "markdown",
   "metadata": {},
   "source": [
    "## 1. Verbless Noun Predictation"
   ]
  },
  {
   "cell_type": "markdown",
   "metadata": {},
   "source": [
    "The following formula is used (A may be ommitted as assumed):\n",
    "\n",
    "> (A) (非) B 也"
   ]
  },
  {
   "cell_type": "code",
   "execution_count": 20,
   "metadata": {},
   "outputs": [
    {
     "data": {
      "text/html": [
       "\n",
       "        <iframe\n",
       "            width=\"100%\"\n",
       "            height=\"200\"\n",
       "            src=\"https://koichiyasuoka.github.io/deplacy/deplacy/viewer.svg#1%09%E9%9D%9E%09%E9%9D%9E%09ADV%09v%2C%E5%89%AF%E8%A9%9E%2C%E5%90%A6%E5%AE%9A%2C%E4%BD%93%E8%A8%80%E5%90%A6%E5%AE%9A%09Polarity%3DNeg%092%09advmod%09_%09SpaceAfter%3DNo%0A2%09%E6%88%91%09%E6%88%91%09PRON%09n%2C%E4%BB%A3%E5%90%8D%E8%A9%9E%2C%E4%BA%BA%E7%A7%B0%2C%E6%AD%A2%E6%A0%BC%09Person%3D1%7CPronType%3DPrs%090%09ROOT%09_%09SpaceAfter%3DNo%0A3%09%E4%B9%9F%09%E4%B9%9F%09PART%09p%2C%E5%8A%A9%E8%A9%9E%2C%E5%8F%A5%E6%9C%AB%2C%2A%09_%092%09discourse%3Asp%09_%09SpaceAfter%3DNo%0A4%09%E5%85%B5%09%E5%85%B5%09NOUN%09n%2C%E5%90%8D%E8%A9%9E%2C%E4%BA%BA%2C%E5%BD%B9%E5%89%B2%09_%092%09parataxis%09_%09SpaceAfter%3DNo%0A5%09%E4%B9%9F%09%E4%B9%9F%09PART%09p%2C%E5%8A%A9%E8%A9%9E%2C%E5%8F%A5%E6%9C%AB%2C%2A%09_%094%09discourse%3Asp%09_%09_%0A%0A\"\n",
       "            frameborder=\"0\"\n",
       "            allowfullscreen\n",
       "            style=\"background-color: white;\"\n",
       "        ></iframe>\n",
       "        "
      ],
      "text/plain": [
       "<IPython.lib.display.IFrame at 0x7f1f96cfbe20>"
      ]
     },
     "metadata": {},
     "output_type": "display_data"
    }
   ],
   "source": [
    "ex5 = nlp(\"非我也兵也\")\n",
    "# print(to_conllu(ex5))\n",
    "# render(ex5)\n",
    "# displacy.render(ex5, options=display_options)\n",
    "# Source(dot(ex5))\n",
    "# serve(ex5, port=None)\n",
    "serve(ex5)"
   ]
  },
  {
   "cell_type": "code",
   "execution_count": 21,
   "metadata": {},
   "outputs": [
    {
     "data": {
      "text/html": [
       "\n",
       "        <iframe\n",
       "            width=\"100%\"\n",
       "            height=\"200\"\n",
       "            src=\"https://koichiyasuoka.github.io/deplacy/deplacy/viewer.svg#1%09%E6%98%AF%09%E6%98%AF%09PRON%09n%2C%E4%BB%A3%E5%90%8D%E8%A9%9E%2C%E6%8C%87%E7%A4%BA%2C%2A%09PronType%3DDem%093%09nsubj%09_%09SpaceAfter%3DNo%0A2%09%E4%B8%8D%09%E4%B8%8D%09ADV%09v%2C%E5%89%AF%E8%A9%9E%2C%E5%90%A6%E5%AE%9A%2C%E7%84%A1%E7%95%8C%09Polarity%3DNeg%093%09advmod%09_%09SpaceAfter%3DNo%0A3%09%E7%82%BA%09%E7%88%B2%09VERB%09v%2C%E5%8B%95%E8%A9%9E%2C%E8%A1%8C%E7%82%BA%2C%E7%94%9F%E7%94%A3%09_%090%09ROOT%09_%09SpaceAfter%3DNo%0A4%09%E4%B9%9F%09%E4%B9%9F%09PART%09p%2C%E5%8A%A9%E8%A9%9E%2C%E5%8F%A5%E6%9C%AB%2C%2A%09_%093%09discourse%3Asp%09_%09SpaceAfter%3DNo%0A5%09%E9%9D%9E%09%E9%9D%9E%09ADV%09v%2C%E5%89%AF%E8%A9%9E%2C%E5%90%A6%E5%AE%9A%2C%E4%BD%93%E8%A8%80%E5%90%A6%E5%AE%9A%09Polarity%3DNeg%097%09advmod%09_%09SpaceAfter%3DNo%0A6%09%E4%B8%8D%09%E4%B8%8D%09ADV%09v%2C%E5%89%AF%E8%A9%9E%2C%E5%90%A6%E5%AE%9A%2C%E7%84%A1%E7%95%8C%09Polarity%3DNeg%097%09advmod%09_%09SpaceAfter%3DNo%0A7%09%E8%83%BD%09%E8%83%BD%09AUX%09v%2C%E5%8A%A9%E5%8B%95%E8%A9%9E%2C%E5%8F%AF%E8%83%BD%2C%2A%09Mood%3DPot%093%09parataxis%09_%09SpaceAfter%3DNo%0A8%09%E4%B9%9F%09%E4%B9%9F%09PART%09p%2C%E5%8A%A9%E8%A9%9E%2C%E5%8F%A5%E6%9C%AB%2C%2A%09_%097%09discourse%3Asp%09_%09_%0A%0A\"\n",
       "            frameborder=\"0\"\n",
       "            allowfullscreen\n",
       "            style=\"background-color: white;\"\n",
       "        ></iframe>\n",
       "        "
      ],
      "text/plain": [
       "<IPython.lib.display.IFrame at 0x7f1f96cfbc10>"
      ]
     },
     "metadata": {},
     "output_type": "display_data"
    }
   ],
   "source": [
    "ex6 = nlp(\"是不為也非不能也\")\n",
    "serve(ex6)"
   ]
  },
  {
   "cell_type": "code",
   "execution_count": 22,
   "metadata": {},
   "outputs": [
    {
     "data": {
      "text/html": [
       "\n",
       "        <iframe\n",
       "            width=\"100%\"\n",
       "            height=\"200\"\n",
       "            src=\"https://koichiyasuoka.github.io/deplacy/deplacy/viewer.svg#1%09%E7%95%8F%09%E7%95%8F%09VERB%09v%2C%E5%8B%95%E8%A9%9E%2C%E8%A1%8C%E7%82%BA%2C%E6%85%8B%E5%BA%A6%09_%093%09acl%09_%09SpaceAfter%3DNo%0A2%09%E5%A4%A9%09%E5%A4%A9%09NOUN%09n%2C%E5%90%8D%E8%A9%9E%2C%E5%88%B6%E5%BA%A6%2C%E5%A0%B4%09Case%3DLoc%091%09obj%09_%09SpaceAfter%3DNo%0A3%09%E8%80%85%09%EF%A9%9B%09PART%09p%2C%E5%8A%A9%E8%A9%9E%2C%E6%8F%90%E7%A4%BA%2C%2A%09_%090%09ROOT%09_%09SpaceAfter%3DNo%0A4%09%E4%B9%9F%09%E4%B9%9F%09PART%09p%2C%E5%8A%A9%E8%A9%9E%2C%E5%8F%A5%E6%9C%AB%2C%2A%09_%093%09discourse%3Asp%09_%09_%0A%0A\"\n",
       "            frameborder=\"0\"\n",
       "            allowfullscreen\n",
       "            style=\"background-color: white;\"\n",
       "        ></iframe>\n",
       "        "
      ],
      "text/plain": [
       "<IPython.lib.display.IFrame at 0x7f1f96d152e0>"
      ]
     },
     "metadata": {},
     "output_type": "display_data"
    }
   ],
   "source": [
    "ex7 = nlp(\"畏天者也\")\n",
    "serve(ex7)"
   ]
  },
  {
   "cell_type": "code",
   "execution_count": 23,
   "metadata": {},
   "outputs": [
    {
     "data": {
      "text/html": [
       "\n",
       "        <iframe\n",
       "            width=\"100%\"\n",
       "            height=\"200\"\n",
       "            src=\"https://koichiyasuoka.github.io/deplacy/deplacy/viewer.svg#1%09%E5%8F%9F%09%E5%8F%9F%09NOUN%09n%2C%E5%90%8D%E8%A9%9E%2C%E4%BA%BA%2C%E4%BA%BA%09_%094%09nsubj%09_%09SpaceAfter%3DNo%0A2%09%E4%B9%8B%09%E4%B9%8B%09SCONJ%09p%2C%E5%8A%A9%E8%A9%9E%2C%E6%8E%A5%E7%B6%9A%2C%E5%B1%9E%E6%A0%BC%09_%091%09case%09_%09SpaceAfter%3DNo%0A3%09%E6%89%80%09%E6%89%80%09PART%09p%2C%E5%8A%A9%E8%A9%9E%2C%E6%8E%A5%E7%B6%9A%2C%E4%BD%93%E8%A8%80%E5%8C%96%09_%094%09mark%09_%09SpaceAfter%3DNo%0A4%09%E7%9F%A5%09%E7%9F%A5%09VERB%09v%2C%E5%8B%95%E8%A9%9E%2C%E8%A1%8C%E7%82%BA%2C%E5%8B%95%E4%BD%9C%09_%090%09ROOT%09_%09SpaceAfter%3DNo%0A5%09%E4%B9%9F%09%E4%B9%9F%09PART%09p%2C%E5%8A%A9%E8%A9%9E%2C%E5%8F%A5%E6%9C%AB%2C%2A%09_%094%09discourse%3Asp%09_%09_%0A%0A\"\n",
       "            frameborder=\"0\"\n",
       "            allowfullscreen\n",
       "            style=\"background-color: white;\"\n",
       "        ></iframe>\n",
       "        "
      ],
      "text/plain": [
       "<IPython.lib.display.IFrame at 0x7f1f96cfbb20>"
      ]
     },
     "metadata": {},
     "output_type": "display_data"
    }
   ],
   "source": [
    "ex8 = nlp(\"叟之所知也\")\n",
    "serve(ex8)"
   ]
  },
  {
   "cell_type": "markdown",
   "metadata": {},
   "source": [
    "### a. Questions"
   ]
  },
  {
   "cell_type": "code",
   "execution_count": 24,
   "metadata": {},
   "outputs": [
    {
     "data": {
      "text/html": [
       "\n",
       "        <iframe\n",
       "            width=\"100%\"\n",
       "            height=\"250\"\n",
       "            src=\"https://koichiyasuoka.github.io/deplacy/deplacy/viewer.svg#1%09%E5%A4%AB%09%E5%A4%AB%09PART%09p%2C%E5%8A%A9%E8%A9%9E%2C%E5%8F%A5%E9%A0%AD%2C%2A%09_%093%09discourse%09_%09SpaceAfter%3DNo%0A2%09%E9%9D%9E%09%E9%9D%9E%09ADV%09v%2C%E5%89%AF%E8%A9%9E%2C%E5%90%A6%E5%AE%9A%2C%E4%BD%93%E8%A8%80%E5%90%A6%E5%AE%9A%09Polarity%3DNeg%093%09advmod%09_%09SpaceAfter%3DNo%0A3%09%E7%9B%A1%09%E7%9B%A1%09VERB%09v%2C%E5%8B%95%E8%A9%9E%2C%E8%A1%8C%E7%82%BA%2C%E5%8B%95%E4%BD%9C%09_%090%09ROOT%09_%09SpaceAfter%3DNo%0A4%09%E4%BA%BA%09%E4%BA%BA%09NOUN%09n%2C%E5%90%8D%E8%A9%9E%2C%E4%BA%BA%2C%E4%BA%BA%09_%096%09nmod%09_%09SpaceAfter%3DNo%0A5%09%E4%B9%8B%09%E4%B9%8B%09SCONJ%09p%2C%E5%8A%A9%E8%A9%9E%2C%E6%8E%A5%E7%B6%9A%2C%E5%B1%9E%E6%A0%BC%09_%094%09case%09_%09SpaceAfter%3DNo%0A6%09%E5%AD%90%09%E5%AD%90%09NOUN%09n%2C%E5%90%8D%E8%A9%9E%2C%E4%BA%BA%2C%E9%96%A2%E4%BF%82%09_%093%09obj%09_%09SpaceAfter%3DNo%0A7%09%E8%88%87%09%E8%88%87%09PART%09p%2C%E5%8A%A9%E8%A9%9E%2C%E5%8F%A5%E6%9C%AB%2C%2A%09_%093%09discourse%3Asp%09_%09_%0A%0A\"\n",
       "            frameborder=\"0\"\n",
       "            allowfullscreen\n",
       "            style=\"background-color: white;\"\n",
       "        ></iframe>\n",
       "        "
      ],
      "text/plain": [
       "<IPython.lib.display.IFrame at 0x7f1f96d15d00>"
      ]
     },
     "metadata": {},
     "output_type": "display_data"
    }
   ],
   "source": [
    "ex9 = nlp(\"夫非盡人之子與\")\n",
    "serve(ex9, 250)"
   ]
  },
  {
   "cell_type": "code",
   "execution_count": 25,
   "metadata": {},
   "outputs": [
    {
     "data": {
      "text/html": [
       "\n",
       "        <iframe\n",
       "            width=\"100%\"\n",
       "            height=\"200\"\n",
       "            src=\"https://koichiyasuoka.github.io/deplacy/deplacy/viewer.svg#1%09%E5%85%B6%09%E5%85%B6%09PRON%09n%2C%E4%BB%A3%E5%90%8D%E8%A9%9E%2C%E4%BA%BA%E7%A7%B0%2C%E8%B5%B7%E6%A0%BC%09Person%3D3%7CPronType%3DPrs%093%09nsubj%09_%09SpaceAfter%3DNo%0A2%09%E6%AD%A3%09%E6%AD%A3%09VERB%09v%2C%E5%8B%95%E8%A9%9E%2C%E6%8F%8F%E5%86%99%2C%E5%BD%A2%E8%B3%AA%09Degree%3DPos%093%09amod%09_%09SpaceAfter%3DNo%0A3%09%E8%89%B2%09%E8%89%B2%09NOUN%09n%2C%E5%90%8D%E8%A9%9E%2C%E6%8F%8F%E5%86%99%2C%E5%BD%A2%E8%B3%AA%09_%090%09ROOT%09_%09SpaceAfter%3DNo%0A4%09%E9%82%AA%09%E9%82%AA%09PART%09p%2C%E5%8A%A9%E8%A9%9E%2C%E5%8F%A5%E6%9C%AB%2C%2A%09_%093%09discourse%3Asp%09_%09_%0A%0A\"\n",
       "            frameborder=\"0\"\n",
       "            allowfullscreen\n",
       "            style=\"background-color: white;\"\n",
       "        ></iframe>\n",
       "        "
      ],
      "text/plain": [
       "<IPython.lib.display.IFrame at 0x7f1f96cfbbe0>"
      ]
     },
     "metadata": {},
     "output_type": "display_data"
    }
   ],
   "source": [
    "ex10 = nlp(\"其正色邪\")\n",
    "serve(ex10)"
   ]
  },
  {
   "cell_type": "code",
   "execution_count": 26,
   "metadata": {},
   "outputs": [
    {
     "data": {
      "text/html": [
       "\n",
       "        <iframe\n",
       "            width=\"100%\"\n",
       "            height=\"200\"\n",
       "            src=\"https://koichiyasuoka.github.io/deplacy/deplacy/viewer.svg#1%09%E7%84%B6%09%E7%84%B6%09VERB%09v%2C%E5%8B%95%E8%A9%9E%2C%E6%8F%8F%E5%86%99%2C%E6%85%8B%E5%BA%A6%09Degree%3DPos%093%09advmod%09_%09SpaceAfter%3DNo%0A2%09%E8%80%8C%09%E8%80%8C%09CCONJ%09p%2C%E5%8A%A9%E8%A9%9E%2C%E6%8E%A5%E7%B6%9A%2C%E4%B8%A6%E5%88%97%09_%093%09advmod%09_%09SpaceAfter%3DNo%0A3%09%E8%87%B3%09%E8%87%B3%09VERB%09v%2C%E5%8B%95%E8%A9%9E%2C%E8%A1%8C%E7%82%BA%2C%E7%A7%BB%E5%8B%95%09_%096%09acl%09_%09SpaceAfter%3DNo%0A4%09%E6%AD%A4%09%E6%AD%A4%09PRON%09n%2C%E4%BB%A3%E5%90%8D%E8%A9%9E%2C%E6%8C%87%E7%A4%BA%2C%2A%09PronType%3DDem%095%09det%09_%09SpaceAfter%3DNo%0A5%09%E6%A5%B5%09%E6%A5%B5%09NOUN%09n%2C%E5%90%8D%E8%A9%9E%2C%E5%9B%BA%E5%AE%9A%E7%89%A9%2C%E9%96%A2%E4%BF%82%09Case%3DLoc%093%09obj%09_%09SpaceAfter%3DNo%0A6%09%E8%80%85%09%EF%A9%9B%09PART%09p%2C%E5%8A%A9%E8%A9%9E%2C%E6%8F%90%E7%A4%BA%2C%2A%09_%097%09nsubj%09_%09SpaceAfter%3DNo%0A7%09%E5%91%BD%09%E5%91%BD%09NOUN%09n%2C%E5%90%8D%E8%A9%9E%2C%E5%8F%AF%E6%90%AC%2C%E4%BC%9D%E9%81%94%09_%090%09ROOT%09_%09SpaceAfter%3DNo%0A8%09%E4%B9%9F%09%E4%B9%9F%09PART%09p%2C%E5%8A%A9%E8%A9%9E%2C%E5%8F%A5%E6%9C%AB%2C%2A%09_%097%09discourse%3Asp%09_%09SpaceAfter%3DNo%0A9%09%E5%A4%AB%09%E5%A4%AB%09PART%09p%2C%E5%8A%A9%E8%A9%9E%2C%E5%8F%A5%E6%9C%AB%2C%2A%09_%097%09discourse%3Asp%09_%09_%0A%0A\"\n",
       "            frameborder=\"0\"\n",
       "            allowfullscreen\n",
       "            style=\"background-color: white;\"\n",
       "        ></iframe>\n",
       "        "
      ],
      "text/plain": [
       "<IPython.lib.display.IFrame at 0x7f1f96cfbaf0>"
      ]
     },
     "metadata": {},
     "output_type": "display_data"
    }
   ],
   "source": [
    "ex11 = nlp(\"然而至此極者命也夫\")\n",
    "serve(ex11)"
   ]
  },
  {
   "cell_type": "markdown",
   "metadata": {},
   "source": [
    "### b. Pronouns and Particles with Verbless Noun Predicates"
   ]
  },
  {
   "cell_type": "code",
   "execution_count": 27,
   "metadata": {},
   "outputs": [
    {
     "data": {
      "text/html": [
       "\n",
       "        <iframe\n",
       "            width=\"100%\"\n",
       "            height=\"200\"\n",
       "            src=\"https://koichiyasuoka.github.io/deplacy/deplacy/viewer.svg#1%09%E6%AD%A4%09%E6%AD%A4%09PRON%09n%2C%E4%BB%A3%E5%90%8D%E8%A9%9E%2C%E6%8C%87%E7%A4%BA%2C%2A%09PronType%3DDem%095%09nsubj%09_%09SpaceAfter%3DNo%0A2%09%E6%96%87%09%E6%96%87%09PROPN%09n%2C%E5%90%8D%E8%A9%9E%2C%E4%BA%BA%2C%E3%81%9D%E3%81%AE%E4%BB%96%E3%81%AE%E4%BA%BA%E5%90%8D%09NameType%3DPrs%093%09compound%09_%09SpaceAfter%3DNo%0A3%09%E7%8E%8B%09%E7%8E%8B%09NOUN%09n%2C%E5%90%8D%E8%A9%9E%2C%E4%BA%BA%2C%E5%BD%B9%E5%89%B2%09_%095%09nmod%09_%09SpaceAfter%3DNo%0A4%09%E4%B9%8B%09%E4%B9%8B%09SCONJ%09p%2C%E5%8A%A9%E8%A9%9E%2C%E6%8E%A5%E7%B6%9A%2C%E5%B1%9E%E6%A0%BC%09_%093%09case%09_%09SpaceAfter%3DNo%0A5%09%E5%8B%87%09%E5%8B%87%09NOUN%09n%2C%E5%90%8D%E8%A9%9E%2C%E6%8F%8F%E5%86%99%2C%E6%85%8B%E5%BA%A6%09_%090%09ROOT%09_%09SpaceAfter%3DNo%0A6%09%E4%B9%9F%09%E4%B9%9F%09PART%09p%2C%E5%8A%A9%E8%A9%9E%2C%E5%8F%A5%E6%9C%AB%2C%2A%09_%095%09discourse%3Asp%09_%09_%0A%0A\"\n",
       "            frameborder=\"0\"\n",
       "            allowfullscreen\n",
       "            style=\"background-color: white;\"\n",
       "        ></iframe>\n",
       "        "
      ],
      "text/plain": [
       "<IPython.lib.display.IFrame at 0x7f1f96cfbee0>"
      ]
     },
     "metadata": {},
     "output_type": "display_data"
    }
   ],
   "source": [
    "ex12 = nlp(\"此文王之勇也\")\n",
    "serve(ex12)"
   ]
  },
  {
   "cell_type": "code",
   "execution_count": 28,
   "metadata": {},
   "outputs": [
    {
     "data": {
      "text/html": [
       "\n",
       "        <iframe\n",
       "            width=\"100%\"\n",
       "            height=\"200\"\n",
       "            src=\"https://koichiyasuoka.github.io/deplacy/deplacy/viewer.svg#1%09%E6%98%AF%09%E6%98%AF%09PRON%09n%2C%E4%BB%A3%E5%90%8D%E8%A9%9E%2C%E6%8C%87%E7%A4%BA%2C%2A%09PronType%3DDem%093%09nsubj%09_%09SpaceAfter%3DNo%0A2%09%E4%BA%A6%09%E4%BA%A6%09ADV%09v%2C%E5%89%AF%E8%A9%9E%2C%E9%A0%BB%E5%BA%A6%2C%E9%87%8D%E8%A4%87%09_%093%09advmod%09_%09SpaceAfter%3DNo%0A3%09%E8%B5%B0%09%E8%B5%B0%09VERB%09v%2C%E5%8B%95%E8%A9%9E%2C%E8%A1%8C%E7%82%BA%2C%E7%A7%BB%E5%8B%95%09_%090%09ROOT%09_%09SpaceAfter%3DNo%0A4%09%E4%B9%9F%09%E4%B9%9F%09PART%09p%2C%E5%8A%A9%E8%A9%9E%2C%E5%8F%A5%E6%9C%AB%2C%2A%09_%093%09discourse%3Asp%09_%09_%0A%0A\"\n",
       "            frameborder=\"0\"\n",
       "            allowfullscreen\n",
       "            style=\"background-color: white;\"\n",
       "        ></iframe>\n",
       "        "
      ],
      "text/plain": [
       "<IPython.lib.display.IFrame at 0x7f1f96d15370>"
      ]
     },
     "metadata": {},
     "output_type": "display_data"
    }
   ],
   "source": [
    "ex13 = nlp(\"是亦走也\")\n",
    "serve(ex13)"
   ]
  },
  {
   "cell_type": "code",
   "execution_count": 29,
   "metadata": {},
   "outputs": [
    {
     "data": {
      "text/html": [
       "\n",
       "        <iframe\n",
       "            width=\"100%\"\n",
       "            height=\"200\"\n",
       "            src=\"https://koichiyasuoka.github.io/deplacy/deplacy/viewer.svg#1%09%E7%9A%86%09%E7%9A%86%09ADV%09v%2C%E5%89%AF%E8%A9%9E%2C%E7%AF%84%E5%9B%B2%2C%E7%B7%8F%E6%8B%AC%09_%094%09advmod%09_%09SpaceAfter%3DNo%0A2%09%E5%8F%A4%09%E5%8F%A4%09NOUN%09n%2C%E5%90%8D%E8%A9%9E%2C%E6%99%82%2C%2A%09Case%3DTem%094%09nmod%09_%09SpaceAfter%3DNo%0A3%09%E8%81%96%09%E8%81%96%09NOUN%09n%2C%E5%90%8D%E8%A9%9E%2C%E4%BA%BA%2C%E5%BD%B9%E5%89%B2%09_%094%09nmod%09_%09SpaceAfter%3DNo%0A4%09%E4%BA%BA%09%E4%BA%BA%09NOUN%09n%2C%E5%90%8D%E8%A9%9E%2C%E4%BA%BA%2C%E4%BA%BA%09_%090%09ROOT%09_%09SpaceAfter%3DNo%0A5%09%E4%B9%9F%09%E4%B9%9F%09PART%09p%2C%E5%8A%A9%E8%A9%9E%2C%E5%8F%A5%E6%9C%AB%2C%2A%09_%094%09discourse%3Asp%09_%09_%0A%0A\"\n",
       "            frameborder=\"0\"\n",
       "            allowfullscreen\n",
       "            style=\"background-color: white;\"\n",
       "        ></iframe>\n",
       "        "
      ],
      "text/plain": [
       "<IPython.lib.display.IFrame at 0x7f1f96cfbdc0>"
      ]
     },
     "metadata": {},
     "output_type": "display_data"
    }
   ],
   "source": [
    "ex14 = nlp(\"皆古聖人也\")\n",
    "serve(ex14)"
   ]
  },
  {
   "cell_type": "code",
   "execution_count": 30,
   "metadata": {},
   "outputs": [
    {
     "data": {
      "text/html": [
       "\n",
       "        <iframe\n",
       "            width=\"100%\"\n",
       "            height=\"200\"\n",
       "            src=\"https://koichiyasuoka.github.io/deplacy/deplacy/viewer.svg#1%09%E6%98%AF%09%E6%98%AF%09PRON%09n%2C%E4%BB%A3%E5%90%8D%E8%A9%9E%2C%E6%8C%87%E7%A4%BA%2C%2A%09PronType%3DDem%094%09nsubj%09_%09SpaceAfter%3DNo%0A2%09%E4%B9%83%09%E4%B9%83%09ADV%09v%2C%E5%89%AF%E8%A9%9E%2C%E6%99%82%E7%9B%B8%2C%E7%B7%8A%E6%8E%A5%09AdvType%3DTim%094%09advmod%09_%09SpaceAfter%3DNo%0A3%09%E4%BB%81%09%E4%BB%81%09NOUN%09n%2C%E5%90%8D%E8%A9%9E%2C%E6%8F%8F%E5%86%99%2C%E6%85%8B%E5%BA%A6%09_%094%09nmod%09_%09SpaceAfter%3DNo%0A4%09%E8%A1%93%09%E8%A1%93%09NOUN%09n%2C%E5%90%8D%E8%A9%9E%2C%E5%8F%AF%E6%90%AC%2C%E4%BC%9D%E9%81%94%09_%090%09ROOT%09_%09SpaceAfter%3DNo%0A5%09%E4%B9%9F%09%E4%B9%9F%09PART%09p%2C%E5%8A%A9%E8%A9%9E%2C%E5%8F%A5%E6%9C%AB%2C%2A%09_%094%09discourse%3Asp%09_%09_%0A%0A\"\n",
       "            frameborder=\"0\"\n",
       "            allowfullscreen\n",
       "            style=\"background-color: white;\"\n",
       "        ></iframe>\n",
       "        "
      ],
      "text/plain": [
       "<IPython.lib.display.IFrame at 0x7f1f96d15e80>"
      ]
     },
     "metadata": {},
     "output_type": "display_data"
    }
   ],
   "source": [
    "ex15 = nlp(\"是乃仁術也\")\n",
    "serve(ex15)"
   ]
  },
  {
   "cell_type": "markdown",
   "metadata": {},
   "source": [
    "In the following example, 夫 and 子 have been split with a space.\n",
    "This ensures they are treated separately, not as the word 夫子.\n",
    "They should also both be considered pronouns rather than nouns."
   ]
  },
  {
   "cell_type": "code",
   "execution_count": 31,
   "metadata": {},
   "outputs": [
    {
     "data": {
      "text/html": [
       "\n",
       "        <iframe\n",
       "            width=\"100%\"\n",
       "            height=\"350\"\n",
       "            src=\"https://koichiyasuoka.github.io/deplacy/deplacy/viewer.svg#1%09%E4%B9%83%09%E4%B9%83%09ADV%09v%2C%E5%89%AF%E8%A9%9E%2C%E6%99%82%E7%9B%B8%2C%E7%B7%8A%E6%8E%A5%09AdvType%3DTim%093%09advmod%09_%09SpaceAfter%3DNo%0A2%09%E5%A4%AB%09%E5%A4%AB%09NOUN%09n%2C%E5%90%8D%E8%A9%9E%2C%E4%BA%BA%2C%E9%96%A2%E4%BF%82%09_%093%09nmod%09_%09_%0A3%09%E5%AD%90%09%E5%AD%90%09NOUN%09n%2C%E5%90%8D%E8%A9%9E%2C%E4%BA%BA%2C%E9%96%A2%E4%BF%82%09_%090%09ROOT%09_%09SpaceAfter%3DNo%0A4%09%E4%B9%9F%09%E4%B9%9F%09PART%09p%2C%E5%8A%A9%E8%A9%9E%2C%E5%8F%A5%E6%9C%AB%2C%2A%09_%093%09discourse%3Asp%09_%09SpaceAfter%3DNo%0A%0A1%09%E5%90%BE%09%E5%90%BE%09PRON%09n%2C%E4%BB%A3%E5%90%8D%E8%A9%9E%2C%E4%BA%BA%E7%A7%B0%2C%E8%B5%B7%E6%A0%BC%09Person%3D1%7CPronType%3DPrs%092%09nsubj%09_%09SpaceAfter%3DNo%0A2%09%E8%B2%BA%09%E8%B2%BA%09VERB%09v%2C%E5%8B%95%E8%A9%9E%2C%E8%A1%8C%E7%82%BA%2C%E4%BC%9D%E9%81%94%09_%090%09ROOT%09_%09SpaceAfter%3DNo%0A3%09%E5%AD%90%09%E5%AD%90%09PRON%09n%2C%E4%BB%A3%E5%90%8D%E8%A9%9E%2C%E4%BA%BA%E7%A7%B0%2C%E4%BB%96%09Person%3D2%7CPronType%3DPrs%092%09obj%09_%09_%0A%0A\"\n",
       "            frameborder=\"0\"\n",
       "            allowfullscreen\n",
       "            style=\"background-color: white;\"\n",
       "        ></iframe>\n",
       "        "
      ],
      "text/plain": [
       "<IPython.lib.display.IFrame at 0x7f1f974d8ac0>"
      ]
     },
     "metadata": {},
     "output_type": "display_data"
    }
   ],
   "source": [
    "ex16 = nlp(\"乃夫 子也吾貺子\")\n",
    "serve(ex16, 350)"
   ]
  },
  {
   "cell_type": "code",
   "execution_count": 32,
   "metadata": {},
   "outputs": [
    {
     "data": {
      "text/html": [
       "\n",
       "        <iframe\n",
       "            width=\"100%\"\n",
       "            height=\"400\"\n",
       "            src=\"https://koichiyasuoka.github.io/deplacy/deplacy/viewer.svg#1%09%E5%8D%B3%09%E5%8D%B3%09ADV%09v%2C%E5%89%AF%E8%A9%9E%2C%E6%99%82%E7%9B%B8%2C%E7%B7%8A%E6%8E%A5%09AdvType%3DTim%093%09advmod%09_%09SpaceAfter%3DNo%0A2%09%E4%B8%8D%09%E4%B8%8D%09ADV%09v%2C%E5%89%AF%E8%A9%9E%2C%E5%90%A6%E5%AE%9A%2C%E7%84%A1%E7%95%8C%09Polarity%3DNeg%093%09advmod%09_%09SpaceAfter%3DNo%0A3%09%E5%BF%8D%09%E5%BF%8D%09VERB%09v%2C%E5%8B%95%E8%A9%9E%2C%E6%8F%8F%E5%86%99%2C%E6%85%8B%E5%BA%A6%09Degree%3DPos%090%09ROOT%09_%09SpaceAfter%3DNo%0A4%09%E5%85%B6%09%E5%85%B6%09PRON%09n%2C%E4%BB%A3%E5%90%8D%E8%A9%9E%2C%E4%BA%BA%E7%A7%B0%2C%E8%B5%B7%E6%A0%BC%09Person%3D3%7CPronType%3DPrs%095%09nsubj%09_%09SpaceAfter%3DNo%0A5%09%E8%A7%B3%09%E8%A7%B3%09VERB%09v%2C%E5%8B%95%E8%A9%9E%2C%E6%8F%8F%E5%86%99%2C%E6%85%8B%E5%BA%A6%09Degree%3DPos%093%09ccomp%09_%09SpaceAfter%3DNo%0A6%09%E8%A7%AB%09%E8%A7%AB%09VERB%09v%2C%E5%8B%95%E8%A9%9E%2C%E6%8F%8F%E5%86%99%2C%E6%85%8B%E5%BA%A6%09Degree%3DPos%095%09flat%3Avv%09_%09SpaceAfter%3DNo%0A7%09%E8%8B%A5%09%E8%8B%A5%09VERB%09v%2C%E5%8B%95%E8%A9%9E%2C%E8%A1%8C%E7%82%BA%2C%E5%88%86%E9%A1%9E%09Degree%3DEqu%095%09advmod%09_%09SpaceAfter%3DNo%0A8%09%E8%88%9E%09%E8%88%9E%09VERB%09v%2C%E5%8B%95%E8%A9%9E%2C%E8%A1%8C%E7%82%BA%2C%E5%8B%95%E4%BD%9C%09_%097%09ccomp%09_%09SpaceAfter%3DNo%0A9%09%E7%BD%AA%09%E7%BD%AA%09NOUN%09n%2C%E5%90%8D%E8%A9%9E%2C%E5%88%B6%E5%BA%A6%2C%E5%84%80%E7%A4%BC%09_%098%09obj%09_%09SpaceAfter%3DNo%0A10%09%E8%80%8C%09%E8%80%8C%09CCONJ%09p%2C%E5%8A%A9%E8%A9%9E%2C%E6%8E%A5%E7%B6%9A%2C%E4%B8%A6%E5%88%97%09_%0911%09cc%09_%09SpaceAfter%3DNo%0A11%09%E5%B0%B1%09%E5%B0%B1%09VERB%09v%2C%E5%8B%95%E8%A9%9E%2C%E8%A1%8C%E7%82%BA%2C%E7%A7%BB%E5%8B%95%09_%098%09conj%09_%09SpaceAfter%3DNo%0A12%09%E6%AD%BB%09%E6%AD%BB%09VERB%09v%2C%E5%8B%95%E8%A9%9E%2C%E5%A4%89%E5%8C%96%2C%E7%94%9F%E7%89%A9%09_%0913%09amod%09_%09SpaceAfter%3DNo%0A13%09%E5%9C%B0%09%E5%9C%B0%09NOUN%09n%2C%E5%90%8D%E8%A9%9E%2C%E5%9B%BA%E5%AE%9A%E7%89%A9%2C%E5%9C%B0%E5%BD%A2%09Case%3DLoc%0911%09obj%09_%09SpaceAfter%3DNo%0A%0A1%09%E6%95%85%09%E6%95%85%09ADV%09v%2C%E5%89%AF%E8%A9%9E%2C%E5%88%A4%E6%96%AD%2C%E7%A2%BA%E5%AE%9A%09_%094%09advmod%09_%09SpaceAfter%3DNo%0A2%09%E4%BB%A5%09%E4%BB%A5%09VERB%09v%2C%E5%8B%95%E8%A9%9E%2C%E8%A1%8C%E7%82%BA%2C%E5%8B%95%E4%BD%9C%09_%094%09advcl%09_%09SpaceAfter%3DNo%0A3%09%E7%BE%8A%09%E7%BE%8A%09NOUN%09n%2C%E5%90%8D%E8%A9%9E%2C%E4%B8%BB%E4%BD%93%2C%E5%8B%95%E7%89%A9%09_%092%09obj%09_%09SpaceAfter%3DNo%0A4%09%E6%98%93%09%E6%98%93%09VERB%09v%2C%E5%8B%95%E8%A9%9E%2C%E8%A1%8C%E7%82%BA%2C%E5%8B%95%E4%BD%9C%09_%090%09ROOT%09_%09SpaceAfter%3DNo%0A5%09%E4%B9%8B%09%E4%B9%8B%09PRON%09n%2C%E4%BB%A3%E5%90%8D%E8%A9%9E%2C%E4%BA%BA%E7%A7%B0%2C%E6%AD%A2%E6%A0%BC%09Person%3D3%7CPronType%3DPrs%094%09obj%09_%09SpaceAfter%3DNo%0A6%09%E4%B9%9F%09%E4%B9%9F%09PART%09p%2C%E5%8A%A9%E8%A9%9E%2C%E5%8F%A5%E6%9C%AB%2C%2A%09_%094%09discourse%3Asp%09_%09_%0A%0A\"\n",
       "            frameborder=\"0\"\n",
       "            allowfullscreen\n",
       "            style=\"background-color: white;\"\n",
       "        ></iframe>\n",
       "        "
      ],
      "text/plain": [
       "<IPython.lib.display.IFrame at 0x7f202c3c65e0>"
      ]
     },
     "metadata": {},
     "output_type": "display_data"
    }
   ],
   "source": [
    "ex17 = nlp(\"即不忍其觳觫若舞罪而就死地故以羊易之也\")\n",
    "serve(ex17, 400)"
   ]
  },
  {
   "cell_type": "code",
   "execution_count": 33,
   "metadata": {},
   "outputs": [
    {
     "data": {
      "text/html": [
       "\n",
       "        <iframe\n",
       "            width=\"100%\"\n",
       "            height=\"200\"\n",
       "            src=\"https://koichiyasuoka.github.io/deplacy/deplacy/viewer.svg#1%09%E5%BF%85%09%E5%BF%85%09ADV%09v%2C%E5%89%AF%E8%A9%9E%2C%E5%88%A4%E6%96%AD%2C%E7%A2%BA%E5%AE%9A%09_%092%09advmod%09_%09SpaceAfter%3DNo%0A2%09%E8%8B%A5%09%E8%8B%A5%09VERB%09v%2C%E5%8B%95%E8%A9%9E%2C%E8%A1%8C%E7%82%BA%2C%E5%88%86%E9%A1%9E%09Degree%3DEqu%095%09acl%09_%09SpaceAfter%3DNo%0A3%09%E6%A1%80%09%E6%A1%80%09PROPN%09n%2C%E5%90%8D%E8%A9%9E%2C%E4%BA%BA%2C%E5%90%8D%09NameType%3DGiv%092%09obj%09_%09SpaceAfter%3DNo%0A4%09%E7%BA%A3%09%E7%B4%82%09PROPN%09n%2C%E5%90%8D%E8%A9%9E%2C%E4%BA%BA%2C%E5%90%8D%09NameType%3DGiv%093%09conj%09_%09SpaceAfter%3DNo%0A5%09%E8%80%85%09%EF%A9%9B%09PART%09p%2C%E5%8A%A9%E8%A9%9E%2C%E6%8F%90%E7%A4%BA%2C%2A%09_%090%09ROOT%09_%09SpaceAfter%3DNo%0A6%09%E4%B9%9F%09%E4%B9%9F%09PART%09p%2C%E5%8A%A9%E8%A9%9E%2C%E5%8F%A5%E6%9C%AB%2C%2A%09_%095%09discourse%3Asp%09_%09_%0A%0A\"\n",
       "            frameborder=\"0\"\n",
       "            allowfullscreen\n",
       "            style=\"background-color: white;\"\n",
       "        ></iframe>\n",
       "        "
      ],
      "text/plain": [
       "<IPython.lib.display.IFrame at 0x7f202c3c6070>"
      ]
     },
     "metadata": {},
     "output_type": "display_data"
    }
   ],
   "source": [
    "ex18 = nlp(\"必若桀纣者也\")\n",
    "serve(ex18)"
   ]
  },
  {
   "cell_type": "code",
   "execution_count": 34,
   "metadata": {},
   "outputs": [
    {
     "data": {
      "text/html": [
       "\n",
       "        <iframe\n",
       "            width=\"100%\"\n",
       "            height=\"200\"\n",
       "            src=\"https://koichiyasuoka.github.io/deplacy/deplacy/viewer.svg#1%09%E5%AD%90%09%E5%AD%90%09NOUN%09n%2C%E5%90%8D%E8%A9%9E%2C%E4%BA%BA%2C%E9%96%A2%E4%BF%82%09_%094%09nsubj%09_%09SpaceAfter%3DNo%0A2%09%E8%AA%A0%09%E8%AA%A0%09VERB%09v%2C%E5%8B%95%E8%A9%9E%2C%E6%8F%8F%E5%86%99%2C%E6%85%8B%E5%BA%A6%09Degree%3DPos%094%09advmod%09_%09SpaceAfter%3DNo%0A3%09%E9%BD%8A%09%E9%BD%8A%09PROPN%09n%2C%E5%90%8D%E8%A9%9E%2C%E4%B8%BB%E4%BD%93%2C%E5%9B%BD%E5%90%8D%09Case%3DLoc%7CNameType%3DNat%094%09nmod%09_%09SpaceAfter%3DNo%0A4%09%E4%BA%BA%09%E4%BA%BA%09NOUN%09n%2C%E5%90%8D%E8%A9%9E%2C%E4%BA%BA%2C%E4%BA%BA%09_%090%09ROOT%09_%09SpaceAfter%3DNo%0A5%09%E4%B9%9F%09%E4%B9%9F%09PART%09p%2C%E5%8A%A9%E8%A9%9E%2C%E5%8F%A5%E6%9C%AB%2C%2A%09_%094%09discourse%3Asp%09_%09_%0A%0A\"\n",
       "            frameborder=\"0\"\n",
       "            allowfullscreen\n",
       "            style=\"background-color: white;\"\n",
       "        ></iframe>\n",
       "        "
      ],
      "text/plain": [
       "<IPython.lib.display.IFrame at 0x7f1f96cfbf10>"
      ]
     },
     "metadata": {},
     "output_type": "display_data"
    }
   ],
   "source": [
    "ex19 = nlp(\"子誠齊人也\")\n",
    "serve(ex19)"
   ]
  },
  {
   "cell_type": "code",
   "execution_count": 35,
   "metadata": {},
   "outputs": [
    {
     "data": {
      "text/html": [
       "\n",
       "        <iframe\n",
       "            width=\"100%\"\n",
       "            height=\"200\"\n",
       "            src=\"https://koichiyasuoka.github.io/deplacy/deplacy/viewer.svg#1%09%E5%9B%BA%09%E5%9B%BA%09ADV%09v%2C%E5%89%AF%E8%A9%9E%2C%E5%88%A4%E6%96%AD%2C%E7%A2%BA%E5%AE%9A%09_%093%09advmod%09_%09SpaceAfter%3DNo%0A2%09%E6%89%80%09%E6%89%80%09PART%09p%2C%E5%8A%A9%E8%A9%9E%2C%E6%8E%A5%E7%B6%9A%2C%E4%BD%93%E8%A8%80%E5%8C%96%09_%093%09mark%09_%09SpaceAfter%3DNo%0A3%09%E9%A1%98%09%E9%A1%98%09VERB%09v%2C%E5%8B%95%E8%A9%9E%2C%E8%A1%8C%E7%82%BA%2C%E5%8B%95%E4%BD%9C%09_%090%09ROOT%09_%09SpaceAfter%3DNo%0A4%09%E4%B9%9F%09%E4%B9%9F%09PART%09p%2C%E5%8A%A9%E8%A9%9E%2C%E5%8F%A5%E6%9C%AB%2C%2A%09_%093%09discourse%3Asp%09_%09_%0A%0A\"\n",
       "            frameborder=\"0\"\n",
       "            allowfullscreen\n",
       "            style=\"background-color: white;\"\n",
       "        ></iframe>\n",
       "        "
      ],
      "text/plain": [
       "<IPython.lib.display.IFrame at 0x7f202d404eb0>"
      ]
     },
     "metadata": {},
     "output_type": "display_data"
    }
   ],
   "source": [
    "ex20 = nlp(\"固所願也\")\n",
    "serve(ex20)"
   ]
  },
  {
   "cell_type": "markdown",
   "metadata": {},
   "source": [
    "### c. Verbless Comparisons with 猶"
   ]
  },
  {
   "cell_type": "markdown",
   "metadata": {},
   "source": [
    "In the following example, 猶 is not considered a verb."
   ]
  },
  {
   "cell_type": "code",
   "execution_count": 37,
   "metadata": {},
   "outputs": [
    {
     "data": {
      "text/html": [
       "\n",
       "        <iframe\n",
       "            width=\"100%\"\n",
       "            height=\"250\"\n",
       "            src=\"https://koichiyasuoka.github.io/deplacy/deplacy/viewer.svg#1%09%E4%BB%8A%09%E4%BB%8A%09NOUN%09n%2C%E5%90%8D%E8%A9%9E%2C%E6%99%82%2C%2A%09Case%3DTem%093%09nmod%09_%09SpaceAfter%3DNo%0A2%09%E4%B9%8B%09%E4%B9%8B%09SCONJ%09p%2C%E5%8A%A9%E8%A9%9E%2C%E6%8E%A5%E7%B6%9A%2C%E5%B1%9E%E6%A0%BC%09_%091%09case%09_%09SpaceAfter%3DNo%0A3%09%E6%A8%82%09%E6%A8%82%09NOUN%09n%2C%E5%90%8D%E8%A9%9E%2C%E5%88%B6%E5%BA%A6%2C%E5%84%80%E7%A4%BC%09_%094%09nsubj%09_%09SpaceAfter%3DNo%0A4%09%E7%8C%B6%09%E7%8C%B6%09VERB%09v%2C%E5%8B%95%E8%A9%9E%2C%E8%A1%8C%E7%82%BA%2C%E5%88%86%E9%A1%9E%09Degree%3DEqu%090%09ROOT%09_%09SpaceAfter%3DNo%0A5%09%E5%8F%A4%09%E5%8F%A4%09NOUN%09n%2C%E5%90%8D%E8%A9%9E%2C%E6%99%82%2C%2A%09Case%3DTem%097%09nmod%09_%09SpaceAfter%3DNo%0A6%09%E4%B9%8B%09%E4%B9%8B%09SCONJ%09p%2C%E5%8A%A9%E8%A9%9E%2C%E6%8E%A5%E7%B6%9A%2C%E5%B1%9E%E6%A0%BC%09_%095%09case%09_%09SpaceAfter%3DNo%0A7%09%E6%A8%82%09%E6%A8%82%09NOUN%09n%2C%E5%90%8D%E8%A9%9E%2C%E5%88%B6%E5%BA%A6%2C%E5%84%80%E7%A4%BC%09_%094%09ccomp%09_%09SpaceAfter%3DNo%0A8%09%E4%B9%9F%09%E4%B9%9F%09PART%09p%2C%E5%8A%A9%E8%A9%9E%2C%E5%8F%A5%E6%9C%AB%2C%2A%09_%094%09discourse%3Asp%09_%09_%0A%0A\"\n",
       "            frameborder=\"0\"\n",
       "            allowfullscreen\n",
       "            style=\"background-color: white;\"\n",
       "        ></iframe>\n",
       "        "
      ],
      "text/plain": [
       "<IPython.lib.display.IFrame at 0x7f1f96cfbb80>"
      ]
     },
     "metadata": {},
     "output_type": "display_data"
    }
   ],
   "source": [
    "ex21 = nlp(\"今之樂猶古之樂也\")\n",
    "serve(ex21, 250)"
   ]
  },
  {
   "cell_type": "markdown",
   "metadata": {},
   "source": [
    "### d. Omission of 也"
   ]
  },
  {
   "cell_type": "code",
   "execution_count": 41,
   "metadata": {},
   "outputs": [
    {
     "data": {
      "text/html": [
       "\n",
       "        <iframe\n",
       "            width=\"100%\"\n",
       "            height=\"300\"\n",
       "            src=\"https://koichiyasuoka.github.io/deplacy/deplacy/viewer.svg#1%09%E8%90%AC%09%E8%90%AC%09NUM%09n%2C%E6%95%B0%E8%A9%9E%2C%E6%95%B0%E5%AD%97%2C%2A%09_%094%09nummod%09_%09SpaceAfter%3DNo%0A2%09%E4%B9%98%09%E4%B9%98%09NOUN%09n%2C%E5%90%8D%E8%A9%9E%2C%E5%8F%AF%E6%90%AC%2C%E4%B9%97%E3%82%8A%E7%89%A9%09_%091%09clf%09_%09SpaceAfter%3DNo%0A3%09%E4%B9%8B%09%E4%B9%8B%09SCONJ%09p%2C%E5%8A%A9%E8%A9%9E%2C%E6%8E%A5%E7%B6%9A%2C%E5%B1%9E%E6%A0%BC%09_%091%09case%09_%09SpaceAfter%3DNo%0A4%09%E5%9C%8B%09%E5%9C%8B%09NOUN%09n%2C%E5%90%8D%E8%A9%9E%2C%E4%B8%BB%E4%BD%93%2C%E9%9B%86%E5%9B%A3%09_%0913%09dislocated%09_%09SpaceAfter%3DNo%0A5%09%E5%BC%91%09%E5%BC%92%09VERB%09v%2C%E5%8B%95%E8%A9%9E%2C%E8%A1%8C%E7%82%BA%2C%E4%BA%A4%E6%B5%81%09_%098%09acl%09_%09SpaceAfter%3DNo%0A6%09%E5%85%B6%09%E5%85%B6%09PRON%09n%2C%E4%BB%A3%E5%90%8D%E8%A9%9E%2C%E4%BA%BA%E7%A7%B0%2C%E8%B5%B7%E6%A0%BC%09Person%3D3%7CPronType%3DPrs%097%09det%09_%09SpaceAfter%3DNo%0A7%09%E5%90%9B%09%E5%90%9B%09NOUN%09n%2C%E5%90%8D%E8%A9%9E%2C%E4%BA%BA%2C%E5%BD%B9%E5%89%B2%09_%095%09obj%09_%09SpaceAfter%3DNo%0A8%09%E8%80%85%09%EF%A9%9B%09PART%09p%2C%E5%8A%A9%E8%A9%9E%2C%E6%8F%90%E7%A4%BA%2C%2A%09_%0913%09nsubj%09_%09SpaceAfter%3DNo%0A9%09%E5%BF%85%09%E5%BF%85%09ADV%09v%2C%E5%89%AF%E8%A9%9E%2C%E5%88%A4%E6%96%AD%2C%E7%A2%BA%E5%AE%9A%09_%0913%09advmod%09_%09SpaceAfter%3DNo%0A10%09%E5%8D%83%09%E5%8D%83%09NUM%09n%2C%E6%95%B0%E8%A9%9E%2C%E6%95%B0%E5%AD%97%2C%2A%09_%0913%09nummod%09_%09SpaceAfter%3DNo%0A11%09%E4%B9%97%09%E4%B9%98%09NOUN%09n%2C%E5%90%8D%E8%A9%9E%2C%E5%8F%AF%E6%90%AC%2C%E4%B9%97%E3%82%8A%E7%89%A9%09_%0910%09clf%09_%09SpaceAfter%3DNo%0A12%09%E4%B9%8B%09%E4%B9%8B%09SCONJ%09p%2C%E5%8A%A9%E8%A9%9E%2C%E6%8E%A5%E7%B6%9A%2C%E5%B1%9E%E6%A0%BC%09_%0910%09case%09_%09SpaceAfter%3DNo%0A13%09%E5%AE%B6%09%E5%AE%B6%09NOUN%09n%2C%E5%90%8D%E8%A9%9E%2C%E4%B8%BB%E4%BD%93%2C%E9%9B%86%E5%9B%A3%09_%090%09ROOT%09_%09_%0A%0A\"\n",
       "            frameborder=\"0\"\n",
       "            allowfullscreen\n",
       "            style=\"background-color: white;\"\n",
       "        ></iframe>\n",
       "        "
      ],
      "text/plain": [
       "<IPython.lib.display.IFrame at 0x7f1f96d15b20>"
      ]
     },
     "metadata": {},
     "output_type": "display_data"
    }
   ],
   "source": [
    "ex22 = nlp(\"萬乘之國弑其君者必千乗之家\")\n",
    "serve(ex22, 300)"
   ]
  }
 ],
 "metadata": {
  "interpreter": {
   "hash": "5c36988f6934d5f298e2ed50ec8ee55dd622f2d2c8c2fffd8d1cfcc03df05c4a"
  },
  "kernelspec": {
   "display_name": "Python 3.7.6 64-bit ('general': venv)",
   "language": "python",
   "name": "python3"
  },
  "language_info": {
   "codemirror_mode": {
    "name": "ipython",
    "version": 3
   },
   "file_extension": ".py",
   "mimetype": "text/x-python",
   "name": "python",
   "nbconvert_exporter": "python",
   "pygments_lexer": "ipython3",
   "version": "3.8.10"
  },
  "orig_nbformat": 4
 },
 "nbformat": 4,
 "nbformat_minor": 2
}
