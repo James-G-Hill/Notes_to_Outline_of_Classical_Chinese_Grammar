{
 "cells": [
  {
   "cell_type": "markdown",
   "metadata": {},
   "source": [
    "# III. Noun Predication"
   ]
  },
  {
   "cell_type": "code",
   "execution_count": 3,
   "metadata": {},
   "outputs": [
    {
     "name": "stderr",
     "output_type": "stream",
     "text": [
      "Some weights of the model checkpoint at KoichiYasuoka/roberta-classical-chinese-large-char were not used when initializing RobertaModel: ['lm_head.layer_norm.weight', 'lm_head.decoder.weight', 'lm_head.decoder.bias', 'lm_head.layer_norm.bias', 'lm_head.bias', 'lm_head.dense.bias', 'lm_head.dense.weight']\n",
      "- This IS expected if you are initializing RobertaModel from the checkpoint of a model trained on another task or with another architecture (e.g. initializing a BertForSequenceClassification model from a BertForPreTraining model).\n",
      "- This IS NOT expected if you are initializing RobertaModel from the checkpoint of a model that you expect to be exactly identical (initializing a BertForSequenceClassification model from a BertForSequenceClassification model).\n"
     ]
    }
   ],
   "source": [
    "from deplacy import render\n",
    "from suparkanbun import load\n",
    "from transformers import logging\n",
    "\n",
    "logging.logging.disable(logging.INFO)\n",
    "\n",
    "nlp = load(BERT=\"roberta-classical-chinese-large-char\", Danku=False)"
   ]
  },
  {
   "cell_type": "markdown",
   "metadata": {},
   "source": [
    "A link to the UD POS page:\n",
    "https://universaldependencies.org/u/pos/all.html\n",
    "\n",
    "A link to the UD dependency relations page:\n",
    "https://universaldependencies.org/u/pos/all.html\n",
    "\n",
    "A link to the UD-Kanbun page:\n",
    "https://github.com/KoichiYasuoka/UD-Kanbun\n",
    "\n",
    "For finding pauses in classical Chinese text go here:\n",
    "https://seg.shenshen.wiki/"
   ]
  },
  {
   "cell_type": "markdown",
   "metadata": {},
   "source": [
    "## 1. Verbless Noun Predictation"
   ]
  },
  {
   "cell_type": "markdown",
   "metadata": {},
   "source": [
    "The following formula is used (A may be ommitted as assumed):\n",
    "\n",
    "> (A) (非) B 也"
   ]
  },
  {
   "cell_type": "code",
   "execution_count": 4,
   "metadata": {},
   "outputs": [
    {
     "name": "stderr",
     "output_type": "stream",
     "text": [
      "                                                   "
     ]
    },
    {
     "name": "stdout",
     "output_type": "stream",
     "text": [
      "非 ADV  <╗     advmod\n",
      "我 PRON ═╝═╗═╗ ROOT\n",
      "也 PART <══╝ ║ discourse:sp\n",
      "兵 NOUN ═╗<══╝ parataxis\n",
      "也 PART <╝     discourse:sp\n"
     ]
    },
    {
     "name": "stderr",
     "output_type": "stream",
     "text": [
      "\r"
     ]
    }
   ],
   "source": [
    "ex5 = nlp(\"非我也兵也\")\n",
    "render(ex5)"
   ]
  },
  {
   "cell_type": "code",
   "execution_count": 5,
   "metadata": {},
   "outputs": [
    {
     "name": "stderr",
     "output_type": "stream",
     "text": [
      "                                                   "
     ]
    },
    {
     "name": "stdout",
     "output_type": "stream",
     "text": [
      "是 PRON <══╗     nsubj\n",
      "不 ADV  <╗ ║     advmod\n",
      "為 VERB ═╝═╝═╗═╗ ROOT\n",
      "也 PART <════╝ ║ discourse:sp\n",
      "非 ADV  <══╗   ║ advmod\n",
      "不 ADV  <╗ ║   ║ advmod\n",
      "能 AUX  ═╝═╝═╗<╝ parataxis\n",
      "也 PART <════╝   discourse:sp\n"
     ]
    },
    {
     "name": "stderr",
     "output_type": "stream",
     "text": [
      "\r"
     ]
    }
   ],
   "source": [
    "ex6 = nlp(\"是不為也非不能也\")\n",
    "render(ex6)"
   ]
  },
  {
   "cell_type": "code",
   "execution_count": 6,
   "metadata": {},
   "outputs": [
    {
     "name": "stderr",
     "output_type": "stream",
     "text": [
      "                                                   "
     ]
    },
    {
     "name": "stdout",
     "output_type": "stream",
     "text": [
      "畏 VERB ═╗<╗   acl\n",
      "天 NOUN <╝ ║   obj\n",
      "者 PART ═══╝═╗ ROOT\n",
      "也 PART <════╝ discourse:sp\n"
     ]
    },
    {
     "name": "stderr",
     "output_type": "stream",
     "text": [
      "\r"
     ]
    }
   ],
   "source": [
    "ex7 = nlp(\"畏天者也\")\n",
    "render(ex7)"
   ]
  },
  {
   "cell_type": "code",
   "execution_count": 7,
   "metadata": {},
   "outputs": [
    {
     "name": "stderr",
     "output_type": "stream",
     "text": [
      "                                                   "
     ]
    },
    {
     "name": "stdout",
     "output_type": "stream",
     "text": [
      "叟 NOUN  ═╗<╗   nsubj\n",
      "之 SCONJ <╝ ║   case\n",
      "所 PART  <╗ ║   mark\n",
      "知 VERB  ═╝═╝═╗ ROOT\n",
      "也 PART  <════╝ discourse:sp\n"
     ]
    },
    {
     "name": "stderr",
     "output_type": "stream",
     "text": [
      "\r"
     ]
    }
   ],
   "source": [
    "ex8 = nlp(\"叟之所知也\")\n",
    "render(ex8)"
   ]
  },
  {
   "cell_type": "markdown",
   "metadata": {},
   "source": [
    "### a. Questions"
   ]
  },
  {
   "cell_type": "code",
   "execution_count": 8,
   "metadata": {},
   "outputs": [
    {
     "name": "stderr",
     "output_type": "stream",
     "text": [
      "                                                   "
     ]
    },
    {
     "name": "stdout",
     "output_type": "stream",
     "text": [
      "夫 PART  <════════╗   discourse\n",
      "非 ADV   <══════╗ ║   advmod\n",
      "盡 VERB  ═════╗═╝═╝═╗ ROOT\n",
      "人 NOUN  ═╗<╗ ║     ║ nmod\n",
      "之 SCONJ <╝ ║ ║     ║ case\n",
      "子 NOUN  ═══╝<╝     ║ obj\n",
      "與 PART  <══════════╝ discourse:sp\n"
     ]
    },
    {
     "name": "stderr",
     "output_type": "stream",
     "text": [
      "\r"
     ]
    }
   ],
   "source": [
    "ex9 = nlp(\"夫非盡人之子與\")\n",
    "render(ex9)"
   ]
  },
  {
   "cell_type": "code",
   "execution_count": 9,
   "metadata": {},
   "outputs": [
    {
     "name": "stderr",
     "output_type": "stream",
     "text": [
      "                                                   "
     ]
    },
    {
     "name": "stdout",
     "output_type": "stream",
     "text": [
      "其 PRON <══╗   nsubj\n",
      "正 VERB <╗ ║   amod\n",
      "色 NOUN ═╝═╝═╗ ROOT\n",
      "邪 PART <════╝ discourse:sp\n"
     ]
    },
    {
     "name": "stderr",
     "output_type": "stream",
     "text": [
      "\r"
     ]
    }
   ],
   "source": [
    "ex10 = nlp(\"其正色邪\")\n",
    "render(ex10)"
   ]
  },
  {
   "cell_type": "code",
   "execution_count": 11,
   "metadata": {},
   "outputs": [
    {
     "name": "stderr",
     "output_type": "stream",
     "text": [
      "                                                   "
     ]
    },
    {
     "name": "stdout",
     "output_type": "stream",
     "text": [
      "然 VERB  <════════╗ advmod\n",
      "而 CCONJ <══════╗ ║ advmod\n",
      "至 VERB  ═════╗═╝═╝ ROOT\n",
      "此 PRON  <╗   ║     det\n",
      "極 NOUN  ═╝<╗ ║     nmod\n",
      "者 PART  ═══╝<╝     obj\n",
      "命 NOUN  ═╗═╗       ROOT\n",
      "也 PART  <╝ ║       discourse:sp\n",
      "夫 PART  <══╝       discourse:sp\n"
     ]
    },
    {
     "name": "stderr",
     "output_type": "stream",
     "text": [
      "\r"
     ]
    }
   ],
   "source": [
    "ex11 = nlp(\"然而至此極者\\n命也夫\")\n",
    "render(ex11)"
   ]
  },
  {
   "cell_type": "markdown",
   "metadata": {},
   "source": [
    "### b. Pronouns and Particles with Verbless Noun Predicates"
   ]
  },
  {
   "cell_type": "code",
   "execution_count": 12,
   "metadata": {},
   "outputs": [
    {
     "name": "stderr",
     "output_type": "stream",
     "text": [
      "                                                   "
     ]
    },
    {
     "name": "stdout",
     "output_type": "stream",
     "text": [
      "此 PRON  <══════╗   nsubj\n",
      "文 PROPN <╗     ║   compound\n",
      "王 NOUN  ═╝═╗<╗ ║   nmod\n",
      "之 SCONJ <══╝ ║ ║   case\n",
      "勇 NOUN  ═════╝═╝═╗ ROOT\n",
      "也 PART  <════════╝ discourse:sp\n"
     ]
    },
    {
     "name": "stderr",
     "output_type": "stream",
     "text": [
      "\r"
     ]
    }
   ],
   "source": [
    "ex12 = nlp(\"此文王之勇也\")\n",
    "render(ex12)"
   ]
  },
  {
   "cell_type": "code",
   "execution_count": 13,
   "metadata": {},
   "outputs": [
    {
     "name": "stderr",
     "output_type": "stream",
     "text": [
      "                                                   "
     ]
    },
    {
     "name": "stdout",
     "output_type": "stream",
     "text": [
      "是 PRON <══╗   nsubj\n",
      "亦 ADV  <╗ ║   advmod\n",
      "走 VERB ═╝═╝═╗ ROOT\n",
      "也 PART <════╝ discourse:sp\n"
     ]
    },
    {
     "name": "stderr",
     "output_type": "stream",
     "text": [
      "\r"
     ]
    }
   ],
   "source": [
    "ex13 = nlp(\"是亦走也\")\n",
    "render(ex13)"
   ]
  },
  {
   "cell_type": "code",
   "execution_count": 14,
   "metadata": {},
   "outputs": [
    {
     "name": "stderr",
     "output_type": "stream",
     "text": [
      "                                                   "
     ]
    },
    {
     "name": "stdout",
     "output_type": "stream",
     "text": [
      "皆 ADV  <════╗   advmod\n",
      "古 NOUN <══╗ ║   nmod\n",
      "聖 NOUN <╗ ║ ║   nmod\n",
      "人 NOUN ═╝═╝═╝═╗ ROOT\n",
      "也 PART <══════╝ discourse:sp\n"
     ]
    },
    {
     "name": "stderr",
     "output_type": "stream",
     "text": [
      "\r"
     ]
    }
   ],
   "source": [
    "ex14 = nlp(\"皆古聖人也\")\n",
    "render(ex14)"
   ]
  },
  {
   "cell_type": "code",
   "execution_count": 15,
   "metadata": {},
   "outputs": [
    {
     "name": "stderr",
     "output_type": "stream",
     "text": [
      "                                                   "
     ]
    },
    {
     "name": "stdout",
     "output_type": "stream",
     "text": [
      "是 PRON <════╗   nsubj\n",
      "乃 ADV  <══╗ ║   advmod\n",
      "仁 NOUN <╗ ║ ║   nmod\n",
      "術 NOUN ═╝═╝═╝═╗ ROOT\n",
      "也 PART <══════╝ discourse:sp\n"
     ]
    },
    {
     "name": "stderr",
     "output_type": "stream",
     "text": [
      "\r"
     ]
    }
   ],
   "source": [
    "ex15 = nlp(\"是乃仁術也\")\n",
    "render(ex15)"
   ]
  },
  {
   "cell_type": "markdown",
   "metadata": {},
   "source": [
    "In the following example, 夫 and 子 should be separate.\n",
    "They should not be combined as the word 夫子."
   ]
  },
  {
   "cell_type": "code",
   "execution_count": 19,
   "metadata": {},
   "outputs": [
    {
     "name": "stderr",
     "output_type": "stream",
     "text": [
      "                                                   "
     ]
    },
    {
     "name": "stdout",
     "output_type": "stream",
     "text": [
      "乃   ADV  <╗   advmod\n",
      "夫子 NOUN ═╝═╗ ROOT\n",
      "也   PART <══╝ discourse:sp\n",
      "吾   PRON <══╗ nsubj\n",
      "貺   VERB ═╗═╝ ROOT\n",
      "子   PRON <╝   obj\n"
     ]
    },
    {
     "name": "stderr",
     "output_type": "stream",
     "text": [
      "\r"
     ]
    }
   ],
   "source": [
    "ex16 = nlp(\"乃夫子也\\n吾貺子\")\n",
    "render(ex16)"
   ]
  },
  {
   "cell_type": "code",
   "execution_count": 20,
   "metadata": {},
   "outputs": [
    {
     "name": "stderr",
     "output_type": "stream",
     "text": [
      "                                                   "
     ]
    },
    {
     "name": "stdout",
     "output_type": "stream",
     "text": [
      "即 ADV   <════════╗ advmod\n",
      "不 ADV   <══════╗ ║ advmod\n",
      "忍 VERB  ═════╗═╝═╝ ROOT\n",
      "其 PRON  <══╗ ║     nsubj\n",
      "觳 VERB  ═╗═╝<╝     ccomp\n",
      "觫 VERB  <╝         flat:vv\n",
      "若 ADV   <══╗       advmod\n",
      "無 VERB  ═╗═╝═══╗   ROOT\n",
      "罪 NOUN  <╝     ║   obj\n",
      "而 CCONJ <════╗ ║   cc\n",
      "就 VERB  ═══╗═╝<╝   conj\n",
      "死 VERB  <╗ ║       amod\n",
      "地 NOUN  ═╝<╝       obj\n",
      "故 ADV   <════╗     advmod\n",
      "以 VERB  ═╗<╗ ║     advcl\n",
      "羊 NOUN  <╝ ║ ║     obj\n",
      "易 VERB  ═╗═╝═╝═╗   ROOT\n",
      "之 PRON  <╝     ║   obj\n",
      "也 PART  <══════╝   discourse:sp\n"
     ]
    },
    {
     "name": "stderr",
     "output_type": "stream",
     "text": [
      "\r"
     ]
    }
   ],
   "source": [
    "ex17 = nlp(\"即不忍其觳觫\\n若無罪而就死地\\n故以羊易之也\")\n",
    "render(ex17)"
   ]
  },
  {
   "cell_type": "code",
   "execution_count": 21,
   "metadata": {},
   "outputs": [
    {
     "name": "stderr",
     "output_type": "stream",
     "text": [
      "                                                   "
     ]
    },
    {
     "name": "stdout",
     "output_type": "stream",
     "text": [
      "必 ADV   <══════╗   advmod\n",
      "若 VERB  ═══╗<╗ ║   acl\n",
      "桀 PROPN ═╗<╝ ║ ║   obj\n",
      "纣 PROPN <╝   ║ ║   conj\n",
      "者 PART  ═════╝═╝═╗ ROOT\n",
      "也 PART  <════════╝ discourse:sp\n"
     ]
    },
    {
     "name": "stderr",
     "output_type": "stream",
     "text": [
      "\r"
     ]
    }
   ],
   "source": [
    "ex18 = nlp(\"必若桀纣者也\")\n",
    "render(ex18)"
   ]
  },
  {
   "cell_type": "code",
   "execution_count": 22,
   "metadata": {},
   "outputs": [
    {
     "name": "stderr",
     "output_type": "stream",
     "text": [
      "                                                   "
     ]
    },
    {
     "name": "stdout",
     "output_type": "stream",
     "text": [
      "子 PRON  <════╗   nsubj\n",
      "誠 VERB  <══╗ ║   advmod\n",
      "齊 PROPN <╗ ║ ║   nmod\n",
      "人 NOUN  ═╝═╝═╝═╗ ROOT\n",
      "也 PART  <══════╝ discourse:sp\n"
     ]
    },
    {
     "name": "stderr",
     "output_type": "stream",
     "text": [
      "\r"
     ]
    }
   ],
   "source": [
    "ex19 = nlp(\"子誠齊人也\")\n",
    "render(ex19)"
   ]
  },
  {
   "cell_type": "code",
   "execution_count": 23,
   "metadata": {},
   "outputs": [
    {
     "name": "stderr",
     "output_type": "stream",
     "text": [
      "                                                   "
     ]
    },
    {
     "name": "stdout",
     "output_type": "stream",
     "text": [
      "固 ADV  <══╗   advmod\n",
      "所 PART <╗ ║   mark\n",
      "願 VERB ═╝═╝═╗ ROOT\n",
      "也 PART <════╝ discourse:sp\n"
     ]
    },
    {
     "name": "stderr",
     "output_type": "stream",
     "text": [
      "\r"
     ]
    }
   ],
   "source": [
    "ex20 = nlp(\"固所願也\")\n",
    "render(ex20)"
   ]
  },
  {
   "cell_type": "markdown",
   "metadata": {},
   "source": [
    "### c. Verbless Comparisons with 猶"
   ]
  },
  {
   "cell_type": "markdown",
   "metadata": {},
   "source": [
    "In the following example, 猶 is not considered a verb."
   ]
  },
  {
   "cell_type": "code",
   "execution_count": 24,
   "metadata": {},
   "outputs": [
    {
     "name": "stderr",
     "output_type": "stream",
     "text": [
      "                                                   "
     ]
    },
    {
     "name": "stdout",
     "output_type": "stream",
     "text": [
      "今 NOUN  ═╗<╗       nmod\n",
      "之 SCONJ <╝ ║       case\n",
      "樂 NOUN  ═══╝<══╗   nsubj\n",
      "猶 VERB  ═════╗═╝═╗ ROOT\n",
      "古 NOUN  ═╗<╗ ║   ║ nmod\n",
      "之 SCONJ <╝ ║ ║   ║ case\n",
      "樂 NOUN  ═══╝<╝   ║ obj\n",
      "也 PART  <════════╝ discourse:sp\n"
     ]
    },
    {
     "name": "stderr",
     "output_type": "stream",
     "text": [
      "\r"
     ]
    }
   ],
   "source": [
    "ex21 = nlp(\"今之樂猶古之樂也\")\n",
    "render(ex21)"
   ]
  },
  {
   "cell_type": "markdown",
   "metadata": {},
   "source": [
    "### d. Omission of 也"
   ]
  },
  {
   "cell_type": "code",
   "execution_count": 25,
   "metadata": {},
   "outputs": [
    {
     "name": "stderr",
     "output_type": "stream",
     "text": [
      "                                                   "
     ]
    },
    {
     "name": "stdout",
     "output_type": "stream",
     "text": [
      "萬 NUM   ═╗═╗<╗       nummod\n",
      "乘 NOUN  <╝ ║ ║       clf\n",
      "之 SCONJ <══╝ ║       case\n",
      "國 NOUN  ═════╝<════╗ dislocated\n",
      "弑 VERB  ═══╗<╗     ║ acl\n",
      "其 PRON  <╗ ║ ║     ║ det\n",
      "君 NOUN  ═╝<╝ ║     ║ obj\n",
      "者 PART  ═════╝<══╗ ║ nsubj\n",
      "必 ADV   <══════╗ ║ ║ advmod\n",
      "千 NUM   ═╗═╗<╗ ║ ║ ║ nummod\n",
      "乗 NOUN  <╝ ║ ║ ║ ║ ║ clf\n",
      "之 SCONJ <══╝ ║ ║ ║ ║ case\n",
      "家 NOUN  ═════╝═╝═╝═╝ ROOT\n"
     ]
    },
    {
     "name": "stderr",
     "output_type": "stream",
     "text": [
      "\r"
     ]
    }
   ],
   "source": [
    "ex22 = nlp(\"萬乘之國弑其君者必千乗之家\")\n",
    "render(ex22)"
   ]
  },
  {
   "cell_type": "markdown",
   "metadata": {},
   "source": [
    "### e. The Aspect Particle Yi 已 after Verbless Noun Predicates"
   ]
  },
  {
   "cell_type": "code",
   "execution_count": 26,
   "metadata": {},
   "outputs": [
    {
     "name": "stderr",
     "output_type": "stream",
     "text": [
      "                                                   "
     ]
    },
    {
     "name": "stdout",
     "output_type": "stream",
     "text": [
      "是 PRON <══╗   nsubj\n",
      "乱 VERB ═╗═╝═╗ ROOT\n",
      "國 NOUN <╝   ║ obj\n",
      "已 PART <════╝ discourse:sp\n"
     ]
    },
    {
     "name": "stderr",
     "output_type": "stream",
     "text": [
      "\r"
     ]
    }
   ],
   "source": [
    "ex23 = nlp(\"是乱國已\")\n",
    "render(ex23)"
   ]
  },
  {
   "cell_type": "code",
   "execution_count": 27,
   "metadata": {},
   "outputs": [
    {
     "name": "stderr",
     "output_type": "stream",
     "text": [
      "                                                   "
     ]
    },
    {
     "name": "stdout",
     "output_type": "stream",
     "text": [
      "君子 NOUN <══╗         nsubj\n",
      "曰   VERB ═╗═╝<╗       csubj\n",
      "此   PRON <╝   ║       obj\n",
      "亦   ADV  <══╗ ║       advmod\n",
      "妄   VERB <╗ ║ ║       amod\n",
      "人   NOUN ═╝═╝═╝═╗═╗═╗ ROOT\n",
      "也   PART <══════╝ ║ ║ discourse:sp\n",
      "已   PART <════════╝ ║ discourse:sp\n",
      "矣   PART <══════════╝ discourse:sp\n"
     ]
    },
    {
     "name": "stderr",
     "output_type": "stream",
     "text": [
      "\r"
     ]
    }
   ],
   "source": [
    "ex24 = nlp(\"君子曰此亦妄人也已矣\")\n",
    "render(ex24)"
   ]
  },
  {
   "cell_type": "markdown",
   "metadata": {},
   "source": [
    "## 2. The Copula Verb *Wei* 為"
   ]
  },
  {
   "cell_type": "code",
   "execution_count": 28,
   "metadata": {},
   "outputs": [
    {
     "name": "stderr",
     "output_type": "stream",
     "text": [
      "                                                   "
     ]
    },
    {
     "name": "stdout",
     "output_type": "stream",
     "text": [
      "孟子 PROPN <══════╗ nsubj\n",
      "為   VERB  <════╗ ║ cop\n",
      "卿   NOUN  ═══╗═╝═╝ ROOT\n",
      "於   ADP   <╗ ║     case\n",
      "齊   PROPN ═╝<╝     obl:lmod\n"
     ]
    },
    {
     "name": "stderr",
     "output_type": "stream",
     "text": [
      "\r"
     ]
    }
   ],
   "source": [
    "ex25 = nlp(\"孟子為卿於齊\")\n",
    "render(ex25)"
   ]
  },
  {
   "cell_type": "code",
   "execution_count": 29,
   "metadata": {},
   "outputs": [
    {
     "name": "stderr",
     "output_type": "stream",
     "text": [
      "                                                   "
     ]
    },
    {
     "name": "stdout",
     "output_type": "stream",
     "text": [
      "子 PRON <══╗ nsubj\n",
      "為 VERB <╗ ║ cop\n",
      "誰 PRON ═╝═╝ ROOT\n"
     ]
    },
    {
     "name": "stderr",
     "output_type": "stream",
     "text": [
      "\r"
     ]
    }
   ],
   "source": [
    "ex26 = nlp(\"子為誰\")\n",
    "render(ex26)"
   ]
  },
  {
   "cell_type": "code",
   "execution_count": 30,
   "metadata": {},
   "outputs": [
    {
     "name": "stderr",
     "output_type": "stream",
     "text": [
      "                                                   "
     ]
    },
    {
     "name": "stdout",
     "output_type": "stream",
     "text": [
      "不 ADV  <════╗   advmod\n",
      "為 VERB ═══╗═╝═╗ ROOT\n",
      "不 ADV  <╗ ║   ║ advmod\n",
      "多 VERB ═╝<╝   ║ ccomp\n",
      "矣 PART <══════╝ discourse:sp\n"
     ]
    },
    {
     "name": "stderr",
     "output_type": "stream",
     "text": [
      "\r"
     ]
    }
   ],
   "source": [
    "ex27 = nlp(\"不為不多矣\")\n",
    "render(ex27)"
   ]
  },
  {
   "cell_type": "code",
   "execution_count": 31,
   "metadata": {},
   "outputs": [
    {
     "name": "stderr",
     "output_type": "stream",
     "text": [
      "                                                   "
     ]
    },
    {
     "name": "stdout",
     "output_type": "stream",
     "text": [
      "人 NOUN  <════════╗ nsubj\n",
      "皆 ADV   <══════╗ ║ advmod\n",
      "可 AUX   ═╗<══╗ ║ ║ aux\n",
      "以 VERB  <╝   ║ ║ ║ fixed\n",
      "為 VERB  <══╗ ║ ║ ║ cop\n",
      "堯 PROPN ═╗═╝═╝═╝═╝ ROOT\n",
      "舜 PROPN <╝         conj\n"
     ]
    },
    {
     "name": "stderr",
     "output_type": "stream",
     "text": [
      "\r"
     ]
    }
   ],
   "source": [
    "ex28 = nlp(\"人皆可以為堯舜\")\n",
    "render(ex28)"
   ]
  },
  {
   "cell_type": "markdown",
   "metadata": {},
   "source": [
    "## 3. The Copula *Yue* 曰"
   ]
  },
  {
   "cell_type": "code",
   "execution_count": 32,
   "metadata": {},
   "outputs": [
    {
     "name": "stderr",
     "output_type": "stream",
     "text": [
      "                                                   "
     ]
    },
    {
     "name": "stdout",
     "output_type": "stream",
     "text": [
      "老 VERB  ═════╗<╗ csubj\n",
      "而 CCONJ <══╗ ║ ║ cc\n",
      "無 VERB  ═╗═╝<╝ ║ conj\n",
      "妻 NOUN  <╝     ║ obj\n",
      "曰 VERB  ═╗═════╝ ROOT\n",
      "鰥 NOUN  <╝       obj\n"
     ]
    },
    {
     "name": "stderr",
     "output_type": "stream",
     "text": [
      "\r"
     ]
    }
   ],
   "source": [
    "ex29 = nlp(\"老而無妻曰鰥\")\n",
    "render(ex29)"
   ]
  },
  {
   "cell_type": "code",
   "execution_count": 34,
   "metadata": {},
   "outputs": [
    {
     "name": "stderr",
     "output_type": "stream",
     "text": [
      "                                                   "
     ]
    },
    {
     "name": "stdout",
     "output_type": "stream",
     "text": [
      "公 NOUN <╗         nsubj\n",
      "曰 VERB ═╝<══════╗ advcl\n",
      "是 PRON <╗       ║ nsubj\n",
      "其 PRON  ║<╗     ║ discourse\n",
      "生 VERB ═╝═╝═╗<╗ ║ csubj\n",
      "也 PART <════╝ ║ ║ mark\n",
      "與 ADP  <╗     ║ ║ case\n",
      "吾 PRON ═╝<╗   ║ ║ obl\n",
      "同 VERB ═╗═╝═══╝═╝ ROOT\n",
      "物 NOUN <╝         obj\n",
      "命 VERB ═╗<╗       csubj\n",
      "之 PRON <╝ ║       obj\n",
      "曰 VERB ═╗═╝       ROOT\n",
      "同 VERB <╝         obj\n"
     ]
    },
    {
     "name": "stderr",
     "output_type": "stream",
     "text": [
      "\r"
     ]
    }
   ],
   "source": [
    "ex30 = nlp(\"公曰是其生也與吾同物\\n命之曰同\")\n",
    "render(ex30)"
   ]
  },
  {
   "cell_type": "markdown",
   "metadata": {},
   "source": [
    "## 4. The Preclassical Copula *Wei* 唯"
   ]
  },
  {
   "cell_type": "code",
   "execution_count": 35,
   "metadata": {},
   "outputs": [
    {
     "name": "stderr",
     "output_type": "stream",
     "text": [
      "                                                   "
     ]
    },
    {
     "name": "stdout",
     "output_type": "stream",
     "text": [
      "所 PART <╗   case\n",
      "臨 VERB ═╝<╗ nsubj\n",
      "唯 ADV  <╗ ║ advmod\n",
      "信 VERB ═╝═╝ ROOT\n"
     ]
    },
    {
     "name": "stderr",
     "output_type": "stream",
     "text": [
      "\r"
     ]
    }
   ],
   "source": [
    "ex31 = nlp(\"所臨唯信\")\n",
    "render(ex31)"
   ]
  },
  {
   "cell_type": "code",
   "execution_count": 36,
   "metadata": {},
   "outputs": [
    {
     "name": "stderr",
     "output_type": "stream",
     "text": [
      "                                                   "
     ]
    },
    {
     "name": "stdout",
     "output_type": "stream",
     "text": [
      "惟 ADV  <════╗ advmod\n",
      "義 NOUN <══╗ ║ nsubj\n",
      "所 PART <╗ ║ ║ mark\n",
      "在 VERB ═╝═╝═╝ ROOT\n"
     ]
    },
    {
     "name": "stderr",
     "output_type": "stream",
     "text": [
      "\r"
     ]
    }
   ],
   "source": [
    "ex32 = nlp(\"惟義所在\")\n",
    "render(ex32)"
   ]
  }
 ],
 "metadata": {
  "interpreter": {
   "hash": "24c7420704055a54140a02528a2609fb6bd56fcb92850f5594d6233afbe4d574"
  },
  "kernelspec": {
   "display_name": "Python 3.8.10 ('nlp')",
   "language": "python",
   "name": "python3"
  },
  "language_info": {
   "codemirror_mode": {
    "name": "ipython",
    "version": 3
   },
   "file_extension": ".py",
   "mimetype": "text/x-python",
   "name": "python",
   "nbconvert_exporter": "python",
   "pygments_lexer": "ipython3",
   "version": "3.8.10"
  },
  "orig_nbformat": 4
 },
 "nbformat": 4,
 "nbformat_minor": 2
}
