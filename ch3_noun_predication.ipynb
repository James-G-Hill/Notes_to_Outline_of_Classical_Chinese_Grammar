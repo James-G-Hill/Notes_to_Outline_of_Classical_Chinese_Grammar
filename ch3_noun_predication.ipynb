{
 "cells": [
  {
   "cell_type": "markdown",
   "metadata": {},
   "source": [
    "# 3 : Noun Predication"
   ]
  },
  {
   "cell_type": "code",
   "execution_count": 1,
   "metadata": {},
   "outputs": [],
   "source": [
    "from deplacy import (\n",
    "    dot,\n",
    "    render,\n",
    "    to_conllu\n",
    ")\n",
    "from graphviz import Source\n",
    "from lzh_helpers.serve import serve\n",
    "from udkanbun import load\n",
    "\n",
    "nlp = load(MeCab=True, Danku=True)"
   ]
  },
  {
   "cell_type": "markdown",
   "metadata": {},
   "source": [
    "A link to the UD POS page:\n",
    "https://universaldependencies.org/u/pos/all.html\n",
    "\n",
    "A link to the UD dependency relations page:\n",
    "https://universaldependencies.org/u/pos/all.html\n",
    "\n",
    "A link to the UD-Kanbun page:\n",
    "https://github.com/KoichiYasuoka/UD-Kanbun\n",
    "\n",
    "For finding pauses in classical Chinese text go here:\n",
    "https://seg.shenshen.wiki/"
   ]
  },
  {
   "cell_type": "markdown",
   "metadata": {},
   "source": [
    "## 1. Verbless Noun Predictation"
   ]
  },
  {
   "cell_type": "markdown",
   "metadata": {},
   "source": [
    "The following formula is used (A may be ommitted as assumed):\n",
    "\n",
    "> (A) (非) B 也"
   ]
  },
  {
   "cell_type": "code",
   "execution_count": 2,
   "metadata": {},
   "outputs": [
    {
     "data": {
      "text/html": [
       "\n",
       "        <iframe\n",
       "            width=\"100%\"\n",
       "            height=\"350\"\n",
       "            src=\"https://koichiyasuoka.github.io/deplacy/deplacy/viewer.svg#%23%20text%20%3D%20%E9%9D%9E%E6%88%91%E4%B9%9F%0A1%09%E9%9D%9E%09%E9%9D%9E%09ADV%09v%2C%E5%89%AF%E8%A9%9E%2C%E5%90%A6%E5%AE%9A%2C%E4%BD%93%E8%A8%80%E5%90%A6%E5%AE%9A%09Polarity%3DNeg%092%09advmod%09_%09Gloss%3D%5Bnegator-of-nouns%5D%7CSpaceAfter%3DNo%0A2%09%E6%88%91%09%E6%88%91%09PRON%09n%2C%E4%BB%A3%E5%90%8D%E8%A9%9E%2C%E4%BA%BA%E7%A7%B0%2C%E6%AD%A2%E6%A0%BC%09Person%3D1%7CPronType%3DPrs%090%09root%09_%09Gloss%3D%5B1PRON%5D%7CSpaceAfter%3DNo%0A3%09%E4%B9%9F%09%E4%B9%9F%09PART%09p%2C%E5%8A%A9%E8%A9%9E%2C%E5%8F%A5%E6%9C%AB%2C%2A%09_%092%09discourse%3Asp%09_%09Gloss%3D%5Bfinal-particle%5D%7CSpaceAfter%3DNo%0A%0A%23%20text%20%3D%20%E5%85%B5%E4%B9%9F%0A1%09%E5%85%B5%09%E5%85%B5%09NOUN%09n%2C%E5%90%8D%E8%A9%9E%2C%E4%BA%BA%2C%E5%BD%B9%E5%89%B2%09_%090%09root%09_%09Gloss%3Dsoldier%7CSpaceAfter%3DNo%0A2%09%E4%B9%9F%09%E4%B9%9F%09PART%09p%2C%E5%8A%A9%E8%A9%9E%2C%E5%8F%A5%E6%9C%AB%2C%2A%09_%091%09discourse%3Asp%09_%09Gloss%3D%5Bfinal-particle%5D%7CSpaceAfter%3DNo%0A%0A\"\n",
       "            frameborder=\"0\"\n",
       "            allowfullscreen\n",
       "            style=\"background-color: white;\"\n",
       "        ></iframe>\n",
       "        "
      ],
      "text/plain": [
       "<IPython.lib.display.IFrame at 0x7f5284127d30>"
      ]
     },
     "metadata": {},
     "output_type": "display_data"
    }
   ],
   "source": [
    "ex5 = nlp(\"非我也兵也\")\n",
    "# print(to_conllu(ex5))\n",
    "# render(ex5)\n",
    "# Source(dot(ex5))\n",
    "serve(ex5, 350)"
   ]
  },
  {
   "cell_type": "code",
   "execution_count": 22,
   "metadata": {},
   "outputs": [
    {
     "data": {
      "text/html": [
       "\n",
       "        <iframe\n",
       "            width=\"100%\"\n",
       "            height=\"400\"\n",
       "            src=\"https://koichiyasuoka.github.io/deplacy/deplacy/viewer.svg#%23%20text%20%3D%20%E6%98%AF%E4%B8%8D%E7%82%BA%E4%B9%9F%0A1%09%E6%98%AF%09%E6%98%AF%09PRON%09n%2C%E4%BB%A3%E5%90%8D%E8%A9%9E%2C%E6%8C%87%E7%A4%BA%2C%2A%09PronType%3DDem%093%09nsubj%09_%09Gloss%3Dthis%7CSpaceAfter%3DNo%0A2%09%E4%B8%8D%09%E4%B8%8D%09ADV%09v%2C%E5%89%AF%E8%A9%9E%2C%E5%90%A6%E5%AE%9A%2C%E7%84%A1%E7%95%8C%09Polarity%3DNeg%093%09advmod%09_%09Gloss%3Dnot%7CSpaceAfter%3DNo%0A3%09%E7%82%BA%09%E7%88%B2%09VERB%09v%2C%E5%8B%95%E8%A9%9E%2C%E8%A1%8C%E7%82%BA%2C%E7%94%9F%E7%94%A3%09_%090%09root%09_%09Gloss%3Dmake%7CSpaceAfter%3DNo%7CTranslit%3D%E4%B8%BA%0A4%09%E4%B9%9F%09%E4%B9%9F%09PART%09p%2C%E5%8A%A9%E8%A9%9E%2C%E5%8F%A5%E6%9C%AB%2C%2A%09_%093%09discourse%3Asp%09_%09Gloss%3D%5Bfinal-particle%5D%7CSpaceAfter%3DNo%0A%0A%23%20text%20%3D%20%E9%9D%9E%E4%B8%8D%E8%83%BD%E4%B9%9F%0A1%09%E9%9D%9E%09%E9%9D%9E%09ADV%09v%2C%E5%89%AF%E8%A9%9E%2C%E5%90%A6%E5%AE%9A%2C%E4%BD%93%E8%A8%80%E5%90%A6%E5%AE%9A%09Polarity%3DNeg%093%09advmod%09_%09Gloss%3D%5Bnegator-of-nouns%5D%7CSpaceAfter%3DNo%0A2%09%E4%B8%8D%09%E4%B8%8D%09ADV%09v%2C%E5%89%AF%E8%A9%9E%2C%E5%90%A6%E5%AE%9A%2C%E7%84%A1%E7%95%8C%09Polarity%3DNeg%093%09advmod%09_%09Gloss%3Dnot%7CSpaceAfter%3DNo%0A3%09%E8%83%BD%09%E8%83%BD%09AUX%09v%2C%E5%8A%A9%E5%8B%95%E8%A9%9E%2C%E5%8F%AF%E8%83%BD%2C%2A%09Mood%3DPot%090%09root%09_%09Gloss%3Dcan%7CSpaceAfter%3DNo%0A4%09%E4%B9%9F%09%E4%B9%9F%09PART%09p%2C%E5%8A%A9%E8%A9%9E%2C%E5%8F%A5%E6%9C%AB%2C%2A%09_%093%09discourse%3Asp%09_%09Gloss%3D%5Bfinal-particle%5D%7CSpaceAfter%3DNo%0A%0A\"\n",
       "            frameborder=\"0\"\n",
       "            allowfullscreen\n",
       "            style=\"background-color: white;\"\n",
       "        ></iframe>\n",
       "        "
      ],
      "text/plain": [
       "<IPython.lib.display.IFrame at 0x7f5284077400>"
      ]
     },
     "metadata": {},
     "output_type": "display_data"
    }
   ],
   "source": [
    "ex6 = nlp(\"是不為也非不能也\")\n",
    "serve(ex6, 400)"
   ]
  },
  {
   "cell_type": "code",
   "execution_count": 4,
   "metadata": {},
   "outputs": [
    {
     "data": {
      "text/html": [
       "\n",
       "        <iframe\n",
       "            width=\"100%\"\n",
       "            height=\"200\"\n",
       "            src=\"https://koichiyasuoka.github.io/deplacy/deplacy/viewer.svg#%23%20text%20%3D%20%E7%95%8F%E5%A4%A9%E8%80%85%E4%B9%9F%0A1%09%E7%95%8F%09%E7%95%8F%09VERB%09v%2C%E5%8B%95%E8%A9%9E%2C%E8%A1%8C%E7%82%BA%2C%E6%85%8B%E5%BA%A6%09_%093%09acl%09_%09Gloss%3Dfear%7CSpaceAfter%3DNo%0A2%09%E5%A4%A9%09%E5%A4%A9%09NOUN%09n%2C%E5%90%8D%E8%A9%9E%2C%E5%88%B6%E5%BA%A6%2C%E5%A0%B4%09Case%3DLoc%091%09obj%09_%09Gloss%3Dheaven%7CSpaceAfter%3DNo%0A3%09%E8%80%85%09%EF%A9%9B%09PART%09p%2C%E5%8A%A9%E8%A9%9E%2C%E6%8F%90%E7%A4%BA%2C%2A%09_%090%09root%09_%09Gloss%3Dthat-which%7CSpaceAfter%3DNo%0A4%09%E4%B9%9F%09%E4%B9%9F%09PART%09p%2C%E5%8A%A9%E8%A9%9E%2C%E5%8F%A5%E6%9C%AB%2C%2A%09_%093%09discourse%3Asp%09_%09Gloss%3D%5Bfinal-particle%5D%7CSpaceAfter%3DNo%0A%0A\"\n",
       "            frameborder=\"0\"\n",
       "            allowfullscreen\n",
       "            style=\"background-color: white;\"\n",
       "        ></iframe>\n",
       "        "
      ],
      "text/plain": [
       "<IPython.lib.display.IFrame at 0x7f528414b3d0>"
      ]
     },
     "metadata": {},
     "output_type": "display_data"
    }
   ],
   "source": [
    "ex7 = nlp(\"畏天者也\")\n",
    "serve(ex7)"
   ]
  },
  {
   "cell_type": "code",
   "execution_count": 5,
   "metadata": {},
   "outputs": [
    {
     "data": {
      "text/html": [
       "\n",
       "        <iframe\n",
       "            width=\"100%\"\n",
       "            height=\"200\"\n",
       "            src=\"https://koichiyasuoka.github.io/deplacy/deplacy/viewer.svg#%23%20text%20%3D%20%E5%8F%9F%E4%B9%8B%E6%89%80%E7%9F%A5%E4%B9%9F%0A1%09%E5%8F%9F%09%E5%8F%9F%09NOUN%09n%2C%E5%90%8D%E8%A9%9E%2C%E4%BA%BA%2C%E4%BA%BA%09_%094%09nsubj%09_%09Gloss%3Dold-gentleman%7CSpaceAfter%3DNo%0A2%09%E4%B9%8B%09%E4%B9%8B%09SCONJ%09p%2C%E5%8A%A9%E8%A9%9E%2C%E6%8E%A5%E7%B6%9A%2C%E5%B1%9E%E6%A0%BC%09_%091%09case%09_%09Gloss%3D%27s%7CSpaceAfter%3DNo%0A3%09%E6%89%80%09%E6%89%80%09PART%09p%2C%E5%8A%A9%E8%A9%9E%2C%E6%8E%A5%E7%B6%9A%2C%E4%BD%93%E8%A8%80%E5%8C%96%09_%094%09mark%09_%09Gloss%3Dthat-which%7CSpaceAfter%3DNo%0A4%09%E7%9F%A5%09%E7%9F%A5%09VERB%09v%2C%E5%8B%95%E8%A9%9E%2C%E8%A1%8C%E7%82%BA%2C%E5%8B%95%E4%BD%9C%09_%090%09root%09_%09Gloss%3Dknow%7CSpaceAfter%3DNo%0A5%09%E4%B9%9F%09%E4%B9%9F%09PART%09p%2C%E5%8A%A9%E8%A9%9E%2C%E5%8F%A5%E6%9C%AB%2C%2A%09_%094%09discourse%3Asp%09_%09Gloss%3D%5Bfinal-particle%5D%7CSpaceAfter%3DNo%0A%0A\"\n",
       "            frameborder=\"0\"\n",
       "            allowfullscreen\n",
       "            style=\"background-color: white;\"\n",
       "        ></iframe>\n",
       "        "
      ],
      "text/plain": [
       "<IPython.lib.display.IFrame at 0x7f528427b940>"
      ]
     },
     "metadata": {},
     "output_type": "display_data"
    }
   ],
   "source": [
    "ex8 = nlp(\"叟之所知也\")\n",
    "serve(ex8)"
   ]
  },
  {
   "cell_type": "markdown",
   "metadata": {},
   "source": [
    "### a. Questions"
   ]
  },
  {
   "cell_type": "code",
   "execution_count": 6,
   "metadata": {},
   "outputs": [
    {
     "data": {
      "text/html": [
       "\n",
       "        <iframe\n",
       "            width=\"100%\"\n",
       "            height=\"250\"\n",
       "            src=\"https://koichiyasuoka.github.io/deplacy/deplacy/viewer.svg#%23%20text%20%3D%20%E5%A4%AB%E9%9D%9E%E7%9B%A1%E4%BA%BA%E4%B9%8B%E5%AD%90%E8%88%87%0A1%09%E5%A4%AB%09%E5%A4%AB%09PART%09p%2C%E5%8A%A9%E8%A9%9E%2C%E5%8F%A5%E9%A0%AD%2C%2A%09_%093%09discourse%09_%09Gloss%3D%5Bmodal-particle%5D%7CSpaceAfter%3DNo%0A2%09%E9%9D%9E%09%E9%9D%9E%09ADV%09v%2C%E5%89%AF%E8%A9%9E%2C%E5%90%A6%E5%AE%9A%2C%E4%BD%93%E8%A8%80%E5%90%A6%E5%AE%9A%09Polarity%3DNeg%093%09advmod%09_%09Gloss%3D%5Bnegator-of-nouns%5D%7CSpaceAfter%3DNo%0A3%09%E7%9B%A1%09%E7%9B%A1%09VERB%09v%2C%E5%8B%95%E8%A9%9E%2C%E8%A1%8C%E7%82%BA%2C%E5%8B%95%E4%BD%9C%09_%090%09root%09_%09Gloss%3Dexhaust%7CSpaceAfter%3DNo%7CTranslit%3D%E5%B0%BD%0A4%09%E4%BA%BA%09%E4%BA%BA%09NOUN%09n%2C%E5%90%8D%E8%A9%9E%2C%E4%BA%BA%2C%E4%BA%BA%09_%096%09nmod%09_%09Gloss%3Dperson%7CSpaceAfter%3DNo%0A5%09%E4%B9%8B%09%E4%B9%8B%09SCONJ%09p%2C%E5%8A%A9%E8%A9%9E%2C%E6%8E%A5%E7%B6%9A%2C%E5%B1%9E%E6%A0%BC%09_%094%09case%09_%09Gloss%3D%27s%7CSpaceAfter%3DNo%0A6%09%E5%AD%90%09%E5%AD%90%09NOUN%09n%2C%E5%90%8D%E8%A9%9E%2C%E4%BA%BA%2C%E9%96%A2%E4%BF%82%09_%093%09obj%09_%09Gloss%3Dchild%7CSpaceAfter%3DNo%0A7%09%E8%88%87%09%E8%88%87%09PART%09p%2C%E5%8A%A9%E8%A9%9E%2C%E5%8F%A5%E6%9C%AB%2C%2A%09_%093%09discourse%3Asp%09_%09Gloss%3D%5BQ%5D%7CSpaceAfter%3DNo%7CTranslit%3D%E4%B8%8E%0A%0A\"\n",
       "            frameborder=\"0\"\n",
       "            allowfullscreen\n",
       "            style=\"background-color: white;\"\n",
       "        ></iframe>\n",
       "        "
      ],
      "text/plain": [
       "<IPython.lib.display.IFrame at 0x7f528414b9d0>"
      ]
     },
     "metadata": {},
     "output_type": "display_data"
    }
   ],
   "source": [
    "ex9 = nlp(\"夫非盡人之子與\")\n",
    "serve(ex9, 250)"
   ]
  },
  {
   "cell_type": "code",
   "execution_count": 7,
   "metadata": {},
   "outputs": [
    {
     "data": {
      "text/html": [
       "\n",
       "        <iframe\n",
       "            width=\"100%\"\n",
       "            height=\"200\"\n",
       "            src=\"https://koichiyasuoka.github.io/deplacy/deplacy/viewer.svg#%23%20text%20%3D%20%E5%85%B6%E6%AD%A3%E8%89%B2%E9%82%AA%0A1%09%E5%85%B6%09%E5%85%B6%09PRON%09n%2C%E4%BB%A3%E5%90%8D%E8%A9%9E%2C%E4%BA%BA%E7%A7%B0%2C%E8%B5%B7%E6%A0%BC%09Person%3D3%7CPronType%3DPrs%093%09nsubj%09_%09Gloss%3D%5B3PRON%5D%7CSpaceAfter%3DNo%0A2%09%E6%AD%A3%09%E6%AD%A3%09VERB%09v%2C%E5%8B%95%E8%A9%9E%2C%E6%8F%8F%E5%86%99%2C%E5%BD%A2%E8%B3%AA%09Degree%3DPos%093%09amod%09_%09Gloss%3Dcorrect%7CSpaceAfter%3DNo%0A3%09%E8%89%B2%09%E8%89%B2%09NOUN%09n%2C%E5%90%8D%E8%A9%9E%2C%E6%8F%8F%E5%86%99%2C%E5%BD%A2%E8%B3%AA%09_%090%09root%09_%09Gloss%3Dcolour%7CSpaceAfter%3DNo%0A4%09%E9%82%AA%09%E9%82%AA%09PART%09p%2C%E5%8A%A9%E8%A9%9E%2C%E5%8F%A5%E6%9C%AB%2C%2A%09_%093%09discourse%3Asp%09_%09Gloss%3D%5BQ%5D%7CSpaceAfter%3DNo%0A%0A\"\n",
       "            frameborder=\"0\"\n",
       "            allowfullscreen\n",
       "            style=\"background-color: white;\"\n",
       "        ></iframe>\n",
       "        "
      ],
      "text/plain": [
       "<IPython.lib.display.IFrame at 0x7f528414b0a0>"
      ]
     },
     "metadata": {},
     "output_type": "display_data"
    }
   ],
   "source": [
    "ex10 = nlp(\"其正色邪\")\n",
    "serve(ex10)"
   ]
  },
  {
   "cell_type": "code",
   "execution_count": 24,
   "metadata": {},
   "outputs": [
    {
     "data": {
      "text/html": [
       "\n",
       "        <iframe\n",
       "            width=\"100%\"\n",
       "            height=\"400\"\n",
       "            src=\"https://koichiyasuoka.github.io/deplacy/deplacy/viewer.svg#%23%20text%20%3D%20%E7%84%B6%E8%80%8C%E8%87%B3%E6%AD%A4%E6%A5%B5%E8%80%85%0A1%09%E7%84%B6%09%E7%84%B6%09VERB%09v%2C%E5%8B%95%E8%A9%9E%2C%E6%8F%8F%E5%86%99%2C%E6%85%8B%E5%BA%A6%09Degree%3DPos%093%09advmod%09_%09Gloss%3Dlike-this%7CSpaceAfter%3DNo%0A2%09%E8%80%8C%09%E8%80%8C%09CCONJ%09p%2C%E5%8A%A9%E8%A9%9E%2C%E6%8E%A5%E7%B6%9A%2C%E4%B8%A6%E5%88%97%09_%093%09advmod%09_%09Gloss%3Dand%7CSpaceAfter%3DNo%0A3%09%E8%87%B3%09%E8%87%B3%09VERB%09v%2C%E5%8B%95%E8%A9%9E%2C%E8%A1%8C%E7%82%BA%2C%E7%A7%BB%E5%8B%95%09_%096%09acl%09_%09Gloss%3Darrive%7CSpaceAfter%3DNo%0A4%09%E6%AD%A4%09%E6%AD%A4%09PRON%09n%2C%E4%BB%A3%E5%90%8D%E8%A9%9E%2C%E6%8C%87%E7%A4%BA%2C%2A%09PronType%3DDem%095%09det%09_%09Gloss%3Dthis%7CSpaceAfter%3DNo%0A5%09%E6%A5%B5%09%E6%A5%B5%09NOUN%09n%2C%E5%90%8D%E8%A9%9E%2C%E5%9B%BA%E5%AE%9A%E7%89%A9%2C%E9%96%A2%E4%BF%82%09Case%3DLoc%093%09obj%09_%09Gloss%3Dpole-end%7CSpaceAfter%3DNo%7CTranslit%3D%E6%9E%81%0A6%09%E8%80%85%09%EF%A9%9B%09PART%09p%2C%E5%8A%A9%E8%A9%9E%2C%E6%8F%90%E7%A4%BA%2C%2A%09_%090%09root%09_%09Gloss%3Dthat-which%7CSpaceAfter%3DNo%0A%0A%23%20text%20%3D%20%E5%91%BD%E4%B9%9F%E5%A4%AB%0A1%09%E5%91%BD%09%E5%91%BD%09VERB%09v%2C%E5%8B%95%E8%A9%9E%2C%E8%A1%8C%E7%82%BA%2C%E4%BC%9D%E9%81%94%09_%090%09root%09_%09Gloss%3Ddecree%7CSpaceAfter%3DNo%0A2%09%E4%B9%9F%09%E4%B9%9F%09PART%09p%2C%E5%8A%A9%E8%A9%9E%2C%E5%8F%A5%E6%9C%AB%2C%2A%09_%091%09discourse%3Asp%09_%09Gloss%3D%5Bfinal-particle%5D%7CSpaceAfter%3DNo%0A3%09%E5%A4%AB%09%E5%A4%AB%09PART%09p%2C%E5%8A%A9%E8%A9%9E%2C%E5%8F%A5%E6%9C%AB%2C%2A%09_%091%09discourse%3Asp%09_%09Gloss%3D%5Bfinal-particle%5D%7CSpaceAfter%3DNo%0A%0A\"\n",
       "            frameborder=\"0\"\n",
       "            allowfullscreen\n",
       "            style=\"background-color: white;\"\n",
       "        ></iframe>\n",
       "        "
      ],
      "text/plain": [
       "<IPython.lib.display.IFrame at 0x7f5284077d60>"
      ]
     },
     "metadata": {},
     "output_type": "display_data"
    }
   ],
   "source": [
    "ex11 = nlp(\"然而至此極者命也夫\")\n",
    "serve(ex11, 400)"
   ]
  },
  {
   "cell_type": "markdown",
   "metadata": {},
   "source": [
    "### b. Pronouns and Particles with Verbless Noun Predicates"
   ]
  },
  {
   "cell_type": "code",
   "execution_count": 25,
   "metadata": {},
   "outputs": [
    {
     "data": {
      "text/html": [
       "\n",
       "        <iframe\n",
       "            width=\"100%\"\n",
       "            height=\"250\"\n",
       "            src=\"https://koichiyasuoka.github.io/deplacy/deplacy/viewer.svg#%23%20text%20%3D%20%E6%AD%A4%E6%96%87%E7%8E%8B%E4%B9%8B%E5%8B%87%E4%B9%9F%0A1%09%E6%AD%A4%09%E6%AD%A4%09PRON%09n%2C%E4%BB%A3%E5%90%8D%E8%A9%9E%2C%E6%8C%87%E7%A4%BA%2C%2A%09PronType%3DDem%095%09nsubj%09_%09Gloss%3Dthis%7CSpaceAfter%3DNo%0A2%09%E6%96%87%09%E6%96%87%09PROPN%09n%2C%E5%90%8D%E8%A9%9E%2C%E4%BA%BA%2C%E3%81%9D%E3%81%AE%E4%BB%96%E3%81%AE%E4%BA%BA%E5%90%8D%09NameType%3DPrs%093%09compound%09_%09Gloss%3DWen%7CSpaceAfter%3DNo%0A3%09%E7%8E%8B%09%E7%8E%8B%09NOUN%09n%2C%E5%90%8D%E8%A9%9E%2C%E4%BA%BA%2C%E5%BD%B9%E5%89%B2%09_%095%09nmod%09_%09Gloss%3Dking%7CSpaceAfter%3DNo%0A4%09%E4%B9%8B%09%E4%B9%8B%09SCONJ%09p%2C%E5%8A%A9%E8%A9%9E%2C%E6%8E%A5%E7%B6%9A%2C%E5%B1%9E%E6%A0%BC%09_%093%09case%09_%09Gloss%3D%27s%7CSpaceAfter%3DNo%0A5%09%E5%8B%87%09%E5%8B%87%09NOUN%09n%2C%E5%90%8D%E8%A9%9E%2C%E6%8F%8F%E5%86%99%2C%E6%85%8B%E5%BA%A6%09_%090%09root%09_%09Gloss%3Dbravery%7CSpaceAfter%3DNo%0A6%09%E4%B9%9F%09%E4%B9%9F%09PART%09p%2C%E5%8A%A9%E8%A9%9E%2C%E5%8F%A5%E6%9C%AB%2C%2A%09_%095%09discourse%3Asp%09_%09Gloss%3D%5Bfinal-particle%5D%7CSpaceAfter%3DNo%0A%0A\"\n",
       "            frameborder=\"0\"\n",
       "            allowfullscreen\n",
       "            style=\"background-color: white;\"\n",
       "        ></iframe>\n",
       "        "
      ],
      "text/plain": [
       "<IPython.lib.display.IFrame at 0x7f5284165970>"
      ]
     },
     "metadata": {},
     "output_type": "display_data"
    }
   ],
   "source": [
    "ex12 = nlp(\"此文王之勇也\")\n",
    "serve(ex12, 250)"
   ]
  },
  {
   "cell_type": "code",
   "execution_count": 10,
   "metadata": {},
   "outputs": [
    {
     "data": {
      "text/html": [
       "\n",
       "        <iframe\n",
       "            width=\"100%\"\n",
       "            height=\"200\"\n",
       "            src=\"https://koichiyasuoka.github.io/deplacy/deplacy/viewer.svg#%23%20text%20%3D%20%E6%98%AF%E4%BA%A6%E8%B5%B0%E4%B9%9F%0A1%09%E6%98%AF%09%E6%98%AF%09PRON%09n%2C%E4%BB%A3%E5%90%8D%E8%A9%9E%2C%E6%8C%87%E7%A4%BA%2C%2A%09PronType%3DDem%093%09nsubj%09_%09Gloss%3Dthis%7CSpaceAfter%3DNo%0A2%09%E4%BA%A6%09%E4%BA%A6%09ADV%09v%2C%E5%89%AF%E8%A9%9E%2C%E9%A0%BB%E5%BA%A6%2C%E9%87%8D%E8%A4%87%09_%093%09advmod%09_%09Gloss%3Dalso%7CSpaceAfter%3DNo%0A3%09%E8%B5%B0%09%E8%B5%B0%09VERB%09v%2C%E5%8B%95%E8%A9%9E%2C%E8%A1%8C%E7%82%BA%2C%E7%A7%BB%E5%8B%95%09_%090%09root%09_%09Gloss%3Drun%7CSpaceAfter%3DNo%0A4%09%E4%B9%9F%09%E4%B9%9F%09PART%09p%2C%E5%8A%A9%E8%A9%9E%2C%E5%8F%A5%E6%9C%AB%2C%2A%09_%093%09discourse%3Asp%09_%09Gloss%3D%5Bfinal-particle%5D%7CSpaceAfter%3DNo%0A%0A\"\n",
       "            frameborder=\"0\"\n",
       "            allowfullscreen\n",
       "            style=\"background-color: white;\"\n",
       "        ></iframe>\n",
       "        "
      ],
      "text/plain": [
       "<IPython.lib.display.IFrame at 0x7f528414bb20>"
      ]
     },
     "metadata": {},
     "output_type": "display_data"
    }
   ],
   "source": [
    "ex13 = nlp(\"是亦走也\")\n",
    "serve(ex13)"
   ]
  },
  {
   "cell_type": "code",
   "execution_count": 26,
   "metadata": {},
   "outputs": [
    {
     "data": {
      "text/html": [
       "\n",
       "        <iframe\n",
       "            width=\"100%\"\n",
       "            height=\"250\"\n",
       "            src=\"https://koichiyasuoka.github.io/deplacy/deplacy/viewer.svg#%23%20text%20%3D%20%E7%9A%86%E5%8F%A4%E8%81%96%E4%BA%BA%E4%B9%9F%0A1%09%E7%9A%86%09%E7%9A%86%09ADV%09v%2C%E5%89%AF%E8%A9%9E%2C%E7%AF%84%E5%9B%B2%2C%E7%B7%8F%E6%8B%AC%09_%094%09advmod%09_%09Gloss%3Dall%7CSpaceAfter%3DNo%0A2%09%E5%8F%A4%09%E5%8F%A4%09NOUN%09n%2C%E5%90%8D%E8%A9%9E%2C%E6%99%82%2C%2A%09Case%3DTem%094%09nmod%09_%09Gloss%3Dolden-times%7CSpaceAfter%3DNo%0A3%09%E8%81%96%09%E8%81%96%09NOUN%09n%2C%E5%90%8D%E8%A9%9E%2C%E4%BA%BA%2C%E5%BD%B9%E5%89%B2%09_%094%09nmod%09_%09Gloss%3Dsage%7CSpaceAfter%3DNo%7CTranslit%3D%E5%9C%A3%0A4%09%E4%BA%BA%09%E4%BA%BA%09NOUN%09n%2C%E5%90%8D%E8%A9%9E%2C%E4%BA%BA%2C%E4%BA%BA%09_%090%09root%09_%09Gloss%3Dperson%7CSpaceAfter%3DNo%0A5%09%E4%B9%9F%09%E4%B9%9F%09PART%09p%2C%E5%8A%A9%E8%A9%9E%2C%E5%8F%A5%E6%9C%AB%2C%2A%09_%094%09discourse%3Asp%09_%09Gloss%3D%5Bfinal-particle%5D%7CSpaceAfter%3DNo%0A%0A\"\n",
       "            frameborder=\"0\"\n",
       "            allowfullscreen\n",
       "            style=\"background-color: white;\"\n",
       "        ></iframe>\n",
       "        "
      ],
      "text/plain": [
       "<IPython.lib.display.IFrame at 0x7f52840885b0>"
      ]
     },
     "metadata": {},
     "output_type": "display_data"
    }
   ],
   "source": [
    "ex14 = nlp(\"皆古聖人也\")\n",
    "serve(ex14, 250)"
   ]
  },
  {
   "cell_type": "code",
   "execution_count": 27,
   "metadata": {},
   "outputs": [
    {
     "data": {
      "text/html": [
       "\n",
       "        <iframe\n",
       "            width=\"100%\"\n",
       "            height=\"250\"\n",
       "            src=\"https://koichiyasuoka.github.io/deplacy/deplacy/viewer.svg#%23%20text%20%3D%20%E6%98%AF%E4%B9%83%E4%BB%81%E8%A1%93%E4%B9%9F%0A1%09%E6%98%AF%09%E6%98%AF%09PRON%09n%2C%E4%BB%A3%E5%90%8D%E8%A9%9E%2C%E6%8C%87%E7%A4%BA%2C%2A%09PronType%3DDem%094%09nsubj%09_%09Gloss%3Dthis%7CSpaceAfter%3DNo%0A2%09%E4%B9%83%09%E4%B9%83%09ADV%09v%2C%E5%89%AF%E8%A9%9E%2C%E6%99%82%E7%9B%B8%2C%E7%B7%8A%E6%8E%A5%09AdvType%3DTim%094%09advmod%09_%09Gloss%3Dthen%7CSpaceAfter%3DNo%0A3%09%E4%BB%81%09%E4%BB%81%09VERB%09v%2C%E5%8B%95%E8%A9%9E%2C%E6%8F%8F%E5%86%99%2C%E6%85%8B%E5%BA%A6%09Degree%3DPos%094%09amod%09_%09Gloss%3Dbenevolent%7CSpaceAfter%3DNo%0A4%09%E8%A1%93%09%E8%A1%93%09NOUN%09n%2C%E5%90%8D%E8%A9%9E%2C%E5%8F%AF%E6%90%AC%2C%E4%BC%9D%E9%81%94%09_%090%09root%09_%09Gloss%3Dskill%7CSpaceAfter%3DNo%7CTranslit%3D%E6%9C%AF%0A5%09%E4%B9%9F%09%E4%B9%9F%09PART%09p%2C%E5%8A%A9%E8%A9%9E%2C%E5%8F%A5%E6%9C%AB%2C%2A%09_%094%09discourse%3Asp%09_%09Gloss%3D%5Bfinal-particle%5D%7CSpaceAfter%3DNo%0A%0A\"\n",
       "            frameborder=\"0\"\n",
       "            allowfullscreen\n",
       "            style=\"background-color: white;\"\n",
       "        ></iframe>\n",
       "        "
      ],
      "text/plain": [
       "<IPython.lib.display.IFrame at 0x7f5284077c10>"
      ]
     },
     "metadata": {},
     "output_type": "display_data"
    }
   ],
   "source": [
    "ex15 = nlp(\"是乃仁術也\")\n",
    "serve(ex15, 250)"
   ]
  },
  {
   "cell_type": "markdown",
   "metadata": {},
   "source": [
    "In the following example, 夫 and 子 have been split with a space.\n",
    "This ensures they are treated separately, not as the word 夫子.\n",
    "They should also both be considered pronouns rather than nouns."
   ]
  },
  {
   "cell_type": "code",
   "execution_count": 13,
   "metadata": {},
   "outputs": [
    {
     "data": {
      "text/html": [
       "\n",
       "        <iframe\n",
       "            width=\"100%\"\n",
       "            height=\"350\"\n",
       "            src=\"https://koichiyasuoka.github.io/deplacy/deplacy/viewer.svg#%23%20text%20%3D%20%E4%B9%83%E5%A4%AB%E5%AD%90%E4%B9%9F%0A1%09%E4%B9%83%09%E4%B9%83%09ADV%09v%2C%E5%89%AF%E8%A9%9E%2C%E6%99%82%E7%9B%B8%2C%E7%B7%8A%E6%8E%A5%09AdvType%3DTim%092%09advmod%09_%09Gloss%3Dthen%7CSpaceAfter%3DNo%0A2%09%E5%A4%AB%E5%AD%90%09%E5%A4%AB%E5%AD%90%09NOUN%09n%2C%E5%90%8D%E8%A9%9E%2C%E4%BA%BA%2C%E4%BA%BA%09_%090%09root%09_%09Gloss%3Dmaster%7CSpaceAfter%3DNo%0A3%09%E4%B9%9F%09%E4%B9%9F%09PART%09p%2C%E5%8A%A9%E8%A9%9E%2C%E5%8F%A5%E6%9C%AB%2C%2A%09_%092%09discourse%3Asp%09_%09Gloss%3D%5Bfinal-particle%5D%7CSpaceAfter%3DNo%0A%0A%23%20text%20%3D%20%E5%90%BE%E8%B2%BA%E5%AD%90%0A1%09%E5%90%BE%09%E5%90%BE%09PRON%09n%2C%E4%BB%A3%E5%90%8D%E8%A9%9E%2C%E4%BA%BA%E7%A7%B0%2C%E8%B5%B7%E6%A0%BC%09Person%3D1%7CPronType%3DPrs%092%09nsubj%09_%09Gloss%3D%5B1PRON%5D%7CSpaceAfter%3DNo%0A2%09%E8%B2%BA%09%E8%B2%BA%09VERB%09v%2C%E5%8B%95%E8%A9%9E%2C%E8%A1%8C%E7%82%BA%2C%E4%BC%9D%E9%81%94%09_%090%09root%09_%09Gloss%3Dconfer%7CSpaceAfter%3DNo%7CTranslit%3D%E8%B4%B6%0A3%09%E5%AD%90%09%E5%AD%90%09NOUN%09n%2C%E5%90%8D%E8%A9%9E%2C%E4%BA%BA%2C%E9%96%A2%E4%BF%82%09_%092%09obj%09_%09Gloss%3Dchild%7CSpaceAfter%3DNo%0A%0A\"\n",
       "            frameborder=\"0\"\n",
       "            allowfullscreen\n",
       "            style=\"background-color: white;\"\n",
       "        ></iframe>\n",
       "        "
      ],
      "text/plain": [
       "<IPython.lib.display.IFrame at 0x7f5284165970>"
      ]
     },
     "metadata": {},
     "output_type": "display_data"
    }
   ],
   "source": [
    "ex16 = nlp(\"乃夫子也吾貺子\")\n",
    "serve(ex16, 350)"
   ]
  },
  {
   "cell_type": "code",
   "execution_count": 52,
   "metadata": {},
   "outputs": [
    {
     "data": {
      "text/html": [
       "\n",
       "        <iframe\n",
       "            width=\"100%\"\n",
       "            height=\"600\"\n",
       "            src=\"https://koichiyasuoka.github.io/deplacy/deplacy/viewer.svg#%23%20text%20%3D%20%E5%8D%B3%E4%B8%8D%E5%BF%8D%E5%85%B6%E8%A7%B3%E8%A7%AB%0A1%09%E5%8D%B3%09%E5%8D%B3%09ADV%09v%2C%E5%89%AF%E8%A9%9E%2C%E6%99%82%E7%9B%B8%2C%E7%B7%8A%E6%8E%A5%09AdvType%3DTim%093%09advmod%09_%09Gloss%3Dimmediately%7CSpaceAfter%3DNo%0A2%09%E4%B8%8D%09%E4%B8%8D%09ADV%09v%2C%E5%89%AF%E8%A9%9E%2C%E5%90%A6%E5%AE%9A%2C%E7%84%A1%E7%95%8C%09Polarity%3DNeg%093%09advmod%09_%09Gloss%3Dnot%7CSpaceAfter%3DNo%0A3%09%E5%BF%8D%09%E5%BF%8D%09VERB%09v%2C%E5%8B%95%E8%A9%9E%2C%E6%8F%8F%E5%86%99%2C%E6%85%8B%E5%BA%A6%09Degree%3DPos%090%09root%09_%09Gloss%3Dbear%7CSpaceAfter%3DNo%0A4%09%E5%85%B6%09%E5%85%B6%09PRON%09n%2C%E4%BB%A3%E5%90%8D%E8%A9%9E%2C%E4%BA%BA%E7%A7%B0%2C%E8%B5%B7%E6%A0%BC%09Person%3D3%7CPronType%3DPrs%095%09nsubj%09_%09Gloss%3D%5B3PRON%5D%7CSpaceAfter%3DNo%0A5%09%E8%A7%B3%09%E8%A7%B3%09VERB%09v%2C%E5%8B%95%E8%A9%9E%2C%E6%8F%8F%E5%86%99%2C%E6%85%8B%E5%BA%A6%09Degree%3DPos%093%09ccomp%09_%09Gloss%3Dfearful%7CSpaceAfter%3DNo%0A6%09%E8%A7%AB%09%E8%A7%AB%09VERB%09v%2C%E5%8B%95%E8%A9%9E%2C%E6%8F%8F%E5%86%99%2C%E6%85%8B%E5%BA%A6%09Degree%3DPos%095%09flat%3Avv%09_%09Gloss%3Dfearful%7CSpaceAfter%3DNo%0A%0A%23%20text%20%3D%20%E8%8B%A5%E7%84%A1%E7%BD%AA%E8%80%8C%E5%B0%B1%E6%AD%BB%E5%9C%B0%0A1%09%E8%8B%A5%09%E8%8B%A5%09ADV%09v%2C%E5%89%AF%E8%A9%9E%2C%E5%88%A4%E6%96%AD%2C%E6%8E%A8%E5%AE%9A%09_%092%09advmod%09_%09Gloss%3Dif%7CSpaceAfter%3DNo%0A2%09%E7%84%A1%09%E7%84%A1%09VERB%09v%2C%E5%8B%95%E8%A9%9E%2C%E5%AD%98%E5%9C%A8%2C%E5%AD%98%E5%9C%A8%09Polarity%3DNeg%090%09root%09_%09Gloss%3Dnot-have%7CSpaceAfter%3DNo%7CTranslit%3D%E6%97%A0%0A3%09%E7%BD%AA%09%E7%BD%AA%09NOUN%09n%2C%E5%90%8D%E8%A9%9E%2C%E5%88%B6%E5%BA%A6%2C%E5%84%80%E7%A4%BC%09_%092%09obj%09_%09Gloss%3Dcrime%7CSpaceAfter%3DNo%0A4%09%E8%80%8C%09%E8%80%8C%09CCONJ%09p%2C%E5%8A%A9%E8%A9%9E%2C%E6%8E%A5%E7%B6%9A%2C%E4%B8%A6%E5%88%97%09_%095%09cc%09_%09Gloss%3Dand%7CSpaceAfter%3DNo%0A5%09%E5%B0%B1%09%E5%B0%B1%09VERB%09v%2C%E5%8B%95%E8%A9%9E%2C%E8%A1%8C%E7%82%BA%2C%E7%A7%BB%E5%8B%95%09_%092%09conj%09_%09Gloss%3Dgo-to%7CSpaceAfter%3DNo%0A6%09%E6%AD%BB%09%E6%AD%BB%09VERB%09v%2C%E5%8B%95%E8%A9%9E%2C%E5%A4%89%E5%8C%96%2C%E7%94%9F%E7%89%A9%09_%097%09amod%09_%09Gloss%3Ddie%7CSpaceAfter%3DNo%0A7%09%E5%9C%B0%09%E5%9C%B0%09NOUN%09n%2C%E5%90%8D%E8%A9%9E%2C%E5%9B%BA%E5%AE%9A%E7%89%A9%2C%E5%9C%B0%E5%BD%A2%09Case%3DLoc%095%09obj%09_%09Gloss%3Dearth%7CSpaceAfter%3DNo%0A%0A%23%20text%20%3D%20%E6%95%85%E4%BB%A5%E7%BE%8A%E6%98%93%E4%B9%8B%E4%B9%9F%0A1%09%E6%95%85%09%E6%95%85%09ADV%09v%2C%E5%89%AF%E8%A9%9E%2C%E5%88%A4%E6%96%AD%2C%E7%A2%BA%E5%AE%9A%09_%094%09advmod%09_%09Gloss%3Dtherefore%7CSpaceAfter%3DNo%0A2%09%E4%BB%A5%09%E4%BB%A5%09VERB%09v%2C%E5%8B%95%E8%A9%9E%2C%E8%A1%8C%E7%82%BA%2C%E5%8B%95%E4%BD%9C%09_%094%09advcl%09_%09Gloss%3Duse%7CSpaceAfter%3DNo%0A3%09%E7%BE%8A%09%E7%BE%8A%09NOUN%09n%2C%E5%90%8D%E8%A9%9E%2C%E4%B8%BB%E4%BD%93%2C%E5%8B%95%E7%89%A9%09_%092%09obj%09_%09Gloss%3Dsheep%7CSpaceAfter%3DNo%0A4%09%E6%98%93%09%E6%98%93%09VERB%09v%2C%E5%8B%95%E8%A9%9E%2C%E8%A1%8C%E7%82%BA%2C%E5%8B%95%E4%BD%9C%09_%090%09root%09_%09Gloss%3Dchange%7CSpaceAfter%3DNo%0A5%09%E4%B9%8B%09%E4%B9%8B%09PRON%09n%2C%E4%BB%A3%E5%90%8D%E8%A9%9E%2C%E4%BA%BA%E7%A7%B0%2C%E6%AD%A2%E6%A0%BC%09Person%3D3%7CPronType%3DPrs%094%09obj%09_%09Gloss%3D%5B3PRON%5D%7CSpaceAfter%3DNo%0A6%09%E4%B9%9F%09%E4%B9%9F%09PART%09p%2C%E5%8A%A9%E8%A9%9E%2C%E5%8F%A5%E6%9C%AB%2C%2A%09_%094%09discourse%3Asp%09_%09Gloss%3D%5Bfinal-particle%5D%7CSpaceAfter%3DNo%0A%0A\"\n",
       "            frameborder=\"0\"\n",
       "            allowfullscreen\n",
       "            style=\"background-color: white;\"\n",
       "        ></iframe>\n",
       "        "
      ],
      "text/plain": [
       "<IPython.lib.display.IFrame at 0x7f525f5e0e50>"
      ]
     },
     "metadata": {},
     "output_type": "display_data"
    }
   ],
   "source": [
    "ex17 = nlp(\"即不忍其觳觫若無罪而就死地故以羊易之也\")\n",
    "serve(ex17, 600)"
   ]
  },
  {
   "cell_type": "code",
   "execution_count": 29,
   "metadata": {},
   "outputs": [
    {
     "data": {
      "text/html": [
       "\n",
       "        <iframe\n",
       "            width=\"100%\"\n",
       "            height=\"350\"\n",
       "            src=\"https://koichiyasuoka.github.io/deplacy/deplacy/viewer.svg#%23%20text%20%3D%20%E5%BF%85%E8%8B%A5%E6%A1%80%0A1%09%E5%BF%85%09%E5%BF%85%09ADV%09v%2C%E5%89%AF%E8%A9%9E%2C%E5%88%A4%E6%96%AD%2C%E7%A2%BA%E5%AE%9A%09_%092%09advmod%09_%09Gloss%3Dnecessarily%7CSpaceAfter%3DNo%0A2%09%E8%8B%A5%09%E8%8B%A5%09VERB%09v%2C%E5%8B%95%E8%A9%9E%2C%E8%A1%8C%E7%82%BA%2C%E5%88%86%E9%A1%9E%09Degree%3DEqu%090%09root%09_%09Gloss%3Dbe-like%7CSpaceAfter%3DNo%0A3%09%E6%A1%80%09%E6%A1%80%09PROPN%09n%2C%E5%90%8D%E8%A9%9E%2C%E4%BA%BA%2C%E5%90%8D%09NameType%3DGiv%092%09obj%09_%09Gloss%3D%5Bgiven-name%5D%7CSpaceAfter%3DNo%0A%0A%23%20text%20%3D%20%E7%BA%A3%E8%80%85%E4%B9%9F%0A1%09%E7%BA%A3%09%E7%B4%82%09PROPN%09n%2C%E5%90%8D%E8%A9%9E%2C%E4%BA%BA%2C%E5%90%8D%09NameType%3DGiv%092%09nmod%09_%09Gloss%3D%5Bgiven-name%5D%7CSpaceAfter%3DNo%0A2%09%E8%80%85%09%EF%A9%9B%09PART%09p%2C%E5%8A%A9%E8%A9%9E%2C%E6%8F%90%E7%A4%BA%2C%2A%09_%090%09root%09_%09Gloss%3Dthat-which%7CSpaceAfter%3DNo%0A3%09%E4%B9%9F%09%E4%B9%9F%09PART%09p%2C%E5%8A%A9%E8%A9%9E%2C%E5%8F%A5%E6%9C%AB%2C%2A%09_%092%09discourse%3Asp%09_%09Gloss%3D%5Bfinal-particle%5D%7CSpaceAfter%3DNo%0A%0A\"\n",
       "            frameborder=\"0\"\n",
       "            allowfullscreen\n",
       "            style=\"background-color: white;\"\n",
       "        ></iframe>\n",
       "        "
      ],
      "text/plain": [
       "<IPython.lib.display.IFrame at 0x7f5284077d60>"
      ]
     },
     "metadata": {},
     "output_type": "display_data"
    }
   ],
   "source": [
    "ex18 = nlp(\"必若桀纣者也\")\n",
    "serve(ex18, 350)"
   ]
  },
  {
   "cell_type": "code",
   "execution_count": 32,
   "metadata": {},
   "outputs": [
    {
     "data": {
      "text/html": [
       "\n",
       "        <iframe\n",
       "            width=\"100%\"\n",
       "            height=\"350\"\n",
       "            src=\"https://koichiyasuoka.github.io/deplacy/deplacy/viewer.svg#%23%20text%20%3D%20%E5%AD%90%E8%AA%A0%0A1%09%E5%AD%90%09%E5%AD%90%09NOUN%09n%2C%E5%90%8D%E8%A9%9E%2C%E4%BA%BA%2C%E9%96%A2%E4%BF%82%09_%092%09nsubj%09_%09Gloss%3Dchild%7CSpaceAfter%3DNo%0A2%09%E8%AA%A0%09%E8%AA%A0%09VERB%09v%2C%E5%8B%95%E8%A9%9E%2C%E6%8F%8F%E5%86%99%2C%E6%85%8B%E5%BA%A6%09Degree%3DPos%090%09root%09_%09Gloss%3Dsincere%7CSpaceAfter%3DNo%7CTranslit%3D%E8%AF%9A%0A%0A%23%20text%20%3D%20%E9%BD%8A%E4%BA%BA%E4%B9%9F%0A1%09%E9%BD%8A%09%E9%BD%8A%09PROPN%09n%2C%E5%90%8D%E8%A9%9E%2C%E4%B8%BB%E4%BD%93%2C%E5%9B%BD%E5%90%8D%09Case%3DLoc%7CNameType%3DNat%092%09nmod%09_%09Gloss%3D%5Bcountry-name%5D%7CSpaceAfter%3DNo%7CTranslit%3D%E9%BD%90%0A2%09%E4%BA%BA%09%E4%BA%BA%09NOUN%09n%2C%E5%90%8D%E8%A9%9E%2C%E4%BA%BA%2C%E4%BA%BA%09_%090%09root%09_%09Gloss%3Dperson%7CSpaceAfter%3DNo%0A3%09%E4%B9%9F%09%E4%B9%9F%09PART%09p%2C%E5%8A%A9%E8%A9%9E%2C%E5%8F%A5%E6%9C%AB%2C%2A%09_%092%09discourse%3Asp%09_%09Gloss%3D%5Bfinal-particle%5D%7CSpaceAfter%3DNo%0A%0A\"\n",
       "            frameborder=\"0\"\n",
       "            allowfullscreen\n",
       "            style=\"background-color: white;\"\n",
       "        ></iframe>\n",
       "        "
      ],
      "text/plain": [
       "<IPython.lib.display.IFrame at 0x7f52840884f0>"
      ]
     },
     "metadata": {},
     "output_type": "display_data"
    }
   ],
   "source": [
    "ex19 = nlp(\"子誠齊人也\")\n",
    "serve(ex19, 350)"
   ]
  },
  {
   "cell_type": "code",
   "execution_count": 17,
   "metadata": {},
   "outputs": [
    {
     "data": {
      "text/html": [
       "\n",
       "        <iframe\n",
       "            width=\"100%\"\n",
       "            height=\"200\"\n",
       "            src=\"https://koichiyasuoka.github.io/deplacy/deplacy/viewer.svg#%23%20text%20%3D%20%E5%9B%BA%E6%89%80%E9%A1%98%E4%B9%9F%0A1%09%E5%9B%BA%09%E5%9B%BA%09ADV%09v%2C%E5%89%AF%E8%A9%9E%2C%E5%88%A4%E6%96%AD%2C%E7%A2%BA%E5%AE%9A%09_%093%09advmod%09_%09Gloss%3Dcertainly%7CSpaceAfter%3DNo%0A2%09%E6%89%80%09%E6%89%80%09PART%09p%2C%E5%8A%A9%E8%A9%9E%2C%E6%8E%A5%E7%B6%9A%2C%E4%BD%93%E8%A8%80%E5%8C%96%09_%093%09mark%09_%09Gloss%3Dthat-which%7CSpaceAfter%3DNo%0A3%09%E9%A1%98%09%E9%A1%98%09VERB%09v%2C%E5%8B%95%E8%A9%9E%2C%E8%A1%8C%E7%82%BA%2C%E5%8B%95%E4%BD%9C%09_%090%09root%09_%09Gloss%3Dwish-for%7CSpaceAfter%3DNo%7CTranslit%3D%E6%84%BF%0A4%09%E4%B9%9F%09%E4%B9%9F%09PART%09p%2C%E5%8A%A9%E8%A9%9E%2C%E5%8F%A5%E6%9C%AB%2C%2A%09_%093%09discourse%3Asp%09_%09Gloss%3D%5Bfinal-particle%5D%7CSpaceAfter%3DNo%0A%0A\"\n",
       "            frameborder=\"0\"\n",
       "            allowfullscreen\n",
       "            style=\"background-color: white;\"\n",
       "        ></iframe>\n",
       "        "
      ],
      "text/plain": [
       "<IPython.lib.display.IFrame at 0x7f52840770a0>"
      ]
     },
     "metadata": {},
     "output_type": "display_data"
    }
   ],
   "source": [
    "ex20 = nlp(\"固所願也\")\n",
    "serve(ex20)"
   ]
  },
  {
   "cell_type": "markdown",
   "metadata": {},
   "source": [
    "### c. Verbless Comparisons with 猶"
   ]
  },
  {
   "cell_type": "markdown",
   "metadata": {},
   "source": [
    "In the following example, 猶 is not considered a verb."
   ]
  },
  {
   "cell_type": "code",
   "execution_count": 33,
   "metadata": {},
   "outputs": [
    {
     "data": {
      "text/html": [
       "\n",
       "        <iframe\n",
       "            width=\"100%\"\n",
       "            height=\"400\"\n",
       "            src=\"https://koichiyasuoka.github.io/deplacy/deplacy/viewer.svg#%23%20text%20%3D%20%E4%BB%8A%E4%B9%8B%E6%A8%82%0A1%09%E4%BB%8A%09%E4%BB%8A%09NOUN%09n%2C%E5%90%8D%E8%A9%9E%2C%E6%99%82%2C%2A%09Case%3DTem%093%09nmod%09_%09Gloss%3Dnow%7CSpaceAfter%3DNo%0A2%09%E4%B9%8B%09%E4%B9%8B%09SCONJ%09p%2C%E5%8A%A9%E8%A9%9E%2C%E6%8E%A5%E7%B6%9A%2C%E5%B1%9E%E6%A0%BC%09_%091%09case%09_%09Gloss%3D%27s%7CSpaceAfter%3DNo%0A3%09%E6%A8%82%09%E6%A8%82%09NOUN%09n%2C%E5%90%8D%E8%A9%9E%2C%E5%88%B6%E5%BA%A6%2C%E5%84%80%E7%A4%BC%09_%090%09root%09_%09Gloss%3Dmusic%7CSpaceAfter%3DNo%7CTranslit%3D%E4%B9%90%0A%0A%23%20text%20%3D%20%E7%8C%B6%E5%8F%A4%E4%B9%8B%E6%A8%82%E4%B9%9F%0A1%09%E7%8C%B6%09%E7%8C%B6%09ADV%09v%2C%E5%89%AF%E8%A9%9E%2C%E9%A0%BB%E5%BA%A6%2C%E9%87%8D%E8%A4%87%09_%094%09advmod%09_%09Gloss%3Dyet%7CSpaceAfter%3DNo%7CTranslit%3D%E7%8A%B9%0A2%09%E5%8F%A4%09%E5%8F%A4%09NOUN%09n%2C%E5%90%8D%E8%A9%9E%2C%E6%99%82%2C%2A%09Case%3DTem%094%09nmod%09_%09Gloss%3Dolden-times%7CSpaceAfter%3DNo%0A3%09%E4%B9%8B%09%E4%B9%8B%09SCONJ%09p%2C%E5%8A%A9%E8%A9%9E%2C%E6%8E%A5%E7%B6%9A%2C%E5%B1%9E%E6%A0%BC%09_%092%09case%09_%09Gloss%3D%27s%7CSpaceAfter%3DNo%0A4%09%E6%A8%82%09%E6%A8%82%09NOUN%09n%2C%E5%90%8D%E8%A9%9E%2C%E5%88%B6%E5%BA%A6%2C%E5%84%80%E7%A4%BC%09_%090%09root%09_%09Gloss%3Dmusic%7CSpaceAfter%3DNo%7CTranslit%3D%E4%B9%90%0A5%09%E4%B9%9F%09%E4%B9%9F%09PART%09p%2C%E5%8A%A9%E8%A9%9E%2C%E5%8F%A5%E6%9C%AB%2C%2A%09_%094%09discourse%3Asp%09_%09Gloss%3D%5Bfinal-particle%5D%7CSpaceAfter%3DNo%0A%0A\"\n",
       "            frameborder=\"0\"\n",
       "            allowfullscreen\n",
       "            style=\"background-color: white;\"\n",
       "        ></iframe>\n",
       "        "
      ],
      "text/plain": [
       "<IPython.lib.display.IFrame at 0x7f5284077a90>"
      ]
     },
     "metadata": {},
     "output_type": "display_data"
    }
   ],
   "source": [
    "ex21 = nlp(\"今之樂猶古之樂也\")\n",
    "serve(ex21, 400)"
   ]
  },
  {
   "cell_type": "markdown",
   "metadata": {},
   "source": [
    "### d. Omission of 也"
   ]
  },
  {
   "cell_type": "code",
   "execution_count": 19,
   "metadata": {},
   "outputs": [
    {
     "data": {
      "text/html": [
       "\n",
       "        <iframe\n",
       "            width=\"100%\"\n",
       "            height=\"700\"\n",
       "            src=\"https://koichiyasuoka.github.io/deplacy/deplacy/viewer.svg#%23%20text%20%3D%20%E8%90%AC%E4%B9%98%E4%B9%8B%E5%9C%8B%0A1%09%E8%90%AC%09%E8%90%AC%09NUM%09n%2C%E6%95%B0%E8%A9%9E%2C%E6%95%B0%E5%AD%97%2C%2A%09_%094%09nummod%09_%09Gloss%3Dten-thousand%7CSpaceAfter%3DNo%7CTranslit%3D%E4%B8%87%0A2%09%E4%B9%98%09%E4%B9%98%09NOUN%09n%2C%E5%90%8D%E8%A9%9E%2C%E5%8F%AF%E6%90%AC%2C%E4%B9%97%E3%82%8A%E7%89%A9%09_%091%09clf%09_%09Gloss%3Dvehicle%7CSpaceAfter%3DNo%0A3%09%E4%B9%8B%09%E4%B9%8B%09SCONJ%09p%2C%E5%8A%A9%E8%A9%9E%2C%E6%8E%A5%E7%B6%9A%2C%E5%B1%9E%E6%A0%BC%09_%091%09case%09_%09Gloss%3D%27s%7CSpaceAfter%3DNo%0A4%09%E5%9C%8B%09%E5%9C%8B%09NOUN%09n%2C%E5%90%8D%E8%A9%9E%2C%E4%B8%BB%E4%BD%93%2C%E9%9B%86%E5%9B%A3%09_%090%09root%09_%09Gloss%3Dcountry%7CSpaceAfter%3DNo%7CTranslit%3D%E5%9B%BD%0A%0A%23%20text%20%3D%20%E5%BC%91%E5%85%B6%E5%90%9B%E8%80%85%0A1%09%E5%BC%91%09%E5%BC%92%09VERB%09v%2C%E5%8B%95%E8%A9%9E%2C%E8%A1%8C%E7%82%BA%2C%E4%BA%A4%E6%B5%81%09_%094%09acl%09_%09Gloss%3Dmurder%7CSpaceAfter%3DNo%0A2%09%E5%85%B6%09%E5%85%B6%09PRON%09n%2C%E4%BB%A3%E5%90%8D%E8%A9%9E%2C%E4%BA%BA%E7%A7%B0%2C%E8%B5%B7%E6%A0%BC%09Person%3D3%7CPronType%3DPrs%093%09det%09_%09Gloss%3D%5B3PRON%5D%7CSpaceAfter%3DNo%0A3%09%E5%90%9B%09%E5%90%9B%09NOUN%09n%2C%E5%90%8D%E8%A9%9E%2C%E4%BA%BA%2C%E5%BD%B9%E5%89%B2%09_%091%09obj%09_%09Gloss%3Druler%7CSpaceAfter%3DNo%0A4%09%E8%80%85%09%EF%A9%9B%09PART%09p%2C%E5%8A%A9%E8%A9%9E%2C%E6%8F%90%E7%A4%BA%2C%2A%09_%090%09root%09_%09Gloss%3Dthat-which%7CSpaceAfter%3DNo%0A%0A%23%20text%20%3D%20%E5%BF%85%E5%8D%83%E4%B9%97%E4%B9%8B%E5%AE%B6%0A1%09%E5%BF%85%09%E5%BF%85%09ADV%09v%2C%E5%89%AF%E8%A9%9E%2C%E5%88%A4%E6%96%AD%2C%E7%A2%BA%E5%AE%9A%09_%095%09advmod%09_%09Gloss%3Dnecessarily%7CSpaceAfter%3DNo%0A2%09%E5%8D%83%09%E5%8D%83%09NUM%09n%2C%E6%95%B0%E8%A9%9E%2C%E6%95%B0%E5%AD%97%2C%2A%09_%095%09nummod%09_%09Gloss%3Dthousand%7CSpaceAfter%3DNo%0A3%09%E4%B9%97%09%E4%B9%98%09NOUN%09n%2C%E5%90%8D%E8%A9%9E%2C%E5%8F%AF%E6%90%AC%2C%E4%B9%97%E3%82%8A%E7%89%A9%09_%092%09clf%09_%09Gloss%3Dvehicle%7CSpaceAfter%3DNo%7CTranslit%3D%E4%B9%98%0A4%09%E4%B9%8B%09%E4%B9%8B%09SCONJ%09p%2C%E5%8A%A9%E8%A9%9E%2C%E6%8E%A5%E7%B6%9A%2C%E5%B1%9E%E6%A0%BC%09_%092%09case%09_%09Gloss%3D%27s%7CSpaceAfter%3DNo%0A5%09%E5%AE%B6%09%E5%AE%B6%09NOUN%09n%2C%E5%90%8D%E8%A9%9E%2C%E4%B8%BB%E4%BD%93%2C%E9%9B%86%E5%9B%A3%09_%090%09root%09_%09Gloss%3Dfamily%7CSpaceAfter%3DNo%0A%0A\"\n",
       "            frameborder=\"0\"\n",
       "            allowfullscreen\n",
       "            style=\"background-color: white;\"\n",
       "        ></iframe>\n",
       "        "
      ],
      "text/plain": [
       "<IPython.lib.display.IFrame at 0x7f5284077580>"
      ]
     },
     "metadata": {},
     "output_type": "display_data"
    }
   ],
   "source": [
    "ex22 = nlp(\"萬乘之國弑其君者必千乗之家\")\n",
    "serve(ex22, 700)"
   ]
  },
  {
   "cell_type": "markdown",
   "metadata": {},
   "source": [
    "### e. The Aspect Particle Yi 已 after Verbless Noun Predicates"
   ]
  },
  {
   "cell_type": "code",
   "execution_count": 20,
   "metadata": {},
   "outputs": [
    {
     "data": {
      "text/html": [
       "\n",
       "        <iframe\n",
       "            width=\"100%\"\n",
       "            height=\"200\"\n",
       "            src=\"https://koichiyasuoka.github.io/deplacy/deplacy/viewer.svg#%23%20text%20%3D%20%E6%98%AF%E4%B9%B1%E5%9C%8B%E5%B7%B2%0A1%09%E6%98%AF%09%E6%98%AF%09PRON%09n%2C%E4%BB%A3%E5%90%8D%E8%A9%9E%2C%E6%8C%87%E7%A4%BA%2C%2A%09PronType%3DDem%092%09nsubj%09_%09Gloss%3Dthis%7CSpaceAfter%3DNo%0A2%09%E4%B9%B1%09%E4%BA%82%09VERB%09v%2C%E5%8B%95%E8%A9%9E%2C%E8%A1%8C%E7%82%BA%2C%E5%8B%95%E4%BD%9C%09_%090%09root%09_%09Gloss%3Ddisorder%7CSpaceAfter%3DNo%0A3%09%E5%9C%8B%09%E5%9C%8B%09NOUN%09n%2C%E5%90%8D%E8%A9%9E%2C%E4%B8%BB%E4%BD%93%2C%E9%9B%86%E5%9B%A3%09_%092%09obj%09_%09Gloss%3Dcountry%7CSpaceAfter%3DNo%7CTranslit%3D%E5%9B%BD%0A4%09%E5%B7%B2%09%E5%B7%B2%09PART%09p%2C%E5%8A%A9%E8%A9%9E%2C%E5%8F%A5%E6%9C%AB%2C%2A%09_%092%09discourse%3Asp%09_%09Gloss%3Donly%7CSpaceAfter%3DNo%0A%0A\"\n",
       "            frameborder=\"0\"\n",
       "            allowfullscreen\n",
       "            style=\"background-color: white;\"\n",
       "        ></iframe>\n",
       "        "
      ],
      "text/plain": [
       "<IPython.lib.display.IFrame at 0x7f5284077850>"
      ]
     },
     "metadata": {},
     "output_type": "display_data"
    }
   ],
   "source": [
    "ex23 = nlp(\"是乱國已\")\n",
    "serve(ex23)"
   ]
  },
  {
   "cell_type": "code",
   "execution_count": 21,
   "metadata": {},
   "outputs": [
    {
     "data": {
      "text/html": [
       "\n",
       "        <iframe\n",
       "            width=\"100%\"\n",
       "            height=\"400\"\n",
       "            src=\"https://koichiyasuoka.github.io/deplacy/deplacy/viewer.svg#%23%20text%20%3D%20%E5%90%9B%E5%AD%90%E6%9B%B0%0A1%09%E5%90%9B%E5%AD%90%09%E5%90%9B%E5%AD%90%09NOUN%09n%2C%E5%90%8D%E8%A9%9E%2C%E4%BA%BA%2C%E5%BD%B9%E5%89%B2%09_%092%09nsubj%09_%09Gloss%3Dlord%7CSpaceAfter%3DNo%0A2%09%E6%9B%B0%09%E6%9B%B0%09VERB%09v%2C%E5%8B%95%E8%A9%9E%2C%E8%A1%8C%E7%82%BA%2C%E4%BC%9D%E9%81%94%09_%090%09root%09_%09Gloss%3Dsay%7CSpaceAfter%3DNo%0A%0A%23%20text%20%3D%20%E6%AD%A4%E4%BA%A6%E5%A6%84%E4%BA%BA%E4%B9%9F%E5%B7%B2%E7%9F%A3%0A1%09%E6%AD%A4%09%E6%AD%A4%09PRON%09n%2C%E4%BB%A3%E5%90%8D%E8%A9%9E%2C%E6%8C%87%E7%A4%BA%2C%2A%09PronType%3DDem%093%09nsubj%09_%09Gloss%3Dthis%7CSpaceAfter%3DNo%0A2%09%E4%BA%A6%09%E4%BA%A6%09ADV%09v%2C%E5%89%AF%E8%A9%9E%2C%E9%A0%BB%E5%BA%A6%2C%E9%87%8D%E8%A4%87%09_%093%09advmod%09_%09Gloss%3Dalso%7CSpaceAfter%3DNo%0A3%09%E5%A6%84%09%E5%A6%84%09VERB%09v%2C%E5%8B%95%E8%A9%9E%2C%E6%8F%8F%E5%86%99%2C%E6%85%8B%E5%BA%A6%09Degree%3DPos%090%09root%09_%09Gloss%3Dreckless%7CSpaceAfter%3DNo%0A4%09%E4%BA%BA%09%E4%BA%BA%09NOUN%09n%2C%E5%90%8D%E8%A9%9E%2C%E4%BA%BA%2C%E4%BA%BA%09_%093%09obj%09_%09Gloss%3Dperson%7CSpaceAfter%3DNo%0A5%09%E4%B9%9F%09%E4%B9%9F%09PART%09p%2C%E5%8A%A9%E8%A9%9E%2C%E5%8F%A5%E6%9C%AB%2C%2A%09_%093%09discourse%3Asp%09_%09Gloss%3D%5Bfinal-particle%5D%7CSpaceAfter%3DNo%0A6%09%E5%B7%B2%09%E5%B7%B2%09PART%09p%2C%E5%8A%A9%E8%A9%9E%2C%E5%8F%A5%E6%9C%AB%2C%2A%09_%093%09discourse%3Asp%09_%09Gloss%3Donly%7CSpaceAfter%3DNo%0A7%09%E7%9F%A3%09%E7%9F%A3%09PART%09p%2C%E5%8A%A9%E8%A9%9E%2C%E5%8F%A5%E6%9C%AB%2C%2A%09_%093%09discourse%3Asp%09_%09Gloss%3D%5BPFV%5D%7CSpaceAfter%3DNo%0A%0A\"\n",
       "            frameborder=\"0\"\n",
       "            allowfullscreen\n",
       "            style=\"background-color: white;\"\n",
       "        ></iframe>\n",
       "        "
      ],
      "text/plain": [
       "<IPython.lib.display.IFrame at 0x7f5284077100>"
      ]
     },
     "metadata": {},
     "output_type": "display_data"
    }
   ],
   "source": [
    "ex24 = nlp(\"君子曰此亦妄人也已矣\")\n",
    "serve(ex24, 400)"
   ]
  },
  {
   "cell_type": "markdown",
   "metadata": {},
   "source": [
    "## 2. The Copula Verb *Wei* 為"
   ]
  },
  {
   "cell_type": "code",
   "execution_count": 34,
   "metadata": {},
   "outputs": [
    {
     "data": {
      "text/html": [
       "\n",
       "        <iframe\n",
       "            width=\"100%\"\n",
       "            height=\"200\"\n",
       "            src=\"https://koichiyasuoka.github.io/deplacy/deplacy/viewer.svg#%23%20text%20%3D%20%E5%AD%9F%E5%AD%90%E7%82%BA%E5%8D%BF%E6%96%BC%E9%BD%8A%0A1%09%E5%AD%9F%E5%AD%90%09%E5%AD%9F%E5%AD%90%09PROPN%09n%2C%E5%90%8D%E8%A9%9E%2C%E4%BA%BA%2C%E8%A4%87%E5%90%88%E7%9A%84%E4%BA%BA%E5%90%8D%09NameType%3DPrs%093%09nsubj%09_%09Gloss%3DMencius%7CSpaceAfter%3DNo%0A2%09%E7%82%BA%09%E7%88%B2%09VERB%09v%2C%E5%8B%95%E8%A9%9E%2C%E5%AD%98%E5%9C%A8%2C%E5%AD%98%E5%9C%A8%09_%093%09cop%09_%09Gloss%3Dbe%7CSpaceAfter%3DNo%7CTranslit%3D%E4%B8%BA%0A3%09%E5%8D%BF%09%E5%8D%BF%09NOUN%09n%2C%E5%90%8D%E8%A9%9E%2C%E4%BA%BA%2C%E5%BD%B9%E5%89%B2%09_%090%09root%09_%09Gloss%3Dminister%7CSpaceAfter%3DNo%0A4%09%E6%96%BC%09%E6%96%BC%09ADP%09v%2C%E5%89%8D%E7%BD%AE%E8%A9%9E%2C%E5%9F%BA%E7%9B%A4%2C%2A%09_%095%09case%09_%09Gloss%3Dat%7CSpaceAfter%3DNo%7CTranslit%3D%E4%BA%8E%0A5%09%E9%BD%8A%09%E9%BD%8A%09PROPN%09n%2C%E5%90%8D%E8%A9%9E%2C%E4%B8%BB%E4%BD%93%2C%E5%9B%BD%E5%90%8D%09Case%3DLoc%7CNameType%3DNat%093%09obl%3Almod%09_%09Gloss%3D%5Bcountry-name%5D%7CSpaceAfter%3DNo%7CTranslit%3D%E9%BD%90%0A%0A\"\n",
       "            frameborder=\"0\"\n",
       "            allowfullscreen\n",
       "            style=\"background-color: white;\"\n",
       "        ></iframe>\n",
       "        "
      ],
      "text/plain": [
       "<IPython.lib.display.IFrame at 0x7f5284088940>"
      ]
     },
     "metadata": {},
     "output_type": "display_data"
    }
   ],
   "source": [
    "ex25 = nlp(\"孟子為卿於齊\")\n",
    "serve(ex25)"
   ]
  },
  {
   "cell_type": "code",
   "execution_count": 35,
   "metadata": {},
   "outputs": [
    {
     "data": {
      "text/html": [
       "\n",
       "        <iframe\n",
       "            width=\"100%\"\n",
       "            height=\"200\"\n",
       "            src=\"https://koichiyasuoka.github.io/deplacy/deplacy/viewer.svg#%23%20text%20%3D%20%E5%AD%90%E7%82%BA%E8%AA%B0%0A1%09%E5%AD%90%09%E5%AD%90%09NOUN%09n%2C%E5%90%8D%E8%A9%9E%2C%E4%BA%BA%2C%E9%96%A2%E4%BF%82%09_%093%09nsubj%09_%09Gloss%3Dchild%7CSpaceAfter%3DNo%0A2%09%E7%82%BA%09%E7%88%B2%09VERB%09v%2C%E5%8B%95%E8%A9%9E%2C%E5%AD%98%E5%9C%A8%2C%E5%AD%98%E5%9C%A8%09_%093%09cop%09_%09Gloss%3Dbe%7CSpaceAfter%3DNo%7CTranslit%3D%E4%B8%BA%0A3%09%E8%AA%B0%09%E8%AA%B0%09PRON%09n%2C%E4%BB%A3%E5%90%8D%E8%A9%9E%2C%E7%96%91%E5%95%8F%2C%2A%09PronType%3DInt%090%09root%09_%09Gloss%3Dwho%7CSpaceAfter%3DNo%7CTranslit%3D%E8%B0%81%0A%0A\"\n",
       "            frameborder=\"0\"\n",
       "            allowfullscreen\n",
       "            style=\"background-color: white;\"\n",
       "        ></iframe>\n",
       "        "
      ],
      "text/plain": [
       "<IPython.lib.display.IFrame at 0x7f5284088a90>"
      ]
     },
     "metadata": {},
     "output_type": "display_data"
    }
   ],
   "source": [
    "ex26 = nlp(\"子為誰\")\n",
    "serve(ex26)"
   ]
  },
  {
   "cell_type": "code",
   "execution_count": 37,
   "metadata": {},
   "outputs": [
    {
     "data": {
      "text/html": [
       "\n",
       "        <iframe\n",
       "            width=\"100%\"\n",
       "            height=\"250\"\n",
       "            src=\"https://koichiyasuoka.github.io/deplacy/deplacy/viewer.svg#%23%20text%20%3D%20%E4%B8%8D%E7%82%BA%E4%B8%8D%E5%A4%9A%E7%9F%A3%0A1%09%E4%B8%8D%09%E4%B8%8D%09ADV%09v%2C%E5%89%AF%E8%A9%9E%2C%E5%90%A6%E5%AE%9A%2C%E7%84%A1%E7%95%8C%09Polarity%3DNeg%092%09advmod%09_%09Gloss%3Dnot%7CSpaceAfter%3DNo%0A2%09%E7%82%BA%09%E7%88%B2%09VERB%09v%2C%E5%8B%95%E8%A9%9E%2C%E8%A1%8C%E7%82%BA%2C%E7%94%9F%E7%94%A3%09_%090%09root%09_%09Gloss%3Dmake%7CSpaceAfter%3DNo%7CTranslit%3D%E4%B8%BA%0A3%09%E4%B8%8D%09%E4%B8%8D%09ADV%09v%2C%E5%89%AF%E8%A9%9E%2C%E5%90%A6%E5%AE%9A%2C%E7%84%A1%E7%95%8C%09Polarity%3DNeg%094%09advmod%09_%09Gloss%3Dnot%7CSpaceAfter%3DNo%0A4%09%E5%A4%9A%09%E5%A4%9A%09VERB%09v%2C%E5%8B%95%E8%A9%9E%2C%E6%8F%8F%E5%86%99%2C%E9%87%8F%09Degree%3DPos%092%09ccomp%09_%09Gloss%3Dmany%7CSpaceAfter%3DNo%0A5%09%E7%9F%A3%09%E7%9F%A3%09PART%09p%2C%E5%8A%A9%E8%A9%9E%2C%E5%8F%A5%E6%9C%AB%2C%2A%09_%092%09discourse%3Asp%09_%09Gloss%3D%5BPFV%5D%7CSpaceAfter%3DNo%0A%0A\"\n",
       "            frameborder=\"0\"\n",
       "            allowfullscreen\n",
       "            style=\"background-color: white;\"\n",
       "        ></iframe>\n",
       "        "
      ],
      "text/plain": [
       "<IPython.lib.display.IFrame at 0x7f52840774f0>"
      ]
     },
     "metadata": {},
     "output_type": "display_data"
    }
   ],
   "source": [
    "ex27 = nlp(\"不為不多矣\")\n",
    "serve(ex27, 250)"
   ]
  },
  {
   "cell_type": "code",
   "execution_count": 41,
   "metadata": {},
   "outputs": [
    {
     "data": {
      "text/html": [
       "\n",
       "        <iframe\n",
       "            width=\"100%\"\n",
       "            height=\"400\"\n",
       "            src=\"https://koichiyasuoka.github.io/deplacy/deplacy/viewer.svg#%23%20text%20%3D%20%E4%BA%BA%E7%9A%86%E5%8F%AF%E4%BB%A5%E7%82%BA%E5%A0%AF%0A1%09%E4%BA%BA%09%E4%BA%BA%09NOUN%09n%2C%E5%90%8D%E8%A9%9E%2C%E4%BA%BA%2C%E4%BA%BA%09_%096%09nsubj%09_%09Gloss%3Dperson%7CSpaceAfter%3DNo%0A2%09%E7%9A%86%09%E7%9A%86%09ADV%09v%2C%E5%89%AF%E8%A9%9E%2C%E7%AF%84%E5%9B%B2%2C%E7%B7%8F%E6%8B%AC%09_%096%09advmod%09_%09Gloss%3Dall%7CSpaceAfter%3DNo%0A3%09%E5%8F%AF%09%E5%8F%AF%09AUX%09v%2C%E5%8A%A9%E5%8B%95%E8%A9%9E%2C%E5%8F%AF%E8%83%BD%2C%2A%09Mood%3DPot%096%09aux%09_%09Gloss%3Dpossible%7CSpaceAfter%3DNo%0A4%09%E4%BB%A5%09%E4%BB%A5%09VERB%09v%2C%E5%8B%95%E8%A9%9E%2C%E8%A1%8C%E7%82%BA%2C%E5%8B%95%E4%BD%9C%09_%093%09fixed%09_%09Gloss%3Duse%7CSpaceAfter%3DNo%0A5%09%E7%82%BA%09%E7%88%B2%09VERB%09v%2C%E5%8B%95%E8%A9%9E%2C%E5%AD%98%E5%9C%A8%2C%E5%AD%98%E5%9C%A8%09_%096%09cop%09_%09Gloss%3Dbe%7CSpaceAfter%3DNo%7CTranslit%3D%E4%B8%BA%0A6%09%E5%A0%AF%09%E5%A0%AF%09PROPN%09n%2C%E5%90%8D%E8%A9%9E%2C%E4%BA%BA%2C%E5%90%8D%09NameType%3DGiv%090%09root%09_%09Gloss%3D%5Bgiven-name%5D%7CSpaceAfter%3DNo%7CTranslit%3D%E5%B0%A7%0A%0A%23%20text%20%3D%20%E8%88%9C%0A1%09%E8%88%9C%09%E8%88%9C%09PROPN%09n%2C%E5%90%8D%E8%A9%9E%2C%E4%BA%BA%2C%E5%90%8D%09NameType%3DGiv%090%09root%09_%09Gloss%3D%5Bgiven-name%5D%7CSpaceAfter%3DNo%0A%0A\"\n",
       "            frameborder=\"0\"\n",
       "            allowfullscreen\n",
       "            style=\"background-color: white;\"\n",
       "        ></iframe>\n",
       "        "
      ],
      "text/plain": [
       "<IPython.lib.display.IFrame at 0x7f52840887f0>"
      ]
     },
     "metadata": {},
     "output_type": "display_data"
    }
   ],
   "source": [
    "ex28 = nlp(\"人皆可以為堯舜\")\n",
    "serve(ex28, 400)"
   ]
  },
  {
   "cell_type": "markdown",
   "metadata": {},
   "source": [
    "## 3. The Copula *Yue* 曰"
   ]
  },
  {
   "cell_type": "code",
   "execution_count": 43,
   "metadata": {},
   "outputs": [
    {
     "data": {
      "text/html": [
       "\n",
       "        <iframe\n",
       "            width=\"100%\"\n",
       "            height=\"250\"\n",
       "            src=\"https://koichiyasuoka.github.io/deplacy/deplacy/viewer.svg#%23%20text%20%3D%20%E8%80%81%E8%80%8C%E7%84%A1%E5%A6%BB%E6%9B%B0%E9%B0%A5%0A1%09%E8%80%81%09%E8%80%81%09VERB%09v%2C%E5%8B%95%E8%A9%9E%2C%E5%A4%89%E5%8C%96%2C%E7%94%9F%E7%89%A9%09_%095%09csubj%09_%09Gloss%3Dold%7CSpaceAfter%3DNo%0A2%09%E8%80%8C%09%E8%80%8C%09CCONJ%09p%2C%E5%8A%A9%E8%A9%9E%2C%E6%8E%A5%E7%B6%9A%2C%E4%B8%A6%E5%88%97%09_%093%09cc%09_%09Gloss%3Dand%7CSpaceAfter%3DNo%0A3%09%E7%84%A1%09%E7%84%A1%09VERB%09v%2C%E5%8B%95%E8%A9%9E%2C%E5%AD%98%E5%9C%A8%2C%E5%AD%98%E5%9C%A8%09Polarity%3DNeg%091%09conj%09_%09Gloss%3Dnot-have%7CSpaceAfter%3DNo%7CTranslit%3D%E6%97%A0%0A4%09%E5%A6%BB%09%E5%A6%BB%09NOUN%09n%2C%E5%90%8D%E8%A9%9E%2C%E4%BA%BA%2C%E9%96%A2%E4%BF%82%09_%093%09obj%09_%09Gloss%3Dwife%7CSpaceAfter%3DNo%0A5%09%E6%9B%B0%09%E6%9B%B0%09VERB%09v%2C%E5%8B%95%E8%A9%9E%2C%E8%A1%8C%E7%82%BA%2C%E4%BC%9D%E9%81%94%09_%090%09root%09_%09Gloss%3Dsay%7CSpaceAfter%3DNo%0A6%09%E9%B0%A5%09%E9%B0%A5%09NOUN%09n%2C%E5%90%8D%E8%A9%9E%2C%E4%B8%BB%E4%BD%93%2C%E5%8B%95%E7%89%A9%09_%095%09obj%09_%09Gloss%3D%5Blarge-fish%5D%7CSpaceAfter%3DNo%7CTranslit%3D%E9%B3%8F%0A%0A\"\n",
       "            frameborder=\"0\"\n",
       "            allowfullscreen\n",
       "            style=\"background-color: white;\"\n",
       "        ></iframe>\n",
       "        "
      ],
      "text/plain": [
       "<IPython.lib.display.IFrame at 0x7f528414bd60>"
      ]
     },
     "metadata": {},
     "output_type": "display_data"
    }
   ],
   "source": [
    "ex29 = nlp(\"老而無妻曰鰥\")\n",
    "serve(ex29, 250)"
   ]
  },
  {
   "cell_type": "code",
   "execution_count": 48,
   "metadata": {},
   "outputs": [
    {
     "data": {
      "text/html": [
       "\n",
       "        <iframe\n",
       "            width=\"100%\"\n",
       "            height=\"700\"\n",
       "            src=\"https://koichiyasuoka.github.io/deplacy/deplacy/viewer.svg#%23%20text%20%3D%20%E5%85%AC%E6%9B%B0%0A1%09%E5%85%AC%09%E5%85%AC%09NOUN%09n%2C%E5%90%8D%E8%A9%9E%2C%E4%BA%BA%2C%E5%BD%B9%E5%89%B2%09_%092%09nsubj%09_%09Gloss%3Dduke%7CSpaceAfter%3DNo%0A2%09%E6%9B%B0%09%E6%9B%B0%09VERB%09v%2C%E5%8B%95%E8%A9%9E%2C%E8%A1%8C%E7%82%BA%2C%E4%BC%9D%E9%81%94%09_%090%09root%09_%09Gloss%3Dsay%7CSpaceAfter%3DNo%0A%0A%23%20text%20%3D%20%E6%98%AF%E5%85%B6%E7%94%9F%E4%B9%9F%0A1%09%E6%98%AF%09%E6%98%AF%09PRON%09n%2C%E4%BB%A3%E5%90%8D%E8%A9%9E%2C%E6%8C%87%E7%A4%BA%2C%2A%09PronType%3DDem%093%09nsubj%09_%09Gloss%3Dthis%7CSpaceAfter%3DNo%0A2%09%E5%85%B6%09%E5%85%B6%09PRON%09n%2C%E4%BB%A3%E5%90%8D%E8%A9%9E%2C%E4%BA%BA%E7%A7%B0%2C%E8%B5%B7%E6%A0%BC%09Person%3D3%7CPronType%3DPrs%093%09det%09_%09Gloss%3D%5B3PRON%5D%7CSpaceAfter%3DNo%0A3%09%E7%94%9F%09%E7%94%9F%09NOUN%09n%2C%E5%90%8D%E8%A9%9E%2C%E8%A1%8C%E7%82%BA%2C%2A%09_%090%09root%09_%09Gloss%3Dlife%7CSpaceAfter%3DNo%0A4%09%E4%B9%9F%09%E4%B9%9F%09PART%09p%2C%E5%8A%A9%E8%A9%9E%2C%E5%8F%A5%E6%9C%AB%2C%2A%09_%093%09discourse%3Asp%09_%09Gloss%3D%5Bfinal-particle%5D%7CSpaceAfter%3DNo%0A%0A%23%20text%20%3D%20%E8%88%87%E5%90%BE%E5%90%8C%E7%89%A9%0A1%09%E8%88%87%09%E8%88%87%09ADP%09v%2C%E5%89%8D%E7%BD%AE%E8%A9%9E%2C%E9%96%A2%E4%BF%82%2C%2A%09_%092%09case%09_%09Gloss%3Dassociate-with%7CSpaceAfter%3DNo%7CTranslit%3D%E4%B8%8E%0A2%09%E5%90%BE%09%E5%90%BE%09PRON%09n%2C%E4%BB%A3%E5%90%8D%E8%A9%9E%2C%E4%BA%BA%E7%A7%B0%2C%E8%B5%B7%E6%A0%BC%09Person%3D1%7CPronType%3DPrs%093%09obl%09_%09Gloss%3D%5B1PRON%5D%7CSpaceAfter%3DNo%0A3%09%E5%90%8C%09%E5%90%8C%09VERB%09v%2C%E5%8B%95%E8%A9%9E%2C%E6%8F%8F%E5%86%99%2C%E5%BD%A2%E8%B3%AA%09Degree%3DPos%090%09root%09_%09Gloss%3Dsame%7CSpaceAfter%3DNo%0A4%09%E7%89%A9%09%E7%89%A9%09NOUN%09n%2C%E5%90%8D%E8%A9%9E%2C%E5%8F%AF%E6%90%AC%2C%E9%81%93%E5%85%B7%09_%093%09obj%09_%09Gloss%3Dthing%7CSpaceAfter%3DNo%0A%0A%23%20text%20%3D%20%E5%91%BD%E4%B9%8B%E6%9B%B0%E5%90%8C%0A1%09%E5%91%BD%09%E5%91%BD%09VERB%09v%2C%E5%8B%95%E8%A9%9E%2C%E8%A1%8C%E7%82%BA%2C%E4%BC%9D%E9%81%94%09_%090%09root%09_%09Gloss%3Ddecree%7CSpaceAfter%3DNo%0A2%09%E4%B9%8B%09%E4%B9%8B%09PRON%09n%2C%E4%BB%A3%E5%90%8D%E8%A9%9E%2C%E4%BA%BA%E7%A7%B0%2C%E6%AD%A2%E6%A0%BC%09Person%3D3%7CPronType%3DPrs%091%09obj%09_%09Gloss%3D%5B3PRON%5D%7CSpaceAfter%3DNo%0A3%09%E6%9B%B0%09%E6%9B%B0%09VERB%09v%2C%E5%8B%95%E8%A9%9E%2C%E8%A1%8C%E7%82%BA%2C%E4%BC%9D%E9%81%94%09_%091%09parataxis%09_%09Gloss%3Dsay%7CSpaceAfter%3DNo%0A4%09%E5%90%8C%09%E5%90%8C%09VERB%09v%2C%E5%8B%95%E8%A9%9E%2C%E6%8F%8F%E5%86%99%2C%E5%BD%A2%E8%B3%AA%09Degree%3DPos%093%09obj%09_%09Gloss%3Dsame%7CSpaceAfter%3DNo%0A%0A\"\n",
       "            frameborder=\"0\"\n",
       "            allowfullscreen\n",
       "            style=\"background-color: white;\"\n",
       "        ></iframe>\n",
       "        "
      ],
      "text/plain": [
       "<IPython.lib.display.IFrame at 0x7f525f5e09d0>"
      ]
     },
     "metadata": {},
     "output_type": "display_data"
    }
   ],
   "source": [
    "ex30 = nlp(\"公曰是其生也與吾同物命之曰同\")\n",
    "serve(ex30, 700)"
   ]
  },
  {
   "cell_type": "markdown",
   "metadata": {},
   "source": [
    "## 4. The Preclassical Copula *Wei* 唯"
   ]
  },
  {
   "cell_type": "code",
   "execution_count": 49,
   "metadata": {},
   "outputs": [
    {
     "data": {
      "text/html": [
       "\n",
       "        <iframe\n",
       "            width=\"100%\"\n",
       "            height=\"200\"\n",
       "            src=\"https://koichiyasuoka.github.io/deplacy/deplacy/viewer.svg#%23%20text%20%3D%20%E6%89%80%E8%87%A8%E5%94%AF%E4%BF%A1%0A1%09%E6%89%80%09%E6%89%80%09PART%09p%2C%E5%8A%A9%E8%A9%9E%2C%E6%8E%A5%E7%B6%9A%2C%E4%BD%93%E8%A8%80%E5%8C%96%09_%092%09case%09_%09Gloss%3Dthat-which%7CSpaceAfter%3DNo%0A2%09%E8%87%A8%09%E8%87%A8%09VERB%09v%2C%E5%8B%95%E8%A9%9E%2C%E8%A1%8C%E7%82%BA%2C%E5%8B%95%E4%BD%9C%09_%094%09advcl%09_%09Gloss%3Doverlook%7CSpaceAfter%3DNo%7CTranslit%3D%E4%B8%B4%0A3%09%E5%94%AF%09%E5%94%AF%09ADV%09v%2C%E5%89%AF%E8%A9%9E%2C%E7%AF%84%E5%9B%B2%2C%E9%99%90%E5%AE%9A%09_%094%09advmod%09_%09Gloss%3Donly%7CSpaceAfter%3DNo%0A4%09%E4%BF%A1%09%E4%BF%A1%09VERB%09v%2C%E5%8B%95%E8%A9%9E%2C%E8%A1%8C%E7%82%BA%2C%E6%85%8B%E5%BA%A6%09_%090%09root%09_%09Gloss%3Dbelieve%7CSpaceAfter%3DNo%0A%0A\"\n",
       "            frameborder=\"0\"\n",
       "            allowfullscreen\n",
       "            style=\"background-color: white;\"\n",
       "        ></iframe>\n",
       "        "
      ],
      "text/plain": [
       "<IPython.lib.display.IFrame at 0x7f525f5e09a0>"
      ]
     },
     "metadata": {},
     "output_type": "display_data"
    }
   ],
   "source": [
    "ex31 = nlp(\"所臨唯信\")\n",
    "serve(ex31)"
   ]
  },
  {
   "cell_type": "code",
   "execution_count": 51,
   "metadata": {},
   "outputs": [
    {
     "data": {
      "text/html": [
       "\n",
       "        <iframe\n",
       "            width=\"100%\"\n",
       "            height=\"250\"\n",
       "            src=\"https://koichiyasuoka.github.io/deplacy/deplacy/viewer.svg#%23%20text%20%3D%20%E6%83%9F%E7%BE%A9%E6%89%80%E5%9C%A8%0A1%09%E6%83%9F%09%E6%83%9F%09ADV%09v%2C%E5%89%AF%E8%A9%9E%2C%E7%AF%84%E5%9B%B2%2C%E9%99%90%E5%AE%9A%09_%094%09advmod%09_%09Gloss%3Donly%7CSpaceAfter%3DNo%0A2%09%E7%BE%A9%09%E7%BE%A9%09NOUN%09n%2C%E5%90%8D%E8%A9%9E%2C%E6%8F%8F%E5%86%99%2C%E6%85%8B%E5%BA%A6%09_%094%09nsubj%09_%09Gloss%3Drighteousness%7CSpaceAfter%3DNo%7CTranslit%3D%E4%B9%89%0A3%09%E6%89%80%09%E6%89%80%09PART%09p%2C%E5%8A%A9%E8%A9%9E%2C%E6%8E%A5%E7%B6%9A%2C%E4%BD%93%E8%A8%80%E5%8C%96%09_%094%09mark%09_%09Gloss%3Dthat-which%7CSpaceAfter%3DNo%0A4%09%E5%9C%A8%09%E5%9C%A8%09VERB%09v%2C%E5%8B%95%E8%A9%9E%2C%E5%AD%98%E5%9C%A8%2C%E5%AD%98%E5%9C%A8%09_%090%09root%09_%09Gloss%3Dbe-present%7CSpaceAfter%3DNo%0A%0A\"\n",
       "            frameborder=\"0\"\n",
       "            allowfullscreen\n",
       "            style=\"background-color: white;\"\n",
       "        ></iframe>\n",
       "        "
      ],
      "text/plain": [
       "<IPython.lib.display.IFrame at 0x7f525f5e0ac0>"
      ]
     },
     "metadata": {},
     "output_type": "display_data"
    }
   ],
   "source": [
    "ex32 = nlp(\"惟義所在\")\n",
    "serve(ex32, 250)"
   ]
  }
 ],
 "metadata": {
  "interpreter": {
   "hash": "5c36988f6934d5f298e2ed50ec8ee55dd622f2d2c8c2fffd8d1cfcc03df05c4a"
  },
  "kernelspec": {
   "display_name": "Python 3.7.6 64-bit ('general': venv)",
   "language": "python",
   "name": "python3"
  },
  "language_info": {
   "codemirror_mode": {
    "name": "ipython",
    "version": 3
   },
   "file_extension": ".py",
   "mimetype": "text/x-python",
   "name": "python",
   "nbconvert_exporter": "python",
   "pygments_lexer": "ipython3",
   "version": "3.8.10"
  },
  "orig_nbformat": 4
 },
 "nbformat": 4,
 "nbformat_minor": 2
}
