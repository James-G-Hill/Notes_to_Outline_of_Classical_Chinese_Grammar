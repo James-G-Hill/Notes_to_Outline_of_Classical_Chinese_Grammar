{
 "cells": [
  {
   "cell_type": "markdown",
   "metadata": {},
   "source": [
    "# VIII. Topicalization and Exposure"
   ]
  },
  {
   "cell_type": "code",
   "execution_count": 1,
   "metadata": {},
   "outputs": [
    {
     "name": "stderr",
     "output_type": "stream",
     "text": [
      "Some weights of the model checkpoint at KoichiYasuoka/roberta-classical-chinese-large-char were not used when initializing RobertaModel: ['lm_head.dense.weight', 'lm_head.decoder.weight', 'lm_head.dense.bias', 'lm_head.bias', 'lm_head.layer_norm.bias', 'lm_head.layer_norm.weight', 'lm_head.decoder.bias']\n",
      "- This IS expected if you are initializing RobertaModel from the checkpoint of a model trained on another task or with another architecture (e.g. initializing a BertForSequenceClassification model from a BertForPreTraining model).\n",
      "- This IS NOT expected if you are initializing RobertaModel from the checkpoint of a model that you expect to be exactly identical (initializing a BertForSequenceClassification model from a BertForSequenceClassification model).\n"
     ]
    }
   ],
   "source": [
    "from deplacy import (\n",
    "    dot,\n",
    "    render,\n",
    "    to_conllu\n",
    ")\n",
    "from lzh_helpers.serve import serve\n",
    "from suparkanbun import load\n",
    "from transformers import logging\n",
    "\n",
    "logging.logging.disable(logging.INFO)\n",
    "\n",
    "nlp = load(BERT=\"roberta-classical-chinese-large-char\", Danku=False)"
   ]
  },
  {
   "cell_type": "markdown",
   "metadata": {},
   "source": [
    "## 1. Exposure of an Element That Is Not the Subject"
   ]
  },
  {
   "cell_type": "code",
   "execution_count": 3,
   "metadata": {},
   "outputs": [
    {
     "name": "stderr",
     "output_type": "stream",
     "text": [
      "                                                   "
     ]
    },
    {
     "name": "stdout",
     "output_type": "stream",
     "text": [
      "然 VERB  <══════╗ amod\n",
      "而 CCONJ <════╗ ║ amod\n",
      "不 ADV   <╗   ║ ║ advmod\n",
      "王 VERB  ═╝<╗ ║ ║ acl\n",
      "者 PART  ═══╝═╝═╝ ROOT\n",
      "未 ADV   <══╗     advmod\n",
      "之 PRON  <╗ ║     expl\n",
      "有 VERB  ═╝═╝═╗   ROOT\n",
      "也 PART  <════╝   discourse:sp\n"
     ]
    },
    {
     "name": "stderr",
     "output_type": "stream",
     "text": [
      "\r"
     ]
    }
   ],
   "source": [
    "ex228 = nlp(\"然而不王者\\n未之有也\")\n",
    "render(ex228)"
   ]
  },
  {
   "cell_type": "code",
   "execution_count": 5,
   "metadata": {},
   "outputs": [
    {
     "name": "stderr",
     "output_type": "stream",
     "text": [
      "                                                   "
     ]
    },
    {
     "name": "stdout",
     "output_type": "stream",
     "text": [
      "萬 NUM  <════╗   nsubj\n",
      "取 VERB ═╗═╗═╝   ROOT\n",
      "千 NUM  <╝ ║     obj\n",
      "焉 PRON <══╝     obl\n",
      "千 NUM  <════╗   nsubj\n",
      "取 VERB ═╗═╗═╝   ROOT\n",
      "百 NUM  <╝ ║     obj\n",
      "焉 PRON <══╝     obl\n",
      "不 ADV  <════╗   advmod\n",
      "為 VERB ═══╗═╝═╗ ROOT\n",
      "不 ADV  <╗ ║   ║ advmod\n",
      "多 VERB ═╝<╝   ║ ccomp\n",
      "矣 PART <══════╝ discourse:sp\n"
     ]
    },
    {
     "name": "stderr",
     "output_type": "stream",
     "text": [
      "\r"
     ]
    }
   ],
   "source": [
    "ex229 = nlp(\"萬取千焉\\n千取百焉\\n不為不多矣\")\n",
    "render(ex229)"
   ]
  },
  {
   "cell_type": "code",
   "execution_count": 6,
   "metadata": {},
   "outputs": [
    {
     "name": "stderr",
     "output_type": "stream",
     "text": [
      "                                                   "
     ]
    },
    {
     "name": "stdout",
     "output_type": "stream",
     "text": [
      "萬 NUM   ═╗═╗<╗       nummod\n",
      "乘 NOUN  <╝ ║ ║       clf\n",
      "之 SCONJ <══╝ ║       case\n",
      "國 NOUN  ═════╝<════╗ dislocated\n",
      "弑 VERB  ═══╗<╗     ║ acl\n",
      "其 PRON  <╗ ║ ║     ║ det\n",
      "君 NOUN  ═╝<╝ ║     ║ obj\n",
      "者 PART  ═════╝<══╗ ║ nsubj\n",
      "必 ADV   <══════╗ ║ ║ advmod\n",
      "千 NUM   ═╗═╗<╗ ║ ║ ║ nummod\n",
      "乘 NOUN  <╝ ║ ║ ║ ║ ║ clf\n",
      "之 SCONJ <══╝ ║ ║ ║ ║ case\n",
      "家 NOUN  ═════╝═╝═╝═╝ ROOT\n"
     ]
    },
    {
     "name": "stderr",
     "output_type": "stream",
     "text": [
      "\r"
     ]
    }
   ],
   "source": [
    "ex230 = nlp(\"萬乘之國弑其君者必千乘之家\")\n",
    "render(ex230)"
   ]
  },
  {
   "cell_type": "code",
   "execution_count": 7,
   "metadata": {},
   "outputs": [
    {
     "name": "stderr",
     "output_type": "stream",
     "text": [
      "                                                   "
     ]
    },
    {
     "name": "stdout",
     "output_type": "stream",
     "text": [
      "五 NUM   ═╗═╗<╗   nummod\n",
      "畝 NOUN  <╝ ║ ║   clf\n",
      "之 SCONJ <══╝ ║   case\n",
      "宅 NOUN  ═════╝<╗ obj\n",
      "樹 VERB  ═╗═╗═══╝ ROOT\n",
      "之 PRON  <╝ ║     expl\n",
      "以 VERB  ═╗<╝     advcl\n",
      "桑 NOUN  <╝       obj\n"
     ]
    },
    {
     "name": "stderr",
     "output_type": "stream",
     "text": [
      "\r"
     ]
    }
   ],
   "source": [
    "ex231 = nlp(\"五畝之宅樹之以桑\")\n",
    "render(ex231)"
   ]
  },
  {
   "cell_type": "code",
   "execution_count": 8,
   "metadata": {},
   "outputs": [
    {
     "name": "stderr",
     "output_type": "stream",
     "text": [
      "                                                   "
     ]
    },
    {
     "name": "stdout",
     "output_type": "stream",
     "text": [
      "戎 NOUN ═╗<╗ nsubj\n",
      "狄 NOUN <╝ ║ conj\n",
      "是 PRON <╗ ║ expl\n",
      "膺 VERB ═╝═╝ ROOT\n"
     ]
    },
    {
     "name": "stderr",
     "output_type": "stream",
     "text": [
      "\r"
     ]
    }
   ],
   "source": [
    "ex232 = nlp(\"戎狄是膺\")\n",
    "render(ex232)"
   ]
  },
  {
   "cell_type": "code",
   "execution_count": 9,
   "metadata": {},
   "outputs": [
    {
     "name": "stderr",
     "output_type": "stream",
     "text": [
      "                                                   "
     ]
    },
    {
     "name": "stdout",
     "output_type": "stream",
     "text": [
      "寡 VERB  <══╗       amod\n",
      "人 NOUN  ═╗═╝<╗     nsubj\n",
      "之 SCONJ <╝   ║     case\n",
      "從 VERB  ═══╗═╝═╗<╗ csubj\n",
      "而 CCONJ <╗ ║   ║ ║ cc\n",
      "西 VERB  ═╝<╝   ║ ║ conj\n",
      "也 PART  <══════╝ ║ mark\n",
      "亦 ADV   <══════╗ ║ advmod\n",
      "晉 PROPN ═╗<╗   ║ ║ nmod\n",
      "之 SCONJ <╝ ║   ║ ║ case\n",
      "妖 VERB  <╗ ║   ║ ║ amod\n",
      "夢 NOUN  ═╝═╝<╗ ║ ║ nsubj\n",
      "是 PRON  <╗   ║ ║ ║ expl\n",
      "踐 VERB  ═╝═══╝═╝═╝ ROOT\n"
     ]
    },
    {
     "name": "stderr",
     "output_type": "stream",
     "text": [
      "\r"
     ]
    }
   ],
   "source": [
    "ex233 = nlp(\"寡人之從而西也亦晉之妖夢是踐\")\n",
    "render(ex233)"
   ]
  },
  {
   "cell_type": "code",
   "execution_count": 11,
   "metadata": {},
   "outputs": [
    {
     "name": "stderr",
     "output_type": "stream",
     "text": [
      "                                                   "
     ]
    },
    {
     "name": "stdout",
     "output_type": "stream",
     "text": [
      "病 VERB  ═════╗═╗<╗ ccomp\n",
      "而 CCONJ <══╗ ║ ║ ║ cc\n",
      "後 VERB  <╗ ║ ║ ║ ║ obl:tmod\n",
      "質 VERB  ═╝═╝<╝ ║ ║ conj\n",
      "焉 PART  <══════╝ ║ discourse:sp\n",
      "何 ADV   <╗       ║ advmod\n",
      "遲 VERB  ═╝<╗     ║ ccomp\n",
      "之 PRON  <╗ ║     ║ expl\n",
      "有 VERB  ═╝═╝═════╝ ROOT\n"
     ]
    },
    {
     "name": "stderr",
     "output_type": "stream",
     "text": [
      "\r"
     ]
    }
   ],
   "source": [
    "ex234 = nlp(\"病而後質焉何遲之有\")\n",
    "render(ex234)"
   ]
  },
  {
   "cell_type": "code",
   "execution_count": 12,
   "metadata": {},
   "outputs": [
    {
     "name": "stderr",
     "output_type": "stream",
     "text": [
      "                                                   "
     ]
    },
    {
     "name": "stdout",
     "output_type": "stream",
     "text": [
      "是 PRON  <══════════╗ obj\n",
      "之 PRON  <══╗       ║ expl\n",
      "不 ADV   <╗ ║       ║ advmod\n",
      "務 VERB  ═╝═╝═════╗═╝ ROOT\n",
      "而 CCONJ <══════╗ ║   cc\n",
      "又 ADV   <════╗ ║ ║   advmod\n",
      "焉 PRON  <══╗ ║ ║ ║   obl\n",
      "從 VERB  ═╗═╝═╝═╝<╝   conj\n",
      "事 NOUN  <╝           obj\n"
     ]
    },
    {
     "name": "stderr",
     "output_type": "stream",
     "text": [
      "\r"
     ]
    }
   ],
   "source": [
    "ex235 = nlp(\"是之不務而又焉從事\")\n",
    "render(ex235)"
   ]
  },
  {
   "cell_type": "code",
   "execution_count": 13,
   "metadata": {},
   "outputs": [
    {
     "name": "stderr",
     "output_type": "stream",
     "text": [
      "                                                   "
     ]
    },
    {
     "name": "stdout",
     "output_type": "stream",
     "text": [
      "若   ADV   <══════╗         advmod\n",
      "晉   PROPN <╗     ║         nmod\n",
      "君   NOUN  ═╝<══╗ ║         nsubj\n",
      "朝   NOUN  <══╗ ║ ║         obl:tmod\n",
      "以   VERB  <╗ ║ ║ ║         advmod\n",
      "入   VERB  ═╝═╝═╝═╝<══════╗ advcl\n",
      "則   ADV   <════════════╗ ║ advmod\n",
      "婢子 NOUN  <════════╗   ║ ║ nsubj\n",
      "夕   NOUN  <══════╗ ║   ║ ║ obl:tmod\n",
      "以   VERB  ═╗<══╗ ║ ║   ║ ║ advcl\n",
      "死   VERB  <╝   ║ ║ ║   ║ ║ obj\n",
      "夕   NOUN  <══╗ ║ ║ ║   ║ ║ obl:tmod\n",
      "以   VERB  <╗ ║ ║ ║ ║   ║ ║ advmod\n",
      "入   VERB  ═╝═╝═╝═╝═╝<╗ ║ ║ advcl\n",
      "則   ADV   <════╗     ║ ║ ║ advmod\n",
      "朝   NOUN  <══╗ ║     ║ ║ ║ obl:tmod\n",
      "以   VERB  <╗ ║ ║     ║ ║ ║ advmod\n",
      "死   VERB  ═╝═╝═╝═════╝═╝═╝ ROOT\n"
     ]
    },
    {
     "name": "stderr",
     "output_type": "stream",
     "text": [
      "\r"
     ]
    }
   ],
   "source": [
    "ex236 = nlp(\"若晉君朝以入則婢子夕以死夕以入則朝以死\")\n",
    "render(ex236)"
   ]
  },
  {
   "cell_type": "code",
   "execution_count": 14,
   "metadata": {},
   "outputs": [
    {
     "name": "stderr",
     "output_type": "stream",
     "text": [
      "                                                   "
     ]
    },
    {
     "name": "stdout",
     "output_type": "stream",
     "text": [
      "夫子 NOUN <══╗   obj\n",
      "之   PRON <╗ ║   expl\n",
      "謂   VERB ═╝═╝═╗ ROOT\n",
      "也   PART <════╝ discourse:sp\n"
     ]
    },
    {
     "name": "stderr",
     "output_type": "stream",
     "text": [
      "\r"
     ]
    }
   ],
   "source": [
    "ex237 = nlp(\"夫子之謂也\")\n",
    "render(ex237)"
   ]
  },
  {
   "cell_type": "code",
   "execution_count": 15,
   "metadata": {},
   "outputs": [
    {
     "name": "stderr",
     "output_type": "stream",
     "text": [
      "                                                   "
     ]
    },
    {
     "name": "stdout",
     "output_type": "stream",
     "text": [
      "非 ADV  <════╗   advmod\n",
      "此 PRON <══╗ ║   obj\n",
      "之 PRON <╗ ║ ║   expl\n",
      "謂 VERB ═╝═╝═╝═╗ ROOT\n",
      "也 PART <══════╝ discourse:sp\n"
     ]
    },
    {
     "name": "stderr",
     "output_type": "stream",
     "text": [
      "\r"
     ]
    }
   ],
   "source": [
    "ex238 = nlp(\"非此之謂也\")\n",
    "render(ex238)"
   ]
  },
  {
   "cell_type": "code",
   "execution_count": 16,
   "metadata": {},
   "outputs": [
    {
     "name": "stderr",
     "output_type": "stream",
     "text": [
      "                                                   "
     ]
    },
    {
     "name": "stdout",
     "output_type": "stream",
     "text": [
      "是 PRON  <══╗           det\n",
      "夫 NOUN  ═╗═╝<════════╗ nsubj\n",
      "也 PART  <╝           ║ case\n",
      "將 ADV   <══════════╗ ║ advmod\n",
      "不 ADV   <══════╗   ║ ║ advmod\n",
      "唯 ADV   <════╗ ║   ║ ║ advmod\n",
      "衛 PROPN <══╗ ║ ║   ║ ║ nmod\n",
      "國 NOUN  ═╗═╝═╝═╝<╗ ║ ║ obj\n",
      "之 PRON  <╝       ║ ║ ║ case\n",
      "敗 VERB  ═════════╝═╝═╝ ROOT\n"
     ]
    },
    {
     "name": "stderr",
     "output_type": "stream",
     "text": [
      "\r"
     ]
    }
   ],
   "source": [
    "ex239 = nlp(\"是夫也將不唯衛國之敗\")\n",
    "render(ex239)"
   ]
  },
  {
   "cell_type": "code",
   "execution_count": 17,
   "metadata": {},
   "outputs": [
    {
     "name": "stderr",
     "output_type": "stream",
     "text": [
      "                                                   "
     ]
    },
    {
     "name": "stdout",
     "output_type": "stream",
     "text": [
      "余 NOUN <══╗   nsubj\n",
      "必 ADV  <╗ ║   advmod\n",
      "臣 NOUN ═╝═╝<╗ nsubj\n",
      "是 PRON <╗   ║ expl\n",
      "助 VERB ═╝═══╝ ROOT\n"
     ]
    },
    {
     "name": "stderr",
     "output_type": "stream",
     "text": [
      "\r"
     ]
    }
   ],
   "source": [
    "ex240 = nlp(\"余必臣是助\")\n",
    "render(ex240)"
   ]
  }
 ],
 "metadata": {
  "interpreter": {
   "hash": "24c7420704055a54140a02528a2609fb6bd56fcb92850f5594d6233afbe4d574"
  },
  "kernelspec": {
   "display_name": "Python 3.8.10 ('nlp')",
   "language": "python",
   "name": "python3"
  },
  "language_info": {
   "codemirror_mode": {
    "name": "ipython",
    "version": 3
   },
   "file_extension": ".py",
   "mimetype": "text/x-python",
   "name": "python",
   "nbconvert_exporter": "python",
   "pygments_lexer": "ipython3",
   "version": "3.8.10"
  },
  "orig_nbformat": 4
 },
 "nbformat": 4,
 "nbformat_minor": 2
}
