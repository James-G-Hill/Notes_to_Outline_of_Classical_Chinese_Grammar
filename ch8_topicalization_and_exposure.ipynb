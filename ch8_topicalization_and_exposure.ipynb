{
 "cells": [
  {
   "cell_type": "markdown",
   "metadata": {},
   "source": [
    "# VIII. Topicalization and Exposure"
   ]
  },
  {
   "cell_type": "code",
   "execution_count": 1,
   "metadata": {},
   "outputs": [
    {
     "name": "stderr",
     "output_type": "stream",
     "text": [
      "Some weights of the model checkpoint at KoichiYasuoka/roberta-classical-chinese-large-char were not used when initializing RobertaModel: ['lm_head.layer_norm.bias', 'lm_head.decoder.weight', 'lm_head.layer_norm.weight', 'lm_head.dense.weight', 'lm_head.dense.bias', 'lm_head.decoder.bias', 'lm_head.bias']\n",
      "- This IS expected if you are initializing RobertaModel from the checkpoint of a model trained on another task or with another architecture (e.g. initializing a BertForSequenceClassification model from a BertForPreTraining model).\n",
      "- This IS NOT expected if you are initializing RobertaModel from the checkpoint of a model that you expect to be exactly identical (initializing a BertForSequenceClassification model from a BertForSequenceClassification model).\n"
     ]
    }
   ],
   "source": [
    "from deplacy import render\n",
    "from suparkanbun import load\n",
    "from transformers import logging\n",
    "\n",
    "logging.logging.disable(logging.INFO)\n",
    "\n",
    "nlp = load(BERT=\"roberta-classical-chinese-large-char\", Danku=False)"
   ]
  },
  {
   "cell_type": "markdown",
   "metadata": {},
   "source": [
    "## 1. Exposure of an Element That Is Not the Subject"
   ]
  },
  {
   "cell_type": "code",
   "execution_count": 2,
   "metadata": {},
   "outputs": [
    {
     "name": "stderr",
     "output_type": "stream",
     "text": [
      "                                                   "
     ]
    },
    {
     "name": "stdout",
     "output_type": "stream",
     "text": [
      "然 VERB  <══════╗ amod\n",
      "而 CCONJ <════╗ ║ amod\n",
      "不 ADV   <╗   ║ ║ advmod\n",
      "王 VERB  ═╝<╗ ║ ║ acl\n",
      "者 PART  ═══╝═╝═╝ ROOT\n",
      "未 ADV   <══╗     advmod\n",
      "之 PRON  <╗ ║     expl\n",
      "有 VERB  ═╝═╝═╗   ROOT\n",
      "也 PART  <════╝   discourse:sp\n"
     ]
    },
    {
     "name": "stderr",
     "output_type": "stream",
     "text": [
      "\r"
     ]
    }
   ],
   "source": [
    "ex228 = nlp(\"然而不王者\\n未之有也\")\n",
    "render(ex228)"
   ]
  },
  {
   "cell_type": "code",
   "execution_count": 3,
   "metadata": {},
   "outputs": [
    {
     "name": "stderr",
     "output_type": "stream",
     "text": [
      "                                                   "
     ]
    },
    {
     "name": "stdout",
     "output_type": "stream",
     "text": [
      "萬 NUM  <════╗   nsubj\n",
      "取 VERB ═╗═╗═╝   ROOT\n",
      "千 NUM  <╝ ║     obj\n",
      "焉 PRON <══╝     obl\n",
      "千 NUM  <════╗   nsubj\n",
      "取 VERB ═╗═╗═╝   ROOT\n",
      "百 NUM  <╝ ║     obj\n",
      "焉 PRON <══╝     obl\n",
      "不 ADV  <════╗   advmod\n",
      "為 VERB ═══╗═╝═╗ ROOT\n",
      "不 ADV  <╗ ║   ║ advmod\n",
      "多 VERB ═╝<╝   ║ ccomp\n",
      "矣 PART <══════╝ discourse:sp\n"
     ]
    },
    {
     "name": "stderr",
     "output_type": "stream",
     "text": [
      "\r"
     ]
    }
   ],
   "source": [
    "ex229 = nlp(\"萬取千焉\\n千取百焉\\n不為不多矣\")\n",
    "render(ex229)"
   ]
  },
  {
   "cell_type": "code",
   "execution_count": 4,
   "metadata": {},
   "outputs": [
    {
     "name": "stderr",
     "output_type": "stream",
     "text": [
      "                                                   "
     ]
    },
    {
     "name": "stdout",
     "output_type": "stream",
     "text": [
      "萬 NUM   ═╗═╗<╗       nummod\n",
      "乘 NOUN  <╝ ║ ║       clf\n",
      "之 SCONJ <══╝ ║       case\n",
      "國 NOUN  ═════╝<════╗ dislocated\n",
      "弑 VERB  ═══╗<╗     ║ acl\n",
      "其 PRON  <╗ ║ ║     ║ det\n",
      "君 NOUN  ═╝<╝ ║     ║ obj\n",
      "者 PART  ═════╝<══╗ ║ nsubj\n",
      "必 ADV   <══════╗ ║ ║ advmod\n",
      "千 NUM   ═╗═╗<╗ ║ ║ ║ nummod\n",
      "乘 NOUN  <╝ ║ ║ ║ ║ ║ clf\n",
      "之 SCONJ <══╝ ║ ║ ║ ║ case\n",
      "家 NOUN  ═════╝═╝═╝═╝ ROOT\n"
     ]
    },
    {
     "name": "stderr",
     "output_type": "stream",
     "text": [
      "\r"
     ]
    }
   ],
   "source": [
    "ex230 = nlp(\"萬乘之國弑其君者必千乘之家\")\n",
    "render(ex230)"
   ]
  },
  {
   "cell_type": "code",
   "execution_count": 5,
   "metadata": {},
   "outputs": [
    {
     "name": "stderr",
     "output_type": "stream",
     "text": [
      "                                                   "
     ]
    },
    {
     "name": "stdout",
     "output_type": "stream",
     "text": [
      "五 NUM   ═╗═╗<╗   nummod\n",
      "畝 NOUN  <╝ ║ ║   clf\n",
      "之 SCONJ <══╝ ║   case\n",
      "宅 NOUN  ═════╝<╗ obj\n",
      "樹 VERB  ═╗═╗═══╝ ROOT\n",
      "之 PRON  <╝ ║     expl\n",
      "以 VERB  ═╗<╝     advcl\n",
      "桑 NOUN  <╝       obj\n"
     ]
    },
    {
     "name": "stderr",
     "output_type": "stream",
     "text": [
      "\r"
     ]
    }
   ],
   "source": [
    "ex231 = nlp(\"五畝之宅樹之以桑\")\n",
    "render(ex231)"
   ]
  },
  {
   "cell_type": "code",
   "execution_count": 6,
   "metadata": {},
   "outputs": [
    {
     "name": "stderr",
     "output_type": "stream",
     "text": [
      "                                                   "
     ]
    },
    {
     "name": "stdout",
     "output_type": "stream",
     "text": [
      "戎 NOUN ═╗<╗ nsubj\n",
      "狄 NOUN <╝ ║ conj\n",
      "是 PRON <╗ ║ expl\n",
      "膺 VERB ═╝═╝ ROOT\n"
     ]
    },
    {
     "name": "stderr",
     "output_type": "stream",
     "text": [
      "\r"
     ]
    }
   ],
   "source": [
    "ex232 = nlp(\"戎狄是膺\")\n",
    "render(ex232)"
   ]
  },
  {
   "cell_type": "code",
   "execution_count": 7,
   "metadata": {},
   "outputs": [
    {
     "name": "stderr",
     "output_type": "stream",
     "text": [
      "                                                   "
     ]
    },
    {
     "name": "stdout",
     "output_type": "stream",
     "text": [
      "寡 VERB  <══╗       amod\n",
      "人 NOUN  ═╗═╝<╗     nsubj\n",
      "之 SCONJ <╝   ║     case\n",
      "從 VERB  ═══╗═╝═╗<╗ csubj\n",
      "而 CCONJ <╗ ║   ║ ║ cc\n",
      "西 VERB  ═╝<╝   ║ ║ conj\n",
      "也 PART  <══════╝ ║ mark\n",
      "亦 ADV   <══════╗ ║ advmod\n",
      "晉 PROPN ═╗<╗   ║ ║ nmod\n",
      "之 SCONJ <╝ ║   ║ ║ case\n",
      "妖 VERB  <╗ ║   ║ ║ amod\n",
      "夢 NOUN  ═╝═╝<╗ ║ ║ nsubj\n",
      "是 PRON  <╗   ║ ║ ║ expl\n",
      "踐 VERB  ═╝═══╝═╝═╝ ROOT\n"
     ]
    },
    {
     "name": "stderr",
     "output_type": "stream",
     "text": [
      "\r"
     ]
    }
   ],
   "source": [
    "ex233 = nlp(\"寡人之從而西也亦晉之妖夢是踐\")\n",
    "render(ex233)"
   ]
  },
  {
   "cell_type": "code",
   "execution_count": 8,
   "metadata": {},
   "outputs": [
    {
     "name": "stderr",
     "output_type": "stream",
     "text": [
      "                                                   "
     ]
    },
    {
     "name": "stdout",
     "output_type": "stream",
     "text": [
      "病 VERB  ═════╗═╗<╗ ccomp\n",
      "而 CCONJ <══╗ ║ ║ ║ cc\n",
      "後 VERB  <╗ ║ ║ ║ ║ obl:tmod\n",
      "質 VERB  ═╝═╝<╝ ║ ║ conj\n",
      "焉 PART  <══════╝ ║ discourse:sp\n",
      "何 ADV   <╗       ║ advmod\n",
      "遲 VERB  ═╝<╗     ║ ccomp\n",
      "之 PRON  <╗ ║     ║ expl\n",
      "有 VERB  ═╝═╝═════╝ ROOT\n"
     ]
    },
    {
     "name": "stderr",
     "output_type": "stream",
     "text": [
      "\r"
     ]
    }
   ],
   "source": [
    "ex234 = nlp(\"病而後質焉何遲之有\")\n",
    "render(ex234)"
   ]
  },
  {
   "cell_type": "code",
   "execution_count": 9,
   "metadata": {},
   "outputs": [
    {
     "name": "stderr",
     "output_type": "stream",
     "text": [
      "                                                   "
     ]
    },
    {
     "name": "stdout",
     "output_type": "stream",
     "text": [
      "是 PRON  <══════════╗ obj\n",
      "之 PRON  <══╗       ║ expl\n",
      "不 ADV   <╗ ║       ║ advmod\n",
      "務 VERB  ═╝═╝═════╗═╝ ROOT\n",
      "而 CCONJ <══════╗ ║   cc\n",
      "又 ADV   <════╗ ║ ║   advmod\n",
      "焉 PRON  <══╗ ║ ║ ║   obl\n",
      "從 VERB  ═╗═╝═╝═╝<╝   conj\n",
      "事 NOUN  <╝           obj\n"
     ]
    },
    {
     "name": "stderr",
     "output_type": "stream",
     "text": [
      "\r"
     ]
    }
   ],
   "source": [
    "ex235 = nlp(\"是之不務而又焉從事\")\n",
    "render(ex235)"
   ]
  },
  {
   "cell_type": "code",
   "execution_count": 10,
   "metadata": {},
   "outputs": [
    {
     "name": "stderr",
     "output_type": "stream",
     "text": [
      "                                                   "
     ]
    },
    {
     "name": "stdout",
     "output_type": "stream",
     "text": [
      "若   ADV   <══════╗         advmod\n",
      "晉   PROPN <╗     ║         nmod\n",
      "君   NOUN  ═╝<══╗ ║         nsubj\n",
      "朝   NOUN  <══╗ ║ ║         obl:tmod\n",
      "以   VERB  <╗ ║ ║ ║         advmod\n",
      "入   VERB  ═╝═╝═╝═╝<══════╗ advcl\n",
      "則   ADV   <════════════╗ ║ advmod\n",
      "婢子 NOUN  <════════╗   ║ ║ nsubj\n",
      "夕   NOUN  <══════╗ ║   ║ ║ obl:tmod\n",
      "以   VERB  ═╗<══╗ ║ ║   ║ ║ advcl\n",
      "死   VERB  <╝   ║ ║ ║   ║ ║ obj\n",
      "夕   NOUN  <══╗ ║ ║ ║   ║ ║ obl:tmod\n",
      "以   VERB  <╗ ║ ║ ║ ║   ║ ║ advmod\n",
      "入   VERB  ═╝═╝═╝═╝═╝<╗ ║ ║ advcl\n",
      "則   ADV   <════╗     ║ ║ ║ advmod\n",
      "朝   NOUN  <══╗ ║     ║ ║ ║ obl:tmod\n",
      "以   VERB  <╗ ║ ║     ║ ║ ║ advmod\n",
      "死   VERB  ═╝═╝═╝═════╝═╝═╝ ROOT\n"
     ]
    },
    {
     "name": "stderr",
     "output_type": "stream",
     "text": [
      "\r"
     ]
    }
   ],
   "source": [
    "ex236 = nlp(\"若晉君朝以入則婢子夕以死夕以入則朝以死\")\n",
    "render(ex236)"
   ]
  },
  {
   "cell_type": "code",
   "execution_count": 11,
   "metadata": {},
   "outputs": [
    {
     "name": "stderr",
     "output_type": "stream",
     "text": [
      "                                                   "
     ]
    },
    {
     "name": "stdout",
     "output_type": "stream",
     "text": [
      "夫子 NOUN <══╗   obj\n",
      "之   PRON <╗ ║   expl\n",
      "謂   VERB ═╝═╝═╗ ROOT\n",
      "也   PART <════╝ discourse:sp\n"
     ]
    },
    {
     "name": "stderr",
     "output_type": "stream",
     "text": [
      "\r"
     ]
    }
   ],
   "source": [
    "ex237 = nlp(\"夫子之謂也\")\n",
    "render(ex237)"
   ]
  },
  {
   "cell_type": "code",
   "execution_count": 12,
   "metadata": {},
   "outputs": [
    {
     "name": "stderr",
     "output_type": "stream",
     "text": [
      "                                                   "
     ]
    },
    {
     "name": "stdout",
     "output_type": "stream",
     "text": [
      "非 ADV  <════╗   advmod\n",
      "此 PRON <══╗ ║   obj\n",
      "之 PRON <╗ ║ ║   expl\n",
      "謂 VERB ═╝═╝═╝═╗ ROOT\n",
      "也 PART <══════╝ discourse:sp\n"
     ]
    },
    {
     "name": "stderr",
     "output_type": "stream",
     "text": [
      "\r"
     ]
    }
   ],
   "source": [
    "ex238 = nlp(\"非此之謂也\")\n",
    "render(ex238)"
   ]
  },
  {
   "cell_type": "code",
   "execution_count": 13,
   "metadata": {},
   "outputs": [
    {
     "name": "stderr",
     "output_type": "stream",
     "text": [
      "                                                   "
     ]
    },
    {
     "name": "stdout",
     "output_type": "stream",
     "text": [
      "是 PRON  <══╗           det\n",
      "夫 NOUN  ═╗═╝<════════╗ nsubj\n",
      "也 PART  <╝           ║ case\n",
      "將 ADV   <══════════╗ ║ advmod\n",
      "不 ADV   <══════╗   ║ ║ advmod\n",
      "唯 ADV   <════╗ ║   ║ ║ advmod\n",
      "衛 PROPN <══╗ ║ ║   ║ ║ nmod\n",
      "國 NOUN  ═╗═╝═╝═╝<╗ ║ ║ obj\n",
      "之 PRON  <╝       ║ ║ ║ case\n",
      "敗 VERB  ═════════╝═╝═╝ ROOT\n"
     ]
    },
    {
     "name": "stderr",
     "output_type": "stream",
     "text": [
      "\r"
     ]
    }
   ],
   "source": [
    "ex239 = nlp(\"是夫也將不唯衛國之敗\")\n",
    "render(ex239)"
   ]
  },
  {
   "cell_type": "code",
   "execution_count": 14,
   "metadata": {},
   "outputs": [
    {
     "name": "stderr",
     "output_type": "stream",
     "text": [
      "                                                   "
     ]
    },
    {
     "name": "stdout",
     "output_type": "stream",
     "text": [
      "余 NOUN <══╗   nsubj\n",
      "必 ADV  <╗ ║   advmod\n",
      "臣 NOUN ═╝═╝<╗ nsubj\n",
      "是 PRON <╗   ║ expl\n",
      "助 VERB ═╝═══╝ ROOT\n"
     ]
    },
    {
     "name": "stderr",
     "output_type": "stream",
     "text": [
      "\r"
     ]
    }
   ],
   "source": [
    "ex240 = nlp(\"余必臣是助\")\n",
    "render(ex240)"
   ]
  },
  {
   "cell_type": "markdown",
   "metadata": {},
   "source": [
    "## 2. Exposure of the Subject"
   ]
  },
  {
   "cell_type": "code",
   "execution_count": 16,
   "metadata": {},
   "outputs": [
    {
     "name": "stderr",
     "output_type": "stream",
     "text": [
      "                                                   "
     ]
    },
    {
     "name": "stdout",
     "output_type": "stream",
     "text": [
      "此 PRON <══╗     det\n",
      "二 NUM  ═╗═╝<╗   nummod\n",
      "人 NOUN <╝   ║   clf\n",
      "者 PART ═════╝<╗ nsubj\n",
      "實 ADV  <════╗ ║ advmod\n",
      "弑 VERB ═══╗═╝═╝ ROOT\n",
      "寡 VERB <╗ ║     amod\n",
      "君 NOUN ═╝<╝     obj\n"
     ]
    },
    {
     "name": "stderr",
     "output_type": "stream",
     "text": [
      "\r"
     ]
    }
   ],
   "source": [
    "ex241 = nlp(\"此二人者實弑寡君\")\n",
    "render(ex241)"
   ]
  },
  {
   "cell_type": "code",
   "execution_count": 17,
   "metadata": {},
   "outputs": [
    {
     "name": "stderr",
     "output_type": "stream",
     "text": [
      "                                                   "
     ]
    },
    {
     "name": "stdout",
     "output_type": "stream",
     "text": [
      "非 ADV  <══╗   advmod\n",
      "知 VERB ═╗═╝<╗ csubj\n",
      "之 PRON <╝   ║ obj\n",
      "實 ADV  <╗   ║ advmod\n",
      "難 VERB ═╝═══╝ ROOT\n"
     ]
    },
    {
     "name": "stderr",
     "output_type": "stream",
     "text": [
      "\r"
     ]
    }
   ],
   "source": [
    "ex242 = nlp(\"非知之實難\")\n",
    "render(ex242)"
   ]
  },
  {
   "cell_type": "code",
   "execution_count": 18,
   "metadata": {},
   "outputs": [
    {
     "name": "stderr",
     "output_type": "stream",
     "text": [
      "                                                   "
     ]
    },
    {
     "name": "stdout",
     "output_type": "stream",
     "text": [
      "王 NOUN  ═╗<╗         nsubj\n",
      "之 SCONJ <╝ ║         case\n",
      "不 ADV   <╗ ║         advmod\n",
      "王 VERB  ═╝═╝<════╗   csubj\n",
      "是 PRON  <══════╗ ║   expl\n",
      "折 VERB  ═╗═╗<╗ ║ ║   acl\n",
      "枝 NOUN  <╝ ║ ║ ║ ║   obj\n",
      "之 SCONJ <══╝ ║ ║ ║   mark\n",
      "類 NOUN  ═════╝═╝═╝═╗ ROOT\n",
      "也 PART  <══════════╝ discourse:sp\n"
     ]
    },
    {
     "name": "stderr",
     "output_type": "stream",
     "text": [
      "\r"
     ]
    }
   ],
   "source": [
    "ex243 = nlp(\"王之不王是折枝之類也\")\n",
    "render(ex243)"
   ]
  },
  {
   "cell_type": "code",
   "execution_count": 22,
   "metadata": {},
   "outputs": [
    {
     "name": "stderr",
     "output_type": "stream",
     "text": [
      "                                                   "
     ]
    },
    {
     "name": "stdout",
     "output_type": "stream",
     "text": [
      "天 NOUN  ═╗       ROOT\n",
      "也 PART  <╝       discourse:sp\n",
      "非 ADV   <╗       advmod\n",
      "人 NOUN  ═╝═╗     ROOT\n",
      "也 PART  <══╝     discourse:sp\n",
      "天 NOUN  ═╗<╗     nsubj\n",
      "之 SCONJ <╝ ║     case\n",
      "生 VERB  ═══╝<╗   csubj\n",
      "是 PRON  <══╗ ║   expl\n",
      "使 VERB  ═╗═╝═╝═╗ ROOT\n",
      "獨 VERB  <╝     ║ obj\n",
      "也 PART  <══════╝ discourse:sp\n"
     ]
    },
    {
     "name": "stderr",
     "output_type": "stream",
     "text": [
      "\r"
     ]
    }
   ],
   "source": [
    "ex244 = nlp(\"天也\\n非人也\\n天之生是使獨也\")\n",
    "render(ex244)"
   ]
  },
  {
   "cell_type": "markdown",
   "metadata": {},
   "source": [
    "## 3. Marking Exposure"
   ]
  },
  {
   "cell_type": "code",
   "execution_count": 23,
   "metadata": {},
   "outputs": [
    {
     "name": "stderr",
     "output_type": "stream",
     "text": [
      "                                                   "
     ]
    },
    {
     "name": "stdout",
     "output_type": "stream",
     "text": [
      "士 NOUN <══════╗ nsubj\n",
      "則 ADV  <════╗ ║ advmod\n",
      "兹 PRON <══╗ ║ ║ nsubj\n",
      "不 ADV  <╗ ║ ║ ║ advmod\n",
      "悦 VERB ═╝═╝═╝═╝ ROOT\n"
     ]
    },
    {
     "name": "stderr",
     "output_type": "stream",
     "text": [
      "\r"
     ]
    }
   ],
   "source": [
    "ex245 = nlp(\"士則兹不悦\")\n",
    "render(ex245)"
   ]
  },
  {
   "cell_type": "code",
   "execution_count": 24,
   "metadata": {},
   "outputs": [
    {
     "name": "stderr",
     "output_type": "stream",
     "text": [
      "                                                   "
     ]
    },
    {
     "name": "stdout",
     "output_type": "stream",
     "text": [
      "是 PRON <════╗   nsubj\n",
      "則 ADV  <══╗ ║   advmod\n",
      "可 AUX  <╗ ║ ║   aux\n",
      "憂 VERB ═╝═╝═╝═╗ ROOT\n",
      "也 PART <══════╝ discourse:sp\n"
     ]
    },
    {
     "name": "stderr",
     "output_type": "stream",
     "text": [
      "\r"
     ]
    }
   ],
   "source": [
    "ex256 = nlp(\"是則可憂也\")\n",
    "render(ex256)"
   ]
  },
  {
   "cell_type": "code",
   "execution_count": 26,
   "metadata": {},
   "outputs": [
    {
     "name": "stderr",
     "output_type": "stream",
     "text": [
      "                                                   "
     ]
    },
    {
     "name": "stdout",
     "output_type": "stream",
     "text": [
      "孔子 PROPN <╗       nsubj\n",
      "曰   VERB  ═╝       ROOT\n",
      "聖   NOUN  <══════╗ advmod\n",
      "則   ADV   <════╗ ║ advmod\n",
      "吾   PRON  <══╗ ║ ║ nsubj\n",
      "不   ADV   <╗ ║ ║ ║ advmod\n",
      "能   AUX   ═╝═╝═╝═╝ ROOT\n"
     ]
    },
    {
     "name": "stderr",
     "output_type": "stream",
     "text": [
      "\r"
     ]
    }
   ],
   "source": [
    "ex247 = nlp(\"孔子曰\\n聖則吾不能\")\n",
    "render(ex247)"
   ]
  },
  {
   "cell_type": "code",
   "execution_count": 27,
   "metadata": {},
   "outputs": [
    {
     "name": "stderr",
     "output_type": "stream",
     "text": [
      "                                                   "
     ]
    },
    {
     "name": "stdout",
     "output_type": "stream",
     "text": [
      "鳥 NOUN <══════╗   nsubj\n",
      "則 ADV  <════╗ ║   advmod\n",
      "擇 VERB ═══╗═╝═╝<╗ advcl\n",
      "木 NOUN ═╗<╝     ║ obj\n",
      "木 NOUN <╝       ║ conj\n",
      "豈 ADV  <════╗   ║ advmod\n",
      "能 AUX  <══╗ ║   ║ aux\n",
      "擇 VERB ═╗═╝═╝═══╝ ROOT\n",
      "鳥 NOUN <╝         obj\n"
     ]
    },
    {
     "name": "stderr",
     "output_type": "stream",
     "text": [
      "\r"
     ]
    }
   ],
   "source": [
    "ex248 = nlp(\"鳥則擇木木豈能擇鳥\")\n",
    "render(ex248)"
   ]
  },
  {
   "cell_type": "markdown",
   "metadata": {},
   "source": [
    "## 4. X 之於 Y"
   ]
  },
  {
   "cell_type": "code",
   "execution_count": 28,
   "metadata": {},
   "outputs": [
    {
     "name": "stderr",
     "output_type": "stream",
     "text": [
      "                                                   "
     ]
    },
    {
     "name": "stdout",
     "output_type": "stream",
     "text": [
      "君子 NOUN  ═╗<══╗       nsubj\n",
      "之   SCONJ <╝   ║       case\n",
      "於   VERB  ═══╗═╝═╗<══╗ advcl\n",
      "禽   NOUN  ═╗<╝   ║   ║ obj\n",
      "獸   NOUN  <╝     ║   ║ flat\n",
      "也   PART  <══════╝   ║ mark\n",
      "見   VERB  ═══╗═════╗═╝ ROOT\n",
      "其   PRON  <╗ ║     ║   det\n",
      "生   NOUN  ═╝<╝     ║   obj\n",
      "不   ADV   <══════╗ ║   advmod\n",
      "忍   VERB  ═════╗═╝<╝   conj\n",
      "見   VERB  ═══╗<╝       ccomp\n",
      "其   PRON  <╗ ║         det\n",
      "死   NOUN  ═╝<╝         obj\n"
     ]
    },
    {
     "name": "stderr",
     "output_type": "stream",
     "text": [
      "\r"
     ]
    }
   ],
   "source": [
    "ex249 = nlp(\"君子之於禽獸也見其生不忍見其死\")\n",
    "render(ex249)"
   ]
  },
  {
   "cell_type": "code",
   "execution_count": 30,
   "metadata": {},
   "outputs": [
    {
     "name": "stderr",
     "output_type": "stream",
     "text": [
      "                                                   "
     ]
    },
    {
     "name": "stdout",
     "output_type": "stream",
     "text": [
      "周 PROPN <╗             compound\n",
      "公 NOUN  ═╝═╗<══╗       nsubj\n",
      "之 SCONJ <══╝   ║       case\n",
      "不 ADV   <════╗ ║       advmod\n",
      "有 VERB  ═══╗═╝═╝<══╗   csubj\n",
      "天 NOUN  <╗ ║       ║   compound\n",
      "下 NOUN  ═╝<╝       ║   obj\n",
      "猶 VERB  ═════════╗═╝═╗ ROOT\n",
      "益 PROPN ═╗<╗     ║   ║ nsubj\n",
      "之 SCONJ <╝ ║     ║   ║ case\n",
      "於 VERB  ═╗═╝═══╗<╝   ║ ccomp\n",
      "夏 PROPN <╝     ║     ║ obj\n",
      "伊 PROPN ═╗═╗<╗ ║     ║ nsubj\n",
      "尹 PROPN <╝ ║ ║ ║     ║ flat\n",
      "之 SCONJ <══╝ ║ ║     ║ case\n",
      "於 VERB  ═╗═══╝<╝     ║ conj\n",
      "殷 PROPN <╝           ║ obj\n",
      "也 PART  <════════════╝ discourse:sp\n"
     ]
    },
    {
     "name": "stderr",
     "output_type": "stream",
     "text": [
      "\r"
     ]
    }
   ],
   "source": [
    "ex250 = nlp(\"周公之不有天下猶益之於夏伊尹之於殷也\")\n",
    "render(ex250)"
   ]
  },
  {
   "cell_type": "markdown",
   "metadata": {},
   "source": [
    "## 5. Other Particles Marking Topicalization or Contrastive Exposure"
   ]
  },
  {
   "cell_type": "markdown",
   "metadata": {},
   "source": [
    "### a. Ye 也"
   ]
  },
  {
   "cell_type": "code",
   "execution_count": 32,
   "metadata": {},
   "outputs": [
    {
     "name": "stderr",
     "output_type": "stream",
     "text": [
      "                                                   "
     ]
    },
    {
     "name": "stdout",
     "output_type": "stream",
     "text": [
      "丈   NOUN  <══╗       nmod\n",
      "夫   NOUN  ═╗═╝<╗     nsubj\n",
      "之   SCONJ <╝   ║     case\n",
      "冠   VERB  ═════╝═╗<╗ ccomp\n",
      "也   PART  <══════╝ ║ mark\n",
      "父   NOUN  <══╗     ║ nsubj\n",
      "命   VERB  ═╗═╝═════╝ ROOT\n",
      "之   PRON  <╝         expl\n",
      "女子 NOUN  ═╗<╗       nsubj\n",
      "之   SCONJ <╝ ║       case\n",
      "嫁   VERB  ═══╝═╗<╗   ccomp\n",
      "也   PART  <════╝ ║   mark\n",
      "母   NOUN  <══╗   ║   nsubj\n",
      "命   VERB  ═╗═╝═══╝   ROOT\n",
      "之   PRON  <╝         expl\n"
     ]
    },
    {
     "name": "stderr",
     "output_type": "stream",
     "text": [
      "\r"
     ]
    }
   ],
   "source": [
    "ex251 = nlp(\"丈夫之冠也父命之\\n女子之嫁也母命之\")\n",
    "render(ex251)"
   ]
  },
  {
   "cell_type": "code",
   "execution_count": 33,
   "metadata": {},
   "outputs": [
    {
     "name": "stderr",
     "output_type": "stream",
     "text": [
      "                                                   "
     ]
    },
    {
     "name": "stdout",
     "output_type": "stream",
     "text": [
      "鲤 PROPN ═╗<╗     nsubj\n",
      "也 PART  <╝ ║     case\n",
      "死 VERB  ═══╝<╗   csubj\n",
      "有 VERB  ═╗═══╝═╗ ROOT\n",
      "棺 NOUN  <╝     ║ obj\n",
      "而 CCONJ <══╗   ║ cc\n",
      "無 VERB  ═╗═╝<══╝ conj\n",
      "槨 NOUN  <╝       obj\n"
     ]
    },
    {
     "name": "stderr",
     "output_type": "stream",
     "text": [
      "\r"
     ]
    }
   ],
   "source": [
    "ex252 = nlp(\"鲤也死有棺而無槨\")\n",
    "render(ex252)"
   ]
  },
  {
   "cell_type": "markdown",
   "metadata": {},
   "source": [
    "### b. 唯 (隹， 惟， 維)"
   ]
  },
  {
   "cell_type": "code",
   "execution_count": 34,
   "metadata": {},
   "outputs": [
    {
     "name": "stderr",
     "output_type": "stream",
     "text": [
      "                                                   "
     ]
    },
    {
     "name": "stdout",
     "output_type": "stream",
     "text": [
      "維 PRON <════╗ discourse\n",
      "天 NOUN <══╗ ║ nsubj\n",
      "有 VERB ═╗═╝═╝ ROOT\n",
      "漢 NOUN <╝     obj\n"
     ]
    },
    {
     "name": "stderr",
     "output_type": "stream",
     "text": [
      "\r"
     ]
    }
   ],
   "source": [
    "ex253 = nlp(\"維天有漢\")\n",
    "render(ex253)"
   ]
  },
  {
   "cell_type": "markdown",
   "metadata": {},
   "source": [
    "### c. Zhe 者"
   ]
  },
  {
   "cell_type": "code",
   "execution_count": 35,
   "metadata": {},
   "outputs": [
    {
     "name": "stderr",
     "output_type": "stream",
     "text": [
      "                                                   "
     ]
    },
    {
     "name": "stdout",
     "output_type": "stream",
     "text": [
      "夫 PART  <════════╗   discourse\n",
      "明 NOUN  <╗       ║   nmod\n",
      "堂 NOUN  ═╝<╗     ║   nmod\n",
      "者 PART  ═══╝<══╗ ║   nsubj\n",
      "王 NOUN  <══╗   ║ ║   nmod\n",
      "者 PART  ═╗═╝<╗ ║ ║   nmod\n",
      "之 SCONJ <╝   ║ ║ ║   case\n",
      "堂 NOUN  ═════╝═╝═╝═╗ ROOT\n",
      "也 PART  <══════════╝ discourse:sp\n"
     ]
    },
    {
     "name": "stderr",
     "output_type": "stream",
     "text": [
      "\r"
     ]
    }
   ],
   "source": [
    "ex254 = nlp(\"夫明堂者王者之堂也\")\n",
    "render(ex254)"
   ]
  },
  {
   "cell_type": "code",
   "execution_count": 36,
   "metadata": {},
   "outputs": [
    {
     "name": "stderr",
     "output_type": "stream",
     "text": [
      "                                                   "
     ]
    },
    {
     "name": "stdout",
     "output_type": "stream",
     "text": [
      "有 VERB  ═════╗═╗ ROOT\n",
      "顏 PROPN ═╗<╗ ║ ║ nmod\n",
      "回 PROPN <╝ ║ ║ ║ flat\n",
      "者 PART  ═══╝<╝ ║ obj\n",
      "好 VERB  ═╗<════╝ parataxis\n",
      "學 NOUN  <╝       obj\n"
     ]
    },
    {
     "name": "stderr",
     "output_type": "stream",
     "text": [
      "\r"
     ]
    }
   ],
   "source": [
    "ex255 = nlp(\"有顏回者好學\")\n",
    "render(ex255)"
   ]
  },
  {
   "cell_type": "markdown",
   "metadata": {},
   "source": [
    "### d. Fu 夫"
   ]
  },
  {
   "cell_type": "code",
   "execution_count": 37,
   "metadata": {},
   "outputs": [
    {
     "name": "stderr",
     "output_type": "stream",
     "text": [
      "                                                   "
     ]
    },
    {
     "name": "stdout",
     "output_type": "stream",
     "text": [
      "夫 PART  <══╗                       discourse\n",
      "撫 VERB  ═╗═╝═╗<══════════════════╗ advcl\n",
      "劍 NOUN  <╝   ║                   ║ obj\n",
      "疾 VERB  <╗   ║                   ║ advmod\n",
      "視 VERB  ═╝<══╝                   ║ conj\n",
      "曰 VERB  ═══════════════════════╗═╝ ROOT\n",
      "彼 PRON  <════════════════╗     ║   nsubj\n",
      "惡 ADV   <══════════════╗ ║     ║   advmod\n",
      "敢 AUX   <════════════╗ ║ ║     ║   aux\n",
      "當 VERB  ═╗═══════╗═╗═╝═╝═╝═╗═╗<╝   ccomp\n",
      "我 PRON  <╝       ║ ║       ║ ║     obj\n",
      "哉 PART           ║ ║<══════╝ ║     discourse:sp\n",
      "此 PRON  <════╗   ║ ║         ║     det\n",
      "匹 VERB  <══╗ ║   ║ ║         ║     amod\n",
      "夫 NOUN  ═╗═╝═╝<╗ ║ ║         ║     nmod\n",
      "之 SCONJ <╝     ║ ║ ║         ║     case\n",
      "勇 NOUN  ═══════╝<╝ ║         ║     nsubj\n",
      "敵 VERB  ═══╗<╗     ║         ║     acl\n",
      "一 NUM   ═╗<╝ ║     ║         ║     obj\n",
      "人 NOUN  <╝   ║     ║         ║     clf\n",
      "者 PART  ═════╝<════╝         ║     obj\n",
      "也 PART  <════════════════════╝     discourse:sp\n"
     ]
    },
    {
     "name": "stderr",
     "output_type": "stream",
     "text": [
      "\r"
     ]
    }
   ],
   "source": [
    "ex256 = nlp(\"夫撫劍疾視曰彼惡敢當我哉此匹夫之勇敵一人者也\")\n",
    "render(ex256)"
   ]
  },
  {
   "cell_type": "code",
   "execution_count": 38,
   "metadata": {},
   "outputs": [
    {
     "name": "stderr",
     "output_type": "stream",
     "text": [
      "                                                   "
     ]
    },
    {
     "name": "stdout",
     "output_type": "stream",
     "text": [
      "夫 PART <══════╗ discourse\n",
      "我 PRON <════╗ ║ nsubj\n",
      "乃 ADV  <══╗ ║ ║ advmod\n",
      "行 VERB ═╗═╝═╝═╝ ROOT\n",
      "之 PRON <╝       obj\n"
     ]
    },
    {
     "name": "stderr",
     "output_type": "stream",
     "text": [
      "\r"
     ]
    }
   ],
   "source": [
    "ex257 = nlp(\"夫我乃行之\")\n",
    "render(ex257)"
   ]
  },
  {
   "cell_type": "code",
   "execution_count": 39,
   "metadata": {},
   "outputs": [
    {
     "name": "stderr",
     "output_type": "stream",
     "text": [
      "                                                   "
     ]
    },
    {
     "name": "stdout",
     "output_type": "stream",
     "text": [
      "夫 PART <══════╗ discourse\n",
      "誰 PRON <════╗ ║ nsubj\n",
      "舆 VERB ═══╗═╝═╝ ROOT\n",
      "王 NOUN <╗ ║     nmod\n",
      "敵 NOUN ═╝<╝     obj\n"
     ]
    },
    {
     "name": "stderr",
     "output_type": "stream",
     "text": [
      "\r"
     ]
    }
   ],
   "source": [
    "ex258 = nlp(\"夫誰舆王敵\")\n",
    "render(ex258)"
   ]
  },
  {
   "cell_type": "markdown",
   "metadata": {},
   "source": [
    "### e. Ruo Fu 若夫"
   ]
  },
  {
   "cell_type": "code",
   "execution_count": 40,
   "metadata": {},
   "outputs": [
    {
     "name": "stderr",
     "output_type": "stream",
     "text": [
      "                                                   "
     ]
    },
    {
     "name": "stdout",
     "output_type": "stream",
     "text": [
      "待   VERB  ═══╗═╗<╗         acl\n",
      "文   PROPN <╗ ║ ║ ║         compound\n",
      "王   NOUN  ═╝<╝ ║ ║         obj\n",
      "而   CCONJ <══╗ ║ ║         cc\n",
      "後   NOUN  <╗ ║ ║ ║         obl:tmod\n",
      "興   VERB  ═╝═╝<╝ ║         conj\n",
      "者   PART  ═══════╝<══╗     nsubj\n",
      "凡   VERB  <════════╗ ║     amod\n",
      "民   NOUN  ═══════╗═╝═╝═╗<╗ nsubj\n",
      "也   PART  <══════║═════╝ ║ discourse:sp\n",
      "若   ADV   <══════║═╗     ║ advcl\n",
      "夫   PART  <════╗ ║ ║     ║ discourse\n",
      "豪傑 NOUN  ═╗<╗ ║ ║ ║     ║ nmod\n",
      "之   SCONJ <╝ ║ ║ ║ ║     ║ case\n",
      "士   NOUN  ═══╝═╝<╝ ║     ║ nsubj\n",
      "雖   ADV   <════╗   ║     ║ advmod\n",
      "無   VERB  ═══╗═╝<╗ ║     ║ advcl\n",
      "文   PROPN <╗ ║   ║ ║     ║ compound\n",
      "王   NOUN  ═╝<╝   ║ ║     ║ obj\n",
      "猶   ADV   <╗     ║ ║     ║ advmod\n",
      "興   VERB  ═╝═════╝═╝═════╝ ROOT\n"
     ]
    },
    {
     "name": "stderr",
     "output_type": "stream",
     "text": [
      "\r"
     ]
    }
   ],
   "source": [
    "ex259 = nlp(\"待文王而後興者凡民也若夫豪傑之士雖無文王猶興\")\n",
    "render(ex259)"
   ]
  },
  {
   "cell_type": "code",
   "execution_count": 41,
   "metadata": {},
   "outputs": [
    {
     "name": "stderr",
     "output_type": "stream",
     "text": [
      "                                                   "
     ]
    },
    {
     "name": "stdout",
     "output_type": "stream",
     "text": [
      "乃 ADV   <════╗             advmod\n",
      "若 VERB  ═══╗═╝<══════╗     advcl\n",
      "其 PRON  <╗ ║         ║     det\n",
      "情 NOUN  ═╝<╝         ║     obj\n",
      "則 ADV   <══════════╗ ║     advmod\n",
      "可 AUX   ═╗<══════╗ ║ ║     aux\n",
      "以 VERB  <╝       ║ ║ ║     fixed\n",
      "為 VERB  ═╗═════╗═╝═╝═╝═╗═╗ ROOT\n",
      "善 VERB  <╝     ║       ║ ║ obj\n",
      "矣 PART  <══════║═══════╝ ║ discourse:sp\n",
      "乃 ADV   <════╗ ║         ║ advmod\n",
      "所 PART  <══╗ ║ ║         ║ mark\n",
      "謂 VERB  ═╗═╝═╝<╝         ║ ccomp\n",
      "善 VERB  <╝               ║ obj\n",
      "也 PART  <════════════════╝ discourse:sp\n",
      "若 ADV   <════╗             advmod\n",
      "夫 PART  <════║═╗           discourse\n",
      "為 VERB  ═══╗═╝═╝<╗         csubj\n",
      "不 ADV   <╗ ║     ║         advmod\n",
      "善 VERB  ═╝<╝     ║         obj\n",
      "非 ADV   <════╗   ║         advmod\n",
      "才 NOUN  ═╗<╗ ║   ║         nmod\n",
      "之 SCONJ <╝ ║ ║   ║         case\n",
      "罪 NOUN  ═══╝═╝═══╝═╗       ROOT\n",
      "也 PART  <══════════╝       discourse:sp\n"
     ]
    },
    {
     "name": "stderr",
     "output_type": "stream",
     "text": [
      "\r"
     ]
    }
   ],
   "source": [
    "ex260 = nlp(\"乃若其情則可以為善矣乃所謂善也\\n若夫為不善非才之罪也\")\n",
    "render(ex260)"
   ]
  }
 ],
 "metadata": {
  "interpreter": {
   "hash": "24c7420704055a54140a02528a2609fb6bd56fcb92850f5594d6233afbe4d574"
  },
  "kernelspec": {
   "display_name": "Python 3.8.10 ('nlp')",
   "language": "python",
   "name": "python3"
  },
  "language_info": {
   "codemirror_mode": {
    "name": "ipython",
    "version": 3
   },
   "file_extension": ".py",
   "mimetype": "text/x-python",
   "name": "python",
   "nbconvert_exporter": "python",
   "pygments_lexer": "ipython3",
   "version": "3.8.10"
  },
  "orig_nbformat": 4
 },
 "nbformat": 4,
 "nbformat_minor": 2
}
