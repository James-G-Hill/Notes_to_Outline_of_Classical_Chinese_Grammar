{
 "cells": [
  {
   "cell_type": "markdown",
   "metadata": {},
   "source": [
    "# II. Some Basic Principles of Chinese Syntax"
   ]
  },
  {
   "cell_type": "code",
   "execution_count": 2,
   "metadata": {},
   "outputs": [
    {
     "name": "stderr",
     "output_type": "stream",
     "text": [
      "Some weights of the model checkpoint at KoichiYasuoka/roberta-classical-chinese-large-char were not used when initializing RobertaModel: ['lm_head.bias', 'lm_head.layer_norm.bias', 'lm_head.decoder.bias', 'lm_head.dense.bias', 'lm_head.dense.weight', 'lm_head.decoder.weight', 'lm_head.layer_norm.weight']\n",
      "- This IS expected if you are initializing RobertaModel from the checkpoint of a model trained on another task or with another architecture (e.g. initializing a BertForSequenceClassification model from a BertForPreTraining model).\n",
      "- This IS NOT expected if you are initializing RobertaModel from the checkpoint of a model that you expect to be exactly identical (initializing a BertForSequenceClassification model from a BertForSequenceClassification model).\n"
     ]
    }
   ],
   "source": [
    "from deplacy import render\n",
    "from suparkanbun import load\n",
    "from transformers import logging\n",
    "\n",
    "logging.logging.disable(logging.INFO)\n",
    "\n",
    "nlp = load(BERT=\"roberta-classical-chinese-large-char\", Danku=False)"
   ]
  },
  {
   "cell_type": "markdown",
   "metadata": {},
   "source": [
    "## 2. Subject and predicate"
   ]
  },
  {
   "cell_type": "code",
   "execution_count": 3,
   "metadata": {},
   "outputs": [
    {
     "name": "stderr",
     "output_type": "stream",
     "text": [
      "                                                   "
     ]
    },
    {
     "name": "stdout",
     "output_type": "stream",
     "text": [
      "孟子 PROPN <══════╗ nsubj\n",
      "見   VERB  ═════╗═╝ ROOT\n",
      "梁   PROPN <══╗ ║   nmod\n",
      "惠   PROPN <╗ ║ ║   compound\n",
      "王   NOUN  ═╝═╝<╝   obj\n"
     ]
    },
    {
     "name": "stderr",
     "output_type": "stream",
     "text": [
      "\r"
     ]
    }
   ],
   "source": [
    "ex1 = nlp(\"孟子見梁惠王\")\n",
    "render(ex1)"
   ]
  },
  {
   "cell_type": "code",
   "execution_count": 4,
   "metadata": {},
   "outputs": [
    {
     "name": "stderr",
     "output_type": "stream",
     "text": [
      "                                                   "
     ]
    },
    {
     "name": "stdout",
     "output_type": "stream",
     "text": [
      "亦 ADV  <════╗       advmod\n",
      "有 VERB ═══╗═╝═╗═╗═╗ ROOT\n",
      "仁 NOUN ═╗<╝   ║ ║ ║ obj\n",
      "義 NOUN <╝     ║ ║ ║ conj\n",
      "而 PART <══════╝ ║ ║ discourse:sp\n",
      "已 PART <════════╝ ║ discourse:sp\n",
      "矣 PART <══════════╝ discourse:sp\n"
     ]
    },
    {
     "name": "stderr",
     "output_type": "stream",
     "text": [
      "\r"
     ]
    }
   ],
   "source": [
    "ex2 = nlp(\"亦有仁義而已矣\")\n",
    "render(ex2)"
   ]
  },
  {
   "cell_type": "code",
   "execution_count": 5,
   "metadata": {},
   "outputs": [
    {
     "name": "stderr",
     "output_type": "stream",
     "text": [
      "                                                   "
     ]
    },
    {
     "name": "stdout",
     "output_type": "stream",
     "text": [
      "不 ADV  <════╗ advmod\n",
      "違 VERB ═══╗═╝ ROOT\n",
      "農 NOUN <╗ ║   nmod\n",
      "時 NOUN ═╝<╝   obj\n"
     ]
    },
    {
     "name": "stderr",
     "output_type": "stream",
     "text": [
      "\r"
     ]
    }
   ],
   "source": [
    "ex3 = nlp(\"不違農時\")\n",
    "render(ex3)"
   ]
  },
  {
   "cell_type": "code",
   "execution_count": 6,
   "metadata": {},
   "outputs": [
    {
     "name": "stderr",
     "output_type": "stream",
     "text": [
      "                                                   "
     ]
    },
    {
     "name": "stdout",
     "output_type": "stream",
     "text": [
      "未 ADV   <════════════╗   advmod\n",
      "有 VERB  ═══════════╗═╝═╗ ROOT\n",
      "仁 VERB  ═╗═════╗<╗ ║   ║ acl\n",
      "義 VERB  <╝     ║ ║ ║   ║ flat:vv\n",
      "而 CCONJ <════╗ ║ ║ ║   ║ cc\n",
      "遺 VERB  ═══╗═╝<╝ ║ ║   ║ conj\n",
      "其 PRON  <╗ ║     ║ ║   ║ det\n",
      "親 NOUN  ═╝<╝     ║ ║   ║ obj\n",
      "者 PART  ═════════╝<╝   ║ obj\n",
      "也 PART  <══════════════╝ discourse:sp\n"
     ]
    },
    {
     "name": "stderr",
     "output_type": "stream",
     "text": [
      "\r"
     ]
    }
   ],
   "source": [
    "ex4 = nlp(\"未有仁義而遺其親者也\")\n",
    "render(ex4)"
   ]
  }
 ],
 "metadata": {
  "interpreter": {
   "hash": "0364c37b15e7a6e1c36ca05f1a9e06ef739d4c2650a4a4d0869c3126484e1dba"
  },
  "kernelspec": {
   "display_name": "Python 3.8.10 ('nlp')",
   "language": "python",
   "name": "python3"
  },
  "language_info": {
   "codemirror_mode": {
    "name": "ipython",
    "version": 3
   },
   "file_extension": ".py",
   "mimetype": "text/x-python",
   "name": "python",
   "nbconvert_exporter": "python",
   "pygments_lexer": "ipython3",
   "version": "3.8.10"
  },
  "orig_nbformat": 4
 },
 "nbformat": 4,
 "nbformat_minor": 2
}
