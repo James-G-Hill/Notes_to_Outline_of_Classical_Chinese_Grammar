{
 "cells": [
  {
   "cell_type": "markdown",
   "metadata": {},
   "source": [
    "# II. Some Basic Principles of Chinese Syntax"
   ]
  },
  {
   "cell_type": "code",
   "execution_count": 3,
   "metadata": {},
   "outputs": [
    {
     "name": "stderr",
     "output_type": "stream",
     "text": [
      "Some weights of the model checkpoint at KoichiYasuoka/roberta-classical-chinese-large-char were not used when initializing RobertaModel: ['lm_head.decoder.bias', 'lm_head.decoder.weight', 'lm_head.bias', 'lm_head.layer_norm.bias', 'lm_head.dense.bias', 'lm_head.dense.weight', 'lm_head.layer_norm.weight']\n",
      "- This IS expected if you are initializing RobertaModel from the checkpoint of a model trained on another task or with another architecture (e.g. initializing a BertForSequenceClassification model from a BertForPreTraining model).\n",
      "- This IS NOT expected if you are initializing RobertaModel from the checkpoint of a model that you expect to be exactly identical (initializing a BertForSequenceClassification model from a BertForSequenceClassification model).\n"
     ]
    }
   ],
   "source": [
    "from deplacy import (\n",
    "    dot,\n",
    "    render,\n",
    "    to_conllu\n",
    ")\n",
    "from lzh_helpers.serve import serve\n",
    "from suparkanbun import load\n",
    "from transformers import logging\n",
    "\n",
    "logging.logging.disable(logging.INFO)\n",
    "\n",
    "nlp = load(BERT=\"roberta-classical-chinese-large-char\", Danku=True)"
   ]
  },
  {
   "cell_type": "markdown",
   "metadata": {},
   "source": [
    "## 2. Subject and predicate"
   ]
  },
  {
   "cell_type": "code",
   "execution_count": 5,
   "metadata": {},
   "outputs": [
    {
     "name": "stderr",
     "output_type": "stream",
     "text": [
      "                                                   \r"
     ]
    },
    {
     "data": {
      "text/html": [
       "\n",
       "        <iframe\n",
       "            width=\"100%\"\n",
       "            height=\"250\"\n",
       "            src=\"https://koichiyasuoka.github.io/deplacy/deplacy/viewer.svg#1%09%E5%AD%9F%E5%AD%90%09%E5%AD%9F%E5%AD%90%09PROPN%09n%2C%E5%90%8D%E8%A9%9E%2C%E4%BA%BA%2C%E8%A4%87%E5%90%88%E7%9A%84%E4%BA%BA%E5%90%8D%09NameType%3DPrs%092%09nsubj%09_%09SpaceAfter%3DNo%7CTranslit%3DMencius%0A2%09%E8%A6%8B%09%E8%A6%8B%09VERB%09v%2C%E5%8B%95%E8%A9%9E%2C%E8%A1%8C%E7%82%BA%2C%E5%8B%95%E4%BD%9C%09_%090%09ROOT%09_%09SpaceAfter%3DNo%7CTranslit%3Dsee%0A3%09%E6%A2%81%09%E6%A2%81%09PROPN%09n%2C%E5%90%8D%E8%A9%9E%2C%E4%B8%BB%E4%BD%93%2C%E5%9B%BD%E5%90%8D%09Case%3DLoc%7CNameType%3DNat%095%09nmod%09_%09SpaceAfter%3DNo%7CTranslit%3D%5Bcountry-name%5D%0A4%09%E6%83%A0%09%E6%83%A0%09PROPN%09n%2C%E5%90%8D%E8%A9%9E%2C%E4%BA%BA%2C%E3%81%9D%E3%81%AE%E4%BB%96%E3%81%AE%E4%BA%BA%E5%90%8D%09NameType%3DPrs%095%09compound%09_%09SpaceAfter%3DNo%7CTranslit%3DHui%0A5%09%E7%8E%8B%09%E7%8E%8B%09NOUN%09n%2C%E5%90%8D%E8%A9%9E%2C%E4%BA%BA%2C%E5%BD%B9%E5%89%B2%09_%092%09obj%09_%09SpaceAfter%3DNo%7CTranslit%3Dking%0A%0A\"\n",
       "            frameborder=\"0\"\n",
       "            allowfullscreen\n",
       "            style=\"background-color: white;\"\n",
       "        ></iframe>\n",
       "        "
      ],
      "text/plain": [
       "<IPython.lib.display.IFrame at 0x7fb9dfe27790>"
      ]
     },
     "metadata": {},
     "output_type": "display_data"
    }
   ],
   "source": [
    "ex1 = nlp(\"孟子見梁惠王\")\n",
    "serve(ex1, 250)"
   ]
  },
  {
   "cell_type": "code",
   "execution_count": 7,
   "metadata": {},
   "outputs": [
    {
     "name": "stderr",
     "output_type": "stream",
     "text": [
      "                                                   \r"
     ]
    },
    {
     "data": {
      "text/html": [
       "\n",
       "        <iframe\n",
       "            width=\"100%\"\n",
       "            height=\"300\"\n",
       "            src=\"https://koichiyasuoka.github.io/deplacy/deplacy/viewer.svg#1%09%E4%BA%A6%09%E4%BA%A6%09ADV%09v%2C%E5%89%AF%E8%A9%9E%2C%E9%A0%BB%E5%BA%A6%2C%E9%87%8D%E8%A4%87%09_%092%09advmod%09_%09SpaceAfter%3DNo%7CTranslit%3Dalso%0A2%09%E6%9C%89%09%E6%9C%89%09VERB%09v%2C%E5%8B%95%E8%A9%9E%2C%E5%AD%98%E5%9C%A8%2C%E5%AD%98%E5%9C%A8%09_%090%09ROOT%09_%09SpaceAfter%3DNo%7CTranslit%3Dhave%0A3%09%E4%BB%81%09%E4%BB%81%09NOUN%09n%2C%E5%90%8D%E8%A9%9E%2C%E6%8F%8F%E5%86%99%2C%E6%85%8B%E5%BA%A6%09_%092%09obj%09_%09SpaceAfter%3DNo%7CTranslit%3Dbenevolence%0A4%09%E7%BE%A9%09%E7%BE%A9%09NOUN%09n%2C%E5%90%8D%E8%A9%9E%2C%E6%8F%8F%E5%86%99%2C%E6%85%8B%E5%BA%A6%09_%093%09conj%09_%09SpaceAfter%3DNo%7CTranslit%3Drighteousness%0A5%09%E8%80%8C%09%E8%80%8C%09PART%09p%2C%E5%8A%A9%E8%A9%9E%2C%E5%8F%A5%E6%9C%AB%2C%2A%09_%092%09discourse%3Asp%09_%09SpaceAfter%3DNo%7CTranslit%3Dand%0A6%09%E5%B7%B2%09%E5%B7%B2%09PART%09p%2C%E5%8A%A9%E8%A9%9E%2C%E5%8F%A5%E6%9C%AB%2C%2A%09_%092%09discourse%3Asp%09_%09SpaceAfter%3DNo%7CTranslit%3Donly%0A7%09%E7%9F%A3%09%E7%9F%A3%09PART%09p%2C%E5%8A%A9%E8%A9%9E%2C%E5%8F%A5%E6%9C%AB%2C%2A%09_%092%09discourse%3Asp%09_%09SpaceAfter%3DNo%7CTranslit%3D%5BPFV%5D%0A%0A\"\n",
       "            frameborder=\"0\"\n",
       "            allowfullscreen\n",
       "            style=\"background-color: white;\"\n",
       "        ></iframe>\n",
       "        "
      ],
      "text/plain": [
       "<IPython.lib.display.IFrame at 0x7fb9dfe27f10>"
      ]
     },
     "metadata": {},
     "output_type": "display_data"
    }
   ],
   "source": [
    "ex2 = nlp(\"亦有仁義而已矣\")\n",
    "serve(ex2, 300)"
   ]
  },
  {
   "cell_type": "code",
   "execution_count": 8,
   "metadata": {},
   "outputs": [
    {
     "name": "stderr",
     "output_type": "stream",
     "text": [
      "                                                   \r"
     ]
    },
    {
     "data": {
      "text/html": [
       "\n",
       "        <iframe\n",
       "            width=\"100%\"\n",
       "            height=\"200\"\n",
       "            src=\"https://koichiyasuoka.github.io/deplacy/deplacy/viewer.svg#1%09%E4%B8%8D%09%E4%B8%8D%09ADV%09v%2C%E5%89%AF%E8%A9%9E%2C%E5%90%A6%E5%AE%9A%2C%E7%84%A1%E7%95%8C%09Polarity%3DNeg%092%09advmod%09_%09SpaceAfter%3DNo%7CTranslit%3Dnot%0A2%09%E9%81%95%09%E9%81%95%09VERB%09v%2C%E5%8B%95%E8%A9%9E%2C%E8%A1%8C%E7%82%BA%2C%E5%8B%95%E4%BD%9C%09_%090%09ROOT%09_%09SpaceAfter%3DNo%7CTranslit%3Ddeviate%0A3%09%E8%BE%B2%09%E8%BE%B2%09NOUN%09n%2C%E5%90%8D%E8%A9%9E%2C%E8%A1%8C%E7%82%BA%2C%2A%09_%094%09nmod%09_%09SpaceAfter%3DNo%7CTranslit%3Dagriculture%0A4%09%E6%99%82%09%E6%99%82%09NOUN%09n%2C%E5%90%8D%E8%A9%9E%2C%E6%99%82%2C%2A%09Case%3DTem%092%09obj%09_%09SpaceAfter%3DNo%7CTranslit%3Dtime%0A%0A\"\n",
       "            frameborder=\"0\"\n",
       "            allowfullscreen\n",
       "            style=\"background-color: white;\"\n",
       "        ></iframe>\n",
       "        "
      ],
      "text/plain": [
       "<IPython.lib.display.IFrame at 0x7fb9ded9a1f0>"
      ]
     },
     "metadata": {},
     "output_type": "display_data"
    }
   ],
   "source": [
    "ex3 = nlp(\"不違農時\")\n",
    "serve(ex3)"
   ]
  },
  {
   "cell_type": "code",
   "execution_count": 10,
   "metadata": {},
   "outputs": [
    {
     "name": "stderr",
     "output_type": "stream",
     "text": [
      "                                                   \r"
     ]
    },
    {
     "data": {
      "text/html": [
       "\n",
       "        <iframe\n",
       "            width=\"100%\"\n",
       "            height=\"300\"\n",
       "            src=\"https://koichiyasuoka.github.io/deplacy/deplacy/viewer.svg#1%09%E6%9C%AA%09%E6%9C%AA%09ADV%09v%2C%E5%89%AF%E8%A9%9E%2C%E5%90%A6%E5%AE%9A%2C%E6%9C%89%E7%95%8C%09Polarity%3DNeg%092%09advmod%09_%09SpaceAfter%3DNo%7CTranslit%3Dnot-yet%0A2%09%E6%9C%89%09%E6%9C%89%09VERB%09v%2C%E5%8B%95%E8%A9%9E%2C%E5%AD%98%E5%9C%A8%2C%E5%AD%98%E5%9C%A8%09_%090%09ROOT%09_%09SpaceAfter%3DNo%7CTranslit%3Dhave%0A3%09%E4%BB%81%09%E4%BB%81%09VERB%09v%2C%E5%8B%95%E8%A9%9E%2C%E6%8F%8F%E5%86%99%2C%E6%85%8B%E5%BA%A6%09Degree%3DPos%099%09acl%09_%09SpaceAfter%3DNo%7CTranslit%3Dbenevolent%0A4%09%E7%BE%A9%09%E7%BE%A9%09VERB%09v%2C%E5%8B%95%E8%A9%9E%2C%E6%8F%8F%E5%86%99%2C%E6%85%8B%E5%BA%A6%09Degree%3DPos%093%09flat%3Avv%09_%09SpaceAfter%3DNo%7CTranslit%3Drighteous%0A5%09%E8%80%8C%09%E8%80%8C%09CCONJ%09p%2C%E5%8A%A9%E8%A9%9E%2C%E6%8E%A5%E7%B6%9A%2C%E4%B8%A6%E5%88%97%09_%096%09cc%09_%09SpaceAfter%3DNo%7CTranslit%3Dand%0A6%09%E9%81%BA%09%E9%81%BA%09VERB%09v%2C%E5%8B%95%E8%A9%9E%2C%E8%A1%8C%E7%82%BA%2C%E5%BE%97%E5%A4%B1%09_%093%09conj%09_%09SpaceAfter%3DNo%7CTranslit%3Dleave-behind%0A7%09%E5%85%B6%09%E5%85%B6%09PRON%09n%2C%E4%BB%A3%E5%90%8D%E8%A9%9E%2C%E4%BA%BA%E7%A7%B0%2C%E8%B5%B7%E6%A0%BC%09Person%3D3%7CPronType%3DPrs%098%09det%09_%09SpaceAfter%3DNo%7CTranslit%3D%5B3PRON%5D%0A8%09%E8%A6%AA%09%E8%A6%AA%09NOUN%09n%2C%E5%90%8D%E8%A9%9E%2C%E4%BA%BA%2C%E9%96%A2%E4%BF%82%09_%096%09obj%09_%09SpaceAfter%3DNo%7CTranslit%3Dparent%0A9%09%E8%80%85%09%EF%A9%9B%09PART%09p%2C%E5%8A%A9%E8%A9%9E%2C%E6%8F%90%E7%A4%BA%2C%2A%09_%092%09obj%09_%09SpaceAfter%3DNo%7CTranslit%3Dthat-which%0A10%09%E4%B9%9F%09%E4%B9%9F%09PART%09p%2C%E5%8A%A9%E8%A9%9E%2C%E5%8F%A5%E6%9C%AB%2C%2A%09_%092%09discourse%3Asp%09_%09SpaceAfter%3DNo%7CTranslit%3D%5Bfinal-particle%5D%0A%0A\"\n",
       "            frameborder=\"0\"\n",
       "            allowfullscreen\n",
       "            style=\"background-color: white;\"\n",
       "        ></iframe>\n",
       "        "
      ],
      "text/plain": [
       "<IPython.lib.display.IFrame at 0x7fba7865f850>"
      ]
     },
     "metadata": {},
     "output_type": "display_data"
    }
   ],
   "source": [
    "ex4 = nlp(\"未有仁義而遺其親者也\")\n",
    "serve(ex4, 300)"
   ]
  }
 ],
 "metadata": {
  "interpreter": {
   "hash": "0364c37b15e7a6e1c36ca05f1a9e06ef739d4c2650a4a4d0869c3126484e1dba"
  },
  "kernelspec": {
   "display_name": "Python 3.8.10 ('nlp')",
   "language": "python",
   "name": "python3"
  },
  "language_info": {
   "codemirror_mode": {
    "name": "ipython",
    "version": 3
   },
   "file_extension": ".py",
   "mimetype": "text/x-python",
   "name": "python",
   "nbconvert_exporter": "python",
   "pygments_lexer": "ipython3",
   "version": "3.8.10"
  },
  "orig_nbformat": 4
 },
 "nbformat": 4,
 "nbformat_minor": 2
}
