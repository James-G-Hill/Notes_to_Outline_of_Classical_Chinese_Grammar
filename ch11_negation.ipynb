{
 "cells": [
  {
   "cell_type": "markdown",
   "metadata": {},
   "source": [
    "# XI. Negation"
   ]
  },
  {
   "cell_type": "code",
   "execution_count": 2,
   "metadata": {},
   "outputs": [
    {
     "name": "stderr",
     "output_type": "stream",
     "text": [
      "Some weights of the model checkpoint at KoichiYasuoka/roberta-classical-chinese-large-char were not used when initializing RobertaModel: ['lm_head.layer_norm.bias', 'lm_head.dense.bias', 'lm_head.dense.weight', 'lm_head.layer_norm.weight', 'lm_head.bias', 'lm_head.decoder.weight', 'lm_head.decoder.bias']\n",
      "- This IS expected if you are initializing RobertaModel from the checkpoint of a model trained on another task or with another architecture (e.g. initializing a BertForSequenceClassification model from a BertForPreTraining model).\n",
      "- This IS NOT expected if you are initializing RobertaModel from the checkpoint of a model that you expect to be exactly identical (initializing a BertForSequenceClassification model from a BertForSequenceClassification model).\n"
     ]
    }
   ],
   "source": [
    "from deplacy import render\n",
    "from suparkanbun import load\n",
    "from transformers import logging\n",
    "\n",
    "logging.logging.disable(logging.INFO)\n",
    "\n",
    "nlp = load(BERT=\"roberta-classical-chinese-large-char\", Danku=False)"
   ]
  },
  {
   "cell_type": "markdown",
   "metadata": {},
   "source": [
    "## 1. P/f Negatives"
   ]
  },
  {
   "cell_type": "markdown",
   "metadata": {},
   "source": [
    "### a. 不"
   ]
  },
  {
   "cell_type": "markdown",
   "metadata": {},
   "source": [
    "### b. 否"
   ]
  },
  {
   "cell_type": "code",
   "execution_count": 3,
   "metadata": {},
   "outputs": [
    {
     "name": "stderr",
     "output_type": "stream",
     "text": [
      "                                                   "
     ]
    },
    {
     "name": "stdout",
     "output_type": "stream",
     "text": [
      "則 ADV  <════╗   advmod\n",
      "王 NOUN <══╗ ║   nsubj\n",
      "許 VERB ═╗═╝═╝═╗ ROOT\n",
      "之 PRON <╝     ║ obj\n",
      "乎 PART <══════╝ discourse:sp\n",
      "曰 VERB ═╗       ROOT\n",
      "否 VERB <╝       obj\n"
     ]
    },
    {
     "name": "stderr",
     "output_type": "stream",
     "text": [
      "\r"
     ]
    }
   ],
   "source": [
    "ex372 = nlp(\"則王許之乎\\n曰否\")\n",
    "render(ex372)"
   ]
  },
  {
   "cell_type": "code",
   "execution_count": 4,
   "metadata": {},
   "outputs": [
    {
     "name": "stderr",
     "output_type": "stream",
     "text": [
      "                                                   "
     ]
    },
    {
     "name": "stdout",
     "output_type": "stream",
     "text": [
      "如 VERB ═╗<════╗   advcl\n",
      "此 PRON <╝     ║   obj\n",
      "則 ADV  <════╗ ║   advmod\n",
      "動 VERB ═╗═╗═╝═╝═╗ ROOT\n",
      "心 NOUN <╝ ║     ║ obj\n",
      "否 VERB <══╝     ║ advmod\n",
      "乎 PART <════════╝ discourse:sp\n"
     ]
    },
    {
     "name": "stderr",
     "output_type": "stream",
     "text": [
      "\r"
     ]
    }
   ],
   "source": [
    "ex373 = nlp(\"如此則動心否乎\")\n",
    "render(ex373)"
   ]
  },
  {
   "cell_type": "code",
   "execution_count": 5,
   "metadata": {},
   "outputs": [
    {
     "name": "stderr",
     "output_type": "stream",
     "text": [
      "                                                   "
     ]
    },
    {
     "name": "stdout",
     "output_type": "stream",
     "text": [
      "告 VERB <══╗   advmod\n",
      "則 ADV  <╗ ║   advmod\n",
      "書 VERB ═╝═╝═╗ ROOT\n",
      "不 ADV  <╗   ║ advmod\n",
      "然 VERB ═╝<╗ ║ advcl\n",
      "則 ADV  <╗ ║ ║ advmod\n",
      "否 VERB ═╝═╝<╝ parataxis\n"
     ]
    },
    {
     "name": "stderr",
     "output_type": "stream",
     "text": [
      "\r"
     ]
    }
   ],
   "source": [
    "ex374 = nlp(\"告則書不然則否\")\n",
    "render(ex374)"
   ]
  },
  {
   "cell_type": "code",
   "execution_count": 7,
   "metadata": {},
   "outputs": [
    {
     "name": "stderr",
     "output_type": "stream",
     "text": [
      "                                                   "
     ]
    },
    {
     "name": "stdout",
     "output_type": "stream",
     "text": [
      "義 VERB  <══╗     advmod\n",
      "則 ADV   <╗ ║     advmod\n",
      "進 VERB  ═╝═╝     ROOT\n",
      "否 VERB  <══════╗ advmod\n",
      "則 ADV   <══╗   ║ advmod\n",
      "奉 VERB  ═╗═╝═╗═╝ ROOT\n",
      "身 NOUN  <╝   ║   obj\n",
      "而 CCONJ <╗   ║   cc\n",
      "退 VERB  ═╝<══╝   conj\n"
     ]
    },
    {
     "name": "stderr",
     "output_type": "stream",
     "text": [
      "\r"
     ]
    }
   ],
   "source": [
    "ex375 = nlp(\"義則進\\n否則奉身而退\")\n",
    "render(ex375)"
   ]
  },
  {
   "cell_type": "code",
   "execution_count": 9,
   "metadata": {},
   "outputs": [
    {
     "name": "stderr",
     "output_type": "stream",
     "text": [
      "                                                   "
     ]
    },
    {
     "name": "stdout",
     "output_type": "stream",
     "text": [
      "知 VERB <══╗ nsubj\n",
      "可 VERB <╗ ║ aux\n",
      "否 VERB ═╝═╝ ROOT\n",
      "知 VERB ═╗   ROOT\n",
      "也 PART <╝   discourse:sp\n"
     ]
    },
    {
     "name": "stderr",
     "output_type": "stream",
     "text": [
      "\r"
     ]
    }
   ],
   "source": [
    "ex376 = nlp(\"知可否\\n知也\")\n",
    "render(ex376)"
   ]
  },
  {
   "cell_type": "markdown",
   "metadata": {},
   "source": [
    "### c. 弗"
   ]
  },
  {
   "cell_type": "code",
   "execution_count": 10,
   "metadata": {},
   "outputs": [
    {
     "name": "stderr",
     "output_type": "stream",
     "text": [
      "                                                   "
     ]
    },
    {
     "name": "stdout",
     "output_type": "stream",
     "text": [
      "得 VERB ═╗<╗   advcl\n",
      "之 PRON <╝ ║   obj\n",
      "則 ADV  <╗ ║   advmod\n",
      "生 VERB ═╝═╝═╗ ROOT\n",
      "弗 ADV  <╗   ║ advmod\n",
      "得 VERB ═╝<╗ ║ advcl\n",
      "則 ADV  <╗ ║ ║ advmod\n",
      "死 VERB ═╝═╝<╝ parataxis\n"
     ]
    },
    {
     "name": "stderr",
     "output_type": "stream",
     "text": [
      "\r"
     ]
    }
   ],
   "source": [
    "ex377 = nlp(\"得之則生弗得則死\")\n",
    "render(ex377)"
   ]
  },
  {
   "cell_type": "code",
   "execution_count": 11,
   "metadata": {},
   "outputs": [
    {
     "name": "stderr",
     "output_type": "stream",
     "text": [
      "                                                   "
     ]
    },
    {
     "name": "stdout",
     "output_type": "stream",
     "text": [
      "孔子 PROPN <════╗   nsubj\n",
      "進   VERB  ═══╗═╝═╗ ROOT\n",
      "以   VERB  ═╗<╝   ║ advcl\n",
      "禮   NOUN  <╝     ║ obj\n",
      "退   VERB  ═══╗<══╝ parataxis\n",
      "以   VERB  ═╗<╝     advcl\n",
      "義   NOUN  <╝       obj\n",
      "得   VERB  ═╗═╗<╗   advcl\n",
      "之   PRON  <╝ ║ ║   obj\n",
      "不   ADV   <╗ ║ ║   advmod\n",
      "得   VERB  ═╝<╝ ║   conj\n",
      "曰   VERB  ═══╗═╝   ROOT\n",
      "有   VERB  ═╗<╝     ccomp\n",
      "命   NOUN  <╝       obj\n"
     ]
    },
    {
     "name": "stderr",
     "output_type": "stream",
     "text": [
      "\r"
     ]
    }
   ],
   "source": [
    "ex278 = nlp(\"孔子進以禮退以義\\n得之不得曰有命\")\n",
    "render(ex278)"
   ]
  },
  {
   "cell_type": "code",
   "execution_count": 12,
   "metadata": {},
   "outputs": [
    {
     "name": "stderr",
     "output_type": "stream",
     "text": [
      "                                                   "
     ]
    },
    {
     "name": "stdout",
     "output_type": "stream",
     "text": [
      "自 ADP   <╗             case\n",
      "今 NOUN  ═╝<════════╗   obl:tmod\n",
      "鄭 PROPN <╗         ║   compound\n",
      "國 NOUN  ═╝<══════╗ ║   nsubj\n",
      "不 ADV   <══╗     ║ ║   advmod\n",
      "四 NUM   ═╗═╝<╗   ║ ║   nummod\n",
      "五 NUM   <╝   ║   ║ ║   conj\n",
      "年 NOUN  ═════╝<╗ ║ ║   obl:tmod\n",
      "弗 ADV   <╗     ║ ║ ║   advmod\n",
      "得 AUX   ═╝<╗   ║ ║ ║   aux\n",
      "寧 VERB  ═══╝═══╝═╝═╝═╗ ROOT\n",
      "矣 PART  <════════════╝ discourse:sp\n"
     ]
    },
    {
     "name": "stderr",
     "output_type": "stream",
     "text": [
      "\r"
     ]
    }
   ],
   "source": [
    "ex379 = nlp(\"自今鄭國不四五年弗得寧矣\")\n",
    "render(ex379)"
   ]
  },
  {
   "cell_type": "code",
   "execution_count": 13,
   "metadata": {},
   "outputs": [
    {
     "name": "stderr",
     "output_type": "stream",
     "text": [
      "                                                   "
     ]
    },
    {
     "name": "stdout",
     "output_type": "stream",
     "text": [
      "雖 ADV  <════╗     advmod\n",
      "與 ADP  <╗   ║     case\n",
      "之 PRON ═╝<╗ ║     obl\n",
      "俱 ADV  <╗ ║ ║     advmod\n",
      "學 VERB ═╝═╝═╝<╗   advcl\n",
      "弗 ADV  <══╗   ║   advmod\n",
      "若 VERB ═╗═╝═══╝═╗ ROOT\n",
      "之 PRON <╝       ║ obj\n",
      "矣 PART <════════╝ discourse:sp\n"
     ]
    },
    {
     "name": "stderr",
     "output_type": "stream",
     "text": [
      "\r"
     ]
    }
   ],
   "source": [
    "ex380 = nlp(\"雖與之俱學弗若之矣\")\n",
    "render(ex380)"
   ]
  },
  {
   "cell_type": "markdown",
   "metadata": {},
   "source": [
    "### d. 非"
   ]
  },
  {
   "cell_type": "code",
   "execution_count": 14,
   "metadata": {},
   "outputs": [
    {
     "name": "stderr",
     "output_type": "stream",
     "text": [
      "                                                   "
     ]
    },
    {
     "name": "stdout",
     "output_type": "stream",
     "text": [
      "非 ADV  <══╗         advmod\n",
      "其 PRON <╗ ║         det\n",
      "道 NOUN ═╝═╝<══════╗ advcl\n",
      "則 ADV  <════════╗ ║ advmod\n",
      "一 NUM  <╗       ║ ║ nummod\n",
      "簞 NOUN ═╝<╗     ║ ║ nmod\n",
      "食 NOUN ═══╝<══╗ ║ ║ nsubj\n",
      "不 ADV  <╗     ║ ║ ║ advmod\n",
      "可 AUX  ═╝<══╗ ║ ║ ║ aux\n",
      "受 VERB ═══╗═╝═╝═╝═╝ ROOT\n",
      "於 ADP  <╗ ║         case\n",
      "人 NOUN ═╝<╝         obl\n"
     ]
    },
    {
     "name": "stderr",
     "output_type": "stream",
     "text": [
      "\r"
     ]
    }
   ],
   "source": [
    "ex381 = nlp(\"非其道則一簞食不可受於人\")\n",
    "render(ex381)"
   ]
  },
  {
   "cell_type": "code",
   "execution_count": 15,
   "metadata": {},
   "outputs": [
    {
     "name": "stderr",
     "output_type": "stream",
     "text": [
      "                                                   "
     ]
    },
    {
     "name": "stdout",
     "output_type": "stream",
     "text": [
      "今 NOUN  ═╗<══════════╗ obl:tmod\n",
      "也 PART  <╝           ║ case\n",
      "南 NOUN  <══════╗     ║ nmod\n",
      "蠻 NOUN  ═══╗═╗═╝<╗   ║ nmod\n",
      "鴃 NOUN  <╗ ║ ║   ║   ║ nmod\n",
      "舌 NOUN  ═╝<╝ ║   ║   ║ conj\n",
      "之 SCONJ <════╝   ║   ║ case\n",
      "人 NOUN  ═════════╝<╗ ║ nsubj\n",
      "非 ADV   <══════╗   ║ ║ advmod\n",
      "先 NOUN  <══╗   ║   ║ ║ nmod\n",
      "王 NOUN  ═╗═╝<╗ ║   ║ ║ nmod\n",
      "之 SCONJ <╝   ║ ║   ║ ║ case\n",
      "道 NOUN  ═════╝═╝═══╝═╝ ROOT\n"
     ]
    },
    {
     "name": "stderr",
     "output_type": "stream",
     "text": [
      "\r"
     ]
    }
   ],
   "source": [
    "ex382 = nlp(\"今也南蠻鴃舌之人非先王之道\")\n",
    "render(ex382)"
   ]
  },
  {
   "cell_type": "markdown",
   "metadata": {},
   "source": [
    "### e. 叵"
   ]
  },
  {
   "cell_type": "markdown",
   "metadata": {},
   "source": [
    "### f. 盍"
   ]
  },
  {
   "cell_type": "markdown",
   "metadata": {},
   "source": [
    "## M/w Negatives"
   ]
  },
  {
   "cell_type": "markdown",
   "metadata": {},
   "source": [
    "### a. 毋, 無 and 无"
   ]
  },
  {
   "cell_type": "markdown",
   "metadata": {},
   "source": [
    "#### i. 毋 (無) as prohibitive particle"
   ]
  },
  {
   "cell_type": "code",
   "execution_count": 16,
   "metadata": {},
   "outputs": [
    {
     "name": "stderr",
     "output_type": "stream",
     "text": [
      "                                                   "
     ]
    },
    {
     "name": "stdout",
     "output_type": "stream",
     "text": [
      "則 ADV   <════════════╗   advmod\n",
      "無 VERB  <══════════╗ ║   advmod\n",
      "望 VERB  ═════════╗═╝═╝═╗ ROOT\n",
      "民 NOUN  ═╗<════╗ ║     ║ nsubj\n",
      "之 SCONJ <╝     ║ ║     ║ case\n",
      "多 VERB  ═════╗═╝<╝     ║ ccomp\n",
      "於 ADP   <══╗ ║         ║ case\n",
      "鄰 NOUN  <╗ ║ ║         ║ nmod\n",
      "國 NOUN  ═╝═╝<╝         ║ obl\n",
      "也 PART  <══════════════╝ discourse:sp\n"
     ]
    },
    {
     "name": "stderr",
     "output_type": "stream",
     "text": [
      "\r"
     ]
    }
   ],
   "source": [
    "ex383 = nlp(\"則無望民之多於鄰國也\")\n",
    "render(ex383)"
   ]
  },
  {
   "cell_type": "code",
   "execution_count": 17,
   "metadata": {},
   "outputs": [
    {
     "name": "stderr",
     "output_type": "stream",
     "text": [
      "                                                   "
     ]
    },
    {
     "name": "stdout",
     "output_type": "stream",
     "text": [
      "王 NOUN <════╗ nsubj\n",
      "無 VERB ═══╗═╝ ROOT\n",
      "罪 VERB <╗ ║   nmod\n",
      "歲 NOUN ═╝<╝   obj\n"
     ]
    },
    {
     "name": "stderr",
     "output_type": "stream",
     "text": [
      "\r"
     ]
    }
   ],
   "source": [
    "ex384 = nlp(\"王無罪歲\")\n",
    "render(ex384)"
   ]
  },
  {
   "cell_type": "code",
   "execution_count": 18,
   "metadata": {},
   "outputs": [
    {
     "name": "stderr",
     "output_type": "stream",
     "text": [
      "                                                   "
     ]
    },
    {
     "name": "stdout",
     "output_type": "stream",
     "text": [
      "雞 NOUN  ═╗═╗═╗═╗<╗   nmod\n",
      "豚 NOUN  <╝ ║ ║ ║ ║   conj\n",
      "狗 NOUN  <══╝ ║ ║ ║   conj\n",
      "彘 NOUN  <════╝ ║ ║   conj\n",
      "之 SCONJ <══════╝ ║   case\n",
      "畜 NOUN  ═════════╝<╗ nsubj\n",
      "無 VERB  <════╗     ║ advmod\n",
      "失 VERB  ═══╗═╝═════╝ ROOT\n",
      "其 PRON  <╗ ║         det\n",
      "時 NOUN  ═╝<╝         obj\n"
     ]
    },
    {
     "name": "stderr",
     "output_type": "stream",
     "text": [
      "\r"
     ]
    }
   ],
   "source": [
    "ex385 = nlp(\"雞豚狗彘之畜無失其時\")\n",
    "render(ex385)"
   ]
  },
  {
   "cell_type": "code",
   "execution_count": 19,
   "metadata": {},
   "outputs": [
    {
     "name": "stderr",
     "output_type": "stream",
     "text": [
      "                                                   "
     ]
    },
    {
     "name": "stdout",
     "output_type": "stream",
     "text": [
      "無 VERB <╗     advmod\n",
      "以 VERB ═╝<╗   advcl\n",
      "則 ADV  <╗ ║   advmod\n",
      "王 NOUN ═╝═╝═╗ ROOT\n",
      "乎 PART <════╝ discourse:sp\n"
     ]
    },
    {
     "name": "stderr",
     "output_type": "stream",
     "text": [
      "\r"
     ]
    }
   ],
   "source": [
    "ex386 = nlp(\"無以則王乎\")\n",
    "render(ex386)"
   ]
  },
  {
   "cell_type": "code",
   "execution_count": 20,
   "metadata": {},
   "outputs": [
    {
     "name": "stderr",
     "output_type": "stream",
     "text": [
      "                                                   "
     ]
    },
    {
     "name": "stdout",
     "output_type": "stream",
     "text": [
      "雖 ADV  <════╗   advmod\n",
      "欲 AUX  <══╗ ║   aux\n",
      "無 VERB <╗ ║ ║   advmod\n",
      "王 VERB ═╝═╝═╝═╗ ROOT\n",
      "不 ADV  <╗     ║ advmod\n",
      "可 AUX  ═╝<╗   ║ aux\n",
      "得 VERB ═══╝═╗<╝ parataxis\n",
      "已 PART <════╝   discourse:sp\n"
     ]
    },
    {
     "name": "stderr",
     "output_type": "stream",
     "text": [
      "\r"
     ]
    }
   ],
   "source": [
    "ex387 = nlp(\"雖欲無王不可得已\")\n",
    "render(ex387)"
   ]
  },
  {
   "cell_type": "markdown",
   "metadata": {},
   "source": [
    "#### ii. 無"
   ]
  },
  {
   "cell_type": "markdown",
   "metadata": {},
   "source": [
    "### b. 勿 'do not'"
   ]
  },
  {
   "cell_type": "code",
   "execution_count": 21,
   "metadata": {},
   "outputs": [
    {
     "name": "stderr",
     "output_type": "stream",
     "text": [
      "                                                   "
     ]
    },
    {
     "name": "stdout",
     "output_type": "stream",
     "text": [
      "王 NOUN <══════╗     nsubj\n",
      "欲 AUX  <════╗ ║     aux\n",
      "行 VERB ═══╗═╝═╝<╗   advcl\n",
      "王 NOUN <╗ ║     ║   nmod\n",
      "政 NOUN ═╝<╝     ║   obj\n",
      "則 ADV  <════╗   ║   advmod\n",
      "勿 ADV  <══╗ ║   ║   advmod\n",
      "毁 VERB ═╗═╝═╝═══╝═╗ ROOT\n",
      "之 PRON <╝         ║ obj\n",
      "矣 PART <══════════╝ discourse:sp\n"
     ]
    },
    {
     "name": "stderr",
     "output_type": "stream",
     "text": [
      "\r"
     ]
    }
   ],
   "source": [
    "ex388 = nlp(\"王欲行王政則勿毁之矣\")\n",
    "render(ex388)"
   ]
  },
  {
   "cell_type": "code",
   "execution_count": 22,
   "metadata": {},
   "outputs": [
    {
     "name": "stderr",
     "output_type": "stream",
     "text": [
      "                                                   "
     ]
    },
    {
     "name": "stdout",
     "output_type": "stream",
     "text": [
      "白 NOUN  ═╗═╗<╗   nmod\n",
      "畝 NOUN  <╝ ║ ║   clf\n",
      "之 SCONJ <══╝ ║   case\n",
      "田 NOUN  ═════╝<╗ nsubj\n",
      "勿 ADV   <════╗ ║ advmod\n",
      "奪 VERB  ═══╗═╝═╝ ROOT\n",
      "其 PRON  <╗ ║     det\n",
      "時 NOUN  ═╝<╝     obj\n"
     ]
    },
    {
     "name": "stderr",
     "output_type": "stream",
     "text": [
      "\r"
     ]
    }
   ],
   "source": [
    "ex389 = nlp(\"白畝之田勿奪其時\")\n",
    "render(ex389)"
   ]
  },
  {
   "cell_type": "code",
   "execution_count": 23,
   "metadata": {},
   "outputs": [
    {
     "name": "stderr",
     "output_type": "stream",
     "text": [
      "                                                   "
     ]
    },
    {
     "name": "stdout",
     "output_type": "stream",
     "text": [
      "人 NOUN <════╗   nsubj\n",
      "皆 ADV  <══╗ ║   advmod\n",
      "有 VERB ═╗═╝═╝   ROOT\n",
      "之 PRON <╝       obj\n",
      "賢 VERB <╗       amod\n",
      "者 PART ═╝<══╗   nsubj\n",
      "能 AUX  <══╗ ║   aux\n",
      "勿 ADV  <╗ ║ ║   advmod\n",
      "喪 VERB ═╝═╝═╝═╗ ROOT\n",
      "耳 PART <══════╝ discourse:sp\n"
     ]
    },
    {
     "name": "stderr",
     "output_type": "stream",
     "text": [
      "\r"
     ]
    }
   ],
   "source": [
    "ex390 = nlp(\"人皆有之\\n賢者能勿喪耳\")\n",
    "render(ex390)"
   ]
  },
  {
   "cell_type": "markdown",
   "metadata": {},
   "source": [
    "### c. 亡"
   ]
  },
  {
   "cell_type": "code",
   "execution_count": 24,
   "metadata": {},
   "outputs": [
    {
     "name": "stderr",
     "output_type": "stream",
     "text": [
      "                                                   "
     ]
    },
    {
     "name": "stdout",
     "output_type": "stream",
     "text": [
      "人 NOUN <══════╗ nsubj\n",
      "皆 ADV  <════╗ ║ advmod\n",
      "有 VERB ═══╗═╝═╝ ROOT\n",
      "兄 NOUN ═╗<╝     obj\n",
      "弟 NOUN <╝       flat\n",
      "我 PRON <══╗     nsubj\n",
      "獨 VERB <╗ ║     advmod\n",
      "亡 VERB ═╝═╝     ROOT\n"
     ]
    },
    {
     "name": "stderr",
     "output_type": "stream",
     "text": [
      "\r"
     ]
    }
   ],
   "source": [
    "ex391 = nlp(\"人皆有兄弟\\n我獨亡\")\n",
    "render(ex391)"
   ]
  },
  {
   "cell_type": "code",
   "execution_count": 25,
   "metadata": {},
   "outputs": [
    {
     "name": "stderr",
     "output_type": "stream",
     "text": [
      "                                                   "
     ]
    },
    {
     "name": "stdout",
     "output_type": "stream",
     "text": [
      "問 VERB ═══╗ ROOT\n",
      "有 VERB ═╗<╝ ccomp\n",
      "餘 NOUN <╝   obj\n",
      "曰 VERB ═╗═╗ ROOT\n",
      "亡 VERB <╝ ║ obj\n",
      "矣 PART <══╝ discourse:sp\n"
     ]
    },
    {
     "name": "stderr",
     "output_type": "stream",
     "text": [
      "\r"
     ]
    }
   ],
   "source": [
    "ex392 = nlp(\"問有餘\\n曰亡矣\")\n",
    "render(ex392)"
   ]
  },
  {
   "cell_type": "markdown",
   "metadata": {},
   "source": [
    "### d. 罔"
   ]
  },
  {
   "cell_type": "markdown",
   "metadata": {},
   "source": [
    "### e. 莫"
   ]
  },
  {
   "cell_type": "markdown",
   "metadata": {},
   "source": [
    "### f. 未"
   ]
  },
  {
   "cell_type": "code",
   "execution_count": 28,
   "metadata": {},
   "outputs": [
    {
     "name": "stderr",
     "output_type": "stream",
     "text": [
      "                                                   "
     ]
    },
    {
     "name": "stdout",
     "output_type": "stream",
     "text": [
      "見 VERB ═══════╗═╗ ROOT\n",
      "牛 NOUN <════╗ ║ ║ nsubj\n",
      "未 ADV  <══╗ ║ ║ ║ advmod\n",
      "見 VERB ═╗═╝═╝<╝ ║ ccomp\n",
      "羊 NOUN <╝       ║ obj\n",
      "也 PART <════════╝ discourse:sp\n"
     ]
    },
    {
     "name": "stderr",
     "output_type": "stream",
     "text": [
      "\r"
     ]
    }
   ],
   "source": [
    "ex393 = nlp(\"見牛未見羊也\")\n",
    "render(ex393)"
   ]
  },
  {
   "cell_type": "markdown",
   "metadata": {},
   "source": [
    "### g. 微"
   ]
  },
  {
   "cell_type": "code",
   "execution_count": 29,
   "metadata": {},
   "outputs": [
    {
     "name": "stderr",
     "output_type": "stream",
     "text": [
      "                                                   "
     ]
    },
    {
     "name": "stdout",
     "output_type": "stream",
     "text": [
      "微 VERB  ═╗═════╗ ROOT\n",
      "禹 PROPN <╝     ║ obj\n",
      "吾 PRON  <╗     ║ nsubj\n",
      "其 PRON   ║<╗   ║ discourse\n",
      "魚 NOUN  ═╝═╝═╗<╝ parataxis\n",
      "乎 PART  <════╝   discourse:sp\n"
     ]
    },
    {
     "name": "stderr",
     "output_type": "stream",
     "text": [
      "\r"
     ]
    }
   ],
   "source": [
    "ex394 = nlp(\"微禹吾其魚乎\")\n",
    "render(ex394)"
   ]
  },
  {
   "cell_type": "markdown",
   "metadata": {},
   "source": [
    "### h. 靡"
   ]
  },
  {
   "cell_type": "code",
   "execution_count": 30,
   "metadata": {},
   "outputs": [
    {
     "name": "stderr",
     "output_type": "stream",
     "text": [
      "                                                   "
     ]
    },
    {
     "name": "stdout",
     "output_type": "stream",
     "text": [
      "天 NOUN <╗   nmod\n",
      "命 NOUN ═╝<╗ nsubj\n",
      "靡 VERB ═╗═╝ ROOT\n",
      "常 NOUN <╝   obj\n"
     ]
    },
    {
     "name": "stderr",
     "output_type": "stream",
     "text": [
      "\r"
     ]
    }
   ],
   "source": [
    "ex395 = nlp(\"天命靡常\")\n",
    "render(ex395)"
   ]
  },
  {
   "cell_type": "markdown",
   "metadata": {},
   "source": [
    "### i. 蔑"
   ]
  },
  {
   "cell_type": "code",
   "execution_count": 31,
   "metadata": {},
   "outputs": [
    {
     "name": "stderr",
     "output_type": "stream",
     "text": [
      "                                                   "
     ]
    },
    {
     "name": "stdout",
     "output_type": "stream",
     "text": [
      "臣   NOUN  <════╗ nsubj\n",
      "出   VERB  ═══╗═╝ ROOT\n",
      "晉   PROPN <╗ ║   nmod\n",
      "君   NOUN  ═╝<╝   obj\n",
      "君   NOUN  <══╗   nsubj\n",
      "納   VERB  ═╗═╝   ROOT\n",
      "重耳 PROPN <╝     obj\n",
      "蔑   ADV   <══╗   advmod\n",
      "不   ADV   <╗ ║   advmod\n",
      "濟   VERB  ═╝═╝═╗ ROOT\n",
      "矣   PART  <════╝ discourse:sp\n"
     ]
    },
    {
     "name": "stderr",
     "output_type": "stream",
     "text": [
      "\r"
     ]
    }
   ],
   "source": [
    "ex396 = nlp(\"臣出晉君\\n君納重耳\\n蔑不濟矣\")\n",
    "render(ex396)"
   ]
  },
  {
   "cell_type": "markdown",
   "metadata": {},
   "source": [
    "### j. 末"
   ]
  },
  {
   "cell_type": "code",
   "execution_count": 32,
   "metadata": {},
   "outputs": [
    {
     "name": "stderr",
     "output_type": "stream",
     "text": [
      "                                                   "
     ]
    },
    {
     "name": "stdout",
     "output_type": "stream",
     "text": [
      "不 ADV  <══════════╗   advmod\n",
      "曰 VERB ═══════╗═╗═╝   ROOT\n",
      "如 VERB ═╗═╗═╗<╝ ║     ccomp\n",
      "之 PRON <╝ ║ ║   ║     obj\n",
      "何 PRON <══╝ ║   ║     xcomp\n",
      "如 VERB ═╗═╗<╝   ║     conj\n",
      "之 PRON <╝ ║     ║     obj\n",
      "何 PRON <══╝     ║     xcomp\n",
      "者 PART <════════╝     obj\n",
      "吾 PRON <════════════╗ nsubj\n",
      "末 VERB ═══════════╗═╝ ROOT\n",
      "如 VERB ═╗═╗═╗═╗═╗<╝   ccomp\n",
      "之 PRON <╝ ║ ║ ║ ║     obj\n",
      "何 PRON <══╝ ║ ║ ║     xcomp\n",
      "也 PART <════╝ ║ ║     discourse:sp\n",
      "已 PART <══════╝ ║     discourse:sp\n",
      "矣 PART <════════╝     discourse:sp\n"
     ]
    },
    {
     "name": "stderr",
     "output_type": "stream",
     "text": [
      "\r"
     ]
    }
   ],
   "source": [
    "ex397 = nlp(\"不曰如之何如之何者\\n吾末如之何也已矣\")\n",
    "render(ex397)"
   ]
  }
 ],
 "metadata": {
  "kernelspec": {
   "display_name": "Python 3.8.10 ('nlp')",
   "language": "python",
   "name": "python3"
  },
  "language_info": {
   "codemirror_mode": {
    "name": "ipython",
    "version": 3
   },
   "file_extension": ".py",
   "mimetype": "text/x-python",
   "name": "python",
   "nbconvert_exporter": "python",
   "pygments_lexer": "ipython3",
   "version": "3.8.10"
  },
  "orig_nbformat": 4,
  "vscode": {
   "interpreter": {
    "hash": "24c7420704055a54140a02528a2609fb6bd56fcb92850f5594d6233afbe4d574"
   }
  }
 },
 "nbformat": 4,
 "nbformat_minor": 2
}
