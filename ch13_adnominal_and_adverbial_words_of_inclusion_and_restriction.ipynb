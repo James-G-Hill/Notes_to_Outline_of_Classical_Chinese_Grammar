{
 "cells": [
  {
   "cell_type": "markdown",
   "metadata": {},
   "source": [
    "# XIII. Adnominal and Adverbial Words of Inclusion and Restriction"
   ]
  },
  {
   "cell_type": "code",
   "execution_count": 1,
   "metadata": {},
   "outputs": [
    {
     "name": "stderr",
     "output_type": "stream",
     "text": [
      "Some weights of the model checkpoint at KoichiYasuoka/roberta-classical-chinese-large-char were not used when initializing RobertaModel: ['lm_head.dense.bias', 'lm_head.bias', 'lm_head.dense.weight', 'lm_head.layer_norm.bias', 'lm_head.decoder.weight', 'lm_head.decoder.bias', 'lm_head.layer_norm.weight']\n",
      "- This IS expected if you are initializing RobertaModel from the checkpoint of a model trained on another task or with another architecture (e.g. initializing a BertForSequenceClassification model from a BertForPreTraining model).\n",
      "- This IS NOT expected if you are initializing RobertaModel from the checkpoint of a model that you expect to be exactly identical (initializing a BertForSequenceClassification model from a BertForSequenceClassification model).\n"
     ]
    }
   ],
   "source": [
    "from deplacy import render\n",
    "from suparkanbun import load\n",
    "from transformers import logging\n",
    "\n",
    "logging.logging.disable(logging.INFO)\n",
    "\n",
    "nlp = load(BERT=\"roberta-classical-chinese-large-char\", Danku=False)"
   ]
  },
  {
   "cell_type": "markdown",
   "metadata": {},
   "source": [
    "## 1. Words of Inclusion"
   ]
  },
  {
   "cell_type": "markdown",
   "metadata": {},
   "source": [
    "### (a) 諸 'all; members of the class of;"
   ]
  },
  {
   "cell_type": "code",
   "execution_count": 2,
   "metadata": {},
   "outputs": [
    {
     "name": "stderr",
     "output_type": "stream",
     "text": [
      "                                                   "
     ]
    },
    {
     "name": "stdout",
     "output_type": "stream",
     "text": [
      "王 NOUN  ═╗<╗     nmod\n",
      "之 SCONJ <╝ ║     case\n",
      "諸 NOUN  <╗ ║     nmod\n",
      "臣 NOUN  ═╝═╝<══╗ nsubj\n",
      "皆 ADV   <════╗ ║ advmod\n",
      "足 AUX   ═╗<╗ ║ ║ aux\n",
      "以 VERB  <╝ ║ ║ ║ fixed\n",
      "供 VERB  ═╗═╝═╝═╝ ROOT\n",
      "之 PRON  <╝       obj\n"
     ]
    },
    {
     "name": "stderr",
     "output_type": "stream",
     "text": [
      "\r"
     ]
    }
   ],
   "source": [
    "ex445 = nlp(\"王之諸臣皆足以供之\")\n",
    "render(ex445)"
   ]
  },
  {
   "cell_type": "code",
   "execution_count": 3,
   "metadata": {},
   "outputs": [
    {
     "name": "stderr",
     "output_type": "stream",
     "text": [
      "                                                   "
     ]
    },
    {
     "name": "stdout",
     "output_type": "stream",
     "text": [
      "夫子 NOUN  ═╗<╗         nsubj\n",
      "之   SCONJ <╝ ║         case\n",
      "求   VERB  ═╗═╝═╗<══╗   csubj\n",
      "之   PRON  <╝   ║   ║   obj\n",
      "也   PART  <════╝   ║   mark\n",
      "其   PRON  <╗       ║   det\n",
      "諸   PRON  ═╝<╗     ║   obj\n",
      "異   VERB  ═══╝═╗<╗ ║   advcl\n",
      "乎   PART  <════╝ ║ ║   discourse:sp\n",
      "人   NOUN  ═╗<╗   ║ ║   nsubj\n",
      "之   SCONJ <╝ ║   ║ ║   case\n",
      "求   VERB  ═╗═╝═══╝═╝═╗ ROOT\n",
      "之   PRON  <╝         ║ obj\n",
      "與   PART  <══════════╝ discourse:sp\n"
     ]
    },
    {
     "name": "stderr",
     "output_type": "stream",
     "text": [
      "\r"
     ]
    }
   ],
   "source": [
    "ex446 = nlp(\"夫子之求之也其諸異乎人之求之與\")\n",
    "render(ex446)"
   ]
  },
  {
   "cell_type": "code",
   "execution_count": 4,
   "metadata": {},
   "outputs": [
    {
     "name": "stderr",
     "output_type": "stream",
     "text": [
      "                                                   "
     ]
    },
    {
     "name": "stdout",
     "output_type": "stream",
     "text": [
      "齊   PROPN <══╗   nsubj\n",
      "無   VERB  ═╗═╝   ROOT\n",
      "仲孙 PROPN <╝     obj\n",
      "其   PRON  <╗     det\n",
      "諸   PRON  ═╝<╗   nsubj\n",
      "吾   PRON  <╗ ║   det\n",
      "仲孙 PROPN ═╝═╝═╗ ROOT\n",
      "與   PART  <════╝ discourse:sp\n"
     ]
    },
    {
     "name": "stderr",
     "output_type": "stream",
     "text": [
      "\r"
     ]
    }
   ],
   "source": [
    "ex447 = nlp(\"齊無仲孙\\n其諸吾仲孙與\")\n",
    "render(ex447)"
   ]
  },
  {
   "cell_type": "markdown",
   "metadata": {},
   "source": [
    "### (b) 凡 'all'"
   ]
  },
  {
   "cell_type": "code",
   "execution_count": 5,
   "metadata": {},
   "outputs": [
    {
     "name": "stderr",
     "output_type": "stream",
     "text": [
      "                                                   "
     ]
    },
    {
     "name": "stdout",
     "output_type": "stream",
     "text": [
      "則 ADV  <══════╗       advmod\n",
      "凡 VERB <════╗ ║       advmod\n",
      "可 AUX  ═╗<╗ ║ ║       aux\n",
      "以 VERB <╝ ║ ║ ║       fixed\n",
      "得 VERB ═╗═╝═╝═╝<╗     acl\n",
      "生 NOUN <╝       ║     obj\n",
      "者 PART ═════════╝<╗   nsubj\n",
      "何 ADV  <══╗       ║   advmod\n",
      "不 ADV  <╗ ║       ║   advmod\n",
      "用 VERB ═╝═╝═══════╝═╗ ROOT\n",
      "也 PART <════════════╝ discourse:sp\n"
     ]
    },
    {
     "name": "stderr",
     "output_type": "stream",
     "text": [
      "\r"
     ]
    }
   ],
   "source": [
    "ex448 = nlp(\"則凡可以得生者何不用也\")\n",
    "render(ex448)"
   ]
  },
  {
   "cell_type": "code",
   "execution_count": 6,
   "metadata": {},
   "outputs": [
    {
     "name": "stderr",
     "output_type": "stream",
     "text": [
      "                                                   "
     ]
    },
    {
     "name": "stdout",
     "output_type": "stream",
     "text": [
      "天 NOUN <╗     nmod\n",
      "子 NOUN ═╝<╗   nsubj\n",
      "一 NUM  <╗ ║   nummod\n",
      "位 NOUN ═╝═╝   ROOT\n",
      "公 NOUN <══╗   nsubj\n",
      "一 NUM  <╗ ║   nummod\n",
      "位 NOUN ═╝═╝   ROOT\n",
      "侯 NOUN <══╗   nsubj\n",
      "一 NUM  <╗ ║   nummod\n",
      "位 NOUN ═╝═╝   ROOT\n",
      "伯 NOUN <══╗   nsubj\n",
      "一 NUM  <╗ ║   nummod\n",
      "位 NOUN ═╝═╝   ROOT\n",
      "子 NOUN ═╗<══╗ nsubj\n",
      "男 NOUN <╝   ║ conj\n",
      "同 ADV  <══╗ ║ advmod\n",
      "一 NUM  <╗ ║ ║ nummod\n",
      "位 NOUN ═╝═╝═╝ ROOT\n",
      "凡 VERB <══╗   advmod\n",
      "五 NUM  <╗ ║   nummod\n",
      "等 NOUN ═╝═╝═╗ ROOT\n",
      "也 PART <════╝ discourse:sp\n"
     ]
    },
    {
     "name": "stderr",
     "output_type": "stream",
     "text": [
      "\r"
     ]
    }
   ],
   "source": [
    "ex449 = nlp(\"天子一位\\n公一位\\n侯一位\\n伯一位\\n子男同一位\\n凡五等也\")\n",
    "render(ex449)"
   ]
  },
  {
   "cell_type": "markdown",
   "metadata": {},
   "source": [
    "### (c) 皆 'all', 舉 'all'"
   ]
  },
  {
   "cell_type": "code",
   "execution_count": 7,
   "metadata": {},
   "outputs": [
    {
     "name": "stderr",
     "output_type": "stream",
     "text": [
      "                                                   "
     ]
    },
    {
     "name": "stdout",
     "output_type": "stream",
     "text": [
      "百 NUM  <╗         compound\n",
      "姓 NOUN ═╝<════╗   nsubj\n",
      "皆 ADV  <══╗   ║   advmod\n",
      "以 VERB ═╗═╝<╗ ║   advcl\n",
      "王 NOUN <╝   ║ ║   obj\n",
      "為 VERB ═╗═══╝═╝═╗ ROOT\n",
      "愛 NOUN <╝       ║ obj\n",
      "也 PART <════════╝ discourse:sp\n"
     ]
    },
    {
     "name": "stderr",
     "output_type": "stream",
     "text": [
      "\r"
     ]
    }
   ],
   "source": [
    "ex450 = nlp(\"百姓皆以王為愛也\")\n",
    "render(ex450)"
   ]
  },
  {
   "cell_type": "code",
   "execution_count": 8,
   "metadata": {},
   "outputs": [
    {
     "name": "stderr",
     "output_type": "stream",
     "text": [
      "                                                   "
     ]
    },
    {
     "name": "stdout",
     "output_type": "stream",
     "text": [
      "皆 ADV  <══════════╗ advmod\n",
      "使 VERB ═══════╗═╗═╝ ROOT\n",
      "衣 NOUN ═╗═╗═╗<╝ ║   obj\n",
      "食 NOUN <╝ ║ ║   ║   conj\n",
      "百 NUM  <══╝ ║   ║   nummod\n",
      "用 VERB <════╝   ║   conj\n",
      "出 VERB ═╗═╗<════╝   xcomp\n",
      "入 VERB <╝ ║         flat:vv\n",
      "相 ADV  <╗ ║         advmod\n",
      "揜 VERB ═╝<╝         conj\n"
     ]
    },
    {
     "name": "stderr",
     "output_type": "stream",
     "text": [
      "\r"
     ]
    }
   ],
   "source": [
    "ex451 = nlp(\"皆使衣食百用出入相揜\")\n",
    "render(ex451)"
   ]
  },
  {
   "cell_type": "code",
   "execution_count": 9,
   "metadata": {},
   "outputs": [
    {
     "name": "stderr",
     "output_type": "stream",
     "text": [
      "                                                   "
     ]
    },
    {
     "name": "stdout",
     "output_type": "stream",
     "text": [
      "王 NOUN  <════╗         nsubj\n",
      "如 ADV   <══╗ ║         advmod\n",
      "用 VERB  ═╗═╝═╝<══════╗ advcl\n",
      "予 PRON  <╝           ║ obj\n",
      "則 ADV   <══════╗     ║ advmod\n",
      "豈 ADV   <══════║═══╗ ║ advmod\n",
      "徒 ADV   <════╗ ║   ║ ║ advmod\n",
      "齊 PROPN <╗   ║ ║   ║ ║ nmod\n",
      "民 NOUN  ═╝<╗ ║ ║   ║ ║ nsubj\n",
      "安 VERB  ═══╝═╝═╝<╗ ║ ║ csubj\n",
      "天 NOUN  <╗       ║ ║ ║ compound\n",
      "下 NOUN  ═╝═╗<╗   ║ ║ ║ nmod\n",
      "之 SCONJ <══╝ ║   ║ ║ ║ case\n",
      "民 NOUN  ═════╝<╗ ║ ║ ║ nsubj\n",
      "舉 ADV   <╗     ║ ║ ║ ║ advmod\n",
      "安 VERB  ═╝═════╝═╝═╝═╝ ROOT\n"
     ]
    },
    {
     "name": "stderr",
     "output_type": "stream",
     "text": [
      "\r"
     ]
    }
   ],
   "source": [
    "ex452 = nlp(\"王如用予則豈徒齊民安天下之民舉安\")\n",
    "render(ex452)"
   ]
  },
  {
   "cell_type": "code",
   "execution_count": 10,
   "metadata": {},
   "outputs": [
    {
     "name": "stderr",
     "output_type": "stream",
     "text": [
      "                                                   "
     ]
    },
    {
     "name": "stdout",
     "output_type": "stream",
     "text": [
      "豈 ADV  <════╗   advmod\n",
      "惟 ADV  <══╗ ║   advmod\n",
      "寡 VERB <╗ ║ ║   amod\n",
      "君 NOUN ═╝═╝═╝   ROOT\n",
      "舉 VERB ═══╗═══╗ ROOT\n",
      "群 NOUN <╗ ║   ║ nmod\n",
      "臣 NOUN ═╝<╝   ║ obj\n",
      "實 ADV  <════╗ ║ advmod\n",
      "受 VERB ═══╗═╝<╝ parataxis\n",
      "其 PRON <╗ ║     det\n",
      "眖 NOUN ═╝<╝     obj\n"
     ]
    },
    {
     "name": "stderr",
     "output_type": "stream",
     "text": [
      "\r"
     ]
    }
   ],
   "source": [
    "ex453 = nlp(\"豈惟寡君\\n舉群臣實受其眖\")\n",
    "render(ex453)"
   ]
  },
  {
   "cell_type": "markdown",
   "metadata": {},
   "source": [
    "### (d) 俱 'both, together'"
   ]
  },
  {
   "cell_type": "code",
   "execution_count": 11,
   "metadata": {},
   "outputs": [
    {
     "name": "stderr",
     "output_type": "stream",
     "text": [
      "                                                   "
     ]
    },
    {
     "name": "stdout",
     "output_type": "stream",
     "text": [
      "父 NOUN ═╗<╗ nsubj\n",
      "母 NOUN <╝ ║ flat\n",
      "俱 ADV  <╗ ║ advmod\n",
      "存 VERB ═╝═╝ ROOT\n",
      "兄 NOUN ═╗<╗ nsubj\n",
      "弟 NOUN <╝ ║ flat\n",
      "無 VERB ═╗═╝ ROOT\n",
      "故 NOUN <╝   obj\n",
      "一 NUM  <╗   nummod\n",
      "樂 NOUN ═╝═╗ ROOT\n",
      "也 PART <══╝ discourse:sp\n"
     ]
    },
    {
     "name": "stderr",
     "output_type": "stream",
     "text": [
      "\r"
     ]
    }
   ],
   "source": [
    "ex455 = nlp(\"父母俱存\\n兄弟無故\\n一樂也\")\n",
    "render(ex455)"
   ]
  },
  {
   "cell_type": "code",
   "execution_count": 12,
   "metadata": {},
   "outputs": [
    {
     "name": "stderr",
     "output_type": "stream",
     "text": [
      "                                                   "
     ]
    },
    {
     "name": "stdout",
     "output_type": "stream",
     "text": [
      "然 VERB <══════════════╗   advmod\n",
      "則 ADV  <════════════╗ ║   advmod\n",
      "我 PRON <══════════╗ ║ ║   nsubj\n",
      "與 ADP  <══╗       ║ ║ ║   case\n",
      "若 PRON <══║═════╗ ║ ║ ║   advmod\n",
      "與 ADP  <╗ ║     ║ ║ ║ ║   case\n",
      "人 NOUN ═╝═╝<══╗ ║ ║ ║ ║   obl\n",
      "俱 ADV  <════╗ ║ ║ ║ ║ ║   advmod\n",
      "不 ADV  <╗   ║ ║ ║ ║ ║ ║   advmod\n",
      "能 AUX  ═╝<╗ ║ ║ ║ ║ ║ ║   aux\n",
      "相 ADV  <╗ ║ ║ ║ ║ ║ ║ ║   advmod\n",
      "知 VERB ═╝═╝═╝═╝═╝═╝═╝═╝═╗ ROOT\n",
      "也 PART <════════════════╝ discourse:sp\n"
     ]
    },
    {
     "name": "stderr",
     "output_type": "stream",
     "text": [
      "\r"
     ]
    }
   ],
   "source": [
    "ex456 = nlp(\"然則我與若與人俱不能相知也\")\n",
    "render(ex456)"
   ]
  },
  {
   "cell_type": "code",
   "execution_count": 13,
   "metadata": {},
   "outputs": [
    {
     "name": "stderr",
     "output_type": "stream",
     "text": [
      "                                                   "
     ]
    },
    {
     "name": "stdout",
     "output_type": "stream",
     "text": [
      "雖 ADV  <════╗     advmod\n",
      "與 ADP  <╗   ║     case\n",
      "之 PRON ═╝<╗ ║     obl\n",
      "俱 ADV  <╗ ║ ║     advmod\n",
      "學 VERB ═╝═╝═╝<╗   advcl\n",
      "弗 ADV  <══╗   ║   advmod\n",
      "若 VERB ═╗═╝═══╝═╗ ROOT\n",
      "之 PRON <╝       ║ obj\n",
      "矣 PART <════════╝ discourse:sp\n"
     ]
    },
    {
     "name": "stderr",
     "output_type": "stream",
     "text": [
      "\r"
     ]
    }
   ],
   "source": [
    "ex457 = nlp(\"雖與之俱學弗若之矣\")\n",
    "render(ex457)"
   ]
  },
  {
   "cell_type": "code",
   "execution_count": 14,
   "metadata": {},
   "outputs": [
    {
     "name": "stderr",
     "output_type": "stream",
     "text": [
      "                                                   "
     ]
    },
    {
     "name": "stdout",
     "output_type": "stream",
     "text": [
      "民 NOUN <════╗ nsubj\n",
      "具 ADV  <══╗ ║ advmod\n",
      "爾 PRON <╗ ║ ║ obj\n",
      "瞻 VERB ═╝═╝═╝ ROOT\n"
     ]
    },
    {
     "name": "stderr",
     "output_type": "stream",
     "text": [
      "\r"
     ]
    }
   ],
   "source": [
    "ex458 = nlp(\"民具爾瞻\")\n",
    "render(ex458)"
   ]
  },
  {
   "cell_type": "markdown",
   "metadata": {},
   "source": [
    "### (e) 各 'each'"
   ]
  },
  {
   "cell_type": "code",
   "execution_count": 15,
   "metadata": {},
   "outputs": [
    {
     "name": "stderr",
     "output_type": "stream",
     "text": [
      "                                                   "
     ]
    },
    {
     "name": "stdout",
     "output_type": "stream",
     "text": [
      "各 ADV  <════╗     advmod\n",
      "欲 AUX  <══╗ ║     aux\n",
      "正 VERB ═╗═╝═╝═╗<╗ csubj\n",
      "己 PRON <╝     ║ ║ obj\n",
      "也 PART <══════╝ ║ mark\n",
      "焉 ADV  <══╗     ║ advmod\n",
      "用 VERB ═╗═╝═════╝ ROOT\n",
      "戰 NOUN <╝         obj\n"
     ]
    },
    {
     "name": "stderr",
     "output_type": "stream",
     "text": [
      "\r"
     ]
    }
   ],
   "source": [
    "ex459 = nlp(\"各欲正己也焉用戰\")\n",
    "render(ex459)"
   ]
  },
  {
   "cell_type": "markdown",
   "metadata": {},
   "source": [
    "### (f) 每 'every (time), always; whenever'"
   ]
  },
  {
   "cell_type": "code",
   "execution_count": 16,
   "metadata": {},
   "outputs": [
    {
     "name": "stderr",
     "output_type": "stream",
     "text": [
      "                                                   "
     ]
    },
    {
     "name": "stdout",
     "output_type": "stream",
     "text": [
      "聖 NOUN <╗       nmod\n",
      "人 NOUN ═╝<╗     nsubj\n",
      "踌 VERB ═╗═╝═╗═╗ ROOT\n",
      "躇 VERB <╝   ║ ║ flat:vv\n",
      "以 VERB <══╗ ║ ║ advmod\n",
      "興 VERB ═╗═╝<╝ ║ parataxis\n",
      "事 NOUN <╝     ║ obj\n",
      "以 VERB <════╗ ║ advmod\n",
      "每 VERB <══╗ ║ ║ advmod\n",
      "成 VERB ═╗═╝═╝<╝ parataxis\n",
      "功 NOUN <╝       obj\n"
     ]
    },
    {
     "name": "stderr",
     "output_type": "stream",
     "text": [
      "\r"
     ]
    }
   ],
   "source": [
    "ex460 = nlp(\"聖人踌躇以興事以每成功\")\n",
    "render(ex460)"
   ]
  },
  {
   "cell_type": "code",
   "execution_count": 17,
   "metadata": {},
   "outputs": [
    {
     "name": "stderr",
     "output_type": "stream",
     "text": [
      "                                                   "
     ]
    },
    {
     "name": "stdout",
     "output_type": "stream",
     "text": [
      "初 NOUN  <════╗   obl:tmod\n",
      "伯 PROPN ═╗<╗ ║   nsubj\n",
      "宗 PROPN <╝ ║ ║   flat\n",
      "每 VERB  <╗ ║ ║   advmod\n",
      "朝 VERB  ═╝═╝═╝   ROOT\n",
      "其 PRON  <╗       det\n",
      "妻 NOUN  ═╝<══╗   nsubj\n",
      "必 ADV   <══╗ ║   advmod\n",
      "戒 VERB  ═╗═╝═╝═╗ ROOT\n",
      "之 PRON  <╝     ║ obj\n",
      "曰 VERB  <══════╝ parataxis\n"
     ]
    },
    {
     "name": "stderr",
     "output_type": "stream",
     "text": [
      "\r"
     ]
    }
   ],
   "source": [
    "ex461 = nlp(\"初伯宗每朝\\n其妻必戒之曰\")\n",
    "render(ex461)"
   ]
  },
  {
   "cell_type": "code",
   "execution_count": 18,
   "metadata": {},
   "outputs": [
    {
     "name": "stderr",
     "output_type": "stream",
     "text": [
      "                                                   "
     ]
    },
    {
     "name": "stdout",
     "output_type": "stream",
     "text": [
      "國 NOUN <════╗   nsubj\n",
      "每 VERB <╗   ║   amod\n",
      "夜 NOUN ═╝<╗ ║   obl:tmod\n",
      "駭 VERB ═══╝═╝═╗ ROOT\n",
      "曰 VERB ═══╗═╗<╝ parataxis\n",
      "王 NOUN <╗ ║ ║   nsubj\n",
      "入 VERB ═╝<╝ ║   ccomp\n",
      "矣 PART <════╝   discourse:sp\n"
     ]
    },
    {
     "name": "stderr",
     "output_type": "stream",
     "text": [
      "\r"
     ]
    }
   ],
   "source": [
    "ex462 = nlp(\"國每夜駭曰王入矣\")\n",
    "render(ex462)"
   ]
  },
  {
   "cell_type": "markdown",
   "metadata": {},
   "source": [
    "### (g) Words of Verbal Origin"
   ]
  },
  {
   "cell_type": "markdown",
   "metadata": {},
   "source": [
    "## 2. Restriction"
   ]
  },
  {
   "cell_type": "markdown",
   "metadata": {},
   "source": [
    "### (a) 唯, 惟, 维 'only'"
   ]
  },
  {
   "cell_type": "markdown",
   "metadata": {},
   "source": [
    "#### (i) Introducing the subject or an exposed element"
   ]
  },
  {
   "cell_type": "code",
   "execution_count": 19,
   "metadata": {},
   "outputs": [
    {
     "name": "stderr",
     "output_type": "stream",
     "text": [
      "                                                   "
     ]
    },
    {
     "name": "stdout",
     "output_type": "stream",
     "text": [
      "唯 ADV  <╗   advmod\n",
      "利 NOUN ═╝<╗ obj\n",
      "之 PRON <╗ ║ expl\n",
      "求 VERB ═╝═╝ ROOT\n"
     ]
    },
    {
     "name": "stderr",
     "output_type": "stream",
     "text": [
      "\r"
     ]
    }
   ],
   "source": [
    "ex463 = nlp(\"唯利之求\")\n",
    "render(ex463)"
   ]
  },
  {
   "cell_type": "code",
   "execution_count": 20,
   "metadata": {},
   "outputs": [
    {
     "name": "stderr",
     "output_type": "stream",
     "text": [
      "                                                   "
     ]
    },
    {
     "name": "stdout",
     "output_type": "stream",
     "text": [
      "無 VERB  ═══╗═══╗<╗   acl\n",
      "恆 VERB  <╗ ║   ║ ║   amod\n",
      "產 NOUN  ═╝<╝   ║ ║   obj\n",
      "而 CCONJ <════╗ ║ ║   cc\n",
      "有 VERB  ═══╗═╝<╝ ║   conj\n",
      "恆 VERB  <╗ ║     ║   amod\n",
      "心 NOUN  ═╝<╝     ║   obj\n",
      "者 PART  ═════════╝<╗ dislocated\n",
      "惟 ADV   <════╗     ║ advmod\n",
      "士 NOUN  <══╗ ║     ║ nsubj\n",
      "為 VERB  ═╗═╝═╝═════╝ ROOT\n",
      "能 AUX   <╝           obj\n"
     ]
    },
    {
     "name": "stderr",
     "output_type": "stream",
     "text": [
      "\r"
     ]
    }
   ],
   "source": [
    "ex464 = nlp(\"無恆產而有恆心者惟士為能\")\n",
    "render(ex464)"
   ]
  },
  {
   "cell_type": "code",
   "execution_count": 21,
   "metadata": {},
   "outputs": [
    {
     "name": "stderr",
     "output_type": "stream",
     "text": [
      "                                                   "
     ]
    },
    {
     "name": "stdout",
     "output_type": "stream",
     "text": [
      "唯 ADV  <╗     advmod\n",
      "仁 NOUN ═╝<══╗ dislocated\n",
      "之 PRON <══╗ ║ nsubj\n",
      "為 VERB ═╗═╝═╝ ROOT\n",
      "守 VERB <╝     obj\n",
      "唯 ADV  <╗     advmod\n",
      "義 NOUN ═╝<══╗ dislocated\n",
      "之 PRON <══╗ ║ expl\n",
      "為 VERB ═╗═╝═╝ ROOT\n",
      "行 VERB <╝     obj\n"
     ]
    },
    {
     "name": "stderr",
     "output_type": "stream",
     "text": [
      "\r"
     ]
    }
   ],
   "source": [
    "ex465 = nlp(\"唯仁之為守\\n唯義之為行\")\n",
    "render(ex465)"
   ]
  },
  {
   "cell_type": "markdown",
   "metadata": {},
   "source": [
    "#### (ii) Introducing a noun predicate"
   ]
  },
  {
   "cell_type": "code",
   "execution_count": 22,
   "metadata": {},
   "outputs": [
    {
     "name": "stderr",
     "output_type": "stream",
     "text": [
      "                                                   "
     ]
    },
    {
     "name": "stdout",
     "output_type": "stream",
     "text": [
      "知   VERB  ═══╗<╗   acl\n",
      "其   PRON  <╗ ║ ║   det\n",
      "罪   NOUN  ═╝<╝ ║   obj\n",
      "者   PART  ═════╝<╗ nsubj\n",
      "唯   ADV   <══╗   ║ advmod\n",
      "孔   PROPN ═╗═╝═══╝ ROOT\n",
      "踞心 PROPN <╝       flat\n"
     ]
    },
    {
     "name": "stderr",
     "output_type": "stream",
     "text": [
      "\r"
     ]
    }
   ],
   "source": [
    "ex466 = nlp(\"知其罪者唯孔踞心\")\n",
    "render(ex466)"
   ]
  },
  {
   "cell_type": "code",
   "execution_count": 23,
   "metadata": {},
   "outputs": [
    {
     "name": "stderr",
     "output_type": "stream",
     "text": [
      "                                                   "
     ]
    },
    {
     "name": "stdout",
     "output_type": "stream",
     "text": [
      "惟 ADV  <════╗   advmod\n",
      "君 NOUN <══╗ ║   nsubj\n",
      "所 PART <╗ ║ ║   mark\n",
      "行 VERB ═╝═╝═╝═╗ ROOT\n",
      "也 PART <══════╝ discourse:sp\n"
     ]
    },
    {
     "name": "stderr",
     "output_type": "stream",
     "text": [
      "\r"
     ]
    }
   ],
   "source": [
    "ex467 = nlp(\"惟君所行也\")\n",
    "render(ex467)"
   ]
  },
  {
   "cell_type": "markdown",
   "metadata": {},
   "source": [
    "#### (iii) In adverbarial position restricting the predicate"
   ]
  },
  {
   "cell_type": "code",
   "execution_count": 24,
   "metadata": {},
   "outputs": [
    {
     "name": "stderr",
     "output_type": "stream",
     "text": [
      "                                                   "
     ]
    },
    {
     "name": "stdout",
     "output_type": "stream",
     "text": [
      "此 PRON  <════════╗ nsubj\n",
      "惟 ADV   <══╗     ║ advmod\n",
      "救 VERB  ═╗═╝═══╗═╝ ROOT\n",
      "死 NOUN  <╝     ║   obj\n",
      "而 CCONJ <════╗ ║   cc\n",
      "恐 VERB  ═══╗═╝<╝   conj\n",
      "不 ADV   <╗ ║       advmod\n",
      "贍 VERB  ═╝<╝       ccomp\n"
     ]
    },
    {
     "name": "stderr",
     "output_type": "stream",
     "text": [
      "\r"
     ]
    }
   ],
   "source": [
    "ex468 = nlp(\"此惟救死而恐不贍\")\n",
    "render(ex468)"
   ]
  },
  {
   "cell_type": "code",
   "execution_count": 25,
   "metadata": {},
   "outputs": [
    {
     "name": "stderr",
     "output_type": "stream",
     "text": [
      "                                                   "
     ]
    },
    {
     "name": "stdout",
     "output_type": "stream",
     "text": [
      "不 ADV   <════╗   advmod\n",
      "唯 ADV   <══╗ ║   advmod\n",
      "許 PROPN <╗ ║ ║   nmod\n",
      "國 NOUN  ═╝═╝═╝<╗ obj\n",
      "之 PRON  <╗     ║ expl\n",
      "為 VERB  ═╝═════╝ ROOT\n"
     ]
    },
    {
     "name": "stderr",
     "output_type": "stream",
     "text": [
      "\r"
     ]
    }
   ],
   "source": [
    "ex469 = nlp(\"不唯許國之為\")\n",
    "render(ex469)"
   ]
  },
  {
   "cell_type": "code",
   "execution_count": 26,
   "metadata": {},
   "outputs": [
    {
     "name": "stderr",
     "output_type": "stream",
     "text": [
      "                                                   "
     ]
    },
    {
     "name": "stdout",
     "output_type": "stream",
     "text": [
      "非 ADV   <══════════╗   advmod\n",
      "惟 ADV   <════════╗ ║   advmod\n",
      "百 NUM   ═╗═╗<╗   ║ ║   nummod\n",
      "乘 NOUN  <╝ ║ ║   ║ ║   clf\n",
      "之 SCONJ <══╝ ║   ║ ║   case\n",
      "家 NOUN  ═════╝<╗ ║ ║   nsubj\n",
      "為 VERB  <╗     ║ ║ ║   cop\n",
      "然 VERB  ═╝═════╝═╝═╝═╗ ROOT\n",
      "也 PART  <════════════╝ discourse:sp\n"
     ]
    },
    {
     "name": "stderr",
     "output_type": "stream",
     "text": [
      "\r"
     ]
    }
   ],
   "source": [
    "ex470 = nlp(\"非惟百乘之家為然也\")\n",
    "render(ex470)"
   ]
  },
  {
   "cell_type": "markdown",
   "metadata": {},
   "source": [
    "### (b) 獨 'only'"
   ]
  },
  {
   "cell_type": "code",
   "execution_count": 27,
   "metadata": {},
   "outputs": [
    {
     "name": "stderr",
     "output_type": "stream",
     "text": [
      "                                                   "
     ]
    },
    {
     "name": "stdout",
     "output_type": "stream",
     "text": [
      "諸   NOUN  <╗         nmod\n",
      "君子 NOUN  ═╝<════╗   nsubj\n",
      "皆   ADV   <════╗ ║   advmod\n",
      "與   ADP   <╗   ║ ║   case\n",
      "驩   PROPN ═╝<╗ ║ ║   obl\n",
      "言   VERB  ═══╝═╝═╝   ROOT\n",
      "孟子 PROPN <════════╗ nsubj\n",
      "獨   VERB  <══════╗ ║ advmod\n",
      "不   ADV   <════╗ ║ ║ advmod\n",
      "與   ADP   <╗   ║ ║ ║ case\n",
      "驩   PROPN ═╝<╗ ║ ║ ║ obl\n",
      "言   VERB  ═══╝═╝═╝═╝ ROOT\n"
     ]
    },
    {
     "name": "stderr",
     "output_type": "stream",
     "text": [
      "\r"
     ]
    }
   ],
   "source": [
    "ex471 = nlp(\"諸君子皆與驩言\\n孟子獨不與驩言\")\n",
    "render(ex471)"
   ]
  },
  {
   "cell_type": "code",
   "execution_count": 28,
   "metadata": {},
   "outputs": [
    {
     "name": "stderr",
     "output_type": "stream",
     "text": [
      "                                                   "
     ]
    },
    {
     "name": "stdout",
     "output_type": "stream",
     "text": [
      "非 ADV  <════════╗   advmod\n",
      "獨 VERB <══════╗ ║   advmod\n",
      "賢 VERB <╗     ║ ║   amod\n",
      "者 PART ═╝<══╗ ║ ║   nsubj\n",
      "有 VERB ═══╗═╝═╝═╝═╗ ROOT\n",
      "是 PRON <╗ ║       ║ det\n",
      "心 NOUN ═╝<╝       ║ obj\n",
      "也 PART <══════════╝ discourse:sp\n",
      "人 NOUN <════╗       nsubj\n",
      "皆 ADV  <══╗ ║       advmod\n",
      "有 VERB ═╗═╝═╝       ROOT\n",
      "之 PRON <╝           obj\n"
     ]
    },
    {
     "name": "stderr",
     "output_type": "stream",
     "text": [
      "\r"
     ]
    }
   ],
   "source": [
    "ex472 = nlp(\"非獨賢者有是心也\\n人皆有之\")\n",
    "render(ex472)"
   ]
  },
  {
   "cell_type": "code",
   "execution_count": 29,
   "metadata": {},
   "outputs": [
    {
     "name": "stderr",
     "output_type": "stream",
     "text": [
      "                                                   "
     ]
    },
    {
     "name": "stdout",
     "output_type": "stream",
     "text": [
      "棄 VERB  ═════╗═╗ ROOT\n",
      "君 NOUN  ═╗<╗ ║ ║ nmod\n",
      "之 SCONJ <╝ ║ ║ ║ case\n",
      "命 NOUN  ═══╝<╝ ║ obj\n",
      "獨 VERB  <════╗ ║ advmod\n",
      "誰 PRON  <══╗ ║ ║ nsubj\n",
      "受 VERB  ═╗═╝═╝<╝ parataxis\n",
      "之 PRON  <╝       obj\n"
     ]
    },
    {
     "name": "stderr",
     "output_type": "stream",
     "text": [
      "\r"
     ]
    }
   ],
   "source": [
    "ex473 = nlp(\"棄君之命獨誰受之\")\n",
    "render(ex473)"
   ]
  },
  {
   "cell_type": "code",
   "execution_count": 30,
   "metadata": {},
   "outputs": [
    {
     "name": "stderr",
     "output_type": "stream",
     "text": [
      "                                                   "
     ]
    },
    {
     "name": "stdout",
     "output_type": "stream",
     "text": [
      "今 NOUN  <══════════════════╗   obl:tmod\n",
      "恩 NOUN  <════════════════╗ ║   nsubj\n",
      "足 AUX   ═╗<════════════╗ ║ ║   aux\n",
      "以 VERB  <╝             ║ ║ ║   fixed\n",
      "及 VERB  ═══╗═════════╗═╝═╝═╝═╗ ROOT\n",
      "禽 NOUN  ═╗<╝         ║       ║ obj\n",
      "獸 NOUN  <╝           ║       ║ flat\n",
      "而 CCONJ <══════════╗ ║       ║ cc\n",
      "功 NOUN  <════════╗ ║ ║       ║ nsubj\n",
      "不 ADV   <══════╗ ║ ║ ║       ║ advmod\n",
      "至 VERB  ═════╗═╝═╝═╝ ║<══════╝ conj\n",
      "於 ADP   <══╗ ║       ║         case\n",
      "百 NUM   <╗ ║ ║       ║         compound\n",
      "姓 NOUN  ═╝═╝<╝       ║         obl\n",
      "者 PART  <════════════╝         obj\n",
      "獨 VERB  <══╗                   advmod\n",
      "何 PRON  <╗ ║                   advmod\n",
      "與 PART  ═╝═╝                   ROOT\n"
     ]
    },
    {
     "name": "stderr",
     "output_type": "stream",
     "text": [
      "\r"
     ]
    }
   ],
   "source": [
    "ex474 = nlp(\"今恩足以及禽獸而功不至於百姓者\\n獨何與\")\n",
    "render(ex474)"
   ]
  },
  {
   "cell_type": "markdown",
   "metadata": {},
   "source": [
    "### (c) Other Similar Words"
   ]
  },
  {
   "cell_type": "markdown",
   "metadata": {},
   "source": [
    "### (d) Restriction by Final Particles"
   ]
  },
  {
   "cell_type": "code",
   "execution_count": 31,
   "metadata": {},
   "outputs": [
    {
     "name": "stderr",
     "output_type": "stream",
     "text": [
      "                                                   "
     ]
    },
    {
     "name": "stdout",
     "output_type": "stream",
     "text": [
      "言 VERB ═══════╗═╗═╗ ROOT\n",
      "舉 VERB ═══╗═╗<╝ ║ ║ ccomp\n",
      "斯 PRON <╗ ║ ║   ║ ║ det\n",
      "心 NOUN ═╝<╝ ║   ║ ║ obj\n",
      "加 VERB ═╗═╗<╝   ║ ║ parataxis\n",
      "諸 PRON <╝ ║     ║ ║ iobj\n",
      "彼 PRON <══╝     ║ ║ obj\n",
      "而 PART <════════╝ ║ discourse:sp\n",
      "已 PART <══════════╝ discourse:sp\n"
     ]
    },
    {
     "name": "stderr",
     "output_type": "stream",
     "text": [
      "\r"
     ]
    }
   ],
   "source": [
    "ex475 = nlp(\"言舉斯心加諸彼而已\")\n",
    "render(ex475)"
   ]
  },
  {
   "cell_type": "code",
   "execution_count": 32,
   "metadata": {},
   "outputs": [
    {
     "name": "stderr",
     "output_type": "stream",
     "text": [
      "                                                   "
     ]
    },
    {
     "name": "stdout",
     "output_type": "stream",
     "text": [
      "直 ADV   <════════╗   advmod\n",
      "好 VERB  ═══════╗═╝═╗ ROOT\n",
      "世 NOUN  <══╗   ║   ║ nmod\n",
      "俗 NOUN  ═╗═╝<╗ ║   ║ nmod\n",
      "之 SCONJ <╝   ║ ║   ║ case\n",
      "樂 NOUN  ═════╝<╝   ║ obj\n",
      "耳 PART  <══════════╝ discourse:sp\n"
     ]
    },
    {
     "name": "stderr",
     "output_type": "stream",
     "text": [
      "\r"
     ]
    }
   ],
   "source": [
    "ex476 = nlp(\"直好世俗之樂耳\")\n",
    "render(ex476)"
   ]
  },
  {
   "cell_type": "code",
   "execution_count": 33,
   "metadata": {},
   "outputs": [
    {
     "name": "stderr",
     "output_type": "stream",
     "text": [
      "                                                   "
     ]
    },
    {
     "name": "stdout",
     "output_type": "stream",
     "text": [
      "子   PRON  <════╗       nsubj\n",
      "誠   VERB  <══╗ ║       advmod\n",
      "齊   PROPN <╗ ║ ║       nmod\n",
      "人   NOUN  ═╝═╝═╝═╗     ROOT\n",
      "也   PART  <══════╝     discourse:sp\n",
      "知   VERB  ═════╗═╗═╗═╗ ROOT\n",
      "管   PROPN ═╗═╗<╝ ║ ║ ║ obj\n",
      "仲   PROPN <╝ ║   ║ ║ ║ flat\n",
      "晏子 PROPN <══╝   ║ ║ ║ conj\n",
      "而   PART  <══════╝ ║ ║ discourse:sp\n",
      "已   PART  <════════╝ ║ discourse:sp\n",
      "矣   PART  <══════════╝ discourse:sp\n"
     ]
    },
    {
     "name": "stderr",
     "output_type": "stream",
     "text": [
      "\r"
     ]
    }
   ],
   "source": [
    "ex477 = nlp(\"子誠齊人也\\n知管仲晏子而已矣\")\n",
    "render(ex477)"
   ]
  },
  {
   "cell_type": "markdown",
   "metadata": {},
   "source": [
    "## 3. Some, None"
   ]
  },
  {
   "cell_type": "markdown",
   "metadata": {},
   "source": [
    "### (a) 或 'some one, some' and 有 'some; sometimes'"
   ]
  },
  {
   "cell_type": "code",
   "execution_count": 34,
   "metadata": {},
   "outputs": [
    {
     "name": "stderr",
     "output_type": "stream",
     "text": [
      "                                                   "
     ]
    },
    {
     "name": "stdout",
     "output_type": "stream",
     "text": [
      "或   PRON  <══╗   nsubj\n",
      "百   NUM   ═╗═╝═╗ ROOT\n",
      "步   NOUN  <╝   ║ clf\n",
      "而   CCONJ <══╗ ║ cc\n",
      "後   NOUN  <╗ ║ ║ obl:tmod\n",
      "止   VERB  ═╝═╝<╝ conj\n",
      "或   PRON  <══╗   nsubj\n",
      "五十 NUM   ═╗═╝═╗ ROOT\n",
      "步   NOUN  <╝   ║ clf\n",
      "而   CCONJ <══╗ ║ cc\n",
      "後   NOUN  <╗ ║ ║ obl:tmod\n",
      "止   VERB  ═╝═╝<╝ conj\n"
     ]
    },
    {
     "name": "stderr",
     "output_type": "stream",
     "text": [
      "\r"
     ]
    }
   ],
   "source": [
    "ex478 = nlp(\"或百步而後止\\n或五十步而後止\")\n",
    "render(ex478)"
   ]
  },
  {
   "cell_type": "code",
   "execution_count": 35,
   "metadata": {},
   "outputs": [
    {
     "name": "stderr",
     "output_type": "stream",
     "text": [
      "                                                   "
     ]
    },
    {
     "name": "stdout",
     "output_type": "stream",
     "text": [
      "或 PRON <════╗   nsubj\n",
      "告 VERB ═══╗═╝═╗ ROOT\n",
      "寡 VERB <╗ ║   ║ amod\n",
      "人 NOUN ═╝<╝   ║ obj\n",
      "曰 VERB <══════╝ parataxis\n"
     ]
    },
    {
     "name": "stderr",
     "output_type": "stream",
     "text": [
      "\r"
     ]
    }
   ],
   "source": [
    "ex479 = nlp(\"或告寡人曰\")\n",
    "render(ex479)"
   ]
  },
  {
   "cell_type": "code",
   "execution_count": 36,
   "metadata": {},
   "outputs": [
    {
     "name": "stderr",
     "output_type": "stream",
     "text": [
      "                                                   "
     ]
    },
    {
     "name": "stdout",
     "output_type": "stream",
     "text": [
      "宋 PROPN <╗     nmod\n",
      "人 NOUN  ═╝<══╗ nsubj\n",
      "或 ADV   <══╗ ║ advmod\n",
      "得 VERB  ═╗═╝═╝ ROOT\n",
      "玉 NOUN  <╝     obj\n"
     ]
    },
    {
     "name": "stderr",
     "output_type": "stream",
     "text": [
      "\r"
     ]
    }
   ],
   "source": [
    "ex480 = nlp(\"宋人或得玉\")\n",
    "render(ex480)"
   ]
  },
  {
   "cell_type": "code",
   "execution_count": 37,
   "metadata": {},
   "outputs": [
    {
     "name": "stderr",
     "output_type": "stream",
     "text": [
      "                                                   "
     ]
    },
    {
     "name": "stdout",
     "output_type": "stream",
     "text": [
      "宋 PROPN <╗               nmod\n",
      "人 NOUN  ═╝<════════════╗ nsubj\n",
      "有 VERB  ═════════════╗═╝ ROOT\n",
      "閔 VERB  ═══════╗═╗<╗ ║   acl\n",
      "其 PRON  <══╗   ║ ║ ║ ║   det\n",
      "苗 NOUN  ═╗═╝<╗ ║ ║ ║ ║   nsubj\n",
      "之 SCONJ <╝   ║ ║ ║ ║ ║   case\n",
      "不 ADV   <╗   ║ ║ ║ ║ ║   advmod\n",
      "長 VERB  ═╝═══╝<╝ ║ ║ ║   ccomp\n",
      "而 CCONJ <══╗     ║ ║ ║   cc\n",
      "揠 VERB  ═╗═╝<════╝ ║ ║   conj\n",
      "之 PRON  <╝         ║ ║   obj\n",
      "者 PART  ═══════════╝<╝   obj\n"
     ]
    },
    {
     "name": "stderr",
     "output_type": "stream",
     "text": [
      "\r"
     ]
    }
   ],
   "source": [
    "ex481 = nlp(\"宋人有閔其苗之不長而揠之者\")\n",
    "render(ex481)"
   ]
  },
  {
   "cell_type": "code",
   "execution_count": 38,
   "metadata": {},
   "outputs": [
    {
     "name": "stderr",
     "output_type": "stream",
     "text": [
      "                                                   "
     ]
    },
    {
     "name": "stdout",
     "output_type": "stream",
     "text": [
      "昔   NOUN  <╗         nmod\n",
      "者   PART  ═╝<══════╗ advmod\n",
      "有   VERB  ═══════╗═╝ ROOT\n",
      "饋   VERB  ═══╗═╗<╝   ccomp\n",
      "生   VERB  <╗ ║ ║     amod\n",
      "魚   NOUN  ═╝<╝ ║     obj\n",
      "於   ADP   <══╗ ║     case\n",
      "鄭   PROPN <╗ ║ ║     nmod\n",
      "子產 PROPN ═╝═╝<╝     obl\n"
     ]
    },
    {
     "name": "stderr",
     "output_type": "stream",
     "text": [
      "\r"
     ]
    }
   ],
   "source": [
    "ex482 = nlp(\"昔者有饋生魚於鄭子產\")\n",
    "render(ex482)"
   ]
  },
  {
   "cell_type": "code",
   "execution_count": 39,
   "metadata": {},
   "outputs": [
    {
     "name": "stderr",
     "output_type": "stream",
     "text": [
      "                                                   "
     ]
    },
    {
     "name": "stdout",
     "output_type": "stream",
     "text": [
      "故   ADV  <══════╗ advmod\n",
      "君子 NOUN <════╗ ║ nsubj\n",
      "有   VERB ═══╗═╝═╝ ROOT\n",
      "不   ADV  <╗ ║     advmod\n",
      "戰   VERB ═╝<╝     ccomp\n",
      "戰   NOUN ═════╗   ROOT\n",
      "必   ADV  <╗   ║   advmod\n",
      "勝   VERB ═╝═╗<╝   conj\n",
      "矣   PART <══╝     discourse:sp\n"
     ]
    },
    {
     "name": "stderr",
     "output_type": "stream",
     "text": [
      "\r"
     ]
    }
   ],
   "source": [
    "ex483 = nlp(\"故君子有不戰\\n戰必勝矣\")\n",
    "render(ex483)"
   ]
  },
  {
   "cell_type": "code",
   "execution_count": 40,
   "metadata": {},
   "outputs": [
    {
     "name": "stderr",
     "output_type": "stream",
     "text": [
      "                                                   "
     ]
    },
    {
     "name": "stdout",
     "output_type": "stream",
     "text": [
      "猶 ADV  <══════╗ advmod\n",
      "懼 VERB ═════╗═╝ ROOT\n",
      "或 ADV  <══╗ ║   advmod\n",
      "失 VERB ═╗═╝<╝   ccomp\n",
      "之 PRON <╝       obj\n"
     ]
    },
    {
     "name": "stderr",
     "output_type": "stream",
     "text": [
      "\r"
     ]
    }
   ],
   "source": [
    "ex484 = nlp(\"猶懼或失之\")\n",
    "render(ex484)"
   ]
  },
  {
   "cell_type": "code",
   "execution_count": 41,
   "metadata": {},
   "outputs": [
    {
     "name": "stderr",
     "output_type": "stream",
     "text": [
      "                                                   "
     ]
    },
    {
     "name": "stdout",
     "output_type": "stream",
     "text": [
      "天 NOUN  <════════╗     nsubj\n",
      "其 PART  <════════║═╗   discourse\n",
      "或 ADV   <╗       ║ ║   advmod\n",
      "者 PART  ═╝<════╗ ║ ║   advmod\n",
      "欲 AUX   <════╗ ║ ║ ║   aux\n",
      "使 VERB  ═╗═╗═╝═╝═╝═╝═╗ ROOT\n",
      "衛 PROPN <╝ ║         ║ obj\n",
      "討 VERB  ═╗<╝         ║ xcomp\n",
      "邢 PROPN <╝           ║ obj\n",
      "乎 PART  <════════════╝ discourse:sp\n"
     ]
    },
    {
     "name": "stderr",
     "output_type": "stream",
     "text": [
      "\r"
     ]
    }
   ],
   "source": [
    "ex485 = nlp(\"天其或者欲使衛討邢乎\")\n",
    "render(ex485)"
   ]
  },
  {
   "cell_type": "markdown",
   "metadata": {},
   "source": [
    "### (b) 莫 'no one, none'"
   ]
  },
  {
   "cell_type": "code",
   "execution_count": 42,
   "metadata": {},
   "outputs": [
    {
     "name": "stderr",
     "output_type": "stream",
     "text": [
      "                                                   "
     ]
    },
    {
     "name": "stdout",
     "output_type": "stream",
     "text": [
      "晉 PROPN <╗       nmod\n",
      "國 NOUN  ═╝<══╗   dislocated\n",
      "天 NOUN  <╗   ║   compound\n",
      "下 NOUN  ═╝<╗ ║   nsubj\n",
      "莫 ADV   <╗ ║ ║   advmod\n",
      "強 VERB  ═╝═╝═╝═╗ ROOT\n",
      "焉 PART  <══════╝ discourse:sp\n"
     ]
    },
    {
     "name": "stderr",
     "output_type": "stream",
     "text": [
      "\r"
     ]
    }
   ],
   "source": [
    "ex486 = nlp(\"晉國天下莫強焉\")\n",
    "render(ex486)"
   ]
  },
  {
   "cell_type": "code",
   "execution_count": 43,
   "metadata": {},
   "outputs": [
    {
     "name": "stderr",
     "output_type": "stream",
     "text": [
      "                                                   "
     ]
    },
    {
     "name": "stdout",
     "output_type": "stream",
     "text": [
      "如 ADV   <══╗         advmod\n",
      "惡 VERB  ═╗═╝<══════╗ advcl\n",
      "之 PRON  <╝         ║ obj\n",
      "莫 ADV   <════════╗ ║ advmod\n",
      "如 VERB  ═══════╗═╝═╝ ROOT\n",
      "貴 VERB  ═╗═══╗<╝     ccomp\n",
      "德 NOUN  <╝   ║       obj\n",
      "而 CCONJ <══╗ ║       cc\n",
      "尊 VERB  ═╗═╝<╝       conj\n",
      "士 NOUN  <╝           obj\n"
     ]
    },
    {
     "name": "stderr",
     "output_type": "stream",
     "text": [
      "\r"
     ]
    }
   ],
   "source": [
    "ex487 = nlp(\"如惡之莫如貴德而尊士\")\n",
    "render(ex487)"
   ]
  },
  {
   "cell_type": "markdown",
   "metadata": {},
   "source": [
    "# 4. Reflexive and Reciprocal Pronominal Adverbs"
   ]
  },
  {
   "cell_type": "markdown",
   "metadata": {},
   "source": [
    "### (a) 自 'oneself'"
   ]
  },
  {
   "cell_type": "markdown",
   "metadata": {},
   "source": [
    "### (b) 相 'each other, mutually'"
   ]
  },
  {
   "cell_type": "code",
   "execution_count": 44,
   "metadata": {},
   "outputs": [
    {
     "name": "stderr",
     "output_type": "stream",
     "text": [
      "                                                   "
     ]
    },
    {
     "name": "stdout",
     "output_type": "stream",
     "text": [
      "獸 NOUN <══╗   nsubj\n",
      "相 ADV  <╗ ║   advmod\n",
      "食 VERB ═╝═╝   ROOT\n",
      "人 NOUN <════╗ nsubj\n",
      "且 ADV  <══╗ ║ advmod\n",
      "惡 VERB ═╗═╝═╝ ROOT\n",
      "之 PRON <╝     obj\n"
     ]
    },
    {
     "name": "stderr",
     "output_type": "stream",
     "text": [
      "\r"
     ]
    }
   ],
   "source": [
    "ex488 = nlp(\"獸相食\\n人且惡之\")\n",
    "render(ex488)"
   ]
  },
  {
   "cell_type": "code",
   "execution_count": 45,
   "metadata": {},
   "outputs": [
    {
     "name": "stderr",
     "output_type": "stream",
     "text": [
      "                                                   "
     ]
    },
    {
     "name": "stdout",
     "output_type": "stream",
     "text": [
      "猶 ADV  <════╗   advmod\n",
      "相 ADV  <══╗ ║   advmod\n",
      "積 VERB ═╗═╝═╝═╗ ROOT\n",
      "恶 NOUN <╝     ║ obj\n",
      "也 PART <══════╝ discourse:sp\n"
     ]
    },
    {
     "name": "stderr",
     "output_type": "stream",
     "text": [
      "\r"
     ]
    }
   ],
   "source": [
    "ex489 = nlp(\"猶相積恶也\")\n",
    "render(ex489)"
   ]
  },
  {
   "cell_type": "code",
   "execution_count": 46,
   "metadata": {},
   "outputs": [
    {
     "name": "stderr",
     "output_type": "stream",
     "text": [
      "                                                   "
     ]
    },
    {
     "name": "stdout",
     "output_type": "stream",
     "text": [
      "皆 ADV  <══╗     advmod\n",
      "賢 VERB <╗ ║     amod\n",
      "人 NOUN ═╝═╝═╗   ROOT\n",
      "也 PART <════╝   discourse:sp\n",
      "相 ADV  <══════╗ advmod\n",
      "與 VERB <════╗ ║ advmod\n",
      "輔 VERB ═╗═╗═╝═╝ ROOT\n",
      "相 ADV  <╝ ║     advmod\n",
      "之 PRON <══╝     obj\n"
     ]
    },
    {
     "name": "stderr",
     "output_type": "stream",
     "text": [
      "\r"
     ]
    }
   ],
   "source": [
    "ex490 = nlp(\"皆賢人也\\n相與輔相之\")\n",
    "render(ex490)"
   ]
  },
  {
   "cell_type": "markdown",
   "metadata": {},
   "source": [
    "### (c) 身 'body, person, self'"
   ]
  },
  {
   "cell_type": "code",
   "execution_count": 48,
   "metadata": {},
   "outputs": [
    {
     "name": "stderr",
     "output_type": "stream",
     "text": [
      "                                                   "
     ]
    },
    {
     "name": "stdout",
     "output_type": "stream",
     "text": [
      "彼 PRON <════╗ nsubj\n",
      "身 NOUN <══╗ ║ obl\n",
      "織 VERB ═╗═╝═╝ ROOT\n",
      "履 NOUN <╝     obj\n",
      "妻 NOUN <══╗   nsubj\n",
      "辟 VERB ═╗═╝   ROOT\n",
      "纑 NOUN <╝     obj\n",
      "以 VERB <══╗   advmod\n",
      "易 VERB ═╗═╝   ROOT\n",
      "之 PRON <╝     obj\n"
     ]
    },
    {
     "name": "stderr",
     "output_type": "stream",
     "text": [
      "\r"
     ]
    }
   ],
   "source": [
    "ex491 = nlp(\"彼身織履\\n妻辟纑\\n以易之\")\n",
    "render(ex491)"
   ]
  },
  {
   "cell_type": "markdown",
   "metadata": {},
   "source": [
    "### (d) 交 'in exchange, mutually' and 互 'mutually'"
   ]
  }
 ],
 "metadata": {
  "kernelspec": {
   "display_name": "Python 3.8.10 ('nlp')",
   "language": "python",
   "name": "python3"
  },
  "language_info": {
   "codemirror_mode": {
    "name": "ipython",
    "version": 3
   },
   "file_extension": ".py",
   "mimetype": "text/x-python",
   "name": "python",
   "nbconvert_exporter": "python",
   "pygments_lexer": "ipython3",
   "version": "3.8.10"
  },
  "orig_nbformat": 4,
  "vscode": {
   "interpreter": {
    "hash": "24c7420704055a54140a02528a2609fb6bd56fcb92850f5594d6233afbe4d574"
   }
  }
 },
 "nbformat": 4,
 "nbformat_minor": 2
}
