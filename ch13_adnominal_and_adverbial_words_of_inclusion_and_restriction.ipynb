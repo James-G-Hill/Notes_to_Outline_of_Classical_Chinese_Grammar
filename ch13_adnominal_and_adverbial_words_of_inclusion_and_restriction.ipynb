{
 "cells": [
  {
   "cell_type": "markdown",
   "metadata": {},
   "source": [
    "# XIII. Adnominal and Adverbial Words of Inclusion and Restriction"
   ]
  },
  {
   "cell_type": "code",
   "execution_count": 10,
   "metadata": {},
   "outputs": [
    {
     "name": "stderr",
     "output_type": "stream",
     "text": [
      "Some weights of the model checkpoint at KoichiYasuoka/roberta-classical-chinese-large-char were not used when initializing RobertaModel: ['lm_head.bias', 'lm_head.layer_norm.weight', 'lm_head.dense.weight', 'lm_head.decoder.weight', 'lm_head.decoder.bias', 'lm_head.layer_norm.bias', 'lm_head.dense.bias']\n",
      "- This IS expected if you are initializing RobertaModel from the checkpoint of a model trained on another task or with another architecture (e.g. initializing a BertForSequenceClassification model from a BertForPreTraining model).\n",
      "- This IS NOT expected if you are initializing RobertaModel from the checkpoint of a model that you expect to be exactly identical (initializing a BertForSequenceClassification model from a BertForSequenceClassification model).\n"
     ]
    }
   ],
   "source": [
    "from deplacy import render\n",
    "from suparkanbun import load\n",
    "from transformers import logging\n",
    "\n",
    "logging.logging.disable(logging.INFO)\n",
    "\n",
    "nlp = load(BERT=\"roberta-classical-chinese-large-char\", Danku=False)"
   ]
  },
  {
   "cell_type": "markdown",
   "metadata": {},
   "source": [
    "## 1. Words of Inclusion"
   ]
  },
  {
   "cell_type": "markdown",
   "metadata": {},
   "source": [
    "### (a) 諸 'all; members of the class of;"
   ]
  },
  {
   "cell_type": "code",
   "execution_count": 11,
   "metadata": {},
   "outputs": [
    {
     "name": "stderr",
     "output_type": "stream",
     "text": [
      "                                                   "
     ]
    },
    {
     "name": "stdout",
     "output_type": "stream",
     "text": [
      "王 NOUN  ═╗<╗     nmod\n",
      "之 SCONJ <╝ ║     case\n",
      "諸 NOUN  <╗ ║     nmod\n",
      "臣 NOUN  ═╝═╝<══╗ nsubj\n",
      "皆 ADV   <════╗ ║ advmod\n",
      "足 AUX   ═╗<╗ ║ ║ aux\n",
      "以 VERB  <╝ ║ ║ ║ fixed\n",
      "供 VERB  ═╗═╝═╝═╝ ROOT\n",
      "之 PRON  <╝       obj\n"
     ]
    },
    {
     "name": "stderr",
     "output_type": "stream",
     "text": [
      "\r"
     ]
    }
   ],
   "source": [
    "ex445 = nlp(\"王之諸臣皆足以供之\")\n",
    "render(ex445)"
   ]
  },
  {
   "cell_type": "code",
   "execution_count": 12,
   "metadata": {},
   "outputs": [
    {
     "name": "stderr",
     "output_type": "stream",
     "text": [
      "                                                   "
     ]
    },
    {
     "name": "stdout",
     "output_type": "stream",
     "text": [
      "夫子 NOUN  ═╗<╗         nsubj\n",
      "之   SCONJ <╝ ║         case\n",
      "求   VERB  ═╗═╝═╗<══╗   csubj\n",
      "之   PRON  <╝   ║   ║   obj\n",
      "也   PART  <════╝   ║   mark\n",
      "其   PRON  <╗       ║   det\n",
      "諸   PRON  ═╝<╗     ║   obj\n",
      "異   VERB  ═══╝═╗<╗ ║   advcl\n",
      "乎   PART  <════╝ ║ ║   discourse:sp\n",
      "人   NOUN  ═╗<╗   ║ ║   nsubj\n",
      "之   SCONJ <╝ ║   ║ ║   case\n",
      "求   VERB  ═╗═╝═══╝═╝═╗ ROOT\n",
      "之   PRON  <╝         ║ obj\n",
      "與   PART  <══════════╝ discourse:sp\n"
     ]
    },
    {
     "name": "stderr",
     "output_type": "stream",
     "text": [
      "\r"
     ]
    }
   ],
   "source": [
    "ex446 = nlp(\"夫子之求之也其諸異乎人之求之與\")\n",
    "render(ex446)"
   ]
  },
  {
   "cell_type": "code",
   "execution_count": 13,
   "metadata": {},
   "outputs": [
    {
     "name": "stderr",
     "output_type": "stream",
     "text": [
      "                                                   "
     ]
    },
    {
     "name": "stdout",
     "output_type": "stream",
     "text": [
      "齊   PROPN <══╗   nsubj\n",
      "無   VERB  ═╗═╝   ROOT\n",
      "仲孙 PROPN <╝     obj\n",
      "其   PRON  <╗     det\n",
      "諸   PRON  ═╝<╗   nsubj\n",
      "吾   PRON  <╗ ║   det\n",
      "仲孙 PROPN ═╝═╝═╗ ROOT\n",
      "與   PART  <════╝ discourse:sp\n"
     ]
    },
    {
     "name": "stderr",
     "output_type": "stream",
     "text": [
      "\r"
     ]
    }
   ],
   "source": [
    "ex447 = nlp(\"齊無仲孙\\n其諸吾仲孙與\")\n",
    "render(ex447)"
   ]
  },
  {
   "cell_type": "markdown",
   "metadata": {},
   "source": [
    "### (b) 凡 'all'"
   ]
  },
  {
   "cell_type": "code",
   "execution_count": 14,
   "metadata": {},
   "outputs": [
    {
     "name": "stderr",
     "output_type": "stream",
     "text": [
      "                                                   "
     ]
    },
    {
     "name": "stdout",
     "output_type": "stream",
     "text": [
      "則 ADV  <══════╗       advmod\n",
      "凡 VERB <════╗ ║       advmod\n",
      "可 AUX  ═╗<╗ ║ ║       aux\n",
      "以 VERB <╝ ║ ║ ║       fixed\n",
      "得 VERB ═╗═╝═╝═╝<╗     acl\n",
      "生 NOUN <╝       ║     obj\n",
      "者 PART ═════════╝<╗   nsubj\n",
      "何 ADV  <══╗       ║   advmod\n",
      "不 ADV  <╗ ║       ║   advmod\n",
      "用 VERB ═╝═╝═══════╝═╗ ROOT\n",
      "也 PART <════════════╝ discourse:sp\n"
     ]
    },
    {
     "name": "stderr",
     "output_type": "stream",
     "text": [
      "\r"
     ]
    }
   ],
   "source": [
    "ex448 = nlp(\"則凡可以得生者何不用也\")\n",
    "render(ex448)"
   ]
  },
  {
   "cell_type": "code",
   "execution_count": 15,
   "metadata": {},
   "outputs": [
    {
     "name": "stderr",
     "output_type": "stream",
     "text": [
      "                                                   "
     ]
    },
    {
     "name": "stdout",
     "output_type": "stream",
     "text": [
      "天 NOUN <╗     nmod\n",
      "子 NOUN ═╝<╗   nsubj\n",
      "一 NUM  <╗ ║   nummod\n",
      "位 NOUN ═╝═╝   ROOT\n",
      "公 NOUN <══╗   nsubj\n",
      "一 NUM  <╗ ║   nummod\n",
      "位 NOUN ═╝═╝   ROOT\n",
      "侯 NOUN <══╗   nsubj\n",
      "一 NUM  <╗ ║   nummod\n",
      "位 NOUN ═╝═╝   ROOT\n",
      "伯 NOUN <══╗   nsubj\n",
      "一 NUM  <╗ ║   nummod\n",
      "位 NOUN ═╝═╝   ROOT\n",
      "子 NOUN ═╗<══╗ nsubj\n",
      "男 NOUN <╝   ║ conj\n",
      "同 ADV  <══╗ ║ advmod\n",
      "一 NUM  <╗ ║ ║ nummod\n",
      "位 NOUN ═╝═╝═╝ ROOT\n",
      "凡 VERB <══╗   advmod\n",
      "五 NUM  <╗ ║   nummod\n",
      "等 NOUN ═╝═╝═╗ ROOT\n",
      "也 PART <════╝ discourse:sp\n"
     ]
    },
    {
     "name": "stderr",
     "output_type": "stream",
     "text": [
      "\r"
     ]
    }
   ],
   "source": [
    "ex449 = nlp(\"天子一位\\n公一位\\n侯一位\\n伯一位\\n子男同一位\\n凡五等也\")\n",
    "render(ex449)"
   ]
  },
  {
   "cell_type": "markdown",
   "metadata": {},
   "source": [
    "### (c) 皆 'all', 舉 'all'"
   ]
  },
  {
   "cell_type": "code",
   "execution_count": 16,
   "metadata": {},
   "outputs": [
    {
     "name": "stderr",
     "output_type": "stream",
     "text": [
      "                                                   "
     ]
    },
    {
     "name": "stdout",
     "output_type": "stream",
     "text": [
      "百 NUM  <╗         compound\n",
      "姓 NOUN ═╝<════╗   nsubj\n",
      "皆 ADV  <══╗   ║   advmod\n",
      "以 VERB ═╗═╝<╗ ║   advcl\n",
      "王 NOUN <╝   ║ ║   obj\n",
      "為 VERB ═╗═══╝═╝═╗ ROOT\n",
      "愛 NOUN <╝       ║ obj\n",
      "也 PART <════════╝ discourse:sp\n"
     ]
    },
    {
     "name": "stderr",
     "output_type": "stream",
     "text": [
      "\r"
     ]
    }
   ],
   "source": [
    "ex450 = nlp(\"百姓皆以王為愛也\")\n",
    "render(ex450)"
   ]
  },
  {
   "cell_type": "code",
   "execution_count": 17,
   "metadata": {},
   "outputs": [
    {
     "name": "stderr",
     "output_type": "stream",
     "text": [
      "                                                   "
     ]
    },
    {
     "name": "stdout",
     "output_type": "stream",
     "text": [
      "皆 ADV  <══════════╗ advmod\n",
      "使 VERB ═══════╗═╗═╝ ROOT\n",
      "衣 NOUN ═╗═╗═╗<╝ ║   obj\n",
      "食 NOUN <╝ ║ ║   ║   conj\n",
      "百 NUM  <══╝ ║   ║   nummod\n",
      "用 VERB <════╝   ║   conj\n",
      "出 VERB ═╗═╗<════╝   xcomp\n",
      "入 VERB <╝ ║         flat:vv\n",
      "相 ADV  <╗ ║         advmod\n",
      "揜 VERB ═╝<╝         conj\n"
     ]
    },
    {
     "name": "stderr",
     "output_type": "stream",
     "text": [
      "\r"
     ]
    }
   ],
   "source": [
    "ex451 = nlp(\"皆使衣食百用出入相揜\")\n",
    "render(ex451)"
   ]
  },
  {
   "cell_type": "code",
   "execution_count": 18,
   "metadata": {},
   "outputs": [
    {
     "name": "stderr",
     "output_type": "stream",
     "text": [
      "                                                   "
     ]
    },
    {
     "name": "stdout",
     "output_type": "stream",
     "text": [
      "王 NOUN  <════╗         nsubj\n",
      "如 ADV   <══╗ ║         advmod\n",
      "用 VERB  ═╗═╝═╝<══════╗ advcl\n",
      "予 PRON  <╝           ║ obj\n",
      "則 ADV   <══════╗     ║ advmod\n",
      "豈 ADV   <══════║═══╗ ║ advmod\n",
      "徒 ADV   <════╗ ║   ║ ║ advmod\n",
      "齊 PROPN <╗   ║ ║   ║ ║ nmod\n",
      "民 NOUN  ═╝<╗ ║ ║   ║ ║ nsubj\n",
      "安 VERB  ═══╝═╝═╝<╗ ║ ║ csubj\n",
      "天 NOUN  <╗       ║ ║ ║ compound\n",
      "下 NOUN  ═╝═╗<╗   ║ ║ ║ nmod\n",
      "之 SCONJ <══╝ ║   ║ ║ ║ case\n",
      "民 NOUN  ═════╝<╗ ║ ║ ║ nsubj\n",
      "舉 ADV   <╗     ║ ║ ║ ║ advmod\n",
      "安 VERB  ═╝═════╝═╝═╝═╝ ROOT\n"
     ]
    },
    {
     "name": "stderr",
     "output_type": "stream",
     "text": [
      "\r"
     ]
    }
   ],
   "source": [
    "ex452 = nlp(\"王如用予則豈徒齊民安天下之民舉安\")\n",
    "render(ex452)"
   ]
  },
  {
   "cell_type": "code",
   "execution_count": 20,
   "metadata": {},
   "outputs": [
    {
     "name": "stderr",
     "output_type": "stream",
     "text": [
      "                                                   "
     ]
    },
    {
     "name": "stdout",
     "output_type": "stream",
     "text": [
      "豈 ADV  <════╗   advmod\n",
      "惟 ADV  <══╗ ║   advmod\n",
      "寡 VERB <╗ ║ ║   amod\n",
      "君 NOUN ═╝═╝═╝   ROOT\n",
      "舉 VERB ═══╗═══╗ ROOT\n",
      "群 NOUN <╗ ║   ║ nmod\n",
      "臣 NOUN ═╝<╝   ║ obj\n",
      "實 ADV  <════╗ ║ advmod\n",
      "受 VERB ═══╗═╝<╝ parataxis\n",
      "其 PRON <╗ ║     det\n",
      "眖 NOUN ═╝<╝     obj\n"
     ]
    },
    {
     "name": "stderr",
     "output_type": "stream",
     "text": [
      "\r"
     ]
    }
   ],
   "source": [
    "ex453 = nlp(\"豈惟寡君\\n舉群臣實受其眖\")\n",
    "render(ex453)"
   ]
  },
  {
   "cell_type": "markdown",
   "metadata": {},
   "source": [
    "### (d) 俱 'both, together'"
   ]
  },
  {
   "cell_type": "code",
   "execution_count": 21,
   "metadata": {},
   "outputs": [
    {
     "name": "stderr",
     "output_type": "stream",
     "text": [
      "                                                   "
     ]
    },
    {
     "name": "stdout",
     "output_type": "stream",
     "text": [
      "父 NOUN ═╗<╗ nsubj\n",
      "母 NOUN <╝ ║ flat\n",
      "俱 ADV  <╗ ║ advmod\n",
      "存 VERB ═╝═╝ ROOT\n",
      "兄 NOUN ═╗<╗ nsubj\n",
      "弟 NOUN <╝ ║ flat\n",
      "無 VERB ═╗═╝ ROOT\n",
      "故 NOUN <╝   obj\n",
      "一 NUM  <╗   nummod\n",
      "樂 NOUN ═╝═╗ ROOT\n",
      "也 PART <══╝ discourse:sp\n"
     ]
    },
    {
     "name": "stderr",
     "output_type": "stream",
     "text": [
      "\r"
     ]
    }
   ],
   "source": [
    "ex455 = nlp(\"父母俱存\\n兄弟無故\\n一樂也\")\n",
    "render(ex455)"
   ]
  },
  {
   "cell_type": "code",
   "execution_count": 22,
   "metadata": {},
   "outputs": [
    {
     "name": "stderr",
     "output_type": "stream",
     "text": [
      "                                                   "
     ]
    },
    {
     "name": "stdout",
     "output_type": "stream",
     "text": [
      "然 VERB <══════════════╗   advmod\n",
      "則 ADV  <════════════╗ ║   advmod\n",
      "我 PRON <══════════╗ ║ ║   nsubj\n",
      "與 ADP  <══╗       ║ ║ ║   case\n",
      "若 PRON <══║═════╗ ║ ║ ║   advmod\n",
      "與 ADP  <╗ ║     ║ ║ ║ ║   case\n",
      "人 NOUN ═╝═╝<══╗ ║ ║ ║ ║   obl\n",
      "俱 ADV  <════╗ ║ ║ ║ ║ ║   advmod\n",
      "不 ADV  <╗   ║ ║ ║ ║ ║ ║   advmod\n",
      "能 AUX  ═╝<╗ ║ ║ ║ ║ ║ ║   aux\n",
      "相 ADV  <╗ ║ ║ ║ ║ ║ ║ ║   advmod\n",
      "知 VERB ═╝═╝═╝═╝═╝═╝═╝═╝═╗ ROOT\n",
      "也 PART <════════════════╝ discourse:sp\n"
     ]
    },
    {
     "name": "stderr",
     "output_type": "stream",
     "text": [
      "\r"
     ]
    }
   ],
   "source": [
    "ex456 = nlp(\"然則我與若與人俱不能相知也\")\n",
    "render(ex456)"
   ]
  },
  {
   "cell_type": "code",
   "execution_count": 23,
   "metadata": {},
   "outputs": [
    {
     "name": "stderr",
     "output_type": "stream",
     "text": [
      "                                                   "
     ]
    },
    {
     "name": "stdout",
     "output_type": "stream",
     "text": [
      "雖 ADV  <════╗     advmod\n",
      "與 ADP  <╗   ║     case\n",
      "之 PRON ═╝<╗ ║     obl\n",
      "俱 ADV  <╗ ║ ║     advmod\n",
      "學 VERB ═╝═╝═╝<╗   advcl\n",
      "弗 ADV  <══╗   ║   advmod\n",
      "若 VERB ═╗═╝═══╝═╗ ROOT\n",
      "之 PRON <╝       ║ obj\n",
      "矣 PART <════════╝ discourse:sp\n"
     ]
    },
    {
     "name": "stderr",
     "output_type": "stream",
     "text": [
      "\r"
     ]
    }
   ],
   "source": [
    "ex457 = nlp(\"雖與之俱學弗若之矣\")\n",
    "render(ex457)"
   ]
  },
  {
   "cell_type": "code",
   "execution_count": 24,
   "metadata": {},
   "outputs": [
    {
     "name": "stderr",
     "output_type": "stream",
     "text": [
      "                                                   "
     ]
    },
    {
     "name": "stdout",
     "output_type": "stream",
     "text": [
      "民 NOUN <════╗ nsubj\n",
      "具 ADV  <══╗ ║ advmod\n",
      "爾 PRON <╗ ║ ║ obj\n",
      "瞻 VERB ═╝═╝═╝ ROOT\n"
     ]
    },
    {
     "name": "stderr",
     "output_type": "stream",
     "text": [
      "\r"
     ]
    }
   ],
   "source": [
    "ex458 = nlp(\"民具爾瞻\")\n",
    "render(ex458)"
   ]
  },
  {
   "cell_type": "markdown",
   "metadata": {},
   "source": [
    "### (e) 各 'each'"
   ]
  },
  {
   "cell_type": "code",
   "execution_count": 25,
   "metadata": {},
   "outputs": [
    {
     "name": "stderr",
     "output_type": "stream",
     "text": [
      "                                                   "
     ]
    },
    {
     "name": "stdout",
     "output_type": "stream",
     "text": [
      "各 ADV  <════╗     advmod\n",
      "欲 AUX  <══╗ ║     aux\n",
      "正 VERB ═╗═╝═╝═╗<╗ csubj\n",
      "己 PRON <╝     ║ ║ obj\n",
      "也 PART <══════╝ ║ mark\n",
      "焉 ADV  <══╗     ║ advmod\n",
      "用 VERB ═╗═╝═════╝ ROOT\n",
      "戰 NOUN <╝         obj\n"
     ]
    },
    {
     "name": "stderr",
     "output_type": "stream",
     "text": [
      "\r"
     ]
    }
   ],
   "source": [
    "ex459 = nlp(\"各欲正己也焉用戰\")\n",
    "render(ex459)"
   ]
  },
  {
   "cell_type": "markdown",
   "metadata": {},
   "source": [
    "### (f) 每 'every (time), always; whenever'"
   ]
  },
  {
   "cell_type": "code",
   "execution_count": 26,
   "metadata": {},
   "outputs": [
    {
     "name": "stderr",
     "output_type": "stream",
     "text": [
      "                                                   "
     ]
    },
    {
     "name": "stdout",
     "output_type": "stream",
     "text": [
      "聖 NOUN <╗       nmod\n",
      "人 NOUN ═╝<╗     nsubj\n",
      "踌 VERB ═╗═╝═╗═╗ ROOT\n",
      "躇 VERB <╝   ║ ║ flat:vv\n",
      "以 VERB <══╗ ║ ║ advmod\n",
      "興 VERB ═╗═╝<╝ ║ parataxis\n",
      "事 NOUN <╝     ║ obj\n",
      "以 VERB <════╗ ║ advmod\n",
      "每 VERB <══╗ ║ ║ advmod\n",
      "成 VERB ═╗═╝═╝<╝ parataxis\n",
      "功 NOUN <╝       obj\n"
     ]
    },
    {
     "name": "stderr",
     "output_type": "stream",
     "text": [
      "\r"
     ]
    }
   ],
   "source": [
    "ex460 = nlp(\"聖人踌躇以興事以每成功\")\n",
    "render(ex460)"
   ]
  },
  {
   "cell_type": "code",
   "execution_count": 29,
   "metadata": {},
   "outputs": [
    {
     "name": "stderr",
     "output_type": "stream",
     "text": [
      "                                                   "
     ]
    },
    {
     "name": "stdout",
     "output_type": "stream",
     "text": [
      "初 NOUN  <════╗   obl:tmod\n",
      "伯 PROPN ═╗<╗ ║   nsubj\n",
      "宗 PROPN <╝ ║ ║   flat\n",
      "每 VERB  <╗ ║ ║   advmod\n",
      "朝 VERB  ═╝═╝═╝   ROOT\n",
      "其 PRON  <╗       det\n",
      "妻 NOUN  ═╝<══╗   nsubj\n",
      "必 ADV   <══╗ ║   advmod\n",
      "戒 VERB  ═╗═╝═╝═╗ ROOT\n",
      "之 PRON  <╝     ║ obj\n",
      "曰 VERB  <══════╝ parataxis\n"
     ]
    },
    {
     "name": "stderr",
     "output_type": "stream",
     "text": [
      "\r"
     ]
    }
   ],
   "source": [
    "ex461 = nlp(\"初伯宗每朝\\n其妻必戒之曰\")\n",
    "render(ex461)"
   ]
  },
  {
   "cell_type": "code",
   "execution_count": 30,
   "metadata": {},
   "outputs": [
    {
     "name": "stderr",
     "output_type": "stream",
     "text": [
      "                                                   "
     ]
    },
    {
     "name": "stdout",
     "output_type": "stream",
     "text": [
      "國 NOUN <════╗   nsubj\n",
      "每 VERB <╗   ║   amod\n",
      "夜 NOUN ═╝<╗ ║   obl:tmod\n",
      "駭 VERB ═══╝═╝═╗ ROOT\n",
      "曰 VERB ═══╗═╗<╝ parataxis\n",
      "王 NOUN <╗ ║ ║   nsubj\n",
      "入 VERB ═╝<╝ ║   ccomp\n",
      "矣 PART <════╝   discourse:sp\n"
     ]
    },
    {
     "name": "stderr",
     "output_type": "stream",
     "text": [
      "\r"
     ]
    }
   ],
   "source": [
    "ex462 = nlp(\"國每夜駭曰王入矣\")\n",
    "render(ex462)"
   ]
  },
  {
   "cell_type": "markdown",
   "metadata": {},
   "source": [
    "### (g) Words of Verbal Origin"
   ]
  },
  {
   "cell_type": "markdown",
   "metadata": {},
   "source": [
    "## 2. Restriction"
   ]
  }
 ],
 "metadata": {
  "kernelspec": {
   "display_name": "Python 3.8.10 ('nlp')",
   "language": "python",
   "name": "python3"
  },
  "language_info": {
   "codemirror_mode": {
    "name": "ipython",
    "version": 3
   },
   "file_extension": ".py",
   "mimetype": "text/x-python",
   "name": "python",
   "nbconvert_exporter": "python",
   "pygments_lexer": "ipython3",
   "version": "3.8.10"
  },
  "orig_nbformat": 4,
  "vscode": {
   "interpreter": {
    "hash": "24c7420704055a54140a02528a2609fb6bd56fcb92850f5594d6233afbe4d574"
   }
  }
 },
 "nbformat": 4,
 "nbformat_minor": 2
}
