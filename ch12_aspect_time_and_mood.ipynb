{
 "cells": [
  {
   "cell_type": "markdown",
   "metadata": {},
   "source": [
    "# XII. Aspect, Time, and Mood"
   ]
  },
  {
   "cell_type": "code",
   "execution_count": 1,
   "metadata": {},
   "outputs": [
    {
     "name": "stderr",
     "output_type": "stream",
     "text": [
      "Some weights of the model checkpoint at KoichiYasuoka/roberta-classical-chinese-large-char were not used when initializing RobertaModel: ['lm_head.dense.bias', 'lm_head.layer_norm.weight', 'lm_head.layer_norm.bias', 'lm_head.decoder.bias', 'lm_head.bias', 'lm_head.decoder.weight', 'lm_head.dense.weight']\n",
      "- This IS expected if you are initializing RobertaModel from the checkpoint of a model trained on another task or with another architecture (e.g. initializing a BertForSequenceClassification model from a BertForPreTraining model).\n",
      "- This IS NOT expected if you are initializing RobertaModel from the checkpoint of a model that you expect to be exactly identical (initializing a BertForSequenceClassification model from a BertForSequenceClassification model).\n"
     ]
    }
   ],
   "source": [
    "from deplacy import render\n",
    "from suparkanbun import load\n",
    "from transformers import logging\n",
    "\n",
    "logging.logging.disable(logging.INFO)\n",
    "\n",
    "nlp = load(BERT=\"roberta-classical-chinese-large-char\", Danku=False)"
   ]
  },
  {
   "cell_type": "markdown",
   "metadata": {},
   "source": [
    "## 1. Verbal Aspect - Preverbal Particles"
   ]
  },
  {
   "cell_type": "markdown",
   "metadata": {},
   "source": [
    "### (a) 既"
   ]
  },
  {
   "cell_type": "code",
   "execution_count": 3,
   "metadata": {},
   "outputs": [
    {
     "name": "stderr",
     "output_type": "stream",
     "text": [
      "                                                   "
     ]
    },
    {
     "name": "stdout",
     "output_type": "stream",
     "text": [
      "日 NOUN <════╗ nsubj\n",
      "有 VERB ═══╗═╝ ROOT\n",
      "食 VERB ═╗<╝   ccomp\n",
      "之 PRON <╝     obj\n",
      "既 VERB        ROOT\n"
     ]
    },
    {
     "name": "stderr",
     "output_type": "stream",
     "text": [
      "\r"
     ]
    }
   ],
   "source": [
    "ex398 = nlp(\"日有食之\\n既\")\n",
    "render(ex398)"
   ]
  },
  {
   "cell_type": "code",
   "execution_count": 5,
   "metadata": {},
   "outputs": [
    {
     "name": "stderr",
     "output_type": "stream",
     "text": [
      "                                                   "
     ]
    },
    {
     "name": "stdout",
     "output_type": "stream",
     "text": [
      "聞 VERB  ═══════╗ ROOT\n",
      "守 VERB  ═╗<╗   ║ acl\n",
      "卞 PROPN <╝ ║   ║ obj\n",
      "者 PART  ═══╝<╗ ║ nsubj\n",
      "將 ADV   <╗   ║ ║ advmod\n",
      "叛 VERB  ═╝═══╝<╝ ccomp\n",
      "臣 NOUN  <══╗     nsubj\n",
      "帥 VERB  ═╗═╝═╗   ROOT\n",
      "徒 NOUN  <╝   ║   obj\n",
      "以 VERB  <══╗ ║   advmod\n",
      "討 VERB  ═╗═╝<╝   parataxis\n",
      "之 PRON  <╝       obj\n",
      "既 ADV   <══╗     advmod\n",
      "得 VERB  ═╗═╝═╗   ROOT\n",
      "之 PRON  <╝   ║   obj\n",
      "矣 PART  <════╝   discourse:sp\n"
     ]
    },
    {
     "name": "stderr",
     "output_type": "stream",
     "text": [
      "\r"
     ]
    }
   ],
   "source": [
    "ex399 = nlp(\"聞守卞者將叛\\n臣帥徒以討之\\n既得之矣\")\n",
    "render(ex399)"
   ]
  },
  {
   "cell_type": "code",
   "execution_count": 6,
   "metadata": {},
   "outputs": [
    {
     "name": "stderr",
     "output_type": "stream",
     "text": [
      "                                                   "
     ]
    },
    {
     "name": "stdout",
     "output_type": "stream",
     "text": [
      "然   VERB <══════╗     advmod\n",
      "則   ADV  <════╗ ║     advmod\n",
      "夫子 NOUN <══╗ ║ ║     nsubj\n",
      "既   ADV  <╗ ║ ║ ║     advmod\n",
      "聖   NOUN ═╝═╝═╝═╝═╗═╗ ROOT\n",
      "矣   PART <════════╝ ║ discourse:sp\n",
      "乎   PART <══════════╝ discourse:sp\n"
     ]
    },
    {
     "name": "stderr",
     "output_type": "stream",
     "text": [
      "\r"
     ]
    }
   ],
   "source": [
    "ex400 = nlp(\"然則夫子既聖矣乎\")\n",
    "render(ex400)"
   ]
  },
  {
   "cell_type": "code",
   "execution_count": 8,
   "metadata": {},
   "outputs": [
    {
     "name": "stderr",
     "output_type": "stream",
     "text": [
      "                                                   "
     ]
    },
    {
     "name": "stdout",
     "output_type": "stream",
     "text": [
      "兵 NOUN <╗   nmod\n",
      "刃 NOUN ═╝<╗ nsubj\n",
      "既 ADV  <╗ ║ advmod\n",
      "接 VERB ═╝═╝ ROOT\n"
     ]
    },
    {
     "name": "stderr",
     "output_type": "stream",
     "text": [
      "\r"
     ]
    }
   ],
   "source": [
    "ex401 = nlp(\"兵刃既接\")\n",
    "render(ex401)"
   ]
  },
  {
   "cell_type": "code",
   "execution_count": 9,
   "metadata": {},
   "outputs": [
    {
     "name": "stderr",
     "output_type": "stream",
     "text": [
      "                                                   "
     ]
    },
    {
     "name": "stdout",
     "output_type": "stream",
     "text": [
      "既 ADV   <══════╗   advmod\n",
      "而 CCONJ <════╗ ║   advmod\n",
      "幡 VERB  ═╗<╗ ║ ║   advmod\n",
      "然 PART  <╝ ║ ║ ║   fixed\n",
      "改 VERB  ═══╝═╝═╝═╗ ROOT\n",
      "曰 VERB  <════════╝ parataxis\n"
     ]
    },
    {
     "name": "stderr",
     "output_type": "stream",
     "text": [
      "\r"
     ]
    }
   ],
   "source": [
    "ex402 = nlp(\"既而幡然改曰\")\n",
    "render(ex402)"
   ]
  },
  {
   "cell_type": "code",
   "execution_count": 11,
   "metadata": {},
   "outputs": [
    {
     "name": "stderr",
     "output_type": "stream",
     "text": [
      "                                                   "
     ]
    },
    {
     "name": "stdout",
     "output_type": "stream",
     "text": [
      "既 ADV  <════╗   advmod\n",
      "欲 VERB ═══╗═╝═╗ ROOT\n",
      "其 PRON <╗ ║   ║ det\n",
      "生 NOUN ═╝<╝   ║ obj\n",
      "又 ADV  <════╗ ║ advmod\n",
      "欲 VERB ═══╗═╝<╝ conj\n",
      "其 PRON <╗ ║     det\n",
      "死 NOUN ═╝<╝     obj\n",
      "是 PRON <╗       nsubj\n",
      "惑 NOUN ═╝═╗     ROOT\n",
      "也 PART <══╝     discourse:sp\n"
     ]
    },
    {
     "name": "stderr",
     "output_type": "stream",
     "text": [
      "\r"
     ]
    }
   ],
   "source": [
    "ex403 = nlp(\"既欲其生又欲其死\\n是惑也\")\n",
    "render(ex403)"
   ]
  },
  {
   "cell_type": "markdown",
   "metadata": {},
   "source": [
    "### (b) 未"
   ]
  },
  {
   "cell_type": "code",
   "execution_count": 14,
   "metadata": {},
   "outputs": [
    {
     "name": "stderr",
     "output_type": "stream",
     "text": [
      "                                                   "
     ]
    },
    {
     "name": "stdout",
     "output_type": "stream",
     "text": [
      "未   ADV  <══╗   advmod\n",
      "見   VERB ═╗═╝   ROOT\n",
      "君子 NOUN <╝     obj\n",
      "惄   VERB <════╗ advmod\n",
      "如   VERB ═══╗═╝ ROOT\n",
      "調   NOUN ═╗<╝   obj\n",
      "飢   VERB <╝     obj\n",
      "既   ADV  <══╗   advmod\n",
      "見   VERB ═╗═╝   ROOT\n",
      "君子 NOUN <╝     obj\n",
      "不   ADV  <════╗ advmod\n",
      "我   PRON <══╗ ║ nsubj\n",
      "遐   VERB <╗ ║ ║ advmod\n",
      "棄   VERB ═╝═╝═╝ ROOT\n"
     ]
    },
    {
     "name": "stderr",
     "output_type": "stream",
     "text": [
      "\r"
     ]
    }
   ],
   "source": [
    "ex404 = nlp(\"未見君子\\n惄如調飢\\n既見君子\\n不我遐棄\")\n",
    "render(ex404)"
   ]
  },
  {
   "cell_type": "code",
   "execution_count": 15,
   "metadata": {},
   "outputs": [
    {
     "name": "stderr",
     "output_type": "stream",
     "text": [
      "                                                   "
     ]
    },
    {
     "name": "stdout",
     "output_type": "stream",
     "text": [
      "未 ADV   <════════════╗   advmod\n",
      "有 VERB  ═══════════╗═╝═╗ ROOT\n",
      "仁 VERB  ═══════╗<╗ ║   ║ acl\n",
      "而 CCONJ <════╗ ║ ║ ║   ║ cc\n",
      "遺 VERB  ═══╗═╝<╝ ║ ║   ║ conj\n",
      "其 PRON  <╗ ║     ║ ║   ║ det\n",
      "親 NOUN  ═╝<╝     ║ ║   ║ obj\n",
      "者 PART  ═════════╝<╝   ║ obj\n",
      "也 PART  <══════════════╝ discourse:sp\n"
     ]
    },
    {
     "name": "stderr",
     "output_type": "stream",
     "text": [
      "\r"
     ]
    }
   ],
   "source": [
    "ex405 = nlp(\"未有仁而遺其親者也\")\n",
    "render(ex405)"
   ]
  },
  {
   "cell_type": "code",
   "execution_count": 16,
   "metadata": {},
   "outputs": [
    {
     "name": "stderr",
     "output_type": "stream",
     "text": [
      "                                                   "
     ]
    },
    {
     "name": "stdout",
     "output_type": "stream",
     "text": [
      "今 NOUN <════╗   obl:tmod\n",
      "既 ADV  <══╗ ║   advmod\n",
      "數 NOUN <╗ ║ ║   nmod\n",
      "月 NOUN ═╝═╝═╝═╗ ROOT\n",
      "矣 PART <══════╝ discourse:sp\n",
      "未 ADV  <══╗     advmod\n",
      "可 AUX  ═╗═╝<╗   aux\n",
      "以 VERB <╝   ║   fixed\n",
      "言 VERB ═════╝═╗ ROOT\n",
      "與 PART <══════╝ discourse:sp\n"
     ]
    },
    {
     "name": "stderr",
     "output_type": "stream",
     "text": [
      "\r"
     ]
    }
   ],
   "source": [
    "ex406 = nlp(\"今既數月矣\\n未可以言與\")\n",
    "render(ex406)"
   ]
  },
  {
   "cell_type": "code",
   "execution_count": 18,
   "metadata": {},
   "outputs": [
    {
     "name": "stderr",
     "output_type": "stream",
     "text": [
      "                                                   "
     ]
    },
    {
     "name": "stdout",
     "output_type": "stream",
     "text": [
      "未 ADV   <╗       advmod\n",
      "成 VERB  ═╝       ROOT\n",
      "一 NUM   <════╗   nummod\n",
      "人 NOUN  ═╗<╗ ║   nmod\n",
      "之 SCONJ <╝ ║ ║   case\n",
      "蛇 NOUN  ═══╝═╝<╗ nsubj\n",
      "成 VERB  ═══════╝ ROOT\n"
     ]
    },
    {
     "name": "stderr",
     "output_type": "stream",
     "text": [
      "\r"
     ]
    }
   ],
   "source": [
    "ex407 = nlp(\"未成\\n一人之蛇成\")\n",
    "render(ex407)"
   ]
  },
  {
   "cell_type": "markdown",
   "metadata": {},
   "source": [
    "### (c) Preverbal 已"
   ]
  },
  {
   "cell_type": "code",
   "execution_count": 19,
   "metadata": {},
   "outputs": [
    {
     "name": "stderr",
     "output_type": "stream",
     "text": [
      "                                                   "
     ]
    },
    {
     "name": "stdout",
     "output_type": "stream",
     "text": [
      "人 NOUN <════════╗ nsubj\n",
      "皆 ADV  <══════╗ ║ advmod\n",
      "謂 VERB ═╗═══╗═╝═╝ ROOT\n",
      "我 PRON <╝   ║     obj\n",
      "毁 VERB ═══╗<╝     xcomp\n",
      "明 NOUN <╗ ║       nmod\n",
      "堂 NOUN ═╝<╝       obj\n",
      "毁 VERB ═╗         ROOT\n",
      "諸 PRON <╝         obj\n",
      "已 VERB ═╗         ROOT\n",
      "乎 PART <╝         discourse:sp\n"
     ]
    },
    {
     "name": "stderr",
     "output_type": "stream",
     "text": [
      "\r"
     ]
    }
   ],
   "source": [
    "ex408 = nlp(\"人皆謂我毁明堂\\n毁諸\\n已乎\")\n",
    "render(ex408)"
   ]
  },
  {
   "cell_type": "code",
   "execution_count": 21,
   "metadata": {},
   "outputs": [
    {
     "name": "stderr",
     "output_type": "stream",
     "text": [
      "                                                   "
     ]
    },
    {
     "name": "stdout",
     "output_type": "stream",
     "text": [
      "君子 NOUN  <════════╗     nsubj\n",
      "以   VERB  ═══════╗═╝<╗   advcl\n",
      "齊   PROPN <╗     ║   ║   nmod\n",
      "人   NOUN  ═╝<╗   ║   ║   nsubj\n",
      "殺   VERB  ═╗═╝═╗<╝   ║   ccomp\n",
      "哀姜 PROPN <╝   ║     ║   obj\n",
      "也   PART  <════╝     ║   mark\n",
      "為   VERB  ═══╗═══════╝═╗ ROOT\n",
      "已   ADV   <╗ ║         ║ advmod\n",
      "甚   VERB  ═╝<╝         ║ ccomp\n",
      "矣   PART  <════════════╝ discourse:sp\n"
     ]
    },
    {
     "name": "stderr",
     "output_type": "stream",
     "text": [
      "\r"
     ]
    }
   ],
   "source": [
    "ex409 = nlp(\"君子以齊人殺哀姜也為已甚矣\")\n",
    "render(ex409)"
   ]
  },
  {
   "cell_type": "code",
   "execution_count": 22,
   "metadata": {},
   "outputs": [
    {
     "name": "stderr",
     "output_type": "stream",
     "text": [
      "                                                   "
     ]
    },
    {
     "name": "stdout",
     "output_type": "stream",
     "text": [
      "年   NOUN <══╗   nsubj\n",
      "已   ADV  <╗ ║   advmod\n",
      "七十 NUM  ═╝═╝═╗ ROOT\n",
      "矣   PART <════╝ discourse:sp\n"
     ]
    },
    {
     "name": "stderr",
     "output_type": "stream",
     "text": [
      "\r"
     ]
    }
   ],
   "source": [
    "ex410 = nlp(\"年已七十矣\")\n",
    "render(ex410)"
   ]
  },
  {
   "cell_type": "code",
   "execution_count": 23,
   "metadata": {},
   "outputs": [
    {
     "name": "stderr",
     "output_type": "stream",
     "text": [
      "                                                   "
     ]
    },
    {
     "name": "stdout",
     "output_type": "stream",
     "text": [
      "聖 NOUN  <╗         nmod\n",
      "人 NOUN  ═╝<╗       nsubj\n",
      "已 ADV   <╗ ║       advmod\n",
      "死 VERB  ═╝═╝<══╗   advcl\n",
      "則 ADV   <════╗ ║   advmod\n",
      "大 VERB  <╗   ║ ║   amod\n",
      "盗 NOUN  ═╝<╗ ║ ║   nsubj\n",
      "不 ADV   <╗ ║ ║ ║   advmod\n",
      "起 VERB  ═╝═╝═╝═╝   ROOT\n",
      "天 NOUN  <╗         compound\n",
      "下 NOUN  ═╝<════╗   nsubj\n",
      "平 VERB  ═════╗═╝═╗ ROOT\n",
      "而 CCONJ <══╗ ║   ║ cc\n",
      "無 VERB  ═╗═╝<╝   ║ conj\n",
      "故 NOUN  <╝       ║ obj\n",
      "矣 PART  <════════╝ discourse:sp\n"
     ]
    },
    {
     "name": "stderr",
     "output_type": "stream",
     "text": [
      "\r"
     ]
    }
   ],
   "source": [
    "ex411 = nlp(\"聖人已死則大盗不起\\n天下平而無故矣\")\n",
    "render(ex411)"
   ]
  },
  {
   "cell_type": "code",
   "execution_count": 24,
   "metadata": {},
   "outputs": [
    {
     "name": "stderr",
     "output_type": "stream",
     "text": [
      "                                                   "
     ]
    },
    {
     "name": "stdout",
     "output_type": "stream",
     "text": [
      "予 PRON <══════╗   nsubj\n",
      "既 ADV  <════╗ ║   advmod\n",
      "已 ADV  <══╗ ║ ║   advmod\n",
      "知 VERB ═╗═╝═╝═╝═╗ ROOT\n",
      "之 PRON <╝       ║ obj\n",
      "矣 PART <════════╝ discourse:sp\n"
     ]
    },
    {
     "name": "stderr",
     "output_type": "stream",
     "text": [
      "\r"
     ]
    }
   ],
   "source": [
    "ex412 = nlp(\"予既已知之矣\")\n",
    "render(ex412)"
   ]
  },
  {
   "cell_type": "code",
   "execution_count": 25,
   "metadata": {},
   "outputs": [
    {
     "name": "stderr",
     "output_type": "stream",
     "text": [
      "                                                   "
     ]
    },
    {
     "name": "stdout",
     "output_type": "stream",
     "text": [
      "已 ADV   <══════╗ advmod\n",
      "而 CCONJ <════╗ ║ advmod\n",
      "大 VERB  <╗   ║ ║ amod\n",
      "魚 NOUN  ═╝<╗ ║ ║ nsubj\n",
      "食 VERB  ═╗═╝═╝═╝ ROOT\n",
      "之 PRON  <╝       obj\n"
     ]
    },
    {
     "name": "stderr",
     "output_type": "stream",
     "text": [
      "\r"
     ]
    }
   ],
   "source": [
    "ex413 = nlp(\"已而大魚食之\")\n",
    "render(ex413)"
   ]
  },
  {
   "cell_type": "markdown",
   "metadata": {},
   "source": [
    "## 2. Sentential Aspect - Sentence Final Particles"
   ]
  },
  {
   "cell_type": "markdown",
   "metadata": {},
   "source": [
    "### (a) 矣"
   ]
  },
  {
   "cell_type": "code",
   "execution_count": 26,
   "metadata": {},
   "outputs": [
    {
     "name": "stderr",
     "output_type": "stream",
     "text": [
      "                                                   "
     ]
    },
    {
     "name": "stdout",
     "output_type": "stream",
     "text": [
      "苗 NOUN <══╗   nsubj\n",
      "則 ADV  <╗ ║   advmod\n",
      "槁 VERB ═╝═╝═╗ ROOT\n",
      "矣 PART <════╝ discourse:sp\n"
     ]
    },
    {
     "name": "stderr",
     "output_type": "stream",
     "text": [
      "\r"
     ]
    }
   ],
   "source": [
    "ex414 = nlp(\"苗則槁矣\")\n",
    "render(ex414)"
   ]
  },
  {
   "cell_type": "code",
   "execution_count": 27,
   "metadata": {},
   "outputs": [
    {
     "name": "stderr",
     "output_type": "stream",
     "text": [
      "                                                   "
     ]
    },
    {
     "name": "stdout",
     "output_type": "stream",
     "text": [
      "上 NOUN  ═╗<════╗   nsubj\n",
      "下 NOUN  <╝     ║   flat\n",
      "交 ADV   <══╗   ║   advmod\n",
      "征 VERB  ═╗═╝═╗═╝═╗ ROOT\n",
      "利 NOUN  <╝   ║   ║ obj\n",
      "而 CCONJ <══╗ ║   ║ cc\n",
      "國 NOUN  <╗ ║ ║   ║ nsubj\n",
      "危 VERB  ═╝═╝<╝   ║ conj\n",
      "矣 PART  <════════╝ discourse:sp\n"
     ]
    },
    {
     "name": "stderr",
     "output_type": "stream",
     "text": [
      "\r"
     ]
    }
   ],
   "source": [
    "ex415 = nlp(\"上下交征利而國危矣\")\n",
    "render(ex415)"
   ]
  },
  {
   "cell_type": "markdown",
   "metadata": {},
   "source": [
    "### (b) 也"
   ]
  },
  {
   "cell_type": "code",
   "execution_count": 30,
   "metadata": {},
   "outputs": [
    {
     "name": "stderr",
     "output_type": "stream",
     "text": [
      "                                                   "
     ]
    },
    {
     "name": "stdout",
     "output_type": "stream",
     "text": [
      "齊   PROPN <╗             nmod\n",
      "人   NOUN  ═╝<══════════╗ nsubj\n",
      "曰   VERB  ═══════════╗═╝ ROOT\n",
      "所   PART  <════╗     ║   case\n",
      "以   VERB  ═══╗═╝<╗   ║   advcl\n",
      "為   ADP   <╗ ║   ║   ║   cop\n",
      "蚔鼃 PROPN ═╝<╝   ║   ║   obj\n",
      "則   ADV   <╗     ║   ║   advmod\n",
      "好   VERB  ═╝═════╝═╗<╝   ccomp\n",
      "矣   PART  <════════╝     discourse:sp\n",
      "所   PART  <════╗         mark\n",
      "以   VERB  ═══╗═╝<╗       advcl\n",
      "自   PRON  ═╗<╝   ║       obl\n",
      "為   ADP   <╝     ║       case\n",
      "則   ADV   <════╗ ║       advmod\n",
      "吾   PRON  <══╗ ║ ║       nsubj\n",
      "不   ADV   <╗ ║ ║ ║       advmod\n",
      "知   VERB  ═╝═╝═╝═╝═╗     ROOT\n",
      "也   PART  <════════╝     discourse:sp\n"
     ]
    },
    {
     "name": "stderr",
     "output_type": "stream",
     "text": [
      "\r"
     ]
    }
   ],
   "source": [
    "ex416 = nlp(\"齊人曰所以為蚔鼃則好矣\\n所以自為則吾不知也\")\n",
    "render(ex416)"
   ]
  },
  {
   "cell_type": "markdown",
   "metadata": {},
   "source": [
    "### (c) 已"
   ]
  },
  {
   "cell_type": "code",
   "execution_count": 29,
   "metadata": {},
   "outputs": [
    {
     "name": "stderr",
     "output_type": "stream",
     "text": [
      "                                                   "
     ]
    },
    {
     "name": "stdout",
     "output_type": "stream",
     "text": [
      "然 VERB  <══════════╗   advmod\n",
      "則 ADV   <════════╗ ║   advmod\n",
      "王 NOUN  ═╗<══╗   ║ ║   nsubj\n",
      "之 SCONJ <╝   ║   ║ ║   case\n",
      "所 PART  <══╗ ║   ║ ║   mark\n",
      "大 VERB  <╗ ║ ║   ║ ║   advmod\n",
      "欲 VERB  ═╝═╝═╝<╗ ║ ║   csubj\n",
      "可 AUX   <╗     ║ ║ ║   aux\n",
      "知 VERB  ═╝═════╝═╝═╝═╗ ROOT\n",
      "已 PART  <════════════╝ discourse:sp\n"
     ]
    },
    {
     "name": "stderr",
     "output_type": "stream",
     "text": [
      "\r"
     ]
    }
   ],
   "source": [
    "ex417 = nlp(\"然則王之所大欲可知已\")\n",
    "render(ex417)"
   ]
  },
  {
   "cell_type": "markdown",
   "metadata": {},
   "source": [
    "## 3. Time Words"
   ]
  }
 ],
 "metadata": {
  "kernelspec": {
   "display_name": "Python 3.8.10 ('nlp')",
   "language": "python",
   "name": "python3"
  },
  "language_info": {
   "codemirror_mode": {
    "name": "ipython",
    "version": 3
   },
   "file_extension": ".py",
   "mimetype": "text/x-python",
   "name": "python",
   "nbconvert_exporter": "python",
   "pygments_lexer": "ipython3",
   "version": "3.8.10"
  },
  "orig_nbformat": 4,
  "vscode": {
   "interpreter": {
    "hash": "0364c37b15e7a6e1c36ca05f1a9e06ef739d4c2650a4a4d0869c3126484e1dba"
   }
  }
 },
 "nbformat": 4,
 "nbformat_minor": 2
}
