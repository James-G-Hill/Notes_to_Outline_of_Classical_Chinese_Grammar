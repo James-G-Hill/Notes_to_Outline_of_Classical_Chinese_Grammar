{
 "cells": [
  {
   "cell_type": "markdown",
   "metadata": {},
   "source": [
    "# XV. Complex Sentences"
   ]
  },
  {
   "cell_type": "code",
   "execution_count": 1,
   "metadata": {},
   "outputs": [
    {
     "name": "stderr",
     "output_type": "stream",
     "text": [
      "Some weights of the model checkpoint at KoichiYasuoka/roberta-classical-chinese-large-char were not used when initializing RobertaModel: ['lm_head.decoder.weight', 'lm_head.dense.bias', 'lm_head.bias', 'lm_head.dense.weight', 'lm_head.layer_norm.bias', 'lm_head.decoder.bias', 'lm_head.layer_norm.weight']\n",
      "- This IS expected if you are initializing RobertaModel from the checkpoint of a model trained on another task or with another architecture (e.g. initializing a BertForSequenceClassification model from a BertForPreTraining model).\n",
      "- This IS NOT expected if you are initializing RobertaModel from the checkpoint of a model that you expect to be exactly identical (initializing a BertForSequenceClassification model from a BertForSequenceClassification model).\n"
     ]
    }
   ],
   "source": [
    "from deplacy import render\n",
    "from suparkanbun import load\n",
    "from transformers import logging\n",
    "\n",
    "logging.logging.disable(logging.INFO)\n",
    "\n",
    "nlp = load(BERT=\"roberta-classical-chinese-large-char\", Danku=False)"
   ]
  },
  {
   "cell_type": "markdown",
   "metadata": {},
   "source": [
    "## 1. Parataxis and Hypotaxis"
   ]
  },
  {
   "cell_type": "code",
   "execution_count": 2,
   "metadata": {},
   "outputs": [
    {
     "name": "stderr",
     "output_type": "stream",
     "text": [
      "                                                   "
     ]
    },
    {
     "name": "stdout",
     "output_type": "stream",
     "text": [
      "滕   PROPN <══╗       nmod\n",
      "文   PROPN <╗ ║       compound\n",
      "公   NOUN  ═╝═╝<══╗   nsubj\n",
      "為   VERB  <╗     ║   cop\n",
      "世子 NOUN  ═╝<══╗ ║   nsubj\n",
      "將   ADV   <══╗ ║ ║   advmod\n",
      "之   VERB  ═╗═╝═╝═╝═╗ ROOT\n",
      "楚   PROPN <╝       ║ obj\n",
      "過   VERB  ═╗═══╗<══╝ parataxis\n",
      "宋   PROPN <╝   ║     obj\n",
      "而   CCONJ <══╗ ║     cc\n",
      "見   VERB  ═╗═╝<╝     conj\n",
      "孟子 PROPN <╝         obj\n"
     ]
    },
    {
     "name": "stderr",
     "output_type": "stream",
     "text": [
      "\r"
     ]
    }
   ],
   "source": [
    "ex539 = nlp(\"滕文公為世子將之楚過宋而見孟子\")\n",
    "render(ex539)"
   ]
  },
  {
   "cell_type": "markdown",
   "metadata": {},
   "source": [
    "## 2. Conditional Clauses"
   ]
  },
  {
   "cell_type": "markdown",
   "metadata": {},
   "source": [
    "### (a) Parataxis"
   ]
  },
  {
   "cell_type": "code",
   "execution_count": 3,
   "metadata": {},
   "outputs": [
    {
     "name": "stderr",
     "output_type": "stream",
     "text": [
      "                                                   "
     ]
    },
    {
     "name": "stdout",
     "output_type": "stream",
     "text": [
      "不 ADV  <╗   advmod\n",
      "奪 VERB ═╝═╗ ROOT\n",
      "不 ADV  <╗ ║ advmod\n",
      "饜 VERB ═╝<╝ parataxis\n"
     ]
    },
    {
     "name": "stderr",
     "output_type": "stream",
     "text": [
      "\r"
     ]
    }
   ],
   "source": [
    "ex540 = nlp(\"不奪不饜\")\n",
    "render(ex540)"
   ]
  },
  {
   "cell_type": "code",
   "execution_count": 4,
   "metadata": {},
   "outputs": [
    {
     "name": "stderr",
     "output_type": "stream",
     "text": [
      "                                                   "
     ]
    },
    {
     "name": "stdout",
     "output_type": "stream",
     "text": [
      "不 ADV   <╗         advmod\n",
      "能 AUX   ═╝<════╗   aux\n",
      "更 VERB  <════╗ ║   advmod\n",
      "鳴 VERB  ═══╗═╝═╝═╗ ROOT\n",
      "東 NOUN  <╗ ║     ║ obl:lmod\n",
      "徙 VERB  ═╝<╝     ║ conj\n",
      "猶 ADV   <══════╗ ║ advmod\n",
      "惡 VERB  ═════╗═╝<╝ parataxis\n",
      "子 PRON  ═╗<╗ ║     nmod\n",
      "之 SCONJ <╝ ║ ║     case\n",
      "聲 NOUN  ═══╝<╝     obj\n"
     ]
    },
    {
     "name": "stderr",
     "output_type": "stream",
     "text": [
      "\r"
     ]
    }
   ],
   "source": [
    "ex541 = nlp(\"不能更鳴東徙猶惡子之聲\")\n",
    "render(ex541)"
   ]
  },
  {
   "cell_type": "markdown",
   "metadata": {},
   "source": [
    "### (b) Subordination by a Particle in the If-Clause"
   ]
  },
  {
   "cell_type": "markdown",
   "metadata": {},
   "source": [
    "#### (i) 若, 如, 而"
   ]
  },
  {
   "cell_type": "code",
   "execution_count": 6,
   "metadata": {},
   "outputs": [
    {
     "name": "stderr",
     "output_type": "stream",
     "text": [
      "                                                   "
     ]
    },
    {
     "name": "stdout",
     "output_type": "stream",
     "text": [
      "若 ADV   ═══════╗ ROOT\n",
      "闕 VERB  <════╗ ║ nmod\n",
      "地 NOUN  ═══╗═╝<╝ obj\n",
      "及 VERB  <╗ ║     cc\n",
      "泉 NOUN  ═╝<╝     conj\n",
      "隧 NOUN  ═════╗   ROOT\n",
      "而 CCONJ <══╗ ║   cc\n",
      "相 ADV   <╗ ║ ║   advmod\n",
      "見 VERB  ═╝═╝<╝   conj\n",
      "其 PART  <══════╗ discourse\n",
      "誰 PRON  <════╗ ║ nsubj\n",
      "曰 VERB  ═══╗═╝═╝ ROOT\n",
      "不 ADV   <╗ ║     advmod\n",
      "然 VERB  ═╝<╝     ccomp\n"
     ]
    },
    {
     "name": "stderr",
     "output_type": "stream",
     "text": [
      "\r"
     ]
    }
   ],
   "source": [
    "ex542 = nlp(\"若闕地及泉\\n隧而相見\\n其誰曰不然\")\n",
    "render(ex542)"
   ]
  },
  {
   "cell_type": "code",
   "execution_count": 8,
   "metadata": {},
   "outputs": [
    {
     "name": "stderr",
     "output_type": "stream",
     "text": [
      "                                                   "
     ]
    },
    {
     "name": "stdout",
     "output_type": "stream",
     "text": [
      "如 ADV   <══════╗ advmod\n",
      "欲 AUX   <════╗ ║ aux\n",
      "平 VERB  ═╗═╗═╝═╝ ROOT\n",
      "治 VERB  <╝ ║     flat:vv\n",
      "天 NOUN  <╗ ║     compound\n",
      "下 NOUN  ═╝<╝     obj\n",
      "當 VERB  ═════╗   ROOT\n",
      "今 NOUN  ═╗<╗ ║   nmod\n",
      "之 SCONJ <╝ ║ ║   case\n",
      "世 NOUN  ═══╝<╝   obj\n",
      "舍 VERB  ═╗<╗     advcl\n",
      "我 PRON  <╝ ║     obj\n",
      "其 PART  <══║═╗   discourse\n",
      "誰 PRON  ═══╝═╝═╗ ROOT\n",
      "也 PART  <══════╝ discourse:sp\n"
     ]
    },
    {
     "name": "stderr",
     "output_type": "stream",
     "text": [
      "\r"
     ]
    }
   ],
   "source": [
    "ex543 = nlp(\"如欲平治天下\\n當今之世\\n舍我其誰也\")\n",
    "render(ex543)"
   ]
  },
  {
   "cell_type": "code",
   "execution_count": 9,
   "metadata": {},
   "outputs": [
    {
     "name": "stderr",
     "output_type": "stream",
     "text": [
      "                                                   "
     ]
    },
    {
     "name": "stdout",
     "output_type": "stream",
     "text": [
      "若 VERB  <════╗ advmod\n",
      "趙 PROPN ═╗<╗ ║ nsubj\n",
      "孟 PROPN <╝ ║ ║ flat\n",
      "死 VERB  ═══╝═╝ ROOT\n"
     ]
    },
    {
     "name": "stderr",
     "output_type": "stream",
     "text": [
      "\r"
     ]
    }
   ],
   "source": [
    "ex544 = nlp(\"若趙孟死\")\n",
    "render(ex544)"
   ]
  },
  {
   "cell_type": "code",
   "execution_count": 10,
   "metadata": {},
   "outputs": [
    {
     "name": "stderr",
     "output_type": "stream",
     "text": [
      "                                                   "
     ]
    },
    {
     "name": "stdout",
     "output_type": "stream",
     "text": [
      "如 ADV  <════════════╗ advmod\n",
      "知 VERB <╗           ║ amod\n",
      "者 PART ═╝<════════╗ ║ nsubj\n",
      "亦 ADV  <════════╗ ║ ║ advmod\n",
      "行 VERB ═══════╗═╝═╝═╝ ROOT\n",
      "其 PRON <════╗ ║       nsubj\n",
      "所 PART <══╗ ║ ║       mark\n",
      "無 VERB ═╗═╝═╝<╝       ccomp\n",
      "事 NOUN <╝             obj\n"
     ]
    },
    {
     "name": "stderr",
     "output_type": "stream",
     "text": [
      "\r"
     ]
    }
   ],
   "source": [
    "ex545 = nlp(\"如知者亦行其所無事\")\n",
    "render(ex545)"
   ]
  },
  {
   "cell_type": "code",
   "execution_count": 11,
   "metadata": {},
   "outputs": [
    {
     "name": "stderr",
     "output_type": "stream",
     "text": [
      "                                                   "
     ]
    },
    {
     "name": "stdout",
     "output_type": "stream",
     "text": [
      "子 PRON <════╗       nsubj\n",
      "若 ADV  <══╗ ║       advmod\n",
      "免 VERB ═╗═╝═╝<╗     advcl\n",
      "之 PRON <╝     ║     obj\n",
      "以 VERB <════╗ ║     advmod\n",
      "勸 VERB ═══╗═╝═╝<╗   csubj\n",
      "左 NOUN ═╗<╝     ║   obj\n",
      "右 NOUN <╝       ║   flat\n",
      "可 VERB ═════════╝═╗ ROOT\n",
      "也 PART <══════════╝ discourse:sp\n"
     ]
    },
    {
     "name": "stderr",
     "output_type": "stream",
     "text": [
      "\r"
     ]
    }
   ],
   "source": [
    "ex546 = nlp(\"子若免之以勸左右可也\")\n",
    "render(ex546)"
   ]
  },
  {
   "cell_type": "code",
   "execution_count": 12,
   "metadata": {},
   "outputs": [
    {
     "name": "stderr",
     "output_type": "stream",
     "text": [
      "                                                   "
     ]
    },
    {
     "name": "stdout",
     "output_type": "stream",
     "text": [
      "王 NOUN <════╗ nsubj\n",
      "如 ADV  <══╗ ║ advmod\n",
      "知 VERB ═╗═╝═╝ ROOT\n",
      "此 PRON <╝     obj\n"
     ]
    },
    {
     "name": "stderr",
     "output_type": "stream",
     "text": [
      "\r"
     ]
    }
   ],
   "source": [
    "ex547 = nlp(\"王如知此\")\n",
    "render(ex547)"
   ]
  },
  {
   "cell_type": "code",
   "execution_count": 13,
   "metadata": {},
   "outputs": [
    {
     "name": "stderr",
     "output_type": "stream",
     "text": [
      "                                                   "
     ]
    },
    {
     "name": "stdout",
     "output_type": "stream",
     "text": [
      "子產 PROPN <══╗     nsubj\n",
      "而   CCONJ <╗ ║     advmod\n",
      "死   VERB  ═╝═╝<╗   advcl\n",
      "誰   PRON  <══╗ ║   nsubj\n",
      "其   PART     ║ ║<╗ discourse\n",
      "嗣   VERB  ═╗═╝═╝═╝ ROOT\n",
      "之   PRON  <╝       obj\n"
     ]
    },
    {
     "name": "stderr",
     "output_type": "stream",
     "text": [
      "\r"
     ]
    }
   ],
   "source": [
    "ex548 = nlp(\"子產而死誰其嗣之\")\n",
    "render(ex548)"
   ]
  },
  {
   "cell_type": "code",
   "execution_count": 14,
   "metadata": {},
   "outputs": [
    {
     "name": "stderr",
     "output_type": "stream",
     "text": [
      "                                                   "
     ]
    },
    {
     "name": "stdout",
     "output_type": "stream",
     "text": [
      "焉 ADV   <══════╗   advmod\n",
      "有 VERB  ═════╗═╝<╗ advcl\n",
      "仁 VERB  <╗   ║   ║ amod\n",
      "人 NOUN  ═╝<╗ ║   ║ nsubj\n",
      "在 VERB  ═╗═╝<╝   ║ ccomp\n",
      "位 NOUN  <╝       ║ obj\n",
      "罔 VERB  ═╗═════╗═╝ ROOT\n",
      "民 NOUN  <╝     ║   obj\n",
      "而 CCONJ <══╗   ║   cc\n",
      "可 AUX   <╗ ║   ║   aux\n",
      "為 VERB  ═╝═╝═╗<╝   conj\n",
      "也 PART  <════╝     discourse:sp\n"
     ]
    },
    {
     "name": "stderr",
     "output_type": "stream",
     "text": [
      "\r"
     ]
    }
   ],
   "source": [
    "ex549 = nlp(\"焉有仁人在位罔民而可為也\")\n",
    "render(ex549)"
   ]
  },
  {
   "cell_type": "markdown",
   "metadata": {},
   "source": [
    "#### (ii) 使, 令, etc., 'supposing'"
   ]
  },
  {
   "cell_type": "code",
   "execution_count": 17,
   "metadata": {},
   "outputs": [
    {
     "name": "stderr",
     "output_type": "stream",
     "text": [
      "                                                   "
     ]
    },
    {
     "name": "stdout",
     "output_type": "stream",
     "text": [
      "曩 ADV   <╗     nmod\n",
      "者 PART  ═╝     ROOT\n",
      "使 VERB  ═══╗═╗ ROOT\n",
      "女 NOUN  <╗ ║ ║ nmod\n",
      "狗 NOUN  ═╝<╝ ║ obj\n",
      "白 VERB  ═══╗<╝ xcomp\n",
      "而 CCONJ <╗ ║   cc\n",
      "往 VERB  ═╝<╝   conj\n",
      "黑 VERB  ═══╗   ROOT\n",
      "而 CCONJ <╗ ║   cc\n",
      "來 VERB  ═╝<╝   conj\n"
     ]
    },
    {
     "name": "stderr",
     "output_type": "stream",
     "text": [
      "\r"
     ]
    }
   ],
   "source": [
    "ex550 = nlp(\"曩者\\n使女狗白而往\\n黑而來\")\n",
    "render(ex550)"
   ]
  },
  {
   "cell_type": "code",
   "execution_count": 18,
   "metadata": {},
   "outputs": [
    {
     "name": "stderr",
     "output_type": "stream",
     "text": [
      "                                                   "
     ]
    },
    {
     "name": "stdout",
     "output_type": "stream",
     "text": [
      "嗟 INTJ ═╗<══════╗     discourse\n",
      "乎 PART <╝       ║     fixed\n",
      "令 VERB ═══╗═╗═╗═╝═╗═╗ ROOT\n",
      "冬 NOUN <╗ ║ ║ ║   ║ ║ nmod\n",
      "月 NOUN ═╝<╝ ║ ║   ║ ║ obj\n",
      "益 VERB <════╝ ║   ║ ║ ccomp\n",
      "展 VERB ═══╗<══╝   ║ ║ xcomp\n",
      "一 NUM  <╗ ║       ║ ║ nummod\n",
      "月 NOUN ═╝<╝       ║ ║ obj\n",
      "足 VERB ═══╗<══════╝ ║ parataxis\n",
      "吾 PRON <╗ ║         ║ det\n",
      "事 NOUN ═╝<╝         ║ obj\n",
      "矣 PART <════════════╝ discourse:sp\n"
     ]
    },
    {
     "name": "stderr",
     "output_type": "stream",
     "text": [
      "\r"
     ]
    }
   ],
   "source": [
    "ex551 = nlp(\"嗟乎令冬月益展一月足吾事矣\")\n",
    "render(ex551)"
   ]
  },
  {
   "cell_type": "code",
   "execution_count": 19,
   "metadata": {},
   "outputs": [
    {
     "name": "stderr",
     "output_type": "stream",
     "text": [
      "                                                   "
     ]
    },
    {
     "name": "stdout",
     "output_type": "stream",
     "text": [
      "假 VERB  ═╗<╗       advcl\n",
      "之 PRON  <╝ ║       obj\n",
      "有 VERB  ═╗═╝═══╗═╗ ROOT\n",
      "人 NOUN  <╝     ║ ║ obj\n",
      "而 CCONJ <════╗ ║ ║ cc\n",
      "欲 VERB  ═╗<╗ ║ ║ ║ csubj\n",
      "南 NOUN  <╝ ║ ║ ║ ║ obj\n",
      "無 VERB  <╗ ║ ║ ║ ║ advmod\n",
      "多 VERB  ═╝═╝═╝<╝ ║ conj\n",
      "而 CCONJ <════╗   ║ cc\n",
      "惡 VERB  ═╗<╗ ║   ║ csubj\n",
      "北 NOUN  <╝ ║ ║   ║ obj\n",
      "無 VERB  <╗ ║ ║   ║ advmod\n",
      "寡 VERB  ═╝═╝═╝<══╝ conj\n"
     ]
    },
    {
     "name": "stderr",
     "output_type": "stream",
     "text": [
      "\r"
     ]
    }
   ],
   "source": [
    "ex552 = nlp(\"假之有人而欲南無多而惡北無寡\")\n",
    "render(ex552)"
   ]
  },
  {
   "cell_type": "code",
   "execution_count": 20,
   "metadata": {},
   "outputs": [
    {
     "name": "stderr",
     "output_type": "stream",
     "text": [
      "                                                   "
     ]
    },
    {
     "name": "stdout",
     "output_type": "stream",
     "text": [
      "設 VERB  <════╗   advmod\n",
      "秦 PROPN <══╗ ║   nsubj\n",
      "得 VERB  ═╗═╝═╝<╗ csubj\n",
      "人 NOUN  <╝     ║ obj\n",
      "如 VERB  ═╗═════╝ ROOT\n",
      "何 PRON  <╝       obj\n"
     ]
    },
    {
     "name": "stderr",
     "output_type": "stream",
     "text": [
      "\r"
     ]
    }
   ],
   "source": [
    "ex553 = nlp(\"設秦得人如何\")\n",
    "render(ex553)"
   ]
  },
  {
   "cell_type": "markdown",
   "metadata": {},
   "source": [
    "#### (iii) 苟"
   ]
  },
  {
   "cell_type": "code",
   "execution_count": 21,
   "metadata": {},
   "outputs": [
    {
     "name": "stderr",
     "output_type": "stream",
     "text": [
      "                                                   "
     ]
    },
    {
     "name": "stdout",
     "output_type": "stream",
     "text": [
      "無 VERB <══╗   advmod\n",
      "曰 VERB ═╗═╝═╗ ROOT\n",
      "苟 VERB <╝   ║ obj\n",
      "矣 PART <════╝ discourse:sp\n"
     ]
    },
    {
     "name": "stderr",
     "output_type": "stream",
     "text": [
      "\r"
     ]
    }
   ],
   "source": [
    "ex554 = nlp(\"無曰苟矣\")\n",
    "render(ex554)"
   ]
  },
  {
   "cell_type": "code",
   "execution_count": 22,
   "metadata": {},
   "outputs": [
    {
     "name": "stderr",
     "output_type": "stream",
     "text": [
      "                                                   "
     ]
    },
    {
     "name": "stdout",
     "output_type": "stream",
     "text": [
      "君子 NOUN <════╗         nsubj\n",
      "於   ADP  ═══╗═╝<╗       csubj\n",
      "其   PRON <╗ ║   ║       det\n",
      "言   NOUN ═╝<╝   ║       obj\n",
      "無   VERB ═══╗═══╝═╗═╗═╗ ROOT\n",
      "所   PART <╗ ║     ║ ║ ║ case\n",
      "苟   VERB ═╝<╝     ║ ║ ║ obj\n",
      "而   PART <════════╝ ║ ║ discourse:sp\n",
      "已   PART <══════════╝ ║ discourse:sp\n",
      "矣   PART <════════════╝ discourse:sp\n"
     ]
    },
    {
     "name": "stderr",
     "output_type": "stream",
     "text": [
      "\r"
     ]
    }
   ],
   "source": [
    "ex555 = nlp(\"君子於其言無所苟而已矣\")\n",
    "render(ex555)"
   ]
  },
  {
   "cell_type": "code",
   "execution_count": 23,
   "metadata": {},
   "outputs": [
    {
     "name": "stderr",
     "output_type": "stream",
     "text": [
      "                                                   "
     ]
    },
    {
     "name": "stdout",
     "output_type": "stream",
     "text": [
      "苟 ADV  <══╗           advmod\n",
      "為 VERB ═╗═╝═════════╗ ROOT\n",
      "善 NOUN <╝           ║ obj\n",
      "後 NOUN <╗           ║ nmod\n",
      "世 NOUN ═╝<══════╗   ║ obl:tmod\n",
      "子 NOUN ═╗<════╗ ║   ║ nsubj\n",
      "孫 NOUN <╝     ║ ║   ║ conj\n",
      "必 ADV  <════╗ ║ ║   ║ advmod\n",
      "有 VERB ═══╗═╝═╝═╝═╗<╝ parataxis\n",
      "王 NOUN <╗ ║       ║   nmod\n",
      "者 PART ═╝<╝       ║   obj\n",
      "矣 PART <══════════╝   discourse:sp\n"
     ]
    },
    {
     "name": "stderr",
     "output_type": "stream",
     "text": [
      "\r"
     ]
    }
   ],
   "source": [
    "ex556 = nlp(\"苟為善後世子孫必有王者矣\")\n",
    "render(ex556)"
   ]
  },
  {
   "cell_type": "code",
   "execution_count": 24,
   "metadata": {},
   "outputs": [
    {
     "name": "stderr",
     "output_type": "stream",
     "text": [
      "                                                   "
     ]
    },
    {
     "name": "stdout",
     "output_type": "stream",
     "text": [
      "苟 ADV  <════╗   advmod\n",
      "有 VERB ═══╗═╝═╗ ROOT\n",
      "其 PRON <╗ ║   ║ nsubj\n",
      "備 VERB ═╝<╝   ║ ccomp\n",
      "何 PRON <════╗ ║ advmod\n",
      "故 NOUN <══╗ ║ ║ advmod\n",
      "不 ADV  <╗ ║ ║ ║ advmod\n",
      "可 VERB ═╝═╝═╝<╝ parataxis\n"
     ]
    },
    {
     "name": "stderr",
     "output_type": "stream",
     "text": [
      "\r"
     ]
    }
   ],
   "source": [
    "ex557 = nlp(\"苟有其備何故不可\")\n",
    "render(ex557)"
   ]
  },
  {
   "cell_type": "code",
   "execution_count": 25,
   "metadata": {},
   "outputs": [
    {
     "name": "stderr",
     "output_type": "stream",
     "text": [
      "                                                   "
     ]
    },
    {
     "name": "stdout",
     "output_type": "stream",
     "text": [
      "怪 VERB  <══╗     amod\n",
      "星 NOUN  ═╗═╝<╗   nmod\n",
      "之 SCONJ <╝   ║   case\n",
      "黨 NOUN  ═════╝<╗ nsubj\n",
      "見 VERB  ═══════╝ ROOT\n"
     ]
    },
    {
     "name": "stderr",
     "output_type": "stream",
     "text": [
      "\r"
     ]
    }
   ],
   "source": [
    "ex558 = nlp(\"怪星之黨見\")\n",
    "render(ex558)"
   ]
  },
  {
   "cell_type": "markdown",
   "metadata": {},
   "source": [
    "#### (iv) 誠, 信"
   ]
  },
  {
   "cell_type": "code",
   "execution_count": 26,
   "metadata": {},
   "outputs": [
    {
     "name": "stderr",
     "output_type": "stream",
     "text": [
      "                                                   "
     ]
    },
    {
     "name": "stdout",
     "output_type": "stream",
     "text": [
      "誠 VERB  <══╗     advmod\n",
      "如 VERB  ═╗═╝═╗   ROOT\n",
      "是 PRON  <╝   ║   obj\n",
      "也 PART  <════╝   discourse:sp\n",
      "民 NOUN  <══╗     nsubj\n",
      "歸 VERB  ═╗═╝<══╗ csubj\n",
      "之 PRON  <╝     ║ obj\n",
      "猶 VERB  ═════╗═╝ ROOT\n",
      "水 NOUN  ═╗<╗ ║   nsubj\n",
      "之 SCONJ <╝ ║ ║   case\n",
      "就 VERB  ═╗═╝<╝   ccomp\n",
      "下 NOUN  <╝       obj\n"
     ]
    },
    {
     "name": "stderr",
     "output_type": "stream",
     "text": [
      "\r"
     ]
    }
   ],
   "source": [
    "ex559 = nlp(\"誠如是也\\n民歸之猶水之就下\")\n",
    "render(ex559)"
   ]
  },
  {
   "cell_type": "code",
   "execution_count": 27,
   "metadata": {},
   "outputs": [
    {
     "name": "stderr",
     "output_type": "stream",
     "text": [
      "                                                   "
     ]
    },
    {
     "name": "stdout",
     "output_type": "stream",
     "text": [
      "信 VERB  <════════╗     advmod\n",
      "能 AUX   <══════╗ ║     aux\n",
      "行 VERB  ═════╗═╝═╝     ROOT\n",
      "此 PRON  <══╗ ║         det\n",
      "五 NUM   <╗ ║ ║         nummod\n",
      "者 PART  ═╝═╝<╝         obj\n",
      "則 ADV   <══════════╗   advmod\n",
      "鄰 NOUN  <══╗       ║   nmod\n",
      "國 NOUN  ═╗═╝<╗     ║   nmod\n",
      "之 SCONJ <╝   ║     ║   case\n",
      "民 NOUN  ═════╝<╗   ║   nsubj\n",
      "仰 VERB  ═╗═════╝<╗ ║   csubj\n",
      "之 PRON  <╝       ║ ║   obj\n",
      "若 VERB  ═══╗═════╝═╝═╗ ROOT\n",
      "父 NOUN  ═╗<╝         ║ obj\n",
      "母 NOUN  <╝           ║ flat\n",
      "矣 PART  <════════════╝ discourse:sp\n"
     ]
    },
    {
     "name": "stderr",
     "output_type": "stream",
     "text": [
      "\r"
     ]
    }
   ],
   "source": [
    "ex560 = nlp(\"信能行此五者\\n則鄰國之民仰之若父母矣\")\n",
    "render(ex560)"
   ]
  },
  {
   "cell_type": "markdown",
   "metadata": {},
   "source": [
    "#### (v) 即"
   ]
  },
  {
   "cell_type": "code",
   "execution_count": 3,
   "metadata": {},
   "outputs": [
    {
     "name": "stderr",
     "output_type": "stream",
     "text": [
      "                                                   "
     ]
    },
    {
     "name": "stdout",
     "output_type": "stream",
     "text": [
      "仲父 PROPN <══╗     nsubj\n",
      "家   NOUN  <╗ ║     obj\n",
      "居   VERB  ═╝═╝═╗   ROOT\n",
      "有   VERB  ═╗<══╝   parataxis\n",
      "病   NOUN  <╝       obj\n",
      "即   ADV   <══════╗ advmod\n",
      "不   ADV   <╗     ║ advmod\n",
      "幸   VERB  ═╝═══╗═╝ ROOT\n",
      "而   CCONJ <══╗ ║   cc\n",
      "不   ADV   <╗ ║ ║   advmod\n",
      "起   VERB  ═╝═╝<╝   conj\n",
      "政   NOUN  <╗       compound\n",
      "安   ADV   ═╝<╗     nsubj\n",
      "遷   VERB  ═╗═╝     ROOT\n",
      "之   PRON  <╝       obj\n"
     ]
    },
    {
     "name": "stderr",
     "output_type": "stream",
     "text": [
      "\r"
     ]
    }
   ],
   "source": [
    "ex561 = nlp(\"仲父家居有病\\n即不幸而不起\\n政安遷之\")\n",
    "render(ex561)"
   ]
  },
  {
   "cell_type": "markdown",
   "metadata": {},
   "source": [
    "#### (vi) 非"
   ]
  },
  {
   "cell_type": "code",
   "execution_count": 4,
   "metadata": {},
   "outputs": [
    {
     "name": "stderr",
     "output_type": "stream",
     "text": [
      "                                                   "
     ]
    },
    {
     "name": "stdout",
     "output_type": "stream",
     "text": [
      "非 ADV  <════╗   advmod\n",
      "我 PRON <══╗ ║   det\n",
      "族 NOUN <╗ ║ ║   nmod\n",
      "類 NOUN ═╝═╝═╝═╗ ROOT\n",
      "其 PRON <╗     ║ det\n",
      "心 NOUN ═╝<╗   ║ nsubj\n",
      "必 ADV  <╗ ║   ║ advmod\n",
      "異 VERB ═╝═╝<══╝ parataxis\n"
     ]
    },
    {
     "name": "stderr",
     "output_type": "stream",
     "text": [
      "\r"
     ]
    }
   ],
   "source": [
    "ex562 = nlp(\"非我族類其心必異\")\n",
    "render(ex562)"
   ]
  },
  {
   "cell_type": "code",
   "execution_count": 2,
   "metadata": {},
   "outputs": [
    {
     "name": "stderr",
     "output_type": "stream",
     "text": [
      "                                                   "
     ]
    },
    {
     "name": "stdout",
     "output_type": "stream",
     "text": [
      "今 NOUN  <════════╗   obl:tmod\n",
      "人 NOUN  ═╗═╗<╗   ║   nsubj\n",
      "主 NOUN  <╝ ║ ║   ║   flat\n",
      "之 SCONJ <══╝ ║   ║   case\n",
      "於 VERB  ═╗═══╝<╗ ║   csubj\n",
      "治 VERB  <╝     ║ ║   obj\n",
      "亦 ADV   <╗     ║ ║   advmod\n",
      "然 VERB  ═╝═════╝═╝   ROOT\n",
      "非 ADV   <══════╗     advmod\n",
      "不 ADV   <════╗ ║     advmod\n",
      "知 VERB  ═══╗═╝═╝<══╗ advcl\n",
      "有 VERB  ═╗<╝       ║ ccomp\n",
      "苦 VERB  <╝         ║ obj\n",
      "則 ADV   <════════╗ ║ advmod\n",
      "安 ADV   <══════╗ ║ ║ advmod\n",
      "欲 AUX   <════╗ ║ ║ ║ aux\n",
      "治 VERB  ═══╗═╝═╝═╝═╝ ROOT\n",
      "其 PRON  <╗ ║         det\n",
      "國 NOUN  ═╝<╝         obj\n",
      "非 ADV   <══╗         advmod\n",
      "如 VERB  ═╗═╝<════╗   advcl\n",
      "是 PRON  <╝       ║   obj\n",
      "不 ADV   <╗       ║   advmod\n",
      "能 AUX   ═╝<══╗   ║   aux\n",
      "聽 VERB  ═══╗═╝═╗═╝   ROOT\n",
      "聖 NOUN  <╗ ║   ║     nsubj\n",
      "知 VERB  ═╝<╝   ║     ccomp\n",
      "而 CCONJ <════╗ ║     cc\n",
      "誅 VERB  ═══╗═╝<╝     conj\n",
      "亂 VERB  <╗ ║         amod\n",
      "臣 NOUN  ═╝<╝         obj\n"
     ]
    },
    {
     "name": "stderr",
     "output_type": "stream",
     "text": [
      "\r"
     ]
    }
   ],
   "source": [
    "ex563 = nlp(\"今人主之於治亦然\\n非不知有苦則安欲治其國\\n非如是不能聽聖知而誅亂臣\")\n",
    "render(ex563)"
   ]
  },
  {
   "cell_type": "markdown",
   "metadata": {},
   "source": [
    "#### (vii) 微 'if it were not for'"
   ]
  },
  {
   "cell_type": "markdown",
   "metadata": {},
   "source": [
    "### (c) Subordination by a Particle in the Main Clause"
   ]
  },
  {
   "cell_type": "markdown",
   "metadata": {},
   "source": [
    "#### (i) 則 'then'"
   ]
  },
  {
   "cell_type": "code",
   "execution_count": 5,
   "metadata": {},
   "outputs": [
    {
     "name": "stderr",
     "output_type": "stream",
     "text": [
      "                                                   "
     ]
    },
    {
     "name": "stdout",
     "output_type": "stream",
     "text": [
      "河 NOUN <╗         nmod\n",
      "内 NOUN ═╝<╗       nsubj\n",
      "凶 VERB ═══╝<════╗ advcl\n",
      "則 ADV  <══════╗ ║ advmod\n",
      "移 VERB ═══╗═╗═╝═╝ ROOT\n",
      "其 PRON <╗ ║ ║     det\n",
      "民 NOUN ═╝<╝ ║     obj\n",
      "於 ADP  <══╗ ║     case\n",
      "河 NOUN <╗ ║ ║     nmod\n",
      "東 NOUN ═╝═╝<╝     obl:lmod\n"
     ]
    },
    {
     "name": "stderr",
     "output_type": "stream",
     "text": [
      "\r"
     ]
    }
   ],
   "source": [
    "ex564 = nlp(\"河内凶則移其民於河東\")\n",
    "render(ex564)"
   ]
  },
  {
   "cell_type": "code",
   "execution_count": null,
   "metadata": {},
   "outputs": [],
   "source": [
    "ex565 = nlp(\"以五十步笑百步則何如\")\n",
    "render(ex565)"
   ]
  },
  {
   "cell_type": "markdown",
   "metadata": {},
   "source": [
    "#### (ii) 斯 'then'"
   ]
  },
  {
   "cell_type": "code",
   "execution_count": null,
   "metadata": {},
   "outputs": [],
   "source": [
    "ex566 = nlp(\"觀過斯知仁矣\")\n",
    "render(ex566)"
   ]
  },
  {
   "cell_type": "code",
   "execution_count": null,
   "metadata": {},
   "outputs": [],
   "source": [
    "ex567 = nlp(\"王無罪歲斯天下之民至焉\")\n",
    "render(ex567)"
   ]
  },
  {
   "cell_type": "markdown",
   "metadata": {},
   "source": [
    "#### (iii) 即 'then'"
   ]
  },
  {
   "cell_type": "code",
   "execution_count": null,
   "metadata": {},
   "outputs": [],
   "source": [
    "ex568 = nlp(\"原三日即下矣\")\n",
    "render(ex568)"
   ]
  },
  {
   "cell_type": "code",
   "execution_count": null,
   "metadata": {},
   "outputs": [],
   "source": [
    "ex569 = nlp(\"及魏招之即反為魏守豊\")\n",
    "render(ex569)"
   ]
  },
  {
   "cell_type": "code",
   "execution_count": null,
   "metadata": {},
   "outputs": [],
   "source": [
    "ex570 = nlp(\"助之視聽者眾則其所聞見者遠矣\\n助之動作者眾即其舉事速成矣\")\n",
    "render(ex570)"
   ]
  }
 ],
 "metadata": {
  "kernelspec": {
   "display_name": "Python 3.8.10 ('nlp')",
   "language": "python",
   "name": "python3"
  },
  "language_info": {
   "codemirror_mode": {
    "name": "ipython",
    "version": 3
   },
   "file_extension": ".py",
   "mimetype": "text/x-python",
   "name": "python",
   "nbconvert_exporter": "python",
   "pygments_lexer": "ipython3",
   "version": "3.8.10"
  },
  "orig_nbformat": 4,
  "vscode": {
   "interpreter": {
    "hash": "24c7420704055a54140a02528a2609fb6bd56fcb92850f5594d6233afbe4d574"
   }
  }
 },
 "nbformat": 4,
 "nbformat_minor": 2
}
