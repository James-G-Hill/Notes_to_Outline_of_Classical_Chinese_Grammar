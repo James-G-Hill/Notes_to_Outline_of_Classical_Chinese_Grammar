{
 "cells": [
  {
   "cell_type": "markdown",
   "metadata": {},
   "source": [
    "# X. Adverbs"
   ]
  },
  {
   "cell_type": "code",
   "execution_count": 2,
   "metadata": {},
   "outputs": [
    {
     "name": "stderr",
     "output_type": "stream",
     "text": [
      "Some weights of the model checkpoint at KoichiYasuoka/roberta-classical-chinese-large-char were not used when initializing RobertaModel: ['lm_head.bias', 'lm_head.dense.weight', 'lm_head.decoder.weight', 'lm_head.dense.bias', 'lm_head.layer_norm.bias', 'lm_head.layer_norm.weight', 'lm_head.decoder.bias']\n",
      "- This IS expected if you are initializing RobertaModel from the checkpoint of a model trained on another task or with another architecture (e.g. initializing a BertForSequenceClassification model from a BertForPreTraining model).\n",
      "- This IS NOT expected if you are initializing RobertaModel from the checkpoint of a model that you expect to be exactly identical (initializing a BertForSequenceClassification model from a BertForSequenceClassification model).\n"
     ]
    }
   ],
   "source": [
    "from deplacy import render\n",
    "from suparkanbun import load\n",
    "from transformers import logging\n",
    "\n",
    "logging.logging.disable(logging.INFO)\n",
    "\n",
    "nlp = load(BERT=\"roberta-classical-chinese-large-char\", Danku=False)"
   ]
  },
  {
   "cell_type": "markdown",
   "metadata": {},
   "source": [
    "## 1. Adverbial Use of Noun"
   ]
  },
  {
   "cell_type": "markdown",
   "metadata": {},
   "source": [
    "The following doesn't recognise the adverbial use of 人."
   ]
  },
  {
   "cell_type": "code",
   "execution_count": 3,
   "metadata": {},
   "outputs": [
    {
     "name": "stderr",
     "output_type": "stream",
     "text": [
      "                                                   "
     ]
    },
    {
     "name": "stdout",
     "output_type": "stream",
     "text": [
      "豕 NOUN  <╗     nmod\n",
      "人 NOUN  ═╝<══╗ nsubj\n",
      "立 VERB  ═══╗═╝ ROOT\n",
      "而 CCONJ <╗ ║   cc\n",
      "啼 VERB  ═╝<╝   conj\n"
     ]
    },
    {
     "name": "stderr",
     "output_type": "stream",
     "text": [
      "\r"
     ]
    }
   ],
   "source": [
    "ex354 = nlp(\"豕人立而啼\")\n",
    "render(ex354)"
   ]
  },
  {
   "cell_type": "code",
   "execution_count": 4,
   "metadata": {},
   "outputs": [
    {
     "name": "stderr",
     "output_type": "stream",
     "text": [
      "                                                   "
     ]
    },
    {
     "name": "stdout",
     "output_type": "stream",
     "text": [
      "欲 VERB  ═══════╗═╗ ROOT\n",
      "其 PRON  <══╗   ║ ║ det\n",
      "子 NOUN  ═╗═╝<╗ ║ ║ nsubj\n",
      "之 SCONJ <╝   ║ ║ ║ case\n",
      "齊 PROPN <╗   ║ ║ ║ obl:lmod\n",
      "語 VERB  ═╝═══╝<╝ ║ ccomp\n",
      "也 PART  <════════╝ discourse:sp\n"
     ]
    },
    {
     "name": "stderr",
     "output_type": "stream",
     "text": [
      "\r"
     ]
    }
   ],
   "source": [
    "ex355 = nlp(\"欲其子之齊語也\")\n",
    "render(ex355)"
   ]
  },
  {
   "cell_type": "code",
   "execution_count": 6,
   "metadata": {},
   "outputs": [
    {
     "name": "stderr",
     "output_type": "stream",
     "text": [
      "                                                   "
     ]
    },
    {
     "name": "stdout",
     "output_type": "stream",
     "text": [
      "舜 PROPN <════╗   nsubj\n",
      "勤 VERB  ═══╗═╝═╗ ROOT\n",
      "民 NOUN  <╗ ║   ║ nmod\n",
      "事 NOUN  ═╝<╝   ║ obj\n",
      "而 CCONJ <══╗   ║ cc\n",
      "野 NOUN  <╗ ║   ║ obl:lmod\n",
      "死 VERB  ═╝═╝<══╝ conj\n",
      "冥 PROPN <════╗   nsubj\n",
      "勤 VERB  ═══╗═╝═╗ ROOT\n",
      "其 PRON  <╗ ║   ║ det\n",
      "官 NOUN  ═╝<╝   ║ obj\n",
      "而 CCONJ <══╗   ║ cc\n",
      "水 NOUN  <╗ ║   ║ obl:lmod\n",
      "死 VERB  ═╝═╝<══╝ conj\n",
      "稷 PROPN <════╗   nsubj\n",
      "勤 VERB  ═══╗═╝═╗ ROOT\n",
      "百 NUM   <╗ ║   ║ nummod\n",
      "穀 NOUN  ═╝<╝   ║ obj\n",
      "而 CCONJ <══╗   ║ cc\n",
      "山 NOUN  <╗ ║   ║ obl:lmod\n",
      "死 VERB  ═╝═╝<══╝ conj\n"
     ]
    },
    {
     "name": "stderr",
     "output_type": "stream",
     "text": [
      "\r"
     ]
    }
   ],
   "source": [
    "ex356 = nlp(\"舜勤民事而野死\\n冥勤其官而水死\\n稷勤百穀而山死\")\n",
    "render(ex356)"
   ]
  },
  {
   "cell_type": "code",
   "execution_count": 7,
   "metadata": {},
   "outputs": [
    {
     "name": "stderr",
     "output_type": "stream",
     "text": [
      "                                                   "
     ]
    },
    {
     "name": "stdout",
     "output_type": "stream",
     "text": [
      "子 PRON <════════╗   nsubj\n",
      "欲 AUX  <══════╗ ║   aux\n",
      "手 NOUN <════╗ ║ ║   obl\n",
      "援 VERB ═══╗═╝═╝═╝═╗ ROOT\n",
      "天 NOUN <╗ ║       ║ compound\n",
      "下 NOUN ═╝<╝       ║ obj\n",
      "乎 PART <══════════╝ discourse:sp\n"
     ]
    },
    {
     "name": "stderr",
     "output_type": "stream",
     "text": [
      "\r"
     ]
    }
   ],
   "source": [
    "ex357 = nlp(\"子欲手援天下乎\")\n",
    "render(ex357)"
   ]
  },
  {
   "cell_type": "markdown",
   "metadata": {},
   "source": [
    "## 2. Adjectives as Adverbs"
   ]
  },
  {
   "cell_type": "code",
   "execution_count": 8,
   "metadata": {},
   "outputs": [
    {
     "name": "stderr",
     "output_type": "stream",
     "text": [
      "                                                   "
     ]
    },
    {
     "name": "stdout",
     "output_type": "stream",
     "text": [
      "天 NOUN <╗     compound\n",
      "下 NOUN ═╝<══╗ nsubj\n",
      "又 ADV  <══╗ ║ advmod\n",
      "大 VERB <╗ ║ ║ advmod\n",
      "亂 VERB ═╝═╝═╝ ROOT\n"
     ]
    },
    {
     "name": "stderr",
     "output_type": "stream",
     "text": [
      "\r"
     ]
    }
   ],
   "source": [
    "ex358 = nlp(\"天下又大亂\")\n",
    "render(ex358)"
   ]
  },
  {
   "cell_type": "code",
   "execution_count": 9,
   "metadata": {},
   "outputs": [
    {
     "name": "stderr",
     "output_type": "stream",
     "text": [
      "                                                   "
     ]
    },
    {
     "name": "stdout",
     "output_type": "stream",
     "text": [
      "博 VERB  <╗           advmod\n",
      "學 VERB  ═╝═════╗<╗   advcl\n",
      "而 CCONJ <════╗ ║ ║   cc\n",
      "詳 VERB  <══╗ ║ ║ ║   advmod\n",
      "說 VERB  ═╗═╝═╝<╝ ║   conj\n",
      "之 PRON  <╝       ║   obj\n",
      "將 ADV   <══════╗ ║   advmod\n",
      "以 VERB  <════╗ ║ ║   advmod\n",
      "反 VERB  ═══╗═╝═╝═╝═╗ ROOT\n",
      "說 VERB  ═╗<╝       ║ ccomp\n",
      "約 NOUN  <╝         ║ obj\n",
      "也 PART  <══════════╝ discourse:sp\n"
     ]
    },
    {
     "name": "stderr",
     "output_type": "stream",
     "text": [
      "\r"
     ]
    }
   ],
   "source": [
    "ex359 = nlp(\"博學而詳說之將以反說約也\")\n",
    "render(ex359)"
   ]
  },
  {
   "cell_type": "code",
   "execution_count": 10,
   "metadata": {},
   "outputs": [
    {
     "name": "stderr",
     "output_type": "stream",
     "text": [
      "                                                   "
     ]
    },
    {
     "name": "stdout",
     "output_type": "stream",
     "text": [
      "甚 VERB <╗ advmod\n",
      "喜 VERB ═╝ ROOT\n"
     ]
    },
    {
     "name": "stderr",
     "output_type": "stream",
     "text": [
      "\r"
     ]
    }
   ],
   "source": [
    "ex360 = nlp(\"甚喜\")\n",
    "render(ex360)"
   ]
  },
  {
   "cell_type": "code",
   "execution_count": 11,
   "metadata": {},
   "outputs": [
    {
     "name": "stderr",
     "output_type": "stream",
     "text": [
      "                                                   "
     ]
    },
    {
     "name": "stdout",
     "output_type": "stream",
     "text": [
      "若   VERB  ═╗<══════╗ advcl\n",
      "是   PRON  <╝       ║ obj\n",
      "則   ADV   <══════╗ ║ advmod\n",
      "弟子 NOUN  ═╗<╗   ║ ║ nmod\n",
      "之   SCONJ <╝ ║   ║ ║ case\n",
      "惑   NOUN  ═══╝<╗ ║ ║ nsubj\n",
      "滋   ADV   <╗   ║ ║ ║ advmod\n",
      "甚   VERB  ═╝═══╝═╝═╝ ROOT\n"
     ]
    },
    {
     "name": "stderr",
     "output_type": "stream",
     "text": [
      "\r"
     ]
    }
   ],
   "source": [
    "ex361 = nlp(\"若是則弟子之惑滋甚\")\n",
    "render(ex361)"
   ]
  },
  {
   "cell_type": "markdown",
   "metadata": {},
   "source": [
    "## 3. Verbs as Aderbs"
   ]
  },
  {
   "cell_type": "code",
   "execution_count": 12,
   "metadata": {},
   "outputs": [
    {
     "name": "stderr",
     "output_type": "stream",
     "text": [
      "                                                   "
     ]
    },
    {
     "name": "stdout",
     "output_type": "stream",
     "text": [
      "故 ADV  <════════╗ advmod\n",
      "我 PRON <══╗     ║ nsubj\n",
      "有 VERB ═╗═╝<══╗ ║ advcl\n",
      "善 NOUN <╝     ║ ║ obj\n",
      "則 ADV  <════╗ ║ ║ advmod\n",
      "立 ADV  <══╗ ║ ║ ║ advmod\n",
      "譽 VERB ═╗═╝═╝═╝═╝ ROOT\n",
      "我 PRON <╝         obj\n",
      "我 PRON <══╗       nsubj\n",
      "有 VERB ═╗═╝<══╗   advcl\n",
      "過 NOUN <╝     ║   obj\n",
      "則 ADV  <════╗ ║   advmod\n",
      "立 ADV  <══╗ ║ ║   advmod\n",
      "毁 VERB ═╗═╝═╝═╝   ROOT\n",
      "我 PRON <╝         obj\n"
     ]
    },
    {
     "name": "stderr",
     "output_type": "stream",
     "text": [
      "\r"
     ]
    }
   ],
   "source": [
    "ex362 = nlp(\"故我有善則立譽我\\n我有過則立毁我\")\n",
    "render(ex362)"
   ]
  },
  {
   "cell_type": "markdown",
   "metadata": {},
   "source": [
    "## 4. Numerical Expressions as Adverbs"
   ]
  },
  {
   "cell_type": "code",
   "execution_count": 14,
   "metadata": {},
   "outputs": [
    {
     "name": "stderr",
     "output_type": "stream",
     "text": [
      "                                                   "
     ]
    },
    {
     "name": "stdout",
     "output_type": "stream",
     "text": [
      "五 NUM   <══╗         advmod\n",
      "就 VERB  ═╗═╝═╗<╗     acl\n",
      "湯 PROPN <╝   ║ ║     obj\n",
      "五 NUM   <══╗ ║ ║     advmod\n",
      "就 VERB  ═╗═╝<╝ ║     conj\n",
      "桀 PROPN <╝     ║     obj\n",
      "者 PART  ═══════╝<╗   nsubj\n",
      "伊 PROPN ═╗═══════╝═╗ ROOT\n",
      "尹 PROPN <╝         ║ flat\n",
      "也 PART  <══════════╝ discourse:sp\n"
     ]
    },
    {
     "name": "stderr",
     "output_type": "stream",
     "text": [
      "\r"
     ]
    }
   ],
   "source": [
    "ex363 = nlp(\"五就湯五就桀者伊尹也\")\n",
    "render(ex363)"
   ]
  },
  {
   "cell_type": "code",
   "execution_count": 16,
   "metadata": {},
   "outputs": [
    {
     "name": "stderr",
     "output_type": "stream",
     "text": [
      "                                                   "
     ]
    },
    {
     "name": "stdout",
     "output_type": "stream",
     "text": [
      "季   PROPN <╗       compound\n",
      "文   PROPN ═╝<════╗ nsubj\n",
      "字   NOUN  <╗     ║ nsubj\n",
      "三思 PROPN ═╝═══╗═╝ ROOT\n",
      "而   CCONJ <══╗ ║   cc\n",
      "後   NOUN  <╗ ║ ║   obl:tmod\n",
      "行   VERB  ═╝═╝<╝   conj\n",
      "子   NOUN  <══╗     nsubj\n",
      "聞   VERB  ═╗═╝═╗   ROOT\n",
      "之   PRON  <╝   ║   obj\n",
      "曰   VERB  <════╝   parataxis\n",
      "再   ADV   ═════╗   ROOT\n",
      "則   ADV   <╗   ║   advmod\n",
      "可   VERB  ═╝═╗<╝   parataxis\n",
      "矣   PART  <══╝     discourse:sp\n"
     ]
    },
    {
     "name": "stderr",
     "output_type": "stream",
     "text": [
      "\r"
     ]
    }
   ],
   "source": [
    "ex364 = nlp(\"季文字三思而後行\\n子聞之曰\\n再則可矣\")\n",
    "render(ex364)"
   ]
  },
  {
   "cell_type": "code",
   "execution_count": 17,
   "metadata": {},
   "outputs": [
    {
     "name": "stderr",
     "output_type": "stream",
     "text": [
      "                                                   "
     ]
    },
    {
     "name": "stdout",
     "output_type": "stream",
     "text": [
      "一 NUM   <══╗     advmod\n",
      "正 VERB  ═╗═╝═╗═╗ ROOT\n",
      "君 NOUN  <╝   ║ ║ obj\n",
      "而 CCONJ <══╗ ║ ║ cc\n",
      "國 NOUN  <╗ ║ ║ ║ nsubj\n",
      "定 VERB  ═╝═╝<╝ ║ conj\n",
      "矣 PART  <══════╝ discourse:sp\n"
     ]
    },
    {
     "name": "stderr",
     "output_type": "stream",
     "text": [
      "\r"
     ]
    }
   ],
   "source": [
    "ex365 = nlp(\"一正君而國定矣\")\n",
    "render(ex365)"
   ]
  },
  {
   "cell_type": "code",
   "execution_count": 18,
   "metadata": {},
   "outputs": [
    {
     "name": "stderr",
     "output_type": "stream",
     "text": [
      "                                                   "
     ]
    },
    {
     "name": "stdout",
     "output_type": "stream",
     "text": [
      "不 ADV  <╗   advmod\n",
      "日 NOUN ═╝<╗ obl:tmod\n",
      "成 VERB ═╗═╝ ROOT\n",
      "之 PRON <╝   obj\n"
     ]
    },
    {
     "name": "stderr",
     "output_type": "stream",
     "text": [
      "\r"
     ]
    }
   ],
   "source": [
    "ex366 = nlp(\"不日成之\")\n",
    "render(ex366)"
   ]
  },
  {
   "cell_type": "markdown",
   "metadata": {},
   "source": [
    "## 5. Expressive Adverbs in 然, 如"
   ]
  },
  {
   "cell_type": "code",
   "execution_count": 19,
   "metadata": {},
   "outputs": [
    {
     "name": "stderr",
     "output_type": "stream",
     "text": [
      "                                                   "
     ]
    },
    {
     "name": "stdout",
     "output_type": "stream",
     "text": [
      "卒 VERB ═╗<╗ advmod\n",
      "然 PART <╝ ║ fixed\n",
      "問 VERB ═══╝ ROOT\n"
     ]
    },
    {
     "name": "stderr",
     "output_type": "stream",
     "text": [
      "\r"
     ]
    }
   ],
   "source": [
    "ex367 = nlp(\"卒然問\")\n",
    "render(ex367)"
   ]
  },
  {
   "cell_type": "code",
   "execution_count": 20,
   "metadata": {},
   "outputs": [
    {
     "name": "stderr",
     "output_type": "stream",
     "text": [
      "                                                   "
     ]
    },
    {
     "name": "stdout",
     "output_type": "stream",
     "text": [
      "天 NOUN <════╗ nsubj\n",
      "油 NOUN ═╗<╗ ║ advcl\n",
      "然 PART <╝ ║ ║ fixed\n",
      "作 VERB ═╗═╝═╝ ROOT\n",
      "雲 NOUN <╝     obj\n"
     ]
    },
    {
     "name": "stderr",
     "output_type": "stream",
     "text": [
      "\r"
     ]
    }
   ],
   "source": [
    "ex368 = nlp(\"天油然作雲\")\n",
    "render(ex368)"
   ]
  },
  {
   "cell_type": "code",
   "execution_count": 21,
   "metadata": {},
   "outputs": [
    {
     "name": "stderr",
     "output_type": "stream",
     "text": [
      "                                                   "
     ]
    },
    {
     "name": "stdout",
     "output_type": "stream",
     "text": [
      "芒 NOUN ═╗═╗<╗ advmod\n",
      "芒 NOUN <╝ ║ ║ compound:redup\n",
      "然 PART <══╝ ║ fixed\n",
      "歸 VERB ═════╝ ROOT\n"
     ]
    },
    {
     "name": "stderr",
     "output_type": "stream",
     "text": [
      "\r"
     ]
    }
   ],
   "source": [
    "ex369 = nlp(\"芒芒然歸\")\n",
    "render(ex369)"
   ]
  },
  {
   "cell_type": "code",
   "execution_count": 22,
   "metadata": {},
   "outputs": [
    {
     "name": "stderr",
     "output_type": "stream",
     "text": [
      "                                                   "
     ]
    },
    {
     "name": "stdout",
     "output_type": "stream",
     "text": [
      "望 VERB ═╗═╗<╗ advmod\n",
      "望 VERB <╝ ║ ║ compound:redup\n",
      "然 PART <══╝ ║ fixed\n",
      "去 VERB ═╗═══╝ ROOT\n",
      "之 PRON <╝     obj\n"
     ]
    },
    {
     "name": "stderr",
     "output_type": "stream",
     "text": [
      "\r"
     ]
    }
   ],
   "source": [
    "ex370 = nlp(\"望望然去之\")\n",
    "render(ex370)"
   ]
  },
  {
   "cell_type": "code",
   "execution_count": 23,
   "metadata": {},
   "outputs": [
    {
     "name": "stderr",
     "output_type": "stream",
     "text": [
      "                                                   "
     ]
    },
    {
     "name": "stdout",
     "output_type": "stream",
     "text": [
      "施 VERB ═╗<══╗ advmod\n",
      "施 VERB <╝   ║ compound:redup\n",
      "從 ADP  <╗   ║ case\n",
      "外 NOUN ═╝<╗ ║ obl:lmod\n",
      "來 VERB ═══╝═╝ ROOT\n"
     ]
    },
    {
     "name": "stderr",
     "output_type": "stream",
     "text": [
      "\r"
     ]
    }
   ],
   "source": [
    "ex371 = nlp(\"施施從外來\")\n",
    "render(ex371)"
   ]
  }
 ],
 "metadata": {
  "kernelspec": {
   "display_name": "Python 3.8.10 ('nlp')",
   "language": "python",
   "name": "python3"
  },
  "language_info": {
   "codemirror_mode": {
    "name": "ipython",
    "version": 3
   },
   "file_extension": ".py",
   "mimetype": "text/x-python",
   "name": "python",
   "nbconvert_exporter": "python",
   "pygments_lexer": "ipython3",
   "version": "3.8.10"
  },
  "orig_nbformat": 4,
  "vscode": {
   "interpreter": {
    "hash": "0364c37b15e7a6e1c36ca05f1a9e06ef739d4c2650a4a4d0869c3126484e1dba"
   }
  }
 },
 "nbformat": 4,
 "nbformat_minor": 2
}
