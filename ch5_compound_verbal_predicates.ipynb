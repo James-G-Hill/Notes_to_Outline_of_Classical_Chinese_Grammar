{
 "cells": [
  {
   "cell_type": "markdown",
   "metadata": {},
   "source": [
    "# V. Compound Verbal Predicates"
   ]
  },
  {
   "cell_type": "code",
   "execution_count": 1,
   "metadata": {},
   "outputs": [
    {
     "name": "stderr",
     "output_type": "stream",
     "text": [
      "Some weights of the model checkpoint at KoichiYasuoka/roberta-classical-chinese-large-char were not used when initializing RobertaModel: ['lm_head.layer_norm.bias', 'lm_head.decoder.weight', 'lm_head.layer_norm.weight', 'lm_head.bias', 'lm_head.decoder.bias', 'lm_head.dense.bias', 'lm_head.dense.weight']\n",
      "- This IS expected if you are initializing RobertaModel from the checkpoint of a model trained on another task or with another architecture (e.g. initializing a BertForSequenceClassification model from a BertForPreTraining model).\n",
      "- This IS NOT expected if you are initializing RobertaModel from the checkpoint of a model that you expect to be exactly identical (initializing a BertForSequenceClassification model from a BertForSequenceClassification model).\n"
     ]
    }
   ],
   "source": [
    "from deplacy import render\n",
    "from suparkanbun import load\n",
    "from transformers import logging\n",
    "\n",
    "logging.logging.disable(logging.INFO)\n",
    "\n",
    "nlp = load(BERT=\"roberta-classical-chinese-large-char\", Danku=False)"
   ]
  },
  {
   "cell_type": "markdown",
   "metadata": {},
   "source": [
    "## 1. Coordination"
   ]
  },
  {
   "cell_type": "code",
   "execution_count": 2,
   "metadata": {},
   "outputs": [
    {
     "name": "stderr",
     "output_type": "stream",
     "text": [
      "                                                   "
     ]
    },
    {
     "name": "stdout",
     "output_type": "stream",
     "text": [
      "頒   VERB ═╗<╗       acl\n",
      "白   NOUN <╝ ║       obj\n",
      "者   PART ═══╝<══╗   nsubj\n",
      "不   ADV  <════╗ ║   advmod\n",
      "負   VERB ═╗═╗═╝═╝═╗ ROOT\n",
      "戴   VERB <╝ ║     ║ flat:vv\n",
      "於   ADP  <╗ ║     ║ case\n",
      "道路 NOUN ═╝<╝     ║ obl:lmod\n",
      "矣   PART <════════╝ discourse:sp\n"
     ]
    },
    {
     "name": "stderr",
     "output_type": "stream",
     "text": [
      "\r"
     ]
    }
   ],
   "source": [
    "ex102 = nlp(\"頒白者不負戴於道路矣\")\n",
    "render(ex102)"
   ]
  },
  {
   "cell_type": "code",
   "execution_count": 3,
   "metadata": {},
   "outputs": [
    {
     "name": "stderr",
     "output_type": "stream",
     "text": [
      "                                                   "
     ]
    },
    {
     "name": "stdout",
     "output_type": "stream",
     "text": [
      "邦 NOUN <══╗       nsubj\n",
      "有 VERB ═╗═╝═════╗ ROOT\n",
      "道 NOUN <╝       ║ obj\n",
      "貧 VERB ═══╗═╗═╗<╝ parataxis\n",
      "且 ADV  <╗ ║ ║ ║   cc\n",
      "賤 VERB ═╝<╝ ║ ║   conj\n",
      "焉 PART <════╝ ║   discourse:sp\n",
      "恥 NOUN ═╗<════╝   conj\n",
      "也 PART <╝         discourse:sp\n",
      "邦 NOUN <══╗       nsubj\n",
      "無 VERB ═╗═╝═════╗ ROOT\n",
      "道 NOUN <╝       ║ obj\n",
      "富 VERB ═══╗═╗═╗<╝ parataxis\n",
      "且 ADV  <╗ ║ ║ ║   cc\n",
      "貴 VERB ═╝<╝ ║ ║   conj\n",
      "焉 PART <════╝ ║   discourse:sp\n",
      "恥 NOUN ═╗<════╝   conj\n",
      "也 PART <╝         discourse:sp\n"
     ]
    },
    {
     "name": "stderr",
     "output_type": "stream",
     "text": [
      "\r"
     ]
    }
   ],
   "source": [
    "ex103 = nlp(\"邦有道貧且賤焉恥也\\n邦無道富且貴焉恥也\")\n",
    "render(ex103)"
   ]
  },
  {
   "cell_type": "markdown",
   "metadata": {},
   "source": [
    "## 2. Clause Objects - Verb Phrases as Objects of Transitive Verbs"
   ]
  },
  {
   "cell_type": "code",
   "execution_count": 4,
   "metadata": {},
   "outputs": [
    {
     "name": "stderr",
     "output_type": "stream",
     "text": [
      "                                                   "
     ]
    },
    {
     "name": "stdout",
     "output_type": "stream",
     "text": [
      "王 NOUN <════╗ nsubj\n",
      "欲 AUX  <══╗ ║ aux\n",
      "殺 VERB ═╗═╝═╝ ROOT\n",
      "人 NOUN <╝     obj\n"
     ]
    },
    {
     "name": "stderr",
     "output_type": "stream",
     "text": [
      "\r"
     ]
    }
   ],
   "source": [
    "ex_successive_verbs = nlp(\"王欲殺人\")\n",
    "render(ex_successive_verbs)"
   ]
  },
  {
   "cell_type": "code",
   "execution_count": 5,
   "metadata": {},
   "outputs": [
    {
     "name": "stderr",
     "output_type": "stream",
     "text": [
      "                                                   "
     ]
    },
    {
     "name": "stdout",
     "output_type": "stream",
     "text": [
      "則 ADV   <════════════╗   advmod\n",
      "無 VERB  <══════════╗ ║   advmod\n",
      "望 VERB  ═════════╗═╝═╝═╗ ROOT\n",
      "民 NOUN  ═╗<════╗ ║     ║ nsubj\n",
      "之 SCONJ <╝     ║ ║     ║ case\n",
      "多 VERB  ═════╗═╝<╝     ║ ccomp\n",
      "於 ADP   <══╗ ║         ║ case\n",
      "鄰 NOUN  <╗ ║ ║         ║ nmod\n",
      "國 NOUN  ═╝═╝<╝         ║ obl\n",
      "也 PART  <══════════════╝ discourse:sp\n"
     ]
    },
    {
     "name": "stderr",
     "output_type": "stream",
     "text": [
      "\r"
     ]
    }
   ],
   "source": [
    "ex104 = nlp(\"則無望民之多於鄰國也\")\n",
    "render(ex104)"
   ]
  },
  {
   "cell_type": "code",
   "execution_count": 6,
   "metadata": {},
   "outputs": [
    {
     "name": "stderr",
     "output_type": "stream",
     "text": [
      "                                                   "
     ]
    },
    {
     "name": "stdout",
     "output_type": "stream",
     "text": [
      "吾 PRON <════════╗   nsubj\n",
      "惛 VERB ═══════╗═╝═╗ ROOT\n",
      "不 ADV  <╗     ║   ║ advmod\n",
      "能 AUX  ═╝<══╗ ║   ║ aux\n",
      "進 VERB ═══╗═╝<╝   ║ ccomp\n",
      "於 ADP  <╗ ║       ║ case\n",
      "是 PRON ═╝<╝       ║ obl\n",
      "矣 PART <══════════╝ discourse:sp\n"
     ]
    },
    {
     "name": "stderr",
     "output_type": "stream",
     "text": [
      "\r"
     ]
    }
   ],
   "source": [
    "ex105 = nlp(\"吾惛不能進於是矣\")\n",
    "render(ex105)"
   ]
  },
  {
   "cell_type": "code",
   "execution_count": 7,
   "metadata": {},
   "outputs": [
    {
     "name": "stderr",
     "output_type": "stream",
     "text": [
      "                                                   "
     ]
    },
    {
     "name": "stdout",
     "output_type": "stream",
     "text": [
      "彼 PRON <══════╗   nsubj\n",
      "惡 ADV  <════╗ ║   advmod\n",
      "敢 AUX  <══╗ ║ ║   aux\n",
      "當 VERB ═╗═╝═╝═╝═╗ ROOT\n",
      "我 PRON <╝       ║ obj\n",
      "哉 PART <════════╝ discourse:sp\n"
     ]
    },
    {
     "name": "stderr",
     "output_type": "stream",
     "text": [
      "\r"
     ]
    }
   ],
   "source": [
    "ex106 = nlp(\"彼惡敢當我哉\")\n",
    "render(ex106)"
   ]
  },
  {
   "cell_type": "code",
   "execution_count": 8,
   "metadata": {},
   "outputs": [
    {
     "name": "stderr",
     "output_type": "stream",
     "text": [
      "                                                   "
     ]
    },
    {
     "name": "stdout",
     "output_type": "stream",
     "text": [
      "不 ADV   <════════╗ advmod\n",
      "能 AUX   ═══════╗═╝ ROOT\n",
      "三 NUM   <╗     ║   nummod\n",
      "年 NOUN  ═╝═╗<╗ ║   nmod\n",
      "之 SCONJ <══╝ ║ ║   case\n",
      "喪 NOUN  ═════╝<╝   obj\n"
     ]
    },
    {
     "name": "stderr",
     "output_type": "stream",
     "text": [
      "\r"
     ]
    }
   ],
   "source": [
    "ex107 = nlp(\"不能三年之喪\")\n",
    "render(ex107)"
   ]
  },
  {
   "cell_type": "code",
   "execution_count": 9,
   "metadata": {},
   "outputs": [
    {
     "name": "stderr",
     "output_type": "stream",
     "text": [
      "                                                   "
     ]
    },
    {
     "name": "stdout",
     "output_type": "stream",
     "text": [
      "不 ADV   <════════╗ advmod\n",
      "賢 VERB  ═══════╗═╝ ROOT\n",
      "而 CCONJ <══╗   ║   cc\n",
      "能 AUX   ═╗═╝═╗<╝   conj\n",
      "之 PRON  <╝   ║     obj\n",
      "與 PART  <════╝     discourse:sp\n"
     ]
    },
    {
     "name": "stderr",
     "output_type": "stream",
     "text": [
      "\r"
     ]
    }
   ],
   "source": [
    "ex108 = nlp(\"不賢而能之與\")\n",
    "render(ex108)"
   ]
  },
  {
   "cell_type": "markdown",
   "metadata": {},
   "source": [
    "## 3. Pivot Constructions - The Causative"
   ]
  },
  {
   "cell_type": "code",
   "execution_count": 10,
   "metadata": {},
   "outputs": [
    {
     "name": "stderr",
     "output_type": "stream",
     "text": [
      "                                                   "
     ]
    },
    {
     "name": "stdout",
     "output_type": "stream",
     "text": [
      "王 NOUN <════╗   nsubj\n",
      "使 VERB ═╗═╗═╝═╗ ROOT\n",
      "人 NOUN <╝ ║   ║ obj\n",
      "來 VERB <══╝   ║ xcomp\n",
      "曰 VERB <══════╝ parataxis\n"
     ]
    },
    {
     "name": "stderr",
     "output_type": "stream",
     "text": [
      "\r"
     ]
    }
   ],
   "source": [
    "ex109 = nlp(\"王使人來曰\")\n",
    "render(ex109)"
   ]
  },
  {
   "cell_type": "code",
   "execution_count": 11,
   "metadata": {},
   "outputs": [
    {
     "name": "stderr",
     "output_type": "stream",
     "text": [
      "                                                   "
     ]
    },
    {
     "name": "stdout",
     "output_type": "stream",
     "text": [
      "令 VERB ═══════════╗═╗ ROOT\n",
      "苟 ADV  <══════╗   ║ ║ advmod\n",
      "有 VERB ═╗═══╗═╝<╗ ║ ║ acl\n",
      "怨 NOUN <╝   ║   ║ ║ ║ obj\n",
      "於 ADP  <══╗ ║   ║ ║ ║ case\n",
      "夫 NOUN <╗ ║ ║   ║ ║ ║ nmod\n",
      "人 NOUN ═╝═╝<╝   ║ ║ ║ obl\n",
      "者 PART ═════════╝<╝ ║ obj\n",
      "報 VERB ═╗<══════════╝ xcomp\n",
      "之 PRON <╝             obj\n"
     ]
    },
    {
     "name": "stderr",
     "output_type": "stream",
     "text": [
      "\r"
     ]
    }
   ],
   "source": [
    "ex110 = nlp(\"令苟有怨於夫人者報之\")\n",
    "render(ex110)"
   ]
  },
  {
   "cell_type": "code",
   "execution_count": 12,
   "metadata": {},
   "outputs": [
    {
     "name": "stderr",
     "output_type": "stream",
     "text": [
      "                                                   "
     ]
    },
    {
     "name": "stdout",
     "output_type": "stream",
     "text": [
      "予 PRON <════╗   nsubj\n",
      "助 VERB ═╗═╗═╝═╗ ROOT\n",
      "苗 NOUN <╝ ║   ║ obj\n",
      "長 VERB <══╝   ║ ccomp\n",
      "矣 PART <══════╝ discourse:sp\n"
     ]
    },
    {
     "name": "stderr",
     "output_type": "stream",
     "text": [
      "\r"
     ]
    }
   ],
   "source": [
    "ex111 = nlp(\"予助苗長矣\")\n",
    "render(ex111)"
   ]
  },
  {
   "cell_type": "code",
   "execution_count": 13,
   "metadata": {},
   "outputs": [
    {
     "name": "stderr",
     "output_type": "stream",
     "text": [
      "                                                   "
     ]
    },
    {
     "name": "stdout",
     "output_type": "stream",
     "text": [
      "勸 VERB  ═╗═╗═╗ ROOT\n",
      "齊 PROPN <╝ ║ ║ obj\n",
      "伐 VERB  ═╗<╝ ║ xcomp\n",
      "燕 PROPN <╝   ║ obj\n",
      "有 VERB  ═╗<══╝ parataxis\n",
      "諸 PRON  <╝     obj\n"
     ]
    },
    {
     "name": "stderr",
     "output_type": "stream",
     "text": [
      "\r"
     ]
    }
   ],
   "source": [
    "ex112 = nlp(\"勸齊伐燕有諸\")\n",
    "render(ex112)"
   ]
  },
  {
   "cell_type": "code",
   "execution_count": 14,
   "metadata": {},
   "outputs": [
    {
     "name": "stderr",
     "output_type": "stream",
     "text": [
      "                                                   "
     ]
    },
    {
     "name": "stdout",
     "output_type": "stream",
     "text": [
      "是 PRON <════════╗   nsubj\n",
      "使 VERB ═╗═════╗═╝═╗ ROOT\n",
      "民 NOUN <╝     ║   ║ obj\n",
      "養 VERB ═╗═╗═╗<╝   ║ xcomp\n",
      "生 NOUN <╝ ║ ║     ║ obj\n",
      "喪 VERB ═╗<╝ ║     ║ conj\n",
      "死 NOUN <╝   ║     ║ obj\n",
      "無 VERB <╗   ║     ║ advmod\n",
      "憾 VERB ═╝<══╝     ║ conj\n",
      "也 PART <══════════╝ discourse:sp\n"
     ]
    },
    {
     "name": "stderr",
     "output_type": "stream",
     "text": [
      "\r"
     ]
    }
   ],
   "source": [
    "ex113 = nlp(\"是使民養生喪死無憾也\")\n",
    "render(ex113)"
   ]
  },
  {
   "cell_type": "code",
   "execution_count": 15,
   "metadata": {},
   "outputs": [
    {
     "name": "stderr",
     "output_type": "stream",
     "text": [
      "                                                   "
     ]
    },
    {
     "name": "stdout",
     "output_type": "stream",
     "text": [
      "毋 ADV  <══════╗ advmod\n",
      "令 VERB ═══╗═╗═╝ ROOT\n",
      "水 NOUN ═╗<╝ ║   obj\n",
      "潦 NOUN <╝   ║   conj\n",
      "能 AUX  <╗   ║   aux\n",
      "入 VERB ═╝<══╝   xcomp\n"
     ]
    },
    {
     "name": "stderr",
     "output_type": "stream",
     "text": [
      "\r"
     ]
    }
   ],
   "source": [
    "ex114 = nlp(\"毋令水潦能入\")\n",
    "render(ex114)"
   ]
  },
  {
   "cell_type": "code",
   "execution_count": 16,
   "metadata": {},
   "outputs": [
    {
     "name": "stderr",
     "output_type": "stream",
     "text": [
      "                                                   "
     ]
    },
    {
     "name": "stdout",
     "output_type": "stream",
     "text": [
      "助 VERB ═╗═╗ ROOT\n",
      "之 PRON <╝ ║ iobj\n",
      "長 VERB <╗ ║ amod\n",
      "者 PART ═╝<╝ obj\n"
     ]
    },
    {
     "name": "stderr",
     "output_type": "stream",
     "text": [
      "\r"
     ]
    }
   ],
   "source": [
    "ex115 = nlp(\"助之長者\")\n",
    "render(ex115)"
   ]
  },
  {
   "cell_type": "code",
   "execution_count": 17,
   "metadata": {},
   "outputs": [
    {
     "name": "stderr",
     "output_type": "stream",
     "text": [
      "                                                   "
     ]
    },
    {
     "name": "stdout",
     "output_type": "stream",
     "text": [
      "且 ADV   <══════════╗ advmod\n",
      "故 ADV   <════════╗ ║ advmod\n",
      "興 VERB  ═══════╗═╝═╝ ROOT\n",
      "天 NOUN  <╗     ║     compound\n",
      "下 NOUN  ═╝═╗<╗ ║     nmod\n",
      "之 SCONJ <══╝ ║ ║     case\n",
      "利 NOUN  ═════╝<╝     obj\n",
      "除 VERB  ═══════╗     ROOT\n",
      "天 NOUN  <╗     ║     compound\n",
      "下 NOUN  ═╝═╗<╗ ║     nmod\n",
      "之 SCONJ <══╝ ║ ║     case\n",
      "害 NOUN  ═════╝<╝     obj\n",
      "令 VERB  ═════════╗═╗ ROOT\n",
      "國 NOUN  ═╗═╗═╗<╗ ║ ║ nsubj\n",
      "家 NOUN  <╝ ║ ║ ║ ║ ║ flat\n",
      "百 NUM   <╗ ║ ║ ║ ║ ║ compound\n",
      "姓 NOUN  ═╝<╝ ║ ║ ║ ║ conj\n",
      "之 SCONJ <════╝ ║ ║ ║ case\n",
      "不 ADV   <╗     ║ ║ ║ advmod\n",
      "治 VERB  ═╝═════╝<╝ ║ ccomp\n",
      "也 PART  <══════════╝ discourse:sp\n",
      "自 ADP   <╗           case\n",
      "古 NOUN  ═╝<╗         obl:tmod\n",
      "及 ADP   ═╗═╝         ROOT\n",
      "今 NOUN  <╝           obj\n",
      "未 ADV   <════╗       advmod\n",
      "嘗 ADV   <══╗ ║       advmod\n",
      "之 PRON  <╗ ║ ║       expl\n",
      "有 VERB  ═╝═╝═╝═╗     ROOT\n",
      "也 PART  <══════╝     discourse:sp\n"
     ]
    },
    {
     "name": "stderr",
     "output_type": "stream",
     "text": [
      "\r"
     ]
    }
   ],
   "source": [
    "ex116 = nlp(\"且故興天下之利\\n除天下之害\\n令國家百姓之不治也\\n自古及今\\n未嘗之有也\")\n",
    "render(ex116)"
   ]
  },
  {
   "cell_type": "markdown",
   "metadata": {},
   "source": [
    "## 4. Verb Phrases as Complements to Adjectives"
   ]
  },
  {
   "cell_type": "markdown",
   "metadata": {},
   "source": [
    "### a. Adjectives That Make a Following Verb Passive"
   ]
  },
  {
   "cell_type": "markdown",
   "metadata": {},
   "source": [
    "4 words that are predicate adjectives can take verb phrases as complements:\n",
    "\n",
    "- 可 - possile / permissible\n",
    "- 足 - sufficient / worth\n",
    "- 難 - difficult\n",
    "- 易 - easy"
   ]
  },
  {
   "cell_type": "code",
   "execution_count": 18,
   "metadata": {},
   "outputs": [
    {
     "name": "stderr",
     "output_type": "stream",
     "text": [
      "                                                   "
     ]
    },
    {
     "name": "stdout",
     "output_type": "stream",
     "text": [
      "天 NOUN <╗       compound\n",
      "下 NOUN ═╝<════╗ nsubj\n",
      "可 AUX  <════╗ ║ aux\n",
      "運 VERB ═══╗═╝═╝ ROOT\n",
      "於 ADP  <╗ ║     case\n",
      "掌 NOUN ═╝<╝     obl\n"
     ]
    },
    {
     "name": "stderr",
     "output_type": "stream",
     "text": [
      "\r"
     ]
    }
   ],
   "source": [
    "ex117 = nlp(\"天下可運於掌\")\n",
    "render(ex117)"
   ]
  },
  {
   "cell_type": "code",
   "execution_count": 19,
   "metadata": {},
   "outputs": [
    {
     "name": "stderr",
     "output_type": "stream",
     "text": [
      "                                                   "
     ]
    },
    {
     "name": "stdout",
     "output_type": "stream",
     "text": [
      "則 ADV   <══════╗   advmod\n",
      "文 PROPN <╗     ║   compound\n",
      "王 NOUN  ═╝<══╗ ║   dislocated\n",
      "不 ADV   <╗   ║ ║   advmod\n",
      "足 AUX   ═╝<╗ ║ ║   aux\n",
      "法 VERB  ═══╝═╝═╝═╗ ROOT\n",
      "與 PART  <════════╝ discourse:sp\n"
     ]
    },
    {
     "name": "stderr",
     "output_type": "stream",
     "text": [
      "\r"
     ]
    }
   ],
   "source": [
    "ex118 = nlp(\"則文王不足法與\")\n",
    "render(ex118)"
   ]
  },
  {
   "cell_type": "code",
   "execution_count": 20,
   "metadata": {},
   "outputs": [
    {
     "name": "stderr",
     "output_type": "stream",
     "text": [
      "                                                   "
     ]
    },
    {
     "name": "stdout",
     "output_type": "stream",
     "text": [
      "久 VERB <════╗   advmod\n",
      "則 ADV  <══╗ ║   advmod\n",
      "難 VERB <╗ ║ ║   advmod\n",
      "變 VERB ═╝═╝═╝═╗ ROOT\n",
      "也 PART <══════╝ discourse:sp\n"
     ]
    },
    {
     "name": "stderr",
     "output_type": "stream",
     "text": [
      "\r"
     ]
    }
   ],
   "source": [
    "ex119 = nlp(\"久則難變也\")\n",
    "render(ex119)"
   ]
  },
  {
   "cell_type": "code",
   "execution_count": 21,
   "metadata": {},
   "outputs": [
    {
     "name": "stderr",
     "output_type": "stream",
     "text": [
      "                                                   "
     ]
    },
    {
     "name": "stdout",
     "output_type": "stream",
     "text": [
      "三 NUM  <╗           nummod\n",
      "年 NOUN ═╝<════════╗ obl:tmod\n",
      "學 VERB ═══════╗═╗═╝ ROOT\n",
      "不 ADV  <════╗ ║ ║   advmod\n",
      "至 VERB ═══╗═╝<╝ ║   ccomp\n",
      "於 ADP  <╗ ║     ║   case\n",
      "穀 NOUN ═╝<╝     ║   obl\n",
      "不 ADV  <╗       ║   advmod\n",
      "易 VERB ═╝<╗     ║   advmod\n",
      "得 VERB ═══╝═╗<══╝   ccomp\n",
      "也 PART <════╝       discourse:sp\n"
     ]
    },
    {
     "name": "stderr",
     "output_type": "stream",
     "text": [
      "\r"
     ]
    }
   ],
   "source": [
    "ex120 = nlp(\"三年學不至於穀不易得也\")\n",
    "render(ex120)"
   ]
  },
  {
   "cell_type": "code",
   "execution_count": 22,
   "metadata": {},
   "outputs": [
    {
     "name": "stderr",
     "output_type": "stream",
     "text": [
      "                                                   "
     ]
    },
    {
     "name": "stdout",
     "output_type": "stream",
     "text": [
      "五十 NUM  <╗       nummod\n",
      "者   PART ═╝<══╗   nsubj\n",
      "可   AUX  ═╗<╗ ║   aux\n",
      "以   VERB <╝ ║ ║   fixed\n",
      "衣   VERB ═╗═╝═╝═╗ ROOT\n",
      "帛   NOUN <╝     ║ obj\n",
      "矣   PART <══════╝ discourse:sp\n"
     ]
    },
    {
     "name": "stderr",
     "output_type": "stream",
     "text": [
      "\r"
     ]
    }
   ],
   "source": [
    "ex121 = nlp(\"五十者可以衣帛矣\")\n",
    "render(ex121)"
   ]
  },
  {
   "cell_type": "code",
   "execution_count": 23,
   "metadata": {},
   "outputs": [
    {
     "name": "stderr",
     "output_type": "stream",
     "text": [
      "                                                   "
     ]
    },
    {
     "name": "stdout",
     "output_type": "stream",
     "text": [
      "吾 PRON  <╗         det\n",
      "力 NOUN  ═╝<════╗   nsubj\n",
      "足 AUX   ═╗<══╗ ║   aux\n",
      "以 VERB  <╝   ║ ║   fixed\n",
      "舉 VERB  ═══╗═╝═╝═╗ ROOT\n",
      "百 NUM   ═╗<╝     ║ obj\n",
      "钧 NOUN  <╝       ║ clf\n",
      "而 CCONJ <══════╗ ║ cc\n",
      "不 ADV   <══╗   ║ ║ advmod\n",
      "足 AUX   ═╗═╝<╗ ║ ║ aux\n",
      "以 VERB  <╝   ║ ║ ║ fixed\n",
      "舉 VERB  ═══╗═╝═╝<╝ conj\n",
      "一 NUM   ═╗<╝       obj\n",
      "羽 NOUN  <╝         clf\n"
     ]
    },
    {
     "name": "stderr",
     "output_type": "stream",
     "text": [
      "\r"
     ]
    }
   ],
   "source": [
    "ex122 = nlp(\"吾力足以舉百钧而不足以舉一羽\")\n",
    "render(ex122)"
   ]
  },
  {
   "cell_type": "code",
   "execution_count": 24,
   "metadata": {},
   "outputs": [
    {
     "name": "stderr",
     "output_type": "stream",
     "text": [
      "                                                   "
     ]
    },
    {
     "name": "stdout",
     "output_type": "stream",
     "text": [
      "何 PRON <╗           obj\n",
      "如 VERB ═╝<══════╗   advcl\n",
      "斯 PRON <══════╗ ║   advmod\n",
      "可 AUX  <════╗ ║ ║   aux\n",
      "謂 VERB ═╗═╗═╝═╝═╝═╗ ROOT\n",
      "之 PRON <╝ ║       ║ iobj\n",
      "士 NOUN <══╝       ║ obj\n",
      "矣 PART <══════════╝ discourse:sp\n"
     ]
    },
    {
     "name": "stderr",
     "output_type": "stream",
     "text": [
      "\r"
     ]
    }
   ],
   "source": [
    "ex123 = nlp(\"何如斯可謂之士矣\")\n",
    "render(ex123)"
   ]
  },
  {
   "cell_type": "code",
   "execution_count": 25,
   "metadata": {},
   "outputs": [
    {
     "name": "stderr",
     "output_type": "stream",
     "text": [
      "                                                   "
     ]
    },
    {
     "name": "stdout",
     "output_type": "stream",
     "text": [
      "以 VERB  ═════════╗ ROOT\n",
      "不 ADV   <════╗   ║ advmod\n",
      "忍 VERB  ═╗═╗═╝<╗ ║ acl\n",
      "人 NOUN  <╝ ║   ║ ║ obj\n",
      "之 SCONJ <══╝   ║ ║ mark\n",
      "心 NOUN  ═══════╝<╝ obj\n",
      "行 VERB  ═════════╗ ROOT\n",
      "不 ADV   <════╗   ║ advmod\n",
      "忍 VERB  ═╗═╗═╝<╗ ║ acl\n",
      "人 NOUN  <╝ ║   ║ ║ obj\n",
      "之 SCONJ <══╝   ║ ║ mark\n",
      "政 NOUN  ═══════╝<╝ obj\n",
      "治 VERB  ═══╗═══╗   ROOT\n",
      "天 NOUN  <╗ ║   ║   compound\n",
      "下 NOUN  ═╝<╝   ║   obj\n",
      "可 AUX   <════╗ ║   aux\n",
      "運 VERB  ═╗═╗═╝<╝   parataxis\n",
      "之 PRON  <╝ ║       obj\n",
      "掌 NOUN  <╗ ║       nmod\n",
      "上 NOUN  ═╝<╝       obl:lmod\n"
     ]
    },
    {
     "name": "stderr",
     "output_type": "stream",
     "text": [
      "\r"
     ]
    }
   ],
   "source": [
    "ex124 = nlp(\"以不忍人之心\\n行不忍人之政\\n治天下可運之掌上\")\n",
    "render(ex124)"
   ]
  },
  {
   "cell_type": "code",
   "execution_count": 26,
   "metadata": {},
   "outputs": [
    {
     "name": "stderr",
     "output_type": "stream",
     "text": [
      "                                                   "
     ]
    },
    {
     "name": "stdout",
     "output_type": "stream",
     "text": [
      "可 AUX   <════════════════╗   aux\n",
      "使 VERB  ═══════════════╗═╝═╗ ROOT\n",
      "制 VERB  ═╗<══════════╗ ║   ║ advcl\n",
      "梃 NOUN  <╝           ║ ║   ║ obj\n",
      "以 VERB  <══════════╗ ║ ║   ║ advmod\n",
      "撻 VERB  ═════════╗═╝═╝<╝   ║ ccomp\n",
      "秦 PROPN ═╗═╗<══╗ ║         ║ nmod\n",
      "楚 PROPN <╝ ║   ║ ║         ║ conj\n",
      "之 SCONJ <══╝   ║ ║         ║ case\n",
      "堅 VERB  <════╗ ║ ║         ║ amod\n",
      "甲 NOUN  ═══╗═╝═╝<╝         ║ obj\n",
      "利 VERB  <╗ ║               ║ amod\n",
      "兵 NOUN  ═╝<╝               ║ conj\n",
      "矣 PART  <══════════════════╝ discourse:sp\n"
     ]
    },
    {
     "name": "stderr",
     "output_type": "stream",
     "text": [
      "\r"
     ]
    }
   ],
   "source": [
    "ex125 = nlp(\"可使制梃以撻秦楚之堅甲利兵矣\")\n",
    "render(ex125)"
   ]
  },
  {
   "cell_type": "code",
   "execution_count": 27,
   "metadata": {},
   "outputs": [
    {
     "name": "stderr",
     "output_type": "stream",
     "text": [
      "                                                   "
     ]
    },
    {
     "name": "stdout",
     "output_type": "stream",
     "text": [
      "可 AUX  <══╗   aux\n",
      "謂 VERB ═╗═╝═╗ ROOT\n",
      "孝 NOUN <╝   ║ obj\n",
      "矣 PART <════╝ discourse:sp\n"
     ]
    },
    {
     "name": "stderr",
     "output_type": "stream",
     "text": [
      "\r"
     ]
    }
   ],
   "source": [
    "ex126 = nlp(\"可謂孝矣\")\n",
    "render(ex126)"
   ]
  },
  {
   "cell_type": "code",
   "execution_count": 28,
   "metadata": {},
   "outputs": [
    {
     "name": "stderr",
     "output_type": "stream",
     "text": [
      "                                                   "
     ]
    },
    {
     "name": "stdout",
     "output_type": "stream",
     "text": [
      "我 PRON  <══════════╗ nsubj\n",
      "不 ADV   <╗         ║ advmod\n",
      "可 AUX   ═╝<══════╗ ║ aux\n",
      "不 ADV   <══════╗ ║ ║ advmod\n",
      "監 VERB  ═════╗═╝═╝═╝ ROOT\n",
      "于 ADP   <══╗ ║       mark\n",
      "有 VERB  ═╗═╝<╝       advcl\n",
      "夏 PROPN <╝           obj\n"
     ]
    },
    {
     "name": "stderr",
     "output_type": "stream",
     "text": [
      "\r"
     ]
    }
   ],
   "source": [
    "ex127 = nlp(\"我不可不監于有夏\")\n",
    "render(ex127)"
   ]
  },
  {
   "cell_type": "code",
   "execution_count": 29,
   "metadata": {},
   "outputs": [
    {
     "name": "stderr",
     "output_type": "stream",
     "text": [
      "                                                   "
     ]
    },
    {
     "name": "stdout",
     "output_type": "stream",
     "text": [
      "秦 PROPN <╗     nmod\n",
      "女 NOUN  ═╝<╗   nsubj\n",
      "绝 VERB  ═╗═╝   ROOT\n",
      "美 VERB  <╝     obj\n",
      "王 NOUN  <════╗ nsubj\n",
      "可 AUX   <══╗ ║ aux\n",
      "自 PRON  <╗ ║ ║ obl\n",
      "取 VERB  ═╝═╝═╝ ROOT\n"
     ]
    },
    {
     "name": "stderr",
     "output_type": "stream",
     "text": [
      "\r"
     ]
    }
   ],
   "source": [
    "ex128 = nlp(\"秦女绝美\\n王可自取\")\n",
    "render(ex128)"
   ]
  },
  {
   "cell_type": "markdown",
   "metadata": {},
   "source": [
    "### b. Other Adjectives That Take Verb Phases as Complements"
   ]
  },
  {
   "cell_type": "code",
   "execution_count": 30,
   "metadata": {},
   "outputs": [
    {
     "name": "stderr",
     "output_type": "stream",
     "text": [
      "                                                   "
     ]
    },
    {
     "name": "stdout",
     "output_type": "stream",
     "text": [
      "是 PRON <╗           obj\n",
      "以 VERB ═╝<════════╗ advcl\n",
      "惟 ADV  <════════╗ ║ advmod\n",
      "仁 VERB <╗       ║ ║ amod\n",
      "者 PART ═╝<════╗ ║ ║ nsubj\n",
      "宜 AUX  <════╗ ║ ║ ║ aux\n",
      "在 VERB ═══╗═╝═╝═╝═╝ ROOT\n",
      "高 VERB <╗ ║         amod\n",
      "位 NOUN ═╝<╝         obj\n"
     ]
    },
    {
     "name": "stderr",
     "output_type": "stream",
     "text": [
      "\r"
     ]
    }
   ],
   "source": [
    "ex129 = nlp(\"是以惟仁者宜在高位\")\n",
    "render(ex129)"
   ]
  },
  {
   "cell_type": "code",
   "execution_count": 31,
   "metadata": {},
   "outputs": [
    {
     "name": "stderr",
     "output_type": "stream",
     "text": [
      "                                                   "
     ]
    },
    {
     "name": "stdout",
     "output_type": "stream",
     "text": [
      "我 PRON  <════════════╗ nsubj\n",
      "善 VERB  <══════════╗ ║ advmod\n",
      "養 VERB  ═════════╗═╝═╝ ROOT\n",
      "吾 PRON  <══════╗ ║     det\n",
      "浩 VERB  ═╗═╗<╗ ║ ║     amod\n",
      "然 PART  <╝ ║ ║ ║ ║     fixed\n",
      "之 SCONJ <══╝ ║ ║ ║     case\n",
      "氣 NOUN  ═════╝═╝<╝     obj\n"
     ]
    },
    {
     "name": "stderr",
     "output_type": "stream",
     "text": [
      "\r"
     ]
    }
   ],
   "source": [
    "ex130 = nlp(\"我善養吾浩然之氣\")\n",
    "render(ex130)"
   ]
  },
  {
   "cell_type": "markdown",
   "metadata": {},
   "source": [
    "## 5. Verbs in Series"
   ]
  },
  {
   "cell_type": "markdown",
   "metadata": {},
   "source": [
    "### a. The Construction in General - The Particle Er 而"
   ]
  },
  {
   "cell_type": "code",
   "execution_count": 32,
   "metadata": {},
   "outputs": [
    {
     "name": "stderr",
     "output_type": "stream",
     "text": [
      "                                                   "
     ]
    },
    {
     "name": "stdout",
     "output_type": "stream",
     "text": [
      "藤   PROPN <══╗   nmod\n",
      "文   PROPN <╗ ║   compound\n",
      "公   NOUN  ═╝═╝<╗ nsubj\n",
      "為   VERB  <╗   ║ cop\n",
      "世子 NOUN  ═╝═══╝ ROOT\n",
      "將   ADV   <══╗   advmod\n",
      "之   VERB  ═╗═╝   ROOT\n",
      "楚   PROPN <╝     obj\n",
      "過   VERB  ═╗═══╗ ROOT\n",
      "宋   PROPN <╝   ║ obj\n",
      "而   CCONJ <══╗ ║ cc\n",
      "見   VERB  ═╗═╝<╝ conj\n",
      "孟子 PROPN <╝     obj\n"
     ]
    },
    {
     "name": "stderr",
     "output_type": "stream",
     "text": [
      "\r"
     ]
    }
   ],
   "source": [
    "ex131 = nlp(\"藤文公為世子\\n將之楚\\n過宋而見孟子\")\n",
    "render(ex131)"
   ]
  },
  {
   "cell_type": "code",
   "execution_count": 33,
   "metadata": {},
   "outputs": [
    {
     "name": "stderr",
     "output_type": "stream",
     "text": [
      "                                                   "
     ]
    },
    {
     "name": "stdout",
     "output_type": "stream",
     "text": [
      "猶 ADV   <══╗       advmod\n",
      "緣 VERB  ═╗═╝═╗═╗   ROOT\n",
      "木 NOUN  <╝   ║ ║   obj\n",
      "而 CCONJ <══╗ ║ ║   cc\n",
      "求 VERB  ═╗═╝<╝ ║   conj\n",
      "魚 NOUN  <╝     ║   obj\n",
      "也 PART  <══════╝   discourse:sp\n",
      "緣 VERB  ═╗═╗<══╗   csubj\n",
      "木 NOUN  <╝ ║   ║   obj\n",
      "求 VERB  ═╗<╝   ║   conj\n",
      "魚 NOUN  <╝     ║   obj\n",
      "雖 ADV   <════╗ ║   advmod\n",
      "不 ADV   <══╗ ║ ║   advmod\n",
      "得 VERB  ═╗═╝═╝═║═╗ ROOT\n",
      "魚 NOUN  <╝     ║ ║ obj\n",
      "無 VERB  ═══╗═══╝<╝ parataxis\n",
      "後 NOUN  <╗ ║       nmod\n",
      "災 NOUN  ═╝<╝       obj\n"
     ]
    },
    {
     "name": "stderr",
     "output_type": "stream",
     "text": [
      "\r"
     ]
    }
   ],
   "source": [
    "ex132 = nlp(\"猶緣木而求魚也\\n緣木求魚雖不得魚無後災\")\n",
    "render(ex132)"
   ]
  },
  {
   "cell_type": "code",
   "execution_count": 34,
   "metadata": {},
   "outputs": [
    {
     "name": "stderr",
     "output_type": "stream",
     "text": [
      "                                                   "
     ]
    },
    {
     "name": "stdout",
     "output_type": "stream",
     "text": [
      "棄 VERB  ═╗═╗═╗ ROOT\n",
      "甲 NOUN  <╝ ║ ║ obj\n",
      "曳 VERB  ═╗<╝ ║ conj\n",
      "兵 NOUN  <╝   ║ obj\n",
      "而 CCONJ <╗   ║ cc\n",
      "走 VERB  ═╝<══╝ conj\n"
     ]
    },
    {
     "name": "stderr",
     "output_type": "stream",
     "text": [
      "\r"
     ]
    }
   ],
   "source": [
    "ex133 = nlp(\"棄甲曳兵而走\")\n",
    "render(ex133)"
   ]
  },
  {
   "cell_type": "markdown",
   "metadata": {},
   "source": [
    "### b. De (er) 得 (而), Shuai (er) 率 (而), etc."
   ]
  },
  {
   "cell_type": "code",
   "execution_count": 35,
   "metadata": {},
   "outputs": [
    {
     "name": "stderr",
     "output_type": "stream",
     "text": [
      "                                                   "
     ]
    },
    {
     "name": "stdout",
     "output_type": "stream",
     "text": [
      "盛 VERB  <══╗         amod\n",
      "德 NOUN  ═╗═╝<╗       nmod\n",
      "之 SCONJ <╝   ║       case\n",
      "士 NOUN  ═════╝<══╗   dislocated\n",
      "君 NOUN  <══════╗ ║   nsubj\n",
      "不 ADV   <══╗   ║ ║   advmod\n",
      "得 AUX   ═╗═╝<╗ ║ ║   aux\n",
      "而 CCONJ <╝   ║ ║ ║   fixed\n",
      "臣 VERB  ═════╝═╝═╝═╗ ROOT\n",
      "父 NOUN  <══════╗   ║ nsubj\n",
      "不 ADV   <══╗   ║   ║ advmod\n",
      "得 AUX   ═╗═╝<╗ ║   ║ aux\n",
      "而 CCONJ <╝   ║ ║   ║ fixed\n",
      "子 VERB  ═════╝═╝<══╝ parataxis\n"
     ]
    },
    {
     "name": "stderr",
     "output_type": "stream",
     "text": [
      "\r"
     ]
    }
   ],
   "source": [
    "ex134 = nlp(\"盛德之士君不得而臣父不得而子\")\n",
    "render(ex134)"
   ]
  },
  {
   "cell_type": "code",
   "execution_count": 36,
   "metadata": {},
   "outputs": [
    {
     "name": "stderr",
     "output_type": "stream",
     "text": [
      "                                                   "
     ]
    },
    {
     "name": "stdout",
     "output_type": "stream",
     "text": [
      "居 VERB  ═══╗═════╗ ROOT\n",
      "下 NOUN  <╗ ║     ║ nmod\n",
      "位 NOUN  ═╝<╝     ║ obj\n",
      "而 CCONJ <══════╗ ║ cc\n",
      "不 ADV   <════╗ ║ ║ advmod\n",
      "獲 VERB  ═══╗═╝═╝<╝ conj\n",
      "於 ADP   <╗ ║       case\n",
      "上 NOUN  ═╝<╝       obl:lmod\n",
      "民 NOUN  <══════╗   nsubj\n",
      "不 ADV   <╗     ║   advmod\n",
      "可 AUX   ═╝<══╗ ║   aux\n",
      "得 AUX   ═══╗═╝═╝═╗ ROOT\n",
      "而 CCONJ <╗ ║     ║ cc\n",
      "治 VERB  ═╝<╝     ║ conj\n",
      "也 PART  <════════╝ discourse:sp\n"
     ]
    },
    {
     "name": "stderr",
     "output_type": "stream",
     "text": [
      "\r"
     ]
    }
   ],
   "source": [
    "ex135 = nlp(\"居下位而不獲於上\\n民不可得而治也\")\n",
    "render(ex135)"
   ]
  },
  {
   "cell_type": "code",
   "execution_count": 37,
   "metadata": {},
   "outputs": [
    {
     "name": "stderr",
     "output_type": "stream",
     "text": [
      "                                                   "
     ]
    },
    {
     "name": "stdout",
     "output_type": "stream",
     "text": [
      "可 AUX  <══╗   aux\n",
      "得 AUX  <╗ ║   aux\n",
      "聞 VERB ═╝═╝═╗ ROOT\n",
      "乎 PART <════╝ discourse:sp\n"
     ]
    },
    {
     "name": "stderr",
     "output_type": "stream",
     "text": [
      "\r"
     ]
    }
   ],
   "source": [
    "ex136 = nlp(\"可得聞乎\")\n",
    "render(ex136)"
   ]
  },
  {
   "cell_type": "code",
   "execution_count": 38,
   "metadata": {},
   "outputs": [
    {
     "name": "stderr",
     "output_type": "stream",
     "text": [
      "                                                   "
     ]
    },
    {
     "name": "stdout",
     "output_type": "stream",
     "text": [
      "此 PRON  <══╗     nsubj\n",
      "率 VERB  ═╗═╝═╗═╗ ROOT\n",
      "獸 NOUN  <╝   ║ ║ obj\n",
      "而 CCONJ <══╗ ║ ║ cc\n",
      "食 VERB  ═╗═╝<╝ ║ conj\n",
      "人 NOUN  <╝     ║ obj\n",
      "也 PART  <══════╝ discourse:sp\n"
     ]
    },
    {
     "name": "stderr",
     "output_type": "stream",
     "text": [
      "\r"
     ]
    }
   ],
   "source": [
    "ex137 = nlp(\"此率獸而食人也\")\n",
    "render(ex137)"
   ]
  },
  {
   "cell_type": "code",
   "execution_count": 39,
   "metadata": {},
   "outputs": [
    {
     "name": "stderr",
     "output_type": "stream",
     "text": [
      "                                                   "
     ]
    },
    {
     "name": "stdout",
     "output_type": "stream",
     "text": [
      "然 VERB  <════════╗ advmod\n",
      "後 NOUN  <══════╗ ║ obl:tmod\n",
      "驅 VERB  ═════╗═╝═╝ ROOT\n",
      "而 CCONJ <══╗ ║     cc\n",
      "之 VERB  ═╗═╝<╝     conj\n",
      "善 NOUN  <╝         obj\n"
     ]
    },
    {
     "name": "stderr",
     "output_type": "stream",
     "text": [
      "\r"
     ]
    }
   ],
   "source": [
    "ex138 = nlp(\"然後驅而之善\")\n",
    "render(ex138)"
   ]
  },
  {
   "cell_type": "markdown",
   "metadata": {},
   "source": [
    "## 6. Coverbs"
   ]
  },
  {
   "cell_type": "markdown",
   "metadata": {},
   "source": [
    "### a. Transitive Verbs Corresponding to Prepositions"
   ]
  },
  {
   "cell_type": "markdown",
   "metadata": {},
   "source": [
    "#### i. Yi 以 : take, use; with, by means of"
   ]
  },
  {
   "cell_type": "code",
   "execution_count": 40,
   "metadata": {},
   "outputs": [
    {
     "name": "stderr",
     "output_type": "stream",
     "text": [
      "                                                   "
     ]
    },
    {
     "name": "stdout",
     "output_type": "stream",
     "text": [
      "我 PRON <════════╗   nsubj\n",
      "辭 VERB ═╗═════╗═╝═╗ ROOT\n",
      "禮 NOUN <╝     ║   ║ obj\n",
      "矣 PART <══════║═══╝ discourse:sp\n",
      "彼 PRON <════╗ ║     nsubj\n",
      "則 ADV  <══╗ ║ ║     advmod\n",
      "以 VERB ═╗═╝═╝<╝     advcl\n",
      "之 PRON <╝           obj\n"
     ]
    },
    {
     "name": "stderr",
     "output_type": "stream",
     "text": [
      "\r"
     ]
    }
   ],
   "source": [
    "ex139 = nlp(\"我辭禮矣彼則以之\")\n",
    "render(ex139)"
   ]
  },
  {
   "cell_type": "code",
   "execution_count": 41,
   "metadata": {},
   "outputs": [
    {
     "name": "stderr",
     "output_type": "stream",
     "text": [
      "                                                   "
     ]
    },
    {
     "name": "stdout",
     "output_type": "stream",
     "text": [
      "醒   VERB  ═════╗ ROOT\n",
      "以   VERB  ═╗<╗ ║ advcl\n",
      "戈   NOUN  <╝ ║ ║ obj\n",
      "逐   VERB  ═╗═╝<╝ parataxis\n",
      "子犯 PROPN <╝     obj\n"
     ]
    },
    {
     "name": "stderr",
     "output_type": "stream",
     "text": [
      "\r"
     ]
    }
   ],
   "source": [
    "ex140 = nlp(\"醒以戈逐子犯\")\n",
    "render(ex140)"
   ]
  },
  {
   "cell_type": "code",
   "execution_count": 42,
   "metadata": {},
   "outputs": [
    {
     "name": "stderr",
     "output_type": "stream",
     "text": [
      "                                                   "
     ]
    },
    {
     "name": "stdout",
     "output_type": "stream",
     "text": [
      "殺 VERB ═╗<╗ csubj\n",
      "人 NOUN <╝ ║ obj\n",
      "以 VERB ═╗═╝ ROOT\n",
      "梃 NOUN <╝   obj\n"
     ]
    },
    {
     "name": "stderr",
     "output_type": "stream",
     "text": [
      "\r"
     ]
    }
   ],
   "source": [
    "ex141 = nlp(\"殺人以梃\")\n",
    "render(ex141)"
   ]
  },
  {
   "cell_type": "code",
   "execution_count": 43,
   "metadata": {},
   "outputs": [
    {
     "name": "stderr",
     "output_type": "stream",
     "text": [
      "                                                   "
     ]
    },
    {
     "name": "stdout",
     "output_type": "stream",
     "text": [
      "以   VERB ═══╗<╗   advcl\n",
      "五十 NUM  ═╗<╝ ║   obj\n",
      "步   NOUN <╝   ║   clf\n",
      "笑   VERB ═══╗═╝<╗ advcl\n",
      "百   NUM  ═╗<╝   ║ obj\n",
      "步   NOUN <╝     ║ clf\n",
      "則   ADV  <══╗   ║ advmod\n",
      "何   PRON <╗ ║   ║ obj\n",
      "如   VERB ═╝═╝═══╝ ROOT\n"
     ]
    },
    {
     "name": "stderr",
     "output_type": "stream",
     "text": [
      "\r"
     ]
    }
   ],
   "source": [
    "ex142 = nlp(\"以五十步笑百步則何如\")\n",
    "render(ex142)"
   ]
  },
  {
   "cell_type": "code",
   "execution_count": 44,
   "metadata": {},
   "outputs": [
    {
     "name": "stderr",
     "output_type": "stream",
     "text": [
      "                                                   "
     ]
    },
    {
     "name": "stdout",
     "output_type": "stream",
     "text": [
      "斧 NOUN ═╗<════╗ nsubj\n",
      "斤 NOUN <╝     ║ conj\n",
      "以 VERB ═╗<══╗ ║ advcl\n",
      "時 NOUN <╝   ║ ║ obj\n",
      "入 VERB ═══╗═╝═╝ ROOT\n",
      "山 NOUN ═╗<╝     obj\n",
      "林 NOUN <╝       conj\n"
     ]
    },
    {
     "name": "stderr",
     "output_type": "stream",
     "text": [
      "\r"
     ]
    }
   ],
   "source": [
    "ex143 = nlp(\"斧斤以時入山林\")\n",
    "render(ex143)"
   ]
  },
  {
   "cell_type": "code",
   "execution_count": 45,
   "metadata": {},
   "outputs": [
    {
     "name": "stderr",
     "output_type": "stream",
     "text": [
      "                                                   "
     ]
    },
    {
     "name": "stdout",
     "output_type": "stream",
     "text": [
      "以 VERB ═╗<══════╗   advcl\n",
      "位 NOUN <╝       ║   obj\n",
      "則 ADV  <══╗     ║   advmod\n",
      "子 PRON <╗ ║     ║   nsubj\n",
      "君 NOUN ═╝═╝═╗<╗ ║   nsubj\n",
      "也 PART <════╝ ║ ║   discourse:sp\n",
      "我 PRON <╗     ║ ║   det\n",
      "臣 NOUN ═╝═════╝═╝═╗ ROOT\n",
      "也 PART <══════════╝ discourse:sp\n"
     ]
    },
    {
     "name": "stderr",
     "output_type": "stream",
     "text": [
      "\r"
     ]
    }
   ],
   "source": [
    "ex144 = nlp(\"以位則子君也我臣也\")\n",
    "render(ex144)"
   ]
  },
  {
   "cell_type": "code",
   "execution_count": 46,
   "metadata": {},
   "outputs": [
    {
     "name": "stderr",
     "output_type": "stream",
     "text": [
      "                                                   "
     ]
    },
    {
     "name": "stdout",
     "output_type": "stream",
     "text": [
      "入 VERB ═════════╗ ROOT\n",
      "以 VERB <══════╗ ║ advmod\n",
      "事 VERB ═════╗═╝<╝ parataxis\n",
      "其 PRON <══╗ ║     det\n",
      "父 NOUN ═╗═╝<╝     obj\n",
      "兄 NOUN <╝         flat\n",
      "出 VERB ═════════╗ ROOT\n",
      "以 VERB <══════╗ ║ advmod\n",
      "事 VERB ═════╗═╝<╝ parataxis\n",
      "其 PRON <══╗ ║     det\n",
      "長 VERB <╗ ║ ║     amod\n",
      "上 NOUN ═╝═╝<╝     obj\n"
     ]
    },
    {
     "name": "stderr",
     "output_type": "stream",
     "text": [
      "\r"
     ]
    }
   ],
   "source": [
    "ex145 = nlp(\"入以事其父兄\\n出以事其長上\")\n",
    "render(ex145)"
   ]
  },
  {
   "cell_type": "code",
   "execution_count": 47,
   "metadata": {},
   "outputs": [
    {
     "name": "stderr",
     "output_type": "stream",
     "text": [
      "                                                   "
     ]
    },
    {
     "name": "stdout",
     "output_type": "stream",
     "text": [
      "可 AUX   <════════════════╗   aux\n",
      "使 VERB  ═══════════════╗═╝═╗ ROOT\n",
      "制 VERB  ═╗<══════════╗ ║   ║ advcl\n",
      "梃 NOUN  <╝           ║ ║   ║ obj\n",
      "以 VERB  <══════════╗ ║ ║   ║ advmod\n",
      "撻 VERB  ═════════╗═╝═╝<╝   ║ ccomp\n",
      "秦 PROPN ═╗═╗<══╗ ║         ║ nmod\n",
      "楚 PROPN <╝ ║   ║ ║         ║ conj\n",
      "之 SCONJ <══╝   ║ ║         ║ case\n",
      "堅 VERB  <════╗ ║ ║         ║ amod\n",
      "甲 NOUN  ═══╗═╝═╝<╝         ║ obj\n",
      "利 VERB  <╗ ║               ║ amod\n",
      "兵 NOUN  ═╝<╝               ║ conj\n",
      "矣 PART  <══════════════════╝ discourse:sp\n"
     ]
    },
    {
     "name": "stderr",
     "output_type": "stream",
     "text": [
      "\r"
     ]
    }
   ],
   "source": [
    "ex146 = nlp(\"可使制梃以撻秦楚之堅甲利兵矣\")\n",
    "render(ex146)"
   ]
  },
  {
   "cell_type": "code",
   "execution_count": 48,
   "metadata": {},
   "outputs": [
    {
     "name": "stderr",
     "output_type": "stream",
     "text": [
      "                                                   "
     ]
    },
    {
     "name": "stdout",
     "output_type": "stream",
     "text": [
      "否   VERB  <══════╗     advmod\n",
      "自   ADP   <════╗ ║     mark\n",
      "生   VERB  ═╗═╗═╝═╝<╗   advcl\n",
      "民   NOUN  <╝ ║     ║   obj\n",
      "以   VERB  ═╗<╝     ║   advmod\n",
      "來   VERB  <╝       ║   flat:vv\n",
      "未   ADV   <══╗     ║   advmod\n",
      "有   VERB  ═╗═╝═════╝═╗ ROOT\n",
      "孔子 PROPN <╝         ║ obj\n",
      "也   PART  <══════════╝ discourse:sp\n"
     ]
    },
    {
     "name": "stderr",
     "output_type": "stream",
     "text": [
      "\r"
     ]
    }
   ],
   "source": [
    "ex147 = nlp(\"否自生民以來未有孔子也\")\n",
    "render(ex147)"
   ]
  },
  {
   "cell_type": "code",
   "execution_count": 49,
   "metadata": {},
   "outputs": [
    {
     "name": "stderr",
     "output_type": "stream",
     "text": [
      "                                                   "
     ]
    },
    {
     "name": "stdout",
     "output_type": "stream",
     "text": [
      "卿 NOUN ═══╗<══╗ nsubj\n",
      "以 VERB ═╗<╝   ║ acl\n",
      "下 NOUN <╝     ║ obj\n",
      "必 ADV  <════╗ ║ advmod\n",
      "有 VERB ═══╗═╝═╝ ROOT\n",
      "圭 NOUN <╗ ║     nmod\n",
      "田 NOUN ═╝<╝     obj\n"
     ]
    },
    {
     "name": "stderr",
     "output_type": "stream",
     "text": [
      "\r"
     ]
    }
   ],
   "source": [
    "ex148 = nlp(\"卿以下必有圭田\")\n",
    "render(ex148)"
   ]
  },
  {
   "cell_type": "code",
   "execution_count": 50,
   "metadata": {},
   "outputs": [
    {
     "name": "stderr",
     "output_type": "stream",
     "text": [
      "                                                   "
     ]
    },
    {
     "name": "stdout",
     "output_type": "stream",
     "text": [
      "亦 ADV  <══════════╗   advmod\n",
      "將 ADV  <════════╗ ║   advmod\n",
      "有 VERB ═══════╗═╝═╝═╗ ROOT\n",
      "以 VERB <════╗ ║     ║ advmod\n",
      "利 VERB ═══╗═╝<╝     ║ ccomp\n",
      "吾 PRON <╗ ║         ║ det\n",
      "國 NOUN ═╝<╝         ║ obj\n",
      "乎 PART <════════════╝ discourse:sp\n"
     ]
    },
    {
     "name": "stderr",
     "output_type": "stream",
     "text": [
      "\r"
     ]
    }
   ],
   "source": [
    "ex149 = nlp(\"亦將有以利吾國乎\")\n",
    "render(ex149)"
   ]
  },
  {
   "cell_type": "code",
   "execution_count": 51,
   "metadata": {},
   "outputs": [
    {
     "name": "stderr",
     "output_type": "stream",
     "text": [
      "                                                   "
     ]
    },
    {
     "name": "stdout",
     "output_type": "stream",
     "text": [
      "百 NUM  <╗         compound\n",
      "姓 NOUN ═╝<════╗   nsubj\n",
      "皆 ADV  <══╗   ║   advmod\n",
      "以 VERB ═╗═╝<╗ ║   advcl\n",
      "王 NOUN <╝   ║ ║   obj\n",
      "為 VERB ═╗═══╝═╝═╗ ROOT\n",
      "愛 NOUN <╝       ║ obj\n",
      "也 PART <════════╝ discourse:sp\n"
     ]
    },
    {
     "name": "stderr",
     "output_type": "stream",
     "text": [
      "\r"
     ]
    }
   ],
   "source": [
    "ex150 = nlp(\"百姓皆以王為愛也\")\n",
    "render(ex150)"
   ]
  },
  {
   "cell_type": "code",
   "execution_count": 52,
   "metadata": {},
   "outputs": [
    {
     "name": "stderr",
     "output_type": "stream",
     "text": [
      "                                                   "
     ]
    },
    {
     "name": "stdout",
     "output_type": "stream",
     "text": [
      "民 NOUN <══════╗   nsubj\n",
      "猶 ADV  <════╗ ║   advmod\n",
      "以 VERB <══╗ ║ ║   advmod\n",
      "為 VERB ═╗═╝═╝═╝═╗ ROOT\n",
      "小 NOUN <╝       ║ obj\n",
      "也 PART <════════╝ discourse:sp\n"
     ]
    },
    {
     "name": "stderr",
     "output_type": "stream",
     "text": [
      "\r"
     ]
    }
   ],
   "source": [
    "ex151 = nlp(\"民猶以為小也\")\n",
    "render(ex151)"
   ]
  },
  {
   "cell_type": "markdown",
   "metadata": {},
   "source": [
    "#### ii. Yong 用 : use; with"
   ]
  },
  {
   "cell_type": "markdown",
   "metadata": {},
   "source": [
    "#### iii. Yu 與 : accompany; give; with; and"
   ]
  },
  {
   "cell_type": "code",
   "execution_count": 53,
   "metadata": {},
   "outputs": [
    {
     "name": "stderr",
     "output_type": "stream",
     "text": [
      "                                                   "
     ]
    },
    {
     "name": "stdout",
     "output_type": "stream",
     "text": [
      "正 VERB ═╗<╗ obj\n",
      "直 VERB <╝ ║ flat:vv\n",
      "是 PRON <╗ ║ expl\n",
      "與 VERB ═╝═╝ ROOT\n"
     ]
    },
    {
     "name": "stderr",
     "output_type": "stream",
     "text": [
      "\r"
     ]
    }
   ],
   "source": [
    "ex152 = nlp(\"正直是與\")\n",
    "render(ex152)"
   ]
  },
  {
   "cell_type": "code",
   "execution_count": 54,
   "metadata": {},
   "outputs": [
    {
     "name": "stderr",
     "output_type": "stream",
     "text": [
      "                                                   "
     ]
    },
    {
     "name": "stdout",
     "output_type": "stream",
     "text": [
      "無 VERB  ═╗═════╗<╗ advcl\n",
      "眾 NOUN  <╝     ║ ║ obj\n",
      "而 CCONJ <════╗ ║ ║ cc\n",
      "後 NOUN  <══╗ ║ ║ ║ obl:tmod\n",
      "伐 VERB  ═╗═╝═╝<╝ ║ conj\n",
      "之 PRON  <╝       ║ obj\n",
      "欲 AUX   <════╗   ║ aux\n",
      "禦 VERB  ═╗═╗═╝═══╝ ROOT\n",
      "我 PRON  <╝ ║       obj\n",
      "誰 PRON  ═╗<╝       obj\n",
      "與 ADP   <╝         discourse:sp\n"
     ]
    },
    {
     "name": "stderr",
     "output_type": "stream",
     "text": [
      "\r"
     ]
    }
   ],
   "source": [
    "ex153 = nlp(\"無眾而後伐之欲禦我誰與\")\n",
    "render(ex153)"
   ]
  },
  {
   "cell_type": "code",
   "execution_count": 55,
   "metadata": {},
   "outputs": [
    {
     "name": "stderr",
     "output_type": "stream",
     "text": [
      "                                                   "
     ]
    },
    {
     "name": "stdout",
     "output_type": "stream",
     "text": [
      "古 NOUN  ═╗<╗   nmod\n",
      "之 SCONJ <╝ ║   case\n",
      "人 NOUN  ═══╝<╗ nsubj\n",
      "與 ADP   <╗   ║ case\n",
      "民 NOUN  ═╝<╗ ║ obl\n",
      "偕 ADV   <╗ ║ ║ advmod\n",
      "樂 VERB  ═╝═╝═╝ ROOT\n"
     ]
    },
    {
     "name": "stderr",
     "output_type": "stream",
     "text": [
      "\r"
     ]
    }
   ],
   "source": [
    "ex154 = nlp(\"古之人與民偕樂\")\n",
    "render(ex154)"
   ]
  },
  {
   "cell_type": "code",
   "execution_count": 56,
   "metadata": {},
   "outputs": [
    {
     "name": "stderr",
     "output_type": "stream",
     "text": [
      "                                                   "
     ]
    },
    {
     "name": "stdout",
     "output_type": "stream",
     "text": [
      "不 ADV  <══════╗ advmod\n",
      "與 ADP  <══╗   ║ case\n",
      "惡 NOUN <╗ ║   ║ nmod\n",
      "人 NOUN ═╝═╝<╗ ║ obl\n",
      "言 VERB ═════╝═╝ ROOT\n"
     ]
    },
    {
     "name": "stderr",
     "output_type": "stream",
     "text": [
      "\r"
     ]
    }
   ],
   "source": [
    "ex155 = nlp(\"不與惡人言\")\n",
    "render(ex155)"
   ]
  },
  {
   "cell_type": "code",
   "execution_count": 57,
   "metadata": {},
   "outputs": [
    {
     "name": "stderr",
     "output_type": "stream",
     "text": [
      "                                                   "
     ]
    },
    {
     "name": "stdout",
     "output_type": "stream",
     "text": [
      "或   PRON  <════════════╗ nsubj\n",
      "問   VERB  ═════╗═════╗═╝ ROOT\n",
      "乎   ADP   <══╗ ║     ║   case\n",
      "曾   PROPN ═╗═╝<╝     ║   obl\n",
      "西   PROPN <╝         ║   flat\n",
      "曰   VERB  ═════════╗<╝   ccomp\n",
      "吾   PRON  <════╗   ║     det\n",
      "子   NOUN  ═══╗═╝<╗ ║     nsubj\n",
      "與   ADP   <╗ ║   ║ ║     cc\n",
      "子路 PROPN ═╝<╝   ║ ║     conj\n",
      "孰   PRON  <╗     ║ ║     nsubj\n",
      "賢   VERB  ═╝═════╝<╝     ccomp\n"
     ]
    },
    {
     "name": "stderr",
     "output_type": "stream",
     "text": [
      "\r"
     ]
    }
   ],
   "source": [
    "ex156 = nlp(\"或問乎曾西曰吾子與子路孰賢\")\n",
    "render(ex156)"
   ]
  },
  {
   "cell_type": "code",
   "execution_count": 58,
   "metadata": {},
   "outputs": [
    {
     "name": "stderr",
     "output_type": "stream",
     "text": [
      "                                                   "
     ]
    },
    {
     "name": "stdout",
     "output_type": "stream",
     "text": [
      "王 NOUN  <══╗         nsubj\n",
      "自 PRON  <╗ ║         obj\n",
      "以 VERB  ═╝═╝<══════╗ advcl\n",
      "為 VERB  ═════════╗═╝ ROOT\n",
      "與 ADP   <══╗     ║   case\n",
      "周 PROPN <╗ ║     ║   compound\n",
      "公 NOUN  ═╝═╝<══╗ ║   obl\n",
      "孰 PRON  <════╗ ║ ║   nsubj\n",
      "仁 VERB  ═══╗═╝═╝<╝   ccomp\n",
      "且 ADV   <╗ ║         cc\n",
      "智 VERB  ═╝<╝         conj\n"
     ]
    },
    {
     "name": "stderr",
     "output_type": "stream",
     "text": [
      "\r"
     ]
    }
   ],
   "source": [
    "ex157 = nlp(\"王自以為與周公孰仁且智\")\n",
    "render(ex157)"
   ]
  },
  {
   "cell_type": "code",
   "execution_count": 59,
   "metadata": {},
   "outputs": [
    {
     "name": "stderr",
     "output_type": "stream",
     "text": [
      "                                                   "
     ]
    },
    {
     "name": "stdout",
     "output_type": "stream",
     "text": [
      "嘒 VERB <════╗   amod\n",
      "彼 PRON <══╗ ║   det\n",
      "小 VERB <╗ ║ ║   amod\n",
      "星 NOUN ═╝═╝═╝═╗ ROOT\n",
      "維 PRON <════╗ ║ discourse\n",
      "參 NOUN ═══╗═╝<╝ parataxis\n",
      "與 ADP  <╗ ║     cc\n",
      "昴 NOUN ═╝<╝     conj\n"
     ]
    },
    {
     "name": "stderr",
     "output_type": "stream",
     "text": [
      "\r"
     ]
    }
   ],
   "source": [
    "ex158 = nlp(\"嘒彼小星維參與昴\")\n",
    "render(ex158)"
   ]
  },
  {
   "cell_type": "code",
   "execution_count": 60,
   "metadata": {},
   "outputs": [
    {
     "name": "stderr",
     "output_type": "stream",
     "text": [
      "                                                   "
     ]
    },
    {
     "name": "stdout",
     "output_type": "stream",
     "text": [
      "穀 NOUN ═════╗<╗ nsubj\n",
      "與 ADP  <══╗ ║ ║ cc\n",
      "魚 NOUN ═╗═╝<╝ ║ conj\n",
      "鼈 NOUN <╝     ║ flat\n",
      "不 ADV  <╗     ║ advmod\n",
      "可 AUX  ═╝<╗   ║ aux\n",
      "勝 ADV  <╗ ║   ║ advmod\n",
      "食 VERB ═╝═╝═══╝ ROOT\n"
     ]
    },
    {
     "name": "stderr",
     "output_type": "stream",
     "text": [
      "\r"
     ]
    }
   ],
   "source": [
    "ex159 = nlp(\"穀與魚鼈不可勝食\")\n",
    "render(ex159)"
   ]
  },
  {
   "cell_type": "markdown",
   "metadata": {},
   "source": [
    "#### iv. Wei 為 : for, on behalf of, for the sake of"
   ]
  },
  {
   "cell_type": "code",
   "execution_count": 61,
   "metadata": {},
   "outputs": [
    {
     "name": "stderr",
     "output_type": "stream",
     "text": [
      "                                                   "
     ]
    },
    {
     "name": "stdout",
     "output_type": "stream",
     "text": [
      "夫子 NOUN  <════╗   nsubj\n",
      "為   VERB  ═══╗═╝═╗ ROOT\n",
      "衛   PROPN <╗ ║   ║ nmod\n",
      "君   NOUN  ═╝<╝   ║ obj\n",
      "乎   PART  <══════╝ discourse:sp\n"
     ]
    },
    {
     "name": "stderr",
     "output_type": "stream",
     "text": [
      "\r"
     ]
    }
   ],
   "source": [
    "ex160 = nlp(\"夫子為衛君乎\")\n",
    "render(ex160)"
   ]
  },
  {
   "cell_type": "code",
   "execution_count": 62,
   "metadata": {},
   "outputs": [
    {
     "name": "stderr",
     "output_type": "stream",
     "text": [
      "                                                   "
     ]
    },
    {
     "name": "stdout",
     "output_type": "stream",
     "text": [
      "為 ADP  <══╗   case\n",
      "長 VERB <╗ ║   amod\n",
      "者 PART ═╝═╝<╗ obl\n",
      "折 VERB ═╗═══╝ ROOT\n",
      "枝 NOUN <╝     obj\n"
     ]
    },
    {
     "name": "stderr",
     "output_type": "stream",
     "text": [
      "\r"
     ]
    }
   ],
   "source": [
    "ex161 = nlp(\"為長者折枝\")\n",
    "render(ex161)"
   ]
  },
  {
   "cell_type": "code",
   "execution_count": 63,
   "metadata": {},
   "outputs": [
    {
     "name": "stderr",
     "output_type": "stream",
     "text": [
      "                                                   "
     ]
    },
    {
     "name": "stdout",
     "output_type": "stream",
     "text": [
      "而 CCONJ <══════╗   advmod\n",
      "王 NOUN  <════╗ ║   nsubj\n",
      "豈 ADV   <══╗ ║ ║   advmod\n",
      "為 VERB  ═╗═╝═╝═╝═╗ ROOT\n",
      "是 PRON  <╝       ║ obj\n",
      "哉 PART  <════════╝ discourse:sp\n"
     ]
    },
    {
     "name": "stderr",
     "output_type": "stream",
     "text": [
      "\r"
     ]
    }
   ],
   "source": [
    "ex162 = nlp(\"而王豈為是哉\")\n",
    "render(ex162)"
   ]
  },
  {
   "cell_type": "code",
   "execution_count": 64,
   "metadata": {},
   "outputs": [
    {
     "name": "stderr",
     "output_type": "stream",
     "text": [
      "                                                   "
     ]
    },
    {
     "name": "stdout",
     "output_type": "stream",
     "text": [
      "為 ADP   ═══════╗═╗ ROOT\n",
      "其 PRON  <══╗   ║ ║ nsubj\n",
      "象 VERB  ═╗═╝═╗<╝ ║ ccomp\n",
      "人 NOUN  <╝   ║   ║ obj\n",
      "而 CCONJ <══╗ ║   ║ cc\n",
      "用 VERB  ═╗═╝<╝   ║ conj\n",
      "之 PRON  <╝       ║ obj\n",
      "也 PART  <════════╝ discourse:sp\n"
     ]
    },
    {
     "name": "stderr",
     "output_type": "stream",
     "text": [
      "\r"
     ]
    }
   ],
   "source": [
    "ex163 = nlp(\"為其象人而用之也\")\n",
    "render(ex163)"
   ]
  },
  {
   "cell_type": "markdown",
   "metadata": {},
   "source": [
    "#### v. Zi 自, You 由, Cong 從 : follow; from"
   ]
  },
  {
   "cell_type": "code",
   "execution_count": 65,
   "metadata": {},
   "outputs": [
    {
     "name": "stderr",
     "output_type": "stream",
     "text": [
      "                                                   "
     ]
    },
    {
     "name": "stdout",
     "output_type": "stream",
     "text": [
      "未 ADV   <══╗     advmod\n",
      "改 VERB  ═╗═╝═══╗ ROOT\n",
      "禮 NOUN  <╝     ║ obj\n",
      "而 CCONJ <════╗ ║ cc\n",
      "猶 ADV   <══╗ ║ ║ advmod\n",
      "遷 VERB  ═╗═╝═╝<╝ conj\n",
      "之 PRON  <╝       obj\n",
      "群 NOUN  <╗       nmod\n",
      "臣 NOUN  ═╝<╗     nsubj\n",
      "懼 VERB  ═╗═╝═══╗ ROOT\n",
      "死 NOUN  <╝     ║ obj\n",
      "不 ADV   <╗     ║ advmod\n",
      "敢 AUX   ═╝<╗   ║ aux\n",
      "自 VERB  ═══╝═╗<╝ parataxis\n",
      "也 PART  <════╝   discourse:sp\n"
     ]
    },
    {
     "name": "stderr",
     "output_type": "stream",
     "text": [
      "\r"
     ]
    }
   ],
   "source": [
    "ex164 = nlp(\"未改禮而猶遷之\\n群臣懼死不敢自也\")\n",
    "render(ex164)"
   ]
  },
  {
   "cell_type": "code",
   "execution_count": 66,
   "metadata": {},
   "outputs": [
    {
     "name": "stderr",
     "output_type": "stream",
     "text": [
      "                                                   "
     ]
    },
    {
     "name": "stdout",
     "output_type": "stream",
     "text": [
      "自 ADP   <╗   case\n",
      "楚 PROPN ═╝<╗ obl:lmod\n",
      "之 VERB  ═╗═╝ ROOT\n",
      "滕 PROPN <╝   obj\n"
     ]
    },
    {
     "name": "stderr",
     "output_type": "stream",
     "text": [
      "\r"
     ]
    }
   ],
   "source": [
    "ex165 = nlp(\"自楚之滕\")\n",
    "render(ex165)"
   ]
  },
  {
   "cell_type": "code",
   "execution_count": 67,
   "metadata": {},
   "outputs": [
    {
     "name": "stderr",
     "output_type": "stream",
     "text": [
      "                                                   "
     ]
    },
    {
     "name": "stdout",
     "output_type": "stream",
     "text": [
      "舍 VERB  ═══╗═╗ ROOT\n",
      "正 VERB  <╗ ║ ║ amod\n",
      "路 NOUN  ═╝<╝ ║ obj\n",
      "而 CCONJ <══╗ ║ cc\n",
      "不 ADV   <╗ ║ ║ advmod\n",
      "由 VERB  ═╝═╝<╝ conj\n"
     ]
    },
    {
     "name": "stderr",
     "output_type": "stream",
     "text": [
      "\r"
     ]
    }
   ],
   "source": [
    "ex166 = nlp(\"舍正路而不由\")\n",
    "render(ex166)"
   ]
  },
  {
   "cell_type": "code",
   "execution_count": 68,
   "metadata": {},
   "outputs": [
    {
     "name": "stderr",
     "output_type": "stream",
     "text": [
      "                                                   "
     ]
    },
    {
     "name": "stdout",
     "output_type": "stream",
     "text": [
      "他   PRON  <╗       det\n",
      "日   NOUN  ═╝<══╗   obl:tmod\n",
      "由   ADP   <╗   ║   case\n",
      "鄒   PROPN ═╝<╗ ║   obl:lmod\n",
      "之   VERB  ═╗═╝═╝═╗ ROOT\n",
      "任   PROPN <╝     ║ obj\n",
      "見   VERB  ═╗<════╝ parataxis\n",
      "季子 PROPN <╝       obj\n"
     ]
    },
    {
     "name": "stderr",
     "output_type": "stream",
     "text": [
      "\r"
     ]
    }
   ],
   "source": [
    "ex167 = nlp(\"他日由鄒之任見季子\")\n",
    "render(ex167)"
   ]
  },
  {
   "cell_type": "code",
   "execution_count": 69,
   "metadata": {},
   "outputs": [
    {
     "name": "stderr",
     "output_type": "stream",
     "text": [
      "                                                   "
     ]
    },
    {
     "name": "stdout",
     "output_type": "stream",
     "text": [
      "由   ADP   <╗     case\n",
      "湯   PROPN ═╝<══╗ obl\n",
      "至   VERB  ═══╗═╝ ROOT\n",
      "於   ADP   <╗ ║   case\n",
      "武丁 PROPN ═╝<╝   obl\n"
     ]
    },
    {
     "name": "stderr",
     "output_type": "stream",
     "text": [
      "\r"
     ]
    }
   ],
   "source": [
    "ex168 = nlp(\"由湯至於武丁\")\n",
    "render(ex168)"
   ]
  },
  {
   "cell_type": "code",
   "execution_count": 70,
   "metadata": {},
   "outputs": [
    {
     "name": "stderr",
     "output_type": "stream",
     "text": [
      "                                                   "
     ]
    },
    {
     "name": "stdout",
     "output_type": "stream",
     "text": [
      "何 PRON ═╗<══╗ obl\n",
      "由 ADP  <╝   ║ case\n",
      "知 VERB ═══╗═╝ ROOT\n",
      "吾 PRON <╗ ║   nsubj\n",
      "可 VERB ═╝<╝   ccomp\n"
     ]
    },
    {
     "name": "stderr",
     "output_type": "stream",
     "text": [
      "\r"
     ]
    }
   ],
   "source": [
    "ex169 = nlp(\"何由知吾可\")\n",
    "render(ex169)"
   ]
  },
  {
   "cell_type": "code",
   "execution_count": 71,
   "metadata": {},
   "outputs": [
    {
     "name": "stderr",
     "output_type": "stream",
     "text": [
      "                                                   "
     ]
    },
    {
     "name": "stdout",
     "output_type": "stream",
     "text": [
      "良 VERB <╗       amod\n",
      "人 NOUN ═╝<════╗ nsubj\n",
      "施 VERB ═╗<══╗ ║ advmod\n",
      "施 VERB <╝   ║ ║ compound:redup\n",
      "從 ADP  <╗   ║ ║ case\n",
      "外 NOUN ═╝<╗ ║ ║ obl:lmod\n",
      "來 VERB ═══╝═╝═╝ ROOT\n"
     ]
    },
    {
     "name": "stderr",
     "output_type": "stream",
     "text": [
      "\r"
     ]
    }
   ],
   "source": [
    "ex170 = nlp(\"良人施施從外來\")\n",
    "render(ex170)"
   ]
  },
  {
   "cell_type": "markdown",
   "metadata": {},
   "source": [
    "### b. Coverbs of Place: Yu 于, Yu 於, and Hu 乎 - Locative Complements"
   ]
  },
  {
   "cell_type": "markdown",
   "metadata": {},
   "source": [
    "#### i. Yu 于 'go; to, at'"
   ]
  },
  {
   "cell_type": "markdown",
   "metadata": {},
   "source": [
    "#### ii. Yu 於 'in, at, to, from, than, etc.'"
   ]
  },
  {
   "cell_type": "code",
   "execution_count": 72,
   "metadata": {},
   "outputs": [
    {
     "name": "stderr",
     "output_type": "stream",
     "text": [
      "                                                   "
     ]
    },
    {
     "name": "stdout",
     "output_type": "stream",
     "text": [
      "邊 NOUN  ═╗<╗             nsubj\n",
      "鄙 NOUN  <╝ ║             flat\n",
      "殘 VERB  ═══╝             ROOT\n",
      "國 NOUN  <══╗             nsubj\n",
      "固 ADV   <╗ ║             advmod\n",
      "守 VERB  ═╝═╝             ROOT\n",
      "鼓 NOUN  ═══╗<╗           nmod\n",
      "鐸 NOUN  ═╗<╝ ║           conj\n",
      "之 SCONJ <╝   ║           case\n",
      "聲 NOUN  ═══╗═╝           ROOT\n",
      "於 ADP   <╗ ║             case\n",
      "耳 NOUN  ═╝<╝             obl\n",
      "而 CCONJ <════════════╗   advmod\n",
      "乃 ADV   <════════╗   ║   advmod\n",
      "用 VERB  ═══════╗═╝<╗ ║   advcl\n",
      "臣 NOUN  ═╗═╗<╗ ║   ║ ║   nmod\n",
      "斯 PROPN <╝ ║ ║ ║   ║ ║   flat\n",
      "之 SCONJ <══╝ ║ ║   ║ ║   case\n",
      "計 NOUN  ═════╝<╝   ║ ║   obj\n",
      "晚 VERB  ═══════════╝═╝═╗ ROOT\n",
      "矣 PART  <══════════════╝ discourse:sp\n"
     ]
    },
    {
     "name": "stderr",
     "output_type": "stream",
     "text": [
      "\r"
     ]
    }
   ],
   "source": [
    "ex171 = nlp(\"邊鄙殘\\n國固守\\n鼓鐸之聲於耳\\n而乃用臣斯之計晚矣\")\n",
    "render(ex171)"
   ]
  },
  {
   "cell_type": "markdown",
   "metadata": {},
   "source": [
    "#### iii. Hu 乎"
   ]
  },
  {
   "cell_type": "markdown",
   "metadata": {},
   "source": [
    "#### iv. Locative complements"
   ]
  },
  {
   "cell_type": "code",
   "execution_count": 73,
   "metadata": {},
   "outputs": [
    {
     "name": "stderr",
     "output_type": "stream",
     "text": [
      "                                                   "
     ]
    },
    {
     "name": "stdout",
     "output_type": "stream",
     "text": [
      "王 NOUN <══════╗ nsubj\n",
      "立 VERB ═════╗═╝ ROOT\n",
      "於 ADP  <══╗ ║   case\n",
      "沼 NOUN <╗ ║ ║   nmod\n",
      "上 NOUN ═╝═╝<╝   obl:lmod\n"
     ]
    },
    {
     "name": "stderr",
     "output_type": "stream",
     "text": [
      "\r"
     ]
    }
   ],
   "source": [
    "ex172 = nlp(\"王立於沼上\")\n",
    "render(ex172)"
   ]
  },
  {
   "cell_type": "code",
   "execution_count": 74,
   "metadata": {},
   "outputs": [
    {
     "name": "stderr",
     "output_type": "stream",
     "text": [
      "                                                   "
     ]
    },
    {
     "name": "stdout",
     "output_type": "stream",
     "text": [
      "河 NOUN <╗       compound\n",
      "内 NOUN ═╝<╗     nsubj\n",
      "凶 VERB ═══╝     ROOT\n",
      "則 ADV  <══════╗ advmod\n",
      "移 VERB ═══╗═╗═╝ ROOT\n",
      "其 PRON <╗ ║ ║   det\n",
      "民 NOUN ═╝<╝ ║   obj\n",
      "於 ADP  <══╗ ║   case\n",
      "河 NOUN <╗ ║ ║   nmod\n",
      "東 NOUN ═╝═╝<╝   obl:lmod\n",
      "移 VERB ═══╗═╗   ROOT\n",
      "其 PRON <╗ ║ ║   det\n",
      "粟 NOUN ═╝<╝ ║   obj\n",
      "於 ADP  <══╗ ║   case\n",
      "河 NOUN <╗ ║ ║   nmod\n",
      "内 NOUN ═╝═╝<╝   obl:lmod\n"
     ]
    },
    {
     "name": "stderr",
     "output_type": "stream",
     "text": [
      "\r"
     ]
    }
   ],
   "source": [
    "ex173 = nlp(\"河内凶\\n則移其民於河東\\n移其粟於河内\")\n",
    "render(ex173)"
   ]
  },
  {
   "cell_type": "code",
   "execution_count": 75,
   "metadata": {},
   "outputs": [
    {
     "name": "stderr",
     "output_type": "stream",
     "text": [
      "                                                   "
     ]
    },
    {
     "name": "stdout",
     "output_type": "stream",
     "text": [
      "出 VERB ═══╗<╗     acl\n",
      "乎 ADP  <╗ ║ ║     case\n",
      "爾 PRON ═╝<╝ ║     obl\n",
      "者 PART ═════╝<╗   nsubj\n",
      "反 VERB ═══╗<╗ ║   acl\n",
      "乎 ADP  <╗ ║ ║ ║   case\n",
      "爾 PRON ═╝<╝ ║ ║   obl\n",
      "者 PART ═════╝═╝═╗ ROOT\n",
      "也 PART <════════╝ discourse:sp\n"
     ]
    },
    {
     "name": "stderr",
     "output_type": "stream",
     "text": [
      "\r"
     ]
    }
   ],
   "source": [
    "ex174 = nlp(\"出乎爾者反乎爾者也\")\n",
    "render(ex174)"
   ]
  },
  {
   "cell_type": "code",
   "execution_count": 76,
   "metadata": {},
   "outputs": [
    {
     "name": "stderr",
     "output_type": "stream",
     "text": [
      "                                                   "
     ]
    },
    {
     "name": "stdout",
     "output_type": "stream",
     "text": [
      "吾 PRON <════════════╗ nsubj\n",
      "聞 VERB ═══════════╗═╝ ROOT\n",
      "出 VERB ═════╗═╗<╗ ║   acl\n",
      "於 ADP  <══╗ ║ ║ ║ ║   case\n",
      "幽 VERB <╗ ║ ║ ║ ║ ║   amod\n",
      "谷 NOUN ═╝═╝<╝ ║ ║ ║   obl:lmod\n",
      "遷 VERB ═════╗<╝ ║ ║   conj\n",
      "于 ADP  <══╗ ║   ║ ║   case\n",
      "喬 VERB <╗ ║ ║   ║ ║   amod\n",
      "木 NOUN ═╝═╝<╝   ║ ║   obl\n",
      "者 PART ═════════╝<╝   obj\n"
     ]
    },
    {
     "name": "stderr",
     "output_type": "stream",
     "text": [
      "\r"
     ]
    }
   ],
   "source": [
    "ex175 = nlp(\"吾聞出於幽谷遷于喬木者\")\n",
    "render(ex175)"
   ]
  },
  {
   "cell_type": "code",
   "execution_count": 77,
   "metadata": {},
   "outputs": [
    {
     "name": "stderr",
     "output_type": "stream",
     "text": [
      "                                                   "
     ]
    },
    {
     "name": "stdout",
     "output_type": "stream",
     "text": [
      "皆 ADV   <══════════╗ advmod\n",
      "欲 AUX   <════════╗ ║ aux\n",
      "出 VERB  ═══════╗═╝═╝ ROOT\n",
      "於 ADP   <════╗ ║     case\n",
      "王 NOUN  ═╗<╗ ║ ║     nmod\n",
      "之 SCONJ <╝ ║ ║ ║     case\n",
      "塗 NOUN  ═══╝═╝<╝     obl:lmod\n"
     ]
    },
    {
     "name": "stderr",
     "output_type": "stream",
     "text": [
      "\r"
     ]
    }
   ],
   "source": [
    "ex176 = nlp(\"皆欲出於王之塗\")\n",
    "render(ex176)"
   ]
  },
  {
   "cell_type": "code",
   "execution_count": 78,
   "metadata": {},
   "outputs": [
    {
     "name": "stderr",
     "output_type": "stream",
     "text": [
      "                                                   "
     ]
    },
    {
     "name": "stdout",
     "output_type": "stream",
     "text": [
      "於 ADP  <══╗     case\n",
      "我 PRON <╗ ║     det\n",
      "心 NOUN ═╝═╝<══╗ obl\n",
      "有 VERB ═══╗═╗═╝ ROOT\n",
      "戚 VERB ═╗<╝ ║   obj\n",
      "戚 VERB <╝   ║   compound:redup\n",
      "焉 PART <════╝   obl\n"
     ]
    },
    {
     "name": "stderr",
     "output_type": "stream",
     "text": [
      "\r"
     ]
    }
   ],
   "source": [
    "ex177 = nlp(\"於我心有戚戚焉\")\n",
    "render(ex177)"
   ]
  },
  {
   "cell_type": "markdown",
   "metadata": {},
   "source": [
    "#### v. Omission of the coverb in locative complements"
   ]
  },
  {
   "cell_type": "code",
   "execution_count": 79,
   "metadata": {},
   "outputs": [
    {
     "name": "stderr",
     "output_type": "stream",
     "text": [
      "                                                   "
     ]
    },
    {
     "name": "stdout",
     "output_type": "stream",
     "text": [
      "鄭 PROPN <╗         nmod\n",
      "人 NOUN  ═╝<══════╗ nsubj\n",
      "有 VERB  ═══════╗═╝ ROOT\n",
      "欲 AUX   <══╗   ║   aux\n",
      "買 VERB  ═╗═╝<╗ ║   acl\n",
      "履 NOUN  <╝   ║ ║   obj\n",
      "者 PART  ═════╝<╝   obj\n",
      "先 NOUN  <══════╗   obl:lmod\n",
      "自 PRON  <════╗ ║   nsubj\n",
      "度 VERB  ═══╗═╝═╝═╗ ROOT\n",
      "其 PRON  <╗ ║     ║ det\n",
      "足 NOUN  ═╝<╝     ║ obj\n",
      "而 CCONJ <════╗   ║ cc\n",
      "置 VERB  ═╗═╗═╝<══╝ conj\n",
      "之 PRON  <╝ ║       iobj\n",
      "其 PRON  <╗ ║       det\n",
      "坐 NOUN  ═╝<╝       obl\n"
     ]
    },
    {
     "name": "stderr",
     "output_type": "stream",
     "text": [
      "\r"
     ]
    }
   ],
   "source": [
    "ex178 = nlp(\"鄭人有欲買履者\\n先自度其足而置之其坐\")\n",
    "render(ex178)"
   ]
  },
  {
   "cell_type": "markdown",
   "metadata": {},
   "source": [
    "#### vi. The pronominal substitutes yuan 爰 and yan 焉"
   ]
  },
  {
   "cell_type": "markdown",
   "metadata": {},
   "source": [
    "#### vii. X zhi yu 之於 Y"
   ]
  },
  {
   "cell_type": "code",
   "execution_count": 80,
   "metadata": {},
   "outputs": [
    {
     "name": "stderr",
     "output_type": "stream",
     "text": [
      "                                                   "
     ]
    },
    {
     "name": "stdout",
     "output_type": "stream",
     "text": [
      "寡 VERB  <══╗           amod\n",
      "人 NOUN  ═╗═╝<╗         nsubj\n",
      "之 SCONJ <╝   ║         case\n",
      "於 VERB  ═╗═══╝═╗<╗     advcl\n",
      "國 NOUN  <╝     ║ ║     obj\n",
      "也 PART  <══════╝ ║     mark\n",
      "盡 VERB  ═╗═╗═════╝═╗═╗ ROOT\n",
      "心 NOUN  <╝ ║       ║ ║ obj\n",
      "焉 PRON  <══╝       ║ ║ obl\n",
      "耳 PART  <══════════╝ ║ discourse:sp\n",
      "矣 PART  <════════════╝ discourse:sp\n"
     ]
    },
    {
     "name": "stderr",
     "output_type": "stream",
     "text": [
      "\r"
     ]
    }
   ],
   "source": [
    "ex179 = nlp(\"寡人之於國也盡心焉耳矣\")\n",
    "render(ex179)"
   ]
  },
  {
   "cell_type": "code",
   "execution_count": 81,
   "metadata": {},
   "outputs": [
    {
     "name": "stderr",
     "output_type": "stream",
     "text": [
      "                                                   "
     ]
    },
    {
     "name": "stdout",
     "output_type": "stream",
     "text": [
      "始 VERB  <════╗     advmod\n",
      "吾 PRON  <══╗ ║     nsubj\n",
      "於 VERB  ═╗═╝═╝═╗<╗ advcl\n",
      "人 NOUN  <╝     ║ ║ obj\n",
      "也 PART  <══════╝ ║ mark\n",
      "聽 VERB  ═══╗═══╗═╝ ROOT\n",
      "其 PRON  <╗ ║   ║   det\n",
      "言 NOUN  ═╝<╝   ║   obj\n",
      "而 CCONJ <════╗ ║   cc\n",
      "信 VERB  ═══╗═╝<╝   conj\n",
      "其 PRON  <╗ ║       det\n",
      "行 NOUN  ═╝<╝       obj\n",
      "今 NOUN  <════╗     obl:tmod\n",
      "吾 PRON  <══╗ ║     nsubj\n",
      "於 VERB  ═╗═╝═╝═╗<╗ advcl\n",
      "人 NOUN  <╝     ║ ║ obj\n",
      "也 PART  <══════╝ ║ mark\n",
      "聽 VERB  ═══╗═══╗═╝ ROOT\n",
      "其 PRON  <╗ ║   ║   det\n",
      "言 NOUN  ═╝<╝   ║   obj\n",
      "而 CCONJ <════╗ ║   cc\n",
      "觀 VERB  ═══╗═╝<╝   conj\n",
      "其 PRON  <╗ ║       det\n",
      "行 NOUN  ═╝<╝       obj\n"
     ]
    },
    {
     "name": "stderr",
     "output_type": "stream",
     "text": [
      "\r"
     ]
    }
   ],
   "source": [
    "ex180 = nlp(\"始吾於人也聽其言而信其行\\n今吾於人也聽其言而觀其行\")\n",
    "render(ex180)"
   ]
  },
  {
   "cell_type": "markdown",
   "metadata": {},
   "source": [
    "### c. Descriptive Complements with Ru 如 and You 猶"
   ]
  },
  {
   "cell_type": "code",
   "execution_count": 82,
   "metadata": {},
   "outputs": [
    {
     "name": "stderr",
     "output_type": "stream",
     "text": [
      "                                                   "
     ]
    },
    {
     "name": "stdout",
     "output_type": "stream",
     "text": [
      "聖 NOUN <╗         nmod\n",
      "人 NOUN ═╝<══╗     nsubj\n",
      "治 VERB ═══╗═╝═══╗ ROOT\n",
      "天 NOUN <╗ ║     ║ compound\n",
      "下 NOUN ═╝<╝     ║ obj\n",
      "使 VERB ═════╗═╗<╝ parataxis\n",
      "有 VERB ═══╗<╝ ║   ccomp\n",
      "菽 NOUN ═╗<╝   ║   obj\n",
      "粟 NOUN <╝     ║   conj\n",
      "如 VERB ═══╗<══╝   xcomp\n",
      "水 NOUN ═╗<╝       obj\n",
      "火 NOUN <╝         conj\n"
     ]
    },
    {
     "name": "stderr",
     "output_type": "stream",
     "text": [
      "\r"
     ]
    }
   ],
   "source": [
    "ex181 = nlp(\"聖人治天下使有菽粟如水火\")\n",
    "render(ex181)"
   ]
  },
  {
   "cell_type": "code",
   "execution_count": 83,
   "metadata": {},
   "outputs": [
    {
     "name": "stderr",
     "output_type": "stream",
     "text": [
      "                                                   "
     ]
    },
    {
     "name": "stdout",
     "output_type": "stream",
     "text": [
      "良 VERB  <╗       amod\n",
      "君 NOUN  ═╝<════╗ nsubj\n",
      "將 ADV   <══╗   ║ advmod\n",
      "賞 VERB  ═╗═╝═╗═╝ ROOT\n",
      "善 NOUN  <╝   ║   obj\n",
      "而 CCONJ <══╗ ║   cc\n",
      "刑 VERB  ═╗═╝<╝   conj\n",
      "淫 VERB  <╝       obj\n",
      "養 VERB  ═╗<╗     csubj\n",
      "民 NOUN  <╝ ║     obj\n",
      "如 VERB  ═╗═╝     ROOT\n",
      "子 NOUN  <╝       obj\n",
      "蓋 VERB  ═╗<╗     discourse\n",
      "之 PRON  <╝ ║     obj\n",
      "如 VERB  ═╗═╝     ROOT\n",
      "天 NOUN  <╝       obj\n",
      "容 VERB  ═╗<╗     csubj\n",
      "之 PRON  <╝ ║     obj\n",
      "如 VERB  ═╗═╝     ROOT\n",
      "地 NOUN  <╝       obj\n"
     ]
    },
    {
     "name": "stderr",
     "output_type": "stream",
     "text": [
      "\r"
     ]
    }
   ],
   "source": [
    "ex182 = nlp(\"良君將賞善而刑淫\\n養民如子\\n蓋之如天\\n容之如地\")\n",
    "render(ex182)"
   ]
  },
  {
   "cell_type": "code",
   "execution_count": 84,
   "metadata": {},
   "outputs": [
    {
     "name": "stderr",
     "output_type": "stream",
     "text": [
      "                                                   "
     ]
    },
    {
     "name": "stdout",
     "output_type": "stream",
     "text": [
      "民 NOUN  <════════╗ nsubj\n",
      "歸 VERB  ═╗═════╗═╝ ROOT\n",
      "之 PRON  <╝     ║   obj\n",
      "由 ADV   <════╗ ║   advmod\n",
      "水 NOUN  ═╗<╗ ║ ║   nsubj\n",
      "之 SCONJ <╝ ║ ║ ║   case\n",
      "就 VERB  ═╗═╝═╝<╝   advcl\n",
      "下 NOUN  <╝         obj\n"
     ]
    },
    {
     "name": "stderr",
     "output_type": "stream",
     "text": [
      "\r"
     ]
    }
   ],
   "source": [
    "ex183 = nlp(\"民歸之由水之就下\")\n",
    "render(ex183)"
   ]
  },
  {
   "cell_type": "markdown",
   "metadata": {},
   "source": [
    "### d. Coverbs as Subordinating Conjunctions"
   ]
  },
  {
   "cell_type": "code",
   "execution_count": 85,
   "metadata": {},
   "outputs": [
    {
     "name": "stderr",
     "output_type": "stream",
     "text": [
      "                                                   "
     ]
    },
    {
     "name": "stdout",
     "output_type": "stream",
     "text": [
      "及 VERB <════╗     mark\n",
      "其 PRON <══╗ ║     nsubj\n",
      "使 VERB ═╗═╝═╝═╗<╗ advcl\n",
      "人 NOUN <╝     ║ ║ obj\n",
      "也 PART <══════╝ ║ mark\n",
      "器 VERB ═╗═══════╝ ROOT\n",
      "之 PRON <╝         obj\n"
     ]
    },
    {
     "name": "stderr",
     "output_type": "stream",
     "text": [
      "\r"
     ]
    }
   ],
   "source": [
    "ex184 = nlp(\"及其使人也器之\")\n",
    "render(ex184)"
   ]
  }
 ],
 "metadata": {
  "interpreter": {
   "hash": "0364c37b15e7a6e1c36ca05f1a9e06ef739d4c2650a4a4d0869c3126484e1dba"
  },
  "kernelspec": {
   "display_name": "Python 3.8.10 ('nlp')",
   "language": "python",
   "name": "python3"
  },
  "language_info": {
   "codemirror_mode": {
    "name": "ipython",
    "version": 3
   },
   "file_extension": ".py",
   "mimetype": "text/x-python",
   "name": "python",
   "nbconvert_exporter": "python",
   "pygments_lexer": "ipython3",
   "version": "3.8.10"
  },
  "orig_nbformat": 4
 },
 "nbformat": 4,
 "nbformat_minor": 2
}
