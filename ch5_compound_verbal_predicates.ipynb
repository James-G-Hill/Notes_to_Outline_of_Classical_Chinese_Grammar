{
 "cells": [
  {
   "cell_type": "markdown",
   "metadata": {},
   "source": [
    "# V. Compound Verbal Predicates"
   ]
  },
  {
   "cell_type": "code",
   "execution_count": 7,
   "metadata": {},
   "outputs": [
    {
     "name": "stderr",
     "output_type": "stream",
     "text": [
      "Some weights of the model checkpoint at KoichiYasuoka/roberta-classical-chinese-large-char were not used when initializing RobertaModel: ['lm_head.dense.weight', 'lm_head.decoder.weight', 'lm_head.layer_norm.weight', 'lm_head.decoder.bias', 'lm_head.bias', 'lm_head.layer_norm.bias', 'lm_head.dense.bias']\n",
      "- This IS expected if you are initializing RobertaModel from the checkpoint of a model trained on another task or with another architecture (e.g. initializing a BertForSequenceClassification model from a BertForPreTraining model).\n",
      "- This IS NOT expected if you are initializing RobertaModel from the checkpoint of a model that you expect to be exactly identical (initializing a BertForSequenceClassification model from a BertForSequenceClassification model).\n"
     ]
    }
   ],
   "source": [
    "from deplacy import (\n",
    "    dot,\n",
    "    render,\n",
    "    to_conllu\n",
    ")\n",
    "from lzh_helpers.serve import serve\n",
    "from suparkanbun import load\n",
    "from transformers import logging\n",
    "\n",
    "logging.logging.disable(logging.INFO)\n",
    "\n",
    "nlp = load(BERT=\"roberta-classical-chinese-large-char\", Danku=False)"
   ]
  },
  {
   "cell_type": "markdown",
   "metadata": {},
   "source": [
    "## 1. Coordination"
   ]
  },
  {
   "cell_type": "code",
   "execution_count": 18,
   "metadata": {},
   "outputs": [
    {
     "name": "stderr",
     "output_type": "stream",
     "text": [
      "                                                   \r"
     ]
    },
    {
     "data": {
      "text/html": [
       "\n",
       "        <iframe\n",
       "            width=\"100%\"\n",
       "            height=\"250\"\n",
       "            src=\"https://koichiyasuoka.github.io/deplacy/deplacy/viewer.svg#1%09%E9%A0%92%09%E9%A0%92%09VERB%09v%2C%E5%8B%95%E8%A9%9E%2C%E5%A4%89%E5%8C%96%2C%E6%80%A7%E8%B3%AA%09_%093%09acl%09_%09SpaceAfter%3DNo%7CTranslit%3Dbig-headed%0A2%09%E7%99%BD%09%E7%99%BD%09NOUN%09n%2C%E5%90%8D%E8%A9%9E%2C%E6%8F%8F%E5%86%99%2C%E5%BD%A2%E8%B3%AA%09_%091%09obj%09_%09SpaceAfter%3DNo%7CTranslit%3Dwhite%0A3%09%E8%80%85%09%EF%A9%9B%09PART%09p%2C%E5%8A%A9%E8%A9%9E%2C%E6%8F%90%E7%A4%BA%2C%2A%09_%095%09nsubj%09_%09SpaceAfter%3DNo%7CTranslit%3Dthat-which%0A4%09%E4%B8%8D%09%E4%B8%8D%09ADV%09v%2C%E5%89%AF%E8%A9%9E%2C%E5%90%A6%E5%AE%9A%2C%E7%84%A1%E7%95%8C%09Polarity%3DNeg%095%09advmod%09_%09SpaceAfter%3DNo%7CTranslit%3Dnot%0A5%09%E8%B2%A0%09%E8%B2%A0%09VERB%09v%2C%E5%8B%95%E8%A9%9E%2C%E8%A1%8C%E7%82%BA%2C%E5%8B%95%E4%BD%9C%09_%090%09ROOT%09_%09SpaceAfter%3DNo%7CTranslit%3Dowe%0A6%09%E6%88%B4%09%E6%88%B4%09VERB%09v%2C%E5%8B%95%E8%A9%9E%2C%E8%A1%8C%E7%82%BA%2C%E8%A8%AD%E7%BD%AE%09_%095%09flat%3Avv%09_%09SpaceAfter%3DNo%7CTranslit%3Dcarry-on-the-head%0A7%09%E6%96%BC%09%E6%96%BC%09ADP%09v%2C%E5%89%8D%E7%BD%AE%E8%A9%9E%2C%E5%9F%BA%E7%9B%A4%2C%2A%09_%098%09case%09_%09SpaceAfter%3DNo%7CTranslit%3Dat%0A8%09%E9%81%93%E8%B7%AF%09%E9%81%93%E8%B7%AF%09NOUN%09n%2C%E5%90%8D%E8%A9%9E%2C%E5%9B%BA%E5%AE%9A%E7%89%A9%2C%E5%BB%BA%E9%80%A0%E7%89%A9%09Case%3DLoc%095%09obl%3Almod%09_%09SpaceAfter%3DNo%0A9%09%E7%9F%A3%09%E7%9F%A3%09PART%09p%2C%E5%8A%A9%E8%A9%9E%2C%E5%8F%A5%E6%9C%AB%2C%2A%09_%095%09discourse%3Asp%09_%09SpaceAfter%3DNo%7CTranslit%3D%5BPFV%5D%0A%0A\"\n",
       "            frameborder=\"0\"\n",
       "            allowfullscreen\n",
       "            style=\"background-color: white;\"\n",
       "        ></iframe>\n",
       "        "
      ],
      "text/plain": [
       "<IPython.lib.display.IFrame at 0x7fe91f8ee880>"
      ]
     },
     "metadata": {},
     "output_type": "display_data"
    }
   ],
   "source": [
    "ex102 = nlp(\"頒白者不負戴於道路矣\")\n",
    "serve(ex102, 250)"
   ]
  },
  {
   "cell_type": "code",
   "execution_count": 22,
   "metadata": {},
   "outputs": [
    {
     "name": "stderr",
     "output_type": "stream",
     "text": [
      "                                                   \r"
     ]
    },
    {
     "data": {
      "text/html": [
       "\n",
       "        <iframe\n",
       "            width=\"100%\"\n",
       "            height=\"450\"\n",
       "            src=\"https://koichiyasuoka.github.io/deplacy/deplacy/viewer.svg#1%09%E9%82%A6%09%E9%82%A6%09NOUN%09n%2C%E5%90%8D%E8%A9%9E%2C%E4%B8%BB%E4%BD%93%2C%E9%9B%86%E5%9B%A3%09_%092%09nsubj%09_%09SpaceAfter%3DNo%7CTranslit%3Dcountry%0A2%09%E6%9C%89%09%E6%9C%89%09VERB%09v%2C%E5%8B%95%E8%A9%9E%2C%E5%AD%98%E5%9C%A8%2C%E5%AD%98%E5%9C%A8%09_%090%09ROOT%09_%09SpaceAfter%3DNo%7CTranslit%3Dhave%0A3%09%E9%81%93%09%E9%81%93%09NOUN%09n%2C%E5%90%8D%E8%A9%9E%2C%E5%88%B6%E5%BA%A6%2C%E5%84%80%E7%A4%BC%09_%092%09obj%09_%09SpaceAfter%3DNo%7CTranslit%3Ddoctrine%0A4%09%E8%B2%A7%09%E8%B2%A7%09VERB%09v%2C%E5%8B%95%E8%A9%9E%2C%E6%8F%8F%E5%86%99%2C%E5%A2%83%E9%81%87%09Degree%3DPos%092%09parataxis%09_%09SpaceAfter%3DNo%7CTranslit%3Dpoor%0A5%09%E4%B8%94%09%E4%B8%94%09ADV%09v%2C%E5%89%AF%E8%A9%9E%2C%E9%A0%BB%E5%BA%A6%2C%E9%87%8D%E8%A4%87%09_%096%09cc%09_%09SpaceAfter%3DNo%7CTranslit%3Dand%0A6%09%E8%B3%A4%09%E8%B3%A4%09VERB%09v%2C%E5%8B%95%E8%A9%9E%2C%E6%8F%8F%E5%86%99%2C%E5%A2%83%E9%81%87%09Degree%3DPos%094%09conj%09_%09SpaceAfter%3DNo%7CTranslit%3Dlowly%0A7%09%E7%84%89%09%E7%84%89%09PART%09p%2C%E5%8A%A9%E8%A9%9E%2C%E5%8F%A5%E6%9C%AB%2C%2A%09_%094%09discourse%3Asp%09_%09SpaceAfter%3DNo%7CTranslit%3D%5Bfinal-particle%5D%0A8%09%E6%81%A5%09%E6%81%A5%09NOUN%09n%2C%E5%90%8D%E8%A9%9E%2C%E5%8F%AF%E6%90%AC%2C%E6%88%90%E6%9E%9C%E7%89%A9%09_%094%09conj%09_%09SpaceAfter%3DNo%7CTranslit%3Dshame%0A9%09%E4%B9%9F%09%E4%B9%9F%09PART%09p%2C%E5%8A%A9%E8%A9%9E%2C%E5%8F%A5%E6%9C%AB%2C%2A%09_%098%09discourse%3Asp%09_%09SpaceAfter%3DNo%7CTranslit%3D%5Bfinal-particle%5D%0A%0A1%09%E9%82%A6%09%E9%82%A6%09NOUN%09n%2C%E5%90%8D%E8%A9%9E%2C%E4%B8%BB%E4%BD%93%2C%E9%9B%86%E5%9B%A3%09_%092%09nsubj%09_%09SpaceAfter%3DNo%7CTranslit%3Dcountry%0A2%09%E7%84%A1%09%E7%84%A1%09VERB%09v%2C%E5%8B%95%E8%A9%9E%2C%E5%AD%98%E5%9C%A8%2C%E5%AD%98%E5%9C%A8%09Polarity%3DNeg%090%09ROOT%09_%09SpaceAfter%3DNo%7CTranslit%3Dnot-have%0A3%09%E9%81%93%09%E9%81%93%09NOUN%09n%2C%E5%90%8D%E8%A9%9E%2C%E5%88%B6%E5%BA%A6%2C%E5%84%80%E7%A4%BC%09_%092%09obj%09_%09SpaceAfter%3DNo%7CTranslit%3Ddoctrine%0A4%09%E5%AF%8C%09%E5%AF%8C%09VERB%09v%2C%E5%8B%95%E8%A9%9E%2C%E6%8F%8F%E5%86%99%2C%E5%A2%83%E9%81%87%09Degree%3DPos%092%09parataxis%09_%09SpaceAfter%3DNo%7CTranslit%3Drich%0A5%09%E4%B8%94%09%E4%B8%94%09ADV%09v%2C%E5%89%AF%E8%A9%9E%2C%E9%A0%BB%E5%BA%A6%2C%E9%87%8D%E8%A4%87%09_%096%09cc%09_%09SpaceAfter%3DNo%7CTranslit%3Dand%0A6%09%E8%B2%B4%09%E8%B2%B4%09VERB%09v%2C%E5%8B%95%E8%A9%9E%2C%E6%8F%8F%E5%86%99%2C%E6%85%8B%E5%BA%A6%09Degree%3DPos%094%09conj%09_%09SpaceAfter%3DNo%7CTranslit%3Dnoble%0A7%09%E7%84%89%09%E7%84%89%09PART%09p%2C%E5%8A%A9%E8%A9%9E%2C%E5%8F%A5%E6%9C%AB%2C%2A%09_%094%09discourse%3Asp%09_%09SpaceAfter%3DNo%7CTranslit%3D%5Bfinal-particle%5D%0A8%09%E6%81%A5%09%E6%81%A5%09NOUN%09n%2C%E5%90%8D%E8%A9%9E%2C%E5%8F%AF%E6%90%AC%2C%E6%88%90%E6%9E%9C%E7%89%A9%09_%094%09conj%09_%09SpaceAfter%3DNo%7CTranslit%3Dshame%0A9%09%E4%B9%9F%09%E4%B9%9F%09PART%09p%2C%E5%8A%A9%E8%A9%9E%2C%E5%8F%A5%E6%9C%AB%2C%2A%09_%098%09discourse%3Asp%09_%09SpaceAfter%3DNo%7CTranslit%3D%5Bfinal-particle%5D%0A%0A\"\n",
       "            frameborder=\"0\"\n",
       "            allowfullscreen\n",
       "            style=\"background-color: white;\"\n",
       "        ></iframe>\n",
       "        "
      ],
      "text/plain": [
       "<IPython.lib.display.IFrame at 0x7fe91f5a8fd0>"
      ]
     },
     "metadata": {},
     "output_type": "display_data"
    }
   ],
   "source": [
    "ex103 = nlp(\"邦有道貧且賤焉恥也\\n邦無道富且貴焉恥也\")\n",
    "serve(ex103, 450)"
   ]
  },
  {
   "cell_type": "markdown",
   "metadata": {},
   "source": [
    "## 2. Clause Objects - Verb Phrases as Objects of Transitive Verbs"
   ]
  },
  {
   "cell_type": "code",
   "execution_count": 23,
   "metadata": {},
   "outputs": [
    {
     "name": "stderr",
     "output_type": "stream",
     "text": [
      "                                                   \r"
     ]
    },
    {
     "data": {
      "text/html": [
       "\n",
       "        <iframe\n",
       "            width=\"100%\"\n",
       "            height=\"200\"\n",
       "            src=\"https://koichiyasuoka.github.io/deplacy/deplacy/viewer.svg#1%09%E7%8E%8B%09%E7%8E%8B%09NOUN%09n%2C%E5%90%8D%E8%A9%9E%2C%E4%BA%BA%2C%E5%BD%B9%E5%89%B2%09_%093%09nsubj%09_%09SpaceAfter%3DNo%7CTranslit%3Dking%0A2%09%E6%AC%B2%09%E6%AC%B2%09AUX%09v%2C%E5%8A%A9%E5%8B%95%E8%A9%9E%2C%E9%A1%98%E6%9C%9B%2C%2A%09Mood%3DDes%093%09aux%09_%09SpaceAfter%3DNo%7CTranslit%3Dwish%0A3%09%E6%AE%BA%09%EF%A5%B0%09VERB%09v%2C%E5%8B%95%E8%A9%9E%2C%E8%A1%8C%E7%82%BA%2C%E5%8B%95%E4%BD%9C%09_%090%09ROOT%09_%09SpaceAfter%3DNo%7CTranslit%3Dkill%0A4%09%E4%BA%BA%09%E4%BA%BA%09NOUN%09n%2C%E5%90%8D%E8%A9%9E%2C%E4%BA%BA%2C%E4%BA%BA%09_%093%09obj%09_%09SpaceAfter%3DNo%7CTranslit%3Dperson%0A%0A\"\n",
       "            frameborder=\"0\"\n",
       "            allowfullscreen\n",
       "            style=\"background-color: white;\"\n",
       "        ></iframe>\n",
       "        "
      ],
      "text/plain": [
       "<IPython.lib.display.IFrame at 0x7fe91f8ee4c0>"
      ]
     },
     "metadata": {},
     "output_type": "display_data"
    }
   ],
   "source": [
    "ex_successive_verbs = nlp(\"王欲殺人\")\n",
    "serve(ex_successive_verbs)"
   ]
  },
  {
   "cell_type": "code",
   "execution_count": 25,
   "metadata": {},
   "outputs": [
    {
     "name": "stderr",
     "output_type": "stream",
     "text": [
      "                                                   \r"
     ]
    },
    {
     "data": {
      "text/html": [
       "\n",
       "        <iframe\n",
       "            width=\"100%\"\n",
       "            height=\"250\"\n",
       "            src=\"https://koichiyasuoka.github.io/deplacy/deplacy/viewer.svg#1%09%E5%89%87%09%E5%89%87%09ADV%09v%2C%E5%89%AF%E8%A9%9E%2C%E6%99%82%E7%9B%B8%2C%E7%B7%8A%E6%8E%A5%09AdvType%3DTim%093%09advmod%09_%09SpaceAfter%3DNo%7CTranslit%3Dthen%0A2%09%E7%84%A1%09%E7%84%A1%09VERB%09v%2C%E5%8B%95%E8%A9%9E%2C%E5%AD%98%E5%9C%A8%2C%E5%AD%98%E5%9C%A8%09Polarity%3DNeg%093%09advmod%09_%09SpaceAfter%3DNo%7CTranslit%3Dnot-have%0A3%09%E6%9C%9B%09%E6%9C%9B%09VERB%09v%2C%E5%8B%95%E8%A9%9E%2C%E8%A1%8C%E7%82%BA%2C%E5%8B%95%E4%BD%9C%09_%090%09ROOT%09_%09SpaceAfter%3DNo%7CTranslit%3Dexpect%0A4%09%E6%B0%91%09%E6%B0%91%09NOUN%09n%2C%E5%90%8D%E8%A9%9E%2C%E4%BA%BA%2C%E4%BA%BA%09_%096%09nsubj%09_%09SpaceAfter%3DNo%7CTranslit%3Dpeople%0A5%09%E4%B9%8B%09%E4%B9%8B%09SCONJ%09p%2C%E5%8A%A9%E8%A9%9E%2C%E6%8E%A5%E7%B6%9A%2C%E5%B1%9E%E6%A0%BC%09_%094%09case%09_%09SpaceAfter%3DNo%7CTranslit%3D%27s%0A6%09%E5%A4%9A%09%E5%A4%9A%09VERB%09v%2C%E5%8B%95%E8%A9%9E%2C%E6%8F%8F%E5%86%99%2C%E9%87%8F%09Degree%3DPos%093%09ccomp%09_%09SpaceAfter%3DNo%7CTranslit%3Dmany%0A7%09%E6%96%BC%09%E6%96%BC%09ADP%09v%2C%E5%89%8D%E7%BD%AE%E8%A9%9E%2C%E5%9F%BA%E7%9B%A4%2C%2A%09_%099%09case%09_%09SpaceAfter%3DNo%7CTranslit%3Dat%0A8%09%E9%84%B0%09%E9%84%B0%09NOUN%09n%2C%E5%90%8D%E8%A9%9E%2C%E5%9B%BA%E5%AE%9A%E7%89%A9%2C%E9%96%A2%E4%BF%82%09Case%3DLoc%099%09nmod%09_%09SpaceAfter%3DNo%7CTranslit%3Dneighbour%0A9%09%E5%9C%8B%09%E5%9C%8B%09NOUN%09n%2C%E5%90%8D%E8%A9%9E%2C%E4%B8%BB%E4%BD%93%2C%E9%9B%86%E5%9B%A3%09_%096%09obl%09_%09SpaceAfter%3DNo%7CTranslit%3Dcountry%0A10%09%E4%B9%9F%09%E4%B9%9F%09PART%09p%2C%E5%8A%A9%E8%A9%9E%2C%E5%8F%A5%E6%9C%AB%2C%2A%09_%093%09discourse%3Asp%09_%09SpaceAfter%3DNo%7CTranslit%3D%5Bfinal-particle%5D%0A%0A\"\n",
       "            frameborder=\"0\"\n",
       "            allowfullscreen\n",
       "            style=\"background-color: white;\"\n",
       "        ></iframe>\n",
       "        "
      ],
      "text/plain": [
       "<IPython.lib.display.IFrame at 0x7fe91faf3670>"
      ]
     },
     "metadata": {},
     "output_type": "display_data"
    }
   ],
   "source": [
    "ex104 = nlp(\"則無望民之多於鄰國也\")\n",
    "serve(ex104, 250)"
   ]
  },
  {
   "cell_type": "code",
   "execution_count": 31,
   "metadata": {},
   "outputs": [
    {
     "name": "stderr",
     "output_type": "stream",
     "text": [
      "                                                   \r"
     ]
    },
    {
     "data": {
      "text/html": [
       "\n",
       "        <iframe\n",
       "            width=\"100%\"\n",
       "            height=\"250\"\n",
       "            src=\"https://koichiyasuoka.github.io/deplacy/deplacy/viewer.svg#1%09%E5%90%BE%09%E5%90%BE%09PRON%09n%2C%E4%BB%A3%E5%90%8D%E8%A9%9E%2C%E4%BA%BA%E7%A7%B0%2C%E8%B5%B7%E6%A0%BC%09Person%3D1%7CPronType%3DPrs%092%09nsubj%09_%09SpaceAfter%3DNo%7CTranslit%3D%5B1PRON%5D%0A2%09%E6%83%9B%09%E6%83%9B%09VERB%09v%2C%E5%8B%95%E8%A9%9E%2C%E6%8F%8F%E5%86%99%2C%E5%BD%A2%E8%B3%AA%09Degree%3DPos%090%09ROOT%09_%09SpaceAfter%3DNo%0A3%09%E4%B8%8D%09%E4%B8%8D%09ADV%09v%2C%E5%89%AF%E8%A9%9E%2C%E5%90%A6%E5%AE%9A%2C%E7%84%A1%E7%95%8C%09Polarity%3DNeg%094%09advmod%09_%09SpaceAfter%3DNo%7CTranslit%3Dnot%0A4%09%E8%83%BD%09%E8%83%BD%09AUX%09v%2C%E5%8A%A9%E5%8B%95%E8%A9%9E%2C%E5%8F%AF%E8%83%BD%2C%2A%09Mood%3DPot%095%09aux%09_%09SpaceAfter%3DNo%7CTranslit%3Dcan%0A5%09%E9%80%B2%09%E9%80%B2%09VERB%09v%2C%E5%8B%95%E8%A9%9E%2C%E8%A1%8C%E7%82%BA%2C%E7%A7%BB%E5%8B%95%09_%092%09ccomp%09_%09SpaceAfter%3DNo%7CTranslit%3Dadvance%0A6%09%E6%96%BC%09%E6%96%BC%09ADP%09v%2C%E5%89%8D%E7%BD%AE%E8%A9%9E%2C%E5%9F%BA%E7%9B%A4%2C%2A%09_%097%09case%09_%09SpaceAfter%3DNo%7CTranslit%3Dat%0A7%09%E6%98%AF%09%E6%98%AF%09PRON%09n%2C%E4%BB%A3%E5%90%8D%E8%A9%9E%2C%E6%8C%87%E7%A4%BA%2C%2A%09PronType%3DDem%095%09obl%09_%09SpaceAfter%3DNo%7CTranslit%3Dthis%0A8%09%E7%9F%A3%09%E7%9F%A3%09PART%09p%2C%E5%8A%A9%E8%A9%9E%2C%E5%8F%A5%E6%9C%AB%2C%2A%09_%092%09discourse%3Asp%09_%09SpaceAfter%3DNo%7CTranslit%3D%5BPFV%5D%0A%0A\"\n",
       "            frameborder=\"0\"\n",
       "            allowfullscreen\n",
       "            style=\"background-color: white;\"\n",
       "        ></iframe>\n",
       "        "
      ],
      "text/plain": [
       "<IPython.lib.display.IFrame at 0x7fe91faf3d60>"
      ]
     },
     "metadata": {},
     "output_type": "display_data"
    }
   ],
   "source": [
    "ex105 = nlp(\"吾惛不能進於是矣\")\n",
    "serve(ex105, 250)"
   ]
  },
  {
   "cell_type": "code",
   "execution_count": 32,
   "metadata": {},
   "outputs": [
    {
     "name": "stderr",
     "output_type": "stream",
     "text": [
      "                                                   \r"
     ]
    },
    {
     "data": {
      "text/html": [
       "\n",
       "        <iframe\n",
       "            width=\"100%\"\n",
       "            height=\"250\"\n",
       "            src=\"https://koichiyasuoka.github.io/deplacy/deplacy/viewer.svg#1%09%E5%BD%BC%09%E5%BD%BC%09PRON%09n%2C%E4%BB%A3%E5%90%8D%E8%A9%9E%2C%E6%8C%87%E7%A4%BA%2C%2A%09PronType%3DDem%094%09nsubj%09_%09SpaceAfter%3DNo%7CTranslit%3Dthat%0A2%09%E6%83%A1%09%E6%83%A1%09ADV%09v%2C%E5%89%AF%E8%A9%9E%2C%E7%96%91%E5%95%8F%2C%E6%89%80%E5%9C%A8%09_%094%09advmod%09_%09SpaceAfter%3DNo%7CTranslit%3Dhow%0A3%09%E6%95%A2%09%E6%95%A2%09AUX%09v%2C%E5%8A%A9%E5%8B%95%E8%A9%9E%2C%E9%A1%98%E6%9C%9B%2C%2A%09Mood%3DDes%094%09aux%09_%09SpaceAfter%3DNo%7CTranslit%3Ddare%0A4%09%E7%95%B6%09%E7%95%B6%09VERB%09v%2C%E5%8B%95%E8%A9%9E%2C%E8%A1%8C%E7%82%BA%2C%E5%8B%95%E4%BD%9C%09_%090%09ROOT%09_%09SpaceAfter%3DNo%7CTranslit%3Dcorrespond-to%0A5%09%E6%88%91%09%E6%88%91%09PRON%09n%2C%E4%BB%A3%E5%90%8D%E8%A9%9E%2C%E4%BA%BA%E7%A7%B0%2C%E6%AD%A2%E6%A0%BC%09Person%3D1%7CPronType%3DPrs%094%09obj%09_%09SpaceAfter%3DNo%7CTranslit%3D%5B1PRON%5D%0A6%09%E5%93%89%09%E5%93%89%09PART%09p%2C%E5%8A%A9%E8%A9%9E%2C%E5%8F%A5%E6%9C%AB%2C%2A%09_%094%09discourse%3Asp%09_%09SpaceAfter%3DNo%7CTranslit%3D%5Bexclamatory-particle%5D%0A%0A\"\n",
       "            frameborder=\"0\"\n",
       "            allowfullscreen\n",
       "            style=\"background-color: white;\"\n",
       "        ></iframe>\n",
       "        "
      ],
      "text/plain": [
       "<IPython.lib.display.IFrame at 0x7fe91faf3fd0>"
      ]
     },
     "metadata": {},
     "output_type": "display_data"
    }
   ],
   "source": [
    "ex106 = nlp(\"彼惡敢當我哉\")\n",
    "serve(ex106, 250)"
   ]
  },
  {
   "cell_type": "code",
   "execution_count": 34,
   "metadata": {},
   "outputs": [
    {
     "name": "stderr",
     "output_type": "stream",
     "text": [
      "                                                   \r"
     ]
    },
    {
     "data": {
      "text/html": [
       "\n",
       "        <iframe\n",
       "            width=\"100%\"\n",
       "            height=\"250\"\n",
       "            src=\"https://koichiyasuoka.github.io/deplacy/deplacy/viewer.svg#1%09%E4%B8%8D%09%E4%B8%8D%09ADV%09v%2C%E5%89%AF%E8%A9%9E%2C%E5%90%A6%E5%AE%9A%2C%E7%84%A1%E7%95%8C%09Polarity%3DNeg%092%09advmod%09_%09SpaceAfter%3DNo%7CTranslit%3Dnot%0A2%09%E8%83%BD%09%E8%83%BD%09AUX%09v%2C%E5%8A%A9%E5%8B%95%E8%A9%9E%2C%E5%8F%AF%E8%83%BD%2C%2A%09Mood%3DPot%090%09ROOT%09_%09SpaceAfter%3DNo%7CTranslit%3Dcan%0A3%09%E4%B8%89%09%E4%B8%89%09NUM%09n%2C%E6%95%B0%E8%A9%9E%2C%E6%95%B0%E5%AD%97%2C%2A%09_%094%09nummod%09_%09SpaceAfter%3DNo%7CTranslit%3Dthree%0A4%09%E5%B9%B4%09%E5%B9%B4%09NOUN%09n%2C%E5%90%8D%E8%A9%9E%2C%E6%99%82%2C%2A%09Case%3DTem%096%09nmod%09_%09SpaceAfter%3DNo%7CTranslit%3Dyear%0A5%09%E4%B9%8B%09%E4%B9%8B%09SCONJ%09p%2C%E5%8A%A9%E8%A9%9E%2C%E6%8E%A5%E7%B6%9A%2C%E5%B1%9E%E6%A0%BC%09_%094%09case%09_%09SpaceAfter%3DNo%7CTranslit%3D%27s%0A6%09%E5%96%AA%09%E5%96%AA%09NOUN%09n%2C%E5%90%8D%E8%A9%9E%2C%E5%88%B6%E5%BA%A6%2C%E5%84%80%E7%A4%BC%09_%092%09obj%09_%09SpaceAfter%3DNo%7CTranslit%3Dmourning%0A%0A\"\n",
       "            frameborder=\"0\"\n",
       "            allowfullscreen\n",
       "            style=\"background-color: white;\"\n",
       "        ></iframe>\n",
       "        "
      ],
      "text/plain": [
       "<IPython.lib.display.IFrame at 0x7fe91ae376a0>"
      ]
     },
     "metadata": {},
     "output_type": "display_data"
    }
   ],
   "source": [
    "ex107 = nlp(\"不能三年之喪\")\n",
    "serve(ex107, 250)"
   ]
  },
  {
   "cell_type": "code",
   "execution_count": 35,
   "metadata": {},
   "outputs": [
    {
     "name": "stderr",
     "output_type": "stream",
     "text": [
      "                                                   \r"
     ]
    },
    {
     "data": {
      "text/html": [
       "\n",
       "        <iframe\n",
       "            width=\"100%\"\n",
       "            height=\"200\"\n",
       "            src=\"https://koichiyasuoka.github.io/deplacy/deplacy/viewer.svg#1%09%E4%B8%8D%09%E4%B8%8D%09ADV%09v%2C%E5%89%AF%E8%A9%9E%2C%E5%90%A6%E5%AE%9A%2C%E7%84%A1%E7%95%8C%09Polarity%3DNeg%092%09advmod%09_%09SpaceAfter%3DNo%7CTranslit%3Dnot%0A2%09%E8%B3%A2%09%E8%B3%A2%09VERB%09v%2C%E5%8B%95%E8%A9%9E%2C%E6%8F%8F%E5%86%99%2C%E6%85%8B%E5%BA%A6%09Degree%3DPos%090%09ROOT%09_%09SpaceAfter%3DNo%7CTranslit%3Dworthy%0A3%09%E8%80%8C%09%E8%80%8C%09CCONJ%09p%2C%E5%8A%A9%E8%A9%9E%2C%E6%8E%A5%E7%B6%9A%2C%E4%B8%A6%E5%88%97%09_%094%09cc%09_%09SpaceAfter%3DNo%7CTranslit%3Dand%0A4%09%E8%83%BD%09%E8%83%BD%09AUX%09v%2C%E5%8A%A9%E5%8B%95%E8%A9%9E%2C%E5%8F%AF%E8%83%BD%2C%2A%09Mood%3DPot%092%09conj%09_%09SpaceAfter%3DNo%7CTranslit%3Dcan%0A5%09%E4%B9%8B%09%E4%B9%8B%09PRON%09n%2C%E4%BB%A3%E5%90%8D%E8%A9%9E%2C%E4%BA%BA%E7%A7%B0%2C%E6%AD%A2%E6%A0%BC%09Person%3D3%7CPronType%3DPrs%094%09obj%09_%09SpaceAfter%3DNo%7CTranslit%3D%5B3PRON%5D%0A6%09%E8%88%87%09%E8%88%87%09PART%09p%2C%E5%8A%A9%E8%A9%9E%2C%E5%8F%A5%E6%9C%AB%2C%2A%09_%094%09discourse%3Asp%09_%09SpaceAfter%3DNo%7CTranslit%3D%5BQ%5D%0A%0A\"\n",
       "            frameborder=\"0\"\n",
       "            allowfullscreen\n",
       "            style=\"background-color: white;\"\n",
       "        ></iframe>\n",
       "        "
      ],
      "text/plain": [
       "<IPython.lib.display.IFrame at 0x7fe91faf3610>"
      ]
     },
     "metadata": {},
     "output_type": "display_data"
    }
   ],
   "source": [
    "ex108 = nlp(\"不賢而能之與\")\n",
    "serve(ex108)"
   ]
  },
  {
   "cell_type": "markdown",
   "metadata": {},
   "source": [
    "## 3. Pivot Constructions - The Causative"
   ]
  },
  {
   "cell_type": "code",
   "execution_count": 37,
   "metadata": {},
   "outputs": [
    {
     "name": "stderr",
     "output_type": "stream",
     "text": [
      "                                                   \r"
     ]
    },
    {
     "data": {
      "text/html": [
       "\n",
       "        <iframe\n",
       "            width=\"100%\"\n",
       "            height=\"250\"\n",
       "            src=\"https://koichiyasuoka.github.io/deplacy/deplacy/viewer.svg#1%09%E7%8E%8B%09%E7%8E%8B%09NOUN%09n%2C%E5%90%8D%E8%A9%9E%2C%E4%BA%BA%2C%E5%BD%B9%E5%89%B2%09_%092%09nsubj%09_%09SpaceAfter%3DNo%7CTranslit%3Dking%0A2%09%E4%BD%BF%09%E4%BD%BF%09VERB%09v%2C%E5%8B%95%E8%A9%9E%2C%E8%A1%8C%E7%82%BA%2C%E4%BD%BF%E5%BD%B9%09_%090%09ROOT%09_%09SpaceAfter%3DNo%7CTranslit%3D%5Bmake-to-do%5D%0A3%09%E4%BA%BA%09%E4%BA%BA%09NOUN%09n%2C%E5%90%8D%E8%A9%9E%2C%E4%BA%BA%2C%E4%BA%BA%09_%092%09obj%09_%09SpaceAfter%3DNo%7CTranslit%3Dperson%0A4%09%E4%BE%86%09%E4%BE%86%09VERB%09v%2C%E5%8B%95%E8%A9%9E%2C%E8%A1%8C%E7%82%BA%2C%E7%A7%BB%E5%8B%95%09_%092%09xcomp%09_%09SpaceAfter%3DNo%7CTranslit%3Dcome%0A5%09%E6%9B%B0%09%E6%9B%B0%09VERB%09v%2C%E5%8B%95%E8%A9%9E%2C%E8%A1%8C%E7%82%BA%2C%E4%BC%9D%E9%81%94%09_%092%09parataxis%09_%09SpaceAfter%3DNo%7CTranslit%3Dsay%0A%0A\"\n",
       "            frameborder=\"0\"\n",
       "            allowfullscreen\n",
       "            style=\"background-color: white;\"\n",
       "        ></iframe>\n",
       "        "
      ],
      "text/plain": [
       "<IPython.lib.display.IFrame at 0x7fe91faf36d0>"
      ]
     },
     "metadata": {},
     "output_type": "display_data"
    }
   ],
   "source": [
    "ex109 = nlp(\"王使人來曰\")\n",
    "serve(ex109, 250)"
   ]
  },
  {
   "cell_type": "code",
   "execution_count": 40,
   "metadata": {},
   "outputs": [
    {
     "name": "stderr",
     "output_type": "stream",
     "text": [
      "                                                   \r"
     ]
    },
    {
     "data": {
      "text/html": [
       "\n",
       "        <iframe\n",
       "            width=\"100%\"\n",
       "            height=\"300\"\n",
       "            src=\"https://koichiyasuoka.github.io/deplacy/deplacy/viewer.svg#1%09%E4%BB%A4%09%E4%BB%A4%09VERB%09v%2C%E5%8B%95%E8%A9%9E%2C%E8%A1%8C%E7%82%BA%2C%E4%BD%BF%E5%BD%B9%09_%090%09ROOT%09_%09SpaceAfter%3DNo%7CTranslit%3Dorder%0A2%09%E8%8B%9F%09%E8%8B%9F%09ADV%09v%2C%E5%89%AF%E8%A9%9E%2C%E5%88%A4%E6%96%AD%2C%E6%8E%A8%E5%AE%9A%09_%093%09advmod%09_%09SpaceAfter%3DNo%7CTranslit%3Dcareless%0A3%09%E6%9C%89%09%E6%9C%89%09VERB%09v%2C%E5%8B%95%E8%A9%9E%2C%E5%AD%98%E5%9C%A8%2C%E5%AD%98%E5%9C%A8%09_%098%09acl%09_%09SpaceAfter%3DNo%7CTranslit%3Dhave%0A4%09%E6%80%A8%09%E6%80%A8%09NOUN%09n%2C%E5%90%8D%E8%A9%9E%2C%E6%80%9D%E8%80%83%2C%E6%80%9D%E8%80%83%09_%093%09obj%09_%09SpaceAfter%3DNo%0A5%09%E6%96%BC%09%E6%96%BC%09ADP%09v%2C%E5%89%8D%E7%BD%AE%E8%A9%9E%2C%E5%9F%BA%E7%9B%A4%2C%2A%09_%097%09case%09_%09SpaceAfter%3DNo%7CTranslit%3Dat%0A6%09%E5%A4%AB%09%E5%A4%AB%09NOUN%09n%2C%E5%90%8D%E8%A9%9E%2C%E4%BA%BA%2C%E9%96%A2%E4%BF%82%09_%097%09nmod%09_%09SpaceAfter%3DNo%7CTranslit%3Dhusband%0A7%09%E4%BA%BA%09%E4%BA%BA%09NOUN%09n%2C%E5%90%8D%E8%A9%9E%2C%E4%BA%BA%2C%E4%BA%BA%09_%093%09obl%09_%09SpaceAfter%3DNo%7CTranslit%3Dperson%0A8%09%E8%80%85%09%EF%A9%9B%09PART%09p%2C%E5%8A%A9%E8%A9%9E%2C%E6%8F%90%E7%A4%BA%2C%2A%09_%091%09obj%09_%09SpaceAfter%3DNo%7CTranslit%3Dthat-which%0A9%09%E5%A0%B1%09%E5%A0%B1%09VERB%09v%2C%E5%8B%95%E8%A9%9E%2C%E8%A1%8C%E7%82%BA%2C%E4%BA%A4%E6%B5%81%09_%091%09xcomp%09_%09SpaceAfter%3DNo%7CTranslit%3Dreport-back%0A10%09%E4%B9%8B%09%E4%B9%8B%09PRON%09n%2C%E4%BB%A3%E5%90%8D%E8%A9%9E%2C%E4%BA%BA%E7%A7%B0%2C%E6%AD%A2%E6%A0%BC%09Person%3D3%7CPronType%3DPrs%099%09obj%09_%09SpaceAfter%3DNo%7CTranslit%3D%5B3PRON%5D%0A%0A\"\n",
       "            frameborder=\"0\"\n",
       "            allowfullscreen\n",
       "            style=\"background-color: white;\"\n",
       "        ></iframe>\n",
       "        "
      ],
      "text/plain": [
       "<IPython.lib.display.IFrame at 0x7fe91faf33d0>"
      ]
     },
     "metadata": {},
     "output_type": "display_data"
    }
   ],
   "source": [
    "ex110 = nlp(\"令苟有怨於夫人者報之\")\n",
    "serve(ex110, 300)"
   ]
  },
  {
   "cell_type": "code",
   "execution_count": 42,
   "metadata": {},
   "outputs": [
    {
     "name": "stderr",
     "output_type": "stream",
     "text": [
      "                                                   \r"
     ]
    },
    {
     "data": {
      "text/html": [
       "\n",
       "        <iframe\n",
       "            width=\"100%\"\n",
       "            height=\"250\"\n",
       "            src=\"https://koichiyasuoka.github.io/deplacy/deplacy/viewer.svg#1%09%E4%BA%88%09%E4%BA%88%09PRON%09n%2C%E4%BB%A3%E5%90%8D%E8%A9%9E%2C%E4%BA%BA%E7%A7%B0%2C%E4%BB%96%09Person%3D1%7CPronType%3DPrs%092%09nsubj%09_%09SpaceAfter%3DNo%7CTranslit%3D%5B1PRON%5D%0A2%09%E5%8A%A9%09%E5%8A%A9%09VERB%09v%2C%E5%8B%95%E8%A9%9E%2C%E8%A1%8C%E7%82%BA%2C%E4%BA%A4%E6%B5%81%09_%090%09ROOT%09_%09SpaceAfter%3DNo%7CTranslit%3Dhelp%0A3%09%E8%8B%97%09%E8%8B%97%09NOUN%09n%2C%E5%90%8D%E8%A9%9E%2C%E5%9B%BA%E5%AE%9A%E7%89%A9%2C%E6%A8%B9%E6%9C%A8%09_%092%09obj%09_%09SpaceAfter%3DNo%7CTranslit%3Dseedling%0A4%09%E9%95%B7%09%E9%95%B7%09VERB%09v%2C%E5%8B%95%E8%A9%9E%2C%E5%A4%89%E5%8C%96%2C%E7%94%9F%E7%89%A9%09_%092%09ccomp%09_%09SpaceAfter%3DNo%7CTranslit%3Dlong-last%0A5%09%E7%9F%A3%09%E7%9F%A3%09PART%09p%2C%E5%8A%A9%E8%A9%9E%2C%E5%8F%A5%E6%9C%AB%2C%2A%09_%092%09discourse%3Asp%09_%09SpaceAfter%3DNo%7CTranslit%3D%5BPFV%5D%0A%0A\"\n",
       "            frameborder=\"0\"\n",
       "            allowfullscreen\n",
       "            style=\"background-color: white;\"\n",
       "        ></iframe>\n",
       "        "
      ],
      "text/plain": [
       "<IPython.lib.display.IFrame at 0x7fe91f3e1940>"
      ]
     },
     "metadata": {},
     "output_type": "display_data"
    }
   ],
   "source": [
    "ex111 = nlp(\"予助苗長矣\")\n",
    "serve(ex111, 250)"
   ]
  },
  {
   "cell_type": "code",
   "execution_count": 44,
   "metadata": {},
   "outputs": [
    {
     "name": "stderr",
     "output_type": "stream",
     "text": [
      "                                                   \r"
     ]
    },
    {
     "data": {
      "text/html": [
       "\n",
       "        <iframe\n",
       "            width=\"100%\"\n",
       "            height=\"250\"\n",
       "            src=\"https://koichiyasuoka.github.io/deplacy/deplacy/viewer.svg#1%09%E5%8B%B8%09%E5%8B%B8%09VERB%09v%2C%E5%8B%95%E8%A9%9E%2C%E8%A1%8C%E7%82%BA%2C%E4%BA%A4%E6%B5%81%09_%090%09ROOT%09_%09SpaceAfter%3DNo%7CTranslit%3Durge%0A2%09%E9%BD%8A%09%E9%BD%8A%09PROPN%09n%2C%E5%90%8D%E8%A9%9E%2C%E4%B8%BB%E4%BD%93%2C%E5%9B%BD%E5%90%8D%09Case%3DLoc%7CNameType%3DNat%091%09obj%09_%09SpaceAfter%3DNo%7CTranslit%3D%5Bcountry-name%5D%0A3%09%E4%BC%90%09%E4%BC%90%09VERB%09v%2C%E5%8B%95%E8%A9%9E%2C%E8%A1%8C%E7%82%BA%2C%E4%BA%A4%E6%B5%81%09_%091%09xcomp%09_%09SpaceAfter%3DNo%7CTranslit%3Dhew%0A4%09%E7%87%95%09%E7%87%95%09PROPN%09n%2C%E5%90%8D%E8%A9%9E%2C%E4%B8%BB%E4%BD%93%2C%E5%9B%BD%E5%90%8D%09Case%3DLoc%7CNameType%3DNat%093%09obj%09_%09SpaceAfter%3DNo%7CTranslit%3D%5Bcountry-name%5D%0A5%09%E6%9C%89%09%E6%9C%89%09VERB%09v%2C%E5%8B%95%E8%A9%9E%2C%E5%AD%98%E5%9C%A8%2C%E5%AD%98%E5%9C%A8%09_%091%09parataxis%09_%09SpaceAfter%3DNo%7CTranslit%3Dhave%0A6%09%E8%AB%B8%09%EF%A8%A2%09PRON%09n%2C%E4%BB%A3%E5%90%8D%E8%A9%9E%2C%E4%BA%BA%E7%A7%B0%2C%E4%BB%96%09PronType%3DPrs%095%09obj%09_%09SpaceAfter%3DNo%7CTranslit%3Dthis%0A%0A\"\n",
       "            frameborder=\"0\"\n",
       "            allowfullscreen\n",
       "            style=\"background-color: white;\"\n",
       "        ></iframe>\n",
       "        "
      ],
      "text/plain": [
       "<IPython.lib.display.IFrame at 0x7fe91f3e13d0>"
      ]
     },
     "metadata": {},
     "output_type": "display_data"
    }
   ],
   "source": [
    "ex112 = nlp(\"勸齊伐燕有諸\")\n",
    "serve(ex112, 250)"
   ]
  },
  {
   "cell_type": "code",
   "execution_count": 45,
   "metadata": {},
   "outputs": [
    {
     "name": "stderr",
     "output_type": "stream",
     "text": [
      "                                                   \r"
     ]
    },
    {
     "data": {
      "text/html": [
       "\n",
       "        <iframe\n",
       "            width=\"100%\"\n",
       "            height=\"250\"\n",
       "            src=\"https://koichiyasuoka.github.io/deplacy/deplacy/viewer.svg#1%09%E6%98%AF%09%E6%98%AF%09PRON%09n%2C%E4%BB%A3%E5%90%8D%E8%A9%9E%2C%E6%8C%87%E7%A4%BA%2C%2A%09PronType%3DDem%092%09nsubj%09_%09SpaceAfter%3DNo%7CTranslit%3Dthis%0A2%09%E4%BD%BF%09%E4%BD%BF%09VERB%09v%2C%E5%8B%95%E8%A9%9E%2C%E8%A1%8C%E7%82%BA%2C%E4%BD%BF%E5%BD%B9%09_%090%09ROOT%09_%09SpaceAfter%3DNo%7CTranslit%3D%5Bmake-to-do%5D%0A3%09%E6%B0%91%09%E6%B0%91%09NOUN%09n%2C%E5%90%8D%E8%A9%9E%2C%E4%BA%BA%2C%E4%BA%BA%09_%092%09obj%09_%09SpaceAfter%3DNo%7CTranslit%3Dpeople%0A4%09%E9%A4%8A%09%E9%A4%8A%09VERB%09v%2C%E5%8B%95%E8%A9%9E%2C%E8%A1%8C%E7%82%BA%2C%E5%8B%95%E4%BD%9C%09_%092%09xcomp%09_%09SpaceAfter%3DNo%7CTranslit%3Dsupport%0A5%09%E7%94%9F%09%E7%94%9F%09NOUN%09n%2C%E5%90%8D%E8%A9%9E%2C%E8%A1%8C%E7%82%BA%2C%2A%09_%094%09obj%09_%09SpaceAfter%3DNo%7CTranslit%3Dlife%0A6%09%E5%96%AA%09%E5%96%AA%09VERB%09v%2C%E5%8B%95%E8%A9%9E%2C%E8%A1%8C%E7%82%BA%2C%E5%84%80%E7%A4%BC%09_%094%09conj%09_%09SpaceAfter%3DNo%7CTranslit%3Dmourn%0A7%09%E6%AD%BB%09%E6%AD%BB%09NOUN%09n%2C%E5%90%8D%E8%A9%9E%2C%E8%A1%8C%E7%82%BA%2C%2A%09_%096%09obj%09_%09SpaceAfter%3DNo%7CTranslit%3Ddeath%0A8%09%E7%84%A1%09%E7%84%A1%09VERB%09v%2C%E5%8B%95%E8%A9%9E%2C%E5%AD%98%E5%9C%A8%2C%E5%AD%98%E5%9C%A8%09Polarity%3DNeg%099%09advmod%09_%09SpaceAfter%3DNo%7CTranslit%3Dnot-have%0A9%09%E6%86%BE%09%E6%86%BE%09VERB%09v%2C%E5%8B%95%E8%A9%9E%2C%E8%A1%8C%E7%82%BA%2C%E6%85%8B%E5%BA%A6%09_%094%09conj%09_%09SpaceAfter%3DNo%7CTranslit%3Dresent%0A10%09%E4%B9%9F%09%E4%B9%9F%09PART%09p%2C%E5%8A%A9%E8%A9%9E%2C%E5%8F%A5%E6%9C%AB%2C%2A%09_%092%09discourse%3Asp%09_%09SpaceAfter%3DNo%7CTranslit%3D%5Bfinal-particle%5D%0A%0A\"\n",
       "            frameborder=\"0\"\n",
       "            allowfullscreen\n",
       "            style=\"background-color: white;\"\n",
       "        ></iframe>\n",
       "        "
      ],
      "text/plain": [
       "<IPython.lib.display.IFrame at 0x7fe91faf3940>"
      ]
     },
     "metadata": {},
     "output_type": "display_data"
    }
   ],
   "source": [
    "ex113 = nlp(\"是使民養生喪死無憾也\")\n",
    "serve(ex113, 250)"
   ]
  },
  {
   "cell_type": "code",
   "execution_count": 47,
   "metadata": {},
   "outputs": [
    {
     "name": "stderr",
     "output_type": "stream",
     "text": [
      "                                                   \r"
     ]
    },
    {
     "data": {
      "text/html": [
       "\n",
       "        <iframe\n",
       "            width=\"100%\"\n",
       "            height=\"200\"\n",
       "            src=\"https://koichiyasuoka.github.io/deplacy/deplacy/viewer.svg#1%09%E6%AF%8B%09%E6%AF%8B%09ADV%09v%2C%E5%89%AF%E8%A9%9E%2C%E5%90%A6%E5%AE%9A%2C%E7%A6%81%E6%AD%A2%09Polarity%3DNeg%092%09advmod%09_%09SpaceAfter%3DNo%7CTranslit%3Ddon%27t%0A2%09%E4%BB%A4%09%E4%BB%A4%09VERB%09v%2C%E5%8B%95%E8%A9%9E%2C%E8%A1%8C%E7%82%BA%2C%E4%BD%BF%E5%BD%B9%09_%090%09ROOT%09_%09SpaceAfter%3DNo%7CTranslit%3Dorder%0A3%09%E6%B0%B4%09%E6%B0%B4%09NOUN%09n%2C%E5%90%8D%E8%A9%9E%2C%E5%8F%AF%E6%90%AC%2C%E9%81%93%E5%85%B7%09_%092%09obj%09_%09SpaceAfter%3DNo%7CTranslit%3Dwater%0A4%09%E6%BD%A6%09%E6%BD%A6%09NOUN%09n%2C%E5%90%8D%E8%A9%9E%2C%E5%A4%A9%E8%B1%A1%2C%E6%B0%97%E8%B1%A1%09_%093%09conj%09_%09SpaceAfter%3DNo%7CTranslit%3Dheavy-rain%0A5%09%E8%83%BD%09%E8%83%BD%09AUX%09v%2C%E5%8A%A9%E5%8B%95%E8%A9%9E%2C%E5%8F%AF%E8%83%BD%2C%2A%09Mood%3DPot%096%09aux%09_%09SpaceAfter%3DNo%7CTranslit%3Dcan%0A6%09%E5%85%A5%09%E5%85%A5%09VERB%09v%2C%E5%8B%95%E8%A9%9E%2C%E8%A1%8C%E7%82%BA%2C%E7%A7%BB%E5%8B%95%09_%092%09xcomp%09_%09SpaceAfter%3DNo%7CTranslit%3Denter%0A%0A\"\n",
       "            frameborder=\"0\"\n",
       "            allowfullscreen\n",
       "            style=\"background-color: white;\"\n",
       "        ></iframe>\n",
       "        "
      ],
      "text/plain": [
       "<IPython.lib.display.IFrame at 0x7fe91f8eefd0>"
      ]
     },
     "metadata": {},
     "output_type": "display_data"
    }
   ],
   "source": [
    "ex114 = nlp(\"毋令水潦能入\")\n",
    "serve(ex114)"
   ]
  },
  {
   "cell_type": "code",
   "execution_count": 48,
   "metadata": {},
   "outputs": [
    {
     "name": "stderr",
     "output_type": "stream",
     "text": [
      "                                                   \r"
     ]
    },
    {
     "data": {
      "text/html": [
       "\n",
       "        <iframe\n",
       "            width=\"100%\"\n",
       "            height=\"200\"\n",
       "            src=\"https://koichiyasuoka.github.io/deplacy/deplacy/viewer.svg#1%09%E5%8A%A9%09%E5%8A%A9%09VERB%09v%2C%E5%8B%95%E8%A9%9E%2C%E8%A1%8C%E7%82%BA%2C%E4%BA%A4%E6%B5%81%09_%090%09ROOT%09_%09SpaceAfter%3DNo%7CTranslit%3Dhelp%0A2%09%E4%B9%8B%09%E4%B9%8B%09PRON%09n%2C%E4%BB%A3%E5%90%8D%E8%A9%9E%2C%E4%BA%BA%E7%A7%B0%2C%E6%AD%A2%E6%A0%BC%09Person%3D3%7CPronType%3DPrs%091%09iobj%09_%09SpaceAfter%3DNo%7CTranslit%3D%5B3PRON%5D%0A3%09%E9%95%B7%09%E9%95%B7%09VERB%09v%2C%E5%8B%95%E8%A9%9E%2C%E5%A4%89%E5%8C%96%2C%E7%94%9F%E7%89%A9%09_%094%09amod%09_%09SpaceAfter%3DNo%7CTranslit%3Dlong-last%0A4%09%E8%80%85%09%EF%A9%9B%09PART%09p%2C%E5%8A%A9%E8%A9%9E%2C%E6%8F%90%E7%A4%BA%2C%2A%09_%091%09obj%09_%09SpaceAfter%3DNo%7CTranslit%3Dthat-which%0A%0A\"\n",
       "            frameborder=\"0\"\n",
       "            allowfullscreen\n",
       "            style=\"background-color: white;\"\n",
       "        ></iframe>\n",
       "        "
      ],
      "text/plain": [
       "<IPython.lib.display.IFrame at 0x7fe91f3e1f70>"
      ]
     },
     "metadata": {},
     "output_type": "display_data"
    }
   ],
   "source": [
    "ex115 = nlp(\"助之長者\")\n",
    "serve(ex115)"
   ]
  },
  {
   "cell_type": "code",
   "execution_count": 56,
   "metadata": {},
   "outputs": [
    {
     "name": "stderr",
     "output_type": "stream",
     "text": [
      "                                                   \r"
     ]
    },
    {
     "data": {
      "text/html": [
       "\n",
       "        <iframe\n",
       "            width=\"100%\"\n",
       "            height=\"1050\"\n",
       "            src=\"https://koichiyasuoka.github.io/deplacy/deplacy/viewer.svg#1%09%E4%B8%94%09%E4%B8%94%09ADV%09v%2C%E5%89%AF%E8%A9%9E%2C%E6%99%82%E7%9B%B8%2C%E5%B0%86%E6%9D%A5%09AdvType%3DTim%7CTense%3DFut%093%09advmod%09_%09SpaceAfter%3DNo%7CTranslit%3Dabout-to%0A2%09%E6%95%85%09%E6%95%85%09ADV%09v%2C%E5%89%AF%E8%A9%9E%2C%E5%88%A4%E6%96%AD%2C%E7%A2%BA%E5%AE%9A%09_%093%09advmod%09_%09SpaceAfter%3DNo%7CTranslit%3Dtherefore%0A3%09%E8%88%88%09%E8%88%88%09VERB%09v%2C%E5%8B%95%E8%A9%9E%2C%E8%A1%8C%E7%82%BA%2C%E5%8B%95%E4%BD%9C%09_%090%09ROOT%09_%09SpaceAfter%3DNo%7CTranslit%3Drise%0A4%09%E5%A4%A9%09%E5%A4%A9%09NOUN%09n%2C%E5%90%8D%E8%A9%9E%2C%E5%88%B6%E5%BA%A6%2C%E5%A0%B4%09Case%3DLoc%095%09compound%09_%09SpaceAfter%3DNo%7CTranslit%3Dheaven%0A5%09%E4%B8%8B%09%E4%B8%8B%09NOUN%09n%2C%E5%90%8D%E8%A9%9E%2C%E5%9B%BA%E5%AE%9A%E7%89%A9%2C%E9%96%A2%E4%BF%82%09Case%3DLoc%097%09nmod%09_%09SpaceAfter%3DNo%7CTranslit%3Ddown%0A6%09%E4%B9%8B%09%E4%B9%8B%09SCONJ%09p%2C%E5%8A%A9%E8%A9%9E%2C%E6%8E%A5%E7%B6%9A%2C%E5%B1%9E%E6%A0%BC%09_%095%09case%09_%09SpaceAfter%3DNo%7CTranslit%3D%27s%0A7%09%E5%88%A9%09%E5%88%A9%09NOUN%09n%2C%E5%90%8D%E8%A9%9E%2C%E6%8F%8F%E5%86%99%2C%E5%BD%A2%E8%B3%AA%09_%093%09obj%09_%09SpaceAfter%3DNo%7CTranslit%3Dprofit%0A%0A1%09%E9%99%A4%09%E9%99%A4%09VERB%09v%2C%E5%8B%95%E8%A9%9E%2C%E8%A1%8C%E7%82%BA%2C%E5%8B%95%E4%BD%9C%09_%090%09ROOT%09_%09SpaceAfter%3DNo%7CTranslit%3Deliminate%0A2%09%E5%A4%A9%09%E5%A4%A9%09NOUN%09n%2C%E5%90%8D%E8%A9%9E%2C%E5%88%B6%E5%BA%A6%2C%E5%A0%B4%09Case%3DLoc%093%09compound%09_%09SpaceAfter%3DNo%7CTranslit%3Dheaven%0A3%09%E4%B8%8B%09%E4%B8%8B%09NOUN%09n%2C%E5%90%8D%E8%A9%9E%2C%E5%9B%BA%E5%AE%9A%E7%89%A9%2C%E9%96%A2%E4%BF%82%09Case%3DLoc%095%09nmod%09_%09SpaceAfter%3DNo%7CTranslit%3Ddown%0A4%09%E4%B9%8B%09%E4%B9%8B%09SCONJ%09p%2C%E5%8A%A9%E8%A9%9E%2C%E6%8E%A5%E7%B6%9A%2C%E5%B1%9E%E6%A0%BC%09_%093%09case%09_%09SpaceAfter%3DNo%7CTranslit%3D%27s%0A5%09%E5%AE%B3%09%E5%AE%B3%09NOUN%09n%2C%E5%90%8D%E8%A9%9E%2C%E6%8F%8F%E5%86%99%2C%E5%BD%A2%E8%B3%AA%09_%091%09obj%09_%09SpaceAfter%3DNo%7CTranslit%3Dharm%0A%0A1%09%E4%BB%A4%09%E4%BB%A4%09VERB%09v%2C%E5%8B%95%E8%A9%9E%2C%E8%A1%8C%E7%82%BA%2C%E4%BD%BF%E5%BD%B9%09_%090%09ROOT%09_%09SpaceAfter%3DNo%7CTranslit%3Dorder%0A2%09%E5%9C%8B%09%E5%9C%8B%09NOUN%09n%2C%E5%90%8D%E8%A9%9E%2C%E4%B8%BB%E4%BD%93%2C%E9%9B%86%E5%9B%A3%09_%098%09nsubj%09_%09SpaceAfter%3DNo%7CTranslit%3Dcountry%0A3%09%E5%AE%B6%09%E5%AE%B6%09NOUN%09n%2C%E5%90%8D%E8%A9%9E%2C%E4%B8%BB%E4%BD%93%2C%E9%9B%86%E5%9B%A3%09_%092%09flat%09_%09SpaceAfter%3DNo%7CTranslit%3Dfamily%0A4%09%E7%99%BE%09%E7%99%BE%09NUM%09n%2C%E6%95%B0%E8%A9%9E%2C%E6%95%B0%E5%AD%97%2C%2A%09_%095%09compound%09_%09SpaceAfter%3DNo%7CTranslit%3Dhundred%0A5%09%E5%A7%93%09%E5%A7%93%09NOUN%09n%2C%E5%90%8D%E8%A9%9E%2C%E4%BA%BA%2C%E4%BA%BA%09_%092%09conj%09_%09SpaceAfter%3DNo%7CTranslit%3Dpeople%0A6%09%E4%B9%8B%09%E4%B9%8B%09SCONJ%09p%2C%E5%8A%A9%E8%A9%9E%2C%E6%8E%A5%E7%B6%9A%2C%E5%B1%9E%E6%A0%BC%09_%092%09case%09_%09SpaceAfter%3DNo%7CTranslit%3D%27s%0A7%09%E4%B8%8D%09%E4%B8%8D%09ADV%09v%2C%E5%89%AF%E8%A9%9E%2C%E5%90%A6%E5%AE%9A%2C%E7%84%A1%E7%95%8C%09Polarity%3DNeg%098%09advmod%09_%09SpaceAfter%3DNo%7CTranslit%3Dnot%0A8%09%E6%B2%BB%09%E6%B2%BB%09VERB%09v%2C%E5%8B%95%E8%A9%9E%2C%E8%A1%8C%E7%82%BA%2C%E5%8B%95%E4%BD%9C%09_%091%09ccomp%09_%09SpaceAfter%3DNo%7CTranslit%3Dgovern%0A9%09%E4%B9%9F%09%E4%B9%9F%09PART%09p%2C%E5%8A%A9%E8%A9%9E%2C%E5%8F%A5%E6%9C%AB%2C%2A%09_%091%09discourse%3Asp%09_%09SpaceAfter%3DNo%7CTranslit%3D%5Bfinal-particle%5D%0A%0A1%09%E8%87%AA%09%E8%87%AA%09ADP%09v%2C%E5%89%8D%E7%BD%AE%E8%A9%9E%2C%E7%B5%8C%E7%94%B1%2C%2A%09_%092%09case%09_%09SpaceAfter%3DNo%7CTranslit%3Dfrom%0A2%09%E5%8F%A4%09%E5%8F%A4%09NOUN%09n%2C%E5%90%8D%E8%A9%9E%2C%E6%99%82%2C%2A%09Case%3DTem%093%09obl%3Atmod%09_%09SpaceAfter%3DNo%7CTranslit%3Dolden-times%0A3%09%E5%8F%8A%09%E5%8F%8A%09ADP%09v%2C%E5%89%8D%E7%BD%AE%E8%A9%9E%2C%E9%96%A2%E4%BF%82%2C%2A%09_%090%09ROOT%09_%09SpaceAfter%3DNo%7CTranslit%3Dand%0A4%09%E4%BB%8A%09%E4%BB%8A%09NOUN%09n%2C%E5%90%8D%E8%A9%9E%2C%E6%99%82%2C%2A%09Case%3DTem%093%09obj%09_%09SpaceAfter%3DNo%7CTranslit%3Dnow%0A%0A1%09%E6%9C%AA%09%E6%9C%AA%09ADV%09v%2C%E5%89%AF%E8%A9%9E%2C%E5%90%A6%E5%AE%9A%2C%E6%9C%89%E7%95%8C%09Polarity%3DNeg%094%09advmod%09_%09SpaceAfter%3DNo%7CTranslit%3Dnot-yet%0A2%09%E5%98%97%09%E5%98%97%09ADV%09v%2C%E5%89%AF%E8%A9%9E%2C%E6%99%82%E7%9B%B8%2C%E9%81%8E%E5%8E%BB%09AdvType%3DTim%7CTense%3DPast%094%09advmod%09_%09SpaceAfter%3DNo%7CTranslit%3Donce%0A3%09%E4%B9%8B%09%E4%B9%8B%09PRON%09n%2C%E4%BB%A3%E5%90%8D%E8%A9%9E%2C%E4%BA%BA%E7%A7%B0%2C%E6%AD%A2%E6%A0%BC%09Person%3D3%7CPronType%3DPrs%094%09expl%09_%09SpaceAfter%3DNo%7CTranslit%3D%5B3PRON%5D%0A4%09%E6%9C%89%09%E6%9C%89%09VERB%09v%2C%E5%8B%95%E8%A9%9E%2C%E5%AD%98%E5%9C%A8%2C%E5%AD%98%E5%9C%A8%09_%090%09ROOT%09_%09SpaceAfter%3DNo%7CTranslit%3Dhave%0A5%09%E4%B9%9F%09%E4%B9%9F%09PART%09p%2C%E5%8A%A9%E8%A9%9E%2C%E5%8F%A5%E6%9C%AB%2C%2A%09_%094%09discourse%3Asp%09_%09SpaceAfter%3DNo%7CTranslit%3D%5Bfinal-particle%5D%0A%0A\"\n",
       "            frameborder=\"0\"\n",
       "            allowfullscreen\n",
       "            style=\"background-color: white;\"\n",
       "        ></iframe>\n",
       "        "
      ],
      "text/plain": [
       "<IPython.lib.display.IFrame at 0x7fe91f3e17c0>"
      ]
     },
     "metadata": {},
     "output_type": "display_data"
    }
   ],
   "source": [
    "ex116 = nlp(\"且故興天下之利\\n除天下之害\\n令國家百姓之不治也\\n自古及今\\n未嘗之有也\")\n",
    "serve(ex116, 1050)"
   ]
  },
  {
   "cell_type": "markdown",
   "metadata": {},
   "source": [
    "## 4. Verb Phrases as Complements to Adjectives"
   ]
  }
 ],
 "metadata": {
  "interpreter": {
   "hash": "0364c37b15e7a6e1c36ca05f1a9e06ef739d4c2650a4a4d0869c3126484e1dba"
  },
  "kernelspec": {
   "display_name": "Python 3.8.10 ('nlp')",
   "language": "python",
   "name": "python3"
  },
  "language_info": {
   "codemirror_mode": {
    "name": "ipython",
    "version": 3
   },
   "file_extension": ".py",
   "mimetype": "text/x-python",
   "name": "python",
   "nbconvert_exporter": "python",
   "pygments_lexer": "ipython3",
   "version": "3.8.10"
  },
  "orig_nbformat": 4
 },
 "nbformat": 4,
 "nbformat_minor": 2
}
