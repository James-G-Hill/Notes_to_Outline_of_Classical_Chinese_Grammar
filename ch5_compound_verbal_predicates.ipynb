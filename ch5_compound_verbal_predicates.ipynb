{
 "cells": [
  {
   "cell_type": "markdown",
   "metadata": {},
   "source": [
    "# V. Compound Verbal Predicates"
   ]
  },
  {
   "cell_type": "code",
   "execution_count": 1,
   "metadata": {},
   "outputs": [
    {
     "name": "stderr",
     "output_type": "stream",
     "text": [
      "Some weights of the model checkpoint at KoichiYasuoka/roberta-classical-chinese-large-char were not used when initializing RobertaModel: ['lm_head.bias', 'lm_head.layer_norm.weight', 'lm_head.dense.bias', 'lm_head.decoder.bias', 'lm_head.dense.weight', 'lm_head.layer_norm.bias', 'lm_head.decoder.weight']\n",
      "- This IS expected if you are initializing RobertaModel from the checkpoint of a model trained on another task or with another architecture (e.g. initializing a BertForSequenceClassification model from a BertForPreTraining model).\n",
      "- This IS NOT expected if you are initializing RobertaModel from the checkpoint of a model that you expect to be exactly identical (initializing a BertForSequenceClassification model from a BertForSequenceClassification model).\n"
     ]
    }
   ],
   "source": [
    "from deplacy import (\n",
    "    dot,\n",
    "    render,\n",
    "    to_conllu\n",
    ")\n",
    "from lzh_helpers.serve import serve\n",
    "from suparkanbun import load\n",
    "from transformers import logging\n",
    "\n",
    "logging.logging.disable(logging.INFO)\n",
    "\n",
    "nlp = load(BERT=\"roberta-classical-chinese-large-char\", Danku=False)"
   ]
  },
  {
   "cell_type": "markdown",
   "metadata": {},
   "source": [
    "## 1. Coordination"
   ]
  },
  {
   "cell_type": "code",
   "execution_count": 2,
   "metadata": {},
   "outputs": [
    {
     "name": "stderr",
     "output_type": "stream",
     "text": [
      "                                                   \r"
     ]
    },
    {
     "data": {
      "text/html": [
       "\n",
       "        <iframe\n",
       "            width=\"100%\"\n",
       "            height=\"250\"\n",
       "            src=\"https://koichiyasuoka.github.io/deplacy/deplacy/viewer.svg#1%09%E9%A0%92%09%E9%A0%92%09VERB%09v%2C%E5%8B%95%E8%A9%9E%2C%E5%A4%89%E5%8C%96%2C%E6%80%A7%E8%B3%AA%09_%093%09acl%09_%09SpaceAfter%3DNo%7CTranslit%3Dbig-headed%0A2%09%E7%99%BD%09%E7%99%BD%09NOUN%09n%2C%E5%90%8D%E8%A9%9E%2C%E6%8F%8F%E5%86%99%2C%E5%BD%A2%E8%B3%AA%09_%091%09obj%09_%09SpaceAfter%3DNo%7CTranslit%3Dwhite%0A3%09%E8%80%85%09%EF%A9%9B%09PART%09p%2C%E5%8A%A9%E8%A9%9E%2C%E6%8F%90%E7%A4%BA%2C%2A%09_%095%09nsubj%09_%09SpaceAfter%3DNo%7CTranslit%3Dthat-which%0A4%09%E4%B8%8D%09%E4%B8%8D%09ADV%09v%2C%E5%89%AF%E8%A9%9E%2C%E5%90%A6%E5%AE%9A%2C%E7%84%A1%E7%95%8C%09Polarity%3DNeg%095%09advmod%09_%09SpaceAfter%3DNo%7CTranslit%3Dnot%0A5%09%E8%B2%A0%09%E8%B2%A0%09VERB%09v%2C%E5%8B%95%E8%A9%9E%2C%E8%A1%8C%E7%82%BA%2C%E5%8B%95%E4%BD%9C%09_%090%09ROOT%09_%09SpaceAfter%3DNo%7CTranslit%3Dowe%0A6%09%E6%88%B4%09%E6%88%B4%09VERB%09v%2C%E5%8B%95%E8%A9%9E%2C%E8%A1%8C%E7%82%BA%2C%E8%A8%AD%E7%BD%AE%09_%095%09flat%3Avv%09_%09SpaceAfter%3DNo%7CTranslit%3Dcarry-on-the-head%0A7%09%E6%96%BC%09%E6%96%BC%09ADP%09v%2C%E5%89%8D%E7%BD%AE%E8%A9%9E%2C%E5%9F%BA%E7%9B%A4%2C%2A%09_%098%09case%09_%09SpaceAfter%3DNo%7CTranslit%3Dat%0A8%09%E9%81%93%E8%B7%AF%09%E9%81%93%E8%B7%AF%09NOUN%09n%2C%E5%90%8D%E8%A9%9E%2C%E5%9B%BA%E5%AE%9A%E7%89%A9%2C%E5%BB%BA%E9%80%A0%E7%89%A9%09Case%3DLoc%095%09obl%3Almod%09_%09SpaceAfter%3DNo%0A9%09%E7%9F%A3%09%E7%9F%A3%09PART%09p%2C%E5%8A%A9%E8%A9%9E%2C%E5%8F%A5%E6%9C%AB%2C%2A%09_%095%09discourse%3Asp%09_%09SpaceAfter%3DNo%7CTranslit%3D%5BPFV%5D%0A%0A\"\n",
       "            frameborder=\"0\"\n",
       "            allowfullscreen\n",
       "            style=\"background-color: white;\"\n",
       "        ></iframe>\n",
       "        "
      ],
      "text/plain": [
       "<IPython.lib.display.IFrame at 0x7f96ccd3fd30>"
      ]
     },
     "metadata": {},
     "output_type": "display_data"
    }
   ],
   "source": [
    "ex102 = nlp(\"頒白者不負戴於道路矣\")\n",
    "serve(ex102, 250)"
   ]
  },
  {
   "cell_type": "code",
   "execution_count": 3,
   "metadata": {},
   "outputs": [
    {
     "name": "stderr",
     "output_type": "stream",
     "text": [
      "                                                   \r"
     ]
    },
    {
     "data": {
      "text/html": [
       "\n",
       "        <iframe\n",
       "            width=\"100%\"\n",
       "            height=\"450\"\n",
       "            src=\"https://koichiyasuoka.github.io/deplacy/deplacy/viewer.svg#1%09%E9%82%A6%09%E9%82%A6%09NOUN%09n%2C%E5%90%8D%E8%A9%9E%2C%E4%B8%BB%E4%BD%93%2C%E9%9B%86%E5%9B%A3%09_%092%09nsubj%09_%09SpaceAfter%3DNo%7CTranslit%3Dcountry%0A2%09%E6%9C%89%09%E6%9C%89%09VERB%09v%2C%E5%8B%95%E8%A9%9E%2C%E5%AD%98%E5%9C%A8%2C%E5%AD%98%E5%9C%A8%09_%090%09ROOT%09_%09SpaceAfter%3DNo%7CTranslit%3Dhave%0A3%09%E9%81%93%09%E9%81%93%09NOUN%09n%2C%E5%90%8D%E8%A9%9E%2C%E5%88%B6%E5%BA%A6%2C%E5%84%80%E7%A4%BC%09_%092%09obj%09_%09SpaceAfter%3DNo%7CTranslit%3Ddoctrine%0A4%09%E8%B2%A7%09%E8%B2%A7%09VERB%09v%2C%E5%8B%95%E8%A9%9E%2C%E6%8F%8F%E5%86%99%2C%E5%A2%83%E9%81%87%09Degree%3DPos%092%09parataxis%09_%09SpaceAfter%3DNo%7CTranslit%3Dpoor%0A5%09%E4%B8%94%09%E4%B8%94%09ADV%09v%2C%E5%89%AF%E8%A9%9E%2C%E9%A0%BB%E5%BA%A6%2C%E9%87%8D%E8%A4%87%09_%096%09cc%09_%09SpaceAfter%3DNo%7CTranslit%3Dand%0A6%09%E8%B3%A4%09%E8%B3%A4%09VERB%09v%2C%E5%8B%95%E8%A9%9E%2C%E6%8F%8F%E5%86%99%2C%E5%A2%83%E9%81%87%09Degree%3DPos%094%09conj%09_%09SpaceAfter%3DNo%7CTranslit%3Dlowly%0A7%09%E7%84%89%09%E7%84%89%09PART%09p%2C%E5%8A%A9%E8%A9%9E%2C%E5%8F%A5%E6%9C%AB%2C%2A%09_%094%09discourse%3Asp%09_%09SpaceAfter%3DNo%7CTranslit%3D%5Bfinal-particle%5D%0A8%09%E6%81%A5%09%E6%81%A5%09NOUN%09n%2C%E5%90%8D%E8%A9%9E%2C%E5%8F%AF%E6%90%AC%2C%E6%88%90%E6%9E%9C%E7%89%A9%09_%094%09conj%09_%09SpaceAfter%3DNo%7CTranslit%3Dshame%0A9%09%E4%B9%9F%09%E4%B9%9F%09PART%09p%2C%E5%8A%A9%E8%A9%9E%2C%E5%8F%A5%E6%9C%AB%2C%2A%09_%098%09discourse%3Asp%09_%09SpaceAfter%3DNo%7CTranslit%3D%5Bfinal-particle%5D%0A%0A1%09%E9%82%A6%09%E9%82%A6%09NOUN%09n%2C%E5%90%8D%E8%A9%9E%2C%E4%B8%BB%E4%BD%93%2C%E9%9B%86%E5%9B%A3%09_%092%09nsubj%09_%09SpaceAfter%3DNo%7CTranslit%3Dcountry%0A2%09%E7%84%A1%09%E7%84%A1%09VERB%09v%2C%E5%8B%95%E8%A9%9E%2C%E5%AD%98%E5%9C%A8%2C%E5%AD%98%E5%9C%A8%09Polarity%3DNeg%090%09ROOT%09_%09SpaceAfter%3DNo%7CTranslit%3Dnot-have%0A3%09%E9%81%93%09%E9%81%93%09NOUN%09n%2C%E5%90%8D%E8%A9%9E%2C%E5%88%B6%E5%BA%A6%2C%E5%84%80%E7%A4%BC%09_%092%09obj%09_%09SpaceAfter%3DNo%7CTranslit%3Ddoctrine%0A4%09%E5%AF%8C%09%E5%AF%8C%09VERB%09v%2C%E5%8B%95%E8%A9%9E%2C%E6%8F%8F%E5%86%99%2C%E5%A2%83%E9%81%87%09Degree%3DPos%092%09parataxis%09_%09SpaceAfter%3DNo%7CTranslit%3Drich%0A5%09%E4%B8%94%09%E4%B8%94%09ADV%09v%2C%E5%89%AF%E8%A9%9E%2C%E9%A0%BB%E5%BA%A6%2C%E9%87%8D%E8%A4%87%09_%096%09cc%09_%09SpaceAfter%3DNo%7CTranslit%3Dand%0A6%09%E8%B2%B4%09%E8%B2%B4%09VERB%09v%2C%E5%8B%95%E8%A9%9E%2C%E6%8F%8F%E5%86%99%2C%E6%85%8B%E5%BA%A6%09Degree%3DPos%094%09conj%09_%09SpaceAfter%3DNo%7CTranslit%3Dnoble%0A7%09%E7%84%89%09%E7%84%89%09PART%09p%2C%E5%8A%A9%E8%A9%9E%2C%E5%8F%A5%E6%9C%AB%2C%2A%09_%094%09discourse%3Asp%09_%09SpaceAfter%3DNo%7CTranslit%3D%5Bfinal-particle%5D%0A8%09%E6%81%A5%09%E6%81%A5%09NOUN%09n%2C%E5%90%8D%E8%A9%9E%2C%E5%8F%AF%E6%90%AC%2C%E6%88%90%E6%9E%9C%E7%89%A9%09_%094%09conj%09_%09SpaceAfter%3DNo%7CTranslit%3Dshame%0A9%09%E4%B9%9F%09%E4%B9%9F%09PART%09p%2C%E5%8A%A9%E8%A9%9E%2C%E5%8F%A5%E6%9C%AB%2C%2A%09_%098%09discourse%3Asp%09_%09SpaceAfter%3DNo%7CTranslit%3D%5Bfinal-particle%5D%0A%0A\"\n",
       "            frameborder=\"0\"\n",
       "            allowfullscreen\n",
       "            style=\"background-color: white;\"\n",
       "        ></iframe>\n",
       "        "
      ],
      "text/plain": [
       "<IPython.lib.display.IFrame at 0x7f96ccd3f6a0>"
      ]
     },
     "metadata": {},
     "output_type": "display_data"
    }
   ],
   "source": [
    "ex103 = nlp(\"邦有道貧且賤焉恥也\\n邦無道富且貴焉恥也\")\n",
    "serve(ex103, 450)"
   ]
  },
  {
   "cell_type": "markdown",
   "metadata": {},
   "source": [
    "## 2. Clause Objects - Verb Phrases as Objects of Transitive Verbs"
   ]
  },
  {
   "cell_type": "code",
   "execution_count": 4,
   "metadata": {},
   "outputs": [
    {
     "name": "stderr",
     "output_type": "stream",
     "text": [
      "                                                   \r"
     ]
    },
    {
     "data": {
      "text/html": [
       "\n",
       "        <iframe\n",
       "            width=\"100%\"\n",
       "            height=\"200\"\n",
       "            src=\"https://koichiyasuoka.github.io/deplacy/deplacy/viewer.svg#1%09%E7%8E%8B%09%E7%8E%8B%09NOUN%09n%2C%E5%90%8D%E8%A9%9E%2C%E4%BA%BA%2C%E5%BD%B9%E5%89%B2%09_%093%09nsubj%09_%09SpaceAfter%3DNo%7CTranslit%3Dking%0A2%09%E6%AC%B2%09%E6%AC%B2%09AUX%09v%2C%E5%8A%A9%E5%8B%95%E8%A9%9E%2C%E9%A1%98%E6%9C%9B%2C%2A%09Mood%3DDes%093%09aux%09_%09SpaceAfter%3DNo%7CTranslit%3Dwish%0A3%09%E6%AE%BA%09%EF%A5%B0%09VERB%09v%2C%E5%8B%95%E8%A9%9E%2C%E8%A1%8C%E7%82%BA%2C%E5%8B%95%E4%BD%9C%09_%090%09ROOT%09_%09SpaceAfter%3DNo%7CTranslit%3Dkill%0A4%09%E4%BA%BA%09%E4%BA%BA%09NOUN%09n%2C%E5%90%8D%E8%A9%9E%2C%E4%BA%BA%2C%E4%BA%BA%09_%093%09obj%09_%09SpaceAfter%3DNo%7CTranslit%3Dperson%0A%0A\"\n",
       "            frameborder=\"0\"\n",
       "            allowfullscreen\n",
       "            style=\"background-color: white;\"\n",
       "        ></iframe>\n",
       "        "
      ],
      "text/plain": [
       "<IPython.lib.display.IFrame at 0x7f96427797f0>"
      ]
     },
     "metadata": {},
     "output_type": "display_data"
    }
   ],
   "source": [
    "ex_successive_verbs = nlp(\"王欲殺人\")\n",
    "serve(ex_successive_verbs)"
   ]
  },
  {
   "cell_type": "code",
   "execution_count": 5,
   "metadata": {},
   "outputs": [
    {
     "name": "stderr",
     "output_type": "stream",
     "text": [
      "                                                   \r"
     ]
    },
    {
     "data": {
      "text/html": [
       "\n",
       "        <iframe\n",
       "            width=\"100%\"\n",
       "            height=\"250\"\n",
       "            src=\"https://koichiyasuoka.github.io/deplacy/deplacy/viewer.svg#1%09%E5%89%87%09%E5%89%87%09ADV%09v%2C%E5%89%AF%E8%A9%9E%2C%E6%99%82%E7%9B%B8%2C%E7%B7%8A%E6%8E%A5%09AdvType%3DTim%093%09advmod%09_%09SpaceAfter%3DNo%7CTranslit%3Dthen%0A2%09%E7%84%A1%09%E7%84%A1%09VERB%09v%2C%E5%8B%95%E8%A9%9E%2C%E5%AD%98%E5%9C%A8%2C%E5%AD%98%E5%9C%A8%09Polarity%3DNeg%093%09advmod%09_%09SpaceAfter%3DNo%7CTranslit%3Dnot-have%0A3%09%E6%9C%9B%09%E6%9C%9B%09VERB%09v%2C%E5%8B%95%E8%A9%9E%2C%E8%A1%8C%E7%82%BA%2C%E5%8B%95%E4%BD%9C%09_%090%09ROOT%09_%09SpaceAfter%3DNo%7CTranslit%3Dexpect%0A4%09%E6%B0%91%09%E6%B0%91%09NOUN%09n%2C%E5%90%8D%E8%A9%9E%2C%E4%BA%BA%2C%E4%BA%BA%09_%096%09nsubj%09_%09SpaceAfter%3DNo%7CTranslit%3Dpeople%0A5%09%E4%B9%8B%09%E4%B9%8B%09SCONJ%09p%2C%E5%8A%A9%E8%A9%9E%2C%E6%8E%A5%E7%B6%9A%2C%E5%B1%9E%E6%A0%BC%09_%094%09case%09_%09SpaceAfter%3DNo%7CTranslit%3D%27s%0A6%09%E5%A4%9A%09%E5%A4%9A%09VERB%09v%2C%E5%8B%95%E8%A9%9E%2C%E6%8F%8F%E5%86%99%2C%E9%87%8F%09Degree%3DPos%093%09ccomp%09_%09SpaceAfter%3DNo%7CTranslit%3Dmany%0A7%09%E6%96%BC%09%E6%96%BC%09ADP%09v%2C%E5%89%8D%E7%BD%AE%E8%A9%9E%2C%E5%9F%BA%E7%9B%A4%2C%2A%09_%099%09case%09_%09SpaceAfter%3DNo%7CTranslit%3Dat%0A8%09%E9%84%B0%09%E9%84%B0%09NOUN%09n%2C%E5%90%8D%E8%A9%9E%2C%E5%9B%BA%E5%AE%9A%E7%89%A9%2C%E9%96%A2%E4%BF%82%09Case%3DLoc%099%09nmod%09_%09SpaceAfter%3DNo%7CTranslit%3Dneighbour%0A9%09%E5%9C%8B%09%E5%9C%8B%09NOUN%09n%2C%E5%90%8D%E8%A9%9E%2C%E4%B8%BB%E4%BD%93%2C%E9%9B%86%E5%9B%A3%09_%096%09obl%09_%09SpaceAfter%3DNo%7CTranslit%3Dcountry%0A10%09%E4%B9%9F%09%E4%B9%9F%09PART%09p%2C%E5%8A%A9%E8%A9%9E%2C%E5%8F%A5%E6%9C%AB%2C%2A%09_%093%09discourse%3Asp%09_%09SpaceAfter%3DNo%7CTranslit%3D%5Bfinal-particle%5D%0A%0A\"\n",
       "            frameborder=\"0\"\n",
       "            allowfullscreen\n",
       "            style=\"background-color: white;\"\n",
       "        ></iframe>\n",
       "        "
      ],
      "text/plain": [
       "<IPython.lib.display.IFrame at 0x7f964923bb50>"
      ]
     },
     "metadata": {},
     "output_type": "display_data"
    }
   ],
   "source": [
    "ex104 = nlp(\"則無望民之多於鄰國也\")\n",
    "serve(ex104, 250)"
   ]
  },
  {
   "cell_type": "code",
   "execution_count": 6,
   "metadata": {},
   "outputs": [
    {
     "name": "stderr",
     "output_type": "stream",
     "text": [
      "                                                   \r"
     ]
    },
    {
     "data": {
      "text/html": [
       "\n",
       "        <iframe\n",
       "            width=\"100%\"\n",
       "            height=\"250\"\n",
       "            src=\"https://koichiyasuoka.github.io/deplacy/deplacy/viewer.svg#1%09%E5%90%BE%09%E5%90%BE%09PRON%09n%2C%E4%BB%A3%E5%90%8D%E8%A9%9E%2C%E4%BA%BA%E7%A7%B0%2C%E8%B5%B7%E6%A0%BC%09Person%3D1%7CPronType%3DPrs%092%09nsubj%09_%09SpaceAfter%3DNo%7CTranslit%3D%5B1PRON%5D%0A2%09%E6%83%9B%09%E6%83%9B%09VERB%09v%2C%E5%8B%95%E8%A9%9E%2C%E6%8F%8F%E5%86%99%2C%E5%BD%A2%E8%B3%AA%09Degree%3DPos%090%09ROOT%09_%09SpaceAfter%3DNo%0A3%09%E4%B8%8D%09%E4%B8%8D%09ADV%09v%2C%E5%89%AF%E8%A9%9E%2C%E5%90%A6%E5%AE%9A%2C%E7%84%A1%E7%95%8C%09Polarity%3DNeg%094%09advmod%09_%09SpaceAfter%3DNo%7CTranslit%3Dnot%0A4%09%E8%83%BD%09%E8%83%BD%09AUX%09v%2C%E5%8A%A9%E5%8B%95%E8%A9%9E%2C%E5%8F%AF%E8%83%BD%2C%2A%09Mood%3DPot%095%09aux%09_%09SpaceAfter%3DNo%7CTranslit%3Dcan%0A5%09%E9%80%B2%09%E9%80%B2%09VERB%09v%2C%E5%8B%95%E8%A9%9E%2C%E8%A1%8C%E7%82%BA%2C%E7%A7%BB%E5%8B%95%09_%092%09ccomp%09_%09SpaceAfter%3DNo%7CTranslit%3Dadvance%0A6%09%E6%96%BC%09%E6%96%BC%09ADP%09v%2C%E5%89%8D%E7%BD%AE%E8%A9%9E%2C%E5%9F%BA%E7%9B%A4%2C%2A%09_%097%09case%09_%09SpaceAfter%3DNo%7CTranslit%3Dat%0A7%09%E6%98%AF%09%E6%98%AF%09PRON%09n%2C%E4%BB%A3%E5%90%8D%E8%A9%9E%2C%E6%8C%87%E7%A4%BA%2C%2A%09PronType%3DDem%095%09obl%09_%09SpaceAfter%3DNo%7CTranslit%3Dthis%0A8%09%E7%9F%A3%09%E7%9F%A3%09PART%09p%2C%E5%8A%A9%E8%A9%9E%2C%E5%8F%A5%E6%9C%AB%2C%2A%09_%092%09discourse%3Asp%09_%09SpaceAfter%3DNo%7CTranslit%3D%5BPFV%5D%0A%0A\"\n",
       "            frameborder=\"0\"\n",
       "            allowfullscreen\n",
       "            style=\"background-color: white;\"\n",
       "        ></iframe>\n",
       "        "
      ],
      "text/plain": [
       "<IPython.lib.display.IFrame at 0x7f9642779940>"
      ]
     },
     "metadata": {},
     "output_type": "display_data"
    }
   ],
   "source": [
    "ex105 = nlp(\"吾惛不能進於是矣\")\n",
    "serve(ex105, 250)"
   ]
  },
  {
   "cell_type": "code",
   "execution_count": 7,
   "metadata": {},
   "outputs": [
    {
     "name": "stderr",
     "output_type": "stream",
     "text": [
      "                                                   \r"
     ]
    },
    {
     "data": {
      "text/html": [
       "\n",
       "        <iframe\n",
       "            width=\"100%\"\n",
       "            height=\"250\"\n",
       "            src=\"https://koichiyasuoka.github.io/deplacy/deplacy/viewer.svg#1%09%E5%BD%BC%09%E5%BD%BC%09PRON%09n%2C%E4%BB%A3%E5%90%8D%E8%A9%9E%2C%E6%8C%87%E7%A4%BA%2C%2A%09PronType%3DDem%094%09nsubj%09_%09SpaceAfter%3DNo%7CTranslit%3Dthat%0A2%09%E6%83%A1%09%E6%83%A1%09ADV%09v%2C%E5%89%AF%E8%A9%9E%2C%E7%96%91%E5%95%8F%2C%E6%89%80%E5%9C%A8%09_%094%09advmod%09_%09SpaceAfter%3DNo%7CTranslit%3Dhow%0A3%09%E6%95%A2%09%E6%95%A2%09AUX%09v%2C%E5%8A%A9%E5%8B%95%E8%A9%9E%2C%E9%A1%98%E6%9C%9B%2C%2A%09Mood%3DDes%094%09aux%09_%09SpaceAfter%3DNo%7CTranslit%3Ddare%0A4%09%E7%95%B6%09%E7%95%B6%09VERB%09v%2C%E5%8B%95%E8%A9%9E%2C%E8%A1%8C%E7%82%BA%2C%E5%8B%95%E4%BD%9C%09_%090%09ROOT%09_%09SpaceAfter%3DNo%7CTranslit%3Dcorrespond-to%0A5%09%E6%88%91%09%E6%88%91%09PRON%09n%2C%E4%BB%A3%E5%90%8D%E8%A9%9E%2C%E4%BA%BA%E7%A7%B0%2C%E6%AD%A2%E6%A0%BC%09Person%3D1%7CPronType%3DPrs%094%09obj%09_%09SpaceAfter%3DNo%7CTranslit%3D%5B1PRON%5D%0A6%09%E5%93%89%09%E5%93%89%09PART%09p%2C%E5%8A%A9%E8%A9%9E%2C%E5%8F%A5%E6%9C%AB%2C%2A%09_%094%09discourse%3Asp%09_%09SpaceAfter%3DNo%7CTranslit%3D%5Bexclamatory-particle%5D%0A%0A\"\n",
       "            frameborder=\"0\"\n",
       "            allowfullscreen\n",
       "            style=\"background-color: white;\"\n",
       "        ></iframe>\n",
       "        "
      ],
      "text/plain": [
       "<IPython.lib.display.IFrame at 0x7f9642779b50>"
      ]
     },
     "metadata": {},
     "output_type": "display_data"
    }
   ],
   "source": [
    "ex106 = nlp(\"彼惡敢當我哉\")\n",
    "serve(ex106, 250)"
   ]
  },
  {
   "cell_type": "code",
   "execution_count": 8,
   "metadata": {},
   "outputs": [
    {
     "name": "stderr",
     "output_type": "stream",
     "text": [
      "                                                   \r"
     ]
    },
    {
     "data": {
      "text/html": [
       "\n",
       "        <iframe\n",
       "            width=\"100%\"\n",
       "            height=\"250\"\n",
       "            src=\"https://koichiyasuoka.github.io/deplacy/deplacy/viewer.svg#1%09%E4%B8%8D%09%E4%B8%8D%09ADV%09v%2C%E5%89%AF%E8%A9%9E%2C%E5%90%A6%E5%AE%9A%2C%E7%84%A1%E7%95%8C%09Polarity%3DNeg%092%09advmod%09_%09SpaceAfter%3DNo%7CTranslit%3Dnot%0A2%09%E8%83%BD%09%E8%83%BD%09AUX%09v%2C%E5%8A%A9%E5%8B%95%E8%A9%9E%2C%E5%8F%AF%E8%83%BD%2C%2A%09Mood%3DPot%090%09ROOT%09_%09SpaceAfter%3DNo%7CTranslit%3Dcan%0A3%09%E4%B8%89%09%E4%B8%89%09NUM%09n%2C%E6%95%B0%E8%A9%9E%2C%E6%95%B0%E5%AD%97%2C%2A%09_%094%09nummod%09_%09SpaceAfter%3DNo%7CTranslit%3Dthree%0A4%09%E5%B9%B4%09%E5%B9%B4%09NOUN%09n%2C%E5%90%8D%E8%A9%9E%2C%E6%99%82%2C%2A%09Case%3DTem%096%09nmod%09_%09SpaceAfter%3DNo%7CTranslit%3Dyear%0A5%09%E4%B9%8B%09%E4%B9%8B%09SCONJ%09p%2C%E5%8A%A9%E8%A9%9E%2C%E6%8E%A5%E7%B6%9A%2C%E5%B1%9E%E6%A0%BC%09_%094%09case%09_%09SpaceAfter%3DNo%7CTranslit%3D%27s%0A6%09%E5%96%AA%09%E5%96%AA%09NOUN%09n%2C%E5%90%8D%E8%A9%9E%2C%E5%88%B6%E5%BA%A6%2C%E5%84%80%E7%A4%BC%09_%092%09obj%09_%09SpaceAfter%3DNo%7CTranslit%3Dmourning%0A%0A\"\n",
       "            frameborder=\"0\"\n",
       "            allowfullscreen\n",
       "            style=\"background-color: white;\"\n",
       "        ></iframe>\n",
       "        "
      ],
      "text/plain": [
       "<IPython.lib.display.IFrame at 0x7f96ccd3f640>"
      ]
     },
     "metadata": {},
     "output_type": "display_data"
    }
   ],
   "source": [
    "ex107 = nlp(\"不能三年之喪\")\n",
    "serve(ex107, 250)"
   ]
  },
  {
   "cell_type": "code",
   "execution_count": 9,
   "metadata": {},
   "outputs": [
    {
     "name": "stderr",
     "output_type": "stream",
     "text": [
      "                                                   \r"
     ]
    },
    {
     "data": {
      "text/html": [
       "\n",
       "        <iframe\n",
       "            width=\"100%\"\n",
       "            height=\"200\"\n",
       "            src=\"https://koichiyasuoka.github.io/deplacy/deplacy/viewer.svg#1%09%E4%B8%8D%09%E4%B8%8D%09ADV%09v%2C%E5%89%AF%E8%A9%9E%2C%E5%90%A6%E5%AE%9A%2C%E7%84%A1%E7%95%8C%09Polarity%3DNeg%092%09advmod%09_%09SpaceAfter%3DNo%7CTranslit%3Dnot%0A2%09%E8%B3%A2%09%E8%B3%A2%09VERB%09v%2C%E5%8B%95%E8%A9%9E%2C%E6%8F%8F%E5%86%99%2C%E6%85%8B%E5%BA%A6%09Degree%3DPos%090%09ROOT%09_%09SpaceAfter%3DNo%7CTranslit%3Dworthy%0A3%09%E8%80%8C%09%E8%80%8C%09CCONJ%09p%2C%E5%8A%A9%E8%A9%9E%2C%E6%8E%A5%E7%B6%9A%2C%E4%B8%A6%E5%88%97%09_%094%09cc%09_%09SpaceAfter%3DNo%7CTranslit%3Dand%0A4%09%E8%83%BD%09%E8%83%BD%09AUX%09v%2C%E5%8A%A9%E5%8B%95%E8%A9%9E%2C%E5%8F%AF%E8%83%BD%2C%2A%09Mood%3DPot%092%09conj%09_%09SpaceAfter%3DNo%7CTranslit%3Dcan%0A5%09%E4%B9%8B%09%E4%B9%8B%09PRON%09n%2C%E4%BB%A3%E5%90%8D%E8%A9%9E%2C%E4%BA%BA%E7%A7%B0%2C%E6%AD%A2%E6%A0%BC%09Person%3D3%7CPronType%3DPrs%094%09obj%09_%09SpaceAfter%3DNo%7CTranslit%3D%5B3PRON%5D%0A6%09%E8%88%87%09%E8%88%87%09PART%09p%2C%E5%8A%A9%E8%A9%9E%2C%E5%8F%A5%E6%9C%AB%2C%2A%09_%094%09discourse%3Asp%09_%09SpaceAfter%3DNo%7CTranslit%3D%5BQ%5D%0A%0A\"\n",
       "            frameborder=\"0\"\n",
       "            allowfullscreen\n",
       "            style=\"background-color: white;\"\n",
       "        ></iframe>\n",
       "        "
      ],
      "text/plain": [
       "<IPython.lib.display.IFrame at 0x7f9642779b20>"
      ]
     },
     "metadata": {},
     "output_type": "display_data"
    }
   ],
   "source": [
    "ex108 = nlp(\"不賢而能之與\")\n",
    "serve(ex108)"
   ]
  },
  {
   "cell_type": "markdown",
   "metadata": {},
   "source": [
    "## 3. Pivot Constructions - The Causative"
   ]
  },
  {
   "cell_type": "code",
   "execution_count": 10,
   "metadata": {},
   "outputs": [
    {
     "name": "stderr",
     "output_type": "stream",
     "text": [
      "                                                   \r"
     ]
    },
    {
     "data": {
      "text/html": [
       "\n",
       "        <iframe\n",
       "            width=\"100%\"\n",
       "            height=\"250\"\n",
       "            src=\"https://koichiyasuoka.github.io/deplacy/deplacy/viewer.svg#1%09%E7%8E%8B%09%E7%8E%8B%09NOUN%09n%2C%E5%90%8D%E8%A9%9E%2C%E4%BA%BA%2C%E5%BD%B9%E5%89%B2%09_%092%09nsubj%09_%09SpaceAfter%3DNo%7CTranslit%3Dking%0A2%09%E4%BD%BF%09%E4%BD%BF%09VERB%09v%2C%E5%8B%95%E8%A9%9E%2C%E8%A1%8C%E7%82%BA%2C%E4%BD%BF%E5%BD%B9%09_%090%09ROOT%09_%09SpaceAfter%3DNo%7CTranslit%3D%5Bmake-to-do%5D%0A3%09%E4%BA%BA%09%E4%BA%BA%09NOUN%09n%2C%E5%90%8D%E8%A9%9E%2C%E4%BA%BA%2C%E4%BA%BA%09_%092%09obj%09_%09SpaceAfter%3DNo%7CTranslit%3Dperson%0A4%09%E4%BE%86%09%E4%BE%86%09VERB%09v%2C%E5%8B%95%E8%A9%9E%2C%E8%A1%8C%E7%82%BA%2C%E7%A7%BB%E5%8B%95%09_%092%09xcomp%09_%09SpaceAfter%3DNo%7CTranslit%3Dcome%0A5%09%E6%9B%B0%09%E6%9B%B0%09VERB%09v%2C%E5%8B%95%E8%A9%9E%2C%E8%A1%8C%E7%82%BA%2C%E4%BC%9D%E9%81%94%09_%092%09parataxis%09_%09SpaceAfter%3DNo%7CTranslit%3Dsay%0A%0A\"\n",
       "            frameborder=\"0\"\n",
       "            allowfullscreen\n",
       "            style=\"background-color: white;\"\n",
       "        ></iframe>\n",
       "        "
      ],
      "text/plain": [
       "<IPython.lib.display.IFrame at 0x7f9642779700>"
      ]
     },
     "metadata": {},
     "output_type": "display_data"
    }
   ],
   "source": [
    "ex109 = nlp(\"王使人來曰\")\n",
    "serve(ex109, 250)"
   ]
  },
  {
   "cell_type": "code",
   "execution_count": 11,
   "metadata": {},
   "outputs": [
    {
     "name": "stderr",
     "output_type": "stream",
     "text": [
      "                                                   \r"
     ]
    },
    {
     "data": {
      "text/html": [
       "\n",
       "        <iframe\n",
       "            width=\"100%\"\n",
       "            height=\"300\"\n",
       "            src=\"https://koichiyasuoka.github.io/deplacy/deplacy/viewer.svg#1%09%E4%BB%A4%09%E4%BB%A4%09VERB%09v%2C%E5%8B%95%E8%A9%9E%2C%E8%A1%8C%E7%82%BA%2C%E4%BD%BF%E5%BD%B9%09_%090%09ROOT%09_%09SpaceAfter%3DNo%7CTranslit%3Dorder%0A2%09%E8%8B%9F%09%E8%8B%9F%09ADV%09v%2C%E5%89%AF%E8%A9%9E%2C%E5%88%A4%E6%96%AD%2C%E6%8E%A8%E5%AE%9A%09_%093%09advmod%09_%09SpaceAfter%3DNo%7CTranslit%3Dcareless%0A3%09%E6%9C%89%09%E6%9C%89%09VERB%09v%2C%E5%8B%95%E8%A9%9E%2C%E5%AD%98%E5%9C%A8%2C%E5%AD%98%E5%9C%A8%09_%098%09acl%09_%09SpaceAfter%3DNo%7CTranslit%3Dhave%0A4%09%E6%80%A8%09%E6%80%A8%09NOUN%09n%2C%E5%90%8D%E8%A9%9E%2C%E6%80%9D%E8%80%83%2C%E6%80%9D%E8%80%83%09_%093%09obj%09_%09SpaceAfter%3DNo%0A5%09%E6%96%BC%09%E6%96%BC%09ADP%09v%2C%E5%89%8D%E7%BD%AE%E8%A9%9E%2C%E5%9F%BA%E7%9B%A4%2C%2A%09_%097%09case%09_%09SpaceAfter%3DNo%7CTranslit%3Dat%0A6%09%E5%A4%AB%09%E5%A4%AB%09NOUN%09n%2C%E5%90%8D%E8%A9%9E%2C%E4%BA%BA%2C%E9%96%A2%E4%BF%82%09_%097%09nmod%09_%09SpaceAfter%3DNo%7CTranslit%3Dhusband%0A7%09%E4%BA%BA%09%E4%BA%BA%09NOUN%09n%2C%E5%90%8D%E8%A9%9E%2C%E4%BA%BA%2C%E4%BA%BA%09_%093%09obl%09_%09SpaceAfter%3DNo%7CTranslit%3Dperson%0A8%09%E8%80%85%09%EF%A9%9B%09PART%09p%2C%E5%8A%A9%E8%A9%9E%2C%E6%8F%90%E7%A4%BA%2C%2A%09_%091%09obj%09_%09SpaceAfter%3DNo%7CTranslit%3Dthat-which%0A9%09%E5%A0%B1%09%E5%A0%B1%09VERB%09v%2C%E5%8B%95%E8%A9%9E%2C%E8%A1%8C%E7%82%BA%2C%E4%BA%A4%E6%B5%81%09_%091%09xcomp%09_%09SpaceAfter%3DNo%7CTranslit%3Dreport-back%0A10%09%E4%B9%8B%09%E4%B9%8B%09PRON%09n%2C%E4%BB%A3%E5%90%8D%E8%A9%9E%2C%E4%BA%BA%E7%A7%B0%2C%E6%AD%A2%E6%A0%BC%09Person%3D3%7CPronType%3DPrs%099%09obj%09_%09SpaceAfter%3DNo%7CTranslit%3D%5B3PRON%5D%0A%0A\"\n",
       "            frameborder=\"0\"\n",
       "            allowfullscreen\n",
       "            style=\"background-color: white;\"\n",
       "        ></iframe>\n",
       "        "
      ],
      "text/plain": [
       "<IPython.lib.display.IFrame at 0x7f96ccd3f4c0>"
      ]
     },
     "metadata": {},
     "output_type": "display_data"
    }
   ],
   "source": [
    "ex110 = nlp(\"令苟有怨於夫人者報之\")\n",
    "serve(ex110, 300)"
   ]
  },
  {
   "cell_type": "code",
   "execution_count": 12,
   "metadata": {},
   "outputs": [
    {
     "name": "stderr",
     "output_type": "stream",
     "text": [
      "                                                   \r"
     ]
    },
    {
     "data": {
      "text/html": [
       "\n",
       "        <iframe\n",
       "            width=\"100%\"\n",
       "            height=\"250\"\n",
       "            src=\"https://koichiyasuoka.github.io/deplacy/deplacy/viewer.svg#1%09%E4%BA%88%09%E4%BA%88%09PRON%09n%2C%E4%BB%A3%E5%90%8D%E8%A9%9E%2C%E4%BA%BA%E7%A7%B0%2C%E4%BB%96%09Person%3D1%7CPronType%3DPrs%092%09nsubj%09_%09SpaceAfter%3DNo%7CTranslit%3D%5B1PRON%5D%0A2%09%E5%8A%A9%09%E5%8A%A9%09VERB%09v%2C%E5%8B%95%E8%A9%9E%2C%E8%A1%8C%E7%82%BA%2C%E4%BA%A4%E6%B5%81%09_%090%09ROOT%09_%09SpaceAfter%3DNo%7CTranslit%3Dhelp%0A3%09%E8%8B%97%09%E8%8B%97%09NOUN%09n%2C%E5%90%8D%E8%A9%9E%2C%E5%9B%BA%E5%AE%9A%E7%89%A9%2C%E6%A8%B9%E6%9C%A8%09_%092%09obj%09_%09SpaceAfter%3DNo%7CTranslit%3Dseedling%0A4%09%E9%95%B7%09%E9%95%B7%09VERB%09v%2C%E5%8B%95%E8%A9%9E%2C%E5%A4%89%E5%8C%96%2C%E7%94%9F%E7%89%A9%09_%092%09ccomp%09_%09SpaceAfter%3DNo%7CTranslit%3Dlong-last%0A5%09%E7%9F%A3%09%E7%9F%A3%09PART%09p%2C%E5%8A%A9%E8%A9%9E%2C%E5%8F%A5%E6%9C%AB%2C%2A%09_%092%09discourse%3Asp%09_%09SpaceAfter%3DNo%7CTranslit%3D%5BPFV%5D%0A%0A\"\n",
       "            frameborder=\"0\"\n",
       "            allowfullscreen\n",
       "            style=\"background-color: white;\"\n",
       "        ></iframe>\n",
       "        "
      ],
      "text/plain": [
       "<IPython.lib.display.IFrame at 0x7f96427cfc70>"
      ]
     },
     "metadata": {},
     "output_type": "display_data"
    }
   ],
   "source": [
    "ex111 = nlp(\"予助苗長矣\")\n",
    "serve(ex111, 250)"
   ]
  },
  {
   "cell_type": "code",
   "execution_count": 13,
   "metadata": {},
   "outputs": [
    {
     "name": "stderr",
     "output_type": "stream",
     "text": [
      "                                                   \r"
     ]
    },
    {
     "data": {
      "text/html": [
       "\n",
       "        <iframe\n",
       "            width=\"100%\"\n",
       "            height=\"250\"\n",
       "            src=\"https://koichiyasuoka.github.io/deplacy/deplacy/viewer.svg#1%09%E5%8B%B8%09%E5%8B%B8%09VERB%09v%2C%E5%8B%95%E8%A9%9E%2C%E8%A1%8C%E7%82%BA%2C%E4%BA%A4%E6%B5%81%09_%090%09ROOT%09_%09SpaceAfter%3DNo%7CTranslit%3Durge%0A2%09%E9%BD%8A%09%E9%BD%8A%09PROPN%09n%2C%E5%90%8D%E8%A9%9E%2C%E4%B8%BB%E4%BD%93%2C%E5%9B%BD%E5%90%8D%09Case%3DLoc%7CNameType%3DNat%091%09obj%09_%09SpaceAfter%3DNo%7CTranslit%3D%5Bcountry-name%5D%0A3%09%E4%BC%90%09%E4%BC%90%09VERB%09v%2C%E5%8B%95%E8%A9%9E%2C%E8%A1%8C%E7%82%BA%2C%E4%BA%A4%E6%B5%81%09_%091%09xcomp%09_%09SpaceAfter%3DNo%7CTranslit%3Dhew%0A4%09%E7%87%95%09%E7%87%95%09PROPN%09n%2C%E5%90%8D%E8%A9%9E%2C%E4%B8%BB%E4%BD%93%2C%E5%9B%BD%E5%90%8D%09Case%3DLoc%7CNameType%3DNat%093%09obj%09_%09SpaceAfter%3DNo%7CTranslit%3D%5Bcountry-name%5D%0A5%09%E6%9C%89%09%E6%9C%89%09VERB%09v%2C%E5%8B%95%E8%A9%9E%2C%E5%AD%98%E5%9C%A8%2C%E5%AD%98%E5%9C%A8%09_%091%09parataxis%09_%09SpaceAfter%3DNo%7CTranslit%3Dhave%0A6%09%E8%AB%B8%09%EF%A8%A2%09PRON%09n%2C%E4%BB%A3%E5%90%8D%E8%A9%9E%2C%E4%BA%BA%E7%A7%B0%2C%E4%BB%96%09PronType%3DPrs%095%09obj%09_%09SpaceAfter%3DNo%7CTranslit%3Dthis%0A%0A\"\n",
       "            frameborder=\"0\"\n",
       "            allowfullscreen\n",
       "            style=\"background-color: white;\"\n",
       "        ></iframe>\n",
       "        "
      ],
      "text/plain": [
       "<IPython.lib.display.IFrame at 0x7f96427cf6a0>"
      ]
     },
     "metadata": {},
     "output_type": "display_data"
    }
   ],
   "source": [
    "ex112 = nlp(\"勸齊伐燕有諸\")\n",
    "serve(ex112, 250)"
   ]
  },
  {
   "cell_type": "code",
   "execution_count": 14,
   "metadata": {},
   "outputs": [
    {
     "name": "stderr",
     "output_type": "stream",
     "text": [
      "                                                   \r"
     ]
    },
    {
     "data": {
      "text/html": [
       "\n",
       "        <iframe\n",
       "            width=\"100%\"\n",
       "            height=\"250\"\n",
       "            src=\"https://koichiyasuoka.github.io/deplacy/deplacy/viewer.svg#1%09%E6%98%AF%09%E6%98%AF%09PRON%09n%2C%E4%BB%A3%E5%90%8D%E8%A9%9E%2C%E6%8C%87%E7%A4%BA%2C%2A%09PronType%3DDem%092%09nsubj%09_%09SpaceAfter%3DNo%7CTranslit%3Dthis%0A2%09%E4%BD%BF%09%E4%BD%BF%09VERB%09v%2C%E5%8B%95%E8%A9%9E%2C%E8%A1%8C%E7%82%BA%2C%E4%BD%BF%E5%BD%B9%09_%090%09ROOT%09_%09SpaceAfter%3DNo%7CTranslit%3D%5Bmake-to-do%5D%0A3%09%E6%B0%91%09%E6%B0%91%09NOUN%09n%2C%E5%90%8D%E8%A9%9E%2C%E4%BA%BA%2C%E4%BA%BA%09_%092%09obj%09_%09SpaceAfter%3DNo%7CTranslit%3Dpeople%0A4%09%E9%A4%8A%09%E9%A4%8A%09VERB%09v%2C%E5%8B%95%E8%A9%9E%2C%E8%A1%8C%E7%82%BA%2C%E5%8B%95%E4%BD%9C%09_%092%09xcomp%09_%09SpaceAfter%3DNo%7CTranslit%3Dsupport%0A5%09%E7%94%9F%09%E7%94%9F%09NOUN%09n%2C%E5%90%8D%E8%A9%9E%2C%E8%A1%8C%E7%82%BA%2C%2A%09_%094%09obj%09_%09SpaceAfter%3DNo%7CTranslit%3Dlife%0A6%09%E5%96%AA%09%E5%96%AA%09VERB%09v%2C%E5%8B%95%E8%A9%9E%2C%E8%A1%8C%E7%82%BA%2C%E5%84%80%E7%A4%BC%09_%094%09conj%09_%09SpaceAfter%3DNo%7CTranslit%3Dmourn%0A7%09%E6%AD%BB%09%E6%AD%BB%09NOUN%09n%2C%E5%90%8D%E8%A9%9E%2C%E8%A1%8C%E7%82%BA%2C%2A%09_%096%09obj%09_%09SpaceAfter%3DNo%7CTranslit%3Ddeath%0A8%09%E7%84%A1%09%E7%84%A1%09VERB%09v%2C%E5%8B%95%E8%A9%9E%2C%E5%AD%98%E5%9C%A8%2C%E5%AD%98%E5%9C%A8%09Polarity%3DNeg%099%09advmod%09_%09SpaceAfter%3DNo%7CTranslit%3Dnot-have%0A9%09%E6%86%BE%09%E6%86%BE%09VERB%09v%2C%E5%8B%95%E8%A9%9E%2C%E8%A1%8C%E7%82%BA%2C%E6%85%8B%E5%BA%A6%09_%094%09conj%09_%09SpaceAfter%3DNo%7CTranslit%3Dresent%0A10%09%E4%B9%9F%09%E4%B9%9F%09PART%09p%2C%E5%8A%A9%E8%A9%9E%2C%E5%8F%A5%E6%9C%AB%2C%2A%09_%092%09discourse%3Asp%09_%09SpaceAfter%3DNo%7CTranslit%3D%5Bfinal-particle%5D%0A%0A\"\n",
       "            frameborder=\"0\"\n",
       "            allowfullscreen\n",
       "            style=\"background-color: white;\"\n",
       "        ></iframe>\n",
       "        "
      ],
      "text/plain": [
       "<IPython.lib.display.IFrame at 0x7f96427cf1c0>"
      ]
     },
     "metadata": {},
     "output_type": "display_data"
    }
   ],
   "source": [
    "ex113 = nlp(\"是使民養生喪死無憾也\")\n",
    "serve(ex113, 250)"
   ]
  },
  {
   "cell_type": "code",
   "execution_count": 15,
   "metadata": {},
   "outputs": [
    {
     "name": "stderr",
     "output_type": "stream",
     "text": [
      "                                                   \r"
     ]
    },
    {
     "data": {
      "text/html": [
       "\n",
       "        <iframe\n",
       "            width=\"100%\"\n",
       "            height=\"200\"\n",
       "            src=\"https://koichiyasuoka.github.io/deplacy/deplacy/viewer.svg#1%09%E6%AF%8B%09%E6%AF%8B%09ADV%09v%2C%E5%89%AF%E8%A9%9E%2C%E5%90%A6%E5%AE%9A%2C%E7%A6%81%E6%AD%A2%09Polarity%3DNeg%092%09advmod%09_%09SpaceAfter%3DNo%7CTranslit%3Ddon%27t%0A2%09%E4%BB%A4%09%E4%BB%A4%09VERB%09v%2C%E5%8B%95%E8%A9%9E%2C%E8%A1%8C%E7%82%BA%2C%E4%BD%BF%E5%BD%B9%09_%090%09ROOT%09_%09SpaceAfter%3DNo%7CTranslit%3Dorder%0A3%09%E6%B0%B4%09%E6%B0%B4%09NOUN%09n%2C%E5%90%8D%E8%A9%9E%2C%E5%8F%AF%E6%90%AC%2C%E9%81%93%E5%85%B7%09_%092%09obj%09_%09SpaceAfter%3DNo%7CTranslit%3Dwater%0A4%09%E6%BD%A6%09%E6%BD%A6%09NOUN%09n%2C%E5%90%8D%E8%A9%9E%2C%E5%A4%A9%E8%B1%A1%2C%E6%B0%97%E8%B1%A1%09_%093%09conj%09_%09SpaceAfter%3DNo%7CTranslit%3Dheavy-rain%0A5%09%E8%83%BD%09%E8%83%BD%09AUX%09v%2C%E5%8A%A9%E5%8B%95%E8%A9%9E%2C%E5%8F%AF%E8%83%BD%2C%2A%09Mood%3DPot%096%09aux%09_%09SpaceAfter%3DNo%7CTranslit%3Dcan%0A6%09%E5%85%A5%09%E5%85%A5%09VERB%09v%2C%E5%8B%95%E8%A9%9E%2C%E8%A1%8C%E7%82%BA%2C%E7%A7%BB%E5%8B%95%09_%092%09xcomp%09_%09SpaceAfter%3DNo%7CTranslit%3Denter%0A%0A\"\n",
       "            frameborder=\"0\"\n",
       "            allowfullscreen\n",
       "            style=\"background-color: white;\"\n",
       "        ></iframe>\n",
       "        "
      ],
      "text/plain": [
       "<IPython.lib.display.IFrame at 0x7f96427cfa30>"
      ]
     },
     "metadata": {},
     "output_type": "display_data"
    }
   ],
   "source": [
    "ex114 = nlp(\"毋令水潦能入\")\n",
    "serve(ex114)"
   ]
  },
  {
   "cell_type": "code",
   "execution_count": 16,
   "metadata": {},
   "outputs": [
    {
     "name": "stderr",
     "output_type": "stream",
     "text": [
      "                                                   \r"
     ]
    },
    {
     "data": {
      "text/html": [
       "\n",
       "        <iframe\n",
       "            width=\"100%\"\n",
       "            height=\"200\"\n",
       "            src=\"https://koichiyasuoka.github.io/deplacy/deplacy/viewer.svg#1%09%E5%8A%A9%09%E5%8A%A9%09VERB%09v%2C%E5%8B%95%E8%A9%9E%2C%E8%A1%8C%E7%82%BA%2C%E4%BA%A4%E6%B5%81%09_%090%09ROOT%09_%09SpaceAfter%3DNo%7CTranslit%3Dhelp%0A2%09%E4%B9%8B%09%E4%B9%8B%09PRON%09n%2C%E4%BB%A3%E5%90%8D%E8%A9%9E%2C%E4%BA%BA%E7%A7%B0%2C%E6%AD%A2%E6%A0%BC%09Person%3D3%7CPronType%3DPrs%091%09iobj%09_%09SpaceAfter%3DNo%7CTranslit%3D%5B3PRON%5D%0A3%09%E9%95%B7%09%E9%95%B7%09VERB%09v%2C%E5%8B%95%E8%A9%9E%2C%E5%A4%89%E5%8C%96%2C%E7%94%9F%E7%89%A9%09_%094%09amod%09_%09SpaceAfter%3DNo%7CTranslit%3Dlong-last%0A4%09%E8%80%85%09%EF%A9%9B%09PART%09p%2C%E5%8A%A9%E8%A9%9E%2C%E6%8F%90%E7%A4%BA%2C%2A%09_%091%09obj%09_%09SpaceAfter%3DNo%7CTranslit%3Dthat-which%0A%0A\"\n",
       "            frameborder=\"0\"\n",
       "            allowfullscreen\n",
       "            style=\"background-color: white;\"\n",
       "        ></iframe>\n",
       "        "
      ],
      "text/plain": [
       "<IPython.lib.display.IFrame at 0x7f9642779490>"
      ]
     },
     "metadata": {},
     "output_type": "display_data"
    }
   ],
   "source": [
    "ex115 = nlp(\"助之長者\")\n",
    "serve(ex115)"
   ]
  },
  {
   "cell_type": "code",
   "execution_count": 17,
   "metadata": {},
   "outputs": [
    {
     "name": "stderr",
     "output_type": "stream",
     "text": [
      "                                                   \r"
     ]
    },
    {
     "data": {
      "text/html": [
       "\n",
       "        <iframe\n",
       "            width=\"100%\"\n",
       "            height=\"1050\"\n",
       "            src=\"https://koichiyasuoka.github.io/deplacy/deplacy/viewer.svg#1%09%E4%B8%94%09%E4%B8%94%09ADV%09v%2C%E5%89%AF%E8%A9%9E%2C%E6%99%82%E7%9B%B8%2C%E5%B0%86%E6%9D%A5%09AdvType%3DTim%7CTense%3DFut%093%09advmod%09_%09SpaceAfter%3DNo%7CTranslit%3Dabout-to%0A2%09%E6%95%85%09%E6%95%85%09ADV%09v%2C%E5%89%AF%E8%A9%9E%2C%E5%88%A4%E6%96%AD%2C%E7%A2%BA%E5%AE%9A%09_%093%09advmod%09_%09SpaceAfter%3DNo%7CTranslit%3Dtherefore%0A3%09%E8%88%88%09%E8%88%88%09VERB%09v%2C%E5%8B%95%E8%A9%9E%2C%E8%A1%8C%E7%82%BA%2C%E5%8B%95%E4%BD%9C%09_%090%09ROOT%09_%09SpaceAfter%3DNo%7CTranslit%3Drise%0A4%09%E5%A4%A9%09%E5%A4%A9%09NOUN%09n%2C%E5%90%8D%E8%A9%9E%2C%E5%88%B6%E5%BA%A6%2C%E5%A0%B4%09Case%3DLoc%095%09compound%09_%09SpaceAfter%3DNo%7CTranslit%3Dheaven%0A5%09%E4%B8%8B%09%E4%B8%8B%09NOUN%09n%2C%E5%90%8D%E8%A9%9E%2C%E5%9B%BA%E5%AE%9A%E7%89%A9%2C%E9%96%A2%E4%BF%82%09Case%3DLoc%097%09nmod%09_%09SpaceAfter%3DNo%7CTranslit%3Ddown%0A6%09%E4%B9%8B%09%E4%B9%8B%09SCONJ%09p%2C%E5%8A%A9%E8%A9%9E%2C%E6%8E%A5%E7%B6%9A%2C%E5%B1%9E%E6%A0%BC%09_%095%09case%09_%09SpaceAfter%3DNo%7CTranslit%3D%27s%0A7%09%E5%88%A9%09%E5%88%A9%09NOUN%09n%2C%E5%90%8D%E8%A9%9E%2C%E6%8F%8F%E5%86%99%2C%E5%BD%A2%E8%B3%AA%09_%093%09obj%09_%09SpaceAfter%3DNo%7CTranslit%3Dprofit%0A%0A1%09%E9%99%A4%09%E9%99%A4%09VERB%09v%2C%E5%8B%95%E8%A9%9E%2C%E8%A1%8C%E7%82%BA%2C%E5%8B%95%E4%BD%9C%09_%090%09ROOT%09_%09SpaceAfter%3DNo%7CTranslit%3Deliminate%0A2%09%E5%A4%A9%09%E5%A4%A9%09NOUN%09n%2C%E5%90%8D%E8%A9%9E%2C%E5%88%B6%E5%BA%A6%2C%E5%A0%B4%09Case%3DLoc%093%09compound%09_%09SpaceAfter%3DNo%7CTranslit%3Dheaven%0A3%09%E4%B8%8B%09%E4%B8%8B%09NOUN%09n%2C%E5%90%8D%E8%A9%9E%2C%E5%9B%BA%E5%AE%9A%E7%89%A9%2C%E9%96%A2%E4%BF%82%09Case%3DLoc%095%09nmod%09_%09SpaceAfter%3DNo%7CTranslit%3Ddown%0A4%09%E4%B9%8B%09%E4%B9%8B%09SCONJ%09p%2C%E5%8A%A9%E8%A9%9E%2C%E6%8E%A5%E7%B6%9A%2C%E5%B1%9E%E6%A0%BC%09_%093%09case%09_%09SpaceAfter%3DNo%7CTranslit%3D%27s%0A5%09%E5%AE%B3%09%E5%AE%B3%09NOUN%09n%2C%E5%90%8D%E8%A9%9E%2C%E6%8F%8F%E5%86%99%2C%E5%BD%A2%E8%B3%AA%09_%091%09obj%09_%09SpaceAfter%3DNo%7CTranslit%3Dharm%0A%0A1%09%E4%BB%A4%09%E4%BB%A4%09VERB%09v%2C%E5%8B%95%E8%A9%9E%2C%E8%A1%8C%E7%82%BA%2C%E4%BD%BF%E5%BD%B9%09_%090%09ROOT%09_%09SpaceAfter%3DNo%7CTranslit%3Dorder%0A2%09%E5%9C%8B%09%E5%9C%8B%09NOUN%09n%2C%E5%90%8D%E8%A9%9E%2C%E4%B8%BB%E4%BD%93%2C%E9%9B%86%E5%9B%A3%09_%098%09nsubj%09_%09SpaceAfter%3DNo%7CTranslit%3Dcountry%0A3%09%E5%AE%B6%09%E5%AE%B6%09NOUN%09n%2C%E5%90%8D%E8%A9%9E%2C%E4%B8%BB%E4%BD%93%2C%E9%9B%86%E5%9B%A3%09_%092%09flat%09_%09SpaceAfter%3DNo%7CTranslit%3Dfamily%0A4%09%E7%99%BE%09%E7%99%BE%09NUM%09n%2C%E6%95%B0%E8%A9%9E%2C%E6%95%B0%E5%AD%97%2C%2A%09_%095%09compound%09_%09SpaceAfter%3DNo%7CTranslit%3Dhundred%0A5%09%E5%A7%93%09%E5%A7%93%09NOUN%09n%2C%E5%90%8D%E8%A9%9E%2C%E4%BA%BA%2C%E4%BA%BA%09_%092%09conj%09_%09SpaceAfter%3DNo%7CTranslit%3Dpeople%0A6%09%E4%B9%8B%09%E4%B9%8B%09SCONJ%09p%2C%E5%8A%A9%E8%A9%9E%2C%E6%8E%A5%E7%B6%9A%2C%E5%B1%9E%E6%A0%BC%09_%092%09case%09_%09SpaceAfter%3DNo%7CTranslit%3D%27s%0A7%09%E4%B8%8D%09%E4%B8%8D%09ADV%09v%2C%E5%89%AF%E8%A9%9E%2C%E5%90%A6%E5%AE%9A%2C%E7%84%A1%E7%95%8C%09Polarity%3DNeg%098%09advmod%09_%09SpaceAfter%3DNo%7CTranslit%3Dnot%0A8%09%E6%B2%BB%09%E6%B2%BB%09VERB%09v%2C%E5%8B%95%E8%A9%9E%2C%E8%A1%8C%E7%82%BA%2C%E5%8B%95%E4%BD%9C%09_%091%09ccomp%09_%09SpaceAfter%3DNo%7CTranslit%3Dgovern%0A9%09%E4%B9%9F%09%E4%B9%9F%09PART%09p%2C%E5%8A%A9%E8%A9%9E%2C%E5%8F%A5%E6%9C%AB%2C%2A%09_%091%09discourse%3Asp%09_%09SpaceAfter%3DNo%7CTranslit%3D%5Bfinal-particle%5D%0A%0A1%09%E8%87%AA%09%E8%87%AA%09ADP%09v%2C%E5%89%8D%E7%BD%AE%E8%A9%9E%2C%E7%B5%8C%E7%94%B1%2C%2A%09_%092%09case%09_%09SpaceAfter%3DNo%7CTranslit%3Dfrom%0A2%09%E5%8F%A4%09%E5%8F%A4%09NOUN%09n%2C%E5%90%8D%E8%A9%9E%2C%E6%99%82%2C%2A%09Case%3DTem%093%09obl%3Atmod%09_%09SpaceAfter%3DNo%7CTranslit%3Dolden-times%0A3%09%E5%8F%8A%09%E5%8F%8A%09ADP%09v%2C%E5%89%8D%E7%BD%AE%E8%A9%9E%2C%E9%96%A2%E4%BF%82%2C%2A%09_%090%09ROOT%09_%09SpaceAfter%3DNo%7CTranslit%3Dand%0A4%09%E4%BB%8A%09%E4%BB%8A%09NOUN%09n%2C%E5%90%8D%E8%A9%9E%2C%E6%99%82%2C%2A%09Case%3DTem%093%09obj%09_%09SpaceAfter%3DNo%7CTranslit%3Dnow%0A%0A1%09%E6%9C%AA%09%E6%9C%AA%09ADV%09v%2C%E5%89%AF%E8%A9%9E%2C%E5%90%A6%E5%AE%9A%2C%E6%9C%89%E7%95%8C%09Polarity%3DNeg%094%09advmod%09_%09SpaceAfter%3DNo%7CTranslit%3Dnot-yet%0A2%09%E5%98%97%09%E5%98%97%09ADV%09v%2C%E5%89%AF%E8%A9%9E%2C%E6%99%82%E7%9B%B8%2C%E9%81%8E%E5%8E%BB%09AdvType%3DTim%7CTense%3DPast%094%09advmod%09_%09SpaceAfter%3DNo%7CTranslit%3Donce%0A3%09%E4%B9%8B%09%E4%B9%8B%09PRON%09n%2C%E4%BB%A3%E5%90%8D%E8%A9%9E%2C%E4%BA%BA%E7%A7%B0%2C%E6%AD%A2%E6%A0%BC%09Person%3D3%7CPronType%3DPrs%094%09expl%09_%09SpaceAfter%3DNo%7CTranslit%3D%5B3PRON%5D%0A4%09%E6%9C%89%09%E6%9C%89%09VERB%09v%2C%E5%8B%95%E8%A9%9E%2C%E5%AD%98%E5%9C%A8%2C%E5%AD%98%E5%9C%A8%09_%090%09ROOT%09_%09SpaceAfter%3DNo%7CTranslit%3Dhave%0A5%09%E4%B9%9F%09%E4%B9%9F%09PART%09p%2C%E5%8A%A9%E8%A9%9E%2C%E5%8F%A5%E6%9C%AB%2C%2A%09_%094%09discourse%3Asp%09_%09SpaceAfter%3DNo%7CTranslit%3D%5Bfinal-particle%5D%0A%0A\"\n",
       "            frameborder=\"0\"\n",
       "            allowfullscreen\n",
       "            style=\"background-color: white;\"\n",
       "        ></iframe>\n",
       "        "
      ],
      "text/plain": [
       "<IPython.lib.display.IFrame at 0x7f9642779340>"
      ]
     },
     "metadata": {},
     "output_type": "display_data"
    }
   ],
   "source": [
    "ex116 = nlp(\"且故興天下之利\\n除天下之害\\n令國家百姓之不治也\\n自古及今\\n未嘗之有也\")\n",
    "serve(ex116, 1050)"
   ]
  },
  {
   "cell_type": "markdown",
   "metadata": {},
   "source": [
    "## 4. Verb Phrases as Complements to Adjectives"
   ]
  },
  {
   "cell_type": "markdown",
   "metadata": {},
   "source": [
    "### a. Adjectives That Make a Following Verb Passive"
   ]
  },
  {
   "cell_type": "markdown",
   "metadata": {},
   "source": [
    "4 words that are predicate adjectives can take verb phrases as complements:\n",
    "\n",
    "- 可 - possile / permissible\n",
    "- 足 - sufficient / worth\n",
    "- 難 - difficult\n",
    "- 易 - easy"
   ]
  },
  {
   "cell_type": "code",
   "execution_count": 18,
   "metadata": {},
   "outputs": [
    {
     "name": "stderr",
     "output_type": "stream",
     "text": [
      "                                                   \r"
     ]
    },
    {
     "data": {
      "text/html": [
       "\n",
       "        <iframe\n",
       "            width=\"100%\"\n",
       "            height=\"200\"\n",
       "            src=\"https://koichiyasuoka.github.io/deplacy/deplacy/viewer.svg#1%09%E5%A4%A9%09%E5%A4%A9%09NOUN%09n%2C%E5%90%8D%E8%A9%9E%2C%E5%88%B6%E5%BA%A6%2C%E5%A0%B4%09Case%3DLoc%092%09compound%09_%09SpaceAfter%3DNo%7CTranslit%3Dheaven%0A2%09%E4%B8%8B%09%E4%B8%8B%09NOUN%09n%2C%E5%90%8D%E8%A9%9E%2C%E5%9B%BA%E5%AE%9A%E7%89%A9%2C%E9%96%A2%E4%BF%82%09Case%3DLoc%094%09nsubj%09_%09SpaceAfter%3DNo%7CTranslit%3Ddown%0A3%09%E5%8F%AF%09%E5%8F%AF%09AUX%09v%2C%E5%8A%A9%E5%8B%95%E8%A9%9E%2C%E5%8F%AF%E8%83%BD%2C%2A%09Mood%3DPot%094%09aux%09_%09SpaceAfter%3DNo%7CTranslit%3Dpossible%0A4%09%E9%81%8B%09%E9%81%8B%09VERB%09v%2C%E5%8B%95%E8%A9%9E%2C%E8%A1%8C%E7%82%BA%2C%E7%A7%BB%E5%8B%95%09_%090%09ROOT%09_%09SpaceAfter%3DNo%7CTranslit%3Drevolve%0A5%09%E6%96%BC%09%E6%96%BC%09ADP%09v%2C%E5%89%8D%E7%BD%AE%E8%A9%9E%2C%E5%9F%BA%E7%9B%A4%2C%2A%09_%096%09case%09_%09SpaceAfter%3DNo%7CTranslit%3Dat%0A6%09%E6%8E%8C%09%E6%8E%8C%09NOUN%09n%2C%E5%90%8D%E8%A9%9E%2C%E4%B8%8D%E5%8F%AF%E8%AD%B2%2C%E8%BA%AB%E4%BD%93%09_%094%09obl%09_%09SpaceAfter%3DNo%7CTranslit%3Dpalm%0A%0A\"\n",
       "            frameborder=\"0\"\n",
       "            allowfullscreen\n",
       "            style=\"background-color: white;\"\n",
       "        ></iframe>\n",
       "        "
      ],
      "text/plain": [
       "<IPython.lib.display.IFrame at 0x7f96dc730f70>"
      ]
     },
     "metadata": {},
     "output_type": "display_data"
    }
   ],
   "source": [
    "ex117 = nlp(\"天下可運於掌\")\n",
    "serve(ex117)"
   ]
  },
  {
   "cell_type": "code",
   "execution_count": 19,
   "metadata": {},
   "outputs": [
    {
     "name": "stderr",
     "output_type": "stream",
     "text": [
      "                                                   \r"
     ]
    },
    {
     "data": {
      "text/html": [
       "\n",
       "        <iframe\n",
       "            width=\"100%\"\n",
       "            height=\"250\"\n",
       "            src=\"https://koichiyasuoka.github.io/deplacy/deplacy/viewer.svg#1%09%E5%89%87%09%E5%89%87%09ADV%09v%2C%E5%89%AF%E8%A9%9E%2C%E6%99%82%E7%9B%B8%2C%E7%B7%8A%E6%8E%A5%09AdvType%3DTim%096%09advmod%09_%09SpaceAfter%3DNo%7CTranslit%3Dthen%0A2%09%E6%96%87%09%E6%96%87%09PROPN%09n%2C%E5%90%8D%E8%A9%9E%2C%E4%BA%BA%2C%E3%81%9D%E3%81%AE%E4%BB%96%E3%81%AE%E4%BA%BA%E5%90%8D%09NameType%3DPrs%093%09compound%09_%09SpaceAfter%3DNo%7CTranslit%3DWen%0A3%09%E7%8E%8B%09%E7%8E%8B%09NOUN%09n%2C%E5%90%8D%E8%A9%9E%2C%E4%BA%BA%2C%E5%BD%B9%E5%89%B2%09_%096%09dislocated%09_%09SpaceAfter%3DNo%7CTranslit%3Dking%0A4%09%E4%B8%8D%09%E4%B8%8D%09ADV%09v%2C%E5%89%AF%E8%A9%9E%2C%E5%90%A6%E5%AE%9A%2C%E7%84%A1%E7%95%8C%09Polarity%3DNeg%095%09advmod%09_%09SpaceAfter%3DNo%7CTranslit%3Dnot%0A5%09%E8%B6%B3%09%E8%B6%B3%09AUX%09v%2C%E5%8A%A9%E5%8B%95%E8%A9%9E%2C%E5%8F%AF%E8%83%BD%2C%2A%09Mood%3DPot%096%09aux%09_%09SpaceAfter%3DNo%7CTranslit%3Denough%0A6%09%E6%B3%95%09%E6%B3%95%09VERB%09v%2C%E5%8B%95%E8%A9%9E%2C%E8%A1%8C%E7%82%BA%2C%E5%8B%95%E4%BD%9C%09_%090%09ROOT%09_%09SpaceAfter%3DNo%7CTranslit%3Dpattern%0A7%09%E8%88%87%09%E8%88%87%09PART%09p%2C%E5%8A%A9%E8%A9%9E%2C%E5%8F%A5%E6%9C%AB%2C%2A%09_%096%09discourse%3Asp%09_%09SpaceAfter%3DNo%7CTranslit%3D%5BQ%5D%0A%0A\"\n",
       "            frameborder=\"0\"\n",
       "            allowfullscreen\n",
       "            style=\"background-color: white;\"\n",
       "        ></iframe>\n",
       "        "
      ],
      "text/plain": [
       "<IPython.lib.display.IFrame at 0x7f9642779760>"
      ]
     },
     "metadata": {},
     "output_type": "display_data"
    }
   ],
   "source": [
    "ex118 = nlp(\"則文王不足法與\")\n",
    "serve(ex118, 250)"
   ]
  },
  {
   "cell_type": "code",
   "execution_count": 20,
   "metadata": {},
   "outputs": [
    {
     "name": "stderr",
     "output_type": "stream",
     "text": [
      "                                                   \r"
     ]
    },
    {
     "data": {
      "text/html": [
       "\n",
       "        <iframe\n",
       "            width=\"100%\"\n",
       "            height=\"250\"\n",
       "            src=\"https://koichiyasuoka.github.io/deplacy/deplacy/viewer.svg#1%09%E4%B9%85%09%E4%B9%85%09VERB%09v%2C%E5%8B%95%E8%A9%9E%2C%E6%8F%8F%E5%86%99%2C%E9%87%8F%09Degree%3DPos%094%09advmod%09_%09SpaceAfter%3DNo%7CTranslit%3Dfor-a-long-time%0A2%09%E5%89%87%09%E5%89%87%09ADV%09v%2C%E5%89%AF%E8%A9%9E%2C%E6%99%82%E7%9B%B8%2C%E7%B7%8A%E6%8E%A5%09AdvType%3DTim%094%09advmod%09_%09SpaceAfter%3DNo%7CTranslit%3Dthen%0A3%09%E9%9B%A3%09%EF%A9%A8%09VERB%09v%2C%E5%8B%95%E8%A9%9E%2C%E6%8F%8F%E5%86%99%2C%E5%BD%A2%E8%B3%AA%09Degree%3DPos%094%09advmod%09_%09SpaceAfter%3DNo%7CTranslit%3Ddifficult%0A4%09%E8%AE%8A%09%E8%AE%8A%09VERB%09v%2C%E5%8B%95%E8%A9%9E%2C%E5%A4%89%E5%8C%96%2C%E6%80%A7%E8%B3%AA%09_%090%09ROOT%09_%09SpaceAfter%3DNo%7CTranslit%3Dchange%0A5%09%E4%B9%9F%09%E4%B9%9F%09PART%09p%2C%E5%8A%A9%E8%A9%9E%2C%E5%8F%A5%E6%9C%AB%2C%2A%09_%094%09discourse%3Asp%09_%09SpaceAfter%3DNo%7CTranslit%3D%5Bfinal-particle%5D%0A%0A\"\n",
       "            frameborder=\"0\"\n",
       "            allowfullscreen\n",
       "            style=\"background-color: white;\"\n",
       "        ></iframe>\n",
       "        "
      ],
      "text/plain": [
       "<IPython.lib.display.IFrame at 0x7f9642779280>"
      ]
     },
     "metadata": {},
     "output_type": "display_data"
    }
   ],
   "source": [
    "ex119 = nlp(\"久則難變也\")\n",
    "serve(ex119, 250)"
   ]
  },
  {
   "cell_type": "code",
   "execution_count": 21,
   "metadata": {},
   "outputs": [
    {
     "name": "stderr",
     "output_type": "stream",
     "text": [
      "                                                   \r"
     ]
    },
    {
     "data": {
      "text/html": [
       "\n",
       "        <iframe\n",
       "            width=\"100%\"\n",
       "            height=\"250\"\n",
       "            src=\"https://koichiyasuoka.github.io/deplacy/deplacy/viewer.svg#1%09%E4%B8%89%09%E4%B8%89%09NUM%09n%2C%E6%95%B0%E8%A9%9E%2C%E6%95%B0%E5%AD%97%2C%2A%09_%092%09nummod%09_%09SpaceAfter%3DNo%7CTranslit%3Dthree%0A2%09%E5%B9%B4%09%E5%B9%B4%09NOUN%09n%2C%E5%90%8D%E8%A9%9E%2C%E6%99%82%2C%2A%09Case%3DTem%093%09obl%3Atmod%09_%09SpaceAfter%3DNo%7CTranslit%3Dyear%0A3%09%E5%AD%B8%09%E5%AD%B8%09VERB%09v%2C%E5%8B%95%E8%A9%9E%2C%E8%A1%8C%E7%82%BA%2C%E5%8B%95%E4%BD%9C%09_%090%09ROOT%09_%09SpaceAfter%3DNo%7CTranslit%3Dstudy%0A4%09%E4%B8%8D%09%E4%B8%8D%09ADV%09v%2C%E5%89%AF%E8%A9%9E%2C%E5%90%A6%E5%AE%9A%2C%E7%84%A1%E7%95%8C%09Polarity%3DNeg%095%09advmod%09_%09SpaceAfter%3DNo%7CTranslit%3Dnot%0A5%09%E8%87%B3%09%E8%87%B3%09VERB%09v%2C%E5%8B%95%E8%A9%9E%2C%E8%A1%8C%E7%82%BA%2C%E7%A7%BB%E5%8B%95%09_%093%09ccomp%09_%09SpaceAfter%3DNo%7CTranslit%3Darrive%0A6%09%E6%96%BC%09%E6%96%BC%09ADP%09v%2C%E5%89%8D%E7%BD%AE%E8%A9%9E%2C%E5%9F%BA%E7%9B%A4%2C%2A%09_%097%09case%09_%09SpaceAfter%3DNo%7CTranslit%3Dat%0A7%09%E7%A9%80%09%EF%A9%94%09NOUN%09n%2C%E5%90%8D%E8%A9%9E%2C%E5%8F%AF%E6%90%AC%2C%E7%B3%A7%E9%A3%9F%09_%095%09obl%09_%09SpaceAfter%3DNo%7CTranslit%3Dgrain%0A8%09%E4%B8%8D%09%E4%B8%8D%09ADV%09v%2C%E5%89%AF%E8%A9%9E%2C%E5%90%A6%E5%AE%9A%2C%E7%84%A1%E7%95%8C%09Polarity%3DNeg%099%09advmod%09_%09SpaceAfter%3DNo%7CTranslit%3Dnot%0A9%09%E6%98%93%09%E6%98%93%09VERB%09v%2C%E5%8B%95%E8%A9%9E%2C%E6%8F%8F%E5%86%99%2C%E5%BD%A2%E8%B3%AA%09Degree%3DPos%0910%09advmod%09_%09SpaceAfter%3DNo%7CTranslit%3Deasy%0A10%09%E5%BE%97%09%E5%BE%97%09VERB%09v%2C%E5%8B%95%E8%A9%9E%2C%E8%A1%8C%E7%82%BA%2C%E5%BE%97%E5%A4%B1%09_%093%09ccomp%09_%09SpaceAfter%3DNo%7CTranslit%3Dget%0A11%09%E4%B9%9F%09%E4%B9%9F%09PART%09p%2C%E5%8A%A9%E8%A9%9E%2C%E5%8F%A5%E6%9C%AB%2C%2A%09_%0910%09discourse%3Asp%09_%09SpaceAfter%3DNo%7CTranslit%3D%5Bfinal-particle%5D%0A%0A\"\n",
       "            frameborder=\"0\"\n",
       "            allowfullscreen\n",
       "            style=\"background-color: white;\"\n",
       "        ></iframe>\n",
       "        "
      ],
      "text/plain": [
       "<IPython.lib.display.IFrame at 0x7f96427790a0>"
      ]
     },
     "metadata": {},
     "output_type": "display_data"
    }
   ],
   "source": [
    "ex120 = nlp(\"三年學不至於穀不易得也\")\n",
    "serve(ex120, 250)"
   ]
  },
  {
   "cell_type": "code",
   "execution_count": 22,
   "metadata": {},
   "outputs": [
    {
     "name": "stderr",
     "output_type": "stream",
     "text": [
      "                                                   \r"
     ]
    },
    {
     "data": {
      "text/html": [
       "\n",
       "        <iframe\n",
       "            width=\"100%\"\n",
       "            height=\"250\"\n",
       "            src=\"https://koichiyasuoka.github.io/deplacy/deplacy/viewer.svg#1%09%E4%BA%94%E5%8D%81%09%E4%BA%94%E5%8D%81%09NUM%09n%2C%E6%95%B0%E8%A9%9E%2C%E6%95%B0%2C%2A%09_%092%09nummod%09_%09SpaceAfter%3DNo%7CTranslit%3Dfifty%0A2%09%E8%80%85%09%EF%A9%9B%09PART%09p%2C%E5%8A%A9%E8%A9%9E%2C%E6%8F%90%E7%A4%BA%2C%2A%09_%095%09nsubj%09_%09SpaceAfter%3DNo%7CTranslit%3Dthat-which%0A3%09%E5%8F%AF%09%E5%8F%AF%09AUX%09v%2C%E5%8A%A9%E5%8B%95%E8%A9%9E%2C%E5%8F%AF%E8%83%BD%2C%2A%09Mood%3DPot%095%09aux%09_%09SpaceAfter%3DNo%7CTranslit%3Dpossible%0A4%09%E4%BB%A5%09%E4%BB%A5%09VERB%09v%2C%E5%8B%95%E8%A9%9E%2C%E8%A1%8C%E7%82%BA%2C%E5%8B%95%E4%BD%9C%09_%093%09fixed%09_%09SpaceAfter%3DNo%7CTranslit%3Duse%0A5%09%E8%A1%A3%09%E8%A1%A3%09VERB%09v%2C%E5%8B%95%E8%A9%9E%2C%E8%A1%8C%E7%82%BA%2C%E5%8B%95%E4%BD%9C%09_%090%09ROOT%09_%09SpaceAfter%3DNo%7CTranslit%3Dwear%0A6%09%E5%B8%9B%09%E5%B8%9B%09NOUN%09n%2C%E5%90%8D%E8%A9%9E%2C%E5%8F%AF%E6%90%AC%2C%E9%81%93%E5%85%B7%09_%095%09obj%09_%09SpaceAfter%3DNo%7CTranslit%3Dsilk-cloth%0A7%09%E7%9F%A3%09%E7%9F%A3%09PART%09p%2C%E5%8A%A9%E8%A9%9E%2C%E5%8F%A5%E6%9C%AB%2C%2A%09_%095%09discourse%3Asp%09_%09SpaceAfter%3DNo%7CTranslit%3D%5BPFV%5D%0A%0A\"\n",
       "            frameborder=\"0\"\n",
       "            allowfullscreen\n",
       "            style=\"background-color: white;\"\n",
       "        ></iframe>\n",
       "        "
      ],
      "text/plain": [
       "<IPython.lib.display.IFrame at 0x7f96427791f0>"
      ]
     },
     "metadata": {},
     "output_type": "display_data"
    }
   ],
   "source": [
    "ex121 = nlp(\"五十者可以衣帛矣\")\n",
    "serve(ex121, 250)"
   ]
  },
  {
   "cell_type": "code",
   "execution_count": 23,
   "metadata": {},
   "outputs": [
    {
     "name": "stderr",
     "output_type": "stream",
     "text": [
      "                                                   \r"
     ]
    },
    {
     "data": {
      "text/html": [
       "\n",
       "        <iframe\n",
       "            width=\"100%\"\n",
       "            height=\"250\"\n",
       "            src=\"https://koichiyasuoka.github.io/deplacy/deplacy/viewer.svg#1%09%E5%90%BE%09%E5%90%BE%09PRON%09n%2C%E4%BB%A3%E5%90%8D%E8%A9%9E%2C%E4%BA%BA%E7%A7%B0%2C%E8%B5%B7%E6%A0%BC%09Person%3D1%7CPronType%3DPrs%092%09det%09_%09SpaceAfter%3DNo%7CTranslit%3D%5B1PRON%5D%0A2%09%E5%8A%9B%09%E5%8A%9B%09NOUN%09n%2C%E5%90%8D%E8%A9%9E%2C%E4%B8%8D%E5%8F%AF%E8%AD%B2%2C%E8%BA%AB%E4%BD%93%09_%095%09nsubj%09_%09SpaceAfter%3DNo%7CTranslit%3Dstrength%0A3%09%E8%B6%B3%09%E8%B6%B3%09AUX%09v%2C%E5%8A%A9%E5%8B%95%E8%A9%9E%2C%E5%8F%AF%E8%83%BD%2C%2A%09Mood%3DPot%095%09aux%09_%09SpaceAfter%3DNo%7CTranslit%3Denough%0A4%09%E4%BB%A5%09%E4%BB%A5%09VERB%09v%2C%E5%8B%95%E8%A9%9E%2C%E8%A1%8C%E7%82%BA%2C%E5%8B%95%E4%BD%9C%09_%093%09fixed%09_%09SpaceAfter%3DNo%7CTranslit%3Duse%0A5%09%E8%88%89%09%E8%88%89%09VERB%09v%2C%E5%8B%95%E8%A9%9E%2C%E8%A1%8C%E7%82%BA%2C%E5%8B%95%E4%BD%9C%09_%090%09ROOT%09_%09SpaceAfter%3DNo%7CTranslit%3Draise%0A6%09%E7%99%BE%09%E7%99%BE%09NUM%09n%2C%E6%95%B0%E8%A9%9E%2C%E6%95%B0%E5%AD%97%2C%2A%09_%095%09obj%09_%09SpaceAfter%3DNo%7CTranslit%3Dhundred%0A7%09%E9%92%A7%09%E9%88%9E%09NOUN%09n%2C%E5%90%8D%E8%A9%9E%2C%E5%BA%A6%E9%87%8F%E8%A1%A1%2C%2A%09NounType%3DClf%096%09clf%09_%09SpaceAfter%3DNo%7CTranslit%3D%5Bweight-unit%5D%0A8%09%E8%80%8C%09%E8%80%8C%09CCONJ%09p%2C%E5%8A%A9%E8%A9%9E%2C%E6%8E%A5%E7%B6%9A%2C%E4%B8%A6%E5%88%97%09_%0912%09cc%09_%09SpaceAfter%3DNo%7CTranslit%3Dand%0A9%09%E4%B8%8D%09%E4%B8%8D%09ADV%09v%2C%E5%89%AF%E8%A9%9E%2C%E5%90%A6%E5%AE%9A%2C%E7%84%A1%E7%95%8C%09Polarity%3DNeg%0910%09advmod%09_%09SpaceAfter%3DNo%7CTranslit%3Dnot%0A10%09%E8%B6%B3%09%E8%B6%B3%09AUX%09v%2C%E5%8A%A9%E5%8B%95%E8%A9%9E%2C%E5%8F%AF%E8%83%BD%2C%2A%09Mood%3DPot%0912%09aux%09_%09SpaceAfter%3DNo%7CTranslit%3Denough%0A11%09%E4%BB%A5%09%E4%BB%A5%09VERB%09v%2C%E5%8B%95%E8%A9%9E%2C%E8%A1%8C%E7%82%BA%2C%E5%8B%95%E4%BD%9C%09_%0910%09fixed%09_%09SpaceAfter%3DNo%7CTranslit%3Duse%0A12%09%E8%88%89%09%E8%88%89%09VERB%09v%2C%E5%8B%95%E8%A9%9E%2C%E8%A1%8C%E7%82%BA%2C%E5%8B%95%E4%BD%9C%09_%095%09conj%09_%09SpaceAfter%3DNo%7CTranslit%3Draise%0A13%09%E4%B8%80%09%E4%B8%80%09NUM%09n%2C%E6%95%B0%E8%A9%9E%2C%E6%95%B0%E5%AD%97%2C%2A%09_%0912%09obj%09_%09SpaceAfter%3DNo%7CTranslit%3Done%0A14%09%E7%BE%BD%09%E7%BE%BD%09NOUN%09n%2C%E5%90%8D%E8%A9%9E%2C%E5%BA%A6%E9%87%8F%E8%A1%A1%2C%2A%09NounType%3DClf%0913%09clf%09_%09SpaceAfter%3DNo%7CTranslit%3D%5Bbird-measure%5D%0A%0A\"\n",
       "            frameborder=\"0\"\n",
       "            allowfullscreen\n",
       "            style=\"background-color: white;\"\n",
       "        ></iframe>\n",
       "        "
      ],
      "text/plain": [
       "<IPython.lib.display.IFrame at 0x7f9642779f10>"
      ]
     },
     "metadata": {},
     "output_type": "display_data"
    }
   ],
   "source": [
    "ex122 = nlp(\"吾力足以舉百钧而不足以舉一羽\")\n",
    "serve(ex122, 250)"
   ]
  },
  {
   "cell_type": "code",
   "execution_count": 24,
   "metadata": {},
   "outputs": [
    {
     "name": "stderr",
     "output_type": "stream",
     "text": [
      "                                                   \r"
     ]
    },
    {
     "data": {
      "text/html": [
       "\n",
       "        <iframe\n",
       "            width=\"100%\"\n",
       "            height=\"250\"\n",
       "            src=\"https://koichiyasuoka.github.io/deplacy/deplacy/viewer.svg#1%09%E4%BD%95%09%E4%BD%95%09PRON%09n%2C%E4%BB%A3%E5%90%8D%E8%A9%9E%2C%E7%96%91%E5%95%8F%2C%2A%09PronType%3DInt%092%09obj%09_%09SpaceAfter%3DNo%7CTranslit%3Dwhat%0A2%09%E5%A6%82%09%E5%A6%82%09VERB%09v%2C%E5%8B%95%E8%A9%9E%2C%E8%A1%8C%E7%82%BA%2C%E5%88%86%E9%A1%9E%09Degree%3DEqu%095%09advcl%09_%09SpaceAfter%3DNo%7CTranslit%3Dbe-like%0A3%09%E6%96%AF%09%E6%96%AF%09PRON%09n%2C%E4%BB%A3%E5%90%8D%E8%A9%9E%2C%E6%8C%87%E7%A4%BA%2C%2A%09PronType%3DDem%095%09advmod%09_%09SpaceAfter%3DNo%7CTranslit%3Dthis%0A4%09%E5%8F%AF%09%E5%8F%AF%09AUX%09v%2C%E5%8A%A9%E5%8B%95%E8%A9%9E%2C%E5%8F%AF%E8%83%BD%2C%2A%09Mood%3DPot%095%09aux%09_%09SpaceAfter%3DNo%7CTranslit%3Dpossible%0A5%09%E8%AC%82%09%E8%AC%82%09VERB%09v%2C%E5%8B%95%E8%A9%9E%2C%E8%A1%8C%E7%82%BA%2C%E4%BC%9D%E9%81%94%09_%090%09ROOT%09_%09SpaceAfter%3DNo%7CTranslit%3Dspeak-to%0A6%09%E4%B9%8B%09%E4%B9%8B%09PRON%09n%2C%E4%BB%A3%E5%90%8D%E8%A9%9E%2C%E4%BA%BA%E7%A7%B0%2C%E6%AD%A2%E6%A0%BC%09Person%3D3%7CPronType%3DPrs%095%09iobj%09_%09SpaceAfter%3DNo%7CTranslit%3D%5B3PRON%5D%0A7%09%E5%A3%AB%09%E5%A3%AB%09NOUN%09n%2C%E5%90%8D%E8%A9%9E%2C%E4%BA%BA%2C%E5%BD%B9%E5%89%B2%09_%095%09obj%09_%09SpaceAfter%3DNo%7CTranslit%3Dofficer%0A8%09%E7%9F%A3%09%E7%9F%A3%09PART%09p%2C%E5%8A%A9%E8%A9%9E%2C%E5%8F%A5%E6%9C%AB%2C%2A%09_%095%09discourse%3Asp%09_%09SpaceAfter%3DNo%7CTranslit%3D%5BPFV%5D%0A%0A\"\n",
       "            frameborder=\"0\"\n",
       "            allowfullscreen\n",
       "            style=\"background-color: white;\"\n",
       "        ></iframe>\n",
       "        "
      ],
      "text/plain": [
       "<IPython.lib.display.IFrame at 0x7f96427b6190>"
      ]
     },
     "metadata": {},
     "output_type": "display_data"
    }
   ],
   "source": [
    "ex123 = nlp(\"何如斯可謂之士矣\")\n",
    "serve(ex123, 250)"
   ]
  },
  {
   "cell_type": "code",
   "execution_count": 25,
   "metadata": {},
   "outputs": [
    {
     "name": "stderr",
     "output_type": "stream",
     "text": [
      "                                                   \r"
     ]
    },
    {
     "data": {
      "text/html": [
       "\n",
       "        <iframe\n",
       "            width=\"100%\"\n",
       "            height=\"700\"\n",
       "            src=\"https://koichiyasuoka.github.io/deplacy/deplacy/viewer.svg#1%09%E4%BB%A5%09%E4%BB%A5%09VERB%09v%2C%E5%8B%95%E8%A9%9E%2C%E8%A1%8C%E7%82%BA%2C%E5%8B%95%E4%BD%9C%09_%090%09ROOT%09_%09SpaceAfter%3DNo%7CTranslit%3Duse%0A2%09%E4%B8%8D%09%E4%B8%8D%09ADV%09v%2C%E5%89%AF%E8%A9%9E%2C%E5%90%A6%E5%AE%9A%2C%E7%84%A1%E7%95%8C%09Polarity%3DNeg%093%09advmod%09_%09SpaceAfter%3DNo%7CTranslit%3Dnot%0A3%09%E5%BF%8D%09%E5%BF%8D%09VERB%09v%2C%E5%8B%95%E8%A9%9E%2C%E6%8F%8F%E5%86%99%2C%E6%85%8B%E5%BA%A6%09Degree%3DPos%096%09acl%09_%09SpaceAfter%3DNo%7CTranslit%3Dbear%0A4%09%E4%BA%BA%09%E4%BA%BA%09NOUN%09n%2C%E5%90%8D%E8%A9%9E%2C%E4%BA%BA%2C%E4%BA%BA%09_%093%09obj%09_%09SpaceAfter%3DNo%7CTranslit%3Dperson%0A5%09%E4%B9%8B%09%E4%B9%8B%09SCONJ%09p%2C%E5%8A%A9%E8%A9%9E%2C%E6%8E%A5%E7%B6%9A%2C%E5%B1%9E%E6%A0%BC%09_%093%09mark%09_%09SpaceAfter%3DNo%7CTranslit%3D%27s%0A6%09%E5%BF%83%09%E5%BF%83%09NOUN%09n%2C%E5%90%8D%E8%A9%9E%2C%E4%B8%8D%E5%8F%AF%E8%AD%B2%2C%E8%BA%AB%E4%BD%93%09_%091%09obj%09_%09SpaceAfter%3DNo%7CTranslit%3Dheart%0A%0A1%09%E8%A1%8C%09%E8%A1%8C%09VERB%09v%2C%E5%8B%95%E8%A9%9E%2C%E8%A1%8C%E7%82%BA%2C%E5%8B%95%E4%BD%9C%09_%090%09ROOT%09_%09SpaceAfter%3DNo%7CTranslit%3Dbehave%0A2%09%E4%B8%8D%09%E4%B8%8D%09ADV%09v%2C%E5%89%AF%E8%A9%9E%2C%E5%90%A6%E5%AE%9A%2C%E7%84%A1%E7%95%8C%09Polarity%3DNeg%093%09advmod%09_%09SpaceAfter%3DNo%7CTranslit%3Dnot%0A3%09%E5%BF%8D%09%E5%BF%8D%09VERB%09v%2C%E5%8B%95%E8%A9%9E%2C%E6%8F%8F%E5%86%99%2C%E6%85%8B%E5%BA%A6%09Degree%3DPos%096%09acl%09_%09SpaceAfter%3DNo%7CTranslit%3Dbear%0A4%09%E4%BA%BA%09%E4%BA%BA%09NOUN%09n%2C%E5%90%8D%E8%A9%9E%2C%E4%BA%BA%2C%E4%BA%BA%09_%093%09obj%09_%09SpaceAfter%3DNo%7CTranslit%3Dperson%0A5%09%E4%B9%8B%09%E4%B9%8B%09SCONJ%09p%2C%E5%8A%A9%E8%A9%9E%2C%E6%8E%A5%E7%B6%9A%2C%E5%B1%9E%E6%A0%BC%09_%093%09mark%09_%09SpaceAfter%3DNo%7CTranslit%3D%27s%0A6%09%E6%94%BF%09%E6%94%BF%09NOUN%09n%2C%E5%90%8D%E8%A9%9E%2C%E5%88%B6%E5%BA%A6%2C%E5%84%80%E7%A4%BC%09_%091%09obj%09_%09SpaceAfter%3DNo%7CTranslit%3Dgovernment%0A%0A1%09%E6%B2%BB%09%E6%B2%BB%09VERB%09v%2C%E5%8B%95%E8%A9%9E%2C%E8%A1%8C%E7%82%BA%2C%E5%8B%95%E4%BD%9C%09_%090%09ROOT%09_%09SpaceAfter%3DNo%7CTranslit%3Dgovern%0A2%09%E5%A4%A9%09%E5%A4%A9%09NOUN%09n%2C%E5%90%8D%E8%A9%9E%2C%E5%88%B6%E5%BA%A6%2C%E5%A0%B4%09Case%3DLoc%093%09compound%09_%09SpaceAfter%3DNo%7CTranslit%3Dheaven%0A3%09%E4%B8%8B%09%E4%B8%8B%09NOUN%09n%2C%E5%90%8D%E8%A9%9E%2C%E5%9B%BA%E5%AE%9A%E7%89%A9%2C%E9%96%A2%E4%BF%82%09Case%3DLoc%091%09obj%09_%09SpaceAfter%3DNo%7CTranslit%3Ddown%0A4%09%E5%8F%AF%09%E5%8F%AF%09AUX%09v%2C%E5%8A%A9%E5%8B%95%E8%A9%9E%2C%E5%8F%AF%E8%83%BD%2C%2A%09Mood%3DPot%095%09aux%09_%09SpaceAfter%3DNo%7CTranslit%3Dpossible%0A5%09%E9%81%8B%09%E9%81%8B%09VERB%09v%2C%E5%8B%95%E8%A9%9E%2C%E8%A1%8C%E7%82%BA%2C%E7%A7%BB%E5%8B%95%09_%091%09parataxis%09_%09SpaceAfter%3DNo%7CTranslit%3Drevolve%0A6%09%E4%B9%8B%09%E4%B9%8B%09PRON%09n%2C%E4%BB%A3%E5%90%8D%E8%A9%9E%2C%E4%BA%BA%E7%A7%B0%2C%E6%AD%A2%E6%A0%BC%09Person%3D3%7CPronType%3DPrs%095%09obj%09_%09SpaceAfter%3DNo%7CTranslit%3D%5B3PRON%5D%0A7%09%E6%8E%8C%09%E6%8E%8C%09NOUN%09n%2C%E5%90%8D%E8%A9%9E%2C%E4%B8%8D%E5%8F%AF%E8%AD%B2%2C%E8%BA%AB%E4%BD%93%09_%098%09nmod%09_%09SpaceAfter%3DNo%7CTranslit%3Dpalm%0A8%09%E4%B8%8A%09%E4%B8%8A%09NOUN%09n%2C%E5%90%8D%E8%A9%9E%2C%E5%9B%BA%E5%AE%9A%E7%89%A9%2C%E9%96%A2%E4%BF%82%09Case%3DLoc%095%09obl%3Almod%09_%09SpaceAfter%3DNo%7CTranslit%3Dup%0A%0A\"\n",
       "            frameborder=\"0\"\n",
       "            allowfullscreen\n",
       "            style=\"background-color: white;\"\n",
       "        ></iframe>\n",
       "        "
      ],
      "text/plain": [
       "<IPython.lib.display.IFrame at 0x7f96cd7e3580>"
      ]
     },
     "metadata": {},
     "output_type": "display_data"
    }
   ],
   "source": [
    "ex124 = nlp(\"以不忍人之心\\n行不忍人之政\\n治天下可運之掌上\")\n",
    "serve(ex124, 700)"
   ]
  },
  {
   "cell_type": "code",
   "execution_count": 26,
   "metadata": {},
   "outputs": [
    {
     "name": "stderr",
     "output_type": "stream",
     "text": [
      "                                                   \r"
     ]
    },
    {
     "data": {
      "text/html": [
       "\n",
       "        <iframe\n",
       "            width=\"100%\"\n",
       "            height=\"300\"\n",
       "            src=\"https://koichiyasuoka.github.io/deplacy/deplacy/viewer.svg#1%09%E5%8F%AF%09%E5%8F%AF%09AUX%09v%2C%E5%8A%A9%E5%8B%95%E8%A9%9E%2C%E5%8F%AF%E8%83%BD%2C%2A%09Mood%3DPot%092%09aux%09_%09SpaceAfter%3DNo%7CTranslit%3Dpossible%0A2%09%E4%BD%BF%09%E4%BD%BF%09VERB%09v%2C%E5%8B%95%E8%A9%9E%2C%E8%A1%8C%E7%82%BA%2C%E4%BD%BF%E5%BD%B9%09_%090%09ROOT%09_%09SpaceAfter%3DNo%7CTranslit%3D%5Bmake-to-do%5D%0A3%09%E5%88%B6%09%E5%88%B6%09VERB%09v%2C%E5%8B%95%E8%A9%9E%2C%E8%A1%8C%E7%82%BA%2C%E8%A8%AD%E7%BD%AE%09_%096%09advcl%09_%09SpaceAfter%3DNo%7CTranslit%3Dcut-out%0A4%09%E6%A2%83%09%E6%A2%83%09NOUN%09n%2C%E5%90%8D%E8%A9%9E%2C%E5%8F%AF%E6%90%AC%2C%E9%81%93%E5%85%B7%09_%093%09obj%09_%09SpaceAfter%3DNo%7CTranslit%3Dstick%0A5%09%E4%BB%A5%09%E4%BB%A5%09VERB%09v%2C%E5%8B%95%E8%A9%9E%2C%E8%A1%8C%E7%82%BA%2C%E5%8B%95%E4%BD%9C%09_%096%09advmod%09_%09SpaceAfter%3DNo%7CTranslit%3Duse%0A6%09%E6%92%BB%09%E6%92%BB%09VERB%09v%2C%E5%8B%95%E8%A9%9E%2C%E8%A1%8C%E7%82%BA%2C%E5%8B%95%E4%BD%9C%09_%092%09ccomp%09_%09SpaceAfter%3DNo%7CTranslit%3Dbeat%0A7%09%E7%A7%A6%09%E7%A7%A6%09PROPN%09n%2C%E5%90%8D%E8%A9%9E%2C%E4%B8%BB%E4%BD%93%2C%E5%9B%BD%E5%90%8D%09Case%3DLoc%7CNameType%3DNat%0911%09nmod%09_%09SpaceAfter%3DNo%7CTranslit%3D%5Bcountry-name%5D%0A8%09%E6%A5%9A%09%E6%A5%9A%09PROPN%09n%2C%E5%90%8D%E8%A9%9E%2C%E4%B8%BB%E4%BD%93%2C%E5%9B%BD%E5%90%8D%09Case%3DLoc%7CNameType%3DNat%097%09conj%09_%09SpaceAfter%3DNo%7CTranslit%3D%5Bcountry-name%5D%0A9%09%E4%B9%8B%09%E4%B9%8B%09SCONJ%09p%2C%E5%8A%A9%E8%A9%9E%2C%E6%8E%A5%E7%B6%9A%2C%E5%B1%9E%E6%A0%BC%09_%097%09case%09_%09SpaceAfter%3DNo%7CTranslit%3D%27s%0A10%09%E5%A0%85%09%E5%A0%85%09VERB%09v%2C%E5%8B%95%E8%A9%9E%2C%E6%8F%8F%E5%86%99%2C%E5%BD%A2%E8%B3%AA%09Degree%3DPos%0911%09amod%09_%09SpaceAfter%3DNo%7CTranslit%3Dhard%0A11%09%E7%94%B2%09%E7%94%B2%09NOUN%09n%2C%E5%90%8D%E8%A9%9E%2C%E5%8F%AF%E6%90%AC%2C%E9%81%93%E5%85%B7%09_%096%09obj%09_%09SpaceAfter%3DNo%7CTranslit%3Dshell%0A12%09%E5%88%A9%09%E5%88%A9%09VERB%09v%2C%E5%8B%95%E8%A9%9E%2C%E6%8F%8F%E5%86%99%2C%E5%BD%A2%E8%B3%AA%09Degree%3DPos%0913%09amod%09_%09SpaceAfter%3DNo%7CTranslit%3Dsharp%0A13%09%E5%85%B5%09%E5%85%B5%09NOUN%09n%2C%E5%90%8D%E8%A9%9E%2C%E4%BA%BA%2C%E5%BD%B9%E5%89%B2%09_%0911%09conj%09_%09SpaceAfter%3DNo%7CTranslit%3Dsoldier%0A14%09%E7%9F%A3%09%E7%9F%A3%09PART%09p%2C%E5%8A%A9%E8%A9%9E%2C%E5%8F%A5%E6%9C%AB%2C%2A%09_%092%09discourse%3Asp%09_%09SpaceAfter%3DNo%7CTranslit%3D%5BPFV%5D%0A%0A\"\n",
       "            frameborder=\"0\"\n",
       "            allowfullscreen\n",
       "            style=\"background-color: white;\"\n",
       "        ></iframe>\n",
       "        "
      ],
      "text/plain": [
       "<IPython.lib.display.IFrame at 0x7f96427cfa00>"
      ]
     },
     "metadata": {},
     "output_type": "display_data"
    }
   ],
   "source": [
    "ex125 = nlp(\"可使制梃以撻秦楚之堅甲利兵矣\")\n",
    "serve(ex125, 300)"
   ]
  },
  {
   "cell_type": "code",
   "execution_count": 27,
   "metadata": {},
   "outputs": [
    {
     "name": "stderr",
     "output_type": "stream",
     "text": [
      "                                                   \r"
     ]
    },
    {
     "data": {
      "text/html": [
       "\n",
       "        <iframe\n",
       "            width=\"100%\"\n",
       "            height=\"200\"\n",
       "            src=\"https://koichiyasuoka.github.io/deplacy/deplacy/viewer.svg#1%09%E5%8F%AF%09%E5%8F%AF%09AUX%09v%2C%E5%8A%A9%E5%8B%95%E8%A9%9E%2C%E5%8F%AF%E8%83%BD%2C%2A%09Mood%3DPot%092%09aux%09_%09SpaceAfter%3DNo%7CTranslit%3Dpossible%0A2%09%E8%AC%82%09%E8%AC%82%09VERB%09v%2C%E5%8B%95%E8%A9%9E%2C%E8%A1%8C%E7%82%BA%2C%E4%BC%9D%E9%81%94%09_%090%09ROOT%09_%09SpaceAfter%3DNo%7CTranslit%3Dspeak-to%0A3%09%E5%AD%9D%09%E5%AD%9D%09NOUN%09n%2C%E5%90%8D%E8%A9%9E%2C%E6%8F%8F%E5%86%99%2C%E6%85%8B%E5%BA%A6%09_%092%09obj%09_%09SpaceAfter%3DNo%7CTranslit%3Dfilial%0A4%09%E7%9F%A3%09%E7%9F%A3%09PART%09p%2C%E5%8A%A9%E8%A9%9E%2C%E5%8F%A5%E6%9C%AB%2C%2A%09_%092%09discourse%3Asp%09_%09SpaceAfter%3DNo%7CTranslit%3D%5BPFV%5D%0A%0A\"\n",
       "            frameborder=\"0\"\n",
       "            allowfullscreen\n",
       "            style=\"background-color: white;\"\n",
       "        ></iframe>\n",
       "        "
      ],
      "text/plain": [
       "<IPython.lib.display.IFrame at 0x7f96427b6fa0>"
      ]
     },
     "metadata": {},
     "output_type": "display_data"
    }
   ],
   "source": [
    "ex126 = nlp(\"可謂孝矣\")\n",
    "serve(ex126)"
   ]
  },
  {
   "cell_type": "code",
   "execution_count": 28,
   "metadata": {},
   "outputs": [
    {
     "name": "stderr",
     "output_type": "stream",
     "text": [
      "                                                   \r"
     ]
    },
    {
     "data": {
      "text/html": [
       "\n",
       "        <iframe\n",
       "            width=\"100%\"\n",
       "            height=\"250\"\n",
       "            src=\"https://koichiyasuoka.github.io/deplacy/deplacy/viewer.svg#1%09%E6%88%91%09%E6%88%91%09PRON%09n%2C%E4%BB%A3%E5%90%8D%E8%A9%9E%2C%E4%BA%BA%E7%A7%B0%2C%E6%AD%A2%E6%A0%BC%09Person%3D1%7CPronType%3DPrs%095%09nsubj%09_%09SpaceAfter%3DNo%7CTranslit%3D%5B1PRON%5D%0A2%09%E4%B8%8D%09%E4%B8%8D%09ADV%09v%2C%E5%89%AF%E8%A9%9E%2C%E5%90%A6%E5%AE%9A%2C%E7%84%A1%E7%95%8C%09Polarity%3DNeg%093%09advmod%09_%09SpaceAfter%3DNo%7CTranslit%3Dnot%0A3%09%E5%8F%AF%09%E5%8F%AF%09AUX%09v%2C%E5%8A%A9%E5%8B%95%E8%A9%9E%2C%E5%8F%AF%E8%83%BD%2C%2A%09Mood%3DPot%095%09aux%09_%09SpaceAfter%3DNo%7CTranslit%3Dpossible%0A4%09%E4%B8%8D%09%E4%B8%8D%09ADV%09v%2C%E5%89%AF%E8%A9%9E%2C%E5%90%A6%E5%AE%9A%2C%E7%84%A1%E7%95%8C%09Polarity%3DNeg%095%09advmod%09_%09SpaceAfter%3DNo%7CTranslit%3Dnot%0A5%09%E7%9B%A3%09%E7%9B%A3%09VERB%09v%2C%E5%8B%95%E8%A9%9E%2C%E8%A1%8C%E7%82%BA%2C%E5%8B%95%E4%BD%9C%09_%090%09ROOT%09_%09SpaceAfter%3DNo%7CTranslit%3Dobserve%0A6%09%E4%BA%8E%09%E4%BA%8E%09ADP%09v%2C%E5%89%8D%E7%BD%AE%E8%A9%9E%2C%E5%9F%BA%E7%9B%A4%2C%2A%09_%097%09mark%09_%09SpaceAfter%3DNo%7CTranslit%3Dat%0A7%09%E6%9C%89%09%E6%9C%89%09VERB%09v%2C%E5%8B%95%E8%A9%9E%2C%E5%AD%98%E5%9C%A8%2C%E5%AD%98%E5%9C%A8%09_%095%09advcl%09_%09SpaceAfter%3DNo%7CTranslit%3Dhave%0A8%09%E5%A4%8F%09%E5%A4%8F%09PROPN%09n%2C%E5%90%8D%E8%A9%9E%2C%E4%B8%BB%E4%BD%93%2C%E5%9B%BD%E5%90%8D%09Case%3DLoc%7CNameType%3DNat%097%09obj%09_%09SpaceAfter%3DNo%7CTranslit%3D%5Bcountry-name%5D%0A%0A\"\n",
       "            frameborder=\"0\"\n",
       "            allowfullscreen\n",
       "            style=\"background-color: white;\"\n",
       "        ></iframe>\n",
       "        "
      ],
      "text/plain": [
       "<IPython.lib.display.IFrame at 0x7f96427cf670>"
      ]
     },
     "metadata": {},
     "output_type": "display_data"
    }
   ],
   "source": [
    "ex127 = nlp(\"我不可不監于有夏\")\n",
    "serve(ex127, 250)"
   ]
  },
  {
   "cell_type": "code",
   "execution_count": 29,
   "metadata": {},
   "outputs": [
    {
     "name": "stderr",
     "output_type": "stream",
     "text": [
      "                                                   \r"
     ]
    },
    {
     "data": {
      "text/html": [
       "\n",
       "        <iframe\n",
       "            width=\"100%\"\n",
       "            height=\"400\"\n",
       "            src=\"https://koichiyasuoka.github.io/deplacy/deplacy/viewer.svg#1%09%E7%A7%A6%09%E7%A7%A6%09PROPN%09n%2C%E5%90%8D%E8%A9%9E%2C%E4%B8%BB%E4%BD%93%2C%E5%9B%BD%E5%90%8D%09Case%3DLoc%7CNameType%3DNat%092%09nmod%09_%09SpaceAfter%3DNo%7CTranslit%3D%5Bcountry-name%5D%0A2%09%E5%A5%B3%09%E5%A5%B3%09NOUN%09n%2C%E5%90%8D%E8%A9%9E%2C%E4%BA%BA%2C%E4%BA%BA%09_%093%09nsubj%09_%09SpaceAfter%3DNo%7CTranslit%3Dwoman%0A3%09%E7%BB%9D%09%E7%B5%B6%09VERB%09v%2C%E5%8B%95%E8%A9%9E%2C%E8%A1%8C%E7%82%BA%2C%E5%8B%95%E4%BD%9C%09_%090%09ROOT%09_%09SpaceAfter%3DNo%7CTranslit%3Dcut-off%0A4%09%E7%BE%8E%09%E7%BE%8E%09VERB%09v%2C%E5%8B%95%E8%A9%9E%2C%E6%8F%8F%E5%86%99%2C%E5%BD%A2%E8%B3%AA%09Degree%3DPos%093%09obj%09_%09SpaceAfter%3DNo%7CTranslit%3Dbeautiful%0A%0A1%09%E7%8E%8B%09%E7%8E%8B%09NOUN%09n%2C%E5%90%8D%E8%A9%9E%2C%E4%BA%BA%2C%E5%BD%B9%E5%89%B2%09_%094%09nsubj%09_%09SpaceAfter%3DNo%7CTranslit%3Dking%0A2%09%E5%8F%AF%09%E5%8F%AF%09AUX%09v%2C%E5%8A%A9%E5%8B%95%E8%A9%9E%2C%E5%8F%AF%E8%83%BD%2C%2A%09Mood%3DPot%094%09aux%09_%09SpaceAfter%3DNo%7CTranslit%3Dpossible%0A3%09%E8%87%AA%09%E8%87%AA%09PRON%09n%2C%E4%BB%A3%E5%90%8D%E8%A9%9E%2C%E4%BA%BA%E7%A7%B0%2C%E4%BB%96%09PronType%3DPrs%7CReflex%3DYes%094%09obl%09_%09SpaceAfter%3DNo%7CTranslit%3Dself%0A4%09%E5%8F%96%09%E5%8F%96%09VERB%09v%2C%E5%8B%95%E8%A9%9E%2C%E8%A1%8C%E7%82%BA%2C%E5%BE%97%E5%A4%B1%09_%090%09ROOT%09_%09SpaceAfter%3DNo%7CTranslit%3Dtake%0A%0A\"\n",
       "            frameborder=\"0\"\n",
       "            allowfullscreen\n",
       "            style=\"background-color: white;\"\n",
       "        ></iframe>\n",
       "        "
      ],
      "text/plain": [
       "<IPython.lib.display.IFrame at 0x7f96427b6d30>"
      ]
     },
     "metadata": {},
     "output_type": "display_data"
    }
   ],
   "source": [
    "ex128 = nlp(\"秦女绝美\\n王可自取\")\n",
    "serve(ex128, 400)"
   ]
  },
  {
   "cell_type": "markdown",
   "metadata": {},
   "source": [
    "### b. Other Adjectives That Take Verb Phases as Complements"
   ]
  },
  {
   "cell_type": "code",
   "execution_count": 30,
   "metadata": {},
   "outputs": [
    {
     "name": "stderr",
     "output_type": "stream",
     "text": [
      "                                                   \r"
     ]
    },
    {
     "data": {
      "text/html": [
       "\n",
       "        <iframe\n",
       "            width=\"100%\"\n",
       "            height=\"250\"\n",
       "            src=\"https://koichiyasuoka.github.io/deplacy/deplacy/viewer.svg#1%09%E6%98%AF%09%E6%98%AF%09PRON%09n%2C%E4%BB%A3%E5%90%8D%E8%A9%9E%2C%E6%8C%87%E7%A4%BA%2C%2A%09PronType%3DDem%092%09obj%09_%09SpaceAfter%3DNo%7CTranslit%3Dthis%0A2%09%E4%BB%A5%09%E4%BB%A5%09VERB%09v%2C%E5%8B%95%E8%A9%9E%2C%E8%A1%8C%E7%82%BA%2C%E5%8B%95%E4%BD%9C%09_%097%09advcl%09_%09SpaceAfter%3DNo%7CTranslit%3Duse%0A3%09%E6%83%9F%09%E6%83%9F%09ADV%09v%2C%E5%89%AF%E8%A9%9E%2C%E7%AF%84%E5%9B%B2%2C%E9%99%90%E5%AE%9A%09_%097%09advmod%09_%09SpaceAfter%3DNo%7CTranslit%3Donly%0A4%09%E4%BB%81%09%E4%BB%81%09VERB%09v%2C%E5%8B%95%E8%A9%9E%2C%E6%8F%8F%E5%86%99%2C%E6%85%8B%E5%BA%A6%09Degree%3DPos%095%09amod%09_%09SpaceAfter%3DNo%7CTranslit%3Dbenevolent%0A5%09%E8%80%85%09%EF%A9%9B%09PART%09p%2C%E5%8A%A9%E8%A9%9E%2C%E6%8F%90%E7%A4%BA%2C%2A%09_%097%09nsubj%09_%09SpaceAfter%3DNo%7CTranslit%3Dthat-which%0A6%09%E5%AE%9C%09%E5%AE%9C%09AUX%09v%2C%E5%8A%A9%E5%8B%95%E8%A9%9E%2C%E5%BF%85%E8%A6%81%2C%2A%09Mood%3DNec%097%09aux%09_%09SpaceAfter%3DNo%7CTranslit%3Dfitting%0A7%09%E5%9C%A8%09%E5%9C%A8%09VERB%09v%2C%E5%8B%95%E8%A9%9E%2C%E5%AD%98%E5%9C%A8%2C%E5%AD%98%E5%9C%A8%09_%090%09ROOT%09_%09SpaceAfter%3DNo%7CTranslit%3Dbe-present%0A8%09%E9%AB%98%09%E9%AB%98%09VERB%09v%2C%E5%8B%95%E8%A9%9E%2C%E6%8F%8F%E5%86%99%2C%E9%87%8F%09Degree%3DPos%099%09amod%09_%09SpaceAfter%3DNo%7CTranslit%3Dhigh%0A9%09%E4%BD%8D%09%E4%BD%8D%09NOUN%09n%2C%E5%90%8D%E8%A9%9E%2C%E5%88%B6%E5%BA%A6%2C%E5%A0%B4%09Case%3DLoc%097%09obj%09_%09SpaceAfter%3DNo%7CTranslit%3Drank%0A%0A\"\n",
       "            frameborder=\"0\"\n",
       "            allowfullscreen\n",
       "            style=\"background-color: white;\"\n",
       "        ></iframe>\n",
       "        "
      ],
      "text/plain": [
       "<IPython.lib.display.IFrame at 0x7f9642779400>"
      ]
     },
     "metadata": {},
     "output_type": "display_data"
    }
   ],
   "source": [
    "ex129 = nlp(\"是以惟仁者宜在高位\")\n",
    "serve(ex129, 250)"
   ]
  },
  {
   "cell_type": "code",
   "execution_count": 31,
   "metadata": {},
   "outputs": [
    {
     "name": "stderr",
     "output_type": "stream",
     "text": [
      "                                                   \r"
     ]
    },
    {
     "data": {
      "text/html": [
       "\n",
       "        <iframe\n",
       "            width=\"100%\"\n",
       "            height=\"300\"\n",
       "            src=\"https://koichiyasuoka.github.io/deplacy/deplacy/viewer.svg#1%09%E6%88%91%09%E6%88%91%09PRON%09n%2C%E4%BB%A3%E5%90%8D%E8%A9%9E%2C%E4%BA%BA%E7%A7%B0%2C%E6%AD%A2%E6%A0%BC%09Person%3D1%7CPronType%3DPrs%093%09nsubj%09_%09SpaceAfter%3DNo%7CTranslit%3D%5B1PRON%5D%0A2%09%E5%96%84%09%E5%96%84%09VERB%09v%2C%E5%8B%95%E8%A9%9E%2C%E6%8F%8F%E5%86%99%2C%E6%85%8B%E5%BA%A6%09Degree%3DPos%093%09advmod%09_%09SpaceAfter%3DNo%7CTranslit%3Dgood%0A3%09%E9%A4%8A%09%E9%A4%8A%09VERB%09v%2C%E5%8B%95%E8%A9%9E%2C%E8%A1%8C%E7%82%BA%2C%E5%8B%95%E4%BD%9C%09_%090%09ROOT%09_%09SpaceAfter%3DNo%7CTranslit%3Dsupport%0A4%09%E5%90%BE%09%E5%90%BE%09PRON%09n%2C%E4%BB%A3%E5%90%8D%E8%A9%9E%2C%E4%BA%BA%E7%A7%B0%2C%E8%B5%B7%E6%A0%BC%09Person%3D1%7CPronType%3DPrs%098%09det%09_%09SpaceAfter%3DNo%7CTranslit%3D%5B1PRON%5D%0A5%09%E6%B5%A9%09%E6%B5%A9%09VERB%09v%2C%E5%8B%95%E8%A9%9E%2C%E6%8F%8F%E5%86%99%2C%E5%BD%A2%E8%B3%AA%09Degree%3DPos%098%09amod%09_%09SpaceAfter%3DNo%7CTranslit%3Dvast%0A6%09%E7%84%B6%09%E7%84%B6%09PART%09p%2C%E6%8E%A5%E5%B0%BE%E8%BE%9E%2C%2A%2C%2A%09_%095%09fixed%09_%09SpaceAfter%3DNo%7CTranslit%3D%5Bsuffix%5D%0A7%09%E4%B9%8B%09%E4%B9%8B%09SCONJ%09p%2C%E5%8A%A9%E8%A9%9E%2C%E6%8E%A5%E7%B6%9A%2C%E5%B1%9E%E6%A0%BC%09_%095%09case%09_%09SpaceAfter%3DNo%7CTranslit%3D%27s%0A8%09%E6%B0%A3%09%E6%B0%A3%09NOUN%09n%2C%E5%90%8D%E8%A9%9E%2C%E6%8F%8F%E5%86%99%2C%E5%BD%A2%E8%B3%AA%09_%093%09obj%09_%09SpaceAfter%3DNo%7CTranslit%3Dair%0A%0A\"\n",
       "            frameborder=\"0\"\n",
       "            allowfullscreen\n",
       "            style=\"background-color: white;\"\n",
       "        ></iframe>\n",
       "        "
      ],
      "text/plain": [
       "<IPython.lib.display.IFrame at 0x7f96ccd3f790>"
      ]
     },
     "metadata": {},
     "output_type": "display_data"
    }
   ],
   "source": [
    "ex130 = nlp(\"我善養吾浩然之氣\")\n",
    "serve(ex130, 300)"
   ]
  },
  {
   "cell_type": "markdown",
   "metadata": {},
   "source": [
    "## 5. Verbs in Series"
   ]
  },
  {
   "cell_type": "markdown",
   "metadata": {},
   "source": [
    "### a. The Construction in General - The Particle Er 而"
   ]
  },
  {
   "cell_type": "code",
   "execution_count": 32,
   "metadata": {},
   "outputs": [
    {
     "name": "stderr",
     "output_type": "stream",
     "text": [
      "                                                   \r"
     ]
    },
    {
     "data": {
      "text/html": [
       "\n",
       "        <iframe\n",
       "            width=\"100%\"\n",
       "            height=\"550\"\n",
       "            src=\"https://koichiyasuoka.github.io/deplacy/deplacy/viewer.svg#1%09%E8%97%A4%09%E8%97%A4%09PROPN%09n%2C%E5%90%8D%E8%A9%9E%2C%E4%B8%BB%E4%BD%93%2C%E5%9B%BD%E5%90%8D%09Case%3DLoc%7CNameType%3DNat%093%09nmod%09_%09SpaceAfter%3DNo%7CTranslit%3D%5Bcountry-name%5D%0A2%09%E6%96%87%09%E6%96%87%09PROPN%09n%2C%E5%90%8D%E8%A9%9E%2C%E4%BA%BA%2C%E3%81%9D%E3%81%AE%E4%BB%96%E3%81%AE%E4%BA%BA%E5%90%8D%09NameType%3DPrs%093%09compound%09_%09SpaceAfter%3DNo%7CTranslit%3DWen%0A3%09%E5%85%AC%09%E5%85%AC%09NOUN%09n%2C%E5%90%8D%E8%A9%9E%2C%E4%BA%BA%2C%E5%BD%B9%E5%89%B2%09_%095%09nsubj%09_%09SpaceAfter%3DNo%7CTranslit%3Dduke%0A4%09%E7%82%BA%09%E7%88%B2%09VERB%09v%2C%E5%8B%95%E8%A9%9E%2C%E5%AD%98%E5%9C%A8%2C%E5%AD%98%E5%9C%A8%09VerbType%3DCop%095%09cop%09_%09SpaceAfter%3DNo%7CTranslit%3Dbe%0A5%09%E4%B8%96%E5%AD%90%09%E4%B8%96%E5%AD%90%09NOUN%09n%2C%E5%90%8D%E8%A9%9E%2C%E4%BA%BA%2C%E9%96%A2%E4%BF%82%09_%090%09ROOT%09_%09SpaceAfter%3DNo%7CTranslit%3Dcrown-prince%0A%0A1%09%E5%B0%87%09%E5%B0%87%09ADV%09v%2C%E5%89%AF%E8%A9%9E%2C%E6%99%82%E7%9B%B8%2C%E5%B0%86%E6%9D%A5%09AdvType%3DTim%7CTense%3DFut%092%09advmod%09_%09SpaceAfter%3DNo%7CTranslit%3Dabout-to%0A2%09%E4%B9%8B%09%E4%B9%8B%09VERB%09v%2C%E5%8B%95%E8%A9%9E%2C%E8%A1%8C%E7%82%BA%2C%E7%A7%BB%E5%8B%95%09_%090%09ROOT%09_%09SpaceAfter%3DNo%7CTranslit%3Dgo%0A3%09%E6%A5%9A%09%E6%A5%9A%09PROPN%09n%2C%E5%90%8D%E8%A9%9E%2C%E4%B8%BB%E4%BD%93%2C%E5%9B%BD%E5%90%8D%09Case%3DLoc%7CNameType%3DNat%092%09obj%09_%09SpaceAfter%3DNo%7CTranslit%3D%5Bcountry-name%5D%0A%0A1%09%E9%81%8E%09%E9%81%8E%09VERB%09v%2C%E5%8B%95%E8%A9%9E%2C%E8%A1%8C%E7%82%BA%2C%E7%A7%BB%E5%8B%95%09_%090%09ROOT%09_%09SpaceAfter%3DNo%7CTranslit%3Dpass%0A2%09%E5%AE%8B%09%E5%AE%8B%09PROPN%09n%2C%E5%90%8D%E8%A9%9E%2C%E4%B8%BB%E4%BD%93%2C%E5%9B%BD%E5%90%8D%09Case%3DLoc%7CNameType%3DNat%091%09obj%09_%09SpaceAfter%3DNo%7CTranslit%3D%5Bcountry-name%5D%0A3%09%E8%80%8C%09%E8%80%8C%09CCONJ%09p%2C%E5%8A%A9%E8%A9%9E%2C%E6%8E%A5%E7%B6%9A%2C%E4%B8%A6%E5%88%97%09_%094%09cc%09_%09SpaceAfter%3DNo%7CTranslit%3Dand%0A4%09%E8%A6%8B%09%E8%A6%8B%09VERB%09v%2C%E5%8B%95%E8%A9%9E%2C%E8%A1%8C%E7%82%BA%2C%E5%8B%95%E4%BD%9C%09_%091%09conj%09_%09SpaceAfter%3DNo%7CTranslit%3Dsee%0A5%09%E5%AD%9F%E5%AD%90%09%E5%AD%9F%E5%AD%90%09PROPN%09n%2C%E5%90%8D%E8%A9%9E%2C%E4%BA%BA%2C%E8%A4%87%E5%90%88%E7%9A%84%E4%BA%BA%E5%90%8D%09NameType%3DPrs%094%09obj%09_%09SpaceAfter%3DNo%7CTranslit%3DMencius%0A%0A\"\n",
       "            frameborder=\"0\"\n",
       "            allowfullscreen\n",
       "            style=\"background-color: white;\"\n",
       "        ></iframe>\n",
       "        "
      ],
      "text/plain": [
       "<IPython.lib.display.IFrame at 0x7f96dc730f70>"
      ]
     },
     "metadata": {},
     "output_type": "display_data"
    }
   ],
   "source": [
    "ex131 = nlp(\"藤文公為世子\\n將之楚\\n過宋而見孟子\")\n",
    "serve(ex131, 550)"
   ]
  },
  {
   "cell_type": "code",
   "execution_count": 33,
   "metadata": {},
   "outputs": [
    {
     "name": "stderr",
     "output_type": "stream",
     "text": [
      "                                                   \r"
     ]
    },
    {
     "data": {
      "text/html": [
       "\n",
       "        <iframe\n",
       "            width=\"100%\"\n",
       "            height=\"450\"\n",
       "            src=\"https://koichiyasuoka.github.io/deplacy/deplacy/viewer.svg#1%09%E7%8C%B6%09%E7%8C%B6%09ADV%09v%2C%E5%89%AF%E8%A9%9E%2C%E9%A0%BB%E5%BA%A6%2C%E9%87%8D%E8%A4%87%09_%092%09advmod%09_%09SpaceAfter%3DNo%7CTranslit%3Dyet%0A2%09%E7%B7%A3%09%E7%B7%A3%09VERB%09v%2C%E5%8B%95%E8%A9%9E%2C%E8%A1%8C%E7%82%BA%2C%E5%8B%95%E4%BD%9C%09_%090%09ROOT%09_%09SpaceAfter%3DNo%7CTranslit%3Dfollow-along%0A3%09%E6%9C%A8%09%E6%9C%A8%09NOUN%09n%2C%E5%90%8D%E8%A9%9E%2C%E5%9B%BA%E5%AE%9A%E7%89%A9%2C%E6%A8%B9%E6%9C%A8%09_%092%09obj%09_%09SpaceAfter%3DNo%7CTranslit%3Dtree%0A4%09%E8%80%8C%09%E8%80%8C%09CCONJ%09p%2C%E5%8A%A9%E8%A9%9E%2C%E6%8E%A5%E7%B6%9A%2C%E4%B8%A6%E5%88%97%09_%095%09cc%09_%09SpaceAfter%3DNo%7CTranslit%3Dand%0A5%09%E6%B1%82%09%E6%B1%82%09VERB%09v%2C%E5%8B%95%E8%A9%9E%2C%E8%A1%8C%E7%82%BA%2C%E5%8B%95%E4%BD%9C%09_%092%09conj%09_%09SpaceAfter%3DNo%7CTranslit%3Dseek%0A6%09%E9%AD%9A%09%E9%AD%9A%09NOUN%09n%2C%E5%90%8D%E8%A9%9E%2C%E4%B8%BB%E4%BD%93%2C%E5%8B%95%E7%89%A9%09_%095%09obj%09_%09SpaceAfter%3DNo%7CTranslit%3Dfish%0A7%09%E4%B9%9F%09%E4%B9%9F%09PART%09p%2C%E5%8A%A9%E8%A9%9E%2C%E5%8F%A5%E6%9C%AB%2C%2A%09_%092%09discourse%3Asp%09_%09SpaceAfter%3DNo%7CTranslit%3D%5Bfinal-particle%5D%0A%0A1%09%E7%B7%A3%09%E7%B7%A3%09VERB%09v%2C%E5%8B%95%E8%A9%9E%2C%E8%A1%8C%E7%82%BA%2C%E5%8B%95%E4%BD%9C%09_%099%09csubj%09_%09SpaceAfter%3DNo%7CTranslit%3Dfollow-along%0A2%09%E6%9C%A8%09%E6%9C%A8%09NOUN%09n%2C%E5%90%8D%E8%A9%9E%2C%E5%9B%BA%E5%AE%9A%E7%89%A9%2C%E6%A8%B9%E6%9C%A8%09_%091%09obj%09_%09SpaceAfter%3DNo%7CTranslit%3Dtree%0A3%09%E6%B1%82%09%E6%B1%82%09VERB%09v%2C%E5%8B%95%E8%A9%9E%2C%E8%A1%8C%E7%82%BA%2C%E5%8B%95%E4%BD%9C%09_%091%09conj%09_%09SpaceAfter%3DNo%7CTranslit%3Dseek%0A4%09%E9%AD%9A%09%E9%AD%9A%09NOUN%09n%2C%E5%90%8D%E8%A9%9E%2C%E4%B8%BB%E4%BD%93%2C%E5%8B%95%E7%89%A9%09_%093%09obj%09_%09SpaceAfter%3DNo%7CTranslit%3Dfish%0A5%09%E9%9B%96%09%E9%9B%96%09ADV%09v%2C%E5%89%AF%E8%A9%9E%2C%E5%88%A4%E6%96%AD%2C%E9%80%86%E6%8E%A5%09_%097%09advmod%09_%09SpaceAfter%3DNo%7CTranslit%3Dalthough%0A6%09%E4%B8%8D%09%E4%B8%8D%09ADV%09v%2C%E5%89%AF%E8%A9%9E%2C%E5%90%A6%E5%AE%9A%2C%E7%84%A1%E7%95%8C%09Polarity%3DNeg%097%09advmod%09_%09SpaceAfter%3DNo%7CTranslit%3Dnot%0A7%09%E5%BE%97%09%E5%BE%97%09VERB%09v%2C%E5%8B%95%E8%A9%9E%2C%E8%A1%8C%E7%82%BA%2C%E5%BE%97%E5%A4%B1%09_%090%09ROOT%09_%09SpaceAfter%3DNo%7CTranslit%3Dget%0A8%09%E9%AD%9A%09%E9%AD%9A%09NOUN%09n%2C%E5%90%8D%E8%A9%9E%2C%E4%B8%BB%E4%BD%93%2C%E5%8B%95%E7%89%A9%09_%097%09obj%09_%09SpaceAfter%3DNo%7CTranslit%3Dfish%0A9%09%E7%84%A1%09%E7%84%A1%09VERB%09v%2C%E5%8B%95%E8%A9%9E%2C%E5%AD%98%E5%9C%A8%2C%E5%AD%98%E5%9C%A8%09Polarity%3DNeg%097%09parataxis%09_%09SpaceAfter%3DNo%7CTranslit%3Dnot-have%0A10%09%E5%BE%8C%09%E5%BE%8C%09NOUN%09n%2C%E5%90%8D%E8%A9%9E%2C%E6%99%82%2C%2A%09Case%3DTem%0911%09nmod%09_%09SpaceAfter%3DNo%7CTranslit%3Dafter%0A11%09%E7%81%BD%09%E7%81%BD%09NOUN%09n%2C%E5%90%8D%E8%A9%9E%2C%E5%A4%A9%E8%B1%A1%2C%E6%B0%97%E8%B1%A1%09_%099%09obj%09_%09SpaceAfter%3DNo%7CTranslit%3Ddisaster%0A%0A\"\n",
       "            frameborder=\"0\"\n",
       "            allowfullscreen\n",
       "            style=\"background-color: white;\"\n",
       "        ></iframe>\n",
       "        "
      ],
      "text/plain": [
       "<IPython.lib.display.IFrame at 0x7f96ccd3f550>"
      ]
     },
     "metadata": {},
     "output_type": "display_data"
    }
   ],
   "source": [
    "ex132 = nlp(\"猶緣木而求魚也\\n緣木求魚雖不得魚無後災\")\n",
    "serve(ex132, 450)"
   ]
  },
  {
   "cell_type": "code",
   "execution_count": 34,
   "metadata": {},
   "outputs": [
    {
     "name": "stderr",
     "output_type": "stream",
     "text": [
      "                                                   \r"
     ]
    },
    {
     "data": {
      "text/html": [
       "\n",
       "        <iframe\n",
       "            width=\"100%\"\n",
       "            height=\"250\"\n",
       "            src=\"https://koichiyasuoka.github.io/deplacy/deplacy/viewer.svg#1%09%E6%A3%84%09%E6%A3%84%09VERB%09v%2C%E5%8B%95%E8%A9%9E%2C%E8%A1%8C%E7%82%BA%2C%E5%8B%95%E4%BD%9C%09_%090%09ROOT%09_%09SpaceAfter%3DNo%7CTranslit%3Dabandon%0A2%09%E7%94%B2%09%E7%94%B2%09NOUN%09n%2C%E5%90%8D%E8%A9%9E%2C%E5%8F%AF%E6%90%AC%2C%E9%81%93%E5%85%B7%09_%091%09obj%09_%09SpaceAfter%3DNo%7CTranslit%3Dshell%0A3%09%E6%9B%B3%09%E6%9B%B3%09VERB%09v%2C%E5%8B%95%E8%A9%9E%2C%E8%A1%8C%E7%82%BA%2C%E5%8B%95%E4%BD%9C%09_%091%09conj%09_%09SpaceAfter%3DNo%7CTranslit%3Ddrag%0A4%09%E5%85%B5%09%E5%85%B5%09NOUN%09n%2C%E5%90%8D%E8%A9%9E%2C%E4%BA%BA%2C%E5%BD%B9%E5%89%B2%09_%093%09obj%09_%09SpaceAfter%3DNo%7CTranslit%3Dsoldier%0A5%09%E8%80%8C%09%E8%80%8C%09CCONJ%09p%2C%E5%8A%A9%E8%A9%9E%2C%E6%8E%A5%E7%B6%9A%2C%E4%B8%A6%E5%88%97%09_%096%09cc%09_%09SpaceAfter%3DNo%7CTranslit%3Dand%0A6%09%E8%B5%B0%09%E8%B5%B0%09VERB%09v%2C%E5%8B%95%E8%A9%9E%2C%E8%A1%8C%E7%82%BA%2C%E7%A7%BB%E5%8B%95%09_%091%09conj%09_%09SpaceAfter%3DNo%7CTranslit%3Drun%0A%0A\"\n",
       "            frameborder=\"0\"\n",
       "            allowfullscreen\n",
       "            style=\"background-color: white;\"\n",
       "        ></iframe>\n",
       "        "
      ],
      "text/plain": [
       "<IPython.lib.display.IFrame at 0x7f96427b6280>"
      ]
     },
     "metadata": {},
     "output_type": "display_data"
    }
   ],
   "source": [
    "ex133 = nlp(\"棄甲曳兵而走\")\n",
    "serve(ex133, 250)"
   ]
  },
  {
   "cell_type": "markdown",
   "metadata": {},
   "source": [
    "### b. De (er) 得 (而), Shuai (er) 率 (而), etc."
   ]
  },
  {
   "cell_type": "code",
   "execution_count": 35,
   "metadata": {},
   "outputs": [
    {
     "name": "stderr",
     "output_type": "stream",
     "text": [
      "                                                   \r"
     ]
    },
    {
     "data": {
      "text/html": [
       "\n",
       "        <iframe\n",
       "            width=\"100%\"\n",
       "            height=\"250\"\n",
       "            src=\"https://koichiyasuoka.github.io/deplacy/deplacy/viewer.svg#1%09%E7%9B%9B%09%E7%9B%9B%09VERB%09v%2C%E5%8B%95%E8%A9%9E%2C%E6%8F%8F%E5%86%99%2C%E5%BD%A2%E8%B3%AA%09Degree%3DPos%092%09amod%09_%09SpaceAfter%3DNo%7CTranslit%3Dfull%0A2%09%E5%BE%B7%09%E5%BE%B7%09NOUN%09n%2C%E5%90%8D%E8%A9%9E%2C%E6%8F%8F%E5%86%99%2C%E6%85%8B%E5%BA%A6%09_%094%09nmod%09_%09SpaceAfter%3DNo%7CTranslit%3Dvirtue%0A3%09%E4%B9%8B%09%E4%B9%8B%09SCONJ%09p%2C%E5%8A%A9%E8%A9%9E%2C%E6%8E%A5%E7%B6%9A%2C%E5%B1%9E%E6%A0%BC%09_%092%09case%09_%09SpaceAfter%3DNo%7CTranslit%3D%27s%0A4%09%E5%A3%AB%09%E5%A3%AB%09NOUN%09n%2C%E5%90%8D%E8%A9%9E%2C%E4%BA%BA%2C%E5%BD%B9%E5%89%B2%09_%099%09dislocated%09_%09SpaceAfter%3DNo%7CTranslit%3Dofficer%0A5%09%E5%90%9B%09%E5%90%9B%09NOUN%09n%2C%E5%90%8D%E8%A9%9E%2C%E4%BA%BA%2C%E5%BD%B9%E5%89%B2%09_%099%09nsubj%09_%09SpaceAfter%3DNo%7CTranslit%3Druler%0A6%09%E4%B8%8D%09%E4%B8%8D%09ADV%09v%2C%E5%89%AF%E8%A9%9E%2C%E5%90%A6%E5%AE%9A%2C%E7%84%A1%E7%95%8C%09Polarity%3DNeg%097%09advmod%09_%09SpaceAfter%3DNo%7CTranslit%3Dnot%0A7%09%E5%BE%97%09%E5%BE%97%09AUX%09v%2C%E5%8A%A9%E5%8B%95%E8%A9%9E%2C%E5%8F%AF%E8%83%BD%2C%2A%09Mood%3DPot%099%09aux%09_%09SpaceAfter%3DNo%7CTranslit%3Dmust%0A8%09%E8%80%8C%09%E8%80%8C%09CCONJ%09p%2C%E5%8A%A9%E8%A9%9E%2C%E6%8E%A5%E7%B6%9A%2C%E4%B8%A6%E5%88%97%09_%097%09fixed%09_%09SpaceAfter%3DNo%7CTranslit%3Dand%0A9%09%E8%87%A3%09%E8%87%A3%09VERB%09v%2C%E5%8B%95%E8%A9%9E%2C%E8%A1%8C%E7%82%BA%2C%E5%BD%B9%E5%89%B2%09_%090%09ROOT%09_%09SpaceAfter%3DNo%7CTranslit%3Dvassal%0A10%09%E7%88%B6%09%E7%88%B6%09NOUN%09n%2C%E5%90%8D%E8%A9%9E%2C%E4%BA%BA%2C%E9%96%A2%E4%BF%82%09_%0914%09nsubj%09_%09SpaceAfter%3DNo%7CTranslit%3Dfather%0A11%09%E4%B8%8D%09%E4%B8%8D%09ADV%09v%2C%E5%89%AF%E8%A9%9E%2C%E5%90%A6%E5%AE%9A%2C%E7%84%A1%E7%95%8C%09Polarity%3DNeg%0912%09advmod%09_%09SpaceAfter%3DNo%7CTranslit%3Dnot%0A12%09%E5%BE%97%09%E5%BE%97%09AUX%09v%2C%E5%8A%A9%E5%8B%95%E8%A9%9E%2C%E5%8F%AF%E8%83%BD%2C%2A%09Mood%3DPot%0914%09aux%09_%09SpaceAfter%3DNo%7CTranslit%3Dmust%0A13%09%E8%80%8C%09%E8%80%8C%09CCONJ%09p%2C%E5%8A%A9%E8%A9%9E%2C%E6%8E%A5%E7%B6%9A%2C%E4%B8%A6%E5%88%97%09_%0912%09fixed%09_%09SpaceAfter%3DNo%7CTranslit%3Dand%0A14%09%E5%AD%90%09%E5%AD%90%09VERB%09v%2C%E5%8B%95%E8%A9%9E%2C%E8%A1%8C%E7%82%BA%2C%E5%BD%B9%E5%89%B2%09_%099%09parataxis%09_%09SpaceAfter%3DNo%7CTranslit%3Dchildlike%0A%0A\"\n",
       "            frameborder=\"0\"\n",
       "            allowfullscreen\n",
       "            style=\"background-color: white;\"\n",
       "        ></iframe>\n",
       "        "
      ],
      "text/plain": [
       "<IPython.lib.display.IFrame at 0x7f96427b68e0>"
      ]
     },
     "metadata": {},
     "output_type": "display_data"
    }
   ],
   "source": [
    "ex134 = nlp(\"盛德之士君不得而臣父不得而子\")\n",
    "serve(ex134, 250)"
   ]
  },
  {
   "cell_type": "code",
   "execution_count": 36,
   "metadata": {},
   "outputs": [
    {
     "name": "stderr",
     "output_type": "stream",
     "text": [
      "                                                   \r"
     ]
    },
    {
     "data": {
      "text/html": [
       "\n",
       "        <iframe\n",
       "            width=\"100%\"\n",
       "            height=\"450\"\n",
       "            src=\"https://koichiyasuoka.github.io/deplacy/deplacy/viewer.svg#1%09%E5%B1%85%09%E5%B1%85%09VERB%09v%2C%E5%8B%95%E8%A9%9E%2C%E8%A1%8C%E7%82%BA%2C%E5%8B%95%E4%BD%9C%09_%090%09ROOT%09_%09SpaceAfter%3DNo%7CTranslit%3Dsit-down%0A2%09%E4%B8%8B%09%E4%B8%8B%09NOUN%09n%2C%E5%90%8D%E8%A9%9E%2C%E5%9B%BA%E5%AE%9A%E7%89%A9%2C%E9%96%A2%E4%BF%82%09Case%3DLoc%093%09nmod%09_%09SpaceAfter%3DNo%7CTranslit%3Ddown%0A3%09%E4%BD%8D%09%E4%BD%8D%09NOUN%09n%2C%E5%90%8D%E8%A9%9E%2C%E5%88%B6%E5%BA%A6%2C%E5%A0%B4%09Case%3DLoc%091%09obj%09_%09SpaceAfter%3DNo%7CTranslit%3Drank%0A4%09%E8%80%8C%09%E8%80%8C%09CCONJ%09p%2C%E5%8A%A9%E8%A9%9E%2C%E6%8E%A5%E7%B6%9A%2C%E4%B8%A6%E5%88%97%09_%096%09cc%09_%09SpaceAfter%3DNo%7CTranslit%3Dand%0A5%09%E4%B8%8D%09%E4%B8%8D%09ADV%09v%2C%E5%89%AF%E8%A9%9E%2C%E5%90%A6%E5%AE%9A%2C%E7%84%A1%E7%95%8C%09Polarity%3DNeg%096%09advmod%09_%09SpaceAfter%3DNo%7CTranslit%3Dnot%0A6%09%E7%8D%B2%09%E7%8D%B2%09VERB%09v%2C%E5%8B%95%E8%A9%9E%2C%E8%A1%8C%E7%82%BA%2C%E5%BE%97%E5%A4%B1%09_%091%09conj%09_%09SpaceAfter%3DNo%7CTranslit%3Dcatch%0A7%09%E6%96%BC%09%E6%96%BC%09ADP%09v%2C%E5%89%8D%E7%BD%AE%E8%A9%9E%2C%E5%9F%BA%E7%9B%A4%2C%2A%09_%098%09case%09_%09SpaceAfter%3DNo%7CTranslit%3Dat%0A8%09%E4%B8%8A%09%E4%B8%8A%09NOUN%09n%2C%E5%90%8D%E8%A9%9E%2C%E5%9B%BA%E5%AE%9A%E7%89%A9%2C%E9%96%A2%E4%BF%82%09Case%3DLoc%096%09obl%3Almod%09_%09SpaceAfter%3DNo%7CTranslit%3Dup%0A%0A1%09%E6%B0%91%09%E6%B0%91%09NOUN%09n%2C%E5%90%8D%E8%A9%9E%2C%E4%BA%BA%2C%E4%BA%BA%09_%094%09nsubj%09_%09SpaceAfter%3DNo%7CTranslit%3Dpeople%0A2%09%E4%B8%8D%09%E4%B8%8D%09ADV%09v%2C%E5%89%AF%E8%A9%9E%2C%E5%90%A6%E5%AE%9A%2C%E7%84%A1%E7%95%8C%09Polarity%3DNeg%093%09advmod%09_%09SpaceAfter%3DNo%7CTranslit%3Dnot%0A3%09%E5%8F%AF%09%E5%8F%AF%09AUX%09v%2C%E5%8A%A9%E5%8B%95%E8%A9%9E%2C%E5%8F%AF%E8%83%BD%2C%2A%09Mood%3DPot%094%09aux%09_%09SpaceAfter%3DNo%7CTranslit%3Dpossible%0A4%09%E5%BE%97%09%E5%BE%97%09AUX%09v%2C%E5%8A%A9%E5%8B%95%E8%A9%9E%2C%E5%8F%AF%E8%83%BD%2C%2A%09Mood%3DPot%090%09ROOT%09_%09SpaceAfter%3DNo%7CTranslit%3Dmust%0A5%09%E8%80%8C%09%E8%80%8C%09CCONJ%09p%2C%E5%8A%A9%E8%A9%9E%2C%E6%8E%A5%E7%B6%9A%2C%E4%B8%A6%E5%88%97%09_%096%09cc%09_%09SpaceAfter%3DNo%7CTranslit%3Dand%0A6%09%E6%B2%BB%09%E6%B2%BB%09VERB%09v%2C%E5%8B%95%E8%A9%9E%2C%E8%A1%8C%E7%82%BA%2C%E5%8B%95%E4%BD%9C%09_%094%09conj%09_%09SpaceAfter%3DNo%7CTranslit%3Dgovern%0A7%09%E4%B9%9F%09%E4%B9%9F%09PART%09p%2C%E5%8A%A9%E8%A9%9E%2C%E5%8F%A5%E6%9C%AB%2C%2A%09_%094%09discourse%3Asp%09_%09SpaceAfter%3DNo%7CTranslit%3D%5Bfinal-particle%5D%0A%0A\"\n",
       "            frameborder=\"0\"\n",
       "            allowfullscreen\n",
       "            style=\"background-color: white;\"\n",
       "        ></iframe>\n",
       "        "
      ],
      "text/plain": [
       "<IPython.lib.display.IFrame at 0x7f9642779f10>"
      ]
     },
     "metadata": {},
     "output_type": "display_data"
    }
   ],
   "source": [
    "ex135 = nlp(\"居下位而不獲於上\\n民不可得而治也\")\n",
    "serve(ex135, 450)"
   ]
  },
  {
   "cell_type": "code",
   "execution_count": 37,
   "metadata": {},
   "outputs": [
    {
     "name": "stderr",
     "output_type": "stream",
     "text": [
      "                                                   \r"
     ]
    },
    {
     "data": {
      "text/html": [
       "\n",
       "        <iframe\n",
       "            width=\"100%\"\n",
       "            height=\"200\"\n",
       "            src=\"https://koichiyasuoka.github.io/deplacy/deplacy/viewer.svg#1%09%E5%8F%AF%09%E5%8F%AF%09AUX%09v%2C%E5%8A%A9%E5%8B%95%E8%A9%9E%2C%E5%8F%AF%E8%83%BD%2C%2A%09Mood%3DPot%093%09aux%09_%09SpaceAfter%3DNo%7CTranslit%3Dpossible%0A2%09%E5%BE%97%09%E5%BE%97%09AUX%09v%2C%E5%8A%A9%E5%8B%95%E8%A9%9E%2C%E5%8F%AF%E8%83%BD%2C%2A%09Mood%3DPot%093%09aux%09_%09SpaceAfter%3DNo%7CTranslit%3Dmust%0A3%09%E8%81%9E%09%E8%81%9E%09VERB%09v%2C%E5%8B%95%E8%A9%9E%2C%E8%A1%8C%E7%82%BA%2C%E4%BC%9D%E9%81%94%09_%090%09ROOT%09_%09SpaceAfter%3DNo%7CTranslit%3Dhear%0A4%09%E4%B9%8E%09%E4%B9%8E%09PART%09p%2C%E5%8A%A9%E8%A9%9E%2C%E5%8F%A5%E6%9C%AB%2C%2A%09_%093%09discourse%3Asp%09_%09SpaceAfter%3DNo%7CTranslit%3D%5BQ%5D%0A%0A\"\n",
       "            frameborder=\"0\"\n",
       "            allowfullscreen\n",
       "            style=\"background-color: white;\"\n",
       "        ></iframe>\n",
       "        "
      ],
      "text/plain": [
       "<IPython.lib.display.IFrame at 0x7f96ccd3fa90>"
      ]
     },
     "metadata": {},
     "output_type": "display_data"
    }
   ],
   "source": [
    "ex136 = nlp(\"可得聞乎\")\n",
    "serve(ex136)"
   ]
  },
  {
   "cell_type": "code",
   "execution_count": 38,
   "metadata": {},
   "outputs": [
    {
     "name": "stderr",
     "output_type": "stream",
     "text": [
      "                                                   \r"
     ]
    },
    {
     "data": {
      "text/html": [
       "\n",
       "        <iframe\n",
       "            width=\"100%\"\n",
       "            height=\"250\"\n",
       "            src=\"https://koichiyasuoka.github.io/deplacy/deplacy/viewer.svg#1%09%E6%AD%A4%09%E6%AD%A4%09PRON%09n%2C%E4%BB%A3%E5%90%8D%E8%A9%9E%2C%E6%8C%87%E7%A4%BA%2C%2A%09PronType%3DDem%092%09nsubj%09_%09SpaceAfter%3DNo%7CTranslit%3Dthis%0A2%09%E7%8E%87%09%E7%8E%87%09VERB%09v%2C%E5%8B%95%E8%A9%9E%2C%E8%A1%8C%E7%82%BA%2C%E5%8B%95%E4%BD%9C%09_%090%09ROOT%09_%09SpaceAfter%3DNo%7CTranslit%3Dlimit%0A3%09%E7%8D%B8%09%E7%8D%B8%09NOUN%09n%2C%E5%90%8D%E8%A9%9E%2C%E4%B8%BB%E4%BD%93%2C%E5%8B%95%E7%89%A9%09_%092%09obj%09_%09SpaceAfter%3DNo%7CTranslit%3Danimal%0A4%09%E8%80%8C%09%E8%80%8C%09CCONJ%09p%2C%E5%8A%A9%E8%A9%9E%2C%E6%8E%A5%E7%B6%9A%2C%E4%B8%A6%E5%88%97%09_%095%09cc%09_%09SpaceAfter%3DNo%7CTranslit%3Dand%0A5%09%E9%A3%9F%09%E9%A3%9F%09VERB%09v%2C%E5%8B%95%E8%A9%9E%2C%E8%A1%8C%E7%82%BA%2C%E9%A3%B2%E9%A3%9F%09_%092%09conj%09_%09SpaceAfter%3DNo%7CTranslit%3Dfeed%0A6%09%E4%BA%BA%09%E4%BA%BA%09NOUN%09n%2C%E5%90%8D%E8%A9%9E%2C%E4%BA%BA%2C%E4%BA%BA%09_%095%09obj%09_%09SpaceAfter%3DNo%7CTranslit%3Dperson%0A7%09%E4%B9%9F%09%E4%B9%9F%09PART%09p%2C%E5%8A%A9%E8%A9%9E%2C%E5%8F%A5%E6%9C%AB%2C%2A%09_%092%09discourse%3Asp%09_%09SpaceAfter%3DNo%7CTranslit%3D%5Bfinal-particle%5D%0A%0A\"\n",
       "            frameborder=\"0\"\n",
       "            allowfullscreen\n",
       "            style=\"background-color: white;\"\n",
       "        ></iframe>\n",
       "        "
      ],
      "text/plain": [
       "<IPython.lib.display.IFrame at 0x7f96427b6520>"
      ]
     },
     "metadata": {},
     "output_type": "display_data"
    }
   ],
   "source": [
    "ex137 = nlp(\"此率獸而食人也\")\n",
    "serve(ex137, 250)"
   ]
  },
  {
   "cell_type": "code",
   "execution_count": 39,
   "metadata": {},
   "outputs": [
    {
     "name": "stderr",
     "output_type": "stream",
     "text": [
      "                                                   \r"
     ]
    },
    {
     "data": {
      "text/html": [
       "\n",
       "        <iframe\n",
       "            width=\"100%\"\n",
       "            height=\"200\"\n",
       "            src=\"https://koichiyasuoka.github.io/deplacy/deplacy/viewer.svg#1%09%E7%84%B6%09%E7%84%B6%09VERB%09v%2C%E5%8B%95%E8%A9%9E%2C%E6%8F%8F%E5%86%99%2C%E6%85%8B%E5%BA%A6%09Degree%3DPos%093%09advmod%09_%09SpaceAfter%3DNo%7CTranslit%3Dlike-this%0A2%09%E5%BE%8C%09%E5%BE%8C%09NOUN%09n%2C%E5%90%8D%E8%A9%9E%2C%E6%99%82%2C%2A%09Case%3DTem%093%09obl%3Atmod%09_%09SpaceAfter%3DNo%7CTranslit%3Dafter%0A3%09%E9%A9%85%09%E9%A9%85%09VERB%09v%2C%E5%8B%95%E8%A9%9E%2C%E8%A1%8C%E7%82%BA%2C%E7%A7%BB%E5%8B%95%09_%090%09ROOT%09_%09SpaceAfter%3DNo%7CTranslit%3Ddrive-forward%0A4%09%E8%80%8C%09%E8%80%8C%09CCONJ%09p%2C%E5%8A%A9%E8%A9%9E%2C%E6%8E%A5%E7%B6%9A%2C%E4%B8%A6%E5%88%97%09_%095%09cc%09_%09SpaceAfter%3DNo%7CTranslit%3Dand%0A5%09%E4%B9%8B%09%E4%B9%8B%09VERB%09v%2C%E5%8B%95%E8%A9%9E%2C%E8%A1%8C%E7%82%BA%2C%E7%A7%BB%E5%8B%95%09_%093%09conj%09_%09SpaceAfter%3DNo%7CTranslit%3Dgo%0A6%09%E5%96%84%09%E5%96%84%09NOUN%09n%2C%E5%90%8D%E8%A9%9E%2C%E6%8F%8F%E5%86%99%2C%E6%85%8B%E5%BA%A6%09_%095%09obj%09_%09SpaceAfter%3DNo%7CTranslit%3Dgood%0A%0A\"\n",
       "            frameborder=\"0\"\n",
       "            allowfullscreen\n",
       "            style=\"background-color: white;\"\n",
       "        ></iframe>\n",
       "        "
      ],
      "text/plain": [
       "<IPython.lib.display.IFrame at 0x7f96427cf190>"
      ]
     },
     "metadata": {},
     "output_type": "display_data"
    }
   ],
   "source": [
    "ex138 = nlp(\"然後驅而之善\")\n",
    "serve(ex138)"
   ]
  },
  {
   "cell_type": "markdown",
   "metadata": {},
   "source": [
    "## 6. Coverbs"
   ]
  },
  {
   "cell_type": "markdown",
   "metadata": {},
   "source": [
    "### a. Transitive Verbs Corresponding to Prepositions"
   ]
  },
  {
   "cell_type": "markdown",
   "metadata": {},
   "source": [
    "#### i. Yi 以 : take, use; with, by means of"
   ]
  },
  {
   "cell_type": "code",
   "execution_count": 40,
   "metadata": {},
   "outputs": [
    {
     "name": "stderr",
     "output_type": "stream",
     "text": [
      "                                                   \r"
     ]
    },
    {
     "data": {
      "text/html": [
       "\n",
       "        <iframe\n",
       "            width=\"100%\"\n",
       "            height=\"250\"\n",
       "            src=\"https://koichiyasuoka.github.io/deplacy/deplacy/viewer.svg#1%09%E6%88%91%09%E6%88%91%09PRON%09n%2C%E4%BB%A3%E5%90%8D%E8%A9%9E%2C%E4%BA%BA%E7%A7%B0%2C%E6%AD%A2%E6%A0%BC%09Person%3D1%7CPronType%3DPrs%092%09nsubj%09_%09SpaceAfter%3DNo%7CTranslit%3D%5B1PRON%5D%0A2%09%E8%BE%AD%09%E8%BE%AD%09VERB%09v%2C%E5%8B%95%E8%A9%9E%2C%E8%A1%8C%E7%82%BA%2C%E5%8B%95%E4%BD%9C%09_%090%09ROOT%09_%09SpaceAfter%3DNo%7CTranslit%3Drefuse%0A3%09%E7%A6%AE%09%E7%A6%AE%09NOUN%09n%2C%E5%90%8D%E8%A9%9E%2C%E5%88%B6%E5%BA%A6%2C%E5%84%80%E7%A4%BC%09_%092%09obj%09_%09SpaceAfter%3DNo%7CTranslit%3Dceremony%0A4%09%E7%9F%A3%09%E7%9F%A3%09PART%09p%2C%E5%8A%A9%E8%A9%9E%2C%E5%8F%A5%E6%9C%AB%2C%2A%09_%092%09discourse%3Asp%09_%09SpaceAfter%3DNo%7CTranslit%3D%5BPFV%5D%0A5%09%E5%BD%BC%09%E5%BD%BC%09PRON%09n%2C%E4%BB%A3%E5%90%8D%E8%A9%9E%2C%E6%8C%87%E7%A4%BA%2C%2A%09PronType%3DDem%097%09nsubj%09_%09SpaceAfter%3DNo%7CTranslit%3Dthat%0A6%09%E5%89%87%09%E5%89%87%09ADV%09v%2C%E5%89%AF%E8%A9%9E%2C%E6%99%82%E7%9B%B8%2C%E7%B7%8A%E6%8E%A5%09AdvType%3DTim%097%09advmod%09_%09SpaceAfter%3DNo%7CTranslit%3Dthen%0A7%09%E4%BB%A5%09%E4%BB%A5%09VERB%09v%2C%E5%8B%95%E8%A9%9E%2C%E8%A1%8C%E7%82%BA%2C%E5%8B%95%E4%BD%9C%09_%092%09advcl%09_%09SpaceAfter%3DNo%7CTranslit%3Duse%0A8%09%E4%B9%8B%09%E4%B9%8B%09PRON%09n%2C%E4%BB%A3%E5%90%8D%E8%A9%9E%2C%E4%BA%BA%E7%A7%B0%2C%E6%AD%A2%E6%A0%BC%09Person%3D3%7CPronType%3DPrs%097%09obj%09_%09SpaceAfter%3DNo%7CTranslit%3D%5B3PRON%5D%0A%0A\"\n",
       "            frameborder=\"0\"\n",
       "            allowfullscreen\n",
       "            style=\"background-color: white;\"\n",
       "        ></iframe>\n",
       "        "
      ],
      "text/plain": [
       "<IPython.lib.display.IFrame at 0x7f96427b6d60>"
      ]
     },
     "metadata": {},
     "output_type": "display_data"
    }
   ],
   "source": [
    "ex139 = nlp(\"我辭禮矣彼則以之\")\n",
    "serve(ex139, 250)"
   ]
  },
  {
   "cell_type": "code",
   "execution_count": 41,
   "metadata": {},
   "outputs": [
    {
     "name": "stderr",
     "output_type": "stream",
     "text": [
      "                                                   \r"
     ]
    },
    {
     "data": {
      "text/html": [
       "\n",
       "        <iframe\n",
       "            width=\"100%\"\n",
       "            height=\"250\"\n",
       "            src=\"https://koichiyasuoka.github.io/deplacy/deplacy/viewer.svg#1%09%E9%86%92%09%E9%86%92%09VERB%09v%2C%E5%8B%95%E8%A9%9E%2C%E8%A1%8C%E7%82%BA%2C%E5%8B%95%E4%BD%9C%09_%090%09ROOT%09_%09SpaceAfter%3DNo%7CTranslit%3Dawake%0A2%09%E4%BB%A5%09%E4%BB%A5%09VERB%09v%2C%E5%8B%95%E8%A9%9E%2C%E8%A1%8C%E7%82%BA%2C%E5%8B%95%E4%BD%9C%09_%094%09advcl%09_%09SpaceAfter%3DNo%7CTranslit%3Duse%0A3%09%E6%88%88%09%E6%88%88%09NOUN%09n%2C%E5%90%8D%E8%A9%9E%2C%E5%8F%AF%E6%90%AC%2C%E9%81%93%E5%85%B7%09_%092%09obj%09_%09SpaceAfter%3DNo%7CTranslit%3Ddagger-axe%0A4%09%E9%80%90%09%E9%80%90%09VERB%09v%2C%E5%8B%95%E8%A9%9E%2C%E8%A1%8C%E7%82%BA%2C%E4%BA%A4%E6%B5%81%09_%091%09parataxis%09_%09SpaceAfter%3DNo%7CTranslit%3Dpursue%0A5%09%E5%AD%90%E7%8A%AF%09%E5%AD%90%E7%8A%AF%09PROPN%09n%2C%E5%90%8D%E8%A9%9E%2C%E4%BA%BA%2C%E5%90%8D%09NameType%3DGiv%094%09obj%09_%09SpaceAfter%3DNo%7CTranslit%3D%5Bgiven-name%5D%0A%0A\"\n",
       "            frameborder=\"0\"\n",
       "            allowfullscreen\n",
       "            style=\"background-color: white;\"\n",
       "        ></iframe>\n",
       "        "
      ],
      "text/plain": [
       "<IPython.lib.display.IFrame at 0x7f9642779ac0>"
      ]
     },
     "metadata": {},
     "output_type": "display_data"
    }
   ],
   "source": [
    "ex140 = nlp(\"醒以戈逐子犯\")\n",
    "serve(ex140, 250)"
   ]
  },
  {
   "cell_type": "code",
   "execution_count": 42,
   "metadata": {},
   "outputs": [
    {
     "name": "stderr",
     "output_type": "stream",
     "text": [
      "                                                   \r"
     ]
    },
    {
     "data": {
      "text/html": [
       "\n",
       "        <iframe\n",
       "            width=\"100%\"\n",
       "            height=\"200\"\n",
       "            src=\"https://koichiyasuoka.github.io/deplacy/deplacy/viewer.svg#1%09%E6%AE%BA%09%EF%A5%B0%09VERB%09v%2C%E5%8B%95%E8%A9%9E%2C%E8%A1%8C%E7%82%BA%2C%E5%8B%95%E4%BD%9C%09_%093%09csubj%09_%09SpaceAfter%3DNo%7CTranslit%3Dkill%0A2%09%E4%BA%BA%09%E4%BA%BA%09NOUN%09n%2C%E5%90%8D%E8%A9%9E%2C%E4%BA%BA%2C%E4%BA%BA%09_%091%09obj%09_%09SpaceAfter%3DNo%7CTranslit%3Dperson%0A3%09%E4%BB%A5%09%E4%BB%A5%09VERB%09v%2C%E5%8B%95%E8%A9%9E%2C%E8%A1%8C%E7%82%BA%2C%E5%8B%95%E4%BD%9C%09_%090%09ROOT%09_%09SpaceAfter%3DNo%7CTranslit%3Duse%0A4%09%E6%A2%83%09%E6%A2%83%09NOUN%09n%2C%E5%90%8D%E8%A9%9E%2C%E5%8F%AF%E6%90%AC%2C%E9%81%93%E5%85%B7%09_%093%09obj%09_%09SpaceAfter%3DNo%7CTranslit%3Dstick%0A%0A\"\n",
       "            frameborder=\"0\"\n",
       "            allowfullscreen\n",
       "            style=\"background-color: white;\"\n",
       "        ></iframe>\n",
       "        "
      ],
      "text/plain": [
       "<IPython.lib.display.IFrame at 0x7f96426174f0>"
      ]
     },
     "metadata": {},
     "output_type": "display_data"
    }
   ],
   "source": [
    "ex141 = nlp(\"殺人以梃\")\n",
    "serve(ex141)"
   ]
  },
  {
   "cell_type": "code",
   "execution_count": 43,
   "metadata": {},
   "outputs": [
    {
     "name": "stderr",
     "output_type": "stream",
     "text": [
      "                                                   \r"
     ]
    },
    {
     "data": {
      "text/html": [
       "\n",
       "        <iframe\n",
       "            width=\"100%\"\n",
       "            height=\"250\"\n",
       "            src=\"https://koichiyasuoka.github.io/deplacy/deplacy/viewer.svg#1%09%E4%BB%A5%09%E4%BB%A5%09VERB%09v%2C%E5%8B%95%E8%A9%9E%2C%E8%A1%8C%E7%82%BA%2C%E5%8B%95%E4%BD%9C%09_%094%09advcl%09_%09SpaceAfter%3DNo%7CTranslit%3Duse%0A2%09%E4%BA%94%E5%8D%81%09%E4%BA%94%E5%8D%81%09NUM%09n%2C%E6%95%B0%E8%A9%9E%2C%E6%95%B0%2C%2A%09_%091%09obj%09_%09SpaceAfter%3DNo%7CTranslit%3Dfifty%0A3%09%E6%AD%A5%09%E6%AD%A5%09NOUN%09n%2C%E5%90%8D%E8%A9%9E%2C%E5%BA%A6%E9%87%8F%E8%A1%A1%2C%2A%09NounType%3DClf%092%09clf%09_%09SpaceAfter%3DNo%7CTranslit%3Dpace%0A4%09%E7%AC%91%09%E7%AC%91%09VERB%09v%2C%E5%8B%95%E8%A9%9E%2C%E8%A1%8C%E7%82%BA%2C%E6%85%8B%E5%BA%A6%09_%099%09advcl%09_%09SpaceAfter%3DNo%7CTranslit%3Dlaugh%0A5%09%E7%99%BE%09%E7%99%BE%09NUM%09n%2C%E6%95%B0%E8%A9%9E%2C%E6%95%B0%E5%AD%97%2C%2A%09_%094%09obj%09_%09SpaceAfter%3DNo%7CTranslit%3Dhundred%0A6%09%E6%AD%A5%09%E6%AD%A5%09NOUN%09n%2C%E5%90%8D%E8%A9%9E%2C%E5%BA%A6%E9%87%8F%E8%A1%A1%2C%2A%09NounType%3DClf%095%09clf%09_%09SpaceAfter%3DNo%7CTranslit%3Dpace%0A7%09%E5%89%87%09%E5%89%87%09ADV%09v%2C%E5%89%AF%E8%A9%9E%2C%E6%99%82%E7%9B%B8%2C%E7%B7%8A%E6%8E%A5%09AdvType%3DTim%099%09advmod%09_%09SpaceAfter%3DNo%7CTranslit%3Dthen%0A8%09%E4%BD%95%09%E4%BD%95%09PRON%09n%2C%E4%BB%A3%E5%90%8D%E8%A9%9E%2C%E7%96%91%E5%95%8F%2C%2A%09PronType%3DInt%099%09obj%09_%09SpaceAfter%3DNo%7CTranslit%3Dwhat%0A9%09%E5%A6%82%09%E5%A6%82%09VERB%09v%2C%E5%8B%95%E8%A9%9E%2C%E8%A1%8C%E7%82%BA%2C%E5%88%86%E9%A1%9E%09Degree%3DEqu%090%09ROOT%09_%09SpaceAfter%3DNo%7CTranslit%3Dbe-like%0A%0A\"\n",
       "            frameborder=\"0\"\n",
       "            allowfullscreen\n",
       "            style=\"background-color: white;\"\n",
       "        ></iframe>\n",
       "        "
      ],
      "text/plain": [
       "<IPython.lib.display.IFrame at 0x7f96427b6be0>"
      ]
     },
     "metadata": {},
     "output_type": "display_data"
    }
   ],
   "source": [
    "ex142 = nlp(\"以五十步笑百步則何如\")\n",
    "serve(ex142, 250)"
   ]
  },
  {
   "cell_type": "code",
   "execution_count": 44,
   "metadata": {},
   "outputs": [
    {
     "name": "stderr",
     "output_type": "stream",
     "text": [
      "                                                   \r"
     ]
    },
    {
     "data": {
      "text/html": [
       "\n",
       "        <iframe\n",
       "            width=\"100%\"\n",
       "            height=\"250\"\n",
       "            src=\"https://koichiyasuoka.github.io/deplacy/deplacy/viewer.svg#1%09%E6%96%A7%09%E6%96%A7%09NOUN%09n%2C%E5%90%8D%E8%A9%9E%2C%E5%8F%AF%E6%90%AC%2C%E9%81%93%E5%85%B7%09_%095%09nsubj%09_%09SpaceAfter%3DNo%7CTranslit%3Daxe%0A2%09%E6%96%A4%09%E6%96%A4%09NOUN%09n%2C%E5%90%8D%E8%A9%9E%2C%E5%8F%AF%E6%90%AC%2C%E9%81%93%E5%85%B7%09_%091%09conj%09_%09SpaceAfter%3DNo%7CTranslit%3Daxe%0A3%09%E4%BB%A5%09%E4%BB%A5%09VERB%09v%2C%E5%8B%95%E8%A9%9E%2C%E8%A1%8C%E7%82%BA%2C%E5%8B%95%E4%BD%9C%09_%095%09advcl%09_%09SpaceAfter%3DNo%7CTranslit%3Duse%0A4%09%E6%99%82%09%E6%99%82%09NOUN%09n%2C%E5%90%8D%E8%A9%9E%2C%E6%99%82%2C%2A%09Case%3DTem%093%09obj%09_%09SpaceAfter%3DNo%7CTranslit%3Dtime%0A5%09%E5%85%A5%09%E5%85%A5%09VERB%09v%2C%E5%8B%95%E8%A9%9E%2C%E8%A1%8C%E7%82%BA%2C%E7%A7%BB%E5%8B%95%09_%090%09ROOT%09_%09SpaceAfter%3DNo%7CTranslit%3Denter%0A6%09%E5%B1%B1%09%E5%B1%B1%09NOUN%09n%2C%E5%90%8D%E8%A9%9E%2C%E5%9B%BA%E5%AE%9A%E7%89%A9%2C%E5%9C%B0%E5%BD%A2%09Case%3DLoc%095%09obj%09_%09SpaceAfter%3DNo%7CTranslit%3Dmountain%0A7%09%E6%9E%97%09%E6%9E%97%09NOUN%09n%2C%E5%90%8D%E8%A9%9E%2C%E5%9B%BA%E5%AE%9A%E7%89%A9%2C%E5%9C%B0%E5%BD%A2%09Case%3DLoc%096%09conj%09_%09SpaceAfter%3DNo%7CTranslit%3Dwoods%0A%0A\"\n",
       "            frameborder=\"0\"\n",
       "            allowfullscreen\n",
       "            style=\"background-color: white;\"\n",
       "        ></iframe>\n",
       "        "
      ],
      "text/plain": [
       "<IPython.lib.display.IFrame at 0x7f9642617220>"
      ]
     },
     "metadata": {},
     "output_type": "display_data"
    }
   ],
   "source": [
    "ex143 = nlp(\"斧斤以時入山林\")\n",
    "serve(ex143, 250)"
   ]
  },
  {
   "cell_type": "code",
   "execution_count": 45,
   "metadata": {},
   "outputs": [
    {
     "name": "stderr",
     "output_type": "stream",
     "text": [
      "                                                   \r"
     ]
    },
    {
     "data": {
      "text/html": [
       "\n",
       "        <iframe\n",
       "            width=\"100%\"\n",
       "            height=\"250\"\n",
       "            src=\"https://koichiyasuoka.github.io/deplacy/deplacy/viewer.svg#1%09%E4%BB%A5%09%E4%BB%A5%09VERB%09v%2C%E5%8B%95%E8%A9%9E%2C%E8%A1%8C%E7%82%BA%2C%E5%8B%95%E4%BD%9C%09_%098%09advcl%09_%09SpaceAfter%3DNo%7CTranslit%3Duse%0A2%09%E4%BD%8D%09%E4%BD%8D%09NOUN%09n%2C%E5%90%8D%E8%A9%9E%2C%E5%88%B6%E5%BA%A6%2C%E5%A0%B4%09Case%3DLoc%091%09obj%09_%09SpaceAfter%3DNo%7CTranslit%3Drank%0A3%09%E5%89%87%09%E5%89%87%09ADV%09v%2C%E5%89%AF%E8%A9%9E%2C%E6%99%82%E7%9B%B8%2C%E7%B7%8A%E6%8E%A5%09AdvType%3DTim%095%09advmod%09_%09SpaceAfter%3DNo%7CTranslit%3Dthen%0A4%09%E5%AD%90%09%E5%AD%90%09PRON%09n%2C%E4%BB%A3%E5%90%8D%E8%A9%9E%2C%E4%BA%BA%E7%A7%B0%2C%E4%BB%96%09Person%3D2%7CPronType%3DPrs%095%09nsubj%09_%09SpaceAfter%3DNo%7CTranslit%3D%5B2PRON%5D%0A5%09%E5%90%9B%09%E5%90%9B%09NOUN%09n%2C%E5%90%8D%E8%A9%9E%2C%E4%BA%BA%2C%E5%BD%B9%E5%89%B2%09_%098%09nsubj%09_%09SpaceAfter%3DNo%7CTranslit%3Druler%0A6%09%E4%B9%9F%09%E4%B9%9F%09PART%09p%2C%E5%8A%A9%E8%A9%9E%2C%E5%8F%A5%E6%9C%AB%2C%2A%09_%095%09discourse%3Asp%09_%09SpaceAfter%3DNo%7CTranslit%3D%5Bfinal-particle%5D%0A7%09%E6%88%91%09%E6%88%91%09PRON%09n%2C%E4%BB%A3%E5%90%8D%E8%A9%9E%2C%E4%BA%BA%E7%A7%B0%2C%E6%AD%A2%E6%A0%BC%09Person%3D1%7CPronType%3DPrs%098%09det%09_%09SpaceAfter%3DNo%7CTranslit%3D%5B1PRON%5D%0A8%09%E8%87%A3%09%E8%87%A3%09NOUN%09n%2C%E5%90%8D%E8%A9%9E%2C%E4%BA%BA%2C%E5%BD%B9%E5%89%B2%09_%090%09ROOT%09_%09SpaceAfter%3DNo%7CTranslit%3Dvassal%0A9%09%E4%B9%9F%09%E4%B9%9F%09PART%09p%2C%E5%8A%A9%E8%A9%9E%2C%E5%8F%A5%E6%9C%AB%2C%2A%09_%098%09discourse%3Asp%09_%09SpaceAfter%3DNo%7CTranslit%3D%5Bfinal-particle%5D%0A%0A\"\n",
       "            frameborder=\"0\"\n",
       "            allowfullscreen\n",
       "            style=\"background-color: white;\"\n",
       "        ></iframe>\n",
       "        "
      ],
      "text/plain": [
       "<IPython.lib.display.IFrame at 0x7f9642779b20>"
      ]
     },
     "metadata": {},
     "output_type": "display_data"
    }
   ],
   "source": [
    "ex144 = nlp(\"以位則子君也我臣也\")\n",
    "serve(ex144, 250)"
   ]
  },
  {
   "cell_type": "code",
   "execution_count": 46,
   "metadata": {},
   "outputs": [
    {
     "name": "stderr",
     "output_type": "stream",
     "text": [
      "                                                   \r"
     ]
    },
    {
     "data": {
      "text/html": [
       "\n",
       "        <iframe\n",
       "            width=\"100%\"\n",
       "            height=\"400\"\n",
       "            src=\"https://koichiyasuoka.github.io/deplacy/deplacy/viewer.svg#1%09%E5%85%A5%09%E5%85%A5%09VERB%09v%2C%E5%8B%95%E8%A9%9E%2C%E8%A1%8C%E7%82%BA%2C%E7%A7%BB%E5%8B%95%09_%090%09ROOT%09_%09SpaceAfter%3DNo%7CTranslit%3Denter%0A2%09%E4%BB%A5%09%E4%BB%A5%09VERB%09v%2C%E5%8B%95%E8%A9%9E%2C%E8%A1%8C%E7%82%BA%2C%E5%8B%95%E4%BD%9C%09_%093%09advmod%09_%09SpaceAfter%3DNo%7CTranslit%3Duse%0A3%09%E4%BA%8B%09%E4%BA%8B%09VERB%09v%2C%E5%8B%95%E8%A9%9E%2C%E8%A1%8C%E7%82%BA%2C%E4%BA%A4%E6%B5%81%09_%091%09parataxis%09_%09SpaceAfter%3DNo%7CTranslit%3Dserve%0A4%09%E5%85%B6%09%E5%85%B6%09PRON%09n%2C%E4%BB%A3%E5%90%8D%E8%A9%9E%2C%E4%BA%BA%E7%A7%B0%2C%E8%B5%B7%E6%A0%BC%09Person%3D3%7CPronType%3DPrs%095%09det%09_%09SpaceAfter%3DNo%7CTranslit%3D%5B3PRON%5D%0A5%09%E7%88%B6%09%E7%88%B6%09NOUN%09n%2C%E5%90%8D%E8%A9%9E%2C%E4%BA%BA%2C%E9%96%A2%E4%BF%82%09_%093%09obj%09_%09SpaceAfter%3DNo%7CTranslit%3Dfather%0A6%09%E5%85%84%09%E5%85%84%09NOUN%09n%2C%E5%90%8D%E8%A9%9E%2C%E4%BA%BA%2C%E9%96%A2%E4%BF%82%09_%095%09flat%09_%09SpaceAfter%3DNo%7CTranslit%3Delder-brother%0A%0A1%09%E5%87%BA%09%E5%87%BA%09VERB%09v%2C%E5%8B%95%E8%A9%9E%2C%E8%A1%8C%E7%82%BA%2C%E7%A7%BB%E5%8B%95%09_%090%09ROOT%09_%09SpaceAfter%3DNo%7CTranslit%3Dgo-out%0A2%09%E4%BB%A5%09%E4%BB%A5%09VERB%09v%2C%E5%8B%95%E8%A9%9E%2C%E8%A1%8C%E7%82%BA%2C%E5%8B%95%E4%BD%9C%09_%093%09advmod%09_%09SpaceAfter%3DNo%7CTranslit%3Duse%0A3%09%E4%BA%8B%09%E4%BA%8B%09VERB%09v%2C%E5%8B%95%E8%A9%9E%2C%E8%A1%8C%E7%82%BA%2C%E4%BA%A4%E6%B5%81%09_%091%09parataxis%09_%09SpaceAfter%3DNo%7CTranslit%3Dserve%0A4%09%E5%85%B6%09%E5%85%B6%09PRON%09n%2C%E4%BB%A3%E5%90%8D%E8%A9%9E%2C%E4%BA%BA%E7%A7%B0%2C%E8%B5%B7%E6%A0%BC%09Person%3D3%7CPronType%3DPrs%096%09det%09_%09SpaceAfter%3DNo%7CTranslit%3D%5B3PRON%5D%0A5%09%E9%95%B7%09%E9%95%B7%09VERB%09v%2C%E5%8B%95%E8%A9%9E%2C%E5%A4%89%E5%8C%96%2C%E7%94%9F%E7%89%A9%09_%096%09amod%09_%09SpaceAfter%3DNo%7CTranslit%3Dlong-last%0A6%09%E4%B8%8A%09%E4%B8%8A%09NOUN%09n%2C%E5%90%8D%E8%A9%9E%2C%E5%9B%BA%E5%AE%9A%E7%89%A9%2C%E9%96%A2%E4%BF%82%09Case%3DLoc%093%09obj%09_%09SpaceAfter%3DNo%7CTranslit%3Dup%0A%0A\"\n",
       "            frameborder=\"0\"\n",
       "            allowfullscreen\n",
       "            style=\"background-color: white;\"\n",
       "        ></iframe>\n",
       "        "
      ],
      "text/plain": [
       "<IPython.lib.display.IFrame at 0x7f9642779490>"
      ]
     },
     "metadata": {},
     "output_type": "display_data"
    }
   ],
   "source": [
    "ex145 = nlp(\"入以事其父兄\\n出以事其長上\")\n",
    "serve(ex145, 400)"
   ]
  },
  {
   "cell_type": "code",
   "execution_count": 47,
   "metadata": {},
   "outputs": [
    {
     "name": "stderr",
     "output_type": "stream",
     "text": [
      "                                                   \r"
     ]
    },
    {
     "data": {
      "text/html": [
       "\n",
       "        <iframe\n",
       "            width=\"100%\"\n",
       "            height=\"300\"\n",
       "            src=\"https://koichiyasuoka.github.io/deplacy/deplacy/viewer.svg#1%09%E5%8F%AF%09%E5%8F%AF%09AUX%09v%2C%E5%8A%A9%E5%8B%95%E8%A9%9E%2C%E5%8F%AF%E8%83%BD%2C%2A%09Mood%3DPot%092%09aux%09_%09SpaceAfter%3DNo%7CTranslit%3Dpossible%0A2%09%E4%BD%BF%09%E4%BD%BF%09VERB%09v%2C%E5%8B%95%E8%A9%9E%2C%E8%A1%8C%E7%82%BA%2C%E4%BD%BF%E5%BD%B9%09_%090%09ROOT%09_%09SpaceAfter%3DNo%7CTranslit%3D%5Bmake-to-do%5D%0A3%09%E5%88%B6%09%E5%88%B6%09VERB%09v%2C%E5%8B%95%E8%A9%9E%2C%E8%A1%8C%E7%82%BA%2C%E8%A8%AD%E7%BD%AE%09_%096%09advcl%09_%09SpaceAfter%3DNo%7CTranslit%3Dcut-out%0A4%09%E6%A2%83%09%E6%A2%83%09NOUN%09n%2C%E5%90%8D%E8%A9%9E%2C%E5%8F%AF%E6%90%AC%2C%E9%81%93%E5%85%B7%09_%093%09obj%09_%09SpaceAfter%3DNo%7CTranslit%3Dstick%0A5%09%E4%BB%A5%09%E4%BB%A5%09VERB%09v%2C%E5%8B%95%E8%A9%9E%2C%E8%A1%8C%E7%82%BA%2C%E5%8B%95%E4%BD%9C%09_%096%09advmod%09_%09SpaceAfter%3DNo%7CTranslit%3Duse%0A6%09%E6%92%BB%09%E6%92%BB%09VERB%09v%2C%E5%8B%95%E8%A9%9E%2C%E8%A1%8C%E7%82%BA%2C%E5%8B%95%E4%BD%9C%09_%092%09ccomp%09_%09SpaceAfter%3DNo%7CTranslit%3Dbeat%0A7%09%E7%A7%A6%09%E7%A7%A6%09PROPN%09n%2C%E5%90%8D%E8%A9%9E%2C%E4%B8%BB%E4%BD%93%2C%E5%9B%BD%E5%90%8D%09Case%3DLoc%7CNameType%3DNat%0911%09nmod%09_%09SpaceAfter%3DNo%7CTranslit%3D%5Bcountry-name%5D%0A8%09%E6%A5%9A%09%E6%A5%9A%09PROPN%09n%2C%E5%90%8D%E8%A9%9E%2C%E4%B8%BB%E4%BD%93%2C%E5%9B%BD%E5%90%8D%09Case%3DLoc%7CNameType%3DNat%097%09conj%09_%09SpaceAfter%3DNo%7CTranslit%3D%5Bcountry-name%5D%0A9%09%E4%B9%8B%09%E4%B9%8B%09SCONJ%09p%2C%E5%8A%A9%E8%A9%9E%2C%E6%8E%A5%E7%B6%9A%2C%E5%B1%9E%E6%A0%BC%09_%097%09case%09_%09SpaceAfter%3DNo%7CTranslit%3D%27s%0A10%09%E5%A0%85%09%E5%A0%85%09VERB%09v%2C%E5%8B%95%E8%A9%9E%2C%E6%8F%8F%E5%86%99%2C%E5%BD%A2%E8%B3%AA%09Degree%3DPos%0911%09amod%09_%09SpaceAfter%3DNo%7CTranslit%3Dhard%0A11%09%E7%94%B2%09%E7%94%B2%09NOUN%09n%2C%E5%90%8D%E8%A9%9E%2C%E5%8F%AF%E6%90%AC%2C%E9%81%93%E5%85%B7%09_%096%09obj%09_%09SpaceAfter%3DNo%7CTranslit%3Dshell%0A12%09%E5%88%A9%09%E5%88%A9%09VERB%09v%2C%E5%8B%95%E8%A9%9E%2C%E6%8F%8F%E5%86%99%2C%E5%BD%A2%E8%B3%AA%09Degree%3DPos%0913%09amod%09_%09SpaceAfter%3DNo%7CTranslit%3Dsharp%0A13%09%E5%85%B5%09%E5%85%B5%09NOUN%09n%2C%E5%90%8D%E8%A9%9E%2C%E4%BA%BA%2C%E5%BD%B9%E5%89%B2%09_%0911%09conj%09_%09SpaceAfter%3DNo%7CTranslit%3Dsoldier%0A14%09%E7%9F%A3%09%E7%9F%A3%09PART%09p%2C%E5%8A%A9%E8%A9%9E%2C%E5%8F%A5%E6%9C%AB%2C%2A%09_%092%09discourse%3Asp%09_%09SpaceAfter%3DNo%7CTranslit%3D%5BPFV%5D%0A%0A\"\n",
       "            frameborder=\"0\"\n",
       "            allowfullscreen\n",
       "            style=\"background-color: white;\"\n",
       "        ></iframe>\n",
       "        "
      ],
      "text/plain": [
       "<IPython.lib.display.IFrame at 0x7f9642779790>"
      ]
     },
     "metadata": {},
     "output_type": "display_data"
    }
   ],
   "source": [
    "ex146 = nlp(\"可使制梃以撻秦楚之堅甲利兵矣\")\n",
    "serve(ex146, 300)"
   ]
  },
  {
   "cell_type": "code",
   "execution_count": 48,
   "metadata": {},
   "outputs": [
    {
     "name": "stderr",
     "output_type": "stream",
     "text": [
      "                                                   \r"
     ]
    },
    {
     "data": {
      "text/html": [
       "\n",
       "        <iframe\n",
       "            width=\"100%\"\n",
       "            height=\"250\"\n",
       "            src=\"https://koichiyasuoka.github.io/deplacy/deplacy/viewer.svg#1%09%E5%90%A6%09%E5%90%A6%09VERB%09v%2C%E5%8B%95%E8%A9%9E%2C%E6%8F%8F%E5%86%99%2C%E6%85%8B%E5%BA%A6%09Degree%3DPos%093%09advmod%09_%09SpaceAfter%3DNo%7CTranslit%3Dnot-so%0A2%09%E8%87%AA%09%E8%87%AA%09ADP%09v%2C%E5%89%8D%E7%BD%AE%E8%A9%9E%2C%E7%B5%8C%E7%94%B1%2C%2A%09_%093%09mark%09_%09SpaceAfter%3DNo%7CTranslit%3Dfrom%0A3%09%E7%94%9F%09%E7%94%9F%09VERB%09v%2C%E5%8B%95%E8%A9%9E%2C%E5%A4%89%E5%8C%96%2C%E7%94%9F%E7%89%A9%09_%098%09advcl%09_%09SpaceAfter%3DNo%7CTranslit%3Dalive%0A4%09%E6%B0%91%09%E6%B0%91%09NOUN%09n%2C%E5%90%8D%E8%A9%9E%2C%E4%BA%BA%2C%E4%BA%BA%09_%093%09obj%09_%09SpaceAfter%3DNo%7CTranslit%3Dpeople%0A5%09%E4%BB%A5%09%E4%BB%A5%09VERB%09v%2C%E5%8B%95%E8%A9%9E%2C%E8%A1%8C%E7%82%BA%2C%E5%8B%95%E4%BD%9C%09_%093%09advmod%09_%09SpaceAfter%3DNo%7CTranslit%3Duse%0A6%09%E4%BE%86%09%E4%BE%86%09VERB%09v%2C%E5%8B%95%E8%A9%9E%2C%E8%A1%8C%E7%82%BA%2C%E7%A7%BB%E5%8B%95%09_%095%09flat%3Avv%09_%09SpaceAfter%3DNo%7CTranslit%3Dcome%0A7%09%E6%9C%AA%09%E6%9C%AA%09ADV%09v%2C%E5%89%AF%E8%A9%9E%2C%E5%90%A6%E5%AE%9A%2C%E6%9C%89%E7%95%8C%09Polarity%3DNeg%098%09advmod%09_%09SpaceAfter%3DNo%7CTranslit%3Dnot-yet%0A8%09%E6%9C%89%09%E6%9C%89%09VERB%09v%2C%E5%8B%95%E8%A9%9E%2C%E5%AD%98%E5%9C%A8%2C%E5%AD%98%E5%9C%A8%09_%090%09ROOT%09_%09SpaceAfter%3DNo%7CTranslit%3Dhave%0A9%09%E5%AD%94%E5%AD%90%09%E5%AD%94%E5%AD%90%09PROPN%09n%2C%E5%90%8D%E8%A9%9E%2C%E4%BA%BA%2C%E8%A4%87%E5%90%88%E7%9A%84%E4%BA%BA%E5%90%8D%09NameType%3DPrs%098%09obj%09_%09SpaceAfter%3DNo%7CTranslit%3DConfucius%0A10%09%E4%B9%9F%09%E4%B9%9F%09PART%09p%2C%E5%8A%A9%E8%A9%9E%2C%E5%8F%A5%E6%9C%AB%2C%2A%09_%098%09discourse%3Asp%09_%09SpaceAfter%3DNo%7CTranslit%3D%5Bfinal-particle%5D%0A%0A\"\n",
       "            frameborder=\"0\"\n",
       "            allowfullscreen\n",
       "            style=\"background-color: white;\"\n",
       "        ></iframe>\n",
       "        "
      ],
      "text/plain": [
       "<IPython.lib.display.IFrame at 0x7f9642617340>"
      ]
     },
     "metadata": {},
     "output_type": "display_data"
    }
   ],
   "source": [
    "ex147 = nlp(\"否自生民以來未有孔子也\")\n",
    "serve(ex147, 250)"
   ]
  },
  {
   "cell_type": "code",
   "execution_count": 49,
   "metadata": {},
   "outputs": [
    {
     "name": "stderr",
     "output_type": "stream",
     "text": [
      "                                                   \r"
     ]
    },
    {
     "data": {
      "text/html": [
       "\n",
       "        <iframe\n",
       "            width=\"100%\"\n",
       "            height=\"200\"\n",
       "            src=\"https://koichiyasuoka.github.io/deplacy/deplacy/viewer.svg#1%09%E5%8D%BF%09%E5%8D%BF%09NOUN%09n%2C%E5%90%8D%E8%A9%9E%2C%E4%BA%BA%2C%E5%BD%B9%E5%89%B2%09_%095%09nsubj%09_%09SpaceAfter%3DNo%7CTranslit%3Dminister%0A2%09%E4%BB%A5%09%E4%BB%A5%09VERB%09v%2C%E5%8B%95%E8%A9%9E%2C%E8%A1%8C%E7%82%BA%2C%E5%8B%95%E4%BD%9C%09_%091%09acl%09_%09SpaceAfter%3DNo%7CTranslit%3Duse%0A3%09%E4%B8%8B%09%E4%B8%8B%09NOUN%09n%2C%E5%90%8D%E8%A9%9E%2C%E5%9B%BA%E5%AE%9A%E7%89%A9%2C%E9%96%A2%E4%BF%82%09Case%3DLoc%092%09obj%09_%09SpaceAfter%3DNo%7CTranslit%3Ddown%0A4%09%E5%BF%85%09%E5%BF%85%09ADV%09v%2C%E5%89%AF%E8%A9%9E%2C%E5%88%A4%E6%96%AD%2C%E7%A2%BA%E5%AE%9A%09_%095%09advmod%09_%09SpaceAfter%3DNo%7CTranslit%3Dnecessarily%0A5%09%E6%9C%89%09%E6%9C%89%09VERB%09v%2C%E5%8B%95%E8%A9%9E%2C%E5%AD%98%E5%9C%A8%2C%E5%AD%98%E5%9C%A8%09_%090%09ROOT%09_%09SpaceAfter%3DNo%7CTranslit%3Dhave%0A6%09%E5%9C%AD%09%E5%9C%AD%09NOUN%09n%2C%E5%90%8D%E8%A9%9E%2C%E5%8F%AF%E6%90%AC%2C%E9%81%93%E5%85%B7%09_%097%09nmod%09_%09SpaceAfter%3DNo%7CTranslit%3Dsceptre%0A7%09%E7%94%B0%09%E7%94%B0%09NOUN%09n%2C%E5%90%8D%E8%A9%9E%2C%E5%9B%BA%E5%AE%9A%E7%89%A9%2C%E5%9C%B0%E5%BD%A2%09Case%3DLoc%095%09obj%09_%09SpaceAfter%3DNo%7CTranslit%3Dcultivated-field%0A%0A\"\n",
       "            frameborder=\"0\"\n",
       "            allowfullscreen\n",
       "            style=\"background-color: white;\"\n",
       "        ></iframe>\n",
       "        "
      ],
      "text/plain": [
       "<IPython.lib.display.IFrame at 0x7f9642617f70>"
      ]
     },
     "metadata": {},
     "output_type": "display_data"
    }
   ],
   "source": [
    "ex148 = nlp(\"卿以下必有圭田\")\n",
    "serve(ex148)"
   ]
  },
  {
   "cell_type": "code",
   "execution_count": 50,
   "metadata": {},
   "outputs": [
    {
     "name": "stderr",
     "output_type": "stream",
     "text": [
      "                                                   \r"
     ]
    },
    {
     "data": {
      "text/html": [
       "\n",
       "        <iframe\n",
       "            width=\"100%\"\n",
       "            height=\"250\"\n",
       "            src=\"https://koichiyasuoka.github.io/deplacy/deplacy/viewer.svg#1%09%E4%BA%A6%09%E4%BA%A6%09ADV%09v%2C%E5%89%AF%E8%A9%9E%2C%E9%A0%BB%E5%BA%A6%2C%E9%87%8D%E8%A4%87%09_%093%09advmod%09_%09SpaceAfter%3DNo%7CTranslit%3Dalso%0A2%09%E5%B0%87%09%E5%B0%87%09ADV%09v%2C%E5%89%AF%E8%A9%9E%2C%E6%99%82%E7%9B%B8%2C%E5%B0%86%E6%9D%A5%09AdvType%3DTim%7CTense%3DFut%093%09advmod%09_%09SpaceAfter%3DNo%7CTranslit%3Dabout-to%0A3%09%E6%9C%89%09%E6%9C%89%09VERB%09v%2C%E5%8B%95%E8%A9%9E%2C%E5%AD%98%E5%9C%A8%2C%E5%AD%98%E5%9C%A8%09_%090%09ROOT%09_%09SpaceAfter%3DNo%7CTranslit%3Dhave%0A4%09%E4%BB%A5%09%E4%BB%A5%09VERB%09v%2C%E5%8B%95%E8%A9%9E%2C%E8%A1%8C%E7%82%BA%2C%E5%8B%95%E4%BD%9C%09_%095%09advmod%09_%09SpaceAfter%3DNo%7CTranslit%3Duse%0A5%09%E5%88%A9%09%E5%88%A9%09VERB%09v%2C%E5%8B%95%E8%A9%9E%2C%E8%A1%8C%E7%82%BA%2C%E5%BE%97%E5%A4%B1%09_%093%09ccomp%09_%09SpaceAfter%3DNo%7CTranslit%3Dprofit%0A6%09%E5%90%BE%09%E5%90%BE%09PRON%09n%2C%E4%BB%A3%E5%90%8D%E8%A9%9E%2C%E4%BA%BA%E7%A7%B0%2C%E8%B5%B7%E6%A0%BC%09Person%3D1%7CPronType%3DPrs%097%09det%09_%09SpaceAfter%3DNo%7CTranslit%3D%5B1PRON%5D%0A7%09%E5%9C%8B%09%E5%9C%8B%09NOUN%09n%2C%E5%90%8D%E8%A9%9E%2C%E4%B8%BB%E4%BD%93%2C%E9%9B%86%E5%9B%A3%09_%095%09obj%09_%09SpaceAfter%3DNo%7CTranslit%3Dcountry%0A8%09%E4%B9%8E%09%E4%B9%8E%09PART%09p%2C%E5%8A%A9%E8%A9%9E%2C%E5%8F%A5%E6%9C%AB%2C%2A%09_%093%09discourse%3Asp%09_%09SpaceAfter%3DNo%7CTranslit%3D%5BQ%5D%0A%0A\"\n",
       "            frameborder=\"0\"\n",
       "            allowfullscreen\n",
       "            style=\"background-color: white;\"\n",
       "        ></iframe>\n",
       "        "
      ],
      "text/plain": [
       "<IPython.lib.display.IFrame at 0x7f9642617640>"
      ]
     },
     "metadata": {},
     "output_type": "display_data"
    }
   ],
   "source": [
    "ex149 = nlp(\"亦將有以利吾國乎\")\n",
    "serve(ex149, 250)"
   ]
  },
  {
   "cell_type": "code",
   "execution_count": 51,
   "metadata": {},
   "outputs": [
    {
     "name": "stderr",
     "output_type": "stream",
     "text": [
      "                                                   \r"
     ]
    },
    {
     "data": {
      "text/html": [
       "\n",
       "        <iframe\n",
       "            width=\"100%\"\n",
       "            height=\"250\"\n",
       "            src=\"https://koichiyasuoka.github.io/deplacy/deplacy/viewer.svg#1%09%E7%99%BE%09%E7%99%BE%09NUM%09n%2C%E6%95%B0%E8%A9%9E%2C%E6%95%B0%E5%AD%97%2C%2A%09_%092%09compound%09_%09SpaceAfter%3DNo%7CTranslit%3Dhundred%0A2%09%E5%A7%93%09%E5%A7%93%09NOUN%09n%2C%E5%90%8D%E8%A9%9E%2C%E4%BA%BA%2C%E4%BA%BA%09_%096%09nsubj%09_%09SpaceAfter%3DNo%7CTranslit%3Dpeople%0A3%09%E7%9A%86%09%E7%9A%86%09ADV%09v%2C%E5%89%AF%E8%A9%9E%2C%E7%AF%84%E5%9B%B2%2C%E7%B7%8F%E6%8B%AC%09_%094%09advmod%09_%09SpaceAfter%3DNo%7CTranslit%3Dall%0A4%09%E4%BB%A5%09%E4%BB%A5%09VERB%09v%2C%E5%8B%95%E8%A9%9E%2C%E8%A1%8C%E7%82%BA%2C%E5%8B%95%E4%BD%9C%09_%096%09advcl%09_%09SpaceAfter%3DNo%7CTranslit%3Duse%0A5%09%E7%8E%8B%09%E7%8E%8B%09NOUN%09n%2C%E5%90%8D%E8%A9%9E%2C%E4%BA%BA%2C%E5%BD%B9%E5%89%B2%09_%094%09obj%09_%09SpaceAfter%3DNo%7CTranslit%3Dking%0A6%09%E7%82%BA%09%E7%88%B2%09VERB%09v%2C%E5%8B%95%E8%A9%9E%2C%E8%A1%8C%E7%82%BA%2C%E7%94%9F%E7%94%A3%09_%090%09ROOT%09_%09SpaceAfter%3DNo%7CTranslit%3Dmake%0A7%09%E6%84%9B%09%E6%84%9B%09NOUN%09n%2C%E5%90%8D%E8%A9%9E%2C%E8%A1%8C%E7%82%BA%2C%2A%09_%096%09obj%09_%09SpaceAfter%3DNo%7CTranslit%3Dlove%0A8%09%E4%B9%9F%09%E4%B9%9F%09PART%09p%2C%E5%8A%A9%E8%A9%9E%2C%E5%8F%A5%E6%9C%AB%2C%2A%09_%096%09discourse%3Asp%09_%09SpaceAfter%3DNo%7CTranslit%3D%5Bfinal-particle%5D%0A%0A\"\n",
       "            frameborder=\"0\"\n",
       "            allowfullscreen\n",
       "            style=\"background-color: white;\"\n",
       "        ></iframe>\n",
       "        "
      ],
      "text/plain": [
       "<IPython.lib.display.IFrame at 0x7f96427791f0>"
      ]
     },
     "metadata": {},
     "output_type": "display_data"
    }
   ],
   "source": [
    "ex150 = nlp(\"百姓皆以王為愛也\")\n",
    "serve(ex150, 250)"
   ]
  },
  {
   "cell_type": "code",
   "execution_count": 52,
   "metadata": {},
   "outputs": [
    {
     "name": "stderr",
     "output_type": "stream",
     "text": [
      "                                                   \r"
     ]
    },
    {
     "data": {
      "text/html": [
       "\n",
       "        <iframe\n",
       "            width=\"100%\"\n",
       "            height=\"250\"\n",
       "            src=\"https://koichiyasuoka.github.io/deplacy/deplacy/viewer.svg#1%09%E6%B0%91%09%E6%B0%91%09NOUN%09n%2C%E5%90%8D%E8%A9%9E%2C%E4%BA%BA%2C%E4%BA%BA%09_%094%09nsubj%09_%09SpaceAfter%3DNo%7CTranslit%3Dpeople%0A2%09%E7%8C%B6%09%E7%8C%B6%09ADV%09v%2C%E5%89%AF%E8%A9%9E%2C%E9%A0%BB%E5%BA%A6%2C%E9%87%8D%E8%A4%87%09_%094%09advmod%09_%09SpaceAfter%3DNo%7CTranslit%3Dyet%0A3%09%E4%BB%A5%09%E4%BB%A5%09VERB%09v%2C%E5%8B%95%E8%A9%9E%2C%E8%A1%8C%E7%82%BA%2C%E5%8B%95%E4%BD%9C%09_%094%09advmod%09_%09SpaceAfter%3DNo%7CTranslit%3Duse%0A4%09%E7%82%BA%09%E7%88%B2%09VERB%09v%2C%E5%8B%95%E8%A9%9E%2C%E8%A1%8C%E7%82%BA%2C%E7%94%9F%E7%94%A3%09_%090%09ROOT%09_%09SpaceAfter%3DNo%7CTranslit%3Dmake%0A5%09%E5%B0%8F%09%E5%B0%8F%09NOUN%09n%2C%E5%90%8D%E8%A9%9E%2C%E6%8F%8F%E5%86%99%2C%E5%BD%A2%E8%B3%AA%09_%094%09obj%09_%09SpaceAfter%3DNo%7CTranslit%3Dsmall%0A6%09%E4%B9%9F%09%E4%B9%9F%09PART%09p%2C%E5%8A%A9%E8%A9%9E%2C%E5%8F%A5%E6%9C%AB%2C%2A%09_%094%09discourse%3Asp%09_%09SpaceAfter%3DNo%7CTranslit%3D%5Bfinal-particle%5D%0A%0A\"\n",
       "            frameborder=\"0\"\n",
       "            allowfullscreen\n",
       "            style=\"background-color: white;\"\n",
       "        ></iframe>\n",
       "        "
      ],
      "text/plain": [
       "<IPython.lib.display.IFrame at 0x7f9642617280>"
      ]
     },
     "metadata": {},
     "output_type": "display_data"
    }
   ],
   "source": [
    "ex151 = nlp(\"民猶以為小也\")\n",
    "serve(ex151, 250)"
   ]
  },
  {
   "cell_type": "markdown",
   "metadata": {},
   "source": [
    "#### ii. Yong 用 : use; with"
   ]
  },
  {
   "cell_type": "markdown",
   "metadata": {},
   "source": [
    "#### iii. Yu 與 : accompany; give; with; and"
   ]
  },
  {
   "cell_type": "code",
   "execution_count": 53,
   "metadata": {},
   "outputs": [
    {
     "name": "stderr",
     "output_type": "stream",
     "text": [
      "                                                   \r"
     ]
    },
    {
     "data": {
      "text/html": [
       "\n",
       "        <iframe\n",
       "            width=\"100%\"\n",
       "            height=\"200\"\n",
       "            src=\"https://koichiyasuoka.github.io/deplacy/deplacy/viewer.svg#1%09%E6%AD%A3%09%E6%AD%A3%09VERB%09v%2C%E5%8B%95%E8%A9%9E%2C%E6%8F%8F%E5%86%99%2C%E5%BD%A2%E8%B3%AA%09Degree%3DPos%094%09obj%09_%09SpaceAfter%3DNo%7CTranslit%3Dcorrect%0A2%09%E7%9B%B4%09%E7%9B%B4%09VERB%09v%2C%E5%8B%95%E8%A9%9E%2C%E6%8F%8F%E5%86%99%2C%E5%BD%A2%E8%B3%AA%09Degree%3DPos%091%09flat%3Avv%09_%09SpaceAfter%3DNo%7CTranslit%3Dstraight%0A3%09%E6%98%AF%09%E6%98%AF%09PRON%09n%2C%E4%BB%A3%E5%90%8D%E8%A9%9E%2C%E6%8C%87%E7%A4%BA%2C%2A%09PronType%3DDem%094%09expl%09_%09SpaceAfter%3DNo%7CTranslit%3Dthis%0A4%09%E8%88%87%09%E8%88%87%09VERB%09v%2C%E5%8B%95%E8%A9%9E%2C%E8%A1%8C%E7%82%BA%2C%E4%BA%A4%E6%B5%81%09_%090%09ROOT%09_%09SpaceAfter%3DNo%7CTranslit%3Dparticipate%0A%0A\"\n",
       "            frameborder=\"0\"\n",
       "            allowfullscreen\n",
       "            style=\"background-color: white;\"\n",
       "        ></iframe>\n",
       "        "
      ],
      "text/plain": [
       "<IPython.lib.display.IFrame at 0x7f9642617cd0>"
      ]
     },
     "metadata": {},
     "output_type": "display_data"
    }
   ],
   "source": [
    "ex152 = nlp(\"正直是與\")\n",
    "serve(ex152)"
   ]
  },
  {
   "cell_type": "code",
   "execution_count": 54,
   "metadata": {},
   "outputs": [
    {
     "name": "stderr",
     "output_type": "stream",
     "text": [
      "                                                   \r"
     ]
    },
    {
     "data": {
      "text/html": [
       "\n",
       "        <iframe\n",
       "            width=\"100%\"\n",
       "            height=\"250\"\n",
       "            src=\"https://koichiyasuoka.github.io/deplacy/deplacy/viewer.svg#1%09%E7%84%A1%09%E7%84%A1%09VERB%09v%2C%E5%8B%95%E8%A9%9E%2C%E5%AD%98%E5%9C%A8%2C%E5%AD%98%E5%9C%A8%09Polarity%3DNeg%098%09advcl%09_%09SpaceAfter%3DNo%7CTranslit%3Dnot-have%0A2%09%E7%9C%BE%09%E8%A1%86%09NOUN%09n%2C%E5%90%8D%E8%A9%9E%2C%E4%BA%BA%2C%E5%BD%B9%E5%89%B2%09_%091%09obj%09_%09SpaceAfter%3DNo%7CTranslit%3Dmultitude%0A3%09%E8%80%8C%09%E8%80%8C%09CCONJ%09p%2C%E5%8A%A9%E8%A9%9E%2C%E6%8E%A5%E7%B6%9A%2C%E4%B8%A6%E5%88%97%09_%095%09cc%09_%09SpaceAfter%3DNo%7CTranslit%3Dand%0A4%09%E5%BE%8C%09%E5%BE%8C%09NOUN%09n%2C%E5%90%8D%E8%A9%9E%2C%E6%99%82%2C%2A%09Case%3DTem%095%09obl%3Atmod%09_%09SpaceAfter%3DNo%7CTranslit%3Dafter%0A5%09%E4%BC%90%09%E4%BC%90%09VERB%09v%2C%E5%8B%95%E8%A9%9E%2C%E8%A1%8C%E7%82%BA%2C%E4%BA%A4%E6%B5%81%09_%091%09conj%09_%09SpaceAfter%3DNo%7CTranslit%3Dhew%0A6%09%E4%B9%8B%09%E4%B9%8B%09PRON%09n%2C%E4%BB%A3%E5%90%8D%E8%A9%9E%2C%E4%BA%BA%E7%A7%B0%2C%E6%AD%A2%E6%A0%BC%09Person%3D3%7CPronType%3DPrs%095%09obj%09_%09SpaceAfter%3DNo%7CTranslit%3D%5B3PRON%5D%0A7%09%E6%AC%B2%09%E6%AC%B2%09AUX%09v%2C%E5%8A%A9%E5%8B%95%E8%A9%9E%2C%E9%A1%98%E6%9C%9B%2C%2A%09Mood%3DDes%098%09aux%09_%09SpaceAfter%3DNo%7CTranslit%3Dwish%0A8%09%E7%A6%A6%09%E7%A6%A6%09VERB%09v%2C%E5%8B%95%E8%A9%9E%2C%E8%A1%8C%E7%82%BA%2C%E5%8B%95%E4%BD%9C%09_%090%09ROOT%09_%09SpaceAfter%3DNo%7CTranslit%3Dward-off%0A9%09%E6%88%91%09%E6%88%91%09PRON%09n%2C%E4%BB%A3%E5%90%8D%E8%A9%9E%2C%E4%BA%BA%E7%A7%B0%2C%E6%AD%A2%E6%A0%BC%09Person%3D1%7CPronType%3DPrs%098%09obj%09_%09SpaceAfter%3DNo%7CTranslit%3D%5B1PRON%5D%0A10%09%E8%AA%B0%09%E8%AA%B0%09PRON%09n%2C%E4%BB%A3%E5%90%8D%E8%A9%9E%2C%E7%96%91%E5%95%8F%2C%2A%09PronType%3DInt%098%09obj%09_%09SpaceAfter%3DNo%7CTranslit%3Dwho%0A11%09%E8%88%87%09%E8%88%87%09ADP%09v%2C%E5%89%8D%E7%BD%AE%E8%A9%9E%2C%E9%96%A2%E4%BF%82%2C%2A%09_%0910%09discourse%3Asp%09_%09SpaceAfter%3DNo%7CTranslit%3Dassociate-with%0A%0A\"\n",
       "            frameborder=\"0\"\n",
       "            allowfullscreen\n",
       "            style=\"background-color: white;\"\n",
       "        ></iframe>\n",
       "        "
      ],
      "text/plain": [
       "<IPython.lib.display.IFrame at 0x7f96427b6e50>"
      ]
     },
     "metadata": {},
     "output_type": "display_data"
    }
   ],
   "source": [
    "ex153 = nlp(\"無眾而後伐之欲禦我誰與\")\n",
    "serve(ex153, 250)"
   ]
  },
  {
   "cell_type": "code",
   "execution_count": 55,
   "metadata": {},
   "outputs": [
    {
     "name": "stderr",
     "output_type": "stream",
     "text": [
      "                                                   \r"
     ]
    },
    {
     "data": {
      "text/html": [
       "\n",
       "        <iframe\n",
       "            width=\"100%\"\n",
       "            height=\"250\"\n",
       "            src=\"https://koichiyasuoka.github.io/deplacy/deplacy/viewer.svg#1%09%E5%8F%A4%09%E5%8F%A4%09NOUN%09n%2C%E5%90%8D%E8%A9%9E%2C%E6%99%82%2C%2A%09Case%3DTem%093%09nmod%09_%09SpaceAfter%3DNo%7CTranslit%3Dolden-times%0A2%09%E4%B9%8B%09%E4%B9%8B%09SCONJ%09p%2C%E5%8A%A9%E8%A9%9E%2C%E6%8E%A5%E7%B6%9A%2C%E5%B1%9E%E6%A0%BC%09_%091%09case%09_%09SpaceAfter%3DNo%7CTranslit%3D%27s%0A3%09%E4%BA%BA%09%E4%BA%BA%09NOUN%09n%2C%E5%90%8D%E8%A9%9E%2C%E4%BA%BA%2C%E4%BA%BA%09_%097%09nsubj%09_%09SpaceAfter%3DNo%7CTranslit%3Dperson%0A4%09%E8%88%87%09%E8%88%87%09ADP%09v%2C%E5%89%8D%E7%BD%AE%E8%A9%9E%2C%E9%96%A2%E4%BF%82%2C%2A%09_%095%09case%09_%09SpaceAfter%3DNo%7CTranslit%3Dassociate-with%0A5%09%E6%B0%91%09%E6%B0%91%09NOUN%09n%2C%E5%90%8D%E8%A9%9E%2C%E4%BA%BA%2C%E4%BA%BA%09_%097%09obl%09_%09SpaceAfter%3DNo%7CTranslit%3Dpeople%0A6%09%E5%81%95%09%E5%81%95%09ADV%09v%2C%E5%89%AF%E8%A9%9E%2C%E7%AF%84%E5%9B%B2%2C%E5%85%B1%E5%90%8C%09_%097%09advmod%09_%09SpaceAfter%3DNo%7CTranslit%3Dtogether%0A7%09%E6%A8%82%09%E6%A8%82%09VERB%09v%2C%E5%8B%95%E8%A9%9E%2C%E8%A1%8C%E7%82%BA%2C%E6%85%8B%E5%BA%A6%09_%090%09ROOT%09_%09SpaceAfter%3DNo%7CTranslit%3Denjoy%0A%0A\"\n",
       "            frameborder=\"0\"\n",
       "            allowfullscreen\n",
       "            style=\"background-color: white;\"\n",
       "        ></iframe>\n",
       "        "
      ],
      "text/plain": [
       "<IPython.lib.display.IFrame at 0x7f9642617910>"
      ]
     },
     "metadata": {},
     "output_type": "display_data"
    }
   ],
   "source": [
    "ex154 = nlp(\"古之人與民偕樂\")\n",
    "serve(ex154, 250)"
   ]
  },
  {
   "cell_type": "code",
   "execution_count": 56,
   "metadata": {},
   "outputs": [
    {
     "name": "stderr",
     "output_type": "stream",
     "text": [
      "                                                   \r"
     ]
    },
    {
     "data": {
      "text/html": [
       "\n",
       "        <iframe\n",
       "            width=\"100%\"\n",
       "            height=\"250\"\n",
       "            src=\"https://koichiyasuoka.github.io/deplacy/deplacy/viewer.svg#1%09%E4%B8%8D%09%E4%B8%8D%09ADV%09v%2C%E5%89%AF%E8%A9%9E%2C%E5%90%A6%E5%AE%9A%2C%E7%84%A1%E7%95%8C%09Polarity%3DNeg%095%09advmod%09_%09SpaceAfter%3DNo%7CTranslit%3Dnot%0A2%09%E8%88%87%09%E8%88%87%09ADP%09v%2C%E5%89%8D%E7%BD%AE%E8%A9%9E%2C%E9%96%A2%E4%BF%82%2C%2A%09_%094%09case%09_%09SpaceAfter%3DNo%7CTranslit%3Dassociate-with%0A3%09%E6%83%A1%09%E6%83%A1%09NOUN%09n%2C%E5%90%8D%E8%A9%9E%2C%E6%8F%8F%E5%86%99%2C%E6%85%8B%E5%BA%A6%09_%094%09nmod%09_%09SpaceAfter%3DNo%7CTranslit%3Dbad%0A4%09%E4%BA%BA%09%E4%BA%BA%09NOUN%09n%2C%E5%90%8D%E8%A9%9E%2C%E4%BA%BA%2C%E4%BA%BA%09_%095%09obl%09_%09SpaceAfter%3DNo%7CTranslit%3Dperson%0A5%09%E8%A8%80%09%E8%A8%80%09VERB%09v%2C%E5%8B%95%E8%A9%9E%2C%E8%A1%8C%E7%82%BA%2C%E4%BC%9D%E9%81%94%09_%090%09ROOT%09_%09SpaceAfter%3DNo%7CTranslit%3Dspeak%0A%0A\"\n",
       "            frameborder=\"0\"\n",
       "            allowfullscreen\n",
       "            style=\"background-color: white;\"\n",
       "        ></iframe>\n",
       "        "
      ],
      "text/plain": [
       "<IPython.lib.display.IFrame at 0x7f9642617f10>"
      ]
     },
     "metadata": {},
     "output_type": "display_data"
    }
   ],
   "source": [
    "ex155 = nlp(\"不與惡人言\")\n",
    "serve(ex155, 250)"
   ]
  },
  {
   "cell_type": "code",
   "execution_count": 57,
   "metadata": {},
   "outputs": [
    {
     "name": "stderr",
     "output_type": "stream",
     "text": [
      "                                                   \r"
     ]
    },
    {
     "data": {
      "text/html": [
       "\n",
       "        <iframe\n",
       "            width=\"100%\"\n",
       "            height=\"250\"\n",
       "            src=\"https://koichiyasuoka.github.io/deplacy/deplacy/viewer.svg#1%09%E6%88%96%09%E6%88%96%09PRON%09n%2C%E4%BB%A3%E5%90%8D%E8%A9%9E%2C%E4%BA%BA%E7%A7%B0%2C%E8%B5%B7%E6%A0%BC%09PronType%3DPrs%092%09nsubj%09_%09SpaceAfter%3DNo%7CTranslit%3Dsomeone%0A2%09%E5%95%8F%09%E5%95%8F%09VERB%09v%2C%E5%8B%95%E8%A9%9E%2C%E8%A1%8C%E7%82%BA%2C%E4%BC%9D%E9%81%94%09_%090%09ROOT%09_%09SpaceAfter%3DNo%7CTranslit%3Dask%0A3%09%E4%B9%8E%09%E4%B9%8E%09ADP%09v%2C%E5%89%8D%E7%BD%AE%E8%A9%9E%2C%E5%9F%BA%E7%9B%A4%2C%2A%09_%094%09case%09_%09SpaceAfter%3DNo%7CTranslit%3Dat%0A4%09%E6%9B%BE%09%E6%9B%BE%09PROPN%09n%2C%E5%90%8D%E8%A9%9E%2C%E4%BA%BA%2C%E5%A7%93%E6%B0%8F%09NameType%3DSur%092%09obl%09_%09SpaceAfter%3DNo%7CTranslit%3D%5Bsurname%5D%0A5%09%E8%A5%BF%09%E8%A5%BF%09PROPN%09n%2C%E5%90%8D%E8%A9%9E%2C%E4%BA%BA%2C%E5%90%8D%09NameType%3DGiv%094%09flat%09_%09SpaceAfter%3DNo%7CTranslit%3D%5Bgiven-name%5D%0A6%09%E6%9B%B0%09%E6%9B%B0%09VERB%09v%2C%E5%8B%95%E8%A9%9E%2C%E8%A1%8C%E7%82%BA%2C%E4%BC%9D%E9%81%94%09_%092%09ccomp%09_%09SpaceAfter%3DNo%7CTranslit%3Dsay%0A7%09%E5%90%BE%09%E5%90%BE%09PRON%09n%2C%E4%BB%A3%E5%90%8D%E8%A9%9E%2C%E4%BA%BA%E7%A7%B0%2C%E8%B5%B7%E6%A0%BC%09Person%3D1%7CPronType%3DPrs%098%09det%09_%09SpaceAfter%3DNo%7CTranslit%3D%5B1PRON%5D%0A8%09%E5%AD%90%09%E5%AD%90%09NOUN%09n%2C%E5%90%8D%E8%A9%9E%2C%E4%BA%BA%2C%E4%BA%BA%09_%0912%09nsubj%09_%09SpaceAfter%3DNo%7CTranslit%3Dmaster%0A9%09%E8%88%87%09%E8%88%87%09ADP%09v%2C%E5%89%8D%E7%BD%AE%E8%A9%9E%2C%E9%96%A2%E4%BF%82%2C%2A%09_%0910%09cc%09_%09SpaceAfter%3DNo%7CTranslit%3Dassociate-with%0A10%09%E5%AD%90%E8%B7%AF%09%E5%AD%90%E8%B7%AF%09PROPN%09n%2C%E5%90%8D%E8%A9%9E%2C%E4%BA%BA%2C%E5%90%8D%09NameType%3DGiv%098%09conj%09_%09SpaceAfter%3DNo%7CTranslit%3D%5Bgiven-name%5D%0A11%09%E5%AD%B0%09%E5%AD%B0%09PRON%09n%2C%E4%BB%A3%E5%90%8D%E8%A9%9E%2C%E7%96%91%E5%95%8F%2C%2A%09PronType%3DInt%0912%09nsubj%09_%09SpaceAfter%3DNo%7CTranslit%3Dwho%0A12%09%E8%B3%A2%09%E8%B3%A2%09VERB%09v%2C%E5%8B%95%E8%A9%9E%2C%E6%8F%8F%E5%86%99%2C%E6%85%8B%E5%BA%A6%09Degree%3DPos%096%09ccomp%09_%09SpaceAfter%3DNo%7CTranslit%3Dworthy%0A%0A\"\n",
       "            frameborder=\"0\"\n",
       "            allowfullscreen\n",
       "            style=\"background-color: white;\"\n",
       "        ></iframe>\n",
       "        "
      ],
      "text/plain": [
       "<IPython.lib.display.IFrame at 0x7f9642617ee0>"
      ]
     },
     "metadata": {},
     "output_type": "display_data"
    }
   ],
   "source": [
    "ex156 = nlp(\"或問乎曾西曰吾子與子路孰賢\")\n",
    "serve(ex156, 250)"
   ]
  },
  {
   "cell_type": "code",
   "execution_count": 58,
   "metadata": {},
   "outputs": [
    {
     "name": "stderr",
     "output_type": "stream",
     "text": [
      "                                                   \r"
     ]
    },
    {
     "data": {
      "text/html": [
       "\n",
       "        <iframe\n",
       "            width=\"100%\"\n",
       "            height=\"250\"\n",
       "            src=\"https://koichiyasuoka.github.io/deplacy/deplacy/viewer.svg#1%09%E7%8E%8B%09%E7%8E%8B%09NOUN%09n%2C%E5%90%8D%E8%A9%9E%2C%E4%BA%BA%2C%E5%BD%B9%E5%89%B2%09_%093%09nsubj%09_%09SpaceAfter%3DNo%7CTranslit%3Dking%0A2%09%E8%87%AA%09%E8%87%AA%09PRON%09n%2C%E4%BB%A3%E5%90%8D%E8%A9%9E%2C%E4%BA%BA%E7%A7%B0%2C%E4%BB%96%09PronType%3DPrs%7CReflex%3DYes%093%09obj%09_%09SpaceAfter%3DNo%7CTranslit%3Dself%0A3%09%E4%BB%A5%09%E4%BB%A5%09VERB%09v%2C%E5%8B%95%E8%A9%9E%2C%E8%A1%8C%E7%82%BA%2C%E5%8B%95%E4%BD%9C%09_%094%09advcl%09_%09SpaceAfter%3DNo%7CTranslit%3Duse%0A4%09%E7%82%BA%09%E7%88%B2%09VERB%09v%2C%E5%8B%95%E8%A9%9E%2C%E8%A1%8C%E7%82%BA%2C%E7%94%9F%E7%94%A3%09_%090%09ROOT%09_%09SpaceAfter%3DNo%7CTranslit%3Dmake%0A5%09%E8%88%87%09%E8%88%87%09ADP%09v%2C%E5%89%8D%E7%BD%AE%E8%A9%9E%2C%E9%96%A2%E4%BF%82%2C%2A%09_%097%09case%09_%09SpaceAfter%3DNo%7CTranslit%3Dassociate-with%0A6%09%E5%91%A8%09%E5%91%A8%09PROPN%09n%2C%E5%90%8D%E8%A9%9E%2C%E4%B8%BB%E4%BD%93%2C%E5%9B%BD%E5%90%8D%09Case%3DLoc%7CNameType%3DNat%097%09compound%09_%09SpaceAfter%3DNo%7CTranslit%3D%5Bcountry-name%5D%0A7%09%E5%85%AC%09%E5%85%AC%09NOUN%09n%2C%E5%90%8D%E8%A9%9E%2C%E4%BA%BA%2C%E5%BD%B9%E5%89%B2%09_%099%09obl%09_%09SpaceAfter%3DNo%7CTranslit%3Dduke%0A8%09%E5%AD%B0%09%E5%AD%B0%09PRON%09n%2C%E4%BB%A3%E5%90%8D%E8%A9%9E%2C%E7%96%91%E5%95%8F%2C%2A%09PronType%3DInt%099%09nsubj%09_%09SpaceAfter%3DNo%7CTranslit%3Dwho%0A9%09%E4%BB%81%09%E4%BB%81%09VERB%09v%2C%E5%8B%95%E8%A9%9E%2C%E6%8F%8F%E5%86%99%2C%E6%85%8B%E5%BA%A6%09Degree%3DPos%094%09ccomp%09_%09SpaceAfter%3DNo%7CTranslit%3Dbenevolent%0A10%09%E4%B8%94%09%E4%B8%94%09ADV%09v%2C%E5%89%AF%E8%A9%9E%2C%E9%A0%BB%E5%BA%A6%2C%E9%87%8D%E8%A4%87%09_%0911%09cc%09_%09SpaceAfter%3DNo%7CTranslit%3Dand%0A11%09%E6%99%BA%09%E6%99%BA%09VERB%09v%2C%E5%8B%95%E8%A9%9E%2C%E6%8F%8F%E5%86%99%2C%E5%BD%A2%E8%B3%AA%09Degree%3DPos%099%09conj%09_%09SpaceAfter%3DNo%7CTranslit%3Dwise%0A%0A\"\n",
       "            frameborder=\"0\"\n",
       "            allowfullscreen\n",
       "            style=\"background-color: white;\"\n",
       "        ></iframe>\n",
       "        "
      ],
      "text/plain": [
       "<IPython.lib.display.IFrame at 0x7f9642617ee0>"
      ]
     },
     "metadata": {},
     "output_type": "display_data"
    }
   ],
   "source": [
    "ex157 = nlp(\"王自以為與周公孰仁且智\")\n",
    "serve(ex157, 250)"
   ]
  },
  {
   "cell_type": "code",
   "execution_count": 59,
   "metadata": {},
   "outputs": [
    {
     "name": "stderr",
     "output_type": "stream",
     "text": [
      "                                                   \r"
     ]
    },
    {
     "data": {
      "text/html": [
       "\n",
       "        <iframe\n",
       "            width=\"100%\"\n",
       "            height=\"250\"\n",
       "            src=\"https://koichiyasuoka.github.io/deplacy/deplacy/viewer.svg#1%09%E5%98%92%09%E5%98%92%09VERB%09v%2C%E5%8B%95%E8%A9%9E%2C%E8%A1%8C%E7%82%BA%2C%E5%8B%95%E4%BD%9C%09_%094%09amod%09_%09SpaceAfter%3DNo%0A2%09%E5%BD%BC%09%E5%BD%BC%09PRON%09n%2C%E4%BB%A3%E5%90%8D%E8%A9%9E%2C%E6%8C%87%E7%A4%BA%2C%2A%09PronType%3DDem%094%09det%09_%09SpaceAfter%3DNo%7CTranslit%3Dthat%0A3%09%E5%B0%8F%09%E5%B0%8F%09VERB%09v%2C%E5%8B%95%E8%A9%9E%2C%E6%8F%8F%E5%86%99%2C%E9%87%8F%09Degree%3DPos%094%09amod%09_%09SpaceAfter%3DNo%7CTranslit%3Dsmall%0A4%09%E6%98%9F%09%E6%98%9F%09NOUN%09n%2C%E5%90%8D%E8%A9%9E%2C%E5%A4%A9%E8%B1%A1%2C%E5%A4%A9%E6%96%87%09_%090%09ROOT%09_%09SpaceAfter%3DNo%7CTranslit%3Dstar%0A5%09%E7%B6%AD%09%E7%B6%AD%09PRON%09n%2C%E4%BB%A3%E5%90%8D%E8%A9%9E%2C%E6%8C%87%E7%A4%BA%2C%2A%09PronType%3DDem%096%09discourse%09_%09SpaceAfter%3DNo%7CTranslit%3Dthat%0A6%09%E5%8F%83%09%E5%8F%83%09NOUN%09n%2C%E5%90%8D%E8%A9%9E%2C%E5%A4%A9%E8%B1%A1%2C%E5%A4%A9%E6%96%87%09_%094%09parataxis%09_%09SpaceAfter%3DNo%7CTranslit%3DOrion%27s-Belt%0A7%09%E8%88%87%09%E8%88%87%09ADP%09v%2C%E5%89%8D%E7%BD%AE%E8%A9%9E%2C%E9%96%A2%E4%BF%82%2C%2A%09_%098%09cc%09_%09SpaceAfter%3DNo%7CTranslit%3Dassociate-with%0A8%09%E6%98%B4%09%E6%98%B4%09NOUN%09n%2C%E5%90%8D%E8%A9%9E%2C%E5%A4%A9%E8%B1%A1%2C%E5%A4%A9%E6%96%87%09_%096%09conj%09_%09SpaceAfter%3DNo%7CTranslit%3DPleiades%0A%0A\"\n",
       "            frameborder=\"0\"\n",
       "            allowfullscreen\n",
       "            style=\"background-color: white;\"\n",
       "        ></iframe>\n",
       "        "
      ],
      "text/plain": [
       "<IPython.lib.display.IFrame at 0x7f96427cf670>"
      ]
     },
     "metadata": {},
     "output_type": "display_data"
    }
   ],
   "source": [
    "ex158 = nlp(\"嘒彼小星維參與昴\")\n",
    "serve(ex158, 250)"
   ]
  },
  {
   "cell_type": "code",
   "execution_count": 60,
   "metadata": {},
   "outputs": [
    {
     "name": "stderr",
     "output_type": "stream",
     "text": [
      "                                                   \r"
     ]
    },
    {
     "data": {
      "text/html": [
       "\n",
       "        <iframe\n",
       "            width=\"100%\"\n",
       "            height=\"250\"\n",
       "            src=\"https://koichiyasuoka.github.io/deplacy/deplacy/viewer.svg#1%09%E7%A9%80%09%EF%A9%94%09NOUN%09n%2C%E5%90%8D%E8%A9%9E%2C%E5%8F%AF%E6%90%AC%2C%E7%B3%A7%E9%A3%9F%09_%098%09nsubj%09_%09SpaceAfter%3DNo%7CTranslit%3Dgrain%0A2%09%E8%88%87%09%E8%88%87%09ADP%09v%2C%E5%89%8D%E7%BD%AE%E8%A9%9E%2C%E9%96%A2%E4%BF%82%2C%2A%09_%093%09cc%09_%09SpaceAfter%3DNo%7CTranslit%3Dassociate-with%0A3%09%E9%AD%9A%09%E9%AD%9A%09NOUN%09n%2C%E5%90%8D%E8%A9%9E%2C%E4%B8%BB%E4%BD%93%2C%E5%8B%95%E7%89%A9%09_%091%09conj%09_%09SpaceAfter%3DNo%7CTranslit%3Dfish%0A4%09%E9%BC%88%09%E9%B1%89%09NOUN%09n%2C%E5%90%8D%E8%A9%9E%2C%E4%B8%BB%E4%BD%93%2C%E5%8B%95%E7%89%A9%09_%093%09flat%09_%09SpaceAfter%3DNo%7CTranslit%3Dsoft-shelled-turtle%0A5%09%E4%B8%8D%09%E4%B8%8D%09ADV%09v%2C%E5%89%AF%E8%A9%9E%2C%E5%90%A6%E5%AE%9A%2C%E7%84%A1%E7%95%8C%09Polarity%3DNeg%096%09advmod%09_%09SpaceAfter%3DNo%7CTranslit%3Dnot%0A6%09%E5%8F%AF%09%E5%8F%AF%09AUX%09v%2C%E5%8A%A9%E5%8B%95%E8%A9%9E%2C%E5%8F%AF%E8%83%BD%2C%2A%09Mood%3DPot%098%09aux%09_%09SpaceAfter%3DNo%7CTranslit%3Dpossible%0A7%09%E5%8B%9D%09%E5%8B%9D%09ADV%09v%2C%E5%89%AF%E8%A9%9E%2C%E7%AF%84%E5%9B%B2%2C%E7%B7%8F%E6%8B%AC%09_%098%09advmod%09_%09SpaceAfter%3DNo%7CTranslit%3Dfully%0A8%09%E9%A3%9F%09%E9%A3%9F%09VERB%09v%2C%E5%8B%95%E8%A9%9E%2C%E8%A1%8C%E7%82%BA%2C%E9%A3%B2%E9%A3%9F%09_%090%09ROOT%09_%09SpaceAfter%3DNo%7CTranslit%3Dfeed%0A%0A\"\n",
       "            frameborder=\"0\"\n",
       "            allowfullscreen\n",
       "            style=\"background-color: white;\"\n",
       "        ></iframe>\n",
       "        "
      ],
      "text/plain": [
       "<IPython.lib.display.IFrame at 0x7f9642617ca0>"
      ]
     },
     "metadata": {},
     "output_type": "display_data"
    }
   ],
   "source": [
    "ex159 = nlp(\"穀與魚鼈不可勝食\")\n",
    "serve(ex159, 250)"
   ]
  },
  {
   "cell_type": "markdown",
   "metadata": {},
   "source": [
    "#### iv. Wei 為 : for, on behalf of, for the sake of"
   ]
  },
  {
   "cell_type": "code",
   "execution_count": 61,
   "metadata": {},
   "outputs": [
    {
     "name": "stderr",
     "output_type": "stream",
     "text": [
      "                                                   \r"
     ]
    },
    {
     "data": {
      "text/html": [
       "\n",
       "        <iframe\n",
       "            width=\"100%\"\n",
       "            height=\"250\"\n",
       "            src=\"https://koichiyasuoka.github.io/deplacy/deplacy/viewer.svg#1%09%E5%A4%AB%E5%AD%90%09%E5%A4%AB%E5%AD%90%09NOUN%09n%2C%E5%90%8D%E8%A9%9E%2C%E4%BA%BA%2C%E4%BA%BA%09_%092%09nsubj%09_%09SpaceAfter%3DNo%7CTranslit%3Dmaster%0A2%09%E7%82%BA%09%E7%88%B2%09VERB%09v%2C%E5%8B%95%E8%A9%9E%2C%E5%AD%98%E5%9C%A8%2C%E5%AD%98%E5%9C%A8%09VerbType%3DCop%090%09ROOT%09_%09SpaceAfter%3DNo%7CTranslit%3Dbe%0A3%09%E8%A1%9B%09%E8%A1%9E%09PROPN%09n%2C%E5%90%8D%E8%A9%9E%2C%E4%B8%BB%E4%BD%93%2C%E5%9B%BD%E5%90%8D%09Case%3DLoc%7CNameType%3DNat%094%09nmod%09_%09SpaceAfter%3DNo%7CTranslit%3D%5Bcountry-name%5D%0A4%09%E5%90%9B%09%E5%90%9B%09NOUN%09n%2C%E5%90%8D%E8%A9%9E%2C%E4%BA%BA%2C%E5%BD%B9%E5%89%B2%09_%092%09obj%09_%09SpaceAfter%3DNo%7CTranslit%3Druler%0A5%09%E4%B9%8E%09%E4%B9%8E%09PART%09p%2C%E5%8A%A9%E8%A9%9E%2C%E5%8F%A5%E6%9C%AB%2C%2A%09_%092%09discourse%3Asp%09_%09SpaceAfter%3DNo%7CTranslit%3D%5BQ%5D%0A%0A\"\n",
       "            frameborder=\"0\"\n",
       "            allowfullscreen\n",
       "            style=\"background-color: white;\"\n",
       "        ></iframe>\n",
       "        "
      ],
      "text/plain": [
       "<IPython.lib.display.IFrame at 0x7f9642617760>"
      ]
     },
     "metadata": {},
     "output_type": "display_data"
    }
   ],
   "source": [
    "ex160 = nlp(\"夫子為衛君乎\")\n",
    "serve(ex160, 250)"
   ]
  },
  {
   "cell_type": "code",
   "execution_count": 62,
   "metadata": {},
   "outputs": [
    {
     "name": "stderr",
     "output_type": "stream",
     "text": [
      "                                                   \r"
     ]
    },
    {
     "data": {
      "text/html": [
       "\n",
       "        <iframe\n",
       "            width=\"100%\"\n",
       "            height=\"200\"\n",
       "            src=\"https://koichiyasuoka.github.io/deplacy/deplacy/viewer.svg#1%09%E7%82%BA%09%E7%88%B2%09ADP%09v%2C%E5%89%8D%E7%BD%AE%E8%A9%9E%2C%E6%BA%90%E6%B3%89%2C%2A%09_%093%09case%09_%09SpaceAfter%3DNo%7CTranslit%3Dfor%0A2%09%E9%95%B7%09%E9%95%B7%09VERB%09v%2C%E5%8B%95%E8%A9%9E%2C%E5%A4%89%E5%8C%96%2C%E7%94%9F%E7%89%A9%09_%093%09amod%09_%09SpaceAfter%3DNo%7CTranslit%3Dlong-last%0A3%09%E8%80%85%09%EF%A9%9B%09PART%09p%2C%E5%8A%A9%E8%A9%9E%2C%E6%8F%90%E7%A4%BA%2C%2A%09_%094%09obl%09_%09SpaceAfter%3DNo%7CTranslit%3Dthat-which%0A4%09%E6%8A%98%09%E6%8A%98%09VERB%09v%2C%E5%8B%95%E8%A9%9E%2C%E8%A1%8C%E7%82%BA%2C%E5%8B%95%E4%BD%9C%09_%090%09ROOT%09_%09SpaceAfter%3DNo%7CTranslit%3Dbreak%0A5%09%E6%9E%9D%09%E6%9E%9D%09NOUN%09n%2C%E5%90%8D%E8%A9%9E%2C%E5%8F%AF%E6%90%AC%2C%E9%81%93%E5%85%B7%09_%094%09obj%09_%09SpaceAfter%3DNo%7CTranslit%3Dbranch%0A%0A\"\n",
       "            frameborder=\"0\"\n",
       "            allowfullscreen\n",
       "            style=\"background-color: white;\"\n",
       "        ></iframe>\n",
       "        "
      ],
      "text/plain": [
       "<IPython.lib.display.IFrame at 0x7f96426298b0>"
      ]
     },
     "metadata": {},
     "output_type": "display_data"
    }
   ],
   "source": [
    "ex161 = nlp(\"為長者折枝\")\n",
    "serve(ex161)"
   ]
  },
  {
   "cell_type": "code",
   "execution_count": 63,
   "metadata": {},
   "outputs": [
    {
     "name": "stderr",
     "output_type": "stream",
     "text": [
      "                                                   \r"
     ]
    },
    {
     "data": {
      "text/html": [
       "\n",
       "        <iframe\n",
       "            width=\"100%\"\n",
       "            height=\"250\"\n",
       "            src=\"https://koichiyasuoka.github.io/deplacy/deplacy/viewer.svg#1%09%E8%80%8C%09%E8%80%8C%09CCONJ%09p%2C%E5%8A%A9%E8%A9%9E%2C%E6%8E%A5%E7%B6%9A%2C%E4%B8%A6%E5%88%97%09_%094%09advmod%09_%09SpaceAfter%3DNo%7CTranslit%3Dand%0A2%09%E7%8E%8B%09%E7%8E%8B%09NOUN%09n%2C%E5%90%8D%E8%A9%9E%2C%E4%BA%BA%2C%E5%BD%B9%E5%89%B2%09_%094%09nsubj%09_%09SpaceAfter%3DNo%7CTranslit%3Dking%0A3%09%E8%B1%88%09%E8%B1%88%09ADV%09v%2C%E5%89%AF%E8%A9%9E%2C%E7%96%91%E5%95%8F%2C%E5%8F%8D%E8%AA%9E%09_%094%09advmod%09_%09SpaceAfter%3DNo%7CTranslit%3D%5Bexpect-negative-answer%5D%0A4%09%E7%82%BA%09%E7%88%B2%09VERB%09v%2C%E5%8B%95%E8%A9%9E%2C%E8%A1%8C%E7%82%BA%2C%E7%94%9F%E7%94%A3%09_%090%09ROOT%09_%09SpaceAfter%3DNo%7CTranslit%3Dmake%0A5%09%E6%98%AF%09%E6%98%AF%09PRON%09n%2C%E4%BB%A3%E5%90%8D%E8%A9%9E%2C%E6%8C%87%E7%A4%BA%2C%2A%09PronType%3DDem%094%09obj%09_%09SpaceAfter%3DNo%7CTranslit%3Dthis%0A6%09%E5%93%89%09%E5%93%89%09PART%09p%2C%E5%8A%A9%E8%A9%9E%2C%E5%8F%A5%E6%9C%AB%2C%2A%09_%094%09discourse%3Asp%09_%09SpaceAfter%3DNo%7CTranslit%3D%5Bexclamatory-particle%5D%0A%0A\"\n",
       "            frameborder=\"0\"\n",
       "            allowfullscreen\n",
       "            style=\"background-color: white;\"\n",
       "        ></iframe>\n",
       "        "
      ],
      "text/plain": [
       "<IPython.lib.display.IFrame at 0x7f9642629e50>"
      ]
     },
     "metadata": {},
     "output_type": "display_data"
    }
   ],
   "source": [
    "ex162 = nlp(\"而王豈為是哉\")\n",
    "serve(ex162, 250)"
   ]
  },
  {
   "cell_type": "code",
   "execution_count": 64,
   "metadata": {},
   "outputs": [
    {
     "name": "stderr",
     "output_type": "stream",
     "text": [
      "                                                   \r"
     ]
    },
    {
     "data": {
      "text/html": [
       "\n",
       "        <iframe\n",
       "            width=\"100%\"\n",
       "            height=\"250\"\n",
       "            src=\"https://koichiyasuoka.github.io/deplacy/deplacy/viewer.svg#1%09%E7%82%BA%09%E7%88%B2%09ADP%09v%2C%E5%89%8D%E7%BD%AE%E8%A9%9E%2C%E6%BA%90%E6%B3%89%2C%2A%09_%090%09ROOT%09_%09SpaceAfter%3DNo%7CTranslit%3Dfor%0A2%09%E5%85%B6%09%E5%85%B6%09PRON%09n%2C%E4%BB%A3%E5%90%8D%E8%A9%9E%2C%E4%BA%BA%E7%A7%B0%2C%E8%B5%B7%E6%A0%BC%09Person%3D3%7CPronType%3DPrs%093%09nsubj%09_%09SpaceAfter%3DNo%7CTranslit%3D%5B3PRON%5D%0A3%09%E8%B1%A1%09%E8%B1%A1%09VERB%09v%2C%E5%8B%95%E8%A9%9E%2C%E8%A1%8C%E7%82%BA%2C%E5%8B%95%E4%BD%9C%09_%091%09ccomp%09_%09SpaceAfter%3DNo%7CTranslit%3Dimage%0A4%09%E4%BA%BA%09%E4%BA%BA%09NOUN%09n%2C%E5%90%8D%E8%A9%9E%2C%E4%BA%BA%2C%E4%BA%BA%09_%093%09obj%09_%09SpaceAfter%3DNo%7CTranslit%3Dperson%0A5%09%E8%80%8C%09%E8%80%8C%09CCONJ%09p%2C%E5%8A%A9%E8%A9%9E%2C%E6%8E%A5%E7%B6%9A%2C%E4%B8%A6%E5%88%97%09_%096%09cc%09_%09SpaceAfter%3DNo%7CTranslit%3Dand%0A6%09%E7%94%A8%09%E7%94%A8%09VERB%09v%2C%E5%8B%95%E8%A9%9E%2C%E8%A1%8C%E7%82%BA%2C%E5%8B%95%E4%BD%9C%09_%093%09conj%09_%09SpaceAfter%3DNo%7CTranslit%3Duse%0A7%09%E4%B9%8B%09%E4%B9%8B%09PRON%09n%2C%E4%BB%A3%E5%90%8D%E8%A9%9E%2C%E4%BA%BA%E7%A7%B0%2C%E6%AD%A2%E6%A0%BC%09Person%3D3%7CPronType%3DPrs%096%09obj%09_%09SpaceAfter%3DNo%7CTranslit%3D%5B3PRON%5D%0A8%09%E4%B9%9F%09%E4%B9%9F%09PART%09p%2C%E5%8A%A9%E8%A9%9E%2C%E5%8F%A5%E6%9C%AB%2C%2A%09_%091%09discourse%3Asp%09_%09SpaceAfter%3DNo%7CTranslit%3D%5Bfinal-particle%5D%0A%0A\"\n",
       "            frameborder=\"0\"\n",
       "            allowfullscreen\n",
       "            style=\"background-color: white;\"\n",
       "        ></iframe>\n",
       "        "
      ],
      "text/plain": [
       "<IPython.lib.display.IFrame at 0x7f9642617100>"
      ]
     },
     "metadata": {},
     "output_type": "display_data"
    }
   ],
   "source": [
    "ex163 = nlp(\"為其象人而用之也\")\n",
    "serve(ex163, 250)"
   ]
  },
  {
   "cell_type": "markdown",
   "metadata": {},
   "source": [
    "#### v. Zi 自, You 由, Cong 從 : follow; from"
   ]
  },
  {
   "cell_type": "code",
   "execution_count": 65,
   "metadata": {},
   "outputs": [
    {
     "name": "stderr",
     "output_type": "stream",
     "text": [
      "                                                   \r"
     ]
    },
    {
     "data": {
      "text/html": [
       "\n",
       "        <iframe\n",
       "            width=\"100%\"\n",
       "            height=\"400\"\n",
       "            src=\"https://koichiyasuoka.github.io/deplacy/deplacy/viewer.svg#1%09%E6%9C%AA%09%E6%9C%AA%09ADV%09v%2C%E5%89%AF%E8%A9%9E%2C%E5%90%A6%E5%AE%9A%2C%E6%9C%89%E7%95%8C%09Polarity%3DNeg%092%09advmod%09_%09SpaceAfter%3DNo%7CTranslit%3Dnot-yet%0A2%09%E6%94%B9%09%E6%94%B9%09VERB%09v%2C%E5%8B%95%E8%A9%9E%2C%E8%A1%8C%E7%82%BA%2C%E5%8B%95%E4%BD%9C%09_%090%09ROOT%09_%09SpaceAfter%3DNo%7CTranslit%3Dchange%0A3%09%E7%A6%AE%09%E7%A6%AE%09NOUN%09n%2C%E5%90%8D%E8%A9%9E%2C%E5%88%B6%E5%BA%A6%2C%E5%84%80%E7%A4%BC%09_%092%09obj%09_%09SpaceAfter%3DNo%7CTranslit%3Dceremony%0A4%09%E8%80%8C%09%E8%80%8C%09CCONJ%09p%2C%E5%8A%A9%E8%A9%9E%2C%E6%8E%A5%E7%B6%9A%2C%E4%B8%A6%E5%88%97%09_%096%09cc%09_%09SpaceAfter%3DNo%7CTranslit%3Dand%0A5%09%E7%8C%B6%09%E7%8C%B6%09ADV%09v%2C%E5%89%AF%E8%A9%9E%2C%E9%A0%BB%E5%BA%A6%2C%E9%87%8D%E8%A4%87%09_%096%09advmod%09_%09SpaceAfter%3DNo%7CTranslit%3Dyet%0A6%09%E9%81%B7%09%E9%81%B7%09VERB%09v%2C%E5%8B%95%E8%A9%9E%2C%E8%A1%8C%E7%82%BA%2C%E7%A7%BB%E5%8B%95%09_%092%09conj%09_%09SpaceAfter%3DNo%7CTranslit%3Dtransfer%0A7%09%E4%B9%8B%09%E4%B9%8B%09PRON%09n%2C%E4%BB%A3%E5%90%8D%E8%A9%9E%2C%E4%BA%BA%E7%A7%B0%2C%E6%AD%A2%E6%A0%BC%09Person%3D3%7CPronType%3DPrs%096%09obj%09_%09SpaceAfter%3DNo%7CTranslit%3D%5B3PRON%5D%0A%0A1%09%E7%BE%A4%09%E7%BE%A4%09NOUN%09n%2C%E5%90%8D%E8%A9%9E%2C%E6%8F%8F%E5%86%99%2C%E5%BD%A2%E8%B3%AA%09_%092%09nmod%09_%09SpaceAfter%3DNo%7CTranslit%3Dflock%0A2%09%E8%87%A3%09%E8%87%A3%09NOUN%09n%2C%E5%90%8D%E8%A9%9E%2C%E4%BA%BA%2C%E5%BD%B9%E5%89%B2%09_%093%09nsubj%09_%09SpaceAfter%3DNo%7CTranslit%3Dvassal%0A3%09%E6%87%BC%09%E6%87%BC%09VERB%09v%2C%E5%8B%95%E8%A9%9E%2C%E8%A1%8C%E7%82%BA%2C%E6%85%8B%E5%BA%A6%09_%090%09ROOT%09_%09SpaceAfter%3DNo%7CTranslit%3Dfear%0A4%09%E6%AD%BB%09%E6%AD%BB%09NOUN%09n%2C%E5%90%8D%E8%A9%9E%2C%E8%A1%8C%E7%82%BA%2C%2A%09_%093%09obj%09_%09SpaceAfter%3DNo%7CTranslit%3Ddeath%0A5%09%E4%B8%8D%09%E4%B8%8D%09ADV%09v%2C%E5%89%AF%E8%A9%9E%2C%E5%90%A6%E5%AE%9A%2C%E7%84%A1%E7%95%8C%09Polarity%3DNeg%096%09advmod%09_%09SpaceAfter%3DNo%7CTranslit%3Dnot%0A6%09%E6%95%A2%09%E6%95%A2%09AUX%09v%2C%E5%8A%A9%E5%8B%95%E8%A9%9E%2C%E9%A1%98%E6%9C%9B%2C%2A%09Mood%3DDes%097%09aux%09_%09SpaceAfter%3DNo%7CTranslit%3Ddare%0A7%09%E8%87%AA%09%E8%87%AA%09VERB%09v%2C%E5%8B%95%E8%A9%9E%2C%E8%A1%8C%E7%82%BA%2C%E5%8B%95%E4%BD%9C%09_%093%09parataxis%09_%09SpaceAfter%3DNo%7CTranslit%3Dfollow%0A8%09%E4%B9%9F%09%E4%B9%9F%09PART%09p%2C%E5%8A%A9%E8%A9%9E%2C%E5%8F%A5%E6%9C%AB%2C%2A%09_%097%09discourse%3Asp%09_%09SpaceAfter%3DNo%7CTranslit%3D%5Bfinal-particle%5D%0A%0A\"\n",
       "            frameborder=\"0\"\n",
       "            allowfullscreen\n",
       "            style=\"background-color: white;\"\n",
       "        ></iframe>\n",
       "        "
      ],
      "text/plain": [
       "<IPython.lib.display.IFrame at 0x7f9642629730>"
      ]
     },
     "metadata": {},
     "output_type": "display_data"
    }
   ],
   "source": [
    "ex164 = nlp(\"未改禮而猶遷之\\n群臣懼死不敢自也\")\n",
    "serve(ex164, 400)"
   ]
  },
  {
   "cell_type": "code",
   "execution_count": 66,
   "metadata": {},
   "outputs": [
    {
     "name": "stderr",
     "output_type": "stream",
     "text": [
      "                                                   \r"
     ]
    },
    {
     "data": {
      "text/html": [
       "\n",
       "        <iframe\n",
       "            width=\"100%\"\n",
       "            height=\"200\"\n",
       "            src=\"https://koichiyasuoka.github.io/deplacy/deplacy/viewer.svg#1%09%E8%87%AA%09%E8%87%AA%09ADP%09v%2C%E5%89%8D%E7%BD%AE%E8%A9%9E%2C%E7%B5%8C%E7%94%B1%2C%2A%09_%092%09case%09_%09SpaceAfter%3DNo%7CTranslit%3Dfrom%0A2%09%E6%A5%9A%09%E6%A5%9A%09PROPN%09n%2C%E5%90%8D%E8%A9%9E%2C%E4%B8%BB%E4%BD%93%2C%E5%9B%BD%E5%90%8D%09Case%3DLoc%7CNameType%3DNat%093%09obl%3Almod%09_%09SpaceAfter%3DNo%7CTranslit%3D%5Bcountry-name%5D%0A3%09%E4%B9%8B%09%E4%B9%8B%09VERB%09v%2C%E5%8B%95%E8%A9%9E%2C%E8%A1%8C%E7%82%BA%2C%E7%A7%BB%E5%8B%95%09_%090%09ROOT%09_%09SpaceAfter%3DNo%7CTranslit%3Dgo%0A4%09%E6%BB%95%09%E6%BB%95%09PROPN%09n%2C%E5%90%8D%E8%A9%9E%2C%E4%B8%BB%E4%BD%93%2C%E5%9B%BD%E5%90%8D%09Case%3DLoc%7CNameType%3DNat%093%09obj%09_%09SpaceAfter%3DNo%7CTranslit%3D%5Bcountry-name%5D%0A%0A\"\n",
       "            frameborder=\"0\"\n",
       "            allowfullscreen\n",
       "            style=\"background-color: white;\"\n",
       "        ></iframe>\n",
       "        "
      ],
      "text/plain": [
       "<IPython.lib.display.IFrame at 0x7f96426173d0>"
      ]
     },
     "metadata": {},
     "output_type": "display_data"
    }
   ],
   "source": [
    "ex165 = nlp(\"自楚之滕\")\n",
    "serve(ex165)"
   ]
  },
  {
   "cell_type": "code",
   "execution_count": 67,
   "metadata": {},
   "outputs": [
    {
     "name": "stderr",
     "output_type": "stream",
     "text": [
      "                                                   \r"
     ]
    },
    {
     "data": {
      "text/html": [
       "\n",
       "        <iframe\n",
       "            width=\"100%\"\n",
       "            height=\"250\"\n",
       "            src=\"https://koichiyasuoka.github.io/deplacy/deplacy/viewer.svg#1%09%E8%88%8D%09%E8%88%8D%09VERB%09v%2C%E5%8B%95%E8%A9%9E%2C%E8%A1%8C%E7%82%BA%2C%E5%BE%97%E5%A4%B1%09_%090%09ROOT%09_%09SpaceAfter%3DNo%7CTranslit%3Drelease%0A2%09%E6%AD%A3%09%E6%AD%A3%09VERB%09v%2C%E5%8B%95%E8%A9%9E%2C%E6%8F%8F%E5%86%99%2C%E5%BD%A2%E8%B3%AA%09Degree%3DPos%093%09amod%09_%09SpaceAfter%3DNo%7CTranslit%3Dcorrect%0A3%09%E8%B7%AF%09%E8%B7%AF%09NOUN%09n%2C%E5%90%8D%E8%A9%9E%2C%E5%9B%BA%E5%AE%9A%E7%89%A9%2C%E5%BB%BA%E9%80%A0%E7%89%A9%09Case%3DLoc%091%09obj%09_%09SpaceAfter%3DNo%7CTranslit%3Droad%0A4%09%E8%80%8C%09%E8%80%8C%09CCONJ%09p%2C%E5%8A%A9%E8%A9%9E%2C%E6%8E%A5%E7%B6%9A%2C%E4%B8%A6%E5%88%97%09_%096%09cc%09_%09SpaceAfter%3DNo%7CTranslit%3Dand%0A5%09%E4%B8%8D%09%E4%B8%8D%09ADV%09v%2C%E5%89%AF%E8%A9%9E%2C%E5%90%A6%E5%AE%9A%2C%E7%84%A1%E7%95%8C%09Polarity%3DNeg%096%09advmod%09_%09SpaceAfter%3DNo%7CTranslit%3Dnot%0A6%09%E7%94%B1%09%E7%94%B1%09VERB%09v%2C%E5%8B%95%E8%A9%9E%2C%E8%A1%8C%E7%82%BA%2C%E5%8B%95%E4%BD%9C%09_%091%09conj%09_%09SpaceAfter%3DNo%7CTranslit%3Dproceed-from%0A%0A\"\n",
       "            frameborder=\"0\"\n",
       "            allowfullscreen\n",
       "            style=\"background-color: white;\"\n",
       "        ></iframe>\n",
       "        "
      ],
      "text/plain": [
       "<IPython.lib.display.IFrame at 0x7f9642617940>"
      ]
     },
     "metadata": {},
     "output_type": "display_data"
    }
   ],
   "source": [
    "ex166 = nlp(\"舍正路而不由\")\n",
    "serve(ex166, 250)"
   ]
  },
  {
   "cell_type": "code",
   "execution_count": 68,
   "metadata": {},
   "outputs": [
    {
     "name": "stderr",
     "output_type": "stream",
     "text": [
      "                                                   \r"
     ]
    },
    {
     "data": {
      "text/html": [
       "\n",
       "        <iframe\n",
       "            width=\"100%\"\n",
       "            height=\"200\"\n",
       "            src=\"https://koichiyasuoka.github.io/deplacy/deplacy/viewer.svg#1%09%E4%BB%96%09%E4%BB%96%09PRON%09n%2C%E4%BB%A3%E5%90%8D%E8%A9%9E%2C%E6%8C%87%E7%A4%BA%2C%2A%09PronType%3DDem%092%09det%09_%09SpaceAfter%3DNo%7CTranslit%3Dother%0A2%09%E6%97%A5%09%E6%97%A5%09NOUN%09n%2C%E5%90%8D%E8%A9%9E%2C%E6%99%82%2C%2A%09Case%3DTem%095%09obl%3Atmod%09_%09SpaceAfter%3DNo%7CTranslit%3Dday%0A3%09%E7%94%B1%09%E7%94%B1%09ADP%09v%2C%E5%89%8D%E7%BD%AE%E8%A9%9E%2C%E6%BA%90%E6%B3%89%2C%2A%09_%094%09case%09_%09SpaceAfter%3DNo%7CTranslit%3Dfrom%0A4%09%E9%84%92%09%E9%84%92%09PROPN%09n%2C%E5%90%8D%E8%A9%9E%2C%E5%9B%BA%E5%AE%9A%E7%89%A9%2C%E5%9C%B0%E5%90%8D%09Case%3DLoc%7CNameType%3DGeo%095%09obl%3Almod%09_%09SpaceAfter%3DNo%7CTranslit%3D%5Bplace-name%5D%0A5%09%E4%B9%8B%09%E4%B9%8B%09VERB%09v%2C%E5%8B%95%E8%A9%9E%2C%E8%A1%8C%E7%82%BA%2C%E7%A7%BB%E5%8B%95%09_%090%09ROOT%09_%09SpaceAfter%3DNo%7CTranslit%3Dgo%0A6%09%E4%BB%BB%09%E4%BB%BB%09PROPN%09n%2C%E5%90%8D%E8%A9%9E%2C%E4%B8%BB%E4%BD%93%2C%E5%9B%BD%E5%90%8D%09Case%3DLoc%7CNameType%3DNat%095%09obj%09_%09SpaceAfter%3DNo%7CTranslit%3D%5Bcountry-name%5D%0A7%09%E8%A6%8B%09%E8%A6%8B%09VERB%09v%2C%E5%8B%95%E8%A9%9E%2C%E8%A1%8C%E7%82%BA%2C%E5%8B%95%E4%BD%9C%09_%095%09parataxis%09_%09SpaceAfter%3DNo%7CTranslit%3Dsee%0A8%09%E5%AD%A3%E5%AD%90%09%E5%AD%A3%E5%AD%90%09PROPN%09n%2C%E5%90%8D%E8%A9%9E%2C%E4%BA%BA%2C%E8%A4%87%E5%90%88%E7%9A%84%E4%BA%BA%E5%90%8D%09NameType%3DPrs%097%09obj%09_%09SpaceAfter%3DNo%7CTranslit%3DJizi%0A%0A\"\n",
       "            frameborder=\"0\"\n",
       "            allowfullscreen\n",
       "            style=\"background-color: white;\"\n",
       "        ></iframe>\n",
       "        "
      ],
      "text/plain": [
       "<IPython.lib.display.IFrame at 0x7f96427b60d0>"
      ]
     },
     "metadata": {},
     "output_type": "display_data"
    }
   ],
   "source": [
    "ex167 = nlp(\"他日由鄒之任見季子\")\n",
    "serve(ex167)"
   ]
  },
  {
   "cell_type": "code",
   "execution_count": 69,
   "metadata": {},
   "outputs": [
    {
     "name": "stderr",
     "output_type": "stream",
     "text": [
      "                                                   \r"
     ]
    },
    {
     "data": {
      "text/html": [
       "\n",
       "        <iframe\n",
       "            width=\"100%\"\n",
       "            height=\"200\"\n",
       "            src=\"https://koichiyasuoka.github.io/deplacy/deplacy/viewer.svg#1%09%E7%94%B1%09%E7%94%B1%09ADP%09v%2C%E5%89%8D%E7%BD%AE%E8%A9%9E%2C%E6%BA%90%E6%B3%89%2C%2A%09_%092%09case%09_%09SpaceAfter%3DNo%7CTranslit%3Dfrom%0A2%09%E6%B9%AF%09%E6%B9%AF%09PROPN%09n%2C%E5%90%8D%E8%A9%9E%2C%E4%BA%BA%2C%E5%90%8D%09NameType%3DGiv%093%09obl%09_%09SpaceAfter%3DNo%7CTranslit%3D%5Bgiven-name%5D%0A3%09%E8%87%B3%09%E8%87%B3%09VERB%09v%2C%E5%8B%95%E8%A9%9E%2C%E8%A1%8C%E7%82%BA%2C%E7%A7%BB%E5%8B%95%09_%090%09ROOT%09_%09SpaceAfter%3DNo%7CTranslit%3Darrive%0A4%09%E6%96%BC%09%E6%96%BC%09ADP%09v%2C%E5%89%8D%E7%BD%AE%E8%A9%9E%2C%E5%9F%BA%E7%9B%A4%2C%2A%09_%095%09case%09_%09SpaceAfter%3DNo%7CTranslit%3Dat%0A5%09%E6%AD%A6%E4%B8%81%09%E6%AD%A6%E4%B8%81%09PROPN%09n%2C%E5%90%8D%E8%A9%9E%2C%E4%BA%BA%2C%E3%81%9D%E3%81%AE%E4%BB%96%E3%81%AE%E4%BA%BA%E5%90%8D%09NameType%3DPrs%093%09obl%09_%09SpaceAfter%3DNo%7CTranslit%3DWuding%0A%0A\"\n",
       "            frameborder=\"0\"\n",
       "            allowfullscreen\n",
       "            style=\"background-color: white;\"\n",
       "        ></iframe>\n",
       "        "
      ],
      "text/plain": [
       "<IPython.lib.display.IFrame at 0x7f9642633ac0>"
      ]
     },
     "metadata": {},
     "output_type": "display_data"
    }
   ],
   "source": [
    "ex168 = nlp(\"由湯至於武丁\")\n",
    "serve(ex168)"
   ]
  },
  {
   "cell_type": "code",
   "execution_count": 70,
   "metadata": {},
   "outputs": [
    {
     "name": "stderr",
     "output_type": "stream",
     "text": [
      "                                                   \r"
     ]
    },
    {
     "data": {
      "text/html": [
       "\n",
       "        <iframe\n",
       "            width=\"100%\"\n",
       "            height=\"200\"\n",
       "            src=\"https://koichiyasuoka.github.io/deplacy/deplacy/viewer.svg#1%09%E4%BD%95%09%E4%BD%95%09PRON%09n%2C%E4%BB%A3%E5%90%8D%E8%A9%9E%2C%E7%96%91%E5%95%8F%2C%2A%09PronType%3DInt%093%09obl%09_%09SpaceAfter%3DNo%7CTranslit%3Dwhat%0A2%09%E7%94%B1%09%E7%94%B1%09ADP%09v%2C%E5%89%8D%E7%BD%AE%E8%A9%9E%2C%E6%BA%90%E6%B3%89%2C%2A%09_%091%09case%09_%09SpaceAfter%3DNo%7CTranslit%3Dfrom%0A3%09%E7%9F%A5%09%E7%9F%A5%09VERB%09v%2C%E5%8B%95%E8%A9%9E%2C%E8%A1%8C%E7%82%BA%2C%E5%8B%95%E4%BD%9C%09_%090%09ROOT%09_%09SpaceAfter%3DNo%7CTranslit%3Dknow%0A4%09%E5%90%BE%09%E5%90%BE%09PRON%09n%2C%E4%BB%A3%E5%90%8D%E8%A9%9E%2C%E4%BA%BA%E7%A7%B0%2C%E8%B5%B7%E6%A0%BC%09Person%3D1%7CPronType%3DPrs%095%09nsubj%09_%09SpaceAfter%3DNo%7CTranslit%3D%5B1PRON%5D%0A5%09%E5%8F%AF%09%E5%8F%AF%09VERB%09v%2C%E5%8B%95%E8%A9%9E%2C%E6%8F%8F%E5%86%99%2C%E6%85%8B%E5%BA%A6%09Degree%3DPos%093%09ccomp%09_%09SpaceAfter%3DNo%7CTranslit%3Dpermissible%0A%0A\"\n",
       "            frameborder=\"0\"\n",
       "            allowfullscreen\n",
       "            style=\"background-color: white;\"\n",
       "        ></iframe>\n",
       "        "
      ],
      "text/plain": [
       "<IPython.lib.display.IFrame at 0x7f9642633880>"
      ]
     },
     "metadata": {},
     "output_type": "display_data"
    }
   ],
   "source": [
    "ex169 = nlp(\"何由知吾可\")\n",
    "serve(ex169)"
   ]
  },
  {
   "cell_type": "code",
   "execution_count": 71,
   "metadata": {},
   "outputs": [
    {
     "name": "stderr",
     "output_type": "stream",
     "text": [
      "                                                   \r"
     ]
    },
    {
     "data": {
      "text/html": [
       "\n",
       "        <iframe\n",
       "            width=\"100%\"\n",
       "            height=\"250\"\n",
       "            src=\"https://koichiyasuoka.github.io/deplacy/deplacy/viewer.svg#1%09%E8%89%AF%09%E8%89%AF%09VERB%09v%2C%E5%8B%95%E8%A9%9E%2C%E6%8F%8F%E5%86%99%2C%E5%BD%A2%E8%B3%AA%09Degree%3DPos%092%09amod%09_%09SpaceAfter%3DNo%7CTranslit%3Dgood%0A2%09%E4%BA%BA%09%E4%BA%BA%09NOUN%09n%2C%E5%90%8D%E8%A9%9E%2C%E4%BA%BA%2C%E4%BA%BA%09_%097%09nsubj%09_%09SpaceAfter%3DNo%7CTranslit%3Dperson%0A3%09%E6%96%BD%09%E6%96%BD%09VERB%09v%2C%E5%8B%95%E8%A9%9E%2C%E8%A1%8C%E7%82%BA%2C%E4%BA%A4%E6%B5%81%09_%097%09advmod%09_%09SpaceAfter%3DNo%7CTranslit%3Dspread%0A4%09%E6%96%BD%09%E6%96%BD%09VERB%09v%2C%E5%8B%95%E8%A9%9E%2C%E8%A1%8C%E7%82%BA%2C%E4%BA%A4%E6%B5%81%09_%093%09compound%3Aredup%09_%09SpaceAfter%3DNo%7CTranslit%3Dspread%0A5%09%E5%BE%9E%09%E5%BE%9E%09ADP%09v%2C%E5%89%8D%E7%BD%AE%E8%A9%9E%2C%E7%B5%8C%E7%94%B1%2C%2A%09_%096%09case%09_%09SpaceAfter%3DNo%7CTranslit%3Dfrom%0A6%09%E5%A4%96%09%E5%A4%96%09NOUN%09n%2C%E5%90%8D%E8%A9%9E%2C%E5%9B%BA%E5%AE%9A%E7%89%A9%2C%E9%96%A2%E4%BF%82%09Case%3DLoc%097%09obl%3Almod%09_%09SpaceAfter%3DNo%7CTranslit%3Doutside%0A7%09%E4%BE%86%09%E4%BE%86%09VERB%09v%2C%E5%8B%95%E8%A9%9E%2C%E8%A1%8C%E7%82%BA%2C%E7%A7%BB%E5%8B%95%09_%090%09ROOT%09_%09SpaceAfter%3DNo%7CTranslit%3Dcome%0A%0A\"\n",
       "            frameborder=\"0\"\n",
       "            allowfullscreen\n",
       "            style=\"background-color: white;\"\n",
       "        ></iframe>\n",
       "        "
      ],
      "text/plain": [
       "<IPython.lib.display.IFrame at 0x7f9642633820>"
      ]
     },
     "metadata": {},
     "output_type": "display_data"
    }
   ],
   "source": [
    "ex170 = nlp(\"良人施施從外來\")\n",
    "serve(ex170, 250)"
   ]
  },
  {
   "cell_type": "markdown",
   "metadata": {},
   "source": [
    "### b. Coverbs of Place: Yu 于, Yu 於, and Hu 乎 - Locative Complements"
   ]
  },
  {
   "cell_type": "markdown",
   "metadata": {},
   "source": [
    "#### i. Yu 于 'go; to, at'"
   ]
  },
  {
   "cell_type": "markdown",
   "metadata": {},
   "source": [
    "#### ii. Yu 於 'in, at, to, from, than, etc.'"
   ]
  },
  {
   "cell_type": "code",
   "execution_count": 79,
   "metadata": {},
   "outputs": [
    {
     "name": "stderr",
     "output_type": "stream",
     "text": [
      "                                                   \r"
     ]
    },
    {
     "data": {
      "text/html": [
       "\n",
       "        <iframe\n",
       "            width=\"100%\"\n",
       "            height=\"900\"\n",
       "            src=\"https://koichiyasuoka.github.io/deplacy/deplacy/viewer.svg#1%09%E9%82%8A%09%E9%82%8A%09NOUN%09n%2C%E5%90%8D%E8%A9%9E%2C%E5%9B%BA%E5%AE%9A%E7%89%A9%2C%E5%9C%B0%E5%BD%A2%09Case%3DLoc%093%09nsubj%09_%09SpaceAfter%3DNo%7CTranslit%3Dmargin%0A2%09%E9%84%99%09%E9%84%99%09NOUN%09n%2C%E5%90%8D%E8%A9%9E%2C%E5%9B%BA%E5%AE%9A%E7%89%A9%2C%E5%9C%B0%E5%BD%A2%09Case%3DLoc%091%09flat%09_%09SpaceAfter%3DNo%7CTranslit%3Dborder-town%0A3%09%E6%AE%98%09%E6%AE%98%09VERB%09v%2C%E5%8B%95%E8%A9%9E%2C%E8%A1%8C%E7%82%BA%2C%E5%8B%95%E4%BD%9C%09_%090%09ROOT%09_%09SpaceAfter%3DNo%7CTranslit%3Dinjure%0A%0A1%09%E5%9C%8B%09%E5%9C%8B%09NOUN%09n%2C%E5%90%8D%E8%A9%9E%2C%E4%B8%BB%E4%BD%93%2C%E9%9B%86%E5%9B%A3%09_%093%09nsubj%09_%09SpaceAfter%3DNo%7CTranslit%3Dcountry%0A2%09%E5%9B%BA%09%E5%9B%BA%09ADV%09v%2C%E5%89%AF%E8%A9%9E%2C%E5%88%A4%E6%96%AD%2C%E7%A2%BA%E5%AE%9A%09_%093%09advmod%09_%09SpaceAfter%3DNo%7CTranslit%3Dcertainly%0A3%09%E5%AE%88%09%E5%AE%88%09VERB%09v%2C%E5%8B%95%E8%A9%9E%2C%E8%A1%8C%E7%82%BA%2C%E5%8B%95%E4%BD%9C%09_%090%09ROOT%09_%09SpaceAfter%3DNo%7CTranslit%3Dguard%0A%0A1%09%E9%BC%93%09%E9%BC%93%09NOUN%09n%2C%E5%90%8D%E8%A9%9E%2C%E5%8F%AF%E6%90%AC%2C%E9%81%93%E5%85%B7%09_%094%09nmod%09_%09SpaceAfter%3DNo%7CTranslit%3Ddrum%0A2%09%E9%90%B8%09%E9%90%B8%09NOUN%09n%2C%E5%90%8D%E8%A9%9E%2C%E5%8F%AF%E6%90%AC%2C%E9%81%93%E5%85%B7%09_%091%09conj%09_%09SpaceAfter%3DNo%7CTranslit%3D%5Bkind-of-bell%5D%0A3%09%E4%B9%8B%09%E4%B9%8B%09SCONJ%09p%2C%E5%8A%A9%E8%A9%9E%2C%E6%8E%A5%E7%B6%9A%2C%E5%B1%9E%E6%A0%BC%09_%092%09case%09_%09SpaceAfter%3DNo%7CTranslit%3D%27s%0A4%09%E8%81%B2%09%E8%81%B2%09NOUN%09n%2C%E5%90%8D%E8%A9%9E%2C%E4%B8%8D%E5%8F%AF%E8%AD%B2%2C%E8%BA%AB%E4%BD%93%09_%090%09ROOT%09_%09SpaceAfter%3DNo%7CTranslit%3Dvoice%0A5%09%E6%96%BC%09%E6%96%BC%09ADP%09v%2C%E5%89%8D%E7%BD%AE%E8%A9%9E%2C%E5%9F%BA%E7%9B%A4%2C%2A%09_%096%09case%09_%09SpaceAfter%3DNo%7CTranslit%3Dat%0A6%09%E8%80%B3%09%E8%80%B3%09NOUN%09n%2C%E5%90%8D%E8%A9%9E%2C%E4%B8%8D%E5%8F%AF%E8%AD%B2%2C%E8%BA%AB%E4%BD%93%09_%094%09obl%09_%09SpaceAfter%3DNo%7CTranslit%3Dear%0A%0A1%09%E8%80%8C%09%E8%80%8C%09CCONJ%09p%2C%E5%8A%A9%E8%A9%9E%2C%E6%8E%A5%E7%B6%9A%2C%E4%B8%A6%E5%88%97%09_%098%09advmod%09_%09SpaceAfter%3DNo%7CTranslit%3Dand%0A2%09%E4%B9%83%09%E4%B9%83%09ADV%09v%2C%E5%89%AF%E8%A9%9E%2C%E6%99%82%E7%9B%B8%2C%E7%B7%8A%E6%8E%A5%09AdvType%3DTim%093%09advmod%09_%09SpaceAfter%3DNo%7CTranslit%3Dthen%0A3%09%E7%94%A8%09%E7%94%A8%09VERB%09v%2C%E5%8B%95%E8%A9%9E%2C%E8%A1%8C%E7%82%BA%2C%E5%8B%95%E4%BD%9C%09_%098%09advcl%09_%09SpaceAfter%3DNo%7CTranslit%3Duse%0A4%09%E8%87%A3%09%E8%87%A3%09NOUN%09n%2C%E5%90%8D%E8%A9%9E%2C%E4%BA%BA%2C%E5%BD%B9%E5%89%B2%09_%097%09nmod%09_%09SpaceAfter%3DNo%7CTranslit%3Dvassal%0A5%09%E6%96%AF%09%E6%96%AF%09PROPN%09n%2C%E5%90%8D%E8%A9%9E%2C%E4%BA%BA%2C%E5%90%8D%09NameType%3DGiv%094%09flat%09_%09SpaceAfter%3DNo%7CTranslit%3D%5Bgiven-name%5D%0A6%09%E4%B9%8B%09%E4%B9%8B%09SCONJ%09p%2C%E5%8A%A9%E8%A9%9E%2C%E6%8E%A5%E7%B6%9A%2C%E5%B1%9E%E6%A0%BC%09_%094%09case%09_%09SpaceAfter%3DNo%7CTranslit%3D%27s%0A7%09%E8%A8%88%09%E8%A8%88%09NOUN%09n%2C%E5%90%8D%E8%A9%9E%2C%E5%8F%AF%E6%90%AC%2C%E4%BC%9D%E9%81%94%09_%093%09obj%09_%09SpaceAfter%3DNo%7CTranslit%3Dcalculation%0A8%09%E6%99%9A%09%E6%99%9A%09VERB%09v%2C%E5%8B%95%E8%A9%9E%2C%E6%8F%8F%E5%86%99%2C%E5%BD%A2%E8%B3%AA%09Degree%3DPos%090%09ROOT%09_%09SpaceAfter%3DNo%7CTranslit%3Dlate%0A9%09%E7%9F%A3%09%E7%9F%A3%09PART%09p%2C%E5%8A%A9%E8%A9%9E%2C%E5%8F%A5%E6%9C%AB%2C%2A%09_%098%09discourse%3Asp%09_%09SpaceAfter%3DNo%7CTranslit%3D%5BPFV%5D%0A%0A\"\n",
       "            frameborder=\"0\"\n",
       "            allowfullscreen\n",
       "            style=\"background-color: white;\"\n",
       "        ></iframe>\n",
       "        "
      ],
      "text/plain": [
       "<IPython.lib.display.IFrame at 0x7f9642629790>"
      ]
     },
     "metadata": {},
     "output_type": "display_data"
    }
   ],
   "source": [
    "ex171 = nlp(\"邊鄙殘\\n國固守\\n鼓鐸之聲於耳\\n而乃用臣斯之計晚矣\")\n",
    "serve(ex171, 900)"
   ]
  },
  {
   "cell_type": "markdown",
   "metadata": {},
   "source": [
    "#### iii. Hu 乎"
   ]
  },
  {
   "cell_type": "markdown",
   "metadata": {},
   "source": [
    "#### iv. Locative complements"
   ]
  },
  {
   "cell_type": "code",
   "execution_count": 81,
   "metadata": {},
   "outputs": [
    {
     "name": "stderr",
     "output_type": "stream",
     "text": [
      "                                                   \r"
     ]
    },
    {
     "data": {
      "text/html": [
       "\n",
       "        <iframe\n",
       "            width=\"100%\"\n",
       "            height=\"250\"\n",
       "            src=\"https://koichiyasuoka.github.io/deplacy/deplacy/viewer.svg#1%09%E7%8E%8B%09%E7%8E%8B%09NOUN%09n%2C%E5%90%8D%E8%A9%9E%2C%E4%BA%BA%2C%E5%BD%B9%E5%89%B2%09_%092%09nsubj%09_%09SpaceAfter%3DNo%7CTranslit%3Dking%0A2%09%E7%AB%8B%09%E7%AB%8B%09VERB%09v%2C%E5%8B%95%E8%A9%9E%2C%E8%A1%8C%E7%82%BA%2C%E5%A7%BF%E5%8B%A2%09_%090%09ROOT%09_%09SpaceAfter%3DNo%7CTranslit%3Dstand%0A3%09%E6%96%BC%09%E6%96%BC%09ADP%09v%2C%E5%89%8D%E7%BD%AE%E8%A9%9E%2C%E5%9F%BA%E7%9B%A4%2C%2A%09_%095%09case%09_%09SpaceAfter%3DNo%7CTranslit%3Dat%0A4%09%E6%B2%BC%09%E6%B2%BC%09NOUN%09n%2C%E5%90%8D%E8%A9%9E%2C%E5%9B%BA%E5%AE%9A%E7%89%A9%2C%E5%9C%B0%E5%BD%A2%09Case%3DLoc%095%09nmod%09_%09SpaceAfter%3DNo%7CTranslit%3Dpond%0A5%09%E4%B8%8A%09%E4%B8%8A%09NOUN%09n%2C%E5%90%8D%E8%A9%9E%2C%E5%9B%BA%E5%AE%9A%E7%89%A9%2C%E9%96%A2%E4%BF%82%09Case%3DLoc%092%09obl%3Almod%09_%09SpaceAfter%3DNo%7CTranslit%3Dup%0A%0A\"\n",
       "            frameborder=\"0\"\n",
       "            allowfullscreen\n",
       "            style=\"background-color: white;\"\n",
       "        ></iframe>\n",
       "        "
      ],
      "text/plain": [
       "<IPython.lib.display.IFrame at 0x7f9642629910>"
      ]
     },
     "metadata": {},
     "output_type": "display_data"
    }
   ],
   "source": [
    "ex172 = nlp(\"王立於沼上\")\n",
    "serve(ex172, 250)"
   ]
  },
  {
   "cell_type": "code",
   "execution_count": 85,
   "metadata": {},
   "outputs": [
    {
     "name": "stderr",
     "output_type": "stream",
     "text": [
      "                                                   \r"
     ]
    },
    {
     "data": {
      "text/html": [
       "\n",
       "        <iframe\n",
       "            width=\"100%\"\n",
       "            height=\"600\"\n",
       "            src=\"https://koichiyasuoka.github.io/deplacy/deplacy/viewer.svg#1%09%E6%B2%B3%09%E6%B2%B3%09NOUN%09n%2C%E5%90%8D%E8%A9%9E%2C%E5%9B%BA%E5%AE%9A%E7%89%A9%2C%E5%9C%B0%E5%BD%A2%09Case%3DLoc%092%09compound%09_%09SpaceAfter%3DNo%7CTranslit%3Driver%0A2%09%E5%86%85%09%E5%85%A7%09NOUN%09n%2C%E5%90%8D%E8%A9%9E%2C%E5%9B%BA%E5%AE%9A%E7%89%A9%2C%E9%96%A2%E4%BF%82%09Case%3DLoc%093%09nsubj%09_%09SpaceAfter%3DNo%7CTranslit%3Dinside%0A3%09%E5%87%B6%09%E5%87%B6%09VERB%09v%2C%E5%8B%95%E8%A9%9E%2C%E6%8F%8F%E5%86%99%2C%E5%BD%A2%E8%B3%AA%09Degree%3DPos%090%09ROOT%09_%09SpaceAfter%3DNo%7CTranslit%3Dill-omened%0A%0A1%09%E5%89%87%09%E5%89%87%09ADV%09v%2C%E5%89%AF%E8%A9%9E%2C%E6%99%82%E7%9B%B8%2C%E7%B7%8A%E6%8E%A5%09AdvType%3DTim%092%09advmod%09_%09SpaceAfter%3DNo%7CTranslit%3Dthen%0A2%09%E7%A7%BB%09%E7%A7%BB%09VERB%09v%2C%E5%8B%95%E8%A9%9E%2C%E8%A1%8C%E7%82%BA%2C%E7%A7%BB%E5%8B%95%09_%090%09ROOT%09_%09SpaceAfter%3DNo%7CTranslit%3Dmove%0A3%09%E5%85%B6%09%E5%85%B6%09PRON%09n%2C%E4%BB%A3%E5%90%8D%E8%A9%9E%2C%E4%BA%BA%E7%A7%B0%2C%E8%B5%B7%E6%A0%BC%09Person%3D3%7CPronType%3DPrs%094%09det%09_%09SpaceAfter%3DNo%7CTranslit%3D%5B3PRON%5D%0A4%09%E6%B0%91%09%E6%B0%91%09NOUN%09n%2C%E5%90%8D%E8%A9%9E%2C%E4%BA%BA%2C%E4%BA%BA%09_%092%09obj%09_%09SpaceAfter%3DNo%7CTranslit%3Dpeople%0A5%09%E6%96%BC%09%E6%96%BC%09ADP%09v%2C%E5%89%8D%E7%BD%AE%E8%A9%9E%2C%E5%9F%BA%E7%9B%A4%2C%2A%09_%097%09case%09_%09SpaceAfter%3DNo%7CTranslit%3Dat%0A6%09%E6%B2%B3%09%E6%B2%B3%09NOUN%09n%2C%E5%90%8D%E8%A9%9E%2C%E5%9B%BA%E5%AE%9A%E7%89%A9%2C%E5%9C%B0%E5%BD%A2%09Case%3DLoc%097%09nmod%09_%09SpaceAfter%3DNo%7CTranslit%3Driver%0A7%09%E6%9D%B1%09%E6%9D%B1%09NOUN%09n%2C%E5%90%8D%E8%A9%9E%2C%E5%9B%BA%E5%AE%9A%E7%89%A9%2C%E9%96%A2%E4%BF%82%09Case%3DLoc%092%09obl%3Almod%09_%09SpaceAfter%3DNo%7CTranslit%3Deast%0A%0A1%09%E7%A7%BB%09%E7%A7%BB%09VERB%09v%2C%E5%8B%95%E8%A9%9E%2C%E8%A1%8C%E7%82%BA%2C%E7%A7%BB%E5%8B%95%09_%090%09ROOT%09_%09SpaceAfter%3DNo%7CTranslit%3Dmove%0A2%09%E5%85%B6%09%E5%85%B6%09PRON%09n%2C%E4%BB%A3%E5%90%8D%E8%A9%9E%2C%E4%BA%BA%E7%A7%B0%2C%E8%B5%B7%E6%A0%BC%09Person%3D3%7CPronType%3DPrs%093%09det%09_%09SpaceAfter%3DNo%7CTranslit%3D%5B3PRON%5D%0A3%09%E7%B2%9F%09%E7%B2%9F%09NOUN%09n%2C%E5%90%8D%E8%A9%9E%2C%E5%8F%AF%E6%90%AC%2C%E7%B3%A7%E9%A3%9F%09_%091%09obj%09_%09SpaceAfter%3DNo%7CTranslit%3Dunhusked-grain%0A4%09%E6%96%BC%09%E6%96%BC%09ADP%09v%2C%E5%89%8D%E7%BD%AE%E8%A9%9E%2C%E5%9F%BA%E7%9B%A4%2C%2A%09_%096%09case%09_%09SpaceAfter%3DNo%7CTranslit%3Dat%0A5%09%E6%B2%B3%09%E6%B2%B3%09NOUN%09n%2C%E5%90%8D%E8%A9%9E%2C%E5%9B%BA%E5%AE%9A%E7%89%A9%2C%E5%9C%B0%E5%BD%A2%09Case%3DLoc%096%09nmod%09_%09SpaceAfter%3DNo%7CTranslit%3Driver%0A6%09%E5%86%85%09%E5%85%A7%09NOUN%09n%2C%E5%90%8D%E8%A9%9E%2C%E5%9B%BA%E5%AE%9A%E7%89%A9%2C%E9%96%A2%E4%BF%82%09Case%3DLoc%091%09obl%3Almod%09_%09SpaceAfter%3DNo%7CTranslit%3Dinside%0A%0A\"\n",
       "            frameborder=\"0\"\n",
       "            allowfullscreen\n",
       "            style=\"background-color: white;\"\n",
       "        ></iframe>\n",
       "        "
      ],
      "text/plain": [
       "<IPython.lib.display.IFrame at 0x7f9642633a00>"
      ]
     },
     "metadata": {},
     "output_type": "display_data"
    }
   ],
   "source": [
    "ex173 = nlp(\"河内凶\\n則移其民於河東\\n移其粟於河内\")\n",
    "serve(ex173, 600)"
   ]
  },
  {
   "cell_type": "code",
   "execution_count": 88,
   "metadata": {},
   "outputs": [
    {
     "name": "stderr",
     "output_type": "stream",
     "text": [
      "                                                   \r"
     ]
    },
    {
     "data": {
      "text/html": [
       "\n",
       "        <iframe\n",
       "            width=\"100%\"\n",
       "            height=\"250\"\n",
       "            src=\"https://koichiyasuoka.github.io/deplacy/deplacy/viewer.svg#1%09%E5%87%BA%09%E5%87%BA%09VERB%09v%2C%E5%8B%95%E8%A9%9E%2C%E8%A1%8C%E7%82%BA%2C%E7%A7%BB%E5%8B%95%09_%094%09acl%09_%09SpaceAfter%3DNo%7CTranslit%3Dgo-out%0A2%09%E4%B9%8E%09%E4%B9%8E%09ADP%09v%2C%E5%89%8D%E7%BD%AE%E8%A9%9E%2C%E5%9F%BA%E7%9B%A4%2C%2A%09_%093%09case%09_%09SpaceAfter%3DNo%7CTranslit%3Dat%0A3%09%E7%88%BE%09%E7%88%BE%09PRON%09n%2C%E4%BB%A3%E5%90%8D%E8%A9%9E%2C%E4%BA%BA%E7%A7%B0%2C%E6%AD%A2%E6%A0%BC%09Person%3D2%7CPronType%3DPrs%091%09obl%09_%09SpaceAfter%3DNo%7CTranslit%3D%5B2PRON%5D%0A4%09%E8%80%85%09%EF%A9%9B%09PART%09p%2C%E5%8A%A9%E8%A9%9E%2C%E6%8F%90%E7%A4%BA%2C%2A%09_%098%09nsubj%09_%09SpaceAfter%3DNo%7CTranslit%3Dthat-which%0A5%09%E5%8F%8D%09%E5%8F%8D%09VERB%09v%2C%E5%8B%95%E8%A9%9E%2C%E8%A1%8C%E7%82%BA%2C%E5%8B%95%E4%BD%9C%09_%098%09acl%09_%09SpaceAfter%3DNo%7CTranslit%3Dturn-over%0A6%09%E4%B9%8E%09%E4%B9%8E%09ADP%09v%2C%E5%89%8D%E7%BD%AE%E8%A9%9E%2C%E5%9F%BA%E7%9B%A4%2C%2A%09_%097%09case%09_%09SpaceAfter%3DNo%7CTranslit%3Dat%0A7%09%E7%88%BE%09%E7%88%BE%09PRON%09n%2C%E4%BB%A3%E5%90%8D%E8%A9%9E%2C%E4%BA%BA%E7%A7%B0%2C%E6%AD%A2%E6%A0%BC%09Person%3D2%7CPronType%3DPrs%095%09obl%09_%09SpaceAfter%3DNo%7CTranslit%3D%5B2PRON%5D%0A8%09%E8%80%85%09%EF%A9%9B%09PART%09p%2C%E5%8A%A9%E8%A9%9E%2C%E6%8F%90%E7%A4%BA%2C%2A%09_%090%09ROOT%09_%09SpaceAfter%3DNo%7CTranslit%3Dthat-which%0A9%09%E4%B9%9F%09%E4%B9%9F%09PART%09p%2C%E5%8A%A9%E8%A9%9E%2C%E5%8F%A5%E6%9C%AB%2C%2A%09_%098%09discourse%3Asp%09_%09SpaceAfter%3DNo%7CTranslit%3D%5Bfinal-particle%5D%0A%0A\"\n",
       "            frameborder=\"0\"\n",
       "            allowfullscreen\n",
       "            style=\"background-color: white;\"\n",
       "        ></iframe>\n",
       "        "
      ],
      "text/plain": [
       "<IPython.lib.display.IFrame at 0x7f96426331c0>"
      ]
     },
     "metadata": {},
     "output_type": "display_data"
    }
   ],
   "source": [
    "ex174 = nlp(\"出乎爾者反乎爾者也\")\n",
    "serve(ex174, 250)"
   ]
  },
  {
   "cell_type": "code",
   "execution_count": 90,
   "metadata": {},
   "outputs": [
    {
     "name": "stderr",
     "output_type": "stream",
     "text": [
      "                                                   \r"
     ]
    },
    {
     "data": {
      "text/html": [
       "\n",
       "        <iframe\n",
       "            width=\"100%\"\n",
       "            height=\"300\"\n",
       "            src=\"https://koichiyasuoka.github.io/deplacy/deplacy/viewer.svg#1%09%E5%90%BE%09%E5%90%BE%09PRON%09n%2C%E4%BB%A3%E5%90%8D%E8%A9%9E%2C%E4%BA%BA%E7%A7%B0%2C%E8%B5%B7%E6%A0%BC%09Person%3D1%7CPronType%3DPrs%092%09nsubj%09_%09SpaceAfter%3DNo%7CTranslit%3D%5B1PRON%5D%0A2%09%E8%81%9E%09%E8%81%9E%09VERB%09v%2C%E5%8B%95%E8%A9%9E%2C%E8%A1%8C%E7%82%BA%2C%E4%BC%9D%E9%81%94%09_%090%09ROOT%09_%09SpaceAfter%3DNo%7CTranslit%3Dhear%0A3%09%E5%87%BA%09%E5%87%BA%09VERB%09v%2C%E5%8B%95%E8%A9%9E%2C%E8%A1%8C%E7%82%BA%2C%E7%A7%BB%E5%8B%95%09_%0911%09acl%09_%09SpaceAfter%3DNo%7CTranslit%3Dgo-out%0A4%09%E6%96%BC%09%E6%96%BC%09ADP%09v%2C%E5%89%8D%E7%BD%AE%E8%A9%9E%2C%E5%9F%BA%E7%9B%A4%2C%2A%09_%096%09case%09_%09SpaceAfter%3DNo%7CTranslit%3Dat%0A5%09%E5%B9%BD%09%E5%B9%BD%09VERB%09v%2C%E5%8B%95%E8%A9%9E%2C%E5%A4%89%E5%8C%96%2C%E6%80%A7%E8%B3%AA%09_%096%09amod%09_%09SpaceAfter%3DNo%7CTranslit%3Dobscure%0A6%09%E8%B0%B7%09%E8%B0%B7%09NOUN%09n%2C%E5%90%8D%E8%A9%9E%2C%E5%9B%BA%E5%AE%9A%E7%89%A9%2C%E5%9C%B0%E5%BD%A2%09Case%3DLoc%093%09obl%3Almod%09_%09SpaceAfter%3DNo%7CTranslit%3Dvalley%0A7%09%E9%81%B7%09%E9%81%B7%09VERB%09v%2C%E5%8B%95%E8%A9%9E%2C%E8%A1%8C%E7%82%BA%2C%E7%A7%BB%E5%8B%95%09_%093%09conj%09_%09SpaceAfter%3DNo%7CTranslit%3Dtransfer%0A8%09%E4%BA%8E%09%E4%BA%8E%09ADP%09v%2C%E5%89%8D%E7%BD%AE%E8%A9%9E%2C%E5%9F%BA%E7%9B%A4%2C%2A%09_%0910%09case%09_%09SpaceAfter%3DNo%7CTranslit%3Dat%0A9%09%E5%96%AC%09%E5%96%AC%09VERB%09v%2C%E5%8B%95%E8%A9%9E%2C%E6%8F%8F%E5%86%99%2C%E5%BD%A2%E8%B3%AA%09Degree%3DPos%0910%09amod%09_%09SpaceAfter%3DNo%7CTranslit%3Dhigh%0A10%09%E6%9C%A8%09%E6%9C%A8%09NOUN%09n%2C%E5%90%8D%E8%A9%9E%2C%E5%9B%BA%E5%AE%9A%E7%89%A9%2C%E6%A8%B9%E6%9C%A8%09_%097%09obl%09_%09SpaceAfter%3DNo%7CTranslit%3Dtree%0A11%09%E8%80%85%09%EF%A9%9B%09PART%09p%2C%E5%8A%A9%E8%A9%9E%2C%E6%8F%90%E7%A4%BA%2C%2A%09_%092%09obj%09_%09SpaceAfter%3DNo%7CTranslit%3Dthat-which%0A%0A\"\n",
       "            frameborder=\"0\"\n",
       "            allowfullscreen\n",
       "            style=\"background-color: white;\"\n",
       "        ></iframe>\n",
       "        "
      ],
      "text/plain": [
       "<IPython.lib.display.IFrame at 0x7f96426290a0>"
      ]
     },
     "metadata": {},
     "output_type": "display_data"
    }
   ],
   "source": [
    "ex175 = nlp(\"吾聞出於幽谷遷于喬木者\")\n",
    "serve(ex175, 300)"
   ]
  },
  {
   "cell_type": "code",
   "execution_count": 92,
   "metadata": {},
   "outputs": [
    {
     "name": "stderr",
     "output_type": "stream",
     "text": [
      "                                                   \r"
     ]
    },
    {
     "data": {
      "text/html": [
       "\n",
       "        <iframe\n",
       "            width=\"100%\"\n",
       "            height=\"250\"\n",
       "            src=\"https://koichiyasuoka.github.io/deplacy/deplacy/viewer.svg#1%09%E7%9A%86%09%E7%9A%86%09ADV%09v%2C%E5%89%AF%E8%A9%9E%2C%E7%AF%84%E5%9B%B2%2C%E7%B7%8F%E6%8B%AC%09_%093%09advmod%09_%09SpaceAfter%3DNo%7CTranslit%3Dall%0A2%09%E6%AC%B2%09%E6%AC%B2%09AUX%09v%2C%E5%8A%A9%E5%8B%95%E8%A9%9E%2C%E9%A1%98%E6%9C%9B%2C%2A%09Mood%3DDes%093%09aux%09_%09SpaceAfter%3DNo%7CTranslit%3Dwish%0A3%09%E5%87%BA%09%E5%87%BA%09VERB%09v%2C%E5%8B%95%E8%A9%9E%2C%E8%A1%8C%E7%82%BA%2C%E7%A7%BB%E5%8B%95%09_%090%09ROOT%09_%09SpaceAfter%3DNo%7CTranslit%3Dgo-out%0A4%09%E6%96%BC%09%E6%96%BC%09ADP%09v%2C%E5%89%8D%E7%BD%AE%E8%A9%9E%2C%E5%9F%BA%E7%9B%A4%2C%2A%09_%097%09case%09_%09SpaceAfter%3DNo%7CTranslit%3Dat%0A5%09%E7%8E%8B%09%E7%8E%8B%09NOUN%09n%2C%E5%90%8D%E8%A9%9E%2C%E4%BA%BA%2C%E5%BD%B9%E5%89%B2%09_%097%09nmod%09_%09SpaceAfter%3DNo%7CTranslit%3Dking%0A6%09%E4%B9%8B%09%E4%B9%8B%09SCONJ%09p%2C%E5%8A%A9%E8%A9%9E%2C%E6%8E%A5%E7%B6%9A%2C%E5%B1%9E%E6%A0%BC%09_%095%09case%09_%09SpaceAfter%3DNo%7CTranslit%3D%27s%0A7%09%E5%A1%97%09%E5%A1%97%09NOUN%09n%2C%E5%90%8D%E8%A9%9E%2C%E5%9B%BA%E5%AE%9A%E7%89%A9%2C%E5%BB%BA%E9%80%A0%E7%89%A9%09Case%3DLoc%093%09obl%3Almod%09_%09SpaceAfter%3DNo%7CTranslit%3Droad%0A%0A\"\n",
       "            frameborder=\"0\"\n",
       "            allowfullscreen\n",
       "            style=\"background-color: white;\"\n",
       "        ></iframe>\n",
       "        "
      ],
      "text/plain": [
       "<IPython.lib.display.IFrame at 0x7f9642629940>"
      ]
     },
     "metadata": {},
     "output_type": "display_data"
    }
   ],
   "source": [
    "ex176 = nlp(\"皆欲出於王之塗\")\n",
    "serve(ex176, 250)"
   ]
  },
  {
   "cell_type": "code",
   "execution_count": 93,
   "metadata": {},
   "outputs": [
    {
     "name": "stderr",
     "output_type": "stream",
     "text": [
      "                                                   \r"
     ]
    },
    {
     "data": {
      "text/html": [
       "\n",
       "        <iframe\n",
       "            width=\"100%\"\n",
       "            height=\"200\"\n",
       "            src=\"https://koichiyasuoka.github.io/deplacy/deplacy/viewer.svg#1%09%E6%96%BC%09%E6%96%BC%09ADP%09v%2C%E5%89%8D%E7%BD%AE%E8%A9%9E%2C%E5%9F%BA%E7%9B%A4%2C%2A%09_%093%09case%09_%09SpaceAfter%3DNo%7CTranslit%3Dat%0A2%09%E6%88%91%09%E6%88%91%09PRON%09n%2C%E4%BB%A3%E5%90%8D%E8%A9%9E%2C%E4%BA%BA%E7%A7%B0%2C%E6%AD%A2%E6%A0%BC%09Person%3D1%7CPronType%3DPrs%093%09det%09_%09SpaceAfter%3DNo%7CTranslit%3D%5B1PRON%5D%0A3%09%E5%BF%83%09%E5%BF%83%09NOUN%09n%2C%E5%90%8D%E8%A9%9E%2C%E4%B8%8D%E5%8F%AF%E8%AD%B2%2C%E8%BA%AB%E4%BD%93%09_%094%09obl%09_%09SpaceAfter%3DNo%7CTranslit%3Dheart%0A4%09%E6%9C%89%09%E6%9C%89%09VERB%09v%2C%E5%8B%95%E8%A9%9E%2C%E5%AD%98%E5%9C%A8%2C%E5%AD%98%E5%9C%A8%09_%090%09ROOT%09_%09SpaceAfter%3DNo%7CTranslit%3Dhave%0A5%09%E6%88%9A%09%E6%88%9A%09VERB%09v%2C%E5%8B%95%E8%A9%9E%2C%E6%8F%8F%E5%86%99%2C%E6%85%8B%E5%BA%A6%09Degree%3DPos%094%09obj%09_%09SpaceAfter%3DNo%7CTranslit%3Dsad%0A6%09%E6%88%9A%09%E6%88%9A%09VERB%09v%2C%E5%8B%95%E8%A9%9E%2C%E6%8F%8F%E5%86%99%2C%E6%85%8B%E5%BA%A6%09Degree%3DPos%095%09compound%3Aredup%09_%09SpaceAfter%3DNo%7CTranslit%3Dsad%0A7%09%E7%84%89%09%E7%84%89%09PART%09p%2C%E5%8A%A9%E8%A9%9E%2C%E5%8F%A5%E6%9C%AB%2C%2A%09_%094%09obl%09_%09SpaceAfter%3DNo%7CTranslit%3D%5Bfinal-particle%5D%0A%0A\"\n",
       "            frameborder=\"0\"\n",
       "            allowfullscreen\n",
       "            style=\"background-color: white;\"\n",
       "        ></iframe>\n",
       "        "
      ],
      "text/plain": [
       "<IPython.lib.display.IFrame at 0x7f9642617df0>"
      ]
     },
     "metadata": {},
     "output_type": "display_data"
    }
   ],
   "source": [
    "ex177 = nlp(\"於我心有戚戚焉\")\n",
    "serve(ex177)"
   ]
  },
  {
   "cell_type": "markdown",
   "metadata": {},
   "source": [
    "#### v. Omission of the coverb in locative complements"
   ]
  },
  {
   "cell_type": "code",
   "execution_count": 97,
   "metadata": {},
   "outputs": [
    {
     "name": "stderr",
     "output_type": "stream",
     "text": [
      "                                                   \r"
     ]
    },
    {
     "data": {
      "text/html": [
       "\n",
       "        <iframe\n",
       "            width=\"100%\"\n",
       "            height=\"450\"\n",
       "            src=\"https://koichiyasuoka.github.io/deplacy/deplacy/viewer.svg#1%09%E9%84%AD%09%E9%84%AD%09PROPN%09n%2C%E5%90%8D%E8%A9%9E%2C%E4%B8%BB%E4%BD%93%2C%E5%9B%BD%E5%90%8D%09Case%3DLoc%7CNameType%3DNat%092%09nmod%09_%09SpaceAfter%3DNo%7CTranslit%3D%5Bcountry-name%5D%0A2%09%E4%BA%BA%09%E4%BA%BA%09NOUN%09n%2C%E5%90%8D%E8%A9%9E%2C%E4%BA%BA%2C%E4%BA%BA%09_%093%09nsubj%09_%09SpaceAfter%3DNo%7CTranslit%3Dperson%0A3%09%E6%9C%89%09%E6%9C%89%09VERB%09v%2C%E5%8B%95%E8%A9%9E%2C%E5%AD%98%E5%9C%A8%2C%E5%AD%98%E5%9C%A8%09_%090%09ROOT%09_%09SpaceAfter%3DNo%7CTranslit%3Dhave%0A4%09%E6%AC%B2%09%E6%AC%B2%09AUX%09v%2C%E5%8A%A9%E5%8B%95%E8%A9%9E%2C%E9%A1%98%E6%9C%9B%2C%2A%09Mood%3DDes%095%09aux%09_%09SpaceAfter%3DNo%7CTranslit%3Dwish%0A5%09%E8%B2%B7%09%E8%B2%B7%09VERB%09v%2C%E5%8B%95%E8%A9%9E%2C%E8%A1%8C%E7%82%BA%2C%E4%BA%A4%E6%B5%81%09_%097%09acl%09_%09SpaceAfter%3DNo%0A6%09%E5%B1%A5%09%E5%B1%A5%09NOUN%09n%2C%E5%90%8D%E8%A9%9E%2C%E5%8F%AF%E6%90%AC%2C%E9%81%93%E5%85%B7%09_%095%09obj%09_%09SpaceAfter%3DNo%7CTranslit%3Dshoe%0A7%09%E8%80%85%09%EF%A9%9B%09PART%09p%2C%E5%8A%A9%E8%A9%9E%2C%E6%8F%90%E7%A4%BA%2C%2A%09_%093%09obj%09_%09SpaceAfter%3DNo%7CTranslit%3Dthat-which%0A%0A1%09%E5%85%88%09%E5%85%88%09NOUN%09n%2C%E5%90%8D%E8%A9%9E%2C%E5%9B%BA%E5%AE%9A%E7%89%A9%2C%E9%96%A2%E4%BF%82%09Case%3DLoc%093%09obl%3Almod%09_%09SpaceAfter%3DNo%7CTranslit%3Dbefore%0A2%09%E8%87%AA%09%E8%87%AA%09PRON%09n%2C%E4%BB%A3%E5%90%8D%E8%A9%9E%2C%E4%BA%BA%E7%A7%B0%2C%E4%BB%96%09PronType%3DPrs%7CReflex%3DYes%093%09nsubj%09_%09SpaceAfter%3DNo%7CTranslit%3Dself%0A3%09%E5%BA%A6%09%E5%BA%A6%09VERB%09v%2C%E5%8B%95%E8%A9%9E%2C%E8%A1%8C%E7%82%BA%2C%E6%85%8B%E5%BA%A6%09_%090%09ROOT%09_%09SpaceAfter%3DNo%7CTranslit%3Dmeasure%0A4%09%E5%85%B6%09%E5%85%B6%09PRON%09n%2C%E4%BB%A3%E5%90%8D%E8%A9%9E%2C%E4%BA%BA%E7%A7%B0%2C%E8%B5%B7%E6%A0%BC%09Person%3D3%7CPronType%3DPrs%095%09det%09_%09SpaceAfter%3DNo%7CTranslit%3D%5B3PRON%5D%0A5%09%E8%B6%B3%09%E8%B6%B3%09NOUN%09n%2C%E5%90%8D%E8%A9%9E%2C%E4%B8%8D%E5%8F%AF%E8%AD%B2%2C%E8%BA%AB%E4%BD%93%09_%093%09obj%09_%09SpaceAfter%3DNo%7CTranslit%3Dfoot%0A6%09%E8%80%8C%09%E8%80%8C%09CCONJ%09p%2C%E5%8A%A9%E8%A9%9E%2C%E6%8E%A5%E7%B6%9A%2C%E4%B8%A6%E5%88%97%09_%097%09cc%09_%09SpaceAfter%3DNo%7CTranslit%3Dand%0A7%09%E7%BD%AE%09%E7%BD%AE%09VERB%09v%2C%E5%8B%95%E8%A9%9E%2C%E8%A1%8C%E7%82%BA%2C%E8%A8%AD%E7%BD%AE%09_%093%09conj%09_%09SpaceAfter%3DNo%7CTranslit%3Dplace%0A8%09%E4%B9%8B%09%E4%B9%8B%09PRON%09n%2C%E4%BB%A3%E5%90%8D%E8%A9%9E%2C%E4%BA%BA%E7%A7%B0%2C%E6%AD%A2%E6%A0%BC%09Person%3D3%7CPronType%3DPrs%097%09iobj%09_%09SpaceAfter%3DNo%7CTranslit%3D%5B3PRON%5D%0A9%09%E5%85%B6%09%E5%85%B6%09PRON%09n%2C%E4%BB%A3%E5%90%8D%E8%A9%9E%2C%E4%BA%BA%E7%A7%B0%2C%E8%B5%B7%E6%A0%BC%09Person%3D3%7CPronType%3DPrs%0910%09det%09_%09SpaceAfter%3DNo%7CTranslit%3D%5B3PRON%5D%0A10%09%E5%9D%90%09%E5%9D%90%09NOUN%09n%2C%E5%90%8D%E8%A9%9E%2C%E5%8F%AF%E6%90%AC%2C%E9%81%93%E5%85%B7%09_%097%09obl%09_%09SpaceAfter%3DNo%7CTranslit%3Dseat%0A%0A\"\n",
       "            frameborder=\"0\"\n",
       "            allowfullscreen\n",
       "            style=\"background-color: white;\"\n",
       "        ></iframe>\n",
       "        "
      ],
      "text/plain": [
       "<IPython.lib.display.IFrame at 0x7f9642617910>"
      ]
     },
     "metadata": {},
     "output_type": "display_data"
    }
   ],
   "source": [
    "ex178 = nlp(\"鄭人有欲買履者\\n先自度其足而置之其坐\")\n",
    "serve(ex178, 450)"
   ]
  },
  {
   "cell_type": "markdown",
   "metadata": {},
   "source": [
    "#### vi. The pronominal substitutes yuan 爰 and yan 焉"
   ]
  },
  {
   "cell_type": "markdown",
   "metadata": {},
   "source": [
    "#### vii. X zhi yu 之於 Y"
   ]
  },
  {
   "cell_type": "code",
   "execution_count": 100,
   "metadata": {},
   "outputs": [
    {
     "name": "stderr",
     "output_type": "stream",
     "text": [
      "                                                   \r"
     ]
    },
    {
     "data": {
      "text/html": [
       "\n",
       "        <iframe\n",
       "            width=\"100%\"\n",
       "            height=\"300\"\n",
       "            src=\"https://koichiyasuoka.github.io/deplacy/deplacy/viewer.svg#1%09%E5%AF%A1%09%E5%AF%A1%09VERB%09v%2C%E5%8B%95%E8%A9%9E%2C%E6%8F%8F%E5%86%99%2C%E9%87%8F%09Degree%3DPos%092%09amod%09_%09SpaceAfter%3DNo%7CTranslit%3Dfew%0A2%09%E4%BA%BA%09%E4%BA%BA%09NOUN%09n%2C%E5%90%8D%E8%A9%9E%2C%E4%BA%BA%2C%E4%BA%BA%09_%094%09nsubj%09_%09SpaceAfter%3DNo%7CTranslit%3Dperson%0A3%09%E4%B9%8B%09%E4%B9%8B%09SCONJ%09p%2C%E5%8A%A9%E8%A9%9E%2C%E6%8E%A5%E7%B6%9A%2C%E5%B1%9E%E6%A0%BC%09_%092%09case%09_%09SpaceAfter%3DNo%7CTranslit%3D%27s%0A4%09%E6%96%BC%09%E6%96%BC%09VERB%09v%2C%E5%8B%95%E8%A9%9E%2C%E5%AD%98%E5%9C%A8%2C%E5%AD%98%E5%9C%A8%09_%097%09advcl%09_%09SpaceAfter%3DNo%7CTranslit%3Dgo-into%0A5%09%E5%9C%8B%09%E5%9C%8B%09NOUN%09n%2C%E5%90%8D%E8%A9%9E%2C%E4%B8%BB%E4%BD%93%2C%E9%9B%86%E5%9B%A3%09_%094%09obj%09_%09SpaceAfter%3DNo%7CTranslit%3Dcountry%0A6%09%E4%B9%9F%09%E4%B9%9F%09PART%09p%2C%E5%8A%A9%E8%A9%9E%2C%E6%8F%90%E7%A4%BA%2C%2A%09_%094%09mark%09_%09SpaceAfter%3DNo%7CTranslit%3Dthat-which%0A7%09%E7%9B%A1%09%E7%9B%A1%09VERB%09v%2C%E5%8B%95%E8%A9%9E%2C%E8%A1%8C%E7%82%BA%2C%E5%8B%95%E4%BD%9C%09_%090%09ROOT%09_%09SpaceAfter%3DNo%7CTranslit%3Dexhaust%0A8%09%E5%BF%83%09%E5%BF%83%09NOUN%09n%2C%E5%90%8D%E8%A9%9E%2C%E4%B8%8D%E5%8F%AF%E8%AD%B2%2C%E8%BA%AB%E4%BD%93%09_%097%09obj%09_%09SpaceAfter%3DNo%7CTranslit%3Dheart%0A9%09%E7%84%89%09%E7%84%89%09PRON%09n%2C%E4%BB%A3%E5%90%8D%E8%A9%9E%2C%E6%8C%87%E7%A4%BA%2C%2A%09PronType%3DDem%097%09obl%09_%09SpaceAfter%3DNo%7CTranslit%3Dthere%0A10%09%E8%80%B3%09%E8%80%B3%09PART%09p%2C%E5%8A%A9%E8%A9%9E%2C%E5%8F%A5%E6%9C%AB%2C%2A%09_%097%09discourse%3Asp%09_%09SpaceAfter%3DNo%7CTranslit%3Donly%0A11%09%E7%9F%A3%09%E7%9F%A3%09PART%09p%2C%E5%8A%A9%E8%A9%9E%2C%E5%8F%A5%E6%9C%AB%2C%2A%09_%097%09discourse%3Asp%09_%09SpaceAfter%3DNo%7CTranslit%3D%5BPFV%5D%0A%0A\"\n",
       "            frameborder=\"0\"\n",
       "            allowfullscreen\n",
       "            style=\"background-color: white;\"\n",
       "        ></iframe>\n",
       "        "
      ],
      "text/plain": [
       "<IPython.lib.display.IFrame at 0x7f9647a88f10>"
      ]
     },
     "metadata": {},
     "output_type": "display_data"
    }
   ],
   "source": [
    "ex179 = nlp(\"寡人之於國也盡心焉耳矣\")\n",
    "serve(ex179, 300)"
   ]
  },
  {
   "cell_type": "code",
   "execution_count": 102,
   "metadata": {},
   "outputs": [
    {
     "name": "stderr",
     "output_type": "stream",
     "text": [
      "                                                   \r"
     ]
    },
    {
     "data": {
      "text/html": [
       "\n",
       "        <iframe\n",
       "            width=\"100%\"\n",
       "            height=\"450\"\n",
       "            src=\"https://koichiyasuoka.github.io/deplacy/deplacy/viewer.svg#1%09%E5%A7%8B%09%E5%A7%8B%09VERB%09v%2C%E5%8B%95%E8%A9%9E%2C%E8%A1%8C%E7%82%BA%2C%E5%8B%95%E4%BD%9C%09_%093%09advmod%09_%09SpaceAfter%3DNo%7CTranslit%3Dbegin%0A2%09%E5%90%BE%09%E5%90%BE%09PRON%09n%2C%E4%BB%A3%E5%90%8D%E8%A9%9E%2C%E4%BA%BA%E7%A7%B0%2C%E8%B5%B7%E6%A0%BC%09Person%3D1%7CPronType%3DPrs%093%09nsubj%09_%09SpaceAfter%3DNo%7CTranslit%3D%5B1PRON%5D%0A3%09%E6%96%BC%09%E6%96%BC%09VERB%09v%2C%E5%8B%95%E8%A9%9E%2C%E5%AD%98%E5%9C%A8%2C%E5%AD%98%E5%9C%A8%09_%096%09advcl%09_%09SpaceAfter%3DNo%7CTranslit%3Dgo-into%0A4%09%E4%BA%BA%09%E4%BA%BA%09NOUN%09n%2C%E5%90%8D%E8%A9%9E%2C%E4%BA%BA%2C%E4%BA%BA%09_%093%09obj%09_%09SpaceAfter%3DNo%7CTranslit%3Dperson%0A5%09%E4%B9%9F%09%E4%B9%9F%09PART%09p%2C%E5%8A%A9%E8%A9%9E%2C%E6%8F%90%E7%A4%BA%2C%2A%09_%093%09mark%09_%09SpaceAfter%3DNo%7CTranslit%3Dthat-which%0A6%09%E8%81%BD%09%E8%81%BD%09VERB%09v%2C%E5%8B%95%E8%A9%9E%2C%E8%A1%8C%E7%82%BA%2C%E4%BC%9D%E9%81%94%09_%090%09ROOT%09_%09SpaceAfter%3DNo%7CTranslit%3Dlisten%0A7%09%E5%85%B6%09%E5%85%B6%09PRON%09n%2C%E4%BB%A3%E5%90%8D%E8%A9%9E%2C%E4%BA%BA%E7%A7%B0%2C%E8%B5%B7%E6%A0%BC%09Person%3D3%7CPronType%3DPrs%098%09det%09_%09SpaceAfter%3DNo%7CTranslit%3D%5B3PRON%5D%0A8%09%E8%A8%80%09%E8%A8%80%09NOUN%09n%2C%E5%90%8D%E8%A9%9E%2C%E5%8F%AF%E6%90%AC%2C%E4%BC%9D%E9%81%94%09_%096%09obj%09_%09SpaceAfter%3DNo%7CTranslit%3Dspeech%0A9%09%E8%80%8C%09%E8%80%8C%09CCONJ%09p%2C%E5%8A%A9%E8%A9%9E%2C%E6%8E%A5%E7%B6%9A%2C%E4%B8%A6%E5%88%97%09_%0910%09cc%09_%09SpaceAfter%3DNo%7CTranslit%3Dand%0A10%09%E4%BF%A1%09%E4%BF%A1%09VERB%09v%2C%E5%8B%95%E8%A9%9E%2C%E8%A1%8C%E7%82%BA%2C%E6%85%8B%E5%BA%A6%09_%096%09conj%09_%09SpaceAfter%3DNo%7CTranslit%3Dbelieve%0A11%09%E5%85%B6%09%E5%85%B6%09PRON%09n%2C%E4%BB%A3%E5%90%8D%E8%A9%9E%2C%E4%BA%BA%E7%A7%B0%2C%E8%B5%B7%E6%A0%BC%09Person%3D3%7CPronType%3DPrs%0912%09det%09_%09SpaceAfter%3DNo%7CTranslit%3D%5B3PRON%5D%0A12%09%E8%A1%8C%09%E8%A1%8C%09NOUN%09n%2C%E5%90%8D%E8%A9%9E%2C%E8%A1%8C%E7%82%BA%2C%2A%09_%0910%09obj%09_%09SpaceAfter%3DNo%7CTranslit%3Daction%0A%0A1%09%E4%BB%8A%09%E4%BB%8A%09NOUN%09n%2C%E5%90%8D%E8%A9%9E%2C%E6%99%82%2C%2A%09Case%3DTem%093%09obl%3Atmod%09_%09SpaceAfter%3DNo%7CTranslit%3Dnow%0A2%09%E5%90%BE%09%E5%90%BE%09PRON%09n%2C%E4%BB%A3%E5%90%8D%E8%A9%9E%2C%E4%BA%BA%E7%A7%B0%2C%E8%B5%B7%E6%A0%BC%09Person%3D1%7CPronType%3DPrs%093%09nsubj%09_%09SpaceAfter%3DNo%7CTranslit%3D%5B1PRON%5D%0A3%09%E6%96%BC%09%E6%96%BC%09VERB%09v%2C%E5%8B%95%E8%A9%9E%2C%E5%AD%98%E5%9C%A8%2C%E5%AD%98%E5%9C%A8%09_%096%09advcl%09_%09SpaceAfter%3DNo%7CTranslit%3Dgo-into%0A4%09%E4%BA%BA%09%E4%BA%BA%09NOUN%09n%2C%E5%90%8D%E8%A9%9E%2C%E4%BA%BA%2C%E4%BA%BA%09_%093%09obj%09_%09SpaceAfter%3DNo%7CTranslit%3Dperson%0A5%09%E4%B9%9F%09%E4%B9%9F%09PART%09p%2C%E5%8A%A9%E8%A9%9E%2C%E6%8F%90%E7%A4%BA%2C%2A%09_%093%09mark%09_%09SpaceAfter%3DNo%7CTranslit%3Dthat-which%0A6%09%E8%81%BD%09%E8%81%BD%09VERB%09v%2C%E5%8B%95%E8%A9%9E%2C%E8%A1%8C%E7%82%BA%2C%E4%BC%9D%E9%81%94%09_%090%09ROOT%09_%09SpaceAfter%3DNo%7CTranslit%3Dlisten%0A7%09%E5%85%B6%09%E5%85%B6%09PRON%09n%2C%E4%BB%A3%E5%90%8D%E8%A9%9E%2C%E4%BA%BA%E7%A7%B0%2C%E8%B5%B7%E6%A0%BC%09Person%3D3%7CPronType%3DPrs%098%09det%09_%09SpaceAfter%3DNo%7CTranslit%3D%5B3PRON%5D%0A8%09%E8%A8%80%09%E8%A8%80%09NOUN%09n%2C%E5%90%8D%E8%A9%9E%2C%E5%8F%AF%E6%90%AC%2C%E4%BC%9D%E9%81%94%09_%096%09obj%09_%09SpaceAfter%3DNo%7CTranslit%3Dspeech%0A9%09%E8%80%8C%09%E8%80%8C%09CCONJ%09p%2C%E5%8A%A9%E8%A9%9E%2C%E6%8E%A5%E7%B6%9A%2C%E4%B8%A6%E5%88%97%09_%0910%09cc%09_%09SpaceAfter%3DNo%7CTranslit%3Dand%0A10%09%E8%A7%80%09%E8%A7%80%09VERB%09v%2C%E5%8B%95%E8%A9%9E%2C%E8%A1%8C%E7%82%BA%2C%E5%8B%95%E4%BD%9C%09_%096%09conj%09_%09SpaceAfter%3DNo%7CTranslit%3Dview%0A11%09%E5%85%B6%09%E5%85%B6%09PRON%09n%2C%E4%BB%A3%E5%90%8D%E8%A9%9E%2C%E4%BA%BA%E7%A7%B0%2C%E8%B5%B7%E6%A0%BC%09Person%3D3%7CPronType%3DPrs%0912%09det%09_%09SpaceAfter%3DNo%7CTranslit%3D%5B3PRON%5D%0A12%09%E8%A1%8C%09%E8%A1%8C%09NOUN%09n%2C%E5%90%8D%E8%A9%9E%2C%E8%A1%8C%E7%82%BA%2C%2A%09_%0910%09obj%09_%09SpaceAfter%3DNo%7CTranslit%3Daction%0A%0A\"\n",
       "            frameborder=\"0\"\n",
       "            allowfullscreen\n",
       "            style=\"background-color: white;\"\n",
       "        ></iframe>\n",
       "        "
      ],
      "text/plain": [
       "<IPython.lib.display.IFrame at 0x7f96426331c0>"
      ]
     },
     "metadata": {},
     "output_type": "display_data"
    }
   ],
   "source": [
    "ex180 = nlp(\"始吾於人也聽其言而信其行\\n今吾於人也聽其言而觀其行\")\n",
    "serve(ex180, 450)"
   ]
  },
  {
   "cell_type": "markdown",
   "metadata": {},
   "source": [
    "### c. Descriptive Complements with Ru 如 and You 猶"
   ]
  },
  {
   "cell_type": "code",
   "execution_count": 105,
   "metadata": {},
   "outputs": [
    {
     "name": "stderr",
     "output_type": "stream",
     "text": [
      "                                                   \r"
     ]
    },
    {
     "data": {
      "text/html": [
       "\n",
       "        <iframe\n",
       "            width=\"100%\"\n",
       "            height=\"250\"\n",
       "            src=\"https://koichiyasuoka.github.io/deplacy/deplacy/viewer.svg#1%09%E8%81%96%09%E8%81%96%09NOUN%09n%2C%E5%90%8D%E8%A9%9E%2C%E4%BA%BA%2C%E5%BD%B9%E5%89%B2%09_%092%09nmod%09_%09SpaceAfter%3DNo%7CTranslit%3Dsage%0A2%09%E4%BA%BA%09%E4%BA%BA%09NOUN%09n%2C%E5%90%8D%E8%A9%9E%2C%E4%BA%BA%2C%E4%BA%BA%09_%093%09nsubj%09_%09SpaceAfter%3DNo%7CTranslit%3Dperson%0A3%09%E6%B2%BB%09%E6%B2%BB%09VERB%09v%2C%E5%8B%95%E8%A9%9E%2C%E8%A1%8C%E7%82%BA%2C%E5%8B%95%E4%BD%9C%09_%090%09ROOT%09_%09SpaceAfter%3DNo%7CTranslit%3Dgovern%0A4%09%E5%A4%A9%09%E5%A4%A9%09NOUN%09n%2C%E5%90%8D%E8%A9%9E%2C%E5%88%B6%E5%BA%A6%2C%E5%A0%B4%09Case%3DLoc%095%09compound%09_%09SpaceAfter%3DNo%7CTranslit%3Dheaven%0A5%09%E4%B8%8B%09%E4%B8%8B%09NOUN%09n%2C%E5%90%8D%E8%A9%9E%2C%E5%9B%BA%E5%AE%9A%E7%89%A9%2C%E9%96%A2%E4%BF%82%09Case%3DLoc%093%09obj%09_%09SpaceAfter%3DNo%7CTranslit%3Ddown%0A6%09%E4%BD%BF%09%E4%BD%BF%09VERB%09v%2C%E5%8B%95%E8%A9%9E%2C%E8%A1%8C%E7%82%BA%2C%E4%BD%BF%E5%BD%B9%09_%093%09parataxis%09_%09SpaceAfter%3DNo%7CTranslit%3D%5Bmake-to-do%5D%0A7%09%E6%9C%89%09%E6%9C%89%09VERB%09v%2C%E5%8B%95%E8%A9%9E%2C%E5%AD%98%E5%9C%A8%2C%E5%AD%98%E5%9C%A8%09_%096%09ccomp%09_%09SpaceAfter%3DNo%7CTranslit%3Dhave%0A8%09%E8%8F%BD%09%E8%8F%BD%09NOUN%09n%2C%E5%90%8D%E8%A9%9E%2C%E5%8F%AF%E6%90%AC%2C%E7%B3%A7%E9%A3%9F%09_%097%09obj%09_%09SpaceAfter%3DNo%7CTranslit%3Dbeans%0A9%09%E7%B2%9F%09%E7%B2%9F%09NOUN%09n%2C%E5%90%8D%E8%A9%9E%2C%E5%8F%AF%E6%90%AC%2C%E7%B3%A7%E9%A3%9F%09_%098%09conj%09_%09SpaceAfter%3DNo%7CTranslit%3Dunhusked-grain%0A10%09%E5%A6%82%09%E5%A6%82%09VERB%09v%2C%E5%8B%95%E8%A9%9E%2C%E8%A1%8C%E7%82%BA%2C%E5%88%86%E9%A1%9E%09Degree%3DEqu%096%09xcomp%09_%09SpaceAfter%3DNo%7CTranslit%3Dbe-like%0A11%09%E6%B0%B4%09%E6%B0%B4%09NOUN%09n%2C%E5%90%8D%E8%A9%9E%2C%E5%8F%AF%E6%90%AC%2C%E9%81%93%E5%85%B7%09_%0910%09obj%09_%09SpaceAfter%3DNo%7CTranslit%3Dwater%0A12%09%E7%81%AB%09%E7%81%AB%09NOUN%09n%2C%E5%90%8D%E8%A9%9E%2C%E5%8F%AF%E6%90%AC%2C%E9%81%93%E5%85%B7%09_%0911%09conj%09_%09SpaceAfter%3DNo%7CTranslit%3Dfire%0A%0A\"\n",
       "            frameborder=\"0\"\n",
       "            allowfullscreen\n",
       "            style=\"background-color: white;\"\n",
       "        ></iframe>\n",
       "        "
      ],
      "text/plain": [
       "<IPython.lib.display.IFrame at 0x7f9647a88cd0>"
      ]
     },
     "metadata": {},
     "output_type": "display_data"
    }
   ],
   "source": [
    "ex181 = nlp(\"聖人治天下使有菽粟如水火\")\n",
    "serve(ex181, 250)"
   ]
  },
  {
   "cell_type": "code",
   "execution_count": 109,
   "metadata": {},
   "outputs": [
    {
     "name": "stderr",
     "output_type": "stream",
     "text": [
      "                                                   \r"
     ]
    },
    {
     "data": {
      "text/html": [
       "\n",
       "        <iframe\n",
       "            width=\"100%\"\n",
       "            height=\"750\"\n",
       "            src=\"https://koichiyasuoka.github.io/deplacy/deplacy/viewer.svg#1%09%E8%89%AF%09%E8%89%AF%09VERB%09v%2C%E5%8B%95%E8%A9%9E%2C%E6%8F%8F%E5%86%99%2C%E5%BD%A2%E8%B3%AA%09Degree%3DPos%092%09amod%09_%09SpaceAfter%3DNo%7CTranslit%3Dgood%0A2%09%E5%90%9B%09%E5%90%9B%09NOUN%09n%2C%E5%90%8D%E8%A9%9E%2C%E4%BA%BA%2C%E5%BD%B9%E5%89%B2%09_%094%09nsubj%09_%09SpaceAfter%3DNo%7CTranslit%3Druler%0A3%09%E5%B0%87%09%E5%B0%87%09ADV%09v%2C%E5%89%AF%E8%A9%9E%2C%E6%99%82%E7%9B%B8%2C%E5%B0%86%E6%9D%A5%09AdvType%3DTim%7CTense%3DFut%094%09advmod%09_%09SpaceAfter%3DNo%7CTranslit%3Dabout-to%0A4%09%E8%B3%9E%09%E8%B3%9E%09VERB%09v%2C%E5%8B%95%E8%A9%9E%2C%E8%A1%8C%E7%82%BA%2C%E4%BA%A4%E6%B5%81%09_%090%09ROOT%09_%09SpaceAfter%3DNo%7CTranslit%3Dreward%0A5%09%E5%96%84%09%E5%96%84%09NOUN%09n%2C%E5%90%8D%E8%A9%9E%2C%E6%8F%8F%E5%86%99%2C%E6%85%8B%E5%BA%A6%09_%094%09obj%09_%09SpaceAfter%3DNo%7CTranslit%3Dgood%0A6%09%E8%80%8C%09%E8%80%8C%09CCONJ%09p%2C%E5%8A%A9%E8%A9%9E%2C%E6%8E%A5%E7%B6%9A%2C%E4%B8%A6%E5%88%97%09_%097%09cc%09_%09SpaceAfter%3DNo%7CTranslit%3Dand%0A7%09%E5%88%91%09%E5%88%91%09VERB%09v%2C%E5%8B%95%E8%A9%9E%2C%E8%A1%8C%E7%82%BA%2C%E5%BD%B9%E5%89%B2%09_%094%09conj%09_%09SpaceAfter%3DNo%7CTranslit%3Dpunish%0A8%09%E6%B7%AB%09%E6%B7%AB%09VERB%09v%2C%E5%8B%95%E8%A9%9E%2C%E6%8F%8F%E5%86%99%2C%E6%85%8B%E5%BA%A6%09Degree%3DPos%097%09obj%09_%09SpaceAfter%3DNo%7CTranslit%3Dexcessive%0A%0A1%09%E9%A4%8A%09%E9%A4%8A%09VERB%09v%2C%E5%8B%95%E8%A9%9E%2C%E8%A1%8C%E7%82%BA%2C%E5%8B%95%E4%BD%9C%09_%093%09csubj%09_%09SpaceAfter%3DNo%7CTranslit%3Dsupport%0A2%09%E6%B0%91%09%E6%B0%91%09NOUN%09n%2C%E5%90%8D%E8%A9%9E%2C%E4%BA%BA%2C%E4%BA%BA%09_%091%09obj%09_%09SpaceAfter%3DNo%7CTranslit%3Dpeople%0A3%09%E5%A6%82%09%E5%A6%82%09VERB%09v%2C%E5%8B%95%E8%A9%9E%2C%E8%A1%8C%E7%82%BA%2C%E5%88%86%E9%A1%9E%09Degree%3DEqu%090%09ROOT%09_%09SpaceAfter%3DNo%7CTranslit%3Dbe-like%0A4%09%E5%AD%90%09%E5%AD%90%09NOUN%09n%2C%E5%90%8D%E8%A9%9E%2C%E4%BA%BA%2C%E9%96%A2%E4%BF%82%09_%093%09obj%09_%09SpaceAfter%3DNo%7CTranslit%3Dchild%0A%0A1%09%E8%93%8B%09%E8%93%8B%09VERB%09v%2C%E5%8B%95%E8%A9%9E%2C%E8%A1%8C%E7%82%BA%2C%E5%8B%95%E4%BD%9C%09_%093%09discourse%09_%09SpaceAfter%3DNo%7CTranslit%3Dcover%0A2%09%E4%B9%8B%09%E4%B9%8B%09PRON%09n%2C%E4%BB%A3%E5%90%8D%E8%A9%9E%2C%E4%BA%BA%E7%A7%B0%2C%E6%AD%A2%E6%A0%BC%09Person%3D3%7CPronType%3DPrs%091%09obj%09_%09SpaceAfter%3DNo%7CTranslit%3D%5B3PRON%5D%0A3%09%E5%A6%82%09%E5%A6%82%09VERB%09v%2C%E5%8B%95%E8%A9%9E%2C%E8%A1%8C%E7%82%BA%2C%E5%88%86%E9%A1%9E%09Degree%3DEqu%090%09ROOT%09_%09SpaceAfter%3DNo%7CTranslit%3Dbe-like%0A4%09%E5%A4%A9%09%E5%A4%A9%09NOUN%09n%2C%E5%90%8D%E8%A9%9E%2C%E5%88%B6%E5%BA%A6%2C%E5%A0%B4%09Case%3DLoc%093%09obj%09_%09SpaceAfter%3DNo%7CTranslit%3Dheaven%0A%0A1%09%E5%AE%B9%09%E5%AE%B9%09VERB%09v%2C%E5%8B%95%E8%A9%9E%2C%E8%A1%8C%E7%82%BA%2C%E8%A8%AD%E7%BD%AE%09_%093%09csubj%09_%09SpaceAfter%3DNo%7CTranslit%3Dcontain%0A2%09%E4%B9%8B%09%E4%B9%8B%09PRON%09n%2C%E4%BB%A3%E5%90%8D%E8%A9%9E%2C%E4%BA%BA%E7%A7%B0%2C%E6%AD%A2%E6%A0%BC%09Person%3D3%7CPronType%3DPrs%091%09obj%09_%09SpaceAfter%3DNo%7CTranslit%3D%5B3PRON%5D%0A3%09%E5%A6%82%09%E5%A6%82%09VERB%09v%2C%E5%8B%95%E8%A9%9E%2C%E8%A1%8C%E7%82%BA%2C%E5%88%86%E9%A1%9E%09Degree%3DEqu%090%09ROOT%09_%09SpaceAfter%3DNo%7CTranslit%3Dbe-like%0A4%09%E5%9C%B0%09%E5%9C%B0%09NOUN%09n%2C%E5%90%8D%E8%A9%9E%2C%E5%9B%BA%E5%AE%9A%E7%89%A9%2C%E5%9C%B0%E5%BD%A2%09Case%3DLoc%093%09obj%09_%09SpaceAfter%3DNo%7CTranslit%3Dearth%0A%0A\"\n",
       "            frameborder=\"0\"\n",
       "            allowfullscreen\n",
       "            style=\"background-color: white;\"\n",
       "        ></iframe>\n",
       "        "
      ],
      "text/plain": [
       "<IPython.lib.display.IFrame at 0x7f9642617f70>"
      ]
     },
     "metadata": {},
     "output_type": "display_data"
    }
   ],
   "source": [
    "ex182 = nlp(\"良君將賞善而刑淫\\n養民如子\\n蓋之如天\\n容之如地\")\n",
    "serve(ex182, 750)"
   ]
  },
  {
   "cell_type": "code",
   "execution_count": 112,
   "metadata": {},
   "outputs": [
    {
     "name": "stderr",
     "output_type": "stream",
     "text": [
      "                                                   \r"
     ]
    },
    {
     "data": {
      "text/html": [
       "\n",
       "        <iframe\n",
       "            width=\"100%\"\n",
       "            height=\"250\"\n",
       "            src=\"https://koichiyasuoka.github.io/deplacy/deplacy/viewer.svg#1%09%E6%B0%91%09%E6%B0%91%09NOUN%09n%2C%E5%90%8D%E8%A9%9E%2C%E4%BA%BA%2C%E4%BA%BA%09_%092%09nsubj%09_%09SpaceAfter%3DNo%7CTranslit%3Dpeople%0A2%09%E6%AD%B8%09%E6%AD%B8%09VERB%09v%2C%E5%8B%95%E8%A9%9E%2C%E8%A1%8C%E7%82%BA%2C%E7%A7%BB%E5%8B%95%09_%090%09ROOT%09_%09SpaceAfter%3DNo%7CTranslit%3Dreturn%0A3%09%E4%B9%8B%09%E4%B9%8B%09PRON%09n%2C%E4%BB%A3%E5%90%8D%E8%A9%9E%2C%E4%BA%BA%E7%A7%B0%2C%E6%AD%A2%E6%A0%BC%09Person%3D3%7CPronType%3DPrs%092%09obj%09_%09SpaceAfter%3DNo%7CTranslit%3D%5B3PRON%5D%0A4%09%E7%94%B1%09%E7%94%B1%09ADV%09v%2C%E5%89%AF%E8%A9%9E%2C%E9%A0%BB%E5%BA%A6%2C%E9%87%8D%E8%A4%87%09_%097%09advmod%09_%09SpaceAfter%3DNo%7CTranslit%3Dyet%0A5%09%E6%B0%B4%09%E6%B0%B4%09NOUN%09n%2C%E5%90%8D%E8%A9%9E%2C%E5%8F%AF%E6%90%AC%2C%E9%81%93%E5%85%B7%09_%097%09nsubj%09_%09SpaceAfter%3DNo%7CTranslit%3Dwater%0A6%09%E4%B9%8B%09%E4%B9%8B%09SCONJ%09p%2C%E5%8A%A9%E8%A9%9E%2C%E6%8E%A5%E7%B6%9A%2C%E5%B1%9E%E6%A0%BC%09_%095%09case%09_%09SpaceAfter%3DNo%7CTranslit%3D%27s%0A7%09%E5%B0%B1%09%E5%B0%B1%09VERB%09v%2C%E5%8B%95%E8%A9%9E%2C%E8%A1%8C%E7%82%BA%2C%E7%A7%BB%E5%8B%95%09_%092%09advcl%09_%09SpaceAfter%3DNo%7CTranslit%3Dgo-to%0A8%09%E4%B8%8B%09%E4%B8%8B%09NOUN%09n%2C%E5%90%8D%E8%A9%9E%2C%E5%9B%BA%E5%AE%9A%E7%89%A9%2C%E9%96%A2%E4%BF%82%09Case%3DLoc%097%09obj%09_%09SpaceAfter%3DNo%7CTranslit%3Ddown%0A%0A\"\n",
       "            frameborder=\"0\"\n",
       "            allowfullscreen\n",
       "            style=\"background-color: white;\"\n",
       "        ></iframe>\n",
       "        "
      ],
      "text/plain": [
       "<IPython.lib.display.IFrame at 0x7f9647a88520>"
      ]
     },
     "metadata": {},
     "output_type": "display_data"
    }
   ],
   "source": [
    "ex183 = nlp(\"民歸之由水之就下\")\n",
    "serve(ex183, 250)"
   ]
  },
  {
   "cell_type": "markdown",
   "metadata": {},
   "source": [
    "### d. Coverbs as Subordinating Conjunctions"
   ]
  },
  {
   "cell_type": "code",
   "execution_count": 114,
   "metadata": {},
   "outputs": [
    {
     "name": "stderr",
     "output_type": "stream",
     "text": [
      "                                                   \r"
     ]
    },
    {
     "data": {
      "text/html": [
       "\n",
       "        <iframe\n",
       "            width=\"100%\"\n",
       "            height=\"250\"\n",
       "            src=\"https://koichiyasuoka.github.io/deplacy/deplacy/viewer.svg#1%09%E5%8F%8A%09%E5%8F%8A%09VERB%09v%2C%E5%8B%95%E8%A9%9E%2C%E8%A1%8C%E7%82%BA%2C%E7%A7%BB%E5%8B%95%09_%093%09mark%09_%09SpaceAfter%3DNo%7CTranslit%3Dreach%0A2%09%E5%85%B6%09%E5%85%B6%09PRON%09n%2C%E4%BB%A3%E5%90%8D%E8%A9%9E%2C%E4%BA%BA%E7%A7%B0%2C%E8%B5%B7%E6%A0%BC%09Person%3D3%7CPronType%3DPrs%093%09nsubj%09_%09SpaceAfter%3DNo%7CTranslit%3D%5B3PRON%5D%0A3%09%E4%BD%BF%09%E4%BD%BF%09VERB%09v%2C%E5%8B%95%E8%A9%9E%2C%E8%A1%8C%E7%82%BA%2C%E4%BD%BF%E5%BD%B9%09_%096%09advcl%09_%09SpaceAfter%3DNo%7CTranslit%3D%5Bmake-to-do%5D%0A4%09%E4%BA%BA%09%E4%BA%BA%09NOUN%09n%2C%E5%90%8D%E8%A9%9E%2C%E4%BA%BA%2C%E4%BA%BA%09_%093%09obj%09_%09SpaceAfter%3DNo%7CTranslit%3Dperson%0A5%09%E4%B9%9F%09%E4%B9%9F%09PART%09p%2C%E5%8A%A9%E8%A9%9E%2C%E5%8F%A5%E6%9C%AB%2C%2A%09_%093%09mark%09_%09SpaceAfter%3DNo%7CTranslit%3D%5Bfinal-particle%5D%0A6%09%E5%99%A8%09%EF%A8%B8%09VERB%09v%2C%E5%8B%95%E8%A9%9E%2C%E6%8F%8F%E5%86%99%2C%E6%85%8B%E5%BA%A6%09Degree%3DPos%090%09ROOT%09_%09SpaceAfter%3DNo%7CTranslit%3Dcapable%0A7%09%E4%B9%8B%09%E4%B9%8B%09PRON%09n%2C%E4%BB%A3%E5%90%8D%E8%A9%9E%2C%E4%BA%BA%E7%A7%B0%2C%E6%AD%A2%E6%A0%BC%09Person%3D3%7CPronType%3DPrs%096%09obj%09_%09SpaceAfter%3DNo%7CTranslit%3D%5B3PRON%5D%0A%0A\"\n",
       "            frameborder=\"0\"\n",
       "            allowfullscreen\n",
       "            style=\"background-color: white;\"\n",
       "        ></iframe>\n",
       "        "
      ],
      "text/plain": [
       "<IPython.lib.display.IFrame at 0x7f9647a889a0>"
      ]
     },
     "metadata": {},
     "output_type": "display_data"
    }
   ],
   "source": [
    "ex184 = nlp(\"及其使人也器之\")\n",
    "serve(ex184, 250)"
   ]
  }
 ],
 "metadata": {
  "interpreter": {
   "hash": "0364c37b15e7a6e1c36ca05f1a9e06ef739d4c2650a4a4d0869c3126484e1dba"
  },
  "kernelspec": {
   "display_name": "Python 3.8.10 ('nlp')",
   "language": "python",
   "name": "python3"
  },
  "language_info": {
   "codemirror_mode": {
    "name": "ipython",
    "version": 3
   },
   "file_extension": ".py",
   "mimetype": "text/x-python",
   "name": "python",
   "nbconvert_exporter": "python",
   "pygments_lexer": "ipython3",
   "version": "3.8.10"
  },
  "orig_nbformat": 4
 },
 "nbformat": 4,
 "nbformat_minor": 2
}
