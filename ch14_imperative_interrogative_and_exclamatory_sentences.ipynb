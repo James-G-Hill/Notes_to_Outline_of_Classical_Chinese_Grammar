{
 "cells": [
  {
   "cell_type": "markdown",
   "metadata": {},
   "source": [
    "# XIV. Imperative, Interrogative, and Exclamatory Sentences"
   ]
  },
  {
   "cell_type": "code",
   "execution_count": 1,
   "metadata": {},
   "outputs": [
    {
     "name": "stderr",
     "output_type": "stream",
     "text": [
      "Some weights of the model checkpoint at KoichiYasuoka/roberta-classical-chinese-large-char were not used when initializing RobertaModel: ['lm_head.decoder.weight', 'lm_head.dense.weight', 'lm_head.decoder.bias', 'lm_head.bias', 'lm_head.dense.bias', 'lm_head.layer_norm.bias', 'lm_head.layer_norm.weight']\n",
      "- This IS expected if you are initializing RobertaModel from the checkpoint of a model trained on another task or with another architecture (e.g. initializing a BertForSequenceClassification model from a BertForPreTraining model).\n",
      "- This IS NOT expected if you are initializing RobertaModel from the checkpoint of a model that you expect to be exactly identical (initializing a BertForSequenceClassification model from a BertForSequenceClassification model).\n"
     ]
    }
   ],
   "source": [
    "from deplacy import render\n",
    "from suparkanbun import load\n",
    "from transformers import logging\n",
    "\n",
    "logging.logging.disable(logging.INFO)\n",
    "\n",
    "nlp = load(BERT=\"roberta-classical-chinese-large-char\", Danku=False)"
   ]
  },
  {
   "cell_type": "markdown",
   "metadata": {},
   "source": [
    "## 1. Imperative Sentences"
   ]
  },
  {
   "cell_type": "markdown",
   "metadata": {},
   "source": [
    "### (a) Unmarked"
   ]
  },
  {
   "cell_type": "code",
   "execution_count": 2,
   "metadata": {},
   "outputs": [
    {
     "name": "stderr",
     "output_type": "stream",
     "text": [
      "                                                   "
     ]
    },
    {
     "name": "stdout",
     "output_type": "stream",
     "text": [
      "子   PRON  <════╗ nsubj\n",
      "為   ADP   <╗   ║ case\n",
      "我   PRON  ═╝<╗ ║ obl\n",
      "問   VERB  ═╗═╝═╝ ROOT\n",
      "孟子 PROPN <╝     obj\n"
     ]
    },
    {
     "name": "stderr",
     "output_type": "stream",
     "text": [
      "\r"
     ]
    }
   ],
   "source": [
    "ex492 = nlp(\"子為我問孟子\")\n",
    "render(ex492)"
   ]
  },
  {
   "cell_type": "code",
   "execution_count": 3,
   "metadata": {},
   "outputs": [
    {
     "name": "stderr",
     "output_type": "stream",
     "text": [
      "                                                   "
     ]
    },
    {
     "name": "stdout",
     "output_type": "stream",
     "text": [
      "以 VERB ═╗<╗ advcl\n",
      "羊 NOUN <╝ ║ obj\n",
      "易 VERB ═╗═╝ ROOT\n",
      "之 PRON <╝   obj\n"
     ]
    },
    {
     "name": "stderr",
     "output_type": "stream",
     "text": [
      "\r"
     ]
    }
   ],
   "source": [
    "ex493 = nlp(\"以羊易之\")\n",
    "render(ex493)"
   ]
  },
  {
   "cell_type": "markdown",
   "metadata": {},
   "source": [
    "### (b) 請 'I beg of you, please'"
   ]
  },
  {
   "cell_type": "code",
   "execution_count": 4,
   "metadata": {},
   "outputs": [
    {
     "name": "stderr",
     "output_type": "stream",
     "text": [
      "                                                   "
     ]
    },
    {
     "name": "stdout",
     "output_type": "stream",
     "text": [
      "王 NOUN <════╗ vocative\n",
      "請 VERB ═══╗═╝ ROOT\n",
      "度 VERB ═╗<╝   ccomp\n",
      "之 PRON <╝     obj\n"
     ]
    },
    {
     "name": "stderr",
     "output_type": "stream",
     "text": [
      "\r"
     ]
    }
   ],
   "source": [
    "ex494 = nlp(\"王請度之\")\n",
    "render(ex494)"
   ]
  },
  {
   "cell_type": "code",
   "execution_count": 5,
   "metadata": {},
   "outputs": [
    {
     "name": "stderr",
     "output_type": "stream",
     "text": [
      "                                                   "
     ]
    },
    {
     "name": "stdout",
     "output_type": "stream",
     "text": [
      "臣 NOUN <══════╗ nsubj\n",
      "請 VERB ═════╗═╝ ROOT\n",
      "為 ADP  <╗   ║   case\n",
      "王 NOUN ═╝<╗ ║   obl\n",
      "言 VERB ═╗═╝<╝   ccomp\n",
      "樂 NOUN <╝       obj\n"
     ]
    },
    {
     "name": "stderr",
     "output_type": "stream",
     "text": [
      "\r"
     ]
    }
   ],
   "source": [
    "ex495 = nlp(\"臣請為王言樂\")\n",
    "render(ex495)"
   ]
  },
  {
   "cell_type": "markdown",
   "metadata": {},
   "source": [
    "### (c) Prohibition"
   ]
  },
  {
   "cell_type": "markdown",
   "metadata": {},
   "source": [
    "### (d) Modal 其 in Imperative Sentences"
   ]
  },
  {
   "cell_type": "markdown",
   "metadata": {},
   "source": [
    "## 2. Interrogative Sentences"
   ]
  },
  {
   "cell_type": "markdown",
   "metadata": {},
   "source": [
    "### (a) Simple Questions"
   ]
  },
  {
   "cell_type": "markdown",
   "metadata": {},
   "source": [
    "#### (i) The final particle 乎"
   ]
  },
  {
   "cell_type": "code",
   "execution_count": 6,
   "metadata": {},
   "outputs": [
    {
     "name": "stderr",
     "output_type": "stream",
     "text": [
      "                                                   "
     ]
    },
    {
     "name": "stdout",
     "output_type": "stream",
     "text": [
      "賢 VERB <╗       amod\n",
      "者 PART ═╝<══╗   nsubj\n",
      "亦 ADV  <══╗ ║   advmod\n",
      "樂 VERB ═╗═╝═╝═╗ ROOT\n",
      "此 PRON <╝     ║ obj\n",
      "乎 PART <══════╝ discourse:sp\n"
     ]
    },
    {
     "name": "stderr",
     "output_type": "stream",
     "text": [
      "\r"
     ]
    }
   ],
   "source": [
    "ex496 = nlp(\"賢者亦樂此乎\")\n",
    "render(ex496)"
   ]
  },
  {
   "cell_type": "code",
   "execution_count": 7,
   "metadata": {},
   "outputs": [
    {
     "name": "stderr",
     "output_type": "stream",
     "text": [
      "                                                   "
     ]
    },
    {
     "name": "stdout",
     "output_type": "stream",
     "text": [
      "滕 PROPN <══╗   nsubj\n",
      "小 VERB  <╗ ║   amod\n",
      "國 NOUN  ═╝═╝═╗ ROOT\n",
      "也 PART  <════╝ discourse:sp\n",
      "間 VERB  ═════╗ ROOT\n",
      "於 ADP   <══╗ ║ case\n",
      "齊 PROPN ═╗═╝<╝ obl:lmod\n",
      "楚 PROPN <╝     conj\n",
      "事 VERB  ═╗═╗   ROOT\n",
      "齊 PROPN <╝ ║   obj\n",
      "乎 PART  <══╝   discourse:sp\n",
      "事 VERB  ═╗═╗   ROOT\n",
      "楚 PROPN <╝ ║   obj\n",
      "乎 PART  <══╝   discourse:sp\n"
     ]
    },
    {
     "name": "stderr",
     "output_type": "stream",
     "text": [
      "\r"
     ]
    }
   ],
   "source": [
    "ex497 = nlp(\"滕小國也\\n間於齊楚\\n事齊乎\\n事楚乎\")\n",
    "render(ex497)"
   ]
  },
  {
   "cell_type": "markdown",
   "metadata": {},
   "source": [
    "#### (ii) 也乎, 與, 邪"
   ]
  },
  {
   "cell_type": "code",
   "execution_count": 8,
   "metadata": {},
   "outputs": [
    {
     "name": "stderr",
     "output_type": "stream",
     "text": [
      "                                                   "
     ]
    },
    {
     "name": "stdout",
     "output_type": "stream",
     "text": [
      "為 ADP  <════════╗   mark\n",
      "肥 VERB ═╗<════╗ ║   nsubj\n",
      "甘 VERB <╝     ║ ║   flat:vv\n",
      "不 ADV  <════╗ ║ ║   advmod\n",
      "足 VERB ═══╗═╝═╝═╝═╗ ROOT\n",
      "於 ADP  <╗ ║       ║ case\n",
      "口 NOUN ═╝<╝       ║ obl\n",
      "與 PART <══════════╝ discourse:sp\n"
     ]
    },
    {
     "name": "stderr",
     "output_type": "stream",
     "text": [
      "\r"
     ]
    }
   ],
   "source": [
    "ex498 = nlp(\"為肥甘不足於口與\")\n",
    "render(ex498)"
   ]
  },
  {
   "cell_type": "code",
   "execution_count": 9,
   "metadata": {},
   "outputs": [
    {
     "name": "stderr",
     "output_type": "stream",
     "text": [
      "                                                   "
     ]
    },
    {
     "name": "stdout",
     "output_type": "stream",
     "text": [
      "天 NOUN  ═╗<╗         nsubj\n",
      "之 SCONJ <╝ ║         case\n",
      "蒼 VERB  ═╗═╝<╗       csubj\n",
      "蒼 VERB  <╝   ║       compound:redup\n",
      "其 PART  <════║═╗     discourse\n",
      "正 VERB  <╗   ║ ║     amod\n",
      "色 NOUN  ═╝═══╝═╝═╗   ROOT\n",
      "邪 PART  <════════╝   discourse:sp\n",
      "其 PRON  <╗           nsubj\n",
      "遠 VERB  ═╝═══════╗═╗ ROOT\n",
      "而 CCONJ <══════╗ ║ ║ cc\n",
      "無 VERB  <════╗ ║ ║ ║ advmod\n",
      "所 PART  <══╗ ║ ║ ║ ║ mark\n",
      "至 VERB  ═╗═╝═╝═╝<╝ ║ conj\n",
      "極 NOUN  <╝         ║ obj\n",
      "邪 PART  <══════════╝ discourse:sp\n"
     ]
    },
    {
     "name": "stderr",
     "output_type": "stream",
     "text": [
      "\r"
     ]
    }
   ],
   "source": [
    "ex499 = nlp(\"天之蒼蒼其正色邪\\n其遠而無所至極邪\")\n",
    "render(ex499)"
   ]
  },
  {
   "cell_type": "markdown",
   "metadata": {},
   "source": [
    "#### (iii) 諸"
   ]
  },
  {
   "cell_type": "markdown",
   "metadata": {},
   "source": [
    "#### (iv) 否"
   ]
  },
  {
   "cell_type": "markdown",
   "metadata": {},
   "source": [
    "#### (v) Interrogative pronouns"
   ]
  },
  {
   "cell_type": "markdown",
   "metadata": {},
   "source": [
    "### (b) Rhetorical Questions"
   ]
  },
  {
   "cell_type": "markdown",
   "metadata": {},
   "source": [
    "#### (i) Negative questions requiring affirmative answers"
   ]
  },
  {
   "cell_type": "code",
   "execution_count": 10,
   "metadata": {},
   "outputs": [
    {
     "name": "stderr",
     "output_type": "stream",
     "text": [
      "                                                   "
     ]
    },
    {
     "name": "stdout",
     "output_type": "stream",
     "text": [
      "文 PROPN <╗       compound\n",
      "王 NOUN  ═╝<╗     nsubj\n",
      "既 ADV   <╗ ║     advmod\n",
      "沒 VERB  ═╝═╝     ROOT\n",
      "文 NOUN  <════╗   nsubj\n",
      "不 ADV   <══╗ ║   advmod\n",
      "在 VERB  ═╗═╝═╝═╗ ROOT\n",
      "兹 PRON  <╝     ║ obj\n",
      "乎 PART  <══════╝ discourse:sp\n"
     ]
    },
    {
     "name": "stderr",
     "output_type": "stream",
     "text": [
      "\r"
     ]
    }
   ],
   "source": [
    "ex500 = nlp(\"文王既沒\\n文不在兹乎\")\n",
    "render(ex500)"
   ]
  },
  {
   "cell_type": "code",
   "execution_count": 11,
   "metadata": {},
   "outputs": [
    {
     "name": "stderr",
     "output_type": "stream",
     "text": [
      "                                                   "
     ]
    },
    {
     "name": "stdout",
     "output_type": "stream",
     "text": [
      "先 VERB ═╗═╗     ROOT\n",
      "事 NOUN <╝ ║     obj\n",
      "後 VERB ═╗<╝     parataxis\n",
      "得 VERB <╝       obj\n",
      "非 ADV  <══╗     advmod\n",
      "崇 VERB ═╗═╝═╗═╗ ROOT\n",
      "德 NOUN <╝   ║ ║ obj\n",
      "也 PART <════╝ ║ discourse:sp\n",
      "與 PART <══════╝ discourse:sp\n"
     ]
    },
    {
     "name": "stderr",
     "output_type": "stream",
     "text": [
      "\r"
     ]
    }
   ],
   "source": [
    "ex501 = nlp(\"先事後得\\n非崇德也與\")\n",
    "render(ex501)"
   ]
  },
  {
   "cell_type": "code",
   "execution_count": 12,
   "metadata": {},
   "outputs": [
    {
     "name": "stderr",
     "output_type": "stream",
     "text": [
      "                                                   "
     ]
    },
    {
     "name": "stdout",
     "output_type": "stream",
     "text": [
      "信   VERB ═╗           ROOT\n",
      "乎   PART <╝           discourse:sp\n",
      "夫子 NOUN <══════╗     nsubj\n",
      "不   ADV  <════╗ ║     advmod\n",
      "言   VERB ═══╗═╝═╝═╗═╗ ROOT\n",
      "不   ADV  <╗ ║     ║ ║ advmod\n",
      "笑   VERB ═╝<╝     ║ ║ conj\n",
      "不   ADV  <╗       ║ ║ advmod\n",
      "取   VERB ═╝<══════╝ ║ conj\n",
      "乎   PART <══════════╝ discourse:sp\n"
     ]
    },
    {
     "name": "stderr",
     "output_type": "stream",
     "text": [
      "\r"
     ]
    }
   ],
   "source": [
    "ex502 = nlp(\"信乎\\n夫子不言不笑不取乎\")\n",
    "render(ex502)"
   ]
  },
  {
   "cell_type": "code",
   "execution_count": 15,
   "metadata": {},
   "outputs": [
    {
     "name": "stderr",
     "output_type": "stream",
     "text": [
      "                                                   "
     ]
    },
    {
     "name": "stdout",
     "output_type": "stream",
     "text": [
      "有 VERB ═╗═════╗═╗ ROOT\n",
      "朋 NOUN <╝     ║ ║ obj\n",
      "自 ADP  <══╗   ║ ║ case\n",
      "遠 VERB <╗ ║   ║ ║ amod\n",
      "方 NOUN ═╝═╝<╗ ║ ║ obl:lmod\n",
      "來 VERB ═════╝<╝ ║ parataxis\n",
      "不 ADV  <══╗     ║ advmod\n",
      "亦 ADV  <╗ ║     ║ advmod\n",
      "樂 VERB ═╝═╝═╗<══╝ parataxis\n",
      "乎 PART <════╝     discourse:sp\n"
     ]
    },
    {
     "name": "stderr",
     "output_type": "stream",
     "text": [
      "\r"
     ]
    }
   ],
   "source": [
    "ex503 = nlp(\"有朋自遠方來不亦樂乎\")\n",
    "render(ex503)"
   ]
  },
  {
   "cell_type": "code",
   "execution_count": 16,
   "metadata": {},
   "outputs": [
    {
     "name": "stderr",
     "output_type": "stream",
     "text": [
      "                                                   "
     ]
    },
    {
     "name": "stdout",
     "output_type": "stream",
     "text": [
      "民 NOUN <════════╗   nsubj\n",
      "以 VERB <══════╗ ║   advmod\n",
      "為 VERB ═╗═══╗═╝═╝═╗ ROOT\n",
      "小 NOUN <╝   ║     ║ obj\n",
      "不 ADV  <══╗ ║     ║ advmod\n",
      "亦 ADV  <╗ ║ ║     ║ advmod\n",
      "宜 AUX  ═╝═╝<╝     ║ ccomp\n",
      "乎 PART <══════════╝ discourse:sp\n"
     ]
    },
    {
     "name": "stderr",
     "output_type": "stream",
     "text": [
      "\r"
     ]
    }
   ],
   "source": [
    "ex504 = nlp(\"民以為小不亦宜乎\")\n",
    "render(ex504)"
   ]
  },
  {
   "cell_type": "code",
   "execution_count": 17,
   "metadata": {},
   "outputs": [
    {
     "name": "stderr",
     "output_type": "stream",
     "text": [
      "                                                   "
     ]
    },
    {
     "name": "stdout",
     "output_type": "stream",
     "text": [
      "亦 ADV  <════╗   advmod\n",
      "不 ADV  <╗   ║   advmod\n",
      "足 AUX  ═╝<╗ ║   aux\n",
      "弔 VERB ═══╝═╝═╗ ROOT\n",
      "乎 PART <══════╝ discourse:sp\n"
     ]
    },
    {
     "name": "stderr",
     "output_type": "stream",
     "text": [
      "\r"
     ]
    }
   ],
   "source": [
    "ex505 = nlp(\"亦不足弔乎\")\n",
    "render(ex505)"
   ]
  },
  {
   "cell_type": "code",
   "execution_count": 19,
   "metadata": {},
   "outputs": [
    {
     "name": "stderr",
     "output_type": "stream",
     "text": [
      "                                                   "
     ]
    },
    {
     "name": "stdout",
     "output_type": "stream",
     "text": [
      "三 NUM  <╗     nummod\n",
      "月 NOUN ═╝<╗   obl:tmod\n",
      "無 VERB ═╗═╝<╗ advcl\n",
      "君 NOUN <╝   ║ obj\n",
      "則 ADV  <╗   ║ advmod\n",
      "弔 VERB ═╝═══╝ ROOT\n",
      "不 ADV  <══╗   advmod\n",
      "以 VERB <╗ ║   advmod\n",
      "急 VERB ═╝═╝═╗ ROOT\n",
      "乎 PART <════╝ discourse:sp\n"
     ]
    },
    {
     "name": "stderr",
     "output_type": "stream",
     "text": [
      "\r"
     ]
    }
   ],
   "source": [
    "ex506 = nlp(\"三月無君則弔\\n不以急乎\")\n",
    "render(ex506)"
   ]
  },
  {
   "cell_type": "code",
   "execution_count": 20,
   "metadata": {},
   "outputs": [
    {
     "name": "stderr",
     "output_type": "stream",
     "text": [
      "                                                   "
     ]
    },
    {
     "name": "stdout",
     "output_type": "stream",
     "text": [
      "不 ADV  <══╗   advmod\n",
      "猶 ADV  <╗ ║   advmod\n",
      "愈 VERB ═╝═╝═╗ ROOT\n",
      "乎 PART <════╝ discourse:sp\n"
     ]
    },
    {
     "name": "stderr",
     "output_type": "stream",
     "text": [
      "\r"
     ]
    }
   ],
   "source": [
    "ex507 = nlp(\"不猶愈乎\")\n",
    "render(ex507)"
   ]
  },
  {
   "cell_type": "code",
   "execution_count": 21,
   "metadata": {},
   "outputs": [
    {
     "name": "stderr",
     "output_type": "stream",
     "text": [
      "                                                   "
     ]
    },
    {
     "name": "stdout",
     "output_type": "stream",
     "text": [
      "盍 ADV  <══════╗   advmod\n",
      "亦 ADV  <════╗ ║   advmod\n",
      "反 VERB ═══╗═╝═╝═╗ ROOT\n",
      "其 PRON <╗ ║     ║ det\n",
      "本 NOUN ═╝<╝     ║ obj\n",
      "矣 PART <════════╝ discourse:sp\n"
     ]
    },
    {
     "name": "stderr",
     "output_type": "stream",
     "text": [
      "\r"
     ]
    }
   ],
   "source": [
    "ex508 = nlp(\"盍亦反其本矣\")\n",
    "render(ex508)"
   ]
  },
  {
   "cell_type": "code",
   "execution_count": 22,
   "metadata": {},
   "outputs": [
    {
     "name": "stderr",
     "output_type": "stream",
     "text": [
      "                                                   "
     ]
    },
    {
     "name": "stdout",
     "output_type": "stream",
     "text": [
      "叟 NOUN  <══════╗     nsubj\n",
      "不 ADV   <════╗ ║     advmod\n",
      "遠 VERB  ═══╗═╝═╝═╗   ROOT\n",
      "千 NUM   ═╗<╝     ║   obj\n",
      "里 NOUN  <╝       ║   clf\n",
      "而 CCONJ <╗       ║   cc\n",
      "來 VERB  ═╝<══════╝   conj\n",
      "亦 ADV   <════════╗   advmod\n",
      "将 ADV   <══════╗ ║   advmod\n",
      "有 VERB  ═╗═══╗═╝═╝═╗ ROOT\n",
      "以 VERB  <╝   ║     ║ fixed\n",
      "利 VERB  ═══╗<╝     ║ ccomp\n",
      "吾 PRON  <╗ ║       ║ det\n",
      "國 NOUN  ═╝<╝       ║ obj\n",
      "乎 PART  <══════════╝ discourse:sp\n"
     ]
    },
    {
     "name": "stderr",
     "output_type": "stream",
     "text": [
      "\r"
     ]
    }
   ],
   "source": [
    "ex509 = nlp(\"叟不遠千里而來\\n亦将有以利吾國乎\")\n",
    "render(ex509)"
   ]
  },
  {
   "cell_type": "markdown",
   "metadata": {},
   "source": [
    "#### (ii) 其 in rhetorical questions"
   ]
  },
  {
   "cell_type": "code",
   "execution_count": 24,
   "metadata": {},
   "outputs": [
    {
     "name": "stderr",
     "output_type": "stream",
     "text": [
      "                                                   "
     ]
    },
    {
     "name": "stdout",
     "output_type": "stream",
     "text": [
      "始 VERB <══╗   advmod\n",
      "作 VERB ═╗═╝<╗ acl\n",
      "俑 NOUN <╝   ║ obj\n",
      "者 PART ═════╝ ROOT\n",
      "其 PART <══╗   nsubj\n",
      "無 VERB ═╗═╝═╗ ROOT\n",
      "後 NOUN <╝   ║ obj\n",
      "乎 PART <════╝ discourse:sp\n"
     ]
    },
    {
     "name": "stderr",
     "output_type": "stream",
     "text": [
      "\r"
     ]
    }
   ],
   "source": [
    "ex510 = nlp(\"始作俑者\\n其無後乎\")\n",
    "render(ex510)"
   ]
  },
  {
   "cell_type": "code",
   "execution_count": 26,
   "metadata": {},
   "outputs": [
    {
     "name": "stderr",
     "output_type": "stream",
     "text": [
      "                                                   "
     ]
    },
    {
     "name": "stdout",
     "output_type": "stream",
     "text": [
      "孔子 PROPN <╗     nsubj\n",
      "曰   VERB  ═╝     ROOT\n",
      "為   VERB  ═══╗<╗ acl\n",
      "此   PRON  <╗ ║ ║ det\n",
      "詩   NOUN  ═╝<╝ ║ obj\n",
      "者   PART  ═════╝ ROOT\n",
      "其   PART  <══╗   nsubj\n",
      "知   VERB  ═╗═╝═╗ ROOT\n",
      "道   NOUN  <╝   ║ obj\n",
      "乎   PART  <════╝ discourse:sp\n"
     ]
    },
    {
     "name": "stderr",
     "output_type": "stream",
     "text": [
      "\r"
     ]
    }
   ],
   "source": [
    "ex511 = nlp(\"孔子曰\\n為此詩者\\n其知道乎\")\n",
    "render(ex511)"
   ]
  },
  {
   "cell_type": "code",
   "execution_count": 27,
   "metadata": {},
   "outputs": [
    {
     "name": "stderr",
     "output_type": "stream",
     "text": [
      "                                                   "
     ]
    },
    {
     "name": "stdout",
     "output_type": "stream",
     "text": [
      "才 NOUN <╗     nsubj\n",
      "難 VERB ═╝     ROOT\n",
      "不 ADV  <══╗   advmod\n",
      "其 PRON <╗ ║   nsubj\n",
      "然 VERB ═╝═╝═╗ ROOT\n",
      "乎 PART <════╝ discourse:sp\n"
     ]
    },
    {
     "name": "stderr",
     "output_type": "stream",
     "text": [
      "\r"
     ]
    }
   ],
   "source": [
    "ex512 = nlp(\"才難\\n不其然乎\")\n",
    "render(ex512)"
   ]
  },
  {
   "cell_type": "markdown",
   "metadata": {},
   "source": [
    "#### (iii) 豈"
   ]
  },
  {
   "cell_type": "code",
   "execution_count": 28,
   "metadata": {},
   "outputs": [
    {
     "name": "stderr",
     "output_type": "stream",
     "text": [
      "                                                   "
     ]
    },
    {
     "name": "stdout",
     "output_type": "stream",
     "text": [
      "雖 ADV  <════════╗ advmod\n",
      "有 VERB ═══════╗═╝ ROOT\n",
      "臺 NOUN ═╗═╗═╗<╝   obj\n",
      "池 NOUN <╝ ║ ║     conj\n",
      "鳥 NOUN <══╝ ║     conj\n",
      "獸 NOUN <════╝     conj\n",
      "豈 ADV  <════╗     advmod\n",
      "能 AUX  <══╗ ║     aux\n",
      "獨 VERB <╗ ║ ║     advmod\n",
      "樂 VERB ═╝═╝═╝═╗   ROOT\n",
      "乎 PART <══════╝   discourse:sp\n"
     ]
    },
    {
     "name": "stderr",
     "output_type": "stream",
     "text": [
      "\r"
     ]
    }
   ],
   "source": [
    "ex513 = nlp(\"雖有臺池鳥獸\\n豈能獨樂乎\")\n",
    "render(ex513)"
   ]
  },
  {
   "cell_type": "code",
   "execution_count": 29,
   "metadata": {},
   "outputs": [
    {
     "name": "stderr",
     "output_type": "stream",
     "text": [
      "                                                   "
     ]
    },
    {
     "name": "stdout",
     "output_type": "stream",
     "text": [
      "豈 ADV  <══════╗   advmod\n",
      "以 VERB ═══╗<╗ ║   advcl\n",
      "仁 NOUN ═╗<╝ ║ ║   obj\n",
      "義 NOUN <╝   ║ ║   conj\n",
      "為 VERB ═══╗═╝═╝═╗ ROOT\n",
      "不 ADV  <╗ ║     ║ advmod\n",
      "美 VERB ═╝<╝     ║ ccomp\n",
      "也 PART <════════╝ discourse:sp\n"
     ]
    },
    {
     "name": "stderr",
     "output_type": "stream",
     "text": [
      "\r"
     ]
    }
   ],
   "source": [
    "ex514 = nlp(\"豈以仁義為不美也\")\n",
    "render(ex514)"
   ]
  },
  {
   "cell_type": "code",
   "execution_count": 30,
   "metadata": {},
   "outputs": [
    {
     "name": "stderr",
     "output_type": "stream",
     "text": [
      "                                                   "
     ]
    },
    {
     "name": "stdout",
     "output_type": "stream",
     "text": [
      "而 CCONJ <══════╗   advmod\n",
      "王 NOUN  <════╗ ║   nsubj\n",
      "豈 ADV   <══╗ ║ ║   advmod\n",
      "為 VERB  ═╗═╝═╝═╝═╗ ROOT\n",
      "是 PRON  <╝       ║ obj\n",
      "哉 PART  <════════╝ discourse:sp\n"
     ]
    },
    {
     "name": "stderr",
     "output_type": "stream",
     "text": [
      "\r"
     ]
    }
   ],
   "source": [
    "ex515 = nlp(\"而王豈為是哉\")\n",
    "render(ex515)"
   ]
  },
  {
   "cell_type": "code",
   "execution_count": 31,
   "metadata": {},
   "outputs": [
    {
     "name": "stderr",
     "output_type": "stream",
     "text": [
      "                                                   "
     ]
    },
    {
     "name": "stdout",
     "output_type": "stream",
     "text": [
      "王 NOUN  <════╗     nsubj\n",
      "如 ADV   <══╗ ║     advmod\n",
      "用 VERB  ═╗═╝═╝     ROOT\n",
      "予 PRON  <╝         obj\n",
      "則 ADV   <════════╗ advmod\n",
      "豈 ADV   <══════╗ ║ advmod\n",
      "徒 ADV   <════╗ ║ ║ advmod\n",
      "齊 PROPN <╗   ║ ║ ║ nmod\n",
      "民 NOUN  ═╝<╗ ║ ║ ║ nsubj\n",
      "安 VERB  ═══╝═╝═╝═╝ ROOT\n",
      "天 NOUN  <╗         compound\n",
      "下 NOUN  ═╝═╗<╗     nmod\n",
      "之 SCONJ <══╝ ║     case\n",
      "民 NOUN  ═════╝<╗   nsubj\n",
      "舉 ADV   <╗     ║   advmod\n",
      "安 VERB  ═╝═════╝   ROOT\n"
     ]
    },
    {
     "name": "stderr",
     "output_type": "stream",
     "text": [
      "\r"
     ]
    }
   ],
   "source": [
    "ex516 = nlp(\"王如用予\\n則豈徒齊民安\\n天下之民舉安\")\n",
    "render(ex516)"
   ]
  },
  {
   "cell_type": "code",
   "execution_count": 32,
   "metadata": {},
   "outputs": [
    {
     "name": "stderr",
     "output_type": "stream",
     "text": [
      "                                                   "
     ]
    },
    {
     "name": "stdout",
     "output_type": "stream",
     "text": [
      "此 PRON  <══════╗     nsubj\n",
      "豈 ADV   <════╗ ║     advmod\n",
      "山 NOUN  ═╗<╗ ║ ║     nmod\n",
      "之 SCONJ <╝ ║ ║ ║     case\n",
      "性 NOUN  ═══╝═╝═╝═╗═╗ ROOT\n",
      "也 PART  <════════╝ ║ discourse:sp\n",
      "哉 PART  <══════════╝ discourse:sp\n"
     ]
    },
    {
     "name": "stderr",
     "output_type": "stream",
     "text": [
      "\r"
     ]
    }
   ],
   "source": [
    "ex517 = nlp(\"此豈山之性也哉\")\n",
    "render(ex517)"
   ]
  },
  {
   "cell_type": "code",
   "execution_count": 33,
   "metadata": {},
   "outputs": [
    {
     "name": "stderr",
     "output_type": "stream",
     "text": [
      "                                                   "
     ]
    },
    {
     "name": "stdout",
     "output_type": "stream",
     "text": [
      "是 PRON  <══════╗   nsubj\n",
      "豈 ADV   <════╗ ║   advmod\n",
      "水 NOUN  ═╗<╗ ║ ║   nmod\n",
      "之 SCONJ <╝ ║ ║ ║   case\n",
      "性 NOUN  ═══╝═╝═╝═╗ ROOT\n",
      "哉 PART  <════════╝ discourse:sp\n"
     ]
    },
    {
     "name": "stderr",
     "output_type": "stream",
     "text": [
      "\r"
     ]
    }
   ],
   "source": [
    "ex518 = nlp(\"是豈水之性哉\")\n",
    "render(ex518)"
   ]
  },
  {
   "cell_type": "code",
   "execution_count": 34,
   "metadata": {},
   "outputs": [
    {
     "name": "stderr",
     "output_type": "stream",
     "text": [
      "                                                   "
     ]
    },
    {
     "name": "stdout",
     "output_type": "stream",
     "text": [
      "失 VERB ═╗<════════╗   csubj\n",
      "人 NOUN <╝         ║   obj\n",
      "豈 ADV  <════════╗ ║   advmod\n",
      "不 ADV  <══════╗ ║ ║   advmod\n",
      "仁 VERB ═════╗═╝═╝═╝═╗ ROOT\n",
      "於 ADP  <══╗ ║       ║ case\n",
      "函 NOUN <╗ ║ ║       ║ nmod\n",
      "人 NOUN ═╝═╝<╝       ║ obl\n",
      "哉 PART <════════════╝ discourse:sp\n"
     ]
    },
    {
     "name": "stderr",
     "output_type": "stream",
     "text": [
      "\r"
     ]
    }
   ],
   "source": [
    "ex519 = nlp(\"失人豈不仁於函人哉\")\n",
    "render(ex519)"
   ]
  },
  {
   "cell_type": "code",
   "execution_count": 35,
   "metadata": {},
   "outputs": [
    {
     "name": "stderr",
     "output_type": "stream",
     "text": [
      "                                                   "
     ]
    },
    {
     "name": "stdout",
     "output_type": "stream",
     "text": [
      "子思 PROPN ═╗<╗   nsubj\n",
      "之   SCONJ <╝ ║   case\n",
      "不   ADV   <╗ ║   advmod\n",
      "悦   VERB  ═╝═╝═╗ ROOT\n",
      "也   PART  <════╝ discourse:sp\n",
      "豈   ADV   <══╗   advmod\n",
      "不   ADV   <╗ ║   advmod\n",
      "曰   VERB  ═╝═╝   ROOT\n"
     ]
    },
    {
     "name": "stderr",
     "output_type": "stream",
     "text": [
      "\r"
     ]
    }
   ],
   "source": [
    "ex520 = nlp(\"子思之不悦也\\n豈不曰\")\n",
    "render(ex520)"
   ]
  },
  {
   "cell_type": "code",
   "execution_count": 36,
   "metadata": {},
   "outputs": [
    {
     "name": "stderr",
     "output_type": "stream",
     "text": [
      "                                                   "
     ]
    },
    {
     "name": "stdout",
     "output_type": "stream",
     "text": [
      "君 NOUN  <══════════╗     nsubj\n",
      "豈 ADV   <════════╗ ║     advmod\n",
      "有 VERB  ═══════╗═╝═╝═╗═╗ ROOT\n",
      "斗 NOUN  ═╗═╗<╗ ║     ║ ║ nummod\n",
      "升 NOUN  <╝ ║ ║ ║     ║ ║ clf\n",
      "之 SCONJ <══╝ ║ ║     ║ ║ case\n",
      "水 NOUN  ═════╝<╝     ║ ║ obj\n",
      "而 CCONJ <══╗         ║ ║ cc\n",
      "活 VERB  ═╗═╝<════════╝ ║ conj\n",
      "我 PRON  <╝             ║ obj\n",
      "哉 PART  <══════════════╝ discourse:sp\n"
     ]
    },
    {
     "name": "stderr",
     "output_type": "stream",
     "text": [
      "\r"
     ]
    }
   ],
   "source": [
    "ex521 = nlp(\"君豈有斗升之水而活我哉\")\n",
    "render(ex521)"
   ]
  },
  {
   "cell_type": "markdown",
   "metadata": {},
   "source": [
    "#### (iv) 庸, 詎, 渠, 庸遽"
   ]
  },
  {
   "cell_type": "markdown",
   "metadata": {},
   "source": [
    "#### (v) 毋 (無) in rhetorial questions"
   ]
  },
  {
   "cell_type": "code",
   "execution_count": 37,
   "metadata": {},
   "outputs": [
    {
     "name": "stderr",
     "output_type": "stream",
     "text": [
      "                                                   "
     ]
    },
    {
     "name": "stdout",
     "output_type": "stream",
     "text": [
      "有 VERB ═╗═╗     ROOT\n",
      "基 NOUN <╝ ║     obj\n",
      "無 VERB ═╗<╝     parataxis\n",
      "壞 VERB <╝       obj\n",
      "無 VERB <════╗   advmod\n",
      "亦 ADV  <══╗ ║   advmod\n",
      "是 PRON <╗ ║ ║   obj\n",
      "務 VERB ═╝═╝═╝═╗ ROOT\n",
      "乎 PART <══════╝ discourse:sp\n"
     ]
    },
    {
     "name": "stderr",
     "output_type": "stream",
     "text": [
      "\r"
     ]
    }
   ],
   "source": [
    "ex522 = nlp(\"有基無壞\\n無亦是務乎\")\n",
    "render(ex522)"
   ]
  },
  {
   "cell_type": "code",
   "execution_count": 38,
   "metadata": {},
   "outputs": [
    {
     "name": "stderr",
     "output_type": "stream",
     "text": [
      "                                                   "
     ]
    },
    {
     "name": "stdout",
     "output_type": "stream",
     "text": [
      "不 ADV  <══════╗   advmod\n",
      "有 VERB ═════╗═╝═╗ ROOT\n",
      "博 VERB ═╗<╗ ║   ║ acl\n",
      "弈 NOUN <╝ ║ ║   ║ obj\n",
      "者 PART ═══╝<╝   ║ obj\n",
      "乎 PART <════════╝ discourse:sp\n"
     ]
    },
    {
     "name": "stderr",
     "output_type": "stream",
     "text": [
      "\r"
     ]
    }
   ],
   "source": [
    "ex523 = nlp(\"不有博弈者乎\")\n",
    "render(ex523)"
   ]
  },
  {
   "cell_type": "code",
   "execution_count": 39,
   "metadata": {},
   "outputs": [
    {
     "name": "stderr",
     "output_type": "stream",
     "text": [
      "                                                   "
     ]
    },
    {
     "name": "stdout",
     "output_type": "stream",
     "text": [
      "且 ADV   <════════════╗     advmod\n",
      "予 PRON  <══════════╗ ║     nsubj\n",
      "與 ADP   <╗         ║ ║     case\n",
      "其 PRON  ═╝<══════╗ ║ ║     obl\n",
      "死 VERB  ═══════╗═╝═╝═╝═╗   ROOT\n",
      "於 ADP   <════╗ ║       ║   case\n",
      "臣 NOUN  ═╗<╗ ║ ║       ║   nmod\n",
      "之 SCONJ <╝ ║ ║ ║       ║   case\n",
      "手 NOUN  ═══╝═╝<╝       ║   obl\n",
      "也 PART  <══════════════╝   discourse:sp\n",
      "無 VERB  <══════════════╗   advmod\n",
      "寧 ADV   <════════════╗ ║   advmod\n",
      "死 VERB  ═══════════╗═╝═╝═╗ ROOT\n",
      "於 ADP   <════════╗ ║     ║ case\n",
      "二 NUM   ═╗<╗     ║ ║     ║ nummod\n",
      "三 NUM   <╝ ║     ║ ║     ║ conj\n",
      "子 NOUN  ═══╝═╗<╗ ║ ║     ║ nmod\n",
      "之 SCONJ <════╝ ║ ║ ║     ║ case\n",
      "手 NOUN  ═══════╝═╝<╝     ║ obl\n",
      "乎 PART  <════════════════╝ discourse:sp\n"
     ]
    },
    {
     "name": "stderr",
     "output_type": "stream",
     "text": [
      "\r"
     ]
    }
   ],
   "source": [
    "ex524 = nlp(\"且予與其死於臣之手也\\n無寧死於二三子之手乎\")\n",
    "render(ex524)"
   ]
  },
  {
   "cell_type": "markdown",
   "metadata": {},
   "source": [
    "#### (vi) 夫 'is it not?'"
   ]
  },
  {
   "cell_type": "code",
   "execution_count": 40,
   "metadata": {},
   "outputs": [
    {
     "name": "stderr",
     "output_type": "stream",
     "text": [
      "                                                   "
     ]
    },
    {
     "name": "stdout",
     "output_type": "stream",
     "text": [
      "吾 PRON <╗     nsubj\n",
      "死 VERB ═╝═╗═╗ ROOT\n",
      "矣 PART <══╝ ║ discourse:sp\n",
      "夫 PART <════╝ discourse:sp\n"
     ]
    },
    {
     "name": "stderr",
     "output_type": "stream",
     "text": [
      "\r"
     ]
    }
   ],
   "source": [
    "ex525 = nlp(\"吾死矣夫\")\n",
    "render(ex525)"
   ]
  },
  {
   "cell_type": "markdown",
   "metadata": {},
   "source": [
    "#### (vii) Rhetorial questions with interrogative pronouns"
   ]
  },
  {
   "cell_type": "code",
   "execution_count": 41,
   "metadata": {},
   "outputs": [
    {
     "name": "stderr",
     "output_type": "stream",
     "text": [
      "                                                   "
     ]
    },
    {
     "name": "stdout",
     "output_type": "stream",
     "text": [
      "何 ADV  <════╗ advmod\n",
      "必 ADV  <══╗ ║ advmod\n",
      "曰 VERB ═╗═╝═╝ ROOT\n",
      "利 NOUN <╝     obj\n"
     ]
    },
    {
     "name": "stderr",
     "output_type": "stream",
     "text": [
      "\r"
     ]
    }
   ],
   "source": [
    "ex526 = nlp(\"何必曰利\")\n",
    "render(ex526)"
   ]
  },
  {
   "cell_type": "code",
   "execution_count": 42,
   "metadata": {},
   "outputs": [
    {
     "name": "stderr",
     "output_type": "stream",
     "text": [
      "                                                   "
     ]
    },
    {
     "name": "stdout",
     "output_type": "stream",
     "text": [
      "吾 PRON <══════╗ nsubj\n",
      "何 ADV  <════╗ ║ advmod\n",
      "愛 VERB ═══╗═╝═╝ ROOT\n",
      "一 NUM  <╗ ║     nummod\n",
      "牛 NOUN ═╝<╝     obj\n"
     ]
    },
    {
     "name": "stderr",
     "output_type": "stream",
     "text": [
      "\r"
     ]
    }
   ],
   "source": [
    "ex527 = nlp(\"吾何愛一牛\")\n",
    "render(ex527)"
   ]
  },
  {
   "cell_type": "code",
   "execution_count": 43,
   "metadata": {},
   "outputs": [
    {
     "name": "stderr",
     "output_type": "stream",
     "text": [
      "                                                   "
     ]
    },
    {
     "name": "stdout",
     "output_type": "stream",
     "text": [
      "焉 ADV   <════╗   advmod\n",
      "得 VERB  ═══╗═╝═╗ ROOT\n",
      "人 NOUN  ═╗<╝   ║ obj\n",
      "人 NOUN  <╝     ║ compound:redup\n",
      "而 CCONJ <══╗   ║ cc\n",
      "濟 VERB  ═╗═╝<══╝ conj\n",
      "之 PRON  <╝       obj\n"
     ]
    },
    {
     "name": "stderr",
     "output_type": "stream",
     "text": [
      "\r"
     ]
    }
   ],
   "source": [
    "ex528 = nlp(\"焉得人人而濟之\")\n",
    "render(ex528)"
   ]
  },
  {
   "cell_type": "code",
   "execution_count": 44,
   "metadata": {},
   "outputs": [
    {
     "name": "stderr",
     "output_type": "stream",
     "text": [
      "                                                   "
     ]
    },
    {
     "name": "stdout",
     "output_type": "stream",
     "text": [
      "夫 PART <══════╗ discourse\n",
      "誰 PRON <════╗ ║ nsubj\n",
      "與 ADP  <╗   ║ ║ case\n",
      "王 NOUN ═╝<╗ ║ ║ obl\n",
      "敵 VERB ═══╝═╝═╝ ROOT\n"
     ]
    },
    {
     "name": "stderr",
     "output_type": "stream",
     "text": [
      "\r"
     ]
    }
   ],
   "source": [
    "ex529 = nlp(\"夫誰與王敵\")\n",
    "render(ex529)"
   ]
  },
  {
   "cell_type": "markdown",
   "metadata": {},
   "source": [
    "#### (viii) 況 'how much the more'"
   ]
  },
  {
   "cell_type": "code",
   "execution_count": 45,
   "metadata": {},
   "outputs": [
    {
     "name": "stderr",
     "output_type": "stream",
     "text": [
      "                                                   "
     ]
    },
    {
     "name": "stdout",
     "output_type": "stream",
     "text": [
      "成 VERB ═╗<════╗ csubj\n",
      "名 NOUN <╝     ║ obj\n",
      "況 VERB ═════╗═╝ ROOT\n",
      "乎 ADP  <══╗ ║   mark\n",
      "誅 VERB ═╗═╝<╝   ccomp\n",
      "侯 NOUN <╝       obj\n"
     ]
    },
    {
     "name": "stderr",
     "output_type": "stream",
     "text": [
      "\r"
     ]
    }
   ],
   "source": [
    "ex530 = nlp(\"成名況乎誅侯\")\n",
    "render(ex530)"
   ]
  },
  {
   "cell_type": "code",
   "execution_count": 46,
   "metadata": {},
   "outputs": [
    {
     "name": "stderr",
     "output_type": "stream",
     "text": [
      "                                                   "
     ]
    },
    {
     "name": "stdout",
     "output_type": "stream",
     "text": [
      "管 PROPN ═╗<════════╗     nsubj\n",
      "仲 PROPN <╝         ║     flat\n",
      "且 ADV   <════════╗ ║     advmod\n",
      "猶 ADV   <════╗   ║ ║     advmod\n",
      "不 ADV   <╗   ║   ║ ║     advmod\n",
      "可 AUX   ═╝<╗ ║   ║ ║     aux\n",
      "召 VERB  ═══╝═╝═╗═╝═╝═╗<╗ acl\n",
      "而 CCONJ <════╗ ║     ║ ║ cc\n",
      "況 VERB  ═════║═║═╗<══╝ ║ conj\n",
      "不 ADV   <╗   ║ ║ ║     ║ advmod\n",
      "為 VERB  ═╝<╗ ║ ║ ║     ║ cop\n",
      "管 PROPN ═╗═╝═╝<╝ ║     ║ conj\n",
      "仲 PROPN <╝       ║     ║ flat\n",
      "者 PART  ═══════════════╝ ROOT\n",
      "乎 PART  <════════╝       discourse:sp\n"
     ]
    },
    {
     "name": "stderr",
     "output_type": "stream",
     "text": [
      "\r"
     ]
    }
   ],
   "source": [
    "ex531 = nlp(\"管仲且猶不可召而況不為管仲者乎\")\n",
    "render(ex531)"
   ]
  },
  {
   "cell_type": "markdown",
   "metadata": {},
   "source": [
    "## 3. Exclamatory Sentences"
   ]
  },
  {
   "cell_type": "markdown",
   "metadata": {},
   "source": [
    "### (a) 哉"
   ]
  },
  {
   "cell_type": "code",
   "execution_count": 47,
   "metadata": {},
   "outputs": [
    {
     "name": "stderr",
     "output_type": "stream",
     "text": [
      "                                                   "
     ]
    },
    {
     "name": "stdout",
     "output_type": "stream",
     "text": [
      "曠 VERB  ═══╗═╗ ROOT\n",
      "安 VERB  <╗ ║ ║ amod\n",
      "宅 NOUN  ═╝<╝ ║ obj\n",
      "而 CCONJ <══╗ ║ cc\n",
      "不 ADV   <╗ ║ ║ advmod\n",
      "居 VERB  ═╝═╝<╝ conj\n",
      "舍 VERB  ═══╗═╗ ROOT\n",
      "正 VERB  <╗ ║ ║ amod\n",
      "路 NOUN  ═╝<╝ ║ obj\n",
      "而 CCONJ <══╗ ║ cc\n",
      "弗 ADV   <╗ ║ ║ advmod\n",
      "由 VERB  ═╝═╝<╝ conj\n",
      "哀 VERB  ═╗     ROOT\n",
      "哉 PART  <╝     discourse:sp\n"
     ]
    },
    {
     "name": "stderr",
     "output_type": "stream",
     "text": [
      "\r"
     ]
    }
   ],
   "source": [
    "ex532 = nlp(\"曠安宅而不居\\n舍正路而弗由\\n哀哉\")\n",
    "render(ex532)"
   ]
  },
  {
   "cell_type": "code",
   "execution_count": 48,
   "metadata": {},
   "outputs": [
    {
     "name": "stderr",
     "output_type": "stream",
     "text": [
      "                                                   "
     ]
    },
    {
     "name": "stdout",
     "output_type": "stream",
     "text": [
      "是 PRON <════╗   nsubj\n",
      "誠 VERB <══╗ ║   advmod\n",
      "何 PRON <╗ ║ ║   det\n",
      "心 NOUN ═╝═╝═╝═╗ ROOT\n",
      "哉 PART <══════╝ discourse:sp\n"
     ]
    },
    {
     "name": "stderr",
     "output_type": "stream",
     "text": [
      "\r"
     ]
    }
   ],
   "source": [
    "ex533 = nlp(\"是誠何心哉\")\n",
    "render(ex533)"
   ]
  },
  {
   "cell_type": "code",
   "execution_count": 49,
   "metadata": {},
   "outputs": [
    {
     "name": "stderr",
     "output_type": "stream",
     "text": [
      "                                                   "
     ]
    },
    {
     "name": "stdout",
     "output_type": "stream",
     "text": [
      "是 PRON  <══════╗     nsubj\n",
      "豈 ADV   <════╗ ║     advmod\n",
      "水 NOUN  ═╗<╗ ║ ║     nmod\n",
      "之 SCONJ <╝ ║ ║ ║     case\n",
      "性 NOUN  ═══╝═╝═╝═╗═╗ ROOT\n",
      "也 PART  <════════╝ ║ discourse:sp\n",
      "哉 PART  <══════════╝ discourse:sp\n"
     ]
    },
    {
     "name": "stderr",
     "output_type": "stream",
     "text": [
      "\r"
     ]
    }
   ],
   "source": [
    "ex534 = nlp(\"是豈水之性也哉\")\n",
    "render(ex534)"
   ]
  },
  {
   "cell_type": "code",
   "execution_count": 50,
   "metadata": {},
   "outputs": [
    {
     "name": "stderr",
     "output_type": "stream",
     "text": [
      "                                                   "
     ]
    },
    {
     "name": "stdout",
     "output_type": "stream",
     "text": [
      "若 VERB ═══╗<╗       acl\n",
      "寡 VERB <╗ ║ ║       amod\n",
      "人 NOUN ═╝<╝ ║       obj\n",
      "者 PART ═════╝<╗     nsubj\n",
      "可 AUX  ═╗<╗   ║     aux\n",
      "以 VERB <╝ ║   ║     fixed\n",
      "保 VERB ═╗═╝═══╝═╗═╗ ROOT\n",
      "民 NOUN <╝       ║ ║ obj\n",
      "乎 PART <════════╝ ║ discourse:sp\n",
      "哉 PART <══════════╝ discourse:sp\n"
     ]
    },
    {
     "name": "stderr",
     "output_type": "stream",
     "text": [
      "\r"
     ]
    }
   ],
   "source": [
    "ex535 = nlp(\"若寡人者可以保民乎哉\")\n",
    "render(ex535)"
   ]
  },
  {
   "cell_type": "code",
   "execution_count": 51,
   "metadata": {},
   "outputs": [
    {
     "name": "stderr",
     "output_type": "stream",
     "text": [
      "                                                   "
     ]
    },
    {
     "name": "stdout",
     "output_type": "stream",
     "text": [
      "善 VERB ═╗═╗ ROOT\n",
      "哉 PART <╝ ║ discourse:sp\n",
      "問 VERB ═╗<╝ dislocated\n",
      "也 PART <╝   discourse:sp\n"
     ]
    },
    {
     "name": "stderr",
     "output_type": "stream",
     "text": [
      "\r"
     ]
    }
   ],
   "source": [
    "ex536 = nlp(\"善哉問也\")\n",
    "render(ex536)"
   ]
  },
  {
   "cell_type": "code",
   "execution_count": 52,
   "metadata": {},
   "outputs": [
    {
     "name": "stderr",
     "output_type": "stream",
     "text": [
      "                                                   "
     ]
    },
    {
     "name": "stdout",
     "output_type": "stream",
     "text": [
      "惡 ADV  <════════════╗ advmod\n",
      "在 VERB ═══════════╗═╝ ROOT\n",
      "其 PRON <══════╗   ║   nsubj\n",
      "為 VERB <════╗ ║   ║   cop\n",
      "民 NOUN <══╗ ║ ║   ║   nmod\n",
      "父 NOUN ═╗═╝═╝═╝═╗<╝   ccomp\n",
      "母 NOUN <╝       ║     flat\n",
      "也 PART <════════╝     mark\n"
     ]
    },
    {
     "name": "stderr",
     "output_type": "stream",
     "text": [
      "\r"
     ]
    }
   ],
   "source": [
    "ex537 = nlp(\"惡在其為民父母也\")\n",
    "render(ex537)"
   ]
  },
  {
   "cell_type": "code",
   "execution_count": 53,
   "metadata": {},
   "outputs": [
    {
     "name": "stderr",
     "output_type": "stream",
     "text": [
      "                                                   "
     ]
    },
    {
     "name": "stdout",
     "output_type": "stream",
     "text": [
      "王 NOUN <══════╗ vocative\n",
      "曰 VERB ═════╗═╝ ROOT\n",
      "大 VERB ═╗═╗<╝   ccomp\n",
      "哉 PART <╝ ║     discourse:sp\n",
      "言 NOUN ═╗<╝     dislocated\n",
      "矣 PART <╝       discourse:sp\n"
     ]
    },
    {
     "name": "stderr",
     "output_type": "stream",
     "text": [
      "\r"
     ]
    }
   ],
   "source": [
    "ex538 = nlp(\"王曰大哉言矣\")\n",
    "render(ex538)"
   ]
  }
 ],
 "metadata": {
  "kernelspec": {
   "display_name": "Python 3.8.10 ('nlp')",
   "language": "python",
   "name": "python3"
  },
  "language_info": {
   "codemirror_mode": {
    "name": "ipython",
    "version": 3
   },
   "file_extension": ".py",
   "mimetype": "text/x-python",
   "name": "python",
   "nbconvert_exporter": "python",
   "pygments_lexer": "ipython3",
   "version": "3.8.10"
  },
  "orig_nbformat": 4,
  "vscode": {
   "interpreter": {
    "hash": "0364c37b15e7a6e1c36ca05f1a9e06ef739d4c2650a4a4d0869c3126484e1dba"
   }
  }
 },
 "nbformat": 4,
 "nbformat_minor": 2
}
