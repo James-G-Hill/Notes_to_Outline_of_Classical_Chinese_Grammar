{
 "cells": [
  {
   "cell_type": "markdown",
   "metadata": {},
   "source": [
    "# VI. Numerical Expressions"
   ]
  },
  {
   "cell_type": "code",
   "execution_count": 1,
   "metadata": {},
   "outputs": [
    {
     "name": "stderr",
     "output_type": "stream",
     "text": [
      "Some weights of the model checkpoint at KoichiYasuoka/roberta-classical-chinese-large-char were not used when initializing RobertaModel: ['lm_head.dense.bias', 'lm_head.layer_norm.weight', 'lm_head.decoder.bias', 'lm_head.layer_norm.bias', 'lm_head.bias', 'lm_head.decoder.weight', 'lm_head.dense.weight']\n",
      "- This IS expected if you are initializing RobertaModel from the checkpoint of a model trained on another task or with another architecture (e.g. initializing a BertForSequenceClassification model from a BertForPreTraining model).\n",
      "- This IS NOT expected if you are initializing RobertaModel from the checkpoint of a model that you expect to be exactly identical (initializing a BertForSequenceClassification model from a BertForSequenceClassification model).\n"
     ]
    }
   ],
   "source": [
    "from deplacy import (\n",
    "    dot,\n",
    "    render,\n",
    "    to_conllu\n",
    ")\n",
    "from lzh_helpers.serve import serve\n",
    "from suparkanbun import load\n",
    "from transformers import logging\n",
    "\n",
    "logging.logging.disable(logging.INFO)\n",
    "\n",
    "nlp = load(BERT=\"roberta-classical-chinese-large-char\", Danku=False)"
   ]
  },
  {
   "cell_type": "markdown",
   "metadata": {},
   "source": [
    "## 1. As Predicates"
   ]
  },
  {
   "cell_type": "code",
   "execution_count": 17,
   "metadata": {},
   "outputs": [
    {
     "name": "stderr",
     "output_type": "stream",
     "text": [
      "                                                   "
     ]
    },
    {
     "name": "stdout",
     "output_type": "stream",
     "text": [
      "滅   VERB ═╗<╗   acl\n",
      "國   NOUN <╝ ║   obj\n",
      "者   PART ═══╝<╗ nsubj\n",
      "五十 NUM  ═════╝ ROOT\n"
     ]
    },
    {
     "name": "stderr",
     "output_type": "stream",
     "text": [
      "\r"
     ]
    }
   ],
   "source": [
    "ex185 = nlp(\"滅國者五十\")\n",
    "render(ex185)"
   ]
  },
  {
   "cell_type": "code",
   "execution_count": 18,
   "metadata": {},
   "outputs": [
    {
     "name": "stderr",
     "output_type": "stream",
     "text": [
      "                                                   "
     ]
    },
    {
     "name": "stdout",
     "output_type": "stream",
     "text": [
      "文   PROPN <╗       compound\n",
      "王   NOUN  ═╝═╗<╗   nmod\n",
      "之   SCONJ <══╝ ║   case\n",
      "囿   NOUN  ═════╝<╗ nsubj\n",
      "方   NOUN  <══╗   ║ nmod\n",
      "七十 NUM   ═╗═╝═══╝ ROOT\n",
      "里   NOUN  <╝       clf\n"
     ]
    },
    {
     "name": "stderr",
     "output_type": "stream",
     "text": [
      "\r"
     ]
    }
   ],
   "source": [
    "ex186 = nlp(\"文王之囿方七十里\")\n",
    "render(ex186)"
   ]
  },
  {
   "cell_type": "code",
   "execution_count": 19,
   "metadata": {},
   "outputs": [
    {
     "name": "stderr",
     "output_type": "stream",
     "text": [
      "                                                   "
     ]
    },
    {
     "name": "stdout",
     "output_type": "stream",
     "text": [
      "直 ADV  <════╗   advmod\n",
      "不 ADV  <══╗ ║   advmod\n",
      "百 NUM  ═╗═╝═╝═╗ ROOT\n",
      "步 NOUN <╝     ║ clf\n",
      "耳 PART <══════╝ discourse:sp\n"
     ]
    },
    {
     "name": "stderr",
     "output_type": "stream",
     "text": [
      "\r"
     ]
    }
   ],
   "source": [
    "ex187 = nlp(\"直不百步耳\")\n",
    "render(ex187)"
   ]
  },
  {
   "cell_type": "code",
   "execution_count": 20,
   "metadata": {},
   "outputs": [
    {
     "name": "stderr",
     "output_type": "stream",
     "text": [
      "                                                   "
     ]
    },
    {
     "name": "stdout",
     "output_type": "stream",
     "text": [
      "年   NOUN <══╗   nsubj\n",
      "已   ADV  <╗ ║   advmod\n",
      "七十 NUM  ═╝═╝═╗ ROOT\n",
      "矣   PART <════╝ discourse:sp\n"
     ]
    },
    {
     "name": "stderr",
     "output_type": "stream",
     "text": [
      "\r"
     ]
    }
   ],
   "source": [
    "ex188 = nlp(\"年已七十矣\")\n",
    "render(ex188)"
   ]
  },
  {
   "cell_type": "code",
   "execution_count": 21,
   "metadata": {},
   "outputs": [
    {
     "name": "stderr",
     "output_type": "stream",
     "text": [
      "                                                   "
     ]
    },
    {
     "name": "stdout",
     "output_type": "stream",
     "text": [
      "今   NOUN  <════════╗   obl:tmod\n",
      "滕   PROPN <══════╗ ║   nsubj\n",
      "絕   VERB  ═╗═╗<╗ ║ ║   advcl\n",
      "長   VERB  <╝ ║ ║ ║ ║   obj\n",
      "補   VERB  ═╗<╝ ║ ║ ║   conj\n",
      "短   VERB  <╝   ║ ║ ║   obj\n",
      "將   ADV   <══╗ ║ ║ ║   advmod\n",
      "五十 NUM   ═╗═╝═╝═╝═╝═╗ ROOT\n",
      "里   NOUN  <╝         ║ clf\n",
      "也   PART  <══════════╝ discourse:sp\n"
     ]
    },
    {
     "name": "stderr",
     "output_type": "stream",
     "text": [
      "\r"
     ]
    }
   ],
   "source": [
    "ex189 = nlp(\"今滕絕長補短將五十里也\")\n",
    "render(ex189)"
   ]
  },
  {
   "cell_type": "markdown",
   "metadata": {},
   "source": [
    "## 2. As Complements"
   ]
  },
  {
   "cell_type": "code",
   "execution_count": 22,
   "metadata": {},
   "outputs": [
    {
     "name": "stderr",
     "output_type": "stream",
     "text": [
      "                                                   "
     ]
    },
    {
     "name": "stdout",
     "output_type": "stream",
     "text": [
      "西   NOUN  <════╗   obl:lmod\n",
      "喪   VERB  ═╗═╗═╝<╗ csubj\n",
      "地   NOUN  <╝ ║   ║ obj\n",
      "於   ADP   <╗ ║   ║ case\n",
      "秦   PROPN ═╝<╝   ║ obl:lmod\n",
      "七百 NUM   ═╗═════╝ ROOT\n",
      "里   NOUN  <╝       clf\n"
     ]
    },
    {
     "name": "stderr",
     "output_type": "stream",
     "text": [
      "\r"
     ]
    }
   ],
   "source": [
    "ex190 = nlp(\"西喪地於秦七百里\")\n",
    "render(ex190)"
   ]
  },
  {
   "cell_type": "markdown",
   "metadata": {},
   "source": [
    "## 3. As Modifiers of Nouns"
   ]
  },
  {
   "cell_type": "code",
   "execution_count": 23,
   "metadata": {},
   "outputs": [
    {
     "name": "stderr",
     "output_type": "stream",
     "text": [
      "                                                   "
     ]
    },
    {
     "name": "stdout",
     "output_type": "stream",
     "text": [
      "吾 PRON <══════╗ nsubj\n",
      "何 ADV  <════╗ ║ advmod\n",
      "愛 VERB ═══╗═╝═╝ ROOT\n",
      "一 NUM  <╗ ║     nummod\n",
      "牛 NOUN ═╝<╝     obj\n"
     ]
    },
    {
     "name": "stderr",
     "output_type": "stream",
     "text": [
      "\r"
     ]
    }
   ],
   "source": [
    "ex191 = nlp(\"吾何愛一牛\")\n",
    "render(ex191)"
   ]
  },
  {
   "cell_type": "code",
   "execution_count": 24,
   "metadata": {},
   "outputs": [
    {
     "name": "stderr",
     "output_type": "stream",
     "text": [
      "                                                   "
     ]
    },
    {
     "name": "stdout",
     "output_type": "stream",
     "text": [
      "輿 NOUN  <══╗       nmod\n",
      "薪 NOUN  ═╗═╝<╗     nsubj\n",
      "之 SCONJ <╝   ║     case\n",
      "不 ADV   <╗   ║     advmod\n",
      "見 VERB  ═╝═══╝<══╗ csubj\n",
      "為 VERB  ═══════╗═╝ ROOT\n",
      "不 ADV   <════╗ ║   advmod\n",
      "用 VERB  ═╗═╗═╝<╝   ccomp\n",
      "明 NOUN  <╝ ║       obj\n",
      "焉 PRON  <══╝       obl\n"
     ]
    },
    {
     "name": "stderr",
     "output_type": "stream",
     "text": [
      "\r"
     ]
    }
   ],
   "source": [
    "ex192 = nlp(\"輿薪之不見為不用明焉\")\n",
    "render(ex192)"
   ]
  },
  {
   "cell_type": "code",
   "execution_count": 16,
   "metadata": {},
   "outputs": [
    {
     "name": "stderr",
     "output_type": "stream",
     "text": [
      "                                                   "
     ]
    },
    {
     "name": "stdout",
     "output_type": "stream",
     "text": [
      "得 VERB  ═══════╗═╗<╗   advcl\n",
      "百 NUM   ═╗═╗<╗ ║ ║ ║   nummod\n",
      "里 NOUN  <╝ ║ ║ ║ ║ ║   clf\n",
      "之 SCONJ <══╝ ║ ║ ║ ║   case\n",
      "地 NOUN  ═════╝<╝ ║ ║   obj\n",
      "而 CCONJ <══╗     ║ ║   cc\n",
      "君 VERB  ═╗═╝<════╝ ║   conj\n",
      "之 PRON  <╝         ║   obj\n",
      "皆 ADV   <══════╗   ║   advmod\n",
      "能 AUX   ═╗<══╗ ║   ║   aux\n",
      "以 VERB  <╝   ║ ║   ║   fixed\n",
      "朝 VERB  ═══╗═╝═╝═══╝═╗ ROOT\n",
      "諸 NOUN  <╗ ║         ║ nmod\n",
      "侯 NOUN  ═╝<╝         ║ obj\n",
      "有 VERB  ═══╗<════════╝ parataxis\n",
      "天 NOUN  <╗ ║           compound\n",
      "下 NOUN  ═╝<╝           obj\n"
     ]
    },
    {
     "name": "stderr",
     "output_type": "stream",
     "text": [
      "\r"
     ]
    }
   ],
   "source": [
    "ex193 = nlp(\"得百里之地而君之皆能以朝諸侯有天下\")\n",
    "render(ex193)"
   ]
  },
  {
   "cell_type": "code",
   "execution_count": 25,
   "metadata": {},
   "outputs": [
    {
     "name": "stderr",
     "output_type": "stream",
     "text": [
      "                                                   "
     ]
    },
    {
     "name": "stdout",
     "output_type": "stream",
     "text": [
      "齊   PROPN <══════════╗   nsubj\n",
      "為   ADP   <╗         ║   case\n",
      "衛   PROPN ═╝<══════╗ ║   obl:lmod\n",
      "故   ADV   <══════╗ ║ ║   advmod\n",
      "伐   VERB  ═════╗═╝═╝═╝═╗ ROOT\n",
      "晉   PROPN <══╗ ║       ║ nmod\n",
      "冠   PROPN ═╗═╝<╝       ║ obj\n",
      "氏   NOUN  <╝           ║ flat\n",
      "喪   VERB  ═══╗<════════╝ parataxis\n",
      "車   NOUN  ═╗<╝           obj\n",
      "五百 NUM   <╝             nummod\n"
     ]
    },
    {
     "name": "stderr",
     "output_type": "stream",
     "text": [
      "\r"
     ]
    }
   ],
   "source": [
    "ex194 = nlp(\"齊為衛故伐晉冠氏喪車五百\")\n",
    "render(ex194)"
   ]
  },
  {
   "cell_type": "code",
   "execution_count": 28,
   "metadata": {},
   "outputs": [
    {
     "name": "stderr",
     "output_type": "stream",
     "text": [
      "                                                   "
     ]
    },
    {
     "name": "stdout",
     "output_type": "stream",
     "text": [
      "皆 ADV  <════════╗ advmod\n",
      "賜 VERB ═══════╗═╝ ROOT\n",
      "玉 NOUN ═══╗═╗<╝   obj\n",
      "五 NUM  <╗ ║ ║     nummod\n",
      "玨 NOUN ═╝<╝ ║     conj\n",
      "馬 NOUN ═══╗<╝     conj\n",
      "三 NUM  ═╗<╝       nummod\n",
      "匹 NOUN <╝         clf\n"
     ]
    },
    {
     "name": "stderr",
     "output_type": "stream",
     "text": [
      "\r"
     ]
    }
   ],
   "source": [
    "ex195 = nlp(\"皆賜玉五玨馬三匹\")\n",
    "render(ex195)"
   ]
  },
  {
   "cell_type": "code",
   "execution_count": 30,
   "metadata": {},
   "outputs": [
    {
     "name": "stderr",
     "output_type": "stream",
     "text": [
      "                                                   "
     ]
    },
    {
     "name": "stdout",
     "output_type": "stream",
     "text": [
      "當 VERB  ═════╗   ROOT\n",
      "秦 PROPN ═╗<╗ ║   nsubj\n",
      "之 SCONJ <╝ ║ ║   case\n",
      "隆 VERB  ═══╝<╝   ccomp\n",
      "黄 NOUN  <════╗   nmod\n",
      "金 NOUN  ═══╗═╝<╗ nsubj\n",
      "萬 NUM   ═╗<╝   ║ nummod\n",
      "镒 NOUN  <╝     ║ clf\n",
      "為 VERB  ═╗═════╝ ROOT\n",
      "用 VERB  <╝       obj\n"
     ]
    },
    {
     "name": "stderr",
     "output_type": "stream",
     "text": [
      "\r"
     ]
    }
   ],
   "source": [
    "ex196 = nlp(\"當秦之隆\\n黄金萬镒為用\")\n",
    "render(ex196)"
   ]
  },
  {
   "cell_type": "markdown",
   "metadata": {},
   "source": [
    "## 4. You 有 'and'"
   ]
  },
  {
   "cell_type": "code",
   "execution_count": 31,
   "metadata": {},
   "outputs": [
    {
     "name": "stderr",
     "output_type": "stream",
     "text": [
      "                                                   "
     ]
    },
    {
     "name": "stdout",
     "output_type": "stream",
     "text": [
      "由   ADP   <══╗     case\n",
      "堯   PROPN ═╗═╝<╗   obl\n",
      "舜   PROPN <╝   ║   conj\n",
      "至   VERB  ═══╗═╝<╗ csubj\n",
      "於   ADP   <╗ ║   ║ case\n",
      "湯   PROPN ═╝<╝   ║ obl\n",
      "五百 NUM   ═══╗═╗═╝ ROOT\n",
      "有   VERB  <╗ ║ ║   cc\n",
      "餘   NOUN  ═╝<╝ ║   conj\n",
      "歲   NOUN  <════╝   clf\n"
     ]
    },
    {
     "name": "stderr",
     "output_type": "stream",
     "text": [
      "\r"
     ]
    }
   ],
   "source": [
    "ex197 = nlp(\"由堯舜至於湯五百有餘歲\")\n",
    "render(ex197)"
   ]
  }
 ],
 "metadata": {
  "interpreter": {
   "hash": "0364c37b15e7a6e1c36ca05f1a9e06ef739d4c2650a4a4d0869c3126484e1dba"
  },
  "kernelspec": {
   "display_name": "Python 3.8.10 ('nlp')",
   "language": "python",
   "name": "python3"
  },
  "language_info": {
   "codemirror_mode": {
    "name": "ipython",
    "version": 3
   },
   "file_extension": ".py",
   "mimetype": "text/x-python",
   "name": "python",
   "nbconvert_exporter": "python",
   "pygments_lexer": "ipython3",
   "version": "3.8.10"
  },
  "orig_nbformat": 4
 },
 "nbformat": 4,
 "nbformat_minor": 2
}
